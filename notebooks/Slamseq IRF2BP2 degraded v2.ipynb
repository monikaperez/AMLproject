{
 "cells": [
  {
   "cell_type": "code",
   "execution_count": null,
   "metadata": {},
   "outputs": [],
   "source": [
    "from __future__ import print_function\n",
    "import os.path\n",
    "import pandas as pd\n",
    "import sys\n",
    "sys.path.insert(0, '../../')\n",
    "%load_ext autoreload\n",
    "from JKBio.Helper import *\n",
    "%autoreload 2\n",
    "%load_ext rpy2.ipython\n",
    "import numpy as np\n",
    "from bokeh.plotting import *\n",
    "from bokeh.models import HoverTool\n",
    "output_notebook()\n",
    "import matplotlib.pyplot as plt\n",
    "%matplotlib inline\n",
    "import seaborn as sns\n",
    "from JKBio.helper import pyDESeq2\n",
    "from sklearn.neighbors import KNeighborsClassifier\n",
    "from sklearn.manifold import MDS, TSNE\n",
    "from sklearn.decomposition import PCA\n",
    "from sklearn.preprocessing import scale\n",
    "from umap import UMAP"
   ]
  },
  {
   "cell_type": "markdown",
   "metadata": {},
   "source": [
    "downloading their data"
   ]
  },
  {
   "cell_type": "markdown",
   "metadata": {},
   "source": [
    "# we first need to recreate out RNA matrix from slamdunk's tcount files"
   ]
  },
  {
   "cell_type": "code",
   "execution_count": null,
   "metadata": {},
   "outputs": [],
   "source": [
    "version=\"v1\"\n",
    "project=\"IRF2BP2_degron_slamseq\"\n",
    "location= '../data/'+project+\"/\""
   ]
  },
  {
   "cell_type": "code",
   "execution_count": null,
   "metadata": {},
   "outputs": [],
   "source": [
    "gsutil -m cp gs://amlproject/RNA/slamseq/IRF2BP2degraded_v1/  $location"
   ]
  },
  {
   "cell_type": "code",
   "execution_count": null,
   "metadata": {},
   "outputs": [],
   "source": [
    "ls $location"
   ]
  },
  {
   "cell_type": "code",
   "execution_count": null,
   "metadata": {},
   "outputs": [],
   "source": [
    "files = ! ls $location*.tsv\n",
    "files"
   ]
  },
  {
   "cell_type": "code",
   "execution_count": null,
   "metadata": {},
   "outputs": [],
   "source": [
    "prev = -2\n",
    "flag_var= 100\n",
    "data={}\n",
    "for file in files:\n",
    "    data[file.split('.')[-3].split('/')[-1]]= pd.read_csv(file, sep='\\t', comment='#',header=0)\n",
    "for k,val in data.items():\n",
    "    if len(set(val.Name)) != prev and prev!=-2: \n",
    "        raise ValueError('we do not have the same number of genes in each file')\n",
    "    prev = len(set(val.Name))\n",
    "readcounts = {i:[0]*len(data) for i in val.Name.unique()}\n",
    "tccounts = {i:[0]*len(data) for i in val.Name.unique()}\n",
    "data.keys()"
   ]
  },
  {
   "cell_type": "code",
   "execution_count": null,
   "metadata": {},
   "outputs": [],
   "source": [
    "for n, (_,val) in enumerate(data.items()):\n",
    "    val = val.sort_values(by=\"Name\")\n",
    "    j  = 0\n",
    "    print('              ',end='\\r')\n",
    "    readcount = [val.iloc[0].ReadCount]\n",
    "    tccount = [val.iloc[0].TcReadCount]\n",
    "    prevname = val.iloc[0].Name\n",
    "    for _, v in val.iloc[1:].iterrows():\n",
    "        if v.Name==4609:\n",
    "            print(v.ReadCount,v.TcReadCount)\n",
    "            print(readcount,tccount)\n",
    "        if v.Name == prevname:\n",
    "            readcount.append(v.ReadCount)\n",
    "            tccount.append(v.TcReadCount)\n",
    "        else:\n",
    "            readcounts[prevname][n] = np.sum(readcount)\n",
    "            tccounts[prevname][n] = np.sum(tccount)\n",
    "            #if np.var(readcount) > flag_var:\n",
    "            #    print(\"pb with \"+str(v.Name))\n",
    "            prevname=v.Name\n",
    "            j+=1\n",
    "            print(j,end='\\r')\n",
    "            readcount = [v.ReadCount]\n",
    "            tccount = [v.TcReadCount]\n",
    "            \n",
    "files = [*data]\n",
    "readcounts = pd.DataFrame(data=readcounts,columns=val.Name.unique(),index=data.keys()).T\n",
    "tccounts = pd.DataFrame(data=tccounts,columns=val.Name.unique(),index=data.keys()).T\n",
    "names, _ = convertGenes(readcounts.index.tolist(), from_idtype=\"entrez_id\", to_idtype=\"symbol\")\n",
    "readcounts.index = names\n",
    "names, _ = convertGenes(tccounts.index.tolist(), from_idtype=\"entrez_id\", to_idtype=\"symbol\")\n",
    "tccounts.index = names"
   ]
  },
  {
   "cell_type": "markdown",
   "metadata": {},
   "source": [
    "# or get it directly if available"
   ]
  },
  {
   "cell_type": "code",
   "execution_count": null,
   "metadata": {},
   "outputs": [],
   "source": [
    "readcounts = pd.read_csv(location+'/readcounts_prev.csv',index_col='genes')\n",
    "tccounts = pd.read_csv(location+'/tccounts_prev.csv',index_col='genes')"
   ]
  },
  {
   "cell_type": "markdown",
   "metadata": {},
   "source": [
    "# get only the most variable genes"
   ]
  },
  {
   "cell_type": "code",
   "execution_count": null,
   "metadata": {},
   "outputs": [],
   "source": [
    "readcounts.values.mean()"
   ]
  },
  {
   "cell_type": "code",
   "execution_count": null,
   "metadata": {},
   "outputs": [],
   "source": [
    "len(np.argwhere(tccounts.values.var(1)>=800).ravel())"
   ]
  },
  {
   "cell_type": "code",
   "execution_count": null,
   "metadata": {},
   "outputs": [],
   "source": [
    "todrop = np.argwhere(tccounts.values.var(1)>=800).ravel()\n",
    "tccounts = tccounts.iloc[todrop]\n",
    "readcounts = readcounts.iloc[todrop]"
   ]
  },
  {
   "cell_type": "code",
   "execution_count": null,
   "metadata": {},
   "outputs": [],
   "source": [
    "#todrop=np.argwhere(readcounts.values.max(1)>=10).ravel()\n",
    "#tccounts = tccounts.iloc[todrop]\n",
    "#readcounts = readcounts.iloc[todrop]"
   ]
  },
  {
   "cell_type": "code",
   "execution_count": null,
   "metadata": {},
   "outputs": [],
   "source": [
    "len(readcounts)"
   ]
  },
  {
   "cell_type": "code",
   "execution_count": null,
   "metadata": {},
   "outputs": [],
   "source": [
    "tccounts"
   ]
  },
  {
   "cell_type": "code",
   "execution_count": null,
   "metadata": {},
   "outputs": [],
   "source": [
    "tccounts.mean()"
   ]
  },
  {
   "cell_type": "markdown",
   "metadata": {},
   "source": [
    "# lets look at the similarity accross replicates\n",
    "\n",
    "we have some outliers, else it seems to make some sense and on average, to be extremelly similar!"
   ]
  },
  {
   "cell_type": "code",
   "execution_count": null,
   "metadata": {},
   "outputs": [],
   "source": [
    "readcounts.loc['MYC']"
   ]
  },
  {
   "cell_type": "code",
   "execution_count": null,
   "metadata": {},
   "outputs": [],
   "source": [
    "%matplotlib inline\n",
    "a = sns.pairplot(tccounts)\n",
    "a.savefig('../results/'+project+\"/plots/\"+version+\"_pairplot_across_replicates.pdf\")"
   ]
  },
  {
   "cell_type": "code",
   "execution_count": null,
   "metadata": {},
   "outputs": [],
   "source": [
    "%matplotlib inline\n",
    "a = sns.heatmap(tccounts.corr(), \n",
    "            xticklabels=tccounts.columns,\n",
    "            yticklabels=tccounts.columns)\n",
    "a.savefig('../results/'+project+\"/plots/\"+version+\"_correlation_tccount.pdf\")"
   ]
  },
  {
   "cell_type": "code",
   "execution_count": null,
   "metadata": {},
   "outputs": [],
   "source": [
    "scatter(PCA(2).fit_transform(tccounts.values.T),labels=tccounts.columns, radi=700)"
   ]
  },
  {
   "cell_type": "markdown",
   "metadata": {},
   "source": [
    "very strangely, we have in non euclidean space a structure that matches the labels we have. \n",
    "We hypotesized that noise might explain the difference in correlation that we see, however it would not explain that in euclidean space, things cluster still very well but differently. \n",
    "\n",
    "As a matter of fact. real noise would not change the correlation at all. This noise has a structure. One thing can explain read count that, at low frequency transcripts, especially create a specific pattern: contamination"
   ]
  },
  {
   "cell_type": "code",
   "execution_count": null,
   "metadata": {},
   "outputs": [],
   "source": [
    "todrop = ['mr78.MV411_IRF2BP2.DMSO_6h.r1', 'mr76.MV411_IRF2BP2.DMSO_2h.r3', 'mr80.MV411_IRF2BP2.DMSO_6h.r3', 'mr74.MV411_IRF2BP2.DMSO_2h.r1', 'mr84.MV411_IRF2BP2.VHL_2h.r3']"
   ]
  },
  {
   "cell_type": "code",
   "execution_count": null,
   "metadata": {},
   "outputs": [],
   "source": [
    "tccounts.columns = [i.replace('-','.') for i in tccounts.columns]\n",
    "readcounts.columns = [i.replace('-','.') for i in readcounts.columns]"
   ]
  },
  {
   "cell_type": "code",
   "execution_count": null,
   "metadata": {},
   "outputs": [],
   "source": [
    "tccounts = tccounts.drop(columns=[c for c in tccounts.columns if c in todrop])\n",
    "readcounts = readcounts.drop(columns=[c for c in readcounts.columns if c in todrop])"
   ]
  },
  {
   "cell_type": "code",
   "execution_count": null,
   "metadata": {},
   "outputs": [],
   "source": [
    "readcounts"
   ]
  },
  {
   "cell_type": "code",
   "execution_count": null,
   "metadata": {},
   "outputs": [],
   "source": [
    "%matplotlib inline\n",
    "a = sns.pairplot(tccounts)\n",
    "a.savefig('../results/'+project+\"/plots/\"+version+\"_pairplot_tccount.pdf\")"
   ]
  },
  {
   "cell_type": "code",
   "execution_count": null,
   "metadata": {},
   "outputs": [],
   "source": [
    "%matplotlib inline\n",
    "a = sns.heatmap(tccounts.corr(), \n",
    "            xticklabels=tccounts.columns,\n",
    "            yticklabels=tccounts.columns)\n",
    "a.savefig('../results/'+project+\"/plots/\"+version+\"_correlation_tccount.pdf\")"
   ]
  },
  {
   "cell_type": "code",
   "execution_count": null,
   "metadata": {},
   "outputs": [],
   "source": [
    "%matplotlib inline\n",
    "sort = [4,9,7,0,6,5,2,3,8,1,10]\n",
    "a = sns.heatmap(tccounts[tccounts.columns[sort]].corr(), \n",
    "            xticklabels=tccounts.columns[sort].values,\n",
    "            yticklabels=tccounts.columns[sort].values)\n",
    "a.savefig('../results/'+project+\"/plots/\"+version+\"_correlation_tccount_sorted.pdf\")"
   ]
  },
  {
   "cell_type": "code",
   "execution_count": null,
   "metadata": {},
   "outputs": [],
   "source": [
    "%matplotlib inline\n",
    "a = sns.heatmap(readcounts.corr(), \n",
    "            xticklabels=readcounts.columns,\n",
    "            yticklabels=readcounts.columns)\n",
    "a.savefig('../results/'+project+\"/plots/\"+version+\"_correlation_readcounts.pdf\")"
   ]
  },
  {
   "cell_type": "code",
   "execution_count": null,
   "metadata": {},
   "outputs": [],
   "source": [
    "%matplotlib inline\n",
    "sort = [4,9,7,0,6,5,2,3,8,1,10]\n",
    "sns.heatmap(readcounts[readcounts.columns[sort]].corr(), \n",
    "            xticklabels=readcounts.columns.values[sort],\n",
    "            yticklabels=readcounts.columns.values[sort])\n",
    "a.savefig('../results/'+project+\"/plots/\"+version+\"_correlation_readcount_sorted.pdf\")"
   ]
  },
  {
   "cell_type": "markdown",
   "metadata": {},
   "source": [
    "read the paper for MV411 QC steps."
   ]
  },
  {
   "cell_type": "markdown",
   "metadata": {},
   "source": [
    "### A quick detour to look for clustering"
   ]
  },
  {
   "cell_type": "markdown",
   "metadata": {},
   "source": [
    "## Getting the Core TF information"
   ]
  },
  {
   "cell_type": "code",
   "execution_count": null,
   "metadata": {},
   "outputs": [],
   "source": [
    "ctf=pd.read_csv('../data/CTF.csv',header=None)[0].values.tolist()\n",
    "ctf"
   ]
  },
  {
   "cell_type": "code",
   "execution_count": null,
   "metadata": {},
   "outputs": [],
   "source": [
    "set(ctf) & set(tccounts.index)"
   ]
  },
  {
   "cell_type": "code",
   "execution_count": null,
   "metadata": {},
   "outputs": [],
   "source": [
    "ctfpos = [val for val in tccounts.index if val in ctf]\n",
    "notctfpos = [val for val in tccounts.index if val not in ctf]"
   ]
  },
  {
   "cell_type": "code",
   "execution_count": null,
   "metadata": {},
   "outputs": [],
   "source": [
    "ctfpos.extend(['EGR1','SERTAD1'])"
   ]
  },
  {
   "cell_type": "markdown",
   "metadata": {},
   "source": [
    "We find a CTF not in the dataset"
   ]
  },
  {
   "cell_type": "markdown",
   "metadata": {},
   "source": [
    "# Let's look at how they change accross time\n",
    "\n",
    "how core transcription factors change accross time when the cell is with JQ1 conditions\n",
    "\n",
    "we are looking at the difference between production of each CTF compared to the average RNA production with JQ1 and without JQ1"
   ]
  },
  {
   "cell_type": "markdown",
   "metadata": {},
   "source": [
    "## DESEQ ANALYSIS"
   ]
  },
  {
   "cell_type": "code",
   "execution_count": null,
   "metadata": {},
   "outputs": [],
   "source": [
    "readcounts[\"genes\"] = readcounts.index\n",
    "readcounts = readcounts.reset_index(drop=True)\n",
    "tccounts[\"genes\"] = tccounts.index\n",
    "tccounts = tccounts.reset_index(drop=True)"
   ]
  },
  {
   "cell_type": "code",
   "execution_count": null,
   "metadata": {},
   "outputs": [],
   "source": [
    "tccounts.iloc[140]"
   ]
  },
  {
   "cell_type": "code",
   "execution_count": null,
   "metadata": {},
   "outputs": [],
   "source": [
    "tccounts.columns"
   ]
  },
  {
   "cell_type": "code",
   "execution_count": null,
   "metadata": {},
   "outputs": [],
   "source": [
    "design_2 = pd.DataFrame(index=[i.replace('-','.') for i in tccounts.columns.values[:-1]], \n",
    "                      columns=['DMSO','VHL'], \n",
    "                      data=np.array([[1,1,0,0,0,0,0,0,0,0,0],\n",
    "                                     [0,0,0,0,1,1,1,0,0,0,0]],dtype=bool).T)"
   ]
  },
  {
   "cell_type": "code",
   "execution_count": null,
   "metadata": {},
   "outputs": [],
   "source": [
    "design_6 = pd.DataFrame(index=[i.replace('-','.') for i in tccounts.columns.values[:-1]], \n",
    "                      columns=['DMSO','VHL'], \n",
    "                      data=np.array([[0,0,1,1,0,0,0,0,0,0,0],\n",
    "                                     [0,0,0,0,0,0,0,1,1,1,1]],dtype=bool).T)"
   ]
  },
  {
   "cell_type": "markdown",
   "metadata": {},
   "source": [
    "### Differential gene expression analysis, PCA and GO-term enrichment\n",
    "\n",
    "For gene-level analysis, raw reads mapped to different UTR annotations of the same gene were summed up by Entrez Gene ID. Pilot studies of K562 cells with kinase inhibitors were performed as single experiments. \n",
    "\n",
    "Analysis of differential gene expression was restricted to genes with ≥ 10 reads in at least one condition for 50bp sequencing runs (flavopiridol and DMSO) or ≥ 20 reads in at least one condition for 100bp sequencing runs (mk2206, trametinib, nilotinib, trametinib + mk2206 and DMSO). For estimating differential expression, a pseudo-count of 1 raw read was added to all genes.\n",
    "\n",
    "#### All other SLAM-seq experiments were performed in triplicates and analyzed as follows. \n",
    "Differential gene expression calling was performed on raw read counts with ≥ 2 T>C conversions using DESeq2 (version 1.14.1) with default settings, and with size factors estimated on corresponding total mRNA reads for global normalization.\n",
    "\n",
    "Downstream analysis was restricted to genes passing all internal filters for FDR estimation by DESeq2. Principal component analysis was performed after variance\n",
    "stabilizing transformation on the 500 most variable genes across all conditions of a given\n",
    "experiment. GO-term enrichment analysis was performed on genes significantly and strongly downregulated (FDR ≤ 0.1, log2FC ≤ -1) in SLAM-seq upon IAA-treatment in K562MYC-AID + Tir1 by the PANTHER Overrepresentation Test (Fisher's Exact with FDR multiple test correction, release 20171205, http://pantherdb.org) on GO Ontology database Released 2017-12-27."
   ]
  },
  {
   "cell_type": "code",
   "execution_count": null,
   "metadata": {},
   "outputs": [],
   "source": [
    "tccounts[tccounts.genes=='MYC']"
   ]
  },
  {
   "cell_type": "code",
   "execution_count": null,
   "metadata": {},
   "outputs": [],
   "source": [
    "deseq_2 = pyDESeq2.pyDESeq2(count_matrix=tccounts[tccounts.columns[np.array([1,1,0,0,1,1,1,0,0,0,0,1],np.bool)]],\n",
    "                         design_matrix=design_2[np.array([1,1,0,0,1,1,1,0,0,0,0],np.bool)],\n",
    "                         design_formula=\"~DMSO - VHL\",\n",
    "                         gene_column=\"genes\")"
   ]
  },
  {
   "cell_type": "code",
   "execution_count": null,
   "metadata": {},
   "outputs": [],
   "source": [
    "deseq_6 = pyDESeq2.pyDESeq2(count_matrix=tccounts[tccounts.columns[np.array([0,0,1,1,0,0,0,1,1,1,1,1],np.bool)]],\n",
    "                         design_matrix=design_6[np.array([0,0,1,1,0,0,0,1,1,1,1],np.bool)],\n",
    "                         design_formula=\"~DMSO - VHL\",\n",
    "                         gene_column=\"genes\")"
   ]
  },
  {
   "cell_type": "markdown",
   "metadata": {},
   "source": [
    "why is DESeq still not finding under expression even when we clearly see underexpression at the total read count"
   ]
  },
  {
   "cell_type": "code",
   "execution_count": null,
   "metadata": {},
   "outputs": [],
   "source": [
    "readcounts.values[:,0:2].mean(1).sum() / readcounts.values[:,4:7].mean(1).sum()"
   ]
  },
  {
   "cell_type": "code",
   "execution_count": null,
   "metadata": {},
   "outputs": [],
   "source": [
    "scaling2 = np.log2(readcounts.values[:,0:2].mean(1).sum() / readcounts.values[:,4:7].mean(1).sum())\n",
    "scaling2"
   ]
  },
  {
   "cell_type": "code",
   "execution_count": null,
   "metadata": {},
   "outputs": [],
   "source": [
    "scaling6 = np.log2(readcounts.values[:,2:4].mean(1).sum() / readcounts.values[:,7:11].mean(1).sum())\n",
    "scaling6"
   ]
  },
  {
   "cell_type": "markdown",
   "metadata": {},
   "source": [
    "First we can clearly see that we have a big issue here in the number of reads that were sequenced. we have much more reads in "
   ]
  },
  {
   "cell_type": "code",
   "execution_count": null,
   "metadata": {},
   "outputs": [],
   "source": [
    "deseq_2.run_estimate_size_factors(normMatrix = 3/np.array([np.exp(np.log(\n",
    "    readcounts[readcounts.columns[\n",
    "        np.array([1,1,0,0,0,0,0,0,0,0,0,0],np.bool)]].values+1).mean(1)),np.exp(np.log(\n",
    "    readcounts[readcounts.columns[\n",
    "        np.array([0,0,0,0,1,1,1,0,0,0,0,0],np.bool)]].values+1).mean(1))]))"
   ]
  },
  {
   "cell_type": "code",
   "execution_count": null,
   "metadata": {},
   "outputs": [],
   "source": [
    "deseq_6.run_estimate_size_factors(geoMeans = np.exp(np.mean(np.log(\n",
    "    readcounts[readcounts.columns[\n",
    "        np.array([0,0,1,1,0,0,0,0,0,0,0,0],np.bool)]].values+1),1)))\n",
    "deseq_2.run_estimate_size_factors(geoMeans = np.exp(np.mean(np.log(\n",
    "    readcounts[readcounts.columns[\n",
    "        np.array([1,1,0,0,0,0,0,0,0,0,0,0],np.bool)]].values+1),1)))"
   ]
  },
  {
   "cell_type": "code",
   "execution_count": null,
   "metadata": {},
   "outputs": [],
   "source": [
    "val2 = np.exp(np.mean(np.log(\n",
    "    readcounts[readcounts.columns[\n",
    "        np.array([1,1,0,0,0,0,0,0,0,0,0,0],np.bool)]].values+1),1))\n",
    "val2 = val2 - (scaling2*val2)\n",
    "deseq_2.run_estimate_size_factors(geoMeans = val2)\n",
    "val6 = np.exp(np.mean(np.log(\n",
    "    readcounts[readcounts.columns[\n",
    "        np.array([0,0,1,1,0,0,0,0,0,0,0,0],np.bool)]].values+1),1))\n",
    "val6 = val6 - (scaling6*val6)\n",
    "deseq_6.run_estimate_size_factors(geoMeans = val6)"
   ]
  },
  {
   "cell_type": "code",
   "execution_count": null,
   "metadata": {},
   "outputs": [],
   "source": [
    "deseq_2.run_deseq()\n",
    "deseq_6.run_deseq()"
   ]
  },
  {
   "cell_type": "code",
   "execution_count": null,
   "metadata": {},
   "outputs": [],
   "source": [
    "deseq_2.get_deseq_result()\n",
    "deseq_6.get_deseq_result()"
   ]
  },
  {
   "cell_type": "code",
   "execution_count": null,
   "metadata": {},
   "outputs": [],
   "source": [
    "res2 = deseq_2.deseq_result\n",
    "res6 = deseq_6.deseq_result"
   ]
  },
  {
   "cell_type": "code",
   "execution_count": null,
   "metadata": {},
   "outputs": [],
   "source": [
    "res2.pvalue = np.nan_to_num(np.array(res2.pvalue), 1)\n",
    "res2.log2FoldChange = np.nan_to_num(np.array(res2.log2FoldChange), 0)\n",
    "res6.pvalue = np.nan_to_num(np.array(res6.pvalue), 1)\n",
    "res6.log2FoldChange = np.nan_to_num(np.array(res6.log2FoldChange), 0)"
   ]
  },
  {
   "cell_type": "code",
   "execution_count": null,
   "metadata": {},
   "outputs": [],
   "source": [
    "res2.log2FoldChange = -res2.log2FoldChange\n",
    "res6.log2FoldChange = -res6.log2FoldChange"
   ]
  },
  {
   "cell_type": "code",
   "execution_count": null,
   "metadata": {},
   "outputs": [],
   "source": [
    "res2[\"gene_id\"] = res2.genes\n",
    "res6[\"gene_id\"] = res6.genes"
   ]
  },
  {
   "cell_type": "code",
   "execution_count": null,
   "metadata": {},
   "outputs": [],
   "source": [
    "tccounts[tccounts.genes==\"THBD\"]"
   ]
  },
  {
   "cell_type": "code",
   "execution_count": null,
   "metadata": {},
   "outputs": [],
   "source": [
    "res6.log2FoldChange += scaling6\n",
    "res2.log2FoldChange += scaling2"
   ]
  },
  {
   "cell_type": "code",
   "execution_count": null,
   "metadata": {},
   "outputs": [],
   "source": [
    "volcano(res6,tohighlight=ctf, searchbox=True, maxvalue=20,minpval=1, minlogfold=0.1, title=\"volcano of Differential expression from MV411 under IRF2BP2 degron@6h using DESeq\", folder=\"../results/\"+projec+\"/plots/\"+version+\"_\")"
   ]
  },
  {
   "cell_type": "code",
   "execution_count": null,
   "metadata": {},
   "outputs": [],
   "source": [
    "show(volcano(res2,tohighlight=ctf, searchbox=True, minpval=0.5, minlogfold=0.05, title=\"volcano of Differential expression from MV411 under IRF2BP2 degron@6h using DESeq\", folder=\"../results/\"+projec+\"/plots/\"+version+\"_\")"
   ]
  },
  {
   "cell_type": "markdown",
   "metadata": {},
   "source": [
    "we can conclude that we get similar results to the slamseq myc paper although it seems that our values are a bit skewed toward higher expression than what is on the slamseq paper. It mightt be explained by the pseudo count of 1 that I did not set. Because I think it would highly bias the DESeq algorithm."
   ]
  },
  {
   "cell_type": "code",
   "execution_count": null,
   "metadata": {},
   "outputs": [],
   "source": [
    "interferon_sig =  [\"AAAS\", \"ABCE1\", \"AC004551.1\", \"ADAR\", \"ARIH1\", \"B2M\", \"BST2\", \"CAMK2A\", \"CAMK2B\", \"CAMK2D\", \"CAMK2G\", \"CD44\", \"CIITA\", \"DDX58\", \"EGR1\", \"EIF2AK2\", \"EIF4A1\", \"EIF4A2\", \"EIF4A3\", \"EIF4E\", \"EIF4E2\", \"EIF4E3\", \"EIF4G1\", \"EIF4G2\", \"EIF4G3\", \"FCGR1A\", \"FCGR1B\", \"FLNA\", \"FLNB\", \"GBP1\", \"GBP2\", \"GBP3\", \"GBP4\", \"GBP5\", \"GBP6\", \"GBP7\", \"HERC5\", \"HLA-A\", \"HLA-B\", \"HLA-C\", \"HLA-DPA1\", \"HLA-DPB1\", \"HLA-DQA1\", \"HLA-DQA2\", \"HLA-DQB1\", \"HLA-DQB2\", \"HLA-DRA\", \"HLA-DRB1\", \"HLA-DRB3\", \"HLA-DRB4\", \"HLA-DRB5\", \"HLA-E\", \"HLA-F\", \"HLA-G\", \"HLA-H\", \"ICAM1\", \"IFI27\", \"IFI30\", \"IFI35\", \"IFI6\", \"IFIT1\", \"IFIT2\", \"IFIT3\", \"IFITM1\", \"IFITM2\", \"IFITM3\", \"IFNA1\", \"IFNA10\", \"IFNA13\", \"IFNA14\", \"IFNA16\", \"IFNA17\", \"IFNA2\", \"IFNA21\", \"IFNA4\", \"IFNA5\", \"IFNA6\", \"IFNA7\", \"IFNA8\", \"IFNAR1\", \"IFNAR2\", \"IFNB1\", \"IFNG\", \"IFNGR1\", \"IFNGR2\", \"IP6K2\", \"IRF1\", \"IRF2\", \"IRF3\", \"IRF4\", \"IRF5\", \"IRF6\", \"IRF7\", \"IRF8\", \"IRF9\", \"ISG15\", \"ISG20\", \"JAK1\", \"JAK2\", \"KPNA1\", \"KPNA2\", \"KPNA3\", \"KPNA4\", \"KPNA5\", \"KPNA7\", \"KPNB1\", \"MAPK3\", \"MID1\", \"MT2A\", \"MX1\", \"MX2\", \"NCAM1\", \"NDC1\", \"NEDD4\", \"NUP107\", \"NUP133\", \"NUP153\", \"NUP155\", \"NUP160\", \"NUP188\", \"NUP205\", \"NUP210\", \"NUP214\", \"NUP35\", \"NUP37\", \"NUP43\", \"NUP50\", \"NUP54\", \"NUP58\", \"NUP62\", \"NUP85\", \"NUP88\", \"NUP93\", \"NUP98\", \"NUPL2\", \"OAS2\", \"OAS3\", \"OASL\", \"PDE12\", \"PIAS1\", \"PIN1\", \"PLCG1\", \"PML\", \"POM121\", \"POM121C\", \"PPM1B\", \"PRKCD\", \"PSMB8\", \"PTAFR\", \"PTPN1\", \"PTPN11\", \"PTPN2\", \"PTPN6\", \"RAE1\", \"RANBP2\", \"RNASEL\", \"RPS27A\", \"RSAD2\", \"SAMHD1\", \"SEC13\", \"SEH1L\", \"SOCS1\", \"SOCS3\", \"SP100\", \"STAT1\", \"STAT2\", \"SUMO1\", \"TPR\", \"TRIM10\", \"TRIM14\", \"TRIM17\", \"TRIM2\", \"TRIM21\", \"TRIM22\", \"TRIM25\", \"TRIM26\", \"TRIM29\", \"TRIM3\", \"TRIM31\", \"TRIM34\", \"TRIM35\", \"TRIM38\", \"TRIM45\", \"TRIM46\", \"TRIM48\", \"TRIM5\", \"TRIM6\", \"TRIM62\", \"TRIM68\", \"TRIM8\", \"TYK2\", \"UBA52\", \"UBA7\", \"UBB\", \"UBC\", \"UBE2E1\", \"UBE2L6\", \"UBE2N\", \"USP18\", \"USP41\", \"VCAM1\", \"XAF1\"]"
   ]
  },
  {
   "cell_type": "code",
   "execution_count": null,
   "metadata": {},
   "outputs": [],
   "source": [
    "volcano(res6,tohighlight=interferon_sig, searchbox=True, maxvalue=20,minpval=1, minlogfold=0.1, title=\"volcano of Differential expression from MV411 under IRF2BP2 degron@6h using DESeq with interferon signaling highlighted\", folder=\"../results/\"+projec+\"/plots/\"+version+\"_\")"
   ]
  },
  {
   "cell_type": "code",
   "execution_count": null,
   "metadata": {},
   "outputs": [],
   "source": [
    "tccounts[]"
   ]
  },
  {
   "cell_type": "code",
   "execution_count": null,
   "metadata": {},
   "outputs": [],
   "source": [
    "tccounts[readcounts.columns[np.array([0,0,1,1,0,0,0,1,1,1,1,0],np.bool)]]"
   ]
  },
  {
   "cell_type": "code",
   "execution_count": null,
   "metadata": {},
   "outputs": [],
   "source": [
    "! ls ../data/genesets/apoptosis.gmt"
   ]
  },
  {
   "cell_type": "code",
   "execution_count": null,
   "metadata": {},
   "outputs": [],
   "source": [
    "tccounts = tccounts.set_index('genes')"
   ]
  },
  {
   "cell_type": "code",
   "execution_count": null,
   "metadata": {},
   "outputs": [],
   "source": [
    "gp.get_library_name()"
   ]
  },
  {
   "cell_type": "code",
   "execution_count": null,
   "metadata": {},
   "outputs": [],
   "source": [
    "import gseapy as gp\n",
    "from gseapy.plot import gseaplot, heatmap, barplot, dotplot\n",
    "#cls = ['DMSO','DMSO','Condition','Condition','Condition','Condition']\n",
    "cls = [0,0,1,1,1,1]\n",
    "res = gp.gsea(data=tccounts[tccounts.columns[np.array([0,0,1,1,0,0,0,1,1,1,1],np.bool)]],\n",
    "         gene_sets='../data/genesets/interferon_sig.gmt',\n",
    "         cls=cls,\n",
    "         no_plot=False,\n",
    "         processes=6)"
   ]
  },
  {
   "cell_type": "code",
   "execution_count": null,
   "metadata": {},
   "outputs": [],
   "source": [
    "res.res2d['Term'] = res.res2d.index"
   ]
  },
  {
   "cell_type": "code",
   "execution_count": null,
   "metadata": {},
   "outputs": [],
   "source": [
    "a = sns.barplot(data=res.res2d.iloc[:25], x=\"es\", y=\"Term\",\n",
    "                hue_order=\"geneset_size\")\n",
    "a.savefig('../results/'+project+\"/plots/\"+version+\"_geneset_enrichment_heatmap.pdf\")"
   ]
  },
  {
   "cell_type": "code",
   "execution_count": null,
   "metadata": {},
   "outputs": [],
   "source": [
    "a = gseaplot(res.ranking, term='REACTOME_INTERFERON_SIGNALING', **res.results[\"REACTOME_INTERFERON_SIGNALING\"])\n",
    "a.savefig('../results/'+project+\"/plots/\"+version+\"_interferon_signaling_enrichment.pdf\")"
   ]
  },
  {
   "cell_type": "code",
   "execution_count": null,
   "metadata": {},
   "outputs": [],
   "source": []
  }
 ],
 "metadata": {
  "kernelspec": {
   "display_name": "Python 3 (ipykernel)",
   "language": "python",
   "name": "python3"
  },
  "language_info": {
   "codemirror_mode": {
    "name": "ipython",
    "version": 3
   },
   "file_extension": ".py",
   "mimetype": "text/x-python",
   "name": "python",
   "nbconvert_exporter": "python",
   "pygments_lexer": "ipython3",
   "version": "3.8.8"
  },
  "latex_envs": {
   "LaTeX_envs_menu_present": true,
   "autoclose": false,
   "autocomplete": true,
   "bibliofile": "biblio.bib",
   "cite_by": "apalike",
   "current_citInitial": 1,
   "eqLabelWithNumbers": true,
   "eqNumInitial": 1,
   "hotkeys": {
    "equation": "Ctrl-E",
    "itemize": "Ctrl-I"
   },
   "labels_anchors": false,
   "latex_user_defs": false,
   "report_style_numbering": false,
   "user_envs_cfg": false
  },
  "toc": {
   "base_numbering": 1,
   "nav_menu": {},
   "number_sections": false,
   "sideBar": false,
   "skip_h1_title": false,
   "title_cell": "Table of Contents",
   "title_sidebar": "Contents",
   "toc_cell": false,
   "toc_position": {},
   "toc_section_display": false,
   "toc_window_display": false
  },
  "varInspector": {
   "cols": {
    "lenName": 16,
    "lenType": 16,
    "lenVar": 40
   },
   "kernels_config": {
    "python": {
     "delete_cmd_postfix": "",
     "delete_cmd_prefix": "del ",
     "library": "var_list.py",
     "varRefreshCmd": "print(var_dic_list())"
    },
    "r": {
     "delete_cmd_postfix": ") ",
     "delete_cmd_prefix": "rm(",
     "library": "var_list.r",
     "varRefreshCmd": "cat(var_dic_list()) "
    }
   },
   "types_to_exclude": [
    "module",
    "function",
    "builtin_function_or_method",
    "instance",
    "_Feature"
   ],
   "window_display": false
  }
 },
 "nbformat": 4,
 "nbformat_minor": 2
}
