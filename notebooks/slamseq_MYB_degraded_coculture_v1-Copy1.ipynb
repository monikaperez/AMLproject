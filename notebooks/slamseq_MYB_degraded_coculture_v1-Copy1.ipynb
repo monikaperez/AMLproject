{
 "cells": [
  {
   "cell_type": "markdown",
   "id": "2ee810aa",
   "metadata": {},
   "source": [
    "# SLAMseq"
   ]
  },
  {
   "cell_type": "markdown",
   "id": "9c76af92",
   "metadata": {},
   "source": [
    "## Installing slamdunk (only do once)"
   ]
  },
  {
   "cell_type": "code",
   "execution_count": 1,
   "id": "c6fe9f68",
   "metadata": {},
   "outputs": [],
   "source": [
    "# install slamdunk\n",
    "#! pip3 install git+https://github.com/jkobject/slamdunk.git --upgrade"
   ]
  },
  {
   "cell_type": "code",
   "execution_count": 2,
   "id": "9b9c4e84",
   "metadata": {},
   "outputs": [],
   "source": [
    "# clone and install genepy\n",
    "# pip install -e genepy"
   ]
  },
  {
   "cell_type": "code",
   "execution_count": 3,
   "id": "4c7e763b",
   "metadata": {},
   "outputs": [],
   "source": [
    "# please also install cutadapt, fastqc, and trimgalore\n",
    "#! conda install -c bioconda cutadapt\n",
    "#! conda install -c bioconda fastqc\n",
    "#! conda install -c bioconda trim-galore"
   ]
  },
  {
   "cell_type": "code",
   "execution_count": 1,
   "id": "2d71fdd2",
   "metadata": {},
   "outputs": [],
   "source": [
    "from __future__ import print_function\n",
    "import os.path\n",
    "import pandas as pd\n",
    "import sys\n",
    "sys.path.insert(0, '../../')\n",
    "import seaborn as sns\n",
    "import numpy as np\n",
    "from natsort import os_sorted\n",
    "\n",
    "from genepy.utils import helper as h\n",
    "from genepy.utils import plot as genepyPlot\n",
    "from genepy.rna import pyDESeq2\n",
    "import genepy.rna as rna"
   ]
  },
  {
   "cell_type": "code",
   "execution_count": 3,
   "id": "f0fe245c",
   "metadata": {},
   "outputs": [
    {
     "data": {
      "text/html": [
       "\n",
       "    <div class=\"bk-root\">\n",
       "        <a href=\"https://bokeh.org\" target=\"_blank\" class=\"bk-logo bk-logo-small bk-logo-notebook\"></a>\n",
       "        <span id=\"1003\">Loading BokehJS ...</span>\n",
       "    </div>"
      ]
     },
     "metadata": {},
     "output_type": "display_data"
    },
    {
     "data": {
      "application/javascript": [
       "\n",
       "(function(root) {\n",
       "  function now() {\n",
       "    return new Date();\n",
       "  }\n",
       "\n",
       "  const force = true;\n",
       "\n",
       "  if (typeof root._bokeh_onload_callbacks === \"undefined\" || force === true) {\n",
       "    root._bokeh_onload_callbacks = [];\n",
       "    root._bokeh_is_loading = undefined;\n",
       "  }\n",
       "\n",
       "  const JS_MIME_TYPE = 'application/javascript';\n",
       "  const HTML_MIME_TYPE = 'text/html';\n",
       "  const EXEC_MIME_TYPE = 'application/vnd.bokehjs_exec.v0+json';\n",
       "  const CLASS_NAME = 'output_bokeh rendered_html';\n",
       "\n",
       "  /**\n",
       "   * Render data to the DOM node\n",
       "   */\n",
       "  function render(props, node) {\n",
       "    const script = document.createElement(\"script\");\n",
       "    node.appendChild(script);\n",
       "  }\n",
       "\n",
       "  /**\n",
       "   * Handle when an output is cleared or removed\n",
       "   */\n",
       "  function handleClearOutput(event, handle) {\n",
       "    const cell = handle.cell;\n",
       "\n",
       "    const id = cell.output_area._bokeh_element_id;\n",
       "    const server_id = cell.output_area._bokeh_server_id;\n",
       "    // Clean up Bokeh references\n",
       "    if (id != null && id in Bokeh.index) {\n",
       "      Bokeh.index[id].model.document.clear();\n",
       "      delete Bokeh.index[id];\n",
       "    }\n",
       "\n",
       "    if (server_id !== undefined) {\n",
       "      // Clean up Bokeh references\n",
       "      const cmd_clean = \"from bokeh.io.state import curstate; print(curstate().uuid_to_server['\" + server_id + \"'].get_sessions()[0].document.roots[0]._id)\";\n",
       "      cell.notebook.kernel.execute(cmd_clean, {\n",
       "        iopub: {\n",
       "          output: function(msg) {\n",
       "            const id = msg.content.text.trim();\n",
       "            if (id in Bokeh.index) {\n",
       "              Bokeh.index[id].model.document.clear();\n",
       "              delete Bokeh.index[id];\n",
       "            }\n",
       "          }\n",
       "        }\n",
       "      });\n",
       "      // Destroy server and session\n",
       "      const cmd_destroy = \"import bokeh.io.notebook as ion; ion.destroy_server('\" + server_id + \"')\";\n",
       "      cell.notebook.kernel.execute(cmd_destroy);\n",
       "    }\n",
       "  }\n",
       "\n",
       "  /**\n",
       "   * Handle when a new output is added\n",
       "   */\n",
       "  function handleAddOutput(event, handle) {\n",
       "    const output_area = handle.output_area;\n",
       "    const output = handle.output;\n",
       "\n",
       "    // limit handleAddOutput to display_data with EXEC_MIME_TYPE content only\n",
       "    if ((output.output_type != \"display_data\") || (!Object.prototype.hasOwnProperty.call(output.data, EXEC_MIME_TYPE))) {\n",
       "      return\n",
       "    }\n",
       "\n",
       "    const toinsert = output_area.element.find(\".\" + CLASS_NAME.split(' ')[0]);\n",
       "\n",
       "    if (output.metadata[EXEC_MIME_TYPE][\"id\"] !== undefined) {\n",
       "      toinsert[toinsert.length - 1].firstChild.textContent = output.data[JS_MIME_TYPE];\n",
       "      // store reference to embed id on output_area\n",
       "      output_area._bokeh_element_id = output.metadata[EXEC_MIME_TYPE][\"id\"];\n",
       "    }\n",
       "    if (output.metadata[EXEC_MIME_TYPE][\"server_id\"] !== undefined) {\n",
       "      const bk_div = document.createElement(\"div\");\n",
       "      bk_div.innerHTML = output.data[HTML_MIME_TYPE];\n",
       "      const script_attrs = bk_div.children[0].attributes;\n",
       "      for (let i = 0; i < script_attrs.length; i++) {\n",
       "        toinsert[toinsert.length - 1].firstChild.setAttribute(script_attrs[i].name, script_attrs[i].value);\n",
       "        toinsert[toinsert.length - 1].firstChild.textContent = bk_div.children[0].textContent\n",
       "      }\n",
       "      // store reference to server id on output_area\n",
       "      output_area._bokeh_server_id = output.metadata[EXEC_MIME_TYPE][\"server_id\"];\n",
       "    }\n",
       "  }\n",
       "\n",
       "  function register_renderer(events, OutputArea) {\n",
       "\n",
       "    function append_mime(data, metadata, element) {\n",
       "      // create a DOM node to render to\n",
       "      const toinsert = this.create_output_subarea(\n",
       "        metadata,\n",
       "        CLASS_NAME,\n",
       "        EXEC_MIME_TYPE\n",
       "      );\n",
       "      this.keyboard_manager.register_events(toinsert);\n",
       "      // Render to node\n",
       "      const props = {data: data, metadata: metadata[EXEC_MIME_TYPE]};\n",
       "      render(props, toinsert[toinsert.length - 1]);\n",
       "      element.append(toinsert);\n",
       "      return toinsert\n",
       "    }\n",
       "\n",
       "    /* Handle when an output is cleared or removed */\n",
       "    events.on('clear_output.CodeCell', handleClearOutput);\n",
       "    events.on('delete.Cell', handleClearOutput);\n",
       "\n",
       "    /* Handle when a new output is added */\n",
       "    events.on('output_added.OutputArea', handleAddOutput);\n",
       "\n",
       "    /**\n",
       "     * Register the mime type and append_mime function with output_area\n",
       "     */\n",
       "    OutputArea.prototype.register_mime_type(EXEC_MIME_TYPE, append_mime, {\n",
       "      /* Is output safe? */\n",
       "      safe: true,\n",
       "      /* Index of renderer in `output_area.display_order` */\n",
       "      index: 0\n",
       "    });\n",
       "  }\n",
       "\n",
       "  // register the mime type if in Jupyter Notebook environment and previously unregistered\n",
       "  if (root.Jupyter !== undefined) {\n",
       "    const events = require('base/js/events');\n",
       "    const OutputArea = require('notebook/js/outputarea').OutputArea;\n",
       "\n",
       "    if (OutputArea.prototype.mime_types().indexOf(EXEC_MIME_TYPE) == -1) {\n",
       "      register_renderer(events, OutputArea);\n",
       "    }\n",
       "  }\n",
       "\n",
       "  \n",
       "  if (typeof (root._bokeh_timeout) === \"undefined\" || force === true) {\n",
       "    root._bokeh_timeout = Date.now() + 5000;\n",
       "    root._bokeh_failed_load = false;\n",
       "  }\n",
       "\n",
       "  const NB_LOAD_WARNING = {'data': {'text/html':\n",
       "     \"<div style='background-color: #fdd'>\\n\"+\n",
       "     \"<p>\\n\"+\n",
       "     \"BokehJS does not appear to have successfully loaded. If loading BokehJS from CDN, this \\n\"+\n",
       "     \"may be due to a slow or bad network connection. Possible fixes:\\n\"+\n",
       "     \"</p>\\n\"+\n",
       "     \"<ul>\\n\"+\n",
       "     \"<li>re-rerun `output_notebook()` to attempt to load from CDN again, or</li>\\n\"+\n",
       "     \"<li>use INLINE resources instead, as so:</li>\\n\"+\n",
       "     \"</ul>\\n\"+\n",
       "     \"<code>\\n\"+\n",
       "     \"from bokeh.resources import INLINE\\n\"+\n",
       "     \"output_notebook(resources=INLINE)\\n\"+\n",
       "     \"</code>\\n\"+\n",
       "     \"</div>\"}};\n",
       "\n",
       "  function display_loaded() {\n",
       "    const el = document.getElementById(\"1003\");\n",
       "    if (el != null) {\n",
       "      el.textContent = \"BokehJS is loading...\";\n",
       "    }\n",
       "    if (root.Bokeh !== undefined) {\n",
       "      if (el != null) {\n",
       "        el.textContent = \"BokehJS \" + root.Bokeh.version + \" successfully loaded.\";\n",
       "      }\n",
       "    } else if (Date.now() < root._bokeh_timeout) {\n",
       "      setTimeout(display_loaded, 100)\n",
       "    }\n",
       "  }\n",
       "\n",
       "\n",
       "  function run_callbacks() {\n",
       "    try {\n",
       "      root._bokeh_onload_callbacks.forEach(function(callback) {\n",
       "        if (callback != null)\n",
       "          callback();\n",
       "      });\n",
       "    } finally {\n",
       "      delete root._bokeh_onload_callbacks\n",
       "    }\n",
       "    console.debug(\"Bokeh: all callbacks have finished\");\n",
       "  }\n",
       "\n",
       "  function load_libs(css_urls, js_urls, callback) {\n",
       "    if (css_urls == null) css_urls = [];\n",
       "    if (js_urls == null) js_urls = [];\n",
       "\n",
       "    root._bokeh_onload_callbacks.push(callback);\n",
       "    if (root._bokeh_is_loading > 0) {\n",
       "      console.debug(\"Bokeh: BokehJS is being loaded, scheduling callback at\", now());\n",
       "      return null;\n",
       "    }\n",
       "    if (js_urls == null || js_urls.length === 0) {\n",
       "      run_callbacks();\n",
       "      return null;\n",
       "    }\n",
       "    console.debug(\"Bokeh: BokehJS not loaded, scheduling load and callback at\", now());\n",
       "    root._bokeh_is_loading = css_urls.length + js_urls.length;\n",
       "\n",
       "    function on_load() {\n",
       "      root._bokeh_is_loading--;\n",
       "      if (root._bokeh_is_loading === 0) {\n",
       "        console.debug(\"Bokeh: all BokehJS libraries/stylesheets loaded\");\n",
       "        run_callbacks()\n",
       "      }\n",
       "    }\n",
       "\n",
       "    function on_error(url) {\n",
       "      console.error(\"failed to load \" + url);\n",
       "    }\n",
       "\n",
       "    for (let i = 0; i < css_urls.length; i++) {\n",
       "      const url = css_urls[i];\n",
       "      const element = document.createElement(\"link\");\n",
       "      element.onload = on_load;\n",
       "      element.onerror = on_error.bind(null, url);\n",
       "      element.rel = \"stylesheet\";\n",
       "      element.type = \"text/css\";\n",
       "      element.href = url;\n",
       "      console.debug(\"Bokeh: injecting link tag for BokehJS stylesheet: \", url);\n",
       "      document.body.appendChild(element);\n",
       "    }\n",
       "\n",
       "    for (let i = 0; i < js_urls.length; i++) {\n",
       "      const url = js_urls[i];\n",
       "      const element = document.createElement('script');\n",
       "      element.onload = on_load;\n",
       "      element.onerror = on_error.bind(null, url);\n",
       "      element.async = false;\n",
       "      element.src = url;\n",
       "      console.debug(\"Bokeh: injecting script tag for BokehJS library: \", url);\n",
       "      document.head.appendChild(element);\n",
       "    }\n",
       "  };\n",
       "\n",
       "  function inject_raw_css(css) {\n",
       "    const element = document.createElement(\"style\");\n",
       "    element.appendChild(document.createTextNode(css));\n",
       "    document.body.appendChild(element);\n",
       "  }\n",
       "\n",
       "  \n",
       "  const js_urls = [\"https://cdn.bokeh.org/bokeh/release/bokeh-2.4.2.min.js\", \"https://cdn.bokeh.org/bokeh/release/bokeh-gl-2.4.2.min.js\", \"https://cdn.bokeh.org/bokeh/release/bokeh-widgets-2.4.2.min.js\", \"https://cdn.bokeh.org/bokeh/release/bokeh-tables-2.4.2.min.js\", \"https://cdn.bokeh.org/bokeh/release/bokeh-mathjax-2.4.2.min.js\"];\n",
       "  const css_urls = [];\n",
       "  \n",
       "\n",
       "  const inline_js = [\n",
       "    function(Bokeh) {\n",
       "      Bokeh.set_log_level(\"info\");\n",
       "    },\n",
       "    function(Bokeh) {\n",
       "    \n",
       "    \n",
       "    }\n",
       "  ];\n",
       "\n",
       "  function run_inline_js() {\n",
       "    \n",
       "    if (root.Bokeh !== undefined || force === true) {\n",
       "      \n",
       "    for (let i = 0; i < inline_js.length; i++) {\n",
       "      inline_js[i].call(root, root.Bokeh);\n",
       "    }\n",
       "    if (force === true) {\n",
       "        display_loaded();\n",
       "      }} else if (Date.now() < root._bokeh_timeout) {\n",
       "      setTimeout(run_inline_js, 100);\n",
       "    } else if (!root._bokeh_failed_load) {\n",
       "      console.log(\"Bokeh: BokehJS failed to load within specified timeout.\");\n",
       "      root._bokeh_failed_load = true;\n",
       "    } else if (force !== true) {\n",
       "      const cell = $(document.getElementById(\"1003\")).parents('.cell').data().cell;\n",
       "      cell.output_area.append_execute_result(NB_LOAD_WARNING)\n",
       "    }\n",
       "\n",
       "  }\n",
       "\n",
       "  if (root._bokeh_is_loading === 0) {\n",
       "    console.debug(\"Bokeh: BokehJS loaded, going straight to plotting\");\n",
       "    run_inline_js();\n",
       "  } else {\n",
       "    load_libs(css_urls, js_urls, function() {\n",
       "      console.debug(\"Bokeh: BokehJS plotting callback run at\", now());\n",
       "      run_inline_js();\n",
       "    });\n",
       "  }\n",
       "}(window));"
      ],
      "application/vnd.bokehjs_load.v0+json": "\n(function(root) {\n  function now() {\n    return new Date();\n  }\n\n  const force = true;\n\n  if (typeof root._bokeh_onload_callbacks === \"undefined\" || force === true) {\n    root._bokeh_onload_callbacks = [];\n    root._bokeh_is_loading = undefined;\n  }\n\n  \n\n  \n  if (typeof (root._bokeh_timeout) === \"undefined\" || force === true) {\n    root._bokeh_timeout = Date.now() + 5000;\n    root._bokeh_failed_load = false;\n  }\n\n  const NB_LOAD_WARNING = {'data': {'text/html':\n     \"<div style='background-color: #fdd'>\\n\"+\n     \"<p>\\n\"+\n     \"BokehJS does not appear to have successfully loaded. If loading BokehJS from CDN, this \\n\"+\n     \"may be due to a slow or bad network connection. Possible fixes:\\n\"+\n     \"</p>\\n\"+\n     \"<ul>\\n\"+\n     \"<li>re-rerun `output_notebook()` to attempt to load from CDN again, or</li>\\n\"+\n     \"<li>use INLINE resources instead, as so:</li>\\n\"+\n     \"</ul>\\n\"+\n     \"<code>\\n\"+\n     \"from bokeh.resources import INLINE\\n\"+\n     \"output_notebook(resources=INLINE)\\n\"+\n     \"</code>\\n\"+\n     \"</div>\"}};\n\n  function display_loaded() {\n    const el = document.getElementById(\"1003\");\n    if (el != null) {\n      el.textContent = \"BokehJS is loading...\";\n    }\n    if (root.Bokeh !== undefined) {\n      if (el != null) {\n        el.textContent = \"BokehJS \" + root.Bokeh.version + \" successfully loaded.\";\n      }\n    } else if (Date.now() < root._bokeh_timeout) {\n      setTimeout(display_loaded, 100)\n    }\n  }\n\n\n  function run_callbacks() {\n    try {\n      root._bokeh_onload_callbacks.forEach(function(callback) {\n        if (callback != null)\n          callback();\n      });\n    } finally {\n      delete root._bokeh_onload_callbacks\n    }\n    console.debug(\"Bokeh: all callbacks have finished\");\n  }\n\n  function load_libs(css_urls, js_urls, callback) {\n    if (css_urls == null) css_urls = [];\n    if (js_urls == null) js_urls = [];\n\n    root._bokeh_onload_callbacks.push(callback);\n    if (root._bokeh_is_loading > 0) {\n      console.debug(\"Bokeh: BokehJS is being loaded, scheduling callback at\", now());\n      return null;\n    }\n    if (js_urls == null || js_urls.length === 0) {\n      run_callbacks();\n      return null;\n    }\n    console.debug(\"Bokeh: BokehJS not loaded, scheduling load and callback at\", now());\n    root._bokeh_is_loading = css_urls.length + js_urls.length;\n\n    function on_load() {\n      root._bokeh_is_loading--;\n      if (root._bokeh_is_loading === 0) {\n        console.debug(\"Bokeh: all BokehJS libraries/stylesheets loaded\");\n        run_callbacks()\n      }\n    }\n\n    function on_error(url) {\n      console.error(\"failed to load \" + url);\n    }\n\n    for (let i = 0; i < css_urls.length; i++) {\n      const url = css_urls[i];\n      const element = document.createElement(\"link\");\n      element.onload = on_load;\n      element.onerror = on_error.bind(null, url);\n      element.rel = \"stylesheet\";\n      element.type = \"text/css\";\n      element.href = url;\n      console.debug(\"Bokeh: injecting link tag for BokehJS stylesheet: \", url);\n      document.body.appendChild(element);\n    }\n\n    for (let i = 0; i < js_urls.length; i++) {\n      const url = js_urls[i];\n      const element = document.createElement('script');\n      element.onload = on_load;\n      element.onerror = on_error.bind(null, url);\n      element.async = false;\n      element.src = url;\n      console.debug(\"Bokeh: injecting script tag for BokehJS library: \", url);\n      document.head.appendChild(element);\n    }\n  };\n\n  function inject_raw_css(css) {\n    const element = document.createElement(\"style\");\n    element.appendChild(document.createTextNode(css));\n    document.body.appendChild(element);\n  }\n\n  \n  const js_urls = [\"https://cdn.bokeh.org/bokeh/release/bokeh-2.4.2.min.js\", \"https://cdn.bokeh.org/bokeh/release/bokeh-gl-2.4.2.min.js\", \"https://cdn.bokeh.org/bokeh/release/bokeh-widgets-2.4.2.min.js\", \"https://cdn.bokeh.org/bokeh/release/bokeh-tables-2.4.2.min.js\", \"https://cdn.bokeh.org/bokeh/release/bokeh-mathjax-2.4.2.min.js\"];\n  const css_urls = [];\n  \n\n  const inline_js = [\n    function(Bokeh) {\n      Bokeh.set_log_level(\"info\");\n    },\n    function(Bokeh) {\n    \n    \n    }\n  ];\n\n  function run_inline_js() {\n    \n    if (root.Bokeh !== undefined || force === true) {\n      \n    for (let i = 0; i < inline_js.length; i++) {\n      inline_js[i].call(root, root.Bokeh);\n    }\n    if (force === true) {\n        display_loaded();\n      }} else if (Date.now() < root._bokeh_timeout) {\n      setTimeout(run_inline_js, 100);\n    } else if (!root._bokeh_failed_load) {\n      console.log(\"Bokeh: BokehJS failed to load within specified timeout.\");\n      root._bokeh_failed_load = true;\n    } else if (force !== true) {\n      const cell = $(document.getElementById(\"1003\")).parents('.cell').data().cell;\n      cell.output_area.append_execute_result(NB_LOAD_WARNING)\n    }\n\n  }\n\n  if (root._bokeh_is_loading === 0) {\n    console.debug(\"Bokeh: BokehJS loaded, going straight to plotting\");\n    run_inline_js();\n  } else {\n    load_libs(css_urls, js_urls, function() {\n      console.debug(\"Bokeh: BokehJS plotting callback run at\", now());\n      run_inline_js();\n    });\n  }\n}(window));"
     },
     "metadata": {},
     "output_type": "display_data"
    },
    {
     "name": "stdout",
     "output_type": "stream",
     "text": [
      "The autoreload extension is already loaded. To reload it, use:\n",
      "  %reload_ext autoreload\n",
      "The rpy2.ipython extension is already loaded. To reload it, use:\n",
      "  %reload_ext rpy2.ipython\n"
     ]
    }
   ],
   "source": [
    "from bokeh.plotting import *\n",
    "from bokeh.models import HoverTool\n",
    "from bokeh.io import output_notebook\n",
    "\n",
    "import matplotlib.pyplot as plt\n",
    "\n",
    "from sklearn.neighbors import KNeighborsClassifier\n",
    "from sklearn.manifold import MDS, TSNE\n",
    "from sklearn.decomposition import PCA\n",
    "from sklearn.preprocessing import scale\n",
    "#from umap import UMAP\n",
    "\n",
    "output_notebook()\n",
    "%load_ext autoreload\n",
    "%matplotlib inline\n",
    "%autoreload 2\n",
    "%load_ext rpy2.ipython"
   ]
  },
  {
   "cell_type": "code",
   "execution_count": 4,
   "id": "f5b490f5",
   "metadata": {},
   "outputs": [],
   "source": [
    "def createDir(directory):\n",
    "    if not os.path.exists(directory):\n",
    "        print(\"Creating output directory: \" + directory)\n",
    "        os.makedirs(directory)"
   ]
  },
  {
   "cell_type": "markdown",
   "id": "b30eac97",
   "metadata": {},
   "source": [
    "# MV411 WT and MYB-dTAG cells co-cultured"
   ]
  },
  {
   "cell_type": "markdown",
   "id": "c13340d3",
   "metadata": {},
   "source": [
    "SLAMseq with WT and MYB-dTAG MV411 cells co-cultured\n",
    "<br>12h with drug + 1h 4sU with 0.5$\\mu$M VHL (with ERCC spike-in control)\n",
    "<br>__Processed without alt loci__"
   ]
  },
  {
   "cell_type": "code",
   "execution_count": 5,
   "id": "1a10249f",
   "metadata": {},
   "outputs": [],
   "source": [
    "project = \"MYB_degraded_coculture_v1\""
   ]
  },
  {
   "cell_type": "markdown",
   "id": "250dd450",
   "metadata": {},
   "source": [
    "## download the data"
   ]
  },
  {
   "cell_type": "code",
   "execution_count": 6,
   "id": "f09ae827",
   "metadata": {},
   "outputs": [],
   "source": [
    "location = \"../data/slamseq_\"+project+\"/\" # new data location\n",
    "loc = \"220526_MP10028_fastq\" # transfer AML folder"
   ]
  },
  {
   "cell_type": "code",
   "execution_count": 17,
   "id": "472ffc48",
   "metadata": {
    "collapsed": true
   },
   "outputs": [
    {
     "name": "stdout",
     "output_type": "stream",
     "text": [
      "mkdir: cannot create directory ‘../../data/slamseq_MYB_degron_coculture_v1/’: File exists\n",
      "mkdir: cannot create directory ‘../results/slamseq_MYB_degron_coculture_v1’: File exists\n",
      "mkdir: cannot create directory ‘../data/slamseq_MYB_degron_coculture_v1/’: File exists\n",
      "mkdir: cannot create directory ‘../../data/slamseq_MYB_degron_coculture_v1//fastqs/’: File exists\n"
     ]
    }
   ],
   "source": [
    "! mkdir ../$location\n",
    "! mkdir ../results/slamseq_$project\n",
    "! mkdir $location && mkdir $location/qc # make data dir in AMLproject\n",
    "! mkdir ../$location/fastqs/ # make dir in /home/monika/data/project/fastqs"
   ]
  },
  {
   "cell_type": "code",
   "execution_count": 19,
   "id": "6156ef3e",
   "metadata": {
    "collapsed": true
   },
   "outputs": [
    {
     "name": "stdout",
     "output_type": "stream",
     "text": [
      "gs://transfer-amlproject/220526_MP10028_fastq/20220526_10_MP10028_S34_R1_001.fastq.gz\r\n",
      "gs://transfer-amlproject/220526_MP10028_fastq/20220526_10_MP10028_S34_R2_001.fastq.gz\r\n",
      "gs://transfer-amlproject/220526_MP10028_fastq/20220526_11_MP10028_S35_R1_001.fastq.gz\r\n",
      "gs://transfer-amlproject/220526_MP10028_fastq/20220526_11_MP10028_S35_R2_001.fastq.gz\r\n",
      "gs://transfer-amlproject/220526_MP10028_fastq/20220526_12_MP10028_S36_R1_001.fastq.gz\r\n",
      "gs://transfer-amlproject/220526_MP10028_fastq/20220526_12_MP10028_S36_R2_001.fastq.gz\r\n",
      "gs://transfer-amlproject/220526_MP10028_fastq/20220526_13_MP10028_S37_R1_001.fastq.gz\r\n",
      "gs://transfer-amlproject/220526_MP10028_fastq/20220526_13_MP10028_S37_R2_001.fastq.gz\r\n",
      "gs://transfer-amlproject/220526_MP10028_fastq/20220526_15_MP10028_S38_R1_001.fastq.gz\r\n",
      "gs://transfer-amlproject/220526_MP10028_fastq/20220526_15_MP10028_S38_R2_001.fastq.gz\r\n",
      "gs://transfer-amlproject/220526_MP10028_fastq/20220526_16_MP10028_S39_R1_001.fastq.gz\r\n",
      "gs://transfer-amlproject/220526_MP10028_fastq/20220526_16_MP10028_S39_R2_001.fastq.gz\r\n",
      "gs://transfer-amlproject/220526_MP10028_fastq/20220526_17_MP10028_S40_R1_001.fastq.gz\r\n",
      "gs://transfer-amlproject/220526_MP10028_fastq/20220526_17_MP10028_S40_R2_001.fastq.gz\r\n",
      "gs://transfer-amlproject/220526_MP10028_fastq/20220526_18_MP10028_S41_R1_001.fastq.gz\r\n",
      "gs://transfer-amlproject/220526_MP10028_fastq/20220526_18_MP10028_S41_R2_001.fastq.gz\r\n",
      "gs://transfer-amlproject/220526_MP10028_fastq/20220526_19_MP10028_S42_R1_001.fastq.gz\r\n",
      "gs://transfer-amlproject/220526_MP10028_fastq/20220526_19_MP10028_S42_R2_001.fastq.gz\r\n",
      "gs://transfer-amlproject/220526_MP10028_fastq/20220526_1_MP10028_S25_R1_001.fastq.gz\r\n",
      "gs://transfer-amlproject/220526_MP10028_fastq/20220526_1_MP10028_S25_R2_001.fastq.gz\r\n",
      "gs://transfer-amlproject/220526_MP10028_fastq/20220526_20_MP10028_S43_R1_001.fastq.gz\r\n",
      "gs://transfer-amlproject/220526_MP10028_fastq/20220526_20_MP10028_S43_R2_001.fastq.gz\r\n",
      "gs://transfer-amlproject/220526_MP10028_fastq/20220526_2_MP10028_S26_R1_001.fastq.gz\r\n",
      "gs://transfer-amlproject/220526_MP10028_fastq/20220526_2_MP10028_S26_R2_001.fastq.gz\r\n",
      "gs://transfer-amlproject/220526_MP10028_fastq/20220526_3_MP10028_S27_R1_001.fastq.gz\r\n",
      "gs://transfer-amlproject/220526_MP10028_fastq/20220526_3_MP10028_S27_R2_001.fastq.gz\r\n",
      "gs://transfer-amlproject/220526_MP10028_fastq/20220526_4_MP10028_S28_R1_001.fastq.gz\r\n",
      "gs://transfer-amlproject/220526_MP10028_fastq/20220526_4_MP10028_S28_R2_001.fastq.gz\r\n",
      "gs://transfer-amlproject/220526_MP10028_fastq/20220526_5_MP10028_S29_R1_001.fastq.gz\r\n",
      "gs://transfer-amlproject/220526_MP10028_fastq/20220526_5_MP10028_S29_R2_001.fastq.gz\r\n",
      "gs://transfer-amlproject/220526_MP10028_fastq/20220526_6_MP10028_S30_R1_001.fastq.gz\r\n",
      "gs://transfer-amlproject/220526_MP10028_fastq/20220526_6_MP10028_S30_R2_001.fastq.gz\r\n",
      "gs://transfer-amlproject/220526_MP10028_fastq/20220526_7_MP10028_S31_R1_001.fastq.gz\r\n",
      "gs://transfer-amlproject/220526_MP10028_fastq/20220526_7_MP10028_S31_R2_001.fastq.gz\r\n",
      "gs://transfer-amlproject/220526_MP10028_fastq/20220526_8_MP10028_S32_R1_001.fastq.gz\r\n",
      "gs://transfer-amlproject/220526_MP10028_fastq/20220526_8_MP10028_S32_R2_001.fastq.gz\r\n",
      "gs://transfer-amlproject/220526_MP10028_fastq/20220526_9_MP10028_S33_R1_001.fastq.gz\r\n",
      "gs://transfer-amlproject/220526_MP10028_fastq/20220526_9_MP10028_S33_R2_001.fastq.gz\r\n"
     ]
    }
   ],
   "source": [
    "! gsutil ls gs://transfer-amlproject/$loc/*.fastq.gz"
   ]
  },
  {
   "cell_type": "code",
   "execution_count": 21,
   "id": "78b05228",
   "metadata": {
    "collapsed": true
   },
   "outputs": [
    {
     "name": "stdout",
     "output_type": "stream",
     "text": [
      "Copying gs://transfer-amlproject/220526_MP10028_fastq/multiqc_report.html...\n",
      "/ [1/1 files][  1.5 MiB/  1.5 MiB] 100% Done                                    \n",
      "Operation completed over 1 objects/1.5 MiB.                                      \n",
      "Copying gs://transfer-amlproject/220526_MP10028_fastq/Reports/20220526_10_MP10028_S34_R1_001_fastqc.html...\n",
      "Copying gs://transfer-amlproject/220526_MP10028_fastq/Reports/20220526_10_MP10028_S34_R1_001_fastqc.zip...\n",
      "Copying gs://transfer-amlproject/220526_MP10028_fastq/Reports/20220526_10_MP10028_S34_R2_001_fastqc.html...\n",
      "Copying gs://transfer-amlproject/220526_MP10028_fastq/Reports/20220526_10_MP10028_S34_R2_001_fastqc.zip...\n",
      "Copying gs://transfer-amlproject/220526_MP10028_fastq/Reports/20220526_11_MP10028_S35_R1_001_fastqc.html...\n",
      "Copying gs://transfer-amlproject/220526_MP10028_fastq/Reports/20220526_11_MP10028_S35_R1_001_fastqc.zip...\n",
      "Copying gs://transfer-amlproject/220526_MP10028_fastq/Reports/20220526_11_MP10028_S35_R2_001_fastqc.zip...\n",
      "Copying gs://transfer-amlproject/220526_MP10028_fastq/Reports/20220526_11_MP10028_S35_R2_001_fastqc.html...\n",
      "Copying gs://transfer-amlproject/220526_MP10028_fastq/Reports/20220526_12_MP10028_S36_R1_001_fastqc.html...\n",
      "Copying gs://transfer-amlproject/220526_MP10028_fastq/Reports/20220526_12_MP10028_S36_R2_001_fastqc.html...\n",
      "Copying gs://transfer-amlproject/220526_MP10028_fastq/Reports/20220526_12_MP10028_S36_R2_001_fastqc.zip...\n",
      "Copying gs://transfer-amlproject/220526_MP10028_fastq/Reports/20220526_13_MP10028_S37_R1_001_fastqc.html...\n",
      "Copying gs://transfer-amlproject/220526_MP10028_fastq/Reports/20220526_13_MP10028_S37_R1_001_fastqc.zip...\n",
      "Copying gs://transfer-amlproject/220526_MP10028_fastq/Reports/20220526_12_MP10028_S36_R1_001_fastqc.zip...\n",
      "Copying gs://transfer-amlproject/220526_MP10028_fastq/Reports/20220526_13_MP10028_S37_R2_001_fastqc.zip...\n",
      "Copying gs://transfer-amlproject/220526_MP10028_fastq/Reports/20220526_13_MP10028_S37_R2_001_fastqc.html...\n",
      "Copying gs://transfer-amlproject/220526_MP10028_fastq/Reports/20220526_15_MP10028_S38_R1_001_fastqc.html...\n",
      "Copying gs://transfer-amlproject/220526_MP10028_fastq/Reports/20220526_15_MP10028_S38_R1_001_fastqc.zip...\n",
      "Copying gs://transfer-amlproject/220526_MP10028_fastq/Reports/20220526_15_MP10028_S38_R2_001_fastqc.html...\n",
      "Copying gs://transfer-amlproject/220526_MP10028_fastq/Reports/20220526_16_MP10028_S39_R1_001_fastqc.html...\n",
      "Copying gs://transfer-amlproject/220526_MP10028_fastq/Reports/20220526_15_MP10028_S38_R2_001_fastqc.zip...\n",
      "Copying gs://transfer-amlproject/220526_MP10028_fastq/Reports/20220526_16_MP10028_S39_R1_001_fastqc.zip...\n",
      "Copying gs://transfer-amlproject/220526_MP10028_fastq/Reports/20220526_16_MP10028_S39_R2_001_fastqc.html...\n",
      "Copying gs://transfer-amlproject/220526_MP10028_fastq/Reports/20220526_16_MP10028_S39_R2_001_fastqc.zip...\n",
      "Copying gs://transfer-amlproject/220526_MP10028_fastq/Reports/20220526_17_MP10028_S40_R1_001_fastqc.html...\n",
      "Copying gs://transfer-amlproject/220526_MP10028_fastq/Reports/20220526_19_MP10028_S42_R2_001_fastqc.zip...\n",
      "Copying gs://transfer-amlproject/220526_MP10028_fastq/Reports/20220526_17_MP10028_S40_R1_001_fastqc.zip...\n",
      "Copying gs://transfer-amlproject/220526_MP10028_fastq/Reports/20220526_17_MP10028_S40_R2_001_fastqc.zip...\n",
      "Copying gs://transfer-amlproject/220526_MP10028_fastq/Reports/20220526_18_MP10028_S41_R2_001_fastqc.html...\n",
      "Copying gs://transfer-amlproject/220526_MP10028_fastq/Reports/20220526_18_MP10028_S41_R1_001_fastqc.zip...\n",
      "Copying gs://transfer-amlproject/220526_MP10028_fastq/Reports/20220526_18_MP10028_S41_R1_001_fastqc.html...\n",
      "Copying gs://transfer-amlproject/220526_MP10028_fastq/Reports/20220526_18_MP10028_S41_R2_001_fastqc.zip...\n",
      "Copying gs://transfer-amlproject/220526_MP10028_fastq/Reports/20220526_17_MP10028_S40_R2_001_fastqc.html...\n",
      "Copying gs://transfer-amlproject/220526_MP10028_fastq/Reports/20220526_19_MP10028_S42_R1_001_fastqc.html...\n",
      "Copying gs://transfer-amlproject/220526_MP10028_fastq/Reports/20220526_19_MP10028_S42_R1_001_fastqc.zip...\n",
      "Copying gs://transfer-amlproject/220526_MP10028_fastq/Reports/20220526_1_MP10028_S25_R1_001_fastqc.html...\n",
      "Copying gs://transfer-amlproject/220526_MP10028_fastq/Reports/20220526_19_MP10028_S42_R2_001_fastqc.html...\n",
      "Copying gs://transfer-amlproject/220526_MP10028_fastq/Reports/20220526_1_MP10028_S25_R1_001_fastqc.zip...\n",
      "Copying gs://transfer-amlproject/220526_MP10028_fastq/Reports/20220526_1_MP10028_S25_R2_001_fastqc.html...\n",
      "Copying gs://transfer-amlproject/220526_MP10028_fastq/Reports/20220526_1_MP10028_S25_R2_001_fastqc.zip...\n",
      "Copying gs://transfer-amlproject/220526_MP10028_fastq/Reports/20220526_20_MP10028_S43_R1_001_fastqc.html...\n",
      "Copying gs://transfer-amlproject/220526_MP10028_fastq/Reports/20220526_20_MP10028_S43_R1_001_fastqc.zip...\n",
      "Copying gs://transfer-amlproject/220526_MP10028_fastq/Reports/20220526_20_MP10028_S43_R2_001_fastqc.html...\n",
      "Copying gs://transfer-amlproject/220526_MP10028_fastq/Reports/20220526_20_MP10028_S43_R2_001_fastqc.zip...\n",
      "Copying gs://transfer-amlproject/220526_MP10028_fastq/Reports/20220526_2_MP10028_S26_R1_001_fastqc.html...\n",
      "Copying gs://transfer-amlproject/220526_MP10028_fastq/Reports/20220526_2_MP10028_S26_R1_001_fastqc.zip...\n",
      "Copying gs://transfer-amlproject/220526_MP10028_fastq/Reports/20220526_2_MP10028_S26_R2_001_fastqc.html...\n",
      "Copying gs://transfer-amlproject/220526_MP10028_fastq/Reports/20220526_2_MP10028_S26_R2_001_fastqc.zip...\n",
      "Copying gs://transfer-amlproject/220526_MP10028_fastq/Reports/20220526_3_MP10028_S27_R1_001_fastqc.html...\n",
      "Copying gs://transfer-amlproject/220526_MP10028_fastq/Reports/20220526_3_MP10028_S27_R1_001_fastqc.zip...\n",
      "Copying gs://transfer-amlproject/220526_MP10028_fastq/Reports/20220526_3_MP10028_S27_R2_001_fastqc.html...\n",
      "Copying gs://transfer-amlproject/220526_MP10028_fastq/Reports/20220526_3_MP10028_S27_R2_001_fastqc.zip...\n",
      "Copying gs://transfer-amlproject/220526_MP10028_fastq/Reports/20220526_4_MP10028_S28_R1_001_fastqc.html...\n",
      "Copying gs://transfer-amlproject/220526_MP10028_fastq/Reports/20220526_4_MP10028_S28_R1_001_fastqc.zip...\n",
      "Copying gs://transfer-amlproject/220526_MP10028_fastq/Reports/20220526_4_MP10028_S28_R2_001_fastqc.html...\n",
      "Copying gs://transfer-amlproject/220526_MP10028_fastq/Reports/20220526_4_MP10028_S28_R2_001_fastqc.zip...\n",
      "Copying gs://transfer-amlproject/220526_MP10028_fastq/Reports/20220526_5_MP10028_S29_R1_001_fastqc.html...\n",
      "Copying gs://transfer-amlproject/220526_MP10028_fastq/Reports/20220526_5_MP10028_S29_R1_001_fastqc.zip...\n",
      "Copying gs://transfer-amlproject/220526_MP10028_fastq/Reports/20220526_5_MP10028_S29_R2_001_fastqc.html...\n",
      "Copying gs://transfer-amlproject/220526_MP10028_fastq/Reports/20220526_6_MP10028_S30_R1_001_fastqc.html...\n",
      "Copying gs://transfer-amlproject/220526_MP10028_fastq/Reports/20220526_5_MP10028_S29_R2_001_fastqc.zip...\n",
      "Copying gs://transfer-amlproject/220526_MP10028_fastq/Reports/20220526_6_MP10028_S30_R1_001_fastqc.zip...\n",
      "Copying gs://transfer-amlproject/220526_MP10028_fastq/Reports/20220526_7_MP10028_S31_R1_001_fastqc.html...\n",
      "Copying gs://transfer-amlproject/220526_MP10028_fastq/Reports/20220526_6_MP10028_S30_R2_001_fastqc.html...\n",
      "Copying gs://transfer-amlproject/220526_MP10028_fastq/Reports/20220526_6_MP10028_S30_R2_001_fastqc.zip...\n",
      "Copying gs://transfer-amlproject/220526_MP10028_fastq/Reports/20220526_7_MP10028_S31_R1_001_fastqc.zip...\n",
      "Copying gs://transfer-amlproject/220526_MP10028_fastq/Reports/20220526_7_MP10028_S31_R2_001_fastqc.zip...\n",
      "Copying gs://transfer-amlproject/220526_MP10028_fastq/Reports/20220526_8_MP10028_S32_R1_001_fastqc.html...\n",
      "Copying gs://transfer-amlproject/220526_MP10028_fastq/Reports/20220526_7_MP10028_S31_R2_001_fastqc.html...\n",
      "Copying gs://transfer-amlproject/220526_MP10028_fastq/Reports/20220526_8_MP10028_S32_R1_001_fastqc.zip...\n",
      "Copying gs://transfer-amlproject/220526_MP10028_fastq/Reports/20220526_8_MP10028_S32_R2_001_fastqc.html...\n",
      "Copying gs://transfer-amlproject/220526_MP10028_fastq/Reports/20220526_8_MP10028_S32_R2_001_fastqc.zip...\n",
      "Copying gs://transfer-amlproject/220526_MP10028_fastq/Reports/20220526_9_MP10028_S33_R2_001_fastqc.html...\n",
      "Copying gs://transfer-amlproject/220526_MP10028_fastq/Reports/20220526_9_MP10028_S33_R1_001_fastqc.zip...\n",
      "Copying gs://transfer-amlproject/220526_MP10028_fastq/Reports/20220526_9_MP10028_S33_R1_001_fastqc.html...\n",
      "Copying gs://transfer-amlproject/220526_MP10028_fastq/Reports/20220526_9_MP10028_S33_R2_001_fastqc.zip...\n"
     ]
    },
    {
     "name": "stdout",
     "output_type": "stream",
     "text": [
      "- [76/76 files][ 35.3 MiB/ 35.3 MiB] 100% Done                                  \n",
      "Operation completed over 76 objects/35.3 MiB.                                    \n",
      "Copying gs://transfer-amlproject/220526_MP10028_fastq/multiqc_data/multiqc.log...\n",
      "Copying gs://transfer-amlproject/220526_MP10028_fastq/multiqc_data/multiqc_data.json...\n",
      "Copying gs://transfer-amlproject/220526_MP10028_fastq/multiqc_data/multiqc_fastqc.txt...\n",
      "Copying gs://transfer-amlproject/220526_MP10028_fastq/multiqc_data/multiqc_general_stats.txt...\n",
      "Copying gs://transfer-amlproject/220526_MP10028_fastq/multiqc_data/multiqc_qualimap_bamqc_genome_results.txt...\n",
      "Copying gs://transfer-amlproject/220526_MP10028_fastq/multiqc_data/multiqc_sources.txt...\n",
      "/ [6/6 files][  2.3 MiB/  2.3 MiB] 100% Done                                    \n",
      "Operation completed over 6 objects/2.3 MiB.                                      \n"
     ]
    }
   ],
   "source": [
    "# transfer qc files\n",
    "! gsutil -m cp gs://transfer-amlproject/$loc/multiqc_report.html $location/qc/\n",
    "! gsutil -m cp -r gs://transfer-amlproject/$loc/Reports/ $location/qc/\n",
    "! gsutil -m cp -r gs://transfer-amlproject/$loc/multiqc_data/ $location/qc/"
   ]
  },
  {
   "cell_type": "code",
   "execution_count": 22,
   "id": "ed434e34",
   "metadata": {},
   "outputs": [],
   "source": [
    "! cp $location/qc/multiqc_report.html ../results/slamseq_$project"
   ]
  },
  {
   "cell_type": "code",
   "execution_count": 23,
   "id": "fd9a8df6",
   "metadata": {},
   "outputs": [],
   "source": [
    "fastqs = ! gsutil ls gs://transfer-amlproject/$loc/*.gz"
   ]
  },
  {
   "cell_type": "markdown",
   "id": "fbbd665e",
   "metadata": {},
   "source": [
    "add sample names to AML sample tracker google sheet (RNA_tracker_JK)"
   ]
  },
  {
   "cell_type": "markdown",
   "id": "0840f6bd",
   "metadata": {},
   "source": [
    "missing file: __20220526_14_MP10028__ failed initial QC"
   ]
  },
  {
   "cell_type": "code",
   "execution_count": 26,
   "id": "5c34dd61",
   "metadata": {
    "collapsed": true
   },
   "outputs": [
    {
     "name": "stdout",
     "output_type": "stream",
     "text": [
      "38\n",
      "20220526_1_MP10028_S25\n",
      "20220526_2_MP10028_S26\n",
      "20220526_3_MP10028_S27\n",
      "20220526_4_MP10028_S28\n",
      "20220526_5_MP10028_S29\n",
      "20220526_6_MP10028_S30\n",
      "20220526_7_MP10028_S31\n",
      "20220526_8_MP10028_S32\n",
      "20220526_9_MP10028_S33\n",
      "20220526_10_MP10028_S34\n",
      "20220526_11_MP10028_S35\n",
      "20220526_12_MP10028_S36\n",
      "20220526_13_MP10028_S37\n",
      "20220526_15_MP10028_S38\n",
      "20220526_16_MP10028_S39\n",
      "20220526_17_MP10028_S40\n",
      "20220526_18_MP10028_S41\n",
      "20220526_19_MP10028_S42\n",
      "20220526_20_MP10028_S43\n"
     ]
    }
   ],
   "source": [
    "fastqs = [fastq.split(\"/\")[-1] for fastq in os_sorted(fastqs)]\n",
    "print(len(fastqs))\n",
    "# add sample names to AML sample tracker google sheet\n",
    "for val1, val2 in h.grouped(fastqs, 2):\n",
    "    print(val1.split(\"_R\")[0])"
   ]
  },
  {
   "cell_type": "code",
   "execution_count": 30,
   "id": "bb32d9c4",
   "metadata": {
    "collapsed": true
   },
   "outputs": [
    {
     "name": "stdout",
     "output_type": "stream",
     "text": [
      "Copying gs://transfer-amlproject/220526_MP10028_fastq/20220526_11_MP10028_S35_R1_001.fastq.gz...\n",
      "Copying gs://transfer-amlproject/220526_MP10028_fastq/20220526_8_MP10028_S32_R1_001.fastq.gz...\n",
      "Copying gs://transfer-amlproject/220526_MP10028_fastq/20220526_2_MP10028_S26_R2_001.fastq.gz...\n",
      "Copying gs://transfer-amlproject/220526_MP10028_fastq/20220526_17_MP10028_S40_R2_001.fastq.gz...\n",
      "Copying gs://transfer-amlproject/220526_MP10028_fastq/20220526_1_MP10028_S25_R1_001.fastq.gz...\n",
      "Copying gs://transfer-amlproject/220526_MP10028_fastq/20220526_6_MP10028_S30_R2_001.fastq.gz...\n",
      "Copying gs://transfer-amlproject/220526_MP10028_fastq/20220526_11_MP10028_S35_R2_001.fastq.gz...\n",
      "Copying gs://transfer-amlproject/220526_MP10028_fastq/20220526_5_MP10028_S29_R1_001.fastq.gz...\n",
      "Copying gs://transfer-amlproject/220526_MP10028_fastq/20220526_17_MP10028_S40_R1_001.fastq.gz...\n",
      "Copying gs://transfer-amlproject/220526_MP10028_fastq/20220526_15_MP10028_S38_R1_001.fastq.gz...\n",
      "Copying gs://transfer-amlproject/220526_MP10028_fastq/20220526_4_MP10028_S28_R2_001.fastq.gz...\n",
      "Copying gs://transfer-amlproject/220526_MP10028_fastq/20220526_6_MP10028_S30_R1_001.fastq.gz...\n",
      "Copying gs://transfer-amlproject/220526_MP10028_fastq/20220526_5_MP10028_S29_R2_001.fastq.gz...\n",
      "Copying gs://transfer-amlproject/220526_MP10028_fastq/20220526_10_MP10028_S34_R2_001.fastq.gz...\n",
      "Copying gs://transfer-amlproject/220526_MP10028_fastq/20220526_12_MP10028_S36_R2_001.fastq.gz...\n",
      "Copying gs://transfer-amlproject/220526_MP10028_fastq/20220526_3_MP10028_S27_R2_001.fastq.gz...\n",
      "Copying gs://transfer-amlproject/220526_MP10028_fastq/20220526_16_MP10028_S39_R1_001.fastq.gz...\n",
      "Copying gs://transfer-amlproject/220526_MP10028_fastq/20220526_20_MP10028_S43_R2_001.fastq.gz...\n",
      "Copying gs://transfer-amlproject/220526_MP10028_fastq/20220526_4_MP10028_S28_R1_001.fastq.gz...\n",
      "Copying gs://transfer-amlproject/220526_MP10028_fastq/20220526_18_MP10028_S41_R1_001.fastq.gz...\n",
      "Copying gs://transfer-amlproject/220526_MP10028_fastq/20220526_3_MP10028_S27_R1_001.fastq.gz...\n",
      "Copying gs://transfer-amlproject/220526_MP10028_fastq/20220526_13_MP10028_S37_R1_001.fastq.gz...\n",
      "Copying gs://transfer-amlproject/220526_MP10028_fastq/20220526_7_MP10028_S31_R2_001.fastq.gz...\n",
      "Copying gs://transfer-amlproject/220526_MP10028_fastq/20220526_20_MP10028_S43_R1_001.fastq.gz...\n",
      "Copying gs://transfer-amlproject/220526_MP10028_fastq/20220526_9_MP10028_S33_R1_001.fastq.gz...\n",
      "Copying gs://transfer-amlproject/220526_MP10028_fastq/20220526_16_MP10028_S39_R2_001.fastq.gz...\n",
      "Copying gs://transfer-amlproject/220526_MP10028_fastq/20220526_15_MP10028_S38_R2_001.fastq.gz...\n",
      "Copying gs://transfer-amlproject/220526_MP10028_fastq/20220526_8_MP10028_S32_R2_001.fastq.gz...\n",
      "Copying gs://transfer-amlproject/220526_MP10028_fastq/20220526_12_MP10028_S36_R1_001.fastq.gz...\n",
      "Copying gs://transfer-amlproject/220526_MP10028_fastq/20220526_10_MP10028_S34_R1_001.fastq.gz...\n",
      "Copying gs://transfer-amlproject/220526_MP10028_fastq/20220526_7_MP10028_S31_R1_001.fastq.gz...\n",
      "Copying gs://transfer-amlproject/220526_MP10028_fastq/20220526_9_MP10028_S33_R2_001.fastq.gz...\n",
      "Copying gs://transfer-amlproject/220526_MP10028_fastq/20220526_2_MP10028_S26_R1_001.fastq.gz...\n",
      "Copying gs://transfer-amlproject/220526_MP10028_fastq/20220526_13_MP10028_S37_R2_001.fastq.gz...\n",
      "Copying gs://transfer-amlproject/220526_MP10028_fastq/20220526_19_MP10028_S42_R2_001.fastq.gz...\n",
      "Copying gs://transfer-amlproject/220526_MP10028_fastq/20220526_18_MP10028_S41_R2_001.fastq.gz...\n",
      "Copying gs://transfer-amlproject/220526_MP10028_fastq/20220526_19_MP10028_S42_R1_001.fastq.gz...\n",
      "Copying gs://transfer-amlproject/220526_MP10028_fastq/20220526_1_MP10028_S25_R2_001.fastq.gz...\n",
      "| [38/38 files][185.9 GiB/185.9 GiB] 100% Done  15.7 MiB/s ETA 00:00:00         \n",
      "Operation completed over 38 objects/185.9 GiB.                                   \n"
     ]
    }
   ],
   "source": [
    "# transfer fastqs\n",
    "! gsutil -m cp gs://transfer-amlproject/$loc/*.fastq.gz ../$location/fastqs/"
   ]
  },
  {
   "cell_type": "markdown",
   "id": "77d3cc78",
   "metadata": {},
   "source": [
    "## rename local fastqs"
   ]
  },
  {
   "cell_type": "code",
   "execution_count": 45,
   "id": "b18af006",
   "metadata": {
    "collapsed": true
   },
   "outputs": [
    {
     "name": "stdout",
     "output_type": "stream",
     "text": [
      "../../data/slamseq_MYB_degraded_coculture_v1/fastqs\n"
     ]
    },
    {
     "data": {
      "text/plain": [
       "['mr571-MV411-DMSO_coculture_12h-r1_R1_001.fastq.gz',\n",
       " 'mr571-MV411-DMSO_coculture_12h-r1_R2_001.fastq.gz',\n",
       " 'mr572-MV411-DMSO_coculture_12h-r2_R1_001.fastq.gz',\n",
       " 'mr572-MV411-DMSO_coculture_12h-r2_R2_001.fastq.gz',\n",
       " 'mr573-MV411-DMSO_coculture_12h-r3_R1_001.fastq.gz',\n",
       " 'mr573-MV411-DMSO_coculture_12h-r3_R2_001.fastq.gz',\n",
       " 'mr574-MV411-DMSO_coculture_12h-r4_R1_001.fastq.gz',\n",
       " 'mr574-MV411-DMSO_coculture_12h-r4_R2_001.fastq.gz',\n",
       " 'mr575-MV411-DMSO_coculture_12h-r5_R1_001.fastq.gz',\n",
       " 'mr575-MV411-DMSO_coculture_12h-r5_R2_001.fastq.gz',\n",
       " 'mr576-MV411-VHL_coculture_12h-r1_R1_001.fastq.gz',\n",
       " 'mr576-MV411-VHL_coculture_12h-r1_R2_001.fastq.gz',\n",
       " 'mr577-MV411-VHL_coculture_12h-r2_R1_001.fastq.gz',\n",
       " 'mr577-MV411-VHL_coculture_12h-r2_R2_001.fastq.gz',\n",
       " 'mr578-MV411-VHL_coculture_12h-r3_R1_001.fastq.gz',\n",
       " 'mr578-MV411-VHL_coculture_12h-r3_R2_001.fastq.gz',\n",
       " 'mr579-MV411-VHL_coculture_12h-r4_R1_001.fastq.gz',\n",
       " 'mr579-MV411-VHL_coculture_12h-r4_R2_001.fastq.gz',\n",
       " 'mr580-MV411-VHL_coculture_12h-r5_R1_001.fastq.gz',\n",
       " 'mr580-MV411-VHL_coculture_12h-r5_R2_001.fastq.gz',\n",
       " 'mr581-MV411-MYB-dTAG-DMSO_coculture_12h-r1_R1_001.fastq.gz',\n",
       " 'mr581-MV411-MYB-dTAG-DMSO_coculture_12h-r1_R2_001.fastq.gz',\n",
       " 'mr582-MV411-MYB-dTAG-DMSO_coculture_12h-r2_R1_001.fastq.gz',\n",
       " 'mr582-MV411-MYB-dTAG-DMSO_coculture_12h-r2_R2_001.fastq.gz',\n",
       " 'mr583-MV411-MYB-dTAG-DMSO_coculture_12h-r3_R1_001.fastq.gz',\n",
       " 'mr583-MV411-MYB-dTAG-DMSO_coculture_12h-r3_R2_001.fastq.gz',\n",
       " 'mr584-MV411-MYB-dTAG-DMSO_coculture_12h-r4_R1_001.fastq.gz',\n",
       " 'mr584-MV411-MYB-dTAG-DMSO_coculture_12h-r4_R2_001.fastq.gz',\n",
       " 'mr585-MV411-MYB-dTAG-VHL_coculture_12h-r1_R1_001.fastq.gz',\n",
       " 'mr585-MV411-MYB-dTAG-VHL_coculture_12h-r1_R2_001.fastq.gz',\n",
       " 'mr586-MV411-MYB-dTAG-VHL_coculture_12h-r2_R1_001.fastq.gz',\n",
       " 'mr586-MV411-MYB-dTAG-VHL_coculture_12h-r2_R2_001.fastq.gz',\n",
       " 'mr587-MV411-MYB-dTAG-VHL_coculture_12h-r3_R1_001.fastq.gz',\n",
       " 'mr587-MV411-MYB-dTAG-VHL_coculture_12h-r3_R2_001.fastq.gz',\n",
       " 'mr588-MV411-MYB-dTAG-VHL_coculture_12h-r4_R1_001.fastq.gz',\n",
       " 'mr588-MV411-MYB-dTAG-VHL_coculture_12h-r4_R2_001.fastq.gz',\n",
       " 'mr589-MV411-MYB-dTAG-VHL_coculture_12h-r5_R1_001.fastq.gz',\n",
       " 'mr589-MV411-MYB-dTAG-VHL_coculture_12h-r5_R2_001.fastq.gz']"
      ]
     },
     "execution_count": 45,
     "metadata": {},
     "output_type": "execute_result"
    }
   ],
   "source": [
    "fastq_folder = \"../\"+location+\"fastqs\"\n",
    "print(fastq_folder)\n",
    "fastqs = ! ls $fastq_folder\n",
    "fastqs = os_sorted(fastqs)\n",
    "fastqs"
   ]
  },
  {
   "cell_type": "code",
   "execution_count": 34,
   "id": "8a16398f",
   "metadata": {
    "collapsed": true
   },
   "outputs": [
    {
     "data": {
      "text/plain": [
       "['20220526_1_MP10028_S25_R1_001.fastq.gz',\n",
       " '20220526_2_MP10028_S26_R1_001.fastq.gz',\n",
       " '20220526_3_MP10028_S27_R1_001.fastq.gz',\n",
       " '20220526_4_MP10028_S28_R1_001.fastq.gz',\n",
       " '20220526_5_MP10028_S29_R1_001.fastq.gz',\n",
       " '20220526_6_MP10028_S30_R1_001.fastq.gz',\n",
       " '20220526_7_MP10028_S31_R1_001.fastq.gz',\n",
       " '20220526_8_MP10028_S32_R1_001.fastq.gz',\n",
       " '20220526_9_MP10028_S33_R1_001.fastq.gz',\n",
       " '20220526_10_MP10028_S34_R1_001.fastq.gz',\n",
       " '20220526_11_MP10028_S35_R1_001.fastq.gz',\n",
       " '20220526_12_MP10028_S36_R1_001.fastq.gz',\n",
       " '20220526_13_MP10028_S37_R1_001.fastq.gz',\n",
       " '20220526_15_MP10028_S38_R1_001.fastq.gz',\n",
       " '20220526_16_MP10028_S39_R1_001.fastq.gz',\n",
       " '20220526_17_MP10028_S40_R1_001.fastq.gz',\n",
       " '20220526_18_MP10028_S41_R1_001.fastq.gz',\n",
       " '20220526_19_MP10028_S42_R1_001.fastq.gz',\n",
       " '20220526_20_MP10028_S43_R1_001.fastq.gz']"
      ]
     },
     "execution_count": 34,
     "metadata": {},
     "output_type": "execute_result"
    }
   ],
   "source": [
    "fastqs[::2]"
   ]
  },
  {
   "cell_type": "code",
   "execution_count": 35,
   "id": "5e065fff",
   "metadata": {},
   "outputs": [],
   "source": [
    "from gsheets import Sheets\n",
    "sheets = Sheets.from_files('~/.client_secret_web.json', '~/.storage.json')\n",
    "url = \"https://docs.google.com/spreadsheets/d/1yFLjYB1McU530JnLgL0QIMAKIkVl3kl0_LCHje2gk8U/edit?ts=5fab1071#gid=738732237\"\n",
    "gsheet = sheets.get(url).sheets[12].to_frame()"
   ]
  },
  {
   "cell_type": "code",
   "execution_count": 38,
   "id": "2c4db112",
   "metadata": {},
   "outputs": [
    {
     "name": "stdout",
     "output_type": "stream",
     "text": [
      "(19, 2)\n"
     ]
    }
   ],
   "source": [
    "# get new sample names from AML sample tracker - RNA_tracker_JK\n",
    "idx = gsheet.index[gsheet['batch'] == project] # get first row with project number\n",
    "sample_info = gsheet.loc[idx[0]:, [\"prev_name\", \"name\"]]\n",
    "sample_info = sample_info.iloc[:int(len(fastqs)/2),]\n",
    "print(sample_info.shape)"
   ]
  },
  {
   "cell_type": "code",
   "execution_count": 40,
   "id": "938dd527",
   "metadata": {},
   "outputs": [],
   "source": [
    "# make dict with names\n",
    "rename = dict(zip(sample_info.prev_name, sample_info.name))\n",
    "\n",
    "# rename fastqs locally\n",
    "for val in fastqs:\n",
    "    rep  = val\n",
    "    for old, new in rename.items():\n",
    "        rep = rep.replace(old, new)\n",
    "    if rep != val:\n",
    "        ! mv $fastq_folder/$val $fastq_folder/$rep"
   ]
  },
  {
   "cell_type": "markdown",
   "id": "5ab8334a",
   "metadata": {},
   "source": [
    "# Processing"
   ]
  },
  {
   "cell_type": "code",
   "execution_count": 43,
   "id": "c29edd79",
   "metadata": {},
   "outputs": [
    {
     "data": {
      "text/plain": [
       "'MYB_degraded_coculture_v1'"
      ]
     },
     "execution_count": 43,
     "metadata": {},
     "output_type": "execute_result"
    }
   ],
   "source": [
    "project"
   ]
  },
  {
   "cell_type": "code",
   "execution_count": 46,
   "id": "73b8ab5b",
   "metadata": {
    "collapsed": true
   },
   "outputs": [
    {
     "data": {
      "text/plain": [
       "['../../data/slamseq_MYB_degraded_coculture_v1/fastqs/mr571-MV411-DMSO_coculture_12h-r1_R1_001.fastq.gz',\n",
       " '../../data/slamseq_MYB_degraded_coculture_v1/fastqs/mr572-MV411-DMSO_coculture_12h-r2_R1_001.fastq.gz',\n",
       " '../../data/slamseq_MYB_degraded_coculture_v1/fastqs/mr573-MV411-DMSO_coculture_12h-r3_R1_001.fastq.gz',\n",
       " '../../data/slamseq_MYB_degraded_coculture_v1/fastqs/mr574-MV411-DMSO_coculture_12h-r4_R1_001.fastq.gz',\n",
       " '../../data/slamseq_MYB_degraded_coculture_v1/fastqs/mr575-MV411-DMSO_coculture_12h-r5_R1_001.fastq.gz',\n",
       " '../../data/slamseq_MYB_degraded_coculture_v1/fastqs/mr576-MV411-VHL_coculture_12h-r1_R1_001.fastq.gz',\n",
       " '../../data/slamseq_MYB_degraded_coculture_v1/fastqs/mr577-MV411-VHL_coculture_12h-r2_R1_001.fastq.gz',\n",
       " '../../data/slamseq_MYB_degraded_coculture_v1/fastqs/mr578-MV411-VHL_coculture_12h-r3_R1_001.fastq.gz',\n",
       " '../../data/slamseq_MYB_degraded_coculture_v1/fastqs/mr579-MV411-VHL_coculture_12h-r4_R1_001.fastq.gz',\n",
       " '../../data/slamseq_MYB_degraded_coculture_v1/fastqs/mr580-MV411-VHL_coculture_12h-r5_R1_001.fastq.gz',\n",
       " '../../data/slamseq_MYB_degraded_coculture_v1/fastqs/mr581-MV411-MYB-dTAG-DMSO_coculture_12h-r1_R1_001.fastq.gz',\n",
       " '../../data/slamseq_MYB_degraded_coculture_v1/fastqs/mr582-MV411-MYB-dTAG-DMSO_coculture_12h-r2_R1_001.fastq.gz',\n",
       " '../../data/slamseq_MYB_degraded_coculture_v1/fastqs/mr583-MV411-MYB-dTAG-DMSO_coculture_12h-r3_R1_001.fastq.gz',\n",
       " '../../data/slamseq_MYB_degraded_coculture_v1/fastqs/mr584-MV411-MYB-dTAG-DMSO_coculture_12h-r4_R1_001.fastq.gz',\n",
       " '../../data/slamseq_MYB_degraded_coculture_v1/fastqs/mr585-MV411-MYB-dTAG-VHL_coculture_12h-r1_R1_001.fastq.gz',\n",
       " '../../data/slamseq_MYB_degraded_coculture_v1/fastqs/mr586-MV411-MYB-dTAG-VHL_coculture_12h-r2_R1_001.fastq.gz',\n",
       " '../../data/slamseq_MYB_degraded_coculture_v1/fastqs/mr587-MV411-MYB-dTAG-VHL_coculture_12h-r3_R1_001.fastq.gz',\n",
       " '../../data/slamseq_MYB_degraded_coculture_v1/fastqs/mr588-MV411-MYB-dTAG-VHL_coculture_12h-r4_R1_001.fastq.gz',\n",
       " '../../data/slamseq_MYB_degraded_coculture_v1/fastqs/mr589-MV411-MYB-dTAG-VHL_coculture_12h-r5_R1_001.fastq.gz']"
      ]
     },
     "execution_count": 46,
     "metadata": {},
     "output_type": "execute_result"
    }
   ],
   "source": [
    "fastqs = ! ls $fastq_folder/*fastq.gz\n",
    "fastqs[::2]"
   ]
  },
  {
   "cell_type": "markdown",
   "id": "d7dd9e5e",
   "metadata": {},
   "source": [
    "## trim_galore"
   ]
  },
  {
   "cell_type": "code",
   "execution_count": 49,
   "id": "a20a1d20",
   "metadata": {
    "collapsed": true
   },
   "outputs": [
    {
     "name": "stdout",
     "output_type": "stream",
     "text": [
      "mr571-MV411-DMSO_coculture_12h-r1_R1_001.fastq.gz\n",
      "mr572-MV411-DMSO_coculture_12h-r2_R1_001.fastq.gz\n",
      "mr573-MV411-DMSO_coculture_12h-r3_R1_001.fastq.gz\n",
      "mr574-MV411-DMSO_coculture_12h-r4_R1_001.fastq.gz\n",
      "mr575-MV411-DMSO_coculture_12h-r5_R1_001.fastq.gz\n",
      "mr576-MV411-VHL_coculture_12h-r1_R1_001.fastq.gz\n",
      "mr577-MV411-VHL_coculture_12h-r2_R1_001.fastq.gz\n",
      "mr578-MV411-VHL_coculture_12h-r3_R1_001.fastq.gz\n",
      "mr579-MV411-VHL_coculture_12h-r4_R1_001.fastq.gz\n",
      "mr580-MV411-VHL_coculture_12h-r5_R1_001.fastq.gz\n",
      "mr581-MV411-MYB-dTAG-DMSO_coculture_12h-r1_R1_001.fastq.gz\n",
      "mr582-MV411-MYB-dTAG-DMSO_coculture_12h-r2_R1_001.fastq.gz\n",
      "mr583-MV411-MYB-dTAG-DMSO_coculture_12h-r3_R1_001.fastq.gz\n",
      "mr584-MV411-MYB-dTAG-DMSO_coculture_12h-r4_R1_001.fastq.gz\n",
      "mr585-MV411-MYB-dTAG-VHL_coculture_12h-r1_R1_001.fastq.gz\n",
      "mr586-MV411-MYB-dTAG-VHL_coculture_12h-r2_R1_001.fastq.gz\n",
      "mr587-MV411-MYB-dTAG-VHL_coculture_12h-r3_R1_001.fastq.gz\n",
      "mr588-MV411-MYB-dTAG-VHL_coculture_12h-r4_R1_001.fastq.gz\n",
      "mr589-MV411-MYB-dTAG-VHL_coculture_12h-r5_R1_001.fastq.gz\n"
     ]
    }
   ],
   "source": [
    "for val1, val2 in h.grouped(fastqs, 2):\n",
    "    print(os.path.basename(val1))"
   ]
  },
  {
   "cell_type": "code",
   "execution_count": 50,
   "id": "29448ebd",
   "metadata": {
    "collapsed": true
   },
   "outputs": [
    {
     "name": "stdout",
     "output_type": "stream",
     "text": [
      "CPU times: user 816 ms, sys: 364 ms, total: 1.18 s\n",
      "Wall time: 9h 21min 16s\n"
     ]
    },
    {
     "data": {
      "text/plain": [
       "['pigz 2.6\\npigz 2.6\\n',\n",
       " 'pigz 2.6\\npigz 2.6\\n',\n",
       " 'pigz 2.6\\npigz 2.6\\n',\n",
       " 'pigz 2.6\\npigz 2.6\\n',\n",
       " 'pigz 2.6\\npigz 2.6\\n',\n",
       " 'pigz 2.6\\npigz 2.6\\n',\n",
       " 'pigz 2.6\\npigz 2.6\\n',\n",
       " 'pigz 2.6\\npigz 2.6\\n',\n",
       " 'pigz 2.6\\npigz 2.6\\n',\n",
       " 'pigz 2.6\\n']"
      ]
     },
     "execution_count": 50,
     "metadata": {},
     "output_type": "execute_result"
    }
   ],
   "source": [
    "%%time\n",
    "h.parrun(['trim_galore --paired --cores 8 --retain_unpaired -stringency 3\\\n",
    " --illumina '+val1+' '+val2+' -o '+fastq_folder for val1, val2 in h.grouped(fastqs, 2)], 2)"
   ]
  },
  {
   "cell_type": "markdown",
   "id": "2d989949",
   "metadata": {},
   "source": [
    "## slamdunk"
   ]
  },
  {
   "cell_type": "markdown",
   "id": "f62527b2",
   "metadata": {},
   "source": [
    "install slamdunk & dependencies if needed (see above)"
   ]
  },
  {
   "cell_type": "code",
   "execution_count": 51,
   "id": "7441cfb0",
   "metadata": {},
   "outputs": [],
   "source": [
    "# install slamdunk\n",
    "#! pip3 install git+https://github.com/jkobject/slamdunk.git --upgrade"
   ]
  },
  {
   "cell_type": "code",
   "execution_count": 52,
   "id": "e7033e03",
   "metadata": {},
   "outputs": [],
   "source": [
    "# please also install cutadapt, fastqc, and trimgalore\n",
    "#! conda install -c bioconda cutadapt\n",
    "#! conda install -c bioconda fastqc\n",
    "#! conda install -c bioconda trim-galore"
   ]
  },
  {
   "cell_type": "markdown",
   "id": "2c54a44b",
   "metadata": {},
   "source": [
    "download reference genome files"
   ]
  },
  {
   "cell_type": "code",
   "execution_count": 53,
   "id": "96bb5b2b",
   "metadata": {},
   "outputs": [],
   "source": [
    "# google storage bucket with reference files\n",
    "#! gsutil ls gs://ccle_default_params\n",
    "\n",
    "# copy reference genome files\n",
    "#! gsutil -m cp gs://ccle_default_params/Homo_sapiens_assembly38* ../../ref/\n",
    "\n",
    "# copy reference genome files\n",
    "#! cp ../data/Muhar_Slamseq/{ERCC92.fa,ERCC92.gtf,GSE100708_hg38_refseq_062016_ensemblv84_3UTR.bed} ../../ref"
   ]
  },
  {
   "cell_type": "code",
   "execution_count": 7,
   "id": "c33be639",
   "metadata": {},
   "outputs": [],
   "source": [
    "# using an ERCC ref genome (you can just append ERCC fasta to the hg38 fasta)\n",
    "refgenome_noAlt=\"../../ref/Homo_sapiens_assembly38_ERCC92_noAlt.fasta\""
   ]
  },
  {
   "cell_type": "code",
   "execution_count": 8,
   "id": "60391798",
   "metadata": {},
   "outputs": [],
   "source": [
    "# gene intervals bed (use for all projects)\n",
    "gene_intervals = \"../../ref/GSE100708_hg38_refseq_062016_ensemblv84_3UTR.bed\""
   ]
  },
  {
   "cell_type": "markdown",
   "id": "555911f7",
   "metadata": {},
   "source": [
    "res = slamdunk all w/ (-fb, -m, -n 1, -rl 152, -r Homo_sapiens_assembly38_ERCC92_noAlt.fasta)"
   ]
  },
  {
   "cell_type": "markdown",
   "id": "89f7b4c1",
   "metadata": {},
   "source": [
    "Read length note!\n",
    "<br>Difference between min and max read length is > 100bp\n",
    "<br>Average read length 127 (min: 8, max: 152)"
   ]
  },
  {
   "cell_type": "code",
   "execution_count": 9,
   "id": "20a790c8",
   "metadata": {},
   "outputs": [],
   "source": [
    "fastq_folder = \"../../data/\"+\"slamseq_\"+project+\"/fastqs\"\n",
    "fastqs = ! ls $fastq_folder\n",
    "fastqs = [fastq for fastq in fastqs if \"val\" in fastq]\n",
    "fastq_full = [fastq_folder+\"/\"+f for f in fastqs]"
   ]
  },
  {
   "cell_type": "code",
   "execution_count": 10,
   "id": "3a137dc8",
   "metadata": {},
   "outputs": [
    {
     "data": {
      "text/plain": [
       "'../../data/slamseq_MYB_degraded_coculture_v1/res'"
      ]
     },
     "execution_count": 10,
     "metadata": {},
     "output_type": "execute_result"
    }
   ],
   "source": [
    "res_dir = \"../../data/\"+\"slamseq_\"+project+\"/res\"\n",
    "res_dir"
   ]
  },
  {
   "cell_type": "code",
   "execution_count": 11,
   "id": "ec123500",
   "metadata": {},
   "outputs": [
    {
     "name": "stdout",
     "output_type": "stream",
     "text": [
      "['slamdunk all -o ../../data/slamseq_MYB_degraded_coculture_v1/res -r ../../ref/Homo_sapiens_assembly38_ERCC92_noAlt.fasta -b ../../ref/GSE100708_hg38_refseq_062016_ensemblv84_3UTR.bed -t 14 -c 2 -rl 152 -5 12 -n 1 -m -N mr571-MV411-DMSO_coculture_12h-r1 ../../data/slamseq_MYB_degraded_coculture_v1/fastqs/mr571-MV411-DMSO_coculture_12h-r1_R1_001_val_1.fq.gz ../../data/slamseq_MYB_degraded_coculture_v1/fastqs/mr571-MV411-DMSO_coculture_12h-r1_R2_001_val_2.fq.gz']\n",
      "CPU times: user 0 ns, sys: 0 ns, total: 0 ns\n",
      "Wall time: 196 µs\n"
     ]
    }
   ],
   "source": [
    "%%time\n",
    "\n",
    "# print call\n",
    "print(['slamdunk all'+\n",
    "       ' -o '+res_dir+\n",
    "       ' -r '+refgenome_noAlt+\n",
    "       ' -b '+gene_intervals+\n",
    "       ' -t 14'+\n",
    "       ' -c 2'+\n",
    "       ' -rl 152'+ # max-read-length = 152\n",
    "       # new parameters\n",
    "       ' -5 12'+\n",
    "       ' -n 1'+ # reads map to multiple locations at once\n",
    "       ' -m'+ # multimapping\n",
    "       ' -N '+val1.split('/')[-1].split('_R')[0]+\n",
    "       ' '+val1+\" \"+val2\n",
    "       for val1, val2 in h.grouped(fastq_full[:2], 2)])"
   ]
  },
  {
   "cell_type": "code",
   "execution_count": 22,
   "id": "6f981323",
   "metadata": {},
   "outputs": [
    {
     "name": "stdout",
     "output_type": "stream",
     "text": [
      "mr584-MV411-MYB-dTAG-DMSO_coculture_12h-r4_R1_001_val_1.fq.gz\n",
      "mr585-MV411-MYB-dTAG-VHL_coculture_12h-r1_R1_001_val_1.fq.gz\n",
      "mr586-MV411-MYB-dTAG-VHL_coculture_12h-r2_R1_001_val_1.fq.gz\n",
      "mr587-MV411-MYB-dTAG-VHL_coculture_12h-r3_R1_001_val_1.fq.gz\n",
      "mr588-MV411-MYB-dTAG-VHL_coculture_12h-r4_R1_001_val_1.fq.gz\n",
      "mr589-MV411-MYB-dTAG-VHL_coculture_12h-r5_R1_001_val_1.fq.gz\n"
     ]
    }
   ],
   "source": [
    "for val1, val2 in h.grouped(fastq_full[26:], 2): print(os.path.basename(val1))"
   ]
  },
  {
   "cell_type": "code",
   "execution_count": 23,
   "id": "a09a6a43",
   "metadata": {
    "collapsed": true
   },
   "outputs": [
    {
     "name": "stdout",
     "output_type": "stream",
     "text": [
      "CPU times: user 1.64 s, sys: 516 ms, total: 2.16 s\n",
      "Wall time: 16h 11min 42s\n"
     ]
    },
    {
     "data": {
      "text/plain": [
       "['[MAIN] NextGenMap 0.5.5\\n[MAIN] NextGenMap 0.5.5\\n[MAIN] Startup : x64 (build Jul  3 2020 02:47:43)\\n[MAIN] Startup : x64 (build Jul  3 2020 02:47:43)\\n[MAIN] Starting time: 2022-06-23.00:46:32\\n[MAIN] Starting time: 2022-06-23.00:46:32\\n[CONFIG] Parameter:  --affine 0 --argos_min_score 0 --bin_size 2 --block_multiplier 2 --broken_pairs 0 --bs_cutoff 6 --bs_mapping 0 --cpu_threads 14 --dualstrand 1 --fast 0 --fast_pairing 0 --force_rlength_check 0 --format 1 --gap_extend_penalty 5 --gap_read_penalty 20 --gap_ref_penalty 20 --hard_clip 0 --keep_tags 0 --kmer 13 --kmer_min 0 --kmer_skip 2 --local 1 --match_bonus 10 --match_bonus_tc 2 --match_bonus_tt 10 --max_cmrs 2147483647 --max_equal 1 --max_insert_size 1000 --max_polya 4 --max_read_length 0 --min_identity 0.650000 --min_insert_size 0 --min_mq 0 --min_residues 0.500000 --min_score 0.000000 --mismatch_penalty 15 --mode 0 --no_progress 1 --no_unal 0 --ocl_threads 1 --output ../../data/slamseq_MYB_degraded_coculture_v1/res/map/mr585-MV411-MYB-dTAG-VHL_coculture_12h-r1_slamdunk_mapped.sam --overwrite 1 --pair_score_cutoff 0.900000 --paired 1 --parse_all 1 --pe_delimiter / --qry1 ../../data/slamseq_MYB_degraded_coculture_v1/fastqs/mr585-MV411-MYB-dTAG-VHL_coculture_12h-r1_R1_001_val_1.fq.gz --qry2 ../../data/slamseq_MYB_degraded_coculture_v1/fastqs/mr585-MV411-MYB-dTAG-VHL_coculture_12h-r1_R2_001_val_2.fq.gz --qry_count -1 --qry_start 0 --ref ../../ref/Homo_sapiens_assembly38_ERCC92_noAlt.fasta --ref_mode -1 --rg_id 0 --rg_sm sample_0:NA:-1 --sensitive 0 --silent_clip 0 --skip_mate_check 0 --skip_save 0 --slam_seq 2 --step_count 4 --strata 0 --topn 1 --trim5 12 --update_check 0 --very_fast 0 --very_sensitive 0\\n[CONFIG] Parameter:  --affine 0 --argos_min_score 0 --bin_size 2 --block_multiplier 2 --broken_pairs 0 --bs_cutoff 6 --bs_mapping 0 --cpu_threads 14 --dualstrand 1 --fast 0 --fast_pairing 0 --force_rlength_check 0 --format 1 --gap_extend_penalty 5 --gap_read_penalty 20 --gap_ref_penalty 20 --hard_clip 0 --keep_tags 0 --kmer 13 --kmer_min 0 --kmer_skip 2 --local 1 --match_bonus 10 --match_bonus_tc 2 --match_bonus_tt 10 --max_cmrs 2147483647 --max_equal 1 --max_insert_size 1000 --max_polya 4 --max_read_length 0 --min_identity 0.650000 --min_insert_size 0 --min_mq 0 --min_residues 0.500000 --min_score 0.000000 --mismatch_penalty 15 --mode 0 --no_progress 1 --no_unal 0 --ocl_threads 1 --output ../../data/slamseq_MYB_degraded_coculture_v1/res/map/mr584-MV411-MYB-dTAG-DMSO_coculture_12h-r4_slamdunk_mapped.sam --overwrite 1 --pair_score_cutoff 0.900000 --paired 1 --parse_all 1 --pe_delimiter / --qry1 ../../data/slamseq_MYB_degraded_coculture_v1/fastqs/mr584-MV411-MYB-dTAG-DMSO_coculture_12h-r4_R1_001_val_1.fq.gz --qry2 ../../data/slamseq_MYB_degraded_coculture_v1/fastqs/mr584-MV411-MYB-dTAG-DMSO_coculture_12h-r4_R2_001_val_2.fq.gz --qry_count -1 --qry_start 0 --ref ../../ref/Homo_sapiens_assembly38_ERCC92_noAlt.fasta --ref_mode -1 --rg_id 0 --rg_sm sample_0:NA:-1 --sensitive 0 --silent_clip 0 --skip_mate_check 0 --skip_save 0 --slam_seq 2 --step_count 4 --strata 0 --topn 1 --trim5 12 --update_check 0 --very_fast 0 --very_sensitive 0\\n[NGM] Opening for output (SAM): ../../data/slamseq_MYB_degraded_coculture_v1/res/map/mr584-MV411-MYB-dTAG-DMSO_coculture_12h-r4_slamdunk_mapped.sam\\n[NGM] Opening for output (SAM): ../../data/slamseq_MYB_degraded_coculture_v1/res/map/mr585-MV411-MYB-dTAG-VHL_coculture_12h-r1_slamdunk_mapped.sam\\n[SEQPROV] Reading encoded reference from ../../ref/Homo_sapiens_assembly38_ERCC92_noAlt.fasta-enc.2.ngm\\n[SEQPROV] Reading encoded reference from ../../ref/Homo_sapiens_assembly38_ERCC92_noAlt.fasta-enc.2.ngm\\n[SEQPROV] Reading 3111 Mbp from disk took 14.12s[SEQPROV] Reading 3111 Mbp from disk took 14.12s\\n\\n[PREPROCESS] Reading RefTable from ../../ref/Homo_sapiens_assembly38_ERCC92_noAlt.fasta-ht-13-2.3.ngm\\n[PREPROCESS] Reading RefTable from ../../ref/Homo_sapiens_assembly38_ERCC92_noAlt.fasta-ht-13-2.3.ngm\\n[PREPROCESS] Reading from disk took 39.30s\\n[PREPROCESS] Reading from disk took 39.30s\\n[PREPROCESS] Max. k-mer frequency set so 887!\\n[INPUT] Input is paired end data.\\n[INPUT] Opening file ../../data/slamseq_MYB_degraded_coculture_v1/fastqs/mr584-MV411-MYB-dTAG-DMSO_coculture_12h-r4_R1_001_val_1.fq.gz for reading\\n[INPUT] Opening file ../../data/slamseq_MYB_degraded_coculture_v1/fastqs/mr584-MV411-MYB-dTAG-DMSO_coculture_12h-r4_R2_001_val_2.fq.gz for reading\\n[PREPROCESS] Max. k-mer frequency set so 887!\\n[INPUT] Input is paired end data.\\n[INPUT] Opening file ../../data/slamseq_MYB_degraded_coculture_v1/fastqs/mr585-MV411-MYB-dTAG-VHL_coculture_12h-r1_R1_001_val_1.fq.gz for reading\\n[INPUT] Opening file ../../data/slamseq_MYB_degraded_coculture_v1/fastqs/mr585-MV411-MYB-dTAG-VHL_coculture_12h-r1_R2_001_val_2.fq.gz for reading\\n[INPUT] Input is Fastq\\n[INPUT] Estimating parameter from data\\n[INPUT] Input is Fastq\\n[INPUT] Estimating parameter from data\\n[INPUT] Input reads don\\'t have the same length!\\n[INPUT] Maximum read length found in the first 10000000 reads is 138. For longer reads only the first 151 bp will be mapped.\\n[INPUT] The maximum read length can be overwritten with the \\'--max-read-length\\' parameter. With \\'--force-rlength-check\\', NextGenMap will run through all reads to find the max. read length. This might take some time.\\n[INPUT] Average read length: 127 (min: 8, max: 152)\\n[INPUT] Corridor width: 24\\n[INPUT] Average kmer hits pro read: 30.278767\\n[INPUT] Max possible kmer hit: 38\\n[INPUT] Estimated sensitivity: 0.796810\\n[INPUT] Estimating parameter took 35.993s\\n[INPUT] Input is Fastq\\n[INPUT] Input is Fastq\\n[INPUT] Input reads don\\'t have the same length!\\n[INPUT] Maximum read length found in the first 10000000 reads is 138. For longer reads only the first 151 bp will be mapped.\\n[INPUT] The maximum read length can be overwritten with the \\'--max-read-length\\' parameter. With \\'--force-rlength-check\\', NextGenMap will run through all reads to find the max. read length. This might take some time.\\n[INPUT] Average read length: 126 (min: 8, max: 152)\\n[INPUT] Corridor width: 23\\n[INPUT] Average kmer hits pro read: 29.734644\\n[INPUT] Max possible kmer hit: 38\\n[INPUT] Estimated sensitivity: 0.782491\\n[INPUT] Estimating parameter took 37.037s\\n[INPUT] Input is Fastq\\n[INPUT] Input is Fastq\\n[OPENCL] Available platforms: 1\\n[OPENCL] AMD Accelerated Parallel Processing\\n[OPENCL] Available platforms: 1\\n[OPENCL] AMD Accelerated Parallel Processing\\n[OPENCL] Selecting OpenCl platform: AMD Accelerated Parallel Processing\\n[OPENCL] Platform: OpenCL 1.2 AMD-APP (1214.3)\\n[OPENCL] 1 CPU device found.\\n[OPENCL] Device 0: Intel(R) Xeon(R) CPU @ 3.10GHz (Driver: 1214.3 (sse2,avx))\\n[OPENCL] Selecting OpenCl platform: AMD Accelerated Parallel Processing\\n[OPENCL] Platform: OpenCL 1.2 AMD-APP (1214.3)\\n[OPENCL] 1 CPU device found.\\n[OPENCL] Device 0: Intel(R) Xeon(R) CPU @ 3.10GHz (Driver: 1214.3 (sse2,avx))\\n[OPENCL] 8 CPU cores available.\\n[OPENCL] 8 CPU cores available.\\n[MAIN] Valid pairs found: 85.06%\\n[MAIN] Estimated insert size: 190 bp\\n[MAIN] Alignments computed: 133749444\\n[MAIN] Done (130156791 reads mapped (96.55%), 4644357 reads not mapped (238 discarded), 134800910 lines written)(elapsed: 14059.449219s)\\n[UPDATE_CHECK] Your version of NGM is more than 6 months old - a newer version may be available. (For performing an automatic check use --update-check)\\nparsing jkobject\\ndoing all\\nRunning slamDunk map for 2 files (14 threads)\\ndoing paired end mapping!\\n -1 ../../data/slamseq_MYB_degraded_coculture_v1/fastqs/mr584-MV411-MYB-dTAG-DMSO_coculture_12h-r4_R1_001_val_1.fq.gz -2 ../../data/slamseq_MYB_degraded_coculture_v1/fastqs/mr584-MV411-MYB-dTAG-DMSO_coculture_12h-r4_R2_001_val_2.fq.gz\\nRunning: \"ngm -r ../../ref/Homo_sapiens_assembly38_ERCC92_noAlt.fasta -1 ../../data/slamseq_MYB_degraded_coculture_v1/fastqs/mr584-MV411-MYB-dTAG-DMSO_coculture_12h-r4_R1_001_val_1.fq.gz -2 ../../data/slamseq_MYB_degraded_coculture_v1/fastqs/mr584-MV411-MYB-dTAG-DMSO_coculture_12h-r4_R2_001_val_2.fq.gz -t 14 --no-progress --slam-seq 2 -5 12 --max-polya 4 -l  --rg-id 0 --rg-sm sample_0:NA:-1 -o ../../data/slamseq_MYB_degraded_coculture_v1/res/map/mr584-MV411-MYB-dTAG-DMSO_coculture_12h-r4_slamdunk_mapped.sam\"\\nRunning: \"samtools view -@ 14 -Sb -o ../../data/slamseq_MYB_degraded_coculture_v1/res/map/mr584-MV411-MYB-dTAG-DMSO_coculture_12h-r4_slamdunk_mapped.bam ../../data/slamseq_MYB_degraded_coculture_v1/res/map/mr584-MV411-MYB-dTAG-DMSO_coculture_12h-r4_slamdunk_mapped.sam\"\\nslamdunk all\\nRunning slamDunk map for 2 files (14 threads)\\n.\\nRunning slamDunk sam2bam for 1 files (14 threads)\\n.\\nRunning slamDunk filter for 1 files (14 threads)\\n[E::idx_find_and_load] Could not retrieve index file for \\'../../data/slamseq_MYB_degraded_coculture_v1/res/map/mr584-MV411-MYB-dTAG-DMSO_coculture_12h-r4_slamdunk_mapped.bam\\'\\n[MAIN] Valid pairs found: 85.73%\\n[MAIN] Estimated insert size: 186 bp\\n[MAIN] Alignments computed: 152505984\\n[MAIN] Done (148167825 reads mapped (96.24%), 5791291 reads not mapped (240 discarded), 153958876 lines written)(elapsed: 15613.682617s)\\n[UPDATE_CHECK] Your version of NGM is more than 6 months old - a newer version may be available. (For performing an automatic check use --update-check)\\nparsing jkobject\\ndoing all\\nRunning slamDunk map for 2 files (14 threads)\\ndoing paired end mapping!\\n -1 ../../data/slamseq_MYB_degraded_coculture_v1/fastqs/mr585-MV411-MYB-dTAG-VHL_coculture_12h-r1_R1_001_val_1.fq.gz -2 ../../data/slamseq_MYB_degraded_coculture_v1/fastqs/mr585-MV411-MYB-dTAG-VHL_coculture_12h-r1_R2_001_val_2.fq.gz\\nRunning: \"ngm -r ../../ref/Homo_sapiens_assembly38_ERCC92_noAlt.fasta -1 ../../data/slamseq_MYB_degraded_coculture_v1/fastqs/mr585-MV411-MYB-dTAG-VHL_coculture_12h-r1_R1_001_val_1.fq.gz -2 ../../data/slamseq_MYB_degraded_coculture_v1/fastqs/mr585-MV411-MYB-dTAG-VHL_coculture_12h-r1_R2_001_val_2.fq.gz -t 14 --no-progress --slam-seq 2 -5 12 --max-polya 4 -l  --rg-id 0 --rg-sm sample_0:NA:-1 -o ../../data/slamseq_MYB_degraded_coculture_v1/res/map/mr585-MV411-MYB-dTAG-VHL_coculture_12h-r1_slamdunk_mapped.sam\"\\nRunning: \"samtools view -@ 14 -Sb -o ../../data/slamseq_MYB_degraded_coculture_v1/res/map/mr585-MV411-MYB-dTAG-VHL_coculture_12h-r1_slamdunk_mapped.bam ../../data/slamseq_MYB_degraded_coculture_v1/res/map/mr585-MV411-MYB-dTAG-VHL_coculture_12h-r1_slamdunk_mapped.sam\"\\nslamdunk all\\nRunning slamDunk map for 2 files (14 threads)\\n.\\nRunning slamDunk sam2bam for 1 files (14 threads)\\n.\\nRunning slamDunk filter for 1 files (14 threads)\\n[E::idx_find_and_load] Could not retrieve index file for \\'../../data/slamseq_MYB_degraded_coculture_v1/res/map/mr585-MV411-MYB-dTAG-VHL_coculture_12h-r1_slamdunk_mapped.bam\\'\\n[E::idx_find_and_load] Could not retrieve index file for \\'../../data/slamseq_MYB_degraded_coculture_v1/res/filter/mr584-MV411-MYB-dTAG-DMSO_coculture_12h-r4_filtered.bam\\'\\n[E::idx_find_and_load] Could not retrieve index file for \\'../../data/slamseq_MYB_degraded_coculture_v1/res/filter/mr585-MV411-MYB-dTAG-VHL_coculture_12h-r1_filtered.bam\\'\\n[bam_sort_core] merging from 63 files and 1 in-memory blocks...\\n[bam_sort_core] merging from 71 files and 1 in-memory blocks...\\n\\n\\nRunning slamDunk SNP for 1 files (7 threads)\\n\\n\\nRunning slamDunk SNP for 1 files (7 threads)\\n\\nRunning slamDunk tcount for 1 files (14 threads)\\n\\n\\nRunning: \"samtools sort -o ../../data/slamseq_MYB_degraded_coculture_v1/res/filter/mr584-MV411-MYB-dTAG-DMSO_coculture_12h-r4_filtered.bam ../../data/slamseq_MYB_degraded_coculture_v1/res/filter/mr584-MV411-MYB-dTAG-DMSO_coculture_12h-r4_filtered.bam_tmp\"\\n...\\nRunning slamDunk tcount for 1 files (14 threads)\\n\\n\\nRunning: \"samtools sort -o ../../data/slamseq_MYB_degraded_coculture_v1/res/filter/mr585-MV411-MYB-dTAG-VHL_coculture_12h-r1_filtered.bam ../../data/slamseq_MYB_degraded_coculture_v1/res/filter/mr585-MV411-MYB-dTAG-VHL_coculture_12h-r1_filtered.bam_tmp\"\\n...',\n",
       " '[MAIN] NextGenMap 0.5.5\\n[MAIN] Startup : x64 (build Jul  3 2020 02:47:43)\\n[MAIN] NextGenMap 0.5.5\\n[MAIN] Startup : x64 (build Jul  3 2020 02:47:43)\\n[MAIN] Starting time: 2022-06-23.07:34:23\\n[MAIN] Starting time: 2022-06-23.07:34:23\\n[CONFIG] Parameter:  --affine 0 --argos_min_score 0 --bin_size 2 --block_multiplier 2 --broken_pairs 0 --bs_cutoff 6 --bs_mapping 0 --cpu_threads 14 --dualstrand 1 --fast 0 --fast_pairing 0 --force_rlength_check 0 --format 1 --gap_extend_penalty 5 --gap_read_penalty 20 --gap_ref_penalty 20 --hard_clip 0 --keep_tags 0 --kmer 13 --kmer_min 0 --kmer_skip 2 --local 1 --match_bonus 10 --match_bonus_tc 2 --match_bonus_tt 10 --max_cmrs 2147483647 --max_equal 1 --max_insert_size 1000 --max_polya 4 --max_read_length 0 --min_identity 0.650000 --min_insert_size 0 --min_mq 0 --min_residues 0.500000 --min_score 0.000000 --mismatch_penalty 15 --mode 0 --no_progress 1 --no_unal 0 --ocl_threads 1 --output ../../data/slamseq_MYB_degraded_coculture_v1/res/map/mr586-MV411-MYB-dTAG-VHL_coculture_12h-r2_slamdunk_mapped.sam --overwrite 1 --pair_score_cutoff 0.900000 --paired 1 --parse_all 1 --pe_delimiter / --qry1 ../../data/slamseq_MYB_degraded_coculture_v1/fastqs/mr586-MV411-MYB-dTAG-VHL_coculture_12h-r2_R1_001_val_1.fq.gz --qry2 ../../data/slamseq_MYB_degraded_coculture_v1/fastqs/mr586-MV411-MYB-dTAG-VHL_coculture_12h-r2_R2_001_val_2.fq.gz --qry_count -1 --qry_start 0 --ref ../../ref/Homo_sapiens_assembly38_ERCC92_noAlt.fasta --ref_mode -1 --rg_id 0 --rg_sm sample_0:NA:-1 --sensitive 0 --silent_clip 0 --skip_mate_check 0 --skip_save 0 --slam_seq 2 --step_count 4 --strata 0 --topn 1 --trim5 12 --update_check 0 --very_fast 0 --very_sensitive 0\\n[CONFIG] Parameter:  --affine 0 --argos_min_score 0 --bin_size 2 --block_multiplier 2 --broken_pairs 0 --bs_cutoff 6 --bs_mapping 0 --cpu_threads 14 --dualstrand 1 --fast 0 --fast_pairing 0 --force_rlength_check 0 --format 1 --gap_extend_penalty 5 --gap_read_penalty 20 --gap_ref_penalty 20 --hard_clip 0 --keep_tags 0 --kmer 13 --kmer_min 0 --kmer_skip 2 --local 1 --match_bonus 10 --match_bonus_tc 2 --match_bonus_tt 10 --max_cmrs 2147483647 --max_equal 1 --max_insert_size 1000 --max_polya 4 --max_read_length 0 --min_identity 0.650000 --min_insert_size 0 --min_mq 0 --min_residues 0.500000 --min_score 0.000000 --mismatch_penalty 15 --mode 0 --no_progress 1 --no_unal 0 --ocl_threads 1 --output ../../data/slamseq_MYB_degraded_coculture_v1/res/map/mr587-MV411-MYB-dTAG-VHL_coculture_12h-r3_slamdunk_mapped.sam --overwrite 1 --pair_score_cutoff 0.900000 --paired 1 --parse_all 1 --pe_delimiter / --qry1 ../../data/slamseq_MYB_degraded_coculture_v1/fastqs/mr587-MV411-MYB-dTAG-VHL_coculture_12h-r3_R1_001_val_1.fq.gz --qry2 ../../data/slamseq_MYB_degraded_coculture_v1/fastqs/mr587-MV411-MYB-dTAG-VHL_coculture_12h-r3_R2_001_val_2.fq.gz --qry_count -1 --qry_start 0 --ref ../../ref/Homo_sapiens_assembly38_ERCC92_noAlt.fasta --ref_mode -1 --rg_id 0 --rg_sm sample_0:NA:-1 --sensitive 0 --silent_clip 0 --skip_mate_check 0 --skip_save 0 --slam_seq 2 --step_count 4 --strata 0 --topn 1 --trim5 12 --update_check 0 --very_fast 0 --very_sensitive 0\\n[NGM] Opening for output (SAM): ../../data/slamseq_MYB_degraded_coculture_v1/res/map/mr586-MV411-MYB-dTAG-VHL_coculture_12h-r2_slamdunk_mapped.sam\\n[NGM] Opening for output (SAM): ../../data/slamseq_MYB_degraded_coculture_v1/res/map/mr587-MV411-MYB-dTAG-VHL_coculture_12h-r3_slamdunk_mapped.sam\\n[SEQPROV] Reading encoded reference from ../../ref/Homo_sapiens_assembly38_ERCC92_noAlt.fasta-enc.2.ngm\\n[SEQPROV] Reading encoded reference from ../../ref/Homo_sapiens_assembly38_ERCC92_noAlt.fasta-enc.2.ngm\\n[SEQPROV] Reading 3111 Mbp from disk took 13.42s[SEQPROV] Reading 3111 Mbp from disk took 13.42s\\n\\n[PREPROCESS] Reading RefTable from ../../ref/Homo_sapiens_assembly38_ERCC92_noAlt.fasta-ht-13-2.3.ngm\\n[PREPROCESS] Reading RefTable from ../../ref/Homo_sapiens_assembly38_ERCC92_noAlt.fasta-ht-13-2.3.ngm\\n[PREPROCESS] [PREPROCESS] Reading from disk took 38.51s\\nReading from disk took 38.51s\\n[PREPROCESS] Max. k-mer frequency set so 887!\\n[PREPROCESS] Max. k-mer frequency set so 887!\\n[INPUT] Input is paired end data.\\n[INPUT] Opening file ../../data/slamseq_MYB_degraded_coculture_v1/fastqs/mr586-MV411-MYB-dTAG-VHL_coculture_12h-r2_R1_001_val_1.fq.gz for reading\\n[INPUT] [INPUT] Input is paired end data.\\nOpening file ../../data/slamseq_MYB_degraded_coculture_v1/fastqs/mr586-MV411-MYB-dTAG-VHL_coculture_12h-r2_R2_001_val_2.fq.gz for reading\\n[INPUT] Opening file ../../data/slamseq_MYB_degraded_coculture_v1/fastqs/mr587-MV411-MYB-dTAG-VHL_coculture_12h-r3_R1_001_val_1.fq.gz for reading\\n[INPUT] Opening file ../../data/slamseq_MYB_degraded_coculture_v1/fastqs/mr587-MV411-MYB-dTAG-VHL_coculture_12h-r3_R2_001_val_2.fq.gz for reading\\n[INPUT] Input is Fastq\\n[INPUT] Input is Fastq\\n[INPUT] Estimating parameter from data\\n[INPUT] Estimating parameter from data\\n[INPUT] Input reads don\\'t have the same length!\\n[INPUT] Maximum read length found in the first 10000000 reads is 138. For longer reads only the first 151 bp will be mapped.\\n[INPUT] The maximum read length can be overwritten with the \\'--max-read-length\\' parameter. With \\'--force-rlength-check\\', NextGenMap will run through all reads to find the max. read length. This might take some time.\\n[INPUT] Average read length: 127 (min: 8, max: 152)\\n[INPUT] Corridor width: 24\\n[INPUT] Average kmer hits pro read: 30.091881\\n[INPUT] Max possible kmer hit: 38\\n[INPUT] Estimated sensitivity: 0.791892\\n[INPUT] Estimating parameter took 36.626s\\n[INPUT] Input is Fastq\\n[INPUT] Input is Fastq\\n[INPUT] Input reads don\\'t have the same length!\\n[INPUT] Maximum read length found in the first 10000000 reads is 138. For longer reads only the first 151 bp will be mapped.\\n[INPUT] The maximum read length can be overwritten with the \\'--max-read-length\\' parameter. With \\'--force-rlength-check\\', NextGenMap will run through all reads to find the max. read length. This might take some time.\\n[INPUT] Average read length: 131 (min: 8, max: 152)\\n[INPUT] Corridor width: 24\\n[INPUT] Average kmer hits pro read: 30.802023\\n[INPUT] Max possible kmer hit: 39\\n[INPUT] Estimated sensitivity: 0.789795\\n[INPUT] Estimating parameter took 38.540s\\n[INPUT] Input is Fastq\\n[INPUT] Input is Fastq\\n[OPENCL] Available platforms: 1\\n[OPENCL] AMD Accelerated Parallel Processing\\n[OPENCL] Available platforms: 1\\n[OPENCL] AMD Accelerated Parallel Processing\\n[OPENCL] Selecting OpenCl platform: AMD Accelerated Parallel Processing\\n[OPENCL] Platform: OpenCL 1.2 AMD-APP (1214.3)\\n[OPENCL] Selecting OpenCl platform: AMD Accelerated Parallel Processing\\n[OPENCL] Platform: OpenCL 1.2 AMD-APP (1214.3)\\n[OPENCL] [OPENCL] 1 CPU device found.\\n1 CPU device found.\\n[OPENCL] Device 0: Intel(R) Xeon(R) CPU @ 3.10GHz (Driver: 1214.3 (sse2,avx))\\n[OPENCL] Device 0: Intel(R) Xeon(R) CPU @ 3.10GHz (Driver: 1214.3 (sse2,avx))\\n[OPENCL] 8 CPU cores available.\\n[OPENCL] 8 CPU cores available.\\n[MAIN] Valid pairs found: 80.40%\\n[MAIN] Estimated insert size: 231 bp\\n[MAIN] Alignments computed: 90396234\\n[MAIN] Done (88051612 reads mapped (96.59%), 3105030 reads not mapped (100 discarded), 91156542 lines written)(elapsed: 7609.661133s)\\n[UPDATE_CHECK] Your version of NGM is more than 6 months old - a newer version may be available. (For performing an automatic check use --update-check)\\nparsing jkobject\\ndoing all\\nRunning slamDunk map for 2 files (14 threads)\\ndoing paired end mapping!\\n -1 ../../data/slamseq_MYB_degraded_coculture_v1/fastqs/mr587-MV411-MYB-dTAG-VHL_coculture_12h-r3_R1_001_val_1.fq.gz -2 ../../data/slamseq_MYB_degraded_coculture_v1/fastqs/mr587-MV411-MYB-dTAG-VHL_coculture_12h-r3_R2_001_val_2.fq.gz\\nRunning: \"ngm -r ../../ref/Homo_sapiens_assembly38_ERCC92_noAlt.fasta -1 ../../data/slamseq_MYB_degraded_coculture_v1/fastqs/mr587-MV411-MYB-dTAG-VHL_coculture_12h-r3_R1_001_val_1.fq.gz -2 ../../data/slamseq_MYB_degraded_coculture_v1/fastqs/mr587-MV411-MYB-dTAG-VHL_coculture_12h-r3_R2_001_val_2.fq.gz -t 14 --no-progress --slam-seq 2 -5 12 --max-polya 4 -l  --rg-id 0 --rg-sm sample_0:NA:-1 -o ../../data/slamseq_MYB_degraded_coculture_v1/res/map/mr587-MV411-MYB-dTAG-VHL_coculture_12h-r3_slamdunk_mapped.sam\"\\nRunning: \"samtools view -@ 14 -Sb -o ../../data/slamseq_MYB_degraded_coculture_v1/res/map/mr587-MV411-MYB-dTAG-VHL_coculture_12h-r3_slamdunk_mapped.bam ../../data/slamseq_MYB_degraded_coculture_v1/res/map/mr587-MV411-MYB-dTAG-VHL_coculture_12h-r3_slamdunk_mapped.sam\"\\nslamdunk all\\nRunning slamDunk map for 2 files (14 threads)\\n.\\nRunning slamDunk sam2bam for 1 files (14 threads)\\n.\\nRunning slamDunk filter for 1 files (14 threads)\\n[E::idx_find_and_load] Could not retrieve index file for \\'../../data/slamseq_MYB_degraded_coculture_v1/res/map/mr587-MV411-MYB-dTAG-VHL_coculture_12h-r3_slamdunk_mapped.bam\\'\\n[MAIN] Valid pairs found: 85.87%\\n[MAIN] Estimated insert size: 186 bp\\n[MAIN] Alignments computed: 118561949\\n[MAIN] Done (115375687 reads mapped (96.54%), 4138487 reads not mapped (174 discarded), 119514000 lines written)(elapsed: 8743.570312s)\\n[UPDATE_CHECK] Your version of NGM is more than 6 months old - a newer version may be available. (For performing an automatic check use --update-check)\\nparsing jkobject\\ndoing all\\nRunning slamDunk map for 2 files (14 threads)\\ndoing paired end mapping!\\n -1 ../../data/slamseq_MYB_degraded_coculture_v1/fastqs/mr586-MV411-MYB-dTAG-VHL_coculture_12h-r2_R1_001_val_1.fq.gz -2 ../../data/slamseq_MYB_degraded_coculture_v1/fastqs/mr586-MV411-MYB-dTAG-VHL_coculture_12h-r2_R2_001_val_2.fq.gz\\nRunning: \"ngm -r ../../ref/Homo_sapiens_assembly38_ERCC92_noAlt.fasta -1 ../../data/slamseq_MYB_degraded_coculture_v1/fastqs/mr586-MV411-MYB-dTAG-VHL_coculture_12h-r2_R1_001_val_1.fq.gz -2 ../../data/slamseq_MYB_degraded_coculture_v1/fastqs/mr586-MV411-MYB-dTAG-VHL_coculture_12h-r2_R2_001_val_2.fq.gz -t 14 --no-progress --slam-seq 2 -5 12 --max-polya 4 -l  --rg-id 0 --rg-sm sample_0:NA:-1 -o ../../data/slamseq_MYB_degraded_coculture_v1/res/map/mr586-MV411-MYB-dTAG-VHL_coculture_12h-r2_slamdunk_mapped.sam\"\\nRunning: \"samtools view -@ 14 -Sb -o ../../data/slamseq_MYB_degraded_coculture_v1/res/map/mr586-MV411-MYB-dTAG-VHL_coculture_12h-r2_slamdunk_mapped.bam ../../data/slamseq_MYB_degraded_coculture_v1/res/map/mr586-MV411-MYB-dTAG-VHL_coculture_12h-r2_slamdunk_mapped.sam\"\\nslamdunk all\\nRunning slamDunk map for 2 files (14 threads)\\n.\\nRunning slamDunk sam2bam for 1 files (14 threads)\\n.\\nRunning slamDunk filter for 1 files (14 threads)\\n[E::idx_find_and_load] Could not retrieve index file for \\'../../data/slamseq_MYB_degraded_coculture_v1/res/map/mr586-MV411-MYB-dTAG-VHL_coculture_12h-r2_slamdunk_mapped.bam\\'\\n[E::idx_find_and_load] Could not retrieve index file for \\'../../data/slamseq_MYB_degraded_coculture_v1/res/filter/mr587-MV411-MYB-dTAG-VHL_coculture_12h-r3_filtered.bam\\'\\n[E::idx_find_and_load] Could not retrieve index file for \\'../../data/slamseq_MYB_degraded_coculture_v1/res/filter/mr586-MV411-MYB-dTAG-VHL_coculture_12h-r2_filtered.bam\\'\\n[bam_sort_core] merging from 43 files and 1 in-memory blocks...\\n\\n\\nRunning slamDunk SNP for 1 files (7 threads)\\n[bam_sort_core] merging from 56 files and 1 in-memory blocks...\\n\\n\\nRunning slamDunk SNP for 1 files (7 threads)\\n\\nRunning slamDunk tcount for 1 files (14 threads)\\n\\n\\nRunning: \"samtools sort -o ../../data/slamseq_MYB_degraded_coculture_v1/res/filter/mr587-MV411-MYB-dTAG-VHL_coculture_12h-r3_filtered.bam ../../data/slamseq_MYB_degraded_coculture_v1/res/filter/mr587-MV411-MYB-dTAG-VHL_coculture_12h-r3_filtered.bam_tmp\"\\n...\\nRunning slamDunk tcount for 1 files (14 threads)\\n\\n\\nRunning: \"samtools sort -o ../../data/slamseq_MYB_degraded_coculture_v1/res/filter/mr586-MV411-MYB-dTAG-VHL_coculture_12h-r2_filtered.bam ../../data/slamseq_MYB_degraded_coculture_v1/res/filter/mr586-MV411-MYB-dTAG-VHL_coculture_12h-r2_filtered.bam_tmp\"\\n...',\n",
       " '[MAIN] NextGenMap 0.5.5\\n[MAIN] Startup : x64 (build Jul  3 2020 02:47:43)\\n[MAIN] Starting time: 2022-06-23.11:42:10\\n[CONFIG] Parameter:  --affine 0 --argos_min_score 0 --bin_size 2 --block_multiplier 2 --broken_pairs 0 --bs_cutoff 6 --bs_mapping 0 --cpu_threads 14 --dualstrand 1 --fast 0 --fast_pairing 0 --force_rlength_check 0 --format 1 --gap_extend_penalty 5 --gap_read_penalty 20 --gap_ref_penalty 20 --hard_clip 0 --keep_tags 0 --kmer 13 --kmer_min 0 --kmer_skip 2 --local 1 --match_bonus 10 --match_bonus_tc 2 --match_bonus_tt 10 --max_cmrs 2147483647 --max_equal 1 --max_insert_size 1000 --max_polya 4 --max_read_length 0 --min_identity 0.650000 --min_insert_size 0 --min_mq 0 --min_residues 0.500000 --min_score 0.000000 --mismatch_penalty 15 --mode 0 --no_progress 1 --no_unal 0 --ocl_threads 1 --output ../../data/slamseq_MYB_degraded_coculture_v1/res/map/mr588-MV411-MYB-dTAG-VHL_coculture_12h-r4_slamdunk_mapped.sam --overwrite 1 --pair_score_cutoff 0.900000 --paired 1 --parse_all 1 --pe_delimiter / --qry1 ../../data/slamseq_MYB_degraded_coculture_v1/fastqs/mr588-MV411-MYB-dTAG-VHL_coculture_12h-r4_R1_001_val_1.fq.gz --qry2 ../../data/slamseq_MYB_degraded_coculture_v1/fastqs/mr588-MV411-MYB-dTAG-VHL_coculture_12h-r4_R2_001_val_2.fq.gz --qry_count -1 --qry_start 0 --ref ../../ref/Homo_sapiens_assembly38_ERCC92_noAlt.fasta --ref_mode -1 --rg_id 0 --rg_sm sample_0:NA:-1 --sensitive 0 --silent_clip 0 --skip_mate_check 0 --skip_save 0 --slam_seq 2 --step_count 4 --strata 0 --topn 1 --trim5 12 --update_check 0 --very_fast 0 --very_sensitive 0\\n[NGM] Opening for output (SAM): ../../data/slamseq_MYB_degraded_coculture_v1/res/map/mr588-MV411-MYB-dTAG-VHL_coculture_12h-r4_slamdunk_mapped.sam\\n[SEQPROV] Reading encoded reference from ../../ref/Homo_sapiens_assembly38_ERCC92_noAlt.fasta-enc.2.ngm\\n[MAIN] NextGenMap 0.5.5\\n[MAIN] Startup : x64 (build Jul  3 2020 02:47:43)\\n[MAIN] Starting time: 2022-06-23.11:42:10\\n[CONFIG] Parameter:  --affine 0 --argos_min_score 0 --bin_size 2 --block_multiplier 2 --broken_pairs 0 --bs_cutoff 6 --bs_mapping 0 --cpu_threads 14 --dualstrand 1 --fast 0 --fast_pairing 0 --force_rlength_check 0 --format 1 --gap_extend_penalty 5 --gap_read_penalty 20 --gap_ref_penalty 20 --hard_clip 0 --keep_tags 0 --kmer 13 --kmer_min 0 --kmer_skip 2 --local 1 --match_bonus 10 --match_bonus_tc 2 --match_bonus_tt 10 --max_cmrs 2147483647 --max_equal 1 --max_insert_size 1000 --max_polya 4 --max_read_length 0 --min_identity 0.650000 --min_insert_size 0 --min_mq 0 --min_residues 0.500000 --min_score 0.000000 --mismatch_penalty 15 --mode 0 --no_progress 1 --no_unal 0 --ocl_threads 1 --output ../../data/slamseq_MYB_degraded_coculture_v1/res/map/mr589-MV411-MYB-dTAG-VHL_coculture_12h-r5_slamdunk_mapped.sam --overwrite 1 --pair_score_cutoff 0.900000 --paired 1 --parse_all 1 --pe_delimiter / --qry1 ../../data/slamseq_MYB_degraded_coculture_v1/fastqs/mr589-MV411-MYB-dTAG-VHL_coculture_12h-r5_R1_001_val_1.fq.gz --qry2 ../../data/slamseq_MYB_degraded_coculture_v1/fastqs/mr589-MV411-MYB-dTAG-VHL_coculture_12h-r5_R2_001_val_2.fq.gz --qry_count -1 --qry_start 0 --ref ../../ref/Homo_sapiens_assembly38_ERCC92_noAlt.fasta --ref_mode -1 --rg_id 0 --rg_sm sample_0:NA:-1 --sensitive 0 --silent_clip 0 --skip_mate_check 0 --skip_save 0 --slam_seq 2 --step_count 4 --strata 0 --topn 1 --trim5 12 --update_check 0 --very_fast 0 --very_sensitive 0\\n[NGM] Opening for output (SAM): ../../data/slamseq_MYB_degraded_coculture_v1/res/map/mr589-MV411-MYB-dTAG-VHL_coculture_12h-r5_slamdunk_mapped.sam\\n[SEQPROV] Reading encoded reference from ../../ref/Homo_sapiens_assembly38_ERCC92_noAlt.fasta-enc.2.ngm\\n[SEQPROV] [SEQPROV] Reading 3111 Mbp from disk took 32.13s\\nReading 3111 Mbp from disk took 32.12s\\n[PREPROCESS] Reading RefTable from ../../ref/Homo_sapiens_assembly38_ERCC92_noAlt.fasta-ht-13-2.3.ngm\\n[PREPROCESS] Reading RefTable from ../../ref/Homo_sapiens_assembly38_ERCC92_noAlt.fasta-ht-13-2.3.ngm\\n[PREPROCESS] [PREPROCESS] Reading from disk took 64.16s\\nReading from disk took 64.16s\\n[PREPROCESS] Max. k-mer frequency set so 887!\\n[INPUT] Input is paired end data.\\n[INPUT] Opening file ../../data/slamseq_MYB_degraded_coculture_v1/fastqs/mr589-MV411-MYB-dTAG-VHL_coculture_12h-r5_R1_001_val_1.fq.gz for reading\\n[INPUT] Opening file ../../data/slamseq_MYB_degraded_coculture_v1/fastqs/mr589-MV411-MYB-dTAG-VHL_coculture_12h-r5_R2_001_val_2.fq.gz for reading\\n[PREPROCESS] Max. k-mer frequency set so 887!\\n[INPUT] Input is paired end data.\\n[INPUT] Opening file ../../data/slamseq_MYB_degraded_coculture_v1/fastqs/mr588-MV411-MYB-dTAG-VHL_coculture_12h-r4_R1_001_val_1.fq.gz for reading\\n[INPUT] Opening file ../../data/slamseq_MYB_degraded_coculture_v1/fastqs/mr588-MV411-MYB-dTAG-VHL_coculture_12h-r4_R2_001_val_2.fq.gz for reading\\n[INPUT] Input is Fastq\\n[INPUT] Estimating parameter from data\\n[INPUT] Input is Fastq\\n[INPUT] Estimating parameter from data\\n[INPUT] Input reads don\\'t have the same length!\\n[INPUT] Maximum read length found in the first 10000000 reads is 138. For longer reads only the first 151 bp will be mapped.\\n[INPUT] The maximum read length can be overwritten with the \\'--max-read-length\\' parameter. With \\'--force-rlength-check\\', NextGenMap will run through all reads to find the max. read length. This might take some time.\\n[INPUT] Average read length: 126 (min: 8, max: 152)\\n[INPUT] Corridor width: 23\\n[INPUT] Average kmer hits pro read: 30.358624\\n[INPUT] Max possible kmer hit: 38\\n[INPUT] Estimated sensitivity: 0.798911\\n[INPUT] Estimating parameter took 36.291s\\n[INPUT] Input is Fastq\\n[INPUT] Input is Fastq\\n[OPENCL] Available platforms: 1\\n[OPENCL] AMD Accelerated Parallel Processing\\n[OPENCL] Selecting OpenCl platform: AMD Accelerated Parallel Processing\\n[OPENCL] Platform: OpenCL 1.2 AMD-APP (1214.3)\\n[OPENCL] 1 CPU device found.\\n[OPENCL] Device 0: Intel(R) Xeon(R) CPU @ 3.10GHz (Driver: 1214.3 (sse2,avx))\\n[OPENCL] 8 CPU cores available.\\n[INPUT] Input reads don\\'t have the same length!\\n[INPUT] Maximum read length found in the first 10000000 reads is 138. For longer reads only the first 151 bp will be mapped.\\n[INPUT] The maximum read length can be overwritten with the \\'--max-read-length\\' parameter. With \\'--force-rlength-check\\', NextGenMap will run through all reads to find the max. read length. This might take some time.\\n[INPUT] Average read length: 130 (min: 8, max: 152)\\n[INPUT] Corridor width: 24\\n[INPUT] Average kmer hits pro read: 29.935968\\n[INPUT] Max possible kmer hit: 39\\n[INPUT] Estimated sensitivity: 0.767589\\n[INPUT] Estimating parameter took 38.072s\\n[INPUT] Input is Fastq\\n[INPUT] Input is Fastq\\n[OPENCL] Available platforms: 1\\n[OPENCL] AMD Accelerated Parallel Processing\\n[OPENCL] Selecting OpenCl platform: AMD Accelerated Parallel Processing\\n[OPENCL] Platform: OpenCL 1.2 AMD-APP (1214.3)\\n[OPENCL] 1 CPU device found.\\n[OPENCL] Device 0: Intel(R) Xeon(R) CPU @ 3.10GHz (Driver: 1214.3 (sse2,avx))\\n[OPENCL] 8 CPU cores available.\\n[MAIN] Valid pairs found: 83.60%\\n[MAIN] Estimated insert size: 197 bp\\n[MAIN] Alignments computed: 124782922\\n[MAIN] Done (120095169 reads mapped (94.47%), 7031461 reads not mapped (312 discarded), 127126318 lines written)(elapsed: 10979.341797s)\\n[UPDATE_CHECK] Your version of NGM is more than 6 months old - a newer version may be available. (For performing an automatic check use --update-check)\\n[MAIN] Valid pairs found: 85.84%\\n[MAIN] Estimated insert size: 185 bp\\n[MAIN] Alignments computed: 142391545\\n[MAIN] Done (138791508 reads mapped (96.85%), 4513762 reads not mapped (214 discarded), 143305056 lines written)(elapsed: 11352.698242s)\\n[UPDATE_CHECK] Your version of NGM is more than 6 months old - a newer version may be available. (For performing an automatic check use --update-check)\\nparsing jkobject\\ndoing all\\nRunning slamDunk map for 2 files (14 threads)\\ndoing paired end mapping!\\n -1 ../../data/slamseq_MYB_degraded_coculture_v1/fastqs/mr588-MV411-MYB-dTAG-VHL_coculture_12h-r4_R1_001_val_1.fq.gz -2 ../../data/slamseq_MYB_degraded_coculture_v1/fastqs/mr588-MV411-MYB-dTAG-VHL_coculture_12h-r4_R2_001_val_2.fq.gz\\nRunning: \"ngm -r ../../ref/Homo_sapiens_assembly38_ERCC92_noAlt.fasta -1 ../../data/slamseq_MYB_degraded_coculture_v1/fastqs/mr588-MV411-MYB-dTAG-VHL_coculture_12h-r4_R1_001_val_1.fq.gz -2 ../../data/slamseq_MYB_degraded_coculture_v1/fastqs/mr588-MV411-MYB-dTAG-VHL_coculture_12h-r4_R2_001_val_2.fq.gz -t 14 --no-progress --slam-seq 2 -5 12 --max-polya 4 -l  --rg-id 0 --rg-sm sample_0:NA:-1 -o ../../data/slamseq_MYB_degraded_coculture_v1/res/map/mr588-MV411-MYB-dTAG-VHL_coculture_12h-r4_slamdunk_mapped.sam\"\\nRunning: \"samtools view -@ 14 -Sb -o ../../data/slamseq_MYB_degraded_coculture_v1/res/map/mr588-MV411-MYB-dTAG-VHL_coculture_12h-r4_slamdunk_mapped.bam ../../data/slamseq_MYB_degraded_coculture_v1/res/map/mr588-MV411-MYB-dTAG-VHL_coculture_12h-r4_slamdunk_mapped.sam\"\\nslamdunk all\\nRunning slamDunk map for 2 files (14 threads)\\n.\\nRunning slamDunk sam2bam for 1 files (14 threads)\\n.\\nRunning slamDunk filter for 1 files (14 threads)\\n[E::idx_find_and_load] Could not retrieve index file for \\'../../data/slamseq_MYB_degraded_coculture_v1/res/map/mr588-MV411-MYB-dTAG-VHL_coculture_12h-r4_slamdunk_mapped.bam\\'\\nparsing jkobject\\ndoing all\\nRunning slamDunk map for 2 files (14 threads)\\ndoing paired end mapping!\\n -1 ../../data/slamseq_MYB_degraded_coculture_v1/fastqs/mr589-MV411-MYB-dTAG-VHL_coculture_12h-r5_R1_001_val_1.fq.gz -2 ../../data/slamseq_MYB_degraded_coculture_v1/fastqs/mr589-MV411-MYB-dTAG-VHL_coculture_12h-r5_R2_001_val_2.fq.gz\\nRunning: \"ngm -r ../../ref/Homo_sapiens_assembly38_ERCC92_noAlt.fasta -1 ../../data/slamseq_MYB_degraded_coculture_v1/fastqs/mr589-MV411-MYB-dTAG-VHL_coculture_12h-r5_R1_001_val_1.fq.gz -2 ../../data/slamseq_MYB_degraded_coculture_v1/fastqs/mr589-MV411-MYB-dTAG-VHL_coculture_12h-r5_R2_001_val_2.fq.gz -t 14 --no-progress --slam-seq 2 -5 12 --max-polya 4 -l  --rg-id 0 --rg-sm sample_0:NA:-1 -o ../../data/slamseq_MYB_degraded_coculture_v1/res/map/mr589-MV411-MYB-dTAG-VHL_coculture_12h-r5_slamdunk_mapped.sam\"\\nRunning: \"samtools view -@ 14 -Sb -o ../../data/slamseq_MYB_degraded_coculture_v1/res/map/mr589-MV411-MYB-dTAG-VHL_coculture_12h-r5_slamdunk_mapped.bam ../../data/slamseq_MYB_degraded_coculture_v1/res/map/mr589-MV411-MYB-dTAG-VHL_coculture_12h-r5_slamdunk_mapped.sam\"\\nslamdunk all\\nRunning slamDunk map for 2 files (14 threads)\\n.\\nRunning slamDunk sam2bam for 1 files (14 threads)\\n.\\nRunning slamDunk filter for 1 files (14 threads)\\n[E::idx_find_and_load] Could not retrieve index file for \\'../../data/slamseq_MYB_degraded_coculture_v1/res/map/mr589-MV411-MYB-dTAG-VHL_coculture_12h-r5_slamdunk_mapped.bam\\'\\n[E::idx_find_and_load] Could not retrieve index file for \\'../../data/slamseq_MYB_degraded_coculture_v1/res/filter/mr588-MV411-MYB-dTAG-VHL_coculture_12h-r4_filtered.bam\\'\\n[E::idx_find_and_load] Could not retrieve index file for \\'../../data/slamseq_MYB_degraded_coculture_v1/res/filter/mr589-MV411-MYB-dTAG-VHL_coculture_12h-r5_filtered.bam\\'\\n[bam_sort_core] merging from 58 files and 1 in-memory blocks...\\n[bam_sort_core] merging from 67 files and 1 in-memory blocks...\\n\\n\\nRunning slamDunk SNP for 1 files (7 threads)\\n\\n\\nRunning slamDunk SNP for 1 files (7 threads)\\n\\nRunning slamDunk tcount for 1 files (14 threads)\\n\\n\\nRunning: \"samtools sort -o ../../data/slamseq_MYB_degraded_coculture_v1/res/filter/mr588-MV411-MYB-dTAG-VHL_coculture_12h-r4_filtered.bam ../../data/slamseq_MYB_degraded_coculture_v1/res/filter/mr588-MV411-MYB-dTAG-VHL_coculture_12h-r4_filtered.bam_tmp\"\\n...\\nRunning slamDunk tcount for 1 files (14 threads)\\n\\n\\nRunning: \"samtools sort -o ../../data/slamseq_MYB_degraded_coculture_v1/res/filter/mr589-MV411-MYB-dTAG-VHL_coculture_12h-r5_filtered.bam ../../data/slamseq_MYB_degraded_coculture_v1/res/filter/mr589-MV411-MYB-dTAG-VHL_coculture_12h-r5_filtered.bam_tmp\"\\n...']"
      ]
     },
     "execution_count": 23,
     "metadata": {},
     "output_type": "execute_result"
    }
   ],
   "source": [
    "%%time\n",
    "\n",
    "# run slamdunk\n",
    "# we are doing it paired end\n",
    "h.parrun(['slamdunk all'+\n",
    "          ' -o '+res_dir+\n",
    "          ' -r '+refgenome_noAlt+\n",
    "          ' -b '+gene_intervals+\n",
    "          ' -t 14'+\n",
    "          ' -c 2'+\n",
    "          ' -rl 152'+ # max-read-length = 152\n",
    "          # new parameters\n",
    "          ' -5 12'+\n",
    "          ' -n 1'+ # reads map to multiple locations at once\n",
    "          ' -m True'+ # multimapping\n",
    "          ' -N '+val1.split('/')[-1].split('_R')[0]+\n",
    "          ' '+val1+\" \"+val2+\n",
    "          ' 2>&1 | tee '+res_dir+'/'+os.path.basename(val1)+'_slumdunk.log'\n",
    "          for val1, val2 in h.grouped(fastq_full[26:], 2)], 2)"
   ]
  },
  {
   "cell_type": "code",
   "execution_count": 24,
   "id": "3f528977",
   "metadata": {},
   "outputs": [
    {
     "name": "stdout",
     "output_type": "stream",
     "text": [
      "mr577-MV411-VHL_coculture_12h-r2_R1_001_val_1.fq.gz\n",
      "mr579-MV411-VHL_coculture_12h-r4_R1_001_val_1.fq.gz\n"
     ]
    }
   ],
   "source": [
    "for val1, val2 in h.grouped(fastq_full[12:14]+fastq_full[16:18], 2): print(os.path.basename(val1))"
   ]
  },
  {
   "cell_type": "code",
   "execution_count": 25,
   "id": "a5a2cd24",
   "metadata": {
    "collapsed": true
   },
   "outputs": [
    {
     "name": "stdout",
     "output_type": "stream",
     "text": [
      "CPU times: user 592 ms, sys: 172 ms, total: 764 ms\n",
      "Wall time: 5h 57min 4s\n"
     ]
    },
    {
     "data": {
      "text/plain": [
       "['[MAIN] NextGenMap 0.5.5\\n[MAIN] Startup : x64 (build Jul  3 2020 02:47:43)\\n[MAIN] NextGenMap 0.5.5\\n[MAIN] Startup : x64 (build Jul  3 2020 02:47:43)\\n[MAIN] [MAIN] Starting time: 2022-06-23.17:12:09\\nStarting time: 2022-06-23.17:12:09\\n[CONFIG] Parameter:  --affine 0 --argos_min_score 0 --bin_size 2 --block_multiplier 2 --broken_pairs 0 --bs_cutoff 6 --bs_mapping 0 --cpu_threads 14 --dualstrand 1 --fast 0 --fast_pairing 0 --force_rlength_check 0 --format 1 --gap_extend_penalty 5 --gap_read_penalty 20 --gap_ref_penalty 20 --hard_clip 0 --keep_tags 0 --kmer 13 --kmer_min 0 --kmer_skip 2 --local 1 --match_bonus 10 --match_bonus_tc 2 --match_bonus_tt 10 --max_cmrs 2147483647 --max_equal 1 --max_insert_size 1000 --max_polya 4 --max_read_length 0 --min_identity 0.650000 --min_insert_size 0 --min_mq 0 --min_residues 0.500000 --min_score 0.000000 --mismatch_penalty 15 --mode 0 --no_progress 1 --no_unal 0 --ocl_threads 1 --output ../../data/slamseq_MYB_degraded_coculture_v1/res/map/mr577-MV411-VHL_coculture_12h-r2_slamdunk_mapped.sam --overwrite 1 --pair_score_cutoff 0.900000 --paired 1 --parse_all 1 --pe_delimiter / --qry1 ../../data/slamseq_MYB_degraded_coculture_v1/fastqs/mr577-MV411-VHL_coculture_12h-r2_R1_001_val_1.fq.gz --qry2 ../../data/slamseq_MYB_degraded_coculture_v1/fastqs/mr577-MV411-VHL_coculture_12h-r2_R2_001_val_2.fq.gz --qry_count -1 --qry_start 0 --ref ../../ref/Homo_sapiens_assembly38_ERCC92_noAlt.fasta --ref_mode -1 --rg_id 0 --rg_sm sample_0:NA:-1 --sensitive 0 --silent_clip 0 --skip_mate_check 0 --skip_save 0 --slam_seq 2 --step_count 4 --strata 0 --topn 1 --trim5 12 --update_check 0 --very_fast 0 --very_sensitive 0\\n[CONFIG] Parameter:  --affine 0 --argos_min_score 0 --bin_size 2 --block_multiplier 2 --broken_pairs 0 --bs_cutoff 6 --bs_mapping 0 --cpu_threads 14 --dualstrand 1 --fast 0 --fast_pairing 0 --force_rlength_check 0 --format 1 --gap_extend_penalty 5 --gap_read_penalty 20 --gap_ref_penalty 20 --hard_clip 0 --keep_tags 0 --kmer 13 --kmer_min 0 --kmer_skip 2 --local 1 --match_bonus 10 --match_bonus_tc 2 --match_bonus_tt 10 --max_cmrs 2147483647 --max_equal 1 --max_insert_size 1000 --max_polya 4 --max_read_length 0 --min_identity 0.650000 --min_insert_size 0 --min_mq 0 --min_residues 0.500000 --min_score 0.000000 --mismatch_penalty 15 --mode 0 --no_progress 1 --no_unal 0 --ocl_threads 1 --output ../../data/slamseq_MYB_degraded_coculture_v1/res/map/mr579-MV411-VHL_coculture_12h-r4_slamdunk_mapped.sam --overwrite 1 --pair_score_cutoff 0.900000 --paired 1 --parse_all 1 --pe_delimiter / --qry1 ../../data/slamseq_MYB_degraded_coculture_v1/fastqs/mr579-MV411-VHL_coculture_12h-r4_R1_001_val_1.fq.gz --qry2 ../../data/slamseq_MYB_degraded_coculture_v1/fastqs/mr579-MV411-VHL_coculture_12h-r4_R2_001_val_2.fq.gz --qry_count -1 --qry_start 0 --ref ../../ref/Homo_sapiens_assembly38_ERCC92_noAlt.fasta --ref_mode -1 --rg_id 0 --rg_sm sample_0:NA:-1 --sensitive 0 --silent_clip 0 --skip_mate_check 0 --skip_save 0 --slam_seq 2 --step_count 4 --strata 0 --topn 1 --trim5 12 --update_check 0 --very_fast 0 --very_sensitive 0\\n[NGM] Opening for output (SAM): ../../data/slamseq_MYB_degraded_coculture_v1/res/map/mr577-MV411-VHL_coculture_12h-r2_slamdunk_mapped.sam[NGM] Opening for output (SAM): ../../data/slamseq_MYB_degraded_coculture_v1/res/map/mr579-MV411-VHL_coculture_12h-r4_slamdunk_mapped.sam\\n\\n[SEQPROV] Reading encoded reference from ../../ref/Homo_sapiens_assembly38_ERCC92_noAlt.fasta-enc.2.ngm\\n[SEQPROV] Reading encoded reference from ../../ref/Homo_sapiens_assembly38_ERCC92_noAlt.fasta-enc.2.ngm\\n[SEQPROV] Reading 3111 Mbp from disk took 14.36s[SEQPROV] Reading 3111 Mbp from disk took 14.36s\\n\\n[PREPROCESS] Reading RefTable from ../../ref/Homo_sapiens_assembly38_ERCC92_noAlt.fasta-ht-13-2.3.ngm\\n[PREPROCESS] Reading RefTable from ../../ref/Homo_sapiens_assembly38_ERCC92_noAlt.fasta-ht-13-2.3.ngm\\n[PREPROCESS] [PREPROCESS] Reading from disk took 38.97s\\nReading from disk took 38.97s\\n[PREPROCESS] Max. k-mer frequency set so 887!\\n[PREPROCESS] Max. k-mer frequency set so 887!\\n[INPUT] Input is paired end data.\\n[INPUT] Opening file ../../data/slamseq_MYB_degraded_coculture_v1/fastqs/mr577-MV411-VHL_coculture_12h-r2_R1_001_val_1.fq.gz for reading[INPUT] Input is paired end data.\\n[INPUT] Opening file ../../data/slamseq_MYB_degraded_coculture_v1/fastqs/mr579-MV411-VHL_coculture_12h-r4_R1_001_val_1.fq.gz for reading\\n[INPUT] Opening file ../../data/slamseq_MYB_degraded_coculture_v1/fastqs/mr579-MV411-VHL_coculture_12h-r4_R2_001_val_2.fq.gz for reading\\n\\n[INPUT] Opening file ../../data/slamseq_MYB_degraded_coculture_v1/fastqs/mr577-MV411-VHL_coculture_12h-r2_R2_001_val_2.fq.gz for reading\\n[INPUT] Input is Fastq\\n[INPUT] Estimating parameter from data\\n[INPUT] Input is Fastq\\n[INPUT] Estimating parameter from data\\n[INPUT] Input reads don\\'t have the same length!\\n[INPUT] Maximum read length found in the first 10000000 reads is 138. For longer reads only the first 151 bp will be mapped.\\n[INPUT] The maximum read length can be overwritten with the \\'--max-read-length\\' parameter. With \\'--force-rlength-check\\', NextGenMap will run through all reads to find the max. read length. This might take some time.\\n[INPUT] Average read length: 125 (min: 8, max: 152)\\n[INPUT] Corridor width: 23\\n[INPUT] Average kmer hits pro read: 29.188927\\n[INPUT] Max possible kmer hit: 37\\n[INPUT] Estimated sensitivity: 0.788890\\n[INPUT] Estimating parameter took 37.260s\\n[INPUT] Input is Fastq\\n[INPUT] Input is Fastq\\n[INPUT] Input reads don\\'t have the same length!\\n[INPUT] Maximum read length found in the first 10000000 reads is 138. For longer reads only the first 151 bp will be mapped.\\n[INPUT] The maximum read length can be overwritten with the \\'--max-read-length\\' parameter. With \\'--force-rlength-check\\', NextGenMap will run through all reads to find the max. read length. This might take some time.\\n[INPUT] Average read length: 129 (min: 8, max: 152)\\n[INPUT] Corridor width: 24\\n[INPUT] Average kmer hits pro read: 30.839472\\n[INPUT] Max possible kmer hit: 39\\n[INPUT] Estimated sensitivity: 0.790756\\n[INPUT] Estimating parameter took 37.684s\\n[INPUT] Input is Fastq\\n[INPUT] Input is Fastq\\n[OPENCL] Available platforms: 1\\n[OPENCL] AMD Accelerated Parallel Processing\\n[OPENCL] Selecting OpenCl platform: AMD Accelerated Parallel Processing\\n[OPENCL] Available platforms: 1\\n[OPENCL] AMD Accelerated Parallel Processing\\n[OPENCL] Selecting OpenCl platform: AMD Accelerated Parallel Processing\\n[OPENCL] Platform: OpenCL 1.2 AMD-APP (1214.3)\\n[OPENCL] 1 CPU device found.\\n[OPENCL] Device 0: Intel(R) Xeon(R) CPU @ 3.10GHz (Driver: 1214.3 (sse2,avx))\\n[OPENCL] 8 CPU cores available.[OPENCL] Platform: OpenCL 1.2 AMD-APP (1214.3)\\n[OPENCL] 1 CPU device found.\\n[OPENCL] Device 0: Intel(R) Xeon(R) CPU @ 3.10GHz (Driver: 1214.3 (sse2,avx))\\n\\n[OPENCL] 8 CPU cores available.\\n[MAIN] Valid pairs found: 83.01%\\n[MAIN] Estimated insert size: 210 bp\\n[MAIN] Alignments computed: 122076837\\n[MAIN] Done (118871661 reads mapped (96.38%), 4460945 reads not mapped (142 discarded), 123332464 lines written)(elapsed: 10172.120117s)\\n[UPDATE_CHECK] Your version of NGM is more than 6 months old - a newer version may be available. (For performing an automatic check use --update-check)\\nparsing jkobject\\ndoing all\\nRunning slamDunk map for 2 files (14 threads)\\ndoing paired end mapping!\\n -1 ../../data/slamseq_MYB_degraded_coculture_v1/fastqs/mr579-MV411-VHL_coculture_12h-r4_R1_001_val_1.fq.gz -2 ../../data/slamseq_MYB_degraded_coculture_v1/fastqs/mr579-MV411-VHL_coculture_12h-r4_R2_001_val_2.fq.gz\\nRunning: \"ngm -r ../../ref/Homo_sapiens_assembly38_ERCC92_noAlt.fasta -1 ../../data/slamseq_MYB_degraded_coculture_v1/fastqs/mr579-MV411-VHL_coculture_12h-r4_R1_001_val_1.fq.gz -2 ../../data/slamseq_MYB_degraded_coculture_v1/fastqs/mr579-MV411-VHL_coculture_12h-r4_R2_001_val_2.fq.gz -t 14 --no-progress --slam-seq 2 -5 12 --max-polya 4 -l  --rg-id 0 --rg-sm sample_0:NA:-1 -o ../../data/slamseq_MYB_degraded_coculture_v1/res/map/mr579-MV411-VHL_coculture_12h-r4_slamdunk_mapped.sam\"\\nRunning: \"samtools view -@ 14 -Sb -o ../../data/slamseq_MYB_degraded_coculture_v1/res/map/mr579-MV411-VHL_coculture_12h-r4_slamdunk_mapped.bam ../../data/slamseq_MYB_degraded_coculture_v1/res/map/mr579-MV411-VHL_coculture_12h-r4_slamdunk_mapped.sam\"\\nslamdunk all\\nRunning slamDunk map for 2 files (14 threads)\\n.\\nRunning slamDunk sam2bam for 1 files (14 threads)\\n.\\nRunning slamDunk filter for 1 files (14 threads)\\n[E::idx_find_and_load] Could not retrieve index file for \\'../../data/slamseq_MYB_degraded_coculture_v1/res/map/mr579-MV411-VHL_coculture_12h-r4_slamdunk_mapped.bam\\'\\n[MAIN] Valid pairs found: 85.62%\\n[MAIN] Estimated insert size: 186 bp\\n[MAIN] Alignments computed: 179373491\\n[MAIN] Done (174429930 reads mapped (96.48%), 6366878 reads not mapped (250 discarded), 180796558 lines written)(elapsed: 12432.061523s)\\n[UPDATE_CHECK] Your version of NGM is more than 6 months old - a newer version may be available. (For performing an automatic check use --update-check)\\nparsing jkobject\\ndoing all\\nRunning slamDunk map for 2 files (14 threads)\\ndoing paired end mapping!\\n -1 ../../data/slamseq_MYB_degraded_coculture_v1/fastqs/mr577-MV411-VHL_coculture_12h-r2_R1_001_val_1.fq.gz -2 ../../data/slamseq_MYB_degraded_coculture_v1/fastqs/mr577-MV411-VHL_coculture_12h-r2_R2_001_val_2.fq.gz\\nRunning: \"ngm -r ../../ref/Homo_sapiens_assembly38_ERCC92_noAlt.fasta -1 ../../data/slamseq_MYB_degraded_coculture_v1/fastqs/mr577-MV411-VHL_coculture_12h-r2_R1_001_val_1.fq.gz -2 ../../data/slamseq_MYB_degraded_coculture_v1/fastqs/mr577-MV411-VHL_coculture_12h-r2_R2_001_val_2.fq.gz -t 14 --no-progress --slam-seq 2 -5 12 --max-polya 4 -l  --rg-id 0 --rg-sm sample_0:NA:-1 -o ../../data/slamseq_MYB_degraded_coculture_v1/res/map/mr577-MV411-VHL_coculture_12h-r2_slamdunk_mapped.sam\"\\nRunning: \"samtools view -@ 14 -Sb -o ../../data/slamseq_MYB_degraded_coculture_v1/res/map/mr577-MV411-VHL_coculture_12h-r2_slamdunk_mapped.bam ../../data/slamseq_MYB_degraded_coculture_v1/res/map/mr577-MV411-VHL_coculture_12h-r2_slamdunk_mapped.sam\"\\nslamdunk all\\nRunning slamDunk map for 2 files (14 threads)\\n.\\nRunning slamDunk sam2bam for 1 files (14 threads)\\n.\\nRunning slamDunk filter for 1 files (14 threads)\\n[E::idx_find_and_load] Could not retrieve index file for \\'../../data/slamseq_MYB_degraded_coculture_v1/res/map/mr577-MV411-VHL_coculture_12h-r2_slamdunk_mapped.bam\\'\\n[E::idx_find_and_load] Could not retrieve index file for \\'../../data/slamseq_MYB_degraded_coculture_v1/res/filter/mr579-MV411-VHL_coculture_12h-r4_filtered.bam\\'\\n[bam_sort_core] merging from 58 files and 1 in-memory blocks...\\n[E::idx_find_and_load] Could not retrieve index file for \\'../../data/slamseq_MYB_degraded_coculture_v1/res/filter/mr577-MV411-VHL_coculture_12h-r2_filtered.bam\\'\\n\\n\\nRunning slamDunk SNP for 1 files (7 threads)\\n[bam_sort_core] merging from 84 files and 1 in-memory blocks...\\n\\nRunning slamDunk tcount for 1 files (14 threads)\\n\\n\\nRunning slamDunk SNP for 1 files (7 threads)\\n\\n\\nRunning: \"samtools sort -o ../../data/slamseq_MYB_degraded_coculture_v1/res/filter/mr579-MV411-VHL_coculture_12h-r4_filtered.bam ../../data/slamseq_MYB_degraded_coculture_v1/res/filter/mr579-MV411-VHL_coculture_12h-r4_filtered.bam_tmp\"\\n...\\nRunning slamDunk tcount for 1 files (14 threads)\\n\\n\\nRunning: \"samtools sort -o ../../data/slamseq_MYB_degraded_coculture_v1/res/filter/mr577-MV411-VHL_coculture_12h-r2_filtered.bam ../../data/slamseq_MYB_degraded_coculture_v1/res/filter/mr577-MV411-VHL_coculture_12h-r2_filtered.bam_tmp\"\\n...']"
      ]
     },
     "execution_count": 25,
     "metadata": {},
     "output_type": "execute_result"
    }
   ],
   "source": [
    "%%time\n",
    "\n",
    "# run slamdunk\n",
    "# we are doing it paired end\n",
    "h.parrun(['slamdunk all'+\n",
    "          ' -o '+res_dir+\n",
    "          ' -r '+refgenome_noAlt+\n",
    "          ' -b '+gene_intervals+\n",
    "          ' -t 14'+\n",
    "          ' -c 2'+\n",
    "          ' -rl 152'+ # max-read-length = 152\n",
    "          # new parameters\n",
    "          ' -5 12'+\n",
    "          ' -n 1'+ # reads map to multiple locations at once\n",
    "          ' -m True'+ # multimapping\n",
    "          ' -N '+val1.split('/')[-1].split('_R')[0]+\n",
    "          ' '+val1+\" \"+val2+\n",
    "          ' 2>&1 | tee '+res_dir+'/'+os.path.basename(val1)+'_slumdunk.log'\n",
    "          for val1, val2 in h.grouped(fastq_full[12:14]+fastq_full[16:18], 2)], 2)"
   ]
  },
  {
   "cell_type": "markdown",
   "id": "acda7387",
   "metadata": {},
   "source": [
    "## save the data to the bucket"
   ]
  },
  {
   "cell_type": "code",
   "execution_count": 26,
   "id": "fb87dfe6",
   "metadata": {},
   "outputs": [
    {
     "data": {
      "text/plain": [
       "'MYB_degraded_coculture_v1'"
      ]
     },
     "execution_count": 26,
     "metadata": {},
     "output_type": "execute_result"
    }
   ],
   "source": [
    "project"
   ]
  },
  {
   "cell_type": "code",
   "execution_count": 27,
   "id": "36e3bc93",
   "metadata": {},
   "outputs": [
    {
     "name": "stdout",
     "output_type": "stream",
     "text": [
      "fastqs\tres\r\n"
     ]
    }
   ],
   "source": [
    "! ls ../../data/slamseq_$project"
   ]
  },
  {
   "cell_type": "markdown",
   "id": "b727bb5e",
   "metadata": {},
   "source": [
    "* save fastqs to bucket\n",
    "* save processed res to bucket\n",
    "* remove processed fastqs from local"
   ]
  },
  {
   "cell_type": "code",
   "execution_count": 28,
   "id": "51b7c138",
   "metadata": {},
   "outputs": [
    {
     "name": "stdout",
     "output_type": "stream",
     "text": [
      "Copying file://../../data/slamseq_MYB_degraded_coculture_v1/fastqs/mr571-MV411-DMSO_coculture_12h-r1_R2_001_unpaired_2.fq.gz [Content-Type=application/octet-stream]...\n",
      "Copying file://../../data/slamseq_MYB_degraded_coculture_v1/fastqs/mr571-MV411-DMSO_coculture_12h-r1_R1_001.fastq.gz_trimming_report.txt [Content-Type=text/plain]...\n",
      "Copying file://../../data/slamseq_MYB_degraded_coculture_v1/fastqs/mr572-MV411-DMSO_coculture_12h-r2_R1_001_unpaired_1.fq.gz [Content-Type=application/octet-stream]...\n",
      "Copying file://../../data/slamseq_MYB_degraded_coculture_v1/fastqs/mr571-MV411-DMSO_coculture_12h-r1_R2_001.fastq.gz_trimming_report.txt [Content-Type=text/plain]...\n",
      "Copying file://../../data/slamseq_MYB_degraded_coculture_v1/fastqs/mr571-MV411-DMSO_coculture_12h-r1_R1_001_val_1.fq.gz [Content-Type=application/octet-stream]...\n",
      "Copying file://../../data/slamseq_MYB_degraded_coculture_v1/fastqs/mr573-MV411-DMSO_coculture_12h-r3_R2_001.fastq.gz [Content-Type=application/octet-stream]...\n",
      "Copying file://../../data/slamseq_MYB_degraded_coculture_v1/fastqs/mr571-MV411-DMSO_coculture_12h-r1_R1_001_unpaired_1.fq.gz [Content-Type=application/octet-stream]...\n",
      "Copying file://../../data/slamseq_MYB_degraded_coculture_v1/fastqs/mr573-MV411-DMSO_coculture_12h-r3_R2_001.fastq.gz_trimming_report.txt [Content-Type=text/plain]...\n",
      "Copying file://../../data/slamseq_MYB_degraded_coculture_v1/fastqs/mr571-MV411-DMSO_coculture_12h-r1_R2_001_val_2.fq.gz [Content-Type=application/octet-stream]...\n",
      "Copying file://../../data/slamseq_MYB_degraded_coculture_v1/fastqs/mr572-MV411-DMSO_coculture_12h-r2_R1_001.fastq.gz [Content-Type=application/octet-stream]...\n",
      "Copying file://../../data/slamseq_MYB_degraded_coculture_v1/fastqs/mr573-MV411-DMSO_coculture_12h-r3_R2_001_unpaired_2.fq.gz [Content-Type=application/octet-stream]...\n",
      "Copying file://../../data/slamseq_MYB_degraded_coculture_v1/fastqs/mr574-MV411-DMSO_coculture_12h-r4_R1_001.fastq.gz_trimming_report.txt [Content-Type=text/plain]...\n",
      "Copying file://../../data/slamseq_MYB_degraded_coculture_v1/fastqs/mr571-MV411-DMSO_coculture_12h-r1_R1_001.fastq.gz [Content-Type=application/octet-stream]...\n",
      "Copying file://../../data/slamseq_MYB_degraded_coculture_v1/fastqs/mr572-MV411-DMSO_coculture_12h-r2_R1_001.fastq.gz_trimming_report.txt [Content-Type=text/plain]...\n",
      "Copying file://../../data/slamseq_MYB_degraded_coculture_v1/fastqs/mr571-MV411-DMSO_coculture_12h-r1_R2_001.fastq.gz [Content-Type=application/octet-stream]...\n",
      "Copying file://../../data/slamseq_MYB_degraded_coculture_v1/fastqs/mr572-MV411-DMSO_coculture_12h-r2_R1_001_val_1.fq.gz [Content-Type=application/octet-stream]...\n",
      "==> NOTE: You are uploading one or more large file(s), which would run\n",
      "significantly faster if you enable parallel composite uploads. This\n",
      "feature can be enabled by editing the\n",
      "\"parallel_composite_upload_threshold\" value in your .boto\n",
      "configuration file. However, note that if you do this large files will\n",
      "be uploaded as `composite objects\n",
      "<https://cloud.google.com/storage/docs/composite-objects>`_,which\n",
      "means that any user who downloads such objects will need to have a\n",
      "compiled crcmod installed (see \"gsutil help crcmod\"). This is because\n",
      "without a compiled crcmod, computing checksums on composite objects is\n",
      "so slow that gsutil disables downloads of composite objects.\n",
      "\n",
      "Copying file://../../data/slamseq_MYB_degraded_coculture_v1/fastqs/mr572-MV411-DMSO_coculture_12h-r2_R2_001.fastq.gz_trimming_report.txt [Content-Type=text/plain]...\n",
      "Copying file://../../data/slamseq_MYB_degraded_coculture_v1/fastqs/mr574-MV411-DMSO_coculture_12h-r4_R2_001_unpaired_2.fq.gz [Content-Type=application/octet-stream]...\n",
      "Copying file://../../data/slamseq_MYB_degraded_coculture_v1/fastqs/mr574-MV411-DMSO_coculture_12h-r4_R2_001_val_2.fq.gz [Content-Type=application/octet-stream]...\n",
      "Copying file://../../data/slamseq_MYB_degraded_coculture_v1/fastqs/mr572-MV411-DMSO_coculture_12h-r2_R2_001_unpaired_2.fq.gz [Content-Type=application/octet-stream]...\n",
      "Copying file://../../data/slamseq_MYB_degraded_coculture_v1/fastqs/mr573-MV411-DMSO_coculture_12h-r3_R2_001_val_2.fq.gz [Content-Type=application/octet-stream]...\n",
      "Copying file://../../data/slamseq_MYB_degraded_coculture_v1/fastqs/mr572-MV411-DMSO_coculture_12h-r2_R2_001.fastq.gz [Content-Type=application/octet-stream]...\n",
      "Copying file://../../data/slamseq_MYB_degraded_coculture_v1/fastqs/mr574-MV411-DMSO_coculture_12h-r4_R1_001_val_1.fq.gz [Content-Type=application/octet-stream]...\n",
      "Copying file://../../data/slamseq_MYB_degraded_coculture_v1/fastqs/mr575-MV411-DMSO_coculture_12h-r5_R2_001.fastq.gz_trimming_report.txt [Content-Type=text/plain]...\n",
      "Copying file://../../data/slamseq_MYB_degraded_coculture_v1/fastqs/mr574-MV411-DMSO_coculture_12h-r4_R2_001.fastq.gz [Content-Type=application/octet-stream]...\n",
      "Copying file://../../data/slamseq_MYB_degraded_coculture_v1/fastqs/mr575-MV411-DMSO_coculture_12h-r5_R1_001.fastq.gz_trimming_report.txt [Content-Type=text/plain]...\n",
      "Copying file://../../data/slamseq_MYB_degraded_coculture_v1/fastqs/mr574-MV411-DMSO_coculture_12h-r4_R1_001_unpaired_1.fq.gz [Content-Type=application/octet-stream]...\n",
      "Copying file://../../data/slamseq_MYB_degraded_coculture_v1/fastqs/mr575-MV411-DMSO_coculture_12h-r5_R1_001.fastq.gz [Content-Type=application/octet-stream]...\n",
      "Copying file://../../data/slamseq_MYB_degraded_coculture_v1/fastqs/mr574-MV411-DMSO_coculture_12h-r4_R2_001.fastq.gz_trimming_report.txt [Content-Type=text/plain]...\n",
      "Copying file://../../data/slamseq_MYB_degraded_coculture_v1/fastqs/mr573-MV411-DMSO_coculture_12h-r3_R1_001_val_1.fq.gz [Content-Type=application/octet-stream]...\n",
      "Copying file://../../data/slamseq_MYB_degraded_coculture_v1/fastqs/mr575-MV411-DMSO_coculture_12h-r5_R1_001_val_1.fq.gz [Content-Type=application/octet-stream]...\n",
      "Copying file://../../data/slamseq_MYB_degraded_coculture_v1/fastqs/mr574-MV411-DMSO_coculture_12h-r4_R1_001.fastq.gz [Content-Type=application/octet-stream]...\n",
      "Copying file://../../data/slamseq_MYB_degraded_coculture_v1/fastqs/mr575-MV411-DMSO_coculture_12h-r5_R1_001_unpaired_1.fq.gz [Content-Type=application/octet-stream]...\n",
      "Copying file://../../data/slamseq_MYB_degraded_coculture_v1/fastqs/mr573-MV411-DMSO_coculture_12h-r3_R1_001.fastq.gz [Content-Type=application/octet-stream]...\n",
      "Copying file://../../data/slamseq_MYB_degraded_coculture_v1/fastqs/mr575-MV411-DMSO_coculture_12h-r5_R2_001.fastq.gz [Content-Type=application/octet-stream]...\n",
      "Copying file://../../data/slamseq_MYB_degraded_coculture_v1/fastqs/mr575-MV411-DMSO_coculture_12h-r5_R2_001_unpaired_2.fq.gz [Content-Type=application/octet-stream]...\n",
      "Copying file://../../data/slamseq_MYB_degraded_coculture_v1/fastqs/mr573-MV411-DMSO_coculture_12h-r3_R1_001.fastq.gz_trimming_report.txt [Content-Type=text/plain]...\n",
      "Copying file://../../data/slamseq_MYB_degraded_coculture_v1/fastqs/mr575-MV411-DMSO_coculture_12h-r5_R2_001_val_2.fq.gz [Content-Type=application/octet-stream]...\n",
      "Copying file://../../data/slamseq_MYB_degraded_coculture_v1/fastqs/mr573-MV411-DMSO_coculture_12h-r3_R1_001_unpaired_1.fq.gz [Content-Type=application/octet-stream]...\n",
      "Copying file://../../data/slamseq_MYB_degraded_coculture_v1/fastqs/mr572-MV411-DMSO_coculture_12h-r2_R2_001_val_2.fq.gz [Content-Type=application/octet-stream]...\n",
      "Copying file://../../data/slamseq_MYB_degraded_coculture_v1/fastqs/mr576-MV411-VHL_coculture_12h-r1_R1_001.fastq.gz [Content-Type=application/octet-stream]...\n",
      "Copying file://../../data/slamseq_MYB_degraded_coculture_v1/fastqs/mr576-MV411-VHL_coculture_12h-r1_R1_001.fastq.gz_trimming_report.txt [Content-Type=text/plain]...\n",
      "Copying file://../../data/slamseq_MYB_degraded_coculture_v1/fastqs/mr576-MV411-VHL_coculture_12h-r1_R1_001_unpaired_1.fq.gz [Content-Type=application/octet-stream]...\n",
      "Copying file://../../data/slamseq_MYB_degraded_coculture_v1/fastqs/mr576-MV411-VHL_coculture_12h-r1_R1_001_val_1.fq.gz [Content-Type=application/octet-stream]...\n",
      "Copying file://../../data/slamseq_MYB_degraded_coculture_v1/fastqs/mr576-MV411-VHL_coculture_12h-r1_R2_001.fastq.gz [Content-Type=application/octet-stream]...\n",
      "Copying file://../../data/slamseq_MYB_degraded_coculture_v1/fastqs/mr576-MV411-VHL_coculture_12h-r1_R2_001.fastq.gz_trimming_report.txt [Content-Type=text/plain]...\n",
      "Copying file://../../data/slamseq_MYB_degraded_coculture_v1/fastqs/mr576-MV411-VHL_coculture_12h-r1_R2_001_unpaired_2.fq.gz [Content-Type=application/octet-stream]...\n"
     ]
    },
    {
     "name": "stdout",
     "output_type": "stream",
     "text": [
      "Copying file://../../data/slamseq_MYB_degraded_coculture_v1/fastqs/mr576-MV411-VHL_coculture_12h-r1_R2_001_val_2.fq.gz [Content-Type=application/octet-stream]...\n",
      "Copying file://../../data/slamseq_MYB_degraded_coculture_v1/fastqs/mr577-MV411-VHL_coculture_12h-r2_R1_001.fastq.gz [Content-Type=application/octet-stream]...\n",
      "Copying file://../../data/slamseq_MYB_degraded_coculture_v1/fastqs/mr577-MV411-VHL_coculture_12h-r2_R1_001.fastq.gz_trimming_report.txt [Content-Type=text/plain]...\n",
      "Copying file://../../data/slamseq_MYB_degraded_coculture_v1/fastqs/mr577-MV411-VHL_coculture_12h-r2_R1_001_unpaired_1.fq.gz [Content-Type=application/octet-stream]...\n",
      "Copying file://../../data/slamseq_MYB_degraded_coculture_v1/fastqs/mr577-MV411-VHL_coculture_12h-r2_R1_001_val_1.fq.gz [Content-Type=application/octet-stream]...\n",
      "Copying file://../../data/slamseq_MYB_degraded_coculture_v1/fastqs/mr577-MV411-VHL_coculture_12h-r2_R2_001.fastq.gz [Content-Type=application/octet-stream]...\n",
      "Copying file://../../data/slamseq_MYB_degraded_coculture_v1/fastqs/mr577-MV411-VHL_coculture_12h-r2_R2_001.fastq.gz_trimming_report.txt [Content-Type=text/plain]...\n",
      "Copying file://../../data/slamseq_MYB_degraded_coculture_v1/fastqs/mr577-MV411-VHL_coculture_12h-r2_R2_001_unpaired_2.fq.gz [Content-Type=application/octet-stream]...\n",
      "Copying file://../../data/slamseq_MYB_degraded_coculture_v1/fastqs/mr577-MV411-VHL_coculture_12h-r2_R2_001_val_2.fq.gz [Content-Type=application/octet-stream]...\n",
      "Copying file://../../data/slamseq_MYB_degraded_coculture_v1/fastqs/mr578-MV411-VHL_coculture_12h-r3_R1_001.fastq.gz [Content-Type=application/octet-stream]...\n",
      "Copying file://../../data/slamseq_MYB_degraded_coculture_v1/fastqs/mr578-MV411-VHL_coculture_12h-r3_R1_001.fastq.gz_trimming_report.txt [Content-Type=text/plain]...\n",
      "Copying file://../../data/slamseq_MYB_degraded_coculture_v1/fastqs/mr578-MV411-VHL_coculture_12h-r3_R1_001_unpaired_1.fq.gz [Content-Type=application/octet-stream]...\n",
      "Copying file://../../data/slamseq_MYB_degraded_coculture_v1/fastqs/mr578-MV411-VHL_coculture_12h-r3_R1_001_val_1.fq.gz [Content-Type=application/octet-stream]...\n",
      "Copying file://../../data/slamseq_MYB_degraded_coculture_v1/fastqs/mr578-MV411-VHL_coculture_12h-r3_R2_001.fastq.gz [Content-Type=application/octet-stream]...\n",
      "Copying file://../../data/slamseq_MYB_degraded_coculture_v1/fastqs/mr578-MV411-VHL_coculture_12h-r3_R2_001.fastq.gz_trimming_report.txt [Content-Type=text/plain]...\n",
      "Copying file://../../data/slamseq_MYB_degraded_coculture_v1/fastqs/mr578-MV411-VHL_coculture_12h-r3_R2_001_unpaired_2.fq.gz [Content-Type=application/octet-stream]...\n",
      "Copying file://../../data/slamseq_MYB_degraded_coculture_v1/fastqs/mr578-MV411-VHL_coculture_12h-r3_R2_001_val_2.fq.gz [Content-Type=application/octet-stream]...\n",
      "Copying file://../../data/slamseq_MYB_degraded_coculture_v1/fastqs/mr579-MV411-VHL_coculture_12h-r4_R1_001.fastq.gz [Content-Type=application/octet-stream]...\n",
      "Copying file://../../data/slamseq_MYB_degraded_coculture_v1/fastqs/mr579-MV411-VHL_coculture_12h-r4_R1_001.fastq.gz_trimming_report.txt [Content-Type=text/plain]...\n",
      "Copying file://../../data/slamseq_MYB_degraded_coculture_v1/fastqs/mr579-MV411-VHL_coculture_12h-r4_R1_001_unpaired_1.fq.gz [Content-Type=application/octet-stream]...\n",
      "Copying file://../../data/slamseq_MYB_degraded_coculture_v1/fastqs/mr579-MV411-VHL_coculture_12h-r4_R1_001_val_1.fq.gz [Content-Type=application/octet-stream]...\n",
      "Copying file://../../data/slamseq_MYB_degraded_coculture_v1/fastqs/mr579-MV411-VHL_coculture_12h-r4_R2_001.fastq.gz [Content-Type=application/octet-stream]...\n",
      "Copying file://../../data/slamseq_MYB_degraded_coculture_v1/fastqs/mr579-MV411-VHL_coculture_12h-r4_R2_001.fastq.gz_trimming_report.txt [Content-Type=text/plain]...\n",
      "Copying file://../../data/slamseq_MYB_degraded_coculture_v1/fastqs/mr579-MV411-VHL_coculture_12h-r4_R2_001_unpaired_2.fq.gz [Content-Type=application/octet-stream]...\n",
      "Copying file://../../data/slamseq_MYB_degraded_coculture_v1/fastqs/mr579-MV411-VHL_coculture_12h-r4_R2_001_val_2.fq.gz [Content-Type=application/octet-stream]...\n",
      "Copying file://../../data/slamseq_MYB_degraded_coculture_v1/fastqs/mr580-MV411-VHL_coculture_12h-r5_R1_001.fastq.gz [Content-Type=application/octet-stream]...\n",
      "Copying file://../../data/slamseq_MYB_degraded_coculture_v1/fastqs/mr580-MV411-VHL_coculture_12h-r5_R1_001.fastq.gz_trimming_report.txt [Content-Type=text/plain]...\n",
      "Copying file://../../data/slamseq_MYB_degraded_coculture_v1/fastqs/mr580-MV411-VHL_coculture_12h-r5_R1_001_unpaired_1.fq.gz [Content-Type=application/octet-stream]...\n",
      "Copying file://../../data/slamseq_MYB_degraded_coculture_v1/fastqs/mr580-MV411-VHL_coculture_12h-r5_R1_001_val_1.fq.gz [Content-Type=application/octet-stream]...\n",
      "Copying file://../../data/slamseq_MYB_degraded_coculture_v1/fastqs/mr580-MV411-VHL_coculture_12h-r5_R2_001.fastq.gz [Content-Type=application/octet-stream]...\n",
      "Copying file://../../data/slamseq_MYB_degraded_coculture_v1/fastqs/mr580-MV411-VHL_coculture_12h-r5_R2_001.fastq.gz_trimming_report.txt [Content-Type=text/plain]...\n",
      "Copying file://../../data/slamseq_MYB_degraded_coculture_v1/fastqs/mr580-MV411-VHL_coculture_12h-r5_R2_001_unpaired_2.fq.gz [Content-Type=application/octet-stream]...\n",
      "Copying file://../../data/slamseq_MYB_degraded_coculture_v1/fastqs/mr580-MV411-VHL_coculture_12h-r5_R2_001_val_2.fq.gz [Content-Type=application/octet-stream]...\n",
      "Catching up md5 for file://../../data/slamseq_MYB_degraded_coculture_v1/fastqs/mr580-MV411-VHL_coculture_12h-r5_R1_001_val_1.fq.gz...\n",
      "Catching up md5 for file://../../data/slamseq_MYB_degraded_coculture_v1/fastqs/mr574-MV411-DMSO_coculture_12h-r4_R2_001_val_2.fq.gz...\n",
      "Catching up md5 for file://../../data/slamseq_MYB_degraded_coculture_v1/fastqs/mr571-MV411-DMSO_coculture_12h-r1_R2_001_val_2.fq.gz...\n",
      "Copying file://../../data/slamseq_MYB_degraded_coculture_v1/fastqs/mr581-MV411-MYB-dTAG-DMSO_coculture_12h-r1_R1_001.fastq.gz [Content-Type=application/octet-stream]...\n",
      "Copying file://../../data/slamseq_MYB_degraded_coculture_v1/fastqs/mr581-MV411-MYB-dTAG-DMSO_coculture_12h-r1_R1_001.fastq.gz_trimming_report.txt [Content-Type=text/plain]...\n",
      "Copying file://../../data/slamseq_MYB_degraded_coculture_v1/fastqs/mr581-MV411-MYB-dTAG-DMSO_coculture_12h-r1_R1_001_unpaired_1.fq.gz [Content-Type=application/octet-stream]...\n",
      "Copying file://../../data/slamseq_MYB_degraded_coculture_v1/fastqs/mr581-MV411-MYB-dTAG-DMSO_coculture_12h-r1_R1_001_val_1.fq.gz [Content-Type=application/octet-stream]...\n",
      "Copying file://../../data/slamseq_MYB_degraded_coculture_v1/fastqs/mr581-MV411-MYB-dTAG-DMSO_coculture_12h-r1_R2_001.fastq.gz [Content-Type=application/octet-stream]...\n",
      "Copying file://../../data/slamseq_MYB_degraded_coculture_v1/fastqs/mr581-MV411-MYB-dTAG-DMSO_coculture_12h-r1_R2_001.fastq.gz_trimming_report.txt [Content-Type=text/plain]...\n",
      "Copying file://../../data/slamseq_MYB_degraded_coculture_v1/fastqs/mr581-MV411-MYB-dTAG-DMSO_coculture_12h-r1_R2_001_unpaired_2.fq.gz [Content-Type=application/octet-stream]...\n",
      "Copying file://../../data/slamseq_MYB_degraded_coculture_v1/fastqs/mr581-MV411-MYB-dTAG-DMSO_coculture_12h-r1_R2_001_val_2.fq.gz [Content-Type=application/octet-stream]...\n",
      "Copying file://../../data/slamseq_MYB_degraded_coculture_v1/fastqs/mr582-MV411-MYB-dTAG-DMSO_coculture_12h-r2_R1_001.fastq.gz [Content-Type=application/octet-stream]...\n",
      "Copying file://../../data/slamseq_MYB_degraded_coculture_v1/fastqs/mr582-MV411-MYB-dTAG-DMSO_coculture_12h-r2_R1_001.fastq.gz_trimming_report.txt [Content-Type=text/plain]...\n",
      "Copying file://../../data/slamseq_MYB_degraded_coculture_v1/fastqs/mr582-MV411-MYB-dTAG-DMSO_coculture_12h-r2_R1_001_unpaired_1.fq.gz [Content-Type=application/octet-stream]...\n",
      "Copying file://../../data/slamseq_MYB_degraded_coculture_v1/fastqs/mr582-MV411-MYB-dTAG-DMSO_coculture_12h-r2_R1_001_val_1.fq.gz [Content-Type=application/octet-stream]...\n",
      "Copying file://../../data/slamseq_MYB_degraded_coculture_v1/fastqs/mr582-MV411-MYB-dTAG-DMSO_coculture_12h-r2_R2_001.fastq.gz [Content-Type=application/octet-stream]...\n",
      "Copying file://../../data/slamseq_MYB_degraded_coculture_v1/fastqs/mr582-MV411-MYB-dTAG-DMSO_coculture_12h-r2_R2_001.fastq.gz_trimming_report.txt [Content-Type=text/plain]...\n"
     ]
    },
    {
     "name": "stdout",
     "output_type": "stream",
     "text": [
      "Copying file://../../data/slamseq_MYB_degraded_coculture_v1/fastqs/mr582-MV411-MYB-dTAG-DMSO_coculture_12h-r2_R2_001_unpaired_2.fq.gz [Content-Type=application/octet-stream]...\n",
      "Copying file://../../data/slamseq_MYB_degraded_coculture_v1/fastqs/mr582-MV411-MYB-dTAG-DMSO_coculture_12h-r2_R2_001_val_2.fq.gz [Content-Type=application/octet-stream]...\n",
      "Copying file://../../data/slamseq_MYB_degraded_coculture_v1/fastqs/mr583-MV411-MYB-dTAG-DMSO_coculture_12h-r3_R1_001.fastq.gz [Content-Type=application/octet-stream]...\n",
      "Copying file://../../data/slamseq_MYB_degraded_coculture_v1/fastqs/mr583-MV411-MYB-dTAG-DMSO_coculture_12h-r3_R1_001.fastq.gz_trimming_report.txt [Content-Type=text/plain]...\n",
      "Copying file://../../data/slamseq_MYB_degraded_coculture_v1/fastqs/mr583-MV411-MYB-dTAG-DMSO_coculture_12h-r3_R1_001_unpaired_1.fq.gz [Content-Type=application/octet-stream]...\n",
      "Copying file://../../data/slamseq_MYB_degraded_coculture_v1/fastqs/mr583-MV411-MYB-dTAG-DMSO_coculture_12h-r3_R1_001_val_1.fq.gz [Content-Type=application/octet-stream]...\n",
      "Copying file://../../data/slamseq_MYB_degraded_coculture_v1/fastqs/mr583-MV411-MYB-dTAG-DMSO_coculture_12h-r3_R2_001.fastq.gz [Content-Type=application/octet-stream]...\n",
      "Copying file://../../data/slamseq_MYB_degraded_coculture_v1/fastqs/mr583-MV411-MYB-dTAG-DMSO_coculture_12h-r3_R2_001.fastq.gz_trimming_report.txt [Content-Type=text/plain]...\n",
      "Copying file://../../data/slamseq_MYB_degraded_coculture_v1/fastqs/mr583-MV411-MYB-dTAG-DMSO_coculture_12h-r3_R2_001_unpaired_2.fq.gz [Content-Type=application/octet-stream]...\n",
      "Copying file://../../data/slamseq_MYB_degraded_coculture_v1/fastqs/mr583-MV411-MYB-dTAG-DMSO_coculture_12h-r3_R2_001_val_2.fq.gz [Content-Type=application/octet-stream]...\n",
      "Copying file://../../data/slamseq_MYB_degraded_coculture_v1/fastqs/mr584-MV411-MYB-dTAG-DMSO_coculture_12h-r4_R1_001.fastq.gz [Content-Type=application/octet-stream]...\n",
      "Copying file://../../data/slamseq_MYB_degraded_coculture_v1/fastqs/mr584-MV411-MYB-dTAG-DMSO_coculture_12h-r4_R1_001.fastq.gz_trimming_report.txt [Content-Type=text/plain]...\n",
      "Copying file://../../data/slamseq_MYB_degraded_coculture_v1/fastqs/mr584-MV411-MYB-dTAG-DMSO_coculture_12h-r4_R1_001_unpaired_1.fq.gz [Content-Type=application/octet-stream]...\n",
      "Copying file://../../data/slamseq_MYB_degraded_coculture_v1/fastqs/mr584-MV411-MYB-dTAG-DMSO_coculture_12h-r4_R1_001_val_1.fq.gz [Content-Type=application/octet-stream]...\n",
      "Copying file://../../data/slamseq_MYB_degraded_coculture_v1/fastqs/mr584-MV411-MYB-dTAG-DMSO_coculture_12h-r4_R2_001.fastq.gz [Content-Type=application/octet-stream]...\n",
      "Copying file://../../data/slamseq_MYB_degraded_coculture_v1/fastqs/mr584-MV411-MYB-dTAG-DMSO_coculture_12h-r4_R2_001.fastq.gz_trimming_report.txt [Content-Type=text/plain]...\n",
      "Copying file://../../data/slamseq_MYB_degraded_coculture_v1/fastqs/mr584-MV411-MYB-dTAG-DMSO_coculture_12h-r4_R2_001_unpaired_2.fq.gz [Content-Type=application/octet-stream]...\n",
      "Copying file://../../data/slamseq_MYB_degraded_coculture_v1/fastqs/mr584-MV411-MYB-dTAG-DMSO_coculture_12h-r4_R2_001_val_2.fq.gz [Content-Type=application/octet-stream]...\n",
      "Copying file://../../data/slamseq_MYB_degraded_coculture_v1/fastqs/mr585-MV411-MYB-dTAG-VHL_coculture_12h-r1_R1_001.fastq.gz [Content-Type=application/octet-stream]...\n",
      "Copying file://../../data/slamseq_MYB_degraded_coculture_v1/fastqs/mr585-MV411-MYB-dTAG-VHL_coculture_12h-r1_R1_001.fastq.gz_trimming_report.txt [Content-Type=text/plain]...\n",
      "Copying file://../../data/slamseq_MYB_degraded_coculture_v1/fastqs/mr585-MV411-MYB-dTAG-VHL_coculture_12h-r1_R1_001_unpaired_1.fq.gz [Content-Type=application/octet-stream]...\n",
      "Copying file://../../data/slamseq_MYB_degraded_coculture_v1/fastqs/mr585-MV411-MYB-dTAG-VHL_coculture_12h-r1_R1_001_val_1.fq.gz [Content-Type=application/octet-stream]...\n",
      "Copying file://../../data/slamseq_MYB_degraded_coculture_v1/fastqs/mr585-MV411-MYB-dTAG-VHL_coculture_12h-r1_R2_001.fastq.gz [Content-Type=application/octet-stream]...\n",
      "Copying file://../../data/slamseq_MYB_degraded_coculture_v1/fastqs/mr585-MV411-MYB-dTAG-VHL_coculture_12h-r1_R2_001.fastq.gz_trimming_report.txt [Content-Type=text/plain]...\n",
      "Copying file://../../data/slamseq_MYB_degraded_coculture_v1/fastqs/mr585-MV411-MYB-dTAG-VHL_coculture_12h-r1_R2_001_unpaired_2.fq.gz [Content-Type=application/octet-stream]...\n",
      "Copying file://../../data/slamseq_MYB_degraded_coculture_v1/fastqs/mr585-MV411-MYB-dTAG-VHL_coculture_12h-r1_R2_001_val_2.fq.gz [Content-Type=application/octet-stream]...\n",
      "Copying file://../../data/slamseq_MYB_degraded_coculture_v1/fastqs/mr586-MV411-MYB-dTAG-VHL_coculture_12h-r2_R1_001.fastq.gz [Content-Type=application/octet-stream]...\n",
      "Copying file://../../data/slamseq_MYB_degraded_coculture_v1/fastqs/mr586-MV411-MYB-dTAG-VHL_coculture_12h-r2_R1_001.fastq.gz_trimming_report.txt [Content-Type=text/plain]...\n",
      "Copying file://../../data/slamseq_MYB_degraded_coculture_v1/fastqs/mr586-MV411-MYB-dTAG-VHL_coculture_12h-r2_R1_001_unpaired_1.fq.gz [Content-Type=application/octet-stream]...\n",
      "Copying file://../../data/slamseq_MYB_degraded_coculture_v1/fastqs/mr586-MV411-MYB-dTAG-VHL_coculture_12h-r2_R1_001_val_1.fq.gz [Content-Type=application/octet-stream]...\n",
      "Copying file://../../data/slamseq_MYB_degraded_coculture_v1/fastqs/mr586-MV411-MYB-dTAG-VHL_coculture_12h-r2_R2_001.fastq.gz [Content-Type=application/octet-stream]...\n",
      "Copying file://../../data/slamseq_MYB_degraded_coculture_v1/fastqs/mr586-MV411-MYB-dTAG-VHL_coculture_12h-r2_R2_001.fastq.gz_trimming_report.txt [Content-Type=text/plain]...\n",
      "Copying file://../../data/slamseq_MYB_degraded_coculture_v1/fastqs/mr586-MV411-MYB-dTAG-VHL_coculture_12h-r2_R2_001_unpaired_2.fq.gz [Content-Type=application/octet-stream]...\n",
      "Copying file://../../data/slamseq_MYB_degraded_coculture_v1/fastqs/mr586-MV411-MYB-dTAG-VHL_coculture_12h-r2_R2_001_val_2.fq.gz [Content-Type=application/octet-stream]...\n",
      "Copying file://../../data/slamseq_MYB_degraded_coculture_v1/fastqs/mr587-MV411-MYB-dTAG-VHL_coculture_12h-r3_R1_001.fastq.gz [Content-Type=application/octet-stream]...\n",
      "Copying file://../../data/slamseq_MYB_degraded_coculture_v1/fastqs/mr587-MV411-MYB-dTAG-VHL_coculture_12h-r3_R1_001.fastq.gz_trimming_report.txt [Content-Type=text/plain]...\n",
      "Copying file://../../data/slamseq_MYB_degraded_coculture_v1/fastqs/mr587-MV411-MYB-dTAG-VHL_coculture_12h-r3_R1_001_unpaired_1.fq.gz [Content-Type=application/octet-stream]...\n",
      "Copying file://../../data/slamseq_MYB_degraded_coculture_v1/fastqs/mr587-MV411-MYB-dTAG-VHL_coculture_12h-r3_R1_001_val_1.fq.gz [Content-Type=application/octet-stream]...\n",
      "Copying file://../../data/slamseq_MYB_degraded_coculture_v1/fastqs/mr587-MV411-MYB-dTAG-VHL_coculture_12h-r3_R2_001.fastq.gz [Content-Type=application/octet-stream]...\n",
      "Copying file://../../data/slamseq_MYB_degraded_coculture_v1/fastqs/mr587-MV411-MYB-dTAG-VHL_coculture_12h-r3_R2_001.fastq.gz_trimming_report.txt [Content-Type=text/plain]...\n",
      "Copying file://../../data/slamseq_MYB_degraded_coculture_v1/fastqs/mr587-MV411-MYB-dTAG-VHL_coculture_12h-r3_R2_001_unpaired_2.fq.gz [Content-Type=application/octet-stream]...\n",
      "Copying file://../../data/slamseq_MYB_degraded_coculture_v1/fastqs/mr587-MV411-MYB-dTAG-VHL_coculture_12h-r3_R2_001_val_2.fq.gz [Content-Type=application/octet-stream]...\n",
      "Copying file://../../data/slamseq_MYB_degraded_coculture_v1/fastqs/mr588-MV411-MYB-dTAG-VHL_coculture_12h-r4_R1_001.fastq.gz [Content-Type=application/octet-stream]...\n",
      "Copying file://../../data/slamseq_MYB_degraded_coculture_v1/fastqs/mr588-MV411-MYB-dTAG-VHL_coculture_12h-r4_R1_001.fastq.gz_trimming_report.txt [Content-Type=text/plain]...\n",
      "Copying file://../../data/slamseq_MYB_degraded_coculture_v1/fastqs/mr588-MV411-MYB-dTAG-VHL_coculture_12h-r4_R1_001_unpaired_1.fq.gz [Content-Type=application/octet-stream]...\n",
      "Copying file://../../data/slamseq_MYB_degraded_coculture_v1/fastqs/mr588-MV411-MYB-dTAG-VHL_coculture_12h-r4_R1_001_val_1.fq.gz [Content-Type=application/octet-stream]...\n",
      "Copying file://../../data/slamseq_MYB_degraded_coculture_v1/fastqs/mr588-MV411-MYB-dTAG-VHL_coculture_12h-r4_R2_001.fastq.gz [Content-Type=application/octet-stream]...\n"
     ]
    },
    {
     "name": "stdout",
     "output_type": "stream",
     "text": [
      "Copying file://../../data/slamseq_MYB_degraded_coculture_v1/fastqs/mr588-MV411-MYB-dTAG-VHL_coculture_12h-r4_R2_001.fastq.gz_trimming_report.txt [Content-Type=text/plain]...\n",
      "Copying file://../../data/slamseq_MYB_degraded_coculture_v1/fastqs/mr588-MV411-MYB-dTAG-VHL_coculture_12h-r4_R2_001_unpaired_2.fq.gz [Content-Type=application/octet-stream]...\n",
      "Copying file://../../data/slamseq_MYB_degraded_coculture_v1/fastqs/mr588-MV411-MYB-dTAG-VHL_coculture_12h-r4_R2_001_val_2.fq.gz [Content-Type=application/octet-stream]...\n",
      "Copying file://../../data/slamseq_MYB_degraded_coculture_v1/fastqs/mr589-MV411-MYB-dTAG-VHL_coculture_12h-r5_R1_001.fastq.gz [Content-Type=application/octet-stream]...\n",
      "Copying file://../../data/slamseq_MYB_degraded_coculture_v1/fastqs/mr589-MV411-MYB-dTAG-VHL_coculture_12h-r5_R1_001.fastq.gz_trimming_report.txt [Content-Type=text/plain]...\n",
      "Copying file://../../data/slamseq_MYB_degraded_coculture_v1/fastqs/mr589-MV411-MYB-dTAG-VHL_coculture_12h-r5_R1_001_unpaired_1.fq.gz [Content-Type=application/octet-stream]...\n",
      "Copying file://../../data/slamseq_MYB_degraded_coculture_v1/fastqs/mr589-MV411-MYB-dTAG-VHL_coculture_12h-r5_R1_001_val_1.fq.gz [Content-Type=application/octet-stream]...\n",
      "Copying file://../../data/slamseq_MYB_degraded_coculture_v1/fastqs/mr589-MV411-MYB-dTAG-VHL_coculture_12h-r5_R2_001.fastq.gz [Content-Type=application/octet-stream]...\n",
      "Catching up md5 for file://../../data/slamseq_MYB_degraded_coculture_v1/fastqs/mr583-MV411-MYB-dTAG-DMSO_coculture_12h-r3_R2_001_val_2.fq.gz...\n",
      "Catching up md5 for file://../../data/slamseq_MYB_degraded_coculture_v1/fastqs/mr582-MV411-MYB-dTAG-DMSO_coculture_12h-r2_R1_001.fastq.gz...\n",
      "Copying file://../../data/slamseq_MYB_degraded_coculture_v1/fastqs/mr589-MV411-MYB-dTAG-VHL_coculture_12h-r5_R2_001.fastq.gz_trimming_report.txt [Content-Type=text/plain]...\n",
      "Copying file://../../data/slamseq_MYB_degraded_coculture_v1/fastqs/mr589-MV411-MYB-dTAG-VHL_coculture_12h-r5_R2_001_unpaired_2.fq.gz [Content-Type=application/octet-stream]...\n",
      "Copying file://../../data/slamseq_MYB_degraded_coculture_v1/fastqs/mr589-MV411-MYB-dTAG-VHL_coculture_12h-r5_R2_001_val_2.fq.gz [Content-Type=application/octet-stream]...\n",
      "\\ [152/152 files][345.7 GiB/345.7 GiB] 100% Done 113.0 MiB/s ETA 00:00:00       \n",
      "Operation completed over 152 objects/345.7 GiB.                                  \n",
      "Copying file://../../data/slamseq_MYB_degraded_coculture_v1/res/map/mr571-MV411-DMSO_coculture_12h-r1_slamdunk_mapped.bam [Content-Type=application/octet-stream]...\n",
      "==> NOTE: You are uploading one or more large file(s), which would run          \n",
      "significantly faster if you enable parallel composite uploads. This\n",
      "feature can be enabled by editing the\n",
      "\"parallel_composite_upload_threshold\" value in your .boto\n",
      "configuration file. However, note that if you do this large files will\n",
      "be uploaded as `composite objects\n",
      "<https://cloud.google.com/storage/docs/composite-objects>`_,which\n",
      "means that any user who downloads such objects will need to have a\n",
      "compiled crcmod installed (see \"gsutil help crcmod\"). This is because\n",
      "without a compiled crcmod, computing checksums on composite objects is\n",
      "so slow that gsutil disables downloads of composite objects.\n",
      "\n",
      "Copying file://../../data/slamseq_MYB_degraded_coculture_v1/res/map/mr571-MV411-DMSO_coculture_12h-r1_slamdunk_mapped.log [Content-Type=application/octet-stream]...\n",
      "Copying file://../../data/slamseq_MYB_degraded_coculture_v1/res/map/mr572-MV411-DMSO_coculture_12h-r2_slamdunk_mapped.bam [Content-Type=application/octet-stream]...\n",
      "Copying file://../../data/slamseq_MYB_degraded_coculture_v1/res/map/mr572-MV411-DMSO_coculture_12h-r2_slamdunk_mapped.log [Content-Type=application/octet-stream]...\n",
      "Copying file://../../data/slamseq_MYB_degraded_coculture_v1/res/map/mr573-MV411-DMSO_coculture_12h-r3_slamdunk_mapped.bam [Content-Type=application/octet-stream]...\n",
      "Copying file://../../data/slamseq_MYB_degraded_coculture_v1/res/map/mr573-MV411-DMSO_coculture_12h-r3_slamdunk_mapped.log [Content-Type=application/octet-stream]...\n",
      "Copying file://../../data/slamseq_MYB_degraded_coculture_v1/res/map/mr574-MV411-DMSO_coculture_12h-r4_slamdunk_mapped.bam [Content-Type=application/octet-stream]...\n",
      "Copying file://../../data/slamseq_MYB_degraded_coculture_v1/res/map/mr575-MV411-DMSO_coculture_12h-r5_slamdunk_mapped.log [Content-Type=application/octet-stream]...\n",
      "Copying file://../../data/slamseq_MYB_degraded_coculture_v1/res/map/mr575-MV411-DMSO_coculture_12h-r5_slamdunk_mapped.bam [Content-Type=application/octet-stream]...\n",
      "Copying file://../../data/slamseq_MYB_degraded_coculture_v1/res/map/mr579-MV411-VHL_coculture_12h-r4_slamdunk_mapped.log [Content-Type=application/octet-stream]...\n",
      "Copying file://../../data/slamseq_MYB_degraded_coculture_v1/res/map/mr586-MV411-MYB-dTAG-VHL_coculture_12h-r2_slamdunk_mapped.log [Content-Type=application/octet-stream]...\n",
      "Copying file://../../data/slamseq_MYB_degraded_coculture_v1/res/map/mr586-MV411-MYB-dTAG-VHL_coculture_12h-r2_slamdunk_mapped.bam [Content-Type=application/octet-stream]...\n",
      "Copying file://../../data/slamseq_MYB_degraded_coculture_v1/res/map/mr576-MV411-VHL_coculture_12h-r1_slamdunk_mapped.log [Content-Type=application/octet-stream]...\n",
      "Copying file://../../data/slamseq_MYB_degraded_coculture_v1/res/map/mr577-MV411-VHL_coculture_12h-r2_slamdunk_mapped.bam [Content-Type=application/octet-stream]...\n",
      "Copying file://../../data/slamseq_MYB_degraded_coculture_v1/res/map/mr574-MV411-DMSO_coculture_12h-r4_slamdunk_mapped.log [Content-Type=application/octet-stream]...\n",
      "Copying file://../../data/slamseq_MYB_degraded_coculture_v1/res/map/mr583-MV411-MYB-dTAG-DMSO_coculture_12h-r3_slamdunk_mapped.log [Content-Type=application/octet-stream]...\n",
      "Copying file://../../data/slamseq_MYB_degraded_coculture_v1/res/map/mr582-MV411-MYB-dTAG-DMSO_coculture_12h-r2_slamdunk_mapped.bam [Content-Type=application/octet-stream]...\n",
      "Copying file://../../data/slamseq_MYB_degraded_coculture_v1/res/map/mr587-MV411-MYB-dTAG-VHL_coculture_12h-r3_slamdunk_mapped.bam [Content-Type=application/octet-stream]...\n",
      "Copying file://../../data/slamseq_MYB_degraded_coculture_v1/res/map/mr584-MV411-MYB-dTAG-DMSO_coculture_12h-r4_slamdunk_mapped.log [Content-Type=application/octet-stream]...\n",
      "Copying file://../../data/slamseq_MYB_degraded_coculture_v1/res/map/mr580-MV411-VHL_coculture_12h-r5_slamdunk_mapped.bam [Content-Type=application/octet-stream]...\n",
      "Copying file://../../data/slamseq_MYB_degraded_coculture_v1/res/map/mr583-MV411-MYB-dTAG-DMSO_coculture_12h-r3_slamdunk_mapped.bam [Content-Type=application/octet-stream]...\n",
      "Copying file://../../data/slamseq_MYB_degraded_coculture_v1/res/map/mr576-MV411-VHL_coculture_12h-r1_slamdunk_mapped.bam [Content-Type=application/octet-stream]...\n",
      "Copying file://../../data/slamseq_MYB_degraded_coculture_v1/res/map/mr580-MV411-VHL_coculture_12h-r5_slamdunk_mapped.log [Content-Type=application/octet-stream]...\n",
      "Copying file://../../data/slamseq_MYB_degraded_coculture_v1/res/map/mr588-MV411-MYB-dTAG-VHL_coculture_12h-r4_slamdunk_mapped.bam [Content-Type=application/octet-stream]...\n",
      "Copying file://../../data/slamseq_MYB_degraded_coculture_v1/res/map/mr577-MV411-VHL_coculture_12h-r2_slamdunk_mapped.log [Content-Type=application/octet-stream]...\n",
      "Copying file://../../data/slamseq_MYB_degraded_coculture_v1/res/map/mr585-MV411-MYB-dTAG-VHL_coculture_12h-r1_slamdunk_mapped.log [Content-Type=application/octet-stream]...\n",
      "Copying file://../../data/slamseq_MYB_degraded_coculture_v1/res/map/mr578-MV411-VHL_coculture_12h-r3_slamdunk_mapped.log [Content-Type=application/octet-stream]...\n",
      "Copying file://../../data/slamseq_MYB_degraded_coculture_v1/res/map/mr585-MV411-MYB-dTAG-VHL_coculture_12h-r1_slamdunk_mapped.bam [Content-Type=application/octet-stream]...\n",
      "Copying file://../../data/slamseq_MYB_degraded_coculture_v1/res/map/mr579-MV411-VHL_coculture_12h-r4_slamdunk_mapped.bam [Content-Type=application/octet-stream]...\n",
      "Copying file://../../data/slamseq_MYB_degraded_coculture_v1/res/map/mr589-MV411-MYB-dTAG-VHL_coculture_12h-r5_slamdunk_mapped.bam [Content-Type=application/octet-stream]...\n",
      "Copying file://../../data/slamseq_MYB_degraded_coculture_v1/res/map/mr584-MV411-MYB-dTAG-DMSO_coculture_12h-r4_slamdunk_mapped.bam [Content-Type=application/octet-stream]...\n",
      "Copying file://../../data/slamseq_MYB_degraded_coculture_v1/res/map/mr588-MV411-MYB-dTAG-VHL_coculture_12h-r4_slamdunk_mapped.log [Content-Type=application/octet-stream]...\n",
      "Copying file://../../data/slamseq_MYB_degraded_coculture_v1/res/map/mr578-MV411-VHL_coculture_12h-r3_slamdunk_mapped.bam [Content-Type=application/octet-stream]...\n"
     ]
    },
    {
     "name": "stdout",
     "output_type": "stream",
     "text": [
      "Copying file://../../data/slamseq_MYB_degraded_coculture_v1/res/map/mr581-MV411-MYB-dTAG-DMSO_coculture_12h-r1_slamdunk_mapped.log [Content-Type=application/octet-stream]...\n",
      "Copying file://../../data/slamseq_MYB_degraded_coculture_v1/res/map/mr587-MV411-MYB-dTAG-VHL_coculture_12h-r3_slamdunk_mapped.log [Content-Type=application/octet-stream]...\n",
      "Copying file://../../data/slamseq_MYB_degraded_coculture_v1/res/map/mr581-MV411-MYB-dTAG-DMSO_coculture_12h-r1_slamdunk_mapped.bam [Content-Type=application/octet-stream]...\n",
      "Copying file://../../data/slamseq_MYB_degraded_coculture_v1/res/map/mr582-MV411-MYB-dTAG-DMSO_coculture_12h-r2_slamdunk_mapped.log [Content-Type=application/octet-stream]...\n",
      "Copying file://../../data/slamseq_MYB_degraded_coculture_v1/res/map/mr589-MV411-MYB-dTAG-VHL_coculture_12h-r5_slamdunk_mapped.log [Content-Type=application/octet-stream]...\n",
      "/ [38/38 files][252.6 GiB/252.6 GiB] 100% Done  99.8 MiB/s ETA 00:00:00         \n",
      "Operation completed over 38 objects/252.6 GiB.                                   \n",
      "Copying file://../../data/slamseq_MYB_degraded_coculture_v1/res/filter/mr571-MV411-DMSO_coculture_12h-r1_filtered.bam [Content-Type=application/octet-stream]...\n",
      "==> NOTE: You are uploading one or more large file(s), which would run\n",
      "significantly faster if you enable parallel composite uploads. This\n",
      "feature can be enabled by editing the\n",
      "\"parallel_composite_upload_threshold\" value in your .boto\n",
      "configuration file. However, note that if you do this large files will\n",
      "be uploaded as `composite objects\n",
      "<https://cloud.google.com/storage/docs/composite-objects>`_,which\n",
      "means that any user who downloads such objects will need to have a\n",
      "compiled crcmod installed (see \"gsutil help crcmod\"). This is because\n",
      "without a compiled crcmod, computing checksums on composite objects is\n",
      "so slow that gsutil disables downloads of composite objects.\n",
      "\n",
      "Copying file://../../data/slamseq_MYB_degraded_coculture_v1/res/filter/mr571-MV411-DMSO_coculture_12h-r1_filtered.bam.bai [Content-Type=application/octet-stream]...\n",
      "Copying file://../../data/slamseq_MYB_degraded_coculture_v1/res/filter/mr571-MV411-DMSO_coculture_12h-r1_filtered.log [Content-Type=application/octet-stream]...\n",
      "Copying file://../../data/slamseq_MYB_degraded_coculture_v1/res/filter/mr572-MV411-DMSO_coculture_12h-r2_filtered.bam [Content-Type=application/octet-stream]...\n",
      "Copying file://../../data/slamseq_MYB_degraded_coculture_v1/res/filter/mr572-MV411-DMSO_coculture_12h-r2_filtered.bam.bai [Content-Type=application/octet-stream]...\n",
      "Copying file://../../data/slamseq_MYB_degraded_coculture_v1/res/filter/mr572-MV411-DMSO_coculture_12h-r2_filtered.log [Content-Type=application/octet-stream]...\n",
      "Copying file://../../data/slamseq_MYB_degraded_coculture_v1/res/filter/mr573-MV411-DMSO_coculture_12h-r3_filtered.bam [Content-Type=application/octet-stream]...\n",
      "Copying file://../../data/slamseq_MYB_degraded_coculture_v1/res/filter/mr573-MV411-DMSO_coculture_12h-r3_filtered.bam.bai [Content-Type=application/octet-stream]...\n",
      "Copying file://../../data/slamseq_MYB_degraded_coculture_v1/res/filter/mr573-MV411-DMSO_coculture_12h-r3_filtered.log [Content-Type=application/octet-stream]...\n",
      "Copying file://../../data/slamseq_MYB_degraded_coculture_v1/res/filter/mr574-MV411-DMSO_coculture_12h-r4_filtered.bam [Content-Type=application/octet-stream]...\n",
      "Copying file://../../data/slamseq_MYB_degraded_coculture_v1/res/filter/mr574-MV411-DMSO_coculture_12h-r4_filtered.bam.bai [Content-Type=application/octet-stream]...\n",
      "Copying file://../../data/slamseq_MYB_degraded_coculture_v1/res/filter/mr580-MV411-VHL_coculture_12h-r5_filtered.bam.bai [Content-Type=application/octet-stream]...\n",
      "Copying file://../../data/slamseq_MYB_degraded_coculture_v1/res/filter/mr578-MV411-VHL_coculture_12h-r3_filtered.bam [Content-Type=application/octet-stream]...\n",
      "Copying file://../../data/slamseq_MYB_degraded_coculture_v1/res/filter/mr579-MV411-VHL_coculture_12h-r4_filtered.bam [Content-Type=application/octet-stream]...\n",
      "Copying file://../../data/slamseq_MYB_degraded_coculture_v1/res/filter/mr581-MV411-MYB-dTAG-DMSO_coculture_12h-r1_filtered.log [Content-Type=application/octet-stream]...\n",
      "Copying file://../../data/slamseq_MYB_degraded_coculture_v1/res/filter/mr582-MV411-MYB-dTAG-DMSO_coculture_12h-r2_filtered.bam.bai [Content-Type=application/octet-stream]...\n",
      "Copying file://../../data/slamseq_MYB_degraded_coculture_v1/res/filter/mr576-MV411-VHL_coculture_12h-r1_filtered.log [Content-Type=application/octet-stream]...\n",
      "Copying file://../../data/slamseq_MYB_degraded_coculture_v1/res/filter/mr574-MV411-DMSO_coculture_12h-r4_filtered.log [Content-Type=application/octet-stream]...\n",
      "Copying file://../../data/slamseq_MYB_degraded_coculture_v1/res/filter/mr579-MV411-VHL_coculture_12h-r4_filtered.log [Content-Type=application/octet-stream]...\n",
      "Copying file://../../data/slamseq_MYB_degraded_coculture_v1/res/filter/mr584-MV411-MYB-dTAG-DMSO_coculture_12h-r4_filtered.bam [Content-Type=application/octet-stream]...\n",
      "Copying file://../../data/slamseq_MYB_degraded_coculture_v1/res/filter/mr583-MV411-MYB-dTAG-DMSO_coculture_12h-r3_filtered.log [Content-Type=application/octet-stream]...\n",
      "Copying file://../../data/slamseq_MYB_degraded_coculture_v1/res/filter/mr575-MV411-DMSO_coculture_12h-r5_filtered.bam.bai [Content-Type=application/octet-stream]...\n",
      "Copying file://../../data/slamseq_MYB_degraded_coculture_v1/res/filter/mr579-MV411-VHL_coculture_12h-r4_filtered.bam.bai [Content-Type=application/octet-stream]...\n",
      "Copying file://../../data/slamseq_MYB_degraded_coculture_v1/res/filter/mr576-MV411-VHL_coculture_12h-r1_filtered.bam.bai [Content-Type=application/octet-stream]...\n",
      "Copying file://../../data/slamseq_MYB_degraded_coculture_v1/res/filter/mr581-MV411-MYB-dTAG-DMSO_coculture_12h-r1_filtered.bam.bai [Content-Type=application/octet-stream]...\n",
      "Copying file://../../data/slamseq_MYB_degraded_coculture_v1/res/filter/mr578-MV411-VHL_coculture_12h-r3_filtered.bam.bai [Content-Type=application/octet-stream]...\n",
      "Copying file://../../data/slamseq_MYB_degraded_coculture_v1/res/filter/mr575-MV411-DMSO_coculture_12h-r5_filtered.log [Content-Type=application/octet-stream]...\n",
      "Copying file://../../data/slamseq_MYB_degraded_coculture_v1/res/filter/mr577-MV411-VHL_coculture_12h-r2_filtered.log [Content-Type=application/octet-stream]...\n",
      "Copying file://../../data/slamseq_MYB_degraded_coculture_v1/res/filter/mr580-MV411-VHL_coculture_12h-r5_filtered.log [Content-Type=application/octet-stream]...\n",
      "Copying file://../../data/slamseq_MYB_degraded_coculture_v1/res/filter/mr578-MV411-VHL_coculture_12h-r3_filtered.log [Content-Type=application/octet-stream]...\n",
      "Copying file://../../data/slamseq_MYB_degraded_coculture_v1/res/filter/mr580-MV411-VHL_coculture_12h-r5_filtered.bam [Content-Type=application/octet-stream]...\n",
      "Copying file://../../data/slamseq_MYB_degraded_coculture_v1/res/filter/mr575-MV411-DMSO_coculture_12h-r5_filtered.bam [Content-Type=application/octet-stream]...\n",
      "Copying file://../../data/slamseq_MYB_degraded_coculture_v1/res/filter/mr583-MV411-MYB-dTAG-DMSO_coculture_12h-r3_filtered.bam.bai [Content-Type=application/octet-stream]...\n",
      "Copying file://../../data/slamseq_MYB_degraded_coculture_v1/res/filter/mr577-MV411-VHL_coculture_12h-r2_filtered.bam [Content-Type=application/octet-stream]...\n",
      "Copying file://../../data/slamseq_MYB_degraded_coculture_v1/res/filter/mr577-MV411-VHL_coculture_12h-r2_filtered.bam.bai [Content-Type=application/octet-stream]...\n",
      "Copying file://../../data/slamseq_MYB_degraded_coculture_v1/res/filter/mr581-MV411-MYB-dTAG-DMSO_coculture_12h-r1_filtered.bam [Content-Type=application/octet-stream]...\n",
      "Copying file://../../data/slamseq_MYB_degraded_coculture_v1/res/filter/mr576-MV411-VHL_coculture_12h-r1_filtered.bam [Content-Type=application/octet-stream]...\n",
      "Copying file://../../data/slamseq_MYB_degraded_coculture_v1/res/filter/mr582-MV411-MYB-dTAG-DMSO_coculture_12h-r2_filtered.bam [Content-Type=application/octet-stream]...\n",
      "Copying file://../../data/slamseq_MYB_degraded_coculture_v1/res/filter/mr583-MV411-MYB-dTAG-DMSO_coculture_12h-r3_filtered.bam [Content-Type=application/octet-stream]...\n",
      "Copying file://../../data/slamseq_MYB_degraded_coculture_v1/res/filter/mr582-MV411-MYB-dTAG-DMSO_coculture_12h-r2_filtered.log [Content-Type=application/octet-stream]...\n"
     ]
    },
    {
     "name": "stdout",
     "output_type": "stream",
     "text": [
      "Copying file://../../data/slamseq_MYB_degraded_coculture_v1/res/filter/mr584-MV411-MYB-dTAG-DMSO_coculture_12h-r4_filtered.bam.bai [Content-Type=application/octet-stream]...\n",
      "Copying file://../../data/slamseq_MYB_degraded_coculture_v1/res/filter/mr584-MV411-MYB-dTAG-DMSO_coculture_12h-r4_filtered.log [Content-Type=application/octet-stream]...\n",
      "Copying file://../../data/slamseq_MYB_degraded_coculture_v1/res/filter/mr585-MV411-MYB-dTAG-VHL_coculture_12h-r1_filtered.bam [Content-Type=application/octet-stream]...\n",
      "Copying file://../../data/slamseq_MYB_degraded_coculture_v1/res/filter/mr585-MV411-MYB-dTAG-VHL_coculture_12h-r1_filtered.bam.bai [Content-Type=application/octet-stream]...\n",
      "Copying file://../../data/slamseq_MYB_degraded_coculture_v1/res/filter/mr585-MV411-MYB-dTAG-VHL_coculture_12h-r1_filtered.log [Content-Type=application/octet-stream]...\n",
      "Copying file://../../data/slamseq_MYB_degraded_coculture_v1/res/filter/mr586-MV411-MYB-dTAG-VHL_coculture_12h-r2_filtered.bam [Content-Type=application/octet-stream]...\n",
      "Copying file://../../data/slamseq_MYB_degraded_coculture_v1/res/filter/mr586-MV411-MYB-dTAG-VHL_coculture_12h-r2_filtered.bam.bai [Content-Type=application/octet-stream]...\n",
      "Copying file://../../data/slamseq_MYB_degraded_coculture_v1/res/filter/mr586-MV411-MYB-dTAG-VHL_coculture_12h-r2_filtered.log [Content-Type=application/octet-stream]...\n",
      "Copying file://../../data/slamseq_MYB_degraded_coculture_v1/res/filter/mr587-MV411-MYB-dTAG-VHL_coculture_12h-r3_filtered.bam [Content-Type=application/octet-stream]...\n",
      "Copying file://../../data/slamseq_MYB_degraded_coculture_v1/res/filter/mr587-MV411-MYB-dTAG-VHL_coculture_12h-r3_filtered.bam.bai [Content-Type=application/octet-stream]...\n",
      "Copying file://../../data/slamseq_MYB_degraded_coculture_v1/res/filter/mr587-MV411-MYB-dTAG-VHL_coculture_12h-r3_filtered.log [Content-Type=application/octet-stream]...\n",
      "Copying file://../../data/slamseq_MYB_degraded_coculture_v1/res/filter/mr588-MV411-MYB-dTAG-VHL_coculture_12h-r4_filtered.bam [Content-Type=application/octet-stream]...\n",
      "Copying file://../../data/slamseq_MYB_degraded_coculture_v1/res/filter/mr588-MV411-MYB-dTAG-VHL_coculture_12h-r4_filtered.bam.bai [Content-Type=application/octet-stream]...\n",
      "Copying file://../../data/slamseq_MYB_degraded_coculture_v1/res/filter/mr589-MV411-MYB-dTAG-VHL_coculture_12h-r5_filtered.bam [Content-Type=application/octet-stream]...\n",
      "Copying file://../../data/slamseq_MYB_degraded_coculture_v1/res/filter/mr588-MV411-MYB-dTAG-VHL_coculture_12h-r4_filtered.log [Content-Type=application/octet-stream]...\n",
      "Copying file://../../data/slamseq_MYB_degraded_coculture_v1/res/filter/mr589-MV411-MYB-dTAG-VHL_coculture_12h-r5_filtered.bam.bai [Content-Type=application/octet-stream]...\n",
      "Copying file://../../data/slamseq_MYB_degraded_coculture_v1/res/filter/mr589-MV411-MYB-dTAG-VHL_coculture_12h-r5_filtered.log [Content-Type=application/octet-stream]...\n",
      "| [57/57 files][106.1 GiB/106.1 GiB] 100% Done  39.1 MiB/s ETA 00:00:00         \n",
      "Operation completed over 57 objects/106.1 GiB.                                   \n",
      "Copying file://../../data/slamseq_MYB_degraded_coculture_v1/res/snp/mr576-MV411-VHL_coculture_12h-r1_snp.log [Content-Type=application/octet-stream]...\n",
      "Copying file://../../data/slamseq_MYB_degraded_coculture_v1/res/snp/mr577-MV411-VHL_coculture_12h-r2_snp.log [Content-Type=application/octet-stream]...\n",
      "Copying file://../../data/slamseq_MYB_degraded_coculture_v1/res/snp/mr577-MV411-VHL_coculture_12h-r2_snp.vcf [Content-Type=text/vcard]...\n",
      "Copying file://../../data/slamseq_MYB_degraded_coculture_v1/res/snp/mr576-MV411-VHL_coculture_12h-r1_snp.vcf [Content-Type=text/vcard]...\n",
      "Copying file://../../data/slamseq_MYB_degraded_coculture_v1/res/snp/mr572-MV411-DMSO_coculture_12h-r2_snp.log [Content-Type=application/octet-stream]...\n",
      "Copying file://../../data/slamseq_MYB_degraded_coculture_v1/res/snp/mr574-MV411-DMSO_coculture_12h-r4_snp.log [Content-Type=application/octet-stream]...\n",
      "Copying file://../../data/slamseq_MYB_degraded_coculture_v1/res/snp/mr578-MV411-VHL_coculture_12h-r3_snp.log [Content-Type=application/octet-stream]...\n",
      "Copying file://../../data/slamseq_MYB_degraded_coculture_v1/res/snp/mr571-MV411-DMSO_coculture_12h-r1_snp.log [Content-Type=application/octet-stream]...\n",
      "Copying file://../../data/slamseq_MYB_degraded_coculture_v1/res/snp/mr578-MV411-VHL_coculture_12h-r3_snp.vcf [Content-Type=text/vcard]...\n",
      "Copying file://../../data/slamseq_MYB_degraded_coculture_v1/res/snp/mr571-MV411-DMSO_coculture_12h-r1_snp.vcf [Content-Type=text/vcard]...\n",
      "Copying file://../../data/slamseq_MYB_degraded_coculture_v1/res/snp/mr575-MV411-DMSO_coculture_12h-r5_snp.log [Content-Type=application/octet-stream]...\n",
      "Copying file://../../data/slamseq_MYB_degraded_coculture_v1/res/snp/mr573-MV411-DMSO_coculture_12h-r3_snp.log [Content-Type=application/octet-stream]...\n",
      "Copying file://../../data/slamseq_MYB_degraded_coculture_v1/res/snp/mr572-MV411-DMSO_coculture_12h-r2_snp.vcf [Content-Type=text/vcard]...\n",
      "Copying file://../../data/slamseq_MYB_degraded_coculture_v1/res/snp/mr579-MV411-VHL_coculture_12h-r4_snp.log [Content-Type=application/octet-stream]...\n",
      "Copying file://../../data/slamseq_MYB_degraded_coculture_v1/res/snp/mr574-MV411-DMSO_coculture_12h-r4_snp.vcf [Content-Type=text/vcard]...\n",
      "Copying file://../../data/slamseq_MYB_degraded_coculture_v1/res/snp/mr579-MV411-VHL_coculture_12h-r4_snp.vcf [Content-Type=text/vcard]...\n",
      "Copying file://../../data/slamseq_MYB_degraded_coculture_v1/res/snp/mr573-MV411-DMSO_coculture_12h-r3_snp.vcf [Content-Type=text/vcard]...\n",
      "Copying file://../../data/slamseq_MYB_degraded_coculture_v1/res/snp/mr575-MV411-DMSO_coculture_12h-r5_snp.vcf [Content-Type=text/vcard]...\n",
      "Copying file://../../data/slamseq_MYB_degraded_coculture_v1/res/snp/mr580-MV411-VHL_coculture_12h-r5_snp.log [Content-Type=application/octet-stream]...\n",
      "Copying file://../../data/slamseq_MYB_degraded_coculture_v1/res/snp/mr580-MV411-VHL_coculture_12h-r5_snp.vcf [Content-Type=text/vcard]...\n",
      "Copying file://../../data/slamseq_MYB_degraded_coculture_v1/res/snp/mr586-MV411-MYB-dTAG-VHL_coculture_12h-r2_snp.log [Content-Type=application/octet-stream]...\n",
      "Copying file://../../data/slamseq_MYB_degraded_coculture_v1/res/snp/mr588-MV411-MYB-dTAG-VHL_coculture_12h-r4_snp.vcf [Content-Type=text/vcard]...\n",
      "Copying file://../../data/slamseq_MYB_degraded_coculture_v1/res/snp/mr589-MV411-MYB-dTAG-VHL_coculture_12h-r5_snp.log [Content-Type=application/octet-stream]...\n",
      "Copying file://../../data/slamseq_MYB_degraded_coculture_v1/res/snp/mr586-MV411-MYB-dTAG-VHL_coculture_12h-r2_snp.vcf [Content-Type=text/vcard]...\n",
      "Copying file://../../data/slamseq_MYB_degraded_coculture_v1/res/snp/mr589-MV411-MYB-dTAG-VHL_coculture_12h-r5_snp.vcf [Content-Type=text/vcard]...\n",
      "Copying file://../../data/slamseq_MYB_degraded_coculture_v1/res/snp/mr587-MV411-MYB-dTAG-VHL_coculture_12h-r3_snp.log [Content-Type=application/octet-stream]...\n",
      "Copying file://../../data/slamseq_MYB_degraded_coculture_v1/res/snp/mr587-MV411-MYB-dTAG-VHL_coculture_12h-r3_snp.vcf [Content-Type=text/vcard]...\n",
      "Copying file://../../data/slamseq_MYB_degraded_coculture_v1/res/snp/mr588-MV411-MYB-dTAG-VHL_coculture_12h-r4_snp.log [Content-Type=application/octet-stream]...\n",
      "Copying file://../../data/slamseq_MYB_degraded_coculture_v1/res/snp/mr583-MV411-MYB-dTAG-DMSO_coculture_12h-r3_snp.vcf [Content-Type=text/vcard]...\n",
      "Copying file://../../data/slamseq_MYB_degraded_coculture_v1/res/snp/mr582-MV411-MYB-dTAG-DMSO_coculture_12h-r2_snp.log [Content-Type=application/octet-stream]...\n",
      "Copying file://../../data/slamseq_MYB_degraded_coculture_v1/res/snp/mr581-MV411-MYB-dTAG-DMSO_coculture_12h-r1_snp.vcf [Content-Type=text/vcard]...\n",
      "Copying file://../../data/slamseq_MYB_degraded_coculture_v1/res/snp/mr584-MV411-MYB-dTAG-DMSO_coculture_12h-r4_snp.vcf [Content-Type=text/vcard]...\n",
      "Copying file://../../data/slamseq_MYB_degraded_coculture_v1/res/snp/mr581-MV411-MYB-dTAG-DMSO_coculture_12h-r1_snp.log [Content-Type=application/octet-stream]...\n",
      "Copying file://../../data/slamseq_MYB_degraded_coculture_v1/res/snp/mr585-MV411-MYB-dTAG-VHL_coculture_12h-r1_snp.vcf [Content-Type=text/vcard]...\n",
      "Copying file://../../data/slamseq_MYB_degraded_coculture_v1/res/snp/mr583-MV411-MYB-dTAG-DMSO_coculture_12h-r3_snp.log [Content-Type=application/octet-stream]...\n",
      "Copying file://../../data/slamseq_MYB_degraded_coculture_v1/res/snp/mr582-MV411-MYB-dTAG-DMSO_coculture_12h-r2_snp.vcf [Content-Type=text/vcard]...\n",
      "Copying file://../../data/slamseq_MYB_degraded_coculture_v1/res/snp/mr584-MV411-MYB-dTAG-DMSO_coculture_12h-r4_snp.log [Content-Type=application/octet-stream]...\n",
      "Copying file://../../data/slamseq_MYB_degraded_coculture_v1/res/snp/mr585-MV411-MYB-dTAG-VHL_coculture_12h-r1_snp.log [Content-Type=application/octet-stream]...\n"
     ]
    },
    {
     "name": "stdout",
     "output_type": "stream",
     "text": [
      "/ [38/38 files][293.8 MiB/293.8 MiB] 100% Done                                  \n",
      "Operation completed over 38 objects/293.8 MiB.                                   \n",
      "Copying file://../../data/slamseq_MYB_degraded_coculture_v1/res/count/mr571-MV411-DMSO_coculture_12h-r1_tcount.log [Content-Type=application/octet-stream]...\n",
      "Copying file://../../data/slamseq_MYB_degraded_coculture_v1/res/count/mr571-MV411-DMSO_coculture_12h-r1_tcount_mins.bedgraph [Content-Type=application/octet-stream]...\n",
      "Copying file://../../data/slamseq_MYB_degraded_coculture_v1/res/count/mr571-MV411-DMSO_coculture_12h-r1_tcount_plus.bedgraph [Content-Type=application/octet-stream]...\n",
      "Copying file://../../data/slamseq_MYB_degraded_coculture_v1/res/count/mr571-MV411-DMSO_coculture_12h-r1_tcount.tsv [Content-Type=text/tab-separated-values]...\n",
      "Copying file://../../data/slamseq_MYB_degraded_coculture_v1/res/count/mr572-MV411-DMSO_coculture_12h-r2_tcount.log [Content-Type=application/octet-stream]...\n",
      "Copying file://../../data/slamseq_MYB_degraded_coculture_v1/res/count/mr572-MV411-DMSO_coculture_12h-r2_tcount_mins.bedgraph [Content-Type=application/octet-stream]...\n",
      "Copying file://../../data/slamseq_MYB_degraded_coculture_v1/res/count/mr578-MV411-VHL_coculture_12h-r3_tcount.tsv [Content-Type=text/tab-separated-values]...\n",
      "Copying file://../../data/slamseq_MYB_degraded_coculture_v1/res/count/mr572-MV411-DMSO_coculture_12h-r2_tcount_plus.bedgraph [Content-Type=application/octet-stream]...\n",
      "Copying file://../../data/slamseq_MYB_degraded_coculture_v1/res/count/mr573-MV411-DMSO_coculture_12h-r3_tcount_mins.bedgraph [Content-Type=application/octet-stream]...\n",
      "Copying file://../../data/slamseq_MYB_degraded_coculture_v1/res/count/mr574-MV411-DMSO_coculture_12h-r4_tcount_plus.bedgraph [Content-Type=application/octet-stream]...\n",
      "Copying file://../../data/slamseq_MYB_degraded_coculture_v1/res/count/mr574-MV411-DMSO_coculture_12h-r4_tcount_mins.bedgraph [Content-Type=application/octet-stream]...\n",
      "Copying file://../../data/slamseq_MYB_degraded_coculture_v1/res/count/mr575-MV411-DMSO_coculture_12h-r5_tcount_plus.bedgraph [Content-Type=application/octet-stream]...\n",
      "Copying file://../../data/slamseq_MYB_degraded_coculture_v1/res/count/mr573-MV411-DMSO_coculture_12h-r3_tcount.log [Content-Type=application/octet-stream]...\n",
      "Copying file://../../data/slamseq_MYB_degraded_coculture_v1/res/count/mr576-MV411-VHL_coculture_12h-r1_tcount_mins.bedgraph [Content-Type=application/octet-stream]...\n",
      "Copying file://../../data/slamseq_MYB_degraded_coculture_v1/res/count/mr573-MV411-DMSO_coculture_12h-r3_tcount_plus.bedgraph [Content-Type=application/octet-stream]...\n",
      "Copying file://../../data/slamseq_MYB_degraded_coculture_v1/res/count/mr580-MV411-VHL_coculture_12h-r5_tcount_plus.bedgraph [Content-Type=application/octet-stream]...\n",
      "Copying file://../../data/slamseq_MYB_degraded_coculture_v1/res/count/mr576-MV411-VHL_coculture_12h-r1_tcount.tsv [Content-Type=text/tab-separated-values]...\n",
      "Copying file://../../data/slamseq_MYB_degraded_coculture_v1/res/count/mr573-MV411-DMSO_coculture_12h-r3_tcount.tsv [Content-Type=text/tab-separated-values]...\n",
      "Copying file://../../data/slamseq_MYB_degraded_coculture_v1/res/count/mr579-MV411-VHL_coculture_12h-r4_tcount_mins.bedgraph [Content-Type=application/octet-stream]...\n",
      "Copying file://../../data/slamseq_MYB_degraded_coculture_v1/res/count/mr576-MV411-VHL_coculture_12h-r1_tcount_plus.bedgraph [Content-Type=application/octet-stream]...\n",
      "Copying file://../../data/slamseq_MYB_degraded_coculture_v1/res/count/mr575-MV411-DMSO_coculture_12h-r5_tcount_mins.bedgraph [Content-Type=application/octet-stream]...\n",
      "Copying file://../../data/slamseq_MYB_degraded_coculture_v1/res/count/mr572-MV411-DMSO_coculture_12h-r2_tcount.tsv [Content-Type=text/tab-separated-values]...\n",
      "Copying file://../../data/slamseq_MYB_degraded_coculture_v1/res/count/mr578-MV411-VHL_coculture_12h-r3_tcount_plus.bedgraph [Content-Type=application/octet-stream]...\n",
      "Copying file://../../data/slamseq_MYB_degraded_coculture_v1/res/count/mr579-MV411-VHL_coculture_12h-r4_tcount.log [Content-Type=application/octet-stream]...\n",
      "Copying file://../../data/slamseq_MYB_degraded_coculture_v1/res/count/mr580-MV411-VHL_coculture_12h-r5_tcount_mins.bedgraph [Content-Type=application/octet-stream]...\n",
      "Copying file://../../data/slamseq_MYB_degraded_coculture_v1/res/count/mr580-MV411-VHL_coculture_12h-r5_tcount.log [Content-Type=application/octet-stream]...\n",
      "Copying file://../../data/slamseq_MYB_degraded_coculture_v1/res/count/mr577-MV411-VHL_coculture_12h-r2_tcount_mins.bedgraph [Content-Type=application/octet-stream]...\n",
      "Copying file://../../data/slamseq_MYB_degraded_coculture_v1/res/count/mr576-MV411-VHL_coculture_12h-r1_tcount.log [Content-Type=application/octet-stream]...\n",
      "Copying file://../../data/slamseq_MYB_degraded_coculture_v1/res/count/mr574-MV411-DMSO_coculture_12h-r4_tcount.tsv [Content-Type=text/tab-separated-values]...\n",
      "Copying file://../../data/slamseq_MYB_degraded_coculture_v1/res/count/mr580-MV411-VHL_coculture_12h-r5_tcount.tsv [Content-Type=text/tab-separated-values]...\n",
      "Copying file://../../data/slamseq_MYB_degraded_coculture_v1/res/count/mr579-MV411-VHL_coculture_12h-r4_tcount.tsv [Content-Type=text/tab-separated-values]...\n",
      "Copying file://../../data/slamseq_MYB_degraded_coculture_v1/res/count/mr574-MV411-DMSO_coculture_12h-r4_tcount.log [Content-Type=application/octet-stream]...\n",
      "Copying file://../../data/slamseq_MYB_degraded_coculture_v1/res/count/mr577-MV411-VHL_coculture_12h-r2_tcount.log [Content-Type=application/octet-stream]...\n",
      "Copying file://../../data/slamseq_MYB_degraded_coculture_v1/res/count/mr575-MV411-DMSO_coculture_12h-r5_tcount.tsv [Content-Type=text/tab-separated-values]...\n",
      "Copying file://../../data/slamseq_MYB_degraded_coculture_v1/res/count/mr577-MV411-VHL_coculture_12h-r2_tcount.tsv [Content-Type=text/tab-separated-values]...\n",
      "Copying file://../../data/slamseq_MYB_degraded_coculture_v1/res/count/mr579-MV411-VHL_coculture_12h-r4_tcount_plus.bedgraph [Content-Type=application/octet-stream]...\n",
      "Copying file://../../data/slamseq_MYB_degraded_coculture_v1/res/count/mr575-MV411-DMSO_coculture_12h-r5_tcount.log [Content-Type=application/octet-stream]...\n",
      "Copying file://../../data/slamseq_MYB_degraded_coculture_v1/res/count/mr578-MV411-VHL_coculture_12h-r3_tcount_mins.bedgraph [Content-Type=application/octet-stream]...\n",
      "Copying file://../../data/slamseq_MYB_degraded_coculture_v1/res/count/mr578-MV411-VHL_coculture_12h-r3_tcount.log [Content-Type=application/octet-stream]...\n",
      "Copying file://../../data/slamseq_MYB_degraded_coculture_v1/res/count/mr577-MV411-VHL_coculture_12h-r2_tcount_plus.bedgraph [Content-Type=application/octet-stream]...\n",
      "Copying file://../../data/slamseq_MYB_degraded_coculture_v1/res/count/mr581-MV411-MYB-dTAG-DMSO_coculture_12h-r1_tcount.log [Content-Type=application/octet-stream]...\n",
      "Copying file://../../data/slamseq_MYB_degraded_coculture_v1/res/count/mr581-MV411-MYB-dTAG-DMSO_coculture_12h-r1_tcount_mins.bedgraph [Content-Type=application/octet-stream]...\n",
      "Copying file://../../data/slamseq_MYB_degraded_coculture_v1/res/count/mr581-MV411-MYB-dTAG-DMSO_coculture_12h-r1_tcount_plus.bedgraph [Content-Type=application/octet-stream]...\n",
      "Copying file://../../data/slamseq_MYB_degraded_coculture_v1/res/count/mr581-MV411-MYB-dTAG-DMSO_coculture_12h-r1_tcount.tsv [Content-Type=text/tab-separated-values]...\n",
      "Copying file://../../data/slamseq_MYB_degraded_coculture_v1/res/count/mr582-MV411-MYB-dTAG-DMSO_coculture_12h-r2_tcount.log [Content-Type=application/octet-stream]...\n",
      "Copying file://../../data/slamseq_MYB_degraded_coculture_v1/res/count/mr582-MV411-MYB-dTAG-DMSO_coculture_12h-r2_tcount_mins.bedgraph [Content-Type=application/octet-stream]...\n",
      "Copying file://../../data/slamseq_MYB_degraded_coculture_v1/res/count/mr582-MV411-MYB-dTAG-DMSO_coculture_12h-r2_tcount_plus.bedgraph [Content-Type=application/octet-stream]...\n",
      "Copying file://../../data/slamseq_MYB_degraded_coculture_v1/res/count/mr582-MV411-MYB-dTAG-DMSO_coculture_12h-r2_tcount.tsv [Content-Type=text/tab-separated-values]...\n",
      "Copying file://../../data/slamseq_MYB_degraded_coculture_v1/res/count/mr583-MV411-MYB-dTAG-DMSO_coculture_12h-r3_tcount.log [Content-Type=application/octet-stream]...\n"
     ]
    },
    {
     "name": "stdout",
     "output_type": "stream",
     "text": [
      "Copying file://../../data/slamseq_MYB_degraded_coculture_v1/res/count/mr583-MV411-MYB-dTAG-DMSO_coculture_12h-r3_tcount_mins.bedgraph [Content-Type=application/octet-stream]...\n",
      "Copying file://../../data/slamseq_MYB_degraded_coculture_v1/res/count/mr583-MV411-MYB-dTAG-DMSO_coculture_12h-r3_tcount_plus.bedgraph [Content-Type=application/octet-stream]...\n",
      "Copying file://../../data/slamseq_MYB_degraded_coculture_v1/res/count/mr583-MV411-MYB-dTAG-DMSO_coculture_12h-r3_tcount.tsv [Content-Type=text/tab-separated-values]...\n",
      "Copying file://../../data/slamseq_MYB_degraded_coculture_v1/res/count/mr584-MV411-MYB-dTAG-DMSO_coculture_12h-r4_tcount.log [Content-Type=application/octet-stream]...\n",
      "Copying file://../../data/slamseq_MYB_degraded_coculture_v1/res/count/mr584-MV411-MYB-dTAG-DMSO_coculture_12h-r4_tcount_mins.bedgraph [Content-Type=application/octet-stream]...\n",
      "Copying file://../../data/slamseq_MYB_degraded_coculture_v1/res/count/mr584-MV411-MYB-dTAG-DMSO_coculture_12h-r4_tcount_plus.bedgraph [Content-Type=application/octet-stream]...\n",
      "Copying file://../../data/slamseq_MYB_degraded_coculture_v1/res/count/mr584-MV411-MYB-dTAG-DMSO_coculture_12h-r4_tcount.tsv [Content-Type=text/tab-separated-values]...\n",
      "Copying file://../../data/slamseq_MYB_degraded_coculture_v1/res/count/mr585-MV411-MYB-dTAG-VHL_coculture_12h-r1_tcount.log [Content-Type=application/octet-stream]...\n",
      "Copying file://../../data/slamseq_MYB_degraded_coculture_v1/res/count/mr585-MV411-MYB-dTAG-VHL_coculture_12h-r1_tcount_mins.bedgraph [Content-Type=application/octet-stream]...\n",
      "Copying file://../../data/slamseq_MYB_degraded_coculture_v1/res/count/mr585-MV411-MYB-dTAG-VHL_coculture_12h-r1_tcount_plus.bedgraph [Content-Type=application/octet-stream]...\n",
      "Copying file://../../data/slamseq_MYB_degraded_coculture_v1/res/count/mr585-MV411-MYB-dTAG-VHL_coculture_12h-r1_tcount.tsv [Content-Type=text/tab-separated-values]...\n",
      "Copying file://../../data/slamseq_MYB_degraded_coculture_v1/res/count/mr586-MV411-MYB-dTAG-VHL_coculture_12h-r2_tcount.log [Content-Type=application/octet-stream]...\n",
      "Copying file://../../data/slamseq_MYB_degraded_coculture_v1/res/count/mr586-MV411-MYB-dTAG-VHL_coculture_12h-r2_tcount_mins.bedgraph [Content-Type=application/octet-stream]...\n",
      "Copying file://../../data/slamseq_MYB_degraded_coculture_v1/res/count/mr586-MV411-MYB-dTAG-VHL_coculture_12h-r2_tcount_plus.bedgraph [Content-Type=application/octet-stream]...\n",
      "Copying file://../../data/slamseq_MYB_degraded_coculture_v1/res/count/mr586-MV411-MYB-dTAG-VHL_coculture_12h-r2_tcount.tsv [Content-Type=text/tab-separated-values]...\n",
      "Copying file://../../data/slamseq_MYB_degraded_coculture_v1/res/count/mr587-MV411-MYB-dTAG-VHL_coculture_12h-r3_tcount.log [Content-Type=application/octet-stream]...\n",
      "Copying file://../../data/slamseq_MYB_degraded_coculture_v1/res/count/mr587-MV411-MYB-dTAG-VHL_coculture_12h-r3_tcount_mins.bedgraph [Content-Type=application/octet-stream]...\n",
      "Copying file://../../data/slamseq_MYB_degraded_coculture_v1/res/count/mr587-MV411-MYB-dTAG-VHL_coculture_12h-r3_tcount_plus.bedgraph [Content-Type=application/octet-stream]...\n",
      "Copying file://../../data/slamseq_MYB_degraded_coculture_v1/res/count/mr587-MV411-MYB-dTAG-VHL_coculture_12h-r3_tcount.tsv [Content-Type=text/tab-separated-values]...\n",
      "Copying file://../../data/slamseq_MYB_degraded_coculture_v1/res/count/mr588-MV411-MYB-dTAG-VHL_coculture_12h-r4_tcount.log [Content-Type=application/octet-stream]...\n",
      "Copying file://../../data/slamseq_MYB_degraded_coculture_v1/res/count/mr588-MV411-MYB-dTAG-VHL_coculture_12h-r4_tcount_mins.bedgraph [Content-Type=application/octet-stream]...\n",
      "Copying file://../../data/slamseq_MYB_degraded_coculture_v1/res/count/mr588-MV411-MYB-dTAG-VHL_coculture_12h-r4_tcount_plus.bedgraph [Content-Type=application/octet-stream]...\n",
      "Copying file://../../data/slamseq_MYB_degraded_coculture_v1/res/count/mr588-MV411-MYB-dTAG-VHL_coculture_12h-r4_tcount.tsv [Content-Type=text/tab-separated-values]...\n",
      "Copying file://../../data/slamseq_MYB_degraded_coculture_v1/res/count/mr589-MV411-MYB-dTAG-VHL_coculture_12h-r5_tcount.log [Content-Type=application/octet-stream]...\n",
      "Copying file://../../data/slamseq_MYB_degraded_coculture_v1/res/count/mr589-MV411-MYB-dTAG-VHL_coculture_12h-r5_tcount_mins.bedgraph [Content-Type=application/octet-stream]...\n",
      "Copying file://../../data/slamseq_MYB_degraded_coculture_v1/res/count/mr589-MV411-MYB-dTAG-VHL_coculture_12h-r5_tcount_plus.bedgraph [Content-Type=application/octet-stream]...\n",
      "Copying file://../../data/slamseq_MYB_degraded_coculture_v1/res/count/mr589-MV411-MYB-dTAG-VHL_coculture_12h-r5_tcount.tsv [Content-Type=text/tab-separated-values]...\n",
      "- [76/76 files][  3.4 GiB/  3.4 GiB] 100% Done 168.4 MiB/s ETA 00:00:00         \n",
      "Operation completed over 76 objects/3.4 GiB.                                     \n"
     ]
    }
   ],
   "source": [
    "! gsutil -m cp ../../data/slamseq_$project/fastqs/* gs://amlproject/RNA/slamseq/$project/fastqs/ \n",
    "! gsutil -m cp ../../data/slamseq_$project/res/map/* gs://amlproject/RNA/slamseq/$project/res/map/ \n",
    "! gsutil -m cp ../../data/slamseq_$project/res/filter/* gs://amlproject/RNA/slamseq/$project/res/filter/ \n",
    "! gsutil -m cp ../../data/slamseq_$project/res/snp/* gs://amlproject/RNA/slamseq/$project/res/snp/ \n",
    "! gsutil -m cp ../../data/slamseq_$project/res/count/* gs://amlproject/RNA/slamseq/$project/res/count/"
   ]
  },
  {
   "cell_type": "code",
   "execution_count": null,
   "id": "0cf8260c",
   "metadata": {},
   "outputs": [],
   "source": []
  }
 ],
 "metadata": {
  "kernelspec": {
   "display_name": "Python 3 (ipykernel)",
   "language": "python",
   "name": "python3"
  },
  "language_info": {
   "codemirror_mode": {
    "name": "ipython",
    "version": 3
   },
   "file_extension": ".py",
   "mimetype": "text/x-python",
   "name": "python",
   "nbconvert_exporter": "python",
   "pygments_lexer": "ipython3",
   "version": "3.8.11"
  },
  "toc": {
   "base_numbering": 1,
   "nav_menu": {},
   "number_sections": false,
   "sideBar": true,
   "skip_h1_title": false,
   "title_cell": "Table of Contents",
   "title_sidebar": "Contents",
   "toc_cell": false,
   "toc_position": {
    "height": "calc(100% - 180px)",
    "left": "10px",
    "top": "150px",
    "width": "216.797px"
   },
   "toc_section_display": true,
   "toc_window_display": true
  }
 },
 "nbformat": 4,
 "nbformat_minor": 5
}
