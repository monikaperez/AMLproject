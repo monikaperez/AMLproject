{
 "cells": [
  {
   "cell_type": "markdown",
   "id": "2ee810aa",
   "metadata": {},
   "source": [
    "# SLAMseq"
   ]
  },
  {
   "cell_type": "markdown",
   "id": "9c76af92",
   "metadata": {},
   "source": [
    "## Installing slamdunk (only do once)"
   ]
  },
  {
   "cell_type": "code",
   "execution_count": 1,
   "id": "c6fe9f68",
   "metadata": {},
   "outputs": [],
   "source": [
    "# install slamdunk\n",
    "#! pip3 install git+https://github.com/jkobject/slamdunk.git --upgrade"
   ]
  },
  {
   "cell_type": "code",
   "execution_count": 2,
   "id": "9b9c4e84",
   "metadata": {},
   "outputs": [],
   "source": [
    "# clone and install genepy\n",
    "# pip install -e genepy"
   ]
  },
  {
   "cell_type": "code",
   "execution_count": 3,
   "id": "4c7e763b",
   "metadata": {},
   "outputs": [],
   "source": [
    "# please also install cutadapt, fastqc, and trimgalore\n",
    "#! conda install -c bioconda cutadapt\n",
    "#! conda install -c bioconda fastqc\n",
    "#! conda install -c bioconda trim-galore"
   ]
  },
  {
   "cell_type": "code",
   "execution_count": 1,
   "id": "2d71fdd2",
   "metadata": {},
   "outputs": [],
   "source": [
    "from __future__ import print_function\n",
    "import os.path\n",
    "import pandas as pd\n",
    "import sys\n",
    "sys.path.insert(0, '../../')\n",
    "import seaborn as sns\n",
    "import numpy as np\n",
    "from natsort import os_sorted\n",
    "\n",
    "from genepy.utils import helper as h\n",
    "from genepy.utils import plot as genepyPlot\n",
    "from genepy.rna import pyDESeq2\n",
    "import genepy.rna as rna"
   ]
  },
  {
   "cell_type": "code",
   "execution_count": 3,
   "id": "f0fe245c",
   "metadata": {},
   "outputs": [
    {
     "data": {
      "text/html": [
       "\n",
       "    <div class=\"bk-root\">\n",
       "        <a href=\"https://bokeh.org\" target=\"_blank\" class=\"bk-logo bk-logo-small bk-logo-notebook\"></a>\n",
       "        <span id=\"1003\">Loading BokehJS ...</span>\n",
       "    </div>"
      ]
     },
     "metadata": {},
     "output_type": "display_data"
    },
    {
     "data": {
      "application/javascript": [
       "\n",
       "(function(root) {\n",
       "  function now() {\n",
       "    return new Date();\n",
       "  }\n",
       "\n",
       "  const force = true;\n",
       "\n",
       "  if (typeof root._bokeh_onload_callbacks === \"undefined\" || force === true) {\n",
       "    root._bokeh_onload_callbacks = [];\n",
       "    root._bokeh_is_loading = undefined;\n",
       "  }\n",
       "\n",
       "  const JS_MIME_TYPE = 'application/javascript';\n",
       "  const HTML_MIME_TYPE = 'text/html';\n",
       "  const EXEC_MIME_TYPE = 'application/vnd.bokehjs_exec.v0+json';\n",
       "  const CLASS_NAME = 'output_bokeh rendered_html';\n",
       "\n",
       "  /**\n",
       "   * Render data to the DOM node\n",
       "   */\n",
       "  function render(props, node) {\n",
       "    const script = document.createElement(\"script\");\n",
       "    node.appendChild(script);\n",
       "  }\n",
       "\n",
       "  /**\n",
       "   * Handle when an output is cleared or removed\n",
       "   */\n",
       "  function handleClearOutput(event, handle) {\n",
       "    const cell = handle.cell;\n",
       "\n",
       "    const id = cell.output_area._bokeh_element_id;\n",
       "    const server_id = cell.output_area._bokeh_server_id;\n",
       "    // Clean up Bokeh references\n",
       "    if (id != null && id in Bokeh.index) {\n",
       "      Bokeh.index[id].model.document.clear();\n",
       "      delete Bokeh.index[id];\n",
       "    }\n",
       "\n",
       "    if (server_id !== undefined) {\n",
       "      // Clean up Bokeh references\n",
       "      const cmd_clean = \"from bokeh.io.state import curstate; print(curstate().uuid_to_server['\" + server_id + \"'].get_sessions()[0].document.roots[0]._id)\";\n",
       "      cell.notebook.kernel.execute(cmd_clean, {\n",
       "        iopub: {\n",
       "          output: function(msg) {\n",
       "            const id = msg.content.text.trim();\n",
       "            if (id in Bokeh.index) {\n",
       "              Bokeh.index[id].model.document.clear();\n",
       "              delete Bokeh.index[id];\n",
       "            }\n",
       "          }\n",
       "        }\n",
       "      });\n",
       "      // Destroy server and session\n",
       "      const cmd_destroy = \"import bokeh.io.notebook as ion; ion.destroy_server('\" + server_id + \"')\";\n",
       "      cell.notebook.kernel.execute(cmd_destroy);\n",
       "    }\n",
       "  }\n",
       "\n",
       "  /**\n",
       "   * Handle when a new output is added\n",
       "   */\n",
       "  function handleAddOutput(event, handle) {\n",
       "    const output_area = handle.output_area;\n",
       "    const output = handle.output;\n",
       "\n",
       "    // limit handleAddOutput to display_data with EXEC_MIME_TYPE content only\n",
       "    if ((output.output_type != \"display_data\") || (!Object.prototype.hasOwnProperty.call(output.data, EXEC_MIME_TYPE))) {\n",
       "      return\n",
       "    }\n",
       "\n",
       "    const toinsert = output_area.element.find(\".\" + CLASS_NAME.split(' ')[0]);\n",
       "\n",
       "    if (output.metadata[EXEC_MIME_TYPE][\"id\"] !== undefined) {\n",
       "      toinsert[toinsert.length - 1].firstChild.textContent = output.data[JS_MIME_TYPE];\n",
       "      // store reference to embed id on output_area\n",
       "      output_area._bokeh_element_id = output.metadata[EXEC_MIME_TYPE][\"id\"];\n",
       "    }\n",
       "    if (output.metadata[EXEC_MIME_TYPE][\"server_id\"] !== undefined) {\n",
       "      const bk_div = document.createElement(\"div\");\n",
       "      bk_div.innerHTML = output.data[HTML_MIME_TYPE];\n",
       "      const script_attrs = bk_div.children[0].attributes;\n",
       "      for (let i = 0; i < script_attrs.length; i++) {\n",
       "        toinsert[toinsert.length - 1].firstChild.setAttribute(script_attrs[i].name, script_attrs[i].value);\n",
       "        toinsert[toinsert.length - 1].firstChild.textContent = bk_div.children[0].textContent\n",
       "      }\n",
       "      // store reference to server id on output_area\n",
       "      output_area._bokeh_server_id = output.metadata[EXEC_MIME_TYPE][\"server_id\"];\n",
       "    }\n",
       "  }\n",
       "\n",
       "  function register_renderer(events, OutputArea) {\n",
       "\n",
       "    function append_mime(data, metadata, element) {\n",
       "      // create a DOM node to render to\n",
       "      const toinsert = this.create_output_subarea(\n",
       "        metadata,\n",
       "        CLASS_NAME,\n",
       "        EXEC_MIME_TYPE\n",
       "      );\n",
       "      this.keyboard_manager.register_events(toinsert);\n",
       "      // Render to node\n",
       "      const props = {data: data, metadata: metadata[EXEC_MIME_TYPE]};\n",
       "      render(props, toinsert[toinsert.length - 1]);\n",
       "      element.append(toinsert);\n",
       "      return toinsert\n",
       "    }\n",
       "\n",
       "    /* Handle when an output is cleared or removed */\n",
       "    events.on('clear_output.CodeCell', handleClearOutput);\n",
       "    events.on('delete.Cell', handleClearOutput);\n",
       "\n",
       "    /* Handle when a new output is added */\n",
       "    events.on('output_added.OutputArea', handleAddOutput);\n",
       "\n",
       "    /**\n",
       "     * Register the mime type and append_mime function with output_area\n",
       "     */\n",
       "    OutputArea.prototype.register_mime_type(EXEC_MIME_TYPE, append_mime, {\n",
       "      /* Is output safe? */\n",
       "      safe: true,\n",
       "      /* Index of renderer in `output_area.display_order` */\n",
       "      index: 0\n",
       "    });\n",
       "  }\n",
       "\n",
       "  // register the mime type if in Jupyter Notebook environment and previously unregistered\n",
       "  if (root.Jupyter !== undefined) {\n",
       "    const events = require('base/js/events');\n",
       "    const OutputArea = require('notebook/js/outputarea').OutputArea;\n",
       "\n",
       "    if (OutputArea.prototype.mime_types().indexOf(EXEC_MIME_TYPE) == -1) {\n",
       "      register_renderer(events, OutputArea);\n",
       "    }\n",
       "  }\n",
       "\n",
       "  \n",
       "  if (typeof (root._bokeh_timeout) === \"undefined\" || force === true) {\n",
       "    root._bokeh_timeout = Date.now() + 5000;\n",
       "    root._bokeh_failed_load = false;\n",
       "  }\n",
       "\n",
       "  const NB_LOAD_WARNING = {'data': {'text/html':\n",
       "     \"<div style='background-color: #fdd'>\\n\"+\n",
       "     \"<p>\\n\"+\n",
       "     \"BokehJS does not appear to have successfully loaded. If loading BokehJS from CDN, this \\n\"+\n",
       "     \"may be due to a slow or bad network connection. Possible fixes:\\n\"+\n",
       "     \"</p>\\n\"+\n",
       "     \"<ul>\\n\"+\n",
       "     \"<li>re-rerun `output_notebook()` to attempt to load from CDN again, or</li>\\n\"+\n",
       "     \"<li>use INLINE resources instead, as so:</li>\\n\"+\n",
       "     \"</ul>\\n\"+\n",
       "     \"<code>\\n\"+\n",
       "     \"from bokeh.resources import INLINE\\n\"+\n",
       "     \"output_notebook(resources=INLINE)\\n\"+\n",
       "     \"</code>\\n\"+\n",
       "     \"</div>\"}};\n",
       "\n",
       "  function display_loaded() {\n",
       "    const el = document.getElementById(\"1003\");\n",
       "    if (el != null) {\n",
       "      el.textContent = \"BokehJS is loading...\";\n",
       "    }\n",
       "    if (root.Bokeh !== undefined) {\n",
       "      if (el != null) {\n",
       "        el.textContent = \"BokehJS \" + root.Bokeh.version + \" successfully loaded.\";\n",
       "      }\n",
       "    } else if (Date.now() < root._bokeh_timeout) {\n",
       "      setTimeout(display_loaded, 100)\n",
       "    }\n",
       "  }\n",
       "\n",
       "\n",
       "  function run_callbacks() {\n",
       "    try {\n",
       "      root._bokeh_onload_callbacks.forEach(function(callback) {\n",
       "        if (callback != null)\n",
       "          callback();\n",
       "      });\n",
       "    } finally {\n",
       "      delete root._bokeh_onload_callbacks\n",
       "    }\n",
       "    console.debug(\"Bokeh: all callbacks have finished\");\n",
       "  }\n",
       "\n",
       "  function load_libs(css_urls, js_urls, callback) {\n",
       "    if (css_urls == null) css_urls = [];\n",
       "    if (js_urls == null) js_urls = [];\n",
       "\n",
       "    root._bokeh_onload_callbacks.push(callback);\n",
       "    if (root._bokeh_is_loading > 0) {\n",
       "      console.debug(\"Bokeh: BokehJS is being loaded, scheduling callback at\", now());\n",
       "      return null;\n",
       "    }\n",
       "    if (js_urls == null || js_urls.length === 0) {\n",
       "      run_callbacks();\n",
       "      return null;\n",
       "    }\n",
       "    console.debug(\"Bokeh: BokehJS not loaded, scheduling load and callback at\", now());\n",
       "    root._bokeh_is_loading = css_urls.length + js_urls.length;\n",
       "\n",
       "    function on_load() {\n",
       "      root._bokeh_is_loading--;\n",
       "      if (root._bokeh_is_loading === 0) {\n",
       "        console.debug(\"Bokeh: all BokehJS libraries/stylesheets loaded\");\n",
       "        run_callbacks()\n",
       "      }\n",
       "    }\n",
       "\n",
       "    function on_error(url) {\n",
       "      console.error(\"failed to load \" + url);\n",
       "    }\n",
       "\n",
       "    for (let i = 0; i < css_urls.length; i++) {\n",
       "      const url = css_urls[i];\n",
       "      const element = document.createElement(\"link\");\n",
       "      element.onload = on_load;\n",
       "      element.onerror = on_error.bind(null, url);\n",
       "      element.rel = \"stylesheet\";\n",
       "      element.type = \"text/css\";\n",
       "      element.href = url;\n",
       "      console.debug(\"Bokeh: injecting link tag for BokehJS stylesheet: \", url);\n",
       "      document.body.appendChild(element);\n",
       "    }\n",
       "\n",
       "    for (let i = 0; i < js_urls.length; i++) {\n",
       "      const url = js_urls[i];\n",
       "      const element = document.createElement('script');\n",
       "      element.onload = on_load;\n",
       "      element.onerror = on_error.bind(null, url);\n",
       "      element.async = false;\n",
       "      element.src = url;\n",
       "      console.debug(\"Bokeh: injecting script tag for BokehJS library: \", url);\n",
       "      document.head.appendChild(element);\n",
       "    }\n",
       "  };\n",
       "\n",
       "  function inject_raw_css(css) {\n",
       "    const element = document.createElement(\"style\");\n",
       "    element.appendChild(document.createTextNode(css));\n",
       "    document.body.appendChild(element);\n",
       "  }\n",
       "\n",
       "  \n",
       "  const js_urls = [\"https://cdn.bokeh.org/bokeh/release/bokeh-2.4.2.min.js\", \"https://cdn.bokeh.org/bokeh/release/bokeh-gl-2.4.2.min.js\", \"https://cdn.bokeh.org/bokeh/release/bokeh-widgets-2.4.2.min.js\", \"https://cdn.bokeh.org/bokeh/release/bokeh-tables-2.4.2.min.js\", \"https://cdn.bokeh.org/bokeh/release/bokeh-mathjax-2.4.2.min.js\"];\n",
       "  const css_urls = [];\n",
       "  \n",
       "\n",
       "  const inline_js = [\n",
       "    function(Bokeh) {\n",
       "      Bokeh.set_log_level(\"info\");\n",
       "    },\n",
       "    function(Bokeh) {\n",
       "    \n",
       "    \n",
       "    }\n",
       "  ];\n",
       "\n",
       "  function run_inline_js() {\n",
       "    \n",
       "    if (root.Bokeh !== undefined || force === true) {\n",
       "      \n",
       "    for (let i = 0; i < inline_js.length; i++) {\n",
       "      inline_js[i].call(root, root.Bokeh);\n",
       "    }\n",
       "    if (force === true) {\n",
       "        display_loaded();\n",
       "      }} else if (Date.now() < root._bokeh_timeout) {\n",
       "      setTimeout(run_inline_js, 100);\n",
       "    } else if (!root._bokeh_failed_load) {\n",
       "      console.log(\"Bokeh: BokehJS failed to load within specified timeout.\");\n",
       "      root._bokeh_failed_load = true;\n",
       "    } else if (force !== true) {\n",
       "      const cell = $(document.getElementById(\"1003\")).parents('.cell').data().cell;\n",
       "      cell.output_area.append_execute_result(NB_LOAD_WARNING)\n",
       "    }\n",
       "\n",
       "  }\n",
       "\n",
       "  if (root._bokeh_is_loading === 0) {\n",
       "    console.debug(\"Bokeh: BokehJS loaded, going straight to plotting\");\n",
       "    run_inline_js();\n",
       "  } else {\n",
       "    load_libs(css_urls, js_urls, function() {\n",
       "      console.debug(\"Bokeh: BokehJS plotting callback run at\", now());\n",
       "      run_inline_js();\n",
       "    });\n",
       "  }\n",
       "}(window));"
      ],
      "application/vnd.bokehjs_load.v0+json": "\n(function(root) {\n  function now() {\n    return new Date();\n  }\n\n  const force = true;\n\n  if (typeof root._bokeh_onload_callbacks === \"undefined\" || force === true) {\n    root._bokeh_onload_callbacks = [];\n    root._bokeh_is_loading = undefined;\n  }\n\n  \n\n  \n  if (typeof (root._bokeh_timeout) === \"undefined\" || force === true) {\n    root._bokeh_timeout = Date.now() + 5000;\n    root._bokeh_failed_load = false;\n  }\n\n  const NB_LOAD_WARNING = {'data': {'text/html':\n     \"<div style='background-color: #fdd'>\\n\"+\n     \"<p>\\n\"+\n     \"BokehJS does not appear to have successfully loaded. If loading BokehJS from CDN, this \\n\"+\n     \"may be due to a slow or bad network connection. Possible fixes:\\n\"+\n     \"</p>\\n\"+\n     \"<ul>\\n\"+\n     \"<li>re-rerun `output_notebook()` to attempt to load from CDN again, or</li>\\n\"+\n     \"<li>use INLINE resources instead, as so:</li>\\n\"+\n     \"</ul>\\n\"+\n     \"<code>\\n\"+\n     \"from bokeh.resources import INLINE\\n\"+\n     \"output_notebook(resources=INLINE)\\n\"+\n     \"</code>\\n\"+\n     \"</div>\"}};\n\n  function display_loaded() {\n    const el = document.getElementById(\"1003\");\n    if (el != null) {\n      el.textContent = \"BokehJS is loading...\";\n    }\n    if (root.Bokeh !== undefined) {\n      if (el != null) {\n        el.textContent = \"BokehJS \" + root.Bokeh.version + \" successfully loaded.\";\n      }\n    } else if (Date.now() < root._bokeh_timeout) {\n      setTimeout(display_loaded, 100)\n    }\n  }\n\n\n  function run_callbacks() {\n    try {\n      root._bokeh_onload_callbacks.forEach(function(callback) {\n        if (callback != null)\n          callback();\n      });\n    } finally {\n      delete root._bokeh_onload_callbacks\n    }\n    console.debug(\"Bokeh: all callbacks have finished\");\n  }\n\n  function load_libs(css_urls, js_urls, callback) {\n    if (css_urls == null) css_urls = [];\n    if (js_urls == null) js_urls = [];\n\n    root._bokeh_onload_callbacks.push(callback);\n    if (root._bokeh_is_loading > 0) {\n      console.debug(\"Bokeh: BokehJS is being loaded, scheduling callback at\", now());\n      return null;\n    }\n    if (js_urls == null || js_urls.length === 0) {\n      run_callbacks();\n      return null;\n    }\n    console.debug(\"Bokeh: BokehJS not loaded, scheduling load and callback at\", now());\n    root._bokeh_is_loading = css_urls.length + js_urls.length;\n\n    function on_load() {\n      root._bokeh_is_loading--;\n      if (root._bokeh_is_loading === 0) {\n        console.debug(\"Bokeh: all BokehJS libraries/stylesheets loaded\");\n        run_callbacks()\n      }\n    }\n\n    function on_error(url) {\n      console.error(\"failed to load \" + url);\n    }\n\n    for (let i = 0; i < css_urls.length; i++) {\n      const url = css_urls[i];\n      const element = document.createElement(\"link\");\n      element.onload = on_load;\n      element.onerror = on_error.bind(null, url);\n      element.rel = \"stylesheet\";\n      element.type = \"text/css\";\n      element.href = url;\n      console.debug(\"Bokeh: injecting link tag for BokehJS stylesheet: \", url);\n      document.body.appendChild(element);\n    }\n\n    for (let i = 0; i < js_urls.length; i++) {\n      const url = js_urls[i];\n      const element = document.createElement('script');\n      element.onload = on_load;\n      element.onerror = on_error.bind(null, url);\n      element.async = false;\n      element.src = url;\n      console.debug(\"Bokeh: injecting script tag for BokehJS library: \", url);\n      document.head.appendChild(element);\n    }\n  };\n\n  function inject_raw_css(css) {\n    const element = document.createElement(\"style\");\n    element.appendChild(document.createTextNode(css));\n    document.body.appendChild(element);\n  }\n\n  \n  const js_urls = [\"https://cdn.bokeh.org/bokeh/release/bokeh-2.4.2.min.js\", \"https://cdn.bokeh.org/bokeh/release/bokeh-gl-2.4.2.min.js\", \"https://cdn.bokeh.org/bokeh/release/bokeh-widgets-2.4.2.min.js\", \"https://cdn.bokeh.org/bokeh/release/bokeh-tables-2.4.2.min.js\", \"https://cdn.bokeh.org/bokeh/release/bokeh-mathjax-2.4.2.min.js\"];\n  const css_urls = [];\n  \n\n  const inline_js = [\n    function(Bokeh) {\n      Bokeh.set_log_level(\"info\");\n    },\n    function(Bokeh) {\n    \n    \n    }\n  ];\n\n  function run_inline_js() {\n    \n    if (root.Bokeh !== undefined || force === true) {\n      \n    for (let i = 0; i < inline_js.length; i++) {\n      inline_js[i].call(root, root.Bokeh);\n    }\n    if (force === true) {\n        display_loaded();\n      }} else if (Date.now() < root._bokeh_timeout) {\n      setTimeout(run_inline_js, 100);\n    } else if (!root._bokeh_failed_load) {\n      console.log(\"Bokeh: BokehJS failed to load within specified timeout.\");\n      root._bokeh_failed_load = true;\n    } else if (force !== true) {\n      const cell = $(document.getElementById(\"1003\")).parents('.cell').data().cell;\n      cell.output_area.append_execute_result(NB_LOAD_WARNING)\n    }\n\n  }\n\n  if (root._bokeh_is_loading === 0) {\n    console.debug(\"Bokeh: BokehJS loaded, going straight to plotting\");\n    run_inline_js();\n  } else {\n    load_libs(css_urls, js_urls, function() {\n      console.debug(\"Bokeh: BokehJS plotting callback run at\", now());\n      run_inline_js();\n    });\n  }\n}(window));"
     },
     "metadata": {},
     "output_type": "display_data"
    },
    {
     "name": "stdout",
     "output_type": "stream",
     "text": [
      "The autoreload extension is already loaded. To reload it, use:\n",
      "  %reload_ext autoreload\n",
      "The rpy2.ipython extension is already loaded. To reload it, use:\n",
      "  %reload_ext rpy2.ipython\n"
     ]
    }
   ],
   "source": [
    "from bokeh.plotting import *\n",
    "from bokeh.models import HoverTool\n",
    "from bokeh.io import output_notebook\n",
    "\n",
    "import matplotlib.pyplot as plt\n",
    "\n",
    "from sklearn.neighbors import KNeighborsClassifier\n",
    "from sklearn.manifold import MDS, TSNE\n",
    "from sklearn.decomposition import PCA\n",
    "from sklearn.preprocessing import scale\n",
    "#from umap import UMAP\n",
    "\n",
    "output_notebook()\n",
    "%load_ext autoreload\n",
    "%matplotlib inline\n",
    "%autoreload 2\n",
    "%load_ext rpy2.ipython"
   ]
  },
  {
   "cell_type": "code",
   "execution_count": 4,
   "id": "f5b490f5",
   "metadata": {},
   "outputs": [],
   "source": [
    "def createDir(directory):\n",
    "    if not os.path.exists(directory):\n",
    "        print(\"Creating output directory: \" + directory)\n",
    "        os.makedirs(directory)"
   ]
  },
  {
   "cell_type": "markdown",
   "id": "b30eac97",
   "metadata": {},
   "source": [
    "# MV411 WT and MYB-dTAG cells co-cultured"
   ]
  },
  {
   "cell_type": "markdown",
   "id": "c13340d3",
   "metadata": {},
   "source": [
    "SLAMseq with WT and MYB-dTAG MV411 cells co-cultured\n",
    "<br>12h with drug + 1h 4sU with 0.5$\\mu$M VHL (with ERCC spike-in control)\n",
    "<br>__Processed without alt loci__"
   ]
  },
  {
   "cell_type": "code",
   "execution_count": 5,
   "id": "1a10249f",
   "metadata": {},
   "outputs": [],
   "source": [
    "project = \"MYB_degraded_coculture_v1\""
   ]
  },
  {
   "cell_type": "markdown",
   "id": "250dd450",
   "metadata": {},
   "source": [
    "## download the data"
   ]
  },
  {
   "cell_type": "code",
   "execution_count": 6,
   "id": "f09ae827",
   "metadata": {},
   "outputs": [],
   "source": [
    "location = \"../data/slamseq_\"+project+\"/\" # new data location\n",
    "loc = \"220526_MP10028_fastq\" # transfer AML folder"
   ]
  },
  {
   "cell_type": "code",
   "execution_count": 17,
   "id": "472ffc48",
   "metadata": {
    "collapsed": true
   },
   "outputs": [
    {
     "name": "stdout",
     "output_type": "stream",
     "text": [
      "mkdir: cannot create directory ‘../../data/slamseq_MYB_degron_coculture_v1/’: File exists\n",
      "mkdir: cannot create directory ‘../results/slamseq_MYB_degron_coculture_v1’: File exists\n",
      "mkdir: cannot create directory ‘../data/slamseq_MYB_degron_coculture_v1/’: File exists\n",
      "mkdir: cannot create directory ‘../../data/slamseq_MYB_degron_coculture_v1//fastqs/’: File exists\n"
     ]
    }
   ],
   "source": [
    "! mkdir ../$location\n",
    "! mkdir ../results/slamseq_$project\n",
    "! mkdir $location && mkdir $location/qc # make data dir in AMLproject\n",
    "! mkdir ../$location/fastqs/ # make dir in /home/monika/data/project/fastqs"
   ]
  },
  {
   "cell_type": "code",
   "execution_count": 19,
   "id": "6156ef3e",
   "metadata": {
    "collapsed": true
   },
   "outputs": [
    {
     "name": "stdout",
     "output_type": "stream",
     "text": [
      "gs://transfer-amlproject/220526_MP10028_fastq/20220526_10_MP10028_S34_R1_001.fastq.gz\r\n",
      "gs://transfer-amlproject/220526_MP10028_fastq/20220526_10_MP10028_S34_R2_001.fastq.gz\r\n",
      "gs://transfer-amlproject/220526_MP10028_fastq/20220526_11_MP10028_S35_R1_001.fastq.gz\r\n",
      "gs://transfer-amlproject/220526_MP10028_fastq/20220526_11_MP10028_S35_R2_001.fastq.gz\r\n",
      "gs://transfer-amlproject/220526_MP10028_fastq/20220526_12_MP10028_S36_R1_001.fastq.gz\r\n",
      "gs://transfer-amlproject/220526_MP10028_fastq/20220526_12_MP10028_S36_R2_001.fastq.gz\r\n",
      "gs://transfer-amlproject/220526_MP10028_fastq/20220526_13_MP10028_S37_R1_001.fastq.gz\r\n",
      "gs://transfer-amlproject/220526_MP10028_fastq/20220526_13_MP10028_S37_R2_001.fastq.gz\r\n",
      "gs://transfer-amlproject/220526_MP10028_fastq/20220526_15_MP10028_S38_R1_001.fastq.gz\r\n",
      "gs://transfer-amlproject/220526_MP10028_fastq/20220526_15_MP10028_S38_R2_001.fastq.gz\r\n",
      "gs://transfer-amlproject/220526_MP10028_fastq/20220526_16_MP10028_S39_R1_001.fastq.gz\r\n",
      "gs://transfer-amlproject/220526_MP10028_fastq/20220526_16_MP10028_S39_R2_001.fastq.gz\r\n",
      "gs://transfer-amlproject/220526_MP10028_fastq/20220526_17_MP10028_S40_R1_001.fastq.gz\r\n",
      "gs://transfer-amlproject/220526_MP10028_fastq/20220526_17_MP10028_S40_R2_001.fastq.gz\r\n",
      "gs://transfer-amlproject/220526_MP10028_fastq/20220526_18_MP10028_S41_R1_001.fastq.gz\r\n",
      "gs://transfer-amlproject/220526_MP10028_fastq/20220526_18_MP10028_S41_R2_001.fastq.gz\r\n",
      "gs://transfer-amlproject/220526_MP10028_fastq/20220526_19_MP10028_S42_R1_001.fastq.gz\r\n",
      "gs://transfer-amlproject/220526_MP10028_fastq/20220526_19_MP10028_S42_R2_001.fastq.gz\r\n",
      "gs://transfer-amlproject/220526_MP10028_fastq/20220526_1_MP10028_S25_R1_001.fastq.gz\r\n",
      "gs://transfer-amlproject/220526_MP10028_fastq/20220526_1_MP10028_S25_R2_001.fastq.gz\r\n",
      "gs://transfer-amlproject/220526_MP10028_fastq/20220526_20_MP10028_S43_R1_001.fastq.gz\r\n",
      "gs://transfer-amlproject/220526_MP10028_fastq/20220526_20_MP10028_S43_R2_001.fastq.gz\r\n",
      "gs://transfer-amlproject/220526_MP10028_fastq/20220526_2_MP10028_S26_R1_001.fastq.gz\r\n",
      "gs://transfer-amlproject/220526_MP10028_fastq/20220526_2_MP10028_S26_R2_001.fastq.gz\r\n",
      "gs://transfer-amlproject/220526_MP10028_fastq/20220526_3_MP10028_S27_R1_001.fastq.gz\r\n",
      "gs://transfer-amlproject/220526_MP10028_fastq/20220526_3_MP10028_S27_R2_001.fastq.gz\r\n",
      "gs://transfer-amlproject/220526_MP10028_fastq/20220526_4_MP10028_S28_R1_001.fastq.gz\r\n",
      "gs://transfer-amlproject/220526_MP10028_fastq/20220526_4_MP10028_S28_R2_001.fastq.gz\r\n",
      "gs://transfer-amlproject/220526_MP10028_fastq/20220526_5_MP10028_S29_R1_001.fastq.gz\r\n",
      "gs://transfer-amlproject/220526_MP10028_fastq/20220526_5_MP10028_S29_R2_001.fastq.gz\r\n",
      "gs://transfer-amlproject/220526_MP10028_fastq/20220526_6_MP10028_S30_R1_001.fastq.gz\r\n",
      "gs://transfer-amlproject/220526_MP10028_fastq/20220526_6_MP10028_S30_R2_001.fastq.gz\r\n",
      "gs://transfer-amlproject/220526_MP10028_fastq/20220526_7_MP10028_S31_R1_001.fastq.gz\r\n",
      "gs://transfer-amlproject/220526_MP10028_fastq/20220526_7_MP10028_S31_R2_001.fastq.gz\r\n",
      "gs://transfer-amlproject/220526_MP10028_fastq/20220526_8_MP10028_S32_R1_001.fastq.gz\r\n",
      "gs://transfer-amlproject/220526_MP10028_fastq/20220526_8_MP10028_S32_R2_001.fastq.gz\r\n",
      "gs://transfer-amlproject/220526_MP10028_fastq/20220526_9_MP10028_S33_R1_001.fastq.gz\r\n",
      "gs://transfer-amlproject/220526_MP10028_fastq/20220526_9_MP10028_S33_R2_001.fastq.gz\r\n"
     ]
    }
   ],
   "source": [
    "! gsutil ls gs://transfer-amlproject/$loc/*.fastq.gz"
   ]
  },
  {
   "cell_type": "code",
   "execution_count": 21,
   "id": "78b05228",
   "metadata": {
    "collapsed": true
   },
   "outputs": [
    {
     "name": "stdout",
     "output_type": "stream",
     "text": [
      "Copying gs://transfer-amlproject/220526_MP10028_fastq/multiqc_report.html...\n",
      "/ [1/1 files][  1.5 MiB/  1.5 MiB] 100% Done                                    \n",
      "Operation completed over 1 objects/1.5 MiB.                                      \n",
      "Copying gs://transfer-amlproject/220526_MP10028_fastq/Reports/20220526_10_MP10028_S34_R1_001_fastqc.html...\n",
      "Copying gs://transfer-amlproject/220526_MP10028_fastq/Reports/20220526_10_MP10028_S34_R1_001_fastqc.zip...\n",
      "Copying gs://transfer-amlproject/220526_MP10028_fastq/Reports/20220526_10_MP10028_S34_R2_001_fastqc.html...\n",
      "Copying gs://transfer-amlproject/220526_MP10028_fastq/Reports/20220526_10_MP10028_S34_R2_001_fastqc.zip...\n",
      "Copying gs://transfer-amlproject/220526_MP10028_fastq/Reports/20220526_11_MP10028_S35_R1_001_fastqc.html...\n",
      "Copying gs://transfer-amlproject/220526_MP10028_fastq/Reports/20220526_11_MP10028_S35_R1_001_fastqc.zip...\n",
      "Copying gs://transfer-amlproject/220526_MP10028_fastq/Reports/20220526_11_MP10028_S35_R2_001_fastqc.zip...\n",
      "Copying gs://transfer-amlproject/220526_MP10028_fastq/Reports/20220526_11_MP10028_S35_R2_001_fastqc.html...\n",
      "Copying gs://transfer-amlproject/220526_MP10028_fastq/Reports/20220526_12_MP10028_S36_R1_001_fastqc.html...\n",
      "Copying gs://transfer-amlproject/220526_MP10028_fastq/Reports/20220526_12_MP10028_S36_R2_001_fastqc.html...\n",
      "Copying gs://transfer-amlproject/220526_MP10028_fastq/Reports/20220526_12_MP10028_S36_R2_001_fastqc.zip...\n",
      "Copying gs://transfer-amlproject/220526_MP10028_fastq/Reports/20220526_13_MP10028_S37_R1_001_fastqc.html...\n",
      "Copying gs://transfer-amlproject/220526_MP10028_fastq/Reports/20220526_13_MP10028_S37_R1_001_fastqc.zip...\n",
      "Copying gs://transfer-amlproject/220526_MP10028_fastq/Reports/20220526_12_MP10028_S36_R1_001_fastqc.zip...\n",
      "Copying gs://transfer-amlproject/220526_MP10028_fastq/Reports/20220526_13_MP10028_S37_R2_001_fastqc.zip...\n",
      "Copying gs://transfer-amlproject/220526_MP10028_fastq/Reports/20220526_13_MP10028_S37_R2_001_fastqc.html...\n",
      "Copying gs://transfer-amlproject/220526_MP10028_fastq/Reports/20220526_15_MP10028_S38_R1_001_fastqc.html...\n",
      "Copying gs://transfer-amlproject/220526_MP10028_fastq/Reports/20220526_15_MP10028_S38_R1_001_fastqc.zip...\n",
      "Copying gs://transfer-amlproject/220526_MP10028_fastq/Reports/20220526_15_MP10028_S38_R2_001_fastqc.html...\n",
      "Copying gs://transfer-amlproject/220526_MP10028_fastq/Reports/20220526_16_MP10028_S39_R1_001_fastqc.html...\n",
      "Copying gs://transfer-amlproject/220526_MP10028_fastq/Reports/20220526_15_MP10028_S38_R2_001_fastqc.zip...\n",
      "Copying gs://transfer-amlproject/220526_MP10028_fastq/Reports/20220526_16_MP10028_S39_R1_001_fastqc.zip...\n",
      "Copying gs://transfer-amlproject/220526_MP10028_fastq/Reports/20220526_16_MP10028_S39_R2_001_fastqc.html...\n",
      "Copying gs://transfer-amlproject/220526_MP10028_fastq/Reports/20220526_16_MP10028_S39_R2_001_fastqc.zip...\n",
      "Copying gs://transfer-amlproject/220526_MP10028_fastq/Reports/20220526_17_MP10028_S40_R1_001_fastqc.html...\n",
      "Copying gs://transfer-amlproject/220526_MP10028_fastq/Reports/20220526_19_MP10028_S42_R2_001_fastqc.zip...\n",
      "Copying gs://transfer-amlproject/220526_MP10028_fastq/Reports/20220526_17_MP10028_S40_R1_001_fastqc.zip...\n",
      "Copying gs://transfer-amlproject/220526_MP10028_fastq/Reports/20220526_17_MP10028_S40_R2_001_fastqc.zip...\n",
      "Copying gs://transfer-amlproject/220526_MP10028_fastq/Reports/20220526_18_MP10028_S41_R2_001_fastqc.html...\n",
      "Copying gs://transfer-amlproject/220526_MP10028_fastq/Reports/20220526_18_MP10028_S41_R1_001_fastqc.zip...\n",
      "Copying gs://transfer-amlproject/220526_MP10028_fastq/Reports/20220526_18_MP10028_S41_R1_001_fastqc.html...\n",
      "Copying gs://transfer-amlproject/220526_MP10028_fastq/Reports/20220526_18_MP10028_S41_R2_001_fastqc.zip...\n",
      "Copying gs://transfer-amlproject/220526_MP10028_fastq/Reports/20220526_17_MP10028_S40_R2_001_fastqc.html...\n",
      "Copying gs://transfer-amlproject/220526_MP10028_fastq/Reports/20220526_19_MP10028_S42_R1_001_fastqc.html...\n",
      "Copying gs://transfer-amlproject/220526_MP10028_fastq/Reports/20220526_19_MP10028_S42_R1_001_fastqc.zip...\n",
      "Copying gs://transfer-amlproject/220526_MP10028_fastq/Reports/20220526_1_MP10028_S25_R1_001_fastqc.html...\n",
      "Copying gs://transfer-amlproject/220526_MP10028_fastq/Reports/20220526_19_MP10028_S42_R2_001_fastqc.html...\n",
      "Copying gs://transfer-amlproject/220526_MP10028_fastq/Reports/20220526_1_MP10028_S25_R1_001_fastqc.zip...\n",
      "Copying gs://transfer-amlproject/220526_MP10028_fastq/Reports/20220526_1_MP10028_S25_R2_001_fastqc.html...\n",
      "Copying gs://transfer-amlproject/220526_MP10028_fastq/Reports/20220526_1_MP10028_S25_R2_001_fastqc.zip...\n",
      "Copying gs://transfer-amlproject/220526_MP10028_fastq/Reports/20220526_20_MP10028_S43_R1_001_fastqc.html...\n",
      "Copying gs://transfer-amlproject/220526_MP10028_fastq/Reports/20220526_20_MP10028_S43_R1_001_fastqc.zip...\n",
      "Copying gs://transfer-amlproject/220526_MP10028_fastq/Reports/20220526_20_MP10028_S43_R2_001_fastqc.html...\n",
      "Copying gs://transfer-amlproject/220526_MP10028_fastq/Reports/20220526_20_MP10028_S43_R2_001_fastqc.zip...\n",
      "Copying gs://transfer-amlproject/220526_MP10028_fastq/Reports/20220526_2_MP10028_S26_R1_001_fastqc.html...\n",
      "Copying gs://transfer-amlproject/220526_MP10028_fastq/Reports/20220526_2_MP10028_S26_R1_001_fastqc.zip...\n",
      "Copying gs://transfer-amlproject/220526_MP10028_fastq/Reports/20220526_2_MP10028_S26_R2_001_fastqc.html...\n",
      "Copying gs://transfer-amlproject/220526_MP10028_fastq/Reports/20220526_2_MP10028_S26_R2_001_fastqc.zip...\n",
      "Copying gs://transfer-amlproject/220526_MP10028_fastq/Reports/20220526_3_MP10028_S27_R1_001_fastqc.html...\n",
      "Copying gs://transfer-amlproject/220526_MP10028_fastq/Reports/20220526_3_MP10028_S27_R1_001_fastqc.zip...\n",
      "Copying gs://transfer-amlproject/220526_MP10028_fastq/Reports/20220526_3_MP10028_S27_R2_001_fastqc.html...\n",
      "Copying gs://transfer-amlproject/220526_MP10028_fastq/Reports/20220526_3_MP10028_S27_R2_001_fastqc.zip...\n",
      "Copying gs://transfer-amlproject/220526_MP10028_fastq/Reports/20220526_4_MP10028_S28_R1_001_fastqc.html...\n",
      "Copying gs://transfer-amlproject/220526_MP10028_fastq/Reports/20220526_4_MP10028_S28_R1_001_fastqc.zip...\n",
      "Copying gs://transfer-amlproject/220526_MP10028_fastq/Reports/20220526_4_MP10028_S28_R2_001_fastqc.html...\n",
      "Copying gs://transfer-amlproject/220526_MP10028_fastq/Reports/20220526_4_MP10028_S28_R2_001_fastqc.zip...\n",
      "Copying gs://transfer-amlproject/220526_MP10028_fastq/Reports/20220526_5_MP10028_S29_R1_001_fastqc.html...\n",
      "Copying gs://transfer-amlproject/220526_MP10028_fastq/Reports/20220526_5_MP10028_S29_R1_001_fastqc.zip...\n",
      "Copying gs://transfer-amlproject/220526_MP10028_fastq/Reports/20220526_5_MP10028_S29_R2_001_fastqc.html...\n",
      "Copying gs://transfer-amlproject/220526_MP10028_fastq/Reports/20220526_6_MP10028_S30_R1_001_fastqc.html...\n",
      "Copying gs://transfer-amlproject/220526_MP10028_fastq/Reports/20220526_5_MP10028_S29_R2_001_fastqc.zip...\n",
      "Copying gs://transfer-amlproject/220526_MP10028_fastq/Reports/20220526_6_MP10028_S30_R1_001_fastqc.zip...\n",
      "Copying gs://transfer-amlproject/220526_MP10028_fastq/Reports/20220526_7_MP10028_S31_R1_001_fastqc.html...\n",
      "Copying gs://transfer-amlproject/220526_MP10028_fastq/Reports/20220526_6_MP10028_S30_R2_001_fastqc.html...\n",
      "Copying gs://transfer-amlproject/220526_MP10028_fastq/Reports/20220526_6_MP10028_S30_R2_001_fastqc.zip...\n",
      "Copying gs://transfer-amlproject/220526_MP10028_fastq/Reports/20220526_7_MP10028_S31_R1_001_fastqc.zip...\n",
      "Copying gs://transfer-amlproject/220526_MP10028_fastq/Reports/20220526_7_MP10028_S31_R2_001_fastqc.zip...\n",
      "Copying gs://transfer-amlproject/220526_MP10028_fastq/Reports/20220526_8_MP10028_S32_R1_001_fastqc.html...\n",
      "Copying gs://transfer-amlproject/220526_MP10028_fastq/Reports/20220526_7_MP10028_S31_R2_001_fastqc.html...\n",
      "Copying gs://transfer-amlproject/220526_MP10028_fastq/Reports/20220526_8_MP10028_S32_R1_001_fastqc.zip...\n",
      "Copying gs://transfer-amlproject/220526_MP10028_fastq/Reports/20220526_8_MP10028_S32_R2_001_fastqc.html...\n",
      "Copying gs://transfer-amlproject/220526_MP10028_fastq/Reports/20220526_8_MP10028_S32_R2_001_fastqc.zip...\n",
      "Copying gs://transfer-amlproject/220526_MP10028_fastq/Reports/20220526_9_MP10028_S33_R2_001_fastqc.html...\n",
      "Copying gs://transfer-amlproject/220526_MP10028_fastq/Reports/20220526_9_MP10028_S33_R1_001_fastqc.zip...\n",
      "Copying gs://transfer-amlproject/220526_MP10028_fastq/Reports/20220526_9_MP10028_S33_R1_001_fastqc.html...\n",
      "Copying gs://transfer-amlproject/220526_MP10028_fastq/Reports/20220526_9_MP10028_S33_R2_001_fastqc.zip...\n"
     ]
    },
    {
     "name": "stdout",
     "output_type": "stream",
     "text": [
      "- [76/76 files][ 35.3 MiB/ 35.3 MiB] 100% Done                                  \n",
      "Operation completed over 76 objects/35.3 MiB.                                    \n",
      "Copying gs://transfer-amlproject/220526_MP10028_fastq/multiqc_data/multiqc.log...\n",
      "Copying gs://transfer-amlproject/220526_MP10028_fastq/multiqc_data/multiqc_data.json...\n",
      "Copying gs://transfer-amlproject/220526_MP10028_fastq/multiqc_data/multiqc_fastqc.txt...\n",
      "Copying gs://transfer-amlproject/220526_MP10028_fastq/multiqc_data/multiqc_general_stats.txt...\n",
      "Copying gs://transfer-amlproject/220526_MP10028_fastq/multiqc_data/multiqc_qualimap_bamqc_genome_results.txt...\n",
      "Copying gs://transfer-amlproject/220526_MP10028_fastq/multiqc_data/multiqc_sources.txt...\n",
      "/ [6/6 files][  2.3 MiB/  2.3 MiB] 100% Done                                    \n",
      "Operation completed over 6 objects/2.3 MiB.                                      \n"
     ]
    }
   ],
   "source": [
    "# transfer qc files\n",
    "! gsutil -m cp gs://transfer-amlproject/$loc/multiqc_report.html $location/qc/\n",
    "! gsutil -m cp -r gs://transfer-amlproject/$loc/Reports/ $location/qc/\n",
    "! gsutil -m cp -r gs://transfer-amlproject/$loc/multiqc_data/ $location/qc/"
   ]
  },
  {
   "cell_type": "code",
   "execution_count": 22,
   "id": "ed434e34",
   "metadata": {},
   "outputs": [],
   "source": [
    "! cp $location/qc/multiqc_report.html ../results/slamseq_$project"
   ]
  },
  {
   "cell_type": "code",
   "execution_count": 23,
   "id": "fd9a8df6",
   "metadata": {},
   "outputs": [],
   "source": [
    "fastqs = ! gsutil ls gs://transfer-amlproject/$loc/*.gz"
   ]
  },
  {
   "cell_type": "markdown",
   "id": "fbbd665e",
   "metadata": {},
   "source": [
    "add sample names to AML sample tracker google sheet (RNA_tracker_JK)"
   ]
  },
  {
   "cell_type": "markdown",
   "id": "0840f6bd",
   "metadata": {},
   "source": [
    "missing file: __20220526_14_MP10028__ failed initial QC"
   ]
  },
  {
   "cell_type": "code",
   "execution_count": 26,
   "id": "5c34dd61",
   "metadata": {
    "collapsed": true
   },
   "outputs": [
    {
     "name": "stdout",
     "output_type": "stream",
     "text": [
      "38\n",
      "20220526_1_MP10028_S25\n",
      "20220526_2_MP10028_S26\n",
      "20220526_3_MP10028_S27\n",
      "20220526_4_MP10028_S28\n",
      "20220526_5_MP10028_S29\n",
      "20220526_6_MP10028_S30\n",
      "20220526_7_MP10028_S31\n",
      "20220526_8_MP10028_S32\n",
      "20220526_9_MP10028_S33\n",
      "20220526_10_MP10028_S34\n",
      "20220526_11_MP10028_S35\n",
      "20220526_12_MP10028_S36\n",
      "20220526_13_MP10028_S37\n",
      "20220526_15_MP10028_S38\n",
      "20220526_16_MP10028_S39\n",
      "20220526_17_MP10028_S40\n",
      "20220526_18_MP10028_S41\n",
      "20220526_19_MP10028_S42\n",
      "20220526_20_MP10028_S43\n"
     ]
    }
   ],
   "source": [
    "fastqs = [fastq.split(\"/\")[-1] for fastq in os_sorted(fastqs)]\n",
    "print(len(fastqs))\n",
    "# add sample names to AML sample tracker google sheet\n",
    "for val1, val2 in h.grouped(fastqs, 2):\n",
    "    print(val1.split(\"_R\")[0])"
   ]
  },
  {
   "cell_type": "code",
   "execution_count": 30,
   "id": "bb32d9c4",
   "metadata": {
    "collapsed": true
   },
   "outputs": [
    {
     "name": "stdout",
     "output_type": "stream",
     "text": [
      "Copying gs://transfer-amlproject/220526_MP10028_fastq/20220526_11_MP10028_S35_R1_001.fastq.gz...\n",
      "Copying gs://transfer-amlproject/220526_MP10028_fastq/20220526_8_MP10028_S32_R1_001.fastq.gz...\n",
      "Copying gs://transfer-amlproject/220526_MP10028_fastq/20220526_2_MP10028_S26_R2_001.fastq.gz...\n",
      "Copying gs://transfer-amlproject/220526_MP10028_fastq/20220526_17_MP10028_S40_R2_001.fastq.gz...\n",
      "Copying gs://transfer-amlproject/220526_MP10028_fastq/20220526_1_MP10028_S25_R1_001.fastq.gz...\n",
      "Copying gs://transfer-amlproject/220526_MP10028_fastq/20220526_6_MP10028_S30_R2_001.fastq.gz...\n",
      "Copying gs://transfer-amlproject/220526_MP10028_fastq/20220526_11_MP10028_S35_R2_001.fastq.gz...\n",
      "Copying gs://transfer-amlproject/220526_MP10028_fastq/20220526_5_MP10028_S29_R1_001.fastq.gz...\n",
      "Copying gs://transfer-amlproject/220526_MP10028_fastq/20220526_17_MP10028_S40_R1_001.fastq.gz...\n",
      "Copying gs://transfer-amlproject/220526_MP10028_fastq/20220526_15_MP10028_S38_R1_001.fastq.gz...\n",
      "Copying gs://transfer-amlproject/220526_MP10028_fastq/20220526_4_MP10028_S28_R2_001.fastq.gz...\n",
      "Copying gs://transfer-amlproject/220526_MP10028_fastq/20220526_6_MP10028_S30_R1_001.fastq.gz...\n",
      "Copying gs://transfer-amlproject/220526_MP10028_fastq/20220526_5_MP10028_S29_R2_001.fastq.gz...\n",
      "Copying gs://transfer-amlproject/220526_MP10028_fastq/20220526_10_MP10028_S34_R2_001.fastq.gz...\n",
      "Copying gs://transfer-amlproject/220526_MP10028_fastq/20220526_12_MP10028_S36_R2_001.fastq.gz...\n",
      "Copying gs://transfer-amlproject/220526_MP10028_fastq/20220526_3_MP10028_S27_R2_001.fastq.gz...\n",
      "Copying gs://transfer-amlproject/220526_MP10028_fastq/20220526_16_MP10028_S39_R1_001.fastq.gz...\n",
      "Copying gs://transfer-amlproject/220526_MP10028_fastq/20220526_20_MP10028_S43_R2_001.fastq.gz...\n",
      "Copying gs://transfer-amlproject/220526_MP10028_fastq/20220526_4_MP10028_S28_R1_001.fastq.gz...\n",
      "Copying gs://transfer-amlproject/220526_MP10028_fastq/20220526_18_MP10028_S41_R1_001.fastq.gz...\n",
      "Copying gs://transfer-amlproject/220526_MP10028_fastq/20220526_3_MP10028_S27_R1_001.fastq.gz...\n",
      "Copying gs://transfer-amlproject/220526_MP10028_fastq/20220526_13_MP10028_S37_R1_001.fastq.gz...\n",
      "Copying gs://transfer-amlproject/220526_MP10028_fastq/20220526_7_MP10028_S31_R2_001.fastq.gz...\n",
      "Copying gs://transfer-amlproject/220526_MP10028_fastq/20220526_20_MP10028_S43_R1_001.fastq.gz...\n",
      "Copying gs://transfer-amlproject/220526_MP10028_fastq/20220526_9_MP10028_S33_R1_001.fastq.gz...\n",
      "Copying gs://transfer-amlproject/220526_MP10028_fastq/20220526_16_MP10028_S39_R2_001.fastq.gz...\n",
      "Copying gs://transfer-amlproject/220526_MP10028_fastq/20220526_15_MP10028_S38_R2_001.fastq.gz...\n",
      "Copying gs://transfer-amlproject/220526_MP10028_fastq/20220526_8_MP10028_S32_R2_001.fastq.gz...\n",
      "Copying gs://transfer-amlproject/220526_MP10028_fastq/20220526_12_MP10028_S36_R1_001.fastq.gz...\n",
      "Copying gs://transfer-amlproject/220526_MP10028_fastq/20220526_10_MP10028_S34_R1_001.fastq.gz...\n",
      "Copying gs://transfer-amlproject/220526_MP10028_fastq/20220526_7_MP10028_S31_R1_001.fastq.gz...\n",
      "Copying gs://transfer-amlproject/220526_MP10028_fastq/20220526_9_MP10028_S33_R2_001.fastq.gz...\n",
      "Copying gs://transfer-amlproject/220526_MP10028_fastq/20220526_2_MP10028_S26_R1_001.fastq.gz...\n",
      "Copying gs://transfer-amlproject/220526_MP10028_fastq/20220526_13_MP10028_S37_R2_001.fastq.gz...\n",
      "Copying gs://transfer-amlproject/220526_MP10028_fastq/20220526_19_MP10028_S42_R2_001.fastq.gz...\n",
      "Copying gs://transfer-amlproject/220526_MP10028_fastq/20220526_18_MP10028_S41_R2_001.fastq.gz...\n",
      "Copying gs://transfer-amlproject/220526_MP10028_fastq/20220526_19_MP10028_S42_R1_001.fastq.gz...\n",
      "Copying gs://transfer-amlproject/220526_MP10028_fastq/20220526_1_MP10028_S25_R2_001.fastq.gz...\n",
      "| [38/38 files][185.9 GiB/185.9 GiB] 100% Done  15.7 MiB/s ETA 00:00:00         \n",
      "Operation completed over 38 objects/185.9 GiB.                                   \n"
     ]
    }
   ],
   "source": [
    "# transfer fastqs\n",
    "! gsutil -m cp gs://transfer-amlproject/$loc/*.fastq.gz ../$location/fastqs/"
   ]
  },
  {
   "cell_type": "markdown",
   "id": "77d3cc78",
   "metadata": {},
   "source": [
    "## rename local fastqs"
   ]
  },
  {
   "cell_type": "code",
   "execution_count": 45,
   "id": "b18af006",
   "metadata": {
    "collapsed": true
   },
   "outputs": [
    {
     "name": "stdout",
     "output_type": "stream",
     "text": [
      "../../data/slamseq_MYB_degraded_coculture_v1/fastqs\n"
     ]
    },
    {
     "data": {
      "text/plain": [
       "['mr571-MV411-DMSO_coculture_12h-r1_R1_001.fastq.gz',\n",
       " 'mr571-MV411-DMSO_coculture_12h-r1_R2_001.fastq.gz',\n",
       " 'mr572-MV411-DMSO_coculture_12h-r2_R1_001.fastq.gz',\n",
       " 'mr572-MV411-DMSO_coculture_12h-r2_R2_001.fastq.gz',\n",
       " 'mr573-MV411-DMSO_coculture_12h-r3_R1_001.fastq.gz',\n",
       " 'mr573-MV411-DMSO_coculture_12h-r3_R2_001.fastq.gz',\n",
       " 'mr574-MV411-DMSO_coculture_12h-r4_R1_001.fastq.gz',\n",
       " 'mr574-MV411-DMSO_coculture_12h-r4_R2_001.fastq.gz',\n",
       " 'mr575-MV411-DMSO_coculture_12h-r5_R1_001.fastq.gz',\n",
       " 'mr575-MV411-DMSO_coculture_12h-r5_R2_001.fastq.gz',\n",
       " 'mr576-MV411-VHL_coculture_12h-r1_R1_001.fastq.gz',\n",
       " 'mr576-MV411-VHL_coculture_12h-r1_R2_001.fastq.gz',\n",
       " 'mr577-MV411-VHL_coculture_12h-r2_R1_001.fastq.gz',\n",
       " 'mr577-MV411-VHL_coculture_12h-r2_R2_001.fastq.gz',\n",
       " 'mr578-MV411-VHL_coculture_12h-r3_R1_001.fastq.gz',\n",
       " 'mr578-MV411-VHL_coculture_12h-r3_R2_001.fastq.gz',\n",
       " 'mr579-MV411-VHL_coculture_12h-r4_R1_001.fastq.gz',\n",
       " 'mr579-MV411-VHL_coculture_12h-r4_R2_001.fastq.gz',\n",
       " 'mr580-MV411-VHL_coculture_12h-r5_R1_001.fastq.gz',\n",
       " 'mr580-MV411-VHL_coculture_12h-r5_R2_001.fastq.gz',\n",
       " 'mr581-MV411-MYB-dTAG-DMSO_coculture_12h-r1_R1_001.fastq.gz',\n",
       " 'mr581-MV411-MYB-dTAG-DMSO_coculture_12h-r1_R2_001.fastq.gz',\n",
       " 'mr582-MV411-MYB-dTAG-DMSO_coculture_12h-r2_R1_001.fastq.gz',\n",
       " 'mr582-MV411-MYB-dTAG-DMSO_coculture_12h-r2_R2_001.fastq.gz',\n",
       " 'mr583-MV411-MYB-dTAG-DMSO_coculture_12h-r3_R1_001.fastq.gz',\n",
       " 'mr583-MV411-MYB-dTAG-DMSO_coculture_12h-r3_R2_001.fastq.gz',\n",
       " 'mr584-MV411-MYB-dTAG-DMSO_coculture_12h-r4_R1_001.fastq.gz',\n",
       " 'mr584-MV411-MYB-dTAG-DMSO_coculture_12h-r4_R2_001.fastq.gz',\n",
       " 'mr585-MV411-MYB-dTAG-VHL_coculture_12h-r1_R1_001.fastq.gz',\n",
       " 'mr585-MV411-MYB-dTAG-VHL_coculture_12h-r1_R2_001.fastq.gz',\n",
       " 'mr586-MV411-MYB-dTAG-VHL_coculture_12h-r2_R1_001.fastq.gz',\n",
       " 'mr586-MV411-MYB-dTAG-VHL_coculture_12h-r2_R2_001.fastq.gz',\n",
       " 'mr587-MV411-MYB-dTAG-VHL_coculture_12h-r3_R1_001.fastq.gz',\n",
       " 'mr587-MV411-MYB-dTAG-VHL_coculture_12h-r3_R2_001.fastq.gz',\n",
       " 'mr588-MV411-MYB-dTAG-VHL_coculture_12h-r4_R1_001.fastq.gz',\n",
       " 'mr588-MV411-MYB-dTAG-VHL_coculture_12h-r4_R2_001.fastq.gz',\n",
       " 'mr589-MV411-MYB-dTAG-VHL_coculture_12h-r5_R1_001.fastq.gz',\n",
       " 'mr589-MV411-MYB-dTAG-VHL_coculture_12h-r5_R2_001.fastq.gz']"
      ]
     },
     "execution_count": 45,
     "metadata": {},
     "output_type": "execute_result"
    }
   ],
   "source": [
    "fastq_folder = \"../\"+location+\"fastqs\"\n",
    "print(fastq_folder)\n",
    "fastqs = ! ls $fastq_folder\n",
    "fastqs = os_sorted(fastqs)\n",
    "fastqs"
   ]
  },
  {
   "cell_type": "code",
   "execution_count": 34,
   "id": "8a16398f",
   "metadata": {
    "collapsed": true
   },
   "outputs": [
    {
     "data": {
      "text/plain": [
       "['20220526_1_MP10028_S25_R1_001.fastq.gz',\n",
       " '20220526_2_MP10028_S26_R1_001.fastq.gz',\n",
       " '20220526_3_MP10028_S27_R1_001.fastq.gz',\n",
       " '20220526_4_MP10028_S28_R1_001.fastq.gz',\n",
       " '20220526_5_MP10028_S29_R1_001.fastq.gz',\n",
       " '20220526_6_MP10028_S30_R1_001.fastq.gz',\n",
       " '20220526_7_MP10028_S31_R1_001.fastq.gz',\n",
       " '20220526_8_MP10028_S32_R1_001.fastq.gz',\n",
       " '20220526_9_MP10028_S33_R1_001.fastq.gz',\n",
       " '20220526_10_MP10028_S34_R1_001.fastq.gz',\n",
       " '20220526_11_MP10028_S35_R1_001.fastq.gz',\n",
       " '20220526_12_MP10028_S36_R1_001.fastq.gz',\n",
       " '20220526_13_MP10028_S37_R1_001.fastq.gz',\n",
       " '20220526_15_MP10028_S38_R1_001.fastq.gz',\n",
       " '20220526_16_MP10028_S39_R1_001.fastq.gz',\n",
       " '20220526_17_MP10028_S40_R1_001.fastq.gz',\n",
       " '20220526_18_MP10028_S41_R1_001.fastq.gz',\n",
       " '20220526_19_MP10028_S42_R1_001.fastq.gz',\n",
       " '20220526_20_MP10028_S43_R1_001.fastq.gz']"
      ]
     },
     "execution_count": 34,
     "metadata": {},
     "output_type": "execute_result"
    }
   ],
   "source": [
    "fastqs[::2]"
   ]
  },
  {
   "cell_type": "code",
   "execution_count": 35,
   "id": "5e065fff",
   "metadata": {},
   "outputs": [],
   "source": [
    "from gsheets import Sheets\n",
    "sheets = Sheets.from_files('~/.client_secret_web.json', '~/.storage.json')\n",
    "url = \"https://docs.google.com/spreadsheets/d/1yFLjYB1McU530JnLgL0QIMAKIkVl3kl0_LCHje2gk8U/edit?ts=5fab1071#gid=738732237\"\n",
    "gsheet = sheets.get(url).sheets[12].to_frame()"
   ]
  },
  {
   "cell_type": "code",
   "execution_count": 38,
   "id": "2c4db112",
   "metadata": {},
   "outputs": [
    {
     "name": "stdout",
     "output_type": "stream",
     "text": [
      "(19, 2)\n"
     ]
    }
   ],
   "source": [
    "# get new sample names from AML sample tracker - RNA_tracker_JK\n",
    "idx = gsheet.index[gsheet['batch'] == project] # get first row with project number\n",
    "sample_info = gsheet.loc[idx[0]:, [\"prev_name\", \"name\"]]\n",
    "sample_info = sample_info.iloc[:int(len(fastqs)/2),]\n",
    "print(sample_info.shape)"
   ]
  },
  {
   "cell_type": "code",
   "execution_count": 40,
   "id": "938dd527",
   "metadata": {},
   "outputs": [],
   "source": [
    "# make dict with names\n",
    "rename = dict(zip(sample_info.prev_name, sample_info.name))\n",
    "\n",
    "# rename fastqs locally\n",
    "for val in fastqs:\n",
    "    rep  = val\n",
    "    for old, new in rename.items():\n",
    "        rep = rep.replace(old, new)\n",
    "    if rep != val:\n",
    "        ! mv $fastq_folder/$val $fastq_folder/$rep"
   ]
  },
  {
   "cell_type": "markdown",
   "id": "5ab8334a",
   "metadata": {},
   "source": [
    "# Processing"
   ]
  },
  {
   "cell_type": "code",
   "execution_count": 43,
   "id": "c29edd79",
   "metadata": {},
   "outputs": [
    {
     "data": {
      "text/plain": [
       "'MYB_degraded_coculture_v1'"
      ]
     },
     "execution_count": 43,
     "metadata": {},
     "output_type": "execute_result"
    }
   ],
   "source": [
    "project"
   ]
  },
  {
   "cell_type": "code",
   "execution_count": 46,
   "id": "73b8ab5b",
   "metadata": {
    "collapsed": true
   },
   "outputs": [
    {
     "data": {
      "text/plain": [
       "['../../data/slamseq_MYB_degraded_coculture_v1/fastqs/mr571-MV411-DMSO_coculture_12h-r1_R1_001.fastq.gz',\n",
       " '../../data/slamseq_MYB_degraded_coculture_v1/fastqs/mr572-MV411-DMSO_coculture_12h-r2_R1_001.fastq.gz',\n",
       " '../../data/slamseq_MYB_degraded_coculture_v1/fastqs/mr573-MV411-DMSO_coculture_12h-r3_R1_001.fastq.gz',\n",
       " '../../data/slamseq_MYB_degraded_coculture_v1/fastqs/mr574-MV411-DMSO_coculture_12h-r4_R1_001.fastq.gz',\n",
       " '../../data/slamseq_MYB_degraded_coculture_v1/fastqs/mr575-MV411-DMSO_coculture_12h-r5_R1_001.fastq.gz',\n",
       " '../../data/slamseq_MYB_degraded_coculture_v1/fastqs/mr576-MV411-VHL_coculture_12h-r1_R1_001.fastq.gz',\n",
       " '../../data/slamseq_MYB_degraded_coculture_v1/fastqs/mr577-MV411-VHL_coculture_12h-r2_R1_001.fastq.gz',\n",
       " '../../data/slamseq_MYB_degraded_coculture_v1/fastqs/mr578-MV411-VHL_coculture_12h-r3_R1_001.fastq.gz',\n",
       " '../../data/slamseq_MYB_degraded_coculture_v1/fastqs/mr579-MV411-VHL_coculture_12h-r4_R1_001.fastq.gz',\n",
       " '../../data/slamseq_MYB_degraded_coculture_v1/fastqs/mr580-MV411-VHL_coculture_12h-r5_R1_001.fastq.gz',\n",
       " '../../data/slamseq_MYB_degraded_coculture_v1/fastqs/mr581-MV411-MYB-dTAG-DMSO_coculture_12h-r1_R1_001.fastq.gz',\n",
       " '../../data/slamseq_MYB_degraded_coculture_v1/fastqs/mr582-MV411-MYB-dTAG-DMSO_coculture_12h-r2_R1_001.fastq.gz',\n",
       " '../../data/slamseq_MYB_degraded_coculture_v1/fastqs/mr583-MV411-MYB-dTAG-DMSO_coculture_12h-r3_R1_001.fastq.gz',\n",
       " '../../data/slamseq_MYB_degraded_coculture_v1/fastqs/mr584-MV411-MYB-dTAG-DMSO_coculture_12h-r4_R1_001.fastq.gz',\n",
       " '../../data/slamseq_MYB_degraded_coculture_v1/fastqs/mr585-MV411-MYB-dTAG-VHL_coculture_12h-r1_R1_001.fastq.gz',\n",
       " '../../data/slamseq_MYB_degraded_coculture_v1/fastqs/mr586-MV411-MYB-dTAG-VHL_coculture_12h-r2_R1_001.fastq.gz',\n",
       " '../../data/slamseq_MYB_degraded_coculture_v1/fastqs/mr587-MV411-MYB-dTAG-VHL_coculture_12h-r3_R1_001.fastq.gz',\n",
       " '../../data/slamseq_MYB_degraded_coculture_v1/fastqs/mr588-MV411-MYB-dTAG-VHL_coculture_12h-r4_R1_001.fastq.gz',\n",
       " '../../data/slamseq_MYB_degraded_coculture_v1/fastqs/mr589-MV411-MYB-dTAG-VHL_coculture_12h-r5_R1_001.fastq.gz']"
      ]
     },
     "execution_count": 46,
     "metadata": {},
     "output_type": "execute_result"
    }
   ],
   "source": [
    "fastqs = ! ls $fastq_folder/*fastq.gz\n",
    "fastqs[::2]"
   ]
  },
  {
   "cell_type": "markdown",
   "id": "d7dd9e5e",
   "metadata": {},
   "source": [
    "## trim_galore"
   ]
  },
  {
   "cell_type": "code",
   "execution_count": 49,
   "id": "a20a1d20",
   "metadata": {
    "collapsed": true
   },
   "outputs": [
    {
     "name": "stdout",
     "output_type": "stream",
     "text": [
      "mr571-MV411-DMSO_coculture_12h-r1_R1_001.fastq.gz\n",
      "mr572-MV411-DMSO_coculture_12h-r2_R1_001.fastq.gz\n",
      "mr573-MV411-DMSO_coculture_12h-r3_R1_001.fastq.gz\n",
      "mr574-MV411-DMSO_coculture_12h-r4_R1_001.fastq.gz\n",
      "mr575-MV411-DMSO_coculture_12h-r5_R1_001.fastq.gz\n",
      "mr576-MV411-VHL_coculture_12h-r1_R1_001.fastq.gz\n",
      "mr577-MV411-VHL_coculture_12h-r2_R1_001.fastq.gz\n",
      "mr578-MV411-VHL_coculture_12h-r3_R1_001.fastq.gz\n",
      "mr579-MV411-VHL_coculture_12h-r4_R1_001.fastq.gz\n",
      "mr580-MV411-VHL_coculture_12h-r5_R1_001.fastq.gz\n",
      "mr581-MV411-MYB-dTAG-DMSO_coculture_12h-r1_R1_001.fastq.gz\n",
      "mr582-MV411-MYB-dTAG-DMSO_coculture_12h-r2_R1_001.fastq.gz\n",
      "mr583-MV411-MYB-dTAG-DMSO_coculture_12h-r3_R1_001.fastq.gz\n",
      "mr584-MV411-MYB-dTAG-DMSO_coculture_12h-r4_R1_001.fastq.gz\n",
      "mr585-MV411-MYB-dTAG-VHL_coculture_12h-r1_R1_001.fastq.gz\n",
      "mr586-MV411-MYB-dTAG-VHL_coculture_12h-r2_R1_001.fastq.gz\n",
      "mr587-MV411-MYB-dTAG-VHL_coculture_12h-r3_R1_001.fastq.gz\n",
      "mr588-MV411-MYB-dTAG-VHL_coculture_12h-r4_R1_001.fastq.gz\n",
      "mr589-MV411-MYB-dTAG-VHL_coculture_12h-r5_R1_001.fastq.gz\n"
     ]
    }
   ],
   "source": [
    "for val1, val2 in h.grouped(fastqs, 2):\n",
    "    print(os.path.basename(val1))"
   ]
  },
  {
   "cell_type": "code",
   "execution_count": 50,
   "id": "29448ebd",
   "metadata": {
    "collapsed": true
   },
   "outputs": [
    {
     "name": "stdout",
     "output_type": "stream",
     "text": [
      "CPU times: user 816 ms, sys: 364 ms, total: 1.18 s\n",
      "Wall time: 9h 21min 16s\n"
     ]
    },
    {
     "data": {
      "text/plain": [
       "['pigz 2.6\\npigz 2.6\\n',\n",
       " 'pigz 2.6\\npigz 2.6\\n',\n",
       " 'pigz 2.6\\npigz 2.6\\n',\n",
       " 'pigz 2.6\\npigz 2.6\\n',\n",
       " 'pigz 2.6\\npigz 2.6\\n',\n",
       " 'pigz 2.6\\npigz 2.6\\n',\n",
       " 'pigz 2.6\\npigz 2.6\\n',\n",
       " 'pigz 2.6\\npigz 2.6\\n',\n",
       " 'pigz 2.6\\npigz 2.6\\n',\n",
       " 'pigz 2.6\\n']"
      ]
     },
     "execution_count": 50,
     "metadata": {},
     "output_type": "execute_result"
    }
   ],
   "source": [
    "%%time\n",
    "h.parrun(['trim_galore --paired --cores 8 --retain_unpaired -stringency 3\\\n",
    " --illumina '+val1+' '+val2+' -o '+fastq_folder for val1, val2 in h.grouped(fastqs, 2)], 2)"
   ]
  },
  {
   "cell_type": "markdown",
   "id": "2d989949",
   "metadata": {},
   "source": [
    "## slamdunk"
   ]
  },
  {
   "cell_type": "markdown",
   "id": "f62527b2",
   "metadata": {},
   "source": [
    "install slamdunk & dependencies if needed (see above)"
   ]
  },
  {
   "cell_type": "code",
   "execution_count": 51,
   "id": "7441cfb0",
   "metadata": {},
   "outputs": [],
   "source": [
    "# install slamdunk\n",
    "#! pip3 install git+https://github.com/jkobject/slamdunk.git --upgrade"
   ]
  },
  {
   "cell_type": "code",
   "execution_count": 52,
   "id": "e7033e03",
   "metadata": {},
   "outputs": [],
   "source": [
    "# please also install cutadapt, fastqc, and trimgalore\n",
    "#! conda install -c bioconda cutadapt\n",
    "#! conda install -c bioconda fastqc\n",
    "#! conda install -c bioconda trim-galore"
   ]
  },
  {
   "cell_type": "markdown",
   "id": "2c54a44b",
   "metadata": {},
   "source": [
    "download reference genome files"
   ]
  },
  {
   "cell_type": "code",
   "execution_count": 53,
   "id": "96bb5b2b",
   "metadata": {},
   "outputs": [],
   "source": [
    "# google storage bucket with reference files\n",
    "#! gsutil ls gs://ccle_default_params\n",
    "\n",
    "# copy reference genome files\n",
    "#! gsutil -m cp gs://ccle_default_params/Homo_sapiens_assembly38* ../../ref/\n",
    "\n",
    "# copy reference genome files\n",
    "#! cp ../data/Muhar_Slamseq/{ERCC92.fa,ERCC92.gtf,GSE100708_hg38_refseq_062016_ensemblv84_3UTR.bed} ../../ref"
   ]
  },
  {
   "cell_type": "code",
   "execution_count": 7,
   "id": "c33be639",
   "metadata": {},
   "outputs": [],
   "source": [
    "# using an ERCC ref genome (you can just append ERCC fasta to the hg38 fasta)\n",
    "refgenome_noAlt=\"../../ref/Homo_sapiens_assembly38_ERCC92_noAlt.fasta\""
   ]
  },
  {
   "cell_type": "code",
   "execution_count": 8,
   "id": "60391798",
   "metadata": {},
   "outputs": [],
   "source": [
    "# gene intervals bed (use for all projects)\n",
    "gene_intervals = \"../../ref/GSE100708_hg38_refseq_062016_ensemblv84_3UTR.bed\""
   ]
  },
  {
   "cell_type": "markdown",
   "id": "555911f7",
   "metadata": {},
   "source": [
    "res = slamdunk all w/ (-fb, -m, -n 1, -rl 152, -r Homo_sapiens_assembly38_ERCC92_noAlt.fasta)"
   ]
  },
  {
   "cell_type": "markdown",
   "id": "89f7b4c1",
   "metadata": {},
   "source": [
    "Read length note!\n",
    "<br>Difference between min and max read length is > 100bp\n",
    "<br>Average read length 127 (min: 8, max: 152)"
   ]
  },
  {
   "cell_type": "code",
   "execution_count": 9,
   "id": "20a790c8",
   "metadata": {},
   "outputs": [],
   "source": [
    "fastq_folder = \"../../data/\"+\"slamseq_\"+project+\"/fastqs\"\n",
    "fastqs = ! ls $fastq_folder\n",
    "fastqs = [fastq for fastq in fastqs if \"val\" in fastq]\n",
    "fastq_full = [fastq_folder+\"/\"+f for f in fastqs]"
   ]
  },
  {
   "cell_type": "code",
   "execution_count": 10,
   "id": "3a137dc8",
   "metadata": {},
   "outputs": [
    {
     "data": {
      "text/plain": [
       "'../../data/slamseq_MYB_degraded_coculture_v1/res'"
      ]
     },
     "execution_count": 10,
     "metadata": {},
     "output_type": "execute_result"
    }
   ],
   "source": [
    "res_dir = \"../../data/\"+\"slamseq_\"+project+\"/res\"\n",
    "res_dir"
   ]
  },
  {
   "cell_type": "code",
   "execution_count": 11,
   "id": "ec123500",
   "metadata": {},
   "outputs": [
    {
     "name": "stdout",
     "output_type": "stream",
     "text": [
      "['slamdunk all -o ../../data/slamseq_MYB_degraded_coculture_v1/res -r ../../ref/Homo_sapiens_assembly38_ERCC92_noAlt.fasta -b ../../ref/GSE100708_hg38_refseq_062016_ensemblv84_3UTR.bed -t 14 -c 2 -rl 152 -5 12 -n 1 -m -N mr571-MV411-DMSO_coculture_12h-r1 ../../data/slamseq_MYB_degraded_coculture_v1/fastqs/mr571-MV411-DMSO_coculture_12h-r1_R1_001_val_1.fq.gz ../../data/slamseq_MYB_degraded_coculture_v1/fastqs/mr571-MV411-DMSO_coculture_12h-r1_R2_001_val_2.fq.gz']\n",
      "CPU times: user 0 ns, sys: 0 ns, total: 0 ns\n",
      "Wall time: 196 µs\n"
     ]
    }
   ],
   "source": [
    "%%time\n",
    "\n",
    "# print call\n",
    "print(['slamdunk all'+\n",
    "       ' -o '+res_dir+\n",
    "       ' -r '+refgenome_noAlt+\n",
    "       ' -b '+gene_intervals+\n",
    "       ' -t 14'+\n",
    "       ' -c 2'+\n",
    "       ' -rl 152'+ # max-read-length = 152\n",
    "       # new parameters\n",
    "       ' -5 12'+\n",
    "       ' -n 1'+ # reads map to multiple locations at once\n",
    "       ' -m'+ # multimapping\n",
    "       ' -N '+val1.split('/')[-1].split('_R')[0]+\n",
    "       ' '+val1+\" \"+val2\n",
    "       for val1, val2 in h.grouped(fastq_full[:2], 2)])"
   ]
  },
  {
   "cell_type": "code",
   "execution_count": 19,
   "id": "6f981323",
   "metadata": {},
   "outputs": [
    {
     "name": "stdout",
     "output_type": "stream",
     "text": [
      "mr581-MV411-MYB-dTAG-DMSO_coculture_12h-r1_R1_001_val_1.fq.gz\n",
      "mr582-MV411-MYB-dTAG-DMSO_coculture_12h-r2_R1_001_val_1.fq.gz\n",
      "mr583-MV411-MYB-dTAG-DMSO_coculture_12h-r3_R1_001_val_1.fq.gz\n"
     ]
    }
   ],
   "source": [
    "for val1, val2 in h.grouped(fastq_full[20:26], 2): print(os.path.basename(val1))"
   ]
  },
  {
   "cell_type": "code",
   "execution_count": null,
   "id": "a09a6a43",
   "metadata": {},
   "outputs": [],
   "source": [
    "%%time\n",
    "\n",
    "# run slamdunk\n",
    "# we are doing it paired end\n",
    "h.parrun(['slamdunk all'+\n",
    "          ' -o '+res_dir+\n",
    "          ' -r '+refgenome_noAlt+\n",
    "          ' -b '+gene_intervals+\n",
    "          ' -t 14'+\n",
    "          ' -c 2'+\n",
    "          ' -rl 152'+ # max-read-length = 152\n",
    "          # new parameters\n",
    "          ' -5 12'+\n",
    "          ' -n 1'+ # reads map to multiple locations at once\n",
    "          ' -m True'+ # multimapping\n",
    "          ' -N '+val1.split('/')[-1].split('_R')[0]+\n",
    "          ' '+val1+\" \"+val2+\n",
    "          ' 2>&1 | tee '+res_dir+'/'+os.path.basename(val1)+'_slumdunk.log'\n",
    "          for val1, val2 in h.grouped(fastq_full[20:26], 2)], 2)"
   ]
  },
  {
   "cell_type": "markdown",
   "id": "acda7387",
   "metadata": {},
   "source": [
    "## save the data to the bucket"
   ]
  },
  {
   "cell_type": "code",
   "execution_count": null,
   "id": "fb87dfe6",
   "metadata": {},
   "outputs": [],
   "source": [
    "project"
   ]
  },
  {
   "cell_type": "code",
   "execution_count": null,
   "id": "36e3bc93",
   "metadata": {},
   "outputs": [],
   "source": [
    "! ls ../../data/slamseq_$project"
   ]
  },
  {
   "cell_type": "markdown",
   "id": "b727bb5e",
   "metadata": {},
   "source": [
    "* save fastqs to bucket\n",
    "* save processed res to bucket\n",
    "* remove processed fastqs from local"
   ]
  },
  {
   "cell_type": "code",
   "execution_count": null,
   "id": "51b7c138",
   "metadata": {},
   "outputs": [],
   "source": [
    "! gsutil -m cp ../../data/slamseq_$project/fastqs/* gs://amlproject/RNA/slamseq/$project/fastqs/ \n",
    "! gsutil -m cp ../../data/slamseq_$project/res/map/* gs://amlproject/RNA/slamseq/$project/res/map/ \n",
    "! gsutil -m cp ../../data/slamseq_$project/res/filter/* gs://amlproject/RNA/slamseq/$project/res/filter/ \n",
    "! gsutil -m cp ../../data/slamseq_$project/res/snp/* gs://amlproject/RNA/slamseq/$project/res/snp/ \n",
    "! gsutil -m cp ../../data/slamseq_$project/res/count/* gs://amlproject/RNA/slamseq/$project/res/count/"
   ]
  }
 ],
 "metadata": {
  "kernelspec": {
   "display_name": "Python 3 (ipykernel)",
   "language": "python",
   "name": "python3"
  },
  "language_info": {
   "codemirror_mode": {
    "name": "ipython",
    "version": 3
   },
   "file_extension": ".py",
   "mimetype": "text/x-python",
   "name": "python",
   "nbconvert_exporter": "python",
   "pygments_lexer": "ipython3",
   "version": "3.8.11"
  },
  "toc": {
   "base_numbering": 1,
   "nav_menu": {},
   "number_sections": false,
   "sideBar": true,
   "skip_h1_title": false,
   "title_cell": "Table of Contents",
   "title_sidebar": "Contents",
   "toc_cell": false,
   "toc_position": {
    "height": "calc(100% - 180px)",
    "left": "10px",
    "top": "150px",
    "width": "216.797px"
   },
   "toc_section_display": true,
   "toc_window_display": true
  }
 },
 "nbformat": 4,
 "nbformat_minor": 5
}
