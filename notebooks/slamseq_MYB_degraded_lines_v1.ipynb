{
 "cells": [
  {
   "cell_type": "markdown",
   "id": "8b798bfb",
   "metadata": {},
   "source": [
    "# SLAMseq"
   ]
  },
  {
   "cell_type": "markdown",
   "id": "9c76af92",
   "metadata": {},
   "source": [
    "## Installing slamdunk (only do once)"
   ]
  },
  {
   "cell_type": "code",
   "execution_count": 1,
   "id": "c6fe9f68",
   "metadata": {},
   "outputs": [],
   "source": [
    "# install slamdunk\n",
    "#! pip3 install git+https://github.com/jkobject/slamdunk.git --upgrade"
   ]
  },
  {
   "cell_type": "code",
   "execution_count": 2,
   "id": "9b9c4e84",
   "metadata": {},
   "outputs": [],
   "source": [
    "# clone and install genepy\n",
    "# pip install -e genepy"
   ]
  },
  {
   "cell_type": "code",
   "execution_count": 3,
   "id": "4c7e763b",
   "metadata": {},
   "outputs": [],
   "source": [
    "# please also install cutadapt, fastqc, and trimgalore\n",
    "#! conda install -c bioconda cutadapt\n",
    "#! conda install -c bioconda fastqc\n",
    "#! conda install -c bioconda trim-galore"
   ]
  },
  {
   "cell_type": "code",
   "execution_count": 15,
   "id": "2d71fdd2",
   "metadata": {},
   "outputs": [],
   "source": [
    "from __future__ import print_function\n",
    "import os.path\n",
    "import pandas as pd\n",
    "import sys\n",
    "sys.path.insert(0, '../../')\n",
    "import seaborn as sns\n",
    "import numpy as np\n",
    "from natsort import os_sorted\n",
    "\n",
    "from genepy.utils import helper as h\n",
    "from genepy.utils import plot as genepyPlot\n",
    "from genepy.rna import pyDESeq2\n",
    "import genepy.rna as rna"
   ]
  },
  {
   "cell_type": "code",
   "execution_count": 6,
   "id": "f0fe245c",
   "metadata": {},
   "outputs": [
    {
     "data": {
      "text/html": [
       "\n",
       "    <div class=\"bk-root\">\n",
       "        <a href=\"https://bokeh.org\" target=\"_blank\" class=\"bk-logo bk-logo-small bk-logo-notebook\"></a>\n",
       "        <span id=\"1003\">Loading BokehJS ...</span>\n",
       "    </div>"
      ]
     },
     "metadata": {},
     "output_type": "display_data"
    },
    {
     "data": {
      "application/javascript": [
       "\n",
       "(function(root) {\n",
       "  function now() {\n",
       "    return new Date();\n",
       "  }\n",
       "\n",
       "  const force = true;\n",
       "\n",
       "  if (typeof root._bokeh_onload_callbacks === \"undefined\" || force === true) {\n",
       "    root._bokeh_onload_callbacks = [];\n",
       "    root._bokeh_is_loading = undefined;\n",
       "  }\n",
       "\n",
       "  const JS_MIME_TYPE = 'application/javascript';\n",
       "  const HTML_MIME_TYPE = 'text/html';\n",
       "  const EXEC_MIME_TYPE = 'application/vnd.bokehjs_exec.v0+json';\n",
       "  const CLASS_NAME = 'output_bokeh rendered_html';\n",
       "\n",
       "  /**\n",
       "   * Render data to the DOM node\n",
       "   */\n",
       "  function render(props, node) {\n",
       "    const script = document.createElement(\"script\");\n",
       "    node.appendChild(script);\n",
       "  }\n",
       "\n",
       "  /**\n",
       "   * Handle when an output is cleared or removed\n",
       "   */\n",
       "  function handleClearOutput(event, handle) {\n",
       "    const cell = handle.cell;\n",
       "\n",
       "    const id = cell.output_area._bokeh_element_id;\n",
       "    const server_id = cell.output_area._bokeh_server_id;\n",
       "    // Clean up Bokeh references\n",
       "    if (id != null && id in Bokeh.index) {\n",
       "      Bokeh.index[id].model.document.clear();\n",
       "      delete Bokeh.index[id];\n",
       "    }\n",
       "\n",
       "    if (server_id !== undefined) {\n",
       "      // Clean up Bokeh references\n",
       "      const cmd_clean = \"from bokeh.io.state import curstate; print(curstate().uuid_to_server['\" + server_id + \"'].get_sessions()[0].document.roots[0]._id)\";\n",
       "      cell.notebook.kernel.execute(cmd_clean, {\n",
       "        iopub: {\n",
       "          output: function(msg) {\n",
       "            const id = msg.content.text.trim();\n",
       "            if (id in Bokeh.index) {\n",
       "              Bokeh.index[id].model.document.clear();\n",
       "              delete Bokeh.index[id];\n",
       "            }\n",
       "          }\n",
       "        }\n",
       "      });\n",
       "      // Destroy server and session\n",
       "      const cmd_destroy = \"import bokeh.io.notebook as ion; ion.destroy_server('\" + server_id + \"')\";\n",
       "      cell.notebook.kernel.execute(cmd_destroy);\n",
       "    }\n",
       "  }\n",
       "\n",
       "  /**\n",
       "   * Handle when a new output is added\n",
       "   */\n",
       "  function handleAddOutput(event, handle) {\n",
       "    const output_area = handle.output_area;\n",
       "    const output = handle.output;\n",
       "\n",
       "    // limit handleAddOutput to display_data with EXEC_MIME_TYPE content only\n",
       "    if ((output.output_type != \"display_data\") || (!Object.prototype.hasOwnProperty.call(output.data, EXEC_MIME_TYPE))) {\n",
       "      return\n",
       "    }\n",
       "\n",
       "    const toinsert = output_area.element.find(\".\" + CLASS_NAME.split(' ')[0]);\n",
       "\n",
       "    if (output.metadata[EXEC_MIME_TYPE][\"id\"] !== undefined) {\n",
       "      toinsert[toinsert.length - 1].firstChild.textContent = output.data[JS_MIME_TYPE];\n",
       "      // store reference to embed id on output_area\n",
       "      output_area._bokeh_element_id = output.metadata[EXEC_MIME_TYPE][\"id\"];\n",
       "    }\n",
       "    if (output.metadata[EXEC_MIME_TYPE][\"server_id\"] !== undefined) {\n",
       "      const bk_div = document.createElement(\"div\");\n",
       "      bk_div.innerHTML = output.data[HTML_MIME_TYPE];\n",
       "      const script_attrs = bk_div.children[0].attributes;\n",
       "      for (let i = 0; i < script_attrs.length; i++) {\n",
       "        toinsert[toinsert.length - 1].firstChild.setAttribute(script_attrs[i].name, script_attrs[i].value);\n",
       "        toinsert[toinsert.length - 1].firstChild.textContent = bk_div.children[0].textContent\n",
       "      }\n",
       "      // store reference to server id on output_area\n",
       "      output_area._bokeh_server_id = output.metadata[EXEC_MIME_TYPE][\"server_id\"];\n",
       "    }\n",
       "  }\n",
       "\n",
       "  function register_renderer(events, OutputArea) {\n",
       "\n",
       "    function append_mime(data, metadata, element) {\n",
       "      // create a DOM node to render to\n",
       "      const toinsert = this.create_output_subarea(\n",
       "        metadata,\n",
       "        CLASS_NAME,\n",
       "        EXEC_MIME_TYPE\n",
       "      );\n",
       "      this.keyboard_manager.register_events(toinsert);\n",
       "      // Render to node\n",
       "      const props = {data: data, metadata: metadata[EXEC_MIME_TYPE]};\n",
       "      render(props, toinsert[toinsert.length - 1]);\n",
       "      element.append(toinsert);\n",
       "      return toinsert\n",
       "    }\n",
       "\n",
       "    /* Handle when an output is cleared or removed */\n",
       "    events.on('clear_output.CodeCell', handleClearOutput);\n",
       "    events.on('delete.Cell', handleClearOutput);\n",
       "\n",
       "    /* Handle when a new output is added */\n",
       "    events.on('output_added.OutputArea', handleAddOutput);\n",
       "\n",
       "    /**\n",
       "     * Register the mime type and append_mime function with output_area\n",
       "     */\n",
       "    OutputArea.prototype.register_mime_type(EXEC_MIME_TYPE, append_mime, {\n",
       "      /* Is output safe? */\n",
       "      safe: true,\n",
       "      /* Index of renderer in `output_area.display_order` */\n",
       "      index: 0\n",
       "    });\n",
       "  }\n",
       "\n",
       "  // register the mime type if in Jupyter Notebook environment and previously unregistered\n",
       "  if (root.Jupyter !== undefined) {\n",
       "    const events = require('base/js/events');\n",
       "    const OutputArea = require('notebook/js/outputarea').OutputArea;\n",
       "\n",
       "    if (OutputArea.prototype.mime_types().indexOf(EXEC_MIME_TYPE) == -1) {\n",
       "      register_renderer(events, OutputArea);\n",
       "    }\n",
       "  }\n",
       "\n",
       "  \n",
       "  if (typeof (root._bokeh_timeout) === \"undefined\" || force === true) {\n",
       "    root._bokeh_timeout = Date.now() + 5000;\n",
       "    root._bokeh_failed_load = false;\n",
       "  }\n",
       "\n",
       "  const NB_LOAD_WARNING = {'data': {'text/html':\n",
       "     \"<div style='background-color: #fdd'>\\n\"+\n",
       "     \"<p>\\n\"+\n",
       "     \"BokehJS does not appear to have successfully loaded. If loading BokehJS from CDN, this \\n\"+\n",
       "     \"may be due to a slow or bad network connection. Possible fixes:\\n\"+\n",
       "     \"</p>\\n\"+\n",
       "     \"<ul>\\n\"+\n",
       "     \"<li>re-rerun `output_notebook()` to attempt to load from CDN again, or</li>\\n\"+\n",
       "     \"<li>use INLINE resources instead, as so:</li>\\n\"+\n",
       "     \"</ul>\\n\"+\n",
       "     \"<code>\\n\"+\n",
       "     \"from bokeh.resources import INLINE\\n\"+\n",
       "     \"output_notebook(resources=INLINE)\\n\"+\n",
       "     \"</code>\\n\"+\n",
       "     \"</div>\"}};\n",
       "\n",
       "  function display_loaded() {\n",
       "    const el = document.getElementById(\"1003\");\n",
       "    if (el != null) {\n",
       "      el.textContent = \"BokehJS is loading...\";\n",
       "    }\n",
       "    if (root.Bokeh !== undefined) {\n",
       "      if (el != null) {\n",
       "        el.textContent = \"BokehJS \" + root.Bokeh.version + \" successfully loaded.\";\n",
       "      }\n",
       "    } else if (Date.now() < root._bokeh_timeout) {\n",
       "      setTimeout(display_loaded, 100)\n",
       "    }\n",
       "  }\n",
       "\n",
       "\n",
       "  function run_callbacks() {\n",
       "    try {\n",
       "      root._bokeh_onload_callbacks.forEach(function(callback) {\n",
       "        if (callback != null)\n",
       "          callback();\n",
       "      });\n",
       "    } finally {\n",
       "      delete root._bokeh_onload_callbacks\n",
       "    }\n",
       "    console.debug(\"Bokeh: all callbacks have finished\");\n",
       "  }\n",
       "\n",
       "  function load_libs(css_urls, js_urls, callback) {\n",
       "    if (css_urls == null) css_urls = [];\n",
       "    if (js_urls == null) js_urls = [];\n",
       "\n",
       "    root._bokeh_onload_callbacks.push(callback);\n",
       "    if (root._bokeh_is_loading > 0) {\n",
       "      console.debug(\"Bokeh: BokehJS is being loaded, scheduling callback at\", now());\n",
       "      return null;\n",
       "    }\n",
       "    if (js_urls == null || js_urls.length === 0) {\n",
       "      run_callbacks();\n",
       "      return null;\n",
       "    }\n",
       "    console.debug(\"Bokeh: BokehJS not loaded, scheduling load and callback at\", now());\n",
       "    root._bokeh_is_loading = css_urls.length + js_urls.length;\n",
       "\n",
       "    function on_load() {\n",
       "      root._bokeh_is_loading--;\n",
       "      if (root._bokeh_is_loading === 0) {\n",
       "        console.debug(\"Bokeh: all BokehJS libraries/stylesheets loaded\");\n",
       "        run_callbacks()\n",
       "      }\n",
       "    }\n",
       "\n",
       "    function on_error(url) {\n",
       "      console.error(\"failed to load \" + url);\n",
       "    }\n",
       "\n",
       "    for (let i = 0; i < css_urls.length; i++) {\n",
       "      const url = css_urls[i];\n",
       "      const element = document.createElement(\"link\");\n",
       "      element.onload = on_load;\n",
       "      element.onerror = on_error.bind(null, url);\n",
       "      element.rel = \"stylesheet\";\n",
       "      element.type = \"text/css\";\n",
       "      element.href = url;\n",
       "      console.debug(\"Bokeh: injecting link tag for BokehJS stylesheet: \", url);\n",
       "      document.body.appendChild(element);\n",
       "    }\n",
       "\n",
       "    for (let i = 0; i < js_urls.length; i++) {\n",
       "      const url = js_urls[i];\n",
       "      const element = document.createElement('script');\n",
       "      element.onload = on_load;\n",
       "      element.onerror = on_error.bind(null, url);\n",
       "      element.async = false;\n",
       "      element.src = url;\n",
       "      console.debug(\"Bokeh: injecting script tag for BokehJS library: \", url);\n",
       "      document.head.appendChild(element);\n",
       "    }\n",
       "  };\n",
       "\n",
       "  function inject_raw_css(css) {\n",
       "    const element = document.createElement(\"style\");\n",
       "    element.appendChild(document.createTextNode(css));\n",
       "    document.body.appendChild(element);\n",
       "  }\n",
       "\n",
       "  \n",
       "  const js_urls = [\"https://cdn.bokeh.org/bokeh/release/bokeh-2.4.2.min.js\", \"https://cdn.bokeh.org/bokeh/release/bokeh-gl-2.4.2.min.js\", \"https://cdn.bokeh.org/bokeh/release/bokeh-widgets-2.4.2.min.js\", \"https://cdn.bokeh.org/bokeh/release/bokeh-tables-2.4.2.min.js\", \"https://cdn.bokeh.org/bokeh/release/bokeh-mathjax-2.4.2.min.js\"];\n",
       "  const css_urls = [];\n",
       "  \n",
       "\n",
       "  const inline_js = [\n",
       "    function(Bokeh) {\n",
       "      Bokeh.set_log_level(\"info\");\n",
       "    },\n",
       "    function(Bokeh) {\n",
       "    \n",
       "    \n",
       "    }\n",
       "  ];\n",
       "\n",
       "  function run_inline_js() {\n",
       "    \n",
       "    if (root.Bokeh !== undefined || force === true) {\n",
       "      \n",
       "    for (let i = 0; i < inline_js.length; i++) {\n",
       "      inline_js[i].call(root, root.Bokeh);\n",
       "    }\n",
       "    if (force === true) {\n",
       "        display_loaded();\n",
       "      }} else if (Date.now() < root._bokeh_timeout) {\n",
       "      setTimeout(run_inline_js, 100);\n",
       "    } else if (!root._bokeh_failed_load) {\n",
       "      console.log(\"Bokeh: BokehJS failed to load within specified timeout.\");\n",
       "      root._bokeh_failed_load = true;\n",
       "    } else if (force !== true) {\n",
       "      const cell = $(document.getElementById(\"1003\")).parents('.cell').data().cell;\n",
       "      cell.output_area.append_execute_result(NB_LOAD_WARNING)\n",
       "    }\n",
       "\n",
       "  }\n",
       "\n",
       "  if (root._bokeh_is_loading === 0) {\n",
       "    console.debug(\"Bokeh: BokehJS loaded, going straight to plotting\");\n",
       "    run_inline_js();\n",
       "  } else {\n",
       "    load_libs(css_urls, js_urls, function() {\n",
       "      console.debug(\"Bokeh: BokehJS plotting callback run at\", now());\n",
       "      run_inline_js();\n",
       "    });\n",
       "  }\n",
       "}(window));"
      ],
      "application/vnd.bokehjs_load.v0+json": "\n(function(root) {\n  function now() {\n    return new Date();\n  }\n\n  const force = true;\n\n  if (typeof root._bokeh_onload_callbacks === \"undefined\" || force === true) {\n    root._bokeh_onload_callbacks = [];\n    root._bokeh_is_loading = undefined;\n  }\n\n  \n\n  \n  if (typeof (root._bokeh_timeout) === \"undefined\" || force === true) {\n    root._bokeh_timeout = Date.now() + 5000;\n    root._bokeh_failed_load = false;\n  }\n\n  const NB_LOAD_WARNING = {'data': {'text/html':\n     \"<div style='background-color: #fdd'>\\n\"+\n     \"<p>\\n\"+\n     \"BokehJS does not appear to have successfully loaded. If loading BokehJS from CDN, this \\n\"+\n     \"may be due to a slow or bad network connection. Possible fixes:\\n\"+\n     \"</p>\\n\"+\n     \"<ul>\\n\"+\n     \"<li>re-rerun `output_notebook()` to attempt to load from CDN again, or</li>\\n\"+\n     \"<li>use INLINE resources instead, as so:</li>\\n\"+\n     \"</ul>\\n\"+\n     \"<code>\\n\"+\n     \"from bokeh.resources import INLINE\\n\"+\n     \"output_notebook(resources=INLINE)\\n\"+\n     \"</code>\\n\"+\n     \"</div>\"}};\n\n  function display_loaded() {\n    const el = document.getElementById(\"1003\");\n    if (el != null) {\n      el.textContent = \"BokehJS is loading...\";\n    }\n    if (root.Bokeh !== undefined) {\n      if (el != null) {\n        el.textContent = \"BokehJS \" + root.Bokeh.version + \" successfully loaded.\";\n      }\n    } else if (Date.now() < root._bokeh_timeout) {\n      setTimeout(display_loaded, 100)\n    }\n  }\n\n\n  function run_callbacks() {\n    try {\n      root._bokeh_onload_callbacks.forEach(function(callback) {\n        if (callback != null)\n          callback();\n      });\n    } finally {\n      delete root._bokeh_onload_callbacks\n    }\n    console.debug(\"Bokeh: all callbacks have finished\");\n  }\n\n  function load_libs(css_urls, js_urls, callback) {\n    if (css_urls == null) css_urls = [];\n    if (js_urls == null) js_urls = [];\n\n    root._bokeh_onload_callbacks.push(callback);\n    if (root._bokeh_is_loading > 0) {\n      console.debug(\"Bokeh: BokehJS is being loaded, scheduling callback at\", now());\n      return null;\n    }\n    if (js_urls == null || js_urls.length === 0) {\n      run_callbacks();\n      return null;\n    }\n    console.debug(\"Bokeh: BokehJS not loaded, scheduling load and callback at\", now());\n    root._bokeh_is_loading = css_urls.length + js_urls.length;\n\n    function on_load() {\n      root._bokeh_is_loading--;\n      if (root._bokeh_is_loading === 0) {\n        console.debug(\"Bokeh: all BokehJS libraries/stylesheets loaded\");\n        run_callbacks()\n      }\n    }\n\n    function on_error(url) {\n      console.error(\"failed to load \" + url);\n    }\n\n    for (let i = 0; i < css_urls.length; i++) {\n      const url = css_urls[i];\n      const element = document.createElement(\"link\");\n      element.onload = on_load;\n      element.onerror = on_error.bind(null, url);\n      element.rel = \"stylesheet\";\n      element.type = \"text/css\";\n      element.href = url;\n      console.debug(\"Bokeh: injecting link tag for BokehJS stylesheet: \", url);\n      document.body.appendChild(element);\n    }\n\n    for (let i = 0; i < js_urls.length; i++) {\n      const url = js_urls[i];\n      const element = document.createElement('script');\n      element.onload = on_load;\n      element.onerror = on_error.bind(null, url);\n      element.async = false;\n      element.src = url;\n      console.debug(\"Bokeh: injecting script tag for BokehJS library: \", url);\n      document.head.appendChild(element);\n    }\n  };\n\n  function inject_raw_css(css) {\n    const element = document.createElement(\"style\");\n    element.appendChild(document.createTextNode(css));\n    document.body.appendChild(element);\n  }\n\n  \n  const js_urls = [\"https://cdn.bokeh.org/bokeh/release/bokeh-2.4.2.min.js\", \"https://cdn.bokeh.org/bokeh/release/bokeh-gl-2.4.2.min.js\", \"https://cdn.bokeh.org/bokeh/release/bokeh-widgets-2.4.2.min.js\", \"https://cdn.bokeh.org/bokeh/release/bokeh-tables-2.4.2.min.js\", \"https://cdn.bokeh.org/bokeh/release/bokeh-mathjax-2.4.2.min.js\"];\n  const css_urls = [];\n  \n\n  const inline_js = [\n    function(Bokeh) {\n      Bokeh.set_log_level(\"info\");\n    },\n    function(Bokeh) {\n    \n    \n    }\n  ];\n\n  function run_inline_js() {\n    \n    if (root.Bokeh !== undefined || force === true) {\n      \n    for (let i = 0; i < inline_js.length; i++) {\n      inline_js[i].call(root, root.Bokeh);\n    }\n    if (force === true) {\n        display_loaded();\n      }} else if (Date.now() < root._bokeh_timeout) {\n      setTimeout(run_inline_js, 100);\n    } else if (!root._bokeh_failed_load) {\n      console.log(\"Bokeh: BokehJS failed to load within specified timeout.\");\n      root._bokeh_failed_load = true;\n    } else if (force !== true) {\n      const cell = $(document.getElementById(\"1003\")).parents('.cell').data().cell;\n      cell.output_area.append_execute_result(NB_LOAD_WARNING)\n    }\n\n  }\n\n  if (root._bokeh_is_loading === 0) {\n    console.debug(\"Bokeh: BokehJS loaded, going straight to plotting\");\n    run_inline_js();\n  } else {\n    load_libs(css_urls, js_urls, function() {\n      console.debug(\"Bokeh: BokehJS plotting callback run at\", now());\n      run_inline_js();\n    });\n  }\n}(window));"
     },
     "metadata": {},
     "output_type": "display_data"
    },
    {
     "name": "stdout",
     "output_type": "stream",
     "text": [
      "The autoreload extension is already loaded. To reload it, use:\n",
      "  %reload_ext autoreload\n",
      "The rpy2.ipython extension is already loaded. To reload it, use:\n",
      "  %reload_ext rpy2.ipython\n"
     ]
    }
   ],
   "source": [
    "from bokeh.plotting import *\n",
    "from bokeh.models import HoverTool\n",
    "from bokeh.io import output_notebook\n",
    "\n",
    "import matplotlib.pyplot as plt\n",
    "\n",
    "from sklearn.neighbors import KNeighborsClassifier\n",
    "from sklearn.manifold import MDS, TSNE\n",
    "from sklearn.decomposition import PCA\n",
    "from sklearn.preprocessing import scale\n",
    "#from umap import UMAP\n",
    "\n",
    "output_notebook()\n",
    "%load_ext autoreload\n",
    "%matplotlib inline\n",
    "%autoreload 2\n",
    "%load_ext rpy2.ipython"
   ]
  },
  {
   "cell_type": "code",
   "execution_count": 7,
   "id": "f5b490f5",
   "metadata": {},
   "outputs": [],
   "source": [
    "def createDir(directory):\n",
    "    if not os.path.exists(directory):\n",
    "        print(\"Creating output directory: \" + directory)\n",
    "        os.makedirs(directory)"
   ]
  },
  {
   "cell_type": "markdown",
   "id": "b30eac97",
   "metadata": {},
   "source": [
    "# MYB-dTAG in multiple cell lines"
   ]
  },
  {
   "cell_type": "markdown",
   "id": "c13340d3",
   "metadata": {},
   "source": [
    "SLAMseq of MYB-dTag in multiple cell lines (MV411, MONOMAC1, NOMO1, P31FUJ, THP1)\n",
    "<br>All MYB CT degrons with P2A sequence between degron and FP\n",
    "<br>1h degradation + 1h 4sU with 0.5$\\mu$M VHL (with ERCC spike-in control)\n",
    "<br>__Processed without alt loci__"
   ]
  },
  {
   "cell_type": "code",
   "execution_count": 8,
   "id": "1a10249f",
   "metadata": {},
   "outputs": [],
   "source": [
    "project = \"MYB_degraded_lines_v1\""
   ]
  },
  {
   "cell_type": "markdown",
   "id": "250dd450",
   "metadata": {},
   "source": [
    "## download the data"
   ]
  },
  {
   "cell_type": "code",
   "execution_count": 9,
   "id": "f09ae827",
   "metadata": {},
   "outputs": [],
   "source": [
    "location = \"../data/slamseq_\"+project+\"/\" # new data location\n",
    "loc = \"220602_MP10090_fastq\" # transfer AML folder"
   ]
  },
  {
   "cell_type": "code",
   "execution_count": 10,
   "id": "472ffc48",
   "metadata": {},
   "outputs": [],
   "source": [
    "! mkdir ../$location\n",
    "! mkdir ../results/slamseq_$project\n",
    "! mkdir $location && mkdir $location/qc # make data dir in AMLproject\n",
    "! mkdir ../$location/fastqs/ # make dir in /home/monika/data/project/fastqs"
   ]
  },
  {
   "cell_type": "code",
   "execution_count": 34,
   "id": "6156ef3e",
   "metadata": {
    "collapsed": true
   },
   "outputs": [
    {
     "name": "stdout",
     "output_type": "stream",
     "text": [
      "gs://transfer-amlproject/220602_MP10090_fastq/20220602_10_MYB-dTAG_1h_MONOMAC1_DMSO_B_MP10090_S56_R1_001.fastq.gz\r\n",
      "gs://transfer-amlproject/220602_MP10090_fastq/20220602_10_MYB-dTAG_1h_MONOMAC1_DMSO_B_MP10090_S56_R2_001.fastq.gz\r\n",
      "gs://transfer-amlproject/220602_MP10090_fastq/20220602_11_MYB-dTAG_1h_MONOMAC1_DMSO_C_MP10090_S57_R1_001.fastq.gz\r\n",
      "gs://transfer-amlproject/220602_MP10090_fastq/20220602_11_MYB-dTAG_1h_MONOMAC1_DMSO_C_MP10090_S57_R2_001.fastq.gz\r\n",
      "gs://transfer-amlproject/220602_MP10090_fastq/20220602_12_MYB-dTAG_1h_MONOMAC1_DMSO_D_MP10090_S58_R1_001.fastq.gz\r\n",
      "gs://transfer-amlproject/220602_MP10090_fastq/20220602_12_MYB-dTAG_1h_MONOMAC1_DMSO_D_MP10090_S58_R2_001.fastq.gz\r\n",
      "gs://transfer-amlproject/220602_MP10090_fastq/20220602_13_MYB-dTAG_1h_MONOMAC1_VHL_A_MP10090_S59_R1_001.fastq.gz\r\n",
      "gs://transfer-amlproject/220602_MP10090_fastq/20220602_13_MYB-dTAG_1h_MONOMAC1_VHL_A_MP10090_S59_R2_001.fastq.gz\r\n",
      "gs://transfer-amlproject/220602_MP10090_fastq/20220602_14_MYB-dTAG_1h_MONOMAC1_VHL_B_MP10090_S60_R1_001.fastq.gz\r\n",
      "gs://transfer-amlproject/220602_MP10090_fastq/20220602_14_MYB-dTAG_1h_MONOMAC1_VHL_B_MP10090_S60_R2_001.fastq.gz\r\n",
      "gs://transfer-amlproject/220602_MP10090_fastq/20220602_15_MYB-dTAG_1h_MONOMAC1_VHL_C_MP10090_S61_R1_001.fastq.gz\r\n",
      "gs://transfer-amlproject/220602_MP10090_fastq/20220602_15_MYB-dTAG_1h_MONOMAC1_VHL_C_MP10090_S61_R2_001.fastq.gz\r\n",
      "gs://transfer-amlproject/220602_MP10090_fastq/20220602_16_MYB-dTAG_1h_MONOMAC1_VHL_D_MP10090_S62_R1_001.fastq.gz\r\n",
      "gs://transfer-amlproject/220602_MP10090_fastq/20220602_16_MYB-dTAG_1h_MONOMAC1_VHL_D_MP10090_S62_R2_001.fastq.gz\r\n",
      "gs://transfer-amlproject/220602_MP10090_fastq/20220602_17_MYB-dTAG_1h_NOMO1_DMSO_A_MP10090_S63_R1_001.fastq.gz\r\n",
      "gs://transfer-amlproject/220602_MP10090_fastq/20220602_17_MYB-dTAG_1h_NOMO1_DMSO_A_MP10090_S63_R2_001.fastq.gz\r\n",
      "gs://transfer-amlproject/220602_MP10090_fastq/20220602_18_MYB-dTAG_1h_NOMO1_DMSO_B_MP10090_S64_R1_001.fastq.gz\r\n",
      "gs://transfer-amlproject/220602_MP10090_fastq/20220602_18_MYB-dTAG_1h_NOMO1_DMSO_B_MP10090_S64_R2_001.fastq.gz\r\n",
      "gs://transfer-amlproject/220602_MP10090_fastq/20220602_19_MYB-dTAG_1h_NOMO1_DMSO_C_MP10090_S65_R1_001.fastq.gz\r\n",
      "gs://transfer-amlproject/220602_MP10090_fastq/20220602_19_MYB-dTAG_1h_NOMO1_DMSO_C_MP10090_S65_R2_001.fastq.gz\r\n",
      "gs://transfer-amlproject/220602_MP10090_fastq/20220602_1_MYB-dTAG_1h_MV411_DMSO_A_MP10090_S48_R1_001.fastq.gz\r\n",
      "gs://transfer-amlproject/220602_MP10090_fastq/20220602_1_MYB-dTAG_1h_MV411_DMSO_A_MP10090_S48_R2_001.fastq.gz\r\n",
      "gs://transfer-amlproject/220602_MP10090_fastq/20220602_20_MYB-dTAG_1h_NOMO1_DMSO_D_MP10090_S66_R1_001.fastq.gz\r\n",
      "gs://transfer-amlproject/220602_MP10090_fastq/20220602_20_MYB-dTAG_1h_NOMO1_DMSO_D_MP10090_S66_R2_001.fastq.gz\r\n",
      "gs://transfer-amlproject/220602_MP10090_fastq/20220602_21_MYB-dTAG_1h_NOMO1_VHL_A_MP10090_S67_R1_001.fastq.gz\r\n",
      "gs://transfer-amlproject/220602_MP10090_fastq/20220602_21_MYB-dTAG_1h_NOMO1_VHL_A_MP10090_S67_R2_001.fastq.gz\r\n",
      "gs://transfer-amlproject/220602_MP10090_fastq/20220602_22_MYB-dTAG_1h_NOMO1_VHL_B_MP10090_S68_R1_001.fastq.gz\r\n",
      "gs://transfer-amlproject/220602_MP10090_fastq/20220602_22_MYB-dTAG_1h_NOMO1_VHL_B_MP10090_S68_R2_001.fastq.gz\r\n",
      "gs://transfer-amlproject/220602_MP10090_fastq/20220602_23_MYB-dTAG_1h_NOMO1_VHL_C_MP10090_S69_R1_001.fastq.gz\r\n",
      "gs://transfer-amlproject/220602_MP10090_fastq/20220602_23_MYB-dTAG_1h_NOMO1_VHL_C_MP10090_S69_R2_001.fastq.gz\r\n",
      "gs://transfer-amlproject/220602_MP10090_fastq/20220602_24_MYB-dTAG_1h_NOMO1_VHL_D_MP10090_S70_R1_001.fastq.gz\r\n",
      "gs://transfer-amlproject/220602_MP10090_fastq/20220602_24_MYB-dTAG_1h_NOMO1_VHL_D_MP10090_S70_R2_001.fastq.gz\r\n",
      "gs://transfer-amlproject/220602_MP10090_fastq/20220602_25_MYB-dTAG_1h_P31FUJ_DMSO_A_MP10090_S71_R1_001.fastq.gz\r\n",
      "gs://transfer-amlproject/220602_MP10090_fastq/20220602_25_MYB-dTAG_1h_P31FUJ_DMSO_A_MP10090_S71_R2_001.fastq.gz\r\n",
      "gs://transfer-amlproject/220602_MP10090_fastq/20220602_26_MYB-dTAG_1h_P31FUJ_DMSO_B_MP10090_S72_R1_001.fastq.gz\r\n",
      "gs://transfer-amlproject/220602_MP10090_fastq/20220602_26_MYB-dTAG_1h_P31FUJ_DMSO_B_MP10090_S72_R2_001.fastq.gz\r\n",
      "gs://transfer-amlproject/220602_MP10090_fastq/20220602_27_MYB-dTAG_1h_P31FUJ_DMSO_C_MP10090_S73_R1_001.fastq.gz\r\n",
      "gs://transfer-amlproject/220602_MP10090_fastq/20220602_27_MYB-dTAG_1h_P31FUJ_DMSO_C_MP10090_S73_R2_001.fastq.gz\r\n",
      "gs://transfer-amlproject/220602_MP10090_fastq/20220602_28_MYB-dTAG_1h_P31FUJ_DMSO_D_MP10090_S74_R1_001.fastq.gz\r\n",
      "gs://transfer-amlproject/220602_MP10090_fastq/20220602_28_MYB-dTAG_1h_P31FUJ_DMSO_D_MP10090_S74_R2_001.fastq.gz\r\n",
      "gs://transfer-amlproject/220602_MP10090_fastq/20220602_29_MYB-dTAG_1h_P31FUJ_VHL_A_MP10090_S75_R1_001.fastq.gz\r\n",
      "gs://transfer-amlproject/220602_MP10090_fastq/20220602_29_MYB-dTAG_1h_P31FUJ_VHL_A_MP10090_S75_R2_001.fastq.gz\r\n",
      "gs://transfer-amlproject/220602_MP10090_fastq/20220602_2_MYB-dTAG_1h_MV411_DMSO_B_MP10090_S49_R1_001.fastq.gz\r\n",
      "gs://transfer-amlproject/220602_MP10090_fastq/20220602_2_MYB-dTAG_1h_MV411_DMSO_B_MP10090_S49_R2_001.fastq.gz\r\n",
      "gs://transfer-amlproject/220602_MP10090_fastq/20220602_30_MYB-dTAG_1h_P31FUJ_VHL_B_MP10090_S76_R1_001.fastq.gz\r\n",
      "gs://transfer-amlproject/220602_MP10090_fastq/20220602_30_MYB-dTAG_1h_P31FUJ_VHL_B_MP10090_S76_R2_001.fastq.gz\r\n",
      "gs://transfer-amlproject/220602_MP10090_fastq/20220602_31_MYB-dTAG_1h_P31FUJ_VHL_C_MP10090_S77_R1_001.fastq.gz\r\n",
      "gs://transfer-amlproject/220602_MP10090_fastq/20220602_31_MYB-dTAG_1h_P31FUJ_VHL_C_MP10090_S77_R2_001.fastq.gz\r\n",
      "gs://transfer-amlproject/220602_MP10090_fastq/20220602_32_MYB-dTAG_1h_P31FUJ_VHL_D_MP10090_S78_R1_001.fastq.gz\r\n",
      "gs://transfer-amlproject/220602_MP10090_fastq/20220602_32_MYB-dTAG_1h_P31FUJ_VHL_D_MP10090_S78_R2_001.fastq.gz\r\n",
      "gs://transfer-amlproject/220602_MP10090_fastq/20220602_33_MYB-dTAG_1h_THP1_DMSO_A_MP10090_S79_R1_001.fastq.gz\r\n",
      "gs://transfer-amlproject/220602_MP10090_fastq/20220602_33_MYB-dTAG_1h_THP1_DMSO_A_MP10090_S79_R2_001.fastq.gz\r\n",
      "gs://transfer-amlproject/220602_MP10090_fastq/20220602_34_MYB-dTAG_1h_THP1_DMSO_B_MP10090_S80_R1_001.fastq.gz\r\n",
      "gs://transfer-amlproject/220602_MP10090_fastq/20220602_34_MYB-dTAG_1h_THP1_DMSO_B_MP10090_S80_R2_001.fastq.gz\r\n",
      "gs://transfer-amlproject/220602_MP10090_fastq/20220602_35_MYB-dTAG_1h_THP1_DMSO_C_MP10090_S81_R1_001.fastq.gz\r\n",
      "gs://transfer-amlproject/220602_MP10090_fastq/20220602_35_MYB-dTAG_1h_THP1_DMSO_C_MP10090_S81_R2_001.fastq.gz\r\n",
      "gs://transfer-amlproject/220602_MP10090_fastq/20220602_36_MYB-dTAG_1h_THP1_DMSO_D_MP10090_S82_R1_001.fastq.gz\r\n",
      "gs://transfer-amlproject/220602_MP10090_fastq/20220602_36_MYB-dTAG_1h_THP1_DMSO_D_MP10090_S82_R2_001.fastq.gz\r\n",
      "gs://transfer-amlproject/220602_MP10090_fastq/20220602_37_MYB-dTAG_1h_THP1_VHL_A_MP10090_S83_R1_001.fastq.gz\r\n",
      "gs://transfer-amlproject/220602_MP10090_fastq/20220602_37_MYB-dTAG_1h_THP1_VHL_A_MP10090_S83_R2_001.fastq.gz\r\n",
      "gs://transfer-amlproject/220602_MP10090_fastq/20220602_38_MYB-dTAG_1h_THP1_VHL_B_MP10090_S84_R1_001.fastq.gz\r\n",
      "gs://transfer-amlproject/220602_MP10090_fastq/20220602_38_MYB-dTAG_1h_THP1_VHL_B_MP10090_S84_R2_001.fastq.gz\r\n",
      "gs://transfer-amlproject/220602_MP10090_fastq/20220602_39_MYB-dTAG_1h_THP1_VHL_C_MP10090_S85_R1_001.fastq.gz\r\n",
      "gs://transfer-amlproject/220602_MP10090_fastq/20220602_39_MYB-dTAG_1h_THP1_VHL_C_MP10090_S85_R2_001.fastq.gz\r\n",
      "gs://transfer-amlproject/220602_MP10090_fastq/20220602_3_MYB-dTAG_1h_MV411_DMSO_C_MP10090_S50_R1_001.fastq.gz\r\n",
      "gs://transfer-amlproject/220602_MP10090_fastq/20220602_3_MYB-dTAG_1h_MV411_DMSO_C_MP10090_S50_R2_001.fastq.gz\r\n",
      "gs://transfer-amlproject/220602_MP10090_fastq/20220602_40_MYB-dTAG_1h_THP1_VHL_D_MP10090_S86_R1_001.fastq.gz\r\n",
      "gs://transfer-amlproject/220602_MP10090_fastq/20220602_40_MYB-dTAG_1h_THP1_VHL_D_MP10090_S86_R2_001.fastq.gz\r\n",
      "gs://transfer-amlproject/220602_MP10090_fastq/20220602_4_MYB-dTAG_1h_MV411_DMSO_D_MP10090_S51_R1_001.fastq.gz\r\n",
      "gs://transfer-amlproject/220602_MP10090_fastq/20220602_4_MYB-dTAG_1h_MV411_DMSO_D_MP10090_S51_R2_001.fastq.gz\r\n",
      "gs://transfer-amlproject/220602_MP10090_fastq/20220602_5_MYB-dTAG_1h_MV411_VHL_A_MP10090_S52_R1_001.fastq.gz\r\n",
      "gs://transfer-amlproject/220602_MP10090_fastq/20220602_5_MYB-dTAG_1h_MV411_VHL_A_MP10090_S52_R2_001.fastq.gz\r\n",
      "gs://transfer-amlproject/220602_MP10090_fastq/20220602_7_MYB-dTAG_1h_MV411_VHL_C_MP10090_S53_R1_001.fastq.gz\r\n",
      "gs://transfer-amlproject/220602_MP10090_fastq/20220602_7_MYB-dTAG_1h_MV411_VHL_C_MP10090_S53_R2_001.fastq.gz\r\n",
      "gs://transfer-amlproject/220602_MP10090_fastq/20220602_8_MYB-dTAG_1h_MV411_VHL_D_MP10090_S54_R1_001.fastq.gz\r\n",
      "gs://transfer-amlproject/220602_MP10090_fastq/20220602_8_MYB-dTAG_1h_MV411_VHL_D_MP10090_S54_R2_001.fastq.gz\r\n",
      "gs://transfer-amlproject/220602_MP10090_fastq/20220602_9_MYB-dTAG_1h_MONOMAC1_DMSO_A_MP10090_S55_R1_001.fastq.gz\r\n",
      "gs://transfer-amlproject/220602_MP10090_fastq/20220602_9_MYB-dTAG_1h_MONOMAC1_DMSO_A_MP10090_S55_R2_001.fastq.gz\r\n",
      "gs://transfer-amlproject/220602_MP10090_fastq/multiqc_report.html\r\n",
      "gs://transfer-amlproject/220602_MP10090_fastq/Reports/\r\n",
      "gs://transfer-amlproject/220602_MP10090_fastq/multiqc_data/\r\n"
     ]
    }
   ],
   "source": [
    "! gsutil ls gs://transfer-amlproject/$loc/"
   ]
  },
  {
   "cell_type": "code",
   "execution_count": 33,
   "id": "4a15963c",
   "metadata": {},
   "outputs": [
    {
     "name": "stdout",
     "output_type": "stream",
     "text": [
      "gs://transfer-amlproject/20220602_16_MYB-dTAG_1h_MONOMAC1_VHL_D_MP10090_S62_R1_001.fastq.gz\r\n",
      "gs://transfer-amlproject/20220602_16_MYB-dTAG_1h_MONOMAC1_VHL_D_MP10090_S62_R2_001.fastq.gz\r\n"
     ]
    }
   ],
   "source": [
    "! gsutil ls gs://transfer-amlproject/*fastq.gz"
   ]
  },
  {
   "cell_type": "code",
   "execution_count": 32,
   "id": "b58d1a91",
   "metadata": {},
   "outputs": [
    {
     "name": "stdout",
     "output_type": "stream",
     "text": [
      "Copying gs://transfer-amlproject/20220602_16_MYB-dTAG_1h_MONOMAC1_VHL_D_MP10090_S62_R1_001.fastq.gz [Content-Type=application/octet-stream]...\n",
      "Copying gs://transfer-amlproject/20220602_16_MYB-dTAG_1h_MONOMAC1_VHL_D_MP10090_S62_R2_001.fastq.gz [Content-Type=application/octet-stream]...\n",
      "/ [2/2 files][  6.9 GiB/  6.9 GiB] 100% Done                                    \n",
      "Operation completed over 2 objects/6.9 GiB.                                      \n"
     ]
    }
   ],
   "source": [
    "! gsutil -m cp gs://transfer-amlproject/*fastq.gz gs://transfer-amlproject/$loc/"
   ]
  },
  {
   "cell_type": "code",
   "execution_count": 12,
   "id": "7be71396",
   "metadata": {
    "collapsed": true
   },
   "outputs": [
    {
     "name": "stdout",
     "output_type": "stream",
     "text": [
      "Copying gs://transfer-amlproject/220602_MP10090_fastq/multiqc_report.html...\n",
      "/ [1/1 files][  2.0 MiB/  2.0 MiB] 100% Done                                    \n",
      "Operation completed over 1 objects/2.0 MiB.                                      \n",
      "Copying gs://transfer-amlproject/220602_MP10090_fastq/Reports/20220602_10_MYB-dTAG_1h_MONOMAC1_DMSO_B_MP10090_S56_R1_001_fastqc.html...\n",
      "Copying gs://transfer-amlproject/220602_MP10090_fastq/Reports/20220602_10_MYB-dTAG_1h_MONOMAC1_DMSO_B_MP10090_S56_R1_001_fastqc.zip...\n",
      "Copying gs://transfer-amlproject/220602_MP10090_fastq/Reports/20220602_10_MYB-dTAG_1h_MONOMAC1_DMSO_B_MP10090_S56_R2_001_fastqc.html...\n",
      "Copying gs://transfer-amlproject/220602_MP10090_fastq/Reports/20220602_11_MYB-dTAG_1h_MONOMAC1_DMSO_C_MP10090_S57_R2_001_fastqc.html...\n",
      "Copying gs://transfer-amlproject/220602_MP10090_fastq/Reports/20220602_10_MYB-dTAG_1h_MONOMAC1_DMSO_B_MP10090_S56_R2_001_fastqc.zip...\n",
      "Copying gs://transfer-amlproject/220602_MP10090_fastq/Reports/20220602_11_MYB-dTAG_1h_MONOMAC1_DMSO_C_MP10090_S57_R1_001_fastqc.html...\n",
      "Copying gs://transfer-amlproject/220602_MP10090_fastq/Reports/20220602_11_MYB-dTAG_1h_MONOMAC1_DMSO_C_MP10090_S57_R1_001_fastqc.zip...\n",
      "Copying gs://transfer-amlproject/220602_MP10090_fastq/Reports/20220602_11_MYB-dTAG_1h_MONOMAC1_DMSO_C_MP10090_S57_R2_001_fastqc.zip...\n",
      "Copying gs://transfer-amlproject/220602_MP10090_fastq/Reports/20220602_12_MYB-dTAG_1h_MONOMAC1_DMSO_D_MP10090_S58_R1_001_fastqc.html...\n",
      "Copying gs://transfer-amlproject/220602_MP10090_fastq/Reports/20220602_14_MYB-dTAG_1h_MONOMAC1_VHL_B_MP10090_S60_R1_001_fastqc.zip...\n",
      "Copying gs://transfer-amlproject/220602_MP10090_fastq/Reports/20220602_13_MYB-dTAG_1h_MONOMAC1_VHL_A_MP10090_S59_R1_001_fastqc.html...\n",
      "Copying gs://transfer-amlproject/220602_MP10090_fastq/Reports/20220602_13_MYB-dTAG_1h_MONOMAC1_VHL_A_MP10090_S59_R1_001_fastqc.zip...\n",
      "Copying gs://transfer-amlproject/220602_MP10090_fastq/Reports/20220602_12_MYB-dTAG_1h_MONOMAC1_DMSO_D_MP10090_S58_R2_001_fastqc.zip...\n",
      "Copying gs://transfer-amlproject/220602_MP10090_fastq/Reports/20220602_13_MYB-dTAG_1h_MONOMAC1_VHL_A_MP10090_S59_R2_001_fastqc.html...\n",
      "Copying gs://transfer-amlproject/220602_MP10090_fastq/Reports/20220602_12_MYB-dTAG_1h_MONOMAC1_DMSO_D_MP10090_S58_R1_001_fastqc.zip...\n",
      "Copying gs://transfer-amlproject/220602_MP10090_fastq/Reports/20220602_12_MYB-dTAG_1h_MONOMAC1_DMSO_D_MP10090_S58_R2_001_fastqc.html...\n",
      "Copying gs://transfer-amlproject/220602_MP10090_fastq/Reports/20220602_14_MYB-dTAG_1h_MONOMAC1_VHL_B_MP10090_S60_R1_001_fastqc.html...\n",
      "Copying gs://transfer-amlproject/220602_MP10090_fastq/Reports/20220602_13_MYB-dTAG_1h_MONOMAC1_VHL_A_MP10090_S59_R2_001_fastqc.zip...\n",
      "Copying gs://transfer-amlproject/220602_MP10090_fastq/Reports/20220602_14_MYB-dTAG_1h_MONOMAC1_VHL_B_MP10090_S60_R2_001_fastqc.html...\n",
      "Copying gs://transfer-amlproject/220602_MP10090_fastq/Reports/20220602_14_MYB-dTAG_1h_MONOMAC1_VHL_B_MP10090_S60_R2_001_fastqc.zip...\n",
      "Copying gs://transfer-amlproject/220602_MP10090_fastq/Reports/20220602_15_MYB-dTAG_1h_MONOMAC1_VHL_C_MP10090_S61_R1_001_fastqc.html...\n",
      "Copying gs://transfer-amlproject/220602_MP10090_fastq/Reports/20220602_16_MYB-dTAG_1h_MONOMAC1_VHL_D_MP10090_S62_R1_001_fastqc.zip...\n",
      "Copying gs://transfer-amlproject/220602_MP10090_fastq/Reports/20220602_15_MYB-dTAG_1h_MONOMAC1_VHL_C_MP10090_S61_R1_001_fastqc.zip...\n",
      "Copying gs://transfer-amlproject/220602_MP10090_fastq/Reports/20220602_16_MYB-dTAG_1h_MONOMAC1_VHL_D_MP10090_S62_R2_001_fastqc.zip...\n",
      "Copying gs://transfer-amlproject/220602_MP10090_fastq/Reports/20220602_15_MYB-dTAG_1h_MONOMAC1_VHL_C_MP10090_S61_R2_001_fastqc.html...\n",
      "Copying gs://transfer-amlproject/220602_MP10090_fastq/Reports/20220602_15_MYB-dTAG_1h_MONOMAC1_VHL_C_MP10090_S61_R2_001_fastqc.zip...\n",
      "Copying gs://transfer-amlproject/220602_MP10090_fastq/Reports/20220602_18_MYB-dTAG_1h_NOMO1_DMSO_B_MP10090_S64_R2_001_fastqc.zip...\n",
      "Copying gs://transfer-amlproject/220602_MP10090_fastq/Reports/20220602_17_MYB-dTAG_1h_NOMO1_DMSO_A_MP10090_S63_R1_001_fastqc.html...\n",
      "Copying gs://transfer-amlproject/220602_MP10090_fastq/Reports/20220602_18_MYB-dTAG_1h_NOMO1_DMSO_B_MP10090_S64_R1_001_fastqc.html...\n",
      "Copying gs://transfer-amlproject/220602_MP10090_fastq/Reports/20220602_16_MYB-dTAG_1h_MONOMAC1_VHL_D_MP10090_S62_R1_001_fastqc.html...\n",
      "Copying gs://transfer-amlproject/220602_MP10090_fastq/Reports/20220602_17_MYB-dTAG_1h_NOMO1_DMSO_A_MP10090_S63_R2_001_fastqc.html...\n",
      "Copying gs://transfer-amlproject/220602_MP10090_fastq/Reports/20220602_17_MYB-dTAG_1h_NOMO1_DMSO_A_MP10090_S63_R2_001_fastqc.zip...\n",
      "Copying gs://transfer-amlproject/220602_MP10090_fastq/Reports/20220602_17_MYB-dTAG_1h_NOMO1_DMSO_A_MP10090_S63_R1_001_fastqc.zip...\n",
      "Copying gs://transfer-amlproject/220602_MP10090_fastq/Reports/20220602_19_MYB-dTAG_1h_NOMO1_DMSO_C_MP10090_S65_R2_001_fastqc.html...\n",
      "Copying gs://transfer-amlproject/220602_MP10090_fastq/Reports/20220602_19_MYB-dTAG_1h_NOMO1_DMSO_C_MP10090_S65_R1_001_fastqc.zip...\n",
      "Copying gs://transfer-amlproject/220602_MP10090_fastq/Reports/20220602_18_MYB-dTAG_1h_NOMO1_DMSO_B_MP10090_S64_R1_001_fastqc.zip...\n",
      "Copying gs://transfer-amlproject/220602_MP10090_fastq/Reports/20220602_19_MYB-dTAG_1h_NOMO1_DMSO_C_MP10090_S65_R2_001_fastqc.zip...\n",
      "Copying gs://transfer-amlproject/220602_MP10090_fastq/Reports/20220602_16_MYB-dTAG_1h_MONOMAC1_VHL_D_MP10090_S62_R2_001_fastqc.html...\n",
      "Copying gs://transfer-amlproject/220602_MP10090_fastq/Reports/20220602_18_MYB-dTAG_1h_NOMO1_DMSO_B_MP10090_S64_R2_001_fastqc.html...\n",
      "Copying gs://transfer-amlproject/220602_MP10090_fastq/Reports/20220602_19_MYB-dTAG_1h_NOMO1_DMSO_C_MP10090_S65_R1_001_fastqc.html...\n",
      "Copying gs://transfer-amlproject/220602_MP10090_fastq/Reports/20220602_1_MYB-dTAG_1h_MV411_DMSO_A_MP10090_S48_R1_001_fastqc.html...\n",
      "Copying gs://transfer-amlproject/220602_MP10090_fastq/Reports/20220602_1_MYB-dTAG_1h_MV411_DMSO_A_MP10090_S48_R1_001_fastqc.zip...\n",
      "Copying gs://transfer-amlproject/220602_MP10090_fastq/Reports/20220602_1_MYB-dTAG_1h_MV411_DMSO_A_MP10090_S48_R2_001_fastqc.html...\n",
      "Copying gs://transfer-amlproject/220602_MP10090_fastq/Reports/20220602_1_MYB-dTAG_1h_MV411_DMSO_A_MP10090_S48_R2_001_fastqc.zip...\n",
      "Copying gs://transfer-amlproject/220602_MP10090_fastq/Reports/20220602_20_MYB-dTAG_1h_NOMO1_DMSO_D_MP10090_S66_R1_001_fastqc.html...\n",
      "Copying gs://transfer-amlproject/220602_MP10090_fastq/Reports/20220602_20_MYB-dTAG_1h_NOMO1_DMSO_D_MP10090_S66_R1_001_fastqc.zip...\n",
      "Copying gs://transfer-amlproject/220602_MP10090_fastq/Reports/20220602_20_MYB-dTAG_1h_NOMO1_DMSO_D_MP10090_S66_R2_001_fastqc.html...\n",
      "Copying gs://transfer-amlproject/220602_MP10090_fastq/Reports/20220602_20_MYB-dTAG_1h_NOMO1_DMSO_D_MP10090_S66_R2_001_fastqc.zip...\n",
      "Copying gs://transfer-amlproject/220602_MP10090_fastq/Reports/20220602_21_MYB-dTAG_1h_NOMO1_VHL_A_MP10090_S67_R1_001_fastqc.html...\n",
      "Copying gs://transfer-amlproject/220602_MP10090_fastq/Reports/20220602_21_MYB-dTAG_1h_NOMO1_VHL_A_MP10090_S67_R1_001_fastqc.zip...\n",
      "Copying gs://transfer-amlproject/220602_MP10090_fastq/Reports/20220602_21_MYB-dTAG_1h_NOMO1_VHL_A_MP10090_S67_R2_001_fastqc.html...\n",
      "Copying gs://transfer-amlproject/220602_MP10090_fastq/Reports/20220602_21_MYB-dTAG_1h_NOMO1_VHL_A_MP10090_S67_R2_001_fastqc.zip...\n",
      "Copying gs://transfer-amlproject/220602_MP10090_fastq/Reports/20220602_22_MYB-dTAG_1h_NOMO1_VHL_B_MP10090_S68_R1_001_fastqc.html...\n",
      "Copying gs://transfer-amlproject/220602_MP10090_fastq/Reports/20220602_22_MYB-dTAG_1h_NOMO1_VHL_B_MP10090_S68_R1_001_fastqc.zip...\n",
      "Copying gs://transfer-amlproject/220602_MP10090_fastq/Reports/20220602_22_MYB-dTAG_1h_NOMO1_VHL_B_MP10090_S68_R2_001_fastqc.html...\n",
      "Copying gs://transfer-amlproject/220602_MP10090_fastq/Reports/20220602_22_MYB-dTAG_1h_NOMO1_VHL_B_MP10090_S68_R2_001_fastqc.zip...\n",
      "Copying gs://transfer-amlproject/220602_MP10090_fastq/Reports/20220602_24_MYB-dTAG_1h_NOMO1_VHL_D_MP10090_S70_R1_001_fastqc.html...\n",
      "Copying gs://transfer-amlproject/220602_MP10090_fastq/Reports/20220602_23_MYB-dTAG_1h_NOMO1_VHL_C_MP10090_S69_R1_001_fastqc.html...\n",
      "Copying gs://transfer-amlproject/220602_MP10090_fastq/Reports/20220602_23_MYB-dTAG_1h_NOMO1_VHL_C_MP10090_S69_R1_001_fastqc.zip...\n",
      "Copying gs://transfer-amlproject/220602_MP10090_fastq/Reports/20220602_23_MYB-dTAG_1h_NOMO1_VHL_C_MP10090_S69_R2_001_fastqc.html...\n",
      "Copying gs://transfer-amlproject/220602_MP10090_fastq/Reports/20220602_24_MYB-dTAG_1h_NOMO1_VHL_D_MP10090_S70_R1_001_fastqc.zip...\n",
      "Copying gs://transfer-amlproject/220602_MP10090_fastq/Reports/20220602_23_MYB-dTAG_1h_NOMO1_VHL_C_MP10090_S69_R2_001_fastqc.zip...\n",
      "Copying gs://transfer-amlproject/220602_MP10090_fastq/Reports/20220602_25_MYB-dTAG_1h_P31FUJ_DMSO_A_MP10090_S71_R1_001_fastqc.html...\n",
      "Copying gs://transfer-amlproject/220602_MP10090_fastq/Reports/20220602_24_MYB-dTAG_1h_NOMO1_VHL_D_MP10090_S70_R2_001_fastqc.html...\n"
     ]
    },
    {
     "name": "stdout",
     "output_type": "stream",
     "text": [
      "Copying gs://transfer-amlproject/220602_MP10090_fastq/Reports/20220602_24_MYB-dTAG_1h_NOMO1_VHL_D_MP10090_S70_R2_001_fastqc.zip...\n",
      "Copying gs://transfer-amlproject/220602_MP10090_fastq/Reports/20220602_25_MYB-dTAG_1h_P31FUJ_DMSO_A_MP10090_S71_R1_001_fastqc.zip...\n",
      "Copying gs://transfer-amlproject/220602_MP10090_fastq/Reports/20220602_25_MYB-dTAG_1h_P31FUJ_DMSO_A_MP10090_S71_R2_001_fastqc.zip...\n",
      "Copying gs://transfer-amlproject/220602_MP10090_fastq/Reports/20220602_25_MYB-dTAG_1h_P31FUJ_DMSO_A_MP10090_S71_R2_001_fastqc.html...\n",
      "Copying gs://transfer-amlproject/220602_MP10090_fastq/Reports/20220602_26_MYB-dTAG_1h_P31FUJ_DMSO_B_MP10090_S72_R1_001_fastqc.html...\n",
      "Copying gs://transfer-amlproject/220602_MP10090_fastq/Reports/20220602_26_MYB-dTAG_1h_P31FUJ_DMSO_B_MP10090_S72_R1_001_fastqc.zip...\n",
      "Copying gs://transfer-amlproject/220602_MP10090_fastq/Reports/20220602_26_MYB-dTAG_1h_P31FUJ_DMSO_B_MP10090_S72_R2_001_fastqc.html...\n",
      "Copying gs://transfer-amlproject/220602_MP10090_fastq/Reports/20220602_26_MYB-dTAG_1h_P31FUJ_DMSO_B_MP10090_S72_R2_001_fastqc.zip...\n",
      "Copying gs://transfer-amlproject/220602_MP10090_fastq/Reports/20220602_27_MYB-dTAG_1h_P31FUJ_DMSO_C_MP10090_S73_R1_001_fastqc.html...\n",
      "Copying gs://transfer-amlproject/220602_MP10090_fastq/Reports/20220602_27_MYB-dTAG_1h_P31FUJ_DMSO_C_MP10090_S73_R1_001_fastqc.zip...\n",
      "Copying gs://transfer-amlproject/220602_MP10090_fastq/Reports/20220602_27_MYB-dTAG_1h_P31FUJ_DMSO_C_MP10090_S73_R2_001_fastqc.html...\n",
      "Copying gs://transfer-amlproject/220602_MP10090_fastq/Reports/20220602_27_MYB-dTAG_1h_P31FUJ_DMSO_C_MP10090_S73_R2_001_fastqc.zip...\n",
      "Copying gs://transfer-amlproject/220602_MP10090_fastq/Reports/20220602_28_MYB-dTAG_1h_P31FUJ_DMSO_D_MP10090_S74_R1_001_fastqc.html...\n",
      "Copying gs://transfer-amlproject/220602_MP10090_fastq/Reports/20220602_28_MYB-dTAG_1h_P31FUJ_DMSO_D_MP10090_S74_R2_001_fastqc.zip...\n",
      "Copying gs://transfer-amlproject/220602_MP10090_fastq/Reports/20220602_28_MYB-dTAG_1h_P31FUJ_DMSO_D_MP10090_S74_R2_001_fastqc.html...\n",
      "Copying gs://transfer-amlproject/220602_MP10090_fastq/Reports/20220602_29_MYB-dTAG_1h_P31FUJ_VHL_A_MP10090_S75_R1_001_fastqc.html...\n",
      "Copying gs://transfer-amlproject/220602_MP10090_fastq/Reports/20220602_29_MYB-dTAG_1h_P31FUJ_VHL_A_MP10090_S75_R1_001_fastqc.zip...\n",
      "Copying gs://transfer-amlproject/220602_MP10090_fastq/Reports/20220602_28_MYB-dTAG_1h_P31FUJ_DMSO_D_MP10090_S74_R1_001_fastqc.zip...\n",
      "Copying gs://transfer-amlproject/220602_MP10090_fastq/Reports/20220602_29_MYB-dTAG_1h_P31FUJ_VHL_A_MP10090_S75_R2_001_fastqc.html...\n",
      "Copying gs://transfer-amlproject/220602_MP10090_fastq/Reports/20220602_29_MYB-dTAG_1h_P31FUJ_VHL_A_MP10090_S75_R2_001_fastqc.zip...\n",
      "Copying gs://transfer-amlproject/220602_MP10090_fastq/Reports/20220602_2_MYB-dTAG_1h_MV411_DMSO_B_MP10090_S49_R1_001_fastqc.html...\n",
      "Copying gs://transfer-amlproject/220602_MP10090_fastq/Reports/20220602_2_MYB-dTAG_1h_MV411_DMSO_B_MP10090_S49_R2_001_fastqc.html...\n",
      "Copying gs://transfer-amlproject/220602_MP10090_fastq/Reports/20220602_2_MYB-dTAG_1h_MV411_DMSO_B_MP10090_S49_R1_001_fastqc.zip...\n",
      "Copying gs://transfer-amlproject/220602_MP10090_fastq/Reports/20220602_2_MYB-dTAG_1h_MV411_DMSO_B_MP10090_S49_R2_001_fastqc.zip...\n",
      "Copying gs://transfer-amlproject/220602_MP10090_fastq/Reports/20220602_30_MYB-dTAG_1h_P31FUJ_VHL_B_MP10090_S76_R1_001_fastqc.html...\n",
      "Copying gs://transfer-amlproject/220602_MP10090_fastq/Reports/20220602_30_MYB-dTAG_1h_P31FUJ_VHL_B_MP10090_S76_R1_001_fastqc.zip...\n",
      "Copying gs://transfer-amlproject/220602_MP10090_fastq/Reports/20220602_30_MYB-dTAG_1h_P31FUJ_VHL_B_MP10090_S76_R2_001_fastqc.html...\n",
      "Copying gs://transfer-amlproject/220602_MP10090_fastq/Reports/20220602_30_MYB-dTAG_1h_P31FUJ_VHL_B_MP10090_S76_R2_001_fastqc.zip...\n",
      "Copying gs://transfer-amlproject/220602_MP10090_fastq/Reports/20220602_31_MYB-dTAG_1h_P31FUJ_VHL_C_MP10090_S77_R1_001_fastqc.html...\n",
      "Copying gs://transfer-amlproject/220602_MP10090_fastq/Reports/20220602_31_MYB-dTAG_1h_P31FUJ_VHL_C_MP10090_S77_R1_001_fastqc.zip...\n",
      "Copying gs://transfer-amlproject/220602_MP10090_fastq/Reports/20220602_31_MYB-dTAG_1h_P31FUJ_VHL_C_MP10090_S77_R2_001_fastqc.html...\n",
      "Copying gs://transfer-amlproject/220602_MP10090_fastq/Reports/20220602_31_MYB-dTAG_1h_P31FUJ_VHL_C_MP10090_S77_R2_001_fastqc.zip...\n",
      "Copying gs://transfer-amlproject/220602_MP10090_fastq/Reports/20220602_32_MYB-dTAG_1h_P31FUJ_VHL_D_MP10090_S78_R1_001_fastqc.html...\n",
      "Copying gs://transfer-amlproject/220602_MP10090_fastq/Reports/20220602_32_MYB-dTAG_1h_P31FUJ_VHL_D_MP10090_S78_R2_001_fastqc.html...\n",
      "Copying gs://transfer-amlproject/220602_MP10090_fastq/Reports/20220602_32_MYB-dTAG_1h_P31FUJ_VHL_D_MP10090_S78_R1_001_fastqc.zip...\n",
      "Copying gs://transfer-amlproject/220602_MP10090_fastq/Reports/20220602_32_MYB-dTAG_1h_P31FUJ_VHL_D_MP10090_S78_R2_001_fastqc.zip...\n",
      "Copying gs://transfer-amlproject/220602_MP10090_fastq/Reports/20220602_33_MYB-dTAG_1h_THP1_DMSO_A_MP10090_S79_R1_001_fastqc.html...\n",
      "Copying gs://transfer-amlproject/220602_MP10090_fastq/Reports/20220602_33_MYB-dTAG_1h_THP1_DMSO_A_MP10090_S79_R1_001_fastqc.zip...\n",
      "Copying gs://transfer-amlproject/220602_MP10090_fastq/Reports/20220602_33_MYB-dTAG_1h_THP1_DMSO_A_MP10090_S79_R2_001_fastqc.zip...\n",
      "Copying gs://transfer-amlproject/220602_MP10090_fastq/Reports/20220602_33_MYB-dTAG_1h_THP1_DMSO_A_MP10090_S79_R2_001_fastqc.html...\n",
      "Copying gs://transfer-amlproject/220602_MP10090_fastq/Reports/20220602_34_MYB-dTAG_1h_THP1_DMSO_B_MP10090_S80_R1_001_fastqc.html...\n",
      "Copying gs://transfer-amlproject/220602_MP10090_fastq/Reports/20220602_34_MYB-dTAG_1h_THP1_DMSO_B_MP10090_S80_R1_001_fastqc.zip...\n",
      "Copying gs://transfer-amlproject/220602_MP10090_fastq/Reports/20220602_35_MYB-dTAG_1h_THP1_DMSO_C_MP10090_S81_R1_001_fastqc.html...\n",
      "Copying gs://transfer-amlproject/220602_MP10090_fastq/Reports/20220602_34_MYB-dTAG_1h_THP1_DMSO_B_MP10090_S80_R2_001_fastqc.zip...\n",
      "Copying gs://transfer-amlproject/220602_MP10090_fastq/Reports/20220602_35_MYB-dTAG_1h_THP1_DMSO_C_MP10090_S81_R1_001_fastqc.zip...\n",
      "Copying gs://transfer-amlproject/220602_MP10090_fastq/Reports/20220602_34_MYB-dTAG_1h_THP1_DMSO_B_MP10090_S80_R2_001_fastqc.html...\n",
      "Copying gs://transfer-amlproject/220602_MP10090_fastq/Reports/20220602_35_MYB-dTAG_1h_THP1_DMSO_C_MP10090_S81_R2_001_fastqc.html...\n",
      "Copying gs://transfer-amlproject/220602_MP10090_fastq/Reports/20220602_36_MYB-dTAG_1h_THP1_DMSO_D_MP10090_S82_R1_001_fastqc.zip...\n",
      "Copying gs://transfer-amlproject/220602_MP10090_fastq/Reports/20220602_35_MYB-dTAG_1h_THP1_DMSO_C_MP10090_S81_R2_001_fastqc.zip...\n",
      "Copying gs://transfer-amlproject/220602_MP10090_fastq/Reports/20220602_36_MYB-dTAG_1h_THP1_DMSO_D_MP10090_S82_R2_001_fastqc.zip...\n",
      "Copying gs://transfer-amlproject/220602_MP10090_fastq/Reports/20220602_36_MYB-dTAG_1h_THP1_DMSO_D_MP10090_S82_R1_001_fastqc.html...\n",
      "Copying gs://transfer-amlproject/220602_MP10090_fastq/Reports/20220602_37_MYB-dTAG_1h_THP1_VHL_A_MP10090_S83_R1_001_fastqc.html...\n",
      "Copying gs://transfer-amlproject/220602_MP10090_fastq/Reports/20220602_36_MYB-dTAG_1h_THP1_DMSO_D_MP10090_S82_R2_001_fastqc.html...\n",
      "Copying gs://transfer-amlproject/220602_MP10090_fastq/Reports/20220602_37_MYB-dTAG_1h_THP1_VHL_A_MP10090_S83_R2_001_fastqc.html...\n",
      "Copying gs://transfer-amlproject/220602_MP10090_fastq/Reports/20220602_37_MYB-dTAG_1h_THP1_VHL_A_MP10090_S83_R1_001_fastqc.zip...\n",
      "Copying gs://transfer-amlproject/220602_MP10090_fastq/Reports/20220602_37_MYB-dTAG_1h_THP1_VHL_A_MP10090_S83_R2_001_fastqc.zip...\n",
      "Copying gs://transfer-amlproject/220602_MP10090_fastq/Reports/20220602_38_MYB-dTAG_1h_THP1_VHL_B_MP10090_S84_R1_001_fastqc.html...\n",
      "Copying gs://transfer-amlproject/220602_MP10090_fastq/Reports/20220602_38_MYB-dTAG_1h_THP1_VHL_B_MP10090_S84_R1_001_fastqc.zip...\n",
      "Copying gs://transfer-amlproject/220602_MP10090_fastq/Reports/20220602_38_MYB-dTAG_1h_THP1_VHL_B_MP10090_S84_R2_001_fastqc.zip...\n",
      "Copying gs://transfer-amlproject/220602_MP10090_fastq/Reports/20220602_38_MYB-dTAG_1h_THP1_VHL_B_MP10090_S84_R2_001_fastqc.html...\n",
      "Copying gs://transfer-amlproject/220602_MP10090_fastq/Reports/20220602_3_MYB-dTAG_1h_MV411_DMSO_C_MP10090_S50_R1_001_fastqc.html...\n",
      "Copying gs://transfer-amlproject/220602_MP10090_fastq/Reports/20220602_39_MYB-dTAG_1h_THP1_VHL_C_MP10090_S85_R1_001_fastqc.html...\n",
      "Copying gs://transfer-amlproject/220602_MP10090_fastq/Reports/20220602_39_MYB-dTAG_1h_THP1_VHL_C_MP10090_S85_R1_001_fastqc.zip...\n",
      "Copying gs://transfer-amlproject/220602_MP10090_fastq/Reports/20220602_39_MYB-dTAG_1h_THP1_VHL_C_MP10090_S85_R2_001_fastqc.html...\n",
      "Copying gs://transfer-amlproject/220602_MP10090_fastq/Reports/20220602_3_MYB-dTAG_1h_MV411_DMSO_C_MP10090_S50_R1_001_fastqc.zip...\n",
      "Copying gs://transfer-amlproject/220602_MP10090_fastq/Reports/20220602_3_MYB-dTAG_1h_MV411_DMSO_C_MP10090_S50_R2_001_fastqc.html...\n",
      "Copying gs://transfer-amlproject/220602_MP10090_fastq/Reports/20220602_39_MYB-dTAG_1h_THP1_VHL_C_MP10090_S85_R2_001_fastqc.zip...\n",
      "Copying gs://transfer-amlproject/220602_MP10090_fastq/Reports/20220602_3_MYB-dTAG_1h_MV411_DMSO_C_MP10090_S50_R2_001_fastqc.zip...\n",
      "Copying gs://transfer-amlproject/220602_MP10090_fastq/Reports/20220602_40_MYB-dTAG_1h_THP1_VHL_D_MP10090_S86_R1_001_fastqc.zip...\n"
     ]
    },
    {
     "name": "stdout",
     "output_type": "stream",
     "text": [
      "Copying gs://transfer-amlproject/220602_MP10090_fastq/Reports/20220602_40_MYB-dTAG_1h_THP1_VHL_D_MP10090_S86_R1_001_fastqc.html...\n",
      "Copying gs://transfer-amlproject/220602_MP10090_fastq/Reports/20220602_40_MYB-dTAG_1h_THP1_VHL_D_MP10090_S86_R2_001_fastqc.zip...\n",
      "Copying gs://transfer-amlproject/220602_MP10090_fastq/Reports/20220602_40_MYB-dTAG_1h_THP1_VHL_D_MP10090_S86_R2_001_fastqc.html...\n",
      "Copying gs://transfer-amlproject/220602_MP10090_fastq/Reports/20220602_4_MYB-dTAG_1h_MV411_DMSO_D_MP10090_S51_R1_001_fastqc.html...\n",
      "Copying gs://transfer-amlproject/220602_MP10090_fastq/Reports/20220602_4_MYB-dTAG_1h_MV411_DMSO_D_MP10090_S51_R1_001_fastqc.zip...\n",
      "Copying gs://transfer-amlproject/220602_MP10090_fastq/Reports/20220602_4_MYB-dTAG_1h_MV411_DMSO_D_MP10090_S51_R2_001_fastqc.html...\n",
      "Copying gs://transfer-amlproject/220602_MP10090_fastq/Reports/20220602_4_MYB-dTAG_1h_MV411_DMSO_D_MP10090_S51_R2_001_fastqc.zip...\n",
      "Copying gs://transfer-amlproject/220602_MP10090_fastq/Reports/20220602_5_MYB-dTAG_1h_MV411_VHL_A_MP10090_S52_R1_001_fastqc.html...\n",
      "Copying gs://transfer-amlproject/220602_MP10090_fastq/Reports/20220602_5_MYB-dTAG_1h_MV411_VHL_A_MP10090_S52_R1_001_fastqc.zip...\n",
      "Copying gs://transfer-amlproject/220602_MP10090_fastq/Reports/20220602_5_MYB-dTAG_1h_MV411_VHL_A_MP10090_S52_R2_001_fastqc.html...\n",
      "Copying gs://transfer-amlproject/220602_MP10090_fastq/Reports/20220602_5_MYB-dTAG_1h_MV411_VHL_A_MP10090_S52_R2_001_fastqc.zip...\n",
      "Copying gs://transfer-amlproject/220602_MP10090_fastq/Reports/20220602_7_MYB-dTAG_1h_MV411_VHL_C_MP10090_S53_R2_001_fastqc.html...\n",
      "Copying gs://transfer-amlproject/220602_MP10090_fastq/Reports/20220602_7_MYB-dTAG_1h_MV411_VHL_C_MP10090_S53_R2_001_fastqc.zip...\n",
      "Copying gs://transfer-amlproject/220602_MP10090_fastq/Reports/20220602_7_MYB-dTAG_1h_MV411_VHL_C_MP10090_S53_R1_001_fastqc.html...\n",
      "Copying gs://transfer-amlproject/220602_MP10090_fastq/Reports/20220602_7_MYB-dTAG_1h_MV411_VHL_C_MP10090_S53_R1_001_fastqc.zip...\n",
      "Copying gs://transfer-amlproject/220602_MP10090_fastq/Reports/20220602_8_MYB-dTAG_1h_MV411_VHL_D_MP10090_S54_R1_001_fastqc.zip...\n",
      "Copying gs://transfer-amlproject/220602_MP10090_fastq/Reports/20220602_8_MYB-dTAG_1h_MV411_VHL_D_MP10090_S54_R1_001_fastqc.html...\n",
      "Copying gs://transfer-amlproject/220602_MP10090_fastq/Reports/20220602_8_MYB-dTAG_1h_MV411_VHL_D_MP10090_S54_R2_001_fastqc.html...\n",
      "Copying gs://transfer-amlproject/220602_MP10090_fastq/Reports/20220602_8_MYB-dTAG_1h_MV411_VHL_D_MP10090_S54_R2_001_fastqc.zip...\n",
      "Copying gs://transfer-amlproject/220602_MP10090_fastq/Reports/20220602_9_MYB-dTAG_1h_MONOMAC1_DMSO_A_MP10090_S55_R1_001_fastqc.html...\n",
      "Copying gs://transfer-amlproject/220602_MP10090_fastq/Reports/20220602_9_MYB-dTAG_1h_MONOMAC1_DMSO_A_MP10090_S55_R1_001_fastqc.zip...\n",
      "Copying gs://transfer-amlproject/220602_MP10090_fastq/Reports/20220602_9_MYB-dTAG_1h_MONOMAC1_DMSO_A_MP10090_S55_R2_001_fastqc.zip...\n",
      "Copying gs://transfer-amlproject/220602_MP10090_fastq/Reports/20220602_9_MYB-dTAG_1h_MONOMAC1_DMSO_A_MP10090_S55_R2_001_fastqc.html...\n",
      "- [156/156 files][ 73.0 MiB/ 73.0 MiB] 100% Done                                \n",
      "Operation completed over 156 objects/73.0 MiB.                                   \n",
      "Copying gs://transfer-amlproject/220602_MP10090_fastq/multiqc_data/multiqc.log...\n",
      "Copying gs://transfer-amlproject/220602_MP10090_fastq/multiqc_data/multiqc_data.json...\n",
      "Copying gs://transfer-amlproject/220602_MP10090_fastq/multiqc_data/multiqc_fastqc.txt...\n",
      "Copying gs://transfer-amlproject/220602_MP10090_fastq/multiqc_data/multiqc_general_stats.txt...\n",
      "Copying gs://transfer-amlproject/220602_MP10090_fastq/multiqc_data/multiqc_qualimap_bamqc_genome_results.txt...\n",
      "Copying gs://transfer-amlproject/220602_MP10090_fastq/multiqc_data/multiqc_sources.txt...\n",
      "/ [6/6 files][  4.7 MiB/  4.7 MiB] 100% Done                                    \n",
      "Operation completed over 6 objects/4.7 MiB.                                      \n"
     ]
    }
   ],
   "source": [
    "# transfer qc files\n",
    "! gsutil -m cp gs://transfer-amlproject/$loc/multiqc_report.html $location/qc/\n",
    "! gsutil -m cp -r gs://transfer-amlproject/$loc/Reports/ $location/qc/\n",
    "! gsutil -m cp -r gs://transfer-amlproject/$loc/multiqc_data/ $location/qc/"
   ]
  },
  {
   "cell_type": "code",
   "execution_count": 13,
   "id": "f9b9bc57",
   "metadata": {},
   "outputs": [],
   "source": [
    "! cp $location/qc/multiqc_report.html ../results/slamseq_$project"
   ]
  },
  {
   "cell_type": "code",
   "execution_count": 35,
   "id": "3e8aea5d",
   "metadata": {},
   "outputs": [],
   "source": [
    "fastqs = ! gsutil ls gs://transfer-amlproject/$loc/*.gz"
   ]
  },
  {
   "cell_type": "markdown",
   "id": "fbbd665e",
   "metadata": {},
   "source": [
    "add sample names to AML sample tracker google sheet (RNA_tracker_JK)"
   ]
  },
  {
   "cell_type": "markdown",
   "id": "0840f6bd",
   "metadata": {},
   "source": [
    "__6_MYB-dTAG_1h_MV411_VHL_B__: failed initial QC (not enough RNA)"
   ]
  },
  {
   "cell_type": "code",
   "execution_count": 36,
   "id": "b100f1ed",
   "metadata": {
    "collapsed": true
   },
   "outputs": [
    {
     "name": "stdout",
     "output_type": "stream",
     "text": [
      "78\n"
     ]
    },
    {
     "data": {
      "text/plain": [
       "['gs://transfer-amlproject/220602_MP10090_fastq/20220602_10_MYB-dTAG_1h_MONOMAC1_DMSO_B_MP10090_S56',\n",
       " 'gs://transfer-amlproject/220602_MP10090_fastq/20220602_11_MYB-dTAG_1h_MONOMAC1_DMSO_C_MP10090_S57',\n",
       " 'gs://transfer-amlproject/220602_MP10090_fastq/20220602_12_MYB-dTAG_1h_MONOMAC1_DMSO_D_MP10090_S58',\n",
       " 'gs://transfer-amlproject/220602_MP10090_fastq/20220602_13_MYB-dTAG_1h_MONOMAC1_VHL_A_MP10090_S59',\n",
       " 'gs://transfer-amlproject/220602_MP10090_fastq/20220602_14_MYB-dTAG_1h_MONOMAC1_VHL_B_MP10090_S60',\n",
       " 'gs://transfer-amlproject/220602_MP10090_fastq/20220602_15_MYB-dTAG_1h_MONOMAC1_VHL_C_MP10090_S61',\n",
       " 'gs://transfer-amlproject/220602_MP10090_fastq/20220602_16_MYB-dTAG_1h_MONOMAC1_VHL_D_MP10090_S62',\n",
       " 'gs://transfer-amlproject/220602_MP10090_fastq/20220602_17_MYB-dTAG_1h_NOMO1_DMSO_A_MP10090_S63',\n",
       " 'gs://transfer-amlproject/220602_MP10090_fastq/20220602_18_MYB-dTAG_1h_NOMO1_DMSO_B_MP10090_S64',\n",
       " 'gs://transfer-amlproject/220602_MP10090_fastq/20220602_19_MYB-dTAG_1h_NOMO1_DMSO_C_MP10090_S65',\n",
       " 'gs://transfer-amlproject/220602_MP10090_fastq/20220602_1_MYB-dTAG_1h_MV411_DMSO_A_MP10090_S48',\n",
       " 'gs://transfer-amlproject/220602_MP10090_fastq/20220602_20_MYB-dTAG_1h_NOMO1_DMSO_D_MP10090_S66',\n",
       " 'gs://transfer-amlproject/220602_MP10090_fastq/20220602_21_MYB-dTAG_1h_NOMO1_VHL_A_MP10090_S67',\n",
       " 'gs://transfer-amlproject/220602_MP10090_fastq/20220602_22_MYB-dTAG_1h_NOMO1_VHL_B_MP10090_S68',\n",
       " 'gs://transfer-amlproject/220602_MP10090_fastq/20220602_23_MYB-dTAG_1h_NOMO1_VHL_C_MP10090_S69',\n",
       " 'gs://transfer-amlproject/220602_MP10090_fastq/20220602_24_MYB-dTAG_1h_NOMO1_VHL_D_MP10090_S70',\n",
       " 'gs://transfer-amlproject/220602_MP10090_fastq/20220602_25_MYB-dTAG_1h_P31FUJ_DMSO_A_MP10090_S71',\n",
       " 'gs://transfer-amlproject/220602_MP10090_fastq/20220602_26_MYB-dTAG_1h_P31FUJ_DMSO_B_MP10090_S72',\n",
       " 'gs://transfer-amlproject/220602_MP10090_fastq/20220602_27_MYB-dTAG_1h_P31FUJ_DMSO_C_MP10090_S73',\n",
       " 'gs://transfer-amlproject/220602_MP10090_fastq/20220602_28_MYB-dTAG_1h_P31FUJ_DMSO_D_MP10090_S74',\n",
       " 'gs://transfer-amlproject/220602_MP10090_fastq/20220602_29_MYB-dTAG_1h_P31FUJ_VHL_A_MP10090_S75',\n",
       " 'gs://transfer-amlproject/220602_MP10090_fastq/20220602_2_MYB-dTAG_1h_MV411_DMSO_B_MP10090_S49',\n",
       " 'gs://transfer-amlproject/220602_MP10090_fastq/20220602_30_MYB-dTAG_1h_P31FUJ_VHL_B_MP10090_S76',\n",
       " 'gs://transfer-amlproject/220602_MP10090_fastq/20220602_31_MYB-dTAG_1h_P31FUJ_VHL_C_MP10090_S77',\n",
       " 'gs://transfer-amlproject/220602_MP10090_fastq/20220602_32_MYB-dTAG_1h_P31FUJ_VHL_D_MP10090_S78',\n",
       " 'gs://transfer-amlproject/220602_MP10090_fastq/20220602_33_MYB-dTAG_1h_THP1_DMSO_A_MP10090_S79',\n",
       " 'gs://transfer-amlproject/220602_MP10090_fastq/20220602_34_MYB-dTAG_1h_THP1_DMSO_B_MP10090_S80',\n",
       " 'gs://transfer-amlproject/220602_MP10090_fastq/20220602_35_MYB-dTAG_1h_THP1_DMSO_C_MP10090_S81',\n",
       " 'gs://transfer-amlproject/220602_MP10090_fastq/20220602_36_MYB-dTAG_1h_THP1_DMSO_D_MP10090_S82',\n",
       " 'gs://transfer-amlproject/220602_MP10090_fastq/20220602_37_MYB-dTAG_1h_THP1_VHL_A_MP10090_S83',\n",
       " 'gs://transfer-amlproject/220602_MP10090_fastq/20220602_38_MYB-dTAG_1h_THP1_VHL_B_MP10090_S84',\n",
       " 'gs://transfer-amlproject/220602_MP10090_fastq/20220602_39_MYB-dTAG_1h_THP1_VHL_C_MP10090_S85',\n",
       " 'gs://transfer-amlproject/220602_MP10090_fastq/20220602_3_MYB-dTAG_1h_MV411_DMSO_C_MP10090_S50',\n",
       " 'gs://transfer-amlproject/220602_MP10090_fastq/20220602_40_MYB-dTAG_1h_THP1_VHL_D_MP10090_S86',\n",
       " 'gs://transfer-amlproject/220602_MP10090_fastq/20220602_4_MYB-dTAG_1h_MV411_DMSO_D_MP10090_S51',\n",
       " 'gs://transfer-amlproject/220602_MP10090_fastq/20220602_5_MYB-dTAG_1h_MV411_VHL_A_MP10090_S52',\n",
       " 'gs://transfer-amlproject/220602_MP10090_fastq/20220602_7_MYB-dTAG_1h_MV411_VHL_C_MP10090_S53',\n",
       " 'gs://transfer-amlproject/220602_MP10090_fastq/20220602_8_MYB-dTAG_1h_MV411_VHL_D_MP10090_S54',\n",
       " 'gs://transfer-amlproject/220602_MP10090_fastq/20220602_9_MYB-dTAG_1h_MONOMAC1_DMSO_A_MP10090_S55']"
      ]
     },
     "execution_count": 36,
     "metadata": {},
     "output_type": "execute_result"
    }
   ],
   "source": [
    "print(len(fastqs))\n",
    "[f.split(\"_R\")[0] for f in fastqs[::2]]"
   ]
  },
  {
   "cell_type": "code",
   "execution_count": 40,
   "id": "9fa47c64",
   "metadata": {
    "collapsed": true
   },
   "outputs": [
    {
     "name": "stdout",
     "output_type": "stream",
     "text": [
      "20220602_1_MYB-dTAG_1h_MV411_DMSO_A_MP10090_S48\n",
      "20220602_2_MYB-dTAG_1h_MV411_DMSO_B_MP10090_S49\n",
      "20220602_3_MYB-dTAG_1h_MV411_DMSO_C_MP10090_S50\n",
      "20220602_4_MYB-dTAG_1h_MV411_DMSO_D_MP10090_S51\n",
      "20220602_5_MYB-dTAG_1h_MV411_VHL_A_MP10090_S52\n",
      "20220602_7_MYB-dTAG_1h_MV411_VHL_C_MP10090_S53\n",
      "20220602_8_MYB-dTAG_1h_MV411_VHL_D_MP10090_S54\n",
      "20220602_9_MYB-dTAG_1h_MONOMAC1_DMSO_A_MP10090_S55\n",
      "20220602_10_MYB-dTAG_1h_MONOMAC1_DMSO_B_MP10090_S56\n",
      "20220602_11_MYB-dTAG_1h_MONOMAC1_DMSO_C_MP10090_S57\n",
      "20220602_12_MYB-dTAG_1h_MONOMAC1_DMSO_D_MP10090_S58\n",
      "20220602_13_MYB-dTAG_1h_MONOMAC1_VHL_A_MP10090_S59\n",
      "20220602_14_MYB-dTAG_1h_MONOMAC1_VHL_B_MP10090_S60\n",
      "20220602_15_MYB-dTAG_1h_MONOMAC1_VHL_C_MP10090_S61\n",
      "20220602_16_MYB-dTAG_1h_MONOMAC1_VHL_D_MP10090_S62\n",
      "20220602_17_MYB-dTAG_1h_NOMO1_DMSO_A_MP10090_S63\n",
      "20220602_18_MYB-dTAG_1h_NOMO1_DMSO_B_MP10090_S64\n",
      "20220602_19_MYB-dTAG_1h_NOMO1_DMSO_C_MP10090_S65\n",
      "20220602_20_MYB-dTAG_1h_NOMO1_DMSO_D_MP10090_S66\n",
      "20220602_21_MYB-dTAG_1h_NOMO1_VHL_A_MP10090_S67\n",
      "20220602_22_MYB-dTAG_1h_NOMO1_VHL_B_MP10090_S68\n",
      "20220602_23_MYB-dTAG_1h_NOMO1_VHL_C_MP10090_S69\n",
      "20220602_24_MYB-dTAG_1h_NOMO1_VHL_D_MP10090_S70\n",
      "20220602_25_MYB-dTAG_1h_P31FUJ_DMSO_A_MP10090_S71\n",
      "20220602_26_MYB-dTAG_1h_P31FUJ_DMSO_B_MP10090_S72\n",
      "20220602_27_MYB-dTAG_1h_P31FUJ_DMSO_C_MP10090_S73\n",
      "20220602_28_MYB-dTAG_1h_P31FUJ_DMSO_D_MP10090_S74\n",
      "20220602_29_MYB-dTAG_1h_P31FUJ_VHL_A_MP10090_S75\n",
      "20220602_30_MYB-dTAG_1h_P31FUJ_VHL_B_MP10090_S76\n",
      "20220602_31_MYB-dTAG_1h_P31FUJ_VHL_C_MP10090_S77\n",
      "20220602_32_MYB-dTAG_1h_P31FUJ_VHL_D_MP10090_S78\n",
      "20220602_33_MYB-dTAG_1h_THP1_DMSO_A_MP10090_S79\n",
      "20220602_34_MYB-dTAG_1h_THP1_DMSO_B_MP10090_S80\n",
      "20220602_35_MYB-dTAG_1h_THP1_DMSO_C_MP10090_S81\n",
      "20220602_36_MYB-dTAG_1h_THP1_DMSO_D_MP10090_S82\n",
      "20220602_37_MYB-dTAG_1h_THP1_VHL_A_MP10090_S83\n",
      "20220602_38_MYB-dTAG_1h_THP1_VHL_B_MP10090_S84\n",
      "20220602_39_MYB-dTAG_1h_THP1_VHL_C_MP10090_S85\n",
      "20220602_40_MYB-dTAG_1h_THP1_VHL_D_MP10090_S86\n"
     ]
    }
   ],
   "source": [
    "fastqs = [fastq.split(\"/\")[-1] for fastq in os_sorted(fastqs)]\n",
    "# add sample names to AML sample tracker google sheet\n",
    "for val1, val2 in h.grouped(fastqs, 2):\n",
    "    print(val1.split(\"_R\")[0])"
   ]
  },
  {
   "cell_type": "code",
   "execution_count": 41,
   "id": "4523ff19",
   "metadata": {
    "collapsed": true
   },
   "outputs": [
    {
     "name": "stdout",
     "output_type": "stream",
     "text": [
      "Copying gs://transfer-amlproject/220602_MP10090_fastq/20220602_11_MYB-dTAG_1h_MONOMAC1_DMSO_C_MP10090_S57_R1_001.fastq.gz...\n",
      "Copying gs://transfer-amlproject/220602_MP10090_fastq/20220602_10_MYB-dTAG_1h_MONOMAC1_DMSO_B_MP10090_S56_R2_001.fastq.gz...\n",
      "Copying gs://transfer-amlproject/220602_MP10090_fastq/20220602_10_MYB-dTAG_1h_MONOMAC1_DMSO_B_MP10090_S56_R1_001.fastq.gz...\n",
      "Copying gs://transfer-amlproject/220602_MP10090_fastq/20220602_11_MYB-dTAG_1h_MONOMAC1_DMSO_C_MP10090_S57_R2_001.fastq.gz...\n",
      "Copying gs://transfer-amlproject/220602_MP10090_fastq/20220602_12_MYB-dTAG_1h_MONOMAC1_DMSO_D_MP10090_S58_R1_001.fastq.gz...\n",
      "Copying gs://transfer-amlproject/220602_MP10090_fastq/20220602_12_MYB-dTAG_1h_MONOMAC1_DMSO_D_MP10090_S58_R2_001.fastq.gz...\n",
      "Copying gs://transfer-amlproject/220602_MP10090_fastq/20220602_13_MYB-dTAG_1h_MONOMAC1_VHL_A_MP10090_S59_R2_001.fastq.gz...\n",
      "Copying gs://transfer-amlproject/220602_MP10090_fastq/20220602_14_MYB-dTAG_1h_MONOMAC1_VHL_B_MP10090_S60_R1_001.fastq.gz...\n",
      "Copying gs://transfer-amlproject/220602_MP10090_fastq/20220602_14_MYB-dTAG_1h_MONOMAC1_VHL_B_MP10090_S60_R2_001.fastq.gz...\n",
      "Copying gs://transfer-amlproject/220602_MP10090_fastq/20220602_15_MYB-dTAG_1h_MONOMAC1_VHL_C_MP10090_S61_R1_001.fastq.gz...\n",
      "Copying gs://transfer-amlproject/220602_MP10090_fastq/20220602_15_MYB-dTAG_1h_MONOMAC1_VHL_C_MP10090_S61_R2_001.fastq.gz...\n",
      "Copying gs://transfer-amlproject/220602_MP10090_fastq/20220602_16_MYB-dTAG_1h_MONOMAC1_VHL_D_MP10090_S62_R1_001.fastq.gz...\n",
      "Copying gs://transfer-amlproject/220602_MP10090_fastq/20220602_16_MYB-dTAG_1h_MONOMAC1_VHL_D_MP10090_S62_R2_001.fastq.gz...\n",
      "Copying gs://transfer-amlproject/220602_MP10090_fastq/20220602_17_MYB-dTAG_1h_NOMO1_DMSO_A_MP10090_S63_R1_001.fastq.gz...\n",
      "Copying gs://transfer-amlproject/220602_MP10090_fastq/20220602_13_MYB-dTAG_1h_MONOMAC1_VHL_A_MP10090_S59_R1_001.fastq.gz...\n",
      "Copying gs://transfer-amlproject/220602_MP10090_fastq/20220602_17_MYB-dTAG_1h_NOMO1_DMSO_A_MP10090_S63_R2_001.fastq.gz...\n",
      "Copying gs://transfer-amlproject/220602_MP10090_fastq/20220602_18_MYB-dTAG_1h_NOMO1_DMSO_B_MP10090_S64_R1_001.fastq.gz...\n",
      "Copying gs://transfer-amlproject/220602_MP10090_fastq/20220602_1_MYB-dTAG_1h_MV411_DMSO_A_MP10090_S48_R1_001.fastq.gz...\n",
      "Copying gs://transfer-amlproject/220602_MP10090_fastq/20220602_19_MYB-dTAG_1h_NOMO1_DMSO_C_MP10090_S65_R1_001.fastq.gz...\n",
      "Copying gs://transfer-amlproject/220602_MP10090_fastq/20220602_19_MYB-dTAG_1h_NOMO1_DMSO_C_MP10090_S65_R2_001.fastq.gz...\n",
      "Copying gs://transfer-amlproject/220602_MP10090_fastq/20220602_18_MYB-dTAG_1h_NOMO1_DMSO_B_MP10090_S64_R2_001.fastq.gz...\n",
      "Copying gs://transfer-amlproject/220602_MP10090_fastq/20220602_1_MYB-dTAG_1h_MV411_DMSO_A_MP10090_S48_R2_001.fastq.gz...\n",
      "Copying gs://transfer-amlproject/220602_MP10090_fastq/20220602_20_MYB-dTAG_1h_NOMO1_DMSO_D_MP10090_S66_R1_001.fastq.gz...\n",
      "Copying gs://transfer-amlproject/220602_MP10090_fastq/20220602_20_MYB-dTAG_1h_NOMO1_DMSO_D_MP10090_S66_R2_001.fastq.gz...\n",
      "Copying gs://transfer-amlproject/220602_MP10090_fastq/20220602_21_MYB-dTAG_1h_NOMO1_VHL_A_MP10090_S67_R1_001.fastq.gz...\n",
      "Copying gs://transfer-amlproject/220602_MP10090_fastq/20220602_21_MYB-dTAG_1h_NOMO1_VHL_A_MP10090_S67_R2_001.fastq.gz...\n",
      "Copying gs://transfer-amlproject/220602_MP10090_fastq/20220602_22_MYB-dTAG_1h_NOMO1_VHL_B_MP10090_S68_R1_001.fastq.gz...\n",
      "Copying gs://transfer-amlproject/220602_MP10090_fastq/20220602_25_MYB-dTAG_1h_P31FUJ_DMSO_A_MP10090_S71_R1_001.fastq.gz...\n",
      "Copying gs://transfer-amlproject/220602_MP10090_fastq/20220602_22_MYB-dTAG_1h_NOMO1_VHL_B_MP10090_S68_R2_001.fastq.gz...\n",
      "Copying gs://transfer-amlproject/220602_MP10090_fastq/20220602_23_MYB-dTAG_1h_NOMO1_VHL_C_MP10090_S69_R1_001.fastq.gz...\n",
      "Copying gs://transfer-amlproject/220602_MP10090_fastq/20220602_24_MYB-dTAG_1h_NOMO1_VHL_D_MP10090_S70_R1_001.fastq.gz...\n",
      "Copying gs://transfer-amlproject/220602_MP10090_fastq/20220602_26_MYB-dTAG_1h_P31FUJ_DMSO_B_MP10090_S72_R1_001.fastq.gz...\n",
      "Copying gs://transfer-amlproject/220602_MP10090_fastq/20220602_23_MYB-dTAG_1h_NOMO1_VHL_C_MP10090_S69_R2_001.fastq.gz...\n",
      "Copying gs://transfer-amlproject/220602_MP10090_fastq/20220602_27_MYB-dTAG_1h_P31FUJ_DMSO_C_MP10090_S73_R1_001.fastq.gz...\n",
      "Copying gs://transfer-amlproject/220602_MP10090_fastq/20220602_24_MYB-dTAG_1h_NOMO1_VHL_D_MP10090_S70_R2_001.fastq.gz...\n",
      "Copying gs://transfer-amlproject/220602_MP10090_fastq/20220602_25_MYB-dTAG_1h_P31FUJ_DMSO_A_MP10090_S71_R2_001.fastq.gz...\n",
      "Copying gs://transfer-amlproject/220602_MP10090_fastq/20220602_28_MYB-dTAG_1h_P31FUJ_DMSO_D_MP10090_S74_R1_001.fastq.gz...\n",
      "Copying gs://transfer-amlproject/220602_MP10090_fastq/20220602_26_MYB-dTAG_1h_P31FUJ_DMSO_B_MP10090_S72_R2_001.fastq.gz...\n",
      "Copying gs://transfer-amlproject/220602_MP10090_fastq/20220602_27_MYB-dTAG_1h_P31FUJ_DMSO_C_MP10090_S73_R2_001.fastq.gz...\n",
      "Copying gs://transfer-amlproject/220602_MP10090_fastq/20220602_28_MYB-dTAG_1h_P31FUJ_DMSO_D_MP10090_S74_R2_001.fastq.gz...\n",
      "Copying gs://transfer-amlproject/220602_MP10090_fastq/20220602_29_MYB-dTAG_1h_P31FUJ_VHL_A_MP10090_S75_R1_001.fastq.gz...\n",
      "Copying gs://transfer-amlproject/220602_MP10090_fastq/20220602_29_MYB-dTAG_1h_P31FUJ_VHL_A_MP10090_S75_R2_001.fastq.gz...\n",
      "Copying gs://transfer-amlproject/220602_MP10090_fastq/20220602_2_MYB-dTAG_1h_MV411_DMSO_B_MP10090_S49_R1_001.fastq.gz...\n",
      "Copying gs://transfer-amlproject/220602_MP10090_fastq/20220602_2_MYB-dTAG_1h_MV411_DMSO_B_MP10090_S49_R2_001.fastq.gz...\n",
      "Copying gs://transfer-amlproject/220602_MP10090_fastq/20220602_30_MYB-dTAG_1h_P31FUJ_VHL_B_MP10090_S76_R1_001.fastq.gz...\n",
      "Copying gs://transfer-amlproject/220602_MP10090_fastq/20220602_30_MYB-dTAG_1h_P31FUJ_VHL_B_MP10090_S76_R2_001.fastq.gz...\n",
      "Copying gs://transfer-amlproject/220602_MP10090_fastq/20220602_31_MYB-dTAG_1h_P31FUJ_VHL_C_MP10090_S77_R1_001.fastq.gz...\n",
      "Copying gs://transfer-amlproject/220602_MP10090_fastq/20220602_31_MYB-dTAG_1h_P31FUJ_VHL_C_MP10090_S77_R2_001.fastq.gz...\n",
      "Copying gs://transfer-amlproject/220602_MP10090_fastq/20220602_32_MYB-dTAG_1h_P31FUJ_VHL_D_MP10090_S78_R1_001.fastq.gz...\n",
      "Copying gs://transfer-amlproject/220602_MP10090_fastq/20220602_32_MYB-dTAG_1h_P31FUJ_VHL_D_MP10090_S78_R2_001.fastq.gz...\n",
      "Copying gs://transfer-amlproject/220602_MP10090_fastq/20220602_33_MYB-dTAG_1h_THP1_DMSO_A_MP10090_S79_R1_001.fastq.gz...\n",
      "Copying gs://transfer-amlproject/220602_MP10090_fastq/20220602_33_MYB-dTAG_1h_THP1_DMSO_A_MP10090_S79_R2_001.fastq.gz...\n",
      "Copying gs://transfer-amlproject/220602_MP10090_fastq/20220602_34_MYB-dTAG_1h_THP1_DMSO_B_MP10090_S80_R1_001.fastq.gz...\n",
      "Copying gs://transfer-amlproject/220602_MP10090_fastq/20220602_34_MYB-dTAG_1h_THP1_DMSO_B_MP10090_S80_R2_001.fastq.gz...\n",
      "Copying gs://transfer-amlproject/220602_MP10090_fastq/20220602_35_MYB-dTAG_1h_THP1_DMSO_C_MP10090_S81_R1_001.fastq.gz...\n",
      "Copying gs://transfer-amlproject/220602_MP10090_fastq/20220602_35_MYB-dTAG_1h_THP1_DMSO_C_MP10090_S81_R2_001.fastq.gz...\n",
      "Copying gs://transfer-amlproject/220602_MP10090_fastq/20220602_36_MYB-dTAG_1h_THP1_DMSO_D_MP10090_S82_R1_001.fastq.gz...\n",
      "Copying gs://transfer-amlproject/220602_MP10090_fastq/20220602_36_MYB-dTAG_1h_THP1_DMSO_D_MP10090_S82_R2_001.fastq.gz...\n",
      "Copying gs://transfer-amlproject/220602_MP10090_fastq/20220602_37_MYB-dTAG_1h_THP1_VHL_A_MP10090_S83_R1_001.fastq.gz...\n",
      "Copying gs://transfer-amlproject/220602_MP10090_fastq/20220602_37_MYB-dTAG_1h_THP1_VHL_A_MP10090_S83_R2_001.fastq.gz...\n",
      "Copying gs://transfer-amlproject/220602_MP10090_fastq/20220602_38_MYB-dTAG_1h_THP1_VHL_B_MP10090_S84_R1_001.fastq.gz...\n",
      "Copying gs://transfer-amlproject/220602_MP10090_fastq/20220602_38_MYB-dTAG_1h_THP1_VHL_B_MP10090_S84_R2_001.fastq.gz...\n",
      "Copying gs://transfer-amlproject/220602_MP10090_fastq/20220602_39_MYB-dTAG_1h_THP1_VHL_C_MP10090_S85_R1_001.fastq.gz...\n",
      "Copying gs://transfer-amlproject/220602_MP10090_fastq/20220602_39_MYB-dTAG_1h_THP1_VHL_C_MP10090_S85_R2_001.fastq.gz...\n",
      "Copying gs://transfer-amlproject/220602_MP10090_fastq/20220602_3_MYB-dTAG_1h_MV411_DMSO_C_MP10090_S50_R1_001.fastq.gz...\n",
      "Copying gs://transfer-amlproject/220602_MP10090_fastq/20220602_3_MYB-dTAG_1h_MV411_DMSO_C_MP10090_S50_R2_001.fastq.gz...\n",
      "Copying gs://transfer-amlproject/220602_MP10090_fastq/20220602_40_MYB-dTAG_1h_THP1_VHL_D_MP10090_S86_R1_001.fastq.gz...\n",
      "Copying gs://transfer-amlproject/220602_MP10090_fastq/20220602_40_MYB-dTAG_1h_THP1_VHL_D_MP10090_S86_R2_001.fastq.gz...\n",
      "Copying gs://transfer-amlproject/220602_MP10090_fastq/20220602_4_MYB-dTAG_1h_MV411_DMSO_D_MP10090_S51_R1_001.fastq.gz...\n",
      "Copying gs://transfer-amlproject/220602_MP10090_fastq/20220602_4_MYB-dTAG_1h_MV411_DMSO_D_MP10090_S51_R2_001.fastq.gz...\n",
      "Copying gs://transfer-amlproject/220602_MP10090_fastq/20220602_5_MYB-dTAG_1h_MV411_VHL_A_MP10090_S52_R1_001.fastq.gz...\n",
      "Copying gs://transfer-amlproject/220602_MP10090_fastq/20220602_5_MYB-dTAG_1h_MV411_VHL_A_MP10090_S52_R2_001.fastq.gz...\n",
      "Copying gs://transfer-amlproject/220602_MP10090_fastq/20220602_7_MYB-dTAG_1h_MV411_VHL_C_MP10090_S53_R1_001.fastq.gz...\n",
      "Copying gs://transfer-amlproject/220602_MP10090_fastq/20220602_7_MYB-dTAG_1h_MV411_VHL_C_MP10090_S53_R2_001.fastq.gz...\n",
      "Copying gs://transfer-amlproject/220602_MP10090_fastq/20220602_8_MYB-dTAG_1h_MV411_VHL_D_MP10090_S54_R1_001.fastq.gz...\n",
      "Copying gs://transfer-amlproject/220602_MP10090_fastq/20220602_8_MYB-dTAG_1h_MV411_VHL_D_MP10090_S54_R2_001.fastq.gz...\n",
      "Copying gs://transfer-amlproject/220602_MP10090_fastq/20220602_9_MYB-dTAG_1h_MONOMAC1_DMSO_A_MP10090_S55_R1_001.fastq.gz...\n",
      "Copying gs://transfer-amlproject/220602_MP10090_fastq/20220602_9_MYB-dTAG_1h_MONOMAC1_DMSO_A_MP10090_S55_R2_001.fastq.gz...\n",
      "\\ [78/78 files][310.7 GiB/310.7 GiB] 100% Done  38.1 MiB/s ETA 00:00:00         \n",
      "Operation completed over 78 objects/310.7 GiB.                                   \n"
     ]
    }
   ],
   "source": [
    "# transfer fastqs\n",
    "! gsutil -m cp gs://transfer-amlproject/$loc/*.fastq.gz ../$location/fastqs/"
   ]
  },
  {
   "cell_type": "markdown",
   "id": "32eff4bd",
   "metadata": {},
   "source": [
    "## rename local fastqs"
   ]
  },
  {
   "cell_type": "code",
   "execution_count": 60,
   "id": "7a8ed95f",
   "metadata": {
    "collapsed": true
   },
   "outputs": [
    {
     "name": "stdout",
     "output_type": "stream",
     "text": [
      "../../data/slamseq_MYB_degraded_lines_v1/fastqs\n"
     ]
    },
    {
     "data": {
      "text/plain": [
       "['20220602_1_MYB-dTAG_1h_MV411_DMSO_A_MP10090_S48_R1_001.fastq.gz',\n",
       " '20220602_1_MYB-dTAG_1h_MV411_DMSO_A_MP10090_S48_R2_001.fastq.gz',\n",
       " '20220602_2_MYB-dTAG_1h_MV411_DMSO_B_MP10090_S49_R1_001.fastq.gz',\n",
       " '20220602_2_MYB-dTAG_1h_MV411_DMSO_B_MP10090_S49_R2_001.fastq.gz',\n",
       " '20220602_3_MYB-dTAG_1h_MV411_DMSO_C_MP10090_S50_R1_001.fastq.gz',\n",
       " '20220602_3_MYB-dTAG_1h_MV411_DMSO_C_MP10090_S50_R2_001.fastq.gz',\n",
       " '20220602_4_MYB-dTAG_1h_MV411_DMSO_D_MP10090_S51_R1_001.fastq.gz',\n",
       " '20220602_4_MYB-dTAG_1h_MV411_DMSO_D_MP10090_S51_R2_001.fastq.gz',\n",
       " '20220602_5_MYB-dTAG_1h_MV411_VHL_A_MP10090_S52_R1_001.fastq.gz',\n",
       " '20220602_5_MYB-dTAG_1h_MV411_VHL_A_MP10090_S52_R2_001.fastq.gz',\n",
       " '20220602_7_MYB-dTAG_1h_MV411_VHL_C_MP10090_S53_R1_001.fastq.gz',\n",
       " '20220602_7_MYB-dTAG_1h_MV411_VHL_C_MP10090_S53_R2_001.fastq.gz',\n",
       " '20220602_8_MYB-dTAG_1h_MV411_VHL_D_MP10090_S54_R1_001.fastq.gz',\n",
       " '20220602_8_MYB-dTAG_1h_MV411_VHL_D_MP10090_S54_R2_001.fastq.gz',\n",
       " '20220602_9_MYB-dTAG_1h_MONOMAC1_DMSO_A_MP10090_S55_R1_001.fastq.gz',\n",
       " '20220602_9_MYB-dTAG_1h_MONOMAC1_DMSO_A_MP10090_S55_R2_001.fastq.gz',\n",
       " '20220602_10_MYB-dTAG_1h_MONOMAC1_DMSO_B_MP10090_S56_R1_001.fastq.gz',\n",
       " '20220602_10_MYB-dTAG_1h_MONOMAC1_DMSO_B_MP10090_S56_R2_001.fastq.gz',\n",
       " '20220602_11_MYB-dTAG_1h_MONOMAC1_DMSO_C_MP10090_S57_R1_001.fastq.gz',\n",
       " '20220602_11_MYB-dTAG_1h_MONOMAC1_DMSO_C_MP10090_S57_R2_001.fastq.gz',\n",
       " '20220602_12_MYB-dTAG_1h_MONOMAC1_DMSO_D_MP10090_S58_R1_001.fastq.gz',\n",
       " '20220602_12_MYB-dTAG_1h_MONOMAC1_DMSO_D_MP10090_S58_R2_001.fastq.gz',\n",
       " '20220602_13_MYB-dTAG_1h_MONOMAC1_VHL_A_MP10090_S59_R1_001.fastq.gz',\n",
       " '20220602_13_MYB-dTAG_1h_MONOMAC1_VHL_A_MP10090_S59_R2_001.fastq.gz',\n",
       " '20220602_14_MYB-dTAG_1h_MONOMAC1_VHL_B_MP10090_S60_R1_001.fastq.gz',\n",
       " '20220602_14_MYB-dTAG_1h_MONOMAC1_VHL_B_MP10090_S60_R2_001.fastq.gz',\n",
       " '20220602_15_MYB-dTAG_1h_MONOMAC1_VHL_C_MP10090_S61_R1_001.fastq.gz',\n",
       " '20220602_15_MYB-dTAG_1h_MONOMAC1_VHL_C_MP10090_S61_R2_001.fastq.gz',\n",
       " '20220602_16_MYB-dTAG_1h_MONOMAC1_VHL_D_MP10090_S62_R1_001.fastq.gz',\n",
       " '20220602_16_MYB-dTAG_1h_MONOMAC1_VHL_D_MP10090_S62_R2_001.fastq.gz',\n",
       " '20220602_17_MYB-dTAG_1h_NOMO1_DMSO_A_MP10090_S63_R1_001.fastq.gz',\n",
       " '20220602_17_MYB-dTAG_1h_NOMO1_DMSO_A_MP10090_S63_R2_001.fastq.gz',\n",
       " '20220602_18_MYB-dTAG_1h_NOMO1_DMSO_B_MP10090_S64_R1_001.fastq.gz',\n",
       " '20220602_18_MYB-dTAG_1h_NOMO1_DMSO_B_MP10090_S64_R2_001.fastq.gz',\n",
       " '20220602_19_MYB-dTAG_1h_NOMO1_DMSO_C_MP10090_S65_R1_001.fastq.gz',\n",
       " '20220602_19_MYB-dTAG_1h_NOMO1_DMSO_C_MP10090_S65_R2_001.fastq.gz',\n",
       " '20220602_20_MYB-dTAG_1h_NOMO1_DMSO_D_MP10090_S66_R1_001.fastq.gz',\n",
       " '20220602_20_MYB-dTAG_1h_NOMO1_DMSO_D_MP10090_S66_R2_001.fastq.gz',\n",
       " '20220602_21_MYB-dTAG_1h_NOMO1_VHL_A_MP10090_S67_R1_001.fastq.gz',\n",
       " '20220602_21_MYB-dTAG_1h_NOMO1_VHL_A_MP10090_S67_R2_001.fastq.gz',\n",
       " '20220602_22_MYB-dTAG_1h_NOMO1_VHL_B_MP10090_S68_R1_001.fastq.gz',\n",
       " '20220602_22_MYB-dTAG_1h_NOMO1_VHL_B_MP10090_S68_R2_001.fastq.gz',\n",
       " '20220602_23_MYB-dTAG_1h_NOMO1_VHL_C_MP10090_S69_R1_001.fastq.gz',\n",
       " '20220602_23_MYB-dTAG_1h_NOMO1_VHL_C_MP10090_S69_R2_001.fastq.gz',\n",
       " '20220602_24_MYB-dTAG_1h_NOMO1_VHL_D_MP10090_S70_R1_001.fastq.gz',\n",
       " '20220602_24_MYB-dTAG_1h_NOMO1_VHL_D_MP10090_S70_R2_001.fastq.gz',\n",
       " '20220602_25_MYB-dTAG_1h_P31FUJ_DMSO_A_MP10090_S71_R1_001.fastq.gz',\n",
       " '20220602_25_MYB-dTAG_1h_P31FUJ_DMSO_A_MP10090_S71_R2_001.fastq.gz',\n",
       " '20220602_26_MYB-dTAG_1h_P31FUJ_DMSO_B_MP10090_S72_R1_001.fastq.gz',\n",
       " '20220602_26_MYB-dTAG_1h_P31FUJ_DMSO_B_MP10090_S72_R2_001.fastq.gz',\n",
       " '20220602_27_MYB-dTAG_1h_P31FUJ_DMSO_C_MP10090_S73_R1_001.fastq.gz',\n",
       " '20220602_27_MYB-dTAG_1h_P31FUJ_DMSO_C_MP10090_S73_R2_001.fastq.gz',\n",
       " '20220602_28_MYB-dTAG_1h_P31FUJ_DMSO_D_MP10090_S74_R1_001.fastq.gz',\n",
       " '20220602_28_MYB-dTAG_1h_P31FUJ_DMSO_D_MP10090_S74_R2_001.fastq.gz',\n",
       " '20220602_29_MYB-dTAG_1h_P31FUJ_VHL_A_MP10090_S75_R1_001.fastq.gz',\n",
       " '20220602_29_MYB-dTAG_1h_P31FUJ_VHL_A_MP10090_S75_R2_001.fastq.gz',\n",
       " '20220602_30_MYB-dTAG_1h_P31FUJ_VHL_B_MP10090_S76_R1_001.fastq.gz',\n",
       " '20220602_30_MYB-dTAG_1h_P31FUJ_VHL_B_MP10090_S76_R2_001.fastq.gz',\n",
       " '20220602_31_MYB-dTAG_1h_P31FUJ_VHL_C_MP10090_S77_R1_001.fastq.gz',\n",
       " '20220602_31_MYB-dTAG_1h_P31FUJ_VHL_C_MP10090_S77_R2_001.fastq.gz',\n",
       " '20220602_32_MYB-dTAG_1h_P31FUJ_VHL_D_MP10090_S78_R1_001.fastq.gz',\n",
       " '20220602_32_MYB-dTAG_1h_P31FUJ_VHL_D_MP10090_S78_R2_001.fastq.gz',\n",
       " '20220602_33_MYB-dTAG_1h_THP1_DMSO_A_MP10090_S79_R1_001.fastq.gz',\n",
       " '20220602_33_MYB-dTAG_1h_THP1_DMSO_A_MP10090_S79_R2_001.fastq.gz',\n",
       " '20220602_34_MYB-dTAG_1h_THP1_DMSO_B_MP10090_S80_R1_001.fastq.gz',\n",
       " '20220602_34_MYB-dTAG_1h_THP1_DMSO_B_MP10090_S80_R2_001.fastq.gz',\n",
       " '20220602_35_MYB-dTAG_1h_THP1_DMSO_C_MP10090_S81_R1_001.fastq.gz',\n",
       " '20220602_35_MYB-dTAG_1h_THP1_DMSO_C_MP10090_S81_R2_001.fastq.gz',\n",
       " '20220602_36_MYB-dTAG_1h_THP1_DMSO_D_MP10090_S82_R1_001.fastq.gz',\n",
       " '20220602_36_MYB-dTAG_1h_THP1_DMSO_D_MP10090_S82_R2_001.fastq.gz',\n",
       " '20220602_37_MYB-dTAG_1h_THP1_VHL_A_MP10090_S83_R1_001.fastq.gz',\n",
       " '20220602_37_MYB-dTAG_1h_THP1_VHL_A_MP10090_S83_R2_001.fastq.gz',\n",
       " '20220602_38_MYB-dTAG_1h_THP1_VHL_B_MP10090_S84_R1_001.fastq.gz',\n",
       " '20220602_38_MYB-dTAG_1h_THP1_VHL_B_MP10090_S84_R2_001.fastq.gz',\n",
       " '20220602_39_MYB-dTAG_1h_THP1_VHL_C_MP10090_S85_R1_001.fastq.gz',\n",
       " '20220602_39_MYB-dTAG_1h_THP1_VHL_C_MP10090_S85_R2_001.fastq.gz',\n",
       " '20220602_40_MYB-dTAG_1h_THP1_VHL_D_MP10090_S86_R1_001.fastq.gz',\n",
       " '20220602_40_MYB-dTAG_1h_THP1_VHL_D_MP10090_S86_R2_001.fastq.gz']"
      ]
     },
     "execution_count": 60,
     "metadata": {},
     "output_type": "execute_result"
    }
   ],
   "source": [
    "fastq_folder = \"../\"+location+\"fastqs\"\n",
    "print(fastq_folder)\n",
    "fastqs = ! ls $fastq_folder\n",
    "fastqs = os_sorted(fastqs)\n",
    "fastqs"
   ]
  },
  {
   "cell_type": "code",
   "execution_count": 47,
   "id": "c0198199",
   "metadata": {},
   "outputs": [],
   "source": [
    "from gsheets import Sheets\n",
    "sheets = Sheets.from_files('~/.client_secret_web.json', '~/.storage.json')\n",
    "url = \"https://docs.google.com/spreadsheets/d/1yFLjYB1McU530JnLgL0QIMAKIkVl3kl0_LCHje2gk8U/edit?ts=5fab1071#gid=738732237\"\n",
    "gsheet = sheets.get(url).sheets[12].to_frame()"
   ]
  },
  {
   "cell_type": "code",
   "execution_count": 61,
   "id": "845aff8c",
   "metadata": {},
   "outputs": [
    {
     "data": {
      "text/plain": [
       "39.0"
      ]
     },
     "execution_count": 61,
     "metadata": {},
     "output_type": "execute_result"
    }
   ],
   "source": [
    "len(fastqs)/2"
   ]
  },
  {
   "cell_type": "code",
   "execution_count": 70,
   "id": "05fc5dd0",
   "metadata": {
    "scrolled": true
   },
   "outputs": [],
   "source": [
    "# get new sample names from AML sample tracker - RNA_tracker_JK\n",
    "idx = gsheet.index[gsheet['batch'] == project] # get first row with project number\n",
    "sample_info = gsheet.loc[idx[0]:, [\"prev_name\", \"name\"]]\n",
    "sample_info = sample_info.iloc[:int(len(fastqs)/2),]"
   ]
  },
  {
   "cell_type": "code",
   "execution_count": 71,
   "id": "85ef8da8",
   "metadata": {},
   "outputs": [],
   "source": [
    "# make dict with names\n",
    "rename = dict(zip(sample_info.prev_name, sample_info.name))\n",
    "\n",
    "# rename fastqs locally\n",
    "for val in fastqs:\n",
    "    rep  = val\n",
    "    for old, new in rename.items():\n",
    "        rep = rep.replace(old, new)\n",
    "    if rep != val:\n",
    "        ! mv $fastq_folder/$val $fastq_folder/$rep"
   ]
  },
  {
   "cell_type": "markdown",
   "id": "5ab8334a",
   "metadata": {},
   "source": [
    "# Processing"
   ]
  },
  {
   "cell_type": "code",
   "execution_count": 72,
   "id": "c29edd79",
   "metadata": {},
   "outputs": [
    {
     "data": {
      "text/plain": [
       "'MYB_degraded_lines_v1'"
      ]
     },
     "execution_count": 72,
     "metadata": {},
     "output_type": "execute_result"
    }
   ],
   "source": [
    "project"
   ]
  },
  {
   "cell_type": "code",
   "execution_count": 73,
   "id": "73b8ab5b",
   "metadata": {
    "collapsed": true
   },
   "outputs": [
    {
     "data": {
      "text/plain": [
       "['../../data/slamseq_MYB_degraded_lines_v1/fastqs/mr532-MV411-MYB-dTAG-DMSO_1h-r1_R1_001.fastq.gz',\n",
       " '../../data/slamseq_MYB_degraded_lines_v1/fastqs/mr533-MV411-MYB-dTAG-DMSO_1h-r2_R1_001.fastq.gz',\n",
       " '../../data/slamseq_MYB_degraded_lines_v1/fastqs/mr534-MV411-MYB-dTAG-DMSO_1h-r3_R1_001.fastq.gz',\n",
       " '../../data/slamseq_MYB_degraded_lines_v1/fastqs/mr535-MV411-MYB-dTAG-DMSO_1h-r4_R1_001.fastq.gz',\n",
       " '../../data/slamseq_MYB_degraded_lines_v1/fastqs/mr536-MV411-MYB-dTAG-VHL_1h-r1_R1_001.fastq.gz',\n",
       " '../../data/slamseq_MYB_degraded_lines_v1/fastqs/mr537-MV411-MYB-dTAG-VHL_1h-r2_R1_001.fastq.gz',\n",
       " '../../data/slamseq_MYB_degraded_lines_v1/fastqs/mr538-MV411-MYB-dTAG-VHL_1h-r3_R1_001.fastq.gz',\n",
       " '../../data/slamseq_MYB_degraded_lines_v1/fastqs/mr539-MONOMAC1-MYB-dTAG-DMSO_1h-r1_R1_001.fastq.gz',\n",
       " '../../data/slamseq_MYB_degraded_lines_v1/fastqs/mr540-MONOMAC1-MYB-dTAG-DMSO_1h-r2_R1_001.fastq.gz',\n",
       " '../../data/slamseq_MYB_degraded_lines_v1/fastqs/mr541-MONOMAC1-MYB-dTAG-DMSO_1h-r3_R1_001.fastq.gz',\n",
       " '../../data/slamseq_MYB_degraded_lines_v1/fastqs/mr542-MONOMAC1-MYB-dTAG-DMSO_1h-r4_R1_001.fastq.gz',\n",
       " '../../data/slamseq_MYB_degraded_lines_v1/fastqs/mr543-MONOMAC1-MYB-dTAG-VHL_1h-r1_R1_001.fastq.gz',\n",
       " '../../data/slamseq_MYB_degraded_lines_v1/fastqs/mr544-MONOMAC1-MYB-dTAG-VHL_1h-r2_R1_001.fastq.gz',\n",
       " '../../data/slamseq_MYB_degraded_lines_v1/fastqs/mr545-MONOMAC1-MYB-dTAG-VHL_1h-r3_R1_001.fastq.gz',\n",
       " '../../data/slamseq_MYB_degraded_lines_v1/fastqs/mr546-MONOMAC1-MYB-dTAG-VHL_1h-r4_R1_001.fastq.gz',\n",
       " '../../data/slamseq_MYB_degraded_lines_v1/fastqs/mr547-NOMO1-MYB-dTAG-DMSO_1h-r1_R1_001.fastq.gz',\n",
       " '../../data/slamseq_MYB_degraded_lines_v1/fastqs/mr548-NOMO1-MYB-dTAG-DMSO_1h-r2_R1_001.fastq.gz',\n",
       " '../../data/slamseq_MYB_degraded_lines_v1/fastqs/mr549-NOMO1-MYB-dTAG-DMSO_1h-r3_R1_001.fastq.gz',\n",
       " '../../data/slamseq_MYB_degraded_lines_v1/fastqs/mr550-NOMO1-MYB-dTAG-DMSO_1h-r4_R1_001.fastq.gz',\n",
       " '../../data/slamseq_MYB_degraded_lines_v1/fastqs/mr551-NOMO1-MYB-dTAG-VHL_1h-r1_R1_001.fastq.gz',\n",
       " '../../data/slamseq_MYB_degraded_lines_v1/fastqs/mr552-NOMO1-MYB-dTAG-VHL_1h-r2_R1_001.fastq.gz',\n",
       " '../../data/slamseq_MYB_degraded_lines_v1/fastqs/mr553-NOMO1-MYB-dTAG-VHL_1h-r3_R1_001.fastq.gz',\n",
       " '../../data/slamseq_MYB_degraded_lines_v1/fastqs/mr554-NOMO1-MYB-dTAG-VHL_1h-r4_R1_001.fastq.gz',\n",
       " '../../data/slamseq_MYB_degraded_lines_v1/fastqs/mr555-P31FUJ-MYB-dTAG-DMSO_1h-r1_R1_001.fastq.gz',\n",
       " '../../data/slamseq_MYB_degraded_lines_v1/fastqs/mr556-P31FUJ-MYB-dTAG-DMSO_1h-r2_R1_001.fastq.gz',\n",
       " '../../data/slamseq_MYB_degraded_lines_v1/fastqs/mr557-P31FUJ-MYB-dTAG-DMSO_1h-r3_R1_001.fastq.gz',\n",
       " '../../data/slamseq_MYB_degraded_lines_v1/fastqs/mr558-P31FUJ-MYB-dTAG-DMSO_1h-r4_R1_001.fastq.gz',\n",
       " '../../data/slamseq_MYB_degraded_lines_v1/fastqs/mr559-P31FUJ-MYB-dTAG-VHL_1h-r1_R1_001.fastq.gz',\n",
       " '../../data/slamseq_MYB_degraded_lines_v1/fastqs/mr560-P31FUJ-MYB-dTAG-VHL_1h-r2_R1_001.fastq.gz',\n",
       " '../../data/slamseq_MYB_degraded_lines_v1/fastqs/mr561-P31FUJ-MYB-dTAG-VHL_1h-r3_R1_001.fastq.gz',\n",
       " '../../data/slamseq_MYB_degraded_lines_v1/fastqs/mr562-P31FUJ-MYB-dTAG-VHL_1h-r4_R1_001.fastq.gz',\n",
       " '../../data/slamseq_MYB_degraded_lines_v1/fastqs/mr563-THP1-MYB-dTAG-DMSO_1h-r1_R1_001.fastq.gz',\n",
       " '../../data/slamseq_MYB_degraded_lines_v1/fastqs/mr564-THP1-MYB-dTAG-DMSO_1h-r2_R1_001.fastq.gz',\n",
       " '../../data/slamseq_MYB_degraded_lines_v1/fastqs/mr565-THP1-MYB-dTAG-DMSO_1h-r3_R1_001.fastq.gz',\n",
       " '../../data/slamseq_MYB_degraded_lines_v1/fastqs/mr566-THP1-MYB-dTAG-DMSO_1h-r4_R1_001.fastq.gz',\n",
       " '../../data/slamseq_MYB_degraded_lines_v1/fastqs/mr567-THP1-MYB-dTAG-VHL_1h-r1_R1_001.fastq.gz',\n",
       " '../../data/slamseq_MYB_degraded_lines_v1/fastqs/mr568-THP1-MYB-dTAG-VHL_1h-r2_R1_001.fastq.gz',\n",
       " '../../data/slamseq_MYB_degraded_lines_v1/fastqs/mr569-THP1-MYB-dTAG-VHL_1h-r3_R1_001.fastq.gz',\n",
       " '../../data/slamseq_MYB_degraded_lines_v1/fastqs/mr570-THP1-MYB-dTAG-VHL_1h-r4_R1_001.fastq.gz']"
      ]
     },
     "execution_count": 73,
     "metadata": {},
     "output_type": "execute_result"
    }
   ],
   "source": [
    "fastqs = ! ls $fastq_folder/*fastq.gz\n",
    "fastqs[::2]"
   ]
  },
  {
   "cell_type": "markdown",
   "id": "d7dd9e5e",
   "metadata": {},
   "source": [
    "## trim_galore"
   ]
  },
  {
   "cell_type": "code",
   "execution_count": 80,
   "id": "a20a1d20",
   "metadata": {},
   "outputs": [
    {
     "name": "stdout",
     "output_type": "stream",
     "text": [
      "mr560-P31FUJ-MYB-dTAG-VHL_1h-r2_R1_001.fastq.gz\n",
      "mr561-P31FUJ-MYB-dTAG-VHL_1h-r3_R1_001.fastq.gz\n",
      "mr562-P31FUJ-MYB-dTAG-VHL_1h-r4_R1_001.fastq.gz\n",
      "mr563-THP1-MYB-dTAG-DMSO_1h-r1_R1_001.fastq.gz\n",
      "mr564-THP1-MYB-dTAG-DMSO_1h-r2_R1_001.fastq.gz\n",
      "mr565-THP1-MYB-dTAG-DMSO_1h-r3_R1_001.fastq.gz\n",
      "mr566-THP1-MYB-dTAG-DMSO_1h-r4_R1_001.fastq.gz\n",
      "mr567-THP1-MYB-dTAG-VHL_1h-r1_R1_001.fastq.gz\n",
      "mr568-THP1-MYB-dTAG-VHL_1h-r2_R1_001.fastq.gz\n",
      "mr569-THP1-MYB-dTAG-VHL_1h-r3_R1_001.fastq.gz\n",
      "mr570-THP1-MYB-dTAG-VHL_1h-r4_R1_001.fastq.gz\n"
     ]
    }
   ],
   "source": [
    "for val1, val2 in h.grouped(fastqs[56:], 2):\n",
    "    print(os.path.basename(val1))"
   ]
  },
  {
   "cell_type": "code",
   "execution_count": null,
   "id": "29448ebd",
   "metadata": {},
   "outputs": [],
   "source": [
    "%%time\n",
    "h.parrun(['trim_galore --paired --cores 6 --retain_unpaired -stringency 3\\\n",
    " --illumina '+val1+' '+val2+' -o '+fastq_folder for val1, val2 in h.grouped(fastqs[56:], 2)], 2)"
   ]
  },
  {
   "cell_type": "code",
   "execution_count": null,
   "id": "4e97df22",
   "metadata": {},
   "outputs": [],
   "source": []
  }
 ],
 "metadata": {
  "kernelspec": {
   "display_name": "Python 3 (ipykernel)",
   "language": "python",
   "name": "python3"
  },
  "language_info": {
   "codemirror_mode": {
    "name": "ipython",
    "version": 3
   },
   "file_extension": ".py",
   "mimetype": "text/x-python",
   "name": "python",
   "nbconvert_exporter": "python",
   "pygments_lexer": "ipython3",
   "version": "3.8.11"
  },
  "toc": {
   "base_numbering": 1,
   "nav_menu": {},
   "number_sections": false,
   "sideBar": true,
   "skip_h1_title": false,
   "title_cell": "Table of Contents",
   "title_sidebar": "Contents",
   "toc_cell": false,
   "toc_position": {
    "height": "calc(100% - 180px)",
    "left": "10px",
    "top": "150px",
    "width": "202.797px"
   },
   "toc_section_display": true,
   "toc_window_display": true
  }
 },
 "nbformat": 4,
 "nbformat_minor": 5
}
