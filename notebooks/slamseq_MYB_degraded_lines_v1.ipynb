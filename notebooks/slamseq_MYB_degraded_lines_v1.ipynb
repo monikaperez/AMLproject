{
 "cells": [
  {
   "cell_type": "markdown",
   "id": "8b798bfb",
   "metadata": {},
   "source": [
    "# SLAMseq"
   ]
  },
  {
   "cell_type": "markdown",
   "id": "9c76af92",
   "metadata": {},
   "source": [
    "## Installing slamdunk (only do once)"
   ]
  },
  {
   "cell_type": "code",
   "execution_count": 1,
   "id": "c6fe9f68",
   "metadata": {},
   "outputs": [],
   "source": [
    "# install slamdunk\n",
    "#! pip3 install git+https://github.com/jkobject/slamdunk.git --upgrade"
   ]
  },
  {
   "cell_type": "code",
   "execution_count": 2,
   "id": "9b9c4e84",
   "metadata": {},
   "outputs": [],
   "source": [
    "# clone and install genepy\n",
    "# pip install -e genepy"
   ]
  },
  {
   "cell_type": "code",
   "execution_count": 3,
   "id": "4c7e763b",
   "metadata": {},
   "outputs": [],
   "source": [
    "# please also install cutadapt, fastqc, and trimgalore\n",
    "#! conda install -c bioconda cutadapt\n",
    "#! conda install -c bioconda fastqc\n",
    "#! conda install -c bioconda trim-galore"
   ]
  },
  {
   "cell_type": "code",
   "execution_count": 1,
   "id": "2d71fdd2",
   "metadata": {},
   "outputs": [],
   "source": [
    "from __future__ import print_function\n",
    "import os.path\n",
    "import pandas as pd\n",
    "import sys\n",
    "sys.path.insert(0, '../../')\n",
    "import seaborn as sns\n",
    "import numpy as np\n",
    "from natsort import os_sorted\n",
    "\n",
    "from genepy.utils import helper as h\n",
    "from genepy.utils import plot as genepyPlot\n",
    "from genepy.rna import pyDESeq2\n",
    "import genepy.rna as rna"
   ]
  },
  {
   "cell_type": "code",
   "execution_count": 3,
   "id": "f0fe245c",
   "metadata": {},
   "outputs": [
    {
     "data": {
      "text/html": [
       "\n",
       "    <div class=\"bk-root\">\n",
       "        <a href=\"https://bokeh.org\" target=\"_blank\" class=\"bk-logo bk-logo-small bk-logo-notebook\"></a>\n",
       "        <span id=\"1003\">Loading BokehJS ...</span>\n",
       "    </div>"
      ]
     },
     "metadata": {},
     "output_type": "display_data"
    },
    {
     "data": {
      "application/javascript": [
       "\n",
       "(function(root) {\n",
       "  function now() {\n",
       "    return new Date();\n",
       "  }\n",
       "\n",
       "  const force = true;\n",
       "\n",
       "  if (typeof root._bokeh_onload_callbacks === \"undefined\" || force === true) {\n",
       "    root._bokeh_onload_callbacks = [];\n",
       "    root._bokeh_is_loading = undefined;\n",
       "  }\n",
       "\n",
       "  const JS_MIME_TYPE = 'application/javascript';\n",
       "  const HTML_MIME_TYPE = 'text/html';\n",
       "  const EXEC_MIME_TYPE = 'application/vnd.bokehjs_exec.v0+json';\n",
       "  const CLASS_NAME = 'output_bokeh rendered_html';\n",
       "\n",
       "  /**\n",
       "   * Render data to the DOM node\n",
       "   */\n",
       "  function render(props, node) {\n",
       "    const script = document.createElement(\"script\");\n",
       "    node.appendChild(script);\n",
       "  }\n",
       "\n",
       "  /**\n",
       "   * Handle when an output is cleared or removed\n",
       "   */\n",
       "  function handleClearOutput(event, handle) {\n",
       "    const cell = handle.cell;\n",
       "\n",
       "    const id = cell.output_area._bokeh_element_id;\n",
       "    const server_id = cell.output_area._bokeh_server_id;\n",
       "    // Clean up Bokeh references\n",
       "    if (id != null && id in Bokeh.index) {\n",
       "      Bokeh.index[id].model.document.clear();\n",
       "      delete Bokeh.index[id];\n",
       "    }\n",
       "\n",
       "    if (server_id !== undefined) {\n",
       "      // Clean up Bokeh references\n",
       "      const cmd_clean = \"from bokeh.io.state import curstate; print(curstate().uuid_to_server['\" + server_id + \"'].get_sessions()[0].document.roots[0]._id)\";\n",
       "      cell.notebook.kernel.execute(cmd_clean, {\n",
       "        iopub: {\n",
       "          output: function(msg) {\n",
       "            const id = msg.content.text.trim();\n",
       "            if (id in Bokeh.index) {\n",
       "              Bokeh.index[id].model.document.clear();\n",
       "              delete Bokeh.index[id];\n",
       "            }\n",
       "          }\n",
       "        }\n",
       "      });\n",
       "      // Destroy server and session\n",
       "      const cmd_destroy = \"import bokeh.io.notebook as ion; ion.destroy_server('\" + server_id + \"')\";\n",
       "      cell.notebook.kernel.execute(cmd_destroy);\n",
       "    }\n",
       "  }\n",
       "\n",
       "  /**\n",
       "   * Handle when a new output is added\n",
       "   */\n",
       "  function handleAddOutput(event, handle) {\n",
       "    const output_area = handle.output_area;\n",
       "    const output = handle.output;\n",
       "\n",
       "    // limit handleAddOutput to display_data with EXEC_MIME_TYPE content only\n",
       "    if ((output.output_type != \"display_data\") || (!Object.prototype.hasOwnProperty.call(output.data, EXEC_MIME_TYPE))) {\n",
       "      return\n",
       "    }\n",
       "\n",
       "    const toinsert = output_area.element.find(\".\" + CLASS_NAME.split(' ')[0]);\n",
       "\n",
       "    if (output.metadata[EXEC_MIME_TYPE][\"id\"] !== undefined) {\n",
       "      toinsert[toinsert.length - 1].firstChild.textContent = output.data[JS_MIME_TYPE];\n",
       "      // store reference to embed id on output_area\n",
       "      output_area._bokeh_element_id = output.metadata[EXEC_MIME_TYPE][\"id\"];\n",
       "    }\n",
       "    if (output.metadata[EXEC_MIME_TYPE][\"server_id\"] !== undefined) {\n",
       "      const bk_div = document.createElement(\"div\");\n",
       "      bk_div.innerHTML = output.data[HTML_MIME_TYPE];\n",
       "      const script_attrs = bk_div.children[0].attributes;\n",
       "      for (let i = 0; i < script_attrs.length; i++) {\n",
       "        toinsert[toinsert.length - 1].firstChild.setAttribute(script_attrs[i].name, script_attrs[i].value);\n",
       "        toinsert[toinsert.length - 1].firstChild.textContent = bk_div.children[0].textContent\n",
       "      }\n",
       "      // store reference to server id on output_area\n",
       "      output_area._bokeh_server_id = output.metadata[EXEC_MIME_TYPE][\"server_id\"];\n",
       "    }\n",
       "  }\n",
       "\n",
       "  function register_renderer(events, OutputArea) {\n",
       "\n",
       "    function append_mime(data, metadata, element) {\n",
       "      // create a DOM node to render to\n",
       "      const toinsert = this.create_output_subarea(\n",
       "        metadata,\n",
       "        CLASS_NAME,\n",
       "        EXEC_MIME_TYPE\n",
       "      );\n",
       "      this.keyboard_manager.register_events(toinsert);\n",
       "      // Render to node\n",
       "      const props = {data: data, metadata: metadata[EXEC_MIME_TYPE]};\n",
       "      render(props, toinsert[toinsert.length - 1]);\n",
       "      element.append(toinsert);\n",
       "      return toinsert\n",
       "    }\n",
       "\n",
       "    /* Handle when an output is cleared or removed */\n",
       "    events.on('clear_output.CodeCell', handleClearOutput);\n",
       "    events.on('delete.Cell', handleClearOutput);\n",
       "\n",
       "    /* Handle when a new output is added */\n",
       "    events.on('output_added.OutputArea', handleAddOutput);\n",
       "\n",
       "    /**\n",
       "     * Register the mime type and append_mime function with output_area\n",
       "     */\n",
       "    OutputArea.prototype.register_mime_type(EXEC_MIME_TYPE, append_mime, {\n",
       "      /* Is output safe? */\n",
       "      safe: true,\n",
       "      /* Index of renderer in `output_area.display_order` */\n",
       "      index: 0\n",
       "    });\n",
       "  }\n",
       "\n",
       "  // register the mime type if in Jupyter Notebook environment and previously unregistered\n",
       "  if (root.Jupyter !== undefined) {\n",
       "    const events = require('base/js/events');\n",
       "    const OutputArea = require('notebook/js/outputarea').OutputArea;\n",
       "\n",
       "    if (OutputArea.prototype.mime_types().indexOf(EXEC_MIME_TYPE) == -1) {\n",
       "      register_renderer(events, OutputArea);\n",
       "    }\n",
       "  }\n",
       "\n",
       "  \n",
       "  if (typeof (root._bokeh_timeout) === \"undefined\" || force === true) {\n",
       "    root._bokeh_timeout = Date.now() + 5000;\n",
       "    root._bokeh_failed_load = false;\n",
       "  }\n",
       "\n",
       "  const NB_LOAD_WARNING = {'data': {'text/html':\n",
       "     \"<div style='background-color: #fdd'>\\n\"+\n",
       "     \"<p>\\n\"+\n",
       "     \"BokehJS does not appear to have successfully loaded. If loading BokehJS from CDN, this \\n\"+\n",
       "     \"may be due to a slow or bad network connection. Possible fixes:\\n\"+\n",
       "     \"</p>\\n\"+\n",
       "     \"<ul>\\n\"+\n",
       "     \"<li>re-rerun `output_notebook()` to attempt to load from CDN again, or</li>\\n\"+\n",
       "     \"<li>use INLINE resources instead, as so:</li>\\n\"+\n",
       "     \"</ul>\\n\"+\n",
       "     \"<code>\\n\"+\n",
       "     \"from bokeh.resources import INLINE\\n\"+\n",
       "     \"output_notebook(resources=INLINE)\\n\"+\n",
       "     \"</code>\\n\"+\n",
       "     \"</div>\"}};\n",
       "\n",
       "  function display_loaded() {\n",
       "    const el = document.getElementById(\"1003\");\n",
       "    if (el != null) {\n",
       "      el.textContent = \"BokehJS is loading...\";\n",
       "    }\n",
       "    if (root.Bokeh !== undefined) {\n",
       "      if (el != null) {\n",
       "        el.textContent = \"BokehJS \" + root.Bokeh.version + \" successfully loaded.\";\n",
       "      }\n",
       "    } else if (Date.now() < root._bokeh_timeout) {\n",
       "      setTimeout(display_loaded, 100)\n",
       "    }\n",
       "  }\n",
       "\n",
       "\n",
       "  function run_callbacks() {\n",
       "    try {\n",
       "      root._bokeh_onload_callbacks.forEach(function(callback) {\n",
       "        if (callback != null)\n",
       "          callback();\n",
       "      });\n",
       "    } finally {\n",
       "      delete root._bokeh_onload_callbacks\n",
       "    }\n",
       "    console.debug(\"Bokeh: all callbacks have finished\");\n",
       "  }\n",
       "\n",
       "  function load_libs(css_urls, js_urls, callback) {\n",
       "    if (css_urls == null) css_urls = [];\n",
       "    if (js_urls == null) js_urls = [];\n",
       "\n",
       "    root._bokeh_onload_callbacks.push(callback);\n",
       "    if (root._bokeh_is_loading > 0) {\n",
       "      console.debug(\"Bokeh: BokehJS is being loaded, scheduling callback at\", now());\n",
       "      return null;\n",
       "    }\n",
       "    if (js_urls == null || js_urls.length === 0) {\n",
       "      run_callbacks();\n",
       "      return null;\n",
       "    }\n",
       "    console.debug(\"Bokeh: BokehJS not loaded, scheduling load and callback at\", now());\n",
       "    root._bokeh_is_loading = css_urls.length + js_urls.length;\n",
       "\n",
       "    function on_load() {\n",
       "      root._bokeh_is_loading--;\n",
       "      if (root._bokeh_is_loading === 0) {\n",
       "        console.debug(\"Bokeh: all BokehJS libraries/stylesheets loaded\");\n",
       "        run_callbacks()\n",
       "      }\n",
       "    }\n",
       "\n",
       "    function on_error(url) {\n",
       "      console.error(\"failed to load \" + url);\n",
       "    }\n",
       "\n",
       "    for (let i = 0; i < css_urls.length; i++) {\n",
       "      const url = css_urls[i];\n",
       "      const element = document.createElement(\"link\");\n",
       "      element.onload = on_load;\n",
       "      element.onerror = on_error.bind(null, url);\n",
       "      element.rel = \"stylesheet\";\n",
       "      element.type = \"text/css\";\n",
       "      element.href = url;\n",
       "      console.debug(\"Bokeh: injecting link tag for BokehJS stylesheet: \", url);\n",
       "      document.body.appendChild(element);\n",
       "    }\n",
       "\n",
       "    for (let i = 0; i < js_urls.length; i++) {\n",
       "      const url = js_urls[i];\n",
       "      const element = document.createElement('script');\n",
       "      element.onload = on_load;\n",
       "      element.onerror = on_error.bind(null, url);\n",
       "      element.async = false;\n",
       "      element.src = url;\n",
       "      console.debug(\"Bokeh: injecting script tag for BokehJS library: \", url);\n",
       "      document.head.appendChild(element);\n",
       "    }\n",
       "  };\n",
       "\n",
       "  function inject_raw_css(css) {\n",
       "    const element = document.createElement(\"style\");\n",
       "    element.appendChild(document.createTextNode(css));\n",
       "    document.body.appendChild(element);\n",
       "  }\n",
       "\n",
       "  \n",
       "  const js_urls = [\"https://cdn.bokeh.org/bokeh/release/bokeh-2.4.2.min.js\", \"https://cdn.bokeh.org/bokeh/release/bokeh-gl-2.4.2.min.js\", \"https://cdn.bokeh.org/bokeh/release/bokeh-widgets-2.4.2.min.js\", \"https://cdn.bokeh.org/bokeh/release/bokeh-tables-2.4.2.min.js\", \"https://cdn.bokeh.org/bokeh/release/bokeh-mathjax-2.4.2.min.js\"];\n",
       "  const css_urls = [];\n",
       "  \n",
       "\n",
       "  const inline_js = [\n",
       "    function(Bokeh) {\n",
       "      Bokeh.set_log_level(\"info\");\n",
       "    },\n",
       "    function(Bokeh) {\n",
       "    \n",
       "    \n",
       "    }\n",
       "  ];\n",
       "\n",
       "  function run_inline_js() {\n",
       "    \n",
       "    if (root.Bokeh !== undefined || force === true) {\n",
       "      \n",
       "    for (let i = 0; i < inline_js.length; i++) {\n",
       "      inline_js[i].call(root, root.Bokeh);\n",
       "    }\n",
       "    if (force === true) {\n",
       "        display_loaded();\n",
       "      }} else if (Date.now() < root._bokeh_timeout) {\n",
       "      setTimeout(run_inline_js, 100);\n",
       "    } else if (!root._bokeh_failed_load) {\n",
       "      console.log(\"Bokeh: BokehJS failed to load within specified timeout.\");\n",
       "      root._bokeh_failed_load = true;\n",
       "    } else if (force !== true) {\n",
       "      const cell = $(document.getElementById(\"1003\")).parents('.cell').data().cell;\n",
       "      cell.output_area.append_execute_result(NB_LOAD_WARNING)\n",
       "    }\n",
       "\n",
       "  }\n",
       "\n",
       "  if (root._bokeh_is_loading === 0) {\n",
       "    console.debug(\"Bokeh: BokehJS loaded, going straight to plotting\");\n",
       "    run_inline_js();\n",
       "  } else {\n",
       "    load_libs(css_urls, js_urls, function() {\n",
       "      console.debug(\"Bokeh: BokehJS plotting callback run at\", now());\n",
       "      run_inline_js();\n",
       "    });\n",
       "  }\n",
       "}(window));"
      ],
      "application/vnd.bokehjs_load.v0+json": "\n(function(root) {\n  function now() {\n    return new Date();\n  }\n\n  const force = true;\n\n  if (typeof root._bokeh_onload_callbacks === \"undefined\" || force === true) {\n    root._bokeh_onload_callbacks = [];\n    root._bokeh_is_loading = undefined;\n  }\n\n  \n\n  \n  if (typeof (root._bokeh_timeout) === \"undefined\" || force === true) {\n    root._bokeh_timeout = Date.now() + 5000;\n    root._bokeh_failed_load = false;\n  }\n\n  const NB_LOAD_WARNING = {'data': {'text/html':\n     \"<div style='background-color: #fdd'>\\n\"+\n     \"<p>\\n\"+\n     \"BokehJS does not appear to have successfully loaded. If loading BokehJS from CDN, this \\n\"+\n     \"may be due to a slow or bad network connection. Possible fixes:\\n\"+\n     \"</p>\\n\"+\n     \"<ul>\\n\"+\n     \"<li>re-rerun `output_notebook()` to attempt to load from CDN again, or</li>\\n\"+\n     \"<li>use INLINE resources instead, as so:</li>\\n\"+\n     \"</ul>\\n\"+\n     \"<code>\\n\"+\n     \"from bokeh.resources import INLINE\\n\"+\n     \"output_notebook(resources=INLINE)\\n\"+\n     \"</code>\\n\"+\n     \"</div>\"}};\n\n  function display_loaded() {\n    const el = document.getElementById(\"1003\");\n    if (el != null) {\n      el.textContent = \"BokehJS is loading...\";\n    }\n    if (root.Bokeh !== undefined) {\n      if (el != null) {\n        el.textContent = \"BokehJS \" + root.Bokeh.version + \" successfully loaded.\";\n      }\n    } else if (Date.now() < root._bokeh_timeout) {\n      setTimeout(display_loaded, 100)\n    }\n  }\n\n\n  function run_callbacks() {\n    try {\n      root._bokeh_onload_callbacks.forEach(function(callback) {\n        if (callback != null)\n          callback();\n      });\n    } finally {\n      delete root._bokeh_onload_callbacks\n    }\n    console.debug(\"Bokeh: all callbacks have finished\");\n  }\n\n  function load_libs(css_urls, js_urls, callback) {\n    if (css_urls == null) css_urls = [];\n    if (js_urls == null) js_urls = [];\n\n    root._bokeh_onload_callbacks.push(callback);\n    if (root._bokeh_is_loading > 0) {\n      console.debug(\"Bokeh: BokehJS is being loaded, scheduling callback at\", now());\n      return null;\n    }\n    if (js_urls == null || js_urls.length === 0) {\n      run_callbacks();\n      return null;\n    }\n    console.debug(\"Bokeh: BokehJS not loaded, scheduling load and callback at\", now());\n    root._bokeh_is_loading = css_urls.length + js_urls.length;\n\n    function on_load() {\n      root._bokeh_is_loading--;\n      if (root._bokeh_is_loading === 0) {\n        console.debug(\"Bokeh: all BokehJS libraries/stylesheets loaded\");\n        run_callbacks()\n      }\n    }\n\n    function on_error(url) {\n      console.error(\"failed to load \" + url);\n    }\n\n    for (let i = 0; i < css_urls.length; i++) {\n      const url = css_urls[i];\n      const element = document.createElement(\"link\");\n      element.onload = on_load;\n      element.onerror = on_error.bind(null, url);\n      element.rel = \"stylesheet\";\n      element.type = \"text/css\";\n      element.href = url;\n      console.debug(\"Bokeh: injecting link tag for BokehJS stylesheet: \", url);\n      document.body.appendChild(element);\n    }\n\n    for (let i = 0; i < js_urls.length; i++) {\n      const url = js_urls[i];\n      const element = document.createElement('script');\n      element.onload = on_load;\n      element.onerror = on_error.bind(null, url);\n      element.async = false;\n      element.src = url;\n      console.debug(\"Bokeh: injecting script tag for BokehJS library: \", url);\n      document.head.appendChild(element);\n    }\n  };\n\n  function inject_raw_css(css) {\n    const element = document.createElement(\"style\");\n    element.appendChild(document.createTextNode(css));\n    document.body.appendChild(element);\n  }\n\n  \n  const js_urls = [\"https://cdn.bokeh.org/bokeh/release/bokeh-2.4.2.min.js\", \"https://cdn.bokeh.org/bokeh/release/bokeh-gl-2.4.2.min.js\", \"https://cdn.bokeh.org/bokeh/release/bokeh-widgets-2.4.2.min.js\", \"https://cdn.bokeh.org/bokeh/release/bokeh-tables-2.4.2.min.js\", \"https://cdn.bokeh.org/bokeh/release/bokeh-mathjax-2.4.2.min.js\"];\n  const css_urls = [];\n  \n\n  const inline_js = [\n    function(Bokeh) {\n      Bokeh.set_log_level(\"info\");\n    },\n    function(Bokeh) {\n    \n    \n    }\n  ];\n\n  function run_inline_js() {\n    \n    if (root.Bokeh !== undefined || force === true) {\n      \n    for (let i = 0; i < inline_js.length; i++) {\n      inline_js[i].call(root, root.Bokeh);\n    }\n    if (force === true) {\n        display_loaded();\n      }} else if (Date.now() < root._bokeh_timeout) {\n      setTimeout(run_inline_js, 100);\n    } else if (!root._bokeh_failed_load) {\n      console.log(\"Bokeh: BokehJS failed to load within specified timeout.\");\n      root._bokeh_failed_load = true;\n    } else if (force !== true) {\n      const cell = $(document.getElementById(\"1003\")).parents('.cell').data().cell;\n      cell.output_area.append_execute_result(NB_LOAD_WARNING)\n    }\n\n  }\n\n  if (root._bokeh_is_loading === 0) {\n    console.debug(\"Bokeh: BokehJS loaded, going straight to plotting\");\n    run_inline_js();\n  } else {\n    load_libs(css_urls, js_urls, function() {\n      console.debug(\"Bokeh: BokehJS plotting callback run at\", now());\n      run_inline_js();\n    });\n  }\n}(window));"
     },
     "metadata": {},
     "output_type": "display_data"
    },
    {
     "name": "stdout",
     "output_type": "stream",
     "text": [
      "The autoreload extension is already loaded. To reload it, use:\n",
      "  %reload_ext autoreload\n",
      "The rpy2.ipython extension is already loaded. To reload it, use:\n",
      "  %reload_ext rpy2.ipython\n"
     ]
    }
   ],
   "source": [
    "from bokeh.plotting import *\n",
    "from bokeh.models import HoverTool\n",
    "from bokeh.io import output_notebook\n",
    "\n",
    "import matplotlib.pyplot as plt\n",
    "\n",
    "from sklearn.neighbors import KNeighborsClassifier\n",
    "from sklearn.manifold import MDS, TSNE\n",
    "from sklearn.decomposition import PCA\n",
    "from sklearn.preprocessing import scale\n",
    "#from umap import UMAP\n",
    "\n",
    "output_notebook()\n",
    "%load_ext autoreload\n",
    "%matplotlib inline\n",
    "%autoreload 2\n",
    "%load_ext rpy2.ipython"
   ]
  },
  {
   "cell_type": "code",
   "execution_count": 4,
   "id": "f5b490f5",
   "metadata": {},
   "outputs": [],
   "source": [
    "def createDir(directory):\n",
    "    if not os.path.exists(directory):\n",
    "        print(\"Creating output directory: \" + directory)\n",
    "        os.makedirs(directory)"
   ]
  },
  {
   "cell_type": "markdown",
   "id": "b30eac97",
   "metadata": {},
   "source": [
    "# MYB-dTAG in multiple cell lines"
   ]
  },
  {
   "cell_type": "markdown",
   "id": "c13340d3",
   "metadata": {},
   "source": [
    "SLAMseq of MYB-dTag in multiple cell lines (MV411, MONOMAC1, NOMO1, P31FUJ, THP1)\n",
    "<br>All MYB CT degrons with P2A sequence between degron and FP\n",
    "<br>1h degradation + 1h 4sU with 0.5$\\mu$M VHL (with ERCC spike-in control)\n",
    "<br>__Processed without alt loci__"
   ]
  },
  {
   "cell_type": "code",
   "execution_count": 5,
   "id": "1a10249f",
   "metadata": {},
   "outputs": [],
   "source": [
    "project = \"MYB_degraded_lines_v1\""
   ]
  },
  {
   "cell_type": "code",
   "execution_count": 6,
   "id": "9a9e6f2d",
   "metadata": {},
   "outputs": [],
   "source": [
    "location = \"../data/slamseq_\"+project+\"/\" # new data location"
   ]
  },
  {
   "cell_type": "markdown",
   "id": "250dd450",
   "metadata": {
    "heading_collapsed": true
   },
   "source": [
    "## download the data"
   ]
  },
  {
   "cell_type": "code",
   "execution_count": 9,
   "id": "f09ae827",
   "metadata": {
    "hidden": true
   },
   "outputs": [],
   "source": [
    "location = \"../data/slamseq_\"+project+\"/\" # new data location\n",
    "loc = \"220602_MP10090_fastq\" # transfer AML folder"
   ]
  },
  {
   "cell_type": "code",
   "execution_count": 10,
   "id": "472ffc48",
   "metadata": {
    "hidden": true
   },
   "outputs": [],
   "source": [
    "! mkdir ../$location\n",
    "! mkdir ../results/slamseq_$project\n",
    "! mkdir $location && mkdir $location/qc # make data dir in AMLproject\n",
    "! mkdir ../$location/fastqs/ # make dir in /home/monika/data/project/fastqs"
   ]
  },
  {
   "cell_type": "code",
   "execution_count": 34,
   "id": "6156ef3e",
   "metadata": {
    "collapsed": true,
    "hidden": true
   },
   "outputs": [
    {
     "name": "stdout",
     "output_type": "stream",
     "text": [
      "gs://transfer-amlproject/220602_MP10090_fastq/20220602_10_MYB-dTAG_1h_MONOMAC1_DMSO_B_MP10090_S56_R1_001.fastq.gz\r\n",
      "gs://transfer-amlproject/220602_MP10090_fastq/20220602_10_MYB-dTAG_1h_MONOMAC1_DMSO_B_MP10090_S56_R2_001.fastq.gz\r\n",
      "gs://transfer-amlproject/220602_MP10090_fastq/20220602_11_MYB-dTAG_1h_MONOMAC1_DMSO_C_MP10090_S57_R1_001.fastq.gz\r\n",
      "gs://transfer-amlproject/220602_MP10090_fastq/20220602_11_MYB-dTAG_1h_MONOMAC1_DMSO_C_MP10090_S57_R2_001.fastq.gz\r\n",
      "gs://transfer-amlproject/220602_MP10090_fastq/20220602_12_MYB-dTAG_1h_MONOMAC1_DMSO_D_MP10090_S58_R1_001.fastq.gz\r\n",
      "gs://transfer-amlproject/220602_MP10090_fastq/20220602_12_MYB-dTAG_1h_MONOMAC1_DMSO_D_MP10090_S58_R2_001.fastq.gz\r\n",
      "gs://transfer-amlproject/220602_MP10090_fastq/20220602_13_MYB-dTAG_1h_MONOMAC1_VHL_A_MP10090_S59_R1_001.fastq.gz\r\n",
      "gs://transfer-amlproject/220602_MP10090_fastq/20220602_13_MYB-dTAG_1h_MONOMAC1_VHL_A_MP10090_S59_R2_001.fastq.gz\r\n",
      "gs://transfer-amlproject/220602_MP10090_fastq/20220602_14_MYB-dTAG_1h_MONOMAC1_VHL_B_MP10090_S60_R1_001.fastq.gz\r\n",
      "gs://transfer-amlproject/220602_MP10090_fastq/20220602_14_MYB-dTAG_1h_MONOMAC1_VHL_B_MP10090_S60_R2_001.fastq.gz\r\n",
      "gs://transfer-amlproject/220602_MP10090_fastq/20220602_15_MYB-dTAG_1h_MONOMAC1_VHL_C_MP10090_S61_R1_001.fastq.gz\r\n",
      "gs://transfer-amlproject/220602_MP10090_fastq/20220602_15_MYB-dTAG_1h_MONOMAC1_VHL_C_MP10090_S61_R2_001.fastq.gz\r\n",
      "gs://transfer-amlproject/220602_MP10090_fastq/20220602_16_MYB-dTAG_1h_MONOMAC1_VHL_D_MP10090_S62_R1_001.fastq.gz\r\n",
      "gs://transfer-amlproject/220602_MP10090_fastq/20220602_16_MYB-dTAG_1h_MONOMAC1_VHL_D_MP10090_S62_R2_001.fastq.gz\r\n",
      "gs://transfer-amlproject/220602_MP10090_fastq/20220602_17_MYB-dTAG_1h_NOMO1_DMSO_A_MP10090_S63_R1_001.fastq.gz\r\n",
      "gs://transfer-amlproject/220602_MP10090_fastq/20220602_17_MYB-dTAG_1h_NOMO1_DMSO_A_MP10090_S63_R2_001.fastq.gz\r\n",
      "gs://transfer-amlproject/220602_MP10090_fastq/20220602_18_MYB-dTAG_1h_NOMO1_DMSO_B_MP10090_S64_R1_001.fastq.gz\r\n",
      "gs://transfer-amlproject/220602_MP10090_fastq/20220602_18_MYB-dTAG_1h_NOMO1_DMSO_B_MP10090_S64_R2_001.fastq.gz\r\n",
      "gs://transfer-amlproject/220602_MP10090_fastq/20220602_19_MYB-dTAG_1h_NOMO1_DMSO_C_MP10090_S65_R1_001.fastq.gz\r\n",
      "gs://transfer-amlproject/220602_MP10090_fastq/20220602_19_MYB-dTAG_1h_NOMO1_DMSO_C_MP10090_S65_R2_001.fastq.gz\r\n",
      "gs://transfer-amlproject/220602_MP10090_fastq/20220602_1_MYB-dTAG_1h_MV411_DMSO_A_MP10090_S48_R1_001.fastq.gz\r\n",
      "gs://transfer-amlproject/220602_MP10090_fastq/20220602_1_MYB-dTAG_1h_MV411_DMSO_A_MP10090_S48_R2_001.fastq.gz\r\n",
      "gs://transfer-amlproject/220602_MP10090_fastq/20220602_20_MYB-dTAG_1h_NOMO1_DMSO_D_MP10090_S66_R1_001.fastq.gz\r\n",
      "gs://transfer-amlproject/220602_MP10090_fastq/20220602_20_MYB-dTAG_1h_NOMO1_DMSO_D_MP10090_S66_R2_001.fastq.gz\r\n",
      "gs://transfer-amlproject/220602_MP10090_fastq/20220602_21_MYB-dTAG_1h_NOMO1_VHL_A_MP10090_S67_R1_001.fastq.gz\r\n",
      "gs://transfer-amlproject/220602_MP10090_fastq/20220602_21_MYB-dTAG_1h_NOMO1_VHL_A_MP10090_S67_R2_001.fastq.gz\r\n",
      "gs://transfer-amlproject/220602_MP10090_fastq/20220602_22_MYB-dTAG_1h_NOMO1_VHL_B_MP10090_S68_R1_001.fastq.gz\r\n",
      "gs://transfer-amlproject/220602_MP10090_fastq/20220602_22_MYB-dTAG_1h_NOMO1_VHL_B_MP10090_S68_R2_001.fastq.gz\r\n",
      "gs://transfer-amlproject/220602_MP10090_fastq/20220602_23_MYB-dTAG_1h_NOMO1_VHL_C_MP10090_S69_R1_001.fastq.gz\r\n",
      "gs://transfer-amlproject/220602_MP10090_fastq/20220602_23_MYB-dTAG_1h_NOMO1_VHL_C_MP10090_S69_R2_001.fastq.gz\r\n",
      "gs://transfer-amlproject/220602_MP10090_fastq/20220602_24_MYB-dTAG_1h_NOMO1_VHL_D_MP10090_S70_R1_001.fastq.gz\r\n",
      "gs://transfer-amlproject/220602_MP10090_fastq/20220602_24_MYB-dTAG_1h_NOMO1_VHL_D_MP10090_S70_R2_001.fastq.gz\r\n",
      "gs://transfer-amlproject/220602_MP10090_fastq/20220602_25_MYB-dTAG_1h_P31FUJ_DMSO_A_MP10090_S71_R1_001.fastq.gz\r\n",
      "gs://transfer-amlproject/220602_MP10090_fastq/20220602_25_MYB-dTAG_1h_P31FUJ_DMSO_A_MP10090_S71_R2_001.fastq.gz\r\n",
      "gs://transfer-amlproject/220602_MP10090_fastq/20220602_26_MYB-dTAG_1h_P31FUJ_DMSO_B_MP10090_S72_R1_001.fastq.gz\r\n",
      "gs://transfer-amlproject/220602_MP10090_fastq/20220602_26_MYB-dTAG_1h_P31FUJ_DMSO_B_MP10090_S72_R2_001.fastq.gz\r\n",
      "gs://transfer-amlproject/220602_MP10090_fastq/20220602_27_MYB-dTAG_1h_P31FUJ_DMSO_C_MP10090_S73_R1_001.fastq.gz\r\n",
      "gs://transfer-amlproject/220602_MP10090_fastq/20220602_27_MYB-dTAG_1h_P31FUJ_DMSO_C_MP10090_S73_R2_001.fastq.gz\r\n",
      "gs://transfer-amlproject/220602_MP10090_fastq/20220602_28_MYB-dTAG_1h_P31FUJ_DMSO_D_MP10090_S74_R1_001.fastq.gz\r\n",
      "gs://transfer-amlproject/220602_MP10090_fastq/20220602_28_MYB-dTAG_1h_P31FUJ_DMSO_D_MP10090_S74_R2_001.fastq.gz\r\n",
      "gs://transfer-amlproject/220602_MP10090_fastq/20220602_29_MYB-dTAG_1h_P31FUJ_VHL_A_MP10090_S75_R1_001.fastq.gz\r\n",
      "gs://transfer-amlproject/220602_MP10090_fastq/20220602_29_MYB-dTAG_1h_P31FUJ_VHL_A_MP10090_S75_R2_001.fastq.gz\r\n",
      "gs://transfer-amlproject/220602_MP10090_fastq/20220602_2_MYB-dTAG_1h_MV411_DMSO_B_MP10090_S49_R1_001.fastq.gz\r\n",
      "gs://transfer-amlproject/220602_MP10090_fastq/20220602_2_MYB-dTAG_1h_MV411_DMSO_B_MP10090_S49_R2_001.fastq.gz\r\n",
      "gs://transfer-amlproject/220602_MP10090_fastq/20220602_30_MYB-dTAG_1h_P31FUJ_VHL_B_MP10090_S76_R1_001.fastq.gz\r\n",
      "gs://transfer-amlproject/220602_MP10090_fastq/20220602_30_MYB-dTAG_1h_P31FUJ_VHL_B_MP10090_S76_R2_001.fastq.gz\r\n",
      "gs://transfer-amlproject/220602_MP10090_fastq/20220602_31_MYB-dTAG_1h_P31FUJ_VHL_C_MP10090_S77_R1_001.fastq.gz\r\n",
      "gs://transfer-amlproject/220602_MP10090_fastq/20220602_31_MYB-dTAG_1h_P31FUJ_VHL_C_MP10090_S77_R2_001.fastq.gz\r\n",
      "gs://transfer-amlproject/220602_MP10090_fastq/20220602_32_MYB-dTAG_1h_P31FUJ_VHL_D_MP10090_S78_R1_001.fastq.gz\r\n",
      "gs://transfer-amlproject/220602_MP10090_fastq/20220602_32_MYB-dTAG_1h_P31FUJ_VHL_D_MP10090_S78_R2_001.fastq.gz\r\n",
      "gs://transfer-amlproject/220602_MP10090_fastq/20220602_33_MYB-dTAG_1h_THP1_DMSO_A_MP10090_S79_R1_001.fastq.gz\r\n",
      "gs://transfer-amlproject/220602_MP10090_fastq/20220602_33_MYB-dTAG_1h_THP1_DMSO_A_MP10090_S79_R2_001.fastq.gz\r\n",
      "gs://transfer-amlproject/220602_MP10090_fastq/20220602_34_MYB-dTAG_1h_THP1_DMSO_B_MP10090_S80_R1_001.fastq.gz\r\n",
      "gs://transfer-amlproject/220602_MP10090_fastq/20220602_34_MYB-dTAG_1h_THP1_DMSO_B_MP10090_S80_R2_001.fastq.gz\r\n",
      "gs://transfer-amlproject/220602_MP10090_fastq/20220602_35_MYB-dTAG_1h_THP1_DMSO_C_MP10090_S81_R1_001.fastq.gz\r\n",
      "gs://transfer-amlproject/220602_MP10090_fastq/20220602_35_MYB-dTAG_1h_THP1_DMSO_C_MP10090_S81_R2_001.fastq.gz\r\n",
      "gs://transfer-amlproject/220602_MP10090_fastq/20220602_36_MYB-dTAG_1h_THP1_DMSO_D_MP10090_S82_R1_001.fastq.gz\r\n",
      "gs://transfer-amlproject/220602_MP10090_fastq/20220602_36_MYB-dTAG_1h_THP1_DMSO_D_MP10090_S82_R2_001.fastq.gz\r\n",
      "gs://transfer-amlproject/220602_MP10090_fastq/20220602_37_MYB-dTAG_1h_THP1_VHL_A_MP10090_S83_R1_001.fastq.gz\r\n",
      "gs://transfer-amlproject/220602_MP10090_fastq/20220602_37_MYB-dTAG_1h_THP1_VHL_A_MP10090_S83_R2_001.fastq.gz\r\n",
      "gs://transfer-amlproject/220602_MP10090_fastq/20220602_38_MYB-dTAG_1h_THP1_VHL_B_MP10090_S84_R1_001.fastq.gz\r\n",
      "gs://transfer-amlproject/220602_MP10090_fastq/20220602_38_MYB-dTAG_1h_THP1_VHL_B_MP10090_S84_R2_001.fastq.gz\r\n",
      "gs://transfer-amlproject/220602_MP10090_fastq/20220602_39_MYB-dTAG_1h_THP1_VHL_C_MP10090_S85_R1_001.fastq.gz\r\n",
      "gs://transfer-amlproject/220602_MP10090_fastq/20220602_39_MYB-dTAG_1h_THP1_VHL_C_MP10090_S85_R2_001.fastq.gz\r\n",
      "gs://transfer-amlproject/220602_MP10090_fastq/20220602_3_MYB-dTAG_1h_MV411_DMSO_C_MP10090_S50_R1_001.fastq.gz\r\n",
      "gs://transfer-amlproject/220602_MP10090_fastq/20220602_3_MYB-dTAG_1h_MV411_DMSO_C_MP10090_S50_R2_001.fastq.gz\r\n",
      "gs://transfer-amlproject/220602_MP10090_fastq/20220602_40_MYB-dTAG_1h_THP1_VHL_D_MP10090_S86_R1_001.fastq.gz\r\n",
      "gs://transfer-amlproject/220602_MP10090_fastq/20220602_40_MYB-dTAG_1h_THP1_VHL_D_MP10090_S86_R2_001.fastq.gz\r\n",
      "gs://transfer-amlproject/220602_MP10090_fastq/20220602_4_MYB-dTAG_1h_MV411_DMSO_D_MP10090_S51_R1_001.fastq.gz\r\n",
      "gs://transfer-amlproject/220602_MP10090_fastq/20220602_4_MYB-dTAG_1h_MV411_DMSO_D_MP10090_S51_R2_001.fastq.gz\r\n",
      "gs://transfer-amlproject/220602_MP10090_fastq/20220602_5_MYB-dTAG_1h_MV411_VHL_A_MP10090_S52_R1_001.fastq.gz\r\n",
      "gs://transfer-amlproject/220602_MP10090_fastq/20220602_5_MYB-dTAG_1h_MV411_VHL_A_MP10090_S52_R2_001.fastq.gz\r\n",
      "gs://transfer-amlproject/220602_MP10090_fastq/20220602_7_MYB-dTAG_1h_MV411_VHL_C_MP10090_S53_R1_001.fastq.gz\r\n",
      "gs://transfer-amlproject/220602_MP10090_fastq/20220602_7_MYB-dTAG_1h_MV411_VHL_C_MP10090_S53_R2_001.fastq.gz\r\n",
      "gs://transfer-amlproject/220602_MP10090_fastq/20220602_8_MYB-dTAG_1h_MV411_VHL_D_MP10090_S54_R1_001.fastq.gz\r\n",
      "gs://transfer-amlproject/220602_MP10090_fastq/20220602_8_MYB-dTAG_1h_MV411_VHL_D_MP10090_S54_R2_001.fastq.gz\r\n",
      "gs://transfer-amlproject/220602_MP10090_fastq/20220602_9_MYB-dTAG_1h_MONOMAC1_DMSO_A_MP10090_S55_R1_001.fastq.gz\r\n",
      "gs://transfer-amlproject/220602_MP10090_fastq/20220602_9_MYB-dTAG_1h_MONOMAC1_DMSO_A_MP10090_S55_R2_001.fastq.gz\r\n",
      "gs://transfer-amlproject/220602_MP10090_fastq/multiqc_report.html\r\n",
      "gs://transfer-amlproject/220602_MP10090_fastq/Reports/\r\n",
      "gs://transfer-amlproject/220602_MP10090_fastq/multiqc_data/\r\n"
     ]
    }
   ],
   "source": [
    "! gsutil ls gs://transfer-amlproject/$loc/"
   ]
  },
  {
   "cell_type": "code",
   "execution_count": 33,
   "id": "4a15963c",
   "metadata": {
    "hidden": true
   },
   "outputs": [
    {
     "name": "stdout",
     "output_type": "stream",
     "text": [
      "gs://transfer-amlproject/20220602_16_MYB-dTAG_1h_MONOMAC1_VHL_D_MP10090_S62_R1_001.fastq.gz\r\n",
      "gs://transfer-amlproject/20220602_16_MYB-dTAG_1h_MONOMAC1_VHL_D_MP10090_S62_R2_001.fastq.gz\r\n"
     ]
    }
   ],
   "source": [
    "! gsutil ls gs://transfer-amlproject/*fastq.gz"
   ]
  },
  {
   "cell_type": "code",
   "execution_count": 32,
   "id": "b58d1a91",
   "metadata": {
    "hidden": true
   },
   "outputs": [
    {
     "name": "stdout",
     "output_type": "stream",
     "text": [
      "Copying gs://transfer-amlproject/20220602_16_MYB-dTAG_1h_MONOMAC1_VHL_D_MP10090_S62_R1_001.fastq.gz [Content-Type=application/octet-stream]...\n",
      "Copying gs://transfer-amlproject/20220602_16_MYB-dTAG_1h_MONOMAC1_VHL_D_MP10090_S62_R2_001.fastq.gz [Content-Type=application/octet-stream]...\n",
      "/ [2/2 files][  6.9 GiB/  6.9 GiB] 100% Done                                    \n",
      "Operation completed over 2 objects/6.9 GiB.                                      \n"
     ]
    }
   ],
   "source": [
    "! gsutil -m cp gs://transfer-amlproject/*fastq.gz gs://transfer-amlproject/$loc/"
   ]
  },
  {
   "cell_type": "code",
   "execution_count": 12,
   "id": "7be71396",
   "metadata": {
    "collapsed": true,
    "hidden": true
   },
   "outputs": [
    {
     "name": "stdout",
     "output_type": "stream",
     "text": [
      "Copying gs://transfer-amlproject/220602_MP10090_fastq/multiqc_report.html...\n",
      "/ [1/1 files][  2.0 MiB/  2.0 MiB] 100% Done                                    \n",
      "Operation completed over 1 objects/2.0 MiB.                                      \n",
      "Copying gs://transfer-amlproject/220602_MP10090_fastq/Reports/20220602_10_MYB-dTAG_1h_MONOMAC1_DMSO_B_MP10090_S56_R1_001_fastqc.html...\n",
      "Copying gs://transfer-amlproject/220602_MP10090_fastq/Reports/20220602_10_MYB-dTAG_1h_MONOMAC1_DMSO_B_MP10090_S56_R1_001_fastqc.zip...\n",
      "Copying gs://transfer-amlproject/220602_MP10090_fastq/Reports/20220602_10_MYB-dTAG_1h_MONOMAC1_DMSO_B_MP10090_S56_R2_001_fastqc.html...\n",
      "Copying gs://transfer-amlproject/220602_MP10090_fastq/Reports/20220602_11_MYB-dTAG_1h_MONOMAC1_DMSO_C_MP10090_S57_R2_001_fastqc.html...\n",
      "Copying gs://transfer-amlproject/220602_MP10090_fastq/Reports/20220602_10_MYB-dTAG_1h_MONOMAC1_DMSO_B_MP10090_S56_R2_001_fastqc.zip...\n",
      "Copying gs://transfer-amlproject/220602_MP10090_fastq/Reports/20220602_11_MYB-dTAG_1h_MONOMAC1_DMSO_C_MP10090_S57_R1_001_fastqc.html...\n",
      "Copying gs://transfer-amlproject/220602_MP10090_fastq/Reports/20220602_11_MYB-dTAG_1h_MONOMAC1_DMSO_C_MP10090_S57_R1_001_fastqc.zip...\n",
      "Copying gs://transfer-amlproject/220602_MP10090_fastq/Reports/20220602_11_MYB-dTAG_1h_MONOMAC1_DMSO_C_MP10090_S57_R2_001_fastqc.zip...\n",
      "Copying gs://transfer-amlproject/220602_MP10090_fastq/Reports/20220602_12_MYB-dTAG_1h_MONOMAC1_DMSO_D_MP10090_S58_R1_001_fastqc.html...\n",
      "Copying gs://transfer-amlproject/220602_MP10090_fastq/Reports/20220602_14_MYB-dTAG_1h_MONOMAC1_VHL_B_MP10090_S60_R1_001_fastqc.zip...\n",
      "Copying gs://transfer-amlproject/220602_MP10090_fastq/Reports/20220602_13_MYB-dTAG_1h_MONOMAC1_VHL_A_MP10090_S59_R1_001_fastqc.html...\n",
      "Copying gs://transfer-amlproject/220602_MP10090_fastq/Reports/20220602_13_MYB-dTAG_1h_MONOMAC1_VHL_A_MP10090_S59_R1_001_fastqc.zip...\n",
      "Copying gs://transfer-amlproject/220602_MP10090_fastq/Reports/20220602_12_MYB-dTAG_1h_MONOMAC1_DMSO_D_MP10090_S58_R2_001_fastqc.zip...\n",
      "Copying gs://transfer-amlproject/220602_MP10090_fastq/Reports/20220602_13_MYB-dTAG_1h_MONOMAC1_VHL_A_MP10090_S59_R2_001_fastqc.html...\n",
      "Copying gs://transfer-amlproject/220602_MP10090_fastq/Reports/20220602_12_MYB-dTAG_1h_MONOMAC1_DMSO_D_MP10090_S58_R1_001_fastqc.zip...\n",
      "Copying gs://transfer-amlproject/220602_MP10090_fastq/Reports/20220602_12_MYB-dTAG_1h_MONOMAC1_DMSO_D_MP10090_S58_R2_001_fastqc.html...\n",
      "Copying gs://transfer-amlproject/220602_MP10090_fastq/Reports/20220602_14_MYB-dTAG_1h_MONOMAC1_VHL_B_MP10090_S60_R1_001_fastqc.html...\n",
      "Copying gs://transfer-amlproject/220602_MP10090_fastq/Reports/20220602_13_MYB-dTAG_1h_MONOMAC1_VHL_A_MP10090_S59_R2_001_fastqc.zip...\n",
      "Copying gs://transfer-amlproject/220602_MP10090_fastq/Reports/20220602_14_MYB-dTAG_1h_MONOMAC1_VHL_B_MP10090_S60_R2_001_fastqc.html...\n",
      "Copying gs://transfer-amlproject/220602_MP10090_fastq/Reports/20220602_14_MYB-dTAG_1h_MONOMAC1_VHL_B_MP10090_S60_R2_001_fastqc.zip...\n",
      "Copying gs://transfer-amlproject/220602_MP10090_fastq/Reports/20220602_15_MYB-dTAG_1h_MONOMAC1_VHL_C_MP10090_S61_R1_001_fastqc.html...\n",
      "Copying gs://transfer-amlproject/220602_MP10090_fastq/Reports/20220602_16_MYB-dTAG_1h_MONOMAC1_VHL_D_MP10090_S62_R1_001_fastqc.zip...\n",
      "Copying gs://transfer-amlproject/220602_MP10090_fastq/Reports/20220602_15_MYB-dTAG_1h_MONOMAC1_VHL_C_MP10090_S61_R1_001_fastqc.zip...\n",
      "Copying gs://transfer-amlproject/220602_MP10090_fastq/Reports/20220602_16_MYB-dTAG_1h_MONOMAC1_VHL_D_MP10090_S62_R2_001_fastqc.zip...\n",
      "Copying gs://transfer-amlproject/220602_MP10090_fastq/Reports/20220602_15_MYB-dTAG_1h_MONOMAC1_VHL_C_MP10090_S61_R2_001_fastqc.html...\n",
      "Copying gs://transfer-amlproject/220602_MP10090_fastq/Reports/20220602_15_MYB-dTAG_1h_MONOMAC1_VHL_C_MP10090_S61_R2_001_fastqc.zip...\n",
      "Copying gs://transfer-amlproject/220602_MP10090_fastq/Reports/20220602_18_MYB-dTAG_1h_NOMO1_DMSO_B_MP10090_S64_R2_001_fastqc.zip...\n",
      "Copying gs://transfer-amlproject/220602_MP10090_fastq/Reports/20220602_17_MYB-dTAG_1h_NOMO1_DMSO_A_MP10090_S63_R1_001_fastqc.html...\n",
      "Copying gs://transfer-amlproject/220602_MP10090_fastq/Reports/20220602_18_MYB-dTAG_1h_NOMO1_DMSO_B_MP10090_S64_R1_001_fastqc.html...\n",
      "Copying gs://transfer-amlproject/220602_MP10090_fastq/Reports/20220602_16_MYB-dTAG_1h_MONOMAC1_VHL_D_MP10090_S62_R1_001_fastqc.html...\n",
      "Copying gs://transfer-amlproject/220602_MP10090_fastq/Reports/20220602_17_MYB-dTAG_1h_NOMO1_DMSO_A_MP10090_S63_R2_001_fastqc.html...\n",
      "Copying gs://transfer-amlproject/220602_MP10090_fastq/Reports/20220602_17_MYB-dTAG_1h_NOMO1_DMSO_A_MP10090_S63_R2_001_fastqc.zip...\n",
      "Copying gs://transfer-amlproject/220602_MP10090_fastq/Reports/20220602_17_MYB-dTAG_1h_NOMO1_DMSO_A_MP10090_S63_R1_001_fastqc.zip...\n",
      "Copying gs://transfer-amlproject/220602_MP10090_fastq/Reports/20220602_19_MYB-dTAG_1h_NOMO1_DMSO_C_MP10090_S65_R2_001_fastqc.html...\n",
      "Copying gs://transfer-amlproject/220602_MP10090_fastq/Reports/20220602_19_MYB-dTAG_1h_NOMO1_DMSO_C_MP10090_S65_R1_001_fastqc.zip...\n",
      "Copying gs://transfer-amlproject/220602_MP10090_fastq/Reports/20220602_18_MYB-dTAG_1h_NOMO1_DMSO_B_MP10090_S64_R1_001_fastqc.zip...\n",
      "Copying gs://transfer-amlproject/220602_MP10090_fastq/Reports/20220602_19_MYB-dTAG_1h_NOMO1_DMSO_C_MP10090_S65_R2_001_fastqc.zip...\n",
      "Copying gs://transfer-amlproject/220602_MP10090_fastq/Reports/20220602_16_MYB-dTAG_1h_MONOMAC1_VHL_D_MP10090_S62_R2_001_fastqc.html...\n",
      "Copying gs://transfer-amlproject/220602_MP10090_fastq/Reports/20220602_18_MYB-dTAG_1h_NOMO1_DMSO_B_MP10090_S64_R2_001_fastqc.html...\n",
      "Copying gs://transfer-amlproject/220602_MP10090_fastq/Reports/20220602_19_MYB-dTAG_1h_NOMO1_DMSO_C_MP10090_S65_R1_001_fastqc.html...\n",
      "Copying gs://transfer-amlproject/220602_MP10090_fastq/Reports/20220602_1_MYB-dTAG_1h_MV411_DMSO_A_MP10090_S48_R1_001_fastqc.html...\n",
      "Copying gs://transfer-amlproject/220602_MP10090_fastq/Reports/20220602_1_MYB-dTAG_1h_MV411_DMSO_A_MP10090_S48_R1_001_fastqc.zip...\n",
      "Copying gs://transfer-amlproject/220602_MP10090_fastq/Reports/20220602_1_MYB-dTAG_1h_MV411_DMSO_A_MP10090_S48_R2_001_fastqc.html...\n",
      "Copying gs://transfer-amlproject/220602_MP10090_fastq/Reports/20220602_1_MYB-dTAG_1h_MV411_DMSO_A_MP10090_S48_R2_001_fastqc.zip...\n",
      "Copying gs://transfer-amlproject/220602_MP10090_fastq/Reports/20220602_20_MYB-dTAG_1h_NOMO1_DMSO_D_MP10090_S66_R1_001_fastqc.html...\n",
      "Copying gs://transfer-amlproject/220602_MP10090_fastq/Reports/20220602_20_MYB-dTAG_1h_NOMO1_DMSO_D_MP10090_S66_R1_001_fastqc.zip...\n",
      "Copying gs://transfer-amlproject/220602_MP10090_fastq/Reports/20220602_20_MYB-dTAG_1h_NOMO1_DMSO_D_MP10090_S66_R2_001_fastqc.html...\n",
      "Copying gs://transfer-amlproject/220602_MP10090_fastq/Reports/20220602_20_MYB-dTAG_1h_NOMO1_DMSO_D_MP10090_S66_R2_001_fastqc.zip...\n",
      "Copying gs://transfer-amlproject/220602_MP10090_fastq/Reports/20220602_21_MYB-dTAG_1h_NOMO1_VHL_A_MP10090_S67_R1_001_fastqc.html...\n",
      "Copying gs://transfer-amlproject/220602_MP10090_fastq/Reports/20220602_21_MYB-dTAG_1h_NOMO1_VHL_A_MP10090_S67_R1_001_fastqc.zip...\n",
      "Copying gs://transfer-amlproject/220602_MP10090_fastq/Reports/20220602_21_MYB-dTAG_1h_NOMO1_VHL_A_MP10090_S67_R2_001_fastqc.html...\n",
      "Copying gs://transfer-amlproject/220602_MP10090_fastq/Reports/20220602_21_MYB-dTAG_1h_NOMO1_VHL_A_MP10090_S67_R2_001_fastqc.zip...\n",
      "Copying gs://transfer-amlproject/220602_MP10090_fastq/Reports/20220602_22_MYB-dTAG_1h_NOMO1_VHL_B_MP10090_S68_R1_001_fastqc.html...\n",
      "Copying gs://transfer-amlproject/220602_MP10090_fastq/Reports/20220602_22_MYB-dTAG_1h_NOMO1_VHL_B_MP10090_S68_R1_001_fastqc.zip...\n",
      "Copying gs://transfer-amlproject/220602_MP10090_fastq/Reports/20220602_22_MYB-dTAG_1h_NOMO1_VHL_B_MP10090_S68_R2_001_fastqc.html...\n",
      "Copying gs://transfer-amlproject/220602_MP10090_fastq/Reports/20220602_22_MYB-dTAG_1h_NOMO1_VHL_B_MP10090_S68_R2_001_fastqc.zip...\n",
      "Copying gs://transfer-amlproject/220602_MP10090_fastq/Reports/20220602_24_MYB-dTAG_1h_NOMO1_VHL_D_MP10090_S70_R1_001_fastqc.html...\n",
      "Copying gs://transfer-amlproject/220602_MP10090_fastq/Reports/20220602_23_MYB-dTAG_1h_NOMO1_VHL_C_MP10090_S69_R1_001_fastqc.html...\n",
      "Copying gs://transfer-amlproject/220602_MP10090_fastq/Reports/20220602_23_MYB-dTAG_1h_NOMO1_VHL_C_MP10090_S69_R1_001_fastqc.zip...\n",
      "Copying gs://transfer-amlproject/220602_MP10090_fastq/Reports/20220602_23_MYB-dTAG_1h_NOMO1_VHL_C_MP10090_S69_R2_001_fastqc.html...\n",
      "Copying gs://transfer-amlproject/220602_MP10090_fastq/Reports/20220602_24_MYB-dTAG_1h_NOMO1_VHL_D_MP10090_S70_R1_001_fastqc.zip...\n",
      "Copying gs://transfer-amlproject/220602_MP10090_fastq/Reports/20220602_23_MYB-dTAG_1h_NOMO1_VHL_C_MP10090_S69_R2_001_fastqc.zip...\n",
      "Copying gs://transfer-amlproject/220602_MP10090_fastq/Reports/20220602_25_MYB-dTAG_1h_P31FUJ_DMSO_A_MP10090_S71_R1_001_fastqc.html...\n",
      "Copying gs://transfer-amlproject/220602_MP10090_fastq/Reports/20220602_24_MYB-dTAG_1h_NOMO1_VHL_D_MP10090_S70_R2_001_fastqc.html...\n"
     ]
    },
    {
     "name": "stdout",
     "output_type": "stream",
     "text": [
      "Copying gs://transfer-amlproject/220602_MP10090_fastq/Reports/20220602_24_MYB-dTAG_1h_NOMO1_VHL_D_MP10090_S70_R2_001_fastqc.zip...\n",
      "Copying gs://transfer-amlproject/220602_MP10090_fastq/Reports/20220602_25_MYB-dTAG_1h_P31FUJ_DMSO_A_MP10090_S71_R1_001_fastqc.zip...\n",
      "Copying gs://transfer-amlproject/220602_MP10090_fastq/Reports/20220602_25_MYB-dTAG_1h_P31FUJ_DMSO_A_MP10090_S71_R2_001_fastqc.zip...\n",
      "Copying gs://transfer-amlproject/220602_MP10090_fastq/Reports/20220602_25_MYB-dTAG_1h_P31FUJ_DMSO_A_MP10090_S71_R2_001_fastqc.html...\n",
      "Copying gs://transfer-amlproject/220602_MP10090_fastq/Reports/20220602_26_MYB-dTAG_1h_P31FUJ_DMSO_B_MP10090_S72_R1_001_fastqc.html...\n",
      "Copying gs://transfer-amlproject/220602_MP10090_fastq/Reports/20220602_26_MYB-dTAG_1h_P31FUJ_DMSO_B_MP10090_S72_R1_001_fastqc.zip...\n",
      "Copying gs://transfer-amlproject/220602_MP10090_fastq/Reports/20220602_26_MYB-dTAG_1h_P31FUJ_DMSO_B_MP10090_S72_R2_001_fastqc.html...\n",
      "Copying gs://transfer-amlproject/220602_MP10090_fastq/Reports/20220602_26_MYB-dTAG_1h_P31FUJ_DMSO_B_MP10090_S72_R2_001_fastqc.zip...\n",
      "Copying gs://transfer-amlproject/220602_MP10090_fastq/Reports/20220602_27_MYB-dTAG_1h_P31FUJ_DMSO_C_MP10090_S73_R1_001_fastqc.html...\n",
      "Copying gs://transfer-amlproject/220602_MP10090_fastq/Reports/20220602_27_MYB-dTAG_1h_P31FUJ_DMSO_C_MP10090_S73_R1_001_fastqc.zip...\n",
      "Copying gs://transfer-amlproject/220602_MP10090_fastq/Reports/20220602_27_MYB-dTAG_1h_P31FUJ_DMSO_C_MP10090_S73_R2_001_fastqc.html...\n",
      "Copying gs://transfer-amlproject/220602_MP10090_fastq/Reports/20220602_27_MYB-dTAG_1h_P31FUJ_DMSO_C_MP10090_S73_R2_001_fastqc.zip...\n",
      "Copying gs://transfer-amlproject/220602_MP10090_fastq/Reports/20220602_28_MYB-dTAG_1h_P31FUJ_DMSO_D_MP10090_S74_R1_001_fastqc.html...\n",
      "Copying gs://transfer-amlproject/220602_MP10090_fastq/Reports/20220602_28_MYB-dTAG_1h_P31FUJ_DMSO_D_MP10090_S74_R2_001_fastqc.zip...\n",
      "Copying gs://transfer-amlproject/220602_MP10090_fastq/Reports/20220602_28_MYB-dTAG_1h_P31FUJ_DMSO_D_MP10090_S74_R2_001_fastqc.html...\n",
      "Copying gs://transfer-amlproject/220602_MP10090_fastq/Reports/20220602_29_MYB-dTAG_1h_P31FUJ_VHL_A_MP10090_S75_R1_001_fastqc.html...\n",
      "Copying gs://transfer-amlproject/220602_MP10090_fastq/Reports/20220602_29_MYB-dTAG_1h_P31FUJ_VHL_A_MP10090_S75_R1_001_fastqc.zip...\n",
      "Copying gs://transfer-amlproject/220602_MP10090_fastq/Reports/20220602_28_MYB-dTAG_1h_P31FUJ_DMSO_D_MP10090_S74_R1_001_fastqc.zip...\n",
      "Copying gs://transfer-amlproject/220602_MP10090_fastq/Reports/20220602_29_MYB-dTAG_1h_P31FUJ_VHL_A_MP10090_S75_R2_001_fastqc.html...\n",
      "Copying gs://transfer-amlproject/220602_MP10090_fastq/Reports/20220602_29_MYB-dTAG_1h_P31FUJ_VHL_A_MP10090_S75_R2_001_fastqc.zip...\n",
      "Copying gs://transfer-amlproject/220602_MP10090_fastq/Reports/20220602_2_MYB-dTAG_1h_MV411_DMSO_B_MP10090_S49_R1_001_fastqc.html...\n",
      "Copying gs://transfer-amlproject/220602_MP10090_fastq/Reports/20220602_2_MYB-dTAG_1h_MV411_DMSO_B_MP10090_S49_R2_001_fastqc.html...\n",
      "Copying gs://transfer-amlproject/220602_MP10090_fastq/Reports/20220602_2_MYB-dTAG_1h_MV411_DMSO_B_MP10090_S49_R1_001_fastqc.zip...\n",
      "Copying gs://transfer-amlproject/220602_MP10090_fastq/Reports/20220602_2_MYB-dTAG_1h_MV411_DMSO_B_MP10090_S49_R2_001_fastqc.zip...\n",
      "Copying gs://transfer-amlproject/220602_MP10090_fastq/Reports/20220602_30_MYB-dTAG_1h_P31FUJ_VHL_B_MP10090_S76_R1_001_fastqc.html...\n",
      "Copying gs://transfer-amlproject/220602_MP10090_fastq/Reports/20220602_30_MYB-dTAG_1h_P31FUJ_VHL_B_MP10090_S76_R1_001_fastqc.zip...\n",
      "Copying gs://transfer-amlproject/220602_MP10090_fastq/Reports/20220602_30_MYB-dTAG_1h_P31FUJ_VHL_B_MP10090_S76_R2_001_fastqc.html...\n",
      "Copying gs://transfer-amlproject/220602_MP10090_fastq/Reports/20220602_30_MYB-dTAG_1h_P31FUJ_VHL_B_MP10090_S76_R2_001_fastqc.zip...\n",
      "Copying gs://transfer-amlproject/220602_MP10090_fastq/Reports/20220602_31_MYB-dTAG_1h_P31FUJ_VHL_C_MP10090_S77_R1_001_fastqc.html...\n",
      "Copying gs://transfer-amlproject/220602_MP10090_fastq/Reports/20220602_31_MYB-dTAG_1h_P31FUJ_VHL_C_MP10090_S77_R1_001_fastqc.zip...\n",
      "Copying gs://transfer-amlproject/220602_MP10090_fastq/Reports/20220602_31_MYB-dTAG_1h_P31FUJ_VHL_C_MP10090_S77_R2_001_fastqc.html...\n",
      "Copying gs://transfer-amlproject/220602_MP10090_fastq/Reports/20220602_31_MYB-dTAG_1h_P31FUJ_VHL_C_MP10090_S77_R2_001_fastqc.zip...\n",
      "Copying gs://transfer-amlproject/220602_MP10090_fastq/Reports/20220602_32_MYB-dTAG_1h_P31FUJ_VHL_D_MP10090_S78_R1_001_fastqc.html...\n",
      "Copying gs://transfer-amlproject/220602_MP10090_fastq/Reports/20220602_32_MYB-dTAG_1h_P31FUJ_VHL_D_MP10090_S78_R2_001_fastqc.html...\n",
      "Copying gs://transfer-amlproject/220602_MP10090_fastq/Reports/20220602_32_MYB-dTAG_1h_P31FUJ_VHL_D_MP10090_S78_R1_001_fastqc.zip...\n",
      "Copying gs://transfer-amlproject/220602_MP10090_fastq/Reports/20220602_32_MYB-dTAG_1h_P31FUJ_VHL_D_MP10090_S78_R2_001_fastqc.zip...\n",
      "Copying gs://transfer-amlproject/220602_MP10090_fastq/Reports/20220602_33_MYB-dTAG_1h_THP1_DMSO_A_MP10090_S79_R1_001_fastqc.html...\n",
      "Copying gs://transfer-amlproject/220602_MP10090_fastq/Reports/20220602_33_MYB-dTAG_1h_THP1_DMSO_A_MP10090_S79_R1_001_fastqc.zip...\n",
      "Copying gs://transfer-amlproject/220602_MP10090_fastq/Reports/20220602_33_MYB-dTAG_1h_THP1_DMSO_A_MP10090_S79_R2_001_fastqc.zip...\n",
      "Copying gs://transfer-amlproject/220602_MP10090_fastq/Reports/20220602_33_MYB-dTAG_1h_THP1_DMSO_A_MP10090_S79_R2_001_fastqc.html...\n",
      "Copying gs://transfer-amlproject/220602_MP10090_fastq/Reports/20220602_34_MYB-dTAG_1h_THP1_DMSO_B_MP10090_S80_R1_001_fastqc.html...\n",
      "Copying gs://transfer-amlproject/220602_MP10090_fastq/Reports/20220602_34_MYB-dTAG_1h_THP1_DMSO_B_MP10090_S80_R1_001_fastqc.zip...\n",
      "Copying gs://transfer-amlproject/220602_MP10090_fastq/Reports/20220602_35_MYB-dTAG_1h_THP1_DMSO_C_MP10090_S81_R1_001_fastqc.html...\n",
      "Copying gs://transfer-amlproject/220602_MP10090_fastq/Reports/20220602_34_MYB-dTAG_1h_THP1_DMSO_B_MP10090_S80_R2_001_fastqc.zip...\n",
      "Copying gs://transfer-amlproject/220602_MP10090_fastq/Reports/20220602_35_MYB-dTAG_1h_THP1_DMSO_C_MP10090_S81_R1_001_fastqc.zip...\n",
      "Copying gs://transfer-amlproject/220602_MP10090_fastq/Reports/20220602_34_MYB-dTAG_1h_THP1_DMSO_B_MP10090_S80_R2_001_fastqc.html...\n",
      "Copying gs://transfer-amlproject/220602_MP10090_fastq/Reports/20220602_35_MYB-dTAG_1h_THP1_DMSO_C_MP10090_S81_R2_001_fastqc.html...\n",
      "Copying gs://transfer-amlproject/220602_MP10090_fastq/Reports/20220602_36_MYB-dTAG_1h_THP1_DMSO_D_MP10090_S82_R1_001_fastqc.zip...\n",
      "Copying gs://transfer-amlproject/220602_MP10090_fastq/Reports/20220602_35_MYB-dTAG_1h_THP1_DMSO_C_MP10090_S81_R2_001_fastqc.zip...\n",
      "Copying gs://transfer-amlproject/220602_MP10090_fastq/Reports/20220602_36_MYB-dTAG_1h_THP1_DMSO_D_MP10090_S82_R2_001_fastqc.zip...\n",
      "Copying gs://transfer-amlproject/220602_MP10090_fastq/Reports/20220602_36_MYB-dTAG_1h_THP1_DMSO_D_MP10090_S82_R1_001_fastqc.html...\n",
      "Copying gs://transfer-amlproject/220602_MP10090_fastq/Reports/20220602_37_MYB-dTAG_1h_THP1_VHL_A_MP10090_S83_R1_001_fastqc.html...\n",
      "Copying gs://transfer-amlproject/220602_MP10090_fastq/Reports/20220602_36_MYB-dTAG_1h_THP1_DMSO_D_MP10090_S82_R2_001_fastqc.html...\n",
      "Copying gs://transfer-amlproject/220602_MP10090_fastq/Reports/20220602_37_MYB-dTAG_1h_THP1_VHL_A_MP10090_S83_R2_001_fastqc.html...\n",
      "Copying gs://transfer-amlproject/220602_MP10090_fastq/Reports/20220602_37_MYB-dTAG_1h_THP1_VHL_A_MP10090_S83_R1_001_fastqc.zip...\n",
      "Copying gs://transfer-amlproject/220602_MP10090_fastq/Reports/20220602_37_MYB-dTAG_1h_THP1_VHL_A_MP10090_S83_R2_001_fastqc.zip...\n",
      "Copying gs://transfer-amlproject/220602_MP10090_fastq/Reports/20220602_38_MYB-dTAG_1h_THP1_VHL_B_MP10090_S84_R1_001_fastqc.html...\n",
      "Copying gs://transfer-amlproject/220602_MP10090_fastq/Reports/20220602_38_MYB-dTAG_1h_THP1_VHL_B_MP10090_S84_R1_001_fastqc.zip...\n",
      "Copying gs://transfer-amlproject/220602_MP10090_fastq/Reports/20220602_38_MYB-dTAG_1h_THP1_VHL_B_MP10090_S84_R2_001_fastqc.zip...\n",
      "Copying gs://transfer-amlproject/220602_MP10090_fastq/Reports/20220602_38_MYB-dTAG_1h_THP1_VHL_B_MP10090_S84_R2_001_fastqc.html...\n",
      "Copying gs://transfer-amlproject/220602_MP10090_fastq/Reports/20220602_3_MYB-dTAG_1h_MV411_DMSO_C_MP10090_S50_R1_001_fastqc.html...\n",
      "Copying gs://transfer-amlproject/220602_MP10090_fastq/Reports/20220602_39_MYB-dTAG_1h_THP1_VHL_C_MP10090_S85_R1_001_fastqc.html...\n",
      "Copying gs://transfer-amlproject/220602_MP10090_fastq/Reports/20220602_39_MYB-dTAG_1h_THP1_VHL_C_MP10090_S85_R1_001_fastqc.zip...\n",
      "Copying gs://transfer-amlproject/220602_MP10090_fastq/Reports/20220602_39_MYB-dTAG_1h_THP1_VHL_C_MP10090_S85_R2_001_fastqc.html...\n",
      "Copying gs://transfer-amlproject/220602_MP10090_fastq/Reports/20220602_3_MYB-dTAG_1h_MV411_DMSO_C_MP10090_S50_R1_001_fastqc.zip...\n",
      "Copying gs://transfer-amlproject/220602_MP10090_fastq/Reports/20220602_3_MYB-dTAG_1h_MV411_DMSO_C_MP10090_S50_R2_001_fastqc.html...\n",
      "Copying gs://transfer-amlproject/220602_MP10090_fastq/Reports/20220602_39_MYB-dTAG_1h_THP1_VHL_C_MP10090_S85_R2_001_fastqc.zip...\n",
      "Copying gs://transfer-amlproject/220602_MP10090_fastq/Reports/20220602_3_MYB-dTAG_1h_MV411_DMSO_C_MP10090_S50_R2_001_fastqc.zip...\n",
      "Copying gs://transfer-amlproject/220602_MP10090_fastq/Reports/20220602_40_MYB-dTAG_1h_THP1_VHL_D_MP10090_S86_R1_001_fastqc.zip...\n"
     ]
    },
    {
     "name": "stdout",
     "output_type": "stream",
     "text": [
      "Copying gs://transfer-amlproject/220602_MP10090_fastq/Reports/20220602_40_MYB-dTAG_1h_THP1_VHL_D_MP10090_S86_R1_001_fastqc.html...\n",
      "Copying gs://transfer-amlproject/220602_MP10090_fastq/Reports/20220602_40_MYB-dTAG_1h_THP1_VHL_D_MP10090_S86_R2_001_fastqc.zip...\n",
      "Copying gs://transfer-amlproject/220602_MP10090_fastq/Reports/20220602_40_MYB-dTAG_1h_THP1_VHL_D_MP10090_S86_R2_001_fastqc.html...\n",
      "Copying gs://transfer-amlproject/220602_MP10090_fastq/Reports/20220602_4_MYB-dTAG_1h_MV411_DMSO_D_MP10090_S51_R1_001_fastqc.html...\n",
      "Copying gs://transfer-amlproject/220602_MP10090_fastq/Reports/20220602_4_MYB-dTAG_1h_MV411_DMSO_D_MP10090_S51_R1_001_fastqc.zip...\n",
      "Copying gs://transfer-amlproject/220602_MP10090_fastq/Reports/20220602_4_MYB-dTAG_1h_MV411_DMSO_D_MP10090_S51_R2_001_fastqc.html...\n",
      "Copying gs://transfer-amlproject/220602_MP10090_fastq/Reports/20220602_4_MYB-dTAG_1h_MV411_DMSO_D_MP10090_S51_R2_001_fastqc.zip...\n",
      "Copying gs://transfer-amlproject/220602_MP10090_fastq/Reports/20220602_5_MYB-dTAG_1h_MV411_VHL_A_MP10090_S52_R1_001_fastqc.html...\n",
      "Copying gs://transfer-amlproject/220602_MP10090_fastq/Reports/20220602_5_MYB-dTAG_1h_MV411_VHL_A_MP10090_S52_R1_001_fastqc.zip...\n",
      "Copying gs://transfer-amlproject/220602_MP10090_fastq/Reports/20220602_5_MYB-dTAG_1h_MV411_VHL_A_MP10090_S52_R2_001_fastqc.html...\n",
      "Copying gs://transfer-amlproject/220602_MP10090_fastq/Reports/20220602_5_MYB-dTAG_1h_MV411_VHL_A_MP10090_S52_R2_001_fastqc.zip...\n",
      "Copying gs://transfer-amlproject/220602_MP10090_fastq/Reports/20220602_7_MYB-dTAG_1h_MV411_VHL_C_MP10090_S53_R2_001_fastqc.html...\n",
      "Copying gs://transfer-amlproject/220602_MP10090_fastq/Reports/20220602_7_MYB-dTAG_1h_MV411_VHL_C_MP10090_S53_R2_001_fastqc.zip...\n",
      "Copying gs://transfer-amlproject/220602_MP10090_fastq/Reports/20220602_7_MYB-dTAG_1h_MV411_VHL_C_MP10090_S53_R1_001_fastqc.html...\n",
      "Copying gs://transfer-amlproject/220602_MP10090_fastq/Reports/20220602_7_MYB-dTAG_1h_MV411_VHL_C_MP10090_S53_R1_001_fastqc.zip...\n",
      "Copying gs://transfer-amlproject/220602_MP10090_fastq/Reports/20220602_8_MYB-dTAG_1h_MV411_VHL_D_MP10090_S54_R1_001_fastqc.zip...\n",
      "Copying gs://transfer-amlproject/220602_MP10090_fastq/Reports/20220602_8_MYB-dTAG_1h_MV411_VHL_D_MP10090_S54_R1_001_fastqc.html...\n",
      "Copying gs://transfer-amlproject/220602_MP10090_fastq/Reports/20220602_8_MYB-dTAG_1h_MV411_VHL_D_MP10090_S54_R2_001_fastqc.html...\n",
      "Copying gs://transfer-amlproject/220602_MP10090_fastq/Reports/20220602_8_MYB-dTAG_1h_MV411_VHL_D_MP10090_S54_R2_001_fastqc.zip...\n",
      "Copying gs://transfer-amlproject/220602_MP10090_fastq/Reports/20220602_9_MYB-dTAG_1h_MONOMAC1_DMSO_A_MP10090_S55_R1_001_fastqc.html...\n",
      "Copying gs://transfer-amlproject/220602_MP10090_fastq/Reports/20220602_9_MYB-dTAG_1h_MONOMAC1_DMSO_A_MP10090_S55_R1_001_fastqc.zip...\n",
      "Copying gs://transfer-amlproject/220602_MP10090_fastq/Reports/20220602_9_MYB-dTAG_1h_MONOMAC1_DMSO_A_MP10090_S55_R2_001_fastqc.zip...\n",
      "Copying gs://transfer-amlproject/220602_MP10090_fastq/Reports/20220602_9_MYB-dTAG_1h_MONOMAC1_DMSO_A_MP10090_S55_R2_001_fastqc.html...\n",
      "- [156/156 files][ 73.0 MiB/ 73.0 MiB] 100% Done                                \n",
      "Operation completed over 156 objects/73.0 MiB.                                   \n",
      "Copying gs://transfer-amlproject/220602_MP10090_fastq/multiqc_data/multiqc.log...\n",
      "Copying gs://transfer-amlproject/220602_MP10090_fastq/multiqc_data/multiqc_data.json...\n",
      "Copying gs://transfer-amlproject/220602_MP10090_fastq/multiqc_data/multiqc_fastqc.txt...\n",
      "Copying gs://transfer-amlproject/220602_MP10090_fastq/multiqc_data/multiqc_general_stats.txt...\n",
      "Copying gs://transfer-amlproject/220602_MP10090_fastq/multiqc_data/multiqc_qualimap_bamqc_genome_results.txt...\n",
      "Copying gs://transfer-amlproject/220602_MP10090_fastq/multiqc_data/multiqc_sources.txt...\n",
      "/ [6/6 files][  4.7 MiB/  4.7 MiB] 100% Done                                    \n",
      "Operation completed over 6 objects/4.7 MiB.                                      \n"
     ]
    }
   ],
   "source": [
    "# transfer qc files\n",
    "! gsutil -m cp gs://transfer-amlproject/$loc/multiqc_report.html $location/qc/\n",
    "! gsutil -m cp -r gs://transfer-amlproject/$loc/Reports/ $location/qc/\n",
    "! gsutil -m cp -r gs://transfer-amlproject/$loc/multiqc_data/ $location/qc/"
   ]
  },
  {
   "cell_type": "code",
   "execution_count": 13,
   "id": "f9b9bc57",
   "metadata": {
    "hidden": true
   },
   "outputs": [],
   "source": [
    "! cp $location/qc/multiqc_report.html ../results/slamseq_$project"
   ]
  },
  {
   "cell_type": "code",
   "execution_count": 35,
   "id": "3e8aea5d",
   "metadata": {
    "hidden": true
   },
   "outputs": [],
   "source": [
    "fastqs = ! gsutil ls gs://transfer-amlproject/$loc/*.gz"
   ]
  },
  {
   "cell_type": "markdown",
   "id": "fbbd665e",
   "metadata": {
    "hidden": true
   },
   "source": [
    "add sample names to AML sample tracker google sheet (RNA_tracker_JK)"
   ]
  },
  {
   "cell_type": "markdown",
   "id": "0840f6bd",
   "metadata": {
    "hidden": true
   },
   "source": [
    "__6_MYB-dTAG_1h_MV411_VHL_B__: failed initial QC (not enough RNA)"
   ]
  },
  {
   "cell_type": "code",
   "execution_count": 36,
   "id": "b100f1ed",
   "metadata": {
    "collapsed": true,
    "hidden": true
   },
   "outputs": [
    {
     "name": "stdout",
     "output_type": "stream",
     "text": [
      "78\n"
     ]
    },
    {
     "data": {
      "text/plain": [
       "['gs://transfer-amlproject/220602_MP10090_fastq/20220602_10_MYB-dTAG_1h_MONOMAC1_DMSO_B_MP10090_S56',\n",
       " 'gs://transfer-amlproject/220602_MP10090_fastq/20220602_11_MYB-dTAG_1h_MONOMAC1_DMSO_C_MP10090_S57',\n",
       " 'gs://transfer-amlproject/220602_MP10090_fastq/20220602_12_MYB-dTAG_1h_MONOMAC1_DMSO_D_MP10090_S58',\n",
       " 'gs://transfer-amlproject/220602_MP10090_fastq/20220602_13_MYB-dTAG_1h_MONOMAC1_VHL_A_MP10090_S59',\n",
       " 'gs://transfer-amlproject/220602_MP10090_fastq/20220602_14_MYB-dTAG_1h_MONOMAC1_VHL_B_MP10090_S60',\n",
       " 'gs://transfer-amlproject/220602_MP10090_fastq/20220602_15_MYB-dTAG_1h_MONOMAC1_VHL_C_MP10090_S61',\n",
       " 'gs://transfer-amlproject/220602_MP10090_fastq/20220602_16_MYB-dTAG_1h_MONOMAC1_VHL_D_MP10090_S62',\n",
       " 'gs://transfer-amlproject/220602_MP10090_fastq/20220602_17_MYB-dTAG_1h_NOMO1_DMSO_A_MP10090_S63',\n",
       " 'gs://transfer-amlproject/220602_MP10090_fastq/20220602_18_MYB-dTAG_1h_NOMO1_DMSO_B_MP10090_S64',\n",
       " 'gs://transfer-amlproject/220602_MP10090_fastq/20220602_19_MYB-dTAG_1h_NOMO1_DMSO_C_MP10090_S65',\n",
       " 'gs://transfer-amlproject/220602_MP10090_fastq/20220602_1_MYB-dTAG_1h_MV411_DMSO_A_MP10090_S48',\n",
       " 'gs://transfer-amlproject/220602_MP10090_fastq/20220602_20_MYB-dTAG_1h_NOMO1_DMSO_D_MP10090_S66',\n",
       " 'gs://transfer-amlproject/220602_MP10090_fastq/20220602_21_MYB-dTAG_1h_NOMO1_VHL_A_MP10090_S67',\n",
       " 'gs://transfer-amlproject/220602_MP10090_fastq/20220602_22_MYB-dTAG_1h_NOMO1_VHL_B_MP10090_S68',\n",
       " 'gs://transfer-amlproject/220602_MP10090_fastq/20220602_23_MYB-dTAG_1h_NOMO1_VHL_C_MP10090_S69',\n",
       " 'gs://transfer-amlproject/220602_MP10090_fastq/20220602_24_MYB-dTAG_1h_NOMO1_VHL_D_MP10090_S70',\n",
       " 'gs://transfer-amlproject/220602_MP10090_fastq/20220602_25_MYB-dTAG_1h_P31FUJ_DMSO_A_MP10090_S71',\n",
       " 'gs://transfer-amlproject/220602_MP10090_fastq/20220602_26_MYB-dTAG_1h_P31FUJ_DMSO_B_MP10090_S72',\n",
       " 'gs://transfer-amlproject/220602_MP10090_fastq/20220602_27_MYB-dTAG_1h_P31FUJ_DMSO_C_MP10090_S73',\n",
       " 'gs://transfer-amlproject/220602_MP10090_fastq/20220602_28_MYB-dTAG_1h_P31FUJ_DMSO_D_MP10090_S74',\n",
       " 'gs://transfer-amlproject/220602_MP10090_fastq/20220602_29_MYB-dTAG_1h_P31FUJ_VHL_A_MP10090_S75',\n",
       " 'gs://transfer-amlproject/220602_MP10090_fastq/20220602_2_MYB-dTAG_1h_MV411_DMSO_B_MP10090_S49',\n",
       " 'gs://transfer-amlproject/220602_MP10090_fastq/20220602_30_MYB-dTAG_1h_P31FUJ_VHL_B_MP10090_S76',\n",
       " 'gs://transfer-amlproject/220602_MP10090_fastq/20220602_31_MYB-dTAG_1h_P31FUJ_VHL_C_MP10090_S77',\n",
       " 'gs://transfer-amlproject/220602_MP10090_fastq/20220602_32_MYB-dTAG_1h_P31FUJ_VHL_D_MP10090_S78',\n",
       " 'gs://transfer-amlproject/220602_MP10090_fastq/20220602_33_MYB-dTAG_1h_THP1_DMSO_A_MP10090_S79',\n",
       " 'gs://transfer-amlproject/220602_MP10090_fastq/20220602_34_MYB-dTAG_1h_THP1_DMSO_B_MP10090_S80',\n",
       " 'gs://transfer-amlproject/220602_MP10090_fastq/20220602_35_MYB-dTAG_1h_THP1_DMSO_C_MP10090_S81',\n",
       " 'gs://transfer-amlproject/220602_MP10090_fastq/20220602_36_MYB-dTAG_1h_THP1_DMSO_D_MP10090_S82',\n",
       " 'gs://transfer-amlproject/220602_MP10090_fastq/20220602_37_MYB-dTAG_1h_THP1_VHL_A_MP10090_S83',\n",
       " 'gs://transfer-amlproject/220602_MP10090_fastq/20220602_38_MYB-dTAG_1h_THP1_VHL_B_MP10090_S84',\n",
       " 'gs://transfer-amlproject/220602_MP10090_fastq/20220602_39_MYB-dTAG_1h_THP1_VHL_C_MP10090_S85',\n",
       " 'gs://transfer-amlproject/220602_MP10090_fastq/20220602_3_MYB-dTAG_1h_MV411_DMSO_C_MP10090_S50',\n",
       " 'gs://transfer-amlproject/220602_MP10090_fastq/20220602_40_MYB-dTAG_1h_THP1_VHL_D_MP10090_S86',\n",
       " 'gs://transfer-amlproject/220602_MP10090_fastq/20220602_4_MYB-dTAG_1h_MV411_DMSO_D_MP10090_S51',\n",
       " 'gs://transfer-amlproject/220602_MP10090_fastq/20220602_5_MYB-dTAG_1h_MV411_VHL_A_MP10090_S52',\n",
       " 'gs://transfer-amlproject/220602_MP10090_fastq/20220602_7_MYB-dTAG_1h_MV411_VHL_C_MP10090_S53',\n",
       " 'gs://transfer-amlproject/220602_MP10090_fastq/20220602_8_MYB-dTAG_1h_MV411_VHL_D_MP10090_S54',\n",
       " 'gs://transfer-amlproject/220602_MP10090_fastq/20220602_9_MYB-dTAG_1h_MONOMAC1_DMSO_A_MP10090_S55']"
      ]
     },
     "execution_count": 36,
     "metadata": {},
     "output_type": "execute_result"
    }
   ],
   "source": [
    "print(len(fastqs))\n",
    "[f.split(\"_R\")[0] for f in fastqs[::2]]"
   ]
  },
  {
   "cell_type": "code",
   "execution_count": 40,
   "id": "9fa47c64",
   "metadata": {
    "collapsed": true,
    "hidden": true
   },
   "outputs": [
    {
     "name": "stdout",
     "output_type": "stream",
     "text": [
      "20220602_1_MYB-dTAG_1h_MV411_DMSO_A_MP10090_S48\n",
      "20220602_2_MYB-dTAG_1h_MV411_DMSO_B_MP10090_S49\n",
      "20220602_3_MYB-dTAG_1h_MV411_DMSO_C_MP10090_S50\n",
      "20220602_4_MYB-dTAG_1h_MV411_DMSO_D_MP10090_S51\n",
      "20220602_5_MYB-dTAG_1h_MV411_VHL_A_MP10090_S52\n",
      "20220602_7_MYB-dTAG_1h_MV411_VHL_C_MP10090_S53\n",
      "20220602_8_MYB-dTAG_1h_MV411_VHL_D_MP10090_S54\n",
      "20220602_9_MYB-dTAG_1h_MONOMAC1_DMSO_A_MP10090_S55\n",
      "20220602_10_MYB-dTAG_1h_MONOMAC1_DMSO_B_MP10090_S56\n",
      "20220602_11_MYB-dTAG_1h_MONOMAC1_DMSO_C_MP10090_S57\n",
      "20220602_12_MYB-dTAG_1h_MONOMAC1_DMSO_D_MP10090_S58\n",
      "20220602_13_MYB-dTAG_1h_MONOMAC1_VHL_A_MP10090_S59\n",
      "20220602_14_MYB-dTAG_1h_MONOMAC1_VHL_B_MP10090_S60\n",
      "20220602_15_MYB-dTAG_1h_MONOMAC1_VHL_C_MP10090_S61\n",
      "20220602_16_MYB-dTAG_1h_MONOMAC1_VHL_D_MP10090_S62\n",
      "20220602_17_MYB-dTAG_1h_NOMO1_DMSO_A_MP10090_S63\n",
      "20220602_18_MYB-dTAG_1h_NOMO1_DMSO_B_MP10090_S64\n",
      "20220602_19_MYB-dTAG_1h_NOMO1_DMSO_C_MP10090_S65\n",
      "20220602_20_MYB-dTAG_1h_NOMO1_DMSO_D_MP10090_S66\n",
      "20220602_21_MYB-dTAG_1h_NOMO1_VHL_A_MP10090_S67\n",
      "20220602_22_MYB-dTAG_1h_NOMO1_VHL_B_MP10090_S68\n",
      "20220602_23_MYB-dTAG_1h_NOMO1_VHL_C_MP10090_S69\n",
      "20220602_24_MYB-dTAG_1h_NOMO1_VHL_D_MP10090_S70\n",
      "20220602_25_MYB-dTAG_1h_P31FUJ_DMSO_A_MP10090_S71\n",
      "20220602_26_MYB-dTAG_1h_P31FUJ_DMSO_B_MP10090_S72\n",
      "20220602_27_MYB-dTAG_1h_P31FUJ_DMSO_C_MP10090_S73\n",
      "20220602_28_MYB-dTAG_1h_P31FUJ_DMSO_D_MP10090_S74\n",
      "20220602_29_MYB-dTAG_1h_P31FUJ_VHL_A_MP10090_S75\n",
      "20220602_30_MYB-dTAG_1h_P31FUJ_VHL_B_MP10090_S76\n",
      "20220602_31_MYB-dTAG_1h_P31FUJ_VHL_C_MP10090_S77\n",
      "20220602_32_MYB-dTAG_1h_P31FUJ_VHL_D_MP10090_S78\n",
      "20220602_33_MYB-dTAG_1h_THP1_DMSO_A_MP10090_S79\n",
      "20220602_34_MYB-dTAG_1h_THP1_DMSO_B_MP10090_S80\n",
      "20220602_35_MYB-dTAG_1h_THP1_DMSO_C_MP10090_S81\n",
      "20220602_36_MYB-dTAG_1h_THP1_DMSO_D_MP10090_S82\n",
      "20220602_37_MYB-dTAG_1h_THP1_VHL_A_MP10090_S83\n",
      "20220602_38_MYB-dTAG_1h_THP1_VHL_B_MP10090_S84\n",
      "20220602_39_MYB-dTAG_1h_THP1_VHL_C_MP10090_S85\n",
      "20220602_40_MYB-dTAG_1h_THP1_VHL_D_MP10090_S86\n"
     ]
    }
   ],
   "source": [
    "fastqs = [fastq.split(\"/\")[-1] for fastq in os_sorted(fastqs)]\n",
    "# add sample names to AML sample tracker google sheet\n",
    "for val1, val2 in h.grouped(fastqs, 2):\n",
    "    print(val1.split(\"_R\")[0])"
   ]
  },
  {
   "cell_type": "code",
   "execution_count": 41,
   "id": "4523ff19",
   "metadata": {
    "collapsed": true,
    "hidden": true
   },
   "outputs": [
    {
     "name": "stdout",
     "output_type": "stream",
     "text": [
      "Copying gs://transfer-amlproject/220602_MP10090_fastq/20220602_11_MYB-dTAG_1h_MONOMAC1_DMSO_C_MP10090_S57_R1_001.fastq.gz...\n",
      "Copying gs://transfer-amlproject/220602_MP10090_fastq/20220602_10_MYB-dTAG_1h_MONOMAC1_DMSO_B_MP10090_S56_R2_001.fastq.gz...\n",
      "Copying gs://transfer-amlproject/220602_MP10090_fastq/20220602_10_MYB-dTAG_1h_MONOMAC1_DMSO_B_MP10090_S56_R1_001.fastq.gz...\n",
      "Copying gs://transfer-amlproject/220602_MP10090_fastq/20220602_11_MYB-dTAG_1h_MONOMAC1_DMSO_C_MP10090_S57_R2_001.fastq.gz...\n",
      "Copying gs://transfer-amlproject/220602_MP10090_fastq/20220602_12_MYB-dTAG_1h_MONOMAC1_DMSO_D_MP10090_S58_R1_001.fastq.gz...\n",
      "Copying gs://transfer-amlproject/220602_MP10090_fastq/20220602_12_MYB-dTAG_1h_MONOMAC1_DMSO_D_MP10090_S58_R2_001.fastq.gz...\n",
      "Copying gs://transfer-amlproject/220602_MP10090_fastq/20220602_13_MYB-dTAG_1h_MONOMAC1_VHL_A_MP10090_S59_R2_001.fastq.gz...\n",
      "Copying gs://transfer-amlproject/220602_MP10090_fastq/20220602_14_MYB-dTAG_1h_MONOMAC1_VHL_B_MP10090_S60_R1_001.fastq.gz...\n",
      "Copying gs://transfer-amlproject/220602_MP10090_fastq/20220602_14_MYB-dTAG_1h_MONOMAC1_VHL_B_MP10090_S60_R2_001.fastq.gz...\n",
      "Copying gs://transfer-amlproject/220602_MP10090_fastq/20220602_15_MYB-dTAG_1h_MONOMAC1_VHL_C_MP10090_S61_R1_001.fastq.gz...\n",
      "Copying gs://transfer-amlproject/220602_MP10090_fastq/20220602_15_MYB-dTAG_1h_MONOMAC1_VHL_C_MP10090_S61_R2_001.fastq.gz...\n",
      "Copying gs://transfer-amlproject/220602_MP10090_fastq/20220602_16_MYB-dTAG_1h_MONOMAC1_VHL_D_MP10090_S62_R1_001.fastq.gz...\n",
      "Copying gs://transfer-amlproject/220602_MP10090_fastq/20220602_16_MYB-dTAG_1h_MONOMAC1_VHL_D_MP10090_S62_R2_001.fastq.gz...\n",
      "Copying gs://transfer-amlproject/220602_MP10090_fastq/20220602_17_MYB-dTAG_1h_NOMO1_DMSO_A_MP10090_S63_R1_001.fastq.gz...\n",
      "Copying gs://transfer-amlproject/220602_MP10090_fastq/20220602_13_MYB-dTAG_1h_MONOMAC1_VHL_A_MP10090_S59_R1_001.fastq.gz...\n",
      "Copying gs://transfer-amlproject/220602_MP10090_fastq/20220602_17_MYB-dTAG_1h_NOMO1_DMSO_A_MP10090_S63_R2_001.fastq.gz...\n",
      "Copying gs://transfer-amlproject/220602_MP10090_fastq/20220602_18_MYB-dTAG_1h_NOMO1_DMSO_B_MP10090_S64_R1_001.fastq.gz...\n",
      "Copying gs://transfer-amlproject/220602_MP10090_fastq/20220602_1_MYB-dTAG_1h_MV411_DMSO_A_MP10090_S48_R1_001.fastq.gz...\n",
      "Copying gs://transfer-amlproject/220602_MP10090_fastq/20220602_19_MYB-dTAG_1h_NOMO1_DMSO_C_MP10090_S65_R1_001.fastq.gz...\n",
      "Copying gs://transfer-amlproject/220602_MP10090_fastq/20220602_19_MYB-dTAG_1h_NOMO1_DMSO_C_MP10090_S65_R2_001.fastq.gz...\n",
      "Copying gs://transfer-amlproject/220602_MP10090_fastq/20220602_18_MYB-dTAG_1h_NOMO1_DMSO_B_MP10090_S64_R2_001.fastq.gz...\n",
      "Copying gs://transfer-amlproject/220602_MP10090_fastq/20220602_1_MYB-dTAG_1h_MV411_DMSO_A_MP10090_S48_R2_001.fastq.gz...\n",
      "Copying gs://transfer-amlproject/220602_MP10090_fastq/20220602_20_MYB-dTAG_1h_NOMO1_DMSO_D_MP10090_S66_R1_001.fastq.gz...\n",
      "Copying gs://transfer-amlproject/220602_MP10090_fastq/20220602_20_MYB-dTAG_1h_NOMO1_DMSO_D_MP10090_S66_R2_001.fastq.gz...\n",
      "Copying gs://transfer-amlproject/220602_MP10090_fastq/20220602_21_MYB-dTAG_1h_NOMO1_VHL_A_MP10090_S67_R1_001.fastq.gz...\n",
      "Copying gs://transfer-amlproject/220602_MP10090_fastq/20220602_21_MYB-dTAG_1h_NOMO1_VHL_A_MP10090_S67_R2_001.fastq.gz...\n",
      "Copying gs://transfer-amlproject/220602_MP10090_fastq/20220602_22_MYB-dTAG_1h_NOMO1_VHL_B_MP10090_S68_R1_001.fastq.gz...\n",
      "Copying gs://transfer-amlproject/220602_MP10090_fastq/20220602_25_MYB-dTAG_1h_P31FUJ_DMSO_A_MP10090_S71_R1_001.fastq.gz...\n",
      "Copying gs://transfer-amlproject/220602_MP10090_fastq/20220602_22_MYB-dTAG_1h_NOMO1_VHL_B_MP10090_S68_R2_001.fastq.gz...\n",
      "Copying gs://transfer-amlproject/220602_MP10090_fastq/20220602_23_MYB-dTAG_1h_NOMO1_VHL_C_MP10090_S69_R1_001.fastq.gz...\n",
      "Copying gs://transfer-amlproject/220602_MP10090_fastq/20220602_24_MYB-dTAG_1h_NOMO1_VHL_D_MP10090_S70_R1_001.fastq.gz...\n",
      "Copying gs://transfer-amlproject/220602_MP10090_fastq/20220602_26_MYB-dTAG_1h_P31FUJ_DMSO_B_MP10090_S72_R1_001.fastq.gz...\n",
      "Copying gs://transfer-amlproject/220602_MP10090_fastq/20220602_23_MYB-dTAG_1h_NOMO1_VHL_C_MP10090_S69_R2_001.fastq.gz...\n",
      "Copying gs://transfer-amlproject/220602_MP10090_fastq/20220602_27_MYB-dTAG_1h_P31FUJ_DMSO_C_MP10090_S73_R1_001.fastq.gz...\n",
      "Copying gs://transfer-amlproject/220602_MP10090_fastq/20220602_24_MYB-dTAG_1h_NOMO1_VHL_D_MP10090_S70_R2_001.fastq.gz...\n",
      "Copying gs://transfer-amlproject/220602_MP10090_fastq/20220602_25_MYB-dTAG_1h_P31FUJ_DMSO_A_MP10090_S71_R2_001.fastq.gz...\n",
      "Copying gs://transfer-amlproject/220602_MP10090_fastq/20220602_28_MYB-dTAG_1h_P31FUJ_DMSO_D_MP10090_S74_R1_001.fastq.gz...\n",
      "Copying gs://transfer-amlproject/220602_MP10090_fastq/20220602_26_MYB-dTAG_1h_P31FUJ_DMSO_B_MP10090_S72_R2_001.fastq.gz...\n",
      "Copying gs://transfer-amlproject/220602_MP10090_fastq/20220602_27_MYB-dTAG_1h_P31FUJ_DMSO_C_MP10090_S73_R2_001.fastq.gz...\n",
      "Copying gs://transfer-amlproject/220602_MP10090_fastq/20220602_28_MYB-dTAG_1h_P31FUJ_DMSO_D_MP10090_S74_R2_001.fastq.gz...\n",
      "Copying gs://transfer-amlproject/220602_MP10090_fastq/20220602_29_MYB-dTAG_1h_P31FUJ_VHL_A_MP10090_S75_R1_001.fastq.gz...\n",
      "Copying gs://transfer-amlproject/220602_MP10090_fastq/20220602_29_MYB-dTAG_1h_P31FUJ_VHL_A_MP10090_S75_R2_001.fastq.gz...\n",
      "Copying gs://transfer-amlproject/220602_MP10090_fastq/20220602_2_MYB-dTAG_1h_MV411_DMSO_B_MP10090_S49_R1_001.fastq.gz...\n",
      "Copying gs://transfer-amlproject/220602_MP10090_fastq/20220602_2_MYB-dTAG_1h_MV411_DMSO_B_MP10090_S49_R2_001.fastq.gz...\n",
      "Copying gs://transfer-amlproject/220602_MP10090_fastq/20220602_30_MYB-dTAG_1h_P31FUJ_VHL_B_MP10090_S76_R1_001.fastq.gz...\n",
      "Copying gs://transfer-amlproject/220602_MP10090_fastq/20220602_30_MYB-dTAG_1h_P31FUJ_VHL_B_MP10090_S76_R2_001.fastq.gz...\n",
      "Copying gs://transfer-amlproject/220602_MP10090_fastq/20220602_31_MYB-dTAG_1h_P31FUJ_VHL_C_MP10090_S77_R1_001.fastq.gz...\n",
      "Copying gs://transfer-amlproject/220602_MP10090_fastq/20220602_31_MYB-dTAG_1h_P31FUJ_VHL_C_MP10090_S77_R2_001.fastq.gz...\n",
      "Copying gs://transfer-amlproject/220602_MP10090_fastq/20220602_32_MYB-dTAG_1h_P31FUJ_VHL_D_MP10090_S78_R1_001.fastq.gz...\n",
      "Copying gs://transfer-amlproject/220602_MP10090_fastq/20220602_32_MYB-dTAG_1h_P31FUJ_VHL_D_MP10090_S78_R2_001.fastq.gz...\n",
      "Copying gs://transfer-amlproject/220602_MP10090_fastq/20220602_33_MYB-dTAG_1h_THP1_DMSO_A_MP10090_S79_R1_001.fastq.gz...\n",
      "Copying gs://transfer-amlproject/220602_MP10090_fastq/20220602_33_MYB-dTAG_1h_THP1_DMSO_A_MP10090_S79_R2_001.fastq.gz...\n",
      "Copying gs://transfer-amlproject/220602_MP10090_fastq/20220602_34_MYB-dTAG_1h_THP1_DMSO_B_MP10090_S80_R1_001.fastq.gz...\n",
      "Copying gs://transfer-amlproject/220602_MP10090_fastq/20220602_34_MYB-dTAG_1h_THP1_DMSO_B_MP10090_S80_R2_001.fastq.gz...\n",
      "Copying gs://transfer-amlproject/220602_MP10090_fastq/20220602_35_MYB-dTAG_1h_THP1_DMSO_C_MP10090_S81_R1_001.fastq.gz...\n",
      "Copying gs://transfer-amlproject/220602_MP10090_fastq/20220602_35_MYB-dTAG_1h_THP1_DMSO_C_MP10090_S81_R2_001.fastq.gz...\n",
      "Copying gs://transfer-amlproject/220602_MP10090_fastq/20220602_36_MYB-dTAG_1h_THP1_DMSO_D_MP10090_S82_R1_001.fastq.gz...\n",
      "Copying gs://transfer-amlproject/220602_MP10090_fastq/20220602_36_MYB-dTAG_1h_THP1_DMSO_D_MP10090_S82_R2_001.fastq.gz...\n",
      "Copying gs://transfer-amlproject/220602_MP10090_fastq/20220602_37_MYB-dTAG_1h_THP1_VHL_A_MP10090_S83_R1_001.fastq.gz...\n",
      "Copying gs://transfer-amlproject/220602_MP10090_fastq/20220602_37_MYB-dTAG_1h_THP1_VHL_A_MP10090_S83_R2_001.fastq.gz...\n",
      "Copying gs://transfer-amlproject/220602_MP10090_fastq/20220602_38_MYB-dTAG_1h_THP1_VHL_B_MP10090_S84_R1_001.fastq.gz...\n",
      "Copying gs://transfer-amlproject/220602_MP10090_fastq/20220602_38_MYB-dTAG_1h_THP1_VHL_B_MP10090_S84_R2_001.fastq.gz...\n",
      "Copying gs://transfer-amlproject/220602_MP10090_fastq/20220602_39_MYB-dTAG_1h_THP1_VHL_C_MP10090_S85_R1_001.fastq.gz...\n",
      "Copying gs://transfer-amlproject/220602_MP10090_fastq/20220602_39_MYB-dTAG_1h_THP1_VHL_C_MP10090_S85_R2_001.fastq.gz...\n",
      "Copying gs://transfer-amlproject/220602_MP10090_fastq/20220602_3_MYB-dTAG_1h_MV411_DMSO_C_MP10090_S50_R1_001.fastq.gz...\n",
      "Copying gs://transfer-amlproject/220602_MP10090_fastq/20220602_3_MYB-dTAG_1h_MV411_DMSO_C_MP10090_S50_R2_001.fastq.gz...\n",
      "Copying gs://transfer-amlproject/220602_MP10090_fastq/20220602_40_MYB-dTAG_1h_THP1_VHL_D_MP10090_S86_R1_001.fastq.gz...\n",
      "Copying gs://transfer-amlproject/220602_MP10090_fastq/20220602_40_MYB-dTAG_1h_THP1_VHL_D_MP10090_S86_R2_001.fastq.gz...\n",
      "Copying gs://transfer-amlproject/220602_MP10090_fastq/20220602_4_MYB-dTAG_1h_MV411_DMSO_D_MP10090_S51_R1_001.fastq.gz...\n",
      "Copying gs://transfer-amlproject/220602_MP10090_fastq/20220602_4_MYB-dTAG_1h_MV411_DMSO_D_MP10090_S51_R2_001.fastq.gz...\n",
      "Copying gs://transfer-amlproject/220602_MP10090_fastq/20220602_5_MYB-dTAG_1h_MV411_VHL_A_MP10090_S52_R1_001.fastq.gz...\n",
      "Copying gs://transfer-amlproject/220602_MP10090_fastq/20220602_5_MYB-dTAG_1h_MV411_VHL_A_MP10090_S52_R2_001.fastq.gz...\n",
      "Copying gs://transfer-amlproject/220602_MP10090_fastq/20220602_7_MYB-dTAG_1h_MV411_VHL_C_MP10090_S53_R1_001.fastq.gz...\n",
      "Copying gs://transfer-amlproject/220602_MP10090_fastq/20220602_7_MYB-dTAG_1h_MV411_VHL_C_MP10090_S53_R2_001.fastq.gz...\n",
      "Copying gs://transfer-amlproject/220602_MP10090_fastq/20220602_8_MYB-dTAG_1h_MV411_VHL_D_MP10090_S54_R1_001.fastq.gz...\n",
      "Copying gs://transfer-amlproject/220602_MP10090_fastq/20220602_8_MYB-dTAG_1h_MV411_VHL_D_MP10090_S54_R2_001.fastq.gz...\n",
      "Copying gs://transfer-amlproject/220602_MP10090_fastq/20220602_9_MYB-dTAG_1h_MONOMAC1_DMSO_A_MP10090_S55_R1_001.fastq.gz...\n",
      "Copying gs://transfer-amlproject/220602_MP10090_fastq/20220602_9_MYB-dTAG_1h_MONOMAC1_DMSO_A_MP10090_S55_R2_001.fastq.gz...\n",
      "\\ [78/78 files][310.7 GiB/310.7 GiB] 100% Done  38.1 MiB/s ETA 00:00:00         \n",
      "Operation completed over 78 objects/310.7 GiB.                                   \n"
     ]
    }
   ],
   "source": [
    "# transfer fastqs\n",
    "! gsutil -m cp gs://transfer-amlproject/$loc/*.fastq.gz ../$location/fastqs/"
   ]
  },
  {
   "cell_type": "markdown",
   "id": "32eff4bd",
   "metadata": {
    "heading_collapsed": true
   },
   "source": [
    "## rename local fastqs"
   ]
  },
  {
   "cell_type": "code",
   "execution_count": 60,
   "id": "7a8ed95f",
   "metadata": {
    "collapsed": true,
    "hidden": true
   },
   "outputs": [
    {
     "name": "stdout",
     "output_type": "stream",
     "text": [
      "../../data/slamseq_MYB_degraded_lines_v1/fastqs\n"
     ]
    },
    {
     "data": {
      "text/plain": [
       "['20220602_1_MYB-dTAG_1h_MV411_DMSO_A_MP10090_S48_R1_001.fastq.gz',\n",
       " '20220602_1_MYB-dTAG_1h_MV411_DMSO_A_MP10090_S48_R2_001.fastq.gz',\n",
       " '20220602_2_MYB-dTAG_1h_MV411_DMSO_B_MP10090_S49_R1_001.fastq.gz',\n",
       " '20220602_2_MYB-dTAG_1h_MV411_DMSO_B_MP10090_S49_R2_001.fastq.gz',\n",
       " '20220602_3_MYB-dTAG_1h_MV411_DMSO_C_MP10090_S50_R1_001.fastq.gz',\n",
       " '20220602_3_MYB-dTAG_1h_MV411_DMSO_C_MP10090_S50_R2_001.fastq.gz',\n",
       " '20220602_4_MYB-dTAG_1h_MV411_DMSO_D_MP10090_S51_R1_001.fastq.gz',\n",
       " '20220602_4_MYB-dTAG_1h_MV411_DMSO_D_MP10090_S51_R2_001.fastq.gz',\n",
       " '20220602_5_MYB-dTAG_1h_MV411_VHL_A_MP10090_S52_R1_001.fastq.gz',\n",
       " '20220602_5_MYB-dTAG_1h_MV411_VHL_A_MP10090_S52_R2_001.fastq.gz',\n",
       " '20220602_7_MYB-dTAG_1h_MV411_VHL_C_MP10090_S53_R1_001.fastq.gz',\n",
       " '20220602_7_MYB-dTAG_1h_MV411_VHL_C_MP10090_S53_R2_001.fastq.gz',\n",
       " '20220602_8_MYB-dTAG_1h_MV411_VHL_D_MP10090_S54_R1_001.fastq.gz',\n",
       " '20220602_8_MYB-dTAG_1h_MV411_VHL_D_MP10090_S54_R2_001.fastq.gz',\n",
       " '20220602_9_MYB-dTAG_1h_MONOMAC1_DMSO_A_MP10090_S55_R1_001.fastq.gz',\n",
       " '20220602_9_MYB-dTAG_1h_MONOMAC1_DMSO_A_MP10090_S55_R2_001.fastq.gz',\n",
       " '20220602_10_MYB-dTAG_1h_MONOMAC1_DMSO_B_MP10090_S56_R1_001.fastq.gz',\n",
       " '20220602_10_MYB-dTAG_1h_MONOMAC1_DMSO_B_MP10090_S56_R2_001.fastq.gz',\n",
       " '20220602_11_MYB-dTAG_1h_MONOMAC1_DMSO_C_MP10090_S57_R1_001.fastq.gz',\n",
       " '20220602_11_MYB-dTAG_1h_MONOMAC1_DMSO_C_MP10090_S57_R2_001.fastq.gz',\n",
       " '20220602_12_MYB-dTAG_1h_MONOMAC1_DMSO_D_MP10090_S58_R1_001.fastq.gz',\n",
       " '20220602_12_MYB-dTAG_1h_MONOMAC1_DMSO_D_MP10090_S58_R2_001.fastq.gz',\n",
       " '20220602_13_MYB-dTAG_1h_MONOMAC1_VHL_A_MP10090_S59_R1_001.fastq.gz',\n",
       " '20220602_13_MYB-dTAG_1h_MONOMAC1_VHL_A_MP10090_S59_R2_001.fastq.gz',\n",
       " '20220602_14_MYB-dTAG_1h_MONOMAC1_VHL_B_MP10090_S60_R1_001.fastq.gz',\n",
       " '20220602_14_MYB-dTAG_1h_MONOMAC1_VHL_B_MP10090_S60_R2_001.fastq.gz',\n",
       " '20220602_15_MYB-dTAG_1h_MONOMAC1_VHL_C_MP10090_S61_R1_001.fastq.gz',\n",
       " '20220602_15_MYB-dTAG_1h_MONOMAC1_VHL_C_MP10090_S61_R2_001.fastq.gz',\n",
       " '20220602_16_MYB-dTAG_1h_MONOMAC1_VHL_D_MP10090_S62_R1_001.fastq.gz',\n",
       " '20220602_16_MYB-dTAG_1h_MONOMAC1_VHL_D_MP10090_S62_R2_001.fastq.gz',\n",
       " '20220602_17_MYB-dTAG_1h_NOMO1_DMSO_A_MP10090_S63_R1_001.fastq.gz',\n",
       " '20220602_17_MYB-dTAG_1h_NOMO1_DMSO_A_MP10090_S63_R2_001.fastq.gz',\n",
       " '20220602_18_MYB-dTAG_1h_NOMO1_DMSO_B_MP10090_S64_R1_001.fastq.gz',\n",
       " '20220602_18_MYB-dTAG_1h_NOMO1_DMSO_B_MP10090_S64_R2_001.fastq.gz',\n",
       " '20220602_19_MYB-dTAG_1h_NOMO1_DMSO_C_MP10090_S65_R1_001.fastq.gz',\n",
       " '20220602_19_MYB-dTAG_1h_NOMO1_DMSO_C_MP10090_S65_R2_001.fastq.gz',\n",
       " '20220602_20_MYB-dTAG_1h_NOMO1_DMSO_D_MP10090_S66_R1_001.fastq.gz',\n",
       " '20220602_20_MYB-dTAG_1h_NOMO1_DMSO_D_MP10090_S66_R2_001.fastq.gz',\n",
       " '20220602_21_MYB-dTAG_1h_NOMO1_VHL_A_MP10090_S67_R1_001.fastq.gz',\n",
       " '20220602_21_MYB-dTAG_1h_NOMO1_VHL_A_MP10090_S67_R2_001.fastq.gz',\n",
       " '20220602_22_MYB-dTAG_1h_NOMO1_VHL_B_MP10090_S68_R1_001.fastq.gz',\n",
       " '20220602_22_MYB-dTAG_1h_NOMO1_VHL_B_MP10090_S68_R2_001.fastq.gz',\n",
       " '20220602_23_MYB-dTAG_1h_NOMO1_VHL_C_MP10090_S69_R1_001.fastq.gz',\n",
       " '20220602_23_MYB-dTAG_1h_NOMO1_VHL_C_MP10090_S69_R2_001.fastq.gz',\n",
       " '20220602_24_MYB-dTAG_1h_NOMO1_VHL_D_MP10090_S70_R1_001.fastq.gz',\n",
       " '20220602_24_MYB-dTAG_1h_NOMO1_VHL_D_MP10090_S70_R2_001.fastq.gz',\n",
       " '20220602_25_MYB-dTAG_1h_P31FUJ_DMSO_A_MP10090_S71_R1_001.fastq.gz',\n",
       " '20220602_25_MYB-dTAG_1h_P31FUJ_DMSO_A_MP10090_S71_R2_001.fastq.gz',\n",
       " '20220602_26_MYB-dTAG_1h_P31FUJ_DMSO_B_MP10090_S72_R1_001.fastq.gz',\n",
       " '20220602_26_MYB-dTAG_1h_P31FUJ_DMSO_B_MP10090_S72_R2_001.fastq.gz',\n",
       " '20220602_27_MYB-dTAG_1h_P31FUJ_DMSO_C_MP10090_S73_R1_001.fastq.gz',\n",
       " '20220602_27_MYB-dTAG_1h_P31FUJ_DMSO_C_MP10090_S73_R2_001.fastq.gz',\n",
       " '20220602_28_MYB-dTAG_1h_P31FUJ_DMSO_D_MP10090_S74_R1_001.fastq.gz',\n",
       " '20220602_28_MYB-dTAG_1h_P31FUJ_DMSO_D_MP10090_S74_R2_001.fastq.gz',\n",
       " '20220602_29_MYB-dTAG_1h_P31FUJ_VHL_A_MP10090_S75_R1_001.fastq.gz',\n",
       " '20220602_29_MYB-dTAG_1h_P31FUJ_VHL_A_MP10090_S75_R2_001.fastq.gz',\n",
       " '20220602_30_MYB-dTAG_1h_P31FUJ_VHL_B_MP10090_S76_R1_001.fastq.gz',\n",
       " '20220602_30_MYB-dTAG_1h_P31FUJ_VHL_B_MP10090_S76_R2_001.fastq.gz',\n",
       " '20220602_31_MYB-dTAG_1h_P31FUJ_VHL_C_MP10090_S77_R1_001.fastq.gz',\n",
       " '20220602_31_MYB-dTAG_1h_P31FUJ_VHL_C_MP10090_S77_R2_001.fastq.gz',\n",
       " '20220602_32_MYB-dTAG_1h_P31FUJ_VHL_D_MP10090_S78_R1_001.fastq.gz',\n",
       " '20220602_32_MYB-dTAG_1h_P31FUJ_VHL_D_MP10090_S78_R2_001.fastq.gz',\n",
       " '20220602_33_MYB-dTAG_1h_THP1_DMSO_A_MP10090_S79_R1_001.fastq.gz',\n",
       " '20220602_33_MYB-dTAG_1h_THP1_DMSO_A_MP10090_S79_R2_001.fastq.gz',\n",
       " '20220602_34_MYB-dTAG_1h_THP1_DMSO_B_MP10090_S80_R1_001.fastq.gz',\n",
       " '20220602_34_MYB-dTAG_1h_THP1_DMSO_B_MP10090_S80_R2_001.fastq.gz',\n",
       " '20220602_35_MYB-dTAG_1h_THP1_DMSO_C_MP10090_S81_R1_001.fastq.gz',\n",
       " '20220602_35_MYB-dTAG_1h_THP1_DMSO_C_MP10090_S81_R2_001.fastq.gz',\n",
       " '20220602_36_MYB-dTAG_1h_THP1_DMSO_D_MP10090_S82_R1_001.fastq.gz',\n",
       " '20220602_36_MYB-dTAG_1h_THP1_DMSO_D_MP10090_S82_R2_001.fastq.gz',\n",
       " '20220602_37_MYB-dTAG_1h_THP1_VHL_A_MP10090_S83_R1_001.fastq.gz',\n",
       " '20220602_37_MYB-dTAG_1h_THP1_VHL_A_MP10090_S83_R2_001.fastq.gz',\n",
       " '20220602_38_MYB-dTAG_1h_THP1_VHL_B_MP10090_S84_R1_001.fastq.gz',\n",
       " '20220602_38_MYB-dTAG_1h_THP1_VHL_B_MP10090_S84_R2_001.fastq.gz',\n",
       " '20220602_39_MYB-dTAG_1h_THP1_VHL_C_MP10090_S85_R1_001.fastq.gz',\n",
       " '20220602_39_MYB-dTAG_1h_THP1_VHL_C_MP10090_S85_R2_001.fastq.gz',\n",
       " '20220602_40_MYB-dTAG_1h_THP1_VHL_D_MP10090_S86_R1_001.fastq.gz',\n",
       " '20220602_40_MYB-dTAG_1h_THP1_VHL_D_MP10090_S86_R2_001.fastq.gz']"
      ]
     },
     "execution_count": 60,
     "metadata": {},
     "output_type": "execute_result"
    }
   ],
   "source": [
    "fastq_folder = \"../\"+location+\"fastqs\"\n",
    "print(fastq_folder)\n",
    "fastqs = ! ls $fastq_folder\n",
    "fastqs = os_sorted(fastqs)\n",
    "fastqs"
   ]
  },
  {
   "cell_type": "code",
   "execution_count": 47,
   "id": "c0198199",
   "metadata": {
    "hidden": true
   },
   "outputs": [],
   "source": [
    "from gsheets import Sheets\n",
    "sheets = Sheets.from_files('~/.client_secret_web.json', '~/.storage.json')\n",
    "url = \"https://docs.google.com/spreadsheets/d/1yFLjYB1McU530JnLgL0QIMAKIkVl3kl0_LCHje2gk8U/edit?ts=5fab1071#gid=738732237\"\n",
    "gsheet = sheets.get(url).sheets[12].to_frame()"
   ]
  },
  {
   "cell_type": "code",
   "execution_count": 61,
   "id": "845aff8c",
   "metadata": {
    "hidden": true
   },
   "outputs": [
    {
     "data": {
      "text/plain": [
       "39.0"
      ]
     },
     "execution_count": 61,
     "metadata": {},
     "output_type": "execute_result"
    }
   ],
   "source": [
    "len(fastqs)/2"
   ]
  },
  {
   "cell_type": "code",
   "execution_count": 70,
   "id": "05fc5dd0",
   "metadata": {
    "hidden": true,
    "scrolled": true
   },
   "outputs": [],
   "source": [
    "# get new sample names from AML sample tracker - RNA_tracker_JK\n",
    "idx = gsheet.index[gsheet['batch'] == project] # get first row with project number\n",
    "sample_info = gsheet.loc[idx[0]:, [\"prev_name\", \"name\"]]\n",
    "sample_info = sample_info.iloc[:int(len(fastqs)/2),]"
   ]
  },
  {
   "cell_type": "code",
   "execution_count": 71,
   "id": "85ef8da8",
   "metadata": {
    "hidden": true
   },
   "outputs": [],
   "source": [
    "# make dict with names\n",
    "rename = dict(zip(sample_info.prev_name, sample_info.name))\n",
    "\n",
    "# rename fastqs locally\n",
    "for val in fastqs:\n",
    "    rep  = val\n",
    "    for old, new in rename.items():\n",
    "        rep = rep.replace(old, new)\n",
    "    if rep != val:\n",
    "        ! mv $fastq_folder/$val $fastq_folder/$rep"
   ]
  },
  {
   "cell_type": "markdown",
   "id": "5ab8334a",
   "metadata": {},
   "source": [
    "# Processing"
   ]
  },
  {
   "cell_type": "code",
   "execution_count": 7,
   "id": "c29edd79",
   "metadata": {},
   "outputs": [
    {
     "data": {
      "text/plain": [
       "'MYB_degraded_lines_v1'"
      ]
     },
     "execution_count": 7,
     "metadata": {},
     "output_type": "execute_result"
    }
   ],
   "source": [
    "project"
   ]
  },
  {
   "cell_type": "code",
   "execution_count": 21,
   "id": "73b8ab5b",
   "metadata": {
    "collapsed": true
   },
   "outputs": [
    {
     "name": "stdout",
     "output_type": "stream",
     "text": [
      "../../data/slamseq_MYB_degraded_lines_v1/fastqs\n",
      "39\n"
     ]
    },
    {
     "data": {
      "text/plain": [
       "['../../data/slamseq_MYB_degraded_lines_v1/fastqs/mr532-MV411-MYB-dTAG-DMSO_1h-r1_R1_001.fastq.gz',\n",
       " '../../data/slamseq_MYB_degraded_lines_v1/fastqs/mr533-MV411-MYB-dTAG-DMSO_1h-r2_R1_001.fastq.gz',\n",
       " '../../data/slamseq_MYB_degraded_lines_v1/fastqs/mr534-MV411-MYB-dTAG-DMSO_1h-r3_R1_001.fastq.gz',\n",
       " '../../data/slamseq_MYB_degraded_lines_v1/fastqs/mr535-MV411-MYB-dTAG-DMSO_1h-r4_R1_001.fastq.gz',\n",
       " '../../data/slamseq_MYB_degraded_lines_v1/fastqs/mr536-MV411-MYB-dTAG-VHL_1h-r1_R1_001.fastq.gz',\n",
       " '../../data/slamseq_MYB_degraded_lines_v1/fastqs/mr537-MV411-MYB-dTAG-VHL_1h-r2_R1_001.fastq.gz',\n",
       " '../../data/slamseq_MYB_degraded_lines_v1/fastqs/mr538-MV411-MYB-dTAG-VHL_1h-r3_R1_001.fastq.gz',\n",
       " '../../data/slamseq_MYB_degraded_lines_v1/fastqs/mr539-MONOMAC1-MYB-dTAG-DMSO_1h-r1_R1_001.fastq.gz',\n",
       " '../../data/slamseq_MYB_degraded_lines_v1/fastqs/mr540-MONOMAC1-MYB-dTAG-DMSO_1h-r2_R1_001.fastq.gz',\n",
       " '../../data/slamseq_MYB_degraded_lines_v1/fastqs/mr541-MONOMAC1-MYB-dTAG-DMSO_1h-r3_R1_001.fastq.gz',\n",
       " '../../data/slamseq_MYB_degraded_lines_v1/fastqs/mr542-MONOMAC1-MYB-dTAG-DMSO_1h-r4_R1_001.fastq.gz',\n",
       " '../../data/slamseq_MYB_degraded_lines_v1/fastqs/mr543-MONOMAC1-MYB-dTAG-VHL_1h-r1_R1_001.fastq.gz',\n",
       " '../../data/slamseq_MYB_degraded_lines_v1/fastqs/mr544-MONOMAC1-MYB-dTAG-VHL_1h-r2_R1_001.fastq.gz',\n",
       " '../../data/slamseq_MYB_degraded_lines_v1/fastqs/mr545-MONOMAC1-MYB-dTAG-VHL_1h-r3_R1_001.fastq.gz',\n",
       " '../../data/slamseq_MYB_degraded_lines_v1/fastqs/mr546-MONOMAC1-MYB-dTAG-VHL_1h-r4_R1_001.fastq.gz',\n",
       " '../../data/slamseq_MYB_degraded_lines_v1/fastqs/mr547-NOMO1-MYB-dTAG-DMSO_1h-r1_R1_001.fastq.gz',\n",
       " '../../data/slamseq_MYB_degraded_lines_v1/fastqs/mr548-NOMO1-MYB-dTAG-DMSO_1h-r2_R1_001.fastq.gz',\n",
       " '../../data/slamseq_MYB_degraded_lines_v1/fastqs/mr549-NOMO1-MYB-dTAG-DMSO_1h-r3_R1_001.fastq.gz',\n",
       " '../../data/slamseq_MYB_degraded_lines_v1/fastqs/mr550-NOMO1-MYB-dTAG-DMSO_1h-r4_R1_001.fastq.gz',\n",
       " '../../data/slamseq_MYB_degraded_lines_v1/fastqs/mr551-NOMO1-MYB-dTAG-VHL_1h-r1_R1_001.fastq.gz',\n",
       " '../../data/slamseq_MYB_degraded_lines_v1/fastqs/mr552-NOMO1-MYB-dTAG-VHL_1h-r2_R1_001.fastq.gz',\n",
       " '../../data/slamseq_MYB_degraded_lines_v1/fastqs/mr553-NOMO1-MYB-dTAG-VHL_1h-r3_R1_001.fastq.gz',\n",
       " '../../data/slamseq_MYB_degraded_lines_v1/fastqs/mr554-NOMO1-MYB-dTAG-VHL_1h-r4_R1_001.fastq.gz',\n",
       " '../../data/slamseq_MYB_degraded_lines_v1/fastqs/mr555-P31FUJ-MYB-dTAG-DMSO_1h-r1_R1_001.fastq.gz',\n",
       " '../../data/slamseq_MYB_degraded_lines_v1/fastqs/mr556-P31FUJ-MYB-dTAG-DMSO_1h-r2_R1_001.fastq.gz',\n",
       " '../../data/slamseq_MYB_degraded_lines_v1/fastqs/mr557-P31FUJ-MYB-dTAG-DMSO_1h-r3_R1_001.fastq.gz',\n",
       " '../../data/slamseq_MYB_degraded_lines_v1/fastqs/mr558-P31FUJ-MYB-dTAG-DMSO_1h-r4_R1_001.fastq.gz',\n",
       " '../../data/slamseq_MYB_degraded_lines_v1/fastqs/mr559-P31FUJ-MYB-dTAG-VHL_1h-r1_R1_001.fastq.gz',\n",
       " '../../data/slamseq_MYB_degraded_lines_v1/fastqs/mr560-P31FUJ-MYB-dTAG-VHL_1h-r2_R1_001.fastq.gz',\n",
       " '../../data/slamseq_MYB_degraded_lines_v1/fastqs/mr561-P31FUJ-MYB-dTAG-VHL_1h-r3_R1_001.fastq.gz',\n",
       " '../../data/slamseq_MYB_degraded_lines_v1/fastqs/mr562-P31FUJ-MYB-dTAG-VHL_1h-r4_R1_001.fastq.gz',\n",
       " '../../data/slamseq_MYB_degraded_lines_v1/fastqs/mr563-THP1-MYB-dTAG-DMSO_1h-r1_R1_001.fastq.gz',\n",
       " '../../data/slamseq_MYB_degraded_lines_v1/fastqs/mr564-THP1-MYB-dTAG-DMSO_1h-r2_R1_001.fastq.gz',\n",
       " '../../data/slamseq_MYB_degraded_lines_v1/fastqs/mr565-THP1-MYB-dTAG-DMSO_1h-r3_R1_001.fastq.gz',\n",
       " '../../data/slamseq_MYB_degraded_lines_v1/fastqs/mr566-THP1-MYB-dTAG-DMSO_1h-r4_R1_001.fastq.gz',\n",
       " '../../data/slamseq_MYB_degraded_lines_v1/fastqs/mr567-THP1-MYB-dTAG-VHL_1h-r1_R1_001.fastq.gz',\n",
       " '../../data/slamseq_MYB_degraded_lines_v1/fastqs/mr568-THP1-MYB-dTAG-VHL_1h-r2_R1_001.fastq.gz',\n",
       " '../../data/slamseq_MYB_degraded_lines_v1/fastqs/mr569-THP1-MYB-dTAG-VHL_1h-r3_R1_001.fastq.gz',\n",
       " '../../data/slamseq_MYB_degraded_lines_v1/fastqs/mr570-THP1-MYB-dTAG-VHL_1h-r4_R1_001.fastq.gz']"
      ]
     },
     "execution_count": 21,
     "metadata": {},
     "output_type": "execute_result"
    }
   ],
   "source": [
    "fastq_folder = \"../\"+location+\"fastqs\"\n",
    "print(fastq_folder)\n",
    "fastqs = ! ls $fastq_folder/*fastq.gz\n",
    "print(len(fastqs[::2]))\n",
    "fastqs[::2]"
   ]
  },
  {
   "cell_type": "markdown",
   "id": "d7dd9e5e",
   "metadata": {},
   "source": [
    "## trim_galore"
   ]
  },
  {
   "cell_type": "code",
   "execution_count": 24,
   "id": "a20a1d20",
   "metadata": {},
   "outputs": [
    {
     "name": "stdout",
     "output_type": "stream",
     "text": [
      "mr561-P31FUJ-MYB-dTAG-VHL_1h-r3_R1_001.fastq.gz\n",
      "mr563-THP1-MYB-dTAG-DMSO_1h-r1_R1_001.fastq.gz\n"
     ]
    }
   ],
   "source": [
    "for val1, val2 in h.grouped(fastqs[58:60]+fastqs[62:64], 2):\n",
    "    print(os.path.basename(val1))"
   ]
  },
  {
   "cell_type": "code",
   "execution_count": 10,
   "id": "cea9d6a9",
   "metadata": {
    "collapsed": true
   },
   "outputs": [
    {
     "name": "stdout",
     "output_type": "stream",
     "text": [
      "mr566-THP1-MYB-dTAG-DMSO_1h-r4_R1_001.fastq.gz\n",
      "mr567-THP1-MYB-dTAG-VHL_1h-r1_R1_001.fastq.gz\n",
      "mr568-THP1-MYB-dTAG-VHL_1h-r2_R1_001.fastq.gz\n",
      "mr569-THP1-MYB-dTAG-VHL_1h-r3_R1_001.fastq.gz\n",
      "mr570-THP1-MYB-dTAG-VHL_1h-r4_R1_001.fastq.gz\n"
     ]
    }
   ],
   "source": [
    "for val1, val2 in h.grouped(fastqs[68:], 2):\n",
    "    print(os.path.basename(val1))"
   ]
  },
  {
   "cell_type": "code",
   "execution_count": 83,
   "id": "29448ebd",
   "metadata": {
    "collapsed": true
   },
   "outputs": [
    {
     "ename": "ValueError",
     "evalue": "issue with the command: b'Path to Cutadapt set as: \\'cutadapt\\' (default)\\nPath to Cutadapt set as: \\'cutadapt\\' (default)\\nCutadapt seems to be working fine (tested command \\'cutadapt --version\\')\\nCutadapt seems to be working fine (tested command \\'cutadapt --version\\')\\nCutadapt version: 3.4\\nCutadapt version: 3.4\\nCould not detect version of Python used by Cutadapt from the first line of Cutadapt (but found this: >>>#!/bin/sh<<<)\\nLetting the (modified) Cutadapt deal with the Python version instead\\nCould not detect version of Python used by Cutadapt from the first line of Cutadapt (but found this: >>>#!/bin/sh<<<)\\nLetting the (modified) Cutadapt deal with the Python version instead\\nParallel gzip (pigz) detected. Proceeding with multicore (de)compression using 6 cores\\n\\nNo quality encoding type selected. Assuming that the data provided uses Sanger encoded Phred scores (default)\\n\\nOutput will be written into the directory: /home/monika/data/slamseq_MYB_degraded_lines_v1/fastqs/\\nParallel gzip (pigz) detected. Proceeding with multicore (de)compression using 6 cores\\n\\nNo quality encoding type selected. Assuming that the data provided uses Sanger encoded Phred scores (default)\\n\\nOutput will be written into the directory: /home/monika/data/slamseq_MYB_degraded_lines_v1/fastqs/\\nWriting report to \\'/home/monika/data/slamseq_MYB_degraded_lines_v1/fastqs/mr561-P31FUJ-MYB-dTAG-VHL_1h-r3_R1_001.fastq.gz_trimming_report.txt\\'\\n\\nSUMMARISING RUN PARAMETERS\\n==========================\\nInput filename: ../../data/slamseq_MYB_degraded_lines_v1/fastqs/mr561-P31FUJ-MYB-dTAG-VHL_1h-r3_R1_001.fastq.gz\\nTrimming mode: paired-end\\nTrim Galore version: 0.6.7\\nCutadapt version: 3.4\\nPython version: could not detect\\nNumber of cores used for trimming: 6\\nQuality Phred score cutoff: 20\\nQuality encoding type selected: ASCII+33\\nAdapter sequence: \\'AGATCGGAAGAGC\\' (Illumina TruSeq, Sanger iPCR; user defined)\\nMaximum trimming error rate: 0.1 (default)\\nMinimum required adapter overlap (stringency): 3 bp\\nMinimum required sequence length for both reads before a sequence pair gets removed: 20 bp\\nLength cut-off for read 1: 35 bp (default)\\nLength cut-off for read 2: 35 bb (default)\\nOutput file(s) will be GZIP compressed\\n\\nCutadapt seems to be fairly up-to-date (version 3.4). Setting -j 6\\nWriting report to \\'/home/monika/data/slamseq_MYB_degraded_lines_v1/fastqs/mr560-P31FUJ-MYB-dTAG-VHL_1h-r2_R1_001.fastq.gz_trimming_report.txt\\'\\n\\nSUMMARISING RUN PARAMETERS\\n==========================\\nInput filename: ../../data/slamseq_MYB_degraded_lines_v1/fastqs/mr560-P31FUJ-MYB-dTAG-VHL_1h-r2_R1_001.fastq.gz\\nTrimming mode: paired-end\\nTrim Galore version: 0.6.7\\nCutadapt version: 3.4\\nPython version: could not detect\\nNumber of cores used for trimming: 6\\nQuality Phred score cutoff: 20\\nQuality encoding type selected: ASCII+33\\nAdapter sequence: \\'AGATCGGAAGAGC\\' (Illumina TruSeq, Sanger iPCR; user defined)\\nMaximum trimming error rate: 0.1 (default)\\nMinimum required adapter overlap (stringency): 3 bp\\nMinimum required sequence length for both reads before a sequence pair gets removed: 20 bp\\nLength cut-off for read 1: 35 bp (default)\\nLength cut-off for read 2: 35 bb (default)\\nOutput file(s) will be GZIP compressed\\n\\nCutadapt seems to be fairly up-to-date (version 3.4). Setting -j 6\\nWriting final adapter and quality trimmed output to mr560-P31FUJ-MYB-dTAG-VHL_1h-r2_R1_001_trimmed.fq.gz\\n\\n\\n  >>> Now performing quality (cutoff \\'-q 20\\') and adapter trimming in a single pass for the adapter sequence: \\'AGATCGGAAGAGC\\' from file ../../data/slamseq_MYB_degraded_lines_v1/fastqs/mr560-P31FUJ-MYB-dTAG-VHL_1h-r2_R1_001.fastq.gz <<< \\nWriting final adapter and quality trimmed output to mr561-P31FUJ-MYB-dTAG-VHL_1h-r3_R1_001_trimmed.fq.gz\\n\\n\\n  >>> Now performing quality (cutoff \\'-q 20\\') and adapter trimming in a single pass for the adapter sequence: \\'AGATCGGAAGAGC\\' from file ../../data/slamseq_MYB_degraded_lines_v1/fastqs/mr561-P31FUJ-MYB-dTAG-VHL_1h-r3_R1_001.fastq.gz <<< \\n10000000 sequences processed\\n10000000 sequences processed\\nThis is cutadapt 3.4 with Python 3.8.11\\nCommand line parameters: -j 6 -e 0.1 -q 20 -O 3 -a AGATCGGAAGAGC ../../data/slamseq_MYB_degraded_lines_v1/fastqs/mr561-P31FUJ-MYB-dTAG-VHL_1h-r3_R1_001.fastq.gz\\nProcessing reads on 6 cores in single-end mode ...\\nTraceback (most recent call last):\\n  File \"/home/monika/anaconda3/envs/slamseq/bin/cutadapt\", line 10, in <module>\\n    sys.exit(main_cli())\\n  File \"/home/monika/anaconda3/envs/slamseq/lib/python3.8/site-packages/cutadapt/__main__.py\", line 848, in main_cli\\n    main(sys.argv[1:])\\n  File \"/home/monika/anaconda3/envs/slamseq/lib/python3.8/site-packages/cutadapt/__main__.py\", line 913, in main\\n    stats = r.run()\\n  File \"/home/monika/anaconda3/envs/slamseq/lib/python3.8/site-packages/cutadapt/pipeline.py\", line 836, in run\\n    data = connection.recv_bytes()\\n  File \"/home/monika/anaconda3/envs/slamseq/lib/python3.8/multiprocessing/connection.py\", line 216, in recv_bytes\\n    buf = self._recv_bytes(maxlength)\\n  File \"/home/monika/anaconda3/envs/slamseq/lib/python3.8/multiprocessing/connection.py\", line 421, in _recv_bytes\\n    return self._recv(size)\\n  File \"/home/monika/anaconda3/envs/slamseq/lib/python3.8/multiprocessing/connection.py\", line 386, in _recv\\n    buf.write(chunk)\\nMemoryError\\n\\n\\nCutadapt terminated with exit signal: \\'256\\'.\\nTerminating Trim Galore run, please check error message(s) to get an idea what went wrong...\\n\\n20000000 sequences processed\\n30000000 sequences processed\\n40000000 sequences processed\\nThis is cutadapt 3.4 with Python 3.8.11\\nCommand line parameters: -j 6 -e 0.1 -q 20 -O 3 -a AGATCGGAAGAGC ../../data/slamseq_MYB_degraded_lines_v1/fastqs/mr560-P31FUJ-MYB-dTAG-VHL_1h-r2_R1_001.fastq.gz\\nProcessing reads on 6 cores in single-end mode ...\\nFinished in 1686.79 s (39 \\xc2\\xb5s/read; 1.52 M reads/minute).\\n\\n=== Summary ===\\n\\nTotal reads processed:              42,839,946\\nReads with adapters:                 9,075,657 (21.2%)\\nReads written (passing filters):    42,839,946 (100.0%)\\n\\nTotal basepairs processed: 6,425,991,900 bp\\nQuality-trimmed:              25,797,230 bp (0.4%)\\nTotal written (filtered):  6,150,226,743 bp (95.7%)\\n\\n=== Adapter 1 ===\\n\\nSequence: AGATCGGAAGAGC; Type: regular 3\\'; Length: 13; Trimmed: 9075657 times\\n\\nNo. of allowed errors:\\n1-9 bp: 0; 10-13 bp: 1\\n\\nBases preceding removed adapters:\\n  A: 8.4%\\n  C: 28.4%\\n  G: 40.7%\\n  T: 22.5%\\n  none/other: 0.0%\\n\\nOverview of removed sequences\\nlength\\tcount\\texpect\\tmax.err\\terror counts\\n3\\t819125\\t669374.2\\t0\\t819125\\n4\\t335057\\t167343.5\\t0\\t335057\\n5\\t233297\\t41835.9\\t0\\t233297\\n6\\t181321\\t10459.0\\t0\\t181321\\n7\\t179633\\t2614.7\\t0\\t179633\\n8\\t193365\\t653.7\\t0\\t193365\\n9\\t181745\\t163.4\\t0\\t180802 943\\n10\\t180687\\t40.9\\t1\\t173146 7541\\n11\\t194543\\t10.2\\t1\\t183102 11441\\n12\\t182257\\t2.6\\t1\\t173586 8671\\n13\\t174263\\t0.6\\t1\\t165005 9258\\n14\\t181332\\t0.6\\t1\\t169683 11649\\n15\\t176896\\t0.6\\t1\\t166655 10241\\n16\\t177863\\t0.6\\t1\\t165965 11898\\n17\\t183418\\t0.6\\t1\\t170769 12649\\n18\\t170551\\t0.6\\t1\\t161600 8951\\n19\\t154899\\t0.6\\t1\\t147021 7878\\n20\\t168137\\t0.6\\t1\\t158725 9412\\n21\\t161043\\t0.6\\t1\\t152370 8673\\n22\\t157669\\t0.6\\t1\\t149779 7890\\n23\\t160941\\t0.6\\t1\\t152082 8859\\n24\\t160159\\t0.6\\t1\\t149782 10377\\n25\\t155054\\t0.6\\t1\\t146842 8212\\n26\\t152206\\t0.6\\t1\\t144238 7968\\n27\\t152384\\t0.6\\t1\\t144445 7939\\n28\\t141283\\t0.6\\t1\\t134112 7171\\n29\\t150280\\t0.6\\t1\\t141092 9188\\n30\\t137434\\t0.6\\t1\\t130720 6714\\n31\\t130918\\t0.6\\t1\\t124535 6383\\n32\\t132358\\t0.6\\t1\\t125962 6396\\n33\\t132170\\t0.6\\t1\\t124679 7491\\n34\\t131397\\t0.6\\t1\\t124135 7262\\n35\\t128696\\t0.6\\t1\\t121368 7328\\n36\\t121859\\t0.6\\t1\\t116200 5659\\n37\\t111922\\t0.6\\t1\\t106791 5131\\n38\\t123492\\t0.6\\t1\\t117398 6094\\n39\\t116747\\t0.6\\t1\\t110703 6044\\n40\\t107432\\t0.6\\t1\\t100643 6789\\n41\\t103803\\t0.6\\t1\\t98756 5047\\n42\\t99141\\t0.6\\t1\\t94686 4455\\n43\\t107003\\t0.6\\t1\\t101093 5910\\n44\\t100707\\t0.6\\t1\\t94746 5961\\n45\\t142342\\t0.6\\t1\\t137649 4693\\n46\\t43146\\t0.6\\t1\\t40057 3089\\n47\\t73716\\t0.6\\t1\\t70225 3491\\n48\\t91612\\t0.6\\t1\\t87443 4169\\n49\\t79138\\t0.6\\t1\\t75810 3328\\n50\\t71220\\t0.6\\t1\\t67431 3789\\n51\\t82522\\t0.6\\t1\\t78169 4353\\n52\\t71380\\t0.6\\t1\\t68385 2995\\n53\\t59857\\t0.6\\t1\\t57144 2713\\n54\\t64797\\t0.6\\t1\\t61563 3234\\n55\\t72692\\t0.6\\t1\\t69793 2899\\n56\\t59859\\t0.6\\t1\\t57090 2769\\n57\\t63780\\t0.6\\t1\\t61176 2604\\n58\\t57129\\t0.6\\t1\\t54798 2331\\n59\\t58415\\t0.6\\t1\\t56107 2308\\n60\\t37790\\t0.6\\t1\\t36286 1504\\n61\\t32742\\t0.6\\t1\\t30919 1823\\n62\\t59306\\t0.6\\t1\\t57089 2217\\n63\\t43748\\t0.6\\t1\\t42211 1537\\n64\\t30913\\t0.6\\t1\\t29669 1244\\n65\\t30257\\t0.6\\t1\\t28493 1764\\n66\\t62756\\t0.6\\t1\\t61105 1651\\n67\\t30261\\t0.6\\t1\\t28856 1405\\n68\\t41115\\t0.6\\t1\\t39712 1403\\n69\\t25560\\t0.6\\t1\\t24451 1109\\n70\\t21748\\t0.6\\t1\\t20803 945\\n71\\t5387\\t0.6\\t1\\t4984 403\\n72\\t8917\\t0.6\\t1\\t8435 482\\n73\\t15964\\t0.6\\t1\\t15299 665\\n74\\t18415\\t0.6\\t1\\t17731 684\\n75\\t18432\\t0.6\\t1\\t17715 717\\n76\\t17935\\t0.6\\t1\\t17198 737\\n77\\t16878\\t0.6\\t1\\t16186 692\\n78\\t15849\\t0.6\\t1\\t15245 604\\n79\\t15255\\t0.6\\t1\\t14679 576\\n80\\t13890\\t0.6\\t1\\t13330 560\\n81\\t12943\\t0.6\\t1\\t12371 572\\n82\\t11792\\t0.6\\t1\\t11293 499\\n83\\t11542\\t0.6\\t1\\t11101 441\\n84\\t10433\\t0.6\\t1\\t10016 417\\n85\\t9788\\t0.6\\t1\\t9376 412\\n86\\t9338\\t0.6\\t1\\t8936 402\\n87\\t8760\\t0.6\\t1\\t8374 386\\n88\\t7656\\t0.6\\t1\\t7329 327\\n89\\t7239\\t0.6\\t1\\t6917 322\\n90\\t6769\\t0.6\\t1\\t6449 320\\n91\\t6290\\t0.6\\t1\\t5991 299\\n92\\t5593\\t0.6\\t1\\t5336 257\\n93\\t5080\\t0.6\\t1\\t4896 184\\n94\\t4721\\t0.6\\t1\\t4499 222\\n95\\t4447\\t0.6\\t1\\t4239 208\\n96\\t4053\\t0.6\\t1\\t3905 148\\n97\\t3904\\t0.6\\t1\\t3694 210\\n98\\t3535\\t0.6\\t1\\t3373 162\\n99\\t3169\\t0.6\\t1\\t2996 173\\n100\\t2993\\t0.6\\t1\\t2869 124\\n101\\t2829\\t0.6\\t1\\t2715 114\\n102\\t2463\\t0.6\\t1\\t2332 131\\n103\\t2228\\t0.6\\t1\\t2123 105\\n104\\t2083\\t0.6\\t1\\t2001 82\\n105\\t1894\\t0.6\\t1\\t1799 95\\n106\\t1745\\t0.6\\t1\\t1651 94\\n107\\t1699\\t0.6\\t1\\t1605 94\\n108\\t1494\\t0.6\\t1\\t1398 96\\n109\\t1379\\t0.6\\t1\\t1295 84\\n110\\t1322\\t0.6\\t1\\t1251 71\\n111\\t1141\\t0.6\\t1\\t1074 67\\n112\\t1100\\t0.6\\t1\\t1043 57\\n113\\t975\\t0.6\\t1\\t918 57\\n114\\t869\\t0.6\\t1\\t804 65\\n115\\t808\\t0.6\\t1\\t772 36\\n116\\t749\\t0.6\\t1\\t704 45\\n117\\t731\\t0.6\\t1\\t678 53\\n118\\t781\\t0.6\\t1\\t745 36\\n119\\t799\\t0.6\\t1\\t760 39\\n120\\t636\\t0.6\\t1\\t602 34\\n121\\t539\\t0.6\\t1\\t497 42\\n122\\t398\\t0.6\\t1\\t362 36\\n123\\t452\\t0.6\\t1\\t407 45\\n124\\t329\\t0.6\\t1\\t283 46\\n125\\t221\\t0.6\\t1\\t186 35\\n126\\t162\\t0.6\\t1\\t147 15\\n127\\t172\\t0.6\\t1\\t146 26\\n128\\t271\\t0.6\\t1\\t226 45\\n129\\t154\\t0.6\\t1\\t132 22\\n130\\t86\\t0.6\\t1\\t74 12\\n131\\t70\\t0.6\\t1\\t38 32\\n132\\t57\\t0.6\\t1\\t39 18\\n133\\t84\\t0.6\\t1\\t42 42\\n134\\t67\\t0.6\\t1\\t19 48\\n135\\t53\\t0.6\\t1\\t27 26\\n136\\t47\\t0.6\\t1\\t34 13\\n137\\t46\\t0.6\\t1\\t23 23\\n138\\t34\\t0.6\\t1\\t25 9\\n139\\t41\\t0.6\\t1\\t28 13\\n140\\t26\\t0.6\\t1\\t12 14\\n141\\t52\\t0.6\\t1\\t27 25\\n142\\t53\\t0.6\\t1\\t22 31\\n143\\t50\\t0.6\\t1\\t26 24\\n144\\t36\\t0.6\\t1\\t19 17\\n145\\t52\\t0.6\\t1\\t27 25\\n146\\t39\\t0.6\\t1\\t25 14\\n147\\t49\\t0.6\\t1\\t21 28\\n148\\t17\\t0.6\\t1\\t8 9\\n149\\t45\\t0.6\\t1\\t0 45\\n150\\t4975\\t0.6\\t1\\t18 4957\\n\\nRUN STATISTICS FOR INPUT FILE: ../../data/slamseq_MYB_degraded_lines_v1/fastqs/mr560-P31FUJ-MYB-dTAG-VHL_1h-r2_R1_001.fastq.gz\\n=============================================\\n42839946 sequences processed in total\\nThe length threshold of paired-end sequences gets evaluated later on (in the validation step)\\n\\nWriting report to \\'/home/monika/data/slamseq_MYB_degraded_lines_v1/fastqs/mr560-P31FUJ-MYB-dTAG-VHL_1h-r2_R2_001.fastq.gz_trimming_report.txt\\'\\n\\nSUMMARISING RUN PARAMETERS\\n==========================\\nInput filename: ../../data/slamseq_MYB_degraded_lines_v1/fastqs/mr560-P31FUJ-MYB-dTAG-VHL_1h-r2_R2_001.fastq.gz\\nTrimming mode: paired-end\\nTrim Galore version: 0.6.7\\nCutadapt version: 3.4\\nPython version: could not detect\\nNumber of cores used for trimming: 6\\nQuality Phred score cutoff: 20\\nQuality encoding type selected: ASCII+33\\nAdapter sequence: \\'AGATCGGAAGAGC\\' (Illumina TruSeq, Sanger iPCR; user defined)\\nMaximum trimming error rate: 0.1 (default)\\nMinimum required adapter overlap (stringency): 3 bp\\nMinimum required sequence length for both reads before a sequence pair gets removed: 20 bp\\nLength cut-off for read 1: 35 bp (default)\\nLength cut-off for read 2: 35 bb (default)\\nOutput file(s) will be GZIP compressed\\n\\nCutadapt seems to be fairly up-to-date (version 3.4). Setting -j -j 6\\nWriting final adapter and quality trimmed output to mr560-P31FUJ-MYB-dTAG-VHL_1h-r2_R2_001_trimmed.fq.gz\\n\\n\\n  >>> Now performing quality (cutoff \\'-q 20\\') and adapter trimming in a single pass for the adapter sequence: \\'AGATCGGAAGAGC\\' from file ../../data/slamseq_MYB_degraded_lines_v1/fastqs/mr560-P31FUJ-MYB-dTAG-VHL_1h-r2_R2_001.fastq.gz <<< \\n10000000 sequences processed\\n20000000 sequences processed\\n30000000 sequences processed\\n40000000 sequences processed\\nThis is cutadapt 3.4 with Python 3.8.11\\nCommand line parameters: -j 6 -e 0.1 -q 20 -O 3 -a AGATCGGAAGAGC ../../data/slamseq_MYB_degraded_lines_v1/fastqs/mr560-P31FUJ-MYB-dTAG-VHL_1h-r2_R2_001.fastq.gz\\nProcessing reads on 6 cores in single-end mode ...\\nFinished in 1604.36 s (37 \\xc2\\xb5s/read; 1.60 M reads/minute).\\n\\n=== Summary ===\\n\\nTotal reads processed:              42,839,946\\nReads with adapters:                 9,404,611 (22.0%)\\nReads written (passing filters):    42,839,946 (100.0%)\\n\\nTotal basepairs processed: 6,425,991,900 bp\\nQuality-trimmed:              20,698,958 bp (0.3%)\\nTotal written (filtered):  6,153,870,612 bp (95.8%)\\n\\n=== Adapter 1 ===\\n\\nSequence: AGATCGGAAGAGC; Type: regular 3\\'; Length: 13; Trimmed: 9404611 times\\n\\nNo. of allowed errors:\\n1-9 bp: 0; 10-13 bp: 1\\n\\nBases preceding removed adapters:\\n  A: 8.5%\\n  C: 31.8%\\n  G: 49.6%\\n  T: 10.1%\\n  none/other: 0.0%\\n\\nOverview of removed sequences\\nlength\\tcount\\texpect\\tmax.err\\terror counts\\n3\\t1087722\\t669374.2\\t0\\t1087722\\n4\\t368549\\t167343.5\\t0\\t368549\\n5\\t239844\\t41835.9\\t0\\t239844\\n6\\t185109\\t10459.0\\t0\\t185109\\n7\\t189269\\t2614.7\\t0\\t189269\\n8\\t203888\\t653.7\\t0\\t203888\\n9\\t166312\\t163.4\\t0\\t165438 874\\n10\\t187924\\t40.9\\t1\\t179296 8628\\n11\\t191300\\t10.2\\t1\\t181364 9936\\n12\\t186950\\t2.6\\t1\\t178667 8283\\n13\\t175400\\t0.6\\t1\\t167470 7930\\n14\\t181261\\t0.6\\t1\\t172524 8737\\n15\\t174053\\t0.6\\t1\\t165568 8485\\n16\\t180149\\t0.6\\t1\\t171103 9046\\n17\\t177186\\t0.6\\t1\\t168812 8374\\n18\\t163805\\t0.6\\t1\\t156453 7352\\n19\\t181792\\t0.6\\t1\\t172672 9120\\n20\\t159433\\t0.6\\t1\\t152469 6964\\n21\\t156806\\t0.6\\t1\\t149676 7130\\n22\\t159521\\t0.6\\t1\\t152533 6988\\n23\\t157801\\t0.6\\t1\\t150726 7075\\n24\\t160949\\t0.6\\t1\\t153106 7843\\n25\\t163761\\t0.6\\t1\\t156918 6843\\n26\\t141112\\t0.6\\t1\\t135143 5969\\n27\\t151946\\t0.6\\t1\\t144484 7462\\n28\\t141517\\t0.6\\t1\\t136248 5269\\n29\\t148464\\t0.6\\t1\\t141790 6674\\n30\\t139155\\t0.6\\t1\\t133776 5379\\n31\\t135618\\t0.6\\t1\\t130108 5510\\n32\\t132326\\t0.6\\t1\\t127256 5070\\n33\\t135582\\t0.6\\t1\\t129815 5767\\n34\\t128641\\t0.6\\t1\\t124055 4586\\n35\\t123006\\t0.6\\t1\\t118727 4279\\n36\\t119337\\t0.6\\t1\\t114994 4343\\n37\\t123423\\t0.6\\t1\\t118216 5207\\n38\\t113764\\t0.6\\t1\\t109751 4013\\n39\\t115148\\t0.6\\t1\\t110135 5013\\n40\\t115035\\t0.6\\t1\\t110523 4512\\n41\\t98585\\t0.6\\t1\\t95453 3132\\n42\\t101517\\t0.6\\t1\\t98049 3468\\n43\\t95982\\t0.6\\t1\\t92852 3130\\n44\\t94598\\t0.6\\t1\\t91503 3095\\n45\\t91307\\t0.6\\t1\\t88143 3164\\n46\\t94097\\t0.6\\t1\\t90447 3650\\n47\\t83522\\t0.6\\t1\\t81013 2509\\n48\\t83769\\t0.6\\t1\\t80687 3082\\n49\\t82578\\t0.6\\t1\\t79593 2985\\n50\\t74805\\t0.6\\t1\\t72397 2408\\n51\\t74512\\t0.6\\t1\\t71860 2652\\n52\\t70008\\t0.6\\t1\\t67719 2289\\n53\\t66455\\t0.6\\t1\\t64357 2098\\n54\\t65777\\t0.6\\t1\\t63539 2238\\n55\\t59698\\t0.6\\t1\\t57841 1857\\n56\\t59986\\t0.6\\t1\\t58066 1920\\n57\\t61859\\t0.6\\t1\\t59691 2168\\n58\\t49995\\t0.6\\t1\\t48390 1605\\n59\\t50304\\t0.6\\t1\\t48837 1467\\n60\\t51180\\t0.6\\t1\\t49491 1689\\n61\\t43643\\t0.6\\t1\\t42352 1291\\n62\\t43004\\t0.6\\t1\\t41686 1318\\n63\\t53897\\t0.6\\t1\\t52154 1743\\n64\\t33528\\t0.6\\t1\\t32566 962\\n65\\t33575\\t0.6\\t1\\t32491 1084\\n66\\t32582\\t0.6\\t1\\t31646 936\\n67\\t33595\\t0.6\\t1\\t32615 980\\n68\\t34386\\t0.6\\t1\\t33291 1095\\n69\\t27512\\t0.6\\t1\\t26791 721\\n70\\t28674\\t0.6\\t1\\t27859 815\\n71\\t27210\\t0.6\\t1\\t26476 734\\n72\\t25497\\t0.6\\t1\\t24720 777\\n73\\t31292\\t0.6\\t1\\t30404 888\\n74\\t28722\\t0.6\\t1\\t27917 805\\n75\\t33934\\t0.6\\t1\\t33107 827\\n76\\t18831\\t0.6\\t1\\t18337 494\\n77\\t10237\\t0.6\\t1\\t9874 363\\n78\\t11387\\t0.6\\t1\\t11040 347\\n79\\t11367\\t0.6\\t1\\t11064 303\\n80\\t10941\\t0.6\\t1\\t10618 323\\n81\\t10500\\t0.6\\t1\\t10176 324\\n82\\t9739\\t0.6\\t1\\t9431 308\\n83\\t9948\\t0.6\\t1\\t9625 323\\n84\\t9139\\t0.6\\t1\\t8857 282\\n85\\t8786\\t0.6\\t1\\t8524 262\\n86\\t8205\\t0.6\\t1\\t7902 303\\n87\\t7646\\t0.6\\t1\\t7346 300\\n88\\t6739\\t0.6\\t1\\t6526 213\\n89\\t6523\\t0.6\\t1\\t6327 196\\n90\\t6601\\t0.6\\t1\\t6431 170\\n91\\t5874\\t0.6\\t1\\t5679 195\\n92\\t5379\\t0.6\\t1\\t5195 184\\n93\\t4967\\t0.6\\t1\\t4771 196\\n94\\t4209\\t0.6\\t1\\t4072 137\\n95\\t4162\\t0.6\\t1\\t3991 171\\n96\\t3820\\t0.6\\t1\\t3683 137\\n97\\t3624\\t0.6\\t1\\t3491 133\\n98\\t3534\\t0.6\\t1\\t3399 135\\n99\\t3375\\t0.6\\t1\\t3207 168\\n100\\t3174\\t0.6\\t1\\t3075 99\\n101\\t2730\\t0.6\\t1\\t2602 128\\n102\\t2340\\t0.6\\t1\\t2211 129\\n103\\t2157\\t0.6\\t1\\t2019 138\\n104\\t1949\\t0.6\\t1\\t1825 124\\n105\\t1810\\t0.6\\t1\\t1740 70\\n106\\t1695\\t0.6\\t1\\t1616 79\\n107\\t1648\\t0.6\\t1\\t1584 64\\n108\\t1504\\t0.6\\t1\\t1421 83\\n109\\t1294\\t0.6\\t1\\t1218 76\\n110\\t1281\\t0.6\\t1\\t1201 80\\n111\\t1105\\t0.6\\t1\\t1037 68\\n112\\t1091\\t0.6\\t1\\t1030 61\\n113\\t944\\t0.6\\t1\\t886 58\\n114\\t868\\t0.6\\t1\\t795 73\\n115\\t820\\t0.6\\t1\\t778 42\\n116\\t733\\t0.6\\t1\\t685 48\\n117\\t738\\t0.6\\t1\\t695 43\\n118\\t829\\t0.6\\t1\\t769 60\\n119\\t806\\t0.6\\t1\\t757 49\\n120\\t652\\t0.6\\t1\\t610 42\\n121\\t541\\t0.6\\t1\\t489 52\\n122\\t432\\t0.6\\t1\\t375 57\\n123\\t487\\t0.6\\t1\\t412 75\\n124\\t329\\t0.6\\t1\\t294 35\\n125\\t254\\t0.6\\t1\\t196 58\\n126\\t228\\t0.6\\t1\\t154 74\\n127\\t190\\t0.6\\t1\\t159 31\\n128\\t282\\t0.6\\t1\\t238 44\\n129\\t192\\t0.6\\t1\\t128 64\\n130\\t180\\t0.6\\t1\\t74 106\\n131\\t83\\t0.6\\t1\\t42 41\\n132\\t120\\t0.6\\t1\\t36 84\\n133\\t68\\t0.6\\t1\\t35 33\\n134\\t58\\t0.6\\t1\\t20 38\\n135\\t90\\t0.6\\t1\\t30 60\\n136\\t70\\t0.6\\t1\\t34 36\\n137\\t66\\t0.6\\t1\\t21 45\\n138\\t53\\t0.6\\t1\\t22 31\\n139\\t47\\t0.6\\t1\\t24 23\\n140\\t35\\t0.6\\t1\\t10 25\\n141\\t113\\t0.6\\t1\\t26 87\\n142\\t83\\t0.6\\t1\\t19 64\\n143\\t57\\t0.6\\t1\\t20 37\\n144\\t33\\t0.6\\t1\\t19 14\\n145\\t66\\t0.6\\t1\\t18 48\\n146\\t51\\t0.6\\t1\\t23 28\\n147\\t95\\t0.6\\t1\\t16 79\\n148\\t54\\t0.6\\t1\\t7 47\\n149\\t53\\t0.6\\t1\\t0 53\\n150\\t57\\t0.6\\t1\\t17 40\\n\\nRUN STATISTICS FOR INPUT FILE: ../../data/slamseq_MYB_degraded_lines_v1/fastqs/mr560-P31FUJ-MYB-dTAG-VHL_1h-r2_R2_001.fastq.gz\\n=============================================\\n42839946 sequences processed in total\\nThe length threshold of paired-end sequences gets evaluated later on (in the validation step)\\n\\nValidate paired-end files mr560-P31FUJ-MYB-dTAG-VHL_1h-r2_R1_001_trimmed.fq.gz and mr560-P31FUJ-MYB-dTAG-VHL_1h-r2_R2_001_trimmed.fq.gz\\nfile_1: mr560-P31FUJ-MYB-dTAG-VHL_1h-r2_R1_001_trimmed.fq.gz, file_2: mr560-P31FUJ-MYB-dTAG-VHL_1h-r2_R2_001_trimmed.fq.gz\\n\\n\\n>>>>> Now validing the length of the 2 paired-end infiles: mr560-P31FUJ-MYB-dTAG-VHL_1h-r2_R1_001_trimmed.fq.gz and mr560-P31FUJ-MYB-dTAG-VHL_1h-r2_R2_001_trimmed.fq.gz <<<<<\\nWriting validated paired-end Read 1 reads to mr560-P31FUJ-MYB-dTAG-VHL_1h-r2_R1_001_val_1.fq.gz\\nWriting validated paired-end Read 2 reads to mr560-P31FUJ-MYB-dTAG-VHL_1h-r2_R2_001_val_2.fq.gz\\n\\nWriting unpaired read 1 reads to mr560-P31FUJ-MYB-dTAG-VHL_1h-r2_R1_001_unpaired_1.fq.gz\\nWriting unpaired read 2 reads to mr560-P31FUJ-MYB-dTAG-VHL_1h-r2_R2_001_unpaired_2.fq.gz\\n\\nTotal number of sequences analysed: 42839946\\n\\nNumber of sequence pairs removed because at least one read was shorter than the length cutoff (20 bp): 28337 (0.07%)\\n\\nDeleting both intermediate output files mr560-P31FUJ-MYB-dTAG-VHL_1h-r2_R1_001_trimmed.fq.gz and mr560-P31FUJ-MYB-dTAG-VHL_1h-r2_R2_001_trimmed.fq.gz\\n\\n====================================================================================================\\n\\n'",
     "output_type": "error",
     "traceback": [
      "\u001b[0;31m---------------------------------------------------------------------------\u001b[0m",
      "\u001b[0;31mValueError\u001b[0m                                Traceback (most recent call last)",
      "\u001b[0;32m<timed eval>\u001b[0m in \u001b[0;36m<module>\u001b[0;34m\u001b[0m\n",
      "\u001b[0;32m~/genepy/genepy/utils/helper.py\u001b[0m in \u001b[0;36mparrun\u001b[0;34m(cmds, cores, add)\u001b[0m\n\u001b[1;32m    298\u001b[0m       \u001b[0mres\u001b[0m \u001b[0;34m=\u001b[0m \u001b[0msubprocess\u001b[0m\u001b[0;34m.\u001b[0m\u001b[0mrun\u001b[0m\u001b[0;34m(\u001b[0m\u001b[0mexe\u001b[0m\u001b[0;34m,\u001b[0m \u001b[0mcapture_output\u001b[0m\u001b[0;34m=\u001b[0m\u001b[0;32mTrue\u001b[0m\u001b[0;34m,\u001b[0m \u001b[0mshell\u001b[0m\u001b[0;34m=\u001b[0m\u001b[0;32mTrue\u001b[0m\u001b[0;34m)\u001b[0m\u001b[0;34m\u001b[0m\u001b[0;34m\u001b[0m\u001b[0m\n\u001b[1;32m    299\u001b[0m       \u001b[0;32mif\u001b[0m \u001b[0mres\u001b[0m\u001b[0;34m.\u001b[0m\u001b[0mreturncode\u001b[0m \u001b[0;34m!=\u001b[0m \u001b[0;36m0\u001b[0m\u001b[0;34m:\u001b[0m\u001b[0;34m\u001b[0m\u001b[0;34m\u001b[0m\u001b[0m\n\u001b[0;32m--> 300\u001b[0;31m         \u001b[0;32mraise\u001b[0m \u001b[0mValueError\u001b[0m\u001b[0;34m(\u001b[0m\u001b[0;34m'issue with the command: '\u001b[0m \u001b[0;34m+\u001b[0m \u001b[0mstr\u001b[0m\u001b[0;34m(\u001b[0m\u001b[0mres\u001b[0m\u001b[0;34m.\u001b[0m\u001b[0mstderr\u001b[0m\u001b[0;34m)\u001b[0m\u001b[0;34m)\u001b[0m\u001b[0;34m\u001b[0m\u001b[0;34m\u001b[0m\u001b[0m\n\u001b[0m\u001b[1;32m    301\u001b[0m       \u001b[0mexe\u001b[0m \u001b[0;34m=\u001b[0m \u001b[0;34m''\u001b[0m\u001b[0;34m\u001b[0m\u001b[0;34m\u001b[0m\u001b[0m\n\u001b[1;32m    302\u001b[0m       \u001b[0;32mif\u001b[0m \u001b[0mlen\u001b[0m\u001b[0;34m(\u001b[0m\u001b[0madd\u001b[0m\u001b[0;34m)\u001b[0m \u001b[0;34m!=\u001b[0m \u001b[0;36m0\u001b[0m\u001b[0;34m:\u001b[0m\u001b[0;34m\u001b[0m\u001b[0;34m\u001b[0m\u001b[0m\n",
      "\u001b[0;31mValueError\u001b[0m: issue with the command: b'Path to Cutadapt set as: \\'cutadapt\\' (default)\\nPath to Cutadapt set as: \\'cutadapt\\' (default)\\nCutadapt seems to be working fine (tested command \\'cutadapt --version\\')\\nCutadapt seems to be working fine (tested command \\'cutadapt --version\\')\\nCutadapt version: 3.4\\nCutadapt version: 3.4\\nCould not detect version of Python used by Cutadapt from the first line of Cutadapt (but found this: >>>#!/bin/sh<<<)\\nLetting the (modified) Cutadapt deal with the Python version instead\\nCould not detect version of Python used by Cutadapt from the first line of Cutadapt (but found this: >>>#!/bin/sh<<<)\\nLetting the (modified) Cutadapt deal with the Python version instead\\nParallel gzip (pigz) detected. Proceeding with multicore (de)compression using 6 cores\\n\\nNo quality encoding type selected. Assuming that the data provided uses Sanger encoded Phred scores (default)\\n\\nOutput will be written into the directory: /home/monika/data/slamseq_MYB_degraded_lines_v1/fastqs/\\nParallel gzip (pigz) detected. Proceeding with multicore (de)compression using 6 cores\\n\\nNo quality encoding type selected. Assuming that the data provided uses Sanger encoded Phred scores (default)\\n\\nOutput will be written into the directory: /home/monika/data/slamseq_MYB_degraded_lines_v1/fastqs/\\nWriting report to \\'/home/monika/data/slamseq_MYB_degraded_lines_v1/fastqs/mr561-P31FUJ-MYB-dTAG-VHL_1h-r3_R1_001.fastq.gz_trimming_report.txt\\'\\n\\nSUMMARISING RUN PARAMETERS\\n==========================\\nInput filename: ../../data/slamseq_MYB_degraded_lines_v1/fastqs/mr561-P31FUJ-MYB-dTAG-VHL_1h-r3_R1_001.fastq.gz\\nTrimming mode: paired-end\\nTrim Galore version: 0.6.7\\nCutadapt version: 3.4\\nPython version: could not detect\\nNumber of cores used for trimming: 6\\nQuality Phred score cutoff: 20\\nQuality encoding type selected: ASCII+33\\nAdapter sequence: \\'AGATCGGAAGAGC\\' (Illumina TruSeq, Sanger iPCR; user defined)\\nMaximum trimming error rate: 0.1 (default)\\nMinimum required adapter overlap (stringency): 3 bp\\nMinimum required sequence length for both reads before a sequence pair gets removed: 20 bp\\nLength cut-off for read 1: 35 bp (default)\\nLength cut-off for read 2: 35 bb (default)\\nOutput file(s) will be GZIP compressed\\n\\nCutadapt seems to be fairly up-to-date (version 3.4). Setting -j 6\\nWriting report to \\'/home/monika/data/slamseq_MYB_degraded_lines_v1/fastqs/mr560-P31FUJ-MYB-dTAG-VHL_1h-r2_R1_001.fastq.gz_trimming_report.txt\\'\\n\\nSUMMARISING RUN PARAMETERS\\n==========================\\nInput filename: ../../data/slamseq_MYB_degraded_lines_v1/fastqs/mr560-P31FUJ-MYB-dTAG-VHL_1h-r2_R1_001.fastq.gz\\nTrimming mode: paired-end\\nTrim Galore version: 0.6.7\\nCutadapt version: 3.4\\nPython version: could not detect\\nNumber of cores used for trimming: 6\\nQuality Phred score cutoff: 20\\nQuality encoding type selected: ASCII+33\\nAdapter sequence: \\'AGATCGGAAGAGC\\' (Illumina TruSeq, Sanger iPCR; user defined)\\nMaximum trimming error rate: 0.1 (default)\\nMinimum required adapter overlap (stringency): 3 bp\\nMinimum required sequence length for both reads before a sequence pair gets removed: 20 bp\\nLength cut-off for read 1: 35 bp (default)\\nLength cut-off for read 2: 35 bb (default)\\nOutput file(s) will be GZIP compressed\\n\\nCutadapt seems to be fairly up-to-date (version 3.4). Setting -j 6\\nWriting final adapter and quality trimmed output to mr560-P31FUJ-MYB-dTAG-VHL_1h-r2_R1_001_trimmed.fq.gz\\n\\n\\n  >>> Now performing quality (cutoff \\'-q 20\\') and adapter trimming in a single pass for the adapter sequence: \\'AGATCGGAAGAGC\\' from file ../../data/slamseq_MYB_degraded_lines_v1/fastqs/mr560-P31FUJ-MYB-dTAG-VHL_1h-r2_R1_001.fastq.gz <<< \\nWriting final adapter and quality trimmed output to mr561-P31FUJ-MYB-dTAG-VHL_1h-r3_R1_001_trimmed.fq.gz\\n\\n\\n  >>> Now performing quality (cutoff \\'-q 20\\') and adapter trimming in a single pass for the adapter sequence: \\'AGATCGGAAGAGC\\' from file ../../data/slamseq_MYB_degraded_lines_v1/fastqs/mr561-P31FUJ-MYB-dTAG-VHL_1h-r3_R1_001.fastq.gz <<< \\n10000000 sequences processed\\n10000000 sequences processed\\nThis is cutadapt 3.4 with Python 3.8.11\\nCommand line parameters: -j 6 -e 0.1 -q 20 -O 3 -a AGATCGGAAGAGC ../../data/slamseq_MYB_degraded_lines_v1/fastqs/mr561-P31FUJ-MYB-dTAG-VHL_1h-r3_R1_001.fastq.gz\\nProcessing reads on 6 cores in single-end mode ...\\nTraceback (most recent call last):\\n  File \"/home/monika/anaconda3/envs/slamseq/bin/cutadapt\", line 10, in <module>\\n    sys.exit(main_cli())\\n  File \"/home/monika/anaconda3/envs/slamseq/lib/python3.8/site-packages/cutadapt/__main__.py\", line 848, in main_cli\\n    main(sys.argv[1:])\\n  File \"/home/monika/anaconda3/envs/slamseq/lib/python3.8/site-packages/cutadapt/__main__.py\", line 913, in main\\n    stats = r.run()\\n  File \"/home/monika/anaconda3/envs/slamseq/lib/python3.8/site-packages/cutadapt/pipeline.py\", line 836, in run\\n    data = connection.recv_bytes()\\n  File \"/home/monika/anaconda3/envs/slamseq/lib/python3.8/multiprocessing/connection.py\", line 216, in recv_bytes\\n    buf = self._recv_bytes(maxlength)\\n  File \"/home/monika/anaconda3/envs/slamseq/lib/python3.8/multiprocessing/connection.py\", line 421, in _recv_bytes\\n    return self._recv(size)\\n  File \"/home/monika/anaconda3/envs/slamseq/lib/python3.8/multiprocessing/connection.py\", line 386, in _recv\\n    buf.write(chunk)\\nMemoryError\\n\\n\\nCutadapt terminated with exit signal: \\'256\\'.\\nTerminating Trim Galore run, please check error message(s) to get an idea what went wrong...\\n\\n20000000 sequences processed\\n30000000 sequences processed\\n40000000 sequences processed\\nThis is cutadapt 3.4 with Python 3.8.11\\nCommand line parameters: -j 6 -e 0.1 -q 20 -O 3 -a AGATCGGAAGAGC ../../data/slamseq_MYB_degraded_lines_v1/fastqs/mr560-P31FUJ-MYB-dTAG-VHL_1h-r2_R1_001.fastq.gz\\nProcessing reads on 6 cores in single-end mode ...\\nFinished in 1686.79 s (39 \\xc2\\xb5s/read; 1.52 M reads/minute).\\n\\n=== Summary ===\\n\\nTotal reads processed:              42,839,946\\nReads with adapters:                 9,075,657 (21.2%)\\nReads written (passing filters):    42,839,946 (100.0%)\\n\\nTotal basepairs processed: 6,425,991,900 bp\\nQuality-trimmed:              25,797,230 bp (0.4%)\\nTotal written (filtered):  6,150,226,743 bp (95.7%)\\n\\n=== Adapter 1 ===\\n\\nSequence: AGATCGGAAGAGC; Type: regular 3\\'; Length: 13; Trimmed: 9075657 times\\n\\nNo. of allowed errors:\\n1-9 bp: 0; 10-13 bp: 1\\n\\nBases preceding removed adapters:\\n  A: 8.4%\\n  C: 28.4%\\n  G: 40.7%\\n  T: 22.5%\\n  none/other: 0.0%\\n\\nOverview of removed sequences\\nlength\\tcount\\texpect\\tmax.err\\terror counts\\n3\\t819125\\t669374.2\\t0\\t819125\\n4\\t335057\\t167343.5\\t0\\t335057\\n5\\t233297\\t41835.9\\t0\\t233297\\n6\\t181321\\t10459.0\\t0\\t181321\\n7\\t179633\\t2614.7\\t0\\t179633\\n8\\t193365\\t653.7\\t0\\t193365\\n9\\t181745\\t163.4\\t0\\t180802 943\\n10\\t180687\\t40.9\\t1\\t173146 7541\\n11\\t194543\\t10.2\\t1\\t183102 11441\\n12\\t182257\\t2.6\\t1\\t173586 8671\\n13\\t174263\\t0.6\\t1\\t165005 9258\\n14\\t181332\\t0.6\\t1\\t169683 11649\\n15\\t176896\\t0.6\\t1\\t166655 10241\\n16\\t177863\\t0.6\\t1\\t165965 11898\\n17\\t183418\\t0.6\\t1\\t170769 12649\\n18\\t170551\\t0.6\\t1\\t161600 8951\\n19\\t154899\\t0.6\\t1\\t147021 7878\\n20\\t168137\\t0.6\\t1\\t158725 9412\\n21\\t161043\\t0.6\\t1\\t152370 8673\\n22\\t157669\\t0.6\\t1\\t149779 7890\\n23\\t160941\\t0.6\\t1\\t152082 8859\\n24\\t160159\\t0.6\\t1\\t149782 10377\\n25\\t155054\\t0.6\\t1\\t146842 8212\\n26\\t152206\\t0.6\\t1\\t144238 7968\\n27\\t152384\\t0.6\\t1\\t144445 7939\\n28\\t141283\\t0.6\\t1\\t134112 7171\\n29\\t150280\\t0.6\\t1\\t141092 9188\\n30\\t137434\\t0.6\\t1\\t130720 6714\\n31\\t130918\\t0.6\\t1\\t124535 6383\\n32\\t132358\\t0.6\\t1\\t125962 6396\\n33\\t132170\\t0.6\\t1\\t124679 7491\\n34\\t131397\\t0.6\\t1\\t124135 7262\\n35\\t128696\\t0.6\\t1\\t121368 7328\\n36\\t121859\\t0.6\\t1\\t116200 5659\\n37\\t111922\\t0.6\\t1\\t106791 5131\\n38\\t123492\\t0.6\\t1\\t117398 6094\\n39\\t116747\\t0.6\\t1\\t110703 6044\\n40\\t107432\\t0.6\\t1\\t100643 6789\\n41\\t103803\\t0.6\\t1\\t98756 5047\\n42\\t99141\\t0.6\\t1\\t94686 4455\\n43\\t107003\\t0.6\\t1\\t101093 5910\\n44\\t100707\\t0.6\\t1\\t94746 5961\\n45\\t142342\\t0.6\\t1\\t137649 4693\\n46\\t43146\\t0.6\\t1\\t40057 3089\\n47\\t73716\\t0.6\\t1\\t70225 3491\\n48\\t91612\\t0.6\\t1\\t87443 4169\\n49\\t79138\\t0.6\\t1\\t75810 3328\\n50\\t71220\\t0.6\\t1\\t67431 3789\\n51\\t82522\\t0.6\\t1\\t78169 4353\\n52\\t71380\\t0.6\\t1\\t68385 2995\\n53\\t59857\\t0.6\\t1\\t57144 2713\\n54\\t64797\\t0.6\\t1\\t61563 3234\\n55\\t72692\\t0.6\\t1\\t69793 2899\\n56\\t59859\\t0.6\\t1\\t57090 2769\\n57\\t63780\\t0.6\\t1\\t61176 2604\\n58\\t57129\\t0.6\\t1\\t54798 2331\\n59\\t58415\\t0.6\\t1\\t56107 2308\\n60\\t37790\\t0.6\\t1\\t36286 1504\\n61\\t32742\\t0.6\\t1\\t30919 1823\\n62\\t59306\\t0.6\\t1\\t57089 2217\\n63\\t43748\\t0.6\\t1\\t42211 1537\\n64\\t30913\\t0.6\\t1\\t29669 1244\\n65\\t30257\\t0.6\\t1\\t28493 1764\\n66\\t62756\\t0.6\\t1\\t61105 1651\\n67\\t30261\\t0.6\\t1\\t28856 1405\\n68\\t41115\\t0.6\\t1\\t39712 1403\\n69\\t25560\\t0.6\\t1\\t24451 1109\\n70\\t21748\\t0.6\\t1\\t20803 945\\n71\\t5387\\t0.6\\t1\\t4984 403\\n72\\t8917\\t0.6\\t1\\t8435 482\\n73\\t15964\\t0.6\\t1\\t15299 665\\n74\\t18415\\t0.6\\t1\\t17731 684\\n75\\t18432\\t0.6\\t1\\t17715 717\\n76\\t17935\\t0.6\\t1\\t17198 737\\n77\\t16878\\t0.6\\t1\\t16186 692\\n78\\t15849\\t0.6\\t1\\t15245 604\\n79\\t15255\\t0.6\\t1\\t14679 576\\n80\\t13890\\t0.6\\t1\\t13330 560\\n81\\t12943\\t0.6\\t1\\t12371 572\\n82\\t11792\\t0.6\\t1\\t11293 499\\n83\\t11542\\t0.6\\t1\\t11101 441\\n84\\t10433\\t0.6\\t1\\t10016 417\\n85\\t9788\\t0.6\\t1\\t9376 412\\n86\\t9338\\t0.6\\t1\\t8936 402\\n87\\t8760\\t0.6\\t1\\t8374 386\\n88\\t7656\\t0.6\\t1\\t7329 327\\n89\\t7239\\t0.6\\t1\\t6917 322\\n90\\t6769\\t0.6\\t1\\t6449 320\\n91\\t6290\\t0.6\\t1\\t5991 299\\n92\\t5593\\t0.6\\t1\\t5336 257\\n93\\t5080\\t0.6\\t1\\t4896 184\\n94\\t4721\\t0.6\\t1\\t4499 222\\n95\\t4447\\t0.6\\t1\\t4239 208\\n96\\t4053\\t0.6\\t1\\t3905 148\\n97\\t3904\\t0.6\\t1\\t3694 210\\n98\\t3535\\t0.6\\t1\\t3373 162\\n99\\t3169\\t0.6\\t1\\t2996 173\\n100\\t2993\\t0.6\\t1\\t2869 124\\n101\\t2829\\t0.6\\t1\\t2715 114\\n102\\t2463\\t0.6\\t1\\t2332 131\\n103\\t2228\\t0.6\\t1\\t2123 105\\n104\\t2083\\t0.6\\t1\\t2001 82\\n105\\t1894\\t0.6\\t1\\t1799 95\\n106\\t1745\\t0.6\\t1\\t1651 94\\n107\\t1699\\t0.6\\t1\\t1605 94\\n108\\t1494\\t0.6\\t1\\t1398 96\\n109\\t1379\\t0.6\\t1\\t1295 84\\n110\\t1322\\t0.6\\t1\\t1251 71\\n111\\t1141\\t0.6\\t1\\t1074 67\\n112\\t1100\\t0.6\\t1\\t1043 57\\n113\\t975\\t0.6\\t1\\t918 57\\n114\\t869\\t0.6\\t1\\t804 65\\n115\\t808\\t0.6\\t1\\t772 36\\n116\\t749\\t0.6\\t1\\t704 45\\n117\\t731\\t0.6\\t1\\t678 53\\n118\\t781\\t0.6\\t1\\t745 36\\n119\\t799\\t0.6\\t1\\t760 39\\n120\\t636\\t0.6\\t1\\t602 34\\n121\\t539\\t0.6\\t1\\t497 42\\n122\\t398\\t0.6\\t1\\t362 36\\n123\\t452\\t0.6\\t1\\t407 45\\n124\\t329\\t0.6\\t1\\t283 46\\n125\\t221\\t0.6\\t1\\t186 35\\n126\\t162\\t0.6\\t1\\t147 15\\n127\\t172\\t0.6\\t1\\t146 26\\n128\\t271\\t0.6\\t1\\t226 45\\n129\\t154\\t0.6\\t1\\t132 22\\n130\\t86\\t0.6\\t1\\t74 12\\n131\\t70\\t0.6\\t1\\t38 32\\n132\\t57\\t0.6\\t1\\t39 18\\n133\\t84\\t0.6\\t1\\t42 42\\n134\\t67\\t0.6\\t1\\t19 48\\n135\\t53\\t0.6\\t1\\t27 26\\n136\\t47\\t0.6\\t1\\t34 13\\n137\\t46\\t0.6\\t1\\t23 23\\n138\\t34\\t0.6\\t1\\t25 9\\n139\\t41\\t0.6\\t1\\t28 13\\n140\\t26\\t0.6\\t1\\t12 14\\n141\\t52\\t0.6\\t1\\t27 25\\n142\\t53\\t0.6\\t1\\t22 31\\n143\\t50\\t0.6\\t1\\t26 24\\n144\\t36\\t0.6\\t1\\t19 17\\n145\\t52\\t0.6\\t1\\t27 25\\n146\\t39\\t0.6\\t1\\t25 14\\n147\\t49\\t0.6\\t1\\t21 28\\n148\\t17\\t0.6\\t1\\t8 9\\n149\\t45\\t0.6\\t1\\t0 45\\n150\\t4975\\t0.6\\t1\\t18 4957\\n\\nRUN STATISTICS FOR INPUT FILE: ../../data/slamseq_MYB_degraded_lines_v1/fastqs/mr560-P31FUJ-MYB-dTAG-VHL_1h-r2_R1_001.fastq.gz\\n=============================================\\n42839946 sequences processed in total\\nThe length threshold of paired-end sequences gets evaluated later on (in the validation step)\\n\\nWriting report to \\'/home/monika/data/slamseq_MYB_degraded_lines_v1/fastqs/mr560-P31FUJ-MYB-dTAG-VHL_1h-r2_R2_001.fastq.gz_trimming_report.txt\\'\\n\\nSUMMARISING RUN PARAMETERS\\n==========================\\nInput filename: ../../data/slamseq_MYB_degraded_lines_v1/fastqs/mr560-P31FUJ-MYB-dTAG-VHL_1h-r2_R2_001.fastq.gz\\nTrimming mode: paired-end\\nTrim Galore version: 0.6.7\\nCutadapt version: 3.4\\nPython version: could not detect\\nNumber of cores used for trimming: 6\\nQuality Phred score cutoff: 20\\nQuality encoding type selected: ASCII+33\\nAdapter sequence: \\'AGATCGGAAGAGC\\' (Illumina TruSeq, Sanger iPCR; user defined)\\nMaximum trimming error rate: 0.1 (default)\\nMinimum required adapter overlap (stringency): 3 bp\\nMinimum required sequence length for both reads before a sequence pair gets removed: 20 bp\\nLength cut-off for read 1: 35 bp (default)\\nLength cut-off for read 2: 35 bb (default)\\nOutput file(s) will be GZIP compressed\\n\\nCutadapt seems to be fairly up-to-date (version 3.4). Setting -j -j 6\\nWriting final adapter and quality trimmed output to mr560-P31FUJ-MYB-dTAG-VHL_1h-r2_R2_001_trimmed.fq.gz\\n\\n\\n  >>> Now performing quality (cutoff \\'-q 20\\') and adapter trimming in a single pass for the adapter sequence: \\'AGATCGGAAGAGC\\' from file ../../data/slamseq_MYB_degraded_lines_v1/fastqs/mr560-P31FUJ-MYB-dTAG-VHL_1h-r2_R2_001.fastq.gz <<< \\n10000000 sequences processed\\n20000000 sequences processed\\n30000000 sequences processed\\n40000000 sequences processed\\nThis is cutadapt 3.4 with Python 3.8.11\\nCommand line parameters: -j 6 -e 0.1 -q 20 -O 3 -a AGATCGGAAGAGC ../../data/slamseq_MYB_degraded_lines_v1/fastqs/mr560-P31FUJ-MYB-dTAG-VHL_1h-r2_R2_001.fastq.gz\\nProcessing reads on 6 cores in single-end mode ...\\nFinished in 1604.36 s (37 \\xc2\\xb5s/read; 1.60 M reads/minute).\\n\\n=== Summary ===\\n\\nTotal reads processed:              42,839,946\\nReads with adapters:                 9,404,611 (22.0%)\\nReads written (passing filters):    42,839,946 (100.0%)\\n\\nTotal basepairs processed: 6,425,991,900 bp\\nQuality-trimmed:              20,698,958 bp (0.3%)\\nTotal written (filtered):  6,153,870,612 bp (95.8%)\\n\\n=== Adapter 1 ===\\n\\nSequence: AGATCGGAAGAGC; Type: regular 3\\'; Length: 13; Trimmed: 9404611 times\\n\\nNo. of allowed errors:\\n1-9 bp: 0; 10-13 bp: 1\\n\\nBases preceding removed adapters:\\n  A: 8.5%\\n  C: 31.8%\\n  G: 49.6%\\n  T: 10.1%\\n  none/other: 0.0%\\n\\nOverview of removed sequences\\nlength\\tcount\\texpect\\tmax.err\\terror counts\\n3\\t1087722\\t669374.2\\t0\\t1087722\\n4\\t368549\\t167343.5\\t0\\t368549\\n5\\t239844\\t41835.9\\t0\\t239844\\n6\\t185109\\t10459.0\\t0\\t185109\\n7\\t189269\\t2614.7\\t0\\t189269\\n8\\t203888\\t653.7\\t0\\t203888\\n9\\t166312\\t163.4\\t0\\t165438 874\\n10\\t187924\\t40.9\\t1\\t179296 8628\\n11\\t191300\\t10.2\\t1\\t181364 9936\\n12\\t186950\\t2.6\\t1\\t178667 8283\\n13\\t175400\\t0.6\\t1\\t167470 7930\\n14\\t181261\\t0.6\\t1\\t172524 8737\\n15\\t174053\\t0.6\\t1\\t165568 8485\\n16\\t180149\\t0.6\\t1\\t171103 9046\\n17\\t177186\\t0.6\\t1\\t168812 8374\\n18\\t163805\\t0.6\\t1\\t156453 7352\\n19\\t181792\\t0.6\\t1\\t172672 9120\\n20\\t159433\\t0.6\\t1\\t152469 6964\\n21\\t156806\\t0.6\\t1\\t149676 7130\\n22\\t159521\\t0.6\\t1\\t152533 6988\\n23\\t157801\\t0.6\\t1\\t150726 7075\\n24\\t160949\\t0.6\\t1\\t153106 7843\\n25\\t163761\\t0.6\\t1\\t156918 6843\\n26\\t141112\\t0.6\\t1\\t135143 5969\\n27\\t151946\\t0.6\\t1\\t144484 7462\\n28\\t141517\\t0.6\\t1\\t136248 5269\\n29\\t148464\\t0.6\\t1\\t141790 6674\\n30\\t139155\\t0.6\\t1\\t133776 5379\\n31\\t135618\\t0.6\\t1\\t130108 5510\\n32\\t132326\\t0.6\\t1\\t127256 5070\\n33\\t135582\\t0.6\\t1\\t129815 5767\\n34\\t128641\\t0.6\\t1\\t124055 4586\\n35\\t123006\\t0.6\\t1\\t118727 4279\\n36\\t119337\\t0.6\\t1\\t114994 4343\\n37\\t123423\\t0.6\\t1\\t118216 5207\\n38\\t113764\\t0.6\\t1\\t109751 4013\\n39\\t115148\\t0.6\\t1\\t110135 5013\\n40\\t115035\\t0.6\\t1\\t110523 4512\\n41\\t98585\\t0.6\\t1\\t95453 3132\\n42\\t101517\\t0.6\\t1\\t98049 3468\\n43\\t95982\\t0.6\\t1\\t92852 3130\\n44\\t94598\\t0.6\\t1\\t91503 3095\\n45\\t91307\\t0.6\\t1\\t88143 3164\\n46\\t94097\\t0.6\\t1\\t90447 3650\\n47\\t83522\\t0.6\\t1\\t81013 2509\\n48\\t83769\\t0.6\\t1\\t80687 3082\\n49\\t82578\\t0.6\\t1\\t79593 2985\\n50\\t74805\\t0.6\\t1\\t72397 2408\\n51\\t74512\\t0.6\\t1\\t71860 2652\\n52\\t70008\\t0.6\\t1\\t67719 2289\\n53\\t66455\\t0.6\\t1\\t64357 2098\\n54\\t65777\\t0.6\\t1\\t63539 2238\\n55\\t59698\\t0.6\\t1\\t57841 1857\\n56\\t59986\\t0.6\\t1\\t58066 1920\\n57\\t61859\\t0.6\\t1\\t59691 2168\\n58\\t49995\\t0.6\\t1\\t48390 1605\\n59\\t50304\\t0.6\\t1\\t48837 1467\\n60\\t51180\\t0.6\\t1\\t49491 1689\\n61\\t43643\\t0.6\\t1\\t42352 1291\\n62\\t43004\\t0.6\\t1\\t41686 1318\\n63\\t53897\\t0.6\\t1\\t52154 1743\\n64\\t33528\\t0.6\\t1\\t32566 962\\n65\\t33575\\t0.6\\t1\\t32491 1084\\n66\\t32582\\t0.6\\t1\\t31646 936\\n67\\t33595\\t0.6\\t1\\t32615 980\\n68\\t34386\\t0.6\\t1\\t33291 1095\\n69\\t27512\\t0.6\\t1\\t26791 721\\n70\\t28674\\t0.6\\t1\\t27859 815\\n71\\t27210\\t0.6\\t1\\t26476 734\\n72\\t25497\\t0.6\\t1\\t24720 777\\n73\\t31292\\t0.6\\t1\\t30404 888\\n74\\t28722\\t0.6\\t1\\t27917 805\\n75\\t33934\\t0.6\\t1\\t33107 827\\n76\\t18831\\t0.6\\t1\\t18337 494\\n77\\t10237\\t0.6\\t1\\t9874 363\\n78\\t11387\\t0.6\\t1\\t11040 347\\n79\\t11367\\t0.6\\t1\\t11064 303\\n80\\t10941\\t0.6\\t1\\t10618 323\\n81\\t10500\\t0.6\\t1\\t10176 324\\n82\\t9739\\t0.6\\t1\\t9431 308\\n83\\t9948\\t0.6\\t1\\t9625 323\\n84\\t9139\\t0.6\\t1\\t8857 282\\n85\\t8786\\t0.6\\t1\\t8524 262\\n86\\t8205\\t0.6\\t1\\t7902 303\\n87\\t7646\\t0.6\\t1\\t7346 300\\n88\\t6739\\t0.6\\t1\\t6526 213\\n89\\t6523\\t0.6\\t1\\t6327 196\\n90\\t6601\\t0.6\\t1\\t6431 170\\n91\\t5874\\t0.6\\t1\\t5679 195\\n92\\t5379\\t0.6\\t1\\t5195 184\\n93\\t4967\\t0.6\\t1\\t4771 196\\n94\\t4209\\t0.6\\t1\\t4072 137\\n95\\t4162\\t0.6\\t1\\t3991 171\\n96\\t3820\\t0.6\\t1\\t3683 137\\n97\\t3624\\t0.6\\t1\\t3491 133\\n98\\t3534\\t0.6\\t1\\t3399 135\\n99\\t3375\\t0.6\\t1\\t3207 168\\n100\\t3174\\t0.6\\t1\\t3075 99\\n101\\t2730\\t0.6\\t1\\t2602 128\\n102\\t2340\\t0.6\\t1\\t2211 129\\n103\\t2157\\t0.6\\t1\\t2019 138\\n104\\t1949\\t0.6\\t1\\t1825 124\\n105\\t1810\\t0.6\\t1\\t1740 70\\n106\\t1695\\t0.6\\t1\\t1616 79\\n107\\t1648\\t0.6\\t1\\t1584 64\\n108\\t1504\\t0.6\\t1\\t1421 83\\n109\\t1294\\t0.6\\t1\\t1218 76\\n110\\t1281\\t0.6\\t1\\t1201 80\\n111\\t1105\\t0.6\\t1\\t1037 68\\n112\\t1091\\t0.6\\t1\\t1030 61\\n113\\t944\\t0.6\\t1\\t886 58\\n114\\t868\\t0.6\\t1\\t795 73\\n115\\t820\\t0.6\\t1\\t778 42\\n116\\t733\\t0.6\\t1\\t685 48\\n117\\t738\\t0.6\\t1\\t695 43\\n118\\t829\\t0.6\\t1\\t769 60\\n119\\t806\\t0.6\\t1\\t757 49\\n120\\t652\\t0.6\\t1\\t610 42\\n121\\t541\\t0.6\\t1\\t489 52\\n122\\t432\\t0.6\\t1\\t375 57\\n123\\t487\\t0.6\\t1\\t412 75\\n124\\t329\\t0.6\\t1\\t294 35\\n125\\t254\\t0.6\\t1\\t196 58\\n126\\t228\\t0.6\\t1\\t154 74\\n127\\t190\\t0.6\\t1\\t159 31\\n128\\t282\\t0.6\\t1\\t238 44\\n129\\t192\\t0.6\\t1\\t128 64\\n130\\t180\\t0.6\\t1\\t74 106\\n131\\t83\\t0.6\\t1\\t42 41\\n132\\t120\\t0.6\\t1\\t36 84\\n133\\t68\\t0.6\\t1\\t35 33\\n134\\t58\\t0.6\\t1\\t20 38\\n135\\t90\\t0.6\\t1\\t30 60\\n136\\t70\\t0.6\\t1\\t34 36\\n137\\t66\\t0.6\\t1\\t21 45\\n138\\t53\\t0.6\\t1\\t22 31\\n139\\t47\\t0.6\\t1\\t24 23\\n140\\t35\\t0.6\\t1\\t10 25\\n141\\t113\\t0.6\\t1\\t26 87\\n142\\t83\\t0.6\\t1\\t19 64\\n143\\t57\\t0.6\\t1\\t20 37\\n144\\t33\\t0.6\\t1\\t19 14\\n145\\t66\\t0.6\\t1\\t18 48\\n146\\t51\\t0.6\\t1\\t23 28\\n147\\t95\\t0.6\\t1\\t16 79\\n148\\t54\\t0.6\\t1\\t7 47\\n149\\t53\\t0.6\\t1\\t0 53\\n150\\t57\\t0.6\\t1\\t17 40\\n\\nRUN STATISTICS FOR INPUT FILE: ../../data/slamseq_MYB_degraded_lines_v1/fastqs/mr560-P31FUJ-MYB-dTAG-VHL_1h-r2_R2_001.fastq.gz\\n=============================================\\n42839946 sequences processed in total\\nThe length threshold of paired-end sequences gets evaluated later on (in the validation step)\\n\\nValidate paired-end files mr560-P31FUJ-MYB-dTAG-VHL_1h-r2_R1_001_trimmed.fq.gz and mr560-P31FUJ-MYB-dTAG-VHL_1h-r2_R2_001_trimmed.fq.gz\\nfile_1: mr560-P31FUJ-MYB-dTAG-VHL_1h-r2_R1_001_trimmed.fq.gz, file_2: mr560-P31FUJ-MYB-dTAG-VHL_1h-r2_R2_001_trimmed.fq.gz\\n\\n\\n>>>>> Now validing the length of the 2 paired-end infiles: mr560-P31FUJ-MYB-dTAG-VHL_1h-r2_R1_001_trimmed.fq.gz and mr560-P31FUJ-MYB-dTAG-VHL_1h-r2_R2_001_trimmed.fq.gz <<<<<\\nWriting validated paired-end Read 1 reads to mr560-P31FUJ-MYB-dTAG-VHL_1h-r2_R1_001_val_1.fq.gz\\nWriting validated paired-end Read 2 reads to mr560-P31FUJ-MYB-dTAG-VHL_1h-r2_R2_001_val_2.fq.gz\\n\\nWriting unpaired read 1 reads to mr560-P31FUJ-MYB-dTAG-VHL_1h-r2_R1_001_unpaired_1.fq.gz\\nWriting unpaired read 2 reads to mr560-P31FUJ-MYB-dTAG-VHL_1h-r2_R2_001_unpaired_2.fq.gz\\n\\nTotal number of sequences analysed: 42839946\\n\\nNumber of sequence pairs removed because at least one read was shorter than the length cutoff (20 bp): 28337 (0.07%)\\n\\nDeleting both intermediate output files mr560-P31FUJ-MYB-dTAG-VHL_1h-r2_R1_001_trimmed.fq.gz and mr560-P31FUJ-MYB-dTAG-VHL_1h-r2_R2_001_trimmed.fq.gz\\n\\n====================================================================================================\\n\\n'"
     ]
    }
   ],
   "source": [
    "%%time\n",
    "h.parrun(['trim_galore --paired --cores 6 --retain_unpaired -stringency 3\\\n",
    " --illumina '+val1+' '+val2+' -o '+fastq_folder for val1, val2 in h.grouped(fastqs[56:], 2)], 2)"
   ]
  },
  {
   "cell_type": "code",
   "execution_count": 11,
   "id": "1cb9bf20",
   "metadata": {
    "scrolled": false
   },
   "outputs": [
    {
     "name": "stdout",
     "output_type": "stream",
     "text": [
      "CPU times: user 236 ms, sys: 48 ms, total: 284 ms\n",
      "Wall time: 2h 13min 5s\n"
     ]
    },
    {
     "data": {
      "text/plain": [
       "['pigz 2.6\\npigz 2.6\\n', 'pigz 2.6\\npigz 2.6\\n', 'pigz 2.6\\n']"
      ]
     },
     "execution_count": 11,
     "metadata": {},
     "output_type": "execute_result"
    }
   ],
   "source": [
    "%%time\n",
    "h.parrun(['trim_galore --paired --cores 6 --retain_unpaired -stringency 3\\\n",
    " --illumina '+val1+' '+val2+' -o '+fastq_folder for val1, val2 in h.grouped(fastqs[68:], 2)], 2)"
   ]
  },
  {
   "cell_type": "code",
   "execution_count": 25,
   "id": "56a519fd",
   "metadata": {},
   "outputs": [
    {
     "name": "stdout",
     "output_type": "stream",
     "text": [
      "CPU times: user 80 ms, sys: 24 ms, total: 104 ms\n",
      "Wall time: 49min 54s\n"
     ]
    },
    {
     "data": {
      "text/plain": [
       "['pigz 2.6\\npigz 2.6\\n']"
      ]
     },
     "execution_count": 25,
     "metadata": {},
     "output_type": "execute_result"
    }
   ],
   "source": [
    "%%time\n",
    "h.parrun(['trim_galore --paired --cores 6 --retain_unpaired -stringency 3\\\n",
    " --illumina '+val1+' '+val2+' -o '+fastq_folder for val1, val2 in h.grouped(fastqs[58:60]+fastqs[62:64], 2)], 2)"
   ]
  },
  {
   "cell_type": "markdown",
   "id": "ed796e40",
   "metadata": {},
   "source": [
    "## slamdunk"
   ]
  },
  {
   "cell_type": "markdown",
   "id": "3c24cb52",
   "metadata": {},
   "source": [
    "install slamdunk & dependencies if needed (see above)"
   ]
  },
  {
   "cell_type": "code",
   "execution_count": null,
   "id": "19e57df4",
   "metadata": {},
   "outputs": [],
   "source": [
    "# install slamdunk\n",
    "#! pip3 install git+https://github.com/jkobject/slamdunk.git --upgrade"
   ]
  },
  {
   "cell_type": "code",
   "execution_count": null,
   "id": "4df65517",
   "metadata": {},
   "outputs": [],
   "source": [
    "# please also install cutadapt, fastqc, and trimgalore\n",
    "#! conda install -c bioconda cutadapt\n",
    "#! conda install -c bioconda fastqc\n",
    "#! conda install -c bioconda trim-galore"
   ]
  },
  {
   "cell_type": "markdown",
   "id": "0c95a40e",
   "metadata": {},
   "source": [
    "download reference genome files"
   ]
  },
  {
   "cell_type": "code",
   "execution_count": null,
   "id": "e63516fe",
   "metadata": {},
   "outputs": [],
   "source": [
    "# google storage bucket with reference files\n",
    "#! gsutil ls gs://ccle_default_params\n",
    "\n",
    "# copy reference genome files\n",
    "#! gsutil -m cp gs://ccle_default_params/Homo_sapiens_assembly38* ../../ref/\n",
    "\n",
    "# copy reference genome files\n",
    "#! cp ../data/Muhar_Slamseq/{ERCC92.fa,ERCC92.gtf,GSE100708_hg38_refseq_062016_ensemblv84_3UTR.bed} ../../ref"
   ]
  },
  {
   "cell_type": "code",
   "execution_count": 12,
   "id": "d7421b93",
   "metadata": {},
   "outputs": [],
   "source": [
    "# using an ERCC ref genome (you can just append ERCC fasta to the hg38 fasta)\n",
    "refgenome_noAlt=\"../../ref/Homo_sapiens_assembly38_ERCC92_noAlt.fasta\""
   ]
  },
  {
   "cell_type": "code",
   "execution_count": 13,
   "id": "8d7cbea6",
   "metadata": {},
   "outputs": [],
   "source": [
    "# gene intervals bed (use for all projects)\n",
    "gene_intervals = \"../../ref/GSE100708_hg38_refseq_062016_ensemblv84_3UTR.bed\""
   ]
  },
  {
   "cell_type": "markdown",
   "id": "6e85263d",
   "metadata": {},
   "source": [
    "PySam warning can be ignored.\n",
    "<br>[GitHub issue: [E::idx_find_and_load] Could not retrieve index file\" when AlignmentFile](https://github.com/pysam-developers/pysam/issues/939)"
   ]
  },
  {
   "cell_type": "markdown",
   "id": "555911f7",
   "metadata": {},
   "source": [
    "res = slamdunk all w/ (-fb, -m, -n 1, -rl 152, -r Homo_sapiens_assembly38_ERCC92_noAlt.fasta)"
   ]
  },
  {
   "cell_type": "markdown",
   "id": "89f7b4c1",
   "metadata": {},
   "source": [
    "Read length note!\n",
    "<br>Difference between min and max read length is > 100bp\n",
    "<br>Average read length 127 (min: 8, max: 152)"
   ]
  },
  {
   "cell_type": "code",
   "execution_count": 26,
   "id": "0dd4228d",
   "metadata": {},
   "outputs": [
    {
     "data": {
      "text/plain": [
       "39"
      ]
     },
     "execution_count": 26,
     "metadata": {},
     "output_type": "execute_result"
    }
   ],
   "source": [
    "fastq_folder = \"../../data/\"+\"slamseq_\"+project+\"/fastqs\"\n",
    "fastqs = ! ls $fastq_folder\n",
    "fastqs = [fastq for fastq in fastqs if \"val\" in fastq]\n",
    "fastq_full = [fastq_folder+\"/\"+f for f in fastqs]\n",
    "len(fastq_full[::2])"
   ]
  },
  {
   "cell_type": "code",
   "execution_count": 27,
   "id": "4fd4dae4",
   "metadata": {},
   "outputs": [
    {
     "data": {
      "text/plain": [
       "'../../data/slamseq_MYB_degraded_lines_v1/res'"
      ]
     },
     "execution_count": 27,
     "metadata": {},
     "output_type": "execute_result"
    }
   ],
   "source": [
    "res_dir = \"../../data/\"+\"slamseq_\"+project+\"/res\"\n",
    "res_dir"
   ]
  },
  {
   "cell_type": "code",
   "execution_count": 28,
   "id": "8ea7af30",
   "metadata": {},
   "outputs": [
    {
     "name": "stdout",
     "output_type": "stream",
     "text": [
      "['slamdunk all -o ../../data/slamseq_MYB_degraded_lines_v1/res -r ../../ref/Homo_sapiens_assembly38_ERCC92_noAlt.fasta -b ../../ref/GSE100708_hg38_refseq_062016_ensemblv84_3UTR.bed -t 14 -c 2 -rl 152 -5 12 -n 1 -m -N mr532-MV411-MYB-dTAG-DMSO_1h-r1 ../../data/slamseq_MYB_degraded_lines_v1/fastqs/mr532-MV411-MYB-dTAG-DMSO_1h-r1_R1_001_val_1.fq.gz ../../data/slamseq_MYB_degraded_lines_v1/fastqs/mr532-MV411-MYB-dTAG-DMSO_1h-r1_R2_001_val_2.fq.gz']\n",
      "CPU times: user 0 ns, sys: 0 ns, total: 0 ns\n",
      "Wall time: 168 µs\n"
     ]
    }
   ],
   "source": [
    "%%time\n",
    "\n",
    "# print call\n",
    "print(['slamdunk all'+\n",
    "       ' -o '+res_dir+\n",
    "       ' -r '+refgenome_noAlt+\n",
    "       ' -b '+gene_intervals+\n",
    "       ' -t 14'+\n",
    "       ' -c 2'+\n",
    "       ' -rl 152'+ # max-read-length = 152\n",
    "       # new parameters\n",
    "       ' -5 12'+\n",
    "       ' -n 1'+ # reads map to multiple locations at once\n",
    "       ' -m'+ # multimapping\n",
    "       ' -N '+val1.split('/')[-1].split('_R')[0]+\n",
    "       ' '+val1+\" \"+val2\n",
    "       for val1, val2 in h.grouped(fastq_full[:2], 2)])"
   ]
  },
  {
   "cell_type": "code",
   "execution_count": 29,
   "id": "1d9dbe13",
   "metadata": {
    "collapsed": true
   },
   "outputs": [
    {
     "name": "stdout",
     "output_type": "stream",
     "text": [
      "mr532-MV411-MYB-dTAG-DMSO_1h-r1_R1_001_val_1.fq.gz\n",
      "mr533-MV411-MYB-dTAG-DMSO_1h-r2_R1_001_val_1.fq.gz\n",
      "mr534-MV411-MYB-dTAG-DMSO_1h-r3_R1_001_val_1.fq.gz\n",
      "mr535-MV411-MYB-dTAG-DMSO_1h-r4_R1_001_val_1.fq.gz\n",
      "mr536-MV411-MYB-dTAG-VHL_1h-r1_R1_001_val_1.fq.gz\n",
      "mr537-MV411-MYB-dTAG-VHL_1h-r2_R1_001_val_1.fq.gz\n",
      "mr538-MV411-MYB-dTAG-VHL_1h-r3_R1_001_val_1.fq.gz\n",
      "mr539-MONOMAC1-MYB-dTAG-DMSO_1h-r1_R1_001_val_1.fq.gz\n",
      "mr540-MONOMAC1-MYB-dTAG-DMSO_1h-r2_R1_001_val_1.fq.gz\n",
      "mr541-MONOMAC1-MYB-dTAG-DMSO_1h-r3_R1_001_val_1.fq.gz\n",
      "mr542-MONOMAC1-MYB-dTAG-DMSO_1h-r4_R1_001_val_1.fq.gz\n",
      "mr543-MONOMAC1-MYB-dTAG-VHL_1h-r1_R1_001_val_1.fq.gz\n",
      "mr544-MONOMAC1-MYB-dTAG-VHL_1h-r2_R1_001_val_1.fq.gz\n",
      "mr545-MONOMAC1-MYB-dTAG-VHL_1h-r3_R1_001_val_1.fq.gz\n",
      "mr546-MONOMAC1-MYB-dTAG-VHL_1h-r4_R1_001_val_1.fq.gz\n",
      "mr547-NOMO1-MYB-dTAG-DMSO_1h-r1_R1_001_val_1.fq.gz\n",
      "mr548-NOMO1-MYB-dTAG-DMSO_1h-r2_R1_001_val_1.fq.gz\n",
      "mr549-NOMO1-MYB-dTAG-DMSO_1h-r3_R1_001_val_1.fq.gz\n",
      "mr550-NOMO1-MYB-dTAG-DMSO_1h-r4_R1_001_val_1.fq.gz\n",
      "mr551-NOMO1-MYB-dTAG-VHL_1h-r1_R1_001_val_1.fq.gz\n",
      "mr552-NOMO1-MYB-dTAG-VHL_1h-r2_R1_001_val_1.fq.gz\n",
      "mr553-NOMO1-MYB-dTAG-VHL_1h-r3_R1_001_val_1.fq.gz\n",
      "mr554-NOMO1-MYB-dTAG-VHL_1h-r4_R1_001_val_1.fq.gz\n",
      "mr555-P31FUJ-MYB-dTAG-DMSO_1h-r1_R1_001_val_1.fq.gz\n",
      "mr556-P31FUJ-MYB-dTAG-DMSO_1h-r2_R1_001_val_1.fq.gz\n",
      "mr557-P31FUJ-MYB-dTAG-DMSO_1h-r3_R1_001_val_1.fq.gz\n",
      "mr558-P31FUJ-MYB-dTAG-DMSO_1h-r4_R1_001_val_1.fq.gz\n",
      "mr559-P31FUJ-MYB-dTAG-VHL_1h-r1_R1_001_val_1.fq.gz\n",
      "mr560-P31FUJ-MYB-dTAG-VHL_1h-r2_R1_001_val_1.fq.gz\n",
      "mr561-P31FUJ-MYB-dTAG-VHL_1h-r3_R1_001_val_1.fq.gz\n",
      "mr562-P31FUJ-MYB-dTAG-VHL_1h-r4_R1_001_val_1.fq.gz\n",
      "mr563-THP1-MYB-dTAG-DMSO_1h-r1_R1_001_val_1.fq.gz\n",
      "mr564-THP1-MYB-dTAG-DMSO_1h-r2_R1_001_val_1.fq.gz\n",
      "mr565-THP1-MYB-dTAG-DMSO_1h-r3_R1_001_val_1.fq.gz\n",
      "mr566-THP1-MYB-dTAG-DMSO_1h-r4_R1_001_val_1.fq.gz\n",
      "mr567-THP1-MYB-dTAG-VHL_1h-r1_R1_001_val_1.fq.gz\n",
      "mr568-THP1-MYB-dTAG-VHL_1h-r2_R1_001_val_1.fq.gz\n",
      "mr569-THP1-MYB-dTAG-VHL_1h-r3_R1_001_val_1.fq.gz\n",
      "mr570-THP1-MYB-dTAG-VHL_1h-r4_R1_001_val_1.fq.gz\n"
     ]
    }
   ],
   "source": [
    "for val1, val2 in h.grouped(fastq_full, 2): print(os.path.basename(val1))"
   ]
  },
  {
   "cell_type": "code",
   "execution_count": 36,
   "id": "d6b64f39",
   "metadata": {},
   "outputs": [
    {
     "name": "stdout",
     "output_type": "stream",
     "text": [
      "mr535-MV411-MYB-dTAG-DMSO_1h-r4_R1_001_val_1.fq.gz\n",
      "mr536-MV411-MYB-dTAG-VHL_1h-r1_R1_001_val_1.fq.gz\n"
     ]
    }
   ],
   "source": [
    "for val1, val2 in h.grouped(fastq_full[6:10], 2): print(os.path.basename(val1))"
   ]
  },
  {
   "cell_type": "code",
   "execution_count": null,
   "id": "436f87b0",
   "metadata": {},
   "outputs": [],
   "source": [
    "%%time\n",
    "\n",
    "# run slamdunk\n",
    "# we are doing it paired end\n",
    "h.parrun(['slamdunk all'+\n",
    "          ' -o '+res_dir+\n",
    "          ' -r '+refgenome_noAlt+\n",
    "          ' -b '+gene_intervals+\n",
    "          ' -t 14'+\n",
    "          ' -c 2'+\n",
    "          ' -rl 152'+ # max-read-length = 152\n",
    "          # new parameters\n",
    "          ' -5 12'+\n",
    "          ' -n 1'+ # reads map to multiple locations at once\n",
    "          ' -m True'+ # multimapping\n",
    "          ' -N '+val1.split('/')[-1].split('_R')[0]+\n",
    "          ' '+val1+\" \"+val2+\n",
    "          ' 2>&1 | tee '+res_dir+'/'+os.path.basename(val1)+'_slumdunk.log'\n",
    "          for val1, val2 in h.grouped(fastq_full[6:10], 2)], 2)"
   ]
  },
  {
   "cell_type": "code",
   "execution_count": null,
   "id": "abbf2036",
   "metadata": {},
   "outputs": [],
   "source": []
  }
 ],
 "metadata": {
  "kernelspec": {
   "display_name": "Python 3 (ipykernel)",
   "language": "python",
   "name": "python3"
  },
  "language_info": {
   "codemirror_mode": {
    "name": "ipython",
    "version": 3
   },
   "file_extension": ".py",
   "mimetype": "text/x-python",
   "name": "python",
   "nbconvert_exporter": "python",
   "pygments_lexer": "ipython3",
   "version": "3.8.11"
  },
  "toc": {
   "base_numbering": 1,
   "nav_menu": {},
   "number_sections": false,
   "sideBar": true,
   "skip_h1_title": false,
   "title_cell": "Table of Contents",
   "title_sidebar": "Contents",
   "toc_cell": false,
   "toc_position": {
    "height": "calc(100% - 180px)",
    "left": "10px",
    "top": "150px",
    "width": "202.797px"
   },
   "toc_section_display": true,
   "toc_window_display": true
  }
 },
 "nbformat": 4,
 "nbformat_minor": 5
}
