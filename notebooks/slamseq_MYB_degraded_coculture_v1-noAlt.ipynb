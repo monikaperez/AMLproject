{
 "cells": [
  {
   "cell_type": "markdown",
   "id": "2ee810aa",
   "metadata": {},
   "source": [
    "# SLAMseq"
   ]
  },
  {
   "cell_type": "markdown",
   "id": "9c76af92",
   "metadata": {},
   "source": [
    "## Installing slamdunk (only do once)"
   ]
  },
  {
   "cell_type": "code",
   "execution_count": 1,
   "id": "c6fe9f68",
   "metadata": {},
   "outputs": [],
   "source": [
    "# install slamdunk\n",
    "#! pip3 install git+https://github.com/jkobject/slamdunk.git --upgrade"
   ]
  },
  {
   "cell_type": "code",
   "execution_count": 2,
   "id": "9b9c4e84",
   "metadata": {},
   "outputs": [],
   "source": [
    "# clone and install genepy\n",
    "# pip install -e genepy"
   ]
  },
  {
   "cell_type": "code",
   "execution_count": 3,
   "id": "4c7e763b",
   "metadata": {},
   "outputs": [],
   "source": [
    "# please also install cutadapt, fastqc, and trimgalore\n",
    "#! conda install -c bioconda cutadapt\n",
    "#! conda install -c bioconda fastqc\n",
    "#! conda install -c bioconda trim-galore"
   ]
  },
  {
   "cell_type": "code",
   "execution_count": 1,
   "id": "2d71fdd2",
   "metadata": {},
   "outputs": [],
   "source": [
    "from __future__ import print_function\n",
    "import os.path\n",
    "import pandas as pd\n",
    "import sys\n",
    "sys.path.insert(0, '../../')\n",
    "import seaborn as sns\n",
    "import numpy as np\n",
    "from natsort import os_sorted\n",
    "\n",
    "from genepy.utils import helper as h\n",
    "from genepy.utils import plot as genepyPlot\n",
    "from genepy.rna import pyDESeq2\n",
    "import genepy.rna as rna"
   ]
  },
  {
   "cell_type": "code",
   "execution_count": 3,
   "id": "f0fe245c",
   "metadata": {
    "scrolled": false
   },
   "outputs": [
    {
     "data": {
      "text/html": [
       "\n",
       "    <div class=\"bk-root\">\n",
       "        <a href=\"https://bokeh.org\" target=\"_blank\" class=\"bk-logo bk-logo-small bk-logo-notebook\"></a>\n",
       "        <span id=\"1003\">Loading BokehJS ...</span>\n",
       "    </div>"
      ]
     },
     "metadata": {},
     "output_type": "display_data"
    },
    {
     "data": {
      "application/javascript": [
       "\n",
       "(function(root) {\n",
       "  function now() {\n",
       "    return new Date();\n",
       "  }\n",
       "\n",
       "  const force = true;\n",
       "\n",
       "  if (typeof root._bokeh_onload_callbacks === \"undefined\" || force === true) {\n",
       "    root._bokeh_onload_callbacks = [];\n",
       "    root._bokeh_is_loading = undefined;\n",
       "  }\n",
       "\n",
       "  const JS_MIME_TYPE = 'application/javascript';\n",
       "  const HTML_MIME_TYPE = 'text/html';\n",
       "  const EXEC_MIME_TYPE = 'application/vnd.bokehjs_exec.v0+json';\n",
       "  const CLASS_NAME = 'output_bokeh rendered_html';\n",
       "\n",
       "  /**\n",
       "   * Render data to the DOM node\n",
       "   */\n",
       "  function render(props, node) {\n",
       "    const script = document.createElement(\"script\");\n",
       "    node.appendChild(script);\n",
       "  }\n",
       "\n",
       "  /**\n",
       "   * Handle when an output is cleared or removed\n",
       "   */\n",
       "  function handleClearOutput(event, handle) {\n",
       "    const cell = handle.cell;\n",
       "\n",
       "    const id = cell.output_area._bokeh_element_id;\n",
       "    const server_id = cell.output_area._bokeh_server_id;\n",
       "    // Clean up Bokeh references\n",
       "    if (id != null && id in Bokeh.index) {\n",
       "      Bokeh.index[id].model.document.clear();\n",
       "      delete Bokeh.index[id];\n",
       "    }\n",
       "\n",
       "    if (server_id !== undefined) {\n",
       "      // Clean up Bokeh references\n",
       "      const cmd_clean = \"from bokeh.io.state import curstate; print(curstate().uuid_to_server['\" + server_id + \"'].get_sessions()[0].document.roots[0]._id)\";\n",
       "      cell.notebook.kernel.execute(cmd_clean, {\n",
       "        iopub: {\n",
       "          output: function(msg) {\n",
       "            const id = msg.content.text.trim();\n",
       "            if (id in Bokeh.index) {\n",
       "              Bokeh.index[id].model.document.clear();\n",
       "              delete Bokeh.index[id];\n",
       "            }\n",
       "          }\n",
       "        }\n",
       "      });\n",
       "      // Destroy server and session\n",
       "      const cmd_destroy = \"import bokeh.io.notebook as ion; ion.destroy_server('\" + server_id + \"')\";\n",
       "      cell.notebook.kernel.execute(cmd_destroy);\n",
       "    }\n",
       "  }\n",
       "\n",
       "  /**\n",
       "   * Handle when a new output is added\n",
       "   */\n",
       "  function handleAddOutput(event, handle) {\n",
       "    const output_area = handle.output_area;\n",
       "    const output = handle.output;\n",
       "\n",
       "    // limit handleAddOutput to display_data with EXEC_MIME_TYPE content only\n",
       "    if ((output.output_type != \"display_data\") || (!Object.prototype.hasOwnProperty.call(output.data, EXEC_MIME_TYPE))) {\n",
       "      return\n",
       "    }\n",
       "\n",
       "    const toinsert = output_area.element.find(\".\" + CLASS_NAME.split(' ')[0]);\n",
       "\n",
       "    if (output.metadata[EXEC_MIME_TYPE][\"id\"] !== undefined) {\n",
       "      toinsert[toinsert.length - 1].firstChild.textContent = output.data[JS_MIME_TYPE];\n",
       "      // store reference to embed id on output_area\n",
       "      output_area._bokeh_element_id = output.metadata[EXEC_MIME_TYPE][\"id\"];\n",
       "    }\n",
       "    if (output.metadata[EXEC_MIME_TYPE][\"server_id\"] !== undefined) {\n",
       "      const bk_div = document.createElement(\"div\");\n",
       "      bk_div.innerHTML = output.data[HTML_MIME_TYPE];\n",
       "      const script_attrs = bk_div.children[0].attributes;\n",
       "      for (let i = 0; i < script_attrs.length; i++) {\n",
       "        toinsert[toinsert.length - 1].firstChild.setAttribute(script_attrs[i].name, script_attrs[i].value);\n",
       "        toinsert[toinsert.length - 1].firstChild.textContent = bk_div.children[0].textContent\n",
       "      }\n",
       "      // store reference to server id on output_area\n",
       "      output_area._bokeh_server_id = output.metadata[EXEC_MIME_TYPE][\"server_id\"];\n",
       "    }\n",
       "  }\n",
       "\n",
       "  function register_renderer(events, OutputArea) {\n",
       "\n",
       "    function append_mime(data, metadata, element) {\n",
       "      // create a DOM node to render to\n",
       "      const toinsert = this.create_output_subarea(\n",
       "        metadata,\n",
       "        CLASS_NAME,\n",
       "        EXEC_MIME_TYPE\n",
       "      );\n",
       "      this.keyboard_manager.register_events(toinsert);\n",
       "      // Render to node\n",
       "      const props = {data: data, metadata: metadata[EXEC_MIME_TYPE]};\n",
       "      render(props, toinsert[toinsert.length - 1]);\n",
       "      element.append(toinsert);\n",
       "      return toinsert\n",
       "    }\n",
       "\n",
       "    /* Handle when an output is cleared or removed */\n",
       "    events.on('clear_output.CodeCell', handleClearOutput);\n",
       "    events.on('delete.Cell', handleClearOutput);\n",
       "\n",
       "    /* Handle when a new output is added */\n",
       "    events.on('output_added.OutputArea', handleAddOutput);\n",
       "\n",
       "    /**\n",
       "     * Register the mime type and append_mime function with output_area\n",
       "     */\n",
       "    OutputArea.prototype.register_mime_type(EXEC_MIME_TYPE, append_mime, {\n",
       "      /* Is output safe? */\n",
       "      safe: true,\n",
       "      /* Index of renderer in `output_area.display_order` */\n",
       "      index: 0\n",
       "    });\n",
       "  }\n",
       "\n",
       "  // register the mime type if in Jupyter Notebook environment and previously unregistered\n",
       "  if (root.Jupyter !== undefined) {\n",
       "    const events = require('base/js/events');\n",
       "    const OutputArea = require('notebook/js/outputarea').OutputArea;\n",
       "\n",
       "    if (OutputArea.prototype.mime_types().indexOf(EXEC_MIME_TYPE) == -1) {\n",
       "      register_renderer(events, OutputArea);\n",
       "    }\n",
       "  }\n",
       "\n",
       "  \n",
       "  if (typeof (root._bokeh_timeout) === \"undefined\" || force === true) {\n",
       "    root._bokeh_timeout = Date.now() + 5000;\n",
       "    root._bokeh_failed_load = false;\n",
       "  }\n",
       "\n",
       "  const NB_LOAD_WARNING = {'data': {'text/html':\n",
       "     \"<div style='background-color: #fdd'>\\n\"+\n",
       "     \"<p>\\n\"+\n",
       "     \"BokehJS does not appear to have successfully loaded. If loading BokehJS from CDN, this \\n\"+\n",
       "     \"may be due to a slow or bad network connection. Possible fixes:\\n\"+\n",
       "     \"</p>\\n\"+\n",
       "     \"<ul>\\n\"+\n",
       "     \"<li>re-rerun `output_notebook()` to attempt to load from CDN again, or</li>\\n\"+\n",
       "     \"<li>use INLINE resources instead, as so:</li>\\n\"+\n",
       "     \"</ul>\\n\"+\n",
       "     \"<code>\\n\"+\n",
       "     \"from bokeh.resources import INLINE\\n\"+\n",
       "     \"output_notebook(resources=INLINE)\\n\"+\n",
       "     \"</code>\\n\"+\n",
       "     \"</div>\"}};\n",
       "\n",
       "  function display_loaded() {\n",
       "    const el = document.getElementById(\"1003\");\n",
       "    if (el != null) {\n",
       "      el.textContent = \"BokehJS is loading...\";\n",
       "    }\n",
       "    if (root.Bokeh !== undefined) {\n",
       "      if (el != null) {\n",
       "        el.textContent = \"BokehJS \" + root.Bokeh.version + \" successfully loaded.\";\n",
       "      }\n",
       "    } else if (Date.now() < root._bokeh_timeout) {\n",
       "      setTimeout(display_loaded, 100)\n",
       "    }\n",
       "  }\n",
       "\n",
       "\n",
       "  function run_callbacks() {\n",
       "    try {\n",
       "      root._bokeh_onload_callbacks.forEach(function(callback) {\n",
       "        if (callback != null)\n",
       "          callback();\n",
       "      });\n",
       "    } finally {\n",
       "      delete root._bokeh_onload_callbacks\n",
       "    }\n",
       "    console.debug(\"Bokeh: all callbacks have finished\");\n",
       "  }\n",
       "\n",
       "  function load_libs(css_urls, js_urls, callback) {\n",
       "    if (css_urls == null) css_urls = [];\n",
       "    if (js_urls == null) js_urls = [];\n",
       "\n",
       "    root._bokeh_onload_callbacks.push(callback);\n",
       "    if (root._bokeh_is_loading > 0) {\n",
       "      console.debug(\"Bokeh: BokehJS is being loaded, scheduling callback at\", now());\n",
       "      return null;\n",
       "    }\n",
       "    if (js_urls == null || js_urls.length === 0) {\n",
       "      run_callbacks();\n",
       "      return null;\n",
       "    }\n",
       "    console.debug(\"Bokeh: BokehJS not loaded, scheduling load and callback at\", now());\n",
       "    root._bokeh_is_loading = css_urls.length + js_urls.length;\n",
       "\n",
       "    function on_load() {\n",
       "      root._bokeh_is_loading--;\n",
       "      if (root._bokeh_is_loading === 0) {\n",
       "        console.debug(\"Bokeh: all BokehJS libraries/stylesheets loaded\");\n",
       "        run_callbacks()\n",
       "      }\n",
       "    }\n",
       "\n",
       "    function on_error(url) {\n",
       "      console.error(\"failed to load \" + url);\n",
       "    }\n",
       "\n",
       "    for (let i = 0; i < css_urls.length; i++) {\n",
       "      const url = css_urls[i];\n",
       "      const element = document.createElement(\"link\");\n",
       "      element.onload = on_load;\n",
       "      element.onerror = on_error.bind(null, url);\n",
       "      element.rel = \"stylesheet\";\n",
       "      element.type = \"text/css\";\n",
       "      element.href = url;\n",
       "      console.debug(\"Bokeh: injecting link tag for BokehJS stylesheet: \", url);\n",
       "      document.body.appendChild(element);\n",
       "    }\n",
       "\n",
       "    for (let i = 0; i < js_urls.length; i++) {\n",
       "      const url = js_urls[i];\n",
       "      const element = document.createElement('script');\n",
       "      element.onload = on_load;\n",
       "      element.onerror = on_error.bind(null, url);\n",
       "      element.async = false;\n",
       "      element.src = url;\n",
       "      console.debug(\"Bokeh: injecting script tag for BokehJS library: \", url);\n",
       "      document.head.appendChild(element);\n",
       "    }\n",
       "  };\n",
       "\n",
       "  function inject_raw_css(css) {\n",
       "    const element = document.createElement(\"style\");\n",
       "    element.appendChild(document.createTextNode(css));\n",
       "    document.body.appendChild(element);\n",
       "  }\n",
       "\n",
       "  \n",
       "  const js_urls = [\"https://cdn.bokeh.org/bokeh/release/bokeh-2.4.2.min.js\", \"https://cdn.bokeh.org/bokeh/release/bokeh-gl-2.4.2.min.js\", \"https://cdn.bokeh.org/bokeh/release/bokeh-widgets-2.4.2.min.js\", \"https://cdn.bokeh.org/bokeh/release/bokeh-tables-2.4.2.min.js\", \"https://cdn.bokeh.org/bokeh/release/bokeh-mathjax-2.4.2.min.js\"];\n",
       "  const css_urls = [];\n",
       "  \n",
       "\n",
       "  const inline_js = [\n",
       "    function(Bokeh) {\n",
       "      Bokeh.set_log_level(\"info\");\n",
       "    },\n",
       "    function(Bokeh) {\n",
       "    \n",
       "    \n",
       "    }\n",
       "  ];\n",
       "\n",
       "  function run_inline_js() {\n",
       "    \n",
       "    if (root.Bokeh !== undefined || force === true) {\n",
       "      \n",
       "    for (let i = 0; i < inline_js.length; i++) {\n",
       "      inline_js[i].call(root, root.Bokeh);\n",
       "    }\n",
       "    if (force === true) {\n",
       "        display_loaded();\n",
       "      }} else if (Date.now() < root._bokeh_timeout) {\n",
       "      setTimeout(run_inline_js, 100);\n",
       "    } else if (!root._bokeh_failed_load) {\n",
       "      console.log(\"Bokeh: BokehJS failed to load within specified timeout.\");\n",
       "      root._bokeh_failed_load = true;\n",
       "    } else if (force !== true) {\n",
       "      const cell = $(document.getElementById(\"1003\")).parents('.cell').data().cell;\n",
       "      cell.output_area.append_execute_result(NB_LOAD_WARNING)\n",
       "    }\n",
       "\n",
       "  }\n",
       "\n",
       "  if (root._bokeh_is_loading === 0) {\n",
       "    console.debug(\"Bokeh: BokehJS loaded, going straight to plotting\");\n",
       "    run_inline_js();\n",
       "  } else {\n",
       "    load_libs(css_urls, js_urls, function() {\n",
       "      console.debug(\"Bokeh: BokehJS plotting callback run at\", now());\n",
       "      run_inline_js();\n",
       "    });\n",
       "  }\n",
       "}(window));"
      ],
      "application/vnd.bokehjs_load.v0+json": "\n(function(root) {\n  function now() {\n    return new Date();\n  }\n\n  const force = true;\n\n  if (typeof root._bokeh_onload_callbacks === \"undefined\" || force === true) {\n    root._bokeh_onload_callbacks = [];\n    root._bokeh_is_loading = undefined;\n  }\n\n  \n\n  \n  if (typeof (root._bokeh_timeout) === \"undefined\" || force === true) {\n    root._bokeh_timeout = Date.now() + 5000;\n    root._bokeh_failed_load = false;\n  }\n\n  const NB_LOAD_WARNING = {'data': {'text/html':\n     \"<div style='background-color: #fdd'>\\n\"+\n     \"<p>\\n\"+\n     \"BokehJS does not appear to have successfully loaded. If loading BokehJS from CDN, this \\n\"+\n     \"may be due to a slow or bad network connection. Possible fixes:\\n\"+\n     \"</p>\\n\"+\n     \"<ul>\\n\"+\n     \"<li>re-rerun `output_notebook()` to attempt to load from CDN again, or</li>\\n\"+\n     \"<li>use INLINE resources instead, as so:</li>\\n\"+\n     \"</ul>\\n\"+\n     \"<code>\\n\"+\n     \"from bokeh.resources import INLINE\\n\"+\n     \"output_notebook(resources=INLINE)\\n\"+\n     \"</code>\\n\"+\n     \"</div>\"}};\n\n  function display_loaded() {\n    const el = document.getElementById(\"1003\");\n    if (el != null) {\n      el.textContent = \"BokehJS is loading...\";\n    }\n    if (root.Bokeh !== undefined) {\n      if (el != null) {\n        el.textContent = \"BokehJS \" + root.Bokeh.version + \" successfully loaded.\";\n      }\n    } else if (Date.now() < root._bokeh_timeout) {\n      setTimeout(display_loaded, 100)\n    }\n  }\n\n\n  function run_callbacks() {\n    try {\n      root._bokeh_onload_callbacks.forEach(function(callback) {\n        if (callback != null)\n          callback();\n      });\n    } finally {\n      delete root._bokeh_onload_callbacks\n    }\n    console.debug(\"Bokeh: all callbacks have finished\");\n  }\n\n  function load_libs(css_urls, js_urls, callback) {\n    if (css_urls == null) css_urls = [];\n    if (js_urls == null) js_urls = [];\n\n    root._bokeh_onload_callbacks.push(callback);\n    if (root._bokeh_is_loading > 0) {\n      console.debug(\"Bokeh: BokehJS is being loaded, scheduling callback at\", now());\n      return null;\n    }\n    if (js_urls == null || js_urls.length === 0) {\n      run_callbacks();\n      return null;\n    }\n    console.debug(\"Bokeh: BokehJS not loaded, scheduling load and callback at\", now());\n    root._bokeh_is_loading = css_urls.length + js_urls.length;\n\n    function on_load() {\n      root._bokeh_is_loading--;\n      if (root._bokeh_is_loading === 0) {\n        console.debug(\"Bokeh: all BokehJS libraries/stylesheets loaded\");\n        run_callbacks()\n      }\n    }\n\n    function on_error(url) {\n      console.error(\"failed to load \" + url);\n    }\n\n    for (let i = 0; i < css_urls.length; i++) {\n      const url = css_urls[i];\n      const element = document.createElement(\"link\");\n      element.onload = on_load;\n      element.onerror = on_error.bind(null, url);\n      element.rel = \"stylesheet\";\n      element.type = \"text/css\";\n      element.href = url;\n      console.debug(\"Bokeh: injecting link tag for BokehJS stylesheet: \", url);\n      document.body.appendChild(element);\n    }\n\n    for (let i = 0; i < js_urls.length; i++) {\n      const url = js_urls[i];\n      const element = document.createElement('script');\n      element.onload = on_load;\n      element.onerror = on_error.bind(null, url);\n      element.async = false;\n      element.src = url;\n      console.debug(\"Bokeh: injecting script tag for BokehJS library: \", url);\n      document.head.appendChild(element);\n    }\n  };\n\n  function inject_raw_css(css) {\n    const element = document.createElement(\"style\");\n    element.appendChild(document.createTextNode(css));\n    document.body.appendChild(element);\n  }\n\n  \n  const js_urls = [\"https://cdn.bokeh.org/bokeh/release/bokeh-2.4.2.min.js\", \"https://cdn.bokeh.org/bokeh/release/bokeh-gl-2.4.2.min.js\", \"https://cdn.bokeh.org/bokeh/release/bokeh-widgets-2.4.2.min.js\", \"https://cdn.bokeh.org/bokeh/release/bokeh-tables-2.4.2.min.js\", \"https://cdn.bokeh.org/bokeh/release/bokeh-mathjax-2.4.2.min.js\"];\n  const css_urls = [];\n  \n\n  const inline_js = [\n    function(Bokeh) {\n      Bokeh.set_log_level(\"info\");\n    },\n    function(Bokeh) {\n    \n    \n    }\n  ];\n\n  function run_inline_js() {\n    \n    if (root.Bokeh !== undefined || force === true) {\n      \n    for (let i = 0; i < inline_js.length; i++) {\n      inline_js[i].call(root, root.Bokeh);\n    }\n    if (force === true) {\n        display_loaded();\n      }} else if (Date.now() < root._bokeh_timeout) {\n      setTimeout(run_inline_js, 100);\n    } else if (!root._bokeh_failed_load) {\n      console.log(\"Bokeh: BokehJS failed to load within specified timeout.\");\n      root._bokeh_failed_load = true;\n    } else if (force !== true) {\n      const cell = $(document.getElementById(\"1003\")).parents('.cell').data().cell;\n      cell.output_area.append_execute_result(NB_LOAD_WARNING)\n    }\n\n  }\n\n  if (root._bokeh_is_loading === 0) {\n    console.debug(\"Bokeh: BokehJS loaded, going straight to plotting\");\n    run_inline_js();\n  } else {\n    load_libs(css_urls, js_urls, function() {\n      console.debug(\"Bokeh: BokehJS plotting callback run at\", now());\n      run_inline_js();\n    });\n  }\n}(window));"
     },
     "metadata": {},
     "output_type": "display_data"
    },
    {
     "name": "stdout",
     "output_type": "stream",
     "text": [
      "The autoreload extension is already loaded. To reload it, use:\n",
      "  %reload_ext autoreload\n",
      "The rpy2.ipython extension is already loaded. To reload it, use:\n",
      "  %reload_ext rpy2.ipython\n"
     ]
    }
   ],
   "source": [
    "from bokeh.plotting import *\n",
    "from bokeh.models import HoverTool\n",
    "from bokeh.io import output_notebook\n",
    "\n",
    "import matplotlib.pyplot as plt\n",
    "\n",
    "from sklearn.neighbors import KNeighborsClassifier\n",
    "from sklearn.manifold import MDS, TSNE\n",
    "from sklearn.decomposition import PCA\n",
    "from sklearn.preprocessing import scale\n",
    "#from umap import UMAP\n",
    "\n",
    "output_notebook()\n",
    "%load_ext autoreload\n",
    "%matplotlib inline\n",
    "%autoreload 2\n",
    "%load_ext rpy2.ipython"
   ]
  },
  {
   "cell_type": "code",
   "execution_count": 4,
   "id": "f5b490f5",
   "metadata": {},
   "outputs": [],
   "source": [
    "def createDir(directory):\n",
    "    if not os.path.exists(directory):\n",
    "        print(\"Creating output directory: \" + directory)\n",
    "        os.makedirs(directory)"
   ]
  },
  {
   "cell_type": "markdown",
   "id": "b30eac97",
   "metadata": {},
   "source": [
    "# MV411 WT and MYB-dTAG cells co-cultured"
   ]
  },
  {
   "cell_type": "markdown",
   "id": "c13340d3",
   "metadata": {},
   "source": [
    "SLAMseq with WT and MYB-dTAG MV411 cells co-cultured\n",
    "<br>12h with drug + 1h 4sU with 0.5$\\mu$M VHL (with ERCC spike-in control)\n",
    "<br>__Processed without alt loci__"
   ]
  },
  {
   "cell_type": "code",
   "execution_count": 5,
   "id": "1a10249f",
   "metadata": {},
   "outputs": [],
   "source": [
    "project = \"MYB_degraded_coculture_v1\""
   ]
  },
  {
   "cell_type": "code",
   "execution_count": 7,
   "id": "f556720c",
   "metadata": {},
   "outputs": [],
   "source": [
    "location = \"../data/slamseq_\"+project+\"/\" # new data location"
   ]
  },
  {
   "cell_type": "markdown",
   "id": "250dd450",
   "metadata": {
    "heading_collapsed": true
   },
   "source": [
    "## download the data"
   ]
  },
  {
   "cell_type": "code",
   "execution_count": 6,
   "id": "f09ae827",
   "metadata": {
    "hidden": true
   },
   "outputs": [],
   "source": [
    "location = \"../data/slamseq_\"+project+\"/\" # new data location\n",
    "loc = \"220526_MP10028_fastq\" # transfer AML folder"
   ]
  },
  {
   "cell_type": "code",
   "execution_count": 17,
   "id": "472ffc48",
   "metadata": {
    "collapsed": true,
    "hidden": true
   },
   "outputs": [
    {
     "name": "stdout",
     "output_type": "stream",
     "text": [
      "mkdir: cannot create directory ‘../../data/slamseq_MYB_degron_coculture_v1/’: File exists\n",
      "mkdir: cannot create directory ‘../results/slamseq_MYB_degron_coculture_v1’: File exists\n",
      "mkdir: cannot create directory ‘../data/slamseq_MYB_degron_coculture_v1/’: File exists\n",
      "mkdir: cannot create directory ‘../../data/slamseq_MYB_degron_coculture_v1//fastqs/’: File exists\n"
     ]
    }
   ],
   "source": [
    "! mkdir ../$location\n",
    "! mkdir ../results/slamseq_$project\n",
    "! mkdir $location && mkdir $location/qc # make data dir in AMLproject\n",
    "! mkdir ../$location/fastqs/ # make dir in /home/monika/data/project/fastqs"
   ]
  },
  {
   "cell_type": "code",
   "execution_count": 19,
   "id": "6156ef3e",
   "metadata": {
    "collapsed": true,
    "hidden": true
   },
   "outputs": [
    {
     "name": "stdout",
     "output_type": "stream",
     "text": [
      "gs://transfer-amlproject/220526_MP10028_fastq/20220526_10_MP10028_S34_R1_001.fastq.gz\r\n",
      "gs://transfer-amlproject/220526_MP10028_fastq/20220526_10_MP10028_S34_R2_001.fastq.gz\r\n",
      "gs://transfer-amlproject/220526_MP10028_fastq/20220526_11_MP10028_S35_R1_001.fastq.gz\r\n",
      "gs://transfer-amlproject/220526_MP10028_fastq/20220526_11_MP10028_S35_R2_001.fastq.gz\r\n",
      "gs://transfer-amlproject/220526_MP10028_fastq/20220526_12_MP10028_S36_R1_001.fastq.gz\r\n",
      "gs://transfer-amlproject/220526_MP10028_fastq/20220526_12_MP10028_S36_R2_001.fastq.gz\r\n",
      "gs://transfer-amlproject/220526_MP10028_fastq/20220526_13_MP10028_S37_R1_001.fastq.gz\r\n",
      "gs://transfer-amlproject/220526_MP10028_fastq/20220526_13_MP10028_S37_R2_001.fastq.gz\r\n",
      "gs://transfer-amlproject/220526_MP10028_fastq/20220526_15_MP10028_S38_R1_001.fastq.gz\r\n",
      "gs://transfer-amlproject/220526_MP10028_fastq/20220526_15_MP10028_S38_R2_001.fastq.gz\r\n",
      "gs://transfer-amlproject/220526_MP10028_fastq/20220526_16_MP10028_S39_R1_001.fastq.gz\r\n",
      "gs://transfer-amlproject/220526_MP10028_fastq/20220526_16_MP10028_S39_R2_001.fastq.gz\r\n",
      "gs://transfer-amlproject/220526_MP10028_fastq/20220526_17_MP10028_S40_R1_001.fastq.gz\r\n",
      "gs://transfer-amlproject/220526_MP10028_fastq/20220526_17_MP10028_S40_R2_001.fastq.gz\r\n",
      "gs://transfer-amlproject/220526_MP10028_fastq/20220526_18_MP10028_S41_R1_001.fastq.gz\r\n",
      "gs://transfer-amlproject/220526_MP10028_fastq/20220526_18_MP10028_S41_R2_001.fastq.gz\r\n",
      "gs://transfer-amlproject/220526_MP10028_fastq/20220526_19_MP10028_S42_R1_001.fastq.gz\r\n",
      "gs://transfer-amlproject/220526_MP10028_fastq/20220526_19_MP10028_S42_R2_001.fastq.gz\r\n",
      "gs://transfer-amlproject/220526_MP10028_fastq/20220526_1_MP10028_S25_R1_001.fastq.gz\r\n",
      "gs://transfer-amlproject/220526_MP10028_fastq/20220526_1_MP10028_S25_R2_001.fastq.gz\r\n",
      "gs://transfer-amlproject/220526_MP10028_fastq/20220526_20_MP10028_S43_R1_001.fastq.gz\r\n",
      "gs://transfer-amlproject/220526_MP10028_fastq/20220526_20_MP10028_S43_R2_001.fastq.gz\r\n",
      "gs://transfer-amlproject/220526_MP10028_fastq/20220526_2_MP10028_S26_R1_001.fastq.gz\r\n",
      "gs://transfer-amlproject/220526_MP10028_fastq/20220526_2_MP10028_S26_R2_001.fastq.gz\r\n",
      "gs://transfer-amlproject/220526_MP10028_fastq/20220526_3_MP10028_S27_R1_001.fastq.gz\r\n",
      "gs://transfer-amlproject/220526_MP10028_fastq/20220526_3_MP10028_S27_R2_001.fastq.gz\r\n",
      "gs://transfer-amlproject/220526_MP10028_fastq/20220526_4_MP10028_S28_R1_001.fastq.gz\r\n",
      "gs://transfer-amlproject/220526_MP10028_fastq/20220526_4_MP10028_S28_R2_001.fastq.gz\r\n",
      "gs://transfer-amlproject/220526_MP10028_fastq/20220526_5_MP10028_S29_R1_001.fastq.gz\r\n",
      "gs://transfer-amlproject/220526_MP10028_fastq/20220526_5_MP10028_S29_R2_001.fastq.gz\r\n",
      "gs://transfer-amlproject/220526_MP10028_fastq/20220526_6_MP10028_S30_R1_001.fastq.gz\r\n",
      "gs://transfer-amlproject/220526_MP10028_fastq/20220526_6_MP10028_S30_R2_001.fastq.gz\r\n",
      "gs://transfer-amlproject/220526_MP10028_fastq/20220526_7_MP10028_S31_R1_001.fastq.gz\r\n",
      "gs://transfer-amlproject/220526_MP10028_fastq/20220526_7_MP10028_S31_R2_001.fastq.gz\r\n",
      "gs://transfer-amlproject/220526_MP10028_fastq/20220526_8_MP10028_S32_R1_001.fastq.gz\r\n",
      "gs://transfer-amlproject/220526_MP10028_fastq/20220526_8_MP10028_S32_R2_001.fastq.gz\r\n",
      "gs://transfer-amlproject/220526_MP10028_fastq/20220526_9_MP10028_S33_R1_001.fastq.gz\r\n",
      "gs://transfer-amlproject/220526_MP10028_fastq/20220526_9_MP10028_S33_R2_001.fastq.gz\r\n"
     ]
    }
   ],
   "source": [
    "! gsutil ls gs://transfer-amlproject/$loc/*.fastq.gz"
   ]
  },
  {
   "cell_type": "code",
   "execution_count": 21,
   "id": "78b05228",
   "metadata": {
    "collapsed": true,
    "hidden": true
   },
   "outputs": [
    {
     "name": "stdout",
     "output_type": "stream",
     "text": [
      "Copying gs://transfer-amlproject/220526_MP10028_fastq/multiqc_report.html...\n",
      "/ [1/1 files][  1.5 MiB/  1.5 MiB] 100% Done                                    \n",
      "Operation completed over 1 objects/1.5 MiB.                                      \n",
      "Copying gs://transfer-amlproject/220526_MP10028_fastq/Reports/20220526_10_MP10028_S34_R1_001_fastqc.html...\n",
      "Copying gs://transfer-amlproject/220526_MP10028_fastq/Reports/20220526_10_MP10028_S34_R1_001_fastqc.zip...\n",
      "Copying gs://transfer-amlproject/220526_MP10028_fastq/Reports/20220526_10_MP10028_S34_R2_001_fastqc.html...\n",
      "Copying gs://transfer-amlproject/220526_MP10028_fastq/Reports/20220526_10_MP10028_S34_R2_001_fastqc.zip...\n",
      "Copying gs://transfer-amlproject/220526_MP10028_fastq/Reports/20220526_11_MP10028_S35_R1_001_fastqc.html...\n",
      "Copying gs://transfer-amlproject/220526_MP10028_fastq/Reports/20220526_11_MP10028_S35_R1_001_fastqc.zip...\n",
      "Copying gs://transfer-amlproject/220526_MP10028_fastq/Reports/20220526_11_MP10028_S35_R2_001_fastqc.zip...\n",
      "Copying gs://transfer-amlproject/220526_MP10028_fastq/Reports/20220526_11_MP10028_S35_R2_001_fastqc.html...\n",
      "Copying gs://transfer-amlproject/220526_MP10028_fastq/Reports/20220526_12_MP10028_S36_R1_001_fastqc.html...\n",
      "Copying gs://transfer-amlproject/220526_MP10028_fastq/Reports/20220526_12_MP10028_S36_R2_001_fastqc.html...\n",
      "Copying gs://transfer-amlproject/220526_MP10028_fastq/Reports/20220526_12_MP10028_S36_R2_001_fastqc.zip...\n",
      "Copying gs://transfer-amlproject/220526_MP10028_fastq/Reports/20220526_13_MP10028_S37_R1_001_fastqc.html...\n",
      "Copying gs://transfer-amlproject/220526_MP10028_fastq/Reports/20220526_13_MP10028_S37_R1_001_fastqc.zip...\n",
      "Copying gs://transfer-amlproject/220526_MP10028_fastq/Reports/20220526_12_MP10028_S36_R1_001_fastqc.zip...\n",
      "Copying gs://transfer-amlproject/220526_MP10028_fastq/Reports/20220526_13_MP10028_S37_R2_001_fastqc.zip...\n",
      "Copying gs://transfer-amlproject/220526_MP10028_fastq/Reports/20220526_13_MP10028_S37_R2_001_fastqc.html...\n",
      "Copying gs://transfer-amlproject/220526_MP10028_fastq/Reports/20220526_15_MP10028_S38_R1_001_fastqc.html...\n",
      "Copying gs://transfer-amlproject/220526_MP10028_fastq/Reports/20220526_15_MP10028_S38_R1_001_fastqc.zip...\n",
      "Copying gs://transfer-amlproject/220526_MP10028_fastq/Reports/20220526_15_MP10028_S38_R2_001_fastqc.html...\n",
      "Copying gs://transfer-amlproject/220526_MP10028_fastq/Reports/20220526_16_MP10028_S39_R1_001_fastqc.html...\n",
      "Copying gs://transfer-amlproject/220526_MP10028_fastq/Reports/20220526_15_MP10028_S38_R2_001_fastqc.zip...\n",
      "Copying gs://transfer-amlproject/220526_MP10028_fastq/Reports/20220526_16_MP10028_S39_R1_001_fastqc.zip...\n",
      "Copying gs://transfer-amlproject/220526_MP10028_fastq/Reports/20220526_16_MP10028_S39_R2_001_fastqc.html...\n",
      "Copying gs://transfer-amlproject/220526_MP10028_fastq/Reports/20220526_16_MP10028_S39_R2_001_fastqc.zip...\n",
      "Copying gs://transfer-amlproject/220526_MP10028_fastq/Reports/20220526_17_MP10028_S40_R1_001_fastqc.html...\n",
      "Copying gs://transfer-amlproject/220526_MP10028_fastq/Reports/20220526_19_MP10028_S42_R2_001_fastqc.zip...\n",
      "Copying gs://transfer-amlproject/220526_MP10028_fastq/Reports/20220526_17_MP10028_S40_R1_001_fastqc.zip...\n",
      "Copying gs://transfer-amlproject/220526_MP10028_fastq/Reports/20220526_17_MP10028_S40_R2_001_fastqc.zip...\n",
      "Copying gs://transfer-amlproject/220526_MP10028_fastq/Reports/20220526_18_MP10028_S41_R2_001_fastqc.html...\n",
      "Copying gs://transfer-amlproject/220526_MP10028_fastq/Reports/20220526_18_MP10028_S41_R1_001_fastqc.zip...\n",
      "Copying gs://transfer-amlproject/220526_MP10028_fastq/Reports/20220526_18_MP10028_S41_R1_001_fastqc.html...\n",
      "Copying gs://transfer-amlproject/220526_MP10028_fastq/Reports/20220526_18_MP10028_S41_R2_001_fastqc.zip...\n",
      "Copying gs://transfer-amlproject/220526_MP10028_fastq/Reports/20220526_17_MP10028_S40_R2_001_fastqc.html...\n",
      "Copying gs://transfer-amlproject/220526_MP10028_fastq/Reports/20220526_19_MP10028_S42_R1_001_fastqc.html...\n",
      "Copying gs://transfer-amlproject/220526_MP10028_fastq/Reports/20220526_19_MP10028_S42_R1_001_fastqc.zip...\n",
      "Copying gs://transfer-amlproject/220526_MP10028_fastq/Reports/20220526_1_MP10028_S25_R1_001_fastqc.html...\n",
      "Copying gs://transfer-amlproject/220526_MP10028_fastq/Reports/20220526_19_MP10028_S42_R2_001_fastqc.html...\n",
      "Copying gs://transfer-amlproject/220526_MP10028_fastq/Reports/20220526_1_MP10028_S25_R1_001_fastqc.zip...\n",
      "Copying gs://transfer-amlproject/220526_MP10028_fastq/Reports/20220526_1_MP10028_S25_R2_001_fastqc.html...\n",
      "Copying gs://transfer-amlproject/220526_MP10028_fastq/Reports/20220526_1_MP10028_S25_R2_001_fastqc.zip...\n",
      "Copying gs://transfer-amlproject/220526_MP10028_fastq/Reports/20220526_20_MP10028_S43_R1_001_fastqc.html...\n",
      "Copying gs://transfer-amlproject/220526_MP10028_fastq/Reports/20220526_20_MP10028_S43_R1_001_fastqc.zip...\n",
      "Copying gs://transfer-amlproject/220526_MP10028_fastq/Reports/20220526_20_MP10028_S43_R2_001_fastqc.html...\n",
      "Copying gs://transfer-amlproject/220526_MP10028_fastq/Reports/20220526_20_MP10028_S43_R2_001_fastqc.zip...\n",
      "Copying gs://transfer-amlproject/220526_MP10028_fastq/Reports/20220526_2_MP10028_S26_R1_001_fastqc.html...\n",
      "Copying gs://transfer-amlproject/220526_MP10028_fastq/Reports/20220526_2_MP10028_S26_R1_001_fastqc.zip...\n",
      "Copying gs://transfer-amlproject/220526_MP10028_fastq/Reports/20220526_2_MP10028_S26_R2_001_fastqc.html...\n",
      "Copying gs://transfer-amlproject/220526_MP10028_fastq/Reports/20220526_2_MP10028_S26_R2_001_fastqc.zip...\n",
      "Copying gs://transfer-amlproject/220526_MP10028_fastq/Reports/20220526_3_MP10028_S27_R1_001_fastqc.html...\n",
      "Copying gs://transfer-amlproject/220526_MP10028_fastq/Reports/20220526_3_MP10028_S27_R1_001_fastqc.zip...\n",
      "Copying gs://transfer-amlproject/220526_MP10028_fastq/Reports/20220526_3_MP10028_S27_R2_001_fastqc.html...\n",
      "Copying gs://transfer-amlproject/220526_MP10028_fastq/Reports/20220526_3_MP10028_S27_R2_001_fastqc.zip...\n",
      "Copying gs://transfer-amlproject/220526_MP10028_fastq/Reports/20220526_4_MP10028_S28_R1_001_fastqc.html...\n",
      "Copying gs://transfer-amlproject/220526_MP10028_fastq/Reports/20220526_4_MP10028_S28_R1_001_fastqc.zip...\n",
      "Copying gs://transfer-amlproject/220526_MP10028_fastq/Reports/20220526_4_MP10028_S28_R2_001_fastqc.html...\n",
      "Copying gs://transfer-amlproject/220526_MP10028_fastq/Reports/20220526_4_MP10028_S28_R2_001_fastqc.zip...\n",
      "Copying gs://transfer-amlproject/220526_MP10028_fastq/Reports/20220526_5_MP10028_S29_R1_001_fastqc.html...\n",
      "Copying gs://transfer-amlproject/220526_MP10028_fastq/Reports/20220526_5_MP10028_S29_R1_001_fastqc.zip...\n",
      "Copying gs://transfer-amlproject/220526_MP10028_fastq/Reports/20220526_5_MP10028_S29_R2_001_fastqc.html...\n",
      "Copying gs://transfer-amlproject/220526_MP10028_fastq/Reports/20220526_6_MP10028_S30_R1_001_fastqc.html...\n",
      "Copying gs://transfer-amlproject/220526_MP10028_fastq/Reports/20220526_5_MP10028_S29_R2_001_fastqc.zip...\n",
      "Copying gs://transfer-amlproject/220526_MP10028_fastq/Reports/20220526_6_MP10028_S30_R1_001_fastqc.zip...\n",
      "Copying gs://transfer-amlproject/220526_MP10028_fastq/Reports/20220526_7_MP10028_S31_R1_001_fastqc.html...\n",
      "Copying gs://transfer-amlproject/220526_MP10028_fastq/Reports/20220526_6_MP10028_S30_R2_001_fastqc.html...\n",
      "Copying gs://transfer-amlproject/220526_MP10028_fastq/Reports/20220526_6_MP10028_S30_R2_001_fastqc.zip...\n",
      "Copying gs://transfer-amlproject/220526_MP10028_fastq/Reports/20220526_7_MP10028_S31_R1_001_fastqc.zip...\n",
      "Copying gs://transfer-amlproject/220526_MP10028_fastq/Reports/20220526_7_MP10028_S31_R2_001_fastqc.zip...\n",
      "Copying gs://transfer-amlproject/220526_MP10028_fastq/Reports/20220526_8_MP10028_S32_R1_001_fastqc.html...\n",
      "Copying gs://transfer-amlproject/220526_MP10028_fastq/Reports/20220526_7_MP10028_S31_R2_001_fastqc.html...\n",
      "Copying gs://transfer-amlproject/220526_MP10028_fastq/Reports/20220526_8_MP10028_S32_R1_001_fastqc.zip...\n",
      "Copying gs://transfer-amlproject/220526_MP10028_fastq/Reports/20220526_8_MP10028_S32_R2_001_fastqc.html...\n",
      "Copying gs://transfer-amlproject/220526_MP10028_fastq/Reports/20220526_8_MP10028_S32_R2_001_fastqc.zip...\n",
      "Copying gs://transfer-amlproject/220526_MP10028_fastq/Reports/20220526_9_MP10028_S33_R2_001_fastqc.html...\n",
      "Copying gs://transfer-amlproject/220526_MP10028_fastq/Reports/20220526_9_MP10028_S33_R1_001_fastqc.zip...\n",
      "Copying gs://transfer-amlproject/220526_MP10028_fastq/Reports/20220526_9_MP10028_S33_R1_001_fastqc.html...\n",
      "Copying gs://transfer-amlproject/220526_MP10028_fastq/Reports/20220526_9_MP10028_S33_R2_001_fastqc.zip...\n"
     ]
    },
    {
     "name": "stdout",
     "output_type": "stream",
     "text": [
      "- [76/76 files][ 35.3 MiB/ 35.3 MiB] 100% Done                                  \n",
      "Operation completed over 76 objects/35.3 MiB.                                    \n",
      "Copying gs://transfer-amlproject/220526_MP10028_fastq/multiqc_data/multiqc.log...\n",
      "Copying gs://transfer-amlproject/220526_MP10028_fastq/multiqc_data/multiqc_data.json...\n",
      "Copying gs://transfer-amlproject/220526_MP10028_fastq/multiqc_data/multiqc_fastqc.txt...\n",
      "Copying gs://transfer-amlproject/220526_MP10028_fastq/multiqc_data/multiqc_general_stats.txt...\n",
      "Copying gs://transfer-amlproject/220526_MP10028_fastq/multiqc_data/multiqc_qualimap_bamqc_genome_results.txt...\n",
      "Copying gs://transfer-amlproject/220526_MP10028_fastq/multiqc_data/multiqc_sources.txt...\n",
      "/ [6/6 files][  2.3 MiB/  2.3 MiB] 100% Done                                    \n",
      "Operation completed over 6 objects/2.3 MiB.                                      \n"
     ]
    }
   ],
   "source": [
    "# transfer qc files\n",
    "! gsutil -m cp gs://transfer-amlproject/$loc/multiqc_report.html $location/qc/\n",
    "! gsutil -m cp -r gs://transfer-amlproject/$loc/Reports/ $location/qc/\n",
    "! gsutil -m cp -r gs://transfer-amlproject/$loc/multiqc_data/ $location/qc/"
   ]
  },
  {
   "cell_type": "code",
   "execution_count": 22,
   "id": "ed434e34",
   "metadata": {
    "hidden": true
   },
   "outputs": [],
   "source": [
    "! cp $location/qc/multiqc_report.html ../results/slamseq_$project"
   ]
  },
  {
   "cell_type": "code",
   "execution_count": 23,
   "id": "fd9a8df6",
   "metadata": {
    "hidden": true
   },
   "outputs": [],
   "source": [
    "fastqs = ! gsutil ls gs://transfer-amlproject/$loc/*.gz"
   ]
  },
  {
   "cell_type": "markdown",
   "id": "fbbd665e",
   "metadata": {
    "hidden": true
   },
   "source": [
    "add sample names to AML sample tracker google sheet (RNA_tracker_JK)"
   ]
  },
  {
   "cell_type": "markdown",
   "id": "0840f6bd",
   "metadata": {
    "hidden": true
   },
   "source": [
    "missing file: __20220526_14_MP10028__ failed initial QC"
   ]
  },
  {
   "cell_type": "code",
   "execution_count": 26,
   "id": "5c34dd61",
   "metadata": {
    "collapsed": true,
    "hidden": true
   },
   "outputs": [
    {
     "name": "stdout",
     "output_type": "stream",
     "text": [
      "38\n",
      "20220526_1_MP10028_S25\n",
      "20220526_2_MP10028_S26\n",
      "20220526_3_MP10028_S27\n",
      "20220526_4_MP10028_S28\n",
      "20220526_5_MP10028_S29\n",
      "20220526_6_MP10028_S30\n",
      "20220526_7_MP10028_S31\n",
      "20220526_8_MP10028_S32\n",
      "20220526_9_MP10028_S33\n",
      "20220526_10_MP10028_S34\n",
      "20220526_11_MP10028_S35\n",
      "20220526_12_MP10028_S36\n",
      "20220526_13_MP10028_S37\n",
      "20220526_15_MP10028_S38\n",
      "20220526_16_MP10028_S39\n",
      "20220526_17_MP10028_S40\n",
      "20220526_18_MP10028_S41\n",
      "20220526_19_MP10028_S42\n",
      "20220526_20_MP10028_S43\n"
     ]
    }
   ],
   "source": [
    "fastqs = [fastq.split(\"/\")[-1] for fastq in os_sorted(fastqs)]\n",
    "print(len(fastqs))\n",
    "# add sample names to AML sample tracker google sheet\n",
    "for val1, val2 in h.grouped(fastqs, 2):\n",
    "    print(val1.split(\"_R\")[0])"
   ]
  },
  {
   "cell_type": "code",
   "execution_count": 30,
   "id": "bb32d9c4",
   "metadata": {
    "collapsed": true,
    "hidden": true
   },
   "outputs": [
    {
     "name": "stdout",
     "output_type": "stream",
     "text": [
      "Copying gs://transfer-amlproject/220526_MP10028_fastq/20220526_11_MP10028_S35_R1_001.fastq.gz...\n",
      "Copying gs://transfer-amlproject/220526_MP10028_fastq/20220526_8_MP10028_S32_R1_001.fastq.gz...\n",
      "Copying gs://transfer-amlproject/220526_MP10028_fastq/20220526_2_MP10028_S26_R2_001.fastq.gz...\n",
      "Copying gs://transfer-amlproject/220526_MP10028_fastq/20220526_17_MP10028_S40_R2_001.fastq.gz...\n",
      "Copying gs://transfer-amlproject/220526_MP10028_fastq/20220526_1_MP10028_S25_R1_001.fastq.gz...\n",
      "Copying gs://transfer-amlproject/220526_MP10028_fastq/20220526_6_MP10028_S30_R2_001.fastq.gz...\n",
      "Copying gs://transfer-amlproject/220526_MP10028_fastq/20220526_11_MP10028_S35_R2_001.fastq.gz...\n",
      "Copying gs://transfer-amlproject/220526_MP10028_fastq/20220526_5_MP10028_S29_R1_001.fastq.gz...\n",
      "Copying gs://transfer-amlproject/220526_MP10028_fastq/20220526_17_MP10028_S40_R1_001.fastq.gz...\n",
      "Copying gs://transfer-amlproject/220526_MP10028_fastq/20220526_15_MP10028_S38_R1_001.fastq.gz...\n",
      "Copying gs://transfer-amlproject/220526_MP10028_fastq/20220526_4_MP10028_S28_R2_001.fastq.gz...\n",
      "Copying gs://transfer-amlproject/220526_MP10028_fastq/20220526_6_MP10028_S30_R1_001.fastq.gz...\n",
      "Copying gs://transfer-amlproject/220526_MP10028_fastq/20220526_5_MP10028_S29_R2_001.fastq.gz...\n",
      "Copying gs://transfer-amlproject/220526_MP10028_fastq/20220526_10_MP10028_S34_R2_001.fastq.gz...\n",
      "Copying gs://transfer-amlproject/220526_MP10028_fastq/20220526_12_MP10028_S36_R2_001.fastq.gz...\n",
      "Copying gs://transfer-amlproject/220526_MP10028_fastq/20220526_3_MP10028_S27_R2_001.fastq.gz...\n",
      "Copying gs://transfer-amlproject/220526_MP10028_fastq/20220526_16_MP10028_S39_R1_001.fastq.gz...\n",
      "Copying gs://transfer-amlproject/220526_MP10028_fastq/20220526_20_MP10028_S43_R2_001.fastq.gz...\n",
      "Copying gs://transfer-amlproject/220526_MP10028_fastq/20220526_4_MP10028_S28_R1_001.fastq.gz...\n",
      "Copying gs://transfer-amlproject/220526_MP10028_fastq/20220526_18_MP10028_S41_R1_001.fastq.gz...\n",
      "Copying gs://transfer-amlproject/220526_MP10028_fastq/20220526_3_MP10028_S27_R1_001.fastq.gz...\n",
      "Copying gs://transfer-amlproject/220526_MP10028_fastq/20220526_13_MP10028_S37_R1_001.fastq.gz...\n",
      "Copying gs://transfer-amlproject/220526_MP10028_fastq/20220526_7_MP10028_S31_R2_001.fastq.gz...\n",
      "Copying gs://transfer-amlproject/220526_MP10028_fastq/20220526_20_MP10028_S43_R1_001.fastq.gz...\n",
      "Copying gs://transfer-amlproject/220526_MP10028_fastq/20220526_9_MP10028_S33_R1_001.fastq.gz...\n",
      "Copying gs://transfer-amlproject/220526_MP10028_fastq/20220526_16_MP10028_S39_R2_001.fastq.gz...\n",
      "Copying gs://transfer-amlproject/220526_MP10028_fastq/20220526_15_MP10028_S38_R2_001.fastq.gz...\n",
      "Copying gs://transfer-amlproject/220526_MP10028_fastq/20220526_8_MP10028_S32_R2_001.fastq.gz...\n",
      "Copying gs://transfer-amlproject/220526_MP10028_fastq/20220526_12_MP10028_S36_R1_001.fastq.gz...\n",
      "Copying gs://transfer-amlproject/220526_MP10028_fastq/20220526_10_MP10028_S34_R1_001.fastq.gz...\n",
      "Copying gs://transfer-amlproject/220526_MP10028_fastq/20220526_7_MP10028_S31_R1_001.fastq.gz...\n",
      "Copying gs://transfer-amlproject/220526_MP10028_fastq/20220526_9_MP10028_S33_R2_001.fastq.gz...\n",
      "Copying gs://transfer-amlproject/220526_MP10028_fastq/20220526_2_MP10028_S26_R1_001.fastq.gz...\n",
      "Copying gs://transfer-amlproject/220526_MP10028_fastq/20220526_13_MP10028_S37_R2_001.fastq.gz...\n",
      "Copying gs://transfer-amlproject/220526_MP10028_fastq/20220526_19_MP10028_S42_R2_001.fastq.gz...\n",
      "Copying gs://transfer-amlproject/220526_MP10028_fastq/20220526_18_MP10028_S41_R2_001.fastq.gz...\n",
      "Copying gs://transfer-amlproject/220526_MP10028_fastq/20220526_19_MP10028_S42_R1_001.fastq.gz...\n",
      "Copying gs://transfer-amlproject/220526_MP10028_fastq/20220526_1_MP10028_S25_R2_001.fastq.gz...\n",
      "| [38/38 files][185.9 GiB/185.9 GiB] 100% Done  15.7 MiB/s ETA 00:00:00         \n",
      "Operation completed over 38 objects/185.9 GiB.                                   \n"
     ]
    }
   ],
   "source": [
    "# transfer fastqs\n",
    "! gsutil -m cp gs://transfer-amlproject/$loc/*.fastq.gz ../$location/fastqs/"
   ]
  },
  {
   "cell_type": "markdown",
   "id": "77d3cc78",
   "metadata": {
    "heading_collapsed": true
   },
   "source": [
    "## rename local fastqs"
   ]
  },
  {
   "cell_type": "code",
   "execution_count": 9,
   "id": "b18af006",
   "metadata": {
    "hidden": true
   },
   "outputs": [
    {
     "name": "stdout",
     "output_type": "stream",
     "text": [
      "../../data/slamseq_MYB_degraded_coculture_v1/fastqs\n"
     ]
    },
    {
     "data": {
      "text/plain": [
       "['mr571-MV411-DMSO_coculture_12h-r1_R1_001.fastq.gz',\n",
       " 'mr571-MV411-DMSO_coculture_12h-r1_R1_001.fastq.gz_trimming_report.txt',\n",
       " 'mr571-MV411-DMSO_coculture_12h-r1_R1_001_unpaired_1.fq.gz',\n",
       " 'mr571-MV411-DMSO_coculture_12h-r1_R1_001_val_1.fq.gz',\n",
       " 'mr571-MV411-DMSO_coculture_12h-r1_R2_001.fastq.gz',\n",
       " 'mr571-MV411-DMSO_coculture_12h-r1_R2_001.fastq.gz_trimming_report.txt',\n",
       " 'mr571-MV411-DMSO_coculture_12h-r1_R2_001_unpaired_2.fq.gz',\n",
       " 'mr571-MV411-DMSO_coculture_12h-r1_R2_001_val_2.fq.gz',\n",
       " 'mr572-MV411-DMSO_coculture_12h-r2_R1_001.fastq.gz',\n",
       " 'mr572-MV411-DMSO_coculture_12h-r2_R1_001.fastq.gz_trimming_report.txt',\n",
       " 'mr572-MV411-DMSO_coculture_12h-r2_R1_001_unpaired_1.fq.gz',\n",
       " 'mr572-MV411-DMSO_coculture_12h-r2_R1_001_val_1.fq.gz',\n",
       " 'mr572-MV411-DMSO_coculture_12h-r2_R2_001.fastq.gz',\n",
       " 'mr572-MV411-DMSO_coculture_12h-r2_R2_001.fastq.gz_trimming_report.txt',\n",
       " 'mr572-MV411-DMSO_coculture_12h-r2_R2_001_unpaired_2.fq.gz',\n",
       " 'mr572-MV411-DMSO_coculture_12h-r2_R2_001_val_2.fq.gz',\n",
       " 'mr573-MV411-DMSO_coculture_12h-r3_R1_001.fastq.gz',\n",
       " 'mr573-MV411-DMSO_coculture_12h-r3_R1_001.fastq.gz_trimming_report.txt',\n",
       " 'mr573-MV411-DMSO_coculture_12h-r3_R1_001_unpaired_1.fq.gz',\n",
       " 'mr573-MV411-DMSO_coculture_12h-r3_R1_001_val_1.fq.gz',\n",
       " 'mr573-MV411-DMSO_coculture_12h-r3_R2_001.fastq.gz',\n",
       " 'mr573-MV411-DMSO_coculture_12h-r3_R2_001.fastq.gz_trimming_report.txt',\n",
       " 'mr573-MV411-DMSO_coculture_12h-r3_R2_001_unpaired_2.fq.gz',\n",
       " 'mr573-MV411-DMSO_coculture_12h-r3_R2_001_val_2.fq.gz',\n",
       " 'mr574-MV411-DMSO_coculture_12h-r4_R1_001.fastq.gz',\n",
       " 'mr574-MV411-DMSO_coculture_12h-r4_R1_001.fastq.gz_trimming_report.txt',\n",
       " 'mr574-MV411-DMSO_coculture_12h-r4_R1_001_unpaired_1.fq.gz',\n",
       " 'mr574-MV411-DMSO_coculture_12h-r4_R1_001_val_1.fq.gz',\n",
       " 'mr574-MV411-DMSO_coculture_12h-r4_R2_001.fastq.gz',\n",
       " 'mr574-MV411-DMSO_coculture_12h-r4_R2_001.fastq.gz_trimming_report.txt',\n",
       " 'mr574-MV411-DMSO_coculture_12h-r4_R2_001_unpaired_2.fq.gz',\n",
       " 'mr574-MV411-DMSO_coculture_12h-r4_R2_001_val_2.fq.gz',\n",
       " 'mr575-MV411-DMSO_coculture_12h-r5_R1_001.fastq.gz',\n",
       " 'mr575-MV411-DMSO_coculture_12h-r5_R1_001.fastq.gz_trimming_report.txt',\n",
       " 'mr575-MV411-DMSO_coculture_12h-r5_R1_001_unpaired_1.fq.gz',\n",
       " 'mr575-MV411-DMSO_coculture_12h-r5_R1_001_val_1.fq.gz',\n",
       " 'mr575-MV411-DMSO_coculture_12h-r5_R2_001.fastq.gz',\n",
       " 'mr575-MV411-DMSO_coculture_12h-r5_R2_001.fastq.gz_trimming_report.txt',\n",
       " 'mr575-MV411-DMSO_coculture_12h-r5_R2_001_unpaired_2.fq.gz',\n",
       " 'mr575-MV411-DMSO_coculture_12h-r5_R2_001_val_2.fq.gz',\n",
       " 'mr576-MV411-VHL_coculture_12h-r1_R1_001.fastq.gz',\n",
       " 'mr576-MV411-VHL_coculture_12h-r1_R1_001.fastq.gz_trimming_report.txt',\n",
       " 'mr576-MV411-VHL_coculture_12h-r1_R1_001_unpaired_1.fq.gz',\n",
       " 'mr576-MV411-VHL_coculture_12h-r1_R1_001_val_1.fq.gz',\n",
       " 'mr576-MV411-VHL_coculture_12h-r1_R2_001.fastq.gz',\n",
       " 'mr576-MV411-VHL_coculture_12h-r1_R2_001.fastq.gz_trimming_report.txt',\n",
       " 'mr576-MV411-VHL_coculture_12h-r1_R2_001_unpaired_2.fq.gz',\n",
       " 'mr576-MV411-VHL_coculture_12h-r1_R2_001_val_2.fq.gz',\n",
       " 'mr577-MV411-VHL_coculture_12h-r2_R1_001.fastq.gz',\n",
       " 'mr577-MV411-VHL_coculture_12h-r2_R1_001.fastq.gz_trimming_report.txt',\n",
       " 'mr577-MV411-VHL_coculture_12h-r2_R1_001_unpaired_1.fq.gz',\n",
       " 'mr577-MV411-VHL_coculture_12h-r2_R1_001_val_1.fq.gz',\n",
       " 'mr577-MV411-VHL_coculture_12h-r2_R2_001.fastq.gz',\n",
       " 'mr577-MV411-VHL_coculture_12h-r2_R2_001.fastq.gz_trimming_report.txt',\n",
       " 'mr577-MV411-VHL_coculture_12h-r2_R2_001_unpaired_2.fq.gz',\n",
       " 'mr577-MV411-VHL_coculture_12h-r2_R2_001_val_2.fq.gz',\n",
       " 'mr578-MV411-VHL_coculture_12h-r3_R1_001.fastq.gz',\n",
       " 'mr578-MV411-VHL_coculture_12h-r3_R1_001.fastq.gz_trimming_report.txt',\n",
       " 'mr578-MV411-VHL_coculture_12h-r3_R1_001_unpaired_1.fq.gz',\n",
       " 'mr578-MV411-VHL_coculture_12h-r3_R1_001_val_1.fq.gz',\n",
       " 'mr578-MV411-VHL_coculture_12h-r3_R2_001.fastq.gz',\n",
       " 'mr578-MV411-VHL_coculture_12h-r3_R2_001.fastq.gz_trimming_report.txt',\n",
       " 'mr578-MV411-VHL_coculture_12h-r3_R2_001_unpaired_2.fq.gz',\n",
       " 'mr578-MV411-VHL_coculture_12h-r3_R2_001_val_2.fq.gz',\n",
       " 'mr579-MV411-VHL_coculture_12h-r4_R1_001.fastq.gz',\n",
       " 'mr579-MV411-VHL_coculture_12h-r4_R1_001.fastq.gz_trimming_report.txt',\n",
       " 'mr579-MV411-VHL_coculture_12h-r4_R1_001_unpaired_1.fq.gz',\n",
       " 'mr579-MV411-VHL_coculture_12h-r4_R1_001_val_1.fq.gz',\n",
       " 'mr579-MV411-VHL_coculture_12h-r4_R2_001.fastq.gz',\n",
       " 'mr579-MV411-VHL_coculture_12h-r4_R2_001.fastq.gz_trimming_report.txt',\n",
       " 'mr579-MV411-VHL_coculture_12h-r4_R2_001_unpaired_2.fq.gz',\n",
       " 'mr579-MV411-VHL_coculture_12h-r4_R2_001_val_2.fq.gz',\n",
       " 'mr580-MV411-VHL_coculture_12h-r5_R1_001.fastq.gz',\n",
       " 'mr580-MV411-VHL_coculture_12h-r5_R1_001.fastq.gz_trimming_report.txt',\n",
       " 'mr580-MV411-VHL_coculture_12h-r5_R1_001_unpaired_1.fq.gz',\n",
       " 'mr580-MV411-VHL_coculture_12h-r5_R1_001_val_1.fq.gz',\n",
       " 'mr580-MV411-VHL_coculture_12h-r5_R2_001.fastq.gz',\n",
       " 'mr580-MV411-VHL_coculture_12h-r5_R2_001.fastq.gz_trimming_report.txt',\n",
       " 'mr580-MV411-VHL_coculture_12h-r5_R2_001_unpaired_2.fq.gz',\n",
       " 'mr580-MV411-VHL_coculture_12h-r5_R2_001_val_2.fq.gz',\n",
       " 'mr581-MV411-MYB-dTAG-DMSO_coculture_12h-r1_R1_001.fastq.gz',\n",
       " 'mr581-MV411-MYB-dTAG-DMSO_coculture_12h-r1_R1_001.fastq.gz_trimming_report.txt',\n",
       " 'mr581-MV411-MYB-dTAG-DMSO_coculture_12h-r1_R1_001_unpaired_1.fq.gz',\n",
       " 'mr581-MV411-MYB-dTAG-DMSO_coculture_12h-r1_R1_001_val_1.fq.gz',\n",
       " 'mr581-MV411-MYB-dTAG-DMSO_coculture_12h-r1_R2_001.fastq.gz',\n",
       " 'mr581-MV411-MYB-dTAG-DMSO_coculture_12h-r1_R2_001.fastq.gz_trimming_report.txt',\n",
       " 'mr581-MV411-MYB-dTAG-DMSO_coculture_12h-r1_R2_001_unpaired_2.fq.gz',\n",
       " 'mr581-MV411-MYB-dTAG-DMSO_coculture_12h-r1_R2_001_val_2.fq.gz',\n",
       " 'mr582-MV411-MYB-dTAG-DMSO_coculture_12h-r2_R1_001.fastq.gz',\n",
       " 'mr582-MV411-MYB-dTAG-DMSO_coculture_12h-r2_R1_001.fastq.gz_trimming_report.txt',\n",
       " 'mr582-MV411-MYB-dTAG-DMSO_coculture_12h-r2_R1_001_unpaired_1.fq.gz',\n",
       " 'mr582-MV411-MYB-dTAG-DMSO_coculture_12h-r2_R1_001_val_1.fq.gz',\n",
       " 'mr582-MV411-MYB-dTAG-DMSO_coculture_12h-r2_R2_001.fastq.gz',\n",
       " 'mr582-MV411-MYB-dTAG-DMSO_coculture_12h-r2_R2_001.fastq.gz_trimming_report.txt',\n",
       " 'mr582-MV411-MYB-dTAG-DMSO_coculture_12h-r2_R2_001_unpaired_2.fq.gz',\n",
       " 'mr582-MV411-MYB-dTAG-DMSO_coculture_12h-r2_R2_001_val_2.fq.gz',\n",
       " 'mr583-MV411-MYB-dTAG-DMSO_coculture_12h-r3_R1_001.fastq.gz',\n",
       " 'mr583-MV411-MYB-dTAG-DMSO_coculture_12h-r3_R1_001.fastq.gz_trimming_report.txt',\n",
       " 'mr583-MV411-MYB-dTAG-DMSO_coculture_12h-r3_R1_001_unpaired_1.fq.gz',\n",
       " 'mr583-MV411-MYB-dTAG-DMSO_coculture_12h-r3_R1_001_val_1.fq.gz',\n",
       " 'mr583-MV411-MYB-dTAG-DMSO_coculture_12h-r3_R2_001.fastq.gz',\n",
       " 'mr583-MV411-MYB-dTAG-DMSO_coculture_12h-r3_R2_001.fastq.gz_trimming_report.txt',\n",
       " 'mr583-MV411-MYB-dTAG-DMSO_coculture_12h-r3_R2_001_unpaired_2.fq.gz',\n",
       " 'mr583-MV411-MYB-dTAG-DMSO_coculture_12h-r3_R2_001_val_2.fq.gz',\n",
       " 'mr584-MV411-MYB-dTAG-DMSO_coculture_12h-r4_R1_001.fastq.gz',\n",
       " 'mr584-MV411-MYB-dTAG-DMSO_coculture_12h-r4_R1_001.fastq.gz_trimming_report.txt',\n",
       " 'mr584-MV411-MYB-dTAG-DMSO_coculture_12h-r4_R1_001_unpaired_1.fq.gz',\n",
       " 'mr584-MV411-MYB-dTAG-DMSO_coculture_12h-r4_R1_001_val_1.fq.gz',\n",
       " 'mr584-MV411-MYB-dTAG-DMSO_coculture_12h-r4_R2_001.fastq.gz',\n",
       " 'mr584-MV411-MYB-dTAG-DMSO_coculture_12h-r4_R2_001.fastq.gz_trimming_report.txt',\n",
       " 'mr584-MV411-MYB-dTAG-DMSO_coculture_12h-r4_R2_001_unpaired_2.fq.gz',\n",
       " 'mr584-MV411-MYB-dTAG-DMSO_coculture_12h-r4_R2_001_val_2.fq.gz',\n",
       " 'mr585-MV411-MYB-dTAG-VHL_coculture_12h-r1_R1_001.fastq.gz',\n",
       " 'mr585-MV411-MYB-dTAG-VHL_coculture_12h-r1_R1_001.fastq.gz_trimming_report.txt',\n",
       " 'mr585-MV411-MYB-dTAG-VHL_coculture_12h-r1_R1_001_unpaired_1.fq.gz',\n",
       " 'mr585-MV411-MYB-dTAG-VHL_coculture_12h-r1_R1_001_val_1.fq.gz',\n",
       " 'mr585-MV411-MYB-dTAG-VHL_coculture_12h-r1_R2_001.fastq.gz',\n",
       " 'mr585-MV411-MYB-dTAG-VHL_coculture_12h-r1_R2_001.fastq.gz_trimming_report.txt',\n",
       " 'mr585-MV411-MYB-dTAG-VHL_coculture_12h-r1_R2_001_unpaired_2.fq.gz',\n",
       " 'mr585-MV411-MYB-dTAG-VHL_coculture_12h-r1_R2_001_val_2.fq.gz',\n",
       " 'mr586-MV411-MYB-dTAG-VHL_coculture_12h-r2_R1_001.fastq.gz',\n",
       " 'mr586-MV411-MYB-dTAG-VHL_coculture_12h-r2_R1_001.fastq.gz_trimming_report.txt',\n",
       " 'mr586-MV411-MYB-dTAG-VHL_coculture_12h-r2_R1_001_unpaired_1.fq.gz',\n",
       " 'mr586-MV411-MYB-dTAG-VHL_coculture_12h-r2_R1_001_val_1.fq.gz',\n",
       " 'mr586-MV411-MYB-dTAG-VHL_coculture_12h-r2_R2_001.fastq.gz',\n",
       " 'mr586-MV411-MYB-dTAG-VHL_coculture_12h-r2_R2_001.fastq.gz_trimming_report.txt',\n",
       " 'mr586-MV411-MYB-dTAG-VHL_coculture_12h-r2_R2_001_unpaired_2.fq.gz',\n",
       " 'mr586-MV411-MYB-dTAG-VHL_coculture_12h-r2_R2_001_val_2.fq.gz',\n",
       " 'mr587-MV411-MYB-dTAG-VHL_coculture_12h-r3_R1_001.fastq.gz',\n",
       " 'mr587-MV411-MYB-dTAG-VHL_coculture_12h-r3_R1_001.fastq.gz_trimming_report.txt',\n",
       " 'mr587-MV411-MYB-dTAG-VHL_coculture_12h-r3_R1_001_unpaired_1.fq.gz',\n",
       " 'mr587-MV411-MYB-dTAG-VHL_coculture_12h-r3_R1_001_val_1.fq.gz',\n",
       " 'mr587-MV411-MYB-dTAG-VHL_coculture_12h-r3_R2_001.fastq.gz',\n",
       " 'mr587-MV411-MYB-dTAG-VHL_coculture_12h-r3_R2_001.fastq.gz_trimming_report.txt',\n",
       " 'mr587-MV411-MYB-dTAG-VHL_coculture_12h-r3_R2_001_unpaired_2.fq.gz',\n",
       " 'mr587-MV411-MYB-dTAG-VHL_coculture_12h-r3_R2_001_val_2.fq.gz',\n",
       " 'mr588-MV411-MYB-dTAG-VHL_coculture_12h-r4_R1_001.fastq.gz',\n",
       " 'mr588-MV411-MYB-dTAG-VHL_coculture_12h-r4_R1_001.fastq.gz_trimming_report.txt',\n",
       " 'mr588-MV411-MYB-dTAG-VHL_coculture_12h-r4_R1_001_unpaired_1.fq.gz',\n",
       " 'mr588-MV411-MYB-dTAG-VHL_coculture_12h-r4_R1_001_val_1.fq.gz',\n",
       " 'mr588-MV411-MYB-dTAG-VHL_coculture_12h-r4_R2_001.fastq.gz',\n",
       " 'mr588-MV411-MYB-dTAG-VHL_coculture_12h-r4_R2_001.fastq.gz_trimming_report.txt',\n",
       " 'mr588-MV411-MYB-dTAG-VHL_coculture_12h-r4_R2_001_unpaired_2.fq.gz',\n",
       " 'mr588-MV411-MYB-dTAG-VHL_coculture_12h-r4_R2_001_val_2.fq.gz',\n",
       " 'mr589-MV411-MYB-dTAG-VHL_coculture_12h-r5_R1_001.fastq.gz',\n",
       " 'mr589-MV411-MYB-dTAG-VHL_coculture_12h-r5_R1_001.fastq.gz_trimming_report.txt',\n",
       " 'mr589-MV411-MYB-dTAG-VHL_coculture_12h-r5_R1_001_unpaired_1.fq.gz',\n",
       " 'mr589-MV411-MYB-dTAG-VHL_coculture_12h-r5_R1_001_val_1.fq.gz',\n",
       " 'mr589-MV411-MYB-dTAG-VHL_coculture_12h-r5_R2_001.fastq.gz',\n",
       " 'mr589-MV411-MYB-dTAG-VHL_coculture_12h-r5_R2_001.fastq.gz_trimming_report.txt',\n",
       " 'mr589-MV411-MYB-dTAG-VHL_coculture_12h-r5_R2_001_unpaired_2.fq.gz',\n",
       " 'mr589-MV411-MYB-dTAG-VHL_coculture_12h-r5_R2_001_val_2.fq.gz']"
      ]
     },
     "execution_count": 9,
     "metadata": {},
     "output_type": "execute_result"
    }
   ],
   "source": [
    "fastq_folder = \"../\"+location+\"fastqs\"\n",
    "print(fastq_folder)\n",
    "fastqs = ! ls $fastq_folder\n",
    "fastqs = os_sorted(fastqs)\n",
    "fastqs"
   ]
  },
  {
   "cell_type": "code",
   "execution_count": 34,
   "id": "8a16398f",
   "metadata": {
    "collapsed": true,
    "hidden": true
   },
   "outputs": [
    {
     "data": {
      "text/plain": [
       "['20220526_1_MP10028_S25_R1_001.fastq.gz',\n",
       " '20220526_2_MP10028_S26_R1_001.fastq.gz',\n",
       " '20220526_3_MP10028_S27_R1_001.fastq.gz',\n",
       " '20220526_4_MP10028_S28_R1_001.fastq.gz',\n",
       " '20220526_5_MP10028_S29_R1_001.fastq.gz',\n",
       " '20220526_6_MP10028_S30_R1_001.fastq.gz',\n",
       " '20220526_7_MP10028_S31_R1_001.fastq.gz',\n",
       " '20220526_8_MP10028_S32_R1_001.fastq.gz',\n",
       " '20220526_9_MP10028_S33_R1_001.fastq.gz',\n",
       " '20220526_10_MP10028_S34_R1_001.fastq.gz',\n",
       " '20220526_11_MP10028_S35_R1_001.fastq.gz',\n",
       " '20220526_12_MP10028_S36_R1_001.fastq.gz',\n",
       " '20220526_13_MP10028_S37_R1_001.fastq.gz',\n",
       " '20220526_15_MP10028_S38_R1_001.fastq.gz',\n",
       " '20220526_16_MP10028_S39_R1_001.fastq.gz',\n",
       " '20220526_17_MP10028_S40_R1_001.fastq.gz',\n",
       " '20220526_18_MP10028_S41_R1_001.fastq.gz',\n",
       " '20220526_19_MP10028_S42_R1_001.fastq.gz',\n",
       " '20220526_20_MP10028_S43_R1_001.fastq.gz']"
      ]
     },
     "execution_count": 34,
     "metadata": {},
     "output_type": "execute_result"
    }
   ],
   "source": [
    "fastqs[::2]"
   ]
  },
  {
   "cell_type": "code",
   "execution_count": 35,
   "id": "5e065fff",
   "metadata": {
    "hidden": true
   },
   "outputs": [],
   "source": [
    "from gsheets import Sheets\n",
    "sheets = Sheets.from_files('~/.client_secret_web.json', '~/.storage.json')\n",
    "url = \"https://docs.google.com/spreadsheets/d/1yFLjYB1McU530JnLgL0QIMAKIkVl3kl0_LCHje2gk8U/edit?ts=5fab1071#gid=738732237\"\n",
    "gsheet = sheets.get(url).sheets[12].to_frame()"
   ]
  },
  {
   "cell_type": "code",
   "execution_count": 38,
   "id": "2c4db112",
   "metadata": {
    "hidden": true
   },
   "outputs": [
    {
     "name": "stdout",
     "output_type": "stream",
     "text": [
      "(19, 2)\n"
     ]
    }
   ],
   "source": [
    "# get new sample names from AML sample tracker - RNA_tracker_JK\n",
    "idx = gsheet.index[gsheet['batch'] == project] # get first row with project number\n",
    "sample_info = gsheet.loc[idx[0]:, [\"prev_name\", \"name\"]]\n",
    "sample_info = sample_info.iloc[:int(len(fastqs)/2),]\n",
    "print(sample_info.shape)"
   ]
  },
  {
   "cell_type": "code",
   "execution_count": 40,
   "id": "938dd527",
   "metadata": {
    "hidden": true
   },
   "outputs": [],
   "source": [
    "# make dict with names\n",
    "rename = dict(zip(sample_info.prev_name, sample_info.name))\n",
    "\n",
    "# rename fastqs locally\n",
    "for val in fastqs:\n",
    "    rep  = val\n",
    "    for old, new in rename.items():\n",
    "        rep = rep.replace(old, new)\n",
    "    if rep != val:\n",
    "        ! mv $fastq_folder/$val $fastq_folder/$rep"
   ]
  },
  {
   "cell_type": "markdown",
   "id": "5ab8334a",
   "metadata": {},
   "source": [
    "# Processing"
   ]
  },
  {
   "cell_type": "code",
   "execution_count": 7,
   "id": "c29edd79",
   "metadata": {},
   "outputs": [
    {
     "data": {
      "text/plain": [
       "'MYB_degraded_coculture_v1'"
      ]
     },
     "execution_count": 7,
     "metadata": {},
     "output_type": "execute_result"
    }
   ],
   "source": [
    "project"
   ]
  },
  {
   "cell_type": "code",
   "execution_count": 8,
   "id": "73b8ab5b",
   "metadata": {
    "collapsed": true
   },
   "outputs": [
    {
     "name": "stdout",
     "output_type": "stream",
     "text": [
      "../../data/slamseq_MYB_degraded_coculture_v1/fastqs\n"
     ]
    },
    {
     "data": {
      "text/plain": [
       "['../../data/slamseq_MYB_degraded_coculture_v1/fastqs/mr571-MV411-DMSO_coculture_12h-r1_R1_001.fastq.gz',\n",
       " '../../data/slamseq_MYB_degraded_coculture_v1/fastqs/mr572-MV411-DMSO_coculture_12h-r2_R1_001.fastq.gz',\n",
       " '../../data/slamseq_MYB_degraded_coculture_v1/fastqs/mr573-MV411-DMSO_coculture_12h-r3_R1_001.fastq.gz',\n",
       " '../../data/slamseq_MYB_degraded_coculture_v1/fastqs/mr574-MV411-DMSO_coculture_12h-r4_R1_001.fastq.gz',\n",
       " '../../data/slamseq_MYB_degraded_coculture_v1/fastqs/mr575-MV411-DMSO_coculture_12h-r5_R1_001.fastq.gz',\n",
       " '../../data/slamseq_MYB_degraded_coculture_v1/fastqs/mr576-MV411-VHL_coculture_12h-r1_R1_001.fastq.gz',\n",
       " '../../data/slamseq_MYB_degraded_coculture_v1/fastqs/mr577-MV411-VHL_coculture_12h-r2_R1_001.fastq.gz',\n",
       " '../../data/slamseq_MYB_degraded_coculture_v1/fastqs/mr578-MV411-VHL_coculture_12h-r3_R1_001.fastq.gz',\n",
       " '../../data/slamseq_MYB_degraded_coculture_v1/fastqs/mr579-MV411-VHL_coculture_12h-r4_R1_001.fastq.gz',\n",
       " '../../data/slamseq_MYB_degraded_coculture_v1/fastqs/mr580-MV411-VHL_coculture_12h-r5_R1_001.fastq.gz',\n",
       " '../../data/slamseq_MYB_degraded_coculture_v1/fastqs/mr581-MV411-MYB-dTAG-DMSO_coculture_12h-r1_R1_001.fastq.gz',\n",
       " '../../data/slamseq_MYB_degraded_coculture_v1/fastqs/mr582-MV411-MYB-dTAG-DMSO_coculture_12h-r2_R1_001.fastq.gz',\n",
       " '../../data/slamseq_MYB_degraded_coculture_v1/fastqs/mr583-MV411-MYB-dTAG-DMSO_coculture_12h-r3_R1_001.fastq.gz',\n",
       " '../../data/slamseq_MYB_degraded_coculture_v1/fastqs/mr584-MV411-MYB-dTAG-DMSO_coculture_12h-r4_R1_001.fastq.gz',\n",
       " '../../data/slamseq_MYB_degraded_coculture_v1/fastqs/mr585-MV411-MYB-dTAG-VHL_coculture_12h-r1_R1_001.fastq.gz',\n",
       " '../../data/slamseq_MYB_degraded_coculture_v1/fastqs/mr586-MV411-MYB-dTAG-VHL_coculture_12h-r2_R1_001.fastq.gz',\n",
       " '../../data/slamseq_MYB_degraded_coculture_v1/fastqs/mr587-MV411-MYB-dTAG-VHL_coculture_12h-r3_R1_001.fastq.gz',\n",
       " '../../data/slamseq_MYB_degraded_coculture_v1/fastqs/mr588-MV411-MYB-dTAG-VHL_coculture_12h-r4_R1_001.fastq.gz',\n",
       " '../../data/slamseq_MYB_degraded_coculture_v1/fastqs/mr589-MV411-MYB-dTAG-VHL_coculture_12h-r5_R1_001.fastq.gz']"
      ]
     },
     "execution_count": 8,
     "metadata": {},
     "output_type": "execute_result"
    }
   ],
   "source": [
    "fastq_folder = \"../\"+location+\"fastqs\"\n",
    "print(fastq_folder)\n",
    "fastqs = ! ls $fastq_folder/*fastq.gz\n",
    "fastqs[::2]"
   ]
  },
  {
   "cell_type": "markdown",
   "id": "d7dd9e5e",
   "metadata": {
    "heading_collapsed": true
   },
   "source": [
    "## trim_galore"
   ]
  },
  {
   "cell_type": "code",
   "execution_count": 49,
   "id": "a20a1d20",
   "metadata": {
    "collapsed": true,
    "hidden": true
   },
   "outputs": [
    {
     "name": "stdout",
     "output_type": "stream",
     "text": [
      "mr571-MV411-DMSO_coculture_12h-r1_R1_001.fastq.gz\n",
      "mr572-MV411-DMSO_coculture_12h-r2_R1_001.fastq.gz\n",
      "mr573-MV411-DMSO_coculture_12h-r3_R1_001.fastq.gz\n",
      "mr574-MV411-DMSO_coculture_12h-r4_R1_001.fastq.gz\n",
      "mr575-MV411-DMSO_coculture_12h-r5_R1_001.fastq.gz\n",
      "mr576-MV411-VHL_coculture_12h-r1_R1_001.fastq.gz\n",
      "mr577-MV411-VHL_coculture_12h-r2_R1_001.fastq.gz\n",
      "mr578-MV411-VHL_coculture_12h-r3_R1_001.fastq.gz\n",
      "mr579-MV411-VHL_coculture_12h-r4_R1_001.fastq.gz\n",
      "mr580-MV411-VHL_coculture_12h-r5_R1_001.fastq.gz\n",
      "mr581-MV411-MYB-dTAG-DMSO_coculture_12h-r1_R1_001.fastq.gz\n",
      "mr582-MV411-MYB-dTAG-DMSO_coculture_12h-r2_R1_001.fastq.gz\n",
      "mr583-MV411-MYB-dTAG-DMSO_coculture_12h-r3_R1_001.fastq.gz\n",
      "mr584-MV411-MYB-dTAG-DMSO_coculture_12h-r4_R1_001.fastq.gz\n",
      "mr585-MV411-MYB-dTAG-VHL_coculture_12h-r1_R1_001.fastq.gz\n",
      "mr586-MV411-MYB-dTAG-VHL_coculture_12h-r2_R1_001.fastq.gz\n",
      "mr587-MV411-MYB-dTAG-VHL_coculture_12h-r3_R1_001.fastq.gz\n",
      "mr588-MV411-MYB-dTAG-VHL_coculture_12h-r4_R1_001.fastq.gz\n",
      "mr589-MV411-MYB-dTAG-VHL_coculture_12h-r5_R1_001.fastq.gz\n"
     ]
    }
   ],
   "source": [
    "for val1, val2 in h.grouped(fastqs, 2):\n",
    "    print(os.path.basename(val1))"
   ]
  },
  {
   "cell_type": "code",
   "execution_count": 50,
   "id": "29448ebd",
   "metadata": {
    "collapsed": true,
    "hidden": true
   },
   "outputs": [
    {
     "name": "stdout",
     "output_type": "stream",
     "text": [
      "CPU times: user 816 ms, sys: 364 ms, total: 1.18 s\n",
      "Wall time: 9h 21min 16s\n"
     ]
    },
    {
     "data": {
      "text/plain": [
       "['pigz 2.6\\npigz 2.6\\n',\n",
       " 'pigz 2.6\\npigz 2.6\\n',\n",
       " 'pigz 2.6\\npigz 2.6\\n',\n",
       " 'pigz 2.6\\npigz 2.6\\n',\n",
       " 'pigz 2.6\\npigz 2.6\\n',\n",
       " 'pigz 2.6\\npigz 2.6\\n',\n",
       " 'pigz 2.6\\npigz 2.6\\n',\n",
       " 'pigz 2.6\\npigz 2.6\\n',\n",
       " 'pigz 2.6\\npigz 2.6\\n',\n",
       " 'pigz 2.6\\n']"
      ]
     },
     "execution_count": 50,
     "metadata": {},
     "output_type": "execute_result"
    }
   ],
   "source": [
    "%%time\n",
    "h.parrun(['trim_galore --paired --cores 8 --retain_unpaired -stringency 3\\\n",
    " --illumina '+val1+' '+val2+' -o '+fastq_folder for val1, val2 in h.grouped(fastqs, 2)], 2)"
   ]
  },
  {
   "cell_type": "markdown",
   "id": "2d989949",
   "metadata": {},
   "source": [
    "## slamdunk"
   ]
  },
  {
   "cell_type": "markdown",
   "id": "f62527b2",
   "metadata": {},
   "source": [
    "install slamdunk & dependencies if needed (see above)"
   ]
  },
  {
   "cell_type": "code",
   "execution_count": 51,
   "id": "7441cfb0",
   "metadata": {},
   "outputs": [],
   "source": [
    "# install slamdunk\n",
    "#! pip3 install git+https://github.com/jkobject/slamdunk.git --upgrade"
   ]
  },
  {
   "cell_type": "code",
   "execution_count": 52,
   "id": "e7033e03",
   "metadata": {},
   "outputs": [],
   "source": [
    "# please also install cutadapt, fastqc, and trimgalore\n",
    "#! conda install -c bioconda cutadapt\n",
    "#! conda install -c bioconda fastqc\n",
    "#! conda install -c bioconda trim-galore"
   ]
  },
  {
   "cell_type": "markdown",
   "id": "2c54a44b",
   "metadata": {},
   "source": [
    "download reference genome files"
   ]
  },
  {
   "cell_type": "code",
   "execution_count": 53,
   "id": "96bb5b2b",
   "metadata": {},
   "outputs": [],
   "source": [
    "# google storage bucket with reference files\n",
    "#! gsutil ls gs://ccle_default_params\n",
    "\n",
    "# copy reference genome files\n",
    "#! gsutil -m cp gs://ccle_default_params/Homo_sapiens_assembly38* ../../ref/\n",
    "\n",
    "# copy reference genome files\n",
    "#! cp ../data/Muhar_Slamseq/{ERCC92.fa,ERCC92.gtf,GSE100708_hg38_refseq_062016_ensemblv84_3UTR.bed} ../../ref"
   ]
  },
  {
   "cell_type": "markdown",
   "id": "6e85263d",
   "metadata": {},
   "source": [
    "PySam warning can be ignored.\n",
    "<br>[GitHub issue: [E::idx_find_and_load] Could not retrieve index file\" when AlignmentFile](https://github.com/pysam-developers/pysam/issues/939)"
   ]
  },
  {
   "cell_type": "code",
   "execution_count": 11,
   "id": "c33be639",
   "metadata": {},
   "outputs": [],
   "source": [
    "# using an ERCC ref genome (you can just append ERCC fasta to the hg38 fasta)\n",
    "refgenome_noAlt=\"../../ref/Homo_sapiens_assembly38_ERCC92_noAlt.fasta\""
   ]
  },
  {
   "cell_type": "code",
   "execution_count": 12,
   "id": "60391798",
   "metadata": {},
   "outputs": [],
   "source": [
    "# gene intervals bed (use for all projects)\n",
    "gene_intervals = \"../../ref/GSE100708_hg38_refseq_062016_ensemblv84_3UTR.bed\""
   ]
  },
  {
   "cell_type": "markdown",
   "id": "555911f7",
   "metadata": {},
   "source": [
    "res = slamdunk all w/ (-fb, -m, -n 1, -rl 152, -r Homo_sapiens_assembly38_ERCC92_noAlt.fasta)"
   ]
  },
  {
   "cell_type": "markdown",
   "id": "89f7b4c1",
   "metadata": {},
   "source": [
    "Read length note!\n",
    "<br>Difference between min and max read length is > 100bp\n",
    "<br>Average read length 127 (min: 8, max: 152)"
   ]
  },
  {
   "cell_type": "code",
   "execution_count": 13,
   "id": "20a790c8",
   "metadata": {},
   "outputs": [],
   "source": [
    "fastq_folder = \"../../data/\"+\"slamseq_\"+project+\"/fastqs\"\n",
    "fastqs = ! ls $fastq_folder\n",
    "fastqs = [fastq for fastq in fastqs if \"val\" in fastq]\n",
    "fastq_full = [fastq_folder+\"/\"+f for f in fastqs]"
   ]
  },
  {
   "cell_type": "code",
   "execution_count": 14,
   "id": "3a137dc8",
   "metadata": {},
   "outputs": [
    {
     "data": {
      "text/plain": [
       "'../../data/slamseq_MYB_degraded_coculture_v1/res'"
      ]
     },
     "execution_count": 14,
     "metadata": {},
     "output_type": "execute_result"
    }
   ],
   "source": [
    "res_dir = \"../../data/\"+\"slamseq_\"+project+\"/res\"\n",
    "res_dir"
   ]
  },
  {
   "cell_type": "code",
   "execution_count": 58,
   "id": "ec123500",
   "metadata": {},
   "outputs": [
    {
     "name": "stdout",
     "output_type": "stream",
     "text": [
      "['slamdunk all -o ../../data/slamseq_MYB_degraded_coculture_v1/res -r ../../ref/Homo_sapiens_assembly38_ERCC92_noAlt.fasta -b ../../ref/GSE100708_hg38_refseq_062016_ensemblv84_3UTR.bed -t 14 -c 2 -rl 152 -5 12 -n 1 -m -N mr571-MV411-DMSO_coculture_12h-r1 ../../data/slamseq_MYB_degraded_coculture_v1/fastqs/mr571-MV411-DMSO_coculture_12h-r1_R1_001_val_1.fq.gz ../../data/slamseq_MYB_degraded_coculture_v1/fastqs/mr571-MV411-DMSO_coculture_12h-r1_R2_001_val_2.fq.gz']\n",
      "CPU times: user 0 ns, sys: 0 ns, total: 0 ns\n",
      "Wall time: 171 µs\n"
     ]
    }
   ],
   "source": [
    "%%time\n",
    "\n",
    "# print call\n",
    "print(['slamdunk all'+\n",
    "       ' -o '+res_dir+\n",
    "       ' -r '+refgenome_noAlt+\n",
    "       ' -b '+gene_intervals+\n",
    "       ' -t 14'+\n",
    "       ' -c 2'+\n",
    "       ' -rl 152'+ # max-read-length = 152\n",
    "       # new parameters\n",
    "       ' -5 12'+\n",
    "       ' -n 1'+ # reads map to multiple locations at once\n",
    "       ' -m'+ # multimapping\n",
    "       ' -N '+val1.split('/')[-1].split('_R')[0]+\n",
    "       ' '+val1+\" \"+val2\n",
    "       for val1, val2 in h.grouped(fastq_full[:2], 2)])"
   ]
  },
  {
   "cell_type": "code",
   "execution_count": 62,
   "id": "a09a6a43",
   "metadata": {
    "collapsed": true
   },
   "outputs": [
    {
     "name": "stdout",
     "output_type": "stream",
     "text": [
      "CPU times: user 364 ms, sys: 172 ms, total: 536 ms\n",
      "Wall time: 4h 14min 48s\n"
     ]
    },
    {
     "data": {
      "text/plain": [
       "['[MAIN] NextGenMap 0.5.5\\n[MAIN] Startup : x64 (build Jul  3 2020 02:47:43)\\n[MAIN] Starting time: 2022-06-21.13:26:42\\n[CONFIG] Parameter:  --affine 0 --argos_min_score 0 --bin_size 2 --block_multiplier 2 --broken_pairs 0 --bs_cutoff 6 --bs_mapping 0 --cpu_threads 14 --dualstrand 1 --fast 0 --fast_pairing 0 --force_rlength_check 0 --format 1 --gap_extend_penalty 5 --gap_read_penalty 20 --gap_ref_penalty 20 --hard_clip 0 --keep_tags 0 --kmer 13 --kmer_min 0 --kmer_skip 2 --local 1 --match_bonus 10 --match_bonus_tc 2 --match_bonus_tt 10 --max_cmrs 2147483647 --max_equal 1 --max_insert_size 1000 --max_polya 4 --max_read_length 0 --min_identity 0.650000 --min_insert_size 0 --min_mq 0 --min_residues 0.500000 --min_score 0.000000 --mismatch_penalty 15 --mode 0 --no_progress 1 --no_unal 0 --ocl_threads 1 --output ../../data/slamseq_MYB_degraded_coculture_v1/res/map/mr571-MV411-DMSO_coculture_12h-r1_slamdunk_mapped.sam --overwrite 1 --pair_score_cutoff 0.900000 --paired 1 --parse_all 1 --pe_delimiter / --qry1 ../../data/slamseq_MYB_degraded_coculture_v1/fastqs/mr571-MV411-DMSO_coculture_12h-r1_R1_001_val_1.fq.gz --qry2 ../../data/slamseq_MYB_degraded_coculture_v1/fastqs/mr571-MV411-DMSO_coculture_12h-r1_R2_001_val_2.fq.gz --qry_count -1 --qry_start 0 --ref ../../ref/Homo_sapiens_assembly38_ERCC92_noAlt.fasta --ref_mode -1 --rg_id 0 --rg_sm sample_0:NA:-1 --sensitive 0 --silent_clip 0 --skip_mate_check 0 --skip_save 0 --slam_seq 2 --step_count 4 --strata 0 --topn 1 --trim5 12 --update_check 0 --very_fast 0 --very_sensitive 0\\n[NGM] Opening for output (SAM): ../../data/slamseq_MYB_degraded_coculture_v1/res/map/mr571-MV411-DMSO_coculture_12h-r1_slamdunk_mapped.sam\\n[SEQPROV] Reading encoded reference from ../../ref/Homo_sapiens_assembly38_ERCC92_noAlt.fasta-enc.2.ngm\\n[SEQPROV] Reading 3111 Mbp from disk took 14.16s\\n[PREPROCESS] Reading RefTable from ../../ref/Homo_sapiens_assembly38_ERCC92_noAlt.fasta-ht-13-2.3.ngm\\n[PREPROCESS] Reading from disk took 39.31s\\n[PREPROCESS] Max. k-mer frequency set so 887!\\n[INPUT] Input is paired end data.\\n[INPUT] Opening file ../../data/slamseq_MYB_degraded_coculture_v1/fastqs/mr571-MV411-DMSO_coculture_12h-r1_R1_001_val_1.fq.gz for reading\\n[INPUT] Opening file ../../data/slamseq_MYB_degraded_coculture_v1/fastqs/mr571-MV411-DMSO_coculture_12h-r1_R2_001_val_2.fq.gz for reading\\n[INPUT] Input is Fastq\\n[INPUT] Estimating parameter from data\\n[INPUT] Input reads don\\'t have the same length!\\n[INPUT] Maximum read length found in the first 10000000 reads is 138. For longer reads only the first 151 bp will be mapped.\\n[INPUT] The maximum read length can be overwritten with the \\'--max-read-length\\' parameter. With \\'--force-rlength-check\\', NextGenMap will run through all reads to find the max. read length. This might take some time.\\n[INPUT] Average read length: 130 (min: 8, max: 152)\\n[INPUT] Corridor width: 24\\n[INPUT] Average kmer hits pro read: 30.533764\\n[INPUT] Max possible kmer hit: 39\\n[INPUT] Estimated sensitivity: 0.782917\\n[INPUT] Estimating parameter took 38.673s\\n[INPUT] Input is Fastq\\n[INPUT] Input is Fastq\\n[OPENCL] Available platforms: 1\\n[OPENCL] AMD Accelerated Parallel Processing\\n[OPENCL] Selecting OpenCl platform: AMD Accelerated Parallel Processing\\n[OPENCL] Platform: OpenCL 1.2 AMD-APP (1214.3)\\n[OPENCL] 1 CPU device found.\\n[OPENCL] Device 0: Intel(R) Xeon(R) CPU @ 3.10GHz (Driver: 1214.3 (sse2,avx))\\n[OPENCL] 8 CPU cores available.\\n[MAIN] Valid pairs found: 81.17%\\n[MAIN] Estimated insert size: 219 bp\\n[MAIN] Alignments computed: 134658690\\n[MAIN] Done (130658908 reads mapped (95.80%), 5724218 reads not mapped (202 discarded), 136382924 lines written)(elapsed: 5477.196777s)\\n[UPDATE_CHECK] Your version of NGM is more than 6 months old - a newer version may be available. (For performing an automatic check use --update-check)\\nparsing jkobject\\ndoing all\\nRunning slamDunk map for 2 files (14 threads)\\ndoing paired end mapping!\\n -1 ../../data/slamseq_MYB_degraded_coculture_v1/fastqs/mr571-MV411-DMSO_coculture_12h-r1_R1_001_val_1.fq.gz -2 ../../data/slamseq_MYB_degraded_coculture_v1/fastqs/mr571-MV411-DMSO_coculture_12h-r1_R2_001_val_2.fq.gz\\nRunning: \"ngm -r ../../ref/Homo_sapiens_assembly38_ERCC92_noAlt.fasta -1 ../../data/slamseq_MYB_degraded_coculture_v1/fastqs/mr571-MV411-DMSO_coculture_12h-r1_R1_001_val_1.fq.gz -2 ../../data/slamseq_MYB_degraded_coculture_v1/fastqs/mr571-MV411-DMSO_coculture_12h-r1_R2_001_val_2.fq.gz -t 14 --no-progress --slam-seq 2 -5 12 --max-polya 4 -l  --rg-id 0 --rg-sm sample_0:NA:-1 -o ../../data/slamseq_MYB_degraded_coculture_v1/res/map/mr571-MV411-DMSO_coculture_12h-r1_slamdunk_mapped.sam\"\\nRunning: \"samtools view -@ 14 -Sb -o ../../data/slamseq_MYB_degraded_coculture_v1/res/map/mr571-MV411-DMSO_coculture_12h-r1_slamdunk_mapped.bam ../../data/slamseq_MYB_degraded_coculture_v1/res/map/mr571-MV411-DMSO_coculture_12h-r1_slamdunk_mapped.sam\"\\nslamdunk all\\nRunning slamDunk map for 2 files (14 threads)\\n.\\nRunning slamDunk sam2bam for 1 files (14 threads)\\n.\\nRunning slamDunk filter for 1 files (14 threads)\\n[E::idx_find_and_load] Could not retrieve index file for \\'../../data/slamseq_MYB_degraded_coculture_v1/res/map/mr571-MV411-DMSO_coculture_12h-r1_slamdunk_mapped.bam\\'\\n[E::idx_find_and_load] Could not retrieve index file for \\'../../data/slamseq_MYB_degraded_coculture_v1/res/filter/mr571-MV411-DMSO_coculture_12h-r1_filtered.bam\\'\\n[bam_sort_core] merging from 64 files and 1 in-memory blocks...\\n\\n\\nRunning slamDunk SNP for 1 files (7 threads)\\n\\nRunning slamDunk tcount for 1 files (14 threads)\\n\\n\\nRunning: \"samtools sort -o ../../data/slamseq_MYB_degraded_coculture_v1/res/filter/mr571-MV411-DMSO_coculture_12h-r1_filtered.bam ../../data/slamseq_MYB_degraded_coculture_v1/res/filter/mr571-MV411-DMSO_coculture_12h-r1_filtered.bam_tmp\"\\n...']"
      ]
     },
     "execution_count": 62,
     "metadata": {},
     "output_type": "execute_result"
    }
   ],
   "source": [
    "%%time\n",
    "\n",
    "# run slamdunk\n",
    "# we are doing it paired end\n",
    "h.parrun(['slamdunk all'+\n",
    "          ' -o '+res_dir+\n",
    "          ' -r '+refgenome_noAlt+\n",
    "          ' -b '+gene_intervals+\n",
    "          ' -t 14'+\n",
    "          ' -c 2'+\n",
    "          ' -rl 152'+ # max-read-length = 152\n",
    "          # new parameters\n",
    "          ' -5 12'+\n",
    "          ' -n 1'+ # reads map to multiple locations at once\n",
    "          ' -m True'+ # multimapping\n",
    "          ' -N '+val1.split('/')[-1].split('_R')[0]+\n",
    "          ' '+val1+\" \"+val2+\n",
    "          ' 2>&1 | tee '+res_dir+'/'+os.path.basename(val1)+'_slumdunk.log'\n",
    "          for val1, val2 in h.grouped(fastq_full[:2], 2)], 2)"
   ]
  },
  {
   "cell_type": "code",
   "execution_count": 15,
   "id": "f8943fd2",
   "metadata": {},
   "outputs": [
    {
     "name": "stdout",
     "output_type": "stream",
     "text": [
      "mr576-MV411-VHL_coculture_12h-r1_R1_001_val_1.fq.gz\n",
      "mr577-MV411-VHL_coculture_12h-r2_R1_001_val_1.fq.gz\n",
      "mr579-MV411-VHL_coculture_12h-r4_R1_001_val_1.fq.gz\n"
     ]
    }
   ],
   "source": [
    "for val1, val2 in h.grouped(fastq_full[10:14]+fastq_full[16:18], 2): print(os.path.basename(val1))"
   ]
  },
  {
   "cell_type": "code",
   "execution_count": 17,
   "id": "d2311b00",
   "metadata": {
    "collapsed": true
   },
   "outputs": [
    {
     "name": "stdout",
     "output_type": "stream",
     "text": [
      "CPU times: user 428 ms, sys: 120 ms, total: 548 ms\n",
      "Wall time: 4h 9min 42s\n"
     ]
    },
    {
     "data": {
      "text/plain": [
       "['[MAIN] NextGenMap 0.5.5\\n[MAIN] Startup : x64 (build Jul  3 2020 02:47:43)\\n[MAIN] Starting time: 2022-06-22.21:09:03\\n[CONFIG] Parameter:  --affine 0 --argos_min_score 0 --bin_size 2 --block_multiplier 2 --broken_pairs 0 --bs_cutoff 6 --bs_mapping 0 --cpu_threads 14 --dualstrand 1 --fast 0 --fast_pairing 0 --force_rlength_check 0 --format 1 --gap_extend_penalty 5 --gap_read_penalty 20 --gap_ref_penalty 20 --hard_clip 0 --keep_tags 0 --kmer 13 --kmer_min 0 --kmer_skip 2 --local 1 --match_bonus 10 --match_bonus_tc 2 --match_bonus_tt 10 --max_cmrs 2147483647 --max_equal 1 --max_insert_size 1000 --max_polya 4 --max_read_length 0 --min_identity 0.650000 --min_insert_size 0 --min_mq 0 --min_residues 0.500000 --min_score 0.000000 --mismatch_penalty 15 --mode 0 --no_progress 1 --no_unal 0 --ocl_threads 1 --output ../../data/slamseq_MYB_degraded_coculture_v1/res/map/mr576-MV411-VHL_coculture_12h-r1_slamdunk_mapped.sam --overwrite 1 --pair_score_cutoff 0.900000 --paired 1 --parse_all 1 --pe_delimiter / --qry1 ../../data/slamseq_MYB_degraded_coculture_v1/fastqs/mr576-MV411-VHL_coculture_12h-r1_R1_001_val_1.fq.gz --qry2 ../../data/slamseq_MYB_degraded_coculture_v1/fastqs/mr576-MV411-VHL_coculture_12h-r1_R2_001_val_2.fq.gz --qry_count -1 --qry_start 0 --ref ../../ref/Homo_sapiens_assembly38_ERCC92_noAlt.fasta --ref_mode -1 --rg_id 0 --rg_sm sample_0:NA:-1 --sensitive 0 --silent_clip 0 --skip_mate_check 0 --skip_save 0 --slam_seq 2 --step_count 4 --strata 0 --topn 1 --trim5 12 --update_check 0 --very_fast 0 --very_sensitive 0\\n[NGM] Opening for output (SAM): ../../data/slamseq_MYB_degraded_coculture_v1/res/map/mr576-MV411-VHL_coculture_12h-r1_slamdunk_mapped.sam\\n[SEQPROV] Reading encoded reference from ../../ref/Homo_sapiens_assembly38_ERCC92_noAlt.fasta-enc.2.ngm\\n[SEQPROV] Reading 3111 Mbp from disk took 14.16s\\n[PREPROCESS] Reading RefTable from ../../ref/Homo_sapiens_assembly38_ERCC92_noAlt.fasta-ht-13-2.3.ngm\\n[PREPROCESS] Reading from disk took 41.36s\\n[PREPROCESS] Max. k-mer frequency set so 887!\\n[INPUT] Input is paired end data.\\n[INPUT] Opening file ../../data/slamseq_MYB_degraded_coculture_v1/fastqs/mr576-MV411-VHL_coculture_12h-r1_R1_001_val_1.fq.gz for reading\\n[INPUT] Opening file ../../data/slamseq_MYB_degraded_coculture_v1/fastqs/mr576-MV411-VHL_coculture_12h-r1_R2_001_val_2.fq.gz for reading\\n[INPUT] Input is Fastq\\n[INPUT] Estimating parameter from data\\n[INPUT] Input reads don\\'t have the same length!\\n[INPUT] Maximum read length found in the first 10000000 reads is 138. For longer reads only the first 151 bp will be mapped.\\n[INPUT] The maximum read length can be overwritten with the \\'--max-read-length\\' parameter. With \\'--force-rlength-check\\', NextGenMap will run through all reads to find the max. read length. This might take some time.\\n[INPUT] Average read length: 128 (min: 8, max: 152)\\n[INPUT] Corridor width: 24\\n[INPUT] Average kmer hits pro read: 29.625809\\n[INPUT] Max possible kmer hit: 38\\n[INPUT] Estimated sensitivity: 0.779627\\n[INPUT] Estimating parameter took 41.606s\\n[INPUT] Input is Fastq\\n[INPUT] Input is Fastq\\n[OPENCL] Available platforms: 1\\n[OPENCL] AMD Accelerated Parallel Processing\\n[OPENCL] Selecting OpenCl platform: AMD Accelerated Parallel Processing\\n[OPENCL] Platform: OpenCL 1.2 AMD-APP (1214.3)\\n[OPENCL] 1 CPU device found.\\n[OPENCL] Device 0: Intel(R) Xeon(R) CPU @ 3.10GHz (Driver: 1214.3 (sse2,avx))\\n[OPENCL] 8 CPU cores available.\\n[MAIN] Valid pairs found: 84.25%\\n[MAIN] Estimated insert size: 197 bp\\n[MAIN] Alignments computed: 142049091\\n[MAIN] Done (137810882 reads mapped (95.83%), 5993166 reads not mapped (240 discarded), 143803808 lines written)(elapsed: 6048.601562s)\\n[UPDATE_CHECK] Your version of NGM is more than 6 months old - a newer version may be available. (For performing an automatic check use --update-check)\\nparsing jkobject\\ndoing all\\nRunning slamDunk map for 2 files (14 threads)\\ndoing paired end mapping!\\n -1 ../../data/slamseq_MYB_degraded_coculture_v1/fastqs/mr576-MV411-VHL_coculture_12h-r1_R1_001_val_1.fq.gz -2 ../../data/slamseq_MYB_degraded_coculture_v1/fastqs/mr576-MV411-VHL_coculture_12h-r1_R2_001_val_2.fq.gz\\nRunning: \"ngm -r ../../ref/Homo_sapiens_assembly38_ERCC92_noAlt.fasta -1 ../../data/slamseq_MYB_degraded_coculture_v1/fastqs/mr576-MV411-VHL_coculture_12h-r1_R1_001_val_1.fq.gz -2 ../../data/slamseq_MYB_degraded_coculture_v1/fastqs/mr576-MV411-VHL_coculture_12h-r1_R2_001_val_2.fq.gz -t 14 --no-progress --slam-seq 2 -5 12 --max-polya 4 -l  --rg-id 0 --rg-sm sample_0:NA:-1 -o ../../data/slamseq_MYB_degraded_coculture_v1/res/map/mr576-MV411-VHL_coculture_12h-r1_slamdunk_mapped.sam\"\\nRunning: \"samtools view -@ 14 -Sb -o ../../data/slamseq_MYB_degraded_coculture_v1/res/map/mr576-MV411-VHL_coculture_12h-r1_slamdunk_mapped.bam ../../data/slamseq_MYB_degraded_coculture_v1/res/map/mr576-MV411-VHL_coculture_12h-r1_slamdunk_mapped.sam\"\\nslamdunk all\\nRunning slamDunk map for 2 files (14 threads)\\n.\\nRunning slamDunk sam2bam for 1 files (14 threads)\\n.\\nRunning slamDunk filter for 1 files (14 threads)\\n[E::idx_find_and_load] Could not retrieve index file for \\'../../data/slamseq_MYB_degraded_coculture_v1/res/map/mr576-MV411-VHL_coculture_12h-r1_slamdunk_mapped.bam\\'\\n[E::idx_find_and_load] Could not retrieve index file for \\'../../data/slamseq_MYB_degraded_coculture_v1/res/filter/mr576-MV411-VHL_coculture_12h-r1_filtered.bam\\'\\n[bam_sort_core] merging from 67 files and 1 in-memory blocks...\\n\\n\\nRunning slamDunk SNP for 1 files (7 threads)\\n\\nRunning slamDunk tcount for 1 files (14 threads)\\n\\n\\nRunning: \"samtools sort -o ../../data/slamseq_MYB_degraded_coculture_v1/res/filter/mr576-MV411-VHL_coculture_12h-r1_filtered.bam ../../data/slamseq_MYB_degraded_coculture_v1/res/filter/mr576-MV411-VHL_coculture_12h-r1_filtered.bam_tmp\"\\n...']"
      ]
     },
     "execution_count": 17,
     "metadata": {},
     "output_type": "execute_result"
    }
   ],
   "source": [
    "%%time\n",
    "\n",
    "# run slamdunk\n",
    "# we are doing it paired end\n",
    "h.parrun(['slamdunk all'+\n",
    "          ' -o '+res_dir+\n",
    "          ' -r '+refgenome_noAlt+\n",
    "          ' -b '+gene_intervals+\n",
    "          ' -t 14'+\n",
    "          ' -c 2'+\n",
    "          ' -rl 152'+ # max-read-length = 152\n",
    "          # new parameters\n",
    "          ' -5 12'+\n",
    "          ' -n 1'+ # reads map to multiple locations at once\n",
    "          ' -m True'+ # multimapping\n",
    "          ' -N '+val1.split('/')[-1].split('_R')[0]+\n",
    "          ' '+val1+\" \"+val2+\n",
    "          ' 2>&1 | tee '+res_dir+'/'+os.path.basename(val1)+'_slumdunk.log'\n",
    "          for val1, val2 in h.grouped(fastq_full[10:12], 2)], 2)"
   ]
  },
  {
   "cell_type": "code",
   "execution_count": 60,
   "id": "22896078",
   "metadata": {
    "collapsed": true
   },
   "outputs": [
    {
     "name": "stdout",
     "output_type": "stream",
     "text": [
      "mr571-MV411-DMSO_coculture_12h-r1_R1_001_val_1.fq.gz\n",
      "mr572-MV411-DMSO_coculture_12h-r2_R1_001_val_1.fq.gz\n",
      "mr573-MV411-DMSO_coculture_12h-r3_R1_001_val_1.fq.gz\n",
      "mr574-MV411-DMSO_coculture_12h-r4_R1_001_val_1.fq.gz\n",
      "mr575-MV411-DMSO_coculture_12h-r5_R1_001_val_1.fq.gz\n",
      "mr576-MV411-VHL_coculture_12h-r1_R1_001_val_1.fq.gz\n",
      "mr577-MV411-VHL_coculture_12h-r2_R1_001_val_1.fq.gz\n",
      "mr578-MV411-VHL_coculture_12h-r3_R1_001_val_1.fq.gz\n",
      "mr579-MV411-VHL_coculture_12h-r4_R1_001_val_1.fq.gz\n",
      "mr580-MV411-VHL_coculture_12h-r5_R1_001_val_1.fq.gz\n",
      "mr581-MV411-MYB-dTAG-DMSO_coculture_12h-r1_R1_001_val_1.fq.gz\n",
      "mr582-MV411-MYB-dTAG-DMSO_coculture_12h-r2_R1_001_val_1.fq.gz\n",
      "mr583-MV411-MYB-dTAG-DMSO_coculture_12h-r3_R1_001_val_1.fq.gz\n",
      "mr584-MV411-MYB-dTAG-DMSO_coculture_12h-r4_R1_001_val_1.fq.gz\n",
      "mr585-MV411-MYB-dTAG-VHL_coculture_12h-r1_R1_001_val_1.fq.gz\n",
      "mr586-MV411-MYB-dTAG-VHL_coculture_12h-r2_R1_001_val_1.fq.gz\n",
      "mr587-MV411-MYB-dTAG-VHL_coculture_12h-r3_R1_001_val_1.fq.gz\n",
      "mr588-MV411-MYB-dTAG-VHL_coculture_12h-r4_R1_001_val_1.fq.gz\n",
      "mr589-MV411-MYB-dTAG-VHL_coculture_12h-r5_R1_001_val_1.fq.gz\n"
     ]
    }
   ],
   "source": [
    "for val1, val2 in h.grouped(fastq_full, 2): print(os.path.basename(val1))"
   ]
  },
  {
   "cell_type": "markdown",
   "id": "acda7387",
   "metadata": {},
   "source": [
    "## save the data to the bucket"
   ]
  },
  {
   "cell_type": "code",
   "execution_count": 10,
   "id": "fb87dfe6",
   "metadata": {},
   "outputs": [
    {
     "data": {
      "text/plain": [
       "'MYB_degraded_coculture_v1'"
      ]
     },
     "execution_count": 10,
     "metadata": {},
     "output_type": "execute_result"
    }
   ],
   "source": [
    "project"
   ]
  },
  {
   "cell_type": "code",
   "execution_count": 11,
   "id": "36e3bc93",
   "metadata": {},
   "outputs": [
    {
     "name": "stdout",
     "output_type": "stream",
     "text": [
      "fastqs\tres\r\n"
     ]
    }
   ],
   "source": [
    "! ls ../../data/slamseq_$project"
   ]
  },
  {
   "cell_type": "markdown",
   "id": "b727bb5e",
   "metadata": {},
   "source": [
    "* save fastqs to bucket\n",
    "* save processed res to bucket\n",
    "* remove processed fastqs from local"
   ]
  },
  {
   "cell_type": "code",
   "execution_count": null,
   "id": "51b7c138",
   "metadata": {},
   "outputs": [],
   "source": [
    "! gsutil -m cp ../../data/slamseq_$project/fastqs/* gs://amlproject/RNA/slamseq/$project/fastqs/ \n",
    "! gsutil -m cp ../../data/slamseq_$project/res/map/* gs://amlproject/RNA/slamseq/$project/res/map/ \n",
    "! gsutil -m cp ../../data/slamseq_$project/res/filter/* gs://amlproject/RNA/slamseq/$project/res/filter/ \n",
    "! gsutil -m cp ../../data/slamseq_$project/res/snp/* gs://amlproject/RNA/slamseq/$project/res/snp/ \n",
    "! gsutil -m cp ../../data/slamseq_$project/res/count/* gs://amlproject/RNA/slamseq/$project/res/count/"
   ]
  },
  {
   "cell_type": "markdown",
   "id": "f2caaff4",
   "metadata": {},
   "source": [
    "## remove processed fastqs"
   ]
  },
  {
   "cell_type": "markdown",
   "id": "135d4dc3",
   "metadata": {},
   "source": [
    "check all fastq files are uploaded"
   ]
  },
  {
   "cell_type": "code",
   "execution_count": 20,
   "id": "64d67f48",
   "metadata": {
    "scrolled": false
   },
   "outputs": [],
   "source": [
    "fastqs_bucket = ! gsutil ls gs://amlproject/RNA/slamseq/$project/fastqs/\n",
    "fastqs_bucket = [os.path.basename(fastq) for fastq in fastqs_bucket]\n",
    "\n",
    "fastqs = ! ls $fastq_folder\n",
    "fastqs = [os.path.basename(fastq) for fastq in fastqs]\n",
    "\n",
    "if not all(fastq in fastqs_bucket for fastq in fastqs):\n",
    "    raise ValueError(\"All fastq files not uploaded to bucket.\")"
   ]
  },
  {
   "cell_type": "code",
   "execution_count": 22,
   "id": "09ed133c",
   "metadata": {},
   "outputs": [],
   "source": [
    "res_folder = \"../../data/\"+\"slamseq_\"+project+\"/res\"\n",
    "count_files = ! ls $res_folder/count/*tsv\n",
    "processed_samples = [f.split(\"/\")[-1].split(\"-\")[0] for f in count_files]"
   ]
  },
  {
   "cell_type": "code",
   "execution_count": 24,
   "id": "db7ae61a",
   "metadata": {
    "scrolled": false
   },
   "outputs": [
    {
     "name": "stdout",
     "output_type": "stream",
     "text": [
      "19.0\n"
     ]
    }
   ],
   "source": [
    "fastq_files = ! ls $fastq_folder\n",
    "fastq_files = [fastq_folder+\"/\"+f for f in fastq_files]\n",
    "fastqs_rm = [fastq for fastq in fastq_files if any(sample in fastq for sample in processed_samples)]\n",
    "print(len(fastqs_rm)/8)"
   ]
  },
  {
   "cell_type": "code",
   "execution_count": 25,
   "id": "80666541",
   "metadata": {},
   "outputs": [],
   "source": [
    "for f in fastqs_rm:\n",
    "    os.remove(f)"
   ]
  },
  {
   "cell_type": "markdown",
   "id": "80a86471",
   "metadata": {},
   "source": [
    "## Recreate RNA matrix from slamdunk's tccount files"
   ]
  },
  {
   "cell_type": "markdown",
   "id": "14133c18",
   "metadata": {},
   "source": [
    "### get counts over ERCC genome"
   ]
  },
  {
   "cell_type": "code",
   "execution_count": 26,
   "id": "ebd7fd5e",
   "metadata": {},
   "outputs": [],
   "source": [
    "counts = {}\n",
    "folder = \"../../data/slamseq_\"+project+\"/res/filter\"\n",
    "files = ! ls $folder/mr*.bam\n",
    "files = [os.path.basename(f) for f in files]"
   ]
  },
  {
   "cell_type": "code",
   "execution_count": 27,
   "id": "294520b9",
   "metadata": {
    "collapsed": true
   },
   "outputs": [
    {
     "name": "stdout",
     "output_type": "stream",
     "text": [
      "19\n"
     ]
    },
    {
     "data": {
      "text/plain": [
       "['mr571-MV411-DMSO_coculture_12h-r1_filtered.bam',\n",
       " 'mr572-MV411-DMSO_coculture_12h-r2_filtered.bam',\n",
       " 'mr573-MV411-DMSO_coculture_12h-r3_filtered.bam',\n",
       " 'mr574-MV411-DMSO_coculture_12h-r4_filtered.bam',\n",
       " 'mr575-MV411-DMSO_coculture_12h-r5_filtered.bam',\n",
       " 'mr576-MV411-VHL_coculture_12h-r1_filtered.bam',\n",
       " 'mr577-MV411-VHL_coculture_12h-r2_filtered.bam',\n",
       " 'mr578-MV411-VHL_coculture_12h-r3_filtered.bam',\n",
       " 'mr579-MV411-VHL_coculture_12h-r4_filtered.bam',\n",
       " 'mr580-MV411-VHL_coculture_12h-r5_filtered.bam',\n",
       " 'mr581-MV411-MYB-dTAG-DMSO_coculture_12h-r1_filtered.bam',\n",
       " 'mr582-MV411-MYB-dTAG-DMSO_coculture_12h-r2_filtered.bam',\n",
       " 'mr583-MV411-MYB-dTAG-DMSO_coculture_12h-r3_filtered.bam',\n",
       " 'mr584-MV411-MYB-dTAG-DMSO_coculture_12h-r4_filtered.bam',\n",
       " 'mr585-MV411-MYB-dTAG-VHL_coculture_12h-r1_filtered.bam',\n",
       " 'mr586-MV411-MYB-dTAG-VHL_coculture_12h-r2_filtered.bam',\n",
       " 'mr587-MV411-MYB-dTAG-VHL_coculture_12h-r3_filtered.bam',\n",
       " 'mr588-MV411-MYB-dTAG-VHL_coculture_12h-r4_filtered.bam',\n",
       " 'mr589-MV411-MYB-dTAG-VHL_coculture_12h-r5_filtered.bam']"
      ]
     },
     "execution_count": 27,
     "metadata": {},
     "output_type": "execute_result"
    }
   ],
   "source": [
    "print(len(files))\n",
    "files"
   ]
  },
  {
   "cell_type": "code",
   "execution_count": 29,
   "id": "c91217c6",
   "metadata": {},
   "outputs": [],
   "source": [
    "specified_regions = \" ERCC-00002 ERCC-00003 ERCC-00004 ERCC-00009 ERCC-00012 ERCC-00013 ERCC-00014 ERCC-00016 ERCC-00017 ERCC-00019 ERCC-00022 ERCC-00024 ERCC-00025 ERCC-00028 ERCC-00031 ERCC-00033 ERCC-00034 ERCC-00035 ERCC-00039 ERCC-00040 ERCC-00041 ERCC-00042 ERCC-00043 ERCC-00044 ERCC-00046 ERCC-00048 ERCC-00051 ERCC-00053 ERCC-00054 ERCC-00057 ERCC-00058 ERCC-00059 ERCC-00060 ERCC-00061 ERCC-00062 ERCC-00067 ERCC-00069 ERCC-00071 ERCC-00073 ERCC-00074 ERCC-00075 ERCC-00076 ERCC-00077 ERCC-00078 ERCC-00079 ERCC-00081 ERCC-00083 ERCC-00084 ERCC-00085 ERCC-00086 ERCC-00092 ERCC-00095 ERCC-00096 ERCC-00097 ERCC-00098 ERCC-00099 ERCC-00104 ERCC-00108 ERCC-00109 ERCC-00111 ERCC-00112 ERCC-00113 ERCC-00116 ERCC-00117 ERCC-00120 ERCC-00123 ERCC-00126 ERCC-00130 ERCC-00131 ERCC-00134 ERCC-00136 ERCC-00137 ERCC-00138 ERCC-00142 ERCC-00143 ERCC-00144 ERCC-00145 ERCC-00147 ERCC-00148 ERCC-00150 ERCC-00154 ERCC-00156 ERCC-00157 ERCC-00158 ERCC-00160 ERCC-00162 ERCC-00163 ERCC-00164 ERCC-00165 ERCC-00168 ERCC-00170 ERCC-00171 > \""
   ]
  },
  {
   "cell_type": "code",
   "execution_count": 31,
   "id": "bfde4288",
   "metadata": {
    "collapsed": true
   },
   "outputs": [
    {
     "name": "stdout",
     "output_type": "stream",
     "text": [
      "samtools view -hb ../../data/slamseq_MYB_degraded_coculture_v1/res/filter/mr571-MV411-DMSO_coculture_12h-r1_filtered.bam ERCC-00002 ERCC-00003 ERCC-00004 ERCC-00009 ERCC-00012 ERCC-00013 ERCC-00014 ERCC-00016 ERCC-00017 ERCC-00019 ERCC-00022 ERCC-00024 ERCC-00025 ERCC-00028 ERCC-00031 ERCC-00033 ERCC-00034 ERCC-00035 ERCC-00039 ERCC-00040 ERCC-00041 ERCC-00042 ERCC-00043 ERCC-00044 ERCC-00046 ERCC-00048 ERCC-00051 ERCC-00053 ERCC-00054 ERCC-00057 ERCC-00058 ERCC-00059 ERCC-00060 ERCC-00061 ERCC-00062 ERCC-00067 ERCC-00069 ERCC-00071 ERCC-00073 ERCC-00074 ERCC-00075 ERCC-00076 ERCC-00077 ERCC-00078 ERCC-00079 ERCC-00081 ERCC-00083 ERCC-00084 ERCC-00085 ERCC-00086 ERCC-00092 ERCC-00095 ERCC-00096 ERCC-00097 ERCC-00098 ERCC-00099 ERCC-00104 ERCC-00108 ERCC-00109 ERCC-00111 ERCC-00112 ERCC-00113 ERCC-00116 ERCC-00117 ERCC-00120 ERCC-00123 ERCC-00126 ERCC-00130 ERCC-00131 ERCC-00134 ERCC-00136 ERCC-00137 ERCC-00138 ERCC-00142 ERCC-00143 ERCC-00144 ERCC-00145 ERCC-00147 ERCC-00148 ERCC-00150 ERCC-00154 ERCC-00156 ERCC-00157 ERCC-00158 ERCC-00160 ERCC-00162 ERCC-00163 ERCC-00164 ERCC-00165 ERCC-00168 ERCC-00170 ERCC-00171 > ../../data/slamseq_MYB_degraded_coculture_v1/res/filter/ERCC_mr571-MV411-DMSO_coculture_12h-r1_filtered.bam\n"
     ]
    }
   ],
   "source": [
    "print([\"samtools view -hb \"+folder+\"/\"+f+specified_regions+folder+\"/ERCC_\"+f for f in files][0])"
   ]
  },
  {
   "cell_type": "code",
   "execution_count": 32,
   "id": "e2a58017",
   "metadata": {
    "collapsed": true
   },
   "outputs": [
    {
     "data": {
      "text/plain": [
       "['', '']"
      ]
     },
     "execution_count": 32,
     "metadata": {},
     "output_type": "execute_result"
    }
   ],
   "source": [
    "# bam with alignments overlpping over ERCC regions\n",
    "h.parrun([\"samtools view -hb \"+folder+\"/\"+f+specified_regions+folder+\"/ERCC_\"+f for f in files], cores=10)"
   ]
  },
  {
   "cell_type": "code",
   "execution_count": 33,
   "id": "150b3a1e",
   "metadata": {
    "collapsed": true
   },
   "outputs": [
    {
     "data": {
      "text/plain": [
       "['', '']"
      ]
     },
     "execution_count": 33,
     "metadata": {},
     "output_type": "execute_result"
    }
   ],
   "source": [
    "# compute histogram , per-base reports, & bedgraph summaries of feature coverage\n",
    "# computes coverage over ERCC genes --> # of transcripts mapped to each gene as bed\n",
    "h.parrun([\"bedtools genomecov -ibam \"+folder+\"/ERCC_\"+f+\" > \"+folder+\"/ERCC_\"+f+\".bed\" for f in files], cores=10)"
   ]
  },
  {
   "cell_type": "code",
   "execution_count": 36,
   "id": "81441a1d",
   "metadata": {
    "collapsed": true
   },
   "outputs": [
    {
     "name": "stdout",
     "output_type": "stream",
     "text": [
      "19\n"
     ]
    }
   ],
   "source": [
    "# ERCC files\n",
    "files = ! ls $folder/ERCC*.bam\n",
    "files = [file.split('/')[-1] for file in files if \"ERCC\" in file if file.endswith(\".bam\")]\n",
    "print(len(files))"
   ]
  },
  {
   "cell_type": "code",
   "execution_count": 37,
   "id": "eb71ddeb",
   "metadata": {},
   "outputs": [],
   "source": [
    "ERCC = [\"ERCC-00002\", \"ERCC-00003\", \"ERCC-00004\", \"ERCC-00009\", \"ERCC-00012\", \"ERCC-00013\", \n",
    "        \"ERCC-00014\", \"ERCC-00016\", \"ERCC-00017\", \"ERCC-00019\", \"ERCC-00022\", \"ERCC-00024\", \n",
    "        \"ERCC-00025\", \"ERCC-00028\", \"ERCC-00031\", \"ERCC-00033\", \"ERCC-00034\", \"ERCC-00035\", \n",
    "        \"ERCC-00039\", \"ERCC-00040\", \"ERCC-00041\", \"ERCC-00042\", \"ERCC-00043\", \"ERCC-00044\", \n",
    "        \"ERCC-00046\", \"ERCC-00048\", \"ERCC-00051\", \"ERCC-00053\", \"ERCC-00054\", \"ERCC-00057\", \n",
    "        \"ERCC-00058\", \"ERCC-00059\", \"ERCC-00060\", \"ERCC-00061\", \"ERCC-00062\", \"ERCC-00067\", \n",
    "        \"ERCC-00069\", \"ERCC-00071\", \"ERCC-00073\", \"ERCC-00074\", \"ERCC-00075\", \"ERCC-00076\", \n",
    "        \"ERCC-00077\", \"ERCC-00078\", \"ERCC-00079\", \"ERCC-00081\", \"ERCC-00083\", \"ERCC-00084\", \n",
    "        \"ERCC-00085\", \"ERCC-00086\", \"ERCC-00092\", \"ERCC-00095\", \"ERCC-00096\", \"ERCC-00097\", \n",
    "        \"ERCC-00098\", \"ERCC-00099\", \"ERCC-00104\", \"ERCC-00108\", \"ERCC-00109\", \"ERCC-00111\", \n",
    "        \"ERCC-00112\", \"ERCC-00113\", \"ERCC-00116\", \"ERCC-00117\", \"ERCC-00120\", \"ERCC-00123\", \n",
    "        \"ERCC-00126\", \"ERCC-00130\", \"ERCC-00131\", \"ERCC-00134\", \"ERCC-00136\", \"ERCC-00137\", \n",
    "        \"ERCC-00138\", \"ERCC-00142\", \"ERCC-00143\", \"ERCC-00144\", \"ERCC-00145\", \"ERCC-00147\", \n",
    "        \"ERCC-00148\", \"ERCC-00150\", \"ERCC-00154\", \"ERCC-00156\", \"ERCC-00157\", \"ERCC-00158\", \n",
    "        \"ERCC-00160\", \"ERCC-00162\", \"ERCC-00163\", \"ERCC-00164\", \"ERCC-00165\", \"ERCC-00168\", \n",
    "        \"ERCC-00170\", \"ERCC-00171\"]\n",
    "\n",
    "# parse ERCC bed files\n",
    "res  = {i:[] for i in files}\n",
    "for val in files:\n",
    "    cov = pd.read_csv(folder+\"/\"+val+'.bed',sep=\"\\t\",header=None)\n",
    "    for i in ERCC:\n",
    "        res[val].append(cov[cov[0]==i][1].mean())\n",
    "df = pd.DataFrame(data=res,index=ERCC)"
   ]
  },
  {
   "cell_type": "code",
   "execution_count": 39,
   "id": "3a40d847",
   "metadata": {},
   "outputs": [
    {
     "name": "stdout",
     "output_type": "stream",
     "text": [
      "(92, 19)\n"
     ]
    },
    {
     "data": {
      "text/html": [
       "<div>\n",
       "<style scoped>\n",
       "    .dataframe tbody tr th:only-of-type {\n",
       "        vertical-align: middle;\n",
       "    }\n",
       "\n",
       "    .dataframe tbody tr th {\n",
       "        vertical-align: top;\n",
       "    }\n",
       "\n",
       "    .dataframe thead th {\n",
       "        text-align: right;\n",
       "    }\n",
       "</style>\n",
       "<table border=\"1\" class=\"dataframe\">\n",
       "  <thead>\n",
       "    <tr style=\"text-align: right;\">\n",
       "      <th></th>\n",
       "      <th>ERCC_mr571-MV411-DMSO_coculture_12h-r1_filtered.bam</th>\n",
       "      <th>ERCC_mr572-MV411-DMSO_coculture_12h-r2_filtered.bam</th>\n",
       "      <th>ERCC_mr573-MV411-DMSO_coculture_12h-r3_filtered.bam</th>\n",
       "      <th>ERCC_mr574-MV411-DMSO_coculture_12h-r4_filtered.bam</th>\n",
       "      <th>ERCC_mr575-MV411-DMSO_coculture_12h-r5_filtered.bam</th>\n",
       "      <th>ERCC_mr576-MV411-VHL_coculture_12h-r1_filtered.bam</th>\n",
       "      <th>ERCC_mr577-MV411-VHL_coculture_12h-r2_filtered.bam</th>\n",
       "      <th>ERCC_mr578-MV411-VHL_coculture_12h-r3_filtered.bam</th>\n",
       "      <th>ERCC_mr579-MV411-VHL_coculture_12h-r4_filtered.bam</th>\n",
       "      <th>ERCC_mr580-MV411-VHL_coculture_12h-r5_filtered.bam</th>\n",
       "      <th>ERCC_mr581-MV411-MYB-dTAG-DMSO_coculture_12h-r1_filtered.bam</th>\n",
       "      <th>ERCC_mr582-MV411-MYB-dTAG-DMSO_coculture_12h-r2_filtered.bam</th>\n",
       "      <th>ERCC_mr583-MV411-MYB-dTAG-DMSO_coculture_12h-r3_filtered.bam</th>\n",
       "      <th>ERCC_mr584-MV411-MYB-dTAG-DMSO_coculture_12h-r4_filtered.bam</th>\n",
       "      <th>ERCC_mr585-MV411-MYB-dTAG-VHL_coculture_12h-r1_filtered.bam</th>\n",
       "      <th>ERCC_mr586-MV411-MYB-dTAG-VHL_coculture_12h-r2_filtered.bam</th>\n",
       "      <th>ERCC_mr587-MV411-MYB-dTAG-VHL_coculture_12h-r3_filtered.bam</th>\n",
       "      <th>ERCC_mr588-MV411-MYB-dTAG-VHL_coculture_12h-r4_filtered.bam</th>\n",
       "      <th>ERCC_mr589-MV411-MYB-dTAG-VHL_coculture_12h-r5_filtered.bam</th>\n",
       "    </tr>\n",
       "  </thead>\n",
       "  <tbody>\n",
       "    <tr>\n",
       "      <th>ERCC-00002</th>\n",
       "      <td>53683.218095</td>\n",
       "      <td>52974.509056</td>\n",
       "      <td>50074.010436</td>\n",
       "      <td>37472.060115</td>\n",
       "      <td>48849.293269</td>\n",
       "      <td>42212.129187</td>\n",
       "      <td>73044.988626</td>\n",
       "      <td>53828.882353</td>\n",
       "      <td>43545.977165</td>\n",
       "      <td>52834.806268</td>\n",
       "      <td>55105.484330</td>\n",
       "      <td>42787.013346</td>\n",
       "      <td>44797.333333</td>\n",
       "      <td>43652.748811</td>\n",
       "      <td>55919.558627</td>\n",
       "      <td>43329.444976</td>\n",
       "      <td>32358.905263</td>\n",
       "      <td>68241.846154</td>\n",
       "      <td>53148.351377</td>\n",
       "    </tr>\n",
       "    <tr>\n",
       "      <th>ERCC-00003</th>\n",
       "      <td>8094.835443</td>\n",
       "      <td>7520.690065</td>\n",
       "      <td>7002.001053</td>\n",
       "      <td>7148.678762</td>\n",
       "      <td>7027.000000</td>\n",
       "      <td>6785.163309</td>\n",
       "      <td>12346.822467</td>\n",
       "      <td>6994.958246</td>\n",
       "      <td>6936.847872</td>\n",
       "      <td>8339.302204</td>\n",
       "      <td>9717.495327</td>\n",
       "      <td>7761.297155</td>\n",
       "      <td>8303.587924</td>\n",
       "      <td>5945.741416</td>\n",
       "      <td>11689.672521</td>\n",
       "      <td>7434.288421</td>\n",
       "      <td>5429.046154</td>\n",
       "      <td>9015.001036</td>\n",
       "      <td>8812.946225</td>\n",
       "    </tr>\n",
       "  </tbody>\n",
       "</table>\n",
       "</div>"
      ],
      "text/plain": [
       "            ERCC_mr571-MV411-DMSO_coculture_12h-r1_filtered.bam  \\\n",
       "ERCC-00002                                       53683.218095     \n",
       "ERCC-00003                                        8094.835443     \n",
       "\n",
       "            ERCC_mr572-MV411-DMSO_coculture_12h-r2_filtered.bam  \\\n",
       "ERCC-00002                                       52974.509056     \n",
       "ERCC-00003                                        7520.690065     \n",
       "\n",
       "            ERCC_mr573-MV411-DMSO_coculture_12h-r3_filtered.bam  \\\n",
       "ERCC-00002                                       50074.010436     \n",
       "ERCC-00003                                        7002.001053     \n",
       "\n",
       "            ERCC_mr574-MV411-DMSO_coculture_12h-r4_filtered.bam  \\\n",
       "ERCC-00002                                       37472.060115     \n",
       "ERCC-00003                                        7148.678762     \n",
       "\n",
       "            ERCC_mr575-MV411-DMSO_coculture_12h-r5_filtered.bam  \\\n",
       "ERCC-00002                                       48849.293269     \n",
       "ERCC-00003                                        7027.000000     \n",
       "\n",
       "            ERCC_mr576-MV411-VHL_coculture_12h-r1_filtered.bam  \\\n",
       "ERCC-00002                                       42212.129187    \n",
       "ERCC-00003                                        6785.163309    \n",
       "\n",
       "            ERCC_mr577-MV411-VHL_coculture_12h-r2_filtered.bam  \\\n",
       "ERCC-00002                                       73044.988626    \n",
       "ERCC-00003                                       12346.822467    \n",
       "\n",
       "            ERCC_mr578-MV411-VHL_coculture_12h-r3_filtered.bam  \\\n",
       "ERCC-00002                                       53828.882353    \n",
       "ERCC-00003                                        6994.958246    \n",
       "\n",
       "            ERCC_mr579-MV411-VHL_coculture_12h-r4_filtered.bam  \\\n",
       "ERCC-00002                                       43545.977165    \n",
       "ERCC-00003                                        6936.847872    \n",
       "\n",
       "            ERCC_mr580-MV411-VHL_coculture_12h-r5_filtered.bam  \\\n",
       "ERCC-00002                                       52834.806268    \n",
       "ERCC-00003                                        8339.302204    \n",
       "\n",
       "            ERCC_mr581-MV411-MYB-dTAG-DMSO_coculture_12h-r1_filtered.bam  \\\n",
       "ERCC-00002                                       55105.484330              \n",
       "ERCC-00003                                        9717.495327              \n",
       "\n",
       "            ERCC_mr582-MV411-MYB-dTAG-DMSO_coculture_12h-r2_filtered.bam  \\\n",
       "ERCC-00002                                       42787.013346              \n",
       "ERCC-00003                                        7761.297155              \n",
       "\n",
       "            ERCC_mr583-MV411-MYB-dTAG-DMSO_coculture_12h-r3_filtered.bam  \\\n",
       "ERCC-00002                                       44797.333333              \n",
       "ERCC-00003                                        8303.587924              \n",
       "\n",
       "            ERCC_mr584-MV411-MYB-dTAG-DMSO_coculture_12h-r4_filtered.bam  \\\n",
       "ERCC-00002                                       43652.748811              \n",
       "ERCC-00003                                        5945.741416              \n",
       "\n",
       "            ERCC_mr585-MV411-MYB-dTAG-VHL_coculture_12h-r1_filtered.bam  \\\n",
       "ERCC-00002                                       55919.558627             \n",
       "ERCC-00003                                       11689.672521             \n",
       "\n",
       "            ERCC_mr586-MV411-MYB-dTAG-VHL_coculture_12h-r2_filtered.bam  \\\n",
       "ERCC-00002                                       43329.444976             \n",
       "ERCC-00003                                        7434.288421             \n",
       "\n",
       "            ERCC_mr587-MV411-MYB-dTAG-VHL_coculture_12h-r3_filtered.bam  \\\n",
       "ERCC-00002                                       32358.905263             \n",
       "ERCC-00003                                        5429.046154             \n",
       "\n",
       "            ERCC_mr588-MV411-MYB-dTAG-VHL_coculture_12h-r4_filtered.bam  \\\n",
       "ERCC-00002                                       68241.846154             \n",
       "ERCC-00003                                        9015.001036             \n",
       "\n",
       "            ERCC_mr589-MV411-MYB-dTAG-VHL_coculture_12h-r5_filtered.bam  \n",
       "ERCC-00002                                       53148.351377            \n",
       "ERCC-00003                                        8812.946225            "
      ]
     },
     "execution_count": 39,
     "metadata": {},
     "output_type": "execute_result"
    }
   ],
   "source": [
    "print(df.shape)\n",
    "df.iloc[:2]"
   ]
  },
  {
   "cell_type": "markdown",
   "id": "4dcf1061",
   "metadata": {},
   "source": [
    "__fill in project manually__"
   ]
  },
  {
   "cell_type": "code",
   "execution_count": 40,
   "id": "2ec89bb6",
   "metadata": {},
   "outputs": [
    {
     "data": {
      "text/plain": [
       "'MYB_degraded_coculture_v1'"
      ]
     },
     "execution_count": 40,
     "metadata": {},
     "output_type": "execute_result"
    }
   ],
   "source": [
    "project"
   ]
  },
  {
   "cell_type": "code",
   "execution_count": 41,
   "id": "973b68b5",
   "metadata": {
    "collapsed": true
   },
   "outputs": [
    {
     "name": "stdout",
     "output_type": "stream",
     "text": [
      "19\n"
     ]
    },
    {
     "data": {
      "text/plain": [
       "[116115122,\n",
       " 122557909,\n",
       " 94060062,\n",
       " 106222495,\n",
       " 97298474,\n",
       " 122370456,\n",
       " 154707388,\n",
       " 113054292,\n",
       " 105815356,\n",
       " 120532566,\n",
       " 113496159,\n",
       " 116067712,\n",
       " 135090114,\n",
       " 115925905,\n",
       " 131485425,\n",
       " 102826143,\n",
       " 78880188,\n",
       " 105131087,\n",
       " 124090894]"
      ]
     },
     "execution_count": 41,
     "metadata": {},
     "output_type": "execute_result"
    }
   ],
   "source": [
    "# (fill in project manually) same as previous run w/o -rl\n",
    "totalcounts = ! for unkn in $(ls ../../data/slamseq_MYB_degraded_coculture_v1/res/filter/mr*.bam); do samtools view -c -F 260 $unkn; done\n",
    "totalcounts = [int(i) for i in totalcounts]\n",
    "print(len(totalcounts))\n",
    "totalcounts"
   ]
  },
  {
   "cell_type": "code",
   "execution_count": 42,
   "id": "e17828ee",
   "metadata": {
    "collapsed": true
   },
   "outputs": [
    {
     "name": "stdout",
     "output_type": "stream",
     "text": [
      "19\n"
     ]
    },
    {
     "data": {
      "text/plain": [
       "['mr571-MV411-DMSO_coculture_12h-r1',\n",
       " 'mr572-MV411-DMSO_coculture_12h-r2',\n",
       " 'mr573-MV411-DMSO_coculture_12h-r3',\n",
       " 'mr574-MV411-DMSO_coculture_12h-r4',\n",
       " 'mr575-MV411-DMSO_coculture_12h-r5',\n",
       " 'mr576-MV411-VHL_coculture_12h-r1',\n",
       " 'mr577-MV411-VHL_coculture_12h-r2',\n",
       " 'mr578-MV411-VHL_coculture_12h-r3',\n",
       " 'mr579-MV411-VHL_coculture_12h-r4',\n",
       " 'mr580-MV411-VHL_coculture_12h-r5',\n",
       " 'mr581-MV411-MYB-dTAG-DMSO_coculture_12h-r1',\n",
       " 'mr582-MV411-MYB-dTAG-DMSO_coculture_12h-r2',\n",
       " 'mr583-MV411-MYB-dTAG-DMSO_coculture_12h-r3',\n",
       " 'mr584-MV411-MYB-dTAG-DMSO_coculture_12h-r4',\n",
       " 'mr585-MV411-MYB-dTAG-VHL_coculture_12h-r1',\n",
       " 'mr586-MV411-MYB-dTAG-VHL_coculture_12h-r2',\n",
       " 'mr587-MV411-MYB-dTAG-VHL_coculture_12h-r3',\n",
       " 'mr588-MV411-MYB-dTAG-VHL_coculture_12h-r4',\n",
       " 'mr589-MV411-MYB-dTAG-VHL_coculture_12h-r5']"
      ]
     },
     "execution_count": 42,
     "metadata": {},
     "output_type": "execute_result"
    }
   ],
   "source": [
    "samples = ! ls ../../data/slamseq_$project/res/filter/mr*.bam\n",
    "samples = [os.path.basename(sample) for sample in samples]\n",
    "samples = [sample.split(\"_filtered.bam\")[0] for sample in samples]\n",
    "print(len(samples))\n",
    "samples"
   ]
  },
  {
   "cell_type": "code",
   "execution_count": 43,
   "id": "ecbd3a8d",
   "metadata": {
    "collapsed": true
   },
   "outputs": [
    {
     "data": {
      "text/plain": [
       "mr571-MV411-DMSO_coculture_12h-r1             116115122\n",
       "mr572-MV411-DMSO_coculture_12h-r2             122557909\n",
       "mr573-MV411-DMSO_coculture_12h-r3              94060062\n",
       "mr574-MV411-DMSO_coculture_12h-r4             106222495\n",
       "mr575-MV411-DMSO_coculture_12h-r5              97298474\n",
       "mr576-MV411-VHL_coculture_12h-r1              122370456\n",
       "mr577-MV411-VHL_coculture_12h-r2              154707388\n",
       "mr578-MV411-VHL_coculture_12h-r3              113054292\n",
       "mr579-MV411-VHL_coculture_12h-r4              105815356\n",
       "mr580-MV411-VHL_coculture_12h-r5              120532566\n",
       "mr581-MV411-MYB-dTAG-DMSO_coculture_12h-r1    113496159\n",
       "mr582-MV411-MYB-dTAG-DMSO_coculture_12h-r2    116067712\n",
       "mr583-MV411-MYB-dTAG-DMSO_coculture_12h-r3    135090114\n",
       "mr584-MV411-MYB-dTAG-DMSO_coculture_12h-r4    115925905\n",
       "mr585-MV411-MYB-dTAG-VHL_coculture_12h-r1     131485425\n",
       "mr586-MV411-MYB-dTAG-VHL_coculture_12h-r2     102826143\n",
       "mr587-MV411-MYB-dTAG-VHL_coculture_12h-r3      78880188\n",
       "mr588-MV411-MYB-dTAG-VHL_coculture_12h-r4     105131087\n",
       "mr589-MV411-MYB-dTAG-VHL_coculture_12h-r5     124090894\n",
       "dtype: int64"
      ]
     },
     "execution_count": 43,
     "metadata": {},
     "output_type": "execute_result"
    }
   ],
   "source": [
    "pd.Series(totalcounts, index=samples)"
   ]
  },
  {
   "cell_type": "code",
   "execution_count": 44,
   "id": "8fc8301f",
   "metadata": {},
   "outputs": [],
   "source": [
    "# add total counts to csv series\n",
    "totalcounts_csv = pd.Series(totalcounts, index=samples)\n",
    "# save total counts\n",
    "totalcounts_csv.to_csv(\"../results/slamseq_\"+project+\"/\"+project+\"_totalcounts.csv\", header=False)"
   ]
  },
  {
   "cell_type": "markdown",
   "id": "2321229d",
   "metadata": {},
   "source": [
    "calc pseudocounts / scaling factors"
   ]
  },
  {
   "cell_type": "code",
   "execution_count": 45,
   "id": "4826f9ed",
   "metadata": {},
   "outputs": [],
   "source": [
    "# column avg * 10,000 / total column counts\n",
    "# how much ERCC / reads per sample\n",
    "res = 10000*df.mean()/totalcounts"
   ]
  },
  {
   "cell_type": "code",
   "execution_count": 46,
   "id": "8970472d",
   "metadata": {
    "scrolled": true
   },
   "outputs": [
    {
     "data": {
      "text/plain": [
       "ERCC_mr571-MV411-DMSO_coculture_12h-r1_filtered.bam             0.262719\n",
       "ERCC_mr572-MV411-DMSO_coculture_12h-r2_filtered.bam             0.255045\n",
       "ERCC_mr573-MV411-DMSO_coculture_12h-r3_filtered.bam             0.359446\n",
       "ERCC_mr574-MV411-DMSO_coculture_12h-r4_filtered.bam             0.244661\n",
       "ERCC_mr575-MV411-DMSO_coculture_12h-r5_filtered.bam             0.307137\n",
       "ERCC_mr576-MV411-VHL_coculture_12h-r1_filtered.bam              0.218961\n",
       "ERCC_mr577-MV411-VHL_coculture_12h-r2_filtered.bam              0.313618\n",
       "ERCC_mr578-MV411-VHL_coculture_12h-r3_filtered.bam              0.293663\n",
       "ERCC_mr579-MV411-VHL_coculture_12h-r4_filtered.bam              0.254574\n",
       "ERCC_mr580-MV411-VHL_coculture_12h-r5_filtered.bam              0.272461\n",
       "ERCC_mr581-MV411-MYB-dTAG-DMSO_coculture_12h-r1_filtered.bam    0.339397\n",
       "ERCC_mr582-MV411-MYB-dTAG-DMSO_coculture_12h-r2_filtered.bam    0.252033\n",
       "ERCC_mr583-MV411-MYB-dTAG-DMSO_coculture_12h-r3_filtered.bam    0.214111\n",
       "ERCC_mr584-MV411-MYB-dTAG-DMSO_coculture_12h-r4_filtered.bam    0.230762\n",
       "ERCC_mr585-MV411-MYB-dTAG-VHL_coculture_12h-r1_filtered.bam     0.301323\n",
       "ERCC_mr586-MV411-MYB-dTAG-VHL_coculture_12h-r2_filtered.bam     0.292297\n",
       "ERCC_mr587-MV411-MYB-dTAG-VHL_coculture_12h-r3_filtered.bam     0.240086\n",
       "ERCC_mr588-MV411-MYB-dTAG-VHL_coculture_12h-r4_filtered.bam     0.432270\n",
       "ERCC_mr589-MV411-MYB-dTAG-VHL_coculture_12h-r5_filtered.bam     0.285290\n",
       "dtype: float64"
      ]
     },
     "execution_count": 46,
     "metadata": {},
     "output_type": "execute_result"
    }
   ],
   "source": [
    "res"
   ]
  },
  {
   "cell_type": "code",
   "execution_count": 47,
   "id": "619f9311",
   "metadata": {},
   "outputs": [
    {
     "name": "stdout",
     "output_type": "stream",
     "text": [
      "[0.21411078 0.24834679 0.27246068 0.30422972 0.4322698 ]\n"
     ]
    }
   ],
   "source": [
    "print(np.percentile(res.values, [0,25,50,75,100]))"
   ]
  },
  {
   "cell_type": "code",
   "execution_count": 48,
   "id": "7a0bddc3",
   "metadata": {},
   "outputs": [
    {
     "name": "stdout",
     "output_type": "stream",
     "text": [
      "Creating output directory: ../results/slamseq_MYB_degraded_coculture_v1/plots/\n"
     ]
    }
   ],
   "source": [
    "# save ERCC pseudocounts\n",
    "res_dir = \"../results/slamseq_\"+project+\"/\"\n",
    "createDir(res_dir+\"plots/\")\n",
    "res.to_csv(res_dir+project+\"_scaling_factors.csv\", header=False)"
   ]
  },
  {
   "cell_type": "markdown",
   "id": "7d81c1ac",
   "metadata": {},
   "source": [
    "### calc ERCC scaling factors"
   ]
  },
  {
   "cell_type": "code",
   "execution_count": 60,
   "id": "13bbb69a",
   "metadata": {},
   "outputs": [],
   "source": [
    "from natsort import natsorted, ns\n",
    "from collections import Counter"
   ]
  },
  {
   "cell_type": "code",
   "execution_count": 57,
   "id": "7a7e1f8c",
   "metadata": {
    "scrolled": true
   },
   "outputs": [
    {
     "data": {
      "text/plain": [
       "'MV411-DMSO_coculture_12h'"
      ]
     },
     "execution_count": 57,
     "metadata": {},
     "output_type": "execute_result"
    }
   ],
   "source": [
    "res.keys()[0].split(\"-\", 1)[1].split(\"-r\")[0]"
   ]
  },
  {
   "cell_type": "code",
   "execution_count": 58,
   "id": "9c8e20f6",
   "metadata": {
    "collapsed": true
   },
   "outputs": [
    {
     "data": {
      "text/plain": [
       "['MV411-DMSO_coculture_12h',\n",
       " 'MV411-DMSO_coculture_12h',\n",
       " 'MV411-DMSO_coculture_12h',\n",
       " 'MV411-DMSO_coculture_12h',\n",
       " 'MV411-DMSO_coculture_12h',\n",
       " 'MV411-VHL_coculture_12h',\n",
       " 'MV411-VHL_coculture_12h',\n",
       " 'MV411-VHL_coculture_12h',\n",
       " 'MV411-VHL_coculture_12h',\n",
       " 'MV411-VHL_coculture_12h',\n",
       " 'MV411-MYB-dTAG-DMSO_coculture_12h',\n",
       " 'MV411-MYB-dTAG-DMSO_coculture_12h',\n",
       " 'MV411-MYB-dTAG-DMSO_coculture_12h',\n",
       " 'MV411-MYB-dTAG-DMSO_coculture_12h',\n",
       " 'MV411-MYB-dTAG-VHL_coculture_12h',\n",
       " 'MV411-MYB-dTAG-VHL_coculture_12h',\n",
       " 'MV411-MYB-dTAG-VHL_coculture_12h',\n",
       " 'MV411-MYB-dTAG-VHL_coculture_12h',\n",
       " 'MV411-MYB-dTAG-VHL_coculture_12h']"
      ]
     },
     "execution_count": 58,
     "metadata": {},
     "output_type": "execute_result"
    }
   ],
   "source": [
    "[r.split(\"-\", 1)[1].split(\"-r\",)[0] for r in res.keys()]"
   ]
  },
  {
   "cell_type": "markdown",
   "id": "64e825d0",
   "metadata": {},
   "source": [
    "mean over replicates\n",
    "<br>take values for each replicate and get average scaling factor"
   ]
  },
  {
   "cell_type": "code",
   "execution_count": 66,
   "id": "9a648036",
   "metadata": {},
   "outputs": [
    {
     "name": "stdout",
     "output_type": "stream",
     "text": [
      "MV411-DMSO_coculture_12h: [0.2858014413967712, 0.042544170285098735]\n",
      "MV411-VHL_coculture_12h: [0.27065517304449116, 0.032586241776154684]\n",
      "MV411-MYB-dTAG-DMSO_coculture_12h: [0.25907561021281117, 0.04828196291568034]\n",
      "MV411-MYB-dTAG-VHL_coculture_12h: [0.3102531161060759, 0.06455513754649658]\n"
     ]
    }
   ],
   "source": [
    "# replicates per condition\n",
    "reps = [r.split(\"-\", 1)[1].split(\"-r\",)[0] for r in res.keys()]\n",
    "\n",
    "prev=0\n",
    "r={}\n",
    "# get mean and variance of replicates per condition\n",
    "for val in list(Counter(reps).values()):\n",
    "    print(res.keys()[prev].split(\"-\", 1)[1].split(\"-r\")[0]+\": \"+\n",
    "          str([np.mean(res[prev:prev+val]), np.var(res[prev:prev+val])**(1/2)]))\n",
    "    r[res.keys()[prev].split(\"-\", 1)[1].split(\"-r\")[0]]=\\\n",
    "    [np.mean(res[prev:prev+val]), np.var(res[prev:prev+val])**(1/2)]\n",
    "    prev+=val"
   ]
  },
  {
   "cell_type": "markdown",
   "id": "3ec207ab",
   "metadata": {},
   "source": [
    "count distribution of ERCC\n",
    "* linear vs non-linear distributions\n",
    "* shows the highest pseudo-RNAs and lowest concentrations are both adequately represented on the curve (should be linear)"
   ]
  },
  {
   "cell_type": "code",
   "execution_count": 72,
   "id": "180c609b",
   "metadata": {},
   "outputs": [
    {
     "name": "stdout",
     "output_type": "stream",
     "text": [
      "[0.21411078 0.24834679 0.27246068 0.30422972 0.4322698 ]\n"
     ]
    },
    {
     "data": {
      "text/plain": [
       "[<matplotlib.lines.Line2D at 0x7fb9aff393a0>]"
      ]
     },
     "execution_count": 72,
     "metadata": {},
     "output_type": "execute_result"
    },
    {
     "data": {
      "image/png": "[encoded data removed]",
      "text/plain": [
       "<Figure size 432x288 with 1 Axes>"
      ]
     },
     "metadata": {
      "needs_background": "light"
     },
     "output_type": "display_data"
    }
   ],
   "source": [
    "print(np.quantile(res.tolist(), [0,0.25,0.5,0.75,1]))\n",
    "plt.plot(range(1, len(res)+1), sorted(res.tolist()), '-ok')"
   ]
  },
  {
   "cell_type": "code",
   "execution_count": 73,
   "id": "1a182020",
   "metadata": {},
   "outputs": [
    {
     "data": {
      "text/html": [
       "<div>\n",
       "<style scoped>\n",
       "    .dataframe tbody tr th:only-of-type {\n",
       "        vertical-align: middle;\n",
       "    }\n",
       "\n",
       "    .dataframe tbody tr th {\n",
       "        vertical-align: top;\n",
       "    }\n",
       "\n",
       "    .dataframe thead th {\n",
       "        text-align: right;\n",
       "    }\n",
       "</style>\n",
       "<table border=\"1\" class=\"dataframe\">\n",
       "  <thead>\n",
       "    <tr style=\"text-align: right;\">\n",
       "      <th></th>\n",
       "      <th>ERCC pseudo-counts</th>\n",
       "      <th>var</th>\n",
       "      <th>Experiments</th>\n",
       "    </tr>\n",
       "  </thead>\n",
       "  <tbody>\n",
       "    <tr>\n",
       "      <th>MV411-DMSO_coculture_12h</th>\n",
       "      <td>0.285801</td>\n",
       "      <td>0.042544</td>\n",
       "      <td>MV411-DMSO_coculture_12h</td>\n",
       "    </tr>\n",
       "    <tr>\n",
       "      <th>MV411-VHL_coculture_12h</th>\n",
       "      <td>0.270655</td>\n",
       "      <td>0.032586</td>\n",
       "      <td>MV411-VHL_coculture_12h</td>\n",
       "    </tr>\n",
       "    <tr>\n",
       "      <th>MV411-MYB-dTAG-DMSO_coculture_12h</th>\n",
       "      <td>0.259076</td>\n",
       "      <td>0.048282</td>\n",
       "      <td>MV411-MYB-dTAG-DMSO_coculture_12h</td>\n",
       "    </tr>\n",
       "    <tr>\n",
       "      <th>MV411-MYB-dTAG-VHL_coculture_12h</th>\n",
       "      <td>0.310253</td>\n",
       "      <td>0.064555</td>\n",
       "      <td>MV411-MYB-dTAG-VHL_coculture_12h</td>\n",
       "    </tr>\n",
       "  </tbody>\n",
       "</table>\n",
       "</div>"
      ],
      "text/plain": [
       "                                   ERCC pseudo-counts       var  \\\n",
       "MV411-DMSO_coculture_12h                     0.285801  0.042544   \n",
       "MV411-VHL_coculture_12h                      0.270655  0.032586   \n",
       "MV411-MYB-dTAG-DMSO_coculture_12h            0.259076  0.048282   \n",
       "MV411-MYB-dTAG-VHL_coculture_12h             0.310253  0.064555   \n",
       "\n",
       "                                                         Experiments  \n",
       "MV411-DMSO_coculture_12h                    MV411-DMSO_coculture_12h  \n",
       "MV411-VHL_coculture_12h                      MV411-VHL_coculture_12h  \n",
       "MV411-MYB-dTAG-DMSO_coculture_12h  MV411-MYB-dTAG-DMSO_coculture_12h  \n",
       "MV411-MYB-dTAG-VHL_coculture_12h    MV411-MYB-dTAG-VHL_coculture_12h  "
      ]
     },
     "execution_count": 73,
     "metadata": {},
     "output_type": "execute_result"
    }
   ],
   "source": [
    "# df of DMSO vs treatment for each condition\n",
    "d = pd.DataFrame(data=r.values(), index=r.keys(), columns=['ERCC pseudo-counts','var'])\n",
    "d['Experiments'] = d.index\n",
    "d"
   ]
  },
  {
   "cell_type": "markdown",
   "id": "57de9562",
   "metadata": {},
   "source": [
    "ERCC scaling factors (measures ERCC counts)\n",
    "* treatment vs DMSO should be different\n",
    "* &uarr; ERCC factor = &darr; transcripts\n",
    "* protein level in treatment < DMSO: more ERCC transcripts in treatment than DMSO (less RNA transcripts)\n",
    "* scaling factors: treatment > DMSO - ERCC counts/scaling factors in treatment should be higher\n",
    "* scaling factor of control conditions should be similar"
   ]
  },
  {
   "cell_type": "code",
   "execution_count": 76,
   "id": "b4037507",
   "metadata": {},
   "outputs": [
    {
     "data": {
      "image/png": "[encoded data removed]",
      "text/plain": [
       "<Figure size 432x288 with 1 Axes>"
      ]
     },
     "metadata": {
      "needs_background": "light"
     },
     "output_type": "display_data"
    },
    {
     "name": "stdout",
     "output_type": "stream",
     "text": [
      "Saved to ../results/slamseq_MYB_degraded_coculture_v1/plots/MYB_degraded_coculture_v1_scaling_fact_with_conf.pdf\n"
     ]
    }
   ],
   "source": [
    "version = project.replace(\"_\", \" \").split(\" \")[-1]\n",
    "createDir(res_dir+\"/plots/\")\n",
    "\n",
    "# barplot of DMSO vs VHL for each condition\n",
    "sns.barplot(x=\"Experiments\", y=\"ERCC pseudo-counts\", data=d, ci=None, )\n",
    "plt.errorbar(x=range(0,len(d)), y=d['ERCC pseudo-counts'],\n",
    "             yerr=d['var'], fmt='none', ecolor=\"black\")\n",
    "plt.xticks(rotation=60, ha='right')\n",
    "plt.title(project.replace(\"_\", \" \").split(\" v\")[0])\n",
    "\n",
    "plt.savefig(res_dir+\"plots/\"+project+\"_scaling_fact_with_conf.pdf\", bbox_inches=\"tight\")\n",
    "plt.show()\n",
    "print(\"Saved to \"+res_dir+\"plots/\"+project+\"_scaling_fact_with_conf.pdf\")"
   ]
  },
  {
   "cell_type": "markdown",
   "id": "4cf3658e",
   "metadata": {},
   "source": [
    "__save average ERCC scaling factors__"
   ]
  },
  {
   "cell_type": "code",
   "execution_count": 78,
   "id": "b3166e1b",
   "metadata": {},
   "outputs": [
    {
     "data": {
      "text/html": [
       "<div>\n",
       "<style scoped>\n",
       "    .dataframe tbody tr th:only-of-type {\n",
       "        vertical-align: middle;\n",
       "    }\n",
       "\n",
       "    .dataframe tbody tr th {\n",
       "        vertical-align: top;\n",
       "    }\n",
       "\n",
       "    .dataframe thead th {\n",
       "        text-align: right;\n",
       "    }\n",
       "</style>\n",
       "<table border=\"1\" class=\"dataframe\">\n",
       "  <thead>\n",
       "    <tr style=\"text-align: right;\">\n",
       "      <th></th>\n",
       "      <th>ERCC pseudo-counts</th>\n",
       "      <th>var</th>\n",
       "      <th>Experiments</th>\n",
       "    </tr>\n",
       "  </thead>\n",
       "  <tbody>\n",
       "    <tr>\n",
       "      <th>MV411-DMSO_coculture_12h</th>\n",
       "      <td>0.285801</td>\n",
       "      <td>0.042544</td>\n",
       "      <td>MV411-DMSO_coculture_12h</td>\n",
       "    </tr>\n",
       "    <tr>\n",
       "      <th>MV411-VHL_coculture_12h</th>\n",
       "      <td>0.270655</td>\n",
       "      <td>0.032586</td>\n",
       "      <td>MV411-VHL_coculture_12h</td>\n",
       "    </tr>\n",
       "    <tr>\n",
       "      <th>MV411-MYB-dTAG-DMSO_coculture_12h</th>\n",
       "      <td>0.259076</td>\n",
       "      <td>0.048282</td>\n",
       "      <td>MV411-MYB-dTAG-DMSO_coculture_12h</td>\n",
       "    </tr>\n",
       "    <tr>\n",
       "      <th>MV411-MYB-dTAG-VHL_coculture_12h</th>\n",
       "      <td>0.310253</td>\n",
       "      <td>0.064555</td>\n",
       "      <td>MV411-MYB-dTAG-VHL_coculture_12h</td>\n",
       "    </tr>\n",
       "  </tbody>\n",
       "</table>\n",
       "</div>"
      ],
      "text/plain": [
       "                                   ERCC pseudo-counts       var  \\\n",
       "MV411-DMSO_coculture_12h                     0.285801  0.042544   \n",
       "MV411-VHL_coculture_12h                      0.270655  0.032586   \n",
       "MV411-MYB-dTAG-DMSO_coculture_12h            0.259076  0.048282   \n",
       "MV411-MYB-dTAG-VHL_coculture_12h             0.310253  0.064555   \n",
       "\n",
       "                                                         Experiments  \n",
       "MV411-DMSO_coculture_12h                    MV411-DMSO_coculture_12h  \n",
       "MV411-VHL_coculture_12h                      MV411-VHL_coculture_12h  \n",
       "MV411-MYB-dTAG-DMSO_coculture_12h  MV411-MYB-dTAG-DMSO_coculture_12h  \n",
       "MV411-MYB-dTAG-VHL_coculture_12h    MV411-MYB-dTAG-VHL_coculture_12h  "
      ]
     },
     "execution_count": 78,
     "metadata": {},
     "output_type": "execute_result"
    }
   ],
   "source": [
    "d"
   ]
  },
  {
   "cell_type": "code",
   "execution_count": 79,
   "id": "b92699ce",
   "metadata": {},
   "outputs": [],
   "source": [
    "# save avg ERCC pseudocounts\n",
    "res_dir = \"../results/slamseq_\"+project+\"/\"\n",
    "d.to_csv(res_dir+project+\"_scaling_factors_avg.csv\", header=True, index=True)"
   ]
  },
  {
   "cell_type": "markdown",
   "id": "54cdcb1f",
   "metadata": {},
   "source": [
    "## save the data to bucket"
   ]
  },
  {
   "cell_type": "code",
   "execution_count": 80,
   "id": "311b2682",
   "metadata": {},
   "outputs": [
    {
     "data": {
      "text/plain": [
       "'MYB_degraded_coculture_v1'"
      ]
     },
     "execution_count": 80,
     "metadata": {},
     "output_type": "execute_result"
    }
   ],
   "source": [
    "project"
   ]
  },
  {
   "cell_type": "code",
   "execution_count": 81,
   "id": "b77341a2",
   "metadata": {
    "collapsed": true
   },
   "outputs": [
    {
     "name": "stdout",
     "output_type": "stream",
     "text": [
      "Copying file://../../data/slamseq_MYB_degraded_coculture_v1/res/filter/ERCC_mr571-MV411-DMSO_coculture_12h-r1_filtered.bam.bed [Content-Type=application/octet-stream]...\n",
      "Copying file://../../data/slamseq_MYB_degraded_coculture_v1/res/filter/ERCC_mr572-MV411-DMSO_coculture_12h-r2_filtered.bam [Content-Type=application/octet-stream]...\n",
      "Copying file://../../data/slamseq_MYB_degraded_coculture_v1/res/filter/ERCC_mr571-MV411-DMSO_coculture_12h-r1_filtered.bam [Content-Type=application/octet-stream]...\n",
      "Copying file://../../data/slamseq_MYB_degraded_coculture_v1/res/filter/ERCC_mr572-MV411-DMSO_coculture_12h-r2_filtered.bam.bed [Content-Type=application/octet-stream]...\n",
      "Copying file://../../data/slamseq_MYB_degraded_coculture_v1/res/filter/ERCC_mr573-MV411-DMSO_coculture_12h-r3_filtered.bam [Content-Type=application/octet-stream]...\n",
      "Copying file://../../data/slamseq_MYB_degraded_coculture_v1/res/filter/ERCC_mr573-MV411-DMSO_coculture_12h-r3_filtered.bam.bed [Content-Type=application/octet-stream]...\n",
      "Copying file://../../data/slamseq_MYB_degraded_coculture_v1/res/filter/ERCC_mr574-MV411-DMSO_coculture_12h-r4_filtered.bam [Content-Type=application/octet-stream]...\n",
      "Copying file://../../data/slamseq_MYB_degraded_coculture_v1/res/filter/ERCC_mr574-MV411-DMSO_coculture_12h-r4_filtered.bam.bed [Content-Type=application/octet-stream]...\n",
      "Copying file://../../data/slamseq_MYB_degraded_coculture_v1/res/filter/ERCC_mr575-MV411-DMSO_coculture_12h-r5_filtered.bam [Content-Type=application/octet-stream]...\n",
      "Copying file://../../data/slamseq_MYB_degraded_coculture_v1/res/filter/ERCC_mr575-MV411-DMSO_coculture_12h-r5_filtered.bam.bed [Content-Type=application/octet-stream]...\n",
      "Copying file://../../data/slamseq_MYB_degraded_coculture_v1/res/filter/ERCC_mr576-MV411-VHL_coculture_12h-r1_filtered.bam [Content-Type=application/octet-stream]...\n",
      "Copying file://../../data/slamseq_MYB_degraded_coculture_v1/res/filter/ERCC_mr576-MV411-VHL_coculture_12h-r1_filtered.bam.bed [Content-Type=application/octet-stream]...\n",
      "Copying file://../../data/slamseq_MYB_degraded_coculture_v1/res/filter/ERCC_mr577-MV411-VHL_coculture_12h-r2_filtered.bam [Content-Type=application/octet-stream]...\n",
      "Copying file://../../data/slamseq_MYB_degraded_coculture_v1/res/filter/ERCC_mr577-MV411-VHL_coculture_12h-r2_filtered.bam.bed [Content-Type=application/octet-stream]...\n",
      "Copying file://../../data/slamseq_MYB_degraded_coculture_v1/res/filter/ERCC_mr578-MV411-VHL_coculture_12h-r3_filtered.bam.bed [Content-Type=application/octet-stream]...\n",
      "Copying file://../../data/slamseq_MYB_degraded_coculture_v1/res/filter/ERCC_mr579-MV411-VHL_coculture_12h-r4_filtered.bam [Content-Type=application/octet-stream]...\n",
      "Copying file://../../data/slamseq_MYB_degraded_coculture_v1/res/filter/ERCC_mr578-MV411-VHL_coculture_12h-r3_filtered.bam [Content-Type=application/octet-stream]...\n",
      "Copying file://../../data/slamseq_MYB_degraded_coculture_v1/res/filter/ERCC_mr579-MV411-VHL_coculture_12h-r4_filtered.bam.bed [Content-Type=application/octet-stream]...\n",
      "Copying file://../../data/slamseq_MYB_degraded_coculture_v1/res/filter/ERCC_mr580-MV411-VHL_coculture_12h-r5_filtered.bam [Content-Type=application/octet-stream]...\n",
      "Copying file://../../data/slamseq_MYB_degraded_coculture_v1/res/filter/ERCC_mr581-MV411-MYB-dTAG-DMSO_coculture_12h-r1_filtered.bam [Content-Type=application/octet-stream]...\n",
      "Copying file://../../data/slamseq_MYB_degraded_coculture_v1/res/filter/ERCC_mr581-MV411-MYB-dTAG-DMSO_coculture_12h-r1_filtered.bam.bed [Content-Type=application/octet-stream]...\n",
      "Copying file://../../data/slamseq_MYB_degraded_coculture_v1/res/filter/ERCC_mr582-MV411-MYB-dTAG-DMSO_coculture_12h-r2_filtered.bam [Content-Type=application/octet-stream]...\n",
      "Copying file://../../data/slamseq_MYB_degraded_coculture_v1/res/filter/ERCC_mr580-MV411-VHL_coculture_12h-r5_filtered.bam.bed [Content-Type=application/octet-stream]...\n",
      "Copying file://../../data/slamseq_MYB_degraded_coculture_v1/res/filter/ERCC_mr583-MV411-MYB-dTAG-DMSO_coculture_12h-r3_filtered.bam.bed [Content-Type=application/octet-stream]...\n",
      "Copying file://../../data/slamseq_MYB_degraded_coculture_v1/res/filter/ERCC_mr582-MV411-MYB-dTAG-DMSO_coculture_12h-r2_filtered.bam.bed [Content-Type=application/octet-stream]...\n",
      "Copying file://../../data/slamseq_MYB_degraded_coculture_v1/res/filter/ERCC_mr583-MV411-MYB-dTAG-DMSO_coculture_12h-r3_filtered.bam [Content-Type=application/octet-stream]...\n",
      "Copying file://../../data/slamseq_MYB_degraded_coculture_v1/res/filter/ERCC_mr584-MV411-MYB-dTAG-DMSO_coculture_12h-r4_filtered.bam [Content-Type=application/octet-stream]...\n",
      "Copying file://../../data/slamseq_MYB_degraded_coculture_v1/res/filter/ERCC_mr584-MV411-MYB-dTAG-DMSO_coculture_12h-r4_filtered.bam.bed [Content-Type=application/octet-stream]...\n",
      "Copying file://../../data/slamseq_MYB_degraded_coculture_v1/res/filter/ERCC_mr585-MV411-MYB-dTAG-VHL_coculture_12h-r1_filtered.bam [Content-Type=application/octet-stream]...\n",
      "Copying file://../../data/slamseq_MYB_degraded_coculture_v1/res/filter/ERCC_mr585-MV411-MYB-dTAG-VHL_coculture_12h-r1_filtered.bam.bed [Content-Type=application/octet-stream]...\n",
      "Copying file://../../data/slamseq_MYB_degraded_coculture_v1/res/filter/ERCC_mr586-MV411-MYB-dTAG-VHL_coculture_12h-r2_filtered.bam [Content-Type=application/octet-stream]...\n",
      "Copying file://../../data/slamseq_MYB_degraded_coculture_v1/res/filter/ERCC_mr586-MV411-MYB-dTAG-VHL_coculture_12h-r2_filtered.bam.bed [Content-Type=application/octet-stream]...\n",
      "Copying file://../../data/slamseq_MYB_degraded_coculture_v1/res/filter/ERCC_mr587-MV411-MYB-dTAG-VHL_coculture_12h-r3_filtered.bam [Content-Type=application/octet-stream]...\n",
      "Copying file://../../data/slamseq_MYB_degraded_coculture_v1/res/filter/ERCC_mr587-MV411-MYB-dTAG-VHL_coculture_12h-r3_filtered.bam.bed [Content-Type=application/octet-stream]...\n",
      "Copying file://../../data/slamseq_MYB_degraded_coculture_v1/res/filter/ERCC_mr588-MV411-MYB-dTAG-VHL_coculture_12h-r4_filtered.bam [Content-Type=application/octet-stream]...\n",
      "Copying file://../../data/slamseq_MYB_degraded_coculture_v1/res/filter/ERCC_mr588-MV411-MYB-dTAG-VHL_coculture_12h-r4_filtered.bam.bed [Content-Type=application/octet-stream]...\n",
      "Copying file://../../data/slamseq_MYB_degraded_coculture_v1/res/filter/ERCC_mr589-MV411-MYB-dTAG-VHL_coculture_12h-r5_filtered.bam [Content-Type=application/octet-stream]...\n",
      "Copying file://../../data/slamseq_MYB_degraded_coculture_v1/res/filter/mr571-MV411-DMSO_coculture_12h-r1_filtered.bam [Content-Type=application/octet-stream]...\n",
      "Copying file://../../data/slamseq_MYB_degraded_coculture_v1/res/filter/ERCC_mr589-MV411-MYB-dTAG-VHL_coculture_12h-r5_filtered.bam.bed [Content-Type=application/octet-stream]...\n",
      "Copying file://../../data/slamseq_MYB_degraded_coculture_v1/res/filter/mr572-MV411-DMSO_coculture_12h-r2_filtered.bam.bai [Content-Type=application/octet-stream]...\n",
      "Copying file://../../data/slamseq_MYB_degraded_coculture_v1/res/filter/mr571-MV411-DMSO_coculture_12h-r1_filtered.bam.bai [Content-Type=application/octet-stream]...\n",
      "Copying file://../../data/slamseq_MYB_degraded_coculture_v1/res/filter/mr571-MV411-DMSO_coculture_12h-r1_filtered.log [Content-Type=application/octet-stream]...\n",
      "==> NOTE: You are uploading one or more large file(s), which would run          \n",
      "significantly faster if you enable parallel composite uploads. This\n",
      "feature can be enabled by editing the\n",
      "\"parallel_composite_upload_threshold\" value in your .boto\n",
      "configuration file. However, note that if you do this large files will\n",
      "be uploaded as `composite objects\n",
      "<https://cloud.google.com/storage/docs/composite-objects>`_,which\n",
      "means that any user who downloads such objects will need to have a\n",
      "compiled crcmod installed (see \"gsutil help crcmod\"). This is because\n",
      "without a compiled crcmod, computing checksums on composite objects is\n",
      "so slow that gsutil disables downloads of composite objects.\n",
      "\n",
      "Copying file://../../data/slamseq_MYB_degraded_coculture_v1/res/filter/mr572-MV411-DMSO_coculture_12h-r2_filtered.bam [Content-Type=application/octet-stream]...\n",
      "Copying file://../../data/slamseq_MYB_degraded_coculture_v1/res/filter/mr572-MV411-DMSO_coculture_12h-r2_filtered.log [Content-Type=application/octet-stream]...\n",
      "Copying file://../../data/slamseq_MYB_degraded_coculture_v1/res/filter/mr573-MV411-DMSO_coculture_12h-r3_filtered.bam [Content-Type=application/octet-stream]...\n"
     ]
    },
    {
     "name": "stdout",
     "output_type": "stream",
     "text": [
      "Copying file://../../data/slamseq_MYB_degraded_coculture_v1/res/filter/mr573-MV411-DMSO_coculture_12h-r3_filtered.bam.bai [Content-Type=application/octet-stream]...\n",
      "Copying file://../../data/slamseq_MYB_degraded_coculture_v1/res/filter/mr573-MV411-DMSO_coculture_12h-r3_filtered.log [Content-Type=application/octet-stream]...\n",
      "Copying file://../../data/slamseq_MYB_degraded_coculture_v1/res/filter/mr574-MV411-DMSO_coculture_12h-r4_filtered.bam [Content-Type=application/octet-stream]...\n",
      "Copying file://../../data/slamseq_MYB_degraded_coculture_v1/res/filter/mr574-MV411-DMSO_coculture_12h-r4_filtered.bam.bai [Content-Type=application/octet-stream]...\n",
      "Copying file://../../data/slamseq_MYB_degraded_coculture_v1/res/filter/mr574-MV411-DMSO_coculture_12h-r4_filtered.log [Content-Type=application/octet-stream]...\n",
      "Copying file://../../data/slamseq_MYB_degraded_coculture_v1/res/filter/mr575-MV411-DMSO_coculture_12h-r5_filtered.bam [Content-Type=application/octet-stream]...\n",
      "Copying file://../../data/slamseq_MYB_degraded_coculture_v1/res/filter/mr575-MV411-DMSO_coculture_12h-r5_filtered.bam.bai [Content-Type=application/octet-stream]...\n",
      "Copying file://../../data/slamseq_MYB_degraded_coculture_v1/res/filter/mr575-MV411-DMSO_coculture_12h-r5_filtered.log [Content-Type=application/octet-stream]...\n",
      "Copying file://../../data/slamseq_MYB_degraded_coculture_v1/res/filter/mr576-MV411-VHL_coculture_12h-r1_filtered.bam [Content-Type=application/octet-stream]...\n",
      "Copying file://../../data/slamseq_MYB_degraded_coculture_v1/res/filter/mr576-MV411-VHL_coculture_12h-r1_filtered.bam.bai [Content-Type=application/octet-stream]...\n",
      "Copying file://../../data/slamseq_MYB_degraded_coculture_v1/res/filter/mr576-MV411-VHL_coculture_12h-r1_filtered.log [Content-Type=application/octet-stream]...\n",
      "Copying file://../../data/slamseq_MYB_degraded_coculture_v1/res/filter/mr577-MV411-VHL_coculture_12h-r2_filtered.bam [Content-Type=application/octet-stream]...\n",
      "Copying file://../../data/slamseq_MYB_degraded_coculture_v1/res/filter/mr577-MV411-VHL_coculture_12h-r2_filtered.bam.bai [Content-Type=application/octet-stream]...\n",
      "Copying file://../../data/slamseq_MYB_degraded_coculture_v1/res/filter/mr577-MV411-VHL_coculture_12h-r2_filtered.log [Content-Type=application/octet-stream]...\n",
      "Copying file://../../data/slamseq_MYB_degraded_coculture_v1/res/filter/mr578-MV411-VHL_coculture_12h-r3_filtered.bam [Content-Type=application/octet-stream]...\n",
      "Copying file://../../data/slamseq_MYB_degraded_coculture_v1/res/filter/mr578-MV411-VHL_coculture_12h-r3_filtered.bam.bai [Content-Type=application/octet-stream]...\n",
      "Copying file://../../data/slamseq_MYB_degraded_coculture_v1/res/filter/mr578-MV411-VHL_coculture_12h-r3_filtered.log [Content-Type=application/octet-stream]...\n",
      "Copying file://../../data/slamseq_MYB_degraded_coculture_v1/res/filter/mr579-MV411-VHL_coculture_12h-r4_filtered.bam [Content-Type=application/octet-stream]...\n",
      "Copying file://../../data/slamseq_MYB_degraded_coculture_v1/res/filter/mr579-MV411-VHL_coculture_12h-r4_filtered.bam.bai [Content-Type=application/octet-stream]...\n",
      "Copying file://../../data/slamseq_MYB_degraded_coculture_v1/res/filter/mr579-MV411-VHL_coculture_12h-r4_filtered.log [Content-Type=application/octet-stream]...\n",
      "Copying file://../../data/slamseq_MYB_degraded_coculture_v1/res/filter/mr580-MV411-VHL_coculture_12h-r5_filtered.bam [Content-Type=application/octet-stream]...\n",
      "Copying file://../../data/slamseq_MYB_degraded_coculture_v1/res/filter/mr580-MV411-VHL_coculture_12h-r5_filtered.bam.bai [Content-Type=application/octet-stream]...\n",
      "Copying file://../../data/slamseq_MYB_degraded_coculture_v1/res/filter/mr580-MV411-VHL_coculture_12h-r5_filtered.log [Content-Type=application/octet-stream]...\n",
      "Copying file://../../data/slamseq_MYB_degraded_coculture_v1/res/filter/mr581-MV411-MYB-dTAG-DMSO_coculture_12h-r1_filtered.bam [Content-Type=application/octet-stream]...\n",
      "Copying file://../../data/slamseq_MYB_degraded_coculture_v1/res/filter/mr581-MV411-MYB-dTAG-DMSO_coculture_12h-r1_filtered.bam.bai [Content-Type=application/octet-stream]...\n",
      "Copying file://../../data/slamseq_MYB_degraded_coculture_v1/res/filter/mr581-MV411-MYB-dTAG-DMSO_coculture_12h-r1_filtered.log [Content-Type=application/octet-stream]...\n",
      "Copying file://../../data/slamseq_MYB_degraded_coculture_v1/res/filter/mr582-MV411-MYB-dTAG-DMSO_coculture_12h-r2_filtered.bam [Content-Type=application/octet-stream]...\n",
      "Copying file://../../data/slamseq_MYB_degraded_coculture_v1/res/filter/mr582-MV411-MYB-dTAG-DMSO_coculture_12h-r2_filtered.bam.bai [Content-Type=application/octet-stream]...\n",
      "Copying file://../../data/slamseq_MYB_degraded_coculture_v1/res/filter/mr582-MV411-MYB-dTAG-DMSO_coculture_12h-r2_filtered.log [Content-Type=application/octet-stream]...\n",
      "Copying file://../../data/slamseq_MYB_degraded_coculture_v1/res/filter/mr583-MV411-MYB-dTAG-DMSO_coculture_12h-r3_filtered.bam [Content-Type=application/octet-stream]...\n",
      "Copying file://../../data/slamseq_MYB_degraded_coculture_v1/res/filter/mr583-MV411-MYB-dTAG-DMSO_coculture_12h-r3_filtered.bam.bai [Content-Type=application/octet-stream]...\n",
      "Copying file://../../data/slamseq_MYB_degraded_coculture_v1/res/filter/mr583-MV411-MYB-dTAG-DMSO_coculture_12h-r3_filtered.log [Content-Type=application/octet-stream]...\n",
      "Copying file://../../data/slamseq_MYB_degraded_coculture_v1/res/filter/mr584-MV411-MYB-dTAG-DMSO_coculture_12h-r4_filtered.bam [Content-Type=application/octet-stream]...\n",
      "Copying file://../../data/slamseq_MYB_degraded_coculture_v1/res/filter/mr584-MV411-MYB-dTAG-DMSO_coculture_12h-r4_filtered.bam.bai [Content-Type=application/octet-stream]...\n",
      "Copying file://../../data/slamseq_MYB_degraded_coculture_v1/res/filter/mr584-MV411-MYB-dTAG-DMSO_coculture_12h-r4_filtered.log [Content-Type=application/octet-stream]...\n",
      "Copying file://../../data/slamseq_MYB_degraded_coculture_v1/res/filter/mr585-MV411-MYB-dTAG-VHL_coculture_12h-r1_filtered.bam [Content-Type=application/octet-stream]...\n",
      "Copying file://../../data/slamseq_MYB_degraded_coculture_v1/res/filter/mr585-MV411-MYB-dTAG-VHL_coculture_12h-r1_filtered.bam.bai [Content-Type=application/octet-stream]...\n",
      "Copying file://../../data/slamseq_MYB_degraded_coculture_v1/res/filter/mr585-MV411-MYB-dTAG-VHL_coculture_12h-r1_filtered.log [Content-Type=application/octet-stream]...\n",
      "Copying file://../../data/slamseq_MYB_degraded_coculture_v1/res/filter/mr586-MV411-MYB-dTAG-VHL_coculture_12h-r2_filtered.bam [Content-Type=application/octet-stream]...\n",
      "Copying file://../../data/slamseq_MYB_degraded_coculture_v1/res/filter/mr586-MV411-MYB-dTAG-VHL_coculture_12h-r2_filtered.bam.bai [Content-Type=application/octet-stream]...\n",
      "Copying file://../../data/slamseq_MYB_degraded_coculture_v1/res/filter/mr586-MV411-MYB-dTAG-VHL_coculture_12h-r2_filtered.log [Content-Type=application/octet-stream]...\n",
      "Copying file://../../data/slamseq_MYB_degraded_coculture_v1/res/filter/mr587-MV411-MYB-dTAG-VHL_coculture_12h-r3_filtered.bam [Content-Type=application/octet-stream]...\n",
      "Copying file://../../data/slamseq_MYB_degraded_coculture_v1/res/filter/mr587-MV411-MYB-dTAG-VHL_coculture_12h-r3_filtered.bam.bai [Content-Type=application/octet-stream]...\n",
      "Copying file://../../data/slamseq_MYB_degraded_coculture_v1/res/filter/mr587-MV411-MYB-dTAG-VHL_coculture_12h-r3_filtered.log [Content-Type=application/octet-stream]...\n",
      "Copying file://../../data/slamseq_MYB_degraded_coculture_v1/res/filter/mr588-MV411-MYB-dTAG-VHL_coculture_12h-r4_filtered.bam [Content-Type=application/octet-stream]...\n",
      "Copying file://../../data/slamseq_MYB_degraded_coculture_v1/res/filter/mr588-MV411-MYB-dTAG-VHL_coculture_12h-r4_filtered.bam.bai [Content-Type=application/octet-stream]...\n",
      "Copying file://../../data/slamseq_MYB_degraded_coculture_v1/res/filter/mr588-MV411-MYB-dTAG-VHL_coculture_12h-r4_filtered.log [Content-Type=application/octet-stream]...\n",
      "Copying file://../../data/slamseq_MYB_degraded_coculture_v1/res/filter/mr589-MV411-MYB-dTAG-VHL_coculture_12h-r5_filtered.bam [Content-Type=application/octet-stream]...\n",
      "Copying file://../../data/slamseq_MYB_degraded_coculture_v1/res/filter/mr589-MV411-MYB-dTAG-VHL_coculture_12h-r5_filtered.bam.bai [Content-Type=application/octet-stream]...\n",
      "Copying file://../../data/slamseq_MYB_degraded_coculture_v1/res/filter/mr589-MV411-MYB-dTAG-VHL_coculture_12h-r5_filtered.log [Content-Type=application/octet-stream]...\n",
      "| [95/95 files][107.5 GiB/107.5 GiB] 100% Done  24.3 MiB/s ETA 00:00:00         \n",
      "Operation completed over 95 objects/107.5 GiB.                                   \n",
      "Copying file://../../data/slamseq_MYB_degraded_coculture_v1/res/snp/mr571-MV411-DMSO_coculture_12h-r1_snp.log [Content-Type=application/octet-stream]...\n",
      "Copying file://../../data/slamseq_MYB_degraded_coculture_v1/res/snp/mr571-MV411-DMSO_coculture_12h-r1_snp.vcf [Content-Type=text/vcard]...\n",
      "Copying file://../../data/slamseq_MYB_degraded_coculture_v1/res/snp/mr572-MV411-DMSO_coculture_12h-r2_snp.log [Content-Type=application/octet-stream]...\n",
      "Copying file://../../data/slamseq_MYB_degraded_coculture_v1/res/snp/mr572-MV411-DMSO_coculture_12h-r2_snp.vcf [Content-Type=text/vcard]...\n",
      "Copying file://../../data/slamseq_MYB_degraded_coculture_v1/res/snp/mr573-MV411-DMSO_coculture_12h-r3_snp.log [Content-Type=application/octet-stream]...\n",
      "Copying file://../../data/slamseq_MYB_degraded_coculture_v1/res/snp/mr574-MV411-DMSO_coculture_12h-r4_snp.log [Content-Type=application/octet-stream]...\n",
      "Copying file://../../data/slamseq_MYB_degraded_coculture_v1/res/snp/mr574-MV411-DMSO_coculture_12h-r4_snp.vcf [Content-Type=text/vcard]...\n",
      "Copying file://../../data/slamseq_MYB_degraded_coculture_v1/res/snp/mr573-MV411-DMSO_coculture_12h-r3_snp.vcf [Content-Type=text/vcard]...\n",
      "Copying file://../../data/slamseq_MYB_degraded_coculture_v1/res/snp/mr575-MV411-DMSO_coculture_12h-r5_snp.log [Content-Type=application/octet-stream]...\n",
      "Copying file://../../data/slamseq_MYB_degraded_coculture_v1/res/snp/mr575-MV411-DMSO_coculture_12h-r5_snp.vcf [Content-Type=text/vcard]...\n",
      "Copying file://../../data/slamseq_MYB_degraded_coculture_v1/res/snp/mr576-MV411-VHL_coculture_12h-r1_snp.log [Content-Type=application/octet-stream]...\n",
      "Copying file://../../data/slamseq_MYB_degraded_coculture_v1/res/snp/mr576-MV411-VHL_coculture_12h-r1_snp.vcf [Content-Type=text/vcard]...\n",
      "Copying file://../../data/slamseq_MYB_degraded_coculture_v1/res/snp/mr577-MV411-VHL_coculture_12h-r2_snp.vcf [Content-Type=text/vcard]...\n",
      "Copying file://../../data/slamseq_MYB_degraded_coculture_v1/res/snp/mr577-MV411-VHL_coculture_12h-r2_snp.log [Content-Type=application/octet-stream]...\n",
      "Copying file://../../data/slamseq_MYB_degraded_coculture_v1/res/snp/mr578-MV411-VHL_coculture_12h-r3_snp.log [Content-Type=application/octet-stream]...\n",
      "Copying file://../../data/slamseq_MYB_degraded_coculture_v1/res/snp/mr578-MV411-VHL_coculture_12h-r3_snp.vcf [Content-Type=text/vcard]...\n",
      "Copying file://../../data/slamseq_MYB_degraded_coculture_v1/res/snp/mr579-MV411-VHL_coculture_12h-r4_snp.log [Content-Type=application/octet-stream]...\n",
      "Copying file://../../data/slamseq_MYB_degraded_coculture_v1/res/snp/mr579-MV411-VHL_coculture_12h-r4_snp.vcf [Content-Type=text/vcard]...\n",
      "Copying file://../../data/slamseq_MYB_degraded_coculture_v1/res/snp/mr580-MV411-VHL_coculture_12h-r5_snp.log [Content-Type=application/octet-stream]...\n",
      "Copying file://../../data/slamseq_MYB_degraded_coculture_v1/res/snp/mr580-MV411-VHL_coculture_12h-r5_snp.vcf [Content-Type=text/vcard]...\n",
      "Copying file://../../data/slamseq_MYB_degraded_coculture_v1/res/snp/mr581-MV411-MYB-dTAG-DMSO_coculture_12h-r1_snp.log [Content-Type=application/octet-stream]...\n",
      "Copying file://../../data/slamseq_MYB_degraded_coculture_v1/res/snp/mr581-MV411-MYB-dTAG-DMSO_coculture_12h-r1_snp.vcf [Content-Type=text/vcard]...\n",
      "Copying file://../../data/slamseq_MYB_degraded_coculture_v1/res/snp/mr582-MV411-MYB-dTAG-DMSO_coculture_12h-r2_snp.log [Content-Type=application/octet-stream]...\n",
      "Copying file://../../data/slamseq_MYB_degraded_coculture_v1/res/snp/mr583-MV411-MYB-dTAG-DMSO_coculture_12h-r3_snp.vcf [Content-Type=text/vcard]...\n",
      "Copying file://../../data/slamseq_MYB_degraded_coculture_v1/res/snp/mr582-MV411-MYB-dTAG-DMSO_coculture_12h-r2_snp.vcf [Content-Type=text/vcard]...\n",
      "Copying file://../../data/slamseq_MYB_degraded_coculture_v1/res/snp/mr586-MV411-MYB-dTAG-VHL_coculture_12h-r2_snp.log [Content-Type=application/octet-stream]...\n",
      "Copying file://../../data/slamseq_MYB_degraded_coculture_v1/res/snp/mr584-MV411-MYB-dTAG-DMSO_coculture_12h-r4_snp.log [Content-Type=application/octet-stream]...\n",
      "Copying file://../../data/slamseq_MYB_degraded_coculture_v1/res/snp/mr588-MV411-MYB-dTAG-VHL_coculture_12h-r4_snp.vcf [Content-Type=text/vcard]...\n",
      "Copying file://../../data/slamseq_MYB_degraded_coculture_v1/res/snp/mr586-MV411-MYB-dTAG-VHL_coculture_12h-r2_snp.vcf [Content-Type=text/vcard]...\n",
      "Copying file://../../data/slamseq_MYB_degraded_coculture_v1/res/snp/mr587-MV411-MYB-dTAG-VHL_coculture_12h-r3_snp.log [Content-Type=application/octet-stream]...\n",
      "Copying file://../../data/slamseq_MYB_degraded_coculture_v1/res/snp/mr584-MV411-MYB-dTAG-DMSO_coculture_12h-r4_snp.vcf [Content-Type=text/vcard]...\n",
      "Copying file://../../data/slamseq_MYB_degraded_coculture_v1/res/snp/mr583-MV411-MYB-dTAG-DMSO_coculture_12h-r3_snp.log [Content-Type=application/octet-stream]...\n",
      "Copying file://../../data/slamseq_MYB_degraded_coculture_v1/res/snp/mr585-MV411-MYB-dTAG-VHL_coculture_12h-r1_snp.log [Content-Type=application/octet-stream]...\n",
      "Copying file://../../data/slamseq_MYB_degraded_coculture_v1/res/snp/mr589-MV411-MYB-dTAG-VHL_coculture_12h-r5_snp.log [Content-Type=application/octet-stream]...\n",
      "Copying file://../../data/slamseq_MYB_degraded_coculture_v1/res/snp/mr585-MV411-MYB-dTAG-VHL_coculture_12h-r1_snp.vcf [Content-Type=text/vcard]...\n",
      "Copying file://../../data/slamseq_MYB_degraded_coculture_v1/res/snp/mr589-MV411-MYB-dTAG-VHL_coculture_12h-r5_snp.vcf [Content-Type=text/vcard]...\n",
      "Copying file://../../data/slamseq_MYB_degraded_coculture_v1/res/snp/mr587-MV411-MYB-dTAG-VHL_coculture_12h-r3_snp.vcf [Content-Type=text/vcard]...\n",
      "Copying file://../../data/slamseq_MYB_degraded_coculture_v1/res/snp/mr588-MV411-MYB-dTAG-VHL_coculture_12h-r4_snp.log [Content-Type=application/octet-stream]...\n",
      "/ [38/38 files][293.8 MiB/293.8 MiB] 100% Done                                  \n",
      "Operation completed over 38 objects/293.8 MiB.                                   \n",
      "Copying file://../../data/slamseq_MYB_degraded_coculture_v1/res/count/mr571-MV411-DMSO_coculture_12h-r1_tcount_mins.bedgraph [Content-Type=application/octet-stream]...\n",
      "Copying file://../../data/slamseq_MYB_degraded_coculture_v1/res/count/mr571-MV411-DMSO_coculture_12h-r1_tcount.log [Content-Type=application/octet-stream]...\n",
      "Copying file://../../data/slamseq_MYB_degraded_coculture_v1/res/count/mr571-MV411-DMSO_coculture_12h-r1_tcount_plus.bedgraph [Content-Type=application/octet-stream]...\n",
      "Copying file://../../data/slamseq_MYB_degraded_coculture_v1/res/count/mr571-MV411-DMSO_coculture_12h-r1_tcount.tsv [Content-Type=text/tab-separated-values]...\n",
      "Copying file://../../data/slamseq_MYB_degraded_coculture_v1/res/count/mr572-MV411-DMSO_coculture_12h-r2_tcount.log [Content-Type=application/octet-stream]...\n",
      "Copying file://../../data/slamseq_MYB_degraded_coculture_v1/res/count/mr572-MV411-DMSO_coculture_12h-r2_tcount_mins.bedgraph [Content-Type=application/octet-stream]...\n",
      "Copying file://../../data/slamseq_MYB_degraded_coculture_v1/res/count/mr572-MV411-DMSO_coculture_12h-r2_tcount_plus.bedgraph [Content-Type=application/octet-stream]...\n",
      "Copying file://../../data/slamseq_MYB_degraded_coculture_v1/res/count/mr572-MV411-DMSO_coculture_12h-r2_tcount.tsv [Content-Type=text/tab-separated-values]...\n",
      "Copying file://../../data/slamseq_MYB_degraded_coculture_v1/res/count/mr573-MV411-DMSO_coculture_12h-r3_tcount_plus.bedgraph [Content-Type=application/octet-stream]...\n",
      "Copying file://../../data/slamseq_MYB_degraded_coculture_v1/res/count/mr573-MV411-DMSO_coculture_12h-r3_tcount.tsv [Content-Type=text/tab-separated-values]...\n",
      "Copying file://../../data/slamseq_MYB_degraded_coculture_v1/res/count/mr573-MV411-DMSO_coculture_12h-r3_tcount.log [Content-Type=application/octet-stream]...\n",
      "Copying file://../../data/slamseq_MYB_degraded_coculture_v1/res/count/mr573-MV411-DMSO_coculture_12h-r3_tcount_mins.bedgraph [Content-Type=application/octet-stream]...\n"
     ]
    },
    {
     "name": "stdout",
     "output_type": "stream",
     "text": [
      "Copying file://../../data/slamseq_MYB_degraded_coculture_v1/res/count/mr574-MV411-DMSO_coculture_12h-r4_tcount.log [Content-Type=application/octet-stream]...\n",
      "Copying file://../../data/slamseq_MYB_degraded_coculture_v1/res/count/mr574-MV411-DMSO_coculture_12h-r4_tcount_mins.bedgraph [Content-Type=application/octet-stream]...\n",
      "Copying file://../../data/slamseq_MYB_degraded_coculture_v1/res/count/mr574-MV411-DMSO_coculture_12h-r4_tcount_plus.bedgraph [Content-Type=application/octet-stream]...\n",
      "Copying file://../../data/slamseq_MYB_degraded_coculture_v1/res/count/mr574-MV411-DMSO_coculture_12h-r4_tcount.tsv [Content-Type=text/tab-separated-values]...\n",
      "Copying file://../../data/slamseq_MYB_degraded_coculture_v1/res/count/mr575-MV411-DMSO_coculture_12h-r5_tcount.log [Content-Type=application/octet-stream]...\n",
      "Copying file://../../data/slamseq_MYB_degraded_coculture_v1/res/count/mr575-MV411-DMSO_coculture_12h-r5_tcount_mins.bedgraph [Content-Type=application/octet-stream]...\n",
      "Copying file://../../data/slamseq_MYB_degraded_coculture_v1/res/count/mr576-MV411-VHL_coculture_12h-r1_tcount.log [Content-Type=application/octet-stream]...\n",
      "Copying file://../../data/slamseq_MYB_degraded_coculture_v1/res/count/mr576-MV411-VHL_coculture_12h-r1_tcount_mins.bedgraph [Content-Type=application/octet-stream]...\n",
      "Copying file://../../data/slamseq_MYB_degraded_coculture_v1/res/count/mr575-MV411-DMSO_coculture_12h-r5_tcount.tsv [Content-Type=text/tab-separated-values]...\n",
      "Copying file://../../data/slamseq_MYB_degraded_coculture_v1/res/count/mr576-MV411-VHL_coculture_12h-r1_tcount_plus.bedgraph [Content-Type=application/octet-stream]...\n",
      "Copying file://../../data/slamseq_MYB_degraded_coculture_v1/res/count/mr575-MV411-DMSO_coculture_12h-r5_tcount_plus.bedgraph [Content-Type=application/octet-stream]...\n",
      "Copying file://../../data/slamseq_MYB_degraded_coculture_v1/res/count/mr576-MV411-VHL_coculture_12h-r1_tcount.tsv [Content-Type=text/tab-separated-values]...\n",
      "Copying file://../../data/slamseq_MYB_degraded_coculture_v1/res/count/mr577-MV411-VHL_coculture_12h-r2_tcount.log [Content-Type=application/octet-stream]...\n",
      "Copying file://../../data/slamseq_MYB_degraded_coculture_v1/res/count/mr577-MV411-VHL_coculture_12h-r2_tcount_mins.bedgraph [Content-Type=application/octet-stream]...\n",
      "Copying file://../../data/slamseq_MYB_degraded_coculture_v1/res/count/mr578-MV411-VHL_coculture_12h-r3_tcount_plus.bedgraph [Content-Type=application/octet-stream]...\n",
      "Copying file://../../data/slamseq_MYB_degraded_coculture_v1/res/count/mr577-MV411-VHL_coculture_12h-r2_tcount_plus.bedgraph [Content-Type=application/octet-stream]...\n",
      "Copying file://../../data/slamseq_MYB_degraded_coculture_v1/res/count/mr579-MV411-VHL_coculture_12h-r4_tcount.tsv [Content-Type=text/tab-separated-values]...\n",
      "Copying file://../../data/slamseq_MYB_degraded_coculture_v1/res/count/mr578-MV411-VHL_coculture_12h-r3_tcount.tsv [Content-Type=text/tab-separated-values]...\n",
      "Copying file://../../data/slamseq_MYB_degraded_coculture_v1/res/count/mr577-MV411-VHL_coculture_12h-r2_tcount.tsv [Content-Type=text/tab-separated-values]...\n",
      "Copying file://../../data/slamseq_MYB_degraded_coculture_v1/res/count/mr579-MV411-VHL_coculture_12h-r4_tcount.log [Content-Type=application/octet-stream]...\n",
      "Copying file://../../data/slamseq_MYB_degraded_coculture_v1/res/count/mr580-MV411-VHL_coculture_12h-r5_tcount.log [Content-Type=application/octet-stream]...\n",
      "Copying file://../../data/slamseq_MYB_degraded_coculture_v1/res/count/mr578-MV411-VHL_coculture_12h-r3_tcount.log [Content-Type=application/octet-stream]...\n",
      "Copying file://../../data/slamseq_MYB_degraded_coculture_v1/res/count/mr579-MV411-VHL_coculture_12h-r4_tcount_mins.bedgraph [Content-Type=application/octet-stream]...\n",
      "Copying file://../../data/slamseq_MYB_degraded_coculture_v1/res/count/mr578-MV411-VHL_coculture_12h-r3_tcount_mins.bedgraph [Content-Type=application/octet-stream]...\n",
      "Copying file://../../data/slamseq_MYB_degraded_coculture_v1/res/count/mr579-MV411-VHL_coculture_12h-r4_tcount_plus.bedgraph [Content-Type=application/octet-stream]...\n",
      "Copying file://../../data/slamseq_MYB_degraded_coculture_v1/res/count/mr580-MV411-VHL_coculture_12h-r5_tcount_mins.bedgraph [Content-Type=application/octet-stream]...\n",
      "Copying file://../../data/slamseq_MYB_degraded_coculture_v1/res/count/mr580-MV411-VHL_coculture_12h-r5_tcount_plus.bedgraph [Content-Type=application/octet-stream]...\n",
      "Copying file://../../data/slamseq_MYB_degraded_coculture_v1/res/count/mr580-MV411-VHL_coculture_12h-r5_tcount.tsv [Content-Type=text/tab-separated-values]...\n",
      "Copying file://../../data/slamseq_MYB_degraded_coculture_v1/res/count/mr581-MV411-MYB-dTAG-DMSO_coculture_12h-r1_tcount.log [Content-Type=application/octet-stream]...\n",
      "Copying file://../../data/slamseq_MYB_degraded_coculture_v1/res/count/mr581-MV411-MYB-dTAG-DMSO_coculture_12h-r1_tcount_mins.bedgraph [Content-Type=application/octet-stream]...\n",
      "Copying file://../../data/slamseq_MYB_degraded_coculture_v1/res/count/mr581-MV411-MYB-dTAG-DMSO_coculture_12h-r1_tcount_plus.bedgraph [Content-Type=application/octet-stream]...\n",
      "Copying file://../../data/slamseq_MYB_degraded_coculture_v1/res/count/mr581-MV411-MYB-dTAG-DMSO_coculture_12h-r1_tcount.tsv [Content-Type=text/tab-separated-values]...\n",
      "Copying file://../../data/slamseq_MYB_degraded_coculture_v1/res/count/mr582-MV411-MYB-dTAG-DMSO_coculture_12h-r2_tcount.log [Content-Type=application/octet-stream]...\n",
      "Copying file://../../data/slamseq_MYB_degraded_coculture_v1/res/count/mr582-MV411-MYB-dTAG-DMSO_coculture_12h-r2_tcount_mins.bedgraph [Content-Type=application/octet-stream]...\n",
      "Copying file://../../data/slamseq_MYB_degraded_coculture_v1/res/count/mr582-MV411-MYB-dTAG-DMSO_coculture_12h-r2_tcount_plus.bedgraph [Content-Type=application/octet-stream]...\n",
      "Copying file://../../data/slamseq_MYB_degraded_coculture_v1/res/count/mr583-MV411-MYB-dTAG-DMSO_coculture_12h-r3_tcount.log [Content-Type=application/octet-stream]...\n",
      "Copying file://../../data/slamseq_MYB_degraded_coculture_v1/res/count/mr582-MV411-MYB-dTAG-DMSO_coculture_12h-r2_tcount.tsv [Content-Type=text/tab-separated-values]...\n",
      "Copying file://../../data/slamseq_MYB_degraded_coculture_v1/res/count/mr583-MV411-MYB-dTAG-DMSO_coculture_12h-r3_tcount_mins.bedgraph [Content-Type=application/octet-stream]...\n",
      "Copying file://../../data/slamseq_MYB_degraded_coculture_v1/res/count/mr583-MV411-MYB-dTAG-DMSO_coculture_12h-r3_tcount_plus.bedgraph [Content-Type=application/octet-stream]...\n",
      "Copying file://../../data/slamseq_MYB_degraded_coculture_v1/res/count/mr583-MV411-MYB-dTAG-DMSO_coculture_12h-r3_tcount.tsv [Content-Type=text/tab-separated-values]...\n",
      "Copying file://../../data/slamseq_MYB_degraded_coculture_v1/res/count/mr584-MV411-MYB-dTAG-DMSO_coculture_12h-r4_tcount.log [Content-Type=application/octet-stream]...\n",
      "Copying file://../../data/slamseq_MYB_degraded_coculture_v1/res/count/mr584-MV411-MYB-dTAG-DMSO_coculture_12h-r4_tcount_mins.bedgraph [Content-Type=application/octet-stream]...\n",
      "Copying file://../../data/slamseq_MYB_degraded_coculture_v1/res/count/mr584-MV411-MYB-dTAG-DMSO_coculture_12h-r4_tcount_plus.bedgraph [Content-Type=application/octet-stream]...\n",
      "Copying file://../../data/slamseq_MYB_degraded_coculture_v1/res/count/mr584-MV411-MYB-dTAG-DMSO_coculture_12h-r4_tcount.tsv [Content-Type=text/tab-separated-values]...\n",
      "Copying file://../../data/slamseq_MYB_degraded_coculture_v1/res/count/mr585-MV411-MYB-dTAG-VHL_coculture_12h-r1_tcount.log [Content-Type=application/octet-stream]...\n",
      "Copying file://../../data/slamseq_MYB_degraded_coculture_v1/res/count/mr585-MV411-MYB-dTAG-VHL_coculture_12h-r1_tcount_mins.bedgraph [Content-Type=application/octet-stream]...\n",
      "Copying file://../../data/slamseq_MYB_degraded_coculture_v1/res/count/mr585-MV411-MYB-dTAG-VHL_coculture_12h-r1_tcount_plus.bedgraph [Content-Type=application/octet-stream]...\n",
      "Copying file://../../data/slamseq_MYB_degraded_coculture_v1/res/count/mr585-MV411-MYB-dTAG-VHL_coculture_12h-r1_tcount.tsv [Content-Type=text/tab-separated-values]...\n",
      "Copying file://../../data/slamseq_MYB_degraded_coculture_v1/res/count/mr586-MV411-MYB-dTAG-VHL_coculture_12h-r2_tcount.log [Content-Type=application/octet-stream]...\n",
      "Copying file://../../data/slamseq_MYB_degraded_coculture_v1/res/count/mr586-MV411-MYB-dTAG-VHL_coculture_12h-r2_tcount_mins.bedgraph [Content-Type=application/octet-stream]...\n",
      "Copying file://../../data/slamseq_MYB_degraded_coculture_v1/res/count/mr586-MV411-MYB-dTAG-VHL_coculture_12h-r2_tcount_plus.bedgraph [Content-Type=application/octet-stream]...\n",
      "Copying file://../../data/slamseq_MYB_degraded_coculture_v1/res/count/mr586-MV411-MYB-dTAG-VHL_coculture_12h-r2_tcount.tsv [Content-Type=text/tab-separated-values]...\n",
      "Copying file://../../data/slamseq_MYB_degraded_coculture_v1/res/count/mr587-MV411-MYB-dTAG-VHL_coculture_12h-r3_tcount.log [Content-Type=application/octet-stream]...\n",
      "Copying file://../../data/slamseq_MYB_degraded_coculture_v1/res/count/mr587-MV411-MYB-dTAG-VHL_coculture_12h-r3_tcount_mins.bedgraph [Content-Type=application/octet-stream]...\n",
      "Copying file://../../data/slamseq_MYB_degraded_coculture_v1/res/count/mr587-MV411-MYB-dTAG-VHL_coculture_12h-r3_tcount_plus.bedgraph [Content-Type=application/octet-stream]...\n",
      "Copying file://../../data/slamseq_MYB_degraded_coculture_v1/res/count/mr587-MV411-MYB-dTAG-VHL_coculture_12h-r3_tcount.tsv [Content-Type=text/tab-separated-values]...\n",
      "Copying file://../../data/slamseq_MYB_degraded_coculture_v1/res/count/mr588-MV411-MYB-dTAG-VHL_coculture_12h-r4_tcount.log [Content-Type=application/octet-stream]...\n",
      "Copying file://../../data/slamseq_MYB_degraded_coculture_v1/res/count/mr588-MV411-MYB-dTAG-VHL_coculture_12h-r4_tcount_mins.bedgraph [Content-Type=application/octet-stream]...\n",
      "Copying file://../../data/slamseq_MYB_degraded_coculture_v1/res/count/mr588-MV411-MYB-dTAG-VHL_coculture_12h-r4_tcount_plus.bedgraph [Content-Type=application/octet-stream]...\n",
      "Copying file://../../data/slamseq_MYB_degraded_coculture_v1/res/count/mr588-MV411-MYB-dTAG-VHL_coculture_12h-r4_tcount.tsv [Content-Type=text/tab-separated-values]...\n",
      "Copying file://../../data/slamseq_MYB_degraded_coculture_v1/res/count/mr589-MV411-MYB-dTAG-VHL_coculture_12h-r5_tcount.log [Content-Type=application/octet-stream]...\n",
      "Copying file://../../data/slamseq_MYB_degraded_coculture_v1/res/count/mr589-MV411-MYB-dTAG-VHL_coculture_12h-r5_tcount_mins.bedgraph [Content-Type=application/octet-stream]...\n",
      "Copying file://../../data/slamseq_MYB_degraded_coculture_v1/res/count/mr589-MV411-MYB-dTAG-VHL_coculture_12h-r5_tcount_plus.bedgraph [Content-Type=application/octet-stream]...\n",
      "Copying file://../../data/slamseq_MYB_degraded_coculture_v1/res/count/mr589-MV411-MYB-dTAG-VHL_coculture_12h-r5_tcount.tsv [Content-Type=text/tab-separated-values]...\n",
      "- [76/76 files][  3.4 GiB/  3.4 GiB] 100% Done 154.1 MiB/s ETA 00:00:00         \n",
      "Operation completed over 76 objects/3.4 GiB.                                     \n"
     ]
    }
   ],
   "source": [
    "! gsutil -m cp ../../data/slamseq_$project/res/filter/* gs://amlproject/RNA/slamseq/$project/res/filter/ \n",
    "! gsutil -m cp ../../data/slamseq_$project/res/snp/* gs://amlproject/RNA/slamseq/$project/res/snp/ \n",
    "! gsutil -m cp ../../data/slamseq_$project/res/count/* gs://amlproject/RNA/slamseq/$project/res/count/"
   ]
  },
  {
   "cell_type": "markdown",
   "id": "fb0705cd",
   "metadata": {},
   "source": [
    "# SLAM-seq\n",
    "All SLAM-seq assays were performed at 60-70% confluency for adherent cells or\n",
    "60% of the maximum cell density counted on a hemocytometer for suspension cells. 5-7h\n",
    "prior to each assay, growth medium was aspirated and replaced. Unless stated otherwise,\n",
    "cells were pre-treated with indicated small molecule inhibitors or 100µM IAA for 30 min\n",
    "to pre-establish full target inhibition or degradation. Newly synthesized RNA was labeled\n",
    "for indicated time spans (45 min or 60 min) at a final concentration of 100µM 4-\n",
    "thiouridine (4sU, Carbosynth). Adherent cells were harvested by direct snap-freezing of\n",
    "plates on dry ice. Suspension cells were spun down and immediately snap-frozen. RNA\n",
    "extraction was performed using the RNeasy Plus Mini Kit (Qiagen). \n",
    "\n",
    "Total RNA was subjected to alkylation by iodoacetamide (Sigma, 10mM) for 15 min and RNA was repurified by ethanol precipitation. 500ng alkylated RNA were used as input for generating\n",
    "3’-end mRNA sequencing libraries using a commercially available kit (QuantSeq 3′\n",
    "mRNA-Seq Library Prep Kit FWD for Illumina and PCR Add-on Kit for Illumina,\n",
    "Lexogen). Deep sequencing was performed using HiSeq1500 and HiSeq2500 platforms\n",
    "(Illumina)."
   ]
  },
  {
   "cell_type": "markdown",
   "id": "9faf221e",
   "metadata": {},
   "source": [
    "## make count files"
   ]
  },
  {
   "cell_type": "code",
   "execution_count": 82,
   "id": "f72458f9",
   "metadata": {},
   "outputs": [
    {
     "name": "stdout",
     "output_type": "stream",
     "text": [
      "../../data/slamseq_MYB_degraded_coculture_v1/res/count/\n"
     ]
    }
   ],
   "source": [
    "project = project\n",
    "res_folder = \"res\"\n",
    "location = \"../../data/slamseq_\"+project+\"/\"+res_folder+\"/\"+\"count/\"\n",
    "print(location)"
   ]
  },
  {
   "cell_type": "code",
   "execution_count": 83,
   "id": "802ea7d1",
   "metadata": {},
   "outputs": [],
   "source": [
    "# remove genes that have very low counts\n",
    "mincount_toremove=5\n",
    "\n",
    "# remove genes that have a variance of 0 across all samples (these we really want to remove)\n",
    "# genes that have values of 0,1,2 everywhere\n",
    "minvar_toremove=0"
   ]
  },
  {
   "cell_type": "code",
   "execution_count": 84,
   "id": "32c4906b",
   "metadata": {
    "collapsed": true
   },
   "outputs": [
    {
     "name": "stdout",
     "output_type": "stream",
     "text": [
      "found 19 files:dict_keys(['mr571-MV411-DMSO_coculture_12h-r1_tcount', 'mr572-MV411-DMSO_coculture_12h-r2_tcount', 'mr573-MV411-DMSO_coculture_12h-r3_tcount', 'mr574-MV411-DMSO_coculture_12h-r4_tcount', 'mr575-MV411-DMSO_coculture_12h-r5_tcount', 'mr576-MV411-VHL_coculture_12h-r1_tcount', 'mr577-MV411-VHL_coculture_12h-r2_tcount', 'mr578-MV411-VHL_coculture_12h-r3_tcount', 'mr579-MV411-VHL_coculture_12h-r4_tcount', 'mr580-MV411-VHL_coculture_12h-r5_tcount', 'mr581-MV411-MYB-dTAG-DMSO_coculture_12h-r1_tcount', 'mr582-MV411-MYB-dTAG-DMSO_coculture_12h-r2_tcount', 'mr583-MV411-MYB-dTAG-DMSO_coculture_12h-r3_tcount', 'mr584-MV411-MYB-dTAG-DMSO_coculture_12h-r4_tcount', 'mr585-MV411-MYB-dTAG-VHL_coculture_12h-r1_tcount', 'mr586-MV411-MYB-dTAG-VHL_coculture_12h-r2_tcount', 'mr587-MV411-MYB-dTAG-VHL_coculture_12h-r3_tcount', 'mr588-MV411-MYB-dTAG-VHL_coculture_12h-r4_tcount', 'mr589-MV411-MYB-dTAG-VHL_coculture_12h-r5_tcount'])\n",
      "mr571-MV411-DMSO_coculture_12h-r1\n",
      "mr572-MV411-DMSO_coculture_12h-r2\n",
      "mr573-MV411-DMSO_coculture_12h-r3\n",
      "mr574-MV411-DMSO_coculture_12h-r4\n",
      "mr575-MV411-DMSO_coculture_12h-r5\n",
      "mr576-MV411-VHL_coculture_12h-r1\n",
      "mr577-MV411-VHL_coculture_12h-r2\n",
      "mr578-MV411-VHL_coculture_12h-r3\n",
      "mr579-MV411-VHL_coculture_12h-r4\n",
      "mr580-MV411-VHL_coculture_12h-r5\n",
      "mr581-MV411-MYB-dTAG-DMSO_coculture_12h-r1\n",
      "mr582-MV411-MYB-dTAG-DMSO_coculture_12h-r2\n",
      "mr583-MV411-MYB-dTAG-DMSO_coculture_12h-r3\n",
      "mr584-MV411-MYB-dTAG-DMSO_coculture_12h-r4\n",
      "mr585-MV411-MYB-dTAG-VHL_coculture_12h-r1\n",
      "mr586-MV411-MYB-dTAG-VHL_coculture_12h-r2\n",
      "mr587-MV411-MYB-dTAG-VHL_coculture_12h-r3\n",
      "mr588-MV411-MYB-dTAG-VHL_coculture_12h-r4\n",
      "mr589-MV411-MYB-dTAG-VHL_coculture_12h-r5\n",
      "downloading gene names from biomart\n",
      "1750 count not be parsed... we don't have all genes already\n",
      "downloading gene names from biomart\n",
      "1750 count not be parsed... we don't have all genes already\n",
      "CPU times: user 4min 1s, sys: 864 ms, total: 4min 2s\n",
      "Wall time: 17min 9s\n"
     ]
    }
   ],
   "source": [
    "%%time\n",
    "\n",
    "# all genes (not just protein coding)\n",
    "readcounts, tccounts = rna.readFromSlamdunk(loc=location, \n",
    "                                            minvar_toremove=minvar_toremove, \n",
    "                                            mincount_toremove=mincount_toremove,\n",
    "                                            verbose=False)"
   ]
  },
  {
   "cell_type": "markdown",
   "id": "1329986a",
   "metadata": {},
   "source": [
    "check for duplicate gene rows"
   ]
  },
  {
   "cell_type": "code",
   "execution_count": 85,
   "id": "ecae67c5",
   "metadata": {},
   "outputs": [],
   "source": [
    "def dedup_df_genes(df):\n",
    "    ''' sum rows with the same gene index and remove duplicate '''\n",
    "    if df.shape[0] != len(df.index.drop_duplicates()):\n",
    "        print(\"Duplicate gene rows!\")\n",
    "        print(\"{} rows | {} unique genes\".format(df.shape[0], len(df.index.drop_duplicates())))\n",
    "        print(\"Summing of duplicate gene rows.\")\n",
    "        \n",
    "    # sum duplicate rows, same row order\n",
    "    duplicate_genes = df.index[df.index.duplicated()].tolist()\n",
    "    df = df.groupby(df.index).sum().loc[df.index.drop_duplicates()]\n",
    "    if df.shape[0] != len(df.index.drop_duplicates()):\n",
    "        raise ValueError(\n",
    "            \"Cannot collapse duplicate gene rows.\"\n",
    "        )\n",
    "    \n",
    "    return df, duplicate_genes"
   ]
  },
  {
   "cell_type": "code",
   "execution_count": 86,
   "id": "f01cfc6e",
   "metadata": {
    "scrolled": true
   },
   "outputs": [
    {
     "name": "stdout",
     "output_type": "stream",
     "text": [
      "Duplicate gene rows!\n",
      "15955 rows | 15920 unique genes\n",
      "Summing of duplicate gene rows.\n",
      "Duplicate gene rows!\n",
      "15955 rows | 15920 unique genes\n",
      "Summing of duplicate gene rows.\n"
     ]
    }
   ],
   "source": [
    "readcounts, duplicate_genes = dedup_df_genes(readcounts)\n",
    "tccounts, duplicate_genes = dedup_df_genes(tccounts)\n",
    "\n",
    "if readcounts.shape != tccounts.shape:\n",
    "    raise ValueError(\"readcounts and tccounts not the same dimensions: {} | {}\".format(readcounts.shape, tccounts.shape))"
   ]
  },
  {
   "cell_type": "markdown",
   "id": "b2044aa0",
   "metadata": {},
   "source": [
    "## make density plot"
   ]
  },
  {
   "cell_type": "code",
   "execution_count": 87,
   "id": "f54c196e",
   "metadata": {},
   "outputs": [
    {
     "name": "stdout",
     "output_type": "stream",
     "text": [
      "../results/slamseq_MYB_degraded_coculture_v1/\n"
     ]
    }
   ],
   "source": [
    "res_dir = \"../results/slamseq_{}/\".format(project)\n",
    "print(res_dir)\n",
    "createDir(res_dir)"
   ]
  },
  {
   "cell_type": "code",
   "execution_count": 88,
   "id": "2a7dfd75",
   "metadata": {},
   "outputs": [],
   "source": [
    "# sort cols\n",
    "col = tccounts.columns.tolist()\n",
    "col.sort()\n",
    "tccounts = tccounts[col]"
   ]
  },
  {
   "cell_type": "code",
   "execution_count": 89,
   "id": "9b0e7248",
   "metadata": {},
   "outputs": [],
   "source": [
    "# sort cols\n",
    "col = readcounts.columns.tolist()\n",
    "col.sort()\n",
    "readcounts = readcounts[col]"
   ]
  },
  {
   "cell_type": "code",
   "execution_count": 90,
   "id": "f3e5d80a",
   "metadata": {},
   "outputs": [
    {
     "name": "stdout",
     "output_type": "stream",
     "text": [
      "(15920, 19)\n"
     ]
    },
    {
     "data": {
      "text/html": [
       "<div>\n",
       "<style scoped>\n",
       "    .dataframe tbody tr th:only-of-type {\n",
       "        vertical-align: middle;\n",
       "    }\n",
       "\n",
       "    .dataframe tbody tr th {\n",
       "        vertical-align: top;\n",
       "    }\n",
       "\n",
       "    .dataframe thead th {\n",
       "        text-align: right;\n",
       "    }\n",
       "</style>\n",
       "<table border=\"1\" class=\"dataframe\">\n",
       "  <thead>\n",
       "    <tr style=\"text-align: right;\">\n",
       "      <th></th>\n",
       "      <th>mr571-MV411-DMSO_coculture_12h-r1_tcount</th>\n",
       "      <th>mr572-MV411-DMSO_coculture_12h-r2_tcount</th>\n",
       "      <th>mr573-MV411-DMSO_coculture_12h-r3_tcount</th>\n",
       "      <th>mr574-MV411-DMSO_coculture_12h-r4_tcount</th>\n",
       "      <th>mr575-MV411-DMSO_coculture_12h-r5_tcount</th>\n",
       "      <th>mr576-MV411-VHL_coculture_12h-r1_tcount</th>\n",
       "      <th>mr577-MV411-VHL_coculture_12h-r2_tcount</th>\n",
       "      <th>mr578-MV411-VHL_coculture_12h-r3_tcount</th>\n",
       "      <th>mr579-MV411-VHL_coculture_12h-r4_tcount</th>\n",
       "      <th>mr580-MV411-VHL_coculture_12h-r5_tcount</th>\n",
       "      <th>mr581-MV411-MYB-dTAG-DMSO_coculture_12h-r1_tcount</th>\n",
       "      <th>mr582-MV411-MYB-dTAG-DMSO_coculture_12h-r2_tcount</th>\n",
       "      <th>mr583-MV411-MYB-dTAG-DMSO_coculture_12h-r3_tcount</th>\n",
       "      <th>mr584-MV411-MYB-dTAG-DMSO_coculture_12h-r4_tcount</th>\n",
       "      <th>mr585-MV411-MYB-dTAG-VHL_coculture_12h-r1_tcount</th>\n",
       "      <th>mr586-MV411-MYB-dTAG-VHL_coculture_12h-r2_tcount</th>\n",
       "      <th>mr587-MV411-MYB-dTAG-VHL_coculture_12h-r3_tcount</th>\n",
       "      <th>mr588-MV411-MYB-dTAG-VHL_coculture_12h-r4_tcount</th>\n",
       "      <th>mr589-MV411-MYB-dTAG-VHL_coculture_12h-r5_tcount</th>\n",
       "    </tr>\n",
       "  </thead>\n",
       "  <tbody>\n",
       "    <tr>\n",
       "      <th>NAT1</th>\n",
       "      <td>364</td>\n",
       "      <td>333</td>\n",
       "      <td>370</td>\n",
       "      <td>387</td>\n",
       "      <td>269</td>\n",
       "      <td>352</td>\n",
       "      <td>438</td>\n",
       "      <td>211</td>\n",
       "      <td>350</td>\n",
       "      <td>333</td>\n",
       "      <td>389</td>\n",
       "      <td>397</td>\n",
       "      <td>441</td>\n",
       "      <td>294</td>\n",
       "      <td>462</td>\n",
       "      <td>342</td>\n",
       "      <td>207</td>\n",
       "      <td>531</td>\n",
       "      <td>367</td>\n",
       "    </tr>\n",
       "    <tr>\n",
       "      <th>AAMP</th>\n",
       "      <td>531</td>\n",
       "      <td>542</td>\n",
       "      <td>677</td>\n",
       "      <td>505</td>\n",
       "      <td>402</td>\n",
       "      <td>479</td>\n",
       "      <td>656</td>\n",
       "      <td>572</td>\n",
       "      <td>450</td>\n",
       "      <td>571</td>\n",
       "      <td>593</td>\n",
       "      <td>528</td>\n",
       "      <td>500</td>\n",
       "      <td>471</td>\n",
       "      <td>484</td>\n",
       "      <td>363</td>\n",
       "      <td>252</td>\n",
       "      <td>604</td>\n",
       "      <td>431</td>\n",
       "    </tr>\n",
       "  </tbody>\n",
       "</table>\n",
       "</div>"
      ],
      "text/plain": [
       "      mr571-MV411-DMSO_coculture_12h-r1_tcount  \\\n",
       "NAT1                                       364   \n",
       "AAMP                                       531   \n",
       "\n",
       "      mr572-MV411-DMSO_coculture_12h-r2_tcount  \\\n",
       "NAT1                                       333   \n",
       "AAMP                                       542   \n",
       "\n",
       "      mr573-MV411-DMSO_coculture_12h-r3_tcount  \\\n",
       "NAT1                                       370   \n",
       "AAMP                                       677   \n",
       "\n",
       "      mr574-MV411-DMSO_coculture_12h-r4_tcount  \\\n",
       "NAT1                                       387   \n",
       "AAMP                                       505   \n",
       "\n",
       "      mr575-MV411-DMSO_coculture_12h-r5_tcount  \\\n",
       "NAT1                                       269   \n",
       "AAMP                                       402   \n",
       "\n",
       "      mr576-MV411-VHL_coculture_12h-r1_tcount  \\\n",
       "NAT1                                      352   \n",
       "AAMP                                      479   \n",
       "\n",
       "      mr577-MV411-VHL_coculture_12h-r2_tcount  \\\n",
       "NAT1                                      438   \n",
       "AAMP                                      656   \n",
       "\n",
       "      mr578-MV411-VHL_coculture_12h-r3_tcount  \\\n",
       "NAT1                                      211   \n",
       "AAMP                                      572   \n",
       "\n",
       "      mr579-MV411-VHL_coculture_12h-r4_tcount  \\\n",
       "NAT1                                      350   \n",
       "AAMP                                      450   \n",
       "\n",
       "      mr580-MV411-VHL_coculture_12h-r5_tcount  \\\n",
       "NAT1                                      333   \n",
       "AAMP                                      571   \n",
       "\n",
       "      mr581-MV411-MYB-dTAG-DMSO_coculture_12h-r1_tcount  \\\n",
       "NAT1                                                389   \n",
       "AAMP                                                593   \n",
       "\n",
       "      mr582-MV411-MYB-dTAG-DMSO_coculture_12h-r2_tcount  \\\n",
       "NAT1                                                397   \n",
       "AAMP                                                528   \n",
       "\n",
       "      mr583-MV411-MYB-dTAG-DMSO_coculture_12h-r3_tcount  \\\n",
       "NAT1                                                441   \n",
       "AAMP                                                500   \n",
       "\n",
       "      mr584-MV411-MYB-dTAG-DMSO_coculture_12h-r4_tcount  \\\n",
       "NAT1                                                294   \n",
       "AAMP                                                471   \n",
       "\n",
       "      mr585-MV411-MYB-dTAG-VHL_coculture_12h-r1_tcount  \\\n",
       "NAT1                                               462   \n",
       "AAMP                                               484   \n",
       "\n",
       "      mr586-MV411-MYB-dTAG-VHL_coculture_12h-r2_tcount  \\\n",
       "NAT1                                               342   \n",
       "AAMP                                               363   \n",
       "\n",
       "      mr587-MV411-MYB-dTAG-VHL_coculture_12h-r3_tcount  \\\n",
       "NAT1                                               207   \n",
       "AAMP                                               252   \n",
       "\n",
       "      mr588-MV411-MYB-dTAG-VHL_coculture_12h-r4_tcount  \\\n",
       "NAT1                                               531   \n",
       "AAMP                                               604   \n",
       "\n",
       "      mr589-MV411-MYB-dTAG-VHL_coculture_12h-r5_tcount  \n",
       "NAT1                                               367  \n",
       "AAMP                                               431  "
      ]
     },
     "execution_count": 90,
     "metadata": {},
     "output_type": "execute_result"
    }
   ],
   "source": [
    "print(readcounts.shape)\n",
    "readcounts.iloc[:2]"
   ]
  },
  {
   "cell_type": "markdown",
   "id": "c01afef4",
   "metadata": {},
   "source": [
    "read counts that are t $\\rightarrow$ c converted (actively transcribed)\n",
    "* most at 0 = most are not transcribed\n",
    "* a lot at 1 or everything at 0 is weird"
   ]
  },
  {
   "cell_type": "code",
   "execution_count": 91,
   "id": "28da7ba1",
   "metadata": {},
   "outputs": [
    {
     "name": "stdout",
     "output_type": "stream",
     "text": [
      "15320\n"
     ]
    },
    {
     "data": {
      "image/png": "[encoded data removed]",
      "text/plain": [
       "<Figure size 432x288 with 1 Axes>"
      ]
     },
     "metadata": {
      "needs_background": "light"
     },
     "output_type": "display_data"
    }
   ],
   "source": [
    "# what is the average of highly transcribed genes?\n",
    "# tccounts/readcounts where sum of readcounts in all samples > 30 \n",
    "a = tccounts[readcounts.sum(1)>30] / readcounts[readcounts.sum(1)>30]\n",
    "a = a.fillna(0)\n",
    "a = a.max(1).tolist() # max val per gene\n",
    "a.sort()\n",
    "print(len(a))\n",
    "sns.kdeplot(a)\n",
    "plt.xlabel(\"max tccounts / max readcounts per gene\")\n",
    "plt.title(project.replace(\"_\", \" \").split(\" v\")[0])\n",
    "\n",
    "plt.savefig(res_dir+'plots/'+project+'_tccounts_readcounts_density.pdf', dpi=300, bbox_inches=\"tight\")\n",
    "plt.show()"
   ]
  },
  {
   "cell_type": "code",
   "execution_count": 93,
   "id": "24a29b85",
   "metadata": {},
   "outputs": [
    {
     "data": {
      "text/plain": [
       "0.07142857142857142"
      ]
     },
     "execution_count": 93,
     "metadata": {},
     "output_type": "execute_result"
    }
   ],
   "source": [
    "# median or average across replicates t -> c converted\n",
    "np.median(a)"
   ]
  },
  {
   "cell_type": "code",
   "execution_count": 94,
   "id": "e8fb1cdf",
   "metadata": {},
   "outputs": [
    {
     "name": "stdout",
     "output_type": "stream",
     "text": [
      "Saved readcounts to: ../results/slamseq_MYB_degraded_coculture_v1/MYB_degraded_coculture_v1_0_5_readcounts.csv\n",
      "Saved tccounts to: ../results/slamseq_MYB_degraded_coculture_v1/MYB_degraded_coculture_v1_0_5_tccounts.csv\n"
     ]
    }
   ],
   "source": [
    "# Save counts to csv\n",
    "counts_file_prefix = project+'_'+str(minvar_toremove)+'_'+str(mincount_toremove)\n",
    "\n",
    "readcounts.to_csv(res_dir+counts_file_prefix+\"_readcounts.csv\",index=True, index_label=\"GENE\")\n",
    "print(\"Saved readcounts to: {}\".format(res_dir+counts_file_prefix+\"_readcounts.csv\"))\n",
    "\n",
    "tccounts.to_csv(res_dir+counts_file_prefix+\"_tccounts.csv\",index=True, index_label=\"GENE\")\n",
    "print(\"Saved tccounts to: {}\".format(res_dir+counts_file_prefix+\"_tccounts.csv\"))"
   ]
  },
  {
   "cell_type": "markdown",
   "id": "64e695ac",
   "metadata": {
    "heading_collapsed": true
   },
   "source": [
    "## make more dfs (mean, median, etc.)"
   ]
  },
  {
   "cell_type": "code",
   "execution_count": 95,
   "id": "1fd4996f",
   "metadata": {
    "hidden": true
   },
   "outputs": [
    {
     "data": {
      "text/html": [
       "<div>\n",
       "<style scoped>\n",
       "    .dataframe tbody tr th:only-of-type {\n",
       "        vertical-align: middle;\n",
       "    }\n",
       "\n",
       "    .dataframe tbody tr th {\n",
       "        vertical-align: top;\n",
       "    }\n",
       "\n",
       "    .dataframe thead th {\n",
       "        text-align: right;\n",
       "    }\n",
       "</style>\n",
       "<table border=\"1\" class=\"dataframe\">\n",
       "  <thead>\n",
       "    <tr style=\"text-align: right;\">\n",
       "      <th></th>\n",
       "      <th>mr571-MV411-DMSO_coculture_12h-r1_tcount</th>\n",
       "      <th>mr572-MV411-DMSO_coculture_12h-r2_tcount</th>\n",
       "      <th>mr573-MV411-DMSO_coculture_12h-r3_tcount</th>\n",
       "      <th>mr574-MV411-DMSO_coculture_12h-r4_tcount</th>\n",
       "      <th>mr575-MV411-DMSO_coculture_12h-r5_tcount</th>\n",
       "      <th>mr576-MV411-VHL_coculture_12h-r1_tcount</th>\n",
       "      <th>mr577-MV411-VHL_coculture_12h-r2_tcount</th>\n",
       "      <th>mr578-MV411-VHL_coculture_12h-r3_tcount</th>\n",
       "      <th>mr579-MV411-VHL_coculture_12h-r4_tcount</th>\n",
       "      <th>mr580-MV411-VHL_coculture_12h-r5_tcount</th>\n",
       "      <th>mr581-MV411-MYB-dTAG-DMSO_coculture_12h-r1_tcount</th>\n",
       "      <th>mr582-MV411-MYB-dTAG-DMSO_coculture_12h-r2_tcount</th>\n",
       "      <th>mr583-MV411-MYB-dTAG-DMSO_coculture_12h-r3_tcount</th>\n",
       "      <th>mr584-MV411-MYB-dTAG-DMSO_coculture_12h-r4_tcount</th>\n",
       "      <th>mr585-MV411-MYB-dTAG-VHL_coculture_12h-r1_tcount</th>\n",
       "      <th>mr586-MV411-MYB-dTAG-VHL_coculture_12h-r2_tcount</th>\n",
       "      <th>mr587-MV411-MYB-dTAG-VHL_coculture_12h-r3_tcount</th>\n",
       "      <th>mr588-MV411-MYB-dTAG-VHL_coculture_12h-r4_tcount</th>\n",
       "      <th>mr589-MV411-MYB-dTAG-VHL_coculture_12h-r5_tcount</th>\n",
       "    </tr>\n",
       "  </thead>\n",
       "  <tbody>\n",
       "    <tr>\n",
       "      <th>NAT1</th>\n",
       "      <td>364</td>\n",
       "      <td>333</td>\n",
       "      <td>370</td>\n",
       "      <td>387</td>\n",
       "      <td>269</td>\n",
       "      <td>352</td>\n",
       "      <td>438</td>\n",
       "      <td>211</td>\n",
       "      <td>350</td>\n",
       "      <td>333</td>\n",
       "      <td>389</td>\n",
       "      <td>397</td>\n",
       "      <td>441</td>\n",
       "      <td>294</td>\n",
       "      <td>462</td>\n",
       "      <td>342</td>\n",
       "      <td>207</td>\n",
       "      <td>531</td>\n",
       "      <td>367</td>\n",
       "    </tr>\n",
       "  </tbody>\n",
       "</table>\n",
       "</div>"
      ],
      "text/plain": [
       "      mr571-MV411-DMSO_coculture_12h-r1_tcount  \\\n",
       "NAT1                                       364   \n",
       "\n",
       "      mr572-MV411-DMSO_coculture_12h-r2_tcount  \\\n",
       "NAT1                                       333   \n",
       "\n",
       "      mr573-MV411-DMSO_coculture_12h-r3_tcount  \\\n",
       "NAT1                                       370   \n",
       "\n",
       "      mr574-MV411-DMSO_coculture_12h-r4_tcount  \\\n",
       "NAT1                                       387   \n",
       "\n",
       "      mr575-MV411-DMSO_coculture_12h-r5_tcount  \\\n",
       "NAT1                                       269   \n",
       "\n",
       "      mr576-MV411-VHL_coculture_12h-r1_tcount  \\\n",
       "NAT1                                      352   \n",
       "\n",
       "      mr577-MV411-VHL_coculture_12h-r2_tcount  \\\n",
       "NAT1                                      438   \n",
       "\n",
       "      mr578-MV411-VHL_coculture_12h-r3_tcount  \\\n",
       "NAT1                                      211   \n",
       "\n",
       "      mr579-MV411-VHL_coculture_12h-r4_tcount  \\\n",
       "NAT1                                      350   \n",
       "\n",
       "      mr580-MV411-VHL_coculture_12h-r5_tcount  \\\n",
       "NAT1                                      333   \n",
       "\n",
       "      mr581-MV411-MYB-dTAG-DMSO_coculture_12h-r1_tcount  \\\n",
       "NAT1                                                389   \n",
       "\n",
       "      mr582-MV411-MYB-dTAG-DMSO_coculture_12h-r2_tcount  \\\n",
       "NAT1                                                397   \n",
       "\n",
       "      mr583-MV411-MYB-dTAG-DMSO_coculture_12h-r3_tcount  \\\n",
       "NAT1                                                441   \n",
       "\n",
       "      mr584-MV411-MYB-dTAG-DMSO_coculture_12h-r4_tcount  \\\n",
       "NAT1                                                294   \n",
       "\n",
       "      mr585-MV411-MYB-dTAG-VHL_coculture_12h-r1_tcount  \\\n",
       "NAT1                                               462   \n",
       "\n",
       "      mr586-MV411-MYB-dTAG-VHL_coculture_12h-r2_tcount  \\\n",
       "NAT1                                               342   \n",
       "\n",
       "      mr587-MV411-MYB-dTAG-VHL_coculture_12h-r3_tcount  \\\n",
       "NAT1                                               207   \n",
       "\n",
       "      mr588-MV411-MYB-dTAG-VHL_coculture_12h-r4_tcount  \\\n",
       "NAT1                                               531   \n",
       "\n",
       "      mr589-MV411-MYB-dTAG-VHL_coculture_12h-r5_tcount  \n",
       "NAT1                                               367  "
      ]
     },
     "execution_count": 95,
     "metadata": {},
     "output_type": "execute_result"
    }
   ],
   "source": [
    "readcounts.iloc[:1]"
   ]
  },
  {
   "cell_type": "code",
   "execution_count": 107,
   "id": "670c9679",
   "metadata": {
    "hidden": true
   },
   "outputs": [
    {
     "name": "stdout",
     "output_type": "stream",
     "text": [
      "Genes with highest read counts per sample.\n",
      "MV411-DMSO: RPL13AP5 (191608)\n",
      "MV411-DMSO: RPL13AP5 (197049)\n",
      "MV411-DMSO: RPL13AP5 (195276)\n",
      "MV411-DMSO: RPL13AP5 (148147)\n",
      "MV411-DMSO: RPL13AP5 (145457)\n",
      "MV411-VHL: RPL13AP5 (185155)\n",
      "MV411-VHL: RPL13AP5 (197365)\n",
      "MV411-VHL: RPL13AP5 (163148)\n",
      "MV411-VHL: RPL13AP5 (158894)\n",
      "MV411-VHL: RPL13AP5 (195446)\n",
      "MV411-MYB-dTAG-DMSO: RPL13AP5 (160091)\n",
      "MV411-MYB-dTAG-DMSO: RPL13AP5 (152304)\n",
      "MV411-MYB-dTAG-DMSO: RPL13AP5 (162997)\n",
      "MV411-MYB-dTAG-DMSO: RPL13AP5 (161979)\n",
      "MV411-MYB-dTAG-VHL: RPL13AP5 (165279)\n",
      "MV411-MYB-dTAG-VHL: RPL13AP5 (146304)\n",
      "MV411-MYB-dTAG-VHL: RPL13AP5 (111772)\n",
      "MV411-MYB-dTAG-VHL: RPL13AP5 (261141)\n",
      "MV411-MYB-dTAG-VHL: RPL13AP5 (157231)\n"
     ]
    }
   ],
   "source": [
    "print(\"Genes with highest read counts per sample.\")\n",
    "for column in readcounts:\n",
    "    print(column.split(\"-\", 1)[1].split(\"_\")[0] +\": \"+ str(readcounts[column].idxmax()) \n",
    "          +\" (\"+str(readcounts[column].max())+\")\")"
   ]
  },
  {
   "cell_type": "code",
   "execution_count": 110,
   "id": "7369d6d1",
   "metadata": {
    "collapsed": true,
    "hidden": true
   },
   "outputs": [
    {
     "name": "stdout",
     "output_type": "stream",
     "text": [
      "{'MV411-DMSO_coculture_12h', 'MV411-VHL_coculture_12h', 'MV411-MYB-dTAG-VHL_coculture_12h', 'MV411-MYB-dTAG-DMSO_coculture_12h'}\n",
      "MV411-DMSO_coculture_12h\n"
     ]
    },
    {
     "data": {
      "text/plain": [
       "['MV411-DMSO_coculture_12h',\n",
       " 'MV411-VHL_coculture_12h',\n",
       " 'MV411-MYB-dTAG-DMSO_coculture_12h',\n",
       " 'MV411-MYB-dTAG-VHL_coculture_12h']"
      ]
     },
     "execution_count": 110,
     "metadata": {},
     "output_type": "execute_result"
    }
   ],
   "source": [
    "print(set([i.split('-', 1)[-1].rpartition(\"-\")[0] for i in tccounts.columns]))\n",
    "print(tccounts.columns[0].split('-', 1)[-1].rpartition(\"-\")[0])\n",
    "list(dict.fromkeys([i.split('-', 1)[-1].rpartition(\"-\")[0] for i in tccounts.columns]))"
   ]
  },
  {
   "cell_type": "code",
   "execution_count": 111,
   "id": "e9f3962e",
   "metadata": {
    "collapsed": true,
    "hidden": true
   },
   "outputs": [
    {
     "name": "stdout",
     "output_type": "stream",
     "text": [
      "MV411-DMSO_coculture_12h\n",
      "MV411-VHL_coculture_12h\n",
      "MV411-MYB-dTAG-DMSO_coculture_12h\n",
      "MV411-MYB-dTAG-VHL_coculture_12h\n"
     ]
    }
   ],
   "source": [
    "# get mean counts per condition\n",
    "mtccounts = pd.DataFrame()\n",
    "mreadcounts = pd.DataFrame()\n",
    "# conditions maintaing column order\n",
    "for i in list(dict.fromkeys([i.split('-', 1)[-1].rpartition(\"-\")[0] for i in tccounts.columns])):\n",
    "    print(i)\n",
    "    mtccounts[i] = tccounts[[v for v in tccounts.columns if i in v]].mean(1)\n",
    "    mreadcounts[i] = readcounts[[v for v in readcounts.columns if i in v]].mean(1)\n",
    "\n",
    "# save mean counts files\n",
    "mtccounts.to_csv(res_dir+counts_file_prefix+\"_mean_tccounts.csv\", index=True, index_label=\"GENE\")\n",
    "mreadcounts.to_csv(res_dir+counts_file_prefix+\"_mean_readcounts.csv\", index=True, index_label=\"GENE\")"
   ]
  },
  {
   "cell_type": "code",
   "execution_count": 112,
   "id": "697b0f4c",
   "metadata": {
    "collapsed": true,
    "hidden": true
   },
   "outputs": [
    {
     "name": "stdout",
     "output_type": "stream",
     "text": [
      "MV411-DMSO_coculture_12h\n",
      "MV411-VHL_coculture_12h\n",
      "MV411-MYB-dTAG-DMSO_coculture_12h\n",
      "MV411-MYB-dTAG-VHL_coculture_12h\n"
     ]
    }
   ],
   "source": [
    "# get median counts per condition\n",
    "mtccounts = pd.DataFrame()\n",
    "mreadcounts = pd.DataFrame()\n",
    "# conditions maintaing column order\n",
    "for i in list(dict.fromkeys([i.split('-', 1)[-1].rpartition(\"-\")[0] for i in tccounts.columns])):\n",
    "    print(i)\n",
    "    mtccounts[i] = tccounts[[v for v in tccounts.columns if i in v]].median(1)\n",
    "    mreadcounts[i] = readcounts[[v for v in readcounts.columns if i in v]].median(1)\n",
    "\n",
    "# save median counts files\n",
    "mtccounts.to_csv(res_dir+counts_file_prefix+\"_median_tccounts.csv\", index=True, index_label=\"GENE\")\n",
    "mreadcounts.to_csv(res_dir+counts_file_prefix+\"_median_readcounts.csv\", index=True, index_label=\"GENE\")"
   ]
  },
  {
   "cell_type": "code",
   "execution_count": 113,
   "id": "981887ee",
   "metadata": {
    "collapsed": true,
    "hidden": true
   },
   "outputs": [
    {
     "data": {
      "text/html": [
       "<div>\n",
       "<style scoped>\n",
       "    .dataframe tbody tr th:only-of-type {\n",
       "        vertical-align: middle;\n",
       "    }\n",
       "\n",
       "    .dataframe tbody tr th {\n",
       "        vertical-align: top;\n",
       "    }\n",
       "\n",
       "    .dataframe thead th {\n",
       "        text-align: right;\n",
       "    }\n",
       "</style>\n",
       "<table border=\"1\" class=\"dataframe\">\n",
       "  <thead>\n",
       "    <tr style=\"text-align: right;\">\n",
       "      <th></th>\n",
       "      <th>mr571-MV411-DMSO_coculture_12h-r1_tcount</th>\n",
       "      <th>mr572-MV411-DMSO_coculture_12h-r2_tcount</th>\n",
       "      <th>mr573-MV411-DMSO_coculture_12h-r3_tcount</th>\n",
       "      <th>mr574-MV411-DMSO_coculture_12h-r4_tcount</th>\n",
       "      <th>mr575-MV411-DMSO_coculture_12h-r5_tcount</th>\n",
       "      <th>mr576-MV411-VHL_coculture_12h-r1_tcount</th>\n",
       "      <th>mr577-MV411-VHL_coculture_12h-r2_tcount</th>\n",
       "      <th>mr578-MV411-VHL_coculture_12h-r3_tcount</th>\n",
       "      <th>mr579-MV411-VHL_coculture_12h-r4_tcount</th>\n",
       "      <th>mr580-MV411-VHL_coculture_12h-r5_tcount</th>\n",
       "      <th>mr581-MV411-MYB-dTAG-DMSO_coculture_12h-r1_tcount</th>\n",
       "      <th>mr582-MV411-MYB-dTAG-DMSO_coculture_12h-r2_tcount</th>\n",
       "      <th>mr583-MV411-MYB-dTAG-DMSO_coculture_12h-r3_tcount</th>\n",
       "      <th>mr584-MV411-MYB-dTAG-DMSO_coculture_12h-r4_tcount</th>\n",
       "      <th>mr585-MV411-MYB-dTAG-VHL_coculture_12h-r1_tcount</th>\n",
       "      <th>mr586-MV411-MYB-dTAG-VHL_coculture_12h-r2_tcount</th>\n",
       "      <th>mr587-MV411-MYB-dTAG-VHL_coculture_12h-r3_tcount</th>\n",
       "      <th>mr588-MV411-MYB-dTAG-VHL_coculture_12h-r4_tcount</th>\n",
       "      <th>mr589-MV411-MYB-dTAG-VHL_coculture_12h-r5_tcount</th>\n",
       "    </tr>\n",
       "  </thead>\n",
       "  <tbody>\n",
       "    <tr>\n",
       "      <th>NAT1</th>\n",
       "      <td>0.054945</td>\n",
       "      <td>0.051051</td>\n",
       "      <td>0.021622</td>\n",
       "      <td>0.031008</td>\n",
       "      <td>0.078067</td>\n",
       "      <td>0.065341</td>\n",
       "      <td>0.038813</td>\n",
       "      <td>0.047393</td>\n",
       "      <td>0.045714</td>\n",
       "      <td>0.063063</td>\n",
       "      <td>0.061697</td>\n",
       "      <td>0.055416</td>\n",
       "      <td>0.061224</td>\n",
       "      <td>0.040816</td>\n",
       "      <td>0.088745</td>\n",
       "      <td>0.076023</td>\n",
       "      <td>0.067633</td>\n",
       "      <td>0.052731</td>\n",
       "      <td>0.073569</td>\n",
       "    </tr>\n",
       "    <tr>\n",
       "      <th>AAMP</th>\n",
       "      <td>0.013183</td>\n",
       "      <td>0.014760</td>\n",
       "      <td>0.020679</td>\n",
       "      <td>0.011881</td>\n",
       "      <td>0.004975</td>\n",
       "      <td>0.012526</td>\n",
       "      <td>0.015244</td>\n",
       "      <td>0.034965</td>\n",
       "      <td>0.013333</td>\n",
       "      <td>0.019264</td>\n",
       "      <td>0.013491</td>\n",
       "      <td>0.011364</td>\n",
       "      <td>0.014000</td>\n",
       "      <td>0.008493</td>\n",
       "      <td>0.035124</td>\n",
       "      <td>0.013774</td>\n",
       "      <td>0.027778</td>\n",
       "      <td>0.023179</td>\n",
       "      <td>0.034803</td>\n",
       "    </tr>\n",
       "  </tbody>\n",
       "</table>\n",
       "</div>"
      ],
      "text/plain": [
       "      mr571-MV411-DMSO_coculture_12h-r1_tcount  \\\n",
       "NAT1                                  0.054945   \n",
       "AAMP                                  0.013183   \n",
       "\n",
       "      mr572-MV411-DMSO_coculture_12h-r2_tcount  \\\n",
       "NAT1                                  0.051051   \n",
       "AAMP                                  0.014760   \n",
       "\n",
       "      mr573-MV411-DMSO_coculture_12h-r3_tcount  \\\n",
       "NAT1                                  0.021622   \n",
       "AAMP                                  0.020679   \n",
       "\n",
       "      mr574-MV411-DMSO_coculture_12h-r4_tcount  \\\n",
       "NAT1                                  0.031008   \n",
       "AAMP                                  0.011881   \n",
       "\n",
       "      mr575-MV411-DMSO_coculture_12h-r5_tcount  \\\n",
       "NAT1                                  0.078067   \n",
       "AAMP                                  0.004975   \n",
       "\n",
       "      mr576-MV411-VHL_coculture_12h-r1_tcount  \\\n",
       "NAT1                                 0.065341   \n",
       "AAMP                                 0.012526   \n",
       "\n",
       "      mr577-MV411-VHL_coculture_12h-r2_tcount  \\\n",
       "NAT1                                 0.038813   \n",
       "AAMP                                 0.015244   \n",
       "\n",
       "      mr578-MV411-VHL_coculture_12h-r3_tcount  \\\n",
       "NAT1                                 0.047393   \n",
       "AAMP                                 0.034965   \n",
       "\n",
       "      mr579-MV411-VHL_coculture_12h-r4_tcount  \\\n",
       "NAT1                                 0.045714   \n",
       "AAMP                                 0.013333   \n",
       "\n",
       "      mr580-MV411-VHL_coculture_12h-r5_tcount  \\\n",
       "NAT1                                 0.063063   \n",
       "AAMP                                 0.019264   \n",
       "\n",
       "      mr581-MV411-MYB-dTAG-DMSO_coculture_12h-r1_tcount  \\\n",
       "NAT1                                           0.061697   \n",
       "AAMP                                           0.013491   \n",
       "\n",
       "      mr582-MV411-MYB-dTAG-DMSO_coculture_12h-r2_tcount  \\\n",
       "NAT1                                           0.055416   \n",
       "AAMP                                           0.011364   \n",
       "\n",
       "      mr583-MV411-MYB-dTAG-DMSO_coculture_12h-r3_tcount  \\\n",
       "NAT1                                           0.061224   \n",
       "AAMP                                           0.014000   \n",
       "\n",
       "      mr584-MV411-MYB-dTAG-DMSO_coculture_12h-r4_tcount  \\\n",
       "NAT1                                           0.040816   \n",
       "AAMP                                           0.008493   \n",
       "\n",
       "      mr585-MV411-MYB-dTAG-VHL_coculture_12h-r1_tcount  \\\n",
       "NAT1                                          0.088745   \n",
       "AAMP                                          0.035124   \n",
       "\n",
       "      mr586-MV411-MYB-dTAG-VHL_coculture_12h-r2_tcount  \\\n",
       "NAT1                                          0.076023   \n",
       "AAMP                                          0.013774   \n",
       "\n",
       "      mr587-MV411-MYB-dTAG-VHL_coculture_12h-r3_tcount  \\\n",
       "NAT1                                          0.067633   \n",
       "AAMP                                          0.027778   \n",
       "\n",
       "      mr588-MV411-MYB-dTAG-VHL_coculture_12h-r4_tcount  \\\n",
       "NAT1                                          0.052731   \n",
       "AAMP                                          0.023179   \n",
       "\n",
       "      mr589-MV411-MYB-dTAG-VHL_coculture_12h-r5_tcount  \n",
       "NAT1                                          0.073569  \n",
       "AAMP                                          0.034803  "
      ]
     },
     "execution_count": 113,
     "metadata": {},
     "output_type": "execute_result"
    }
   ],
   "source": [
    "(tccounts/readcounts).fillna(0).iloc[:2]"
   ]
  },
  {
   "cell_type": "code",
   "execution_count": 114,
   "id": "496955b1",
   "metadata": {
    "hidden": true,
    "scrolled": true
   },
   "outputs": [
    {
     "name": "stdout",
     "output_type": "stream",
     "text": [
      "Saved tccounts/readcounts to: ../results/slamseq_MYB_degraded_coculture_v1/MYB_degraded_coculture_v1_0_5_tccounts_per_readcounts.csv\n"
     ]
    }
   ],
   "source": [
    "# Save tccounts/readcounts file\n",
    "(tccounts/readcounts).fillna(0).to_csv(res_dir+counts_file_prefix+\"_tccounts_per_readcounts.csv\")\n",
    "print(\"Saved tccounts/readcounts to: {}\".format(res_dir+counts_file_prefix+\"_tccounts_per_readcounts.csv\"))"
   ]
  },
  {
   "cell_type": "markdown",
   "id": "044d7857",
   "metadata": {},
   "source": [
    "## look at similarity across replicates"
   ]
  },
  {
   "cell_type": "code",
   "execution_count": 124,
   "id": "1f43873e",
   "metadata": {},
   "outputs": [
    {
     "data": {
      "text/plain": [
       "['MV411-DMSO_coculture_12h',\n",
       " 'MV411-DMSO_coculture_12h',\n",
       " 'MV411-DMSO_coculture_12h',\n",
       " 'MV411-DMSO_coculture_12h',\n",
       " 'MV411-DMSO_coculture_12h',\n",
       " 'MV411-VHL_coculture_12h',\n",
       " 'MV411-VHL_coculture_12h',\n",
       " 'MV411-VHL_coculture_12h',\n",
       " 'MV411-VHL_coculture_12h',\n",
       " 'MV411-VHL_coculture_12h',\n",
       " 'MV411-MYB-dTAG-DMSO_coculture_12h',\n",
       " 'MV411-MYB-dTAG-DMSO_coculture_12h',\n",
       " 'MV411-MYB-dTAG-DMSO_coculture_12h',\n",
       " 'MV411-MYB-dTAG-DMSO_coculture_12h',\n",
       " 'MV411-MYB-dTAG-VHL_coculture_12h',\n",
       " 'MV411-MYB-dTAG-VHL_coculture_12h',\n",
       " 'MV411-MYB-dTAG-VHL_coculture_12h',\n",
       " 'MV411-MYB-dTAG-VHL_coculture_12h',\n",
       " 'MV411-MYB-dTAG-VHL_coculture_12h']"
      ]
     },
     "execution_count": 124,
     "metadata": {},
     "output_type": "execute_result"
    }
   ],
   "source": [
    "# conditions\n",
    "[i.split('-', 1)[-1].rpartition(\"-\")[0] for i in tccounts.columns]"
   ]
  },
  {
   "cell_type": "markdown",
   "id": "fd424f5b",
   "metadata": {},
   "source": [
    "### save plots to pdf"
   ]
  },
  {
   "cell_type": "code",
   "execution_count": 125,
   "id": "2e153aa0",
   "metadata": {},
   "outputs": [
    {
     "name": "stdout",
     "output_type": "stream",
     "text": [
      "Replicate similarity plot saved to: ../results/slamseq_MYB_degraded_coculture_v1/plots/MYB_degraded_coculture_v1_similarity_replicates_sorted_tccounts.pdf\n"
     ]
    },
    {
     "data": {
      "image/png": "[encoded data removed]",
      "text/plain": [
       "<Figure size 576x576 with 2 Axes>"
      ]
     },
     "metadata": {
      "needs_background": "light"
     },
     "output_type": "display_data"
    }
   ],
   "source": [
    "%matplotlib inline\n",
    "import matplotlib.font_manager\n",
    "\n",
    "font_settings = {\n",
    "    \"family\" : \"sans-serif\",\n",
    "    \"size\" : 10\n",
    "}\n",
    "plt.rc(\"font\", **font_settings)\n",
    "\n",
    "# tccounts\n",
    "fig, ax = plt.subplots(figsize=(8,8))\n",
    "sns.heatmap(tccounts.corr(),\n",
    "            # condition w/ rep label\n",
    "            xticklabels=[i.split('-', 1)[-1].rpartition(\"_\")[0] for i in tccounts.columns],\n",
    "            yticklabels=[i.split('-', 1)[-1].rpartition(\"_\")[0] for i in tccounts.columns],\n",
    "            ax=ax, cmap=\"rocket\")#, vmin=0.9, vmax=1)\n",
    "plt.title(project.replace(\"_\", \" \").split(\" v\")[0]+\"\\n\"+\"Replicate similarity: TC counts\")\n",
    "plt.tight_layout()\n",
    "\n",
    "plt.savefig(res_dir+'plots/'+project+'_similarity_replicates_sorted_tccounts.pdf', dpi=300)\n",
    "\n",
    "print(\"Replicate similarity plot saved to: {}\".format(res_dir+'plots/'+project+\n",
    "                                                      '_similarity_replicates_sorted_tccounts.pdf'))"
   ]
  },
  {
   "cell_type": "code",
   "execution_count": 126,
   "id": "365514ca",
   "metadata": {},
   "outputs": [
    {
     "name": "stdout",
     "output_type": "stream",
     "text": [
      "Replicate similarity plot saved to: ../results/slamseq_MYB_degraded_coculture_v1/plots/MYB_degraded_coculture_v1_similarity_replicates_sorted_readcounts.pdf\n"
     ]
    },
    {
     "data": {
      "image/png": "[encoded data removed]",
      "text/plain": [
       "<Figure size 576x576 with 2 Axes>"
      ]
     },
     "metadata": {
      "needs_background": "light"
     },
     "output_type": "display_data"
    }
   ],
   "source": [
    "%matplotlib inline\n",
    "\n",
    "# readcounts\n",
    "fig, ax = plt.subplots(figsize=(8,8))\n",
    "sns.heatmap(readcounts.corr(), \n",
    "            # condition w/ rep label\n",
    "            xticklabels=[i.split('-', 1)[-1].rpartition(\"_\")[0] for i in tccounts.columns],\n",
    "            yticklabels=[i.split('-', 1)[-1].rpartition(\"_\")[0] for i in tccounts.columns],\n",
    "            ax=ax) #, vmin=0.985, vmax=1)\n",
    "plt.title(project.replace(\"_\", \" \").split(\" v\")[0]+\"\\n\"+\"Replicate similarity: read counts\")\n",
    "plt.tight_layout()\n",
    "\n",
    "plt.savefig(res_dir+'plots/'+project+'_similarity_replicates_sorted_readcounts.pdf', dpi=300)\n",
    "\n",
    "print(\"Replicate similarity plot saved to: {}\".format(res_dir+'plots/'+project+\n",
    "                                                      '_similarity_replicates_sorted_readcounts.pdf'))"
   ]
  },
  {
   "cell_type": "markdown",
   "id": "1683549d",
   "metadata": {},
   "source": [
    "# DESEQ Analaysis"
   ]
  },
  {
   "cell_type": "code",
   "execution_count": 127,
   "id": "768e81c3",
   "metadata": {},
   "outputs": [
    {
     "name": "stdout",
     "output_type": "stream",
     "text": [
      "../results/slamseq_MYB_degraded_coculture_v1/\n"
     ]
    }
   ],
   "source": [
    "res_dir = \"../results/slamseq_{}/\".format(project)\n",
    "print(res_dir)"
   ]
  },
  {
   "cell_type": "code",
   "execution_count": 128,
   "id": "31543a79",
   "metadata": {
    "collapsed": true
   },
   "outputs": [
    {
     "data": {
      "text/html": [
       "<div>\n",
       "<style scoped>\n",
       "    .dataframe tbody tr th:only-of-type {\n",
       "        vertical-align: middle;\n",
       "    }\n",
       "\n",
       "    .dataframe tbody tr th {\n",
       "        vertical-align: top;\n",
       "    }\n",
       "\n",
       "    .dataframe thead th {\n",
       "        text-align: right;\n",
       "    }\n",
       "</style>\n",
       "<table border=\"1\" class=\"dataframe\">\n",
       "  <thead>\n",
       "    <tr style=\"text-align: right;\">\n",
       "      <th></th>\n",
       "      <th>mr571-MV411-DMSO_coculture_12h-r1_tcount</th>\n",
       "      <th>mr572-MV411-DMSO_coculture_12h-r2_tcount</th>\n",
       "      <th>mr573-MV411-DMSO_coculture_12h-r3_tcount</th>\n",
       "      <th>mr574-MV411-DMSO_coculture_12h-r4_tcount</th>\n",
       "      <th>mr575-MV411-DMSO_coculture_12h-r5_tcount</th>\n",
       "      <th>mr576-MV411-VHL_coculture_12h-r1_tcount</th>\n",
       "      <th>mr577-MV411-VHL_coculture_12h-r2_tcount</th>\n",
       "      <th>mr578-MV411-VHL_coculture_12h-r3_tcount</th>\n",
       "      <th>mr579-MV411-VHL_coculture_12h-r4_tcount</th>\n",
       "      <th>mr580-MV411-VHL_coculture_12h-r5_tcount</th>\n",
       "      <th>mr581-MV411-MYB-dTAG-DMSO_coculture_12h-r1_tcount</th>\n",
       "      <th>mr582-MV411-MYB-dTAG-DMSO_coculture_12h-r2_tcount</th>\n",
       "      <th>mr583-MV411-MYB-dTAG-DMSO_coculture_12h-r3_tcount</th>\n",
       "      <th>mr584-MV411-MYB-dTAG-DMSO_coculture_12h-r4_tcount</th>\n",
       "      <th>mr585-MV411-MYB-dTAG-VHL_coculture_12h-r1_tcount</th>\n",
       "      <th>mr586-MV411-MYB-dTAG-VHL_coculture_12h-r2_tcount</th>\n",
       "      <th>mr587-MV411-MYB-dTAG-VHL_coculture_12h-r3_tcount</th>\n",
       "      <th>mr588-MV411-MYB-dTAG-VHL_coculture_12h-r4_tcount</th>\n",
       "      <th>mr589-MV411-MYB-dTAG-VHL_coculture_12h-r5_tcount</th>\n",
       "    </tr>\n",
       "  </thead>\n",
       "  <tbody>\n",
       "    <tr>\n",
       "      <th>NAT1</th>\n",
       "      <td>364</td>\n",
       "      <td>333</td>\n",
       "      <td>370</td>\n",
       "      <td>387</td>\n",
       "      <td>269</td>\n",
       "      <td>352</td>\n",
       "      <td>438</td>\n",
       "      <td>211</td>\n",
       "      <td>350</td>\n",
       "      <td>333</td>\n",
       "      <td>389</td>\n",
       "      <td>397</td>\n",
       "      <td>441</td>\n",
       "      <td>294</td>\n",
       "      <td>462</td>\n",
       "      <td>342</td>\n",
       "      <td>207</td>\n",
       "      <td>531</td>\n",
       "      <td>367</td>\n",
       "    </tr>\n",
       "  </tbody>\n",
       "</table>\n",
       "</div>"
      ],
      "text/plain": [
       "      mr571-MV411-DMSO_coculture_12h-r1_tcount  \\\n",
       "NAT1                                       364   \n",
       "\n",
       "      mr572-MV411-DMSO_coculture_12h-r2_tcount  \\\n",
       "NAT1                                       333   \n",
       "\n",
       "      mr573-MV411-DMSO_coculture_12h-r3_tcount  \\\n",
       "NAT1                                       370   \n",
       "\n",
       "      mr574-MV411-DMSO_coculture_12h-r4_tcount  \\\n",
       "NAT1                                       387   \n",
       "\n",
       "      mr575-MV411-DMSO_coculture_12h-r5_tcount  \\\n",
       "NAT1                                       269   \n",
       "\n",
       "      mr576-MV411-VHL_coculture_12h-r1_tcount  \\\n",
       "NAT1                                      352   \n",
       "\n",
       "      mr577-MV411-VHL_coculture_12h-r2_tcount  \\\n",
       "NAT1                                      438   \n",
       "\n",
       "      mr578-MV411-VHL_coculture_12h-r3_tcount  \\\n",
       "NAT1                                      211   \n",
       "\n",
       "      mr579-MV411-VHL_coculture_12h-r4_tcount  \\\n",
       "NAT1                                      350   \n",
       "\n",
       "      mr580-MV411-VHL_coculture_12h-r5_tcount  \\\n",
       "NAT1                                      333   \n",
       "\n",
       "      mr581-MV411-MYB-dTAG-DMSO_coculture_12h-r1_tcount  \\\n",
       "NAT1                                                389   \n",
       "\n",
       "      mr582-MV411-MYB-dTAG-DMSO_coculture_12h-r2_tcount  \\\n",
       "NAT1                                                397   \n",
       "\n",
       "      mr583-MV411-MYB-dTAG-DMSO_coculture_12h-r3_tcount  \\\n",
       "NAT1                                                441   \n",
       "\n",
       "      mr584-MV411-MYB-dTAG-DMSO_coculture_12h-r4_tcount  \\\n",
       "NAT1                                                294   \n",
       "\n",
       "      mr585-MV411-MYB-dTAG-VHL_coculture_12h-r1_tcount  \\\n",
       "NAT1                                               462   \n",
       "\n",
       "      mr586-MV411-MYB-dTAG-VHL_coculture_12h-r2_tcount  \\\n",
       "NAT1                                               342   \n",
       "\n",
       "      mr587-MV411-MYB-dTAG-VHL_coculture_12h-r3_tcount  \\\n",
       "NAT1                                               207   \n",
       "\n",
       "      mr588-MV411-MYB-dTAG-VHL_coculture_12h-r4_tcount  \\\n",
       "NAT1                                               531   \n",
       "\n",
       "      mr589-MV411-MYB-dTAG-VHL_coculture_12h-r5_tcount  \n",
       "NAT1                                               367  "
      ]
     },
     "execution_count": 128,
     "metadata": {},
     "output_type": "execute_result"
    }
   ],
   "source": [
    "readcounts.iloc[:1]"
   ]
  },
  {
   "cell_type": "code",
   "execution_count": 129,
   "id": "5dfa64b5",
   "metadata": {},
   "outputs": [],
   "source": [
    "# make genes col\n",
    "readcounts[\"genes\"] = readcounts.index\n",
    "readcounts = readcounts.reset_index(drop=True)\n",
    "\n",
    "tccounts[\"genes\"] = tccounts.index\n",
    "tccounts = tccounts.reset_index(drop=True)"
   ]
  },
  {
   "cell_type": "code",
   "execution_count": 130,
   "id": "439a509a",
   "metadata": {
    "collapsed": true
   },
   "outputs": [
    {
     "data": {
      "text/html": [
       "<div>\n",
       "<style scoped>\n",
       "    .dataframe tbody tr th:only-of-type {\n",
       "        vertical-align: middle;\n",
       "    }\n",
       "\n",
       "    .dataframe tbody tr th {\n",
       "        vertical-align: top;\n",
       "    }\n",
       "\n",
       "    .dataframe thead th {\n",
       "        text-align: right;\n",
       "    }\n",
       "</style>\n",
       "<table border=\"1\" class=\"dataframe\">\n",
       "  <thead>\n",
       "    <tr style=\"text-align: right;\">\n",
       "      <th></th>\n",
       "      <th>mr571-MV411-DMSO_coculture_12h-r1_tcount</th>\n",
       "      <th>mr572-MV411-DMSO_coculture_12h-r2_tcount</th>\n",
       "      <th>mr573-MV411-DMSO_coculture_12h-r3_tcount</th>\n",
       "      <th>mr574-MV411-DMSO_coculture_12h-r4_tcount</th>\n",
       "      <th>mr575-MV411-DMSO_coculture_12h-r5_tcount</th>\n",
       "      <th>mr576-MV411-VHL_coculture_12h-r1_tcount</th>\n",
       "      <th>mr577-MV411-VHL_coculture_12h-r2_tcount</th>\n",
       "      <th>mr578-MV411-VHL_coculture_12h-r3_tcount</th>\n",
       "      <th>mr579-MV411-VHL_coculture_12h-r4_tcount</th>\n",
       "      <th>mr580-MV411-VHL_coculture_12h-r5_tcount</th>\n",
       "      <th>mr581-MV411-MYB-dTAG-DMSO_coculture_12h-r1_tcount</th>\n",
       "      <th>mr582-MV411-MYB-dTAG-DMSO_coculture_12h-r2_tcount</th>\n",
       "      <th>mr583-MV411-MYB-dTAG-DMSO_coculture_12h-r3_tcount</th>\n",
       "      <th>mr584-MV411-MYB-dTAG-DMSO_coculture_12h-r4_tcount</th>\n",
       "      <th>mr585-MV411-MYB-dTAG-VHL_coculture_12h-r1_tcount</th>\n",
       "      <th>mr586-MV411-MYB-dTAG-VHL_coculture_12h-r2_tcount</th>\n",
       "      <th>mr587-MV411-MYB-dTAG-VHL_coculture_12h-r3_tcount</th>\n",
       "      <th>mr588-MV411-MYB-dTAG-VHL_coculture_12h-r4_tcount</th>\n",
       "      <th>mr589-MV411-MYB-dTAG-VHL_coculture_12h-r5_tcount</th>\n",
       "      <th>genes</th>\n",
       "    </tr>\n",
       "  </thead>\n",
       "  <tbody>\n",
       "    <tr>\n",
       "      <th>0</th>\n",
       "      <td>364</td>\n",
       "      <td>333</td>\n",
       "      <td>370</td>\n",
       "      <td>387</td>\n",
       "      <td>269</td>\n",
       "      <td>352</td>\n",
       "      <td>438</td>\n",
       "      <td>211</td>\n",
       "      <td>350</td>\n",
       "      <td>333</td>\n",
       "      <td>389</td>\n",
       "      <td>397</td>\n",
       "      <td>441</td>\n",
       "      <td>294</td>\n",
       "      <td>462</td>\n",
       "      <td>342</td>\n",
       "      <td>207</td>\n",
       "      <td>531</td>\n",
       "      <td>367</td>\n",
       "      <td>NAT1</td>\n",
       "    </tr>\n",
       "  </tbody>\n",
       "</table>\n",
       "</div>"
      ],
      "text/plain": [
       "   mr571-MV411-DMSO_coculture_12h-r1_tcount  \\\n",
       "0                                       364   \n",
       "\n",
       "   mr572-MV411-DMSO_coculture_12h-r2_tcount  \\\n",
       "0                                       333   \n",
       "\n",
       "   mr573-MV411-DMSO_coculture_12h-r3_tcount  \\\n",
       "0                                       370   \n",
       "\n",
       "   mr574-MV411-DMSO_coculture_12h-r4_tcount  \\\n",
       "0                                       387   \n",
       "\n",
       "   mr575-MV411-DMSO_coculture_12h-r5_tcount  \\\n",
       "0                                       269   \n",
       "\n",
       "   mr576-MV411-VHL_coculture_12h-r1_tcount  \\\n",
       "0                                      352   \n",
       "\n",
       "   mr577-MV411-VHL_coculture_12h-r2_tcount  \\\n",
       "0                                      438   \n",
       "\n",
       "   mr578-MV411-VHL_coculture_12h-r3_tcount  \\\n",
       "0                                      211   \n",
       "\n",
       "   mr579-MV411-VHL_coculture_12h-r4_tcount  \\\n",
       "0                                      350   \n",
       "\n",
       "   mr580-MV411-VHL_coculture_12h-r5_tcount  \\\n",
       "0                                      333   \n",
       "\n",
       "   mr581-MV411-MYB-dTAG-DMSO_coculture_12h-r1_tcount  \\\n",
       "0                                                389   \n",
       "\n",
       "   mr582-MV411-MYB-dTAG-DMSO_coculture_12h-r2_tcount  \\\n",
       "0                                                397   \n",
       "\n",
       "   mr583-MV411-MYB-dTAG-DMSO_coculture_12h-r3_tcount  \\\n",
       "0                                                441   \n",
       "\n",
       "   mr584-MV411-MYB-dTAG-DMSO_coculture_12h-r4_tcount  \\\n",
       "0                                                294   \n",
       "\n",
       "   mr585-MV411-MYB-dTAG-VHL_coculture_12h-r1_tcount  \\\n",
       "0                                               462   \n",
       "\n",
       "   mr586-MV411-MYB-dTAG-VHL_coculture_12h-r2_tcount  \\\n",
       "0                                               342   \n",
       "\n",
       "   mr587-MV411-MYB-dTAG-VHL_coculture_12h-r3_tcount  \\\n",
       "0                                               207   \n",
       "\n",
       "   mr588-MV411-MYB-dTAG-VHL_coculture_12h-r4_tcount  \\\n",
       "0                                               531   \n",
       "\n",
       "   mr589-MV411-MYB-dTAG-VHL_coculture_12h-r5_tcount genes  \n",
       "0                                               367  NAT1  "
      ]
     },
     "execution_count": 130,
     "metadata": {},
     "output_type": "execute_result"
    }
   ],
   "source": [
    "readcounts.iloc[:1]"
   ]
  },
  {
   "cell_type": "markdown",
   "id": "5a48daff",
   "metadata": {},
   "source": [
    "__Exclude replicates__\n",
    "* MV411-DMSO_coculture_12h rep 3"
   ]
  },
  {
   "cell_type": "markdown",
   "id": "641fcc09",
   "metadata": {},
   "source": [
    "__ERCC normalization__\n",
    "* MV411 - no\n",
    "* MV411-MYB-dTAG - no"
   ]
  },
  {
   "cell_type": "code",
   "execution_count": 178,
   "id": "4dd44375",
   "metadata": {
    "collapsed": true
   },
   "outputs": [
    {
     "data": {
      "text/plain": [
       "Index(['mr571-MV411-DMSO_coculture_12h-r1_tcount',\n",
       "       'mr572-MV411-DMSO_coculture_12h-r2_tcount',\n",
       "       'mr573-MV411-DMSO_coculture_12h-r3_tcount',\n",
       "       'mr574-MV411-DMSO_coculture_12h-r4_tcount',\n",
       "       'mr575-MV411-DMSO_coculture_12h-r5_tcount',\n",
       "       'mr576-MV411-VHL_coculture_12h-r1_tcount',\n",
       "       'mr577-MV411-VHL_coculture_12h-r2_tcount',\n",
       "       'mr578-MV411-VHL_coculture_12h-r3_tcount',\n",
       "       'mr579-MV411-VHL_coculture_12h-r4_tcount',\n",
       "       'mr580-MV411-VHL_coculture_12h-r5_tcount',\n",
       "       'mr581-MV411-MYB-dTAG-DMSO_coculture_12h-r1_tcount',\n",
       "       'mr582-MV411-MYB-dTAG-DMSO_coculture_12h-r2_tcount',\n",
       "       'mr583-MV411-MYB-dTAG-DMSO_coculture_12h-r3_tcount',\n",
       "       'mr584-MV411-MYB-dTAG-DMSO_coculture_12h-r4_tcount',\n",
       "       'mr585-MV411-MYB-dTAG-VHL_coculture_12h-r1_tcount',\n",
       "       'mr586-MV411-MYB-dTAG-VHL_coculture_12h-r2_tcount',\n",
       "       'mr587-MV411-MYB-dTAG-VHL_coculture_12h-r3_tcount',\n",
       "       'mr588-MV411-MYB-dTAG-VHL_coculture_12h-r4_tcount',\n",
       "       'mr589-MV411-MYB-dTAG-VHL_coculture_12h-r5_tcount'],\n",
       "      dtype='object')"
      ]
     },
     "execution_count": 178,
     "metadata": {},
     "output_type": "execute_result"
    }
   ],
   "source": [
    "cols"
   ]
  },
  {
   "cell_type": "code",
   "execution_count": 179,
   "id": "da0b1ffa",
   "metadata": {},
   "outputs": [],
   "source": [
    "drop_samples = [\"MV411-DMSO_coculture_12h-r3\"]"
   ]
  },
  {
   "cell_type": "code",
   "execution_count": 219,
   "id": "176b1231",
   "metadata": {},
   "outputs": [
    {
     "data": {
      "text/plain": [
       "'MV411'"
      ]
     },
     "execution_count": 219,
     "metadata": {},
     "output_type": "execute_result"
    }
   ],
   "source": [
    "tccounts.columns[0].rsplit(\"-\", 2)[0].split(\"-\", 1)[-1]"
   ]
  },
  {
   "cell_type": "code",
   "execution_count": 218,
   "id": "ef99a279",
   "metadata": {},
   "outputs": [
    {
     "data": {
      "text/plain": [
       "'MV411-MYB-dTAG'"
      ]
     },
     "execution_count": 218,
     "metadata": {},
     "output_type": "execute_result"
    }
   ],
   "source": [
    "tccounts.columns[12].rsplit(\"-\", 2)[0].split(\"-\", 1)[-1]"
   ]
  },
  {
   "cell_type": "code",
   "execution_count": 205,
   "id": "be9ab96e",
   "metadata": {
    "collapsed": true
   },
   "outputs": [
    {
     "data": {
      "text/plain": [
       "['MV411-DMSO_coculture_12h',\n",
       " 'MV411-DMSO_coculture_12h',\n",
       " 'MV411-DMSO_coculture_12h',\n",
       " 'MV411-DMSO_coculture_12h',\n",
       " 'MV411-DMSO_coculture_12h',\n",
       " 'MV411-VHL_coculture_12h',\n",
       " 'MV411-VHL_coculture_12h',\n",
       " 'MV411-VHL_coculture_12h',\n",
       " 'MV411-VHL_coculture_12h',\n",
       " 'MV411-VHL_coculture_12h',\n",
       " 'MV411-MYB-dTAG-DMSO_coculture_12h',\n",
       " 'MV411-MYB-dTAG-DMSO_coculture_12h',\n",
       " 'MV411-MYB-dTAG-DMSO_coculture_12h',\n",
       " 'MV411-MYB-dTAG-DMSO_coculture_12h',\n",
       " 'MV411-MYB-dTAG-VHL_coculture_12h',\n",
       " 'MV411-MYB-dTAG-VHL_coculture_12h',\n",
       " 'MV411-MYB-dTAG-VHL_coculture_12h',\n",
       " 'MV411-MYB-dTAG-VHL_coculture_12h',\n",
       " 'MV411-MYB-dTAG-VHL_coculture_12h']"
      ]
     },
     "execution_count": 205,
     "metadata": {},
     "output_type": "execute_result"
    }
   ],
   "source": [
    "[x.split(\"-\", 1)[1].rsplit(\"-\", 1)[0] for x in cols]"
   ]
  },
  {
   "cell_type": "code",
   "execution_count": 234,
   "id": "7f2f804f",
   "metadata": {
    "collapsed": true
   },
   "outputs": [
    {
     "data": {
      "text/plain": [
       "['MV411',\n",
       " 'MV411',\n",
       " 'MV411',\n",
       " 'MV411',\n",
       " 'MV411',\n",
       " 'MV411',\n",
       " 'MV411',\n",
       " 'MV411',\n",
       " 'MV411',\n",
       " 'MV411',\n",
       " 'MV411-MYB-dTAG',\n",
       " 'MV411-MYB-dTAG',\n",
       " 'MV411-MYB-dTAG',\n",
       " 'MV411-MYB-dTAG',\n",
       " 'MV411-MYB-dTAG',\n",
       " 'MV411-MYB-dTAG',\n",
       " 'MV411-MYB-dTAG',\n",
       " 'MV411-MYB-dTAG',\n",
       " 'MV411-MYB-dTAG']"
      ]
     },
     "execution_count": 234,
     "metadata": {},
     "output_type": "execute_result"
    }
   ],
   "source": [
    "[x.rsplit(\"-\", 2)[0].split(\"-\", 1)[-1] for x in cols]"
   ]
  },
  {
   "cell_type": "code",
   "execution_count": 246,
   "id": "7aac7234",
   "metadata": {
    "collapsed": true
   },
   "outputs": [
    {
     "data": {
      "text/plain": [
       "['DMSO',\n",
       " 'DMSO',\n",
       " 'DMSO',\n",
       " 'DMSO',\n",
       " 'DMSO',\n",
       " 'VHL',\n",
       " 'VHL',\n",
       " 'VHL',\n",
       " 'VHL',\n",
       " 'VHL',\n",
       " 'DMSO',\n",
       " 'DMSO',\n",
       " 'DMSO',\n",
       " 'DMSO',\n",
       " 'VHL',\n",
       " 'VHL',\n",
       " 'VHL',\n",
       " 'VHL',\n",
       " 'VHL']"
      ]
     },
     "execution_count": 246,
     "metadata": {},
     "output_type": "execute_result"
    }
   ],
   "source": [
    "[x.split(\"-\")[-1].split(\"_\")[0] for x in conds]"
   ]
  },
  {
   "cell_type": "code",
   "execution_count": 247,
   "id": "d03ea17e",
   "metadata": {},
   "outputs": [
    {
     "data": {
      "text/html": [
       "<div>\n",
       "<style scoped>\n",
       "    .dataframe tbody tr th:only-of-type {\n",
       "        vertical-align: middle;\n",
       "    }\n",
       "\n",
       "    .dataframe tbody tr th {\n",
       "        vertical-align: top;\n",
       "    }\n",
       "\n",
       "    .dataframe thead th {\n",
       "        text-align: right;\n",
       "    }\n",
       "</style>\n",
       "<table border=\"1\" class=\"dataframe\">\n",
       "  <thead>\n",
       "    <tr style=\"text-align: right;\">\n",
       "      <th></th>\n",
       "      <th>col</th>\n",
       "      <th>experiment</th>\n",
       "      <th>cond</th>\n",
       "      <th>time</th>\n",
       "      <th>treatment</th>\n",
       "      <th>rep</th>\n",
       "      <th>drop</th>\n",
       "    </tr>\n",
       "  </thead>\n",
       "  <tbody>\n",
       "    <tr>\n",
       "      <th>0</th>\n",
       "      <td>mr571-MV411-DMSO_coculture_12h-r1_tcount</td>\n",
       "      <td>MV411</td>\n",
       "      <td>MV411-DMSO_coculture_12h</td>\n",
       "      <td>12h</td>\n",
       "      <td>DMSO</td>\n",
       "      <td>r1</td>\n",
       "      <td>False</td>\n",
       "    </tr>\n",
       "    <tr>\n",
       "      <th>1</th>\n",
       "      <td>mr572-MV411-DMSO_coculture_12h-r2_tcount</td>\n",
       "      <td>MV411</td>\n",
       "      <td>MV411-DMSO_coculture_12h</td>\n",
       "      <td>12h</td>\n",
       "      <td>DMSO</td>\n",
       "      <td>r2</td>\n",
       "      <td>False</td>\n",
       "    </tr>\n",
       "    <tr>\n",
       "      <th>2</th>\n",
       "      <td>mr573-MV411-DMSO_coculture_12h-r3_tcount</td>\n",
       "      <td>MV411</td>\n",
       "      <td>MV411-DMSO_coculture_12h</td>\n",
       "      <td>12h</td>\n",
       "      <td>DMSO</td>\n",
       "      <td>r3</td>\n",
       "      <td>True</td>\n",
       "    </tr>\n",
       "    <tr>\n",
       "      <th>3</th>\n",
       "      <td>mr574-MV411-DMSO_coculture_12h-r4_tcount</td>\n",
       "      <td>MV411</td>\n",
       "      <td>MV411-DMSO_coculture_12h</td>\n",
       "      <td>12h</td>\n",
       "      <td>DMSO</td>\n",
       "      <td>r4</td>\n",
       "      <td>False</td>\n",
       "    </tr>\n",
       "    <tr>\n",
       "      <th>4</th>\n",
       "      <td>mr575-MV411-DMSO_coculture_12h-r5_tcount</td>\n",
       "      <td>MV411</td>\n",
       "      <td>MV411-DMSO_coculture_12h</td>\n",
       "      <td>12h</td>\n",
       "      <td>DMSO</td>\n",
       "      <td>r5</td>\n",
       "      <td>False</td>\n",
       "    </tr>\n",
       "    <tr>\n",
       "      <th>5</th>\n",
       "      <td>mr576-MV411-VHL_coculture_12h-r1_tcount</td>\n",
       "      <td>MV411</td>\n",
       "      <td>MV411-VHL_coculture_12h</td>\n",
       "      <td>12h</td>\n",
       "      <td>VHL</td>\n",
       "      <td>r1</td>\n",
       "      <td>False</td>\n",
       "    </tr>\n",
       "    <tr>\n",
       "      <th>6</th>\n",
       "      <td>mr577-MV411-VHL_coculture_12h-r2_tcount</td>\n",
       "      <td>MV411</td>\n",
       "      <td>MV411-VHL_coculture_12h</td>\n",
       "      <td>12h</td>\n",
       "      <td>VHL</td>\n",
       "      <td>r2</td>\n",
       "      <td>False</td>\n",
       "    </tr>\n",
       "    <tr>\n",
       "      <th>7</th>\n",
       "      <td>mr578-MV411-VHL_coculture_12h-r3_tcount</td>\n",
       "      <td>MV411</td>\n",
       "      <td>MV411-VHL_coculture_12h</td>\n",
       "      <td>12h</td>\n",
       "      <td>VHL</td>\n",
       "      <td>r3</td>\n",
       "      <td>False</td>\n",
       "    </tr>\n",
       "    <tr>\n",
       "      <th>8</th>\n",
       "      <td>mr579-MV411-VHL_coculture_12h-r4_tcount</td>\n",
       "      <td>MV411</td>\n",
       "      <td>MV411-VHL_coculture_12h</td>\n",
       "      <td>12h</td>\n",
       "      <td>VHL</td>\n",
       "      <td>r4</td>\n",
       "      <td>False</td>\n",
       "    </tr>\n",
       "    <tr>\n",
       "      <th>9</th>\n",
       "      <td>mr580-MV411-VHL_coculture_12h-r5_tcount</td>\n",
       "      <td>MV411</td>\n",
       "      <td>MV411-VHL_coculture_12h</td>\n",
       "      <td>12h</td>\n",
       "      <td>VHL</td>\n",
       "      <td>r5</td>\n",
       "      <td>False</td>\n",
       "    </tr>\n",
       "    <tr>\n",
       "      <th>10</th>\n",
       "      <td>mr581-MV411-MYB-dTAG-DMSO_coculture_12h-r1_tcount</td>\n",
       "      <td>MV411-MYB-dTAG</td>\n",
       "      <td>MV411-MYB-dTAG-DMSO_coculture_12h</td>\n",
       "      <td>12h</td>\n",
       "      <td>DMSO</td>\n",
       "      <td>r1</td>\n",
       "      <td>False</td>\n",
       "    </tr>\n",
       "    <tr>\n",
       "      <th>11</th>\n",
       "      <td>mr582-MV411-MYB-dTAG-DMSO_coculture_12h-r2_tcount</td>\n",
       "      <td>MV411-MYB-dTAG</td>\n",
       "      <td>MV411-MYB-dTAG-DMSO_coculture_12h</td>\n",
       "      <td>12h</td>\n",
       "      <td>DMSO</td>\n",
       "      <td>r2</td>\n",
       "      <td>False</td>\n",
       "    </tr>\n",
       "    <tr>\n",
       "      <th>12</th>\n",
       "      <td>mr583-MV411-MYB-dTAG-DMSO_coculture_12h-r3_tcount</td>\n",
       "      <td>MV411-MYB-dTAG</td>\n",
       "      <td>MV411-MYB-dTAG-DMSO_coculture_12h</td>\n",
       "      <td>12h</td>\n",
       "      <td>DMSO</td>\n",
       "      <td>r3</td>\n",
       "      <td>False</td>\n",
       "    </tr>\n",
       "    <tr>\n",
       "      <th>13</th>\n",
       "      <td>mr584-MV411-MYB-dTAG-DMSO_coculture_12h-r4_tcount</td>\n",
       "      <td>MV411-MYB-dTAG</td>\n",
       "      <td>MV411-MYB-dTAG-DMSO_coculture_12h</td>\n",
       "      <td>12h</td>\n",
       "      <td>DMSO</td>\n",
       "      <td>r4</td>\n",
       "      <td>False</td>\n",
       "    </tr>\n",
       "    <tr>\n",
       "      <th>14</th>\n",
       "      <td>mr585-MV411-MYB-dTAG-VHL_coculture_12h-r1_tcount</td>\n",
       "      <td>MV411-MYB-dTAG</td>\n",
       "      <td>MV411-MYB-dTAG-VHL_coculture_12h</td>\n",
       "      <td>12h</td>\n",
       "      <td>VHL</td>\n",
       "      <td>r1</td>\n",
       "      <td>False</td>\n",
       "    </tr>\n",
       "    <tr>\n",
       "      <th>15</th>\n",
       "      <td>mr586-MV411-MYB-dTAG-VHL_coculture_12h-r2_tcount</td>\n",
       "      <td>MV411-MYB-dTAG</td>\n",
       "      <td>MV411-MYB-dTAG-VHL_coculture_12h</td>\n",
       "      <td>12h</td>\n",
       "      <td>VHL</td>\n",
       "      <td>r2</td>\n",
       "      <td>False</td>\n",
       "    </tr>\n",
       "    <tr>\n",
       "      <th>16</th>\n",
       "      <td>mr587-MV411-MYB-dTAG-VHL_coculture_12h-r3_tcount</td>\n",
       "      <td>MV411-MYB-dTAG</td>\n",
       "      <td>MV411-MYB-dTAG-VHL_coculture_12h</td>\n",
       "      <td>12h</td>\n",
       "      <td>VHL</td>\n",
       "      <td>r3</td>\n",
       "      <td>False</td>\n",
       "    </tr>\n",
       "    <tr>\n",
       "      <th>17</th>\n",
       "      <td>mr588-MV411-MYB-dTAG-VHL_coculture_12h-r4_tcount</td>\n",
       "      <td>MV411-MYB-dTAG</td>\n",
       "      <td>MV411-MYB-dTAG-VHL_coculture_12h</td>\n",
       "      <td>12h</td>\n",
       "      <td>VHL</td>\n",
       "      <td>r4</td>\n",
       "      <td>False</td>\n",
       "    </tr>\n",
       "    <tr>\n",
       "      <th>18</th>\n",
       "      <td>mr589-MV411-MYB-dTAG-VHL_coculture_12h-r5_tcount</td>\n",
       "      <td>MV411-MYB-dTAG</td>\n",
       "      <td>MV411-MYB-dTAG-VHL_coculture_12h</td>\n",
       "      <td>12h</td>\n",
       "      <td>VHL</td>\n",
       "      <td>r5</td>\n",
       "      <td>False</td>\n",
       "    </tr>\n",
       "  </tbody>\n",
       "</table>\n",
       "</div>"
      ],
      "text/plain": [
       "                                                  col      experiment  \\\n",
       "0            mr571-MV411-DMSO_coculture_12h-r1_tcount           MV411   \n",
       "1            mr572-MV411-DMSO_coculture_12h-r2_tcount           MV411   \n",
       "2            mr573-MV411-DMSO_coculture_12h-r3_tcount           MV411   \n",
       "3            mr574-MV411-DMSO_coculture_12h-r4_tcount           MV411   \n",
       "4            mr575-MV411-DMSO_coculture_12h-r5_tcount           MV411   \n",
       "5             mr576-MV411-VHL_coculture_12h-r1_tcount           MV411   \n",
       "6             mr577-MV411-VHL_coculture_12h-r2_tcount           MV411   \n",
       "7             mr578-MV411-VHL_coculture_12h-r3_tcount           MV411   \n",
       "8             mr579-MV411-VHL_coculture_12h-r4_tcount           MV411   \n",
       "9             mr580-MV411-VHL_coculture_12h-r5_tcount           MV411   \n",
       "10  mr581-MV411-MYB-dTAG-DMSO_coculture_12h-r1_tcount  MV411-MYB-dTAG   \n",
       "11  mr582-MV411-MYB-dTAG-DMSO_coculture_12h-r2_tcount  MV411-MYB-dTAG   \n",
       "12  mr583-MV411-MYB-dTAG-DMSO_coculture_12h-r3_tcount  MV411-MYB-dTAG   \n",
       "13  mr584-MV411-MYB-dTAG-DMSO_coculture_12h-r4_tcount  MV411-MYB-dTAG   \n",
       "14   mr585-MV411-MYB-dTAG-VHL_coculture_12h-r1_tcount  MV411-MYB-dTAG   \n",
       "15   mr586-MV411-MYB-dTAG-VHL_coculture_12h-r2_tcount  MV411-MYB-dTAG   \n",
       "16   mr587-MV411-MYB-dTAG-VHL_coculture_12h-r3_tcount  MV411-MYB-dTAG   \n",
       "17   mr588-MV411-MYB-dTAG-VHL_coculture_12h-r4_tcount  MV411-MYB-dTAG   \n",
       "18   mr589-MV411-MYB-dTAG-VHL_coculture_12h-r5_tcount  MV411-MYB-dTAG   \n",
       "\n",
       "                                 cond time treatment rep   drop  \n",
       "0            MV411-DMSO_coculture_12h  12h      DMSO  r1  False  \n",
       "1            MV411-DMSO_coculture_12h  12h      DMSO  r2  False  \n",
       "2            MV411-DMSO_coculture_12h  12h      DMSO  r3   True  \n",
       "3            MV411-DMSO_coculture_12h  12h      DMSO  r4  False  \n",
       "4            MV411-DMSO_coculture_12h  12h      DMSO  r5  False  \n",
       "5             MV411-VHL_coculture_12h  12h       VHL  r1  False  \n",
       "6             MV411-VHL_coculture_12h  12h       VHL  r2  False  \n",
       "7             MV411-VHL_coculture_12h  12h       VHL  r3  False  \n",
       "8             MV411-VHL_coculture_12h  12h       VHL  r4  False  \n",
       "9             MV411-VHL_coculture_12h  12h       VHL  r5  False  \n",
       "10  MV411-MYB-dTAG-DMSO_coculture_12h  12h      DMSO  r1  False  \n",
       "11  MV411-MYB-dTAG-DMSO_coculture_12h  12h      DMSO  r2  False  \n",
       "12  MV411-MYB-dTAG-DMSO_coculture_12h  12h      DMSO  r3  False  \n",
       "13  MV411-MYB-dTAG-DMSO_coculture_12h  12h      DMSO  r4  False  \n",
       "14   MV411-MYB-dTAG-VHL_coculture_12h  12h       VHL  r1  False  \n",
       "15   MV411-MYB-dTAG-VHL_coculture_12h  12h       VHL  r2  False  \n",
       "16   MV411-MYB-dTAG-VHL_coculture_12h  12h       VHL  r3  False  \n",
       "17   MV411-MYB-dTAG-VHL_coculture_12h  12h       VHL  r4  False  \n",
       "18   MV411-MYB-dTAG-VHL_coculture_12h  12h       VHL  r5  False  "
      ]
     },
     "execution_count": 247,
     "metadata": {},
     "output_type": "execute_result"
    }
   ],
   "source": [
    "# col info\n",
    "cols = tccounts.columns[:-1]\n",
    "experiments = [x.rsplit(\"-\", 2)[0].split(\"-\", 1)[-1] for x in cols]\n",
    "conds = [x.split(\"-\", 1)[1].rsplit(\"-\", 1)[0] for x in cols]\n",
    "time = [x.split(\"_\")[-1] for x in conds]\n",
    "treatment = [x.split(\"-\")[-1].split(\"_\")[0] for x in conds]\n",
    "rep = [x.split(\"_\")[-2].split(\"-\")[-1] for x in cols]\n",
    "drop = [True if any(sample in x for sample in drop_samples) else False for x in cols]\n",
    "\n",
    "# experimental design\n",
    "exp_design = pd.DataFrame(list(zip(cols, experiments, conds, time, treatment, rep, drop)), \n",
    "                          columns=[\"col\", \"experiment\", \"cond\", \"time\", \"treatment\", \"rep\", \"drop\"])\n",
    "\n",
    "exp_design"
   ]
  },
  {
   "cell_type": "code",
   "execution_count": 248,
   "id": "8de77bc3",
   "metadata": {},
   "outputs": [
    {
     "name": "stdout",
     "output_type": "stream",
     "text": [
      "Save exp design/meta data to: ../results/slamseq_MYB_degraded_coculture_v1/MYB_degraded_coculture_v1_metaData.csv\n"
     ]
    }
   ],
   "source": [
    "# save experimental design / metaData\n",
    "exp_design.to_csv(res_dir+project+\"_metaData.csv\", index=False)\n",
    "print(\"Save exp design/meta data to: \"+res_dir+project+\"_metaData.csv\")"
   ]
  },
  {
   "cell_type": "markdown",
   "id": "432cce00",
   "metadata": {},
   "source": [
    "## MV411 coculture 12h"
   ]
  },
  {
   "cell_type": "markdown",
   "id": "1a33f52d",
   "metadata": {},
   "source": [
    "### make design matrix"
   ]
  },
  {
   "cell_type": "code",
   "execution_count": 253,
   "id": "b4a6cf8f",
   "metadata": {},
   "outputs": [],
   "source": [
    "# MV411 coculture 12h\n",
    "version = \"v1\"\n",
    "var_name = \"experiment\"\n",
    "var = \"MV411\"\n",
    "var1 = \"DMSO\"\n",
    "var2 = \"VHL\"\n",
    "drop_rep = exp_design.loc[(exp_design[var_name] == var) & (exp_design[\"drop\"] == True), \"col\"]"
   ]
  },
  {
   "cell_type": "code",
   "execution_count": 254,
   "id": "ebc0dd56",
   "metadata": {},
   "outputs": [],
   "source": [
    "# tccounts\n",
    "tccountsGene = tccounts[tccounts.columns[:-1]]\n",
    "\n",
    "# readcounts\n",
    "readcountsGene = readcounts[readcounts.columns[:-1]]"
   ]
  },
  {
   "cell_type": "code",
   "execution_count": 266,
   "id": "5de624a9",
   "metadata": {},
   "outputs": [],
   "source": [
    "# get just var data\n",
    "# remove dropped reps\n",
    "var_cols = [1 if (exp_design.iloc[idx][var_name] == var) and (exp_design.iloc[idx][\"drop\"] == False)\n",
    "            else 0 for idx in range(exp_design.shape[0])]\n",
    "\n",
    "var1_cols = [1 if (exp_design.iloc[idx][var_name] == var) and (exp_design.iloc[idx][\"treatment\"] == var1) and\n",
    "             (exp_design.iloc[idx][\"drop\"] == False) else 0 for idx in range(exp_design.shape[0])]\n",
    "\n",
    "var2_cols = [1 if (exp_design.iloc[idx][var_name] == var) and (exp_design.iloc[idx][\"treatment\"] == var2) and \n",
    "            (exp_design.iloc[idx][\"drop\"] == False) else 0 for idx in range(exp_design.shape[0])]"
   ]
  },
  {
   "cell_type": "code",
   "execution_count": 270,
   "id": "2c466d4c",
   "metadata": {},
   "outputs": [],
   "source": [
    "# all columns\n",
    "design = pd.DataFrame(index= [i.replace(\"-\",\".\") for i in tccountsGene.columns], \n",
    "                      columns=[var1, var2], \n",
    "                      data=np.array([var1_cols, var2_cols], dtype=bool).T)"
   ]
  },
  {
   "cell_type": "code",
   "execution_count": 271,
   "id": "7a1fadf3",
   "metadata": {},
   "outputs": [
    {
     "data": {
      "text/html": [
       "<div>\n",
       "<style scoped>\n",
       "    .dataframe tbody tr th:only-of-type {\n",
       "        vertical-align: middle;\n",
       "    }\n",
       "\n",
       "    .dataframe tbody tr th {\n",
       "        vertical-align: top;\n",
       "    }\n",
       "\n",
       "    .dataframe thead th {\n",
       "        text-align: right;\n",
       "    }\n",
       "</style>\n",
       "<table border=\"1\" class=\"dataframe\">\n",
       "  <thead>\n",
       "    <tr style=\"text-align: right;\">\n",
       "      <th></th>\n",
       "      <th>DMSO</th>\n",
       "      <th>VHL</th>\n",
       "    </tr>\n",
       "  </thead>\n",
       "  <tbody>\n",
       "    <tr>\n",
       "      <th>mr571.MV411.DMSO_coculture_12h.r1_tcount</th>\n",
       "      <td>True</td>\n",
       "      <td>False</td>\n",
       "    </tr>\n",
       "    <tr>\n",
       "      <th>mr572.MV411.DMSO_coculture_12h.r2_tcount</th>\n",
       "      <td>True</td>\n",
       "      <td>False</td>\n",
       "    </tr>\n",
       "    <tr>\n",
       "      <th>mr573.MV411.DMSO_coculture_12h.r3_tcount</th>\n",
       "      <td>False</td>\n",
       "      <td>False</td>\n",
       "    </tr>\n",
       "    <tr>\n",
       "      <th>mr574.MV411.DMSO_coculture_12h.r4_tcount</th>\n",
       "      <td>True</td>\n",
       "      <td>False</td>\n",
       "    </tr>\n",
       "    <tr>\n",
       "      <th>mr575.MV411.DMSO_coculture_12h.r5_tcount</th>\n",
       "      <td>True</td>\n",
       "      <td>False</td>\n",
       "    </tr>\n",
       "    <tr>\n",
       "      <th>mr576.MV411.VHL_coculture_12h.r1_tcount</th>\n",
       "      <td>False</td>\n",
       "      <td>True</td>\n",
       "    </tr>\n",
       "    <tr>\n",
       "      <th>mr577.MV411.VHL_coculture_12h.r2_tcount</th>\n",
       "      <td>False</td>\n",
       "      <td>True</td>\n",
       "    </tr>\n",
       "    <tr>\n",
       "      <th>mr578.MV411.VHL_coculture_12h.r3_tcount</th>\n",
       "      <td>False</td>\n",
       "      <td>True</td>\n",
       "    </tr>\n",
       "    <tr>\n",
       "      <th>mr579.MV411.VHL_coculture_12h.r4_tcount</th>\n",
       "      <td>False</td>\n",
       "      <td>True</td>\n",
       "    </tr>\n",
       "    <tr>\n",
       "      <th>mr580.MV411.VHL_coculture_12h.r5_tcount</th>\n",
       "      <td>False</td>\n",
       "      <td>True</td>\n",
       "    </tr>\n",
       "    <tr>\n",
       "      <th>mr581.MV411.MYB.dTAG.DMSO_coculture_12h.r1_tcount</th>\n",
       "      <td>False</td>\n",
       "      <td>False</td>\n",
       "    </tr>\n",
       "    <tr>\n",
       "      <th>mr582.MV411.MYB.dTAG.DMSO_coculture_12h.r2_tcount</th>\n",
       "      <td>False</td>\n",
       "      <td>False</td>\n",
       "    </tr>\n",
       "    <tr>\n",
       "      <th>mr583.MV411.MYB.dTAG.DMSO_coculture_12h.r3_tcount</th>\n",
       "      <td>False</td>\n",
       "      <td>False</td>\n",
       "    </tr>\n",
       "    <tr>\n",
       "      <th>mr584.MV411.MYB.dTAG.DMSO_coculture_12h.r4_tcount</th>\n",
       "      <td>False</td>\n",
       "      <td>False</td>\n",
       "    </tr>\n",
       "    <tr>\n",
       "      <th>mr585.MV411.MYB.dTAG.VHL_coculture_12h.r1_tcount</th>\n",
       "      <td>False</td>\n",
       "      <td>False</td>\n",
       "    </tr>\n",
       "    <tr>\n",
       "      <th>mr586.MV411.MYB.dTAG.VHL_coculture_12h.r2_tcount</th>\n",
       "      <td>False</td>\n",
       "      <td>False</td>\n",
       "    </tr>\n",
       "    <tr>\n",
       "      <th>mr587.MV411.MYB.dTAG.VHL_coculture_12h.r3_tcount</th>\n",
       "      <td>False</td>\n",
       "      <td>False</td>\n",
       "    </tr>\n",
       "    <tr>\n",
       "      <th>mr588.MV411.MYB.dTAG.VHL_coculture_12h.r4_tcount</th>\n",
       "      <td>False</td>\n",
       "      <td>False</td>\n",
       "    </tr>\n",
       "    <tr>\n",
       "      <th>mr589.MV411.MYB.dTAG.VHL_coculture_12h.r5_tcount</th>\n",
       "      <td>False</td>\n",
       "      <td>False</td>\n",
       "    </tr>\n",
       "  </tbody>\n",
       "</table>\n",
       "</div>"
      ],
      "text/plain": [
       "                                                    DMSO    VHL\n",
       "mr571.MV411.DMSO_coculture_12h.r1_tcount            True  False\n",
       "mr572.MV411.DMSO_coculture_12h.r2_tcount            True  False\n",
       "mr573.MV411.DMSO_coculture_12h.r3_tcount           False  False\n",
       "mr574.MV411.DMSO_coculture_12h.r4_tcount            True  False\n",
       "mr575.MV411.DMSO_coculture_12h.r5_tcount            True  False\n",
       "mr576.MV411.VHL_coculture_12h.r1_tcount            False   True\n",
       "mr577.MV411.VHL_coculture_12h.r2_tcount            False   True\n",
       "mr578.MV411.VHL_coculture_12h.r3_tcount            False   True\n",
       "mr579.MV411.VHL_coculture_12h.r4_tcount            False   True\n",
       "mr580.MV411.VHL_coculture_12h.r5_tcount            False   True\n",
       "mr581.MV411.MYB.dTAG.DMSO_coculture_12h.r1_tcount  False  False\n",
       "mr582.MV411.MYB.dTAG.DMSO_coculture_12h.r2_tcount  False  False\n",
       "mr583.MV411.MYB.dTAG.DMSO_coculture_12h.r3_tcount  False  False\n",
       "mr584.MV411.MYB.dTAG.DMSO_coculture_12h.r4_tcount  False  False\n",
       "mr585.MV411.MYB.dTAG.VHL_coculture_12h.r1_tcount   False  False\n",
       "mr586.MV411.MYB.dTAG.VHL_coculture_12h.r2_tcount   False  False\n",
       "mr587.MV411.MYB.dTAG.VHL_coculture_12h.r3_tcount   False  False\n",
       "mr588.MV411.MYB.dTAG.VHL_coculture_12h.r4_tcount   False  False\n",
       "mr589.MV411.MYB.dTAG.VHL_coculture_12h.r5_tcount   False  False"
      ]
     },
     "execution_count": 271,
     "metadata": {},
     "output_type": "execute_result"
    }
   ],
   "source": [
    "design"
   ]
  },
  {
   "cell_type": "code",
   "execution_count": 272,
   "id": "15d40cf9",
   "metadata": {},
   "outputs": [],
   "source": [
    "# genes as first column\n",
    "tccountsGene = tccounts[['genes']+list(tccountsGene.columns)]\n",
    "readcountsGene = readcounts[['genes']+list(readcountsGene.columns)]"
   ]
  },
  {
   "cell_type": "markdown",
   "id": "89c12763",
   "metadata": {},
   "source": [
    "### ERCC samplewise scaled"
   ]
  },
  {
   "cell_type": "code",
   "execution_count": 273,
   "id": "25eeb139",
   "metadata": {},
   "outputs": [],
   "source": [
    "scaling=\"ERCCsamplewise\""
   ]
  },
  {
   "cell_type": "markdown",
   "id": "271d519b",
   "metadata": {},
   "source": [
    "__make DESeq object__"
   ]
  },
  {
   "cell_type": "code",
   "execution_count": 275,
   "id": "e291f304",
   "metadata": {},
   "outputs": [
    {
     "name": "stdout",
     "output_type": "stream",
     "text": [
      "you need to have R installed with the DESeq2 library installed\n",
      "3.4.5\n"
     ]
    }
   ],
   "source": [
    "# tccounts DESeq gene object\n",
    "deseqGene_tc = pyDESeq2.pyDESeq2(count_matrix=tccountsGene[tccountsGene.columns[np.array([1]+var_cols, bool)]], \n",
    "                                 design_matrix=design[np.array(var_cols, bool)],\n",
    "                                 design_formula=\"~{} - {}\".format(var1, var2),\n",
    "                                 gene_column=\"genes\")"
   ]
  },
  {
   "cell_type": "code",
   "execution_count": 276,
   "id": "1c7259d1",
   "metadata": {},
   "outputs": [
    {
     "name": "stdout",
     "output_type": "stream",
     "text": [
      "you need to have R installed with the DESeq2 library installed\n",
      "3.4.5\n"
     ]
    }
   ],
   "source": [
    "# readcounts DESeq gene object\n",
    "deseqGene_read = pyDESeq2.pyDESeq2(count_matrix=readcountsGene[readcountsGene.columns[np.array([1]+var_cols, bool)]], \n",
    "                                   design_matrix=design[np.array(var_cols, bool)],\n",
    "                                   design_formula=\"~{} - {}\".format(var1, var2),\n",
    "                                   gene_column=\"genes\")"
   ]
  },
  {
   "cell_type": "markdown",
   "id": "7ace1abe",
   "metadata": {},
   "source": [
    "__estimate & modify size factors__"
   ]
  },
  {
   "cell_type": "code",
   "execution_count": 281,
   "id": "bbad1a2c",
   "metadata": {},
   "outputs": [],
   "source": [
    "# tccounts\n",
    "deseqGene_tc.run_estimate_size_factors(geoMeans = np.exp(np.mean(np.log(\n",
    "    readcounts[tccountsGene.columns[[False]+design[var1].tolist()]].values+1), 1)))\n",
    "\n",
    "# readcounts\n",
    "deseqGene_read.run_estimate_size_factors()"
   ]
  },
  {
   "cell_type": "code",
   "execution_count": 282,
   "id": "459291a0",
   "metadata": {
    "collapsed": true
   },
   "outputs": [
    {
     "data": {
      "text/plain": [
       "0\n",
       "ERCC_mr571-MV411-DMSO_coculture_12h-r1_filtered.bam    0.262719\n",
       "ERCC_mr572-MV411-DMSO_coculture_12h-r2_filtered.bam    0.255045\n",
       "ERCC_mr574-MV411-DMSO_coculture_12h-r4_filtered.bam    0.244661\n",
       "ERCC_mr575-MV411-DMSO_coculture_12h-r5_filtered.bam    0.307137\n",
       "ERCC_mr576-MV411-VHL_coculture_12h-r1_filtered.bam     0.218961\n",
       "ERCC_mr577-MV411-VHL_coculture_12h-r2_filtered.bam     0.313618\n",
       "ERCC_mr578-MV411-VHL_coculture_12h-r3_filtered.bam     0.293663\n",
       "ERCC_mr579-MV411-VHL_coculture_12h-r4_filtered.bam     0.254574\n",
       "ERCC_mr580-MV411-VHL_coculture_12h-r5_filtered.bam     0.272461\n",
       "Name: 1, dtype: float64"
      ]
     },
     "execution_count": 282,
     "metadata": {},
     "output_type": "execute_result"
    }
   ],
   "source": [
    "# read in ERCC pseudocounts\n",
    "res = pd.read_csv(res_dir+\"/\"+project+\"_scaling_factors.csv\", index_col=0, header=None, squeeze=True)\n",
    "\n",
    "# select var values\n",
    "res = res[np.array(var_cols, dtype=bool)]\n",
    "res"
   ]
  },
  {
   "cell_type": "markdown",
   "id": "fa4914f7",
   "metadata": {},
   "source": [
    "__modify size factors__\n",
    "<br> VHL size factor * adjusted VHL res (VHL res per sample / average DMSO res)"
   ]
  },
  {
   "cell_type": "code",
   "execution_count": 285,
   "id": "3d607555",
   "metadata": {},
   "outputs": [],
   "source": [
    "# tccounts\n",
    "sizeFact = deseqGene_tc.getSizeFactors()\n",
    "sizeFact[sum(var1_cols):] = sizeFact[sum(var1_cols):] * (res[[i for i in res.index if '-'+str(var2) in i]].values/\n",
    "                                                         res[[i for i in res.index if '-'+str(var1) in i]].values.mean())\n",
    "deseqGene_tc.setSizeFactors(sizeFact)"
   ]
  },
  {
   "cell_type": "code",
   "execution_count": 284,
   "id": "1d1a6873",
   "metadata": {},
   "outputs": [
    {
     "data": {
      "text/plain": [
       "array([0.21896096, 0.31361792, 0.29366274, 0.25457356, 0.27246068])"
      ]
     },
     "execution_count": 284,
     "metadata": {},
     "output_type": "execute_result"
    }
   ],
   "source": [
    "res[[i for i in res.index if '-VHL' in i]].values"
   ]
  },
  {
   "cell_type": "code",
   "execution_count": 286,
   "id": "c7a2d656",
   "metadata": {},
   "outputs": [],
   "source": [
    "# readcounts\n",
    "sizeFact = deseqGene_read.getSizeFactors()\n",
    "sizeFact[sum(var1_cols):] = sizeFact[sum(var1_cols):] * (res[[i for i in res.index if '-'+str(var2) in i]].values/\n",
    "                                                         res[[i for i in res.index if '-'+str(var1) in i]].values.mean())\n",
    "deseqGene_read.setSizeFactors(sizeFact)"
   ]
  },
  {
   "cell_type": "markdown",
   "id": "831b99ef",
   "metadata": {},
   "source": [
    "__run it__"
   ]
  },
  {
   "cell_type": "code",
   "execution_count": 287,
   "id": "d98c85c2",
   "metadata": {},
   "outputs": [
    {
     "name": "stderr",
     "output_type": "stream",
     "text": [
      "R[write to console]: using pre-existing size factors\n",
      "\n",
      "R[write to console]: estimating dispersions\n",
      "\n",
      "R[write to console]: gene-wise dispersion estimates\n",
      "\n",
      "R[write to console]: mean-dispersion relationship\n",
      "\n",
      "R[write to console]: final dispersion estimates\n",
      "\n",
      "R[write to console]: fitting model and testing\n",
      "\n"
     ]
    },
    {
     "name": "stdout",
     "output_type": "stream",
     "text": [
      "CPU times: user 10.4 s, sys: 400 ms, total: 10.8 s\n",
      "Wall time: 38.5 s\n"
     ]
    }
   ],
   "source": [
    "%%time\n",
    "\n",
    "# tccounts\n",
    "deseqGene_tc.run_deseq()\n",
    "deseqGene_tc.get_deseq_result()\n",
    "\n",
    "resGene_tc = deseqGene_tc.deseq_result\n",
    "resGene_tc.pvalue = np.nan_to_num(np.array(resGene_tc.pvalue), 1)\n",
    "resGene_tc.log2FoldChange = np.nan_to_num(np.array(resGene_tc.log2FoldChange), 0)\n",
    "resGene_tc.log2FoldChange = -resGene_tc.log2FoldChange\n",
    "resGene_tc[\"gene_id\"] = resGene_tc.genes"
   ]
  },
  {
   "cell_type": "code",
   "execution_count": 288,
   "id": "e049badf",
   "metadata": {
    "scrolled": true
   },
   "outputs": [
    {
     "name": "stderr",
     "output_type": "stream",
     "text": [
      "R[write to console]: using pre-existing size factors\n",
      "\n",
      "R[write to console]: estimating dispersions\n",
      "\n",
      "R[write to console]: gene-wise dispersion estimates\n",
      "\n",
      "R[write to console]: mean-dispersion relationship\n",
      "\n",
      "R[write to console]: final dispersion estimates\n",
      "\n",
      "R[write to console]: fitting model and testing\n",
      "\n"
     ]
    },
    {
     "name": "stdout",
     "output_type": "stream",
     "text": [
      "CPU times: user 10.7 s, sys: 976 ms, total: 11.7 s\n",
      "Wall time: 38.3 s\n"
     ]
    }
   ],
   "source": [
    "%%time\n",
    "\n",
    "#readcounts\n",
    "deseqGene_read.run_deseq()\n",
    "deseqGene_read.get_deseq_result()\n",
    "\n",
    "resGene_read = deseqGene_read.deseq_result\n",
    "resGene_read.pvalue = np.nan_to_num(np.array(resGene_read.pvalue), 1)\n",
    "resGene_read.log2FoldChange = np.nan_to_num(np.array(resGene_read.log2FoldChange), 0)\n",
    "resGene_read.log2FoldChange = -resGene_read.log2FoldChange\n",
    "resGene_read[\"gene_id\"] = resGene_read.genes"
   ]
  },
  {
   "cell_type": "markdown",
   "id": "50961bf7",
   "metadata": {},
   "source": [
    "__save DESeq results__"
   ]
  },
  {
   "cell_type": "code",
   "execution_count": 289,
   "id": "c5aa5d8d",
   "metadata": {},
   "outputs": [],
   "source": [
    "# check all genes are in output\n",
    "if not tccounts.shape[0] == resGene_tc.shape[0]:\n",
    "    raise ValueError(\"Results do not have the same number of genes as counts.\")\n",
    "\n",
    "if not tccounts[\"genes\"].isin(resGene_tc[\"genes\"]).all():\n",
    "    raise ValueError(\"Results do not have the same genes as counts.\")"
   ]
  },
  {
   "cell_type": "code",
   "execution_count": 291,
   "id": "9901d690",
   "metadata": {},
   "outputs": [
    {
     "data": {
      "text/plain": [
       "'MYB_degraded_coculture_v1_MV411_DMSO_VHL_ERCCsamplewise_0_5_deseq_tccounts.csv'"
      ]
     },
     "execution_count": 291,
     "metadata": {},
     "output_type": "execute_result"
    }
   ],
   "source": [
    "\"{}_{}_deseq_tccounts.csv\".format(project, \"_\".join(\n",
    "    filter(None, [var, var1, var2, scaling, str(minvar_toremove), str(mincount_toremove)])))"
   ]
  },
  {
   "cell_type": "code",
   "execution_count": 293,
   "id": "1c2e5a14",
   "metadata": {},
   "outputs": [
    {
     "name": "stdout",
     "output_type": "stream",
     "text": [
      "Saved DESeq results to: MYB_degraded_coculture_v1_MV411_DMSO_VHL_ERCCsamplewise_0_5_deseq_tccounts.csv\n"
     ]
    }
   ],
   "source": [
    "# tccounts\n",
    "deseq_res_file = \"{}_{}_deseq_tccounts.csv\".format(project, \"_\".join(\n",
    "    filter(None, [var, var1, var2, scaling, str(minvar_toremove), str(mincount_toremove)])))\n",
    "resGene_tc.to_csv(\"{}/{}\".format(res_dir, deseq_res_file), index=False)\n",
    "\n",
    "print(\"Saved DESeq results to: {}\".format(deseq_res_file))"
   ]
  },
  {
   "cell_type": "code",
   "execution_count": 294,
   "id": "edcf946c",
   "metadata": {},
   "outputs": [
    {
     "name": "stdout",
     "output_type": "stream",
     "text": [
      "Saved DESeq results to: MYB_degraded_coculture_v1_MV411_DMSO_VHL_ERCCsamplewise_0_5_deseq_readcounts.csv\n"
     ]
    }
   ],
   "source": [
    "# readcounts\n",
    "deseq_res_file = \"{}_{}_deseq_readcounts.csv\".format(project, \"_\".join(\n",
    "    filter(None, [var, var1, var2, scaling, str(minvar_toremove), str(mincount_toremove)])))\n",
    "resGene_read.to_csv(\"{}/{}\".format(res_dir, deseq_res_file), index=False)\n",
    "\n",
    "print(\"Saved DESeq results to: {}\".format(deseq_res_file))"
   ]
  },
  {
   "cell_type": "markdown",
   "id": "98b3e0b6",
   "metadata": {},
   "source": [
    "### Unscaled"
   ]
  },
  {
   "cell_type": "code",
   "execution_count": 297,
   "id": "2b7d323e",
   "metadata": {},
   "outputs": [],
   "source": [
    "scaling = None"
   ]
  },
  {
   "cell_type": "markdown",
   "id": "e7bb1ea6",
   "metadata": {},
   "source": [
    "__make DESeq object__"
   ]
  },
  {
   "cell_type": "code",
   "execution_count": 298,
   "id": "07b6f116",
   "metadata": {},
   "outputs": [
    {
     "name": "stdout",
     "output_type": "stream",
     "text": [
      "you need to have R installed with the DESeq2 library installed\n",
      "3.4.5\n"
     ]
    }
   ],
   "source": [
    "# tccounts DESeq gene object\n",
    "# just var data\n",
    "deseqGene_tc = pyDESeq2.pyDESeq2(count_matrix=tccountsGene[tccountsGene.columns[np.array([1]+var_cols, bool)]], \n",
    "                                 design_matrix=design[np.array(var_cols, bool)],\n",
    "                                 design_formula=\"~{} - {}\".format(var1, var2),\n",
    "                                 gene_column=\"genes\")"
   ]
  },
  {
   "cell_type": "code",
   "execution_count": 299,
   "id": "4d0d26c5",
   "metadata": {},
   "outputs": [
    {
     "name": "stdout",
     "output_type": "stream",
     "text": [
      "you need to have R installed with the DESeq2 library installed\n",
      "3.4.5\n"
     ]
    }
   ],
   "source": [
    "# readcounts DESeq gene object\n",
    "deseqGene_read = pyDESeq2.pyDESeq2(count_matrix=readcountsGene[readcountsGene.columns[np.array([1]+var_cols, bool)]], \n",
    "                                   design_matrix=design[np.array(var_cols, bool)],\n",
    "                                   design_formula=\"~{} - {}\".format(var1, var2),\n",
    "                                   gene_column=\"genes\")"
   ]
  },
  {
   "cell_type": "markdown",
   "id": "ed0907cd",
   "metadata": {},
   "source": [
    "__estimate size factors__"
   ]
  },
  {
   "cell_type": "code",
   "execution_count": 300,
   "id": "560b1319",
   "metadata": {},
   "outputs": [],
   "source": [
    "# tccounts\n",
    "deseqGene_tc.run_estimate_size_factors(geoMeans = np.exp(np.mean(np.log(\n",
    "    readcounts[tccountsGene.columns[[False]+design[var1].tolist()]].values+1), 1)))\n",
    "\n",
    "# readcounts\n",
    "deseqGene_read.run_estimate_size_factors()"
   ]
  },
  {
   "cell_type": "markdown",
   "id": "a63ae7cb",
   "metadata": {},
   "source": [
    "__run it__"
   ]
  },
  {
   "cell_type": "code",
   "execution_count": 301,
   "id": "4a4d6eda",
   "metadata": {},
   "outputs": [
    {
     "name": "stderr",
     "output_type": "stream",
     "text": [
      "R[write to console]: using pre-existing size factors\n",
      "\n",
      "R[write to console]: estimating dispersions\n",
      "\n",
      "R[write to console]: gene-wise dispersion estimates\n",
      "\n",
      "R[write to console]: mean-dispersion relationship\n",
      "\n",
      "R[write to console]: final dispersion estimates\n",
      "\n",
      "R[write to console]: fitting model and testing\n",
      "\n"
     ]
    },
    {
     "name": "stdout",
     "output_type": "stream",
     "text": [
      "CPU times: user 10 s, sys: 556 ms, total: 10.6 s\n",
      "Wall time: 37.1 s\n"
     ]
    }
   ],
   "source": [
    "%%time\n",
    "\n",
    "# tccounts\n",
    "deseqGene_tc.run_deseq()\n",
    "deseqGene_tc.get_deseq_result()\n",
    "\n",
    "resGene_tc = deseqGene_tc.deseq_result\n",
    "resGene_tc.pvalue = np.nan_to_num(np.array(resGene_tc.pvalue), 1)\n",
    "resGene_tc.log2FoldChange = np.nan_to_num(np.array(resGene_tc.log2FoldChange), 0)\n",
    "resGene_tc.log2FoldChange = -resGene_tc.log2FoldChange\n",
    "resGene_tc[\"gene_id\"] = resGene_tc.genes"
   ]
  },
  {
   "cell_type": "code",
   "execution_count": 302,
   "id": "7eeac378",
   "metadata": {},
   "outputs": [
    {
     "name": "stderr",
     "output_type": "stream",
     "text": [
      "R[write to console]: using pre-existing size factors\n",
      "\n",
      "R[write to console]: estimating dispersions\n",
      "\n",
      "R[write to console]: gene-wise dispersion estimates\n",
      "\n",
      "R[write to console]: mean-dispersion relationship\n",
      "\n",
      "R[write to console]: final dispersion estimates\n",
      "\n",
      "R[write to console]: fitting model and testing\n",
      "\n"
     ]
    },
    {
     "name": "stdout",
     "output_type": "stream",
     "text": [
      "CPU times: user 11.4 s, sys: 896 ms, total: 12.3 s\n",
      "Wall time: 37.7 s\n"
     ]
    }
   ],
   "source": [
    "%%time\n",
    "\n",
    "#readcounts\n",
    "deseqGene_read.run_deseq()\n",
    "deseqGene_read.get_deseq_result()\n",
    "\n",
    "resGene_read = deseqGene_read.deseq_result\n",
    "resGene_read.pvalue = np.nan_to_num(np.array(resGene_read.pvalue), 1)\n",
    "resGene_read.log2FoldChange = np.nan_to_num(np.array(resGene_read.log2FoldChange), 0)\n",
    "resGene_read.log2FoldChange = -resGene_read.log2FoldChange\n",
    "resGene_read[\"gene_id\"] = resGene_read.genes"
   ]
  },
  {
   "cell_type": "markdown",
   "id": "c2de4736",
   "metadata": {},
   "source": [
    "__save DESeq results__"
   ]
  },
  {
   "cell_type": "code",
   "execution_count": 303,
   "id": "7e99f41b",
   "metadata": {},
   "outputs": [],
   "source": [
    "# check all genes are in output\n",
    "if not tccounts.shape[0] == resGene_tc.shape[0]:\n",
    "    raise ValueError(\"Results do not have the same number of genes as counts.\")\n",
    "\n",
    "if not tccounts[\"genes\"].isin(resGene_tc[\"genes\"]).all():\n",
    "    raise ValueError(\"Results do not have the same genes as counts.\")"
   ]
  },
  {
   "cell_type": "code",
   "execution_count": 304,
   "id": "96347bdf",
   "metadata": {},
   "outputs": [
    {
     "data": {
      "text/plain": [
       "'MYB_degraded_coculture_v1_MV411_DMSO_VHL_0_5_deseq_tccounts.csv'"
      ]
     },
     "execution_count": 304,
     "metadata": {},
     "output_type": "execute_result"
    }
   ],
   "source": [
    "\"{}_{}_deseq_tccounts.csv\".format(project, \"_\".join(\n",
    "    filter(None, [var, var1, var2, scaling, str(minvar_toremove), str(mincount_toremove)])))"
   ]
  },
  {
   "cell_type": "code",
   "execution_count": 305,
   "id": "678f7904",
   "metadata": {},
   "outputs": [
    {
     "name": "stdout",
     "output_type": "stream",
     "text": [
      "Saved DESeq results to: MYB_degraded_coculture_v1_MV411_DMSO_VHL_0_5_deseq_tccounts.csv\n"
     ]
    }
   ],
   "source": [
    "# tccounts\n",
    "deseq_res_file = \"{}_{}_deseq_tccounts.csv\".format(project, \"_\".join(\n",
    "    filter(None, [var, var1, var2, scaling, str(minvar_toremove), str(mincount_toremove)])))\n",
    "resGene_tc.to_csv(\"{}/{}\".format(res_dir, deseq_res_file), index=False)\n",
    "\n",
    "print(\"Saved DESeq results to: {}\".format(deseq_res_file))"
   ]
  },
  {
   "cell_type": "code",
   "execution_count": 306,
   "id": "8ce9bf16",
   "metadata": {},
   "outputs": [
    {
     "name": "stdout",
     "output_type": "stream",
     "text": [
      "Saved DESeq results to: MYB_degraded_coculture_v1_MV411_DMSO_VHL_0_5_deseq_readcounts.csv\n"
     ]
    }
   ],
   "source": [
    "# readcounts\n",
    "deseq_res_file = \"{}_{}_deseq_readcounts.csv\".format(project, \"_\".join(\n",
    "    filter(None, [var, var1, var2, scaling, str(minvar_toremove), str(mincount_toremove)])))\n",
    "resGene_read.to_csv(\"{}/{}\".format(res_dir, deseq_res_file), index=False)\n",
    "\n",
    "print(\"Saved DESeq results to: {}\".format(deseq_res_file))"
   ]
  },
  {
   "cell_type": "markdown",
   "id": "8377037a",
   "metadata": {},
   "source": [
    "## MV411-MYB-dTAG coculture 12h"
   ]
  },
  {
   "cell_type": "markdown",
   "id": "1672e282",
   "metadata": {},
   "source": [
    "### make design matrix"
   ]
  },
  {
   "cell_type": "code",
   "execution_count": 309,
   "id": "0a9e8637",
   "metadata": {},
   "outputs": [],
   "source": [
    "# MV411 coculture 12h\n",
    "version = \"v1\"\n",
    "var_name = \"experiment\"\n",
    "var = \"MV411-MYB-dTAG\"\n",
    "var1 = \"DMSO\"\n",
    "var2 = \"VHL\"\n",
    "drop_rep = exp_design.loc[(exp_design[var_name] == var) & (exp_design[\"drop\"] == True), \"col\"]"
   ]
  },
  {
   "cell_type": "code",
   "execution_count": 310,
   "id": "4c7a75c0",
   "metadata": {},
   "outputs": [],
   "source": [
    "# tccounts\n",
    "tccountsGene = tccounts[tccounts.columns[:-1]]\n",
    "\n",
    "# readcounts\n",
    "readcountsGene = readcounts[readcounts.columns[:-1]]"
   ]
  },
  {
   "cell_type": "code",
   "execution_count": 311,
   "id": "b9372c9c",
   "metadata": {},
   "outputs": [],
   "source": [
    "# get just var data\n",
    "# remove dropped reps\n",
    "var_cols = [1 if (exp_design.iloc[idx][var_name] == var) and (exp_design.iloc[idx][\"drop\"] == False)\n",
    "            else 0 for idx in range(exp_design.shape[0])]\n",
    "\n",
    "var1_cols = [1 if (exp_design.iloc[idx][var_name] == var) and (exp_design.iloc[idx][\"treatment\"] == var1) and\n",
    "             (exp_design.iloc[idx][\"drop\"] == False) else 0 for idx in range(exp_design.shape[0])]\n",
    "\n",
    "var2_cols = [1 if (exp_design.iloc[idx][var_name] == var) and (exp_design.iloc[idx][\"treatment\"] == var2) and \n",
    "            (exp_design.iloc[idx][\"drop\"] == False) else 0 for idx in range(exp_design.shape[0])]"
   ]
  },
  {
   "cell_type": "code",
   "execution_count": 312,
   "id": "dc6b4479",
   "metadata": {},
   "outputs": [],
   "source": [
    "# all columns\n",
    "design = pd.DataFrame(index= [i.replace(\"-\",\".\") for i in tccountsGene.columns], \n",
    "                      columns=[var1, var2], \n",
    "                      data=np.array([var1_cols, var2_cols], dtype=bool).T)"
   ]
  },
  {
   "cell_type": "code",
   "execution_count": 313,
   "id": "1248d630",
   "metadata": {
    "collapsed": true
   },
   "outputs": [
    {
     "data": {
      "text/html": [
       "<div>\n",
       "<style scoped>\n",
       "    .dataframe tbody tr th:only-of-type {\n",
       "        vertical-align: middle;\n",
       "    }\n",
       "\n",
       "    .dataframe tbody tr th {\n",
       "        vertical-align: top;\n",
       "    }\n",
       "\n",
       "    .dataframe thead th {\n",
       "        text-align: right;\n",
       "    }\n",
       "</style>\n",
       "<table border=\"1\" class=\"dataframe\">\n",
       "  <thead>\n",
       "    <tr style=\"text-align: right;\">\n",
       "      <th></th>\n",
       "      <th>DMSO</th>\n",
       "      <th>VHL</th>\n",
       "    </tr>\n",
       "  </thead>\n",
       "  <tbody>\n",
       "    <tr>\n",
       "      <th>mr571.MV411.DMSO_coculture_12h.r1_tcount</th>\n",
       "      <td>False</td>\n",
       "      <td>False</td>\n",
       "    </tr>\n",
       "    <tr>\n",
       "      <th>mr572.MV411.DMSO_coculture_12h.r2_tcount</th>\n",
       "      <td>False</td>\n",
       "      <td>False</td>\n",
       "    </tr>\n",
       "    <tr>\n",
       "      <th>mr573.MV411.DMSO_coculture_12h.r3_tcount</th>\n",
       "      <td>False</td>\n",
       "      <td>False</td>\n",
       "    </tr>\n",
       "    <tr>\n",
       "      <th>mr574.MV411.DMSO_coculture_12h.r4_tcount</th>\n",
       "      <td>False</td>\n",
       "      <td>False</td>\n",
       "    </tr>\n",
       "    <tr>\n",
       "      <th>mr575.MV411.DMSO_coculture_12h.r5_tcount</th>\n",
       "      <td>False</td>\n",
       "      <td>False</td>\n",
       "    </tr>\n",
       "    <tr>\n",
       "      <th>mr576.MV411.VHL_coculture_12h.r1_tcount</th>\n",
       "      <td>False</td>\n",
       "      <td>False</td>\n",
       "    </tr>\n",
       "    <tr>\n",
       "      <th>mr577.MV411.VHL_coculture_12h.r2_tcount</th>\n",
       "      <td>False</td>\n",
       "      <td>False</td>\n",
       "    </tr>\n",
       "    <tr>\n",
       "      <th>mr578.MV411.VHL_coculture_12h.r3_tcount</th>\n",
       "      <td>False</td>\n",
       "      <td>False</td>\n",
       "    </tr>\n",
       "    <tr>\n",
       "      <th>mr579.MV411.VHL_coculture_12h.r4_tcount</th>\n",
       "      <td>False</td>\n",
       "      <td>False</td>\n",
       "    </tr>\n",
       "    <tr>\n",
       "      <th>mr580.MV411.VHL_coculture_12h.r5_tcount</th>\n",
       "      <td>False</td>\n",
       "      <td>False</td>\n",
       "    </tr>\n",
       "    <tr>\n",
       "      <th>mr581.MV411.MYB.dTAG.DMSO_coculture_12h.r1_tcount</th>\n",
       "      <td>True</td>\n",
       "      <td>False</td>\n",
       "    </tr>\n",
       "    <tr>\n",
       "      <th>mr582.MV411.MYB.dTAG.DMSO_coculture_12h.r2_tcount</th>\n",
       "      <td>True</td>\n",
       "      <td>False</td>\n",
       "    </tr>\n",
       "    <tr>\n",
       "      <th>mr583.MV411.MYB.dTAG.DMSO_coculture_12h.r3_tcount</th>\n",
       "      <td>True</td>\n",
       "      <td>False</td>\n",
       "    </tr>\n",
       "    <tr>\n",
       "      <th>mr584.MV411.MYB.dTAG.DMSO_coculture_12h.r4_tcount</th>\n",
       "      <td>True</td>\n",
       "      <td>False</td>\n",
       "    </tr>\n",
       "    <tr>\n",
       "      <th>mr585.MV411.MYB.dTAG.VHL_coculture_12h.r1_tcount</th>\n",
       "      <td>False</td>\n",
       "      <td>True</td>\n",
       "    </tr>\n",
       "    <tr>\n",
       "      <th>mr586.MV411.MYB.dTAG.VHL_coculture_12h.r2_tcount</th>\n",
       "      <td>False</td>\n",
       "      <td>True</td>\n",
       "    </tr>\n",
       "    <tr>\n",
       "      <th>mr587.MV411.MYB.dTAG.VHL_coculture_12h.r3_tcount</th>\n",
       "      <td>False</td>\n",
       "      <td>True</td>\n",
       "    </tr>\n",
       "    <tr>\n",
       "      <th>mr588.MV411.MYB.dTAG.VHL_coculture_12h.r4_tcount</th>\n",
       "      <td>False</td>\n",
       "      <td>True</td>\n",
       "    </tr>\n",
       "    <tr>\n",
       "      <th>mr589.MV411.MYB.dTAG.VHL_coculture_12h.r5_tcount</th>\n",
       "      <td>False</td>\n",
       "      <td>True</td>\n",
       "    </tr>\n",
       "  </tbody>\n",
       "</table>\n",
       "</div>"
      ],
      "text/plain": [
       "                                                    DMSO    VHL\n",
       "mr571.MV411.DMSO_coculture_12h.r1_tcount           False  False\n",
       "mr572.MV411.DMSO_coculture_12h.r2_tcount           False  False\n",
       "mr573.MV411.DMSO_coculture_12h.r3_tcount           False  False\n",
       "mr574.MV411.DMSO_coculture_12h.r4_tcount           False  False\n",
       "mr575.MV411.DMSO_coculture_12h.r5_tcount           False  False\n",
       "mr576.MV411.VHL_coculture_12h.r1_tcount            False  False\n",
       "mr577.MV411.VHL_coculture_12h.r2_tcount            False  False\n",
       "mr578.MV411.VHL_coculture_12h.r3_tcount            False  False\n",
       "mr579.MV411.VHL_coculture_12h.r4_tcount            False  False\n",
       "mr580.MV411.VHL_coculture_12h.r5_tcount            False  False\n",
       "mr581.MV411.MYB.dTAG.DMSO_coculture_12h.r1_tcount   True  False\n",
       "mr582.MV411.MYB.dTAG.DMSO_coculture_12h.r2_tcount   True  False\n",
       "mr583.MV411.MYB.dTAG.DMSO_coculture_12h.r3_tcount   True  False\n",
       "mr584.MV411.MYB.dTAG.DMSO_coculture_12h.r4_tcount   True  False\n",
       "mr585.MV411.MYB.dTAG.VHL_coculture_12h.r1_tcount   False   True\n",
       "mr586.MV411.MYB.dTAG.VHL_coculture_12h.r2_tcount   False   True\n",
       "mr587.MV411.MYB.dTAG.VHL_coculture_12h.r3_tcount   False   True\n",
       "mr588.MV411.MYB.dTAG.VHL_coculture_12h.r4_tcount   False   True\n",
       "mr589.MV411.MYB.dTAG.VHL_coculture_12h.r5_tcount   False   True"
      ]
     },
     "execution_count": 313,
     "metadata": {},
     "output_type": "execute_result"
    }
   ],
   "source": [
    "design"
   ]
  },
  {
   "cell_type": "code",
   "execution_count": 314,
   "id": "933b7208",
   "metadata": {},
   "outputs": [],
   "source": [
    "# genes as first column\n",
    "tccountsGene = tccounts[['genes']+list(tccountsGene.columns)]\n",
    "readcountsGene = readcounts[['genes']+list(readcountsGene.columns)]"
   ]
  },
  {
   "cell_type": "markdown",
   "id": "5489d830",
   "metadata": {},
   "source": [
    "### ERCC samplewise scaled"
   ]
  },
  {
   "cell_type": "code",
   "execution_count": 315,
   "id": "ea4a2ebb",
   "metadata": {},
   "outputs": [],
   "source": [
    "scaling=\"ERCCsamplewise\""
   ]
  },
  {
   "cell_type": "markdown",
   "id": "d315740e",
   "metadata": {},
   "source": [
    "__make DESeq object__"
   ]
  },
  {
   "cell_type": "code",
   "execution_count": 316,
   "id": "57de5580",
   "metadata": {},
   "outputs": [
    {
     "name": "stdout",
     "output_type": "stream",
     "text": [
      "you need to have R installed with the DESeq2 library installed\n",
      "3.4.5\n"
     ]
    }
   ],
   "source": [
    "# tccounts DESeq gene object\n",
    "deseqGene_tc = pyDESeq2.pyDESeq2(count_matrix=tccountsGene[tccountsGene.columns[np.array([1]+var_cols, bool)]], \n",
    "                                 design_matrix=design[np.array(var_cols, bool)],\n",
    "                                 design_formula=\"~{} - {}\".format(var1, var2),\n",
    "                                 gene_column=\"genes\")"
   ]
  },
  {
   "cell_type": "code",
   "execution_count": 317,
   "id": "768dc1fd",
   "metadata": {},
   "outputs": [
    {
     "name": "stdout",
     "output_type": "stream",
     "text": [
      "you need to have R installed with the DESeq2 library installed\n",
      "3.4.5\n"
     ]
    }
   ],
   "source": [
    "# readcounts DESeq gene object\n",
    "deseqGene_read = pyDESeq2.pyDESeq2(count_matrix=readcountsGene[readcountsGene.columns[np.array([1]+var_cols, bool)]], \n",
    "                                   design_matrix=design[np.array(var_cols, bool)],\n",
    "                                   design_formula=\"~{} - {}\".format(var1, var2),\n",
    "                                   gene_column=\"genes\")"
   ]
  },
  {
   "cell_type": "markdown",
   "id": "49c108f9",
   "metadata": {},
   "source": [
    "__estimate & modify size factors__"
   ]
  },
  {
   "cell_type": "code",
   "execution_count": 318,
   "id": "0cc7c682",
   "metadata": {},
   "outputs": [],
   "source": [
    "# tccounts\n",
    "deseqGene_tc.run_estimate_size_factors(geoMeans = np.exp(np.mean(np.log(\n",
    "    readcounts[tccountsGene.columns[[False]+design[var1].tolist()]].values+1), 1)))\n",
    "\n",
    "# readcounts\n",
    "deseqGene_read.run_estimate_size_factors()"
   ]
  },
  {
   "cell_type": "code",
   "execution_count": 319,
   "id": "b6f1320e",
   "metadata": {},
   "outputs": [
    {
     "data": {
      "text/plain": [
       "0\n",
       "ERCC_mr581-MV411-MYB-dTAG-DMSO_coculture_12h-r1_filtered.bam    0.339397\n",
       "ERCC_mr582-MV411-MYB-dTAG-DMSO_coculture_12h-r2_filtered.bam    0.252033\n",
       "ERCC_mr583-MV411-MYB-dTAG-DMSO_coculture_12h-r3_filtered.bam    0.214111\n",
       "ERCC_mr584-MV411-MYB-dTAG-DMSO_coculture_12h-r4_filtered.bam    0.230762\n",
       "ERCC_mr585-MV411-MYB-dTAG-VHL_coculture_12h-r1_filtered.bam     0.301323\n",
       "ERCC_mr586-MV411-MYB-dTAG-VHL_coculture_12h-r2_filtered.bam     0.292297\n",
       "ERCC_mr587-MV411-MYB-dTAG-VHL_coculture_12h-r3_filtered.bam     0.240086\n",
       "ERCC_mr588-MV411-MYB-dTAG-VHL_coculture_12h-r4_filtered.bam     0.432270\n",
       "ERCC_mr589-MV411-MYB-dTAG-VHL_coculture_12h-r5_filtered.bam     0.285290\n",
       "Name: 1, dtype: float64"
      ]
     },
     "execution_count": 319,
     "metadata": {},
     "output_type": "execute_result"
    }
   ],
   "source": [
    "# read in ERCC pseudocounts\n",
    "res = pd.read_csv(res_dir+\"/\"+project+\"_scaling_factors.csv\", index_col=0, header=None, squeeze=True)\n",
    "\n",
    "# select var values\n",
    "res = res[np.array(var_cols, dtype=bool)]\n",
    "res"
   ]
  },
  {
   "cell_type": "markdown",
   "id": "77cc707c",
   "metadata": {},
   "source": [
    "__modify size factors__\n",
    "<br> VHL size factor * adjusted VHL res (VHL res per sample / average DMSO res)"
   ]
  },
  {
   "cell_type": "code",
   "execution_count": 320,
   "id": "d376adfe",
   "metadata": {},
   "outputs": [],
   "source": [
    "# tccounts\n",
    "sizeFact = deseqGene_tc.getSizeFactors()\n",
    "sizeFact[sum(var1_cols):] = sizeFact[sum(var1_cols):] * (res[[i for i in res.index if '-'+str(var2) in i]].values/\n",
    "                                                         res[[i for i in res.index if '-'+str(var1) in i]].values.mean())\n",
    "deseqGene_tc.setSizeFactors(sizeFact)"
   ]
  },
  {
   "cell_type": "code",
   "execution_count": 322,
   "id": "c97362f8",
   "metadata": {},
   "outputs": [],
   "source": [
    "# readcounts\n",
    "sizeFact = deseqGene_read.getSizeFactors()\n",
    "sizeFact[sum(var1_cols):] = sizeFact[sum(var1_cols):] * (res[[i for i in res.index if '-'+str(var2) in i]].values/\n",
    "                                                         res[[i for i in res.index if '-'+str(var1) in i]].values.mean())\n",
    "deseqGene_read.setSizeFactors(sizeFact)"
   ]
  },
  {
   "cell_type": "markdown",
   "id": "b0debdad",
   "metadata": {},
   "source": [
    "__run it__"
   ]
  },
  {
   "cell_type": "code",
   "execution_count": 323,
   "id": "30253d9b",
   "metadata": {},
   "outputs": [
    {
     "name": "stderr",
     "output_type": "stream",
     "text": [
      "R[write to console]: using pre-existing size factors\n",
      "\n",
      "R[write to console]: estimating dispersions\n",
      "\n",
      "R[write to console]: gene-wise dispersion estimates\n",
      "\n",
      "R[write to console]: mean-dispersion relationship\n",
      "\n",
      "R[write to console]: final dispersion estimates\n",
      "\n",
      "R[write to console]: fitting model and testing\n",
      "\n"
     ]
    },
    {
     "name": "stdout",
     "output_type": "stream",
     "text": [
      "CPU times: user 8.9 s, sys: 312 ms, total: 9.22 s\n",
      "Wall time: 32.8 s\n"
     ]
    }
   ],
   "source": [
    "%%time\n",
    "\n",
    "# tccounts\n",
    "deseqGene_tc.run_deseq()\n",
    "deseqGene_tc.get_deseq_result()\n",
    "\n",
    "resGene_tc = deseqGene_tc.deseq_result\n",
    "resGene_tc.pvalue = np.nan_to_num(np.array(resGene_tc.pvalue), 1)\n",
    "resGene_tc.log2FoldChange = np.nan_to_num(np.array(resGene_tc.log2FoldChange), 0)\n",
    "resGene_tc.log2FoldChange = -resGene_tc.log2FoldChange\n",
    "resGene_tc[\"gene_id\"] = resGene_tc.genes"
   ]
  },
  {
   "cell_type": "code",
   "execution_count": 324,
   "id": "378f9137",
   "metadata": {
    "scrolled": true
   },
   "outputs": [
    {
     "name": "stderr",
     "output_type": "stream",
     "text": [
      "R[write to console]: using pre-existing size factors\n",
      "\n",
      "R[write to console]: estimating dispersions\n",
      "\n",
      "R[write to console]: gene-wise dispersion estimates\n",
      "\n",
      "R[write to console]: mean-dispersion relationship\n",
      "\n",
      "R[write to console]: final dispersion estimates\n",
      "\n",
      "R[write to console]: fitting model and testing\n",
      "\n"
     ]
    },
    {
     "name": "stdout",
     "output_type": "stream",
     "text": [
      "CPU times: user 10.6 s, sys: 984 ms, total: 11.6 s\n",
      "Wall time: 35.7 s\n"
     ]
    }
   ],
   "source": [
    "%%time\n",
    "\n",
    "#readcounts\n",
    "deseqGene_read.run_deseq()\n",
    "deseqGene_read.get_deseq_result()\n",
    "\n",
    "resGene_read = deseqGene_read.deseq_result\n",
    "resGene_read.pvalue = np.nan_to_num(np.array(resGene_read.pvalue), 1)\n",
    "resGene_read.log2FoldChange = np.nan_to_num(np.array(resGene_read.log2FoldChange), 0)\n",
    "resGene_read.log2FoldChange = -resGene_read.log2FoldChange\n",
    "resGene_read[\"gene_id\"] = resGene_read.genes"
   ]
  },
  {
   "cell_type": "markdown",
   "id": "a832dbee",
   "metadata": {},
   "source": [
    "__save DESeq results__"
   ]
  },
  {
   "cell_type": "code",
   "execution_count": 325,
   "id": "0e8e7384",
   "metadata": {},
   "outputs": [],
   "source": [
    "# check all genes are in output\n",
    "if not tccounts.shape[0] == resGene_tc.shape[0]:\n",
    "    raise ValueError(\"Results do not have the same number of genes as counts.\")\n",
    "\n",
    "if not tccounts[\"genes\"].isin(resGene_tc[\"genes\"]).all():\n",
    "    raise ValueError(\"Results do not have the same genes as counts.\")"
   ]
  },
  {
   "cell_type": "code",
   "execution_count": 326,
   "id": "eeb02f44",
   "metadata": {},
   "outputs": [
    {
     "data": {
      "text/plain": [
       "'MYB_degraded_coculture_v1_MV411-MYB-dTAG_DMSO_VHL_ERCCsamplewise_0_5_deseq_tccounts.csv'"
      ]
     },
     "execution_count": 326,
     "metadata": {},
     "output_type": "execute_result"
    }
   ],
   "source": [
    "\"{}_{}_deseq_tccounts.csv\".format(project, \"_\".join(\n",
    "    filter(None, [var, var1, var2, scaling, str(minvar_toremove), str(mincount_toremove)])))"
   ]
  },
  {
   "cell_type": "code",
   "execution_count": 327,
   "id": "30f3f9ec",
   "metadata": {},
   "outputs": [
    {
     "name": "stdout",
     "output_type": "stream",
     "text": [
      "Saved DESeq results to: MYB_degraded_coculture_v1_MV411-MYB-dTAG_DMSO_VHL_ERCCsamplewise_0_5_deseq_tccounts.csv\n"
     ]
    }
   ],
   "source": [
    "# tccounts\n",
    "deseq_res_file = \"{}_{}_deseq_tccounts.csv\".format(project, \"_\".join(\n",
    "    filter(None, [var, var1, var2, scaling, str(minvar_toremove), str(mincount_toremove)])))\n",
    "resGene_tc.to_csv(\"{}/{}\".format(res_dir, deseq_res_file), index=False)\n",
    "\n",
    "print(\"Saved DESeq results to: {}\".format(deseq_res_file))"
   ]
  },
  {
   "cell_type": "code",
   "execution_count": 328,
   "id": "c0c0ed97",
   "metadata": {},
   "outputs": [
    {
     "name": "stdout",
     "output_type": "stream",
     "text": [
      "Saved DESeq results to: MYB_degraded_coculture_v1_MV411-MYB-dTAG_DMSO_VHL_ERCCsamplewise_0_5_deseq_readcounts.csv\n"
     ]
    }
   ],
   "source": [
    "# readcounts\n",
    "deseq_res_file = \"{}_{}_deseq_readcounts.csv\".format(project, \"_\".join(\n",
    "    filter(None, [var, var1, var2, scaling, str(minvar_toremove), str(mincount_toremove)])))\n",
    "resGene_read.to_csv(\"{}/{}\".format(res_dir, deseq_res_file), index=False)\n",
    "\n",
    "print(\"Saved DESeq results to: {}\".format(deseq_res_file))"
   ]
  },
  {
   "cell_type": "code",
   "execution_count": 329,
   "id": "67e452ab",
   "metadata": {
    "collapsed": true
   },
   "outputs": [
    {
     "data": {
      "text/html": [
       "<div>\n",
       "<style scoped>\n",
       "    .dataframe tbody tr th:only-of-type {\n",
       "        vertical-align: middle;\n",
       "    }\n",
       "\n",
       "    .dataframe tbody tr th {\n",
       "        vertical-align: top;\n",
       "    }\n",
       "\n",
       "    .dataframe thead th {\n",
       "        text-align: right;\n",
       "    }\n",
       "</style>\n",
       "<table border=\"1\" class=\"dataframe\">\n",
       "  <thead>\n",
       "    <tr style=\"text-align: right;\">\n",
       "      <th></th>\n",
       "      <th>baseMean</th>\n",
       "      <th>log2FoldChange</th>\n",
       "      <th>lfcSE</th>\n",
       "      <th>stat</th>\n",
       "      <th>pvalue</th>\n",
       "      <th>padj</th>\n",
       "      <th>genes</th>\n",
       "      <th>gene_id</th>\n",
       "    </tr>\n",
       "  </thead>\n",
       "  <tbody>\n",
       "    <tr>\n",
       "      <th>0</th>\n",
       "      <td>21.318741</td>\n",
       "      <td>-0.115703</td>\n",
       "      <td>0.316543</td>\n",
       "      <td>0.365521</td>\n",
       "      <td>0.714723</td>\n",
       "      <td>0.892517</td>\n",
       "      <td>NAT1</td>\n",
       "      <td>NAT1</td>\n",
       "    </tr>\n",
       "    <tr>\n",
       "      <th>1</th>\n",
       "      <td>7.819237</td>\n",
       "      <td>0.405914</td>\n",
       "      <td>0.517677</td>\n",
       "      <td>-0.784107</td>\n",
       "      <td>0.432977</td>\n",
       "      <td>0.736871</td>\n",
       "      <td>AAMP</td>\n",
       "      <td>AAMP</td>\n",
       "    </tr>\n",
       "    <tr>\n",
       "      <th>2</th>\n",
       "      <td>20.759710</td>\n",
       "      <td>-0.274597</td>\n",
       "      <td>0.370816</td>\n",
       "      <td>0.740520</td>\n",
       "      <td>0.458984</td>\n",
       "      <td>0.753728</td>\n",
       "      <td>AARS1</td>\n",
       "      <td>AARS1</td>\n",
       "    </tr>\n",
       "    <tr>\n",
       "      <th>3</th>\n",
       "      <td>9.309501</td>\n",
       "      <td>0.133771</td>\n",
       "      <td>0.561542</td>\n",
       "      <td>-0.238221</td>\n",
       "      <td>0.811710</td>\n",
       "      <td>0.929246</td>\n",
       "      <td>ABAT</td>\n",
       "      <td>ABAT</td>\n",
       "    </tr>\n",
       "    <tr>\n",
       "      <th>4</th>\n",
       "      <td>5.441744</td>\n",
       "      <td>-0.323001</td>\n",
       "      <td>0.735003</td>\n",
       "      <td>0.439456</td>\n",
       "      <td>0.660331</td>\n",
       "      <td>0.866480</td>\n",
       "      <td>ABCA1</td>\n",
       "      <td>ABCA1</td>\n",
       "    </tr>\n",
       "    <tr>\n",
       "      <th>...</th>\n",
       "      <td>...</td>\n",
       "      <td>...</td>\n",
       "      <td>...</td>\n",
       "      <td>...</td>\n",
       "      <td>...</td>\n",
       "      <td>...</td>\n",
       "      <td>...</td>\n",
       "      <td>...</td>\n",
       "    </tr>\n",
       "    <tr>\n",
       "      <th>15915</th>\n",
       "      <td>13.489407</td>\n",
       "      <td>-0.689556</td>\n",
       "      <td>0.428714</td>\n",
       "      <td>1.608430</td>\n",
       "      <td>0.107741</td>\n",
       "      <td>0.412845</td>\n",
       "      <td>106736475</td>\n",
       "      <td>106736475</td>\n",
       "    </tr>\n",
       "    <tr>\n",
       "      <th>15916</th>\n",
       "      <td>1.103413</td>\n",
       "      <td>-1.458435</td>\n",
       "      <td>1.403821</td>\n",
       "      <td>1.038904</td>\n",
       "      <td>0.298849</td>\n",
       "      <td>NaN</td>\n",
       "      <td>GET1-SH3BGR</td>\n",
       "      <td>GET1-SH3BGR</td>\n",
       "    </tr>\n",
       "    <tr>\n",
       "      <th>15917</th>\n",
       "      <td>4.106438</td>\n",
       "      <td>-0.787949</td>\n",
       "      <td>0.846214</td>\n",
       "      <td>0.931147</td>\n",
       "      <td>0.351778</td>\n",
       "      <td>NaN</td>\n",
       "      <td>BOLA2-SMG1P6</td>\n",
       "      <td>BOLA2-SMG1P6</td>\n",
       "    </tr>\n",
       "    <tr>\n",
       "      <th>15918</th>\n",
       "      <td>8.001153</td>\n",
       "      <td>0.486925</td>\n",
       "      <td>0.555298</td>\n",
       "      <td>-0.876872</td>\n",
       "      <td>0.380556</td>\n",
       "      <td>0.702024</td>\n",
       "      <td>107303344</td>\n",
       "      <td>107303344</td>\n",
       "    </tr>\n",
       "    <tr>\n",
       "      <th>15919</th>\n",
       "      <td>2.265749</td>\n",
       "      <td>2.239353</td>\n",
       "      <td>1.322912</td>\n",
       "      <td>-1.692745</td>\n",
       "      <td>0.090504</td>\n",
       "      <td>NaN</td>\n",
       "      <td>SCARNA18B</td>\n",
       "      <td>SCARNA18B</td>\n",
       "    </tr>\n",
       "  </tbody>\n",
       "</table>\n",
       "<p>15920 rows × 8 columns</p>\n",
       "</div>"
      ],
      "text/plain": [
       "        baseMean  log2FoldChange     lfcSE      stat    pvalue      padj  \\\n",
       "0      21.318741       -0.115703  0.316543  0.365521  0.714723  0.892517   \n",
       "1       7.819237        0.405914  0.517677 -0.784107  0.432977  0.736871   \n",
       "2      20.759710       -0.274597  0.370816  0.740520  0.458984  0.753728   \n",
       "3       9.309501        0.133771  0.561542 -0.238221  0.811710  0.929246   \n",
       "4       5.441744       -0.323001  0.735003  0.439456  0.660331  0.866480   \n",
       "...          ...             ...       ...       ...       ...       ...   \n",
       "15915  13.489407       -0.689556  0.428714  1.608430  0.107741  0.412845   \n",
       "15916   1.103413       -1.458435  1.403821  1.038904  0.298849       NaN   \n",
       "15917   4.106438       -0.787949  0.846214  0.931147  0.351778       NaN   \n",
       "15918   8.001153        0.486925  0.555298 -0.876872  0.380556  0.702024   \n",
       "15919   2.265749        2.239353  1.322912 -1.692745  0.090504       NaN   \n",
       "\n",
       "              genes       gene_id  \n",
       "0              NAT1          NAT1  \n",
       "1              AAMP          AAMP  \n",
       "2             AARS1         AARS1  \n",
       "3              ABAT          ABAT  \n",
       "4             ABCA1         ABCA1  \n",
       "...             ...           ...  \n",
       "15915     106736475     106736475  \n",
       "15916   GET1-SH3BGR   GET1-SH3BGR  \n",
       "15917  BOLA2-SMG1P6  BOLA2-SMG1P6  \n",
       "15918     107303344     107303344  \n",
       "15919     SCARNA18B     SCARNA18B  \n",
       "\n",
       "[15920 rows x 8 columns]"
      ]
     },
     "execution_count": 329,
     "metadata": {},
     "output_type": "execute_result"
    }
   ],
   "source": [
    "# MV411-MYB-dTAG scaled\n",
    "resGene_tc"
   ]
  },
  {
   "cell_type": "code",
   "execution_count": 330,
   "id": "2fa7e88b",
   "metadata": {
    "collapsed": true
   },
   "outputs": [
    {
     "data": {
      "text/html": [
       "<div>\n",
       "<style scoped>\n",
       "    .dataframe tbody tr th:only-of-type {\n",
       "        vertical-align: middle;\n",
       "    }\n",
       "\n",
       "    .dataframe tbody tr th {\n",
       "        vertical-align: top;\n",
       "    }\n",
       "\n",
       "    .dataframe thead th {\n",
       "        text-align: right;\n",
       "    }\n",
       "</style>\n",
       "<table border=\"1\" class=\"dataframe\">\n",
       "  <thead>\n",
       "    <tr style=\"text-align: right;\">\n",
       "      <th></th>\n",
       "      <th>baseMean</th>\n",
       "      <th>log2FoldChange</th>\n",
       "      <th>lfcSE</th>\n",
       "      <th>stat</th>\n",
       "      <th>pvalue</th>\n",
       "      <th>padj</th>\n",
       "      <th>genes</th>\n",
       "      <th>gene_id</th>\n",
       "    </tr>\n",
       "  </thead>\n",
       "  <tbody>\n",
       "    <tr>\n",
       "      <th>0</th>\n",
       "      <td>336.374121</td>\n",
       "      <td>-0.210380</td>\n",
       "      <td>0.138484</td>\n",
       "      <td>1.519167</td>\n",
       "      <td>0.128721</td>\n",
       "      <td>0.336677</td>\n",
       "      <td>NAT1</td>\n",
       "      <td>NAT1</td>\n",
       "    </tr>\n",
       "    <tr>\n",
       "      <th>1</th>\n",
       "      <td>420.741666</td>\n",
       "      <td>-0.511116</td>\n",
       "      <td>0.137916</td>\n",
       "      <td>3.705990</td>\n",
       "      <td>0.000211</td>\n",
       "      <td>0.003054</td>\n",
       "      <td>AAMP</td>\n",
       "      <td>AAMP</td>\n",
       "    </tr>\n",
       "    <tr>\n",
       "      <th>2</th>\n",
       "      <td>642.025740</td>\n",
       "      <td>-0.159264</td>\n",
       "      <td>0.158922</td>\n",
       "      <td>1.002157</td>\n",
       "      <td>0.316268</td>\n",
       "      <td>0.562502</td>\n",
       "      <td>AARS1</td>\n",
       "      <td>AARS1</td>\n",
       "    </tr>\n",
       "    <tr>\n",
       "      <th>3</th>\n",
       "      <td>189.274973</td>\n",
       "      <td>0.170481</td>\n",
       "      <td>0.283691</td>\n",
       "      <td>-0.600939</td>\n",
       "      <td>0.547880</td>\n",
       "      <td>0.749148</td>\n",
       "      <td>ABAT</td>\n",
       "      <td>ABAT</td>\n",
       "    </tr>\n",
       "    <tr>\n",
       "      <th>4</th>\n",
       "      <td>46.478024</td>\n",
       "      <td>-0.082573</td>\n",
       "      <td>0.425922</td>\n",
       "      <td>0.193869</td>\n",
       "      <td>0.846278</td>\n",
       "      <td>0.927714</td>\n",
       "      <td>ABCA1</td>\n",
       "      <td>ABCA1</td>\n",
       "    </tr>\n",
       "    <tr>\n",
       "      <th>...</th>\n",
       "      <td>...</td>\n",
       "      <td>...</td>\n",
       "      <td>...</td>\n",
       "      <td>...</td>\n",
       "      <td>...</td>\n",
       "      <td>...</td>\n",
       "      <td>...</td>\n",
       "      <td>...</td>\n",
       "    </tr>\n",
       "    <tr>\n",
       "      <th>15915</th>\n",
       "      <td>165.929490</td>\n",
       "      <td>-0.028535</td>\n",
       "      <td>0.215704</td>\n",
       "      <td>0.132289</td>\n",
       "      <td>0.894756</td>\n",
       "      <td>0.952536</td>\n",
       "      <td>106736475</td>\n",
       "      <td>106736475</td>\n",
       "    </tr>\n",
       "    <tr>\n",
       "      <th>15916</th>\n",
       "      <td>49.015994</td>\n",
       "      <td>-0.123421</td>\n",
       "      <td>0.233979</td>\n",
       "      <td>0.527489</td>\n",
       "      <td>0.597854</td>\n",
       "      <td>0.780929</td>\n",
       "      <td>GET1-SH3BGR</td>\n",
       "      <td>GET1-SH3BGR</td>\n",
       "    </tr>\n",
       "    <tr>\n",
       "      <th>15917</th>\n",
       "      <td>191.196201</td>\n",
       "      <td>-0.247393</td>\n",
       "      <td>0.219052</td>\n",
       "      <td>1.129380</td>\n",
       "      <td>0.258738</td>\n",
       "      <td>0.503383</td>\n",
       "      <td>BOLA2-SMG1P6</td>\n",
       "      <td>BOLA2-SMG1P6</td>\n",
       "    </tr>\n",
       "    <tr>\n",
       "      <th>15918</th>\n",
       "      <td>364.147838</td>\n",
       "      <td>0.080897</td>\n",
       "      <td>0.137670</td>\n",
       "      <td>-0.587614</td>\n",
       "      <td>0.556791</td>\n",
       "      <td>0.754229</td>\n",
       "      <td>107303344</td>\n",
       "      <td>107303344</td>\n",
       "    </tr>\n",
       "    <tr>\n",
       "      <th>15919</th>\n",
       "      <td>3.963351</td>\n",
       "      <td>0.737908</td>\n",
       "      <td>0.833666</td>\n",
       "      <td>-0.885136</td>\n",
       "      <td>0.376083</td>\n",
       "      <td>0.614547</td>\n",
       "      <td>SCARNA18B</td>\n",
       "      <td>SCARNA18B</td>\n",
       "    </tr>\n",
       "  </tbody>\n",
       "</table>\n",
       "<p>15920 rows × 8 columns</p>\n",
       "</div>"
      ],
      "text/plain": [
       "         baseMean  log2FoldChange     lfcSE      stat    pvalue      padj  \\\n",
       "0      336.374121       -0.210380  0.138484  1.519167  0.128721  0.336677   \n",
       "1      420.741666       -0.511116  0.137916  3.705990  0.000211  0.003054   \n",
       "2      642.025740       -0.159264  0.158922  1.002157  0.316268  0.562502   \n",
       "3      189.274973        0.170481  0.283691 -0.600939  0.547880  0.749148   \n",
       "4       46.478024       -0.082573  0.425922  0.193869  0.846278  0.927714   \n",
       "...           ...             ...       ...       ...       ...       ...   \n",
       "15915  165.929490       -0.028535  0.215704  0.132289  0.894756  0.952536   \n",
       "15916   49.015994       -0.123421  0.233979  0.527489  0.597854  0.780929   \n",
       "15917  191.196201       -0.247393  0.219052  1.129380  0.258738  0.503383   \n",
       "15918  364.147838        0.080897  0.137670 -0.587614  0.556791  0.754229   \n",
       "15919    3.963351        0.737908  0.833666 -0.885136  0.376083  0.614547   \n",
       "\n",
       "              genes       gene_id  \n",
       "0              NAT1          NAT1  \n",
       "1              AAMP          AAMP  \n",
       "2             AARS1         AARS1  \n",
       "3              ABAT          ABAT  \n",
       "4             ABCA1         ABCA1  \n",
       "...             ...           ...  \n",
       "15915     106736475     106736475  \n",
       "15916   GET1-SH3BGR   GET1-SH3BGR  \n",
       "15917  BOLA2-SMG1P6  BOLA2-SMG1P6  \n",
       "15918     107303344     107303344  \n",
       "15919     SCARNA18B     SCARNA18B  \n",
       "\n",
       "[15920 rows x 8 columns]"
      ]
     },
     "execution_count": 330,
     "metadata": {},
     "output_type": "execute_result"
    }
   ],
   "source": [
    "# MV411-MYB-dTAG scaled\n",
    "resGene_read"
   ]
  },
  {
   "cell_type": "markdown",
   "id": "fa47bb34",
   "metadata": {},
   "source": [
    "### Unscaled"
   ]
  },
  {
   "cell_type": "code",
   "execution_count": 331,
   "id": "3f26035b",
   "metadata": {},
   "outputs": [],
   "source": [
    "scaling = None"
   ]
  },
  {
   "cell_type": "markdown",
   "id": "23270ff3",
   "metadata": {},
   "source": [
    "__make DESeq object__"
   ]
  },
  {
   "cell_type": "code",
   "execution_count": 332,
   "id": "a6ba2b9a",
   "metadata": {},
   "outputs": [
    {
     "name": "stdout",
     "output_type": "stream",
     "text": [
      "you need to have R installed with the DESeq2 library installed\n",
      "3.4.5\n"
     ]
    }
   ],
   "source": [
    "# tccounts DESeq gene object\n",
    "# just var data\n",
    "deseqGene_tc = pyDESeq2.pyDESeq2(count_matrix=tccountsGene[tccountsGene.columns[np.array([1]+var_cols, bool)]], \n",
    "                                 design_matrix=design[np.array(var_cols, bool)],\n",
    "                                 design_formula=\"~{} - {}\".format(var1, var2),\n",
    "                                 gene_column=\"genes\")"
   ]
  },
  {
   "cell_type": "code",
   "execution_count": 333,
   "id": "48abe10f",
   "metadata": {},
   "outputs": [
    {
     "name": "stdout",
     "output_type": "stream",
     "text": [
      "you need to have R installed with the DESeq2 library installed\n",
      "3.4.5\n"
     ]
    }
   ],
   "source": [
    "# readcounts DESeq gene object\n",
    "deseqGene_read = pyDESeq2.pyDESeq2(count_matrix=readcountsGene[readcountsGene.columns[np.array([1]+var_cols, bool)]], \n",
    "                                   design_matrix=design[np.array(var_cols, bool)],\n",
    "                                   design_formula=\"~{} - {}\".format(var1, var2),\n",
    "                                   gene_column=\"genes\")"
   ]
  },
  {
   "cell_type": "markdown",
   "id": "729ccd51",
   "metadata": {},
   "source": [
    "__estimate size factors__"
   ]
  },
  {
   "cell_type": "code",
   "execution_count": 334,
   "id": "48050a8c",
   "metadata": {},
   "outputs": [],
   "source": [
    "# tccounts\n",
    "deseqGene_tc.run_estimate_size_factors(geoMeans = np.exp(np.mean(np.log(\n",
    "    readcounts[tccountsGene.columns[[False]+design[var1].tolist()]].values+1), 1)))\n",
    "\n",
    "# readcounts\n",
    "deseqGene_read.run_estimate_size_factors()"
   ]
  },
  {
   "cell_type": "markdown",
   "id": "d2fcd4af",
   "metadata": {},
   "source": [
    "__run it__"
   ]
  },
  {
   "cell_type": "code",
   "execution_count": 335,
   "id": "940afd70",
   "metadata": {},
   "outputs": [
    {
     "name": "stderr",
     "output_type": "stream",
     "text": [
      "R[write to console]: using pre-existing size factors\n",
      "\n",
      "R[write to console]: estimating dispersions\n",
      "\n",
      "R[write to console]: gene-wise dispersion estimates\n",
      "\n",
      "R[write to console]: mean-dispersion relationship\n",
      "\n",
      "R[write to console]: final dispersion estimates\n",
      "\n",
      "R[write to console]: fitting model and testing\n",
      "\n"
     ]
    },
    {
     "name": "stdout",
     "output_type": "stream",
     "text": [
      "CPU times: user 9.1 s, sys: 264 ms, total: 9.36 s\n",
      "Wall time: 33.8 s\n"
     ]
    }
   ],
   "source": [
    "%%time\n",
    "\n",
    "# tccounts\n",
    "deseqGene_tc.run_deseq()\n",
    "deseqGene_tc.get_deseq_result()\n",
    "\n",
    "resGene_tc = deseqGene_tc.deseq_result\n",
    "resGene_tc.pvalue = np.nan_to_num(np.array(resGene_tc.pvalue), 1)\n",
    "resGene_tc.log2FoldChange = np.nan_to_num(np.array(resGene_tc.log2FoldChange), 0)\n",
    "resGene_tc.log2FoldChange = -resGene_tc.log2FoldChange\n",
    "resGene_tc[\"gene_id\"] = resGene_tc.genes"
   ]
  },
  {
   "cell_type": "code",
   "execution_count": 336,
   "id": "49702f8b",
   "metadata": {},
   "outputs": [
    {
     "name": "stderr",
     "output_type": "stream",
     "text": [
      "R[write to console]: using pre-existing size factors\n",
      "\n",
      "R[write to console]: estimating dispersions\n",
      "\n",
      "R[write to console]: gene-wise dispersion estimates\n",
      "\n",
      "R[write to console]: mean-dispersion relationship\n",
      "\n",
      "R[write to console]: final dispersion estimates\n",
      "\n",
      "R[write to console]: fitting model and testing\n",
      "\n"
     ]
    },
    {
     "name": "stdout",
     "output_type": "stream",
     "text": [
      "CPU times: user 10.2 s, sys: 876 ms, total: 11.1 s\n",
      "Wall time: 34.5 s\n"
     ]
    }
   ],
   "source": [
    "%%time\n",
    "\n",
    "#readcounts\n",
    "deseqGene_read.run_deseq()\n",
    "deseqGene_read.get_deseq_result()\n",
    "\n",
    "resGene_read = deseqGene_read.deseq_result\n",
    "resGene_read.pvalue = np.nan_to_num(np.array(resGene_read.pvalue), 1)\n",
    "resGene_read.log2FoldChange = np.nan_to_num(np.array(resGene_read.log2FoldChange), 0)\n",
    "resGene_read.log2FoldChange = -resGene_read.log2FoldChange\n",
    "resGene_read[\"gene_id\"] = resGene_read.genes"
   ]
  },
  {
   "cell_type": "markdown",
   "id": "02479fc6",
   "metadata": {},
   "source": [
    "__save DESeq output__"
   ]
  },
  {
   "cell_type": "code",
   "execution_count": 337,
   "id": "e8e8650f",
   "metadata": {},
   "outputs": [],
   "source": [
    "# check all genes are in output\n",
    "if not tccounts.shape[0] == resGene_tc.shape[0]:\n",
    "    raise ValueError(\"Results do not have the same number of genes as counts.\")\n",
    "\n",
    "if not tccounts[\"genes\"].isin(resGene_tc[\"genes\"]).all():\n",
    "    raise ValueError(\"Results do not have the same genes as counts.\")"
   ]
  },
  {
   "cell_type": "code",
   "execution_count": 338,
   "id": "38716deb",
   "metadata": {},
   "outputs": [
    {
     "data": {
      "text/plain": [
       "'MYB_degraded_coculture_v1_MV411-MYB-dTAG_DMSO_VHL_0_5_deseq_tccounts.csv'"
      ]
     },
     "execution_count": 338,
     "metadata": {},
     "output_type": "execute_result"
    }
   ],
   "source": [
    "\"{}_{}_deseq_tccounts.csv\".format(project, \"_\".join(\n",
    "    filter(None, [var, var1, var2, scaling, str(minvar_toremove), str(mincount_toremove)])))"
   ]
  },
  {
   "cell_type": "code",
   "execution_count": 339,
   "id": "720104e1",
   "metadata": {},
   "outputs": [
    {
     "name": "stdout",
     "output_type": "stream",
     "text": [
      "Saved DESeq results to: MYB_degraded_coculture_v1_MV411-MYB-dTAG_DMSO_VHL_0_5_deseq_tccounts.csv\n"
     ]
    }
   ],
   "source": [
    "# tccounts\n",
    "deseq_res_file = \"{}_{}_deseq_tccounts.csv\".format(project, \"_\".join(\n",
    "    filter(None, [var, var1, var2, scaling, str(minvar_toremove), str(mincount_toremove)])))\n",
    "resGene_tc.to_csv(\"{}/{}\".format(res_dir, deseq_res_file), index=False)\n",
    "\n",
    "print(\"Saved DESeq results to: {}\".format(deseq_res_file))"
   ]
  },
  {
   "cell_type": "code",
   "execution_count": 340,
   "id": "fbd76b31",
   "metadata": {},
   "outputs": [
    {
     "name": "stdout",
     "output_type": "stream",
     "text": [
      "Saved DESeq results to: MYB_degraded_coculture_v1_MV411-MYB-dTAG_DMSO_VHL_0_5_deseq_readcounts.csv\n"
     ]
    }
   ],
   "source": [
    "# readcounts\n",
    "deseq_res_file = \"{}_{}_deseq_readcounts.csv\".format(project, \"_\".join(\n",
    "    filter(None, [var, var1, var2, scaling, str(minvar_toremove), str(mincount_toremove)])))\n",
    "resGene_read.to_csv(\"{}/{}\".format(res_dir, deseq_res_file), index=False)\n",
    "\n",
    "print(\"Saved DESeq results to: {}\".format(deseq_res_file))"
   ]
  },
  {
   "cell_type": "markdown",
   "id": "cec8864d",
   "metadata": {},
   "source": [
    "__res comp__"
   ]
  },
  {
   "cell_type": "code",
   "execution_count": 295,
   "id": "7c7385a1",
   "metadata": {
    "collapsed": true
   },
   "outputs": [
    {
     "data": {
      "text/html": [
       "<div>\n",
       "<style scoped>\n",
       "    .dataframe tbody tr th:only-of-type {\n",
       "        vertical-align: middle;\n",
       "    }\n",
       "\n",
       "    .dataframe tbody tr th {\n",
       "        vertical-align: top;\n",
       "    }\n",
       "\n",
       "    .dataframe thead th {\n",
       "        text-align: right;\n",
       "    }\n",
       "</style>\n",
       "<table border=\"1\" class=\"dataframe\">\n",
       "  <thead>\n",
       "    <tr style=\"text-align: right;\">\n",
       "      <th></th>\n",
       "      <th>baseMean</th>\n",
       "      <th>log2FoldChange</th>\n",
       "      <th>lfcSE</th>\n",
       "      <th>stat</th>\n",
       "      <th>pvalue</th>\n",
       "      <th>padj</th>\n",
       "      <th>genes</th>\n",
       "      <th>gene_id</th>\n",
       "    </tr>\n",
       "  </thead>\n",
       "  <tbody>\n",
       "    <tr>\n",
       "      <th>0</th>\n",
       "      <td>18.005743</td>\n",
       "      <td>-0.254113</td>\n",
       "      <td>0.388118</td>\n",
       "      <td>0.654731</td>\n",
       "      <td>0.512641</td>\n",
       "      <td>0.999981</td>\n",
       "      <td>NAT1</td>\n",
       "      <td>NAT1</td>\n",
       "    </tr>\n",
       "    <tr>\n",
       "      <th>1</th>\n",
       "      <td>8.359738</td>\n",
       "      <td>0.769352</td>\n",
       "      <td>0.568323</td>\n",
       "      <td>-1.353723</td>\n",
       "      <td>0.175825</td>\n",
       "      <td>0.999981</td>\n",
       "      <td>AAMP</td>\n",
       "      <td>AAMP</td>\n",
       "    </tr>\n",
       "    <tr>\n",
       "      <th>2</th>\n",
       "      <td>24.919514</td>\n",
       "      <td>-0.048395</td>\n",
       "      <td>0.302973</td>\n",
       "      <td>0.159735</td>\n",
       "      <td>0.873090</td>\n",
       "      <td>0.999981</td>\n",
       "      <td>AARS1</td>\n",
       "      <td>AARS1</td>\n",
       "    </tr>\n",
       "    <tr>\n",
       "      <th>3</th>\n",
       "      <td>5.398243</td>\n",
       "      <td>-0.064439</td>\n",
       "      <td>0.617913</td>\n",
       "      <td>0.104285</td>\n",
       "      <td>0.916943</td>\n",
       "      <td>0.999981</td>\n",
       "      <td>ABAT</td>\n",
       "      <td>ABAT</td>\n",
       "    </tr>\n",
       "    <tr>\n",
       "      <th>4</th>\n",
       "      <td>12.139588</td>\n",
       "      <td>-0.285426</td>\n",
       "      <td>0.439031</td>\n",
       "      <td>0.650128</td>\n",
       "      <td>0.515610</td>\n",
       "      <td>0.999981</td>\n",
       "      <td>ABCA1</td>\n",
       "      <td>ABCA1</td>\n",
       "    </tr>\n",
       "    <tr>\n",
       "      <th>...</th>\n",
       "      <td>...</td>\n",
       "      <td>...</td>\n",
       "      <td>...</td>\n",
       "      <td>...</td>\n",
       "      <td>...</td>\n",
       "      <td>...</td>\n",
       "      <td>...</td>\n",
       "      <td>...</td>\n",
       "    </tr>\n",
       "    <tr>\n",
       "      <th>15915</th>\n",
       "      <td>15.359477</td>\n",
       "      <td>0.365114</td>\n",
       "      <td>0.417021</td>\n",
       "      <td>-0.875527</td>\n",
       "      <td>0.381287</td>\n",
       "      <td>0.999981</td>\n",
       "      <td>106736475</td>\n",
       "      <td>106736475</td>\n",
       "    </tr>\n",
       "    <tr>\n",
       "      <th>15916</th>\n",
       "      <td>0.421707</td>\n",
       "      <td>-0.419319</td>\n",
       "      <td>2.291648</td>\n",
       "      <td>0.182977</td>\n",
       "      <td>0.854816</td>\n",
       "      <td>0.999981</td>\n",
       "      <td>GET1-SH3BGR</td>\n",
       "      <td>GET1-SH3BGR</td>\n",
       "    </tr>\n",
       "    <tr>\n",
       "      <th>15917</th>\n",
       "      <td>4.466670</td>\n",
       "      <td>-1.068897</td>\n",
       "      <td>0.675953</td>\n",
       "      <td>1.581317</td>\n",
       "      <td>0.113806</td>\n",
       "      <td>0.999981</td>\n",
       "      <td>BOLA2-SMG1P6</td>\n",
       "      <td>BOLA2-SMG1P6</td>\n",
       "    </tr>\n",
       "    <tr>\n",
       "      <th>15918</th>\n",
       "      <td>6.544174</td>\n",
       "      <td>0.148226</td>\n",
       "      <td>0.593930</td>\n",
       "      <td>-0.249568</td>\n",
       "      <td>0.802921</td>\n",
       "      <td>0.999981</td>\n",
       "      <td>107303344</td>\n",
       "      <td>107303344</td>\n",
       "    </tr>\n",
       "    <tr>\n",
       "      <th>15919</th>\n",
       "      <td>2.225498</td>\n",
       "      <td>-0.559470</td>\n",
       "      <td>1.127278</td>\n",
       "      <td>0.496302</td>\n",
       "      <td>0.619682</td>\n",
       "      <td>0.999981</td>\n",
       "      <td>SCARNA18B</td>\n",
       "      <td>SCARNA18B</td>\n",
       "    </tr>\n",
       "  </tbody>\n",
       "</table>\n",
       "<p>15920 rows × 8 columns</p>\n",
       "</div>"
      ],
      "text/plain": [
       "        baseMean  log2FoldChange     lfcSE      stat    pvalue      padj  \\\n",
       "0      18.005743       -0.254113  0.388118  0.654731  0.512641  0.999981   \n",
       "1       8.359738        0.769352  0.568323 -1.353723  0.175825  0.999981   \n",
       "2      24.919514       -0.048395  0.302973  0.159735  0.873090  0.999981   \n",
       "3       5.398243       -0.064439  0.617913  0.104285  0.916943  0.999981   \n",
       "4      12.139588       -0.285426  0.439031  0.650128  0.515610  0.999981   \n",
       "...          ...             ...       ...       ...       ...       ...   \n",
       "15915  15.359477        0.365114  0.417021 -0.875527  0.381287  0.999981   \n",
       "15916   0.421707       -0.419319  2.291648  0.182977  0.854816  0.999981   \n",
       "15917   4.466670       -1.068897  0.675953  1.581317  0.113806  0.999981   \n",
       "15918   6.544174        0.148226  0.593930 -0.249568  0.802921  0.999981   \n",
       "15919   2.225498       -0.559470  1.127278  0.496302  0.619682  0.999981   \n",
       "\n",
       "              genes       gene_id  \n",
       "0              NAT1          NAT1  \n",
       "1              AAMP          AAMP  \n",
       "2             AARS1         AARS1  \n",
       "3              ABAT          ABAT  \n",
       "4             ABCA1         ABCA1  \n",
       "...             ...           ...  \n",
       "15915     106736475     106736475  \n",
       "15916   GET1-SH3BGR   GET1-SH3BGR  \n",
       "15917  BOLA2-SMG1P6  BOLA2-SMG1P6  \n",
       "15918     107303344     107303344  \n",
       "15919     SCARNA18B     SCARNA18B  \n",
       "\n",
       "[15920 rows x 8 columns]"
      ]
     },
     "execution_count": 295,
     "metadata": {},
     "output_type": "execute_result"
    }
   ],
   "source": [
    "# MV411 tc scaled\n",
    "resGene_tc"
   ]
  },
  {
   "cell_type": "code",
   "execution_count": 307,
   "id": "8795e0ce",
   "metadata": {},
   "outputs": [
    {
     "data": {
      "text/html": [
       "<div>\n",
       "<style scoped>\n",
       "    .dataframe tbody tr th:only-of-type {\n",
       "        vertical-align: middle;\n",
       "    }\n",
       "\n",
       "    .dataframe tbody tr th {\n",
       "        vertical-align: top;\n",
       "    }\n",
       "\n",
       "    .dataframe thead th {\n",
       "        text-align: right;\n",
       "    }\n",
       "</style>\n",
       "<table border=\"1\" class=\"dataframe\">\n",
       "  <thead>\n",
       "    <tr style=\"text-align: right;\">\n",
       "      <th></th>\n",
       "      <th>baseMean</th>\n",
       "      <th>log2FoldChange</th>\n",
       "      <th>lfcSE</th>\n",
       "      <th>stat</th>\n",
       "      <th>pvalue</th>\n",
       "      <th>padj</th>\n",
       "      <th>genes</th>\n",
       "      <th>gene_id</th>\n",
       "    </tr>\n",
       "  </thead>\n",
       "  <tbody>\n",
       "    <tr>\n",
       "      <th>0</th>\n",
       "      <td>17.834186</td>\n",
       "      <td>-0.264273</td>\n",
       "      <td>0.364152</td>\n",
       "      <td>0.725722</td>\n",
       "      <td>0.468009</td>\n",
       "      <td>0.998261</td>\n",
       "      <td>NAT1</td>\n",
       "      <td>NAT1</td>\n",
       "    </tr>\n",
       "    <tr>\n",
       "      <th>1</th>\n",
       "      <td>8.593676</td>\n",
       "      <td>0.809226</td>\n",
       "      <td>0.566727</td>\n",
       "      <td>-1.427894</td>\n",
       "      <td>0.153322</td>\n",
       "      <td>0.998261</td>\n",
       "      <td>AAMP</td>\n",
       "      <td>AAMP</td>\n",
       "    </tr>\n",
       "    <tr>\n",
       "      <th>2</th>\n",
       "      <td>25.196863</td>\n",
       "      <td>-0.026267</td>\n",
       "      <td>0.297531</td>\n",
       "      <td>0.088283</td>\n",
       "      <td>0.929651</td>\n",
       "      <td>0.998261</td>\n",
       "      <td>AARS1</td>\n",
       "      <td>AARS1</td>\n",
       "    </tr>\n",
       "    <tr>\n",
       "      <th>3</th>\n",
       "      <td>5.351378</td>\n",
       "      <td>-0.073204</td>\n",
       "      <td>0.598949</td>\n",
       "      <td>0.122220</td>\n",
       "      <td>0.902725</td>\n",
       "      <td>0.998261</td>\n",
       "      <td>ABAT</td>\n",
       "      <td>ABAT</td>\n",
       "    </tr>\n",
       "    <tr>\n",
       "      <th>4</th>\n",
       "      <td>12.144651</td>\n",
       "      <td>-0.278311</td>\n",
       "      <td>0.424693</td>\n",
       "      <td>0.655324</td>\n",
       "      <td>0.512259</td>\n",
       "      <td>0.998261</td>\n",
       "      <td>ABCA1</td>\n",
       "      <td>ABCA1</td>\n",
       "    </tr>\n",
       "    <tr>\n",
       "      <th>...</th>\n",
       "      <td>...</td>\n",
       "      <td>...</td>\n",
       "      <td>...</td>\n",
       "      <td>...</td>\n",
       "      <td>...</td>\n",
       "      <td>...</td>\n",
       "      <td>...</td>\n",
       "      <td>...</td>\n",
       "    </tr>\n",
       "    <tr>\n",
       "      <th>15915</th>\n",
       "      <td>15.418304</td>\n",
       "      <td>0.373365</td>\n",
       "      <td>0.404929</td>\n",
       "      <td>-0.922053</td>\n",
       "      <td>0.356501</td>\n",
       "      <td>0.998261</td>\n",
       "      <td>106736475</td>\n",
       "      <td>106736475</td>\n",
       "    </tr>\n",
       "    <tr>\n",
       "      <th>15916</th>\n",
       "      <td>0.383833</td>\n",
       "      <td>-0.453155</td>\n",
       "      <td>2.320383</td>\n",
       "      <td>0.195293</td>\n",
       "      <td>0.845163</td>\n",
       "      <td>0.998261</td>\n",
       "      <td>GET1-SH3BGR</td>\n",
       "      <td>GET1-SH3BGR</td>\n",
       "    </tr>\n",
       "    <tr>\n",
       "      <th>15917</th>\n",
       "      <td>4.552699</td>\n",
       "      <td>-1.022212</td>\n",
       "      <td>0.664137</td>\n",
       "      <td>1.539159</td>\n",
       "      <td>0.123766</td>\n",
       "      <td>0.998261</td>\n",
       "      <td>BOLA2-SMG1P6</td>\n",
       "      <td>BOLA2-SMG1P6</td>\n",
       "    </tr>\n",
       "    <tr>\n",
       "      <th>15918</th>\n",
       "      <td>6.489876</td>\n",
       "      <td>0.135255</td>\n",
       "      <td>0.573527</td>\n",
       "      <td>-0.235830</td>\n",
       "      <td>0.813565</td>\n",
       "      <td>0.998261</td>\n",
       "      <td>107303344</td>\n",
       "      <td>107303344</td>\n",
       "    </tr>\n",
       "    <tr>\n",
       "      <th>15919</th>\n",
       "      <td>2.219749</td>\n",
       "      <td>-0.563035</td>\n",
       "      <td>1.116034</td>\n",
       "      <td>0.504496</td>\n",
       "      <td>0.613913</td>\n",
       "      <td>0.998261</td>\n",
       "      <td>SCARNA18B</td>\n",
       "      <td>SCARNA18B</td>\n",
       "    </tr>\n",
       "  </tbody>\n",
       "</table>\n",
       "<p>15920 rows × 8 columns</p>\n",
       "</div>"
      ],
      "text/plain": [
       "        baseMean  log2FoldChange     lfcSE      stat    pvalue      padj  \\\n",
       "0      17.834186       -0.264273  0.364152  0.725722  0.468009  0.998261   \n",
       "1       8.593676        0.809226  0.566727 -1.427894  0.153322  0.998261   \n",
       "2      25.196863       -0.026267  0.297531  0.088283  0.929651  0.998261   \n",
       "3       5.351378       -0.073204  0.598949  0.122220  0.902725  0.998261   \n",
       "4      12.144651       -0.278311  0.424693  0.655324  0.512259  0.998261   \n",
       "...          ...             ...       ...       ...       ...       ...   \n",
       "15915  15.418304        0.373365  0.404929 -0.922053  0.356501  0.998261   \n",
       "15916   0.383833       -0.453155  2.320383  0.195293  0.845163  0.998261   \n",
       "15917   4.552699       -1.022212  0.664137  1.539159  0.123766  0.998261   \n",
       "15918   6.489876        0.135255  0.573527 -0.235830  0.813565  0.998261   \n",
       "15919   2.219749       -0.563035  1.116034  0.504496  0.613913  0.998261   \n",
       "\n",
       "              genes       gene_id  \n",
       "0              NAT1          NAT1  \n",
       "1              AAMP          AAMP  \n",
       "2             AARS1         AARS1  \n",
       "3              ABAT          ABAT  \n",
       "4             ABCA1         ABCA1  \n",
       "...             ...           ...  \n",
       "15915     106736475     106736475  \n",
       "15916   GET1-SH3BGR   GET1-SH3BGR  \n",
       "15917  BOLA2-SMG1P6  BOLA2-SMG1P6  \n",
       "15918     107303344     107303344  \n",
       "15919     SCARNA18B     SCARNA18B  \n",
       "\n",
       "[15920 rows x 8 columns]"
      ]
     },
     "execution_count": 307,
     "metadata": {},
     "output_type": "execute_result"
    }
   ],
   "source": [
    "# MV411 tc unscaled\n",
    "resGene_tc"
   ]
  },
  {
   "cell_type": "code",
   "execution_count": 308,
   "id": "6ed30355",
   "metadata": {
    "collapsed": true
   },
   "outputs": [
    {
     "data": {
      "text/html": [
       "<div>\n",
       "<style scoped>\n",
       "    .dataframe tbody tr th:only-of-type {\n",
       "        vertical-align: middle;\n",
       "    }\n",
       "\n",
       "    .dataframe tbody tr th {\n",
       "        vertical-align: top;\n",
       "    }\n",
       "\n",
       "    .dataframe thead th {\n",
       "        text-align: right;\n",
       "    }\n",
       "</style>\n",
       "<table border=\"1\" class=\"dataframe\">\n",
       "  <thead>\n",
       "    <tr style=\"text-align: right;\">\n",
       "      <th></th>\n",
       "      <th>baseMean</th>\n",
       "      <th>log2FoldChange</th>\n",
       "      <th>lfcSE</th>\n",
       "      <th>stat</th>\n",
       "      <th>pvalue</th>\n",
       "      <th>padj</th>\n",
       "      <th>genes</th>\n",
       "      <th>gene_id</th>\n",
       "    </tr>\n",
       "  </thead>\n",
       "  <tbody>\n",
       "    <tr>\n",
       "      <th>0</th>\n",
       "      <td>333.242791</td>\n",
       "      <td>-0.130416</td>\n",
       "      <td>0.133384</td>\n",
       "      <td>0.977752</td>\n",
       "      <td>0.328197</td>\n",
       "      <td>0.817751</td>\n",
       "      <td>NAT1</td>\n",
       "      <td>NAT1</td>\n",
       "    </tr>\n",
       "    <tr>\n",
       "      <th>1</th>\n",
       "      <td>517.896919</td>\n",
       "      <td>0.029704</td>\n",
       "      <td>0.098950</td>\n",
       "      <td>-0.300195</td>\n",
       "      <td>0.764028</td>\n",
       "      <td>0.958372</td>\n",
       "      <td>AAMP</td>\n",
       "      <td>AAMP</td>\n",
       "    </tr>\n",
       "    <tr>\n",
       "      <th>2</th>\n",
       "      <td>812.978045</td>\n",
       "      <td>-0.001160</td>\n",
       "      <td>0.078803</td>\n",
       "      <td>0.014716</td>\n",
       "      <td>0.988258</td>\n",
       "      <td>0.998150</td>\n",
       "      <td>AARS1</td>\n",
       "      <td>AARS1</td>\n",
       "    </tr>\n",
       "    <tr>\n",
       "      <th>3</th>\n",
       "      <td>172.476936</td>\n",
       "      <td>0.004497</td>\n",
       "      <td>0.144747</td>\n",
       "      <td>-0.031066</td>\n",
       "      <td>0.975217</td>\n",
       "      <td>0.996312</td>\n",
       "      <td>ABAT</td>\n",
       "      <td>ABAT</td>\n",
       "    </tr>\n",
       "    <tr>\n",
       "      <th>4</th>\n",
       "      <td>130.863195</td>\n",
       "      <td>-0.258126</td>\n",
       "      <td>0.200128</td>\n",
       "      <td>1.289807</td>\n",
       "      <td>0.197118</td>\n",
       "      <td>0.748750</td>\n",
       "      <td>ABCA1</td>\n",
       "      <td>ABCA1</td>\n",
       "    </tr>\n",
       "    <tr>\n",
       "      <th>...</th>\n",
       "      <td>...</td>\n",
       "      <td>...</td>\n",
       "      <td>...</td>\n",
       "      <td>...</td>\n",
       "      <td>...</td>\n",
       "      <td>...</td>\n",
       "      <td>...</td>\n",
       "      <td>...</td>\n",
       "    </tr>\n",
       "    <tr>\n",
       "      <th>15915</th>\n",
       "      <td>192.569084</td>\n",
       "      <td>-0.112678</td>\n",
       "      <td>0.148189</td>\n",
       "      <td>0.760369</td>\n",
       "      <td>0.447034</td>\n",
       "      <td>0.863779</td>\n",
       "      <td>106736475</td>\n",
       "      <td>106736475</td>\n",
       "    </tr>\n",
       "    <tr>\n",
       "      <th>15916</th>\n",
       "      <td>52.919830</td>\n",
       "      <td>0.072105</td>\n",
       "      <td>0.224680</td>\n",
       "      <td>-0.320922</td>\n",
       "      <td>0.748269</td>\n",
       "      <td>0.955198</td>\n",
       "      <td>GET1-SH3BGR</td>\n",
       "      <td>GET1-SH3BGR</td>\n",
       "    </tr>\n",
       "    <tr>\n",
       "      <th>15917</th>\n",
       "      <td>224.551419</td>\n",
       "      <td>-0.174290</td>\n",
       "      <td>0.126166</td>\n",
       "      <td>1.381429</td>\n",
       "      <td>0.167147</td>\n",
       "      <td>0.716892</td>\n",
       "      <td>BOLA2-SMG1P6</td>\n",
       "      <td>BOLA2-SMG1P6</td>\n",
       "    </tr>\n",
       "    <tr>\n",
       "      <th>15918</th>\n",
       "      <td>400.943832</td>\n",
       "      <td>0.017400</td>\n",
       "      <td>0.092078</td>\n",
       "      <td>-0.188969</td>\n",
       "      <td>0.850117</td>\n",
       "      <td>0.973873</td>\n",
       "      <td>107303344</td>\n",
       "      <td>107303344</td>\n",
       "    </tr>\n",
       "    <tr>\n",
       "      <th>15919</th>\n",
       "      <td>3.744848</td>\n",
       "      <td>-0.362517</td>\n",
       "      <td>0.800308</td>\n",
       "      <td>0.452971</td>\n",
       "      <td>0.650569</td>\n",
       "      <td>0.929491</td>\n",
       "      <td>SCARNA18B</td>\n",
       "      <td>SCARNA18B</td>\n",
       "    </tr>\n",
       "  </tbody>\n",
       "</table>\n",
       "<p>15920 rows × 8 columns</p>\n",
       "</div>"
      ],
      "text/plain": [
       "         baseMean  log2FoldChange     lfcSE      stat    pvalue      padj  \\\n",
       "0      333.242791       -0.130416  0.133384  0.977752  0.328197  0.817751   \n",
       "1      517.896919        0.029704  0.098950 -0.300195  0.764028  0.958372   \n",
       "2      812.978045       -0.001160  0.078803  0.014716  0.988258  0.998150   \n",
       "3      172.476936        0.004497  0.144747 -0.031066  0.975217  0.996312   \n",
       "4      130.863195       -0.258126  0.200128  1.289807  0.197118  0.748750   \n",
       "...           ...             ...       ...       ...       ...       ...   \n",
       "15915  192.569084       -0.112678  0.148189  0.760369  0.447034  0.863779   \n",
       "15916   52.919830        0.072105  0.224680 -0.320922  0.748269  0.955198   \n",
       "15917  224.551419       -0.174290  0.126166  1.381429  0.167147  0.716892   \n",
       "15918  400.943832        0.017400  0.092078 -0.188969  0.850117  0.973873   \n",
       "15919    3.744848       -0.362517  0.800308  0.452971  0.650569  0.929491   \n",
       "\n",
       "              genes       gene_id  \n",
       "0              NAT1          NAT1  \n",
       "1              AAMP          AAMP  \n",
       "2             AARS1         AARS1  \n",
       "3              ABAT          ABAT  \n",
       "4             ABCA1         ABCA1  \n",
       "...             ...           ...  \n",
       "15915     106736475     106736475  \n",
       "15916   GET1-SH3BGR   GET1-SH3BGR  \n",
       "15917  BOLA2-SMG1P6  BOLA2-SMG1P6  \n",
       "15918     107303344     107303344  \n",
       "15919     SCARNA18B     SCARNA18B  \n",
       "\n",
       "[15920 rows x 8 columns]"
      ]
     },
     "execution_count": 308,
     "metadata": {},
     "output_type": "execute_result"
    }
   ],
   "source": [
    "# MV411 read unscaled\n",
    "resGene_read"
   ]
  },
  {
   "cell_type": "code",
   "execution_count": 296,
   "id": "534ad16f",
   "metadata": {
    "collapsed": true
   },
   "outputs": [
    {
     "data": {
      "text/html": [
       "<div>\n",
       "<style scoped>\n",
       "    .dataframe tbody tr th:only-of-type {\n",
       "        vertical-align: middle;\n",
       "    }\n",
       "\n",
       "    .dataframe tbody tr th {\n",
       "        vertical-align: top;\n",
       "    }\n",
       "\n",
       "    .dataframe thead th {\n",
       "        text-align: right;\n",
       "    }\n",
       "</style>\n",
       "<table border=\"1\" class=\"dataframe\">\n",
       "  <thead>\n",
       "    <tr style=\"text-align: right;\">\n",
       "      <th></th>\n",
       "      <th>baseMean</th>\n",
       "      <th>log2FoldChange</th>\n",
       "      <th>lfcSE</th>\n",
       "      <th>stat</th>\n",
       "      <th>pvalue</th>\n",
       "      <th>padj</th>\n",
       "      <th>genes</th>\n",
       "      <th>gene_id</th>\n",
       "    </tr>\n",
       "  </thead>\n",
       "  <tbody>\n",
       "    <tr>\n",
       "      <th>0</th>\n",
       "      <td>334.801832</td>\n",
       "      <td>-0.121813</td>\n",
       "      <td>0.175186</td>\n",
       "      <td>0.695335</td>\n",
       "      <td>0.486845</td>\n",
       "      <td>0.999948</td>\n",
       "      <td>NAT1</td>\n",
       "      <td>NAT1</td>\n",
       "    </tr>\n",
       "    <tr>\n",
       "      <th>1</th>\n",
       "      <td>515.798932</td>\n",
       "      <td>0.018444</td>\n",
       "      <td>0.118944</td>\n",
       "      <td>-0.155061</td>\n",
       "      <td>0.876773</td>\n",
       "      <td>0.999948</td>\n",
       "      <td>AAMP</td>\n",
       "      <td>AAMP</td>\n",
       "    </tr>\n",
       "    <tr>\n",
       "      <th>2</th>\n",
       "      <td>812.952081</td>\n",
       "      <td>-0.002162</td>\n",
       "      <td>0.123463</td>\n",
       "      <td>0.017511</td>\n",
       "      <td>0.986029</td>\n",
       "      <td>0.999948</td>\n",
       "      <td>AARS1</td>\n",
       "      <td>AARS1</td>\n",
       "    </tr>\n",
       "    <tr>\n",
       "      <th>3</th>\n",
       "      <td>173.140161</td>\n",
       "      <td>0.006923</td>\n",
       "      <td>0.183274</td>\n",
       "      <td>-0.037777</td>\n",
       "      <td>0.969866</td>\n",
       "      <td>0.999948</td>\n",
       "      <td>ABAT</td>\n",
       "      <td>ABAT</td>\n",
       "    </tr>\n",
       "    <tr>\n",
       "      <th>4</th>\n",
       "      <td>130.295945</td>\n",
       "      <td>-0.271654</td>\n",
       "      <td>0.208230</td>\n",
       "      <td>1.304588</td>\n",
       "      <td>0.192033</td>\n",
       "      <td>0.999948</td>\n",
       "      <td>ABCA1</td>\n",
       "      <td>ABCA1</td>\n",
       "    </tr>\n",
       "    <tr>\n",
       "      <th>...</th>\n",
       "      <td>...</td>\n",
       "      <td>...</td>\n",
       "      <td>...</td>\n",
       "      <td>...</td>\n",
       "      <td>...</td>\n",
       "      <td>...</td>\n",
       "      <td>...</td>\n",
       "      <td>...</td>\n",
       "    </tr>\n",
       "    <tr>\n",
       "      <th>15915</th>\n",
       "      <td>193.297500</td>\n",
       "      <td>-0.104826</td>\n",
       "      <td>0.185267</td>\n",
       "      <td>0.565810</td>\n",
       "      <td>0.571523</td>\n",
       "      <td>0.999948</td>\n",
       "      <td>106736475</td>\n",
       "      <td>106736475</td>\n",
       "    </tr>\n",
       "    <tr>\n",
       "      <th>15916</th>\n",
       "      <td>53.489506</td>\n",
       "      <td>0.085665</td>\n",
       "      <td>0.263384</td>\n",
       "      <td>-0.325249</td>\n",
       "      <td>0.744993</td>\n",
       "      <td>0.999948</td>\n",
       "      <td>GET1-SH3BGR</td>\n",
       "      <td>GET1-SH3BGR</td>\n",
       "    </tr>\n",
       "    <tr>\n",
       "      <th>15917</th>\n",
       "      <td>225.201048</td>\n",
       "      <td>-0.171209</td>\n",
       "      <td>0.167586</td>\n",
       "      <td>1.021614</td>\n",
       "      <td>0.306963</td>\n",
       "      <td>0.999948</td>\n",
       "      <td>BOLA2-SMG1P6</td>\n",
       "      <td>BOLA2-SMG1P6</td>\n",
       "    </tr>\n",
       "    <tr>\n",
       "      <th>15918</th>\n",
       "      <td>401.729124</td>\n",
       "      <td>0.017726</td>\n",
       "      <td>0.141087</td>\n",
       "      <td>-0.125636</td>\n",
       "      <td>0.900020</td>\n",
       "      <td>0.999948</td>\n",
       "      <td>107303344</td>\n",
       "      <td>107303344</td>\n",
       "    </tr>\n",
       "    <tr>\n",
       "      <th>15919</th>\n",
       "      <td>3.789841</td>\n",
       "      <td>-0.345961</td>\n",
       "      <td>0.824569</td>\n",
       "      <td>0.419566</td>\n",
       "      <td>0.674803</td>\n",
       "      <td>0.999948</td>\n",
       "      <td>SCARNA18B</td>\n",
       "      <td>SCARNA18B</td>\n",
       "    </tr>\n",
       "  </tbody>\n",
       "</table>\n",
       "<p>15920 rows × 8 columns</p>\n",
       "</div>"
      ],
      "text/plain": [
       "         baseMean  log2FoldChange     lfcSE      stat    pvalue      padj  \\\n",
       "0      334.801832       -0.121813  0.175186  0.695335  0.486845  0.999948   \n",
       "1      515.798932        0.018444  0.118944 -0.155061  0.876773  0.999948   \n",
       "2      812.952081       -0.002162  0.123463  0.017511  0.986029  0.999948   \n",
       "3      173.140161        0.006923  0.183274 -0.037777  0.969866  0.999948   \n",
       "4      130.295945       -0.271654  0.208230  1.304588  0.192033  0.999948   \n",
       "...           ...             ...       ...       ...       ...       ...   \n",
       "15915  193.297500       -0.104826  0.185267  0.565810  0.571523  0.999948   \n",
       "15916   53.489506        0.085665  0.263384 -0.325249  0.744993  0.999948   \n",
       "15917  225.201048       -0.171209  0.167586  1.021614  0.306963  0.999948   \n",
       "15918  401.729124        0.017726  0.141087 -0.125636  0.900020  0.999948   \n",
       "15919    3.789841       -0.345961  0.824569  0.419566  0.674803  0.999948   \n",
       "\n",
       "              genes       gene_id  \n",
       "0              NAT1          NAT1  \n",
       "1              AAMP          AAMP  \n",
       "2             AARS1         AARS1  \n",
       "3              ABAT          ABAT  \n",
       "4             ABCA1         ABCA1  \n",
       "...             ...           ...  \n",
       "15915     106736475     106736475  \n",
       "15916   GET1-SH3BGR   GET1-SH3BGR  \n",
       "15917  BOLA2-SMG1P6  BOLA2-SMG1P6  \n",
       "15918     107303344     107303344  \n",
       "15919     SCARNA18B     SCARNA18B  \n",
       "\n",
       "[15920 rows x 8 columns]"
      ]
     },
     "execution_count": 296,
     "metadata": {},
     "output_type": "execute_result"
    }
   ],
   "source": [
    "# MV411 read scaled\n",
    "resGene_read"
   ]
  },
  {
   "cell_type": "code",
   "execution_count": 341,
   "id": "c4e06100",
   "metadata": {
    "collapsed": true
   },
   "outputs": [
    {
     "data": {
      "text/html": [
       "<div>\n",
       "<style scoped>\n",
       "    .dataframe tbody tr th:only-of-type {\n",
       "        vertical-align: middle;\n",
       "    }\n",
       "\n",
       "    .dataframe tbody tr th {\n",
       "        vertical-align: top;\n",
       "    }\n",
       "\n",
       "    .dataframe thead th {\n",
       "        text-align: right;\n",
       "    }\n",
       "</style>\n",
       "<table border=\"1\" class=\"dataframe\">\n",
       "  <thead>\n",
       "    <tr style=\"text-align: right;\">\n",
       "      <th></th>\n",
       "      <th>baseMean</th>\n",
       "      <th>log2FoldChange</th>\n",
       "      <th>lfcSE</th>\n",
       "      <th>stat</th>\n",
       "      <th>pvalue</th>\n",
       "      <th>padj</th>\n",
       "      <th>genes</th>\n",
       "      <th>gene_id</th>\n",
       "    </tr>\n",
       "  </thead>\n",
       "  <tbody>\n",
       "    <tr>\n",
       "      <th>0</th>\n",
       "      <td>23.512883</td>\n",
       "      <td>0.136907</td>\n",
       "      <td>0.294880</td>\n",
       "      <td>-0.464283</td>\n",
       "      <td>0.642445</td>\n",
       "      <td>0.918784</td>\n",
       "      <td>NAT1</td>\n",
       "      <td>NAT1</td>\n",
       "    </tr>\n",
       "    <tr>\n",
       "      <th>1</th>\n",
       "      <td>8.797322</td>\n",
       "      <td>0.667310</td>\n",
       "      <td>0.495213</td>\n",
       "      <td>-1.347522</td>\n",
       "      <td>0.177812</td>\n",
       "      <td>0.615807</td>\n",
       "      <td>AAMP</td>\n",
       "      <td>AAMP</td>\n",
       "    </tr>\n",
       "    <tr>\n",
       "      <th>2</th>\n",
       "      <td>22.508482</td>\n",
       "      <td>-0.034976</td>\n",
       "      <td>0.342941</td>\n",
       "      <td>0.101987</td>\n",
       "      <td>0.918767</td>\n",
       "      <td>0.984925</td>\n",
       "      <td>AARS1</td>\n",
       "      <td>AARS1</td>\n",
       "    </tr>\n",
       "    <tr>\n",
       "      <th>3</th>\n",
       "      <td>9.837241</td>\n",
       "      <td>0.310585</td>\n",
       "      <td>0.513573</td>\n",
       "      <td>-0.604753</td>\n",
       "      <td>0.545343</td>\n",
       "      <td>0.878446</td>\n",
       "      <td>ABAT</td>\n",
       "      <td>ABAT</td>\n",
       "    </tr>\n",
       "    <tr>\n",
       "      <th>4</th>\n",
       "      <td>5.714018</td>\n",
       "      <td>-0.150615</td>\n",
       "      <td>0.704796</td>\n",
       "      <td>0.213701</td>\n",
       "      <td>0.830780</td>\n",
       "      <td>0.969518</td>\n",
       "      <td>ABCA1</td>\n",
       "      <td>ABCA1</td>\n",
       "    </tr>\n",
       "    <tr>\n",
       "      <th>...</th>\n",
       "      <td>...</td>\n",
       "      <td>...</td>\n",
       "      <td>...</td>\n",
       "      <td>...</td>\n",
       "      <td>...</td>\n",
       "      <td>...</td>\n",
       "      <td>...</td>\n",
       "      <td>...</td>\n",
       "    </tr>\n",
       "    <tr>\n",
       "      <th>15915</th>\n",
       "      <td>14.259266</td>\n",
       "      <td>-0.469402</td>\n",
       "      <td>0.387434</td>\n",
       "      <td>1.211564</td>\n",
       "      <td>0.225679</td>\n",
       "      <td>0.671024</td>\n",
       "      <td>106736475</td>\n",
       "      <td>106736475</td>\n",
       "    </tr>\n",
       "    <tr>\n",
       "      <th>15916</th>\n",
       "      <td>1.145752</td>\n",
       "      <td>-1.257156</td>\n",
       "      <td>1.371034</td>\n",
       "      <td>0.916940</td>\n",
       "      <td>0.359174</td>\n",
       "      <td>NaN</td>\n",
       "      <td>GET1-SH3BGR</td>\n",
       "      <td>GET1-SH3BGR</td>\n",
       "    </tr>\n",
       "    <tr>\n",
       "      <th>15917</th>\n",
       "      <td>4.435461</td>\n",
       "      <td>-0.545661</td>\n",
       "      <td>0.840400</td>\n",
       "      <td>0.649287</td>\n",
       "      <td>0.516153</td>\n",
       "      <td>0.867630</td>\n",
       "      <td>BOLA2-SMG1P6</td>\n",
       "      <td>BOLA2-SMG1P6</td>\n",
       "    </tr>\n",
       "    <tr>\n",
       "      <th>15918</th>\n",
       "      <td>9.136854</td>\n",
       "      <td>0.772948</td>\n",
       "      <td>0.550879</td>\n",
       "      <td>-1.403118</td>\n",
       "      <td>0.160582</td>\n",
       "      <td>0.591665</td>\n",
       "      <td>107303344</td>\n",
       "      <td>107303344</td>\n",
       "    </tr>\n",
       "    <tr>\n",
       "      <th>15919</th>\n",
       "      <td>2.921619</td>\n",
       "      <td>2.639102</td>\n",
       "      <td>1.328240</td>\n",
       "      <td>-1.986917</td>\n",
       "      <td>0.046932</td>\n",
       "      <td>0.339785</td>\n",
       "      <td>SCARNA18B</td>\n",
       "      <td>SCARNA18B</td>\n",
       "    </tr>\n",
       "  </tbody>\n",
       "</table>\n",
       "<p>15920 rows × 8 columns</p>\n",
       "</div>"
      ],
      "text/plain": [
       "        baseMean  log2FoldChange     lfcSE      stat    pvalue      padj  \\\n",
       "0      23.512883        0.136907  0.294880 -0.464283  0.642445  0.918784   \n",
       "1       8.797322        0.667310  0.495213 -1.347522  0.177812  0.615807   \n",
       "2      22.508482       -0.034976  0.342941  0.101987  0.918767  0.984925   \n",
       "3       9.837241        0.310585  0.513573 -0.604753  0.545343  0.878446   \n",
       "4       5.714018       -0.150615  0.704796  0.213701  0.830780  0.969518   \n",
       "...          ...             ...       ...       ...       ...       ...   \n",
       "15915  14.259266       -0.469402  0.387434  1.211564  0.225679  0.671024   \n",
       "15916   1.145752       -1.257156  1.371034  0.916940  0.359174       NaN   \n",
       "15917   4.435461       -0.545661  0.840400  0.649287  0.516153  0.867630   \n",
       "15918   9.136854        0.772948  0.550879 -1.403118  0.160582  0.591665   \n",
       "15919   2.921619        2.639102  1.328240 -1.986917  0.046932  0.339785   \n",
       "\n",
       "              genes       gene_id  \n",
       "0              NAT1          NAT1  \n",
       "1              AAMP          AAMP  \n",
       "2             AARS1         AARS1  \n",
       "3              ABAT          ABAT  \n",
       "4             ABCA1         ABCA1  \n",
       "...             ...           ...  \n",
       "15915     106736475     106736475  \n",
       "15916   GET1-SH3BGR   GET1-SH3BGR  \n",
       "15917  BOLA2-SMG1P6  BOLA2-SMG1P6  \n",
       "15918     107303344     107303344  \n",
       "15919     SCARNA18B     SCARNA18B  \n",
       "\n",
       "[15920 rows x 8 columns]"
      ]
     },
     "execution_count": 341,
     "metadata": {},
     "output_type": "execute_result"
    }
   ],
   "source": [
    "# MV411-MYB-dTAG tc unscaled\n",
    "resGene_tc"
   ]
  },
  {
   "cell_type": "code",
   "execution_count": 342,
   "id": "0d0c8e32",
   "metadata": {
    "collapsed": true
   },
   "outputs": [
    {
     "data": {
      "text/html": [
       "<div>\n",
       "<style scoped>\n",
       "    .dataframe tbody tr th:only-of-type {\n",
       "        vertical-align: middle;\n",
       "    }\n",
       "\n",
       "    .dataframe tbody tr th {\n",
       "        vertical-align: top;\n",
       "    }\n",
       "\n",
       "    .dataframe thead th {\n",
       "        text-align: right;\n",
       "    }\n",
       "</style>\n",
       "<table border=\"1\" class=\"dataframe\">\n",
       "  <thead>\n",
       "    <tr style=\"text-align: right;\">\n",
       "      <th></th>\n",
       "      <th>baseMean</th>\n",
       "      <th>log2FoldChange</th>\n",
       "      <th>lfcSE</th>\n",
       "      <th>stat</th>\n",
       "      <th>pvalue</th>\n",
       "      <th>padj</th>\n",
       "      <th>genes</th>\n",
       "      <th>gene_id</th>\n",
       "    </tr>\n",
       "  </thead>\n",
       "  <tbody>\n",
       "    <tr>\n",
       "      <th>0</th>\n",
       "      <td>369.125103</td>\n",
       "      <td>0.042485</td>\n",
       "      <td>0.155902</td>\n",
       "      <td>-0.272511</td>\n",
       "      <td>0.785229</td>\n",
       "      <td>0.921382</td>\n",
       "      <td>NAT1</td>\n",
       "      <td>NAT1</td>\n",
       "    </tr>\n",
       "    <tr>\n",
       "      <th>1</th>\n",
       "      <td>457.015464</td>\n",
       "      <td>-0.261234</td>\n",
       "      <td>0.148938</td>\n",
       "      <td>1.753975</td>\n",
       "      <td>0.079435</td>\n",
       "      <td>0.266192</td>\n",
       "      <td>AAMP</td>\n",
       "      <td>AAMP</td>\n",
       "    </tr>\n",
       "    <tr>\n",
       "      <th>2</th>\n",
       "      <td>704.809738</td>\n",
       "      <td>0.088993</td>\n",
       "      <td>0.167101</td>\n",
       "      <td>-0.532573</td>\n",
       "      <td>0.594330</td>\n",
       "      <td>0.822970</td>\n",
       "      <td>AARS1</td>\n",
       "      <td>AARS1</td>\n",
       "    </tr>\n",
       "    <tr>\n",
       "      <th>3</th>\n",
       "      <td>202.573353</td>\n",
       "      <td>0.338405</td>\n",
       "      <td>0.182506</td>\n",
       "      <td>-1.854209</td>\n",
       "      <td>0.063709</td>\n",
       "      <td>0.228995</td>\n",
       "      <td>ABAT</td>\n",
       "      <td>ABAT</td>\n",
       "    </tr>\n",
       "    <tr>\n",
       "      <th>4</th>\n",
       "      <td>49.469508</td>\n",
       "      <td>0.088495</td>\n",
       "      <td>0.363841</td>\n",
       "      <td>-0.243224</td>\n",
       "      <td>0.807832</td>\n",
       "      <td>0.930906</td>\n",
       "      <td>ABCA1</td>\n",
       "      <td>ABCA1</td>\n",
       "    </tr>\n",
       "    <tr>\n",
       "      <th>...</th>\n",
       "      <td>...</td>\n",
       "      <td>...</td>\n",
       "      <td>...</td>\n",
       "      <td>...</td>\n",
       "      <td>...</td>\n",
       "      <td>...</td>\n",
       "      <td>...</td>\n",
       "      <td>...</td>\n",
       "    </tr>\n",
       "    <tr>\n",
       "      <th>15915</th>\n",
       "      <td>182.124810</td>\n",
       "      <td>0.214179</td>\n",
       "      <td>0.202481</td>\n",
       "      <td>-1.057770</td>\n",
       "      <td>0.290160</td>\n",
       "      <td>0.585587</td>\n",
       "      <td>106736475</td>\n",
       "      <td>106736475</td>\n",
       "    </tr>\n",
       "    <tr>\n",
       "      <th>15916</th>\n",
       "      <td>53.726884</td>\n",
       "      <td>0.132476</td>\n",
       "      <td>0.223605</td>\n",
       "      <td>-0.592457</td>\n",
       "      <td>0.553545</td>\n",
       "      <td>0.798103</td>\n",
       "      <td>GET1-SH3BGR</td>\n",
       "      <td>GET1-SH3BGR</td>\n",
       "    </tr>\n",
       "    <tr>\n",
       "      <th>15917</th>\n",
       "      <td>205.331105</td>\n",
       "      <td>-0.046560</td>\n",
       "      <td>0.133339</td>\n",
       "      <td>0.349186</td>\n",
       "      <td>0.726950</td>\n",
       "      <td>0.892527</td>\n",
       "      <td>BOLA2-SMG1P6</td>\n",
       "      <td>BOLA2-SMG1P6</td>\n",
       "    </tr>\n",
       "    <tr>\n",
       "      <th>15918</th>\n",
       "      <td>402.954391</td>\n",
       "      <td>0.333136</td>\n",
       "      <td>0.155995</td>\n",
       "      <td>-2.135559</td>\n",
       "      <td>0.032715</td>\n",
       "      <td>0.141967</td>\n",
       "      <td>107303344</td>\n",
       "      <td>107303344</td>\n",
       "    </tr>\n",
       "    <tr>\n",
       "      <th>15919</th>\n",
       "      <td>4.813919</td>\n",
       "      <td>1.125608</td>\n",
       "      <td>0.857198</td>\n",
       "      <td>-1.313125</td>\n",
       "      <td>0.189141</td>\n",
       "      <td>0.463302</td>\n",
       "      <td>SCARNA18B</td>\n",
       "      <td>SCARNA18B</td>\n",
       "    </tr>\n",
       "  </tbody>\n",
       "</table>\n",
       "<p>15920 rows × 8 columns</p>\n",
       "</div>"
      ],
      "text/plain": [
       "         baseMean  log2FoldChange     lfcSE      stat    pvalue      padj  \\\n",
       "0      369.125103        0.042485  0.155902 -0.272511  0.785229  0.921382   \n",
       "1      457.015464       -0.261234  0.148938  1.753975  0.079435  0.266192   \n",
       "2      704.809738        0.088993  0.167101 -0.532573  0.594330  0.822970   \n",
       "3      202.573353        0.338405  0.182506 -1.854209  0.063709  0.228995   \n",
       "4       49.469508        0.088495  0.363841 -0.243224  0.807832  0.930906   \n",
       "...           ...             ...       ...       ...       ...       ...   \n",
       "15915  182.124810        0.214179  0.202481 -1.057770  0.290160  0.585587   \n",
       "15916   53.726884        0.132476  0.223605 -0.592457  0.553545  0.798103   \n",
       "15917  205.331105       -0.046560  0.133339  0.349186  0.726950  0.892527   \n",
       "15918  402.954391        0.333136  0.155995 -2.135559  0.032715  0.141967   \n",
       "15919    4.813919        1.125608  0.857198 -1.313125  0.189141  0.463302   \n",
       "\n",
       "              genes       gene_id  \n",
       "0              NAT1          NAT1  \n",
       "1              AAMP          AAMP  \n",
       "2             AARS1         AARS1  \n",
       "3              ABAT          ABAT  \n",
       "4             ABCA1         ABCA1  \n",
       "...             ...           ...  \n",
       "15915     106736475     106736475  \n",
       "15916   GET1-SH3BGR   GET1-SH3BGR  \n",
       "15917  BOLA2-SMG1P6  BOLA2-SMG1P6  \n",
       "15918     107303344     107303344  \n",
       "15919     SCARNA18B     SCARNA18B  \n",
       "\n",
       "[15920 rows x 8 columns]"
      ]
     },
     "execution_count": 342,
     "metadata": {},
     "output_type": "execute_result"
    }
   ],
   "source": [
    "# MV411-MYB-dTAG read unscaled\n",
    "resGene_read"
   ]
  },
  {
   "cell_type": "markdown",
   "id": "c1014b26",
   "metadata": {},
   "source": [
    "# Plots"
   ]
  },
  {
   "cell_type": "code",
   "execution_count": 348,
   "id": "23ccc0d4",
   "metadata": {},
   "outputs": [],
   "source": [
    "%matplotlib inline"
   ]
  },
  {
   "cell_type": "markdown",
   "id": "8fa233b1",
   "metadata": {},
   "source": [
    "__get CRCs__"
   ]
  },
  {
   "cell_type": "code",
   "execution_count": 353,
   "id": "4f4ee74c",
   "metadata": {
    "collapsed": true
   },
   "outputs": [
    {
     "data": {
      "text/plain": [
       "['CEBPA',\n",
       " 'E2F3',\n",
       " 'FLI1',\n",
       " 'FOSL2',\n",
       " 'GFI1',\n",
       " 'HHEX',\n",
       " 'IRF8',\n",
       " 'LYL1',\n",
       " 'MEF2C',\n",
       " 'MEF2D',\n",
       " 'MEIS1',\n",
       " 'MYB',\n",
       " 'PLAGL2',\n",
       " 'RUNX1',\n",
       " 'RUNX2',\n",
       " 'RXRA',\n",
       " 'SP1',\n",
       " 'SPI1',\n",
       " 'SREBF1',\n",
       " 'STAT5B',\n",
       " 'TFAP4',\n",
       " 'ZEB2',\n",
       " 'ZFPM1',\n",
       " 'ZNF281',\n",
       " 'GATA2',\n",
       " 'MAX',\n",
       " 'MYC',\n",
       " 'ETV6',\n",
       " 'HOXA9',\n",
       " 'LMO2',\n",
       " 'ZMYND']"
      ]
     },
     "execution_count": 353,
     "metadata": {},
     "output_type": "execute_result"
    }
   ],
   "source": [
    "# getting the crcs\n",
    "crcs = h.fileToList(\"../data/CRCs_31.txt\")\n",
    "crcs"
   ]
  },
  {
   "cell_type": "markdown",
   "id": "490c664a",
   "metadata": {},
   "source": [
    "## whisker plots"
   ]
  },
  {
   "cell_type": "code",
   "execution_count": 344,
   "id": "10fce7f5",
   "metadata": {
    "collapsed": true
   },
   "outputs": [
    {
     "data": {
      "text/plain": [
       "['../results/slamseq_MYB_degraded_coculture_v1//MYB_degraded_coculture_v1_MV411_DMSO_VHL_0_5_deseq_readcounts.csv',\n",
       " '../results/slamseq_MYB_degraded_coculture_v1//MYB_degraded_coculture_v1_MV411_DMSO_VHL_0_5_deseq_tccounts.csv',\n",
       " '../results/slamseq_MYB_degraded_coculture_v1//MYB_degraded_coculture_v1_MV411_DMSO_VHL_ERCCsamplewise_0_5_deseq_readcounts.csv',\n",
       " '../results/slamseq_MYB_degraded_coculture_v1//MYB_degraded_coculture_v1_MV411_DMSO_VHL_ERCCsamplewise_0_5_deseq_tccounts.csv',\n",
       " '../results/slamseq_MYB_degraded_coculture_v1//MYB_degraded_coculture_v1_MV411-MYB-dTAG_DMSO_VHL_0_5_deseq_readcounts.csv',\n",
       " '../results/slamseq_MYB_degraded_coculture_v1//MYB_degraded_coculture_v1_MV411-MYB-dTAG_DMSO_VHL_0_5_deseq_tccounts.csv',\n",
       " '../results/slamseq_MYB_degraded_coculture_v1//MYB_degraded_coculture_v1_MV411-MYB-dTAG_DMSO_VHL_ERCCsamplewise_0_5_deseq_readcounts.csv',\n",
       " '../results/slamseq_MYB_degraded_coculture_v1//MYB_degraded_coculture_v1_MV411-MYB-dTAG_DMSO_VHL_ERCCsamplewise_0_5_deseq_tccounts.csv']"
      ]
     },
     "execution_count": 344,
     "metadata": {},
     "output_type": "execute_result"
    }
   ],
   "source": [
    "deseq_files = ! ls $res_dir/*deseq*\n",
    "deseq_files"
   ]
  },
  {
   "cell_type": "code",
   "execution_count": 345,
   "id": "b6a7903b",
   "metadata": {},
   "outputs": [],
   "source": [
    "res_dfs = [pd.read_csv(file, header=[0], index_col=None, squeeze=True) for file in deseq_files]"
   ]
  },
  {
   "cell_type": "code",
   "execution_count": 349,
   "id": "83462786",
   "metadata": {},
   "outputs": [],
   "source": [
    "var = \"MV411\""
   ]
  },
  {
   "cell_type": "markdown",
   "id": "f0972182",
   "metadata": {},
   "source": [
    "### MV411 coculture 12h"
   ]
  },
  {
   "cell_type": "markdown",
   "id": "16a3ab6a",
   "metadata": {},
   "source": [
    "#### Unscaled"
   ]
  },
  {
   "cell_type": "code",
   "execution_count": 363,
   "id": "ad8d6cf6",
   "metadata": {},
   "outputs": [],
   "source": [
    "# MV411 coculture 12h\n",
    "version = \"v1\"\n",
    "var_name = \"experiment\"\n",
    "var = \"MV411\"\n",
    "var1 = \"DMSO\"\n",
    "var2 = \"VHL\"\n",
    "scaling=None"
   ]
  },
  {
   "cell_type": "code",
   "execution_count": 364,
   "id": "72f9e0ac",
   "metadata": {},
   "outputs": [
    {
     "data": {
      "text/plain": [
       "'MYB_degraded_coculture_v1_MV411_DMSO_VHL_0_5_deseq'"
      ]
     },
     "execution_count": 364,
     "metadata": {},
     "output_type": "execute_result"
    }
   ],
   "source": [
    "deseq_res_file_prefix = \"{}_{}_deseq\".format(project, \"_\".join(\n",
    "    filter(None, [var, var1, var2, scaling, str(minvar_toremove), str(mincount_toremove)])))\n",
    "deseq_res_file_prefix"
   ]
  },
  {
   "cell_type": "code",
   "execution_count": 365,
   "id": "b24d4360",
   "metadata": {},
   "outputs": [],
   "source": [
    "# read in DESeq outputs\n",
    "resGene_tc = pd.read_csv(\"{}/{}_tccounts.csv\".format(res_dir, deseq_res_file_prefix), \n",
    "                           header=[0], index_col=None, squeeze=True)\n",
    "resGene_read = pd.read_csv(\"{}/{}_readcounts.csv\".format(res_dir, deseq_res_file_prefix), \n",
    "                             header=[0], index_col=None, squeeze=True)"
   ]
  },
  {
   "cell_type": "code",
   "execution_count": 366,
   "id": "d5a66136",
   "metadata": {
    "collapsed": true
   },
   "outputs": [
    {
     "data": {
      "text/html": [
       "<div>\n",
       "<style scoped>\n",
       "    .dataframe tbody tr th:only-of-type {\n",
       "        vertical-align: middle;\n",
       "    }\n",
       "\n",
       "    .dataframe tbody tr th {\n",
       "        vertical-align: top;\n",
       "    }\n",
       "\n",
       "    .dataframe thead th {\n",
       "        text-align: right;\n",
       "    }\n",
       "</style>\n",
       "<table border=\"1\" class=\"dataframe\">\n",
       "  <thead>\n",
       "    <tr style=\"text-align: right;\">\n",
       "      <th></th>\n",
       "      <th>baseMean</th>\n",
       "      <th>log2FoldChange</th>\n",
       "      <th>lfcSE</th>\n",
       "      <th>stat</th>\n",
       "      <th>pvalue</th>\n",
       "      <th>padj</th>\n",
       "    </tr>\n",
       "  </thead>\n",
       "  <tbody>\n",
       "    <tr>\n",
       "      <th>0.00</th>\n",
       "      <td>0.000000</td>\n",
       "      <td>-3.649885</td>\n",
       "      <td>0.065093</td>\n",
       "      <td>-4.060261</td>\n",
       "      <td>0.000000</td>\n",
       "      <td>0.000291</td>\n",
       "    </tr>\n",
       "    <tr>\n",
       "      <th>0.45</th>\n",
       "      <td>4.146108</td>\n",
       "      <td>-0.000000</td>\n",
       "      <td>0.441299</td>\n",
       "      <td>-0.095927</td>\n",
       "      <td>0.458144</td>\n",
       "      <td>0.998261</td>\n",
       "    </tr>\n",
       "    <tr>\n",
       "      <th>0.50</th>\n",
       "      <td>5.952479</td>\n",
       "      <td>-0.000000</td>\n",
       "      <td>0.510175</td>\n",
       "      <td>0.021101</td>\n",
       "      <td>0.514172</td>\n",
       "      <td>0.998261</td>\n",
       "    </tr>\n",
       "    <tr>\n",
       "      <th>0.75</th>\n",
       "      <td>26.901606</td>\n",
       "      <td>0.255297</td>\n",
       "      <td>1.265114</td>\n",
       "      <td>0.600378</td>\n",
       "      <td>0.782811</td>\n",
       "      <td>0.998261</td>\n",
       "    </tr>\n",
       "    <tr>\n",
       "      <th>1.00</th>\n",
       "      <td>5230.220563</td>\n",
       "      <td>4.865639</td>\n",
       "      <td>3.352475</td>\n",
       "      <td>5.606208</td>\n",
       "      <td>0.999933</td>\n",
       "      <td>0.999933</td>\n",
       "    </tr>\n",
       "  </tbody>\n",
       "</table>\n",
       "</div>"
      ],
      "text/plain": [
       "         baseMean  log2FoldChange     lfcSE      stat    pvalue      padj\n",
       "0.00     0.000000       -3.649885  0.065093 -4.060261  0.000000  0.000291\n",
       "0.45     4.146108       -0.000000  0.441299 -0.095927  0.458144  0.998261\n",
       "0.50     5.952479       -0.000000  0.510175  0.021101  0.514172  0.998261\n",
       "0.75    26.901606        0.255297  1.265114  0.600378  0.782811  0.998261\n",
       "1.00  5230.220563        4.865639  3.352475  5.606208  0.999933  0.999933"
      ]
     },
     "execution_count": 366,
     "metadata": {},
     "output_type": "execute_result"
    }
   ],
   "source": [
    "resGene_tc.quantile([0,0.45,0.5,0.75,1])"
   ]
  },
  {
   "cell_type": "code",
   "execution_count": 367,
   "id": "0cdf9ed5",
   "metadata": {
    "collapsed": true
   },
   "outputs": [
    {
     "data": {
      "text/html": [
       "<div>\n",
       "<style scoped>\n",
       "    .dataframe tbody tr th:only-of-type {\n",
       "        vertical-align: middle;\n",
       "    }\n",
       "\n",
       "    .dataframe tbody tr th {\n",
       "        vertical-align: top;\n",
       "    }\n",
       "\n",
       "    .dataframe thead th {\n",
       "        text-align: right;\n",
       "    }\n",
       "</style>\n",
       "<table border=\"1\" class=\"dataframe\">\n",
       "  <thead>\n",
       "    <tr style=\"text-align: right;\">\n",
       "      <th></th>\n",
       "      <th>baseMean</th>\n",
       "      <th>log2FoldChange</th>\n",
       "      <th>lfcSE</th>\n",
       "      <th>stat</th>\n",
       "      <th>pvalue</th>\n",
       "      <th>padj</th>\n",
       "    </tr>\n",
       "  </thead>\n",
       "  <tbody>\n",
       "    <tr>\n",
       "      <th>0.00</th>\n",
       "      <td>0.000000</td>\n",
       "      <td>-4.140702</td>\n",
       "      <td>0.045744</td>\n",
       "      <td>-4.690267</td>\n",
       "      <td>0.000000</td>\n",
       "      <td>0.000009</td>\n",
       "    </tr>\n",
       "    <tr>\n",
       "      <th>0.45</th>\n",
       "      <td>134.985414</td>\n",
       "      <td>-0.019862</td>\n",
       "      <td>0.125419</td>\n",
       "      <td>-0.157183</td>\n",
       "      <td>0.378318</td>\n",
       "      <td>0.842179</td>\n",
       "    </tr>\n",
       "    <tr>\n",
       "      <th>0.50</th>\n",
       "      <td>197.308409</td>\n",
       "      <td>0.001420</td>\n",
       "      <td>0.139579</td>\n",
       "      <td>-0.011311</td>\n",
       "      <td>0.429195</td>\n",
       "      <td>0.859590</td>\n",
       "    </tr>\n",
       "    <tr>\n",
       "      <th>0.75</th>\n",
       "      <td>921.809789</td>\n",
       "      <td>0.149638</td>\n",
       "      <td>0.360773</td>\n",
       "      <td>0.793319</td>\n",
       "      <td>0.710434</td>\n",
       "      <td>0.947648</td>\n",
       "    </tr>\n",
       "    <tr>\n",
       "      <th>1.00</th>\n",
       "      <td>174226.835433</td>\n",
       "      <td>8.757288</td>\n",
       "      <td>3.352475</td>\n",
       "      <td>6.206168</td>\n",
       "      <td>0.999995</td>\n",
       "      <td>0.999995</td>\n",
       "    </tr>\n",
       "  </tbody>\n",
       "</table>\n",
       "</div>"
      ],
      "text/plain": [
       "           baseMean  log2FoldChange     lfcSE      stat    pvalue      padj\n",
       "0.00       0.000000       -4.140702  0.045744 -4.690267  0.000000  0.000009\n",
       "0.45     134.985414       -0.019862  0.125419 -0.157183  0.378318  0.842179\n",
       "0.50     197.308409        0.001420  0.139579 -0.011311  0.429195  0.859590\n",
       "0.75     921.809789        0.149638  0.360773  0.793319  0.710434  0.947648\n",
       "1.00  174226.835433        8.757288  3.352475  6.206168  0.999995  0.999995"
      ]
     },
     "execution_count": 367,
     "metadata": {},
     "output_type": "execute_result"
    }
   ],
   "source": [
    "resGene_read.quantile([0,0.45,0.5,0.75,1])"
   ]
  },
  {
   "cell_type": "code",
   "execution_count": 369,
   "id": "8014db4d",
   "metadata": {},
   "outputs": [
    {
     "data": {
      "text/html": [
       "<div>\n",
       "<style scoped>\n",
       "    .dataframe tbody tr th:only-of-type {\n",
       "        vertical-align: middle;\n",
       "    }\n",
       "\n",
       "    .dataframe tbody tr th {\n",
       "        vertical-align: top;\n",
       "    }\n",
       "\n",
       "    .dataframe thead th {\n",
       "        text-align: right;\n",
       "    }\n",
       "</style>\n",
       "<table border=\"1\" class=\"dataframe\">\n",
       "  <thead>\n",
       "    <tr style=\"text-align: right;\">\n",
       "      <th></th>\n",
       "      <th>baseMean</th>\n",
       "      <th>log2FoldChange</th>\n",
       "      <th>lfcSE</th>\n",
       "      <th>stat</th>\n",
       "      <th>pvalue</th>\n",
       "      <th>padj</th>\n",
       "      <th>genes</th>\n",
       "      <th>gene_id</th>\n",
       "      <th>type</th>\n",
       "    </tr>\n",
       "  </thead>\n",
       "  <tbody>\n",
       "    <tr>\n",
       "      <th>0</th>\n",
       "      <td>4.235282</td>\n",
       "      <td>-0.264273</td>\n",
       "      <td>0.364152</td>\n",
       "      <td>0.725722</td>\n",
       "      <td>0.468009</td>\n",
       "      <td>0.998261</td>\n",
       "      <td>NAT1</td>\n",
       "      <td>NAT1</td>\n",
       "      <td>other</td>\n",
       "    </tr>\n",
       "    <tr>\n",
       "      <th>2</th>\n",
       "      <td>4.711322</td>\n",
       "      <td>-0.026267</td>\n",
       "      <td>0.297531</td>\n",
       "      <td>0.088283</td>\n",
       "      <td>0.929651</td>\n",
       "      <td>0.998261</td>\n",
       "      <td>AARS1</td>\n",
       "      <td>AARS1</td>\n",
       "      <td>other</td>\n",
       "    </tr>\n",
       "    <tr>\n",
       "      <th>4</th>\n",
       "      <td>3.716404</td>\n",
       "      <td>-0.278311</td>\n",
       "      <td>0.424693</td>\n",
       "      <td>0.655324</td>\n",
       "      <td>0.512259</td>\n",
       "      <td>0.998261</td>\n",
       "      <td>ABCA1</td>\n",
       "      <td>ABCA1</td>\n",
       "      <td>other</td>\n",
       "    </tr>\n",
       "    <tr>\n",
       "      <th>8</th>\n",
       "      <td>4.979239</td>\n",
       "      <td>0.281982</td>\n",
       "      <td>0.256530</td>\n",
       "      <td>-1.099213</td>\n",
       "      <td>0.271675</td>\n",
       "      <td>0.998261</td>\n",
       "      <td>ABCF1</td>\n",
       "      <td>ABCF1</td>\n",
       "      <td>other</td>\n",
       "    </tr>\n",
       "    <tr>\n",
       "      <th>9</th>\n",
       "      <td>5.002607</td>\n",
       "      <td>-0.331806</td>\n",
       "      <td>0.273660</td>\n",
       "      <td>1.212474</td>\n",
       "      <td>0.225331</td>\n",
       "      <td>0.998261</td>\n",
       "      <td>ABL1</td>\n",
       "      <td>ABL1</td>\n",
       "      <td>other</td>\n",
       "    </tr>\n",
       "  </tbody>\n",
       "</table>\n",
       "</div>"
      ],
      "text/plain": [
       "   baseMean  log2FoldChange     lfcSE      stat    pvalue      padj  genes  \\\n",
       "0  4.235282       -0.264273  0.364152  0.725722  0.468009  0.998261   NAT1   \n",
       "2  4.711322       -0.026267  0.297531  0.088283  0.929651  0.998261  AARS1   \n",
       "4  3.716404       -0.278311  0.424693  0.655324  0.512259  0.998261  ABCA1   \n",
       "8  4.979239        0.281982  0.256530 -1.099213  0.271675  0.998261  ABCF1   \n",
       "9  5.002607       -0.331806  0.273660  1.212474  0.225331  0.998261   ABL1   \n",
       "\n",
       "  gene_id   type  \n",
       "0    NAT1  other  \n",
       "2   AARS1  other  \n",
       "4   ABCA1  other  \n",
       "8   ABCF1  other  \n",
       "9    ABL1  other  "
      ]
     },
     "execution_count": 369,
     "metadata": {},
     "output_type": "execute_result"
    }
   ],
   "source": [
    "# DESeq results\n",
    "# baseMean: normalized counts of all samples, normalizing for seqencing depth\n",
    "res = resGene_tc[resGene_tc.baseMean>10]\n",
    "res = res.assign(baseMean = np.log2(1+res[\"baseMean\"]))\n",
    "res[\"type\"] = ['crc' if i else \"other\" for i in  res.genes.isin(crcs)]\n",
    "res.head()"
   ]
  },
  {
   "cell_type": "code",
   "execution_count": 373,
   "id": "8da40680",
   "metadata": {},
   "outputs": [
    {
     "name": "stdout",
     "output_type": "stream",
     "text": [
      "Saved box and whisker plot to: ../results/slamseq_MYB_degraded_coculture_v1/plots/MYB_degraded_coculture_v1_MV411_0_5_whiskers_logfch.pdf\n"
     ]
    },
    {
     "data": {
      "image/png": "[encoded data removed]",
      "text/plain": [
       "<Figure size 432x288 with 1 Axes>"
      ]
     },
     "metadata": {
      "needs_background": "light"
     },
     "output_type": "display_data"
    }
   ],
   "source": [
    "fig_file = \"../results/slamseq_{0}/plots/{0}_{1}_whiskers_logfch.pdf\".format(\n",
    "    project, \"_\".join(filter(None, [var, scaling, str(minvar_toremove), str(mincount_toremove)])))\n",
    "\n",
    "ax = sns.boxplot(data=res,x=\"type\",y=\"log2FoldChange\").set_title(\"{}: {} at 12h foldChange\".format(project, var))\n",
    "ax.figure.savefig(fig_file, bbox_inches=\"tight\")\n",
    "print(\"Saved box and whisker plot to: {}\".format(fig_file))"
   ]
  },
  {
   "cell_type": "code",
   "execution_count": 374,
   "id": "1b311608",
   "metadata": {},
   "outputs": [
    {
     "name": "stdout",
     "output_type": "stream",
     "text": [
      "Saved box and whisker plot to: ../results/slamseq_MYB_degraded_coculture_v1/plots/MYB_degraded_coculture_v1_MV411_0_5_whiskers_baseMean.pdf\n"
     ]
    },
    {
     "data": {
      "image/png": "[encoded data removed]",
      "text/plain": [
       "<Figure size 432x288 with 1 Axes>"
      ]
     },
     "metadata": {
      "needs_background": "light"
     },
     "output_type": "display_data"
    }
   ],
   "source": [
    "fig_file = \"../results/slamseq_{0}/plots/{0}_{1}_whiskers_baseMean.pdf\".format(\n",
    "    project, \"_\".join(filter(None, [var, scaling, str(minvar_toremove), str(mincount_toremove)])))\n",
    "\n",
    "ax =sns.boxplot(data=res,x=\"type\",y=\"baseMean\").set_title(\"{}: {} at 12h foldChange\".format(project, var))\n",
    "ax.figure.savefig(fig_file, bbox_inches=\"tight\")\n",
    "print(\"Saved box and whisker plot to: {}\".format(fig_file))"
   ]
  },
  {
   "cell_type": "markdown",
   "id": "9310256f",
   "metadata": {},
   "source": [
    "#### ERCC normalized"
   ]
  },
  {
   "cell_type": "code",
   "execution_count": 375,
   "id": "4ce54731",
   "metadata": {},
   "outputs": [],
   "source": [
    "# MV411 coculture 12h\n",
    "version = \"v1\"\n",
    "var_name = \"experiment\"\n",
    "var = \"MV411\"\n",
    "var1 = \"DMSO\"\n",
    "var2 = \"VHL\"\n",
    "scaling=\"ERCCsamplewise\""
   ]
  },
  {
   "cell_type": "code",
   "execution_count": 376,
   "id": "fbacaf28",
   "metadata": {},
   "outputs": [
    {
     "data": {
      "text/plain": [
       "'MYB_degraded_coculture_v1_MV411_DMSO_VHL_ERCCsamplewise_0_5_deseq'"
      ]
     },
     "execution_count": 376,
     "metadata": {},
     "output_type": "execute_result"
    }
   ],
   "source": [
    "deseq_res_file_prefix = \"{}_{}_deseq\".format(project, \"_\".join(\n",
    "    filter(None, [var, var1, var2, scaling, str(minvar_toremove), str(mincount_toremove)])))\n",
    "deseq_res_file_prefix"
   ]
  },
  {
   "cell_type": "code",
   "execution_count": 377,
   "id": "6595fdb6",
   "metadata": {},
   "outputs": [],
   "source": [
    "# read in DESeq outputs\n",
    "resGene_tc = pd.read_csv(\"{}/{}_tccounts.csv\".format(res_dir, deseq_res_file_prefix), \n",
    "                           header=[0], index_col=None, squeeze=True)\n",
    "resGene_read = pd.read_csv(\"{}/{}_readcounts.csv\".format(res_dir, deseq_res_file_prefix), \n",
    "                             header=[0], index_col=None, squeeze=True)"
   ]
  },
  {
   "cell_type": "code",
   "execution_count": 378,
   "id": "6bad9bd6",
   "metadata": {},
   "outputs": [
    {
     "data": {
      "text/html": [
       "<div>\n",
       "<style scoped>\n",
       "    .dataframe tbody tr th:only-of-type {\n",
       "        vertical-align: middle;\n",
       "    }\n",
       "\n",
       "    .dataframe tbody tr th {\n",
       "        vertical-align: top;\n",
       "    }\n",
       "\n",
       "    .dataframe thead th {\n",
       "        text-align: right;\n",
       "    }\n",
       "</style>\n",
       "<table border=\"1\" class=\"dataframe\">\n",
       "  <thead>\n",
       "    <tr style=\"text-align: right;\">\n",
       "      <th></th>\n",
       "      <th>baseMean</th>\n",
       "      <th>log2FoldChange</th>\n",
       "      <th>lfcSE</th>\n",
       "      <th>stat</th>\n",
       "      <th>pvalue</th>\n",
       "      <th>padj</th>\n",
       "    </tr>\n",
       "  </thead>\n",
       "  <tbody>\n",
       "    <tr>\n",
       "      <th>0.00</th>\n",
       "      <td>0.000000</td>\n",
       "      <td>-3.658482</td>\n",
       "      <td>0.107840</td>\n",
       "      <td>-3.746088</td>\n",
       "      <td>0.000000</td>\n",
       "      <td>0.002324</td>\n",
       "    </tr>\n",
       "    <tr>\n",
       "      <th>0.45</th>\n",
       "      <td>4.155569</td>\n",
       "      <td>-0.000000</td>\n",
       "      <td>0.457367</td>\n",
       "      <td>-0.097113</td>\n",
       "      <td>0.482500</td>\n",
       "      <td>0.999981</td>\n",
       "    </tr>\n",
       "    <tr>\n",
       "      <th>0.50</th>\n",
       "      <td>5.986865</td>\n",
       "      <td>-0.000000</td>\n",
       "      <td>0.525268</td>\n",
       "      <td>0.018393</td>\n",
       "      <td>0.539099</td>\n",
       "      <td>0.999981</td>\n",
       "    </tr>\n",
       "    <tr>\n",
       "      <th>0.75</th>\n",
       "      <td>26.952016</td>\n",
       "      <td>0.256588</td>\n",
       "      <td>1.284578</td>\n",
       "      <td>0.556827</td>\n",
       "      <td>0.781289</td>\n",
       "      <td>0.999981</td>\n",
       "    </tr>\n",
       "    <tr>\n",
       "      <th>1.00</th>\n",
       "      <td>5245.616335</td>\n",
       "      <td>5.013429</td>\n",
       "      <td>3.352475</td>\n",
       "      <td>5.234874</td>\n",
       "      <td>0.999981</td>\n",
       "      <td>0.999981</td>\n",
       "    </tr>\n",
       "  </tbody>\n",
       "</table>\n",
       "</div>"
      ],
      "text/plain": [
       "         baseMean  log2FoldChange     lfcSE      stat    pvalue      padj\n",
       "0.00     0.000000       -3.658482  0.107840 -3.746088  0.000000  0.002324\n",
       "0.45     4.155569       -0.000000  0.457367 -0.097113  0.482500  0.999981\n",
       "0.50     5.986865       -0.000000  0.525268  0.018393  0.539099  0.999981\n",
       "0.75    26.952016        0.256588  1.284578  0.556827  0.781289  0.999981\n",
       "1.00  5245.616335        5.013429  3.352475  5.234874  0.999981  0.999981"
      ]
     },
     "execution_count": 378,
     "metadata": {},
     "output_type": "execute_result"
    }
   ],
   "source": [
    "resGene_tc.quantile([0,0.45,0.5,0.75,1])"
   ]
  },
  {
   "cell_type": "code",
   "execution_count": 379,
   "id": "980c7d9c",
   "metadata": {},
   "outputs": [
    {
     "data": {
      "text/html": [
       "<div>\n",
       "<style scoped>\n",
       "    .dataframe tbody tr th:only-of-type {\n",
       "        vertical-align: middle;\n",
       "    }\n",
       "\n",
       "    .dataframe tbody tr th {\n",
       "        vertical-align: top;\n",
       "    }\n",
       "\n",
       "    .dataframe thead th {\n",
       "        text-align: right;\n",
       "    }\n",
       "</style>\n",
       "<table border=\"1\" class=\"dataframe\">\n",
       "  <thead>\n",
       "    <tr style=\"text-align: right;\">\n",
       "      <th></th>\n",
       "      <th>baseMean</th>\n",
       "      <th>log2FoldChange</th>\n",
       "      <th>lfcSE</th>\n",
       "      <th>stat</th>\n",
       "      <th>pvalue</th>\n",
       "      <th>padj</th>\n",
       "    </tr>\n",
       "  </thead>\n",
       "  <tbody>\n",
       "    <tr>\n",
       "      <th>0.00</th>\n",
       "      <td>0.000000</td>\n",
       "      <td>-4.147321</td>\n",
       "      <td>0.093622</td>\n",
       "      <td>-4.504138</td>\n",
       "      <td>0.000000</td>\n",
       "      <td>0.008579</td>\n",
       "    </tr>\n",
       "    <tr>\n",
       "      <th>0.45</th>\n",
       "      <td>135.178786</td>\n",
       "      <td>-0.018687</td>\n",
       "      <td>0.165685</td>\n",
       "      <td>-0.130712</td>\n",
       "      <td>0.492344</td>\n",
       "      <td>0.999948</td>\n",
       "    </tr>\n",
       "    <tr>\n",
       "      <th>0.50</th>\n",
       "      <td>198.099655</td>\n",
       "      <td>0.002509</td>\n",
       "      <td>0.177853</td>\n",
       "      <td>-0.016155</td>\n",
       "      <td>0.537786</td>\n",
       "      <td>0.999948</td>\n",
       "    </tr>\n",
       "    <tr>\n",
       "      <th>0.75</th>\n",
       "      <td>924.046663</td>\n",
       "      <td>0.151564</td>\n",
       "      <td>0.386660</td>\n",
       "      <td>0.587616</td>\n",
       "      <td>0.771299</td>\n",
       "      <td>0.999948</td>\n",
       "    </tr>\n",
       "    <tr>\n",
       "      <th>1.00</th>\n",
       "      <td>174722.004540</td>\n",
       "      <td>8.923789</td>\n",
       "      <td>3.352475</td>\n",
       "      <td>5.011613</td>\n",
       "      <td>0.999984</td>\n",
       "      <td>0.999984</td>\n",
       "    </tr>\n",
       "  </tbody>\n",
       "</table>\n",
       "</div>"
      ],
      "text/plain": [
       "           baseMean  log2FoldChange     lfcSE      stat    pvalue      padj\n",
       "0.00       0.000000       -4.147321  0.093622 -4.504138  0.000000  0.008579\n",
       "0.45     135.178786       -0.018687  0.165685 -0.130712  0.492344  0.999948\n",
       "0.50     198.099655        0.002509  0.177853 -0.016155  0.537786  0.999948\n",
       "0.75     924.046663        0.151564  0.386660  0.587616  0.771299  0.999948\n",
       "1.00  174722.004540        8.923789  3.352475  5.011613  0.999984  0.999984"
      ]
     },
     "execution_count": 379,
     "metadata": {},
     "output_type": "execute_result"
    }
   ],
   "source": [
    "resGene_read.quantile([0,0.45,0.5,0.75,1])"
   ]
  },
  {
   "cell_type": "code",
   "execution_count": 380,
   "id": "1611a91c",
   "metadata": {},
   "outputs": [
    {
     "data": {
      "text/html": [
       "<div>\n",
       "<style scoped>\n",
       "    .dataframe tbody tr th:only-of-type {\n",
       "        vertical-align: middle;\n",
       "    }\n",
       "\n",
       "    .dataframe tbody tr th {\n",
       "        vertical-align: top;\n",
       "    }\n",
       "\n",
       "    .dataframe thead th {\n",
       "        text-align: right;\n",
       "    }\n",
       "</style>\n",
       "<table border=\"1\" class=\"dataframe\">\n",
       "  <thead>\n",
       "    <tr style=\"text-align: right;\">\n",
       "      <th></th>\n",
       "      <th>baseMean</th>\n",
       "      <th>log2FoldChange</th>\n",
       "      <th>lfcSE</th>\n",
       "      <th>stat</th>\n",
       "      <th>pvalue</th>\n",
       "      <th>padj</th>\n",
       "      <th>genes</th>\n",
       "      <th>gene_id</th>\n",
       "      <th>type</th>\n",
       "    </tr>\n",
       "  </thead>\n",
       "  <tbody>\n",
       "    <tr>\n",
       "      <th>0</th>\n",
       "      <td>4.248363</td>\n",
       "      <td>-0.254113</td>\n",
       "      <td>0.388118</td>\n",
       "      <td>0.654731</td>\n",
       "      <td>0.512641</td>\n",
       "      <td>0.999981</td>\n",
       "      <td>NAT1</td>\n",
       "      <td>NAT1</td>\n",
       "      <td>other</td>\n",
       "    </tr>\n",
       "    <tr>\n",
       "      <th>2</th>\n",
       "      <td>4.695967</td>\n",
       "      <td>-0.048395</td>\n",
       "      <td>0.302973</td>\n",
       "      <td>0.159735</td>\n",
       "      <td>0.873090</td>\n",
       "      <td>0.999981</td>\n",
       "      <td>AARS1</td>\n",
       "      <td>AARS1</td>\n",
       "      <td>other</td>\n",
       "    </tr>\n",
       "    <tr>\n",
       "      <th>4</th>\n",
       "      <td>3.715848</td>\n",
       "      <td>-0.285426</td>\n",
       "      <td>0.439031</td>\n",
       "      <td>0.650128</td>\n",
       "      <td>0.515610</td>\n",
       "      <td>0.999981</td>\n",
       "      <td>ABCA1</td>\n",
       "      <td>ABCA1</td>\n",
       "      <td>other</td>\n",
       "    </tr>\n",
       "    <tr>\n",
       "      <th>8</th>\n",
       "      <td>4.982447</td>\n",
       "      <td>0.281032</td>\n",
       "      <td>0.276810</td>\n",
       "      <td>-1.015252</td>\n",
       "      <td>0.309986</td>\n",
       "      <td>0.999981</td>\n",
       "      <td>ABCF1</td>\n",
       "      <td>ABCF1</td>\n",
       "      <td>other</td>\n",
       "    </tr>\n",
       "    <tr>\n",
       "      <th>9</th>\n",
       "      <td>5.013677</td>\n",
       "      <td>-0.318871</td>\n",
       "      <td>0.302358</td>\n",
       "      <td>1.054614</td>\n",
       "      <td>0.291602</td>\n",
       "      <td>0.999981</td>\n",
       "      <td>ABL1</td>\n",
       "      <td>ABL1</td>\n",
       "      <td>other</td>\n",
       "    </tr>\n",
       "  </tbody>\n",
       "</table>\n",
       "</div>"
      ],
      "text/plain": [
       "   baseMean  log2FoldChange     lfcSE      stat    pvalue      padj  genes  \\\n",
       "0  4.248363       -0.254113  0.388118  0.654731  0.512641  0.999981   NAT1   \n",
       "2  4.695967       -0.048395  0.302973  0.159735  0.873090  0.999981  AARS1   \n",
       "4  3.715848       -0.285426  0.439031  0.650128  0.515610  0.999981  ABCA1   \n",
       "8  4.982447        0.281032  0.276810 -1.015252  0.309986  0.999981  ABCF1   \n",
       "9  5.013677       -0.318871  0.302358  1.054614  0.291602  0.999981   ABL1   \n",
       "\n",
       "  gene_id   type  \n",
       "0    NAT1  other  \n",
       "2   AARS1  other  \n",
       "4   ABCA1  other  \n",
       "8   ABCF1  other  \n",
       "9    ABL1  other  "
      ]
     },
     "execution_count": 380,
     "metadata": {},
     "output_type": "execute_result"
    }
   ],
   "source": [
    "# DESeq results\n",
    "# baseMean: normalized counts of all samples, normalizing for seqencing depth\n",
    "res = resGene_tc[resGene_tc.baseMean>10]\n",
    "res = res.assign(baseMean = np.log2(1+res[\"baseMean\"]))\n",
    "res[\"type\"] = ['crc' if i else \"other\" for i in  res.genes.isin(crcs)]\n",
    "res.head()"
   ]
  },
  {
   "cell_type": "code",
   "execution_count": 386,
   "id": "efdc824e",
   "metadata": {},
   "outputs": [
    {
     "name": "stdout",
     "output_type": "stream",
     "text": [
      "Saved box and whisker plot to: ../results/slamseq_MYB_degraded_coculture_v1/plots/MYB_degraded_coculture_v1_MV411_ERCCsamplewise_0_5_whiskers_logfch.pdf\n"
     ]
    },
    {
     "data": {
      "image/png": "[encoded data removed]",
      "text/plain": [
       "<Figure size 432x288 with 1 Axes>"
      ]
     },
     "metadata": {
      "needs_background": "light"
     },
     "output_type": "display_data"
    }
   ],
   "source": [
    "fig_file = \"../results/slamseq_{0}/plots/{0}_{1}_whiskers_logfch.pdf\".format(\n",
    "    project, \"_\".join(filter(None, [var, scaling, str(minvar_toremove), str(mincount_toremove)])))\n",
    "\n",
    "ax = sns.boxplot(data=res,x=\"type\",y=\"log2FoldChange\").set_title(\n",
    "    \"{}: {} at 12h foldChange\\n{}\".format(project, var, \"\".join(filter(None, [scaling]))))\n",
    "ax.figure.savefig(fig_file, bbox_inches=\"tight\")\n",
    "print(\"Saved box and whisker plot to: {}\".format(fig_file))"
   ]
  },
  {
   "cell_type": "code",
   "execution_count": 388,
   "id": "fa21c6c2",
   "metadata": {
    "scrolled": true
   },
   "outputs": [
    {
     "name": "stdout",
     "output_type": "stream",
     "text": [
      "Saved box and whisker plot to: ../results/slamseq_MYB_degraded_coculture_v1/plots/MYB_degraded_coculture_v1_MV411_ERCCsamplewise_0_5_whiskers_baseMean.pdf\n"
     ]
    },
    {
     "data": {
      "image/png": "[encoded data removed]",
      "text/plain": [
       "<Figure size 432x288 with 1 Axes>"
      ]
     },
     "metadata": {
      "needs_background": "light"
     },
     "output_type": "display_data"
    }
   ],
   "source": [
    "fig_file = \"../results/slamseq_{0}/plots/{0}_{1}_whiskers_baseMean.pdf\".format(\n",
    "    project, \"_\".join(filter(None, [var, scaling, str(minvar_toremove), str(mincount_toremove)])))\n",
    "\n",
    "ax =sns.boxplot(data=res,x=\"type\",y=\"baseMean\").set_title(\n",
    "    \"{}: {} at 12h foldChange\\n{}\".format(project, var, \"\".join(filter(None, [scaling]))))\n",
    "ax.figure.savefig(fig_file, bbox_inches=\"tight\")\n",
    "print(\"Saved box and whisker plot to: {}\".format(fig_file))"
   ]
  },
  {
   "cell_type": "markdown",
   "id": "98abea6b",
   "metadata": {},
   "source": [
    "### MV411-MYB-dTAG coculture 12h"
   ]
  },
  {
   "cell_type": "markdown",
   "id": "5b9002e6",
   "metadata": {},
   "source": [
    "#### Unscaled"
   ]
  },
  {
   "cell_type": "code",
   "execution_count": 389,
   "id": "4f56e1ef",
   "metadata": {},
   "outputs": [],
   "source": [
    "# MV411-MYB-dTAG coculture 12h\n",
    "version = \"v1\"\n",
    "var_name = \"experiment\"\n",
    "var = \"MV411-MYB-dTAG\"\n",
    "var1 = \"DMSO\"\n",
    "var2 = \"VHL\"\n",
    "scaling=None"
   ]
  },
  {
   "cell_type": "code",
   "execution_count": 390,
   "id": "797617d4",
   "metadata": {},
   "outputs": [
    {
     "data": {
      "text/plain": [
       "'MYB_degraded_coculture_v1_MV411-MYB-dTAG_DMSO_VHL_0_5_deseq'"
      ]
     },
     "execution_count": 390,
     "metadata": {},
     "output_type": "execute_result"
    }
   ],
   "source": [
    "deseq_res_file_prefix = \"{}_{}_deseq\".format(project, \"_\".join(\n",
    "    filter(None, [var, var1, var2, scaling, str(minvar_toremove), str(mincount_toremove)])))\n",
    "deseq_res_file_prefix"
   ]
  },
  {
   "cell_type": "code",
   "execution_count": 391,
   "id": "c3ead4d9",
   "metadata": {},
   "outputs": [],
   "source": [
    "# read in DESeq outputs\n",
    "resGene_tc = pd.read_csv(\"{}/{}_tccounts.csv\".format(res_dir, deseq_res_file_prefix), \n",
    "                           header=[0], index_col=None, squeeze=True)\n",
    "resGene_read = pd.read_csv(\"{}/{}_readcounts.csv\".format(res_dir, deseq_res_file_prefix), \n",
    "                             header=[0], index_col=None, squeeze=True)"
   ]
  },
  {
   "cell_type": "code",
   "execution_count": 392,
   "id": "2ef3af3e",
   "metadata": {},
   "outputs": [
    {
     "data": {
      "text/html": [
       "<div>\n",
       "<style scoped>\n",
       "    .dataframe tbody tr th:only-of-type {\n",
       "        vertical-align: middle;\n",
       "    }\n",
       "\n",
       "    .dataframe tbody tr th {\n",
       "        vertical-align: top;\n",
       "    }\n",
       "\n",
       "    .dataframe thead th {\n",
       "        text-align: right;\n",
       "    }\n",
       "</style>\n",
       "<table border=\"1\" class=\"dataframe\">\n",
       "  <thead>\n",
       "    <tr style=\"text-align: right;\">\n",
       "      <th></th>\n",
       "      <th>baseMean</th>\n",
       "      <th>log2FoldChange</th>\n",
       "      <th>lfcSE</th>\n",
       "      <th>stat</th>\n",
       "      <th>pvalue</th>\n",
       "      <th>padj</th>\n",
       "    </tr>\n",
       "  </thead>\n",
       "  <tbody>\n",
       "    <tr>\n",
       "      <th>0.00</th>\n",
       "      <td>0.000000</td>\n",
       "      <td>-6.093536</td>\n",
       "      <td>0.089636</td>\n",
       "      <td>-16.175168</td>\n",
       "      <td>0.000000</td>\n",
       "      <td>7.788422e-55</td>\n",
       "    </tr>\n",
       "    <tr>\n",
       "      <th>0.45</th>\n",
       "      <td>4.705055</td>\n",
       "      <td>-0.000000</td>\n",
       "      <td>0.437006</td>\n",
       "      <td>-0.109947</td>\n",
       "      <td>0.350176</td>\n",
       "      <td>7.652943e-01</td>\n",
       "    </tr>\n",
       "    <tr>\n",
       "      <th>0.50</th>\n",
       "      <td>6.750275</td>\n",
       "      <td>-0.000000</td>\n",
       "      <td>0.497189</td>\n",
       "      <td>0.021713</td>\n",
       "      <td>0.418141</td>\n",
       "      <td>8.076913e-01</td>\n",
       "    </tr>\n",
       "    <tr>\n",
       "      <th>0.75</th>\n",
       "      <td>30.656996</td>\n",
       "      <td>0.346780</td>\n",
       "      <td>1.227026</td>\n",
       "      <td>0.724193</td>\n",
       "      <td>0.746073</td>\n",
       "      <td>9.351082e-01</td>\n",
       "    </tr>\n",
       "    <tr>\n",
       "      <th>1.00</th>\n",
       "      <td>5522.372358</td>\n",
       "      <td>5.716403</td>\n",
       "      <td>3.352475</td>\n",
       "      <td>11.662649</td>\n",
       "      <td>0.999781</td>\n",
       "      <td>9.997811e-01</td>\n",
       "    </tr>\n",
       "  </tbody>\n",
       "</table>\n",
       "</div>"
      ],
      "text/plain": [
       "         baseMean  log2FoldChange     lfcSE       stat    pvalue          padj\n",
       "0.00     0.000000       -6.093536  0.089636 -16.175168  0.000000  7.788422e-55\n",
       "0.45     4.705055       -0.000000  0.437006  -0.109947  0.350176  7.652943e-01\n",
       "0.50     6.750275       -0.000000  0.497189   0.021713  0.418141  8.076913e-01\n",
       "0.75    30.656996        0.346780  1.227026   0.724193  0.746073  9.351082e-01\n",
       "1.00  5522.372358        5.716403  3.352475  11.662649  0.999781  9.997811e-01"
      ]
     },
     "execution_count": 392,
     "metadata": {},
     "output_type": "execute_result"
    }
   ],
   "source": [
    "resGene_tc.quantile([0,0.45,0.5,0.75,1])"
   ]
  },
  {
   "cell_type": "code",
   "execution_count": 393,
   "id": "6744d610",
   "metadata": {},
   "outputs": [
    {
     "data": {
      "text/html": [
       "<div>\n",
       "<style scoped>\n",
       "    .dataframe tbody tr th:only-of-type {\n",
       "        vertical-align: middle;\n",
       "    }\n",
       "\n",
       "    .dataframe tbody tr th {\n",
       "        vertical-align: top;\n",
       "    }\n",
       "\n",
       "    .dataframe thead th {\n",
       "        text-align: right;\n",
       "    }\n",
       "</style>\n",
       "<table border=\"1\" class=\"dataframe\">\n",
       "  <thead>\n",
       "    <tr style=\"text-align: right;\">\n",
       "      <th></th>\n",
       "      <th>baseMean</th>\n",
       "      <th>log2FoldChange</th>\n",
       "      <th>lfcSE</th>\n",
       "      <th>stat</th>\n",
       "      <th>pvalue</th>\n",
       "      <th>padj</th>\n",
       "    </tr>\n",
       "  </thead>\n",
       "  <tbody>\n",
       "    <tr>\n",
       "      <th>0.00</th>\n",
       "      <td>0.000000</td>\n",
       "      <td>-6.927525</td>\n",
       "      <td>0.058246</td>\n",
       "      <td>-27.405168</td>\n",
       "      <td>0.000000</td>\n",
       "      <td>1.744260e-235</td>\n",
       "    </tr>\n",
       "    <tr>\n",
       "      <th>0.45</th>\n",
       "      <td>134.466994</td>\n",
       "      <td>-0.014172</td>\n",
       "      <td>0.184516</td>\n",
       "      <td>-0.297612</td>\n",
       "      <td>0.242183</td>\n",
       "      <td>5.251292e-01</td>\n",
       "    </tr>\n",
       "    <tr>\n",
       "      <th>0.50</th>\n",
       "      <td>200.357667</td>\n",
       "      <td>0.024898</td>\n",
       "      <td>0.198064</td>\n",
       "      <td>-0.116234</td>\n",
       "      <td>0.300136</td>\n",
       "      <td>5.917710e-01</td>\n",
       "    </tr>\n",
       "    <tr>\n",
       "      <th>0.75</th>\n",
       "      <td>893.669955</td>\n",
       "      <td>0.317032</td>\n",
       "      <td>0.392192</td>\n",
       "      <td>0.931918</td>\n",
       "      <td>0.640370</td>\n",
       "      <td>8.460849e-01</td>\n",
       "    </tr>\n",
       "    <tr>\n",
       "      <th>1.00</th>\n",
       "      <td>161056.635406</td>\n",
       "      <td>6.255090</td>\n",
       "      <td>3.352475</td>\n",
       "      <td>33.059973</td>\n",
       "      <td>0.999970</td>\n",
       "      <td>9.999696e-01</td>\n",
       "    </tr>\n",
       "  </tbody>\n",
       "</table>\n",
       "</div>"
      ],
      "text/plain": [
       "           baseMean  log2FoldChange     lfcSE       stat    pvalue  \\\n",
       "0.00       0.000000       -6.927525  0.058246 -27.405168  0.000000   \n",
       "0.45     134.466994       -0.014172  0.184516  -0.297612  0.242183   \n",
       "0.50     200.357667        0.024898  0.198064  -0.116234  0.300136   \n",
       "0.75     893.669955        0.317032  0.392192   0.931918  0.640370   \n",
       "1.00  161056.635406        6.255090  3.352475  33.059973  0.999970   \n",
       "\n",
       "               padj  \n",
       "0.00  1.744260e-235  \n",
       "0.45   5.251292e-01  \n",
       "0.50   5.917710e-01  \n",
       "0.75   8.460849e-01  \n",
       "1.00   9.999696e-01  "
      ]
     },
     "execution_count": 393,
     "metadata": {},
     "output_type": "execute_result"
    }
   ],
   "source": [
    "resGene_read.quantile([0,0.45,0.5,0.75,1])"
   ]
  },
  {
   "cell_type": "code",
   "execution_count": 394,
   "id": "f60a0308",
   "metadata": {},
   "outputs": [
    {
     "data": {
      "text/html": [
       "<div>\n",
       "<style scoped>\n",
       "    .dataframe tbody tr th:only-of-type {\n",
       "        vertical-align: middle;\n",
       "    }\n",
       "\n",
       "    .dataframe tbody tr th {\n",
       "        vertical-align: top;\n",
       "    }\n",
       "\n",
       "    .dataframe thead th {\n",
       "        text-align: right;\n",
       "    }\n",
       "</style>\n",
       "<table border=\"1\" class=\"dataframe\">\n",
       "  <thead>\n",
       "    <tr style=\"text-align: right;\">\n",
       "      <th></th>\n",
       "      <th>baseMean</th>\n",
       "      <th>log2FoldChange</th>\n",
       "      <th>lfcSE</th>\n",
       "      <th>stat</th>\n",
       "      <th>pvalue</th>\n",
       "      <th>padj</th>\n",
       "      <th>genes</th>\n",
       "      <th>gene_id</th>\n",
       "      <th>type</th>\n",
       "    </tr>\n",
       "  </thead>\n",
       "  <tbody>\n",
       "    <tr>\n",
       "      <th>0</th>\n",
       "      <td>4.615468</td>\n",
       "      <td>0.136907</td>\n",
       "      <td>0.294880</td>\n",
       "      <td>-0.464283</td>\n",
       "      <td>0.642445</td>\n",
       "      <td>0.918784</td>\n",
       "      <td>NAT1</td>\n",
       "      <td>NAT1</td>\n",
       "      <td>other</td>\n",
       "    </tr>\n",
       "    <tr>\n",
       "      <th>2</th>\n",
       "      <td>4.555109</td>\n",
       "      <td>-0.034976</td>\n",
       "      <td>0.342941</td>\n",
       "      <td>0.101987</td>\n",
       "      <td>0.918767</td>\n",
       "      <td>0.984925</td>\n",
       "      <td>AARS1</td>\n",
       "      <td>AARS1</td>\n",
       "      <td>other</td>\n",
       "    </tr>\n",
       "    <tr>\n",
       "      <th>8</th>\n",
       "      <td>5.170085</td>\n",
       "      <td>0.301385</td>\n",
       "      <td>0.308459</td>\n",
       "      <td>-0.977066</td>\n",
       "      <td>0.328536</td>\n",
       "      <td>0.754550</td>\n",
       "      <td>ABCF1</td>\n",
       "      <td>ABCF1</td>\n",
       "      <td>other</td>\n",
       "    </tr>\n",
       "    <tr>\n",
       "      <th>9</th>\n",
       "      <td>5.183890</td>\n",
       "      <td>-0.512978</td>\n",
       "      <td>0.294060</td>\n",
       "      <td>1.744468</td>\n",
       "      <td>0.081077</td>\n",
       "      <td>0.440924</td>\n",
       "      <td>ABL1</td>\n",
       "      <td>ABL1</td>\n",
       "      <td>other</td>\n",
       "    </tr>\n",
       "    <tr>\n",
       "      <th>10</th>\n",
       "      <td>6.014401</td>\n",
       "      <td>0.446245</td>\n",
       "      <td>0.205016</td>\n",
       "      <td>-2.176634</td>\n",
       "      <td>0.029508</td>\n",
       "      <td>0.266112</td>\n",
       "      <td>ABL2</td>\n",
       "      <td>ABL2</td>\n",
       "      <td>other</td>\n",
       "    </tr>\n",
       "  </tbody>\n",
       "</table>\n",
       "</div>"
      ],
      "text/plain": [
       "    baseMean  log2FoldChange     lfcSE      stat    pvalue      padj  genes  \\\n",
       "0   4.615468        0.136907  0.294880 -0.464283  0.642445  0.918784   NAT1   \n",
       "2   4.555109       -0.034976  0.342941  0.101987  0.918767  0.984925  AARS1   \n",
       "8   5.170085        0.301385  0.308459 -0.977066  0.328536  0.754550  ABCF1   \n",
       "9   5.183890       -0.512978  0.294060  1.744468  0.081077  0.440924   ABL1   \n",
       "10  6.014401        0.446245  0.205016 -2.176634  0.029508  0.266112   ABL2   \n",
       "\n",
       "   gene_id   type  \n",
       "0     NAT1  other  \n",
       "2    AARS1  other  \n",
       "8    ABCF1  other  \n",
       "9     ABL1  other  \n",
       "10    ABL2  other  "
      ]
     },
     "execution_count": 394,
     "metadata": {},
     "output_type": "execute_result"
    }
   ],
   "source": [
    "# DESeq results\n",
    "# baseMean: normalized counts of all samples, normalizing for seqencing depth\n",
    "res = resGene_tc[resGene_tc.baseMean>10]\n",
    "res = res.assign(baseMean = np.log2(1+res[\"baseMean\"]))\n",
    "res[\"type\"] = ['crc' if i else \"other\" for i in  res.genes.isin(crcs)]\n",
    "res.head()"
   ]
  },
  {
   "cell_type": "code",
   "execution_count": 395,
   "id": "968f6834",
   "metadata": {},
   "outputs": [
    {
     "name": "stdout",
     "output_type": "stream",
     "text": [
      "Saved box and whisker plot to: ../results/slamseq_MYB_degraded_coculture_v1/plots/MYB_degraded_coculture_v1_MV411-MYB-dTAG_0_5_whiskers_logfch.pdf\n"
     ]
    },
    {
     "data": {
      "image/png": "[encoded data removed]",
      "text/plain": [
       "<Figure size 432x288 with 1 Axes>"
      ]
     },
     "metadata": {
      "needs_background": "light"
     },
     "output_type": "display_data"
    }
   ],
   "source": [
    "fig_file = \"../results/slamseq_{0}/plots/{0}_{1}_whiskers_logfch.pdf\".format(\n",
    "    project, \"_\".join(filter(None, [var, scaling, str(minvar_toremove), str(mincount_toremove)])))\n",
    "\n",
    "ax = sns.boxplot(data=res,x=\"type\",y=\"log2FoldChange\").set_title(\n",
    "    \"{}: {} at 12h foldChange\\n{}\".format(project, var, \"\".join(filter(None, [scaling]))))\n",
    "ax.figure.savefig(fig_file, bbox_inches=\"tight\")\n",
    "print(\"Saved box and whisker plot to: {}\".format(fig_file))"
   ]
  },
  {
   "cell_type": "code",
   "execution_count": 396,
   "id": "f2d7ddcf",
   "metadata": {},
   "outputs": [
    {
     "name": "stdout",
     "output_type": "stream",
     "text": [
      "Saved box and whisker plot to: ../results/slamseq_MYB_degraded_coculture_v1/plots/MYB_degraded_coculture_v1_MV411-MYB-dTAG_0_5_whiskers_baseMean.pdf\n"
     ]
    },
    {
     "data": {
      "image/png": "[encoded data removed]",
      "text/plain": [
       "<Figure size 432x288 with 1 Axes>"
      ]
     },
     "metadata": {
      "needs_background": "light"
     },
     "output_type": "display_data"
    }
   ],
   "source": [
    "fig_file = \"../results/slamseq_{0}/plots/{0}_{1}_whiskers_baseMean.pdf\".format(\n",
    "    project, \"_\".join(filter(None, [var, scaling, str(minvar_toremove), str(mincount_toremove)])))\n",
    "\n",
    "ax =sns.boxplot(data=res,x=\"type\",y=\"baseMean\").set_title(\n",
    "    \"{}: {} at 12h foldChange\\n{}\".format(project, var, \"\".join(filter(None, [scaling]))))\n",
    "ax.figure.savefig(fig_file, bbox_inches=\"tight\")\n",
    "print(\"Saved box and whisker plot to: {}\".format(fig_file))"
   ]
  },
  {
   "cell_type": "markdown",
   "id": "d400aeca",
   "metadata": {},
   "source": [
    "#### ERCC normalized"
   ]
  },
  {
   "cell_type": "code",
   "execution_count": 397,
   "id": "1df81a43",
   "metadata": {},
   "outputs": [],
   "source": [
    "# MV411 coculture 12h\n",
    "version = \"v1\"\n",
    "var_name = \"experiment\"\n",
    "var = \"MV411-MYB-dTAG\"\n",
    "var1 = \"DMSO\"\n",
    "var2 = \"VHL\"\n",
    "scaling=\"ERCCsamplewise\""
   ]
  },
  {
   "cell_type": "code",
   "execution_count": 398,
   "id": "0c9af95a",
   "metadata": {},
   "outputs": [
    {
     "data": {
      "text/plain": [
       "'MYB_degraded_coculture_v1_MV411-MYB-dTAG_DMSO_VHL_ERCCsamplewise_0_5_deseq'"
      ]
     },
     "execution_count": 398,
     "metadata": {},
     "output_type": "execute_result"
    }
   ],
   "source": [
    "deseq_res_file_prefix = \"{}_{}_deseq\".format(project, \"_\".join(\n",
    "    filter(None, [var, var1, var2, scaling, str(minvar_toremove), str(mincount_toremove)])))\n",
    "deseq_res_file_prefix"
   ]
  },
  {
   "cell_type": "code",
   "execution_count": 399,
   "id": "7838e61a",
   "metadata": {},
   "outputs": [],
   "source": [
    "# read in DESeq outputs\n",
    "resGene_tc = pd.read_csv(\"{}/{}_tccounts.csv\".format(res_dir, deseq_res_file_prefix), \n",
    "                           header=[0], index_col=None, squeeze=True)\n",
    "resGene_read = pd.read_csv(\"{}/{}_readcounts.csv\".format(res_dir, deseq_res_file_prefix), \n",
    "                             header=[0], index_col=None, squeeze=True)"
   ]
  },
  {
   "cell_type": "code",
   "execution_count": 400,
   "id": "9e93f445",
   "metadata": {},
   "outputs": [
    {
     "data": {
      "text/html": [
       "<div>\n",
       "<style scoped>\n",
       "    .dataframe tbody tr th:only-of-type {\n",
       "        vertical-align: middle;\n",
       "    }\n",
       "\n",
       "    .dataframe tbody tr th {\n",
       "        vertical-align: top;\n",
       "    }\n",
       "\n",
       "    .dataframe thead th {\n",
       "        text-align: right;\n",
       "    }\n",
       "</style>\n",
       "<table border=\"1\" class=\"dataframe\">\n",
       "  <thead>\n",
       "    <tr style=\"text-align: right;\">\n",
       "      <th></th>\n",
       "      <th>baseMean</th>\n",
       "      <th>log2FoldChange</th>\n",
       "      <th>lfcSE</th>\n",
       "      <th>stat</th>\n",
       "      <th>pvalue</th>\n",
       "      <th>padj</th>\n",
       "    </tr>\n",
       "  </thead>\n",
       "  <tbody>\n",
       "    <tr>\n",
       "      <th>0.00</th>\n",
       "      <td>0.000000</td>\n",
       "      <td>-6.344375</td>\n",
       "      <td>0.140359</td>\n",
       "      <td>-12.923865</td>\n",
       "      <td>0.000000</td>\n",
       "      <td>2.867185e-34</td>\n",
       "    </tr>\n",
       "    <tr>\n",
       "      <th>0.45</th>\n",
       "      <td>4.338560</td>\n",
       "      <td>-0.220393</td>\n",
       "      <td>0.465350</td>\n",
       "      <td>0.297420</td>\n",
       "      <td>0.324657</td>\n",
       "      <td>6.294117e-01</td>\n",
       "    </tr>\n",
       "    <tr>\n",
       "      <th>0.50</th>\n",
       "      <td>6.233754</td>\n",
       "      <td>-0.141782</td>\n",
       "      <td>0.525477</td>\n",
       "      <td>0.391275</td>\n",
       "      <td>0.388521</td>\n",
       "      <td>6.726570e-01</td>\n",
       "    </tr>\n",
       "    <tr>\n",
       "      <th>0.75</th>\n",
       "      <td>28.244047</td>\n",
       "      <td>0.127190</td>\n",
       "      <td>1.263411</td>\n",
       "      <td>1.167873</td>\n",
       "      <td>0.724765</td>\n",
       "      <td>8.590730e-01</td>\n",
       "    </tr>\n",
       "    <tr>\n",
       "      <th>1.00</th>\n",
       "      <td>4990.195295</td>\n",
       "      <td>5.529439</td>\n",
       "      <td>3.352475</td>\n",
       "      <td>11.802923</td>\n",
       "      <td>0.999949</td>\n",
       "      <td>9.999486e-01</td>\n",
       "    </tr>\n",
       "  </tbody>\n",
       "</table>\n",
       "</div>"
      ],
      "text/plain": [
       "         baseMean  log2FoldChange     lfcSE       stat    pvalue          padj\n",
       "0.00     0.000000       -6.344375  0.140359 -12.923865  0.000000  2.867185e-34\n",
       "0.45     4.338560       -0.220393  0.465350   0.297420  0.324657  6.294117e-01\n",
       "0.50     6.233754       -0.141782  0.525477   0.391275  0.388521  6.726570e-01\n",
       "0.75    28.244047        0.127190  1.263411   1.167873  0.724765  8.590730e-01\n",
       "1.00  4990.195295        5.529439  3.352475  11.802923  0.999949  9.999486e-01"
      ]
     },
     "execution_count": 400,
     "metadata": {},
     "output_type": "execute_result"
    }
   ],
   "source": [
    "resGene_tc.quantile([0,0.45,0.5,0.75,1])"
   ]
  },
  {
   "cell_type": "code",
   "execution_count": 401,
   "id": "6fc70108",
   "metadata": {},
   "outputs": [
    {
     "data": {
      "text/html": [
       "<div>\n",
       "<style scoped>\n",
       "    .dataframe tbody tr th:only-of-type {\n",
       "        vertical-align: middle;\n",
       "    }\n",
       "\n",
       "    .dataframe tbody tr th {\n",
       "        vertical-align: top;\n",
       "    }\n",
       "\n",
       "    .dataframe thead th {\n",
       "        text-align: right;\n",
       "    }\n",
       "</style>\n",
       "<table border=\"1\" class=\"dataframe\">\n",
       "  <thead>\n",
       "    <tr style=\"text-align: right;\">\n",
       "      <th></th>\n",
       "      <th>baseMean</th>\n",
       "      <th>log2FoldChange</th>\n",
       "      <th>lfcSE</th>\n",
       "      <th>stat</th>\n",
       "      <th>pvalue</th>\n",
       "      <th>padj</th>\n",
       "    </tr>\n",
       "  </thead>\n",
       "  <tbody>\n",
       "    <tr>\n",
       "      <th>0.00</th>\n",
       "      <td>0.000000</td>\n",
       "      <td>-7.172893</td>\n",
       "      <td>0.093880</td>\n",
       "      <td>-20.638872</td>\n",
       "      <td>0.000000</td>\n",
       "      <td>3.354201e-146</td>\n",
       "    </tr>\n",
       "    <tr>\n",
       "      <th>0.45</th>\n",
       "      <td>124.505715</td>\n",
       "      <td>-0.231016</td>\n",
       "      <td>0.238848</td>\n",
       "      <td>0.551670</td>\n",
       "      <td>0.202700</td>\n",
       "      <td>4.281469e-01</td>\n",
       "    </tr>\n",
       "    <tr>\n",
       "      <th>0.50</th>\n",
       "      <td>184.590242</td>\n",
       "      <td>-0.192501</td>\n",
       "      <td>0.253573</td>\n",
       "      <td>0.718903</td>\n",
       "      <td>0.255561</td>\n",
       "      <td>4.843524e-01</td>\n",
       "    </tr>\n",
       "    <tr>\n",
       "      <th>0.75</th>\n",
       "      <td>829.584857</td>\n",
       "      <td>0.100027</td>\n",
       "      <td>0.429537</td>\n",
       "      <td>1.681996</td>\n",
       "      <td>0.585598</td>\n",
       "      <td>7.659392e-01</td>\n",
       "    </tr>\n",
       "    <tr>\n",
       "      <th>1.00</th>\n",
       "      <td>146403.679292</td>\n",
       "      <td>6.018034</td>\n",
       "      <td>3.352475</td>\n",
       "      <td>26.119422</td>\n",
       "      <td>0.999917</td>\n",
       "      <td>9.999172e-01</td>\n",
       "    </tr>\n",
       "  </tbody>\n",
       "</table>\n",
       "</div>"
      ],
      "text/plain": [
       "           baseMean  log2FoldChange     lfcSE       stat    pvalue  \\\n",
       "0.00       0.000000       -7.172893  0.093880 -20.638872  0.000000   \n",
       "0.45     124.505715       -0.231016  0.238848   0.551670  0.202700   \n",
       "0.50     184.590242       -0.192501  0.253573   0.718903  0.255561   \n",
       "0.75     829.584857        0.100027  0.429537   1.681996  0.585598   \n",
       "1.00  146403.679292        6.018034  3.352475  26.119422  0.999917   \n",
       "\n",
       "               padj  \n",
       "0.00  3.354201e-146  \n",
       "0.45   4.281469e-01  \n",
       "0.50   4.843524e-01  \n",
       "0.75   7.659392e-01  \n",
       "1.00   9.999172e-01  "
      ]
     },
     "execution_count": 401,
     "metadata": {},
     "output_type": "execute_result"
    }
   ],
   "source": [
    "resGene_read.quantile([0,0.45,0.5,0.75,1])"
   ]
  },
  {
   "cell_type": "code",
   "execution_count": 402,
   "id": "1c845666",
   "metadata": {},
   "outputs": [
    {
     "data": {
      "text/html": [
       "<div>\n",
       "<style scoped>\n",
       "    .dataframe tbody tr th:only-of-type {\n",
       "        vertical-align: middle;\n",
       "    }\n",
       "\n",
       "    .dataframe tbody tr th {\n",
       "        vertical-align: top;\n",
       "    }\n",
       "\n",
       "    .dataframe thead th {\n",
       "        text-align: right;\n",
       "    }\n",
       "</style>\n",
       "<table border=\"1\" class=\"dataframe\">\n",
       "  <thead>\n",
       "    <tr style=\"text-align: right;\">\n",
       "      <th></th>\n",
       "      <th>baseMean</th>\n",
       "      <th>log2FoldChange</th>\n",
       "      <th>lfcSE</th>\n",
       "      <th>stat</th>\n",
       "      <th>pvalue</th>\n",
       "      <th>padj</th>\n",
       "      <th>genes</th>\n",
       "      <th>gene_id</th>\n",
       "      <th>type</th>\n",
       "    </tr>\n",
       "  </thead>\n",
       "  <tbody>\n",
       "    <tr>\n",
       "      <th>0</th>\n",
       "      <td>4.480184</td>\n",
       "      <td>-0.115703</td>\n",
       "      <td>0.316543</td>\n",
       "      <td>0.365521</td>\n",
       "      <td>0.714723</td>\n",
       "      <td>0.892517</td>\n",
       "      <td>NAT1</td>\n",
       "      <td>NAT1</td>\n",
       "      <td>other</td>\n",
       "    </tr>\n",
       "    <tr>\n",
       "      <th>2</th>\n",
       "      <td>4.443587</td>\n",
       "      <td>-0.274597</td>\n",
       "      <td>0.370816</td>\n",
       "      <td>0.740520</td>\n",
       "      <td>0.458984</td>\n",
       "      <td>0.753728</td>\n",
       "      <td>AARS1</td>\n",
       "      <td>AARS1</td>\n",
       "      <td>other</td>\n",
       "    </tr>\n",
       "    <tr>\n",
       "      <th>8</th>\n",
       "      <td>5.025468</td>\n",
       "      <td>0.044529</td>\n",
       "      <td>0.316200</td>\n",
       "      <td>-0.140826</td>\n",
       "      <td>0.888007</td>\n",
       "      <td>0.958358</td>\n",
       "      <td>ABCF1</td>\n",
       "      <td>ABCF1</td>\n",
       "      <td>other</td>\n",
       "    </tr>\n",
       "    <tr>\n",
       "      <th>9</th>\n",
       "      <td>5.100178</td>\n",
       "      <td>-0.731124</td>\n",
       "      <td>0.340668</td>\n",
       "      <td>2.146149</td>\n",
       "      <td>0.031861</td>\n",
       "      <td>0.219614</td>\n",
       "      <td>ABL1</td>\n",
       "      <td>ABL1</td>\n",
       "      <td>other</td>\n",
       "    </tr>\n",
       "    <tr>\n",
       "      <th>10</th>\n",
       "      <td>5.877073</td>\n",
       "      <td>0.215359</td>\n",
       "      <td>0.241580</td>\n",
       "      <td>-0.891460</td>\n",
       "      <td>0.372683</td>\n",
       "      <td>0.696905</td>\n",
       "      <td>ABL2</td>\n",
       "      <td>ABL2</td>\n",
       "      <td>other</td>\n",
       "    </tr>\n",
       "  </tbody>\n",
       "</table>\n",
       "</div>"
      ],
      "text/plain": [
       "    baseMean  log2FoldChange     lfcSE      stat    pvalue      padj  genes  \\\n",
       "0   4.480184       -0.115703  0.316543  0.365521  0.714723  0.892517   NAT1   \n",
       "2   4.443587       -0.274597  0.370816  0.740520  0.458984  0.753728  AARS1   \n",
       "8   5.025468        0.044529  0.316200 -0.140826  0.888007  0.958358  ABCF1   \n",
       "9   5.100178       -0.731124  0.340668  2.146149  0.031861  0.219614   ABL1   \n",
       "10  5.877073        0.215359  0.241580 -0.891460  0.372683  0.696905   ABL2   \n",
       "\n",
       "   gene_id   type  \n",
       "0     NAT1  other  \n",
       "2    AARS1  other  \n",
       "8    ABCF1  other  \n",
       "9     ABL1  other  \n",
       "10    ABL2  other  "
      ]
     },
     "execution_count": 402,
     "metadata": {},
     "output_type": "execute_result"
    }
   ],
   "source": [
    "# DESeq results\n",
    "# baseMean: normalized counts of all samples, normalizing for seqencing depth\n",
    "res = resGene_tc[resGene_tc.baseMean>10]\n",
    "res = res.assign(baseMean = np.log2(1+res[\"baseMean\"]))\n",
    "res[\"type\"] = ['crc' if i else \"other\" for i in  res.genes.isin(crcs)]\n",
    "res.head()"
   ]
  },
  {
   "cell_type": "code",
   "execution_count": 403,
   "id": "cb2126d7",
   "metadata": {},
   "outputs": [
    {
     "name": "stdout",
     "output_type": "stream",
     "text": [
      "Saved box and whisker plot to: ../results/slamseq_MYB_degraded_coculture_v1/plots/MYB_degraded_coculture_v1_MV411-MYB-dTAG_ERCCsamplewise_0_5_whiskers_logfch.pdf\n"
     ]
    },
    {
     "data": {
      "image/png": "[encoded data removed]",
      "text/plain": [
       "<Figure size 432x288 with 1 Axes>"
      ]
     },
     "metadata": {
      "needs_background": "light"
     },
     "output_type": "display_data"
    }
   ],
   "source": [
    "fig_file = \"../results/slamseq_{0}/plots/{0}_{1}_whiskers_logfch.pdf\".format(\n",
    "    project, \"_\".join(filter(None, [var, scaling, str(minvar_toremove), str(mincount_toremove)])))\n",
    "\n",
    "ax = sns.boxplot(data=res,x=\"type\",y=\"log2FoldChange\").set_title(\n",
    "    \"{}: {} at 12h foldChange\\n{}\".format(project, var, \"\".join(filter(None, [scaling]))))\n",
    "ax.figure.savefig(fig_file, bbox_inches=\"tight\")\n",
    "print(\"Saved box and whisker plot to: {}\".format(fig_file))"
   ]
  },
  {
   "cell_type": "code",
   "execution_count": 404,
   "id": "d57d6cbe",
   "metadata": {
    "scrolled": true
   },
   "outputs": [
    {
     "name": "stdout",
     "output_type": "stream",
     "text": [
      "Saved box and whisker plot to: ../results/slamseq_MYB_degraded_coculture_v1/plots/MYB_degraded_coculture_v1_MV411-MYB-dTAG_ERCCsamplewise_0_5_whiskers_baseMean.pdf\n"
     ]
    },
    {
     "data": {
      "image/png": "[encoded data removed]",
      "text/plain": [
       "<Figure size 432x288 with 1 Axes>"
      ]
     },
     "metadata": {
      "needs_background": "light"
     },
     "output_type": "display_data"
    }
   ],
   "source": [
    "fig_file = \"../results/slamseq_{0}/plots/{0}_{1}_whiskers_baseMean.pdf\".format(\n",
    "    project, \"_\".join(filter(None, [var, scaling, str(minvar_toremove), str(mincount_toremove)])))\n",
    "\n",
    "ax =sns.boxplot(data=res,x=\"type\",y=\"baseMean\").set_title(\n",
    "    \"{}: {} at 12h foldChange\\n{}\".format(project, var, \"\".join(filter(None, [scaling]))))\n",
    "ax.figure.savefig(fig_file, bbox_inches=\"tight\")\n",
    "print(\"Saved box and whisker plot to: {}\".format(fig_file))"
   ]
  }
 ],
 "metadata": {
  "kernelspec": {
   "display_name": "Python 3 (ipykernel)",
   "language": "python",
   "name": "python3"
  },
  "language_info": {
   "codemirror_mode": {
    "name": "ipython",
    "version": 3
   },
   "file_extension": ".py",
   "mimetype": "text/x-python",
   "name": "python",
   "nbconvert_exporter": "python",
   "pygments_lexer": "ipython3",
   "version": "3.8.11"
  },
  "toc": {
   "base_numbering": 1,
   "nav_menu": {},
   "number_sections": false,
   "sideBar": true,
   "skip_h1_title": false,
   "title_cell": "Table of Contents",
   "title_sidebar": "Contents",
   "toc_cell": false,
   "toc_position": {
    "height": "calc(100% - 180px)",
    "left": "10px",
    "top": "150px",
    "width": "216.797px"
   },
   "toc_section_display": true,
   "toc_window_display": true
  }
 },
 "nbformat": 4,
 "nbformat_minor": 5
}
