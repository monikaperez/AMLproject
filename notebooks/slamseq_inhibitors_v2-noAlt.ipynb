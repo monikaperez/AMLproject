{
 "cells": [
  {
   "cell_type": "markdown",
   "id": "8b798bfb",
   "metadata": {},
   "source": [
    "# SLAMseq"
   ]
  },
  {
   "cell_type": "markdown",
   "id": "9c76af92",
   "metadata": {},
   "source": [
    "## Installing slamdunk (only do once)"
   ]
  },
  {
   "cell_type": "code",
   "execution_count": 1,
   "id": "c6fe9f68",
   "metadata": {},
   "outputs": [],
   "source": [
    "# install slamdunk\n",
    "#! pip3 install git+https://github.com/jkobject/slamdunk.git --upgrade"
   ]
  },
  {
   "cell_type": "code",
   "execution_count": 2,
   "id": "9b9c4e84",
   "metadata": {},
   "outputs": [],
   "source": [
    "# clone and install genepy\n",
    "# pip install -e genepy"
   ]
  },
  {
   "cell_type": "code",
   "execution_count": 3,
   "id": "4c7e763b",
   "metadata": {},
   "outputs": [],
   "source": [
    "# please also install cutadapt, fastqc, and trimgalore\n",
    "#! conda install -c bioconda cutadapt\n",
    "#! conda install -c bioconda fastqc\n",
    "#! conda install -c bioconda trim-galore"
   ]
  },
  {
   "cell_type": "code",
   "execution_count": 4,
   "id": "2d71fdd2",
   "metadata": {},
   "outputs": [],
   "source": [
    "from __future__ import print_function\n",
    "import os.path\n",
    "import pandas as pd\n",
    "import sys\n",
    "sys.path.insert(0, '../../')\n",
    "import seaborn as sns\n",
    "import numpy as np\n",
    "from natsort import os_sorted\n",
    "\n",
    "from genepy.utils import helper as h\n",
    "from genepy.utils import plot as genepyPlot\n",
    "from genepy.rna import pyDESeq2\n",
    "import genepy.rna as rna"
   ]
  },
  {
   "cell_type": "code",
   "execution_count": 6,
   "id": "f0fe245c",
   "metadata": {},
   "outputs": [
    {
     "data": {
      "text/html": [
       "\n",
       "    <div class=\"bk-root\">\n",
       "        <a href=\"https://bokeh.org\" target=\"_blank\" class=\"bk-logo bk-logo-small bk-logo-notebook\"></a>\n",
       "        <span id=\"1003\">Loading BokehJS ...</span>\n",
       "    </div>"
      ]
     },
     "metadata": {},
     "output_type": "display_data"
    },
    {
     "data": {
      "application/javascript": [
       "\n",
       "(function(root) {\n",
       "  function now() {\n",
       "    return new Date();\n",
       "  }\n",
       "\n",
       "  const force = true;\n",
       "\n",
       "  if (typeof root._bokeh_onload_callbacks === \"undefined\" || force === true) {\n",
       "    root._bokeh_onload_callbacks = [];\n",
       "    root._bokeh_is_loading = undefined;\n",
       "  }\n",
       "\n",
       "  const JS_MIME_TYPE = 'application/javascript';\n",
       "  const HTML_MIME_TYPE = 'text/html';\n",
       "  const EXEC_MIME_TYPE = 'application/vnd.bokehjs_exec.v0+json';\n",
       "  const CLASS_NAME = 'output_bokeh rendered_html';\n",
       "\n",
       "  /**\n",
       "   * Render data to the DOM node\n",
       "   */\n",
       "  function render(props, node) {\n",
       "    const script = document.createElement(\"script\");\n",
       "    node.appendChild(script);\n",
       "  }\n",
       "\n",
       "  /**\n",
       "   * Handle when an output is cleared or removed\n",
       "   */\n",
       "  function handleClearOutput(event, handle) {\n",
       "    const cell = handle.cell;\n",
       "\n",
       "    const id = cell.output_area._bokeh_element_id;\n",
       "    const server_id = cell.output_area._bokeh_server_id;\n",
       "    // Clean up Bokeh references\n",
       "    if (id != null && id in Bokeh.index) {\n",
       "      Bokeh.index[id].model.document.clear();\n",
       "      delete Bokeh.index[id];\n",
       "    }\n",
       "\n",
       "    if (server_id !== undefined) {\n",
       "      // Clean up Bokeh references\n",
       "      const cmd_clean = \"from bokeh.io.state import curstate; print(curstate().uuid_to_server['\" + server_id + \"'].get_sessions()[0].document.roots[0]._id)\";\n",
       "      cell.notebook.kernel.execute(cmd_clean, {\n",
       "        iopub: {\n",
       "          output: function(msg) {\n",
       "            const id = msg.content.text.trim();\n",
       "            if (id in Bokeh.index) {\n",
       "              Bokeh.index[id].model.document.clear();\n",
       "              delete Bokeh.index[id];\n",
       "            }\n",
       "          }\n",
       "        }\n",
       "      });\n",
       "      // Destroy server and session\n",
       "      const cmd_destroy = \"import bokeh.io.notebook as ion; ion.destroy_server('\" + server_id + \"')\";\n",
       "      cell.notebook.kernel.execute(cmd_destroy);\n",
       "    }\n",
       "  }\n",
       "\n",
       "  /**\n",
       "   * Handle when a new output is added\n",
       "   */\n",
       "  function handleAddOutput(event, handle) {\n",
       "    const output_area = handle.output_area;\n",
       "    const output = handle.output;\n",
       "\n",
       "    // limit handleAddOutput to display_data with EXEC_MIME_TYPE content only\n",
       "    if ((output.output_type != \"display_data\") || (!Object.prototype.hasOwnProperty.call(output.data, EXEC_MIME_TYPE))) {\n",
       "      return\n",
       "    }\n",
       "\n",
       "    const toinsert = output_area.element.find(\".\" + CLASS_NAME.split(' ')[0]);\n",
       "\n",
       "    if (output.metadata[EXEC_MIME_TYPE][\"id\"] !== undefined) {\n",
       "      toinsert[toinsert.length - 1].firstChild.textContent = output.data[JS_MIME_TYPE];\n",
       "      // store reference to embed id on output_area\n",
       "      output_area._bokeh_element_id = output.metadata[EXEC_MIME_TYPE][\"id\"];\n",
       "    }\n",
       "    if (output.metadata[EXEC_MIME_TYPE][\"server_id\"] !== undefined) {\n",
       "      const bk_div = document.createElement(\"div\");\n",
       "      bk_div.innerHTML = output.data[HTML_MIME_TYPE];\n",
       "      const script_attrs = bk_div.children[0].attributes;\n",
       "      for (let i = 0; i < script_attrs.length; i++) {\n",
       "        toinsert[toinsert.length - 1].firstChild.setAttribute(script_attrs[i].name, script_attrs[i].value);\n",
       "        toinsert[toinsert.length - 1].firstChild.textContent = bk_div.children[0].textContent\n",
       "      }\n",
       "      // store reference to server id on output_area\n",
       "      output_area._bokeh_server_id = output.metadata[EXEC_MIME_TYPE][\"server_id\"];\n",
       "    }\n",
       "  }\n",
       "\n",
       "  function register_renderer(events, OutputArea) {\n",
       "\n",
       "    function append_mime(data, metadata, element) {\n",
       "      // create a DOM node to render to\n",
       "      const toinsert = this.create_output_subarea(\n",
       "        metadata,\n",
       "        CLASS_NAME,\n",
       "        EXEC_MIME_TYPE\n",
       "      );\n",
       "      this.keyboard_manager.register_events(toinsert);\n",
       "      // Render to node\n",
       "      const props = {data: data, metadata: metadata[EXEC_MIME_TYPE]};\n",
       "      render(props, toinsert[toinsert.length - 1]);\n",
       "      element.append(toinsert);\n",
       "      return toinsert\n",
       "    }\n",
       "\n",
       "    /* Handle when an output is cleared or removed */\n",
       "    events.on('clear_output.CodeCell', handleClearOutput);\n",
       "    events.on('delete.Cell', handleClearOutput);\n",
       "\n",
       "    /* Handle when a new output is added */\n",
       "    events.on('output_added.OutputArea', handleAddOutput);\n",
       "\n",
       "    /**\n",
       "     * Register the mime type and append_mime function with output_area\n",
       "     */\n",
       "    OutputArea.prototype.register_mime_type(EXEC_MIME_TYPE, append_mime, {\n",
       "      /* Is output safe? */\n",
       "      safe: true,\n",
       "      /* Index of renderer in `output_area.display_order` */\n",
       "      index: 0\n",
       "    });\n",
       "  }\n",
       "\n",
       "  // register the mime type if in Jupyter Notebook environment and previously unregistered\n",
       "  if (root.Jupyter !== undefined) {\n",
       "    const events = require('base/js/events');\n",
       "    const OutputArea = require('notebook/js/outputarea').OutputArea;\n",
       "\n",
       "    if (OutputArea.prototype.mime_types().indexOf(EXEC_MIME_TYPE) == -1) {\n",
       "      register_renderer(events, OutputArea);\n",
       "    }\n",
       "  }\n",
       "\n",
       "  \n",
       "  if (typeof (root._bokeh_timeout) === \"undefined\" || force === true) {\n",
       "    root._bokeh_timeout = Date.now() + 5000;\n",
       "    root._bokeh_failed_load = false;\n",
       "  }\n",
       "\n",
       "  const NB_LOAD_WARNING = {'data': {'text/html':\n",
       "     \"<div style='background-color: #fdd'>\\n\"+\n",
       "     \"<p>\\n\"+\n",
       "     \"BokehJS does not appear to have successfully loaded. If loading BokehJS from CDN, this \\n\"+\n",
       "     \"may be due to a slow or bad network connection. Possible fixes:\\n\"+\n",
       "     \"</p>\\n\"+\n",
       "     \"<ul>\\n\"+\n",
       "     \"<li>re-rerun `output_notebook()` to attempt to load from CDN again, or</li>\\n\"+\n",
       "     \"<li>use INLINE resources instead, as so:</li>\\n\"+\n",
       "     \"</ul>\\n\"+\n",
       "     \"<code>\\n\"+\n",
       "     \"from bokeh.resources import INLINE\\n\"+\n",
       "     \"output_notebook(resources=INLINE)\\n\"+\n",
       "     \"</code>\\n\"+\n",
       "     \"</div>\"}};\n",
       "\n",
       "  function display_loaded() {\n",
       "    const el = document.getElementById(\"1003\");\n",
       "    if (el != null) {\n",
       "      el.textContent = \"BokehJS is loading...\";\n",
       "    }\n",
       "    if (root.Bokeh !== undefined) {\n",
       "      if (el != null) {\n",
       "        el.textContent = \"BokehJS \" + root.Bokeh.version + \" successfully loaded.\";\n",
       "      }\n",
       "    } else if (Date.now() < root._bokeh_timeout) {\n",
       "      setTimeout(display_loaded, 100)\n",
       "    }\n",
       "  }\n",
       "\n",
       "\n",
       "  function run_callbacks() {\n",
       "    try {\n",
       "      root._bokeh_onload_callbacks.forEach(function(callback) {\n",
       "        if (callback != null)\n",
       "          callback();\n",
       "      });\n",
       "    } finally {\n",
       "      delete root._bokeh_onload_callbacks\n",
       "    }\n",
       "    console.debug(\"Bokeh: all callbacks have finished\");\n",
       "  }\n",
       "\n",
       "  function load_libs(css_urls, js_urls, callback) {\n",
       "    if (css_urls == null) css_urls = [];\n",
       "    if (js_urls == null) js_urls = [];\n",
       "\n",
       "    root._bokeh_onload_callbacks.push(callback);\n",
       "    if (root._bokeh_is_loading > 0) {\n",
       "      console.debug(\"Bokeh: BokehJS is being loaded, scheduling callback at\", now());\n",
       "      return null;\n",
       "    }\n",
       "    if (js_urls == null || js_urls.length === 0) {\n",
       "      run_callbacks();\n",
       "      return null;\n",
       "    }\n",
       "    console.debug(\"Bokeh: BokehJS not loaded, scheduling load and callback at\", now());\n",
       "    root._bokeh_is_loading = css_urls.length + js_urls.length;\n",
       "\n",
       "    function on_load() {\n",
       "      root._bokeh_is_loading--;\n",
       "      if (root._bokeh_is_loading === 0) {\n",
       "        console.debug(\"Bokeh: all BokehJS libraries/stylesheets loaded\");\n",
       "        run_callbacks()\n",
       "      }\n",
       "    }\n",
       "\n",
       "    function on_error(url) {\n",
       "      console.error(\"failed to load \" + url);\n",
       "    }\n",
       "\n",
       "    for (let i = 0; i < css_urls.length; i++) {\n",
       "      const url = css_urls[i];\n",
       "      const element = document.createElement(\"link\");\n",
       "      element.onload = on_load;\n",
       "      element.onerror = on_error.bind(null, url);\n",
       "      element.rel = \"stylesheet\";\n",
       "      element.type = \"text/css\";\n",
       "      element.href = url;\n",
       "      console.debug(\"Bokeh: injecting link tag for BokehJS stylesheet: \", url);\n",
       "      document.body.appendChild(element);\n",
       "    }\n",
       "\n",
       "    for (let i = 0; i < js_urls.length; i++) {\n",
       "      const url = js_urls[i];\n",
       "      const element = document.createElement('script');\n",
       "      element.onload = on_load;\n",
       "      element.onerror = on_error.bind(null, url);\n",
       "      element.async = false;\n",
       "      element.src = url;\n",
       "      console.debug(\"Bokeh: injecting script tag for BokehJS library: \", url);\n",
       "      document.head.appendChild(element);\n",
       "    }\n",
       "  };\n",
       "\n",
       "  function inject_raw_css(css) {\n",
       "    const element = document.createElement(\"style\");\n",
       "    element.appendChild(document.createTextNode(css));\n",
       "    document.body.appendChild(element);\n",
       "  }\n",
       "\n",
       "  \n",
       "  const js_urls = [\"https://cdn.bokeh.org/bokeh/release/bokeh-2.4.2.min.js\", \"https://cdn.bokeh.org/bokeh/release/bokeh-gl-2.4.2.min.js\", \"https://cdn.bokeh.org/bokeh/release/bokeh-widgets-2.4.2.min.js\", \"https://cdn.bokeh.org/bokeh/release/bokeh-tables-2.4.2.min.js\", \"https://cdn.bokeh.org/bokeh/release/bokeh-mathjax-2.4.2.min.js\"];\n",
       "  const css_urls = [];\n",
       "  \n",
       "\n",
       "  const inline_js = [\n",
       "    function(Bokeh) {\n",
       "      Bokeh.set_log_level(\"info\");\n",
       "    },\n",
       "    function(Bokeh) {\n",
       "    \n",
       "    \n",
       "    }\n",
       "  ];\n",
       "\n",
       "  function run_inline_js() {\n",
       "    \n",
       "    if (root.Bokeh !== undefined || force === true) {\n",
       "      \n",
       "    for (let i = 0; i < inline_js.length; i++) {\n",
       "      inline_js[i].call(root, root.Bokeh);\n",
       "    }\n",
       "    if (force === true) {\n",
       "        display_loaded();\n",
       "      }} else if (Date.now() < root._bokeh_timeout) {\n",
       "      setTimeout(run_inline_js, 100);\n",
       "    } else if (!root._bokeh_failed_load) {\n",
       "      console.log(\"Bokeh: BokehJS failed to load within specified timeout.\");\n",
       "      root._bokeh_failed_load = true;\n",
       "    } else if (force !== true) {\n",
       "      const cell = $(document.getElementById(\"1003\")).parents('.cell').data().cell;\n",
       "      cell.output_area.append_execute_result(NB_LOAD_WARNING)\n",
       "    }\n",
       "\n",
       "  }\n",
       "\n",
       "  if (root._bokeh_is_loading === 0) {\n",
       "    console.debug(\"Bokeh: BokehJS loaded, going straight to plotting\");\n",
       "    run_inline_js();\n",
       "  } else {\n",
       "    load_libs(css_urls, js_urls, function() {\n",
       "      console.debug(\"Bokeh: BokehJS plotting callback run at\", now());\n",
       "      run_inline_js();\n",
       "    });\n",
       "  }\n",
       "}(window));"
      ],
      "application/vnd.bokehjs_load.v0+json": "\n(function(root) {\n  function now() {\n    return new Date();\n  }\n\n  const force = true;\n\n  if (typeof root._bokeh_onload_callbacks === \"undefined\" || force === true) {\n    root._bokeh_onload_callbacks = [];\n    root._bokeh_is_loading = undefined;\n  }\n\n  \n\n  \n  if (typeof (root._bokeh_timeout) === \"undefined\" || force === true) {\n    root._bokeh_timeout = Date.now() + 5000;\n    root._bokeh_failed_load = false;\n  }\n\n  const NB_LOAD_WARNING = {'data': {'text/html':\n     \"<div style='background-color: #fdd'>\\n\"+\n     \"<p>\\n\"+\n     \"BokehJS does not appear to have successfully loaded. If loading BokehJS from CDN, this \\n\"+\n     \"may be due to a slow or bad network connection. Possible fixes:\\n\"+\n     \"</p>\\n\"+\n     \"<ul>\\n\"+\n     \"<li>re-rerun `output_notebook()` to attempt to load from CDN again, or</li>\\n\"+\n     \"<li>use INLINE resources instead, as so:</li>\\n\"+\n     \"</ul>\\n\"+\n     \"<code>\\n\"+\n     \"from bokeh.resources import INLINE\\n\"+\n     \"output_notebook(resources=INLINE)\\n\"+\n     \"</code>\\n\"+\n     \"</div>\"}};\n\n  function display_loaded() {\n    const el = document.getElementById(\"1003\");\n    if (el != null) {\n      el.textContent = \"BokehJS is loading...\";\n    }\n    if (root.Bokeh !== undefined) {\n      if (el != null) {\n        el.textContent = \"BokehJS \" + root.Bokeh.version + \" successfully loaded.\";\n      }\n    } else if (Date.now() < root._bokeh_timeout) {\n      setTimeout(display_loaded, 100)\n    }\n  }\n\n\n  function run_callbacks() {\n    try {\n      root._bokeh_onload_callbacks.forEach(function(callback) {\n        if (callback != null)\n          callback();\n      });\n    } finally {\n      delete root._bokeh_onload_callbacks\n    }\n    console.debug(\"Bokeh: all callbacks have finished\");\n  }\n\n  function load_libs(css_urls, js_urls, callback) {\n    if (css_urls == null) css_urls = [];\n    if (js_urls == null) js_urls = [];\n\n    root._bokeh_onload_callbacks.push(callback);\n    if (root._bokeh_is_loading > 0) {\n      console.debug(\"Bokeh: BokehJS is being loaded, scheduling callback at\", now());\n      return null;\n    }\n    if (js_urls == null || js_urls.length === 0) {\n      run_callbacks();\n      return null;\n    }\n    console.debug(\"Bokeh: BokehJS not loaded, scheduling load and callback at\", now());\n    root._bokeh_is_loading = css_urls.length + js_urls.length;\n\n    function on_load() {\n      root._bokeh_is_loading--;\n      if (root._bokeh_is_loading === 0) {\n        console.debug(\"Bokeh: all BokehJS libraries/stylesheets loaded\");\n        run_callbacks()\n      }\n    }\n\n    function on_error(url) {\n      console.error(\"failed to load \" + url);\n    }\n\n    for (let i = 0; i < css_urls.length; i++) {\n      const url = css_urls[i];\n      const element = document.createElement(\"link\");\n      element.onload = on_load;\n      element.onerror = on_error.bind(null, url);\n      element.rel = \"stylesheet\";\n      element.type = \"text/css\";\n      element.href = url;\n      console.debug(\"Bokeh: injecting link tag for BokehJS stylesheet: \", url);\n      document.body.appendChild(element);\n    }\n\n    for (let i = 0; i < js_urls.length; i++) {\n      const url = js_urls[i];\n      const element = document.createElement('script');\n      element.onload = on_load;\n      element.onerror = on_error.bind(null, url);\n      element.async = false;\n      element.src = url;\n      console.debug(\"Bokeh: injecting script tag for BokehJS library: \", url);\n      document.head.appendChild(element);\n    }\n  };\n\n  function inject_raw_css(css) {\n    const element = document.createElement(\"style\");\n    element.appendChild(document.createTextNode(css));\n    document.body.appendChild(element);\n  }\n\n  \n  const js_urls = [\"https://cdn.bokeh.org/bokeh/release/bokeh-2.4.2.min.js\", \"https://cdn.bokeh.org/bokeh/release/bokeh-gl-2.4.2.min.js\", \"https://cdn.bokeh.org/bokeh/release/bokeh-widgets-2.4.2.min.js\", \"https://cdn.bokeh.org/bokeh/release/bokeh-tables-2.4.2.min.js\", \"https://cdn.bokeh.org/bokeh/release/bokeh-mathjax-2.4.2.min.js\"];\n  const css_urls = [];\n  \n\n  const inline_js = [\n    function(Bokeh) {\n      Bokeh.set_log_level(\"info\");\n    },\n    function(Bokeh) {\n    \n    \n    }\n  ];\n\n  function run_inline_js() {\n    \n    if (root.Bokeh !== undefined || force === true) {\n      \n    for (let i = 0; i < inline_js.length; i++) {\n      inline_js[i].call(root, root.Bokeh);\n    }\n    if (force === true) {\n        display_loaded();\n      }} else if (Date.now() < root._bokeh_timeout) {\n      setTimeout(run_inline_js, 100);\n    } else if (!root._bokeh_failed_load) {\n      console.log(\"Bokeh: BokehJS failed to load within specified timeout.\");\n      root._bokeh_failed_load = true;\n    } else if (force !== true) {\n      const cell = $(document.getElementById(\"1003\")).parents('.cell').data().cell;\n      cell.output_area.append_execute_result(NB_LOAD_WARNING)\n    }\n\n  }\n\n  if (root._bokeh_is_loading === 0) {\n    console.debug(\"Bokeh: BokehJS loaded, going straight to plotting\");\n    run_inline_js();\n  } else {\n    load_libs(css_urls, js_urls, function() {\n      console.debug(\"Bokeh: BokehJS plotting callback run at\", now());\n      run_inline_js();\n    });\n  }\n}(window));"
     },
     "metadata": {},
     "output_type": "display_data"
    },
    {
     "name": "stdout",
     "output_type": "stream",
     "text": [
      "The autoreload extension is already loaded. To reload it, use:\n",
      "  %reload_ext autoreload\n",
      "The rpy2.ipython extension is already loaded. To reload it, use:\n",
      "  %reload_ext rpy2.ipython\n"
     ]
    }
   ],
   "source": [
    "from bokeh.plotting import *\n",
    "from bokeh.models import HoverTool\n",
    "from bokeh.io import output_notebook\n",
    "\n",
    "import matplotlib.pyplot as plt\n",
    "\n",
    "from sklearn.neighbors import KNeighborsClassifier\n",
    "from sklearn.manifold import MDS, TSNE\n",
    "from sklearn.decomposition import PCA\n",
    "from sklearn.preprocessing import scale\n",
    "#from umap import UMAP\n",
    "\n",
    "output_notebook()\n",
    "%load_ext autoreload\n",
    "%matplotlib inline\n",
    "%autoreload 2\n",
    "%load_ext rpy2.ipython"
   ]
  },
  {
   "cell_type": "code",
   "execution_count": 7,
   "id": "f5b490f5",
   "metadata": {},
   "outputs": [],
   "source": [
    "def createDir(directory):\n",
    "    if not os.path.exists(directory):\n",
    "        print(\"Creating output directory: \" + directory)\n",
    "        os.makedirs(directory)"
   ]
  },
  {
   "cell_type": "markdown",
   "id": "b30eac97",
   "metadata": {},
   "source": [
    "# MV411 inhibitors"
   ]
  },
  {
   "cell_type": "markdown",
   "id": "c13340d3",
   "metadata": {},
   "source": [
    "SLAMseq of MV411 with MYC, CDK9, THC1 inhibitors\n",
    "<br>1h incubation with respective agent + 1h 4sU with 0.5$\\mu$M VHL (with ERCC spike-in control mix #1 used)\n",
    "<br>MS2: 50$\\mu$M\n",
    "<br>JQ1: 1$\\mu$M\n",
    "<br>MYCi361: 10$\\mu$M\n",
    "<br>THZ1: 10$\\mu$M\n",
    "<br>DMSO brought up to 0.25% for all samples\n",
    "<br>__Processed without alt loci__"
   ]
  },
  {
   "cell_type": "code",
   "execution_count": 8,
   "id": "1a10249f",
   "metadata": {},
   "outputs": [],
   "source": [
    "project = \"inhibitors_v2\""
   ]
  },
  {
   "cell_type": "code",
   "execution_count": 9,
   "id": "9a9e6f2d",
   "metadata": {},
   "outputs": [],
   "source": [
    "location = \"../data/slamseq_\"+project+\"/\" # new data location"
   ]
  },
  {
   "cell_type": "markdown",
   "id": "250dd450",
   "metadata": {},
   "source": [
    "## download the data"
   ]
  },
  {
   "cell_type": "code",
   "execution_count": 10,
   "id": "f09ae827",
   "metadata": {},
   "outputs": [],
   "source": [
    "location = \"../data/slamseq_\"+project+\"/\" # new data location\n",
    "loc = \"220610_MP10091_fastq\" # transfer AML folder"
   ]
  },
  {
   "cell_type": "code",
   "execution_count": 11,
   "id": "472ffc48",
   "metadata": {},
   "outputs": [],
   "source": [
    "! mkdir ../$location\n",
    "! mkdir ../results/slamseq_$project\n",
    "! mkdir $location && mkdir $location/qc # make data dir in AMLproject\n",
    "! mkdir ../$location/fastqs/ # make dir in /home/monika/data/project/fastqs"
   ]
  },
  {
   "cell_type": "code",
   "execution_count": 13,
   "id": "6156ef3e",
   "metadata": {
    "collapsed": true
   },
   "outputs": [
    {
     "name": "stdout",
     "output_type": "stream",
     "text": [
      "gs://transfer-amlproject/220610_MP10091_fastq/20220610_10_MV411_JQ1_B_MP10091_S10_R1_001.fastq.gz\r\n",
      "gs://transfer-amlproject/220610_MP10091_fastq/20220610_10_MV411_JQ1_B_MP10091_S10_R2_001.fastq.gz\r\n",
      "gs://transfer-amlproject/220610_MP10091_fastq/20220610_11_MV411_JQ1_C_MP10091_S11_R1_001.fastq.gz\r\n",
      "gs://transfer-amlproject/220610_MP10091_fastq/20220610_11_MV411_JQ1_C_MP10091_S11_R2_001.fastq.gz\r\n",
      "gs://transfer-amlproject/220610_MP10091_fastq/20220610_12_MV411_JQ1_D_MP10091_S12_R1_001.fastq.gz\r\n",
      "gs://transfer-amlproject/220610_MP10091_fastq/20220610_12_MV411_JQ1_D_MP10091_S12_R2_001.fastq.gz\r\n",
      "gs://transfer-amlproject/220610_MP10091_fastq/20220610_13_MV411_MYCi361_A_MP10091_S13_R1_001.fastq.gz\r\n",
      "gs://transfer-amlproject/220610_MP10091_fastq/20220610_13_MV411_MYCi361_A_MP10091_S13_R2_001.fastq.gz\r\n",
      "gs://transfer-amlproject/220610_MP10091_fastq/20220610_14_MV411_MYCi361_B_MP10091_S14_R1_001.fastq.gz\r\n",
      "gs://transfer-amlproject/220610_MP10091_fastq/20220610_14_MV411_MYCi361_B_MP10091_S14_R2_001.fastq.gz\r\n",
      "gs://transfer-amlproject/220610_MP10091_fastq/20220610_15_MV411_MYCi361_C_MP10091_S15_R1_001.fastq.gz\r\n",
      "gs://transfer-amlproject/220610_MP10091_fastq/20220610_15_MV411_MYCi361_C_MP10091_S15_R2_001.fastq.gz\r\n",
      "gs://transfer-amlproject/220610_MP10091_fastq/20220610_16_MV411_MYCi361_D_MP10091_S16_R1_001.fastq.gz\r\n",
      "gs://transfer-amlproject/220610_MP10091_fastq/20220610_16_MV411_MYCi361_D_MP10091_S16_R2_001.fastq.gz\r\n",
      "gs://transfer-amlproject/220610_MP10091_fastq/20220610_17_MV411_THZ1_A_MP10091_S17_R1_001.fastq.gz\r\n",
      "gs://transfer-amlproject/220610_MP10091_fastq/20220610_17_MV411_THZ1_A_MP10091_S17_R2_001.fastq.gz\r\n",
      "gs://transfer-amlproject/220610_MP10091_fastq/20220610_18_MV411_THZ1_B_MP10091_S18_R1_001.fastq.gz\r\n",
      "gs://transfer-amlproject/220610_MP10091_fastq/20220610_18_MV411_THZ1_B_MP10091_S18_R2_001.fastq.gz\r\n",
      "gs://transfer-amlproject/220610_MP10091_fastq/20220610_19_MV411_THZ1_C_MP10091_S19_R1_001.fastq.gz\r\n",
      "gs://transfer-amlproject/220610_MP10091_fastq/20220610_19_MV411_THZ1_C_MP10091_S19_R2_001.fastq.gz\r\n",
      "gs://transfer-amlproject/220610_MP10091_fastq/20220610_1_MV411_DMSO_A_MP10091_S1_R1_001.fastq.gz\r\n",
      "gs://transfer-amlproject/220610_MP10091_fastq/20220610_1_MV411_DMSO_A_MP10091_S1_R2_001.fastq.gz\r\n",
      "gs://transfer-amlproject/220610_MP10091_fastq/20220610_20_MV411_THZ1_D_MP10091_S20_R1_001.fastq.gz\r\n",
      "gs://transfer-amlproject/220610_MP10091_fastq/20220610_20_MV411_THZ1_D_MP10091_S20_R2_001.fastq.gz\r\n",
      "gs://transfer-amlproject/220610_MP10091_fastq/20220610_21_MV411_JQ1MS2_A_MP10091_S21_R1_001.fastq.gz\r\n",
      "gs://transfer-amlproject/220610_MP10091_fastq/20220610_21_MV411_JQ1MS2_A_MP10091_S21_R2_001.fastq.gz\r\n",
      "gs://transfer-amlproject/220610_MP10091_fastq/20220610_22_MV411_JQ1MS2_B_MP10091_S22_R1_001.fastq.gz\r\n",
      "gs://transfer-amlproject/220610_MP10091_fastq/20220610_22_MV411_JQ1MS2_B_MP10091_S22_R2_001.fastq.gz\r\n",
      "gs://transfer-amlproject/220610_MP10091_fastq/20220610_23_MV411_JQ1MS2_C_MP10091_S23_R1_001.fastq.gz\r\n",
      "gs://transfer-amlproject/220610_MP10091_fastq/20220610_23_MV411_JQ1MS2_C_MP10091_S23_R2_001.fastq.gz\r\n",
      "gs://transfer-amlproject/220610_MP10091_fastq/20220610_24_MV411_JQ1MS2_D_MP10091_S24_R1_001.fastq.gz\r\n",
      "gs://transfer-amlproject/220610_MP10091_fastq/20220610_24_MV411_JQ1MS2_D_MP10091_S24_R2_001.fastq.gz\r\n",
      "gs://transfer-amlproject/220610_MP10091_fastq/20220610_25_MV411_JQ1THZ1_A_MP10091_S25_R1_001.fastq.gz\r\n",
      "gs://transfer-amlproject/220610_MP10091_fastq/20220610_25_MV411_JQ1THZ1_A_MP10091_S25_R2_001.fastq.gz\r\n",
      "gs://transfer-amlproject/220610_MP10091_fastq/20220610_26_MV411_JQ1THZ1_B_MP10091_S26_R1_001.fastq.gz\r\n",
      "gs://transfer-amlproject/220610_MP10091_fastq/20220610_26_MV411_JQ1THZ1_B_MP10091_S26_R2_001.fastq.gz\r\n",
      "gs://transfer-amlproject/220610_MP10091_fastq/20220610_27_MV411_JQ1THZ1_C_MP10091_S27_R1_001.fastq.gz\r\n",
      "gs://transfer-amlproject/220610_MP10091_fastq/20220610_27_MV411_JQ1THZ1_C_MP10091_S27_R2_001.fastq.gz\r\n",
      "gs://transfer-amlproject/220610_MP10091_fastq/20220610_28_MV411_JQ1THZ1_D_MP10091_S28_R1_001.fastq.gz\r\n",
      "gs://transfer-amlproject/220610_MP10091_fastq/20220610_28_MV411_JQ1THZ1_D_MP10091_S28_R2_001.fastq.gz\r\n",
      "gs://transfer-amlproject/220610_MP10091_fastq/20220610_2_MV411_DMSO_B_MP10091_S2_R1_001.fastq.gz\r\n",
      "gs://transfer-amlproject/220610_MP10091_fastq/20220610_2_MV411_DMSO_B_MP10091_S2_R2_001.fastq.gz\r\n",
      "gs://transfer-amlproject/220610_MP10091_fastq/20220610_3_MV411_DMSO_C_MP10091_S3_R1_001.fastq.gz\r\n",
      "gs://transfer-amlproject/220610_MP10091_fastq/20220610_3_MV411_DMSO_C_MP10091_S3_R2_001.fastq.gz\r\n",
      "gs://transfer-amlproject/220610_MP10091_fastq/20220610_4_MV411_DMSO_D_MP10091_S4_R1_001.fastq.gz\r\n",
      "gs://transfer-amlproject/220610_MP10091_fastq/20220610_4_MV411_DMSO_D_MP10091_S4_R2_001.fastq.gz\r\n",
      "gs://transfer-amlproject/220610_MP10091_fastq/20220610_5_MV411_MS2_A_MP10091_S5_R1_001.fastq.gz\r\n",
      "gs://transfer-amlproject/220610_MP10091_fastq/20220610_5_MV411_MS2_A_MP10091_S5_R2_001.fastq.gz\r\n",
      "gs://transfer-amlproject/220610_MP10091_fastq/20220610_6_MV411_MS2_B_MP10091_S6_R1_001.fastq.gz\r\n",
      "gs://transfer-amlproject/220610_MP10091_fastq/20220610_6_MV411_MS2_B_MP10091_S6_R2_001.fastq.gz\r\n",
      "gs://transfer-amlproject/220610_MP10091_fastq/20220610_7_MV411_MS2_C_MP10091_S7_R1_001.fastq.gz\r\n",
      "gs://transfer-amlproject/220610_MP10091_fastq/20220610_7_MV411_MS2_C_MP10091_S7_R2_001.fastq.gz\r\n",
      "gs://transfer-amlproject/220610_MP10091_fastq/20220610_8_MV411_MS2_D_MP10091_S8_R1_001.fastq.gz\r\n",
      "gs://transfer-amlproject/220610_MP10091_fastq/20220610_8_MV411_MS2_D_MP10091_S8_R2_001.fastq.gz\r\n",
      "gs://transfer-amlproject/220610_MP10091_fastq/20220610_9_MV411_JQ1_A_MP10091_S9_R1_001.fastq.gz\r\n",
      "gs://transfer-amlproject/220610_MP10091_fastq/20220610_9_MV411_JQ1_A_MP10091_S9_R2_001.fastq.gz\r\n"
     ]
    }
   ],
   "source": [
    "! gsutil ls gs://transfer-amlproject/$loc/*.fastq.gz"
   ]
  },
  {
   "cell_type": "code",
   "execution_count": 14,
   "id": "7be71396",
   "metadata": {},
   "outputs": [
    {
     "name": "stdout",
     "output_type": "stream",
     "text": [
      "Copying gs://transfer-amlproject/220610_MP10091_fastq/multiqc_report.html...\n",
      "/ [1/1 files][  1.7 MiB/  1.7 MiB] 100% Done                                    \n",
      "Operation completed over 1 objects/1.7 MiB.                                      \n",
      "Copying gs://transfer-amlproject/220610_MP10091_fastq/Reports/20220610_10_MV411_JQ1_B_MP10091_S10_R1_001_fastqc.html...\n",
      "Copying gs://transfer-amlproject/220610_MP10091_fastq/Reports/20220610_10_MV411_JQ1_B_MP10091_S10_R1_001_fastqc.zip...\n",
      "Copying gs://transfer-amlproject/220610_MP10091_fastq/Reports/20220610_10_MV411_JQ1_B_MP10091_S10_R2_001_fastqc.html...\n",
      "Copying gs://transfer-amlproject/220610_MP10091_fastq/Reports/20220610_10_MV411_JQ1_B_MP10091_S10_R2_001_fastqc.zip...\n",
      "Copying gs://transfer-amlproject/220610_MP10091_fastq/Reports/20220610_11_MV411_JQ1_C_MP10091_S11_R1_001_fastqc.html...\n",
      "Copying gs://transfer-amlproject/220610_MP10091_fastq/Reports/20220610_11_MV411_JQ1_C_MP10091_S11_R1_001_fastqc.zip...\n",
      "Copying gs://transfer-amlproject/220610_MP10091_fastq/Reports/20220610_11_MV411_JQ1_C_MP10091_S11_R2_001_fastqc.html...\n",
      "Copying gs://transfer-amlproject/220610_MP10091_fastq/Reports/20220610_11_MV411_JQ1_C_MP10091_S11_R2_001_fastqc.zip...\n",
      "Copying gs://transfer-amlproject/220610_MP10091_fastq/Reports/20220610_12_MV411_JQ1_D_MP10091_S12_R1_001_fastqc.html...\n",
      "Copying gs://transfer-amlproject/220610_MP10091_fastq/Reports/20220610_12_MV411_JQ1_D_MP10091_S12_R1_001_fastqc.zip...\n",
      "Copying gs://transfer-amlproject/220610_MP10091_fastq/Reports/20220610_12_MV411_JQ1_D_MP10091_S12_R2_001_fastqc.html...\n",
      "Copying gs://transfer-amlproject/220610_MP10091_fastq/Reports/20220610_13_MV411_MYCi361_A_MP10091_S13_R1_001_fastqc.zip...\n",
      "Copying gs://transfer-amlproject/220610_MP10091_fastq/Reports/20220610_13_MV411_MYCi361_A_MP10091_S13_R1_001_fastqc.html...\n",
      "Copying gs://transfer-amlproject/220610_MP10091_fastq/Reports/20220610_12_MV411_JQ1_D_MP10091_S12_R2_001_fastqc.zip...\n",
      "Copying gs://transfer-amlproject/220610_MP10091_fastq/Reports/20220610_13_MV411_MYCi361_A_MP10091_S13_R2_001_fastqc.html...\n",
      "Copying gs://transfer-amlproject/220610_MP10091_fastq/Reports/20220610_14_MV411_MYCi361_B_MP10091_S14_R1_001_fastqc.html...\n",
      "Copying gs://transfer-amlproject/220610_MP10091_fastq/Reports/20220610_13_MV411_MYCi361_A_MP10091_S13_R2_001_fastqc.zip...\n",
      "Copying gs://transfer-amlproject/220610_MP10091_fastq/Reports/20220610_14_MV411_MYCi361_B_MP10091_S14_R1_001_fastqc.zip...\n",
      "Copying gs://transfer-amlproject/220610_MP10091_fastq/Reports/20220610_14_MV411_MYCi361_B_MP10091_S14_R2_001_fastqc.zip...\n",
      "Copying gs://transfer-amlproject/220610_MP10091_fastq/Reports/20220610_14_MV411_MYCi361_B_MP10091_S14_R2_001_fastqc.html...\n",
      "Copying gs://transfer-amlproject/220610_MP10091_fastq/Reports/20220610_15_MV411_MYCi361_C_MP10091_S15_R1_001_fastqc.zip...\n",
      "Copying gs://transfer-amlproject/220610_MP10091_fastq/Reports/20220610_15_MV411_MYCi361_C_MP10091_S15_R1_001_fastqc.html...\n",
      "Copying gs://transfer-amlproject/220610_MP10091_fastq/Reports/20220610_15_MV411_MYCi361_C_MP10091_S15_R2_001_fastqc.html...\n",
      "Copying gs://transfer-amlproject/220610_MP10091_fastq/Reports/20220610_15_MV411_MYCi361_C_MP10091_S15_R2_001_fastqc.zip...\n",
      "Copying gs://transfer-amlproject/220610_MP10091_fastq/Reports/20220610_16_MV411_MYCi361_D_MP10091_S16_R1_001_fastqc.html...\n",
      "Copying gs://transfer-amlproject/220610_MP10091_fastq/Reports/20220610_16_MV411_MYCi361_D_MP10091_S16_R2_001_fastqc.zip...\n",
      "Copying gs://transfer-amlproject/220610_MP10091_fastq/Reports/20220610_17_MV411_THZ1_A_MP10091_S17_R1_001_fastqc.zip...\n",
      "Copying gs://transfer-amlproject/220610_MP10091_fastq/Reports/20220610_16_MV411_MYCi361_D_MP10091_S16_R2_001_fastqc.html...\n",
      "Copying gs://transfer-amlproject/220610_MP10091_fastq/Reports/20220610_19_MV411_THZ1_C_MP10091_S19_R1_001_fastqc.zip...\n",
      "Copying gs://transfer-amlproject/220610_MP10091_fastq/Reports/20220610_17_MV411_THZ1_A_MP10091_S17_R1_001_fastqc.html...\n",
      "Copying gs://transfer-amlproject/220610_MP10091_fastq/Reports/20220610_16_MV411_MYCi361_D_MP10091_S16_R1_001_fastqc.zip...\n",
      "Copying gs://transfer-amlproject/220610_MP10091_fastq/Reports/20220610_17_MV411_THZ1_A_MP10091_S17_R2_001_fastqc.zip...\n",
      "Copying gs://transfer-amlproject/220610_MP10091_fastq/Reports/20220610_18_MV411_THZ1_B_MP10091_S18_R1_001_fastqc.html...\n",
      "Copying gs://transfer-amlproject/220610_MP10091_fastq/Reports/20220610_18_MV411_THZ1_B_MP10091_S18_R2_001_fastqc.html...\n",
      "Copying gs://transfer-amlproject/220610_MP10091_fastq/Reports/20220610_18_MV411_THZ1_B_MP10091_S18_R2_001_fastqc.zip...\n",
      "Copying gs://transfer-amlproject/220610_MP10091_fastq/Reports/20220610_18_MV411_THZ1_B_MP10091_S18_R1_001_fastqc.zip...\n",
      "Copying gs://transfer-amlproject/220610_MP10091_fastq/Reports/20220610_17_MV411_THZ1_A_MP10091_S17_R2_001_fastqc.html...\n",
      "Copying gs://transfer-amlproject/220610_MP10091_fastq/Reports/20220610_19_MV411_THZ1_C_MP10091_S19_R2_001_fastqc.html...\n",
      "Copying gs://transfer-amlproject/220610_MP10091_fastq/Reports/20220610_19_MV411_THZ1_C_MP10091_S19_R2_001_fastqc.zip...\n",
      "Copying gs://transfer-amlproject/220610_MP10091_fastq/Reports/20220610_19_MV411_THZ1_C_MP10091_S19_R1_001_fastqc.html...\n",
      "Copying gs://transfer-amlproject/220610_MP10091_fastq/Reports/20220610_1_MV411_DMSO_A_MP10091_S1_R1_001_fastqc.html...\n",
      "Copying gs://transfer-amlproject/220610_MP10091_fastq/Reports/20220610_1_MV411_DMSO_A_MP10091_S1_R1_001_fastqc.zip...\n",
      "Copying gs://transfer-amlproject/220610_MP10091_fastq/Reports/20220610_1_MV411_DMSO_A_MP10091_S1_R2_001_fastqc.html...\n",
      "Copying gs://transfer-amlproject/220610_MP10091_fastq/Reports/20220610_1_MV411_DMSO_A_MP10091_S1_R2_001_fastqc.zip...\n",
      "Copying gs://transfer-amlproject/220610_MP10091_fastq/Reports/20220610_20_MV411_THZ1_D_MP10091_S20_R1_001_fastqc.html...\n",
      "Copying gs://transfer-amlproject/220610_MP10091_fastq/Reports/20220610_20_MV411_THZ1_D_MP10091_S20_R1_001_fastqc.zip...\n",
      "Copying gs://transfer-amlproject/220610_MP10091_fastq/Reports/20220610_20_MV411_THZ1_D_MP10091_S20_R2_001_fastqc.html...\n",
      "Copying gs://transfer-amlproject/220610_MP10091_fastq/Reports/20220610_20_MV411_THZ1_D_MP10091_S20_R2_001_fastqc.zip...\n",
      "Copying gs://transfer-amlproject/220610_MP10091_fastq/Reports/20220610_21_MV411_JQ1MS2_A_MP10091_S21_R1_001_fastqc.html...\n",
      "Copying gs://transfer-amlproject/220610_MP10091_fastq/Reports/20220610_21_MV411_JQ1MS2_A_MP10091_S21_R1_001_fastqc.zip...\n",
      "Copying gs://transfer-amlproject/220610_MP10091_fastq/Reports/20220610_21_MV411_JQ1MS2_A_MP10091_S21_R2_001_fastqc.html...\n",
      "Copying gs://transfer-amlproject/220610_MP10091_fastq/Reports/20220610_21_MV411_JQ1MS2_A_MP10091_S21_R2_001_fastqc.zip...\n",
      "Copying gs://transfer-amlproject/220610_MP10091_fastq/Reports/20220610_22_MV411_JQ1MS2_B_MP10091_S22_R1_001_fastqc.html...\n",
      "Copying gs://transfer-amlproject/220610_MP10091_fastq/Reports/20220610_22_MV411_JQ1MS2_B_MP10091_S22_R1_001_fastqc.zip...\n",
      "Copying gs://transfer-amlproject/220610_MP10091_fastq/Reports/20220610_22_MV411_JQ1MS2_B_MP10091_S22_R2_001_fastqc.html...\n",
      "Copying gs://transfer-amlproject/220610_MP10091_fastq/Reports/20220610_22_MV411_JQ1MS2_B_MP10091_S22_R2_001_fastqc.zip...\n",
      "Copying gs://transfer-amlproject/220610_MP10091_fastq/Reports/20220610_23_MV411_JQ1MS2_C_MP10091_S23_R1_001_fastqc.html...\n",
      "Copying gs://transfer-amlproject/220610_MP10091_fastq/Reports/20220610_23_MV411_JQ1MS2_C_MP10091_S23_R1_001_fastqc.zip...\n",
      "Copying gs://transfer-amlproject/220610_MP10091_fastq/Reports/20220610_23_MV411_JQ1MS2_C_MP10091_S23_R2_001_fastqc.html...\n",
      "Copying gs://transfer-amlproject/220610_MP10091_fastq/Reports/20220610_23_MV411_JQ1MS2_C_MP10091_S23_R2_001_fastqc.zip...\n",
      "Copying gs://transfer-amlproject/220610_MP10091_fastq/Reports/20220610_24_MV411_JQ1MS2_D_MP10091_S24_R1_001_fastqc.html...\n",
      "Copying gs://transfer-amlproject/220610_MP10091_fastq/Reports/20220610_24_MV411_JQ1MS2_D_MP10091_S24_R1_001_fastqc.zip...\n",
      "Copying gs://transfer-amlproject/220610_MP10091_fastq/Reports/20220610_24_MV411_JQ1MS2_D_MP10091_S24_R2_001_fastqc.html...\n",
      "Copying gs://transfer-amlproject/220610_MP10091_fastq/Reports/20220610_24_MV411_JQ1MS2_D_MP10091_S24_R2_001_fastqc.zip...\n",
      "Copying gs://transfer-amlproject/220610_MP10091_fastq/Reports/20220610_25_MV411_JQ1THZ1_A_MP10091_S25_R1_001_fastqc.html...\n",
      "Copying gs://transfer-amlproject/220610_MP10091_fastq/Reports/20220610_25_MV411_JQ1THZ1_A_MP10091_S25_R1_001_fastqc.zip...\n",
      "Copying gs://transfer-amlproject/220610_MP10091_fastq/Reports/20220610_25_MV411_JQ1THZ1_A_MP10091_S25_R2_001_fastqc.zip...\n",
      "Copying gs://transfer-amlproject/220610_MP10091_fastq/Reports/20220610_25_MV411_JQ1THZ1_A_MP10091_S25_R2_001_fastqc.html...\n",
      "Copying gs://transfer-amlproject/220610_MP10091_fastq/Reports/20220610_26_MV411_JQ1THZ1_B_MP10091_S26_R1_001_fastqc.html...\n"
     ]
    },
    {
     "name": "stdout",
     "output_type": "stream",
     "text": [
      "Copying gs://transfer-amlproject/220610_MP10091_fastq/Reports/20220610_26_MV411_JQ1THZ1_B_MP10091_S26_R1_001_fastqc.zip...\n",
      "Copying gs://transfer-amlproject/220610_MP10091_fastq/Reports/20220610_26_MV411_JQ1THZ1_B_MP10091_S26_R2_001_fastqc.html...\n",
      "Copying gs://transfer-amlproject/220610_MP10091_fastq/Reports/20220610_26_MV411_JQ1THZ1_B_MP10091_S26_R2_001_fastqc.zip...\n",
      "Copying gs://transfer-amlproject/220610_MP10091_fastq/Reports/20220610_27_MV411_JQ1THZ1_C_MP10091_S27_R1_001_fastqc.html...\n",
      "Copying gs://transfer-amlproject/220610_MP10091_fastq/Reports/20220610_27_MV411_JQ1THZ1_C_MP10091_S27_R1_001_fastqc.zip...\n",
      "Copying gs://transfer-amlproject/220610_MP10091_fastq/Reports/20220610_27_MV411_JQ1THZ1_C_MP10091_S27_R2_001_fastqc.html...\n",
      "Copying gs://transfer-amlproject/220610_MP10091_fastq/Reports/20220610_28_MV411_JQ1THZ1_D_MP10091_S28_R1_001_fastqc.html...\n",
      "Copying gs://transfer-amlproject/220610_MP10091_fastq/Reports/20220610_27_MV411_JQ1THZ1_C_MP10091_S27_R2_001_fastqc.zip...\n",
      "Copying gs://transfer-amlproject/220610_MP10091_fastq/Reports/20220610_28_MV411_JQ1THZ1_D_MP10091_S28_R1_001_fastqc.zip...\n",
      "Copying gs://transfer-amlproject/220610_MP10091_fastq/Reports/20220610_28_MV411_JQ1THZ1_D_MP10091_S28_R2_001_fastqc.html...\n",
      "Copying gs://transfer-amlproject/220610_MP10091_fastq/Reports/20220610_2_MV411_DMSO_B_MP10091_S2_R1_001_fastqc.html...\n",
      "Copying gs://transfer-amlproject/220610_MP10091_fastq/Reports/20220610_28_MV411_JQ1THZ1_D_MP10091_S28_R2_001_fastqc.zip...\n",
      "Copying gs://transfer-amlproject/220610_MP10091_fastq/Reports/20220610_2_MV411_DMSO_B_MP10091_S2_R1_001_fastqc.zip...\n",
      "Copying gs://transfer-amlproject/220610_MP10091_fastq/Reports/20220610_2_MV411_DMSO_B_MP10091_S2_R2_001_fastqc.html...\n",
      "Copying gs://transfer-amlproject/220610_MP10091_fastq/Reports/20220610_2_MV411_DMSO_B_MP10091_S2_R2_001_fastqc.zip...\n",
      "Copying gs://transfer-amlproject/220610_MP10091_fastq/Reports/20220610_3_MV411_DMSO_C_MP10091_S3_R1_001_fastqc.html...\n",
      "Copying gs://transfer-amlproject/220610_MP10091_fastq/Reports/20220610_3_MV411_DMSO_C_MP10091_S3_R1_001_fastqc.zip...\n",
      "Copying gs://transfer-amlproject/220610_MP10091_fastq/Reports/20220610_3_MV411_DMSO_C_MP10091_S3_R2_001_fastqc.html...\n",
      "Copying gs://transfer-amlproject/220610_MP10091_fastq/Reports/20220610_3_MV411_DMSO_C_MP10091_S3_R2_001_fastqc.zip...\n",
      "Copying gs://transfer-amlproject/220610_MP10091_fastq/Reports/20220610_4_MV411_DMSO_D_MP10091_S4_R1_001_fastqc.html...\n",
      "Copying gs://transfer-amlproject/220610_MP10091_fastq/Reports/20220610_4_MV411_DMSO_D_MP10091_S4_R1_001_fastqc.zip...\n",
      "Copying gs://transfer-amlproject/220610_MP10091_fastq/Reports/20220610_4_MV411_DMSO_D_MP10091_S4_R2_001_fastqc.zip...\n",
      "Copying gs://transfer-amlproject/220610_MP10091_fastq/Reports/20220610_4_MV411_DMSO_D_MP10091_S4_R2_001_fastqc.html...\n",
      "Copying gs://transfer-amlproject/220610_MP10091_fastq/Reports/20220610_5_MV411_MS2_A_MP10091_S5_R1_001_fastqc.html...\n",
      "Copying gs://transfer-amlproject/220610_MP10091_fastq/Reports/20220610_5_MV411_MS2_A_MP10091_S5_R1_001_fastqc.zip...\n",
      "Copying gs://transfer-amlproject/220610_MP10091_fastq/Reports/20220610_5_MV411_MS2_A_MP10091_S5_R2_001_fastqc.html...\n",
      "Copying gs://transfer-amlproject/220610_MP10091_fastq/Reports/20220610_5_MV411_MS2_A_MP10091_S5_R2_001_fastqc.zip...\n",
      "Copying gs://transfer-amlproject/220610_MP10091_fastq/Reports/20220610_6_MV411_MS2_B_MP10091_S6_R1_001_fastqc.html...\n",
      "Copying gs://transfer-amlproject/220610_MP10091_fastq/Reports/20220610_6_MV411_MS2_B_MP10091_S6_R1_001_fastqc.zip...\n",
      "Copying gs://transfer-amlproject/220610_MP10091_fastq/Reports/20220610_6_MV411_MS2_B_MP10091_S6_R2_001_fastqc.html...\n",
      "Copying gs://transfer-amlproject/220610_MP10091_fastq/Reports/20220610_6_MV411_MS2_B_MP10091_S6_R2_001_fastqc.zip...\n",
      "Copying gs://transfer-amlproject/220610_MP10091_fastq/Reports/20220610_7_MV411_MS2_C_MP10091_S7_R1_001_fastqc.html...\n",
      "Copying gs://transfer-amlproject/220610_MP10091_fastq/Reports/20220610_7_MV411_MS2_C_MP10091_S7_R1_001_fastqc.zip...\n",
      "Copying gs://transfer-amlproject/220610_MP10091_fastq/Reports/20220610_7_MV411_MS2_C_MP10091_S7_R2_001_fastqc.html...\n",
      "Copying gs://transfer-amlproject/220610_MP10091_fastq/Reports/20220610_7_MV411_MS2_C_MP10091_S7_R2_001_fastqc.zip...\n",
      "Copying gs://transfer-amlproject/220610_MP10091_fastq/Reports/20220610_8_MV411_MS2_D_MP10091_S8_R1_001_fastqc.html...\n",
      "Copying gs://transfer-amlproject/220610_MP10091_fastq/Reports/20220610_8_MV411_MS2_D_MP10091_S8_R1_001_fastqc.zip...\n",
      "Copying gs://transfer-amlproject/220610_MP10091_fastq/Reports/20220610_8_MV411_MS2_D_MP10091_S8_R2_001_fastqc.html...\n",
      "Copying gs://transfer-amlproject/220610_MP10091_fastq/Reports/20220610_8_MV411_MS2_D_MP10091_S8_R2_001_fastqc.zip...\n",
      "Copying gs://transfer-amlproject/220610_MP10091_fastq/Reports/20220610_9_MV411_JQ1_A_MP10091_S9_R1_001_fastqc.html...\n",
      "Copying gs://transfer-amlproject/220610_MP10091_fastq/Reports/20220610_9_MV411_JQ1_A_MP10091_S9_R1_001_fastqc.zip...\n",
      "Copying gs://transfer-amlproject/220610_MP10091_fastq/Reports/20220610_9_MV411_JQ1_A_MP10091_S9_R2_001_fastqc.html...\n",
      "Copying gs://transfer-amlproject/220610_MP10091_fastq/Reports/20220610_9_MV411_JQ1_A_MP10091_S9_R2_001_fastqc.zip...\n",
      "- [112/112 files][ 53.1 MiB/ 53.1 MiB] 100% Done                                \n",
      "Operation completed over 112 objects/53.1 MiB.                                   \n",
      "Copying gs://transfer-amlproject/220610_MP10091_fastq/multiqc_data/multiqc.log...\n",
      "Copying gs://transfer-amlproject/220610_MP10091_fastq/multiqc_data/multiqc_data.json...\n",
      "Copying gs://transfer-amlproject/220610_MP10091_fastq/multiqc_data/multiqc_fastqc.txt...\n",
      "Copying gs://transfer-amlproject/220610_MP10091_fastq/multiqc_data/multiqc_general_stats.txt...\n",
      "Copying gs://transfer-amlproject/220610_MP10091_fastq/multiqc_data/multiqc_qualimap_bamqc_genome_results.txt...\n",
      "Copying gs://transfer-amlproject/220610_MP10091_fastq/multiqc_data/multiqc_sources.txt...\n",
      "/ [6/6 files][  3.4 MiB/  3.4 MiB] 100% Done                                    \n",
      "Operation completed over 6 objects/3.4 MiB.                                      \n"
     ]
    }
   ],
   "source": [
    "# transfer qc files\n",
    "! gsutil -m cp gs://transfer-amlproject/$loc/multiqc_report.html $location/qc/\n",
    "! gsutil -m cp -r gs://transfer-amlproject/$loc/Reports/ $location/qc/\n",
    "! gsutil -m cp -r gs://transfer-amlproject/$loc/multiqc_data/ $location/qc/"
   ]
  },
  {
   "cell_type": "code",
   "execution_count": 15,
   "id": "f9b9bc57",
   "metadata": {},
   "outputs": [],
   "source": [
    "! cp $location/qc/multiqc_report.html ../results/slamseq_$project"
   ]
  },
  {
   "cell_type": "code",
   "execution_count": 16,
   "id": "3e8aea5d",
   "metadata": {},
   "outputs": [],
   "source": [
    "fastqs = ! gsutil ls gs://transfer-amlproject/$loc/*.gz"
   ]
  },
  {
   "cell_type": "markdown",
   "id": "fbbd665e",
   "metadata": {},
   "source": [
    "add sample names to AML sample tracker google sheet (RNA_tracker_JK)"
   ]
  },
  {
   "cell_type": "code",
   "execution_count": 17,
   "id": "b100f1ed",
   "metadata": {},
   "outputs": [
    {
     "name": "stdout",
     "output_type": "stream",
     "text": [
      "56\n"
     ]
    },
    {
     "data": {
      "text/plain": [
       "['gs://transfer-amlproject/220610_MP10091_fastq/20220610_10_MV411_JQ1_B_MP10091_S10',\n",
       " 'gs://transfer-amlproject/220610_MP10091_fastq/20220610_11_MV411_JQ1_C_MP10091_S11',\n",
       " 'gs://transfer-amlproject/220610_MP10091_fastq/20220610_12_MV411_JQ1_D_MP10091_S12',\n",
       " 'gs://transfer-amlproject/220610_MP10091_fastq/20220610_13_MV411_MYCi361_A_MP10091_S13',\n",
       " 'gs://transfer-amlproject/220610_MP10091_fastq/20220610_14_MV411_MYCi361_B_MP10091_S14',\n",
       " 'gs://transfer-amlproject/220610_MP10091_fastq/20220610_15_MV411_MYCi361_C_MP10091_S15',\n",
       " 'gs://transfer-amlproject/220610_MP10091_fastq/20220610_16_MV411_MYCi361_D_MP10091_S16',\n",
       " 'gs://transfer-amlproject/220610_MP10091_fastq/20220610_17_MV411_THZ1_A_MP10091_S17',\n",
       " 'gs://transfer-amlproject/220610_MP10091_fastq/20220610_18_MV411_THZ1_B_MP10091_S18',\n",
       " 'gs://transfer-amlproject/220610_MP10091_fastq/20220610_19_MV411_THZ1_C_MP10091_S19',\n",
       " 'gs://transfer-amlproject/220610_MP10091_fastq/20220610_1_MV411_DMSO_A_MP10091_S1',\n",
       " 'gs://transfer-amlproject/220610_MP10091_fastq/20220610_20_MV411_THZ1_D_MP10091_S20',\n",
       " 'gs://transfer-amlproject/220610_MP10091_fastq/20220610_21_MV411_JQ1MS2_A_MP10091_S21',\n",
       " 'gs://transfer-amlproject/220610_MP10091_fastq/20220610_22_MV411_JQ1MS2_B_MP10091_S22',\n",
       " 'gs://transfer-amlproject/220610_MP10091_fastq/20220610_23_MV411_JQ1MS2_C_MP10091_S23',\n",
       " 'gs://transfer-amlproject/220610_MP10091_fastq/20220610_24_MV411_JQ1MS2_D_MP10091_S24',\n",
       " 'gs://transfer-amlproject/220610_MP10091_fastq/20220610_25_MV411_JQ1THZ1_A_MP10091_S25',\n",
       " 'gs://transfer-amlproject/220610_MP10091_fastq/20220610_26_MV411_JQ1THZ1_B_MP10091_S26',\n",
       " 'gs://transfer-amlproject/220610_MP10091_fastq/20220610_27_MV411_JQ1THZ1_C_MP10091_S27',\n",
       " 'gs://transfer-amlproject/220610_MP10091_fastq/20220610_28_MV411_JQ1THZ1_D_MP10091_S28',\n",
       " 'gs://transfer-amlproject/220610_MP10091_fastq/20220610_2_MV411_DMSO_B_MP10091_S2',\n",
       " 'gs://transfer-amlproject/220610_MP10091_fastq/20220610_3_MV411_DMSO_C_MP10091_S3',\n",
       " 'gs://transfer-amlproject/220610_MP10091_fastq/20220610_4_MV411_DMSO_D_MP10091_S4',\n",
       " 'gs://transfer-amlproject/220610_MP10091_fastq/20220610_5_MV411_MS2_A_MP10091_S5',\n",
       " 'gs://transfer-amlproject/220610_MP10091_fastq/20220610_6_MV411_MS2_B_MP10091_S6',\n",
       " 'gs://transfer-amlproject/220610_MP10091_fastq/20220610_7_MV411_MS2_C_MP10091_S7',\n",
       " 'gs://transfer-amlproject/220610_MP10091_fastq/20220610_8_MV411_MS2_D_MP10091_S8',\n",
       " 'gs://transfer-amlproject/220610_MP10091_fastq/20220610_9_MV411_JQ1_A_MP10091_S9']"
      ]
     },
     "execution_count": 17,
     "metadata": {},
     "output_type": "execute_result"
    }
   ],
   "source": [
    "print(len(fastqs))\n",
    "[f.split(\"_R\")[0] for f in fastqs[::2]]"
   ]
  },
  {
   "cell_type": "code",
   "execution_count": 18,
   "id": "9fa47c64",
   "metadata": {
    "collapsed": true
   },
   "outputs": [
    {
     "name": "stdout",
     "output_type": "stream",
     "text": [
      "56\n",
      "20220610_1_MV411_DMSO_A_MP10091_S1\n",
      "20220610_2_MV411_DMSO_B_MP10091_S2\n",
      "20220610_3_MV411_DMSO_C_MP10091_S3\n",
      "20220610_4_MV411_DMSO_D_MP10091_S4\n",
      "20220610_5_MV411_MS2_A_MP10091_S5\n",
      "20220610_6_MV411_MS2_B_MP10091_S6\n",
      "20220610_7_MV411_MS2_C_MP10091_S7\n",
      "20220610_8_MV411_MS2_D_MP10091_S8\n",
      "20220610_9_MV411_JQ1_A_MP10091_S9\n",
      "20220610_10_MV411_JQ1_B_MP10091_S10\n",
      "20220610_11_MV411_JQ1_C_MP10091_S11\n",
      "20220610_12_MV411_JQ1_D_MP10091_S12\n",
      "20220610_13_MV411_MYCi361_A_MP10091_S13\n",
      "20220610_14_MV411_MYCi361_B_MP10091_S14\n",
      "20220610_15_MV411_MYCi361_C_MP10091_S15\n",
      "20220610_16_MV411_MYCi361_D_MP10091_S16\n",
      "20220610_17_MV411_THZ1_A_MP10091_S17\n",
      "20220610_18_MV411_THZ1_B_MP10091_S18\n",
      "20220610_19_MV411_THZ1_C_MP10091_S19\n",
      "20220610_20_MV411_THZ1_D_MP10091_S20\n",
      "20220610_21_MV411_JQ1MS2_A_MP10091_S21\n",
      "20220610_22_MV411_JQ1MS2_B_MP10091_S22\n",
      "20220610_23_MV411_JQ1MS2_C_MP10091_S23\n",
      "20220610_24_MV411_JQ1MS2_D_MP10091_S24\n",
      "20220610_25_MV411_JQ1THZ1_A_MP10091_S25\n",
      "20220610_26_MV411_JQ1THZ1_B_MP10091_S26\n",
      "20220610_27_MV411_JQ1THZ1_C_MP10091_S27\n",
      "20220610_28_MV411_JQ1THZ1_D_MP10091_S28\n"
     ]
    }
   ],
   "source": [
    "fastqs = [fastq.split(\"/\")[-1] for fastq in os_sorted(fastqs)]\n",
    "print(len(fastqs))\n",
    "# add sample names to AML sample tracker google sheet\n",
    "for val1, val2 in h.grouped(fastqs, 2):\n",
    "    print(val1.split(\"_R\")[0])"
   ]
  },
  {
   "cell_type": "code",
   "execution_count": 19,
   "id": "4523ff19",
   "metadata": {
    "collapsed": true
   },
   "outputs": [
    {
     "name": "stdout",
     "output_type": "stream",
     "text": [
      "Copying gs://transfer-amlproject/220610_MP10091_fastq/20220610_10_MV411_JQ1_B_MP10091_S10_R1_001.fastq.gz...\n",
      "Copying gs://transfer-amlproject/220610_MP10091_fastq/20220610_10_MV411_JQ1_B_MP10091_S10_R2_001.fastq.gz...\n",
      "Copying gs://transfer-amlproject/220610_MP10091_fastq/20220610_11_MV411_JQ1_C_MP10091_S11_R1_001.fastq.gz...\n",
      "Copying gs://transfer-amlproject/220610_MP10091_fastq/20220610_12_MV411_JQ1_D_MP10091_S12_R1_001.fastq.gz...\n",
      "Copying gs://transfer-amlproject/220610_MP10091_fastq/20220610_11_MV411_JQ1_C_MP10091_S11_R2_001.fastq.gz...\n",
      "Copying gs://transfer-amlproject/220610_MP10091_fastq/20220610_12_MV411_JQ1_D_MP10091_S12_R2_001.fastq.gz...\n",
      "Copying gs://transfer-amlproject/220610_MP10091_fastq/20220610_13_MV411_MYCi361_A_MP10091_S13_R1_001.fastq.gz...\n",
      "Copying gs://transfer-amlproject/220610_MP10091_fastq/20220610_13_MV411_MYCi361_A_MP10091_S13_R2_001.fastq.gz...\n",
      "Copying gs://transfer-amlproject/220610_MP10091_fastq/20220610_14_MV411_MYCi361_B_MP10091_S14_R1_001.fastq.gz...\n",
      "Copying gs://transfer-amlproject/220610_MP10091_fastq/20220610_14_MV411_MYCi361_B_MP10091_S14_R2_001.fastq.gz...\n",
      "Copying gs://transfer-amlproject/220610_MP10091_fastq/20220610_15_MV411_MYCi361_C_MP10091_S15_R1_001.fastq.gz...\n",
      "Copying gs://transfer-amlproject/220610_MP10091_fastq/20220610_16_MV411_MYCi361_D_MP10091_S16_R1_001.fastq.gz...\n",
      "Copying gs://transfer-amlproject/220610_MP10091_fastq/20220610_16_MV411_MYCi361_D_MP10091_S16_R2_001.fastq.gz...\n",
      "Copying gs://transfer-amlproject/220610_MP10091_fastq/20220610_17_MV411_THZ1_A_MP10091_S17_R1_001.fastq.gz...\n",
      "Copying gs://transfer-amlproject/220610_MP10091_fastq/20220610_15_MV411_MYCi361_C_MP10091_S15_R2_001.fastq.gz...\n",
      "Copying gs://transfer-amlproject/220610_MP10091_fastq/20220610_1_MV411_DMSO_A_MP10091_S1_R1_001.fastq.gz...\n",
      "Copying gs://transfer-amlproject/220610_MP10091_fastq/20220610_17_MV411_THZ1_A_MP10091_S17_R2_001.fastq.gz...\n",
      "Copying gs://transfer-amlproject/220610_MP10091_fastq/20220610_18_MV411_THZ1_B_MP10091_S18_R1_001.fastq.gz...\n",
      "Copying gs://transfer-amlproject/220610_MP10091_fastq/20220610_18_MV411_THZ1_B_MP10091_S18_R2_001.fastq.gz...\n",
      "Copying gs://transfer-amlproject/220610_MP10091_fastq/20220610_19_MV411_THZ1_C_MP10091_S19_R1_001.fastq.gz...\n",
      "Copying gs://transfer-amlproject/220610_MP10091_fastq/20220610_1_MV411_DMSO_A_MP10091_S1_R2_001.fastq.gz...\n",
      "Copying gs://transfer-amlproject/220610_MP10091_fastq/20220610_19_MV411_THZ1_C_MP10091_S19_R2_001.fastq.gz...\n",
      "Copying gs://transfer-amlproject/220610_MP10091_fastq/20220610_20_MV411_THZ1_D_MP10091_S20_R1_001.fastq.gz...\n",
      "Copying gs://transfer-amlproject/220610_MP10091_fastq/20220610_24_MV411_JQ1MS2_D_MP10091_S24_R2_001.fastq.gz...\n",
      "Copying gs://transfer-amlproject/220610_MP10091_fastq/20220610_21_MV411_JQ1MS2_A_MP10091_S21_R2_001.fastq.gz...\n",
      "Copying gs://transfer-amlproject/220610_MP10091_fastq/20220610_22_MV411_JQ1MS2_B_MP10091_S22_R2_001.fastq.gz...\n",
      "Copying gs://transfer-amlproject/220610_MP10091_fastq/20220610_25_MV411_JQ1THZ1_A_MP10091_S25_R2_001.fastq.gz...\n",
      "Copying gs://transfer-amlproject/220610_MP10091_fastq/20220610_20_MV411_THZ1_D_MP10091_S20_R2_001.fastq.gz...\n",
      "Copying gs://transfer-amlproject/220610_MP10091_fastq/20220610_22_MV411_JQ1MS2_B_MP10091_S22_R1_001.fastq.gz...\n",
      "Copying gs://transfer-amlproject/220610_MP10091_fastq/20220610_25_MV411_JQ1THZ1_A_MP10091_S25_R1_001.fastq.gz...\n",
      "Copying gs://transfer-amlproject/220610_MP10091_fastq/20220610_26_MV411_JQ1THZ1_B_MP10091_S26_R2_001.fastq.gz...\n",
      "Copying gs://transfer-amlproject/220610_MP10091_fastq/20220610_23_MV411_JQ1MS2_C_MP10091_S23_R1_001.fastq.gz...\n",
      "Copying gs://transfer-amlproject/220610_MP10091_fastq/20220610_27_MV411_JQ1THZ1_C_MP10091_S27_R2_001.fastq.gz...\n",
      "Copying gs://transfer-amlproject/220610_MP10091_fastq/20220610_23_MV411_JQ1MS2_C_MP10091_S23_R2_001.fastq.gz...\n",
      "Copying gs://transfer-amlproject/220610_MP10091_fastq/20220610_24_MV411_JQ1MS2_D_MP10091_S24_R1_001.fastq.gz...\n",
      "Copying gs://transfer-amlproject/220610_MP10091_fastq/20220610_21_MV411_JQ1MS2_A_MP10091_S21_R1_001.fastq.gz...\n",
      "Copying gs://transfer-amlproject/220610_MP10091_fastq/20220610_26_MV411_JQ1THZ1_B_MP10091_S26_R1_001.fastq.gz...\n",
      "Copying gs://transfer-amlproject/220610_MP10091_fastq/20220610_28_MV411_JQ1THZ1_D_MP10091_S28_R2_001.fastq.gz...\n",
      "Copying gs://transfer-amlproject/220610_MP10091_fastq/20220610_27_MV411_JQ1THZ1_C_MP10091_S27_R1_001.fastq.gz...\n",
      "Copying gs://transfer-amlproject/220610_MP10091_fastq/20220610_28_MV411_JQ1THZ1_D_MP10091_S28_R1_001.fastq.gz...\n",
      "Copying gs://transfer-amlproject/220610_MP10091_fastq/20220610_2_MV411_DMSO_B_MP10091_S2_R1_001.fastq.gz...\n",
      "Copying gs://transfer-amlproject/220610_MP10091_fastq/20220610_2_MV411_DMSO_B_MP10091_S2_R2_001.fastq.gz...\n",
      "Copying gs://transfer-amlproject/220610_MP10091_fastq/20220610_3_MV411_DMSO_C_MP10091_S3_R1_001.fastq.gz...\n",
      "Copying gs://transfer-amlproject/220610_MP10091_fastq/20220610_3_MV411_DMSO_C_MP10091_S3_R2_001.fastq.gz...\n",
      "Copying gs://transfer-amlproject/220610_MP10091_fastq/20220610_4_MV411_DMSO_D_MP10091_S4_R1_001.fastq.gz...\n",
      "Copying gs://transfer-amlproject/220610_MP10091_fastq/20220610_4_MV411_DMSO_D_MP10091_S4_R2_001.fastq.gz...\n",
      "Copying gs://transfer-amlproject/220610_MP10091_fastq/20220610_5_MV411_MS2_A_MP10091_S5_R1_001.fastq.gz...\n",
      "Copying gs://transfer-amlproject/220610_MP10091_fastq/20220610_5_MV411_MS2_A_MP10091_S5_R2_001.fastq.gz...\n",
      "Copying gs://transfer-amlproject/220610_MP10091_fastq/20220610_6_MV411_MS2_B_MP10091_S6_R1_001.fastq.gz...\n",
      "Copying gs://transfer-amlproject/220610_MP10091_fastq/20220610_6_MV411_MS2_B_MP10091_S6_R2_001.fastq.gz...\n",
      "Copying gs://transfer-amlproject/220610_MP10091_fastq/20220610_7_MV411_MS2_C_MP10091_S7_R1_001.fastq.gz...\n",
      "Copying gs://transfer-amlproject/220610_MP10091_fastq/20220610_7_MV411_MS2_C_MP10091_S7_R2_001.fastq.gz...\n",
      "Copying gs://transfer-amlproject/220610_MP10091_fastq/20220610_8_MV411_MS2_D_MP10091_S8_R1_001.fastq.gz...\n",
      "Copying gs://transfer-amlproject/220610_MP10091_fastq/20220610_8_MV411_MS2_D_MP10091_S8_R2_001.fastq.gz...\n",
      "Copying gs://transfer-amlproject/220610_MP10091_fastq/20220610_9_MV411_JQ1_A_MP10091_S9_R1_001.fastq.gz...\n",
      "Copying gs://transfer-amlproject/220610_MP10091_fastq/20220610_9_MV411_JQ1_A_MP10091_S9_R2_001.fastq.gz...\n",
      "/ [56/56 files][216.6 GiB/216.6 GiB] 100% Done  94.2 MiB/s ETA 00:00:00         \n",
      "Operation completed over 56 objects/216.6 GiB.                                   \n"
     ]
    }
   ],
   "source": [
    "# transfer fastqs\n",
    "! gsutil -m cp gs://transfer-amlproject/$loc/*.fastq.gz ../$location/fastqs/"
   ]
  },
  {
   "cell_type": "markdown",
   "id": "77d3cc78",
   "metadata": {},
   "source": [
    "## rename local fastqs"
   ]
  },
  {
   "cell_type": "code",
   "execution_count": 20,
   "id": "2cdeab0a",
   "metadata": {
    "collapsed": true
   },
   "outputs": [
    {
     "name": "stdout",
     "output_type": "stream",
     "text": [
      "../../data/slamseq_inhibitors_v2/fastqs\n"
     ]
    },
    {
     "data": {
      "text/plain": [
       "['20220610_1_MV411_DMSO_A_MP10091_S1_R1_001.fastq.gz',\n",
       " '20220610_1_MV411_DMSO_A_MP10091_S1_R2_001.fastq.gz',\n",
       " '20220610_2_MV411_DMSO_B_MP10091_S2_R1_001.fastq.gz',\n",
       " '20220610_2_MV411_DMSO_B_MP10091_S2_R2_001.fastq.gz',\n",
       " '20220610_3_MV411_DMSO_C_MP10091_S3_R1_001.fastq.gz',\n",
       " '20220610_3_MV411_DMSO_C_MP10091_S3_R2_001.fastq.gz',\n",
       " '20220610_4_MV411_DMSO_D_MP10091_S4_R1_001.fastq.gz',\n",
       " '20220610_4_MV411_DMSO_D_MP10091_S4_R2_001.fastq.gz',\n",
       " '20220610_5_MV411_MS2_A_MP10091_S5_R1_001.fastq.gz',\n",
       " '20220610_5_MV411_MS2_A_MP10091_S5_R2_001.fastq.gz',\n",
       " '20220610_6_MV411_MS2_B_MP10091_S6_R1_001.fastq.gz',\n",
       " '20220610_6_MV411_MS2_B_MP10091_S6_R2_001.fastq.gz',\n",
       " '20220610_7_MV411_MS2_C_MP10091_S7_R1_001.fastq.gz',\n",
       " '20220610_7_MV411_MS2_C_MP10091_S7_R2_001.fastq.gz',\n",
       " '20220610_8_MV411_MS2_D_MP10091_S8_R1_001.fastq.gz',\n",
       " '20220610_8_MV411_MS2_D_MP10091_S8_R2_001.fastq.gz',\n",
       " '20220610_9_MV411_JQ1_A_MP10091_S9_R1_001.fastq.gz',\n",
       " '20220610_9_MV411_JQ1_A_MP10091_S9_R2_001.fastq.gz',\n",
       " '20220610_10_MV411_JQ1_B_MP10091_S10_R1_001.fastq.gz',\n",
       " '20220610_10_MV411_JQ1_B_MP10091_S10_R2_001.fastq.gz',\n",
       " '20220610_11_MV411_JQ1_C_MP10091_S11_R1_001.fastq.gz',\n",
       " '20220610_11_MV411_JQ1_C_MP10091_S11_R2_001.fastq.gz',\n",
       " '20220610_12_MV411_JQ1_D_MP10091_S12_R1_001.fastq.gz',\n",
       " '20220610_12_MV411_JQ1_D_MP10091_S12_R2_001.fastq.gz',\n",
       " '20220610_13_MV411_MYCi361_A_MP10091_S13_R1_001.fastq.gz',\n",
       " '20220610_13_MV411_MYCi361_A_MP10091_S13_R2_001.fastq.gz',\n",
       " '20220610_14_MV411_MYCi361_B_MP10091_S14_R1_001.fastq.gz',\n",
       " '20220610_14_MV411_MYCi361_B_MP10091_S14_R2_001.fastq.gz',\n",
       " '20220610_15_MV411_MYCi361_C_MP10091_S15_R1_001.fastq.gz',\n",
       " '20220610_15_MV411_MYCi361_C_MP10091_S15_R2_001.fastq.gz',\n",
       " '20220610_16_MV411_MYCi361_D_MP10091_S16_R1_001.fastq.gz',\n",
       " '20220610_16_MV411_MYCi361_D_MP10091_S16_R2_001.fastq.gz',\n",
       " '20220610_17_MV411_THZ1_A_MP10091_S17_R1_001.fastq.gz',\n",
       " '20220610_17_MV411_THZ1_A_MP10091_S17_R2_001.fastq.gz',\n",
       " '20220610_18_MV411_THZ1_B_MP10091_S18_R1_001.fastq.gz',\n",
       " '20220610_18_MV411_THZ1_B_MP10091_S18_R2_001.fastq.gz',\n",
       " '20220610_19_MV411_THZ1_C_MP10091_S19_R1_001.fastq.gz',\n",
       " '20220610_19_MV411_THZ1_C_MP10091_S19_R2_001.fastq.gz',\n",
       " '20220610_20_MV411_THZ1_D_MP10091_S20_R1_001.fastq.gz',\n",
       " '20220610_20_MV411_THZ1_D_MP10091_S20_R2_001.fastq.gz',\n",
       " '20220610_21_MV411_JQ1MS2_A_MP10091_S21_R1_001.fastq.gz',\n",
       " '20220610_21_MV411_JQ1MS2_A_MP10091_S21_R2_001.fastq.gz',\n",
       " '20220610_22_MV411_JQ1MS2_B_MP10091_S22_R1_001.fastq.gz',\n",
       " '20220610_22_MV411_JQ1MS2_B_MP10091_S22_R2_001.fastq.gz',\n",
       " '20220610_23_MV411_JQ1MS2_C_MP10091_S23_R1_001.fastq.gz',\n",
       " '20220610_23_MV411_JQ1MS2_C_MP10091_S23_R2_001.fastq.gz',\n",
       " '20220610_24_MV411_JQ1MS2_D_MP10091_S24_R1_001.fastq.gz',\n",
       " '20220610_24_MV411_JQ1MS2_D_MP10091_S24_R2_001.fastq.gz',\n",
       " '20220610_25_MV411_JQ1THZ1_A_MP10091_S25_R1_001.fastq.gz',\n",
       " '20220610_25_MV411_JQ1THZ1_A_MP10091_S25_R2_001.fastq.gz',\n",
       " '20220610_26_MV411_JQ1THZ1_B_MP10091_S26_R1_001.fastq.gz',\n",
       " '20220610_26_MV411_JQ1THZ1_B_MP10091_S26_R2_001.fastq.gz',\n",
       " '20220610_27_MV411_JQ1THZ1_C_MP10091_S27_R1_001.fastq.gz',\n",
       " '20220610_27_MV411_JQ1THZ1_C_MP10091_S27_R2_001.fastq.gz',\n",
       " '20220610_28_MV411_JQ1THZ1_D_MP10091_S28_R1_001.fastq.gz',\n",
       " '20220610_28_MV411_JQ1THZ1_D_MP10091_S28_R2_001.fastq.gz']"
      ]
     },
     "execution_count": 20,
     "metadata": {},
     "output_type": "execute_result"
    }
   ],
   "source": [
    "fastq_folder = \"../\"+location+\"fastqs\"\n",
    "print(fastq_folder)\n",
    "fastqs = ! ls $fastq_folder\n",
    "fastqs = os_sorted(fastqs)\n",
    "fastqs"
   ]
  },
  {
   "cell_type": "code",
   "execution_count": 21,
   "id": "8bb05b96",
   "metadata": {},
   "outputs": [],
   "source": [
    "from gsheets import Sheets\n",
    "sheets = Sheets.from_files('~/.client_secret_web.json', '~/.storage.json')\n",
    "url = \"https://docs.google.com/spreadsheets/d/1yFLjYB1McU530JnLgL0QIMAKIkVl3kl0_LCHje2gk8U/edit?ts=5fab1071#gid=738732237\"\n",
    "gsheet = sheets.get(url).sheets[12].to_frame()"
   ]
  },
  {
   "cell_type": "code",
   "execution_count": 22,
   "id": "617c652c",
   "metadata": {},
   "outputs": [
    {
     "name": "stdout",
     "output_type": "stream",
     "text": [
      "(28, 2)\n"
     ]
    }
   ],
   "source": [
    "# get new sample names from AML sample tracker - RNA_tracker_JK\n",
    "idx = gsheet.index[gsheet['batch'] == project] # get first row with project number\n",
    "sample_info = gsheet.loc[idx[0]:, [\"prev_name\", \"name\"]]\n",
    "sample_info = sample_info.iloc[:int(len(fastqs)/2),]\n",
    "print(sample_info.shape)"
   ]
  },
  {
   "cell_type": "code",
   "execution_count": 23,
   "id": "64c90e8d",
   "metadata": {},
   "outputs": [],
   "source": [
    "# make dict with names\n",
    "rename = dict(zip(sample_info.prev_name, sample_info.name))\n",
    "\n",
    "# rename fastqs locally\n",
    "for val in fastqs:\n",
    "    rep  = val\n",
    "    for old, new in rename.items():\n",
    "        rep = rep.replace(old, new)\n",
    "    if rep != val:\n",
    "        ! mv $fastq_folder/$val $fastq_folder/$rep"
   ]
  },
  {
   "cell_type": "markdown",
   "id": "5ab8334a",
   "metadata": {},
   "source": [
    "# Processing"
   ]
  },
  {
   "cell_type": "code",
   "execution_count": 24,
   "id": "c29edd79",
   "metadata": {},
   "outputs": [
    {
     "data": {
      "text/plain": [
       "'inhibitors_v2'"
      ]
     },
     "execution_count": 24,
     "metadata": {},
     "output_type": "execute_result"
    }
   ],
   "source": [
    "project"
   ]
  },
  {
   "cell_type": "code",
   "execution_count": 25,
   "id": "73b8ab5b",
   "metadata": {
    "collapsed": true
   },
   "outputs": [
    {
     "name": "stdout",
     "output_type": "stream",
     "text": [
      "../../data/slamseq_inhibitors_v2/fastqs\n"
     ]
    },
    {
     "data": {
      "text/plain": [
       "['../../data/slamseq_inhibitors_v2/fastqs/mr590-MV411-DMSO_1h-r1_R1_001.fastq.gz',\n",
       " '../../data/slamseq_inhibitors_v2/fastqs/mr591-MV411-DMSO_1h-r2_R1_001.fastq.gz',\n",
       " '../../data/slamseq_inhibitors_v2/fastqs/mr592-MV411-DMSO_1h-r3_R1_001.fastq.gz',\n",
       " '../../data/slamseq_inhibitors_v2/fastqs/mr593-MV411-DMSO_1h-r4_R1_001.fastq.gz',\n",
       " '../../data/slamseq_inhibitors_v2/fastqs/mr594-MV411-MS2_1h-r1_R1_001.fastq.gz',\n",
       " '../../data/slamseq_inhibitors_v2/fastqs/mr595-MV411-MS2_1h-r2_R1_001.fastq.gz',\n",
       " '../../data/slamseq_inhibitors_v2/fastqs/mr596-MV411-MS2_1h-r3_R1_001.fastq.gz',\n",
       " '../../data/slamseq_inhibitors_v2/fastqs/mr597-MV411-MS2_1h-r4_R1_001.fastq.gz',\n",
       " '../../data/slamseq_inhibitors_v2/fastqs/mr598-MV411-JQ1_1h-r1_R1_001.fastq.gz',\n",
       " '../../data/slamseq_inhibitors_v2/fastqs/mr599-MV411-JQ1_1h-r2_R1_001.fastq.gz',\n",
       " '../../data/slamseq_inhibitors_v2/fastqs/mr600-MV411-JQ1_1h-r3_R1_001.fastq.gz',\n",
       " '../../data/slamseq_inhibitors_v2/fastqs/mr601-MV411-JQ1_1h-r4_R1_001.fastq.gz',\n",
       " '../../data/slamseq_inhibitors_v2/fastqs/mr602-MV411-MYCi361_1h-r1_R1_001.fastq.gz',\n",
       " '../../data/slamseq_inhibitors_v2/fastqs/mr603-MV411-MYCi361_1h-r2_R1_001.fastq.gz',\n",
       " '../../data/slamseq_inhibitors_v2/fastqs/mr604-MV411-MYCi361_1h-r3_R1_001.fastq.gz',\n",
       " '../../data/slamseq_inhibitors_v2/fastqs/mr605-MV411-MYCi361_1h-r4_R1_001.fastq.gz',\n",
       " '../../data/slamseq_inhibitors_v2/fastqs/mr606-MV411-THZ1_1h-r1_R1_001.fastq.gz',\n",
       " '../../data/slamseq_inhibitors_v2/fastqs/mr607-MV411-THZ1_1h-r2_R1_001.fastq.gz',\n",
       " '../../data/slamseq_inhibitors_v2/fastqs/mr608-MV411-THZ1_1h-r3_R1_001.fastq.gz',\n",
       " '../../data/slamseq_inhibitors_v2/fastqs/mr609-MV411-THZ1_1h-r4_R1_001.fastq.gz',\n",
       " '../../data/slamseq_inhibitors_v2/fastqs/mr610-MV411-JQ1_MS2_1h-r1_R1_001.fastq.gz',\n",
       " '../../data/slamseq_inhibitors_v2/fastqs/mr611-MV411-JQ1_MS2_1h-r2_R1_001.fastq.gz',\n",
       " '../../data/slamseq_inhibitors_v2/fastqs/mr612-MV411-JQ1_MS2_1h-r3_R1_001.fastq.gz',\n",
       " '../../data/slamseq_inhibitors_v2/fastqs/mr613-MV411-JQ1_MS2_1h-r4_R1_001.fastq.gz',\n",
       " '../../data/slamseq_inhibitors_v2/fastqs/mr614-MV411-JQ1_THZ1_1h-r1_R1_001.fastq.gz',\n",
       " '../../data/slamseq_inhibitors_v2/fastqs/mr615-MV411-JQ1_THZ1_1h-r2_R1_001.fastq.gz',\n",
       " '../../data/slamseq_inhibitors_v2/fastqs/mr616-MV411-JQ1_THZ1_1h-r3_R1_001.fastq.gz',\n",
       " '../../data/slamseq_inhibitors_v2/fastqs/mr617-MV411-JQ1_THZ1_1h-r4_R1_001.fastq.gz']"
      ]
     },
     "execution_count": 25,
     "metadata": {},
     "output_type": "execute_result"
    }
   ],
   "source": [
    "fastq_folder = \"../\"+location+\"fastqs\"\n",
    "print(fastq_folder)\n",
    "fastqs = ! ls $fastq_folder/*fastq.gz\n",
    "fastqs[::2]"
   ]
  },
  {
   "cell_type": "markdown",
   "id": "d7dd9e5e",
   "metadata": {},
   "source": [
    "## trim_galore"
   ]
  },
  {
   "cell_type": "code",
   "execution_count": 31,
   "id": "a20a1d20",
   "metadata": {},
   "outputs": [
    {
     "name": "stdout",
     "output_type": "stream",
     "text": [
      "mr598-MV411-JQ1_1h-r1_R1_001.fastq.gz\n",
      "mr599-MV411-JQ1_1h-r2_R1_001.fastq.gz\n",
      "mr600-MV411-JQ1_1h-r3_R1_001.fastq.gz\n",
      "mr601-MV411-JQ1_1h-r4_R1_001.fastq.gz\n",
      "mr602-MV411-MYCi361_1h-r1_R1_001.fastq.gz\n",
      "mr603-MV411-MYCi361_1h-r2_R1_001.fastq.gz\n",
      "mr604-MV411-MYCi361_1h-r3_R1_001.fastq.gz\n",
      "mr605-MV411-MYCi361_1h-r4_R1_001.fastq.gz\n",
      "mr606-MV411-THZ1_1h-r1_R1_001.fastq.gz\n",
      "mr607-MV411-THZ1_1h-r2_R1_001.fastq.gz\n",
      "mr608-MV411-THZ1_1h-r3_R1_001.fastq.gz\n",
      "mr609-MV411-THZ1_1h-r4_R1_001.fastq.gz\n",
      "mr610-MV411-JQ1_MS2_1h-r1_R1_001.fastq.gz\n",
      "mr611-MV411-JQ1_MS2_1h-r2_R1_001.fastq.gz\n",
      "mr612-MV411-JQ1_MS2_1h-r3_R1_001.fastq.gz\n",
      "mr613-MV411-JQ1_MS2_1h-r4_R1_001.fastq.gz\n",
      "mr614-MV411-JQ1_THZ1_1h-r1_R1_001.fastq.gz\n",
      "mr615-MV411-JQ1_THZ1_1h-r2_R1_001.fastq.gz\n",
      "mr616-MV411-JQ1_THZ1_1h-r3_R1_001.fastq.gz\n",
      "mr617-MV411-JQ1_THZ1_1h-r4_R1_001.fastq.gz\n"
     ]
    }
   ],
   "source": [
    "for val1, val2 in h.grouped(fastqs[16:], 2):\n",
    "    print(os.path.basename(val1))"
   ]
  },
  {
   "cell_type": "code",
   "execution_count": null,
   "id": "29448ebd",
   "metadata": {},
   "outputs": [],
   "source": [
    "%%time\n",
    "h.parrun(['trim_galore --paired --cores 8 --retain_unpaired -stringency 3\\\n",
    " --illumina '+val1+' '+val2+' -o '+fastq_folder for val1, val2 in h.grouped(fastqs[16:], 2)], 2)"
   ]
  },
  {
   "cell_type": "markdown",
   "id": "2d989949",
   "metadata": {},
   "source": [
    "## slamdunk"
   ]
  },
  {
   "cell_type": "markdown",
   "id": "f62527b2",
   "metadata": {},
   "source": [
    "install slamdunk & dependencies if needed (see above)"
   ]
  },
  {
   "cell_type": "code",
   "execution_count": 33,
   "id": "7441cfb0",
   "metadata": {},
   "outputs": [],
   "source": [
    "# install slamdunk\n",
    "#! pip3 install git+https://github.com/jkobject/slamdunk.git --upgrade"
   ]
  },
  {
   "cell_type": "code",
   "execution_count": 34,
   "id": "e7033e03",
   "metadata": {},
   "outputs": [],
   "source": [
    "# please also install cutadapt, fastqc, and trimgalore\n",
    "#! conda install -c bioconda cutadapt\n",
    "#! conda install -c bioconda fastqc\n",
    "#! conda install -c bioconda trim-galore"
   ]
  },
  {
   "cell_type": "markdown",
   "id": "2c54a44b",
   "metadata": {},
   "source": [
    "download reference genome files"
   ]
  },
  {
   "cell_type": "code",
   "execution_count": 35,
   "id": "96bb5b2b",
   "metadata": {},
   "outputs": [],
   "source": [
    "# google storage bucket with reference files\n",
    "#! gsutil ls gs://ccle_default_params\n",
    "\n",
    "# copy reference genome files\n",
    "#! gsutil -m cp gs://ccle_default_params/Homo_sapiens_assembly38* ../../ref/\n",
    "\n",
    "# copy reference genome files\n",
    "#! cp ../data/Muhar_Slamseq/{ERCC92.fa,ERCC92.gtf,GSE100708_hg38_refseq_062016_ensemblv84_3UTR.bed} ../../ref"
   ]
  },
  {
   "cell_type": "markdown",
   "id": "6e85263d",
   "metadata": {},
   "source": [
    "PySam warning can be ignored.\n",
    "<br>[GitHub issue: [E::idx_find_and_load] Could not retrieve index file\" when AlignmentFile](https://github.com/pysam-developers/pysam/issues/939)"
   ]
  },
  {
   "cell_type": "code",
   "execution_count": 36,
   "id": "c33be639",
   "metadata": {},
   "outputs": [],
   "source": [
    "# using an ERCC ref genome (you can just append ERCC fasta to the hg38 fasta)\n",
    "refgenome_noAlt=\"../../ref/Homo_sapiens_assembly38_ERCC92_noAlt.fasta\""
   ]
  },
  {
   "cell_type": "code",
   "execution_count": 37,
   "id": "60391798",
   "metadata": {},
   "outputs": [],
   "source": [
    "# gene intervals bed (use for all projects)\n",
    "gene_intervals = \"../../ref/GSE100708_hg38_refseq_062016_ensemblv84_3UTR.bed\""
   ]
  },
  {
   "cell_type": "markdown",
   "id": "555911f7",
   "metadata": {},
   "source": [
    "res = slamdunk all w/ (-fb, -m, -n 1, -rl 152, -r Homo_sapiens_assembly38_ERCC92_noAlt.fasta)"
   ]
  },
  {
   "cell_type": "markdown",
   "id": "89f7b4c1",
   "metadata": {},
   "source": [
    "Read length note!\n",
    "<br>Difference between min and max read length is > 100bp\n",
    "<br>Average read length 127 (min: 8, max: 152)"
   ]
  },
  {
   "cell_type": "code",
   "execution_count": 38,
   "id": "20a790c8",
   "metadata": {},
   "outputs": [],
   "source": [
    "fastq_folder = \"../../data/\"+\"slamseq_\"+project+\"/fastqs\"\n",
    "fastqs = ! ls $fastq_folder\n",
    "fastqs = [fastq for fastq in fastqs if \"val\" in fastq]\n",
    "fastq_full = [fastq_folder+\"/\"+f for f in fastqs]"
   ]
  },
  {
   "cell_type": "code",
   "execution_count": 39,
   "id": "3a137dc8",
   "metadata": {},
   "outputs": [
    {
     "data": {
      "text/plain": [
       "'../../data/slamseq_inhibitors_v2/res'"
      ]
     },
     "execution_count": 39,
     "metadata": {},
     "output_type": "execute_result"
    }
   ],
   "source": [
    "res_dir = \"../../data/\"+\"slamseq_\"+project+\"/res\"\n",
    "res_dir"
   ]
  },
  {
   "cell_type": "code",
   "execution_count": 40,
   "id": "ec123500",
   "metadata": {},
   "outputs": [
    {
     "name": "stdout",
     "output_type": "stream",
     "text": [
      "['slamdunk all -o ../../data/slamseq_inhibitors_v2/res -r ../../ref/Homo_sapiens_assembly38_ERCC92_noAlt.fasta -b ../../ref/GSE100708_hg38_refseq_062016_ensemblv84_3UTR.bed -t 14 -c 2 -rl 152 -5 12 -n 1 -m -N mr590-MV411-DMSO_1h-r1 ../../data/slamseq_inhibitors_v2/fastqs/mr590-MV411-DMSO_1h-r1_R1_001_val_1.fq.gz ../../data/slamseq_inhibitors_v2/fastqs/mr590-MV411-DMSO_1h-r1_R2_001_val_2.fq.gz']\n",
      "CPU times: user 0 ns, sys: 0 ns, total: 0 ns\n",
      "Wall time: 247 µs\n"
     ]
    }
   ],
   "source": [
    "%%time\n",
    "\n",
    "# print call\n",
    "print(['slamdunk all'+\n",
    "       ' -o '+res_dir+\n",
    "       ' -r '+refgenome_noAlt+\n",
    "       ' -b '+gene_intervals+\n",
    "       ' -t 14'+\n",
    "       ' -c 2'+\n",
    "       ' -rl 152'+ # max-read-length = 152\n",
    "       # new parameters\n",
    "       ' -5 12'+\n",
    "       ' -n 1'+ # reads map to multiple locations at once\n",
    "       ' -m'+ # multimapping\n",
    "       ' -N '+val1.split('/')[-1].split('_R')[0]+\n",
    "       ' '+val1+\" \"+val2\n",
    "       for val1, val2 in h.grouped(fastq_full[:2], 2)])"
   ]
  },
  {
   "cell_type": "code",
   "execution_count": 41,
   "id": "be72fb2e",
   "metadata": {},
   "outputs": [
    {
     "data": {
      "text/plain": [
       "28"
      ]
     },
     "execution_count": 41,
     "metadata": {},
     "output_type": "execute_result"
    }
   ],
   "source": [
    "len(fastq_full[::2])"
   ]
  },
  {
   "cell_type": "code",
   "execution_count": 57,
   "id": "f8943fd2",
   "metadata": {},
   "outputs": [
    {
     "name": "stdout",
     "output_type": "stream",
     "text": [
      "mr608-MV411-THZ1_1h-r3_R1_001_val_1.fq.gz\n",
      "mr609-MV411-THZ1_1h-r4_R1_001_val_1.fq.gz\n",
      "mr610-MV411-JQ1_MS2_1h-r1_R1_001_val_1.fq.gz\n",
      "mr611-MV411-JQ1_MS2_1h-r2_R1_001_val_1.fq.gz\n",
      "mr612-MV411-JQ1_MS2_1h-r3_R1_001_val_1.fq.gz\n",
      "mr613-MV411-JQ1_MS2_1h-r4_R1_001_val_1.fq.gz\n",
      "mr614-MV411-JQ1_THZ1_1h-r1_R1_001_val_1.fq.gz\n",
      "mr615-MV411-JQ1_THZ1_1h-r2_R1_001_val_1.fq.gz\n",
      "mr616-MV411-JQ1_THZ1_1h-r3_R1_001_val_1.fq.gz\n",
      "mr617-MV411-JQ1_THZ1_1h-r4_R1_001_val_1.fq.gz\n"
     ]
    }
   ],
   "source": [
    "for val1, val2 in h.grouped(fastq_full[36:], 2): print(os.path.basename(val1))"
   ]
  },
  {
   "cell_type": "code",
   "execution_count": null,
   "id": "a09a6a43",
   "metadata": {},
   "outputs": [],
   "source": [
    "%%time\n",
    "\n",
    "# run slamdunk\n",
    "# we are doing it paired end\n",
    "h.parrun(['slamdunk all'+\n",
    "          ' -o '+res_dir+\n",
    "          ' -r '+refgenome_noAlt+\n",
    "          ' -b '+gene_intervals+\n",
    "          ' -t 14'+\n",
    "          ' -c 2'+\n",
    "          ' -rl 152'+ # max-read-length = 152\n",
    "          # new parameters\n",
    "          ' -5 12'+\n",
    "          ' -n 1'+ # reads map to multiple locations at once\n",
    "          ' -m True'+ # multimapping\n",
    "          ' -N '+val1.split('/')[-1].split('_R')[0]+\n",
    "          ' '+val1+\" \"+val2+\n",
    "          ' 2>&1 | tee '+res_dir+'/'+os.path.basename(val1)+'_slumdunk.log'\n",
    "          for val1, val2 in h.grouped(fastq_full[36:], 2)], 2)"
   ]
  },
  {
   "cell_type": "code",
   "execution_count": 17,
   "id": "d2311b00",
   "metadata": {
    "collapsed": true
   },
   "outputs": [
    {
     "name": "stdout",
     "output_type": "stream",
     "text": [
      "CPU times: user 428 ms, sys: 120 ms, total: 548 ms\n",
      "Wall time: 4h 9min 42s\n"
     ]
    },
    {
     "data": {
      "text/plain": [
       "['[MAIN] NextGenMap 0.5.5\\n[MAIN] Startup : x64 (build Jul  3 2020 02:47:43)\\n[MAIN] Starting time: 2022-06-22.21:09:03\\n[CONFIG] Parameter:  --affine 0 --argos_min_score 0 --bin_size 2 --block_multiplier 2 --broken_pairs 0 --bs_cutoff 6 --bs_mapping 0 --cpu_threads 14 --dualstrand 1 --fast 0 --fast_pairing 0 --force_rlength_check 0 --format 1 --gap_extend_penalty 5 --gap_read_penalty 20 --gap_ref_penalty 20 --hard_clip 0 --keep_tags 0 --kmer 13 --kmer_min 0 --kmer_skip 2 --local 1 --match_bonus 10 --match_bonus_tc 2 --match_bonus_tt 10 --max_cmrs 2147483647 --max_equal 1 --max_insert_size 1000 --max_polya 4 --max_read_length 0 --min_identity 0.650000 --min_insert_size 0 --min_mq 0 --min_residues 0.500000 --min_score 0.000000 --mismatch_penalty 15 --mode 0 --no_progress 1 --no_unal 0 --ocl_threads 1 --output ../../data/slamseq_MYB_degraded_coculture_v1/res/map/mr576-MV411-VHL_coculture_12h-r1_slamdunk_mapped.sam --overwrite 1 --pair_score_cutoff 0.900000 --paired 1 --parse_all 1 --pe_delimiter / --qry1 ../../data/slamseq_MYB_degraded_coculture_v1/fastqs/mr576-MV411-VHL_coculture_12h-r1_R1_001_val_1.fq.gz --qry2 ../../data/slamseq_MYB_degraded_coculture_v1/fastqs/mr576-MV411-VHL_coculture_12h-r1_R2_001_val_2.fq.gz --qry_count -1 --qry_start 0 --ref ../../ref/Homo_sapiens_assembly38_ERCC92_noAlt.fasta --ref_mode -1 --rg_id 0 --rg_sm sample_0:NA:-1 --sensitive 0 --silent_clip 0 --skip_mate_check 0 --skip_save 0 --slam_seq 2 --step_count 4 --strata 0 --topn 1 --trim5 12 --update_check 0 --very_fast 0 --very_sensitive 0\\n[NGM] Opening for output (SAM): ../../data/slamseq_MYB_degraded_coculture_v1/res/map/mr576-MV411-VHL_coculture_12h-r1_slamdunk_mapped.sam\\n[SEQPROV] Reading encoded reference from ../../ref/Homo_sapiens_assembly38_ERCC92_noAlt.fasta-enc.2.ngm\\n[SEQPROV] Reading 3111 Mbp from disk took 14.16s\\n[PREPROCESS] Reading RefTable from ../../ref/Homo_sapiens_assembly38_ERCC92_noAlt.fasta-ht-13-2.3.ngm\\n[PREPROCESS] Reading from disk took 41.36s\\n[PREPROCESS] Max. k-mer frequency set so 887!\\n[INPUT] Input is paired end data.\\n[INPUT] Opening file ../../data/slamseq_MYB_degraded_coculture_v1/fastqs/mr576-MV411-VHL_coculture_12h-r1_R1_001_val_1.fq.gz for reading\\n[INPUT] Opening file ../../data/slamseq_MYB_degraded_coculture_v1/fastqs/mr576-MV411-VHL_coculture_12h-r1_R2_001_val_2.fq.gz for reading\\n[INPUT] Input is Fastq\\n[INPUT] Estimating parameter from data\\n[INPUT] Input reads don\\'t have the same length!\\n[INPUT] Maximum read length found in the first 10000000 reads is 138. For longer reads only the first 151 bp will be mapped.\\n[INPUT] The maximum read length can be overwritten with the \\'--max-read-length\\' parameter. With \\'--force-rlength-check\\', NextGenMap will run through all reads to find the max. read length. This might take some time.\\n[INPUT] Average read length: 128 (min: 8, max: 152)\\n[INPUT] Corridor width: 24\\n[INPUT] Average kmer hits pro read: 29.625809\\n[INPUT] Max possible kmer hit: 38\\n[INPUT] Estimated sensitivity: 0.779627\\n[INPUT] Estimating parameter took 41.606s\\n[INPUT] Input is Fastq\\n[INPUT] Input is Fastq\\n[OPENCL] Available platforms: 1\\n[OPENCL] AMD Accelerated Parallel Processing\\n[OPENCL] Selecting OpenCl platform: AMD Accelerated Parallel Processing\\n[OPENCL] Platform: OpenCL 1.2 AMD-APP (1214.3)\\n[OPENCL] 1 CPU device found.\\n[OPENCL] Device 0: Intel(R) Xeon(R) CPU @ 3.10GHz (Driver: 1214.3 (sse2,avx))\\n[OPENCL] 8 CPU cores available.\\n[MAIN] Valid pairs found: 84.25%\\n[MAIN] Estimated insert size: 197 bp\\n[MAIN] Alignments computed: 142049091\\n[MAIN] Done (137810882 reads mapped (95.83%), 5993166 reads not mapped (240 discarded), 143803808 lines written)(elapsed: 6048.601562s)\\n[UPDATE_CHECK] Your version of NGM is more than 6 months old - a newer version may be available. (For performing an automatic check use --update-check)\\nparsing jkobject\\ndoing all\\nRunning slamDunk map for 2 files (14 threads)\\ndoing paired end mapping!\\n -1 ../../data/slamseq_MYB_degraded_coculture_v1/fastqs/mr576-MV411-VHL_coculture_12h-r1_R1_001_val_1.fq.gz -2 ../../data/slamseq_MYB_degraded_coculture_v1/fastqs/mr576-MV411-VHL_coculture_12h-r1_R2_001_val_2.fq.gz\\nRunning: \"ngm -r ../../ref/Homo_sapiens_assembly38_ERCC92_noAlt.fasta -1 ../../data/slamseq_MYB_degraded_coculture_v1/fastqs/mr576-MV411-VHL_coculture_12h-r1_R1_001_val_1.fq.gz -2 ../../data/slamseq_MYB_degraded_coculture_v1/fastqs/mr576-MV411-VHL_coculture_12h-r1_R2_001_val_2.fq.gz -t 14 --no-progress --slam-seq 2 -5 12 --max-polya 4 -l  --rg-id 0 --rg-sm sample_0:NA:-1 -o ../../data/slamseq_MYB_degraded_coculture_v1/res/map/mr576-MV411-VHL_coculture_12h-r1_slamdunk_mapped.sam\"\\nRunning: \"samtools view -@ 14 -Sb -o ../../data/slamseq_MYB_degraded_coculture_v1/res/map/mr576-MV411-VHL_coculture_12h-r1_slamdunk_mapped.bam ../../data/slamseq_MYB_degraded_coculture_v1/res/map/mr576-MV411-VHL_coculture_12h-r1_slamdunk_mapped.sam\"\\nslamdunk all\\nRunning slamDunk map for 2 files (14 threads)\\n.\\nRunning slamDunk sam2bam for 1 files (14 threads)\\n.\\nRunning slamDunk filter for 1 files (14 threads)\\n[E::idx_find_and_load] Could not retrieve index file for \\'../../data/slamseq_MYB_degraded_coculture_v1/res/map/mr576-MV411-VHL_coculture_12h-r1_slamdunk_mapped.bam\\'\\n[E::idx_find_and_load] Could not retrieve index file for \\'../../data/slamseq_MYB_degraded_coculture_v1/res/filter/mr576-MV411-VHL_coculture_12h-r1_filtered.bam\\'\\n[bam_sort_core] merging from 67 files and 1 in-memory blocks...\\n\\n\\nRunning slamDunk SNP for 1 files (7 threads)\\n\\nRunning slamDunk tcount for 1 files (14 threads)\\n\\n\\nRunning: \"samtools sort -o ../../data/slamseq_MYB_degraded_coculture_v1/res/filter/mr576-MV411-VHL_coculture_12h-r1_filtered.bam ../../data/slamseq_MYB_degraded_coculture_v1/res/filter/mr576-MV411-VHL_coculture_12h-r1_filtered.bam_tmp\"\\n...']"
      ]
     },
     "execution_count": 17,
     "metadata": {},
     "output_type": "execute_result"
    }
   ],
   "source": [
    "%%time\n",
    "\n",
    "# run slamdunk\n",
    "# we are doing it paired end\n",
    "h.parrun(['slamdunk all'+\n",
    "          ' -o '+res_dir+\n",
    "          ' -r '+refgenome_noAlt+\n",
    "          ' -b '+gene_intervals+\n",
    "          ' -t 14'+\n",
    "          ' -c 2'+\n",
    "          ' -rl 152'+ # max-read-length = 152\n",
    "          # new parameters\n",
    "          ' -5 12'+\n",
    "          ' -n 1'+ # reads map to multiple locations at once\n",
    "          ' -m True'+ # multimapping\n",
    "          ' -N '+val1.split('/')[-1].split('_R')[0]+\n",
    "          ' '+val1+\" \"+val2+\n",
    "          ' 2>&1 | tee '+res_dir+'/'+os.path.basename(val1)+'_slumdunk.log'\n",
    "          for val1, val2 in h.grouped(fastq_full[10:12], 2)], 2)"
   ]
  },
  {
   "cell_type": "code",
   "execution_count": 60,
   "id": "22896078",
   "metadata": {
    "collapsed": true
   },
   "outputs": [
    {
     "name": "stdout",
     "output_type": "stream",
     "text": [
      "mr571-MV411-DMSO_coculture_12h-r1_R1_001_val_1.fq.gz\n",
      "mr572-MV411-DMSO_coculture_12h-r2_R1_001_val_1.fq.gz\n",
      "mr573-MV411-DMSO_coculture_12h-r3_R1_001_val_1.fq.gz\n",
      "mr574-MV411-DMSO_coculture_12h-r4_R1_001_val_1.fq.gz\n",
      "mr575-MV411-DMSO_coculture_12h-r5_R1_001_val_1.fq.gz\n",
      "mr576-MV411-VHL_coculture_12h-r1_R1_001_val_1.fq.gz\n",
      "mr577-MV411-VHL_coculture_12h-r2_R1_001_val_1.fq.gz\n",
      "mr578-MV411-VHL_coculture_12h-r3_R1_001_val_1.fq.gz\n",
      "mr579-MV411-VHL_coculture_12h-r4_R1_001_val_1.fq.gz\n",
      "mr580-MV411-VHL_coculture_12h-r5_R1_001_val_1.fq.gz\n",
      "mr581-MV411-MYB-dTAG-DMSO_coculture_12h-r1_R1_001_val_1.fq.gz\n",
      "mr582-MV411-MYB-dTAG-DMSO_coculture_12h-r2_R1_001_val_1.fq.gz\n",
      "mr583-MV411-MYB-dTAG-DMSO_coculture_12h-r3_R1_001_val_1.fq.gz\n",
      "mr584-MV411-MYB-dTAG-DMSO_coculture_12h-r4_R1_001_val_1.fq.gz\n",
      "mr585-MV411-MYB-dTAG-VHL_coculture_12h-r1_R1_001_val_1.fq.gz\n",
      "mr586-MV411-MYB-dTAG-VHL_coculture_12h-r2_R1_001_val_1.fq.gz\n",
      "mr587-MV411-MYB-dTAG-VHL_coculture_12h-r3_R1_001_val_1.fq.gz\n",
      "mr588-MV411-MYB-dTAG-VHL_coculture_12h-r4_R1_001_val_1.fq.gz\n",
      "mr589-MV411-MYB-dTAG-VHL_coculture_12h-r5_R1_001_val_1.fq.gz\n"
     ]
    }
   ],
   "source": [
    "for val1, val2 in h.grouped(fastq_full, 2): print(os.path.basename(val1))"
   ]
  },
  {
   "cell_type": "markdown",
   "id": "9c7a3435",
   "metadata": {},
   "source": [
    "## save data to bucket"
   ]
  },
  {
   "cell_type": "code",
   "execution_count": 59,
   "id": "986265f6",
   "metadata": {},
   "outputs": [
    {
     "data": {
      "text/plain": [
       "'inhibitors_v2'"
      ]
     },
     "execution_count": 59,
     "metadata": {},
     "output_type": "execute_result"
    }
   ],
   "source": [
    "project"
   ]
  },
  {
   "cell_type": "markdown",
   "id": "d6c5ec59",
   "metadata": {},
   "source": [
    "* save fastqs to bucket\n",
    "* save processed res to bucket\n",
    "* remove processed fastqs from local"
   ]
  },
  {
   "cell_type": "code",
   "execution_count": null,
   "id": "a414e819",
   "metadata": {},
   "outputs": [
    {
     "name": "stdout",
     "output_type": "stream",
     "text": [
      "Copying file://../../data/slamseq_inhibitors_v2/fastqs/mr590-MV411-DMSO_1h-r1_R1_001.fastq.gz [Content-Type=application/octet-stream]...\n",
      "==> NOTE: You are uploading one or more large file(s), which would run          \n",
      "significantly faster if you enable parallel composite uploads. This\n",
      "feature can be enabled by editing the\n",
      "\"parallel_composite_upload_threshold\" value in your .boto\n",
      "configuration file. However, note that if you do this large files will\n",
      "be uploaded as `composite objects\n",
      "<https://cloud.google.com/storage/docs/composite-objects>`_,which\n",
      "means that any user who downloads such objects will need to have a\n",
      "compiled crcmod installed (see \"gsutil help crcmod\"). This is because\n",
      "without a compiled crcmod, computing checksums on composite objects is\n",
      "so slow that gsutil disables downloads of composite objects.\n",
      "\n",
      "Copying file://../../data/slamseq_inhibitors_v2/fastqs/mr590-MV411-DMSO_1h-r1_R2_001.fastq.gz_trimming_report.txt [Content-Type=text/plain]...\n",
      "Copying file://../../data/slamseq_inhibitors_v2/fastqs/mr591-MV411-DMSO_1h-r2_R1_001_unpaired_1.fq.gz [Content-Type=application/octet-stream]...\n",
      "Copying file://../../data/slamseq_inhibitors_v2/fastqs/mr590-MV411-DMSO_1h-r1_R2_001_unpaired_2.fq.gz [Content-Type=application/octet-stream]...\n",
      "Copying file://../../data/slamseq_inhibitors_v2/fastqs/mr590-MV411-DMSO_1h-r1_R2_001_val_2.fq.gz [Content-Type=application/octet-stream]...\n",
      "Copying file://../../data/slamseq_inhibitors_v2/fastqs/mr591-MV411-DMSO_1h-r2_R1_001.fastq.gz [Content-Type=application/octet-stream]...\n",
      "Copying file://../../data/slamseq_inhibitors_v2/fastqs/mr591-MV411-DMSO_1h-r2_R1_001.fastq.gz_trimming_report.txt [Content-Type=text/plain]...\n",
      "Copying file://../../data/slamseq_inhibitors_v2/fastqs/mr591-MV411-DMSO_1h-r2_R2_001.fastq.gz_trimming_report.txt [Content-Type=text/plain]...\n",
      "Copying file://../../data/slamseq_inhibitors_v2/fastqs/mr590-MV411-DMSO_1h-r1_R1_001_unpaired_1.fq.gz [Content-Type=application/octet-stream]...\n",
      "Copying file://../../data/slamseq_inhibitors_v2/fastqs/mr591-MV411-DMSO_1h-r2_R2_001.fastq.gz [Content-Type=application/octet-stream]...\n",
      "Copying file://../../data/slamseq_inhibitors_v2/fastqs/mr590-MV411-DMSO_1h-r1_R1_001.fastq.gz_trimming_report.txt [Content-Type=text/plain]...\n",
      "Copying file://../../data/slamseq_inhibitors_v2/fastqs/mr591-MV411-DMSO_1h-r2_R2_001_unpaired_2.fq.gz [Content-Type=application/octet-stream]...\n",
      "Copying file://../../data/slamseq_inhibitors_v2/fastqs/mr591-MV411-DMSO_1h-r2_R1_001_val_1.fq.gz [Content-Type=application/octet-stream]...\n",
      "Copying file://../../data/slamseq_inhibitors_v2/fastqs/mr590-MV411-DMSO_1h-r1_R2_001.fastq.gz [Content-Type=application/octet-stream]...\n",
      "Copying file://../../data/slamseq_inhibitors_v2/fastqs/mr590-MV411-DMSO_1h-r1_R1_001_val_1.fq.gz [Content-Type=application/octet-stream]...\n",
      "Copying file://../../data/slamseq_inhibitors_v2/fastqs/mr593-MV411-DMSO_1h-r4_R1_001.fastq.gz_trimming_report.txt [Content-Type=text/plain]...\n",
      "Copying file://../../data/slamseq_inhibitors_v2/fastqs/mr593-MV411-DMSO_1h-r4_R1_001_unpaired_1.fq.gz [Content-Type=application/octet-stream]...\n",
      "Copying file://../../data/slamseq_inhibitors_v2/fastqs/mr593-MV411-DMSO_1h-r4_R2_001_unpaired_2.fq.gz [Content-Type=application/octet-stream]...\n",
      "Copying file://../../data/slamseq_inhibitors_v2/fastqs/mr593-MV411-DMSO_1h-r4_R2_001_val_2.fq.gz [Content-Type=application/octet-stream]...\n",
      "Copying file://../../data/slamseq_inhibitors_v2/fastqs/mr594-MV411-MS2_1h-r1_R1_001.fastq.gz [Content-Type=application/octet-stream]...\n",
      "Copying file://../../data/slamseq_inhibitors_v2/fastqs/mr593-MV411-DMSO_1h-r4_R1_001_val_1.fq.gz [Content-Type=application/octet-stream]...\n",
      "Copying file://../../data/slamseq_inhibitors_v2/fastqs/mr594-MV411-MS2_1h-r1_R1_001.fastq.gz_trimming_report.txt [Content-Type=text/plain]...\n",
      "Copying file://../../data/slamseq_inhibitors_v2/fastqs/mr594-MV411-MS2_1h-r1_R1_001_unpaired_1.fq.gz [Content-Type=application/octet-stream]...\n",
      "Copying file://../../data/slamseq_inhibitors_v2/fastqs/mr593-MV411-DMSO_1h-r4_R2_001.fastq.gz [Content-Type=application/octet-stream]...\n",
      "Copying file://../../data/slamseq_inhibitors_v2/fastqs/mr594-MV411-MS2_1h-r1_R2_001_unpaired_2.fq.gz [Content-Type=application/octet-stream]...\n",
      "Copying file://../../data/slamseq_inhibitors_v2/fastqs/mr594-MV411-MS2_1h-r1_R1_001_val_1.fq.gz [Content-Type=application/octet-stream]...\n",
      "Copying file://../../data/slamseq_inhibitors_v2/fastqs/mr594-MV411-MS2_1h-r1_R2_001.fastq.gz [Content-Type=application/octet-stream]...\n",
      "Copying file://../../data/slamseq_inhibitors_v2/fastqs/mr593-MV411-DMSO_1h-r4_R2_001.fastq.gz_trimming_report.txt [Content-Type=text/plain]...\n",
      "Copying file://../../data/slamseq_inhibitors_v2/fastqs/mr594-MV411-MS2_1h-r1_R2_001_val_2.fq.gz [Content-Type=application/octet-stream]...\n",
      "Copying file://../../data/slamseq_inhibitors_v2/fastqs/mr594-MV411-MS2_1h-r1_R2_001.fastq.gz_trimming_report.txt [Content-Type=text/plain]...\n",
      "Copying file://../../data/slamseq_inhibitors_v2/fastqs/mr592-MV411-DMSO_1h-r3_R1_001_val_1.fq.gz [Content-Type=application/octet-stream]...\n",
      "Copying file://../../data/slamseq_inhibitors_v2/fastqs/mr592-MV411-DMSO_1h-r3_R1_001.fastq.gz [Content-Type=application/octet-stream]...\n",
      "Copying file://../../data/slamseq_inhibitors_v2/fastqs/mr592-MV411-DMSO_1h-r3_R2_001.fastq.gz [Content-Type=application/octet-stream]...\n",
      "Copying file://../../data/slamseq_inhibitors_v2/fastqs/mr591-MV411-DMSO_1h-r2_R2_001_val_2.fq.gz [Content-Type=application/octet-stream]...\n",
      "Copying file://../../data/slamseq_inhibitors_v2/fastqs/mr592-MV411-DMSO_1h-r3_R1_001.fastq.gz_trimming_report.txt [Content-Type=text/plain]...\n",
      "Copying file://../../data/slamseq_inhibitors_v2/fastqs/mr592-MV411-DMSO_1h-r3_R2_001_val_2.fq.gz [Content-Type=application/octet-stream]...\n",
      "Copying file://../../data/slamseq_inhibitors_v2/fastqs/mr592-MV411-DMSO_1h-r3_R1_001_unpaired_1.fq.gz [Content-Type=application/octet-stream]...\n",
      "Copying file://../../data/slamseq_inhibitors_v2/fastqs/mr592-MV411-DMSO_1h-r3_R2_001_unpaired_2.fq.gz [Content-Type=application/octet-stream]...\n",
      "Copying file://../../data/slamseq_inhibitors_v2/fastqs/mr592-MV411-DMSO_1h-r3_R2_001.fastq.gz_trimming_report.txt [Content-Type=text/plain]...\n",
      "Copying file://../../data/slamseq_inhibitors_v2/fastqs/mr593-MV411-DMSO_1h-r4_R1_001.fastq.gz [Content-Type=application/octet-stream]...\n",
      "Copying file://../../data/slamseq_inhibitors_v2/fastqs/mr595-MV411-MS2_1h-r2_R1_001.fastq.gz [Content-Type=application/octet-stream]...\n",
      "Copying file://../../data/slamseq_inhibitors_v2/fastqs/mr595-MV411-MS2_1h-r2_R1_001.fastq.gz_trimming_report.txt [Content-Type=text/plain]...\n",
      "Copying file://../../data/slamseq_inhibitors_v2/fastqs/mr595-MV411-MS2_1h-r2_R1_001_unpaired_1.fq.gz [Content-Type=application/octet-stream]...\n",
      "Copying file://../../data/slamseq_inhibitors_v2/fastqs/mr595-MV411-MS2_1h-r2_R1_001_val_1.fq.gz [Content-Type=application/octet-stream]...\n",
      "Copying file://../../data/slamseq_inhibitors_v2/fastqs/mr595-MV411-MS2_1h-r2_R2_001.fastq.gz [Content-Type=application/octet-stream]...\n",
      "Copying file://../../data/slamseq_inhibitors_v2/fastqs/mr595-MV411-MS2_1h-r2_R2_001.fastq.gz_trimming_report.txt [Content-Type=text/plain]...\n",
      "Copying file://../../data/slamseq_inhibitors_v2/fastqs/mr595-MV411-MS2_1h-r2_R2_001_unpaired_2.fq.gz [Content-Type=application/octet-stream]...\n",
      "Copying file://../../data/slamseq_inhibitors_v2/fastqs/mr595-MV411-MS2_1h-r2_R2_001_val_2.fq.gz [Content-Type=application/octet-stream]...\n",
      "Copying file://../../data/slamseq_inhibitors_v2/fastqs/mr596-MV411-MS2_1h-r3_R1_001.fastq.gz [Content-Type=application/octet-stream]...\n",
      "Copying file://../../data/slamseq_inhibitors_v2/fastqs/mr596-MV411-MS2_1h-r3_R1_001.fastq.gz_trimming_report.txt [Content-Type=text/plain]...\n",
      "Copying file://../../data/slamseq_inhibitors_v2/fastqs/mr596-MV411-MS2_1h-r3_R1_001_unpaired_1.fq.gz [Content-Type=application/octet-stream]...\n",
      "Copying file://../../data/slamseq_inhibitors_v2/fastqs/mr596-MV411-MS2_1h-r3_R1_001_val_1.fq.gz [Content-Type=application/octet-stream]...\n",
      "Copying file://../../data/slamseq_inhibitors_v2/fastqs/mr596-MV411-MS2_1h-r3_R2_001.fastq.gz [Content-Type=application/octet-stream]...\n",
      "Copying file://../../data/slamseq_inhibitors_v2/fastqs/mr596-MV411-MS2_1h-r3_R2_001.fastq.gz_trimming_report.txt [Content-Type=text/plain]...\n",
      "Copying file://../../data/slamseq_inhibitors_v2/fastqs/mr596-MV411-MS2_1h-r3_R2_001_unpaired_2.fq.gz [Content-Type=application/octet-stream]...\n",
      "Copying file://../../data/slamseq_inhibitors_v2/fastqs/mr596-MV411-MS2_1h-r3_R2_001_val_2.fq.gz [Content-Type=application/octet-stream]...\n",
      "Copying file://../../data/slamseq_inhibitors_v2/fastqs/mr597-MV411-MS2_1h-r4_R1_001.fastq.gz [Content-Type=application/octet-stream]...\n",
      "Copying file://../../data/slamseq_inhibitors_v2/fastqs/mr597-MV411-MS2_1h-r4_R1_001.fastq.gz_trimming_report.txt [Content-Type=text/plain]...\n",
      "Copying file://../../data/slamseq_inhibitors_v2/fastqs/mr597-MV411-MS2_1h-r4_R1_001_unpaired_1.fq.gz [Content-Type=application/octet-stream]...\n",
      "Copying file://../../data/slamseq_inhibitors_v2/fastqs/mr597-MV411-MS2_1h-r4_R1_001_val_1.fq.gz [Content-Type=application/octet-stream]...\n",
      "Copying file://../../data/slamseq_inhibitors_v2/fastqs/mr597-MV411-MS2_1h-r4_R2_001.fastq.gz [Content-Type=application/octet-stream]...\n",
      "Copying file://../../data/slamseq_inhibitors_v2/fastqs/mr597-MV411-MS2_1h-r4_R2_001.fastq.gz_trimming_report.txt [Content-Type=text/plain]...\n",
      "Copying file://../../data/slamseq_inhibitors_v2/fastqs/mr597-MV411-MS2_1h-r4_R2_001_unpaired_2.fq.gz [Content-Type=application/octet-stream]...\n",
      "Copying file://../../data/slamseq_inhibitors_v2/fastqs/mr597-MV411-MS2_1h-r4_R2_001_val_2.fq.gz [Content-Type=application/octet-stream]...\n",
      "Copying file://../../data/slamseq_inhibitors_v2/fastqs/mr598-MV411-JQ1_1h-r1_R1_001.fastq.gz [Content-Type=application/octet-stream]...\n",
      "Copying file://../../data/slamseq_inhibitors_v2/fastqs/mr598-MV411-JQ1_1h-r1_R1_001.fastq.gz_trimming_report.txt [Content-Type=text/plain]...\n",
      "Copying file://../../data/slamseq_inhibitors_v2/fastqs/mr598-MV411-JQ1_1h-r1_R1_001_unpaired_1.fq.gz [Content-Type=application/octet-stream]...\n",
      "Copying file://../../data/slamseq_inhibitors_v2/fastqs/mr598-MV411-JQ1_1h-r1_R1_001_val_1.fq.gz [Content-Type=application/octet-stream]...\n",
      "Copying file://../../data/slamseq_inhibitors_v2/fastqs/mr598-MV411-JQ1_1h-r1_R2_001.fastq.gz [Content-Type=application/octet-stream]...\n",
      "Copying file://../../data/slamseq_inhibitors_v2/fastqs/mr598-MV411-JQ1_1h-r1_R2_001.fastq.gz_trimming_report.txt [Content-Type=text/plain]...\n",
      "Copying file://../../data/slamseq_inhibitors_v2/fastqs/mr598-MV411-JQ1_1h-r1_R2_001_unpaired_2.fq.gz [Content-Type=application/octet-stream]...\n",
      "Copying file://../../data/slamseq_inhibitors_v2/fastqs/mr598-MV411-JQ1_1h-r1_R2_001_val_2.fq.gz [Content-Type=application/octet-stream]...\n",
      "Copying file://../../data/slamseq_inhibitors_v2/fastqs/mr599-MV411-JQ1_1h-r2_R1_001.fastq.gz [Content-Type=application/octet-stream]...\n",
      "Copying file://../../data/slamseq_inhibitors_v2/fastqs/mr599-MV411-JQ1_1h-r2_R1_001.fastq.gz_trimming_report.txt [Content-Type=text/plain]...\n",
      "Copying file://../../data/slamseq_inhibitors_v2/fastqs/mr599-MV411-JQ1_1h-r2_R1_001_unpaired_1.fq.gz [Content-Type=application/octet-stream]...\n",
      "Copying file://../../data/slamseq_inhibitors_v2/fastqs/mr599-MV411-JQ1_1h-r2_R1_001_val_1.fq.gz [Content-Type=application/octet-stream]...\n",
      "Copying file://../../data/slamseq_inhibitors_v2/fastqs/mr599-MV411-JQ1_1h-r2_R2_001.fastq.gz [Content-Type=application/octet-stream]...\n",
      "Copying file://../../data/slamseq_inhibitors_v2/fastqs/mr599-MV411-JQ1_1h-r2_R2_001.fastq.gz_trimming_report.txt [Content-Type=text/plain]...\n",
      "Copying file://../../data/slamseq_inhibitors_v2/fastqs/mr599-MV411-JQ1_1h-r2_R2_001_unpaired_2.fq.gz [Content-Type=application/octet-stream]...\n",
      "Copying file://../../data/slamseq_inhibitors_v2/fastqs/mr599-MV411-JQ1_1h-r2_R2_001_val_2.fq.gz [Content-Type=application/octet-stream]...\n",
      "/ [40/224 files][ 33.4 GiB/401.3 GiB]   8% Done 239.5 MiB/s ETA 00:26:13        \r"
     ]
    }
   ],
   "source": [
    "%%time\n",
    "\n",
    "! gsutil -m cp ../../data/slamseq_$project/fastqs/* gs://amlproject/RNA/slamseq/$project/fastqs/ \n",
    "! gsutil -m cp ../../data/slamseq_$project/res/map/* gs://amlproject/RNA/slamseq/$project/res/map/ \n",
    "! gsutil -m cp ../../data/slamseq_$project/res/filter/* gs://amlproject/RNA/slamseq/$project/res/filter/ \n",
    "! gsutil -m cp ../../data/slamseq_$project/res/snp/* gs://amlproject/RNA/slamseq/$project/res/snp/ \n",
    "! gsutil -m cp ../../data/slamseq_$project/res/count/* gs://amlproject/RNA/slamseq/$project/res/count/"
   ]
  },
  {
   "cell_type": "markdown",
   "id": "45a4e362",
   "metadata": {},
   "source": [
    "## remove processed fastqs"
   ]
  },
  {
   "cell_type": "markdown",
   "id": "b7bde511",
   "metadata": {},
   "source": [
    "check all fastq files are uploaded"
   ]
  },
  {
   "cell_type": "code",
   "execution_count": 61,
   "id": "c5e5bf3b",
   "metadata": {},
   "outputs": [],
   "source": [
    "fastqs_bucket = ! gsutil ls gs://amlproject/RNA/slamseq/$project/fastqs/\n",
    "fastqs_bucket = [os.path.basename(fastq) for fastq in fastqs_bucket]\n",
    "\n",
    "fastqs = ! ls $fastq_folder\n",
    "fastqs = [os.path.basename(fastq) for fastq in fastqs]\n",
    "\n",
    "if not all(fastq in fastqs_bucket for fastq in fastqs):\n",
    "    raise ValueError(\"All fastq files not uploaded to bucket.\")"
   ]
  },
  {
   "cell_type": "code",
   "execution_count": 62,
   "id": "a9165c51",
   "metadata": {},
   "outputs": [],
   "source": [
    "res_folder = \"../../data/\"+\"slamseq_\"+project+\"/res\"\n",
    "count_files = ! ls $res_folder/count/*tsv\n",
    "processed_samples = [f.split(\"/\")[-1].split(\"-\")[0] for f in count_files]"
   ]
  },
  {
   "cell_type": "code",
   "execution_count": 63,
   "id": "5907ae82",
   "metadata": {},
   "outputs": [
    {
     "name": "stdout",
     "output_type": "stream",
     "text": [
      "28.0\n"
     ]
    }
   ],
   "source": [
    "fastq_files = ! ls $fastq_folder\n",
    "fastq_files = [fastq_folder+\"/\"+f for f in fastq_files]\n",
    "fastqs_rm = [fastq for fastq in fastq_files if any(sample in fastq for sample in processed_samples)]\n",
    "print(len(fastqs_rm)/8)"
   ]
  },
  {
   "cell_type": "code",
   "execution_count": 64,
   "id": "b3c216c5",
   "metadata": {},
   "outputs": [],
   "source": [
    "for f in fastqs_rm:\n",
    "    os.remove(f)"
   ]
  },
  {
   "cell_type": "markdown",
   "id": "b0614ba6",
   "metadata": {},
   "source": [
    "# Recreate RNA matrix from slamdunk's tccount files"
   ]
  },
  {
   "cell_type": "markdown",
   "id": "36f9a45a",
   "metadata": {},
   "source": [
    "## get counts over ERCC genome"
   ]
  },
  {
   "cell_type": "code",
   "execution_count": 65,
   "id": "ba2cf1d8",
   "metadata": {},
   "outputs": [],
   "source": [
    "counts = {}\n",
    "folder = \"../../data/slamseq_\"+project+\"/res/filter\"\n",
    "files = ! ls $folder/mr*.bam\n",
    "files = [os.path.basename(f) for f in files]"
   ]
  },
  {
   "cell_type": "code",
   "execution_count": 66,
   "id": "800ad690",
   "metadata": {
    "collapsed": true
   },
   "outputs": [
    {
     "name": "stdout",
     "output_type": "stream",
     "text": [
      "28\n"
     ]
    },
    {
     "data": {
      "text/plain": [
       "['mr590-MV411-DMSO_1h-r1_filtered.bam',\n",
       " 'mr591-MV411-DMSO_1h-r2_filtered.bam',\n",
       " 'mr592-MV411-DMSO_1h-r3_filtered.bam',\n",
       " 'mr593-MV411-DMSO_1h-r4_filtered.bam',\n",
       " 'mr594-MV411-MS2_1h-r1_filtered.bam',\n",
       " 'mr595-MV411-MS2_1h-r2_filtered.bam',\n",
       " 'mr596-MV411-MS2_1h-r3_filtered.bam',\n",
       " 'mr597-MV411-MS2_1h-r4_filtered.bam',\n",
       " 'mr598-MV411-JQ1_1h-r1_filtered.bam',\n",
       " 'mr599-MV411-JQ1_1h-r2_filtered.bam',\n",
       " 'mr600-MV411-JQ1_1h-r3_filtered.bam',\n",
       " 'mr601-MV411-JQ1_1h-r4_filtered.bam',\n",
       " 'mr602-MV411-MYCi361_1h-r1_filtered.bam',\n",
       " 'mr603-MV411-MYCi361_1h-r2_filtered.bam',\n",
       " 'mr604-MV411-MYCi361_1h-r3_filtered.bam',\n",
       " 'mr605-MV411-MYCi361_1h-r4_filtered.bam',\n",
       " 'mr606-MV411-THZ1_1h-r1_filtered.bam',\n",
       " 'mr607-MV411-THZ1_1h-r2_filtered.bam',\n",
       " 'mr608-MV411-THZ1_1h-r3_filtered.bam',\n",
       " 'mr609-MV411-THZ1_1h-r4_filtered.bam',\n",
       " 'mr610-MV411-JQ1_MS2_1h-r1_filtered.bam',\n",
       " 'mr611-MV411-JQ1_MS2_1h-r2_filtered.bam',\n",
       " 'mr612-MV411-JQ1_MS2_1h-r3_filtered.bam',\n",
       " 'mr613-MV411-JQ1_MS2_1h-r4_filtered.bam',\n",
       " 'mr614-MV411-JQ1_THZ1_1h-r1_filtered.bam',\n",
       " 'mr615-MV411-JQ1_THZ1_1h-r2_filtered.bam',\n",
       " 'mr616-MV411-JQ1_THZ1_1h-r3_filtered.bam',\n",
       " 'mr617-MV411-JQ1_THZ1_1h-r4_filtered.bam']"
      ]
     },
     "execution_count": 66,
     "metadata": {},
     "output_type": "execute_result"
    }
   ],
   "source": [
    "print(len(files))\n",
    "files"
   ]
  },
  {
   "cell_type": "code",
   "execution_count": 67,
   "id": "357acbbc",
   "metadata": {},
   "outputs": [],
   "source": [
    "specified_regions = \" ERCC-00002 ERCC-00003 ERCC-00004 ERCC-00009 ERCC-00012 ERCC-00013 ERCC-00014 ERCC-00016 ERCC-00017 ERCC-00019 ERCC-00022 ERCC-00024 ERCC-00025 ERCC-00028 ERCC-00031 ERCC-00033 ERCC-00034 ERCC-00035 ERCC-00039 ERCC-00040 ERCC-00041 ERCC-00042 ERCC-00043 ERCC-00044 ERCC-00046 ERCC-00048 ERCC-00051 ERCC-00053 ERCC-00054 ERCC-00057 ERCC-00058 ERCC-00059 ERCC-00060 ERCC-00061 ERCC-00062 ERCC-00067 ERCC-00069 ERCC-00071 ERCC-00073 ERCC-00074 ERCC-00075 ERCC-00076 ERCC-00077 ERCC-00078 ERCC-00079 ERCC-00081 ERCC-00083 ERCC-00084 ERCC-00085 ERCC-00086 ERCC-00092 ERCC-00095 ERCC-00096 ERCC-00097 ERCC-00098 ERCC-00099 ERCC-00104 ERCC-00108 ERCC-00109 ERCC-00111 ERCC-00112 ERCC-00113 ERCC-00116 ERCC-00117 ERCC-00120 ERCC-00123 ERCC-00126 ERCC-00130 ERCC-00131 ERCC-00134 ERCC-00136 ERCC-00137 ERCC-00138 ERCC-00142 ERCC-00143 ERCC-00144 ERCC-00145 ERCC-00147 ERCC-00148 ERCC-00150 ERCC-00154 ERCC-00156 ERCC-00157 ERCC-00158 ERCC-00160 ERCC-00162 ERCC-00163 ERCC-00164 ERCC-00165 ERCC-00168 ERCC-00170 ERCC-00171 > \""
   ]
  },
  {
   "cell_type": "code",
   "execution_count": 69,
   "id": "66c7ab92",
   "metadata": {},
   "outputs": [
    {
     "data": {
      "text/plain": [
       "['', '', '']"
      ]
     },
     "execution_count": 69,
     "metadata": {},
     "output_type": "execute_result"
    }
   ],
   "source": [
    "# bam with alignments overlpping over ERCC regions\n",
    "h.parrun([\"samtools view -hb \"+folder+\"/\"+f+specified_regions+folder+\"/ERCC_\"+f for f in files], cores=10)"
   ]
  },
  {
   "cell_type": "code",
   "execution_count": 70,
   "id": "a864d376",
   "metadata": {},
   "outputs": [
    {
     "data": {
      "text/plain": [
       "['', '', '']"
      ]
     },
     "execution_count": 70,
     "metadata": {},
     "output_type": "execute_result"
    }
   ],
   "source": [
    "# compute histogram , per-base reports, & bedgraph summaries of feature coverage\n",
    "# computes coverage over ERCC genes --> # of transcripts mapped to each gene as bed\n",
    "h.parrun([\"bedtools genomecov -ibam \"+folder+\"/ERCC_\"+f+\" > \"+folder+\"/ERCC_\"+f+\".bed\" for f in files], cores=10)"
   ]
  },
  {
   "cell_type": "code",
   "execution_count": 71,
   "id": "7d46c6df",
   "metadata": {},
   "outputs": [
    {
     "name": "stdout",
     "output_type": "stream",
     "text": [
      "28\n"
     ]
    }
   ],
   "source": [
    "# ERCC files\n",
    "files = ! ls $folder/ERCC*.bam\n",
    "files = [file.split('/')[-1] for file in files if \"ERCC\" in file if file.endswith(\".bam\")]\n",
    "print(len(files))"
   ]
  },
  {
   "cell_type": "code",
   "execution_count": 72,
   "id": "b247cff7",
   "metadata": {},
   "outputs": [],
   "source": [
    "ERCC = [\"ERCC-00002\", \"ERCC-00003\", \"ERCC-00004\", \"ERCC-00009\", \"ERCC-00012\", \"ERCC-00013\", \n",
    "        \"ERCC-00014\", \"ERCC-00016\", \"ERCC-00017\", \"ERCC-00019\", \"ERCC-00022\", \"ERCC-00024\", \n",
    "        \"ERCC-00025\", \"ERCC-00028\", \"ERCC-00031\", \"ERCC-00033\", \"ERCC-00034\", \"ERCC-00035\", \n",
    "        \"ERCC-00039\", \"ERCC-00040\", \"ERCC-00041\", \"ERCC-00042\", \"ERCC-00043\", \"ERCC-00044\", \n",
    "        \"ERCC-00046\", \"ERCC-00048\", \"ERCC-00051\", \"ERCC-00053\", \"ERCC-00054\", \"ERCC-00057\", \n",
    "        \"ERCC-00058\", \"ERCC-00059\", \"ERCC-00060\", \"ERCC-00061\", \"ERCC-00062\", \"ERCC-00067\", \n",
    "        \"ERCC-00069\", \"ERCC-00071\", \"ERCC-00073\", \"ERCC-00074\", \"ERCC-00075\", \"ERCC-00076\", \n",
    "        \"ERCC-00077\", \"ERCC-00078\", \"ERCC-00079\", \"ERCC-00081\", \"ERCC-00083\", \"ERCC-00084\", \n",
    "        \"ERCC-00085\", \"ERCC-00086\", \"ERCC-00092\", \"ERCC-00095\", \"ERCC-00096\", \"ERCC-00097\", \n",
    "        \"ERCC-00098\", \"ERCC-00099\", \"ERCC-00104\", \"ERCC-00108\", \"ERCC-00109\", \"ERCC-00111\", \n",
    "        \"ERCC-00112\", \"ERCC-00113\", \"ERCC-00116\", \"ERCC-00117\", \"ERCC-00120\", \"ERCC-00123\", \n",
    "        \"ERCC-00126\", \"ERCC-00130\", \"ERCC-00131\", \"ERCC-00134\", \"ERCC-00136\", \"ERCC-00137\", \n",
    "        \"ERCC-00138\", \"ERCC-00142\", \"ERCC-00143\", \"ERCC-00144\", \"ERCC-00145\", \"ERCC-00147\", \n",
    "        \"ERCC-00148\", \"ERCC-00150\", \"ERCC-00154\", \"ERCC-00156\", \"ERCC-00157\", \"ERCC-00158\", \n",
    "        \"ERCC-00160\", \"ERCC-00162\", \"ERCC-00163\", \"ERCC-00164\", \"ERCC-00165\", \"ERCC-00168\", \n",
    "        \"ERCC-00170\", \"ERCC-00171\"]\n",
    "\n",
    "# parse ERCC bed files\n",
    "res  = {i:[] for i in files}\n",
    "for val in files:\n",
    "    cov = pd.read_csv(folder+\"/\"+val+'.bed',sep=\"\\t\",header=None)\n",
    "    for i in ERCC:\n",
    "        res[val].append(cov[cov[0]==i][1].mean())\n",
    "df = pd.DataFrame(data=res,index=ERCC)"
   ]
  },
  {
   "cell_type": "code",
   "execution_count": 73,
   "id": "5f9ad7d1",
   "metadata": {
    "collapsed": true
   },
   "outputs": [
    {
     "name": "stdout",
     "output_type": "stream",
     "text": [
      "(92, 28)\n"
     ]
    },
    {
     "data": {
      "text/html": [
       "<div>\n",
       "<style scoped>\n",
       "    .dataframe tbody tr th:only-of-type {\n",
       "        vertical-align: middle;\n",
       "    }\n",
       "\n",
       "    .dataframe tbody tr th {\n",
       "        vertical-align: top;\n",
       "    }\n",
       "\n",
       "    .dataframe thead th {\n",
       "        text-align: right;\n",
       "    }\n",
       "</style>\n",
       "<table border=\"1\" class=\"dataframe\">\n",
       "  <thead>\n",
       "    <tr style=\"text-align: right;\">\n",
       "      <th></th>\n",
       "      <th>ERCC_mr590-MV411-DMSO_1h-r1_filtered.bam</th>\n",
       "      <th>ERCC_mr591-MV411-DMSO_1h-r2_filtered.bam</th>\n",
       "      <th>ERCC_mr592-MV411-DMSO_1h-r3_filtered.bam</th>\n",
       "      <th>ERCC_mr593-MV411-DMSO_1h-r4_filtered.bam</th>\n",
       "      <th>ERCC_mr594-MV411-MS2_1h-r1_filtered.bam</th>\n",
       "      <th>ERCC_mr595-MV411-MS2_1h-r2_filtered.bam</th>\n",
       "      <th>ERCC_mr596-MV411-MS2_1h-r3_filtered.bam</th>\n",
       "      <th>ERCC_mr597-MV411-MS2_1h-r4_filtered.bam</th>\n",
       "      <th>ERCC_mr598-MV411-JQ1_1h-r1_filtered.bam</th>\n",
       "      <th>ERCC_mr599-MV411-JQ1_1h-r2_filtered.bam</th>\n",
       "      <th>...</th>\n",
       "      <th>ERCC_mr608-MV411-THZ1_1h-r3_filtered.bam</th>\n",
       "      <th>ERCC_mr609-MV411-THZ1_1h-r4_filtered.bam</th>\n",
       "      <th>ERCC_mr610-MV411-JQ1_MS2_1h-r1_filtered.bam</th>\n",
       "      <th>ERCC_mr611-MV411-JQ1_MS2_1h-r2_filtered.bam</th>\n",
       "      <th>ERCC_mr612-MV411-JQ1_MS2_1h-r3_filtered.bam</th>\n",
       "      <th>ERCC_mr613-MV411-JQ1_MS2_1h-r4_filtered.bam</th>\n",
       "      <th>ERCC_mr614-MV411-JQ1_THZ1_1h-r1_filtered.bam</th>\n",
       "      <th>ERCC_mr615-MV411-JQ1_THZ1_1h-r2_filtered.bam</th>\n",
       "      <th>ERCC_mr616-MV411-JQ1_THZ1_1h-r3_filtered.bam</th>\n",
       "      <th>ERCC_mr617-MV411-JQ1_THZ1_1h-r4_filtered.bam</th>\n",
       "    </tr>\n",
       "  </thead>\n",
       "  <tbody>\n",
       "    <tr>\n",
       "      <th>ERCC-00002</th>\n",
       "      <td>30423.627281</td>\n",
       "      <td>23250.463768</td>\n",
       "      <td>28165.417541</td>\n",
       "      <td>31389.729367</td>\n",
       "      <td>24945.704918</td>\n",
       "      <td>22963.990206</td>\n",
       "      <td>30156.986577</td>\n",
       "      <td>32391.899329</td>\n",
       "      <td>32880.031640</td>\n",
       "      <td>25600.444553</td>\n",
       "      <td>...</td>\n",
       "      <td>33048.539713</td>\n",
       "      <td>28612.170520</td>\n",
       "      <td>29284.483840</td>\n",
       "      <td>23363.205177</td>\n",
       "      <td>41050.067555</td>\n",
       "      <td>35886.948325</td>\n",
       "      <td>37493.200573</td>\n",
       "      <td>41136.045671</td>\n",
       "      <td>29664.074110</td>\n",
       "      <td>38747.103908</td>\n",
       "    </tr>\n",
       "    <tr>\n",
       "      <th>ERCC-00003</th>\n",
       "      <td>1797.950495</td>\n",
       "      <td>2608.870930</td>\n",
       "      <td>2400.448565</td>\n",
       "      <td>2601.010626</td>\n",
       "      <td>2223.540670</td>\n",
       "      <td>1944.613148</td>\n",
       "      <td>3115.191954</td>\n",
       "      <td>3037.930394</td>\n",
       "      <td>3392.140766</td>\n",
       "      <td>2802.736095</td>\n",
       "      <td>...</td>\n",
       "      <td>2643.720137</td>\n",
       "      <td>2749.402567</td>\n",
       "      <td>3008.491329</td>\n",
       "      <td>2405.610374</td>\n",
       "      <td>3320.008929</td>\n",
       "      <td>3708.973274</td>\n",
       "      <td>2698.088565</td>\n",
       "      <td>3422.714761</td>\n",
       "      <td>3440.570447</td>\n",
       "      <td>3465.345435</td>\n",
       "    </tr>\n",
       "  </tbody>\n",
       "</table>\n",
       "<p>2 rows × 28 columns</p>\n",
       "</div>"
      ],
      "text/plain": [
       "            ERCC_mr590-MV411-DMSO_1h-r1_filtered.bam  \\\n",
       "ERCC-00002                              30423.627281   \n",
       "ERCC-00003                               1797.950495   \n",
       "\n",
       "            ERCC_mr591-MV411-DMSO_1h-r2_filtered.bam  \\\n",
       "ERCC-00002                              23250.463768   \n",
       "ERCC-00003                               2608.870930   \n",
       "\n",
       "            ERCC_mr592-MV411-DMSO_1h-r3_filtered.bam  \\\n",
       "ERCC-00002                              28165.417541   \n",
       "ERCC-00003                               2400.448565   \n",
       "\n",
       "            ERCC_mr593-MV411-DMSO_1h-r4_filtered.bam  \\\n",
       "ERCC-00002                              31389.729367   \n",
       "ERCC-00003                               2601.010626   \n",
       "\n",
       "            ERCC_mr594-MV411-MS2_1h-r1_filtered.bam  \\\n",
       "ERCC-00002                             24945.704918   \n",
       "ERCC-00003                              2223.540670   \n",
       "\n",
       "            ERCC_mr595-MV411-MS2_1h-r2_filtered.bam  \\\n",
       "ERCC-00002                             22963.990206   \n",
       "ERCC-00003                              1944.613148   \n",
       "\n",
       "            ERCC_mr596-MV411-MS2_1h-r3_filtered.bam  \\\n",
       "ERCC-00002                             30156.986577   \n",
       "ERCC-00003                              3115.191954   \n",
       "\n",
       "            ERCC_mr597-MV411-MS2_1h-r4_filtered.bam  \\\n",
       "ERCC-00002                             32391.899329   \n",
       "ERCC-00003                              3037.930394   \n",
       "\n",
       "            ERCC_mr598-MV411-JQ1_1h-r1_filtered.bam  \\\n",
       "ERCC-00002                             32880.031640   \n",
       "ERCC-00003                              3392.140766   \n",
       "\n",
       "            ERCC_mr599-MV411-JQ1_1h-r2_filtered.bam  ...  \\\n",
       "ERCC-00002                             25600.444553  ...   \n",
       "ERCC-00003                              2802.736095  ...   \n",
       "\n",
       "            ERCC_mr608-MV411-THZ1_1h-r3_filtered.bam  \\\n",
       "ERCC-00002                              33048.539713   \n",
       "ERCC-00003                               2643.720137   \n",
       "\n",
       "            ERCC_mr609-MV411-THZ1_1h-r4_filtered.bam  \\\n",
       "ERCC-00002                              28612.170520   \n",
       "ERCC-00003                               2749.402567   \n",
       "\n",
       "            ERCC_mr610-MV411-JQ1_MS2_1h-r1_filtered.bam  \\\n",
       "ERCC-00002                                 29284.483840   \n",
       "ERCC-00003                                  3008.491329   \n",
       "\n",
       "            ERCC_mr611-MV411-JQ1_MS2_1h-r2_filtered.bam  \\\n",
       "ERCC-00002                                 23363.205177   \n",
       "ERCC-00003                                  2405.610374   \n",
       "\n",
       "            ERCC_mr612-MV411-JQ1_MS2_1h-r3_filtered.bam  \\\n",
       "ERCC-00002                                 41050.067555   \n",
       "ERCC-00003                                  3320.008929   \n",
       "\n",
       "            ERCC_mr613-MV411-JQ1_MS2_1h-r4_filtered.bam  \\\n",
       "ERCC-00002                                 35886.948325   \n",
       "ERCC-00003                                  3708.973274   \n",
       "\n",
       "            ERCC_mr614-MV411-JQ1_THZ1_1h-r1_filtered.bam  \\\n",
       "ERCC-00002                                  37493.200573   \n",
       "ERCC-00003                                   2698.088565   \n",
       "\n",
       "            ERCC_mr615-MV411-JQ1_THZ1_1h-r2_filtered.bam  \\\n",
       "ERCC-00002                                  41136.045671   \n",
       "ERCC-00003                                   3422.714761   \n",
       "\n",
       "            ERCC_mr616-MV411-JQ1_THZ1_1h-r3_filtered.bam  \\\n",
       "ERCC-00002                                  29664.074110   \n",
       "ERCC-00003                                   3440.570447   \n",
       "\n",
       "            ERCC_mr617-MV411-JQ1_THZ1_1h-r4_filtered.bam  \n",
       "ERCC-00002                                  38747.103908  \n",
       "ERCC-00003                                   3465.345435  \n",
       "\n",
       "[2 rows x 28 columns]"
      ]
     },
     "execution_count": 73,
     "metadata": {},
     "output_type": "execute_result"
    }
   ],
   "source": [
    "print(df.shape)\n",
    "df.iloc[:2]"
   ]
  },
  {
   "cell_type": "markdown",
   "id": "1f85e796",
   "metadata": {},
   "source": [
    "__fill in project manually__"
   ]
  },
  {
   "cell_type": "code",
   "execution_count": 74,
   "id": "1bb4965b",
   "metadata": {},
   "outputs": [
    {
     "data": {
      "text/plain": [
       "'inhibitors_v2'"
      ]
     },
     "execution_count": 74,
     "metadata": {},
     "output_type": "execute_result"
    }
   ],
   "source": [
    "project"
   ]
  },
  {
   "cell_type": "code",
   "execution_count": 75,
   "id": "60c05993",
   "metadata": {
    "collapsed": true
   },
   "outputs": [
    {
     "name": "stdout",
     "output_type": "stream",
     "text": [
      "28\n"
     ]
    },
    {
     "data": {
      "text/plain": [
       "[76141564,\n",
       " 68915329,\n",
       " 83814581,\n",
       " 90450339,\n",
       " 81763299,\n",
       " 59921561,\n",
       " 84808642,\n",
       " 87128344,\n",
       " 99175992,\n",
       " 73601104,\n",
       " 66100830,\n",
       " 64878928,\n",
       " 64387954,\n",
       " 48133075,\n",
       " 62713845,\n",
       " 79450521,\n",
       " 84106774,\n",
       " 84464863,\n",
       " 99346108,\n",
       " 83057911,\n",
       " 94802786,\n",
       " 67535117,\n",
       " 110876417,\n",
       " 100853885,\n",
       " 72121614,\n",
       " 86112498,\n",
       " 88619852,\n",
       " 92555492]"
      ]
     },
     "execution_count": 75,
     "metadata": {},
     "output_type": "execute_result"
    }
   ],
   "source": [
    "# (fill in project manually) same as previous run w/o -rl\n",
    "totalcounts = ! for unkn in $(ls ../../data/slamseq_inhibitors_v2/res/filter/mr*.bam); do samtools view -c -F 260 $unkn; done\n",
    "totalcounts = [int(i) for i in totalcounts]\n",
    "print(len(totalcounts))\n",
    "totalcounts"
   ]
  },
  {
   "cell_type": "code",
   "execution_count": 76,
   "id": "92c99a45",
   "metadata": {
    "collapsed": true
   },
   "outputs": [
    {
     "name": "stdout",
     "output_type": "stream",
     "text": [
      "28\n"
     ]
    },
    {
     "data": {
      "text/plain": [
       "['mr590-MV411-DMSO_1h-r1',\n",
       " 'mr591-MV411-DMSO_1h-r2',\n",
       " 'mr592-MV411-DMSO_1h-r3',\n",
       " 'mr593-MV411-DMSO_1h-r4',\n",
       " 'mr594-MV411-MS2_1h-r1',\n",
       " 'mr595-MV411-MS2_1h-r2',\n",
       " 'mr596-MV411-MS2_1h-r3',\n",
       " 'mr597-MV411-MS2_1h-r4',\n",
       " 'mr598-MV411-JQ1_1h-r1',\n",
       " 'mr599-MV411-JQ1_1h-r2',\n",
       " 'mr600-MV411-JQ1_1h-r3',\n",
       " 'mr601-MV411-JQ1_1h-r4',\n",
       " 'mr602-MV411-MYCi361_1h-r1',\n",
       " 'mr603-MV411-MYCi361_1h-r2',\n",
       " 'mr604-MV411-MYCi361_1h-r3',\n",
       " 'mr605-MV411-MYCi361_1h-r4',\n",
       " 'mr606-MV411-THZ1_1h-r1',\n",
       " 'mr607-MV411-THZ1_1h-r2',\n",
       " 'mr608-MV411-THZ1_1h-r3',\n",
       " 'mr609-MV411-THZ1_1h-r4',\n",
       " 'mr610-MV411-JQ1_MS2_1h-r1',\n",
       " 'mr611-MV411-JQ1_MS2_1h-r2',\n",
       " 'mr612-MV411-JQ1_MS2_1h-r3',\n",
       " 'mr613-MV411-JQ1_MS2_1h-r4',\n",
       " 'mr614-MV411-JQ1_THZ1_1h-r1',\n",
       " 'mr615-MV411-JQ1_THZ1_1h-r2',\n",
       " 'mr616-MV411-JQ1_THZ1_1h-r3',\n",
       " 'mr617-MV411-JQ1_THZ1_1h-r4']"
      ]
     },
     "execution_count": 76,
     "metadata": {},
     "output_type": "execute_result"
    }
   ],
   "source": [
    "samples = ! ls ../../data/slamseq_$project/res/filter/mr*.bam\n",
    "samples = [os.path.basename(sample) for sample in samples]\n",
    "samples = [sample.split(\"_filtered.bam\")[0] for sample in samples]\n",
    "print(len(samples))\n",
    "samples"
   ]
  },
  {
   "cell_type": "code",
   "execution_count": 77,
   "id": "a59b8f49",
   "metadata": {
    "collapsed": true
   },
   "outputs": [
    {
     "data": {
      "text/plain": [
       "mr590-MV411-DMSO_1h-r1         76141564\n",
       "mr591-MV411-DMSO_1h-r2         68915329\n",
       "mr592-MV411-DMSO_1h-r3         83814581\n",
       "mr593-MV411-DMSO_1h-r4         90450339\n",
       "mr594-MV411-MS2_1h-r1          81763299\n",
       "mr595-MV411-MS2_1h-r2          59921561\n",
       "mr596-MV411-MS2_1h-r3          84808642\n",
       "mr597-MV411-MS2_1h-r4          87128344\n",
       "mr598-MV411-JQ1_1h-r1          99175992\n",
       "mr599-MV411-JQ1_1h-r2          73601104\n",
       "mr600-MV411-JQ1_1h-r3          66100830\n",
       "mr601-MV411-JQ1_1h-r4          64878928\n",
       "mr602-MV411-MYCi361_1h-r1      64387954\n",
       "mr603-MV411-MYCi361_1h-r2      48133075\n",
       "mr604-MV411-MYCi361_1h-r3      62713845\n",
       "mr605-MV411-MYCi361_1h-r4      79450521\n",
       "mr606-MV411-THZ1_1h-r1         84106774\n",
       "mr607-MV411-THZ1_1h-r2         84464863\n",
       "mr608-MV411-THZ1_1h-r3         99346108\n",
       "mr609-MV411-THZ1_1h-r4         83057911\n",
       "mr610-MV411-JQ1_MS2_1h-r1      94802786\n",
       "mr611-MV411-JQ1_MS2_1h-r2      67535117\n",
       "mr612-MV411-JQ1_MS2_1h-r3     110876417\n",
       "mr613-MV411-JQ1_MS2_1h-r4     100853885\n",
       "mr614-MV411-JQ1_THZ1_1h-r1     72121614\n",
       "mr615-MV411-JQ1_THZ1_1h-r2     86112498\n",
       "mr616-MV411-JQ1_THZ1_1h-r3     88619852\n",
       "mr617-MV411-JQ1_THZ1_1h-r4     92555492\n",
       "dtype: int64"
      ]
     },
     "execution_count": 77,
     "metadata": {},
     "output_type": "execute_result"
    }
   ],
   "source": [
    "pd.Series(totalcounts, index=samples)"
   ]
  },
  {
   "cell_type": "code",
   "execution_count": 78,
   "id": "f252b325",
   "metadata": {},
   "outputs": [],
   "source": [
    "# add total counts to csv series\n",
    "totalcounts_csv = pd.Series(totalcounts, index=samples)\n",
    "# save total counts\n",
    "totalcounts_csv.to_csv(\"../results/slamseq_\"+project+\"/\"+project+\"_totalcounts.csv\", header=False)"
   ]
  },
  {
   "cell_type": "markdown",
   "id": "2321229d",
   "metadata": {},
   "source": [
    "calc pseudocounts / scaling factors"
   ]
  },
  {
   "cell_type": "code",
   "execution_count": 79,
   "id": "7c00ba8a",
   "metadata": {},
   "outputs": [],
   "source": [
    "# column avg * 10,000 / total column counts\n",
    "# how much ERCC / reads per sample\n",
    "res = 10000*df.mean()/totalcounts"
   ]
  },
  {
   "cell_type": "code",
   "execution_count": 80,
   "id": "c3c55a0b",
   "metadata": {
    "collapsed": true
   },
   "outputs": [
    {
     "data": {
      "text/plain": [
       "ERCC_mr590-MV411-DMSO_1h-r1_filtered.bam        0.341648\n",
       "ERCC_mr591-MV411-DMSO_1h-r2_filtered.bam        0.329341\n",
       "ERCC_mr592-MV411-DMSO_1h-r3_filtered.bam        0.306805\n",
       "ERCC_mr593-MV411-DMSO_1h-r4_filtered.bam        0.326813\n",
       "ERCC_mr594-MV411-MS2_1h-r1_filtered.bam         0.293509\n",
       "ERCC_mr595-MV411-MS2_1h-r2_filtered.bam         0.340927\n",
       "ERCC_mr596-MV411-MS2_1h-r3_filtered.bam         0.346558\n",
       "ERCC_mr597-MV411-MS2_1h-r4_filtered.bam         0.356847\n",
       "ERCC_mr598-MV411-JQ1_1h-r1_filtered.bam         0.331761\n",
       "ERCC_mr599-MV411-JQ1_1h-r2_filtered.bam         0.326792\n",
       "ERCC_mr600-MV411-JQ1_1h-r3_filtered.bam         0.386950\n",
       "ERCC_mr601-MV411-JQ1_1h-r4_filtered.bam         0.316964\n",
       "ERCC_mr602-MV411-MYCi361_1h-r1_filtered.bam     0.369813\n",
       "ERCC_mr603-MV411-MYCi361_1h-r2_filtered.bam     0.334681\n",
       "ERCC_mr604-MV411-MYCi361_1h-r3_filtered.bam     0.337304\n",
       "ERCC_mr605-MV411-MYCi361_1h-r4_filtered.bam     0.270546\n",
       "ERCC_mr606-MV411-THZ1_1h-r1_filtered.bam        0.332162\n",
       "ERCC_mr607-MV411-THZ1_1h-r2_filtered.bam        0.307091\n",
       "ERCC_mr608-MV411-THZ1_1h-r3_filtered.bam        0.302844\n",
       "ERCC_mr609-MV411-THZ1_1h-r4_filtered.bam        0.331523\n",
       "ERCC_mr610-MV411-JQ1_MS2_1h-r1_filtered.bam     0.315682\n",
       "ERCC_mr611-MV411-JQ1_MS2_1h-r2_filtered.bam     0.323851\n",
       "ERCC_mr612-MV411-JQ1_MS2_1h-r3_filtered.bam     0.336793\n",
       "ERCC_mr613-MV411-JQ1_MS2_1h-r4_filtered.bam     0.352872\n",
       "ERCC_mr614-MV411-JQ1_THZ1_1h-r1_filtered.bam    0.468901\n",
       "ERCC_mr615-MV411-JQ1_THZ1_1h-r2_filtered.bam    0.409994\n",
       "ERCC_mr616-MV411-JQ1_THZ1_1h-r3_filtered.bam    0.334275\n",
       "ERCC_mr617-MV411-JQ1_THZ1_1h-r4_filtered.bam    0.402424\n",
       "dtype: float64"
      ]
     },
     "execution_count": 80,
     "metadata": {},
     "output_type": "execute_result"
    }
   ],
   "source": [
    "res"
   ]
  },
  {
   "cell_type": "code",
   "execution_count": 81,
   "id": "b171e5ee",
   "metadata": {},
   "outputs": [
    {
     "name": "stdout",
     "output_type": "stream",
     "text": [
      "[0.27054618 0.32212945 0.33321833 0.34813652 0.46890095]\n"
     ]
    }
   ],
   "source": [
    "print(np.percentile(res.values, [0,25,50,75,100]))"
   ]
  },
  {
   "cell_type": "code",
   "execution_count": 82,
   "id": "f9ab6dee",
   "metadata": {},
   "outputs": [
    {
     "name": "stdout",
     "output_type": "stream",
     "text": [
      "Creating output directory: ../results/slamseq_inhibitors_v2/plots/\n"
     ]
    }
   ],
   "source": [
    "# save ERCC pseudocounts\n",
    "res_dir = \"../results/slamseq_\"+project+\"/\"\n",
    "createDir(res_dir+\"plots/\")\n",
    "res.to_csv(res_dir+project+\"_scaling_factors.csv\", header=False)"
   ]
  },
  {
   "cell_type": "markdown",
   "id": "43123d88",
   "metadata": {},
   "source": [
    "### calc ERCC scaling factors"
   ]
  },
  {
   "cell_type": "code",
   "execution_count": 83,
   "id": "0482af3e",
   "metadata": {},
   "outputs": [],
   "source": [
    "from natsort import natsorted, ns\n",
    "from collections import Counter"
   ]
  },
  {
   "cell_type": "code",
   "execution_count": 84,
   "id": "bfbe57fd",
   "metadata": {},
   "outputs": [
    {
     "data": {
      "text/plain": [
       "'MV411-DMSO_1h'"
      ]
     },
     "execution_count": 84,
     "metadata": {},
     "output_type": "execute_result"
    }
   ],
   "source": [
    "res.keys()[0].split(\"-\", 1)[1].split(\"-r\")[0]"
   ]
  },
  {
   "cell_type": "code",
   "execution_count": 85,
   "id": "b07f58f0",
   "metadata": {
    "collapsed": true
   },
   "outputs": [
    {
     "data": {
      "text/plain": [
       "['MV411-DMSO_1h',\n",
       " 'MV411-DMSO_1h',\n",
       " 'MV411-DMSO_1h',\n",
       " 'MV411-DMSO_1h',\n",
       " 'MV411-MS2_1h',\n",
       " 'MV411-MS2_1h',\n",
       " 'MV411-MS2_1h',\n",
       " 'MV411-MS2_1h',\n",
       " 'MV411-JQ1_1h',\n",
       " 'MV411-JQ1_1h',\n",
       " 'MV411-JQ1_1h',\n",
       " 'MV411-JQ1_1h',\n",
       " 'MV411-MYCi361_1h',\n",
       " 'MV411-MYCi361_1h',\n",
       " 'MV411-MYCi361_1h',\n",
       " 'MV411-MYCi361_1h',\n",
       " 'MV411-THZ1_1h',\n",
       " 'MV411-THZ1_1h',\n",
       " 'MV411-THZ1_1h',\n",
       " 'MV411-THZ1_1h',\n",
       " 'MV411-JQ1_MS2_1h',\n",
       " 'MV411-JQ1_MS2_1h',\n",
       " 'MV411-JQ1_MS2_1h',\n",
       " 'MV411-JQ1_MS2_1h',\n",
       " 'MV411-JQ1_THZ1_1h',\n",
       " 'MV411-JQ1_THZ1_1h',\n",
       " 'MV411-JQ1_THZ1_1h',\n",
       " 'MV411-JQ1_THZ1_1h']"
      ]
     },
     "execution_count": 85,
     "metadata": {},
     "output_type": "execute_result"
    }
   ],
   "source": [
    "[r.split(\"-\", 1)[1].split(\"-r\",)[0] for r in res.keys()]"
   ]
  },
  {
   "cell_type": "markdown",
   "id": "64e825d0",
   "metadata": {},
   "source": [
    "mean over replicates\n",
    "<br>take values for each replicate and get average scaling factor"
   ]
  },
  {
   "cell_type": "code",
   "execution_count": 86,
   "id": "52d34bb5",
   "metadata": {},
   "outputs": [
    {
     "name": "stdout",
     "output_type": "stream",
     "text": [
      "MV411-DMSO_1h: [0.3261517963724936, 0.012500134702073779]\n",
      "MV411-MS2_1h: [0.33446041957175876, 0.024322443483555417]\n",
      "MV411-JQ1_1h: [0.3406168395402226, 0.027275126859314595]\n",
      "MV411-MYCi361_1h: [0.3280861122191835, 0.03598763170706331]\n",
      "MV411-THZ1_1h: [0.31840498782336224, 0.013522824900470541]\n",
      "MV411-JQ1_MS2_1h: [0.3322995523367723, 0.014061741191522873]\n",
      "MV411-JQ1_THZ1_1h: [0.40389846305432336, 0.0477285874459153]\n"
     ]
    }
   ],
   "source": [
    "# replicates per condition\n",
    "reps = [r.split(\"-\", 1)[1].split(\"-r\",)[0] for r in res.keys()]\n",
    "\n",
    "prev=0\n",
    "r={}\n",
    "# get mean and variance of replicates per condition\n",
    "for val in list(Counter(reps).values()):\n",
    "    print(res.keys()[prev].split(\"-\", 1)[1].split(\"-r\")[0]+\": \"+\n",
    "          str([np.mean(res[prev:prev+val]), np.var(res[prev:prev+val])**(1/2)]))\n",
    "    r[res.keys()[prev].split(\"-\", 1)[1].split(\"-r\")[0]]=\\\n",
    "    [np.mean(res[prev:prev+val]), np.var(res[prev:prev+val])**(1/2)]\n",
    "    prev+=val"
   ]
  },
  {
   "cell_type": "markdown",
   "id": "3ec207ab",
   "metadata": {},
   "source": [
    "count distribution of ERCC\n",
    "* linear vs non-linear distributions\n",
    "* shows the highest pseudo-RNAs and lowest concentrations are both adequately represented on the curve (should be linear)"
   ]
  },
  {
   "cell_type": "code",
   "execution_count": 87,
   "id": "1402b517",
   "metadata": {},
   "outputs": [
    {
     "name": "stdout",
     "output_type": "stream",
     "text": [
      "[0.27054618 0.32212945 0.33321833 0.34813652 0.46890095]\n"
     ]
    },
    {
     "data": {
      "text/plain": [
       "[<matplotlib.lines.Line2D at 0x7f72c6a6f940>]"
      ]
     },
     "execution_count": 87,
     "metadata": {},
     "output_type": "execute_result"
    },
    {
     "data": {
      "image/png": "[encoded data removed]",
      "text/plain": [
       "<Figure size 432x288 with 1 Axes>"
      ]
     },
     "metadata": {
      "needs_background": "light"
     },
     "output_type": "display_data"
    }
   ],
   "source": [
    "print(np.quantile(res.tolist(), [0,0.25,0.5,0.75,1]))\n",
    "plt.plot(range(1, len(res)+1), sorted(res.tolist()), '-ok')"
   ]
  },
  {
   "cell_type": "code",
   "execution_count": 88,
   "id": "d3005971",
   "metadata": {},
   "outputs": [
    {
     "data": {
      "text/html": [
       "<div>\n",
       "<style scoped>\n",
       "    .dataframe tbody tr th:only-of-type {\n",
       "        vertical-align: middle;\n",
       "    }\n",
       "\n",
       "    .dataframe tbody tr th {\n",
       "        vertical-align: top;\n",
       "    }\n",
       "\n",
       "    .dataframe thead th {\n",
       "        text-align: right;\n",
       "    }\n",
       "</style>\n",
       "<table border=\"1\" class=\"dataframe\">\n",
       "  <thead>\n",
       "    <tr style=\"text-align: right;\">\n",
       "      <th></th>\n",
       "      <th>ERCC pseudo-counts</th>\n",
       "      <th>var</th>\n",
       "      <th>Experiments</th>\n",
       "    </tr>\n",
       "  </thead>\n",
       "  <tbody>\n",
       "    <tr>\n",
       "      <th>MV411-DMSO_1h</th>\n",
       "      <td>0.326152</td>\n",
       "      <td>0.012500</td>\n",
       "      <td>MV411-DMSO_1h</td>\n",
       "    </tr>\n",
       "    <tr>\n",
       "      <th>MV411-MS2_1h</th>\n",
       "      <td>0.334460</td>\n",
       "      <td>0.024322</td>\n",
       "      <td>MV411-MS2_1h</td>\n",
       "    </tr>\n",
       "    <tr>\n",
       "      <th>MV411-JQ1_1h</th>\n",
       "      <td>0.340617</td>\n",
       "      <td>0.027275</td>\n",
       "      <td>MV411-JQ1_1h</td>\n",
       "    </tr>\n",
       "    <tr>\n",
       "      <th>MV411-MYCi361_1h</th>\n",
       "      <td>0.328086</td>\n",
       "      <td>0.035988</td>\n",
       "      <td>MV411-MYCi361_1h</td>\n",
       "    </tr>\n",
       "    <tr>\n",
       "      <th>MV411-THZ1_1h</th>\n",
       "      <td>0.318405</td>\n",
       "      <td>0.013523</td>\n",
       "      <td>MV411-THZ1_1h</td>\n",
       "    </tr>\n",
       "    <tr>\n",
       "      <th>MV411-JQ1_MS2_1h</th>\n",
       "      <td>0.332300</td>\n",
       "      <td>0.014062</td>\n",
       "      <td>MV411-JQ1_MS2_1h</td>\n",
       "    </tr>\n",
       "    <tr>\n",
       "      <th>MV411-JQ1_THZ1_1h</th>\n",
       "      <td>0.403898</td>\n",
       "      <td>0.047729</td>\n",
       "      <td>MV411-JQ1_THZ1_1h</td>\n",
       "    </tr>\n",
       "  </tbody>\n",
       "</table>\n",
       "</div>"
      ],
      "text/plain": [
       "                   ERCC pseudo-counts       var        Experiments\n",
       "MV411-DMSO_1h                0.326152  0.012500      MV411-DMSO_1h\n",
       "MV411-MS2_1h                 0.334460  0.024322       MV411-MS2_1h\n",
       "MV411-JQ1_1h                 0.340617  0.027275       MV411-JQ1_1h\n",
       "MV411-MYCi361_1h             0.328086  0.035988   MV411-MYCi361_1h\n",
       "MV411-THZ1_1h                0.318405  0.013523      MV411-THZ1_1h\n",
       "MV411-JQ1_MS2_1h             0.332300  0.014062   MV411-JQ1_MS2_1h\n",
       "MV411-JQ1_THZ1_1h            0.403898  0.047729  MV411-JQ1_THZ1_1h"
      ]
     },
     "execution_count": 88,
     "metadata": {},
     "output_type": "execute_result"
    }
   ],
   "source": [
    "# df of DMSO vs treatment for each condition\n",
    "d = pd.DataFrame(data=r.values(), index=r.keys(), columns=['ERCC pseudo-counts','var'])\n",
    "d['Experiments'] = d.index\n",
    "d"
   ]
  },
  {
   "cell_type": "markdown",
   "id": "57de9562",
   "metadata": {},
   "source": [
    "ERCC scaling factors (measures ERCC counts)\n",
    "* treatment vs DMSO should be different\n",
    "* &uarr; ERCC factor = &darr; transcripts\n",
    "* protein level in treatment < DMSO: more ERCC transcripts in treatment than DMSO (less RNA transcripts)\n",
    "* scaling factors: treatment > DMSO - ERCC counts/scaling factors in treatment should be higher\n",
    "* scaling factor of control conditions should be similar"
   ]
  },
  {
   "cell_type": "code",
   "execution_count": 89,
   "id": "95a4bcac",
   "metadata": {},
   "outputs": [
    {
     "data": {
      "image/png": "[encoded data removed]",
      "text/plain": [
       "<Figure size 432x288 with 1 Axes>"
      ]
     },
     "metadata": {
      "needs_background": "light"
     },
     "output_type": "display_data"
    },
    {
     "name": "stdout",
     "output_type": "stream",
     "text": [
      "Saved to ../results/slamseq_inhibitors_v2/plots/inhibitors_v2_scaling_fact_with_conf.pdf\n"
     ]
    }
   ],
   "source": [
    "version = project.replace(\"_\", \" \").split(\" \")[-1]\n",
    "createDir(res_dir+\"/plots/\")\n",
    "\n",
    "# barplot of DMSO vs inhibitor for each condition\n",
    "sns.barplot(x=\"Experiments\", y=\"ERCC pseudo-counts\", data=d, ci=None, )\n",
    "plt.errorbar(x=range(0,len(d)), y=d['ERCC pseudo-counts'],\n",
    "             yerr=d['var'], fmt='none', ecolor=\"black\")\n",
    "plt.xticks(rotation=60, ha='right')\n",
    "plt.title(project.replace(\"_\", \" \").split(\" v\")[0])\n",
    "\n",
    "plt.savefig(res_dir+\"plots/\"+project+\"_scaling_fact_with_conf.pdf\", bbox_inches=\"tight\")\n",
    "plt.show()\n",
    "print(\"Saved to \"+res_dir+\"plots/\"+project+\"_scaling_fact_with_conf.pdf\")"
   ]
  },
  {
   "cell_type": "markdown",
   "id": "15ee2f71",
   "metadata": {},
   "source": [
    "__save average ERCC scaling factors__"
   ]
  },
  {
   "cell_type": "code",
   "execution_count": 90,
   "id": "5c5b3cd0",
   "metadata": {},
   "outputs": [
    {
     "data": {
      "text/html": [
       "<div>\n",
       "<style scoped>\n",
       "    .dataframe tbody tr th:only-of-type {\n",
       "        vertical-align: middle;\n",
       "    }\n",
       "\n",
       "    .dataframe tbody tr th {\n",
       "        vertical-align: top;\n",
       "    }\n",
       "\n",
       "    .dataframe thead th {\n",
       "        text-align: right;\n",
       "    }\n",
       "</style>\n",
       "<table border=\"1\" class=\"dataframe\">\n",
       "  <thead>\n",
       "    <tr style=\"text-align: right;\">\n",
       "      <th></th>\n",
       "      <th>ERCC pseudo-counts</th>\n",
       "      <th>var</th>\n",
       "      <th>Experiments</th>\n",
       "    </tr>\n",
       "  </thead>\n",
       "  <tbody>\n",
       "    <tr>\n",
       "      <th>MV411-DMSO_1h</th>\n",
       "      <td>0.326152</td>\n",
       "      <td>0.012500</td>\n",
       "      <td>MV411-DMSO_1h</td>\n",
       "    </tr>\n",
       "    <tr>\n",
       "      <th>MV411-MS2_1h</th>\n",
       "      <td>0.334460</td>\n",
       "      <td>0.024322</td>\n",
       "      <td>MV411-MS2_1h</td>\n",
       "    </tr>\n",
       "    <tr>\n",
       "      <th>MV411-JQ1_1h</th>\n",
       "      <td>0.340617</td>\n",
       "      <td>0.027275</td>\n",
       "      <td>MV411-JQ1_1h</td>\n",
       "    </tr>\n",
       "    <tr>\n",
       "      <th>MV411-MYCi361_1h</th>\n",
       "      <td>0.328086</td>\n",
       "      <td>0.035988</td>\n",
       "      <td>MV411-MYCi361_1h</td>\n",
       "    </tr>\n",
       "    <tr>\n",
       "      <th>MV411-THZ1_1h</th>\n",
       "      <td>0.318405</td>\n",
       "      <td>0.013523</td>\n",
       "      <td>MV411-THZ1_1h</td>\n",
       "    </tr>\n",
       "    <tr>\n",
       "      <th>MV411-JQ1_MS2_1h</th>\n",
       "      <td>0.332300</td>\n",
       "      <td>0.014062</td>\n",
       "      <td>MV411-JQ1_MS2_1h</td>\n",
       "    </tr>\n",
       "    <tr>\n",
       "      <th>MV411-JQ1_THZ1_1h</th>\n",
       "      <td>0.403898</td>\n",
       "      <td>0.047729</td>\n",
       "      <td>MV411-JQ1_THZ1_1h</td>\n",
       "    </tr>\n",
       "  </tbody>\n",
       "</table>\n",
       "</div>"
      ],
      "text/plain": [
       "                   ERCC pseudo-counts       var        Experiments\n",
       "MV411-DMSO_1h                0.326152  0.012500      MV411-DMSO_1h\n",
       "MV411-MS2_1h                 0.334460  0.024322       MV411-MS2_1h\n",
       "MV411-JQ1_1h                 0.340617  0.027275       MV411-JQ1_1h\n",
       "MV411-MYCi361_1h             0.328086  0.035988   MV411-MYCi361_1h\n",
       "MV411-THZ1_1h                0.318405  0.013523      MV411-THZ1_1h\n",
       "MV411-JQ1_MS2_1h             0.332300  0.014062   MV411-JQ1_MS2_1h\n",
       "MV411-JQ1_THZ1_1h            0.403898  0.047729  MV411-JQ1_THZ1_1h"
      ]
     },
     "execution_count": 90,
     "metadata": {},
     "output_type": "execute_result"
    }
   ],
   "source": [
    "d"
   ]
  },
  {
   "cell_type": "code",
   "execution_count": 91,
   "id": "6d90cbfe",
   "metadata": {},
   "outputs": [],
   "source": [
    "# save avg ERCC pseudocounts\n",
    "res_dir = \"../results/slamseq_\"+project+\"/\"\n",
    "d.to_csv(res_dir+project+\"_scaling_factors_avg.csv\", header=True, index=True)"
   ]
  },
  {
   "cell_type": "markdown",
   "id": "54f4cb8a",
   "metadata": {},
   "source": [
    "### save data to bucket"
   ]
  },
  {
   "cell_type": "code",
   "execution_count": 92,
   "id": "7120750f",
   "metadata": {},
   "outputs": [
    {
     "data": {
      "text/plain": [
       "'inhibitors_v2'"
      ]
     },
     "execution_count": 92,
     "metadata": {},
     "output_type": "execute_result"
    }
   ],
   "source": [
    "project"
   ]
  },
  {
   "cell_type": "code",
   "execution_count": 93,
   "id": "35c6679e",
   "metadata": {},
   "outputs": [
    {
     "name": "stdout",
     "output_type": "stream",
     "text": [
      "Copying file://../../data/slamseq_inhibitors_v2/res/filter/ERCC_mr590-MV411-DMSO_1h-r1_filtered.bam.bed [Content-Type=application/octet-stream]...\n",
      "Copying file://../../data/slamseq_inhibitors_v2/res/filter/ERCC_mr595-MV411-MS2_1h-r2_filtered.bam.bed [Content-Type=application/octet-stream]...\n",
      "Copying file://../../data/slamseq_inhibitors_v2/res/filter/ERCC_mr594-MV411-MS2_1h-r1_filtered.bam.bed [Content-Type=application/octet-stream]...\n",
      "Copying file://../../data/slamseq_inhibitors_v2/res/filter/ERCC_mr592-MV411-DMSO_1h-r3_filtered.bam.bed [Content-Type=application/octet-stream]...\n",
      "Copying file://../../data/slamseq_inhibitors_v2/res/filter/ERCC_mr590-MV411-DMSO_1h-r1_filtered.bam [Content-Type=application/octet-stream]...\n",
      "Copying file://../../data/slamseq_inhibitors_v2/res/filter/ERCC_mr596-MV411-MS2_1h-r3_filtered.bam [Content-Type=application/octet-stream]...\n",
      "Copying file://../../data/slamseq_inhibitors_v2/res/filter/ERCC_mr593-MV411-DMSO_1h-r4_filtered.bam [Content-Type=application/octet-stream]...\n",
      "Copying file://../../data/slamseq_inhibitors_v2/res/filter/ERCC_mr593-MV411-DMSO_1h-r4_filtered.bam.bed [Content-Type=application/octet-stream]...\n",
      "Copying file://../../data/slamseq_inhibitors_v2/res/filter/ERCC_mr594-MV411-MS2_1h-r1_filtered.bam [Content-Type=application/octet-stream]...\n",
      "Copying file://../../data/slamseq_inhibitors_v2/res/filter/ERCC_mr596-MV411-MS2_1h-r3_filtered.bam.bed [Content-Type=application/octet-stream]...\n",
      "Copying file://../../data/slamseq_inhibitors_v2/res/filter/ERCC_mr597-MV411-MS2_1h-r4_filtered.bam [Content-Type=application/octet-stream]...\n",
      "Copying file://../../data/slamseq_inhibitors_v2/res/filter/ERCC_mr591-MV411-DMSO_1h-r2_filtered.bam [Content-Type=application/octet-stream]...\n",
      "Copying file://../../data/slamseq_inhibitors_v2/res/filter/ERCC_mr592-MV411-DMSO_1h-r3_filtered.bam [Content-Type=application/octet-stream]...\n",
      "Copying file://../../data/slamseq_inhibitors_v2/res/filter/ERCC_mr595-MV411-MS2_1h-r2_filtered.bam [Content-Type=application/octet-stream]...\n",
      "Copying file://../../data/slamseq_inhibitors_v2/res/filter/ERCC_mr591-MV411-DMSO_1h-r2_filtered.bam.bed [Content-Type=application/octet-stream]...\n",
      "Copying file://../../data/slamseq_inhibitors_v2/res/filter/ERCC_mr602-MV411-MYCi361_1h-r1_filtered.bam.bed [Content-Type=application/octet-stream]...\n",
      "Copying file://../../data/slamseq_inhibitors_v2/res/filter/ERCC_mr608-MV411-THZ1_1h-r3_filtered.bam.bed [Content-Type=application/octet-stream]...\n",
      "Copying file://../../data/slamseq_inhibitors_v2/res/filter/ERCC_mr607-MV411-THZ1_1h-r2_filtered.bam.bed [Content-Type=application/octet-stream]...\n",
      "Copying file://../../data/slamseq_inhibitors_v2/res/filter/ERCC_mr598-MV411-JQ1_1h-r1_filtered.bam.bed [Content-Type=application/octet-stream]...\n",
      "Copying file://../../data/slamseq_inhibitors_v2/res/filter/ERCC_mr600-MV411-JQ1_1h-r3_filtered.bam.bed [Content-Type=application/octet-stream]...\n",
      "Copying file://../../data/slamseq_inhibitors_v2/res/filter/ERCC_mr609-MV411-THZ1_1h-r4_filtered.bam.bed [Content-Type=application/octet-stream]...\n",
      "Copying file://../../data/slamseq_inhibitors_v2/res/filter/ERCC_mr604-MV411-MYCi361_1h-r3_filtered.bam [Content-Type=application/octet-stream]...\n",
      "Copying file://../../data/slamseq_inhibitors_v2/res/filter/ERCC_mr597-MV411-MS2_1h-r4_filtered.bam.bed [Content-Type=application/octet-stream]...\n",
      "Copying file://../../data/slamseq_inhibitors_v2/res/filter/ERCC_mr604-MV411-MYCi361_1h-r3_filtered.bam.bed [Content-Type=application/octet-stream]...\n",
      "Copying file://../../data/slamseq_inhibitors_v2/res/filter/ERCC_mr599-MV411-JQ1_1h-r2_filtered.bam [Content-Type=application/octet-stream]...\n",
      "Copying file://../../data/slamseq_inhibitors_v2/res/filter/ERCC_mr603-MV411-MYCi361_1h-r2_filtered.bam.bed [Content-Type=application/octet-stream]...\n",
      "Copying file://../../data/slamseq_inhibitors_v2/res/filter/ERCC_mr599-MV411-JQ1_1h-r2_filtered.bam.bed [Content-Type=application/octet-stream]...\n",
      "Copying file://../../data/slamseq_inhibitors_v2/res/filter/ERCC_mr603-MV411-MYCi361_1h-r2_filtered.bam [Content-Type=application/octet-stream]...\n",
      "Copying file://../../data/slamseq_inhibitors_v2/res/filter/ERCC_mr598-MV411-JQ1_1h-r1_filtered.bam [Content-Type=application/octet-stream]...\n",
      "Copying file://../../data/slamseq_inhibitors_v2/res/filter/ERCC_mr602-MV411-MYCi361_1h-r1_filtered.bam [Content-Type=application/octet-stream]...\n",
      "Copying file://../../data/slamseq_inhibitors_v2/res/filter/ERCC_mr601-MV411-JQ1_1h-r4_filtered.bam [Content-Type=application/octet-stream]...\n",
      "Copying file://../../data/slamseq_inhibitors_v2/res/filter/ERCC_mr600-MV411-JQ1_1h-r3_filtered.bam [Content-Type=application/octet-stream]...\n",
      "Copying file://../../data/slamseq_inhibitors_v2/res/filter/ERCC_mr605-MV411-MYCi361_1h-r4_filtered.bam [Content-Type=application/octet-stream]...\n",
      "Copying file://../../data/slamseq_inhibitors_v2/res/filter/ERCC_mr601-MV411-JQ1_1h-r4_filtered.bam.bed [Content-Type=application/octet-stream]...\n",
      "Copying file://../../data/slamseq_inhibitors_v2/res/filter/ERCC_mr605-MV411-MYCi361_1h-r4_filtered.bam.bed [Content-Type=application/octet-stream]...\n",
      "Copying file://../../data/slamseq_inhibitors_v2/res/filter/ERCC_mr608-MV411-THZ1_1h-r3_filtered.bam [Content-Type=application/octet-stream]...\n",
      "Copying file://../../data/slamseq_inhibitors_v2/res/filter/ERCC_mr607-MV411-THZ1_1h-r2_filtered.bam [Content-Type=application/octet-stream]...\n",
      "Copying file://../../data/slamseq_inhibitors_v2/res/filter/ERCC_mr609-MV411-THZ1_1h-r4_filtered.bam [Content-Type=application/octet-stream]...\n",
      "Copying file://../../data/slamseq_inhibitors_v2/res/filter/ERCC_mr606-MV411-THZ1_1h-r1_filtered.bam [Content-Type=application/octet-stream]...\n",
      "Copying file://../../data/slamseq_inhibitors_v2/res/filter/ERCC_mr606-MV411-THZ1_1h-r1_filtered.bam.bed [Content-Type=application/octet-stream]...\n",
      "Copying file://../../data/slamseq_inhibitors_v2/res/filter/ERCC_mr610-MV411-JQ1_MS2_1h-r1_filtered.bam.bed [Content-Type=application/octet-stream]...\n",
      "Copying file://../../data/slamseq_inhibitors_v2/res/filter/ERCC_mr610-MV411-JQ1_MS2_1h-r1_filtered.bam [Content-Type=application/octet-stream]...\n",
      "Copying file://../../data/slamseq_inhibitors_v2/res/filter/ERCC_mr611-MV411-JQ1_MS2_1h-r2_filtered.bam [Content-Type=application/octet-stream]...\n",
      "Copying file://../../data/slamseq_inhibitors_v2/res/filter/ERCC_mr611-MV411-JQ1_MS2_1h-r2_filtered.bam.bed [Content-Type=application/octet-stream]...\n",
      "Copying file://../../data/slamseq_inhibitors_v2/res/filter/ERCC_mr612-MV411-JQ1_MS2_1h-r3_filtered.bam [Content-Type=application/octet-stream]...\n",
      "Copying file://../../data/slamseq_inhibitors_v2/res/filter/ERCC_mr612-MV411-JQ1_MS2_1h-r3_filtered.bam.bed [Content-Type=application/octet-stream]...\n",
      "Copying file://../../data/slamseq_inhibitors_v2/res/filter/ERCC_mr613-MV411-JQ1_MS2_1h-r4_filtered.bam [Content-Type=application/octet-stream]...\n",
      "Copying file://../../data/slamseq_inhibitors_v2/res/filter/ERCC_mr613-MV411-JQ1_MS2_1h-r4_filtered.bam.bed [Content-Type=application/octet-stream]...\n",
      "Copying file://../../data/slamseq_inhibitors_v2/res/filter/ERCC_mr614-MV411-JQ1_THZ1_1h-r1_filtered.bam [Content-Type=application/octet-stream]...\n",
      "Copying file://../../data/slamseq_inhibitors_v2/res/filter/ERCC_mr614-MV411-JQ1_THZ1_1h-r1_filtered.bam.bed [Content-Type=application/octet-stream]...\n",
      "Copying file://../../data/slamseq_inhibitors_v2/res/filter/ERCC_mr615-MV411-JQ1_THZ1_1h-r2_filtered.bam [Content-Type=application/octet-stream]...\n",
      "Copying file://../../data/slamseq_inhibitors_v2/res/filter/ERCC_mr615-MV411-JQ1_THZ1_1h-r2_filtered.bam.bed [Content-Type=application/octet-stream]...\n",
      "Copying file://../../data/slamseq_inhibitors_v2/res/filter/ERCC_mr616-MV411-JQ1_THZ1_1h-r3_filtered.bam [Content-Type=application/octet-stream]...\n",
      "Copying file://../../data/slamseq_inhibitors_v2/res/filter/ERCC_mr616-MV411-JQ1_THZ1_1h-r3_filtered.bam.bed [Content-Type=application/octet-stream]...\n",
      "Copying file://../../data/slamseq_inhibitors_v2/res/filter/ERCC_mr617-MV411-JQ1_THZ1_1h-r4_filtered.bam [Content-Type=application/octet-stream]...\n",
      "Copying file://../../data/slamseq_inhibitors_v2/res/filter/ERCC_mr617-MV411-JQ1_THZ1_1h-r4_filtered.bam.bed [Content-Type=application/octet-stream]...\n",
      "Copying file://../../data/slamseq_inhibitors_v2/res/filter/mr590-MV411-DMSO_1h-r1_filtered.bam [Content-Type=application/octet-stream]...\n",
      "==> NOTE: You are uploading one or more large file(s), which would run          \n",
      "significantly faster if you enable parallel composite uploads. This\n",
      "feature can be enabled by editing the\n",
      "\"parallel_composite_upload_threshold\" value in your .boto\n",
      "configuration file. However, note that if you do this large files will\n",
      "be uploaded as `composite objects\n",
      "<https://cloud.google.com/storage/docs/composite-objects>`_,which\n",
      "means that any user who downloads such objects will need to have a\n",
      "compiled crcmod installed (see \"gsutil help crcmod\"). This is because\n",
      "without a compiled crcmod, computing checksums on composite objects is\n",
      "so slow that gsutil disables downloads of composite objects.\n",
      "\n",
      "Copying file://../../data/slamseq_inhibitors_v2/res/filter/mr590-MV411-DMSO_1h-r1_filtered.bam.bai [Content-Type=application/octet-stream]...\n",
      "Copying file://../../data/slamseq_inhibitors_v2/res/filter/mr590-MV411-DMSO_1h-r1_filtered.log [Content-Type=application/octet-stream]...\n",
      "Copying file://../../data/slamseq_inhibitors_v2/res/filter/mr591-MV411-DMSO_1h-r2_filtered.bam [Content-Type=application/octet-stream]...\n",
      "Copying file://../../data/slamseq_inhibitors_v2/res/filter/mr591-MV411-DMSO_1h-r2_filtered.bam.bai [Content-Type=application/octet-stream]...\n",
      "Copying file://../../data/slamseq_inhibitors_v2/res/filter/mr591-MV411-DMSO_1h-r2_filtered.log [Content-Type=application/octet-stream]...\n",
      "Copying file://../../data/slamseq_inhibitors_v2/res/filter/mr592-MV411-DMSO_1h-r3_filtered.bam [Content-Type=application/octet-stream]...\n",
      "Copying file://../../data/slamseq_inhibitors_v2/res/filter/mr592-MV411-DMSO_1h-r3_filtered.bam.bai [Content-Type=application/octet-stream]...\n",
      "Copying file://../../data/slamseq_inhibitors_v2/res/filter/mr592-MV411-DMSO_1h-r3_filtered.log [Content-Type=application/octet-stream]...\n",
      "Copying file://../../data/slamseq_inhibitors_v2/res/filter/mr593-MV411-DMSO_1h-r4_filtered.bam [Content-Type=application/octet-stream]...\n",
      "Copying file://../../data/slamseq_inhibitors_v2/res/filter/mr593-MV411-DMSO_1h-r4_filtered.bam.bai [Content-Type=application/octet-stream]...\n",
      "Copying file://../../data/slamseq_inhibitors_v2/res/filter/mr593-MV411-DMSO_1h-r4_filtered.log [Content-Type=application/octet-stream]...\n",
      "Copying file://../../data/slamseq_inhibitors_v2/res/filter/mr594-MV411-MS2_1h-r1_filtered.bam [Content-Type=application/octet-stream]...\n",
      "Copying file://../../data/slamseq_inhibitors_v2/res/filter/mr594-MV411-MS2_1h-r1_filtered.bam.bai [Content-Type=application/octet-stream]...\n",
      "Copying file://../../data/slamseq_inhibitors_v2/res/filter/mr594-MV411-MS2_1h-r1_filtered.log [Content-Type=application/octet-stream]...\n",
      "Copying file://../../data/slamseq_inhibitors_v2/res/filter/mr595-MV411-MS2_1h-r2_filtered.bam [Content-Type=application/octet-stream]...\n",
      "Copying file://../../data/slamseq_inhibitors_v2/res/filter/mr595-MV411-MS2_1h-r2_filtered.bam.bai [Content-Type=application/octet-stream]...\n",
      "Copying file://../../data/slamseq_inhibitors_v2/res/filter/mr595-MV411-MS2_1h-r2_filtered.log [Content-Type=application/octet-stream]...\n",
      "Copying file://../../data/slamseq_inhibitors_v2/res/filter/mr596-MV411-MS2_1h-r3_filtered.bam [Content-Type=application/octet-stream]...\n",
      "Copying file://../../data/slamseq_inhibitors_v2/res/filter/mr596-MV411-MS2_1h-r3_filtered.bam.bai [Content-Type=application/octet-stream]...\n",
      "Copying file://../../data/slamseq_inhibitors_v2/res/filter/mr596-MV411-MS2_1h-r3_filtered.log [Content-Type=application/octet-stream]...\n",
      "Copying file://../../data/slamseq_inhibitors_v2/res/filter/mr597-MV411-MS2_1h-r4_filtered.bam [Content-Type=application/octet-stream]...\n",
      "Copying file://../../data/slamseq_inhibitors_v2/res/filter/mr597-MV411-MS2_1h-r4_filtered.bam.bai [Content-Type=application/octet-stream]...\n",
      "Copying file://../../data/slamseq_inhibitors_v2/res/filter/mr597-MV411-MS2_1h-r4_filtered.log [Content-Type=application/octet-stream]...\n",
      "Copying file://../../data/slamseq_inhibitors_v2/res/filter/mr598-MV411-JQ1_1h-r1_filtered.bam [Content-Type=application/octet-stream]...\n",
      "Copying file://../../data/slamseq_inhibitors_v2/res/filter/mr598-MV411-JQ1_1h-r1_filtered.bam.bai [Content-Type=application/octet-stream]...\n",
      "Copying file://../../data/slamseq_inhibitors_v2/res/filter/mr598-MV411-JQ1_1h-r1_filtered.log [Content-Type=application/octet-stream]...\n",
      "Copying file://../../data/slamseq_inhibitors_v2/res/filter/mr599-MV411-JQ1_1h-r2_filtered.bam [Content-Type=application/octet-stream]...\n",
      "Copying file://../../data/slamseq_inhibitors_v2/res/filter/mr599-MV411-JQ1_1h-r2_filtered.bam.bai [Content-Type=application/octet-stream]...\n",
      "Copying file://../../data/slamseq_inhibitors_v2/res/filter/mr599-MV411-JQ1_1h-r2_filtered.log [Content-Type=application/octet-stream]...\n",
      "Copying file://../../data/slamseq_inhibitors_v2/res/filter/mr600-MV411-JQ1_1h-r3_filtered.bam [Content-Type=application/octet-stream]...\n",
      "Copying file://../../data/slamseq_inhibitors_v2/res/filter/mr600-MV411-JQ1_1h-r3_filtered.bam.bai [Content-Type=application/octet-stream]...\n",
      "Copying file://../../data/slamseq_inhibitors_v2/res/filter/mr600-MV411-JQ1_1h-r3_filtered.log [Content-Type=application/octet-stream]...\n",
      "Copying file://../../data/slamseq_inhibitors_v2/res/filter/mr601-MV411-JQ1_1h-r4_filtered.bam [Content-Type=application/octet-stream]...\n",
      "Copying file://../../data/slamseq_inhibitors_v2/res/filter/mr601-MV411-JQ1_1h-r4_filtered.bam.bai [Content-Type=application/octet-stream]...\n",
      "Copying file://../../data/slamseq_inhibitors_v2/res/filter/mr601-MV411-JQ1_1h-r4_filtered.log [Content-Type=application/octet-stream]...\n",
      "Copying file://../../data/slamseq_inhibitors_v2/res/filter/mr602-MV411-MYCi361_1h-r1_filtered.bam [Content-Type=application/octet-stream]...\n",
      "Copying file://../../data/slamseq_inhibitors_v2/res/filter/mr602-MV411-MYCi361_1h-r1_filtered.bam.bai [Content-Type=application/octet-stream]...\n",
      "Copying file://../../data/slamseq_inhibitors_v2/res/filter/mr602-MV411-MYCi361_1h-r1_filtered.log [Content-Type=application/octet-stream]...\n",
      "Copying file://../../data/slamseq_inhibitors_v2/res/filter/mr603-MV411-MYCi361_1h-r2_filtered.bam [Content-Type=application/octet-stream]...\n",
      "Copying file://../../data/slamseq_inhibitors_v2/res/filter/mr603-MV411-MYCi361_1h-r2_filtered.bam.bai [Content-Type=application/octet-stream]...\n",
      "Copying file://../../data/slamseq_inhibitors_v2/res/filter/mr603-MV411-MYCi361_1h-r2_filtered.log [Content-Type=application/octet-stream]...\n",
      "Copying file://../../data/slamseq_inhibitors_v2/res/filter/mr604-MV411-MYCi361_1h-r3_filtered.bam [Content-Type=application/octet-stream]...\n",
      "Copying file://../../data/slamseq_inhibitors_v2/res/filter/mr604-MV411-MYCi361_1h-r3_filtered.bam.bai [Content-Type=application/octet-stream]...\n",
      "Copying file://../../data/slamseq_inhibitors_v2/res/filter/mr604-MV411-MYCi361_1h-r3_filtered.log [Content-Type=application/octet-stream]...\n",
      "Copying file://../../data/slamseq_inhibitors_v2/res/filter/mr605-MV411-MYCi361_1h-r4_filtered.bam [Content-Type=application/octet-stream]...\n",
      "Copying file://../../data/slamseq_inhibitors_v2/res/filter/mr605-MV411-MYCi361_1h-r4_filtered.bam.bai [Content-Type=application/octet-stream]...\n",
      "Copying file://../../data/slamseq_inhibitors_v2/res/filter/mr605-MV411-MYCi361_1h-r4_filtered.log [Content-Type=application/octet-stream]...\n",
      "Copying file://../../data/slamseq_inhibitors_v2/res/filter/mr606-MV411-THZ1_1h-r1_filtered.bam [Content-Type=application/octet-stream]...\n",
      "Copying file://../../data/slamseq_inhibitors_v2/res/filter/mr606-MV411-THZ1_1h-r1_filtered.bam.bai [Content-Type=application/octet-stream]...\n",
      "Copying file://../../data/slamseq_inhibitors_v2/res/filter/mr606-MV411-THZ1_1h-r1_filtered.log [Content-Type=application/octet-stream]...\n",
      "Copying file://../../data/slamseq_inhibitors_v2/res/filter/mr607-MV411-THZ1_1h-r2_filtered.bam [Content-Type=application/octet-stream]...\n",
      "Copying file://../../data/slamseq_inhibitors_v2/res/filter/mr607-MV411-THZ1_1h-r2_filtered.bam.bai [Content-Type=application/octet-stream]...\n",
      "Copying file://../../data/slamseq_inhibitors_v2/res/filter/mr607-MV411-THZ1_1h-r2_filtered.log [Content-Type=application/octet-stream]...\n"
     ]
    },
    {
     "name": "stdout",
     "output_type": "stream",
     "text": [
      "Copying file://../../data/slamseq_inhibitors_v2/res/filter/mr608-MV411-THZ1_1h-r3_filtered.bam [Content-Type=application/octet-stream]...\n",
      "Copying file://../../data/slamseq_inhibitors_v2/res/filter/mr608-MV411-THZ1_1h-r3_filtered.bam.bai [Content-Type=application/octet-stream]...\n",
      "Copying file://../../data/slamseq_inhibitors_v2/res/filter/mr608-MV411-THZ1_1h-r3_filtered.log [Content-Type=application/octet-stream]...\n",
      "Copying file://../../data/slamseq_inhibitors_v2/res/filter/mr609-MV411-THZ1_1h-r4_filtered.bam [Content-Type=application/octet-stream]...\n",
      "Copying file://../../data/slamseq_inhibitors_v2/res/filter/mr609-MV411-THZ1_1h-r4_filtered.bam.bai [Content-Type=application/octet-stream]...\n",
      "Copying file://../../data/slamseq_inhibitors_v2/res/filter/mr609-MV411-THZ1_1h-r4_filtered.log [Content-Type=application/octet-stream]...\n",
      "Copying file://../../data/slamseq_inhibitors_v2/res/filter/mr610-MV411-JQ1_MS2_1h-r1_filtered.bam [Content-Type=application/octet-stream]...\n",
      "Copying file://../../data/slamseq_inhibitors_v2/res/filter/mr610-MV411-JQ1_MS2_1h-r1_filtered.bam.bai [Content-Type=application/octet-stream]...\n",
      "Copying file://../../data/slamseq_inhibitors_v2/res/filter/mr610-MV411-JQ1_MS2_1h-r1_filtered.log [Content-Type=application/octet-stream]...\n",
      "Copying file://../../data/slamseq_inhibitors_v2/res/filter/mr611-MV411-JQ1_MS2_1h-r2_filtered.bam [Content-Type=application/octet-stream]...\n",
      "Copying file://../../data/slamseq_inhibitors_v2/res/filter/mr611-MV411-JQ1_MS2_1h-r2_filtered.bam.bai [Content-Type=application/octet-stream]...\n",
      "Copying file://../../data/slamseq_inhibitors_v2/res/filter/mr611-MV411-JQ1_MS2_1h-r2_filtered.log [Content-Type=application/octet-stream]...\n",
      "Copying file://../../data/slamseq_inhibitors_v2/res/filter/mr612-MV411-JQ1_MS2_1h-r3_filtered.bam [Content-Type=application/octet-stream]...\n",
      "Copying file://../../data/slamseq_inhibitors_v2/res/filter/mr612-MV411-JQ1_MS2_1h-r3_filtered.bam.bai [Content-Type=application/octet-stream]...\n",
      "Copying file://../../data/slamseq_inhibitors_v2/res/filter/mr612-MV411-JQ1_MS2_1h-r3_filtered.log [Content-Type=application/octet-stream]...\n",
      "Copying file://../../data/slamseq_inhibitors_v2/res/filter/mr613-MV411-JQ1_MS2_1h-r4_filtered.bam [Content-Type=application/octet-stream]...\n",
      "Copying file://../../data/slamseq_inhibitors_v2/res/filter/mr613-MV411-JQ1_MS2_1h-r4_filtered.bam.bai [Content-Type=application/octet-stream]...\n",
      "Copying file://../../data/slamseq_inhibitors_v2/res/filter/mr613-MV411-JQ1_MS2_1h-r4_filtered.log [Content-Type=application/octet-stream]...\n",
      "Copying file://../../data/slamseq_inhibitors_v2/res/filter/mr614-MV411-JQ1_THZ1_1h-r1_filtered.bam [Content-Type=application/octet-stream]...\n",
      "Copying file://../../data/slamseq_inhibitors_v2/res/filter/mr614-MV411-JQ1_THZ1_1h-r1_filtered.bam.bai [Content-Type=application/octet-stream]...\n",
      "Copying file://../../data/slamseq_inhibitors_v2/res/filter/mr614-MV411-JQ1_THZ1_1h-r1_filtered.log [Content-Type=application/octet-stream]...\n",
      "Copying file://../../data/slamseq_inhibitors_v2/res/filter/mr615-MV411-JQ1_THZ1_1h-r2_filtered.bam [Content-Type=application/octet-stream]...\n",
      "Copying file://../../data/slamseq_inhibitors_v2/res/filter/mr615-MV411-JQ1_THZ1_1h-r2_filtered.bam.bai [Content-Type=application/octet-stream]...\n",
      "Copying file://../../data/slamseq_inhibitors_v2/res/filter/mr615-MV411-JQ1_THZ1_1h-r2_filtered.log [Content-Type=application/octet-stream]...\n",
      "Copying file://../../data/slamseq_inhibitors_v2/res/filter/mr616-MV411-JQ1_THZ1_1h-r3_filtered.bam [Content-Type=application/octet-stream]...\n",
      "Copying file://../../data/slamseq_inhibitors_v2/res/filter/mr616-MV411-JQ1_THZ1_1h-r3_filtered.bam.bai [Content-Type=application/octet-stream]...\n",
      "Copying file://../../data/slamseq_inhibitors_v2/res/filter/mr616-MV411-JQ1_THZ1_1h-r3_filtered.log [Content-Type=application/octet-stream]...\n",
      "Copying file://../../data/slamseq_inhibitors_v2/res/filter/mr617-MV411-JQ1_THZ1_1h-r4_filtered.bam [Content-Type=application/octet-stream]...\n",
      "Copying file://../../data/slamseq_inhibitors_v2/res/filter/mr617-MV411-JQ1_THZ1_1h-r4_filtered.bam.bai [Content-Type=application/octet-stream]...\n",
      "Copying file://../../data/slamseq_inhibitors_v2/res/filter/mr617-MV411-JQ1_THZ1_1h-r4_filtered.log [Content-Type=application/octet-stream]...\n",
      "/ [140/140 files][128.8 GiB/128.8 GiB] 100% Done 100.6 MiB/s ETA 00:00:00       \n",
      "Operation completed over 140 objects/128.8 GiB.                                  \n",
      "Copying file://../../data/slamseq_inhibitors_v2/res/snp/mr590-MV411-DMSO_1h-r1_snp.log [Content-Type=application/octet-stream]...\n",
      "Copying file://../../data/slamseq_inhibitors_v2/res/snp/mr590-MV411-DMSO_1h-r1_snp.vcf [Content-Type=text/vcard]...\n",
      "Copying file://../../data/slamseq_inhibitors_v2/res/snp/mr591-MV411-DMSO_1h-r2_snp.log [Content-Type=application/octet-stream]...\n",
      "Copying file://../../data/slamseq_inhibitors_v2/res/snp/mr591-MV411-DMSO_1h-r2_snp.vcf [Content-Type=text/vcard]...\n",
      "Copying file://../../data/slamseq_inhibitors_v2/res/snp/mr592-MV411-DMSO_1h-r3_snp.log [Content-Type=application/octet-stream]...\n",
      "Copying file://../../data/slamseq_inhibitors_v2/res/snp/mr607-MV411-THZ1_1h-r2_snp.vcf [Content-Type=text/vcard]...\n",
      "Copying file://../../data/slamseq_inhibitors_v2/res/snp/mr594-MV411-MS2_1h-r1_snp.log [Content-Type=application/octet-stream]...\n",
      "Copying file://../../data/slamseq_inhibitors_v2/res/snp/mr592-MV411-DMSO_1h-r3_snp.vcf [Content-Type=text/vcard]...\n",
      "Copying file://../../data/slamseq_inhibitors_v2/res/snp/mr605-MV411-MYCi361_1h-r4_snp.log [Content-Type=application/octet-stream]...\n",
      "Copying file://../../data/slamseq_inhibitors_v2/res/snp/mr603-MV411-MYCi361_1h-r2_snp.vcf [Content-Type=text/vcard]...\n",
      "Copying file://../../data/slamseq_inhibitors_v2/res/snp/mr605-MV411-MYCi361_1h-r4_snp.vcf [Content-Type=text/vcard]...\n",
      "Copying file://../../data/slamseq_inhibitors_v2/res/snp/mr609-MV411-THZ1_1h-r4_snp.vcf [Content-Type=text/vcard]...\n",
      "Copying file://../../data/slamseq_inhibitors_v2/res/snp/mr602-MV411-MYCi361_1h-r1_snp.vcf [Content-Type=text/vcard]...\n",
      "Copying file://../../data/slamseq_inhibitors_v2/res/snp/mr597-MV411-MS2_1h-r4_snp.vcf [Content-Type=text/vcard]...\n",
      "Copying file://../../data/slamseq_inhibitors_v2/res/snp/mr600-MV411-JQ1_1h-r3_snp.vcf [Content-Type=text/vcard]...\n",
      "Copying file://../../data/slamseq_inhibitors_v2/res/snp/mr597-MV411-MS2_1h-r4_snp.log [Content-Type=application/octet-stream]...\n",
      "Copying file://../../data/slamseq_inhibitors_v2/res/snp/mr598-MV411-JQ1_1h-r1_snp.vcf [Content-Type=text/vcard]...\n",
      "Copying file://../../data/slamseq_inhibitors_v2/res/snp/mr606-MV411-THZ1_1h-r1_snp.vcf [Content-Type=text/vcard]...\n",
      "Copying file://../../data/slamseq_inhibitors_v2/res/snp/mr609-MV411-THZ1_1h-r4_snp.log [Content-Type=application/octet-stream]...\n",
      "Copying file://../../data/slamseq_inhibitors_v2/res/snp/mr606-MV411-THZ1_1h-r1_snp.log [Content-Type=application/octet-stream]...\n",
      "Copying file://../../data/slamseq_inhibitors_v2/res/snp/mr604-MV411-MYCi361_1h-r3_snp.vcf [Content-Type=text/vcard]...\n",
      "Copying file://../../data/slamseq_inhibitors_v2/res/snp/mr601-MV411-JQ1_1h-r4_snp.log [Content-Type=application/octet-stream]...\n",
      "Copying file://../../data/slamseq_inhibitors_v2/res/snp/mr602-MV411-MYCi361_1h-r1_snp.log [Content-Type=application/octet-stream]...\n",
      "Copying file://../../data/slamseq_inhibitors_v2/res/snp/mr608-MV411-THZ1_1h-r3_snp.log [Content-Type=application/octet-stream]...\n",
      "Copying file://../../data/slamseq_inhibitors_v2/res/snp/mr596-MV411-MS2_1h-r3_snp.vcf [Content-Type=text/vcard]...\n",
      "Copying file://../../data/slamseq_inhibitors_v2/res/snp/mr604-MV411-MYCi361_1h-r3_snp.log [Content-Type=application/octet-stream]...\n",
      "Copying file://../../data/slamseq_inhibitors_v2/res/snp/mr595-MV411-MS2_1h-r2_snp.vcf [Content-Type=text/vcard]...\n",
      "Copying file://../../data/slamseq_inhibitors_v2/res/snp/mr600-MV411-JQ1_1h-r3_snp.log [Content-Type=application/octet-stream]...\n",
      "Copying file://../../data/slamseq_inhibitors_v2/res/snp/mr596-MV411-MS2_1h-r3_snp.log [Content-Type=application/octet-stream]...\n",
      "Copying file://../../data/slamseq_inhibitors_v2/res/snp/mr608-MV411-THZ1_1h-r3_snp.vcf [Content-Type=text/vcard]...\n",
      "Copying file://../../data/slamseq_inhibitors_v2/res/snp/mr598-MV411-JQ1_1h-r1_snp.log [Content-Type=application/octet-stream]...\n",
      "Copying file://../../data/slamseq_inhibitors_v2/res/snp/mr601-MV411-JQ1_1h-r4_snp.vcf [Content-Type=text/vcard]...\n",
      "Copying file://../../data/slamseq_inhibitors_v2/res/snp/mr599-MV411-JQ1_1h-r2_snp.vcf [Content-Type=text/vcard]...\n",
      "Copying file://../../data/slamseq_inhibitors_v2/res/snp/mr594-MV411-MS2_1h-r1_snp.vcf [Content-Type=text/vcard]...\n",
      "Copying file://../../data/slamseq_inhibitors_v2/res/snp/mr595-MV411-MS2_1h-r2_snp.log [Content-Type=application/octet-stream]...\n",
      "Copying file://../../data/slamseq_inhibitors_v2/res/snp/mr603-MV411-MYCi361_1h-r2_snp.log [Content-Type=application/octet-stream]...\n",
      "Copying file://../../data/slamseq_inhibitors_v2/res/snp/mr593-MV411-DMSO_1h-r4_snp.log [Content-Type=application/octet-stream]...\n",
      "Copying file://../../data/slamseq_inhibitors_v2/res/snp/mr607-MV411-THZ1_1h-r2_snp.log [Content-Type=application/octet-stream]...\n",
      "Copying file://../../data/slamseq_inhibitors_v2/res/snp/mr599-MV411-JQ1_1h-r2_snp.log [Content-Type=application/octet-stream]...\n",
      "Copying file://../../data/slamseq_inhibitors_v2/res/snp/mr593-MV411-DMSO_1h-r4_snp.vcf [Content-Type=text/vcard]...\n"
     ]
    },
    {
     "name": "stdout",
     "output_type": "stream",
     "text": [
      "Copying file://../../data/slamseq_inhibitors_v2/res/snp/mr610-MV411-JQ1_MS2_1h-r1_snp.log [Content-Type=application/octet-stream]...\n",
      "Copying file://../../data/slamseq_inhibitors_v2/res/snp/mr610-MV411-JQ1_MS2_1h-r1_snp.vcf [Content-Type=text/vcard]...\n",
      "Copying file://../../data/slamseq_inhibitors_v2/res/snp/mr611-MV411-JQ1_MS2_1h-r2_snp.log [Content-Type=application/octet-stream]...\n",
      "Copying file://../../data/slamseq_inhibitors_v2/res/snp/mr611-MV411-JQ1_MS2_1h-r2_snp.vcf [Content-Type=text/vcard]...\n",
      "Copying file://../../data/slamseq_inhibitors_v2/res/snp/mr612-MV411-JQ1_MS2_1h-r3_snp.log [Content-Type=application/octet-stream]...\n",
      "Copying file://../../data/slamseq_inhibitors_v2/res/snp/mr612-MV411-JQ1_MS2_1h-r3_snp.vcf [Content-Type=text/vcard]...\n",
      "Copying file://../../data/slamseq_inhibitors_v2/res/snp/mr613-MV411-JQ1_MS2_1h-r4_snp.log [Content-Type=application/octet-stream]...\n",
      "Copying file://../../data/slamseq_inhibitors_v2/res/snp/mr613-MV411-JQ1_MS2_1h-r4_snp.vcf [Content-Type=text/vcard]...\n",
      "Copying file://../../data/slamseq_inhibitors_v2/res/snp/mr614-MV411-JQ1_THZ1_1h-r1_snp.log [Content-Type=application/octet-stream]...\n",
      "Copying file://../../data/slamseq_inhibitors_v2/res/snp/mr614-MV411-JQ1_THZ1_1h-r1_snp.vcf [Content-Type=text/vcard]...\n",
      "Copying file://../../data/slamseq_inhibitors_v2/res/snp/mr615-MV411-JQ1_THZ1_1h-r2_snp.log [Content-Type=application/octet-stream]...\n",
      "Copying file://../../data/slamseq_inhibitors_v2/res/snp/mr615-MV411-JQ1_THZ1_1h-r2_snp.vcf [Content-Type=text/vcard]...\n",
      "Copying file://../../data/slamseq_inhibitors_v2/res/snp/mr616-MV411-JQ1_THZ1_1h-r3_snp.log [Content-Type=application/octet-stream]...\n",
      "Copying file://../../data/slamseq_inhibitors_v2/res/snp/mr616-MV411-JQ1_THZ1_1h-r3_snp.vcf [Content-Type=text/vcard]...\n",
      "Copying file://../../data/slamseq_inhibitors_v2/res/snp/mr617-MV411-JQ1_THZ1_1h-r4_snp.log [Content-Type=application/octet-stream]...\n",
      "Copying file://../../data/slamseq_inhibitors_v2/res/snp/mr617-MV411-JQ1_THZ1_1h-r4_snp.vcf [Content-Type=text/vcard]...\n",
      "| [56/56 files][423.0 MiB/423.0 MiB] 100% Done                                  \n",
      "Operation completed over 56 objects/423.0 MiB.                                   \n",
      "Copying file://../../data/slamseq_inhibitors_v2/res/count/mr590-MV411-DMSO_1h-r1_tcount.log [Content-Type=application/octet-stream]...\n",
      "Copying file://../../data/slamseq_inhibitors_v2/res/count/mr591-MV411-DMSO_1h-r2_tcount.log [Content-Type=application/octet-stream]...\n",
      "Copying file://../../data/slamseq_inhibitors_v2/res/count/mr590-MV411-DMSO_1h-r1_tcount.tsv [Content-Type=text/tab-separated-values]...\n",
      "Copying file://../../data/slamseq_inhibitors_v2/res/count/mr591-MV411-DMSO_1h-r2_tcount_mins.bedgraph [Content-Type=application/octet-stream]...\n",
      "Copying file://../../data/slamseq_inhibitors_v2/res/count/mr591-MV411-DMSO_1h-r2_tcount_plus.bedgraph [Content-Type=application/octet-stream]...\n",
      "Copying file://../../data/slamseq_inhibitors_v2/res/count/mr591-MV411-DMSO_1h-r2_tcount.tsv [Content-Type=text/tab-separated-values]...\n",
      "Copying file://../../data/slamseq_inhibitors_v2/res/count/mr590-MV411-DMSO_1h-r1_tcount_mins.bedgraph [Content-Type=application/octet-stream]...\n",
      "Copying file://../../data/slamseq_inhibitors_v2/res/count/mr590-MV411-DMSO_1h-r1_tcount_plus.bedgraph [Content-Type=application/octet-stream]...\n",
      "Copying file://../../data/slamseq_inhibitors_v2/res/count/mr592-MV411-DMSO_1h-r3_tcount.log [Content-Type=application/octet-stream]...\n",
      "Copying file://../../data/slamseq_inhibitors_v2/res/count/mr592-MV411-DMSO_1h-r3_tcount_mins.bedgraph [Content-Type=application/octet-stream]...\n",
      "Copying file://../../data/slamseq_inhibitors_v2/res/count/mr597-MV411-MS2_1h-r4_tcount_plus.bedgraph [Content-Type=application/octet-stream]...\n",
      "Copying file://../../data/slamseq_inhibitors_v2/res/count/mr593-MV411-DMSO_1h-r4_tcount.log [Content-Type=application/octet-stream]...\n",
      "Copying file://../../data/slamseq_inhibitors_v2/res/count/mr598-MV411-JQ1_1h-r1_tcount.log [Content-Type=application/octet-stream]...\n",
      "Copying file://../../data/slamseq_inhibitors_v2/res/count/mr592-MV411-DMSO_1h-r3_tcount.tsv [Content-Type=text/tab-separated-values]...\n",
      "Copying file://../../data/slamseq_inhibitors_v2/res/count/mr597-MV411-MS2_1h-r4_tcount.log [Content-Type=application/octet-stream]...\n",
      "Copying file://../../data/slamseq_inhibitors_v2/res/count/mr595-MV411-MS2_1h-r2_tcount.log [Content-Type=application/octet-stream]...\n",
      "Copying file://../../data/slamseq_inhibitors_v2/res/count/mr599-MV411-JQ1_1h-r2_tcount.log [Content-Type=application/octet-stream]...\n",
      "Copying file://../../data/slamseq_inhibitors_v2/res/count/mr593-MV411-DMSO_1h-r4_tcount_mins.bedgraph [Content-Type=application/octet-stream]...\n",
      "Copying file://../../data/slamseq_inhibitors_v2/res/count/mr592-MV411-DMSO_1h-r3_tcount_plus.bedgraph [Content-Type=application/octet-stream]...\n",
      "Copying file://../../data/slamseq_inhibitors_v2/res/count/mr595-MV411-MS2_1h-r2_tcount_mins.bedgraph [Content-Type=application/octet-stream]...\n",
      "Copying file://../../data/slamseq_inhibitors_v2/res/count/mr593-MV411-DMSO_1h-r4_tcount_plus.bedgraph [Content-Type=application/octet-stream]...\n",
      "Copying file://../../data/slamseq_inhibitors_v2/res/count/mr593-MV411-DMSO_1h-r4_tcount.tsv [Content-Type=text/tab-separated-values]...\n",
      "Copying file://../../data/slamseq_inhibitors_v2/res/count/mr595-MV411-MS2_1h-r2_tcount_plus.bedgraph [Content-Type=application/octet-stream]...\n",
      "Copying file://../../data/slamseq_inhibitors_v2/res/count/mr598-MV411-JQ1_1h-r1_tcount.tsv [Content-Type=text/tab-separated-values]...\n",
      "Copying file://../../data/slamseq_inhibitors_v2/res/count/mr594-MV411-MS2_1h-r1_tcount_plus.bedgraph [Content-Type=application/octet-stream]...\n",
      "Copying file://../../data/slamseq_inhibitors_v2/res/count/mr596-MV411-MS2_1h-r3_tcount.tsv [Content-Type=text/tab-separated-values]...\n",
      "Copying file://../../data/slamseq_inhibitors_v2/res/count/mr597-MV411-MS2_1h-r4_tcount.tsv [Content-Type=text/tab-separated-values]...\n",
      "Copying file://../../data/slamseq_inhibitors_v2/res/count/mr595-MV411-MS2_1h-r2_tcount.tsv [Content-Type=text/tab-separated-values]...\n",
      "Copying file://../../data/slamseq_inhibitors_v2/res/count/mr596-MV411-MS2_1h-r3_tcount_mins.bedgraph [Content-Type=application/octet-stream]...\n",
      "Copying file://../../data/slamseq_inhibitors_v2/res/count/mr594-MV411-MS2_1h-r1_tcount_mins.bedgraph [Content-Type=application/octet-stream]...\n",
      "Copying file://../../data/slamseq_inhibitors_v2/res/count/mr596-MV411-MS2_1h-r3_tcount.log [Content-Type=application/octet-stream]...\n",
      "Copying file://../../data/slamseq_inhibitors_v2/res/count/mr596-MV411-MS2_1h-r3_tcount_plus.bedgraph [Content-Type=application/octet-stream]...\n",
      "Copying file://../../data/slamseq_inhibitors_v2/res/count/mr598-MV411-JQ1_1h-r1_tcount_plus.bedgraph [Content-Type=application/octet-stream]...\n",
      "Copying file://../../data/slamseq_inhibitors_v2/res/count/mr599-MV411-JQ1_1h-r2_tcount_plus.bedgraph [Content-Type=application/octet-stream]...\n",
      "Copying file://../../data/slamseq_inhibitors_v2/res/count/mr594-MV411-MS2_1h-r1_tcount.tsv [Content-Type=text/tab-separated-values]...\n",
      "Copying file://../../data/slamseq_inhibitors_v2/res/count/mr597-MV411-MS2_1h-r4_tcount_mins.bedgraph [Content-Type=application/octet-stream]...\n",
      "Copying file://../../data/slamseq_inhibitors_v2/res/count/mr594-MV411-MS2_1h-r1_tcount.log [Content-Type=application/octet-stream]...\n",
      "Copying file://../../data/slamseq_inhibitors_v2/res/count/mr598-MV411-JQ1_1h-r1_tcount_mins.bedgraph [Content-Type=application/octet-stream]...\n",
      "Copying file://../../data/slamseq_inhibitors_v2/res/count/mr599-MV411-JQ1_1h-r2_tcount_mins.bedgraph [Content-Type=application/octet-stream]...\n",
      "Copying file://../../data/slamseq_inhibitors_v2/res/count/mr599-MV411-JQ1_1h-r2_tcount.tsv [Content-Type=text/tab-separated-values]...\n",
      "Copying file://../../data/slamseq_inhibitors_v2/res/count/mr600-MV411-JQ1_1h-r3_tcount.log [Content-Type=application/octet-stream]...\n",
      "Copying file://../../data/slamseq_inhibitors_v2/res/count/mr600-MV411-JQ1_1h-r3_tcount_mins.bedgraph [Content-Type=application/octet-stream]...\n",
      "Copying file://../../data/slamseq_inhibitors_v2/res/count/mr600-MV411-JQ1_1h-r3_tcount_plus.bedgraph [Content-Type=application/octet-stream]...\n"
     ]
    },
    {
     "name": "stdout",
     "output_type": "stream",
     "text": [
      "Copying file://../../data/slamseq_inhibitors_v2/res/count/mr600-MV411-JQ1_1h-r3_tcount.tsv [Content-Type=text/tab-separated-values]...\n",
      "Copying file://../../data/slamseq_inhibitors_v2/res/count/mr601-MV411-JQ1_1h-r4_tcount.log [Content-Type=application/octet-stream]...\n",
      "Copying file://../../data/slamseq_inhibitors_v2/res/count/mr601-MV411-JQ1_1h-r4_tcount_mins.bedgraph [Content-Type=application/octet-stream]...\n",
      "Copying file://../../data/slamseq_inhibitors_v2/res/count/mr601-MV411-JQ1_1h-r4_tcount_plus.bedgraph [Content-Type=application/octet-stream]...\n",
      "Copying file://../../data/slamseq_inhibitors_v2/res/count/mr601-MV411-JQ1_1h-r4_tcount.tsv [Content-Type=text/tab-separated-values]...\n",
      "Copying file://../../data/slamseq_inhibitors_v2/res/count/mr602-MV411-MYCi361_1h-r1_tcount.log [Content-Type=application/octet-stream]...\n",
      "Copying file://../../data/slamseq_inhibitors_v2/res/count/mr602-MV411-MYCi361_1h-r1_tcount_mins.bedgraph [Content-Type=application/octet-stream]...\n",
      "Copying file://../../data/slamseq_inhibitors_v2/res/count/mr602-MV411-MYCi361_1h-r1_tcount_plus.bedgraph [Content-Type=application/octet-stream]...\n",
      "Copying file://../../data/slamseq_inhibitors_v2/res/count/mr602-MV411-MYCi361_1h-r1_tcount.tsv [Content-Type=text/tab-separated-values]...\n",
      "Copying file://../../data/slamseq_inhibitors_v2/res/count/mr603-MV411-MYCi361_1h-r2_tcount.log [Content-Type=application/octet-stream]...\n",
      "Copying file://../../data/slamseq_inhibitors_v2/res/count/mr603-MV411-MYCi361_1h-r2_tcount_mins.bedgraph [Content-Type=application/octet-stream]...\n",
      "Copying file://../../data/slamseq_inhibitors_v2/res/count/mr603-MV411-MYCi361_1h-r2_tcount_plus.bedgraph [Content-Type=application/octet-stream]...\n",
      "Copying file://../../data/slamseq_inhibitors_v2/res/count/mr603-MV411-MYCi361_1h-r2_tcount.tsv [Content-Type=text/tab-separated-values]...\n",
      "Copying file://../../data/slamseq_inhibitors_v2/res/count/mr604-MV411-MYCi361_1h-r3_tcount.log [Content-Type=application/octet-stream]...\n",
      "Copying file://../../data/slamseq_inhibitors_v2/res/count/mr604-MV411-MYCi361_1h-r3_tcount_mins.bedgraph [Content-Type=application/octet-stream]...\n",
      "Copying file://../../data/slamseq_inhibitors_v2/res/count/mr604-MV411-MYCi361_1h-r3_tcount_plus.bedgraph [Content-Type=application/octet-stream]...\n",
      "Copying file://../../data/slamseq_inhibitors_v2/res/count/mr605-MV411-MYCi361_1h-r4_tcount.log [Content-Type=application/octet-stream]...\n",
      "Copying file://../../data/slamseq_inhibitors_v2/res/count/mr604-MV411-MYCi361_1h-r3_tcount.tsv [Content-Type=text/tab-separated-values]...\n",
      "Copying file://../../data/slamseq_inhibitors_v2/res/count/mr605-MV411-MYCi361_1h-r4_tcount_mins.bedgraph [Content-Type=application/octet-stream]...\n",
      "Copying file://../../data/slamseq_inhibitors_v2/res/count/mr605-MV411-MYCi361_1h-r4_tcount_plus.bedgraph [Content-Type=application/octet-stream]...\n",
      "Copying file://../../data/slamseq_inhibitors_v2/res/count/mr605-MV411-MYCi361_1h-r4_tcount.tsv [Content-Type=text/tab-separated-values]...\n",
      "Copying file://../../data/slamseq_inhibitors_v2/res/count/mr606-MV411-THZ1_1h-r1_tcount.log [Content-Type=application/octet-stream]...\n",
      "Copying file://../../data/slamseq_inhibitors_v2/res/count/mr606-MV411-THZ1_1h-r1_tcount_mins.bedgraph [Content-Type=application/octet-stream]...\n",
      "Copying file://../../data/slamseq_inhibitors_v2/res/count/mr606-MV411-THZ1_1h-r1_tcount_plus.bedgraph [Content-Type=application/octet-stream]...\n",
      "Copying file://../../data/slamseq_inhibitors_v2/res/count/mr606-MV411-THZ1_1h-r1_tcount.tsv [Content-Type=text/tab-separated-values]...\n",
      "Copying file://../../data/slamseq_inhibitors_v2/res/count/mr607-MV411-THZ1_1h-r2_tcount.log [Content-Type=application/octet-stream]...\n",
      "Copying file://../../data/slamseq_inhibitors_v2/res/count/mr607-MV411-THZ1_1h-r2_tcount_mins.bedgraph [Content-Type=application/octet-stream]...\n",
      "Copying file://../../data/slamseq_inhibitors_v2/res/count/mr607-MV411-THZ1_1h-r2_tcount_plus.bedgraph [Content-Type=application/octet-stream]...\n",
      "Copying file://../../data/slamseq_inhibitors_v2/res/count/mr607-MV411-THZ1_1h-r2_tcount.tsv [Content-Type=text/tab-separated-values]...\n",
      "Copying file://../../data/slamseq_inhibitors_v2/res/count/mr608-MV411-THZ1_1h-r3_tcount.log [Content-Type=application/octet-stream]...\n",
      "Copying file://../../data/slamseq_inhibitors_v2/res/count/mr608-MV411-THZ1_1h-r3_tcount_mins.bedgraph [Content-Type=application/octet-stream]...\n",
      "Copying file://../../data/slamseq_inhibitors_v2/res/count/mr608-MV411-THZ1_1h-r3_tcount_plus.bedgraph [Content-Type=application/octet-stream]...\n",
      "Copying file://../../data/slamseq_inhibitors_v2/res/count/mr608-MV411-THZ1_1h-r3_tcount.tsv [Content-Type=text/tab-separated-values]...\n",
      "Copying file://../../data/slamseq_inhibitors_v2/res/count/mr609-MV411-THZ1_1h-r4_tcount.log [Content-Type=application/octet-stream]...\n",
      "Copying file://../../data/slamseq_inhibitors_v2/res/count/mr609-MV411-THZ1_1h-r4_tcount_mins.bedgraph [Content-Type=application/octet-stream]...\n",
      "Copying file://../../data/slamseq_inhibitors_v2/res/count/mr609-MV411-THZ1_1h-r4_tcount_plus.bedgraph [Content-Type=application/octet-stream]...\n",
      "Copying file://../../data/slamseq_inhibitors_v2/res/count/mr609-MV411-THZ1_1h-r4_tcount.tsv [Content-Type=text/tab-separated-values]...\n",
      "Copying file://../../data/slamseq_inhibitors_v2/res/count/mr610-MV411-JQ1_MS2_1h-r1_tcount.log [Content-Type=application/octet-stream]...\n",
      "Copying file://../../data/slamseq_inhibitors_v2/res/count/mr610-MV411-JQ1_MS2_1h-r1_tcount_mins.bedgraph [Content-Type=application/octet-stream]...\n",
      "Copying file://../../data/slamseq_inhibitors_v2/res/count/mr610-MV411-JQ1_MS2_1h-r1_tcount_plus.bedgraph [Content-Type=application/octet-stream]...\n",
      "Copying file://../../data/slamseq_inhibitors_v2/res/count/mr610-MV411-JQ1_MS2_1h-r1_tcount.tsv [Content-Type=text/tab-separated-values]...\n",
      "Copying file://../../data/slamseq_inhibitors_v2/res/count/mr611-MV411-JQ1_MS2_1h-r2_tcount.log [Content-Type=application/octet-stream]...\n",
      "Copying file://../../data/slamseq_inhibitors_v2/res/count/mr611-MV411-JQ1_MS2_1h-r2_tcount_mins.bedgraph [Content-Type=application/octet-stream]...\n",
      "Copying file://../../data/slamseq_inhibitors_v2/res/count/mr611-MV411-JQ1_MS2_1h-r2_tcount_plus.bedgraph [Content-Type=application/octet-stream]...\n",
      "Copying file://../../data/slamseq_inhibitors_v2/res/count/mr611-MV411-JQ1_MS2_1h-r2_tcount.tsv [Content-Type=text/tab-separated-values]...\n",
      "Copying file://../../data/slamseq_inhibitors_v2/res/count/mr612-MV411-JQ1_MS2_1h-r3_tcount.log [Content-Type=application/octet-stream]...\n",
      "Copying file://../../data/slamseq_inhibitors_v2/res/count/mr612-MV411-JQ1_MS2_1h-r3_tcount_mins.bedgraph [Content-Type=application/octet-stream]...\n",
      "Copying file://../../data/slamseq_inhibitors_v2/res/count/mr612-MV411-JQ1_MS2_1h-r3_tcount_plus.bedgraph [Content-Type=application/octet-stream]...\n",
      "Copying file://../../data/slamseq_inhibitors_v2/res/count/mr612-MV411-JQ1_MS2_1h-r3_tcount.tsv [Content-Type=text/tab-separated-values]...\n",
      "Copying file://../../data/slamseq_inhibitors_v2/res/count/mr613-MV411-JQ1_MS2_1h-r4_tcount.log [Content-Type=application/octet-stream]...\n",
      "Copying file://../../data/slamseq_inhibitors_v2/res/count/mr613-MV411-JQ1_MS2_1h-r4_tcount_mins.bedgraph [Content-Type=application/octet-stream]...\n",
      "Copying file://../../data/slamseq_inhibitors_v2/res/count/mr613-MV411-JQ1_MS2_1h-r4_tcount_plus.bedgraph [Content-Type=application/octet-stream]...\n",
      "Copying file://../../data/slamseq_inhibitors_v2/res/count/mr613-MV411-JQ1_MS2_1h-r4_tcount.tsv [Content-Type=text/tab-separated-values]...\n",
      "Copying file://../../data/slamseq_inhibitors_v2/res/count/mr614-MV411-JQ1_THZ1_1h-r1_tcount.log [Content-Type=application/octet-stream]...\n",
      "Copying file://../../data/slamseq_inhibitors_v2/res/count/mr614-MV411-JQ1_THZ1_1h-r1_tcount_mins.bedgraph [Content-Type=application/octet-stream]...\n",
      "Copying file://../../data/slamseq_inhibitors_v2/res/count/mr614-MV411-JQ1_THZ1_1h-r1_tcount_plus.bedgraph [Content-Type=application/octet-stream]...\n",
      "Copying file://../../data/slamseq_inhibitors_v2/res/count/mr614-MV411-JQ1_THZ1_1h-r1_tcount.tsv [Content-Type=text/tab-separated-values]...\n",
      "Copying file://../../data/slamseq_inhibitors_v2/res/count/mr615-MV411-JQ1_THZ1_1h-r2_tcount.log [Content-Type=application/octet-stream]...\n"
     ]
    },
    {
     "name": "stdout",
     "output_type": "stream",
     "text": [
      "Copying file://../../data/slamseq_inhibitors_v2/res/count/mr615-MV411-JQ1_THZ1_1h-r2_tcount_mins.bedgraph [Content-Type=application/octet-stream]...\n",
      "Copying file://../../data/slamseq_inhibitors_v2/res/count/mr615-MV411-JQ1_THZ1_1h-r2_tcount_plus.bedgraph [Content-Type=application/octet-stream]...\n",
      "Copying file://../../data/slamseq_inhibitors_v2/res/count/mr615-MV411-JQ1_THZ1_1h-r2_tcount.tsv [Content-Type=text/tab-separated-values]...\n",
      "Copying file://../../data/slamseq_inhibitors_v2/res/count/mr616-MV411-JQ1_THZ1_1h-r3_tcount.log [Content-Type=application/octet-stream]...\n",
      "Copying file://../../data/slamseq_inhibitors_v2/res/count/mr616-MV411-JQ1_THZ1_1h-r3_tcount_mins.bedgraph [Content-Type=application/octet-stream]...\n",
      "Copying file://../../data/slamseq_inhibitors_v2/res/count/mr616-MV411-JQ1_THZ1_1h-r3_tcount_plus.bedgraph [Content-Type=application/octet-stream]...\n",
      "Copying file://../../data/slamseq_inhibitors_v2/res/count/mr616-MV411-JQ1_THZ1_1h-r3_tcount.tsv [Content-Type=text/tab-separated-values]...\n",
      "Copying file://../../data/slamseq_inhibitors_v2/res/count/mr617-MV411-JQ1_THZ1_1h-r4_tcount.log [Content-Type=application/octet-stream]...\n",
      "Copying file://../../data/slamseq_inhibitors_v2/res/count/mr617-MV411-JQ1_THZ1_1h-r4_tcount_mins.bedgraph [Content-Type=application/octet-stream]...\n",
      "Copying file://../../data/slamseq_inhibitors_v2/res/count/mr617-MV411-JQ1_THZ1_1h-r4_tcount_plus.bedgraph [Content-Type=application/octet-stream]...\n",
      "Copying file://../../data/slamseq_inhibitors_v2/res/count/mr617-MV411-JQ1_THZ1_1h-r4_tcount.tsv [Content-Type=text/tab-separated-values]...\n",
      "| [112/112 files][  4.7 GiB/  4.7 GiB] 100% Done 178.9 MiB/s ETA 00:00:00       \n",
      "Operation completed over 112 objects/4.7 GiB.                                    \n"
     ]
    }
   ],
   "source": [
    "! gsutil -m cp ../../data/slamseq_$project/res/filter/* gs://amlproject/RNA/slamseq/$project/res/filter/ \n",
    "! gsutil -m cp ../../data/slamseq_$project/res/snp/* gs://amlproject/RNA/slamseq/$project/res/snp/ \n",
    "! gsutil -m cp ../../data/slamseq_$project/res/count/* gs://amlproject/RNA/slamseq/$project/res/count/"
   ]
  },
  {
   "cell_type": "markdown",
   "id": "fb0705cd",
   "metadata": {
    "heading_collapsed": true
   },
   "source": [
    "# SLAM-seq\n",
    "All SLAM-seq assays were performed at 60-70% confluency for adherent cells or\n",
    "60% of the maximum cell density counted on a hemocytometer for suspension cells. 5-7h\n",
    "prior to each assay, growth medium was aspirated and replaced. Unless stated otherwise,\n",
    "cells were pre-treated with indicated small molecule inhibitors or 100µM IAA for 30 min\n",
    "to pre-establish full target inhibition or degradation. Newly synthesized RNA was labeled\n",
    "for indicated time spans (45 min or 60 min) at a final concentration of 100µM 4-\n",
    "thiouridine (4sU, Carbosynth). Adherent cells were harvested by direct snap-freezing of\n",
    "plates on dry ice. Suspension cells were spun down and immediately snap-frozen. RNA\n",
    "extraction was performed using the RNeasy Plus Mini Kit (Qiagen). \n",
    "\n",
    "Total RNA was subjected to alkylation by iodoacetamide (Sigma, 10mM) for 15 min and RNA was repurified by ethanol precipitation. 500ng alkylated RNA were used as input for generating\n",
    "3’-end mRNA sequencing libraries using a commercially available kit (QuantSeq 3′\n",
    "mRNA-Seq Library Prep Kit FWD for Illumina and PCR Add-on Kit for Illumina,\n",
    "Lexogen). Deep sequencing was performed using HiSeq1500 and HiSeq2500 platforms\n",
    "(Illumina)."
   ]
  },
  {
   "cell_type": "markdown",
   "id": "9faf221e",
   "metadata": {
    "hidden": true
   },
   "source": [
    "## make count files"
   ]
  },
  {
   "cell_type": "code",
   "execution_count": 94,
   "id": "b4c9b6c4",
   "metadata": {
    "hidden": true
   },
   "outputs": [
    {
     "name": "stdout",
     "output_type": "stream",
     "text": [
      "../../data/slamseq_inhibitors_v2/res/count/\n"
     ]
    }
   ],
   "source": [
    "project = project\n",
    "res_folder = \"res\"\n",
    "location = \"../../data/slamseq_\"+project+\"/\"+res_folder+\"/\"+\"count/\"\n",
    "print(location)"
   ]
  },
  {
   "cell_type": "code",
   "execution_count": 95,
   "id": "0024816b",
   "metadata": {
    "hidden": true
   },
   "outputs": [],
   "source": [
    "# remove genes that have very low counts\n",
    "mincount_toremove=5\n",
    "\n",
    "# remove genes that have a variance of 0 across all samples (these we really want to remove)\n",
    "# genes that have values of 0,1,2 everywhere\n",
    "minvar_toremove=0"
   ]
  },
  {
   "cell_type": "code",
   "execution_count": 96,
   "id": "fd58e4a8",
   "metadata": {
    "collapsed": true,
    "hidden": true
   },
   "outputs": [
    {
     "name": "stdout",
     "output_type": "stream",
     "text": [
      "found 28 files:dict_keys(['mr590-MV411-DMSO_1h-r1_tcount', 'mr591-MV411-DMSO_1h-r2_tcount', 'mr592-MV411-DMSO_1h-r3_tcount', 'mr593-MV411-DMSO_1h-r4_tcount', 'mr594-MV411-MS2_1h-r1_tcount', 'mr595-MV411-MS2_1h-r2_tcount', 'mr596-MV411-MS2_1h-r3_tcount', 'mr597-MV411-MS2_1h-r4_tcount', 'mr598-MV411-JQ1_1h-r1_tcount', 'mr599-MV411-JQ1_1h-r2_tcount', 'mr600-MV411-JQ1_1h-r3_tcount', 'mr601-MV411-JQ1_1h-r4_tcount', 'mr602-MV411-MYCi361_1h-r1_tcount', 'mr603-MV411-MYCi361_1h-r2_tcount', 'mr604-MV411-MYCi361_1h-r3_tcount', 'mr605-MV411-MYCi361_1h-r4_tcount', 'mr606-MV411-THZ1_1h-r1_tcount', 'mr607-MV411-THZ1_1h-r2_tcount', 'mr608-MV411-THZ1_1h-r3_tcount', 'mr609-MV411-THZ1_1h-r4_tcount', 'mr610-MV411-JQ1_MS2_1h-r1_tcount', 'mr611-MV411-JQ1_MS2_1h-r2_tcount', 'mr612-MV411-JQ1_MS2_1h-r3_tcount', 'mr613-MV411-JQ1_MS2_1h-r4_tcount', 'mr614-MV411-JQ1_THZ1_1h-r1_tcount', 'mr615-MV411-JQ1_THZ1_1h-r2_tcount', 'mr616-MV411-JQ1_THZ1_1h-r3_tcount', 'mr617-MV411-JQ1_THZ1_1h-r4_tcount'])\n",
      "mr590-MV411-DMSO_1h-r1\n",
      "mr591-MV411-DMSO_1h-r2\n",
      "mr592-MV411-DMSO_1h-r3\n",
      "mr593-MV411-DMSO_1h-r4\n",
      "mr594-MV411-MS2_1h-r1\n",
      "mr595-MV411-MS2_1h-r2\n",
      "mr596-MV411-MS2_1h-r3\n",
      "mr597-MV411-MS2_1h-r4\n",
      "mr598-MV411-JQ1_1h-r1\n",
      "mr599-MV411-JQ1_1h-r2\n",
      "mr600-MV411-JQ1_1h-r3\n",
      "mr601-MV411-JQ1_1h-r4\n",
      "mr602-MV411-MYCi361_1h-r1\n",
      "mr603-MV411-MYCi361_1h-r2\n",
      "mr604-MV411-MYCi361_1h-r3\n",
      "mr605-MV411-MYCi361_1h-r4\n",
      "mr606-MV411-THZ1_1h-r1\n",
      "mr607-MV411-THZ1_1h-r2\n",
      "mr608-MV411-THZ1_1h-r3\n",
      "mr609-MV411-THZ1_1h-r4\n",
      "mr610-MV411-JQ1_MS2_1h-r1\n",
      "mr611-MV411-JQ1_MS2_1h-r2\n",
      "mr612-MV411-JQ1_MS2_1h-r3\n",
      "mr613-MV411-JQ1_MS2_1h-r4\n",
      "mr614-MV411-JQ1_THZ1_1h-r1\n",
      "mr615-MV411-JQ1_THZ1_1h-r2\n",
      "mr616-MV411-JQ1_THZ1_1h-r3\n",
      "mr617-MV411-JQ1_THZ1_1h-r4\n",
      "downloading gene names from biomart\n",
      "1750 count not be parsed... we don't have all genes already\n",
      "downloading gene names from biomart\n",
      "1750 count not be parsed... we don't have all genes already\n",
      "CPU times: user 2min 56s, sys: 1.08 s, total: 2min 57s\n",
      "Wall time: 5min 31s\n"
     ]
    }
   ],
   "source": [
    "%%time\n",
    "\n",
    "# all genes (not just protein coding)\n",
    "readcounts, tccounts = rna.readFromSlamdunk(loc=location, \n",
    "                                            minvar_toremove=minvar_toremove, \n",
    "                                            mincount_toremove=mincount_toremove,\n",
    "                                            verbose=False)"
   ]
  },
  {
   "cell_type": "markdown",
   "id": "d2f57f9d",
   "metadata": {
    "hidden": true
   },
   "source": [
    "check duplicate gene rows"
   ]
  },
  {
   "cell_type": "code",
   "execution_count": 97,
   "id": "4722d0ab",
   "metadata": {
    "hidden": true
   },
   "outputs": [],
   "source": [
    "def dedup_df_genes(df):\n",
    "    ''' sum rows with the same gene index and remove duplicate '''\n",
    "    if df.shape[0] != len(df.index.drop_duplicates()):\n",
    "        print(\"Duplicate gene rows!\")\n",
    "        print(\"{} rows | {} unique genes\".format(df.shape[0], len(df.index.drop_duplicates())))\n",
    "        print(\"Summing of duplicate gene rows.\")\n",
    "        \n",
    "    # sum duplicate rows, same row order\n",
    "    duplicate_genes = df.index[df.index.duplicated()].tolist()\n",
    "    df = df.groupby(df.index).sum().loc[df.index.drop_duplicates()]\n",
    "    if df.shape[0] != len(df.index.drop_duplicates()):\n",
    "        raise ValueError(\n",
    "            \"Cannot collapse duplicate gene rows.\"\n",
    "        )\n",
    "    \n",
    "    return df, duplicate_genes"
   ]
  },
  {
   "cell_type": "code",
   "execution_count": 98,
   "id": "e9165ade",
   "metadata": {
    "hidden": true
   },
   "outputs": [
    {
     "name": "stdout",
     "output_type": "stream",
     "text": [
      "Duplicate gene rows!\n",
      "16190 rows | 16154 unique genes\n",
      "Summing of duplicate gene rows.\n",
      "Duplicate gene rows!\n",
      "16190 rows | 16154 unique genes\n",
      "Summing of duplicate gene rows.\n"
     ]
    }
   ],
   "source": [
    "readcounts, duplicate_genes = dedup_df_genes(readcounts)\n",
    "tccounts, duplicate_genes = dedup_df_genes(tccounts)\n",
    "\n",
    "if readcounts.shape != tccounts.shape:\n",
    "    raise ValueError(\"readcounts and tccounts not the same dimensions: {} | {}\".format(readcounts.shape, tccounts.shape))"
   ]
  },
  {
   "cell_type": "markdown",
   "id": "f8f8ebf4",
   "metadata": {
    "hidden": true
   },
   "source": [
    "## make density plot"
   ]
  },
  {
   "cell_type": "code",
   "execution_count": 99,
   "id": "eec1ed86",
   "metadata": {
    "hidden": true
   },
   "outputs": [
    {
     "name": "stdout",
     "output_type": "stream",
     "text": [
      "../results/slamseq_inhibitors_v2/\n"
     ]
    }
   ],
   "source": [
    "res_dir = \"../results/slamseq_{}/\".format(project)\n",
    "print(res_dir)\n",
    "createDir(res_dir)"
   ]
  },
  {
   "cell_type": "code",
   "execution_count": 100,
   "id": "e9c670f2",
   "metadata": {
    "hidden": true
   },
   "outputs": [],
   "source": [
    "# sort cols\n",
    "col = tccounts.columns.tolist()\n",
    "col.sort()\n",
    "tccounts = tccounts[col]"
   ]
  },
  {
   "cell_type": "code",
   "execution_count": 101,
   "id": "fde44997",
   "metadata": {
    "hidden": true
   },
   "outputs": [],
   "source": [
    "# sort cols\n",
    "col = readcounts.columns.tolist()\n",
    "col.sort()\n",
    "readcounts = readcounts[col]"
   ]
  },
  {
   "cell_type": "code",
   "execution_count": 102,
   "id": "f267c7bc",
   "metadata": {
    "hidden": true
   },
   "outputs": [
    {
     "name": "stdout",
     "output_type": "stream",
     "text": [
      "(16154, 28)\n"
     ]
    },
    {
     "data": {
      "text/html": [
       "<div>\n",
       "<style scoped>\n",
       "    .dataframe tbody tr th:only-of-type {\n",
       "        vertical-align: middle;\n",
       "    }\n",
       "\n",
       "    .dataframe tbody tr th {\n",
       "        vertical-align: top;\n",
       "    }\n",
       "\n",
       "    .dataframe thead th {\n",
       "        text-align: right;\n",
       "    }\n",
       "</style>\n",
       "<table border=\"1\" class=\"dataframe\">\n",
       "  <thead>\n",
       "    <tr style=\"text-align: right;\">\n",
       "      <th></th>\n",
       "      <th>mr590-MV411-DMSO_1h-r1_tcount</th>\n",
       "      <th>mr591-MV411-DMSO_1h-r2_tcount</th>\n",
       "      <th>mr592-MV411-DMSO_1h-r3_tcount</th>\n",
       "      <th>mr593-MV411-DMSO_1h-r4_tcount</th>\n",
       "      <th>mr594-MV411-MS2_1h-r1_tcount</th>\n",
       "      <th>mr595-MV411-MS2_1h-r2_tcount</th>\n",
       "      <th>mr596-MV411-MS2_1h-r3_tcount</th>\n",
       "      <th>mr597-MV411-MS2_1h-r4_tcount</th>\n",
       "      <th>mr598-MV411-JQ1_1h-r1_tcount</th>\n",
       "      <th>mr599-MV411-JQ1_1h-r2_tcount</th>\n",
       "      <th>...</th>\n",
       "      <th>mr608-MV411-THZ1_1h-r3_tcount</th>\n",
       "      <th>mr609-MV411-THZ1_1h-r4_tcount</th>\n",
       "      <th>mr610-MV411-JQ1_MS2_1h-r1_tcount</th>\n",
       "      <th>mr611-MV411-JQ1_MS2_1h-r2_tcount</th>\n",
       "      <th>mr612-MV411-JQ1_MS2_1h-r3_tcount</th>\n",
       "      <th>mr613-MV411-JQ1_MS2_1h-r4_tcount</th>\n",
       "      <th>mr614-MV411-JQ1_THZ1_1h-r1_tcount</th>\n",
       "      <th>mr615-MV411-JQ1_THZ1_1h-r2_tcount</th>\n",
       "      <th>mr616-MV411-JQ1_THZ1_1h-r3_tcount</th>\n",
       "      <th>mr617-MV411-JQ1_THZ1_1h-r4_tcount</th>\n",
       "    </tr>\n",
       "  </thead>\n",
       "  <tbody>\n",
       "    <tr>\n",
       "      <th>A1BG</th>\n",
       "      <td>0</td>\n",
       "      <td>1</td>\n",
       "      <td>0</td>\n",
       "      <td>1</td>\n",
       "      <td>3</td>\n",
       "      <td>0</td>\n",
       "      <td>2</td>\n",
       "      <td>3</td>\n",
       "      <td>6</td>\n",
       "      <td>1</td>\n",
       "      <td>...</td>\n",
       "      <td>2</td>\n",
       "      <td>0</td>\n",
       "      <td>0</td>\n",
       "      <td>2</td>\n",
       "      <td>0</td>\n",
       "      <td>0</td>\n",
       "      <td>8</td>\n",
       "      <td>0</td>\n",
       "      <td>0</td>\n",
       "      <td>0</td>\n",
       "    </tr>\n",
       "    <tr>\n",
       "      <th>NAT1</th>\n",
       "      <td>64</td>\n",
       "      <td>120</td>\n",
       "      <td>99</td>\n",
       "      <td>102</td>\n",
       "      <td>93</td>\n",
       "      <td>63</td>\n",
       "      <td>90</td>\n",
       "      <td>114</td>\n",
       "      <td>136</td>\n",
       "      <td>136</td>\n",
       "      <td>...</td>\n",
       "      <td>82</td>\n",
       "      <td>96</td>\n",
       "      <td>155</td>\n",
       "      <td>75</td>\n",
       "      <td>131</td>\n",
       "      <td>176</td>\n",
       "      <td>67</td>\n",
       "      <td>124</td>\n",
       "      <td>111</td>\n",
       "      <td>143</td>\n",
       "    </tr>\n",
       "  </tbody>\n",
       "</table>\n",
       "<p>2 rows × 28 columns</p>\n",
       "</div>"
      ],
      "text/plain": [
       "      mr590-MV411-DMSO_1h-r1_tcount  mr591-MV411-DMSO_1h-r2_tcount  \\\n",
       "A1BG                              0                              1   \n",
       "NAT1                             64                            120   \n",
       "\n",
       "      mr592-MV411-DMSO_1h-r3_tcount  mr593-MV411-DMSO_1h-r4_tcount  \\\n",
       "A1BG                              0                              1   \n",
       "NAT1                             99                            102   \n",
       "\n",
       "      mr594-MV411-MS2_1h-r1_tcount  mr595-MV411-MS2_1h-r2_tcount  \\\n",
       "A1BG                             3                             0   \n",
       "NAT1                            93                            63   \n",
       "\n",
       "      mr596-MV411-MS2_1h-r3_tcount  mr597-MV411-MS2_1h-r4_tcount  \\\n",
       "A1BG                             2                             3   \n",
       "NAT1                            90                           114   \n",
       "\n",
       "      mr598-MV411-JQ1_1h-r1_tcount  mr599-MV411-JQ1_1h-r2_tcount  ...  \\\n",
       "A1BG                             6                             1  ...   \n",
       "NAT1                           136                           136  ...   \n",
       "\n",
       "      mr608-MV411-THZ1_1h-r3_tcount  mr609-MV411-THZ1_1h-r4_tcount  \\\n",
       "A1BG                              2                              0   \n",
       "NAT1                             82                             96   \n",
       "\n",
       "      mr610-MV411-JQ1_MS2_1h-r1_tcount  mr611-MV411-JQ1_MS2_1h-r2_tcount  \\\n",
       "A1BG                                 0                                 2   \n",
       "NAT1                               155                                75   \n",
       "\n",
       "      mr612-MV411-JQ1_MS2_1h-r3_tcount  mr613-MV411-JQ1_MS2_1h-r4_tcount  \\\n",
       "A1BG                                 0                                 0   \n",
       "NAT1                               131                               176   \n",
       "\n",
       "      mr614-MV411-JQ1_THZ1_1h-r1_tcount  mr615-MV411-JQ1_THZ1_1h-r2_tcount  \\\n",
       "A1BG                                  8                                  0   \n",
       "NAT1                                 67                                124   \n",
       "\n",
       "      mr616-MV411-JQ1_THZ1_1h-r3_tcount  mr617-MV411-JQ1_THZ1_1h-r4_tcount  \n",
       "A1BG                                  0                                  0  \n",
       "NAT1                                111                                143  \n",
       "\n",
       "[2 rows x 28 columns]"
      ]
     },
     "execution_count": 102,
     "metadata": {},
     "output_type": "execute_result"
    }
   ],
   "source": [
    "print(readcounts.shape)\n",
    "readcounts.iloc[:2]"
   ]
  },
  {
   "cell_type": "markdown",
   "id": "c01afef4",
   "metadata": {
    "hidden": true
   },
   "source": [
    "read counts that are t $\\rightarrow$ c converted (actively transcribed)\n",
    "* most at 0 = most are not transcribed\n",
    "* a lot at 1 or everything at 0 is weird"
   ]
  },
  {
   "cell_type": "code",
   "execution_count": 103,
   "id": "4f90f9c9",
   "metadata": {
    "hidden": true
   },
   "outputs": [
    {
     "name": "stdout",
     "output_type": "stream",
     "text": [
      "15676\n"
     ]
    },
    {
     "data": {
      "image/png": "[encoded data removed]",
      "text/plain": [
       "<Figure size 432x288 with 1 Axes>"
      ]
     },
     "metadata": {
      "needs_background": "light"
     },
     "output_type": "display_data"
    }
   ],
   "source": [
    "# what is the average of highly transcribed genes?\n",
    "# tccounts/readcounts where sum of readcounts in all samples > 30 \n",
    "a = tccounts[readcounts.sum(1)>30] / readcounts[readcounts.sum(1)>30]\n",
    "a = a.fillna(0)\n",
    "a = a.max(1).tolist() # max val per gene\n",
    "a.sort()\n",
    "print(len(a))\n",
    "sns.kdeplot(a)\n",
    "plt.xlabel(\"max tccounts / max readcounts per gene\")\n",
    "plt.title(project.replace(\"_\", \" \").split(\" v\")[0])\n",
    "\n",
    "plt.savefig(res_dir+'plots/'+project+'_tccounts_readcounts_density.pdf', dpi=300, bbox_inches=\"tight\")\n",
    "plt.show()"
   ]
  },
  {
   "cell_type": "code",
   "execution_count": 104,
   "id": "1dd5ab79",
   "metadata": {
    "hidden": true
   },
   "outputs": [
    {
     "data": {
      "text/plain": [
       "0.1127782029925112"
      ]
     },
     "execution_count": 104,
     "metadata": {},
     "output_type": "execute_result"
    }
   ],
   "source": [
    "# median or average across replicates t -> c converted\n",
    "np.median(a)"
   ]
  },
  {
   "cell_type": "code",
   "execution_count": 105,
   "id": "6cafdb55",
   "metadata": {
    "hidden": true
   },
   "outputs": [
    {
     "name": "stdout",
     "output_type": "stream",
     "text": [
      "Saved readcounts to: ../results/slamseq_inhibitors_v2/inhibitors_v2_0_5_readcounts.csv\n",
      "Saved tccounts to: ../results/slamseq_inhibitors_v2/inhibitors_v2_0_5_tccounts.csv\n"
     ]
    }
   ],
   "source": [
    "# Save counts to csv\n",
    "counts_file_prefix = project+'_'+str(minvar_toremove)+'_'+str(mincount_toremove)\n",
    "\n",
    "readcounts.to_csv(res_dir+counts_file_prefix+\"_readcounts.csv\",index=True, index_label=\"GENE\")\n",
    "print(\"Saved readcounts to: {}\".format(res_dir+counts_file_prefix+\"_readcounts.csv\"))\n",
    "\n",
    "tccounts.to_csv(res_dir+counts_file_prefix+\"_tccounts.csv\",index=True, index_label=\"GENE\")\n",
    "print(\"Saved tccounts to: {}\".format(res_dir+counts_file_prefix+\"_tccounts.csv\"))"
   ]
  },
  {
   "cell_type": "markdown",
   "id": "3e95cf3a",
   "metadata": {
    "hidden": true
   },
   "source": [
    "## make more dfs (mead, median, etc.)"
   ]
  },
  {
   "cell_type": "code",
   "execution_count": 106,
   "id": "42b742b7",
   "metadata": {
    "hidden": true
   },
   "outputs": [
    {
     "data": {
      "text/html": [
       "<div>\n",
       "<style scoped>\n",
       "    .dataframe tbody tr th:only-of-type {\n",
       "        vertical-align: middle;\n",
       "    }\n",
       "\n",
       "    .dataframe tbody tr th {\n",
       "        vertical-align: top;\n",
       "    }\n",
       "\n",
       "    .dataframe thead th {\n",
       "        text-align: right;\n",
       "    }\n",
       "</style>\n",
       "<table border=\"1\" class=\"dataframe\">\n",
       "  <thead>\n",
       "    <tr style=\"text-align: right;\">\n",
       "      <th></th>\n",
       "      <th>mr590-MV411-DMSO_1h-r1_tcount</th>\n",
       "      <th>mr591-MV411-DMSO_1h-r2_tcount</th>\n",
       "      <th>mr592-MV411-DMSO_1h-r3_tcount</th>\n",
       "      <th>mr593-MV411-DMSO_1h-r4_tcount</th>\n",
       "      <th>mr594-MV411-MS2_1h-r1_tcount</th>\n",
       "      <th>mr595-MV411-MS2_1h-r2_tcount</th>\n",
       "      <th>mr596-MV411-MS2_1h-r3_tcount</th>\n",
       "      <th>mr597-MV411-MS2_1h-r4_tcount</th>\n",
       "      <th>mr598-MV411-JQ1_1h-r1_tcount</th>\n",
       "      <th>mr599-MV411-JQ1_1h-r2_tcount</th>\n",
       "      <th>...</th>\n",
       "      <th>mr608-MV411-THZ1_1h-r3_tcount</th>\n",
       "      <th>mr609-MV411-THZ1_1h-r4_tcount</th>\n",
       "      <th>mr610-MV411-JQ1_MS2_1h-r1_tcount</th>\n",
       "      <th>mr611-MV411-JQ1_MS2_1h-r2_tcount</th>\n",
       "      <th>mr612-MV411-JQ1_MS2_1h-r3_tcount</th>\n",
       "      <th>mr613-MV411-JQ1_MS2_1h-r4_tcount</th>\n",
       "      <th>mr614-MV411-JQ1_THZ1_1h-r1_tcount</th>\n",
       "      <th>mr615-MV411-JQ1_THZ1_1h-r2_tcount</th>\n",
       "      <th>mr616-MV411-JQ1_THZ1_1h-r3_tcount</th>\n",
       "      <th>mr617-MV411-JQ1_THZ1_1h-r4_tcount</th>\n",
       "    </tr>\n",
       "  </thead>\n",
       "  <tbody>\n",
       "    <tr>\n",
       "      <th>A1BG</th>\n",
       "      <td>0</td>\n",
       "      <td>1</td>\n",
       "      <td>0</td>\n",
       "      <td>1</td>\n",
       "      <td>3</td>\n",
       "      <td>0</td>\n",
       "      <td>2</td>\n",
       "      <td>3</td>\n",
       "      <td>6</td>\n",
       "      <td>1</td>\n",
       "      <td>...</td>\n",
       "      <td>2</td>\n",
       "      <td>0</td>\n",
       "      <td>0</td>\n",
       "      <td>2</td>\n",
       "      <td>0</td>\n",
       "      <td>0</td>\n",
       "      <td>8</td>\n",
       "      <td>0</td>\n",
       "      <td>0</td>\n",
       "      <td>0</td>\n",
       "    </tr>\n",
       "  </tbody>\n",
       "</table>\n",
       "<p>1 rows × 28 columns</p>\n",
       "</div>"
      ],
      "text/plain": [
       "      mr590-MV411-DMSO_1h-r1_tcount  mr591-MV411-DMSO_1h-r2_tcount  \\\n",
       "A1BG                              0                              1   \n",
       "\n",
       "      mr592-MV411-DMSO_1h-r3_tcount  mr593-MV411-DMSO_1h-r4_tcount  \\\n",
       "A1BG                              0                              1   \n",
       "\n",
       "      mr594-MV411-MS2_1h-r1_tcount  mr595-MV411-MS2_1h-r2_tcount  \\\n",
       "A1BG                             3                             0   \n",
       "\n",
       "      mr596-MV411-MS2_1h-r3_tcount  mr597-MV411-MS2_1h-r4_tcount  \\\n",
       "A1BG                             2                             3   \n",
       "\n",
       "      mr598-MV411-JQ1_1h-r1_tcount  mr599-MV411-JQ1_1h-r2_tcount  ...  \\\n",
       "A1BG                             6                             1  ...   \n",
       "\n",
       "      mr608-MV411-THZ1_1h-r3_tcount  mr609-MV411-THZ1_1h-r4_tcount  \\\n",
       "A1BG                              2                              0   \n",
       "\n",
       "      mr610-MV411-JQ1_MS2_1h-r1_tcount  mr611-MV411-JQ1_MS2_1h-r2_tcount  \\\n",
       "A1BG                                 0                                 2   \n",
       "\n",
       "      mr612-MV411-JQ1_MS2_1h-r3_tcount  mr613-MV411-JQ1_MS2_1h-r4_tcount  \\\n",
       "A1BG                                 0                                 0   \n",
       "\n",
       "      mr614-MV411-JQ1_THZ1_1h-r1_tcount  mr615-MV411-JQ1_THZ1_1h-r2_tcount  \\\n",
       "A1BG                                  8                                  0   \n",
       "\n",
       "      mr616-MV411-JQ1_THZ1_1h-r3_tcount  mr617-MV411-JQ1_THZ1_1h-r4_tcount  \n",
       "A1BG                                  0                                  0  \n",
       "\n",
       "[1 rows x 28 columns]"
      ]
     },
     "execution_count": 106,
     "metadata": {},
     "output_type": "execute_result"
    }
   ],
   "source": [
    "readcounts.iloc[:1]"
   ]
  },
  {
   "cell_type": "code",
   "execution_count": 110,
   "id": "bf13edd8",
   "metadata": {
    "hidden": true
   },
   "outputs": [
    {
     "name": "stdout",
     "output_type": "stream",
     "text": [
      "Genes with highest read counts per sample.\n",
      "MV411-DMSO_1h: RPL13AP5 (122109)\n",
      "MV411-DMSO_1h: RPL13AP5 (99181)\n",
      "MV411-DMSO_1h: RPL13AP5 (112916)\n",
      "MV411-DMSO_1h: RPL13AP5 (126912)\n",
      "MV411-MS2_1h: RPL13AP5 (108377)\n",
      "MV411-MS2_1h: ACTG1 (83724)\n",
      "MV411-MS2_1h: RPL13AP5 (120095)\n",
      "MV411-MS2_1h: ACTG1 (117213)\n",
      "MV411-JQ1_1h: ACTG1 (139535)\n",
      "MV411-JQ1_1h: ACTG1 (113961)\n",
      "MV411-JQ1_1h: RPL13AP5 (113605)\n",
      "MV411-JQ1_1h: ACTG1 (101814)\n",
      "MV411-MYCi361_1h: RPL13AP5 (111081)\n",
      "MV411-MYCi361_1h: RPL13AP5 (63783)\n",
      "MV411-MYCi361_1h: RPL13AP5 (119202)\n",
      "MV411-MYCi361_1h: RPL13AP5 (110373)\n",
      "MV411-THZ1_1h: RPL13AP5 (122538)\n",
      "MV411-THZ1_1h: RPL13AP5 (129914)\n",
      "MV411-THZ1_1h: RPL13AP5 (153616)\n",
      "MV411-THZ1_1h: RPL13AP5 (118738)\n",
      "MV411-JQ1_MS2_1h: ACTG1 (138403)\n",
      "MV411-JQ1_MS2_1h: ACTG1 (108085)\n",
      "MV411-JQ1_MS2_1h: ACTG1 (176357)\n",
      "MV411-JQ1_MS2_1h: ACTG1 (148386)\n",
      "MV411-JQ1_THZ1_1h: RPL13AP5 (141021)\n",
      "MV411-JQ1_THZ1_1h: RPL13AP5 (157982)\n",
      "MV411-JQ1_THZ1_1h: RPL13AP5 (134973)\n",
      "MV411-JQ1_THZ1_1h: RPL13AP5 (145827)\n"
     ]
    }
   ],
   "source": [
    "print(\"Genes with highest read counts per sample.\")\n",
    "for column in readcounts:\n",
    "    print(column.split(\"-\", 1)[1].split(\"-r\",)[0] +\": \"+ str(readcounts[column].idxmax()) \n",
    "          +\" (\"+str(readcounts[column].max())+\")\")"
   ]
  },
  {
   "cell_type": "code",
   "execution_count": 111,
   "id": "7318a3a4",
   "metadata": {
    "collapsed": true,
    "hidden": true
   },
   "outputs": [
    {
     "name": "stdout",
     "output_type": "stream",
     "text": [
      "{'MV411-JQ1_THZ1_1h', 'MV411-JQ1_1h', 'MV411-MS2_1h', 'MV411-JQ1_MS2_1h', 'MV411-DMSO_1h', 'MV411-MYCi361_1h', 'MV411-THZ1_1h'}\n",
      "MV411-DMSO_1h\n"
     ]
    },
    {
     "data": {
      "text/plain": [
       "['MV411-DMSO_1h',\n",
       " 'MV411-MS2_1h',\n",
       " 'MV411-JQ1_1h',\n",
       " 'MV411-MYCi361_1h',\n",
       " 'MV411-THZ1_1h',\n",
       " 'MV411-JQ1_MS2_1h',\n",
       " 'MV411-JQ1_THZ1_1h']"
      ]
     },
     "execution_count": 111,
     "metadata": {},
     "output_type": "execute_result"
    }
   ],
   "source": [
    "print(set([i.split('-', 1)[-1].rpartition(\"-\")[0] for i in tccounts.columns]))\n",
    "print(tccounts.columns[0].split('-', 1)[-1].rpartition(\"-\")[0])\n",
    "list(dict.fromkeys([i.split('-', 1)[-1].rpartition(\"-\")[0] for i in tccounts.columns]))"
   ]
  },
  {
   "cell_type": "code",
   "execution_count": 112,
   "id": "ff7185aa",
   "metadata": {
    "collapsed": true,
    "hidden": true
   },
   "outputs": [
    {
     "name": "stdout",
     "output_type": "stream",
     "text": [
      "MV411-DMSO_1h\n",
      "MV411-MS2_1h\n",
      "MV411-JQ1_1h\n",
      "MV411-MYCi361_1h\n",
      "MV411-THZ1_1h\n",
      "MV411-JQ1_MS2_1h\n",
      "MV411-JQ1_THZ1_1h\n"
     ]
    }
   ],
   "source": [
    "# get mean counts per condition\n",
    "mtccounts = pd.DataFrame()\n",
    "mreadcounts = pd.DataFrame()\n",
    "# conditions maintaing column order\n",
    "for i in list(dict.fromkeys([i.split('-', 1)[-1].rpartition(\"-\")[0] for i in tccounts.columns])):\n",
    "    print(i)\n",
    "    mtccounts[i] = tccounts[[v for v in tccounts.columns if i in v]].mean(1)\n",
    "    mreadcounts[i] = readcounts[[v for v in readcounts.columns if i in v]].mean(1)\n",
    "\n",
    "# save mean counts files\n",
    "mtccounts.to_csv(res_dir+counts_file_prefix+\"_mean_tccounts.csv\", index=True, index_label=\"GENE\")\n",
    "mreadcounts.to_csv(res_dir+counts_file_prefix+\"_mean_readcounts.csv\", index=True, index_label=\"GENE\")"
   ]
  },
  {
   "cell_type": "code",
   "execution_count": 113,
   "id": "20ec6b14",
   "metadata": {
    "collapsed": true,
    "hidden": true
   },
   "outputs": [
    {
     "name": "stdout",
     "output_type": "stream",
     "text": [
      "MV411-DMSO_1h\n",
      "MV411-MS2_1h\n",
      "MV411-JQ1_1h\n",
      "MV411-MYCi361_1h\n",
      "MV411-THZ1_1h\n",
      "MV411-JQ1_MS2_1h\n",
      "MV411-JQ1_THZ1_1h\n"
     ]
    }
   ],
   "source": [
    "# get median counts per condition\n",
    "mtccounts = pd.DataFrame()\n",
    "mreadcounts = pd.DataFrame()\n",
    "# conditions maintaing column order\n",
    "for i in list(dict.fromkeys([i.split('-', 1)[-1].rpartition(\"-\")[0] for i in tccounts.columns])):\n",
    "    print(i)\n",
    "    mtccounts[i] = tccounts[[v for v in tccounts.columns if i in v]].median(1)\n",
    "    mreadcounts[i] = readcounts[[v for v in readcounts.columns if i in v]].median(1)\n",
    "\n",
    "# save median counts files\n",
    "mtccounts.to_csv(res_dir+counts_file_prefix+\"_median_tccounts.csv\", index=True, index_label=\"GENE\")\n",
    "mreadcounts.to_csv(res_dir+counts_file_prefix+\"_median_readcounts.csv\", index=True, index_label=\"GENE\")"
   ]
  },
  {
   "cell_type": "code",
   "execution_count": 114,
   "id": "684292e1",
   "metadata": {
    "collapsed": true,
    "hidden": true
   },
   "outputs": [
    {
     "data": {
      "text/html": [
       "<div>\n",
       "<style scoped>\n",
       "    .dataframe tbody tr th:only-of-type {\n",
       "        vertical-align: middle;\n",
       "    }\n",
       "\n",
       "    .dataframe tbody tr th {\n",
       "        vertical-align: top;\n",
       "    }\n",
       "\n",
       "    .dataframe thead th {\n",
       "        text-align: right;\n",
       "    }\n",
       "</style>\n",
       "<table border=\"1\" class=\"dataframe\">\n",
       "  <thead>\n",
       "    <tr style=\"text-align: right;\">\n",
       "      <th></th>\n",
       "      <th>mr590-MV411-DMSO_1h-r1_tcount</th>\n",
       "      <th>mr591-MV411-DMSO_1h-r2_tcount</th>\n",
       "      <th>mr592-MV411-DMSO_1h-r3_tcount</th>\n",
       "      <th>mr593-MV411-DMSO_1h-r4_tcount</th>\n",
       "      <th>mr594-MV411-MS2_1h-r1_tcount</th>\n",
       "      <th>mr595-MV411-MS2_1h-r2_tcount</th>\n",
       "      <th>mr596-MV411-MS2_1h-r3_tcount</th>\n",
       "      <th>mr597-MV411-MS2_1h-r4_tcount</th>\n",
       "      <th>mr598-MV411-JQ1_1h-r1_tcount</th>\n",
       "      <th>mr599-MV411-JQ1_1h-r2_tcount</th>\n",
       "      <th>...</th>\n",
       "      <th>mr608-MV411-THZ1_1h-r3_tcount</th>\n",
       "      <th>mr609-MV411-THZ1_1h-r4_tcount</th>\n",
       "      <th>mr610-MV411-JQ1_MS2_1h-r1_tcount</th>\n",
       "      <th>mr611-MV411-JQ1_MS2_1h-r2_tcount</th>\n",
       "      <th>mr612-MV411-JQ1_MS2_1h-r3_tcount</th>\n",
       "      <th>mr613-MV411-JQ1_MS2_1h-r4_tcount</th>\n",
       "      <th>mr614-MV411-JQ1_THZ1_1h-r1_tcount</th>\n",
       "      <th>mr615-MV411-JQ1_THZ1_1h-r2_tcount</th>\n",
       "      <th>mr616-MV411-JQ1_THZ1_1h-r3_tcount</th>\n",
       "      <th>mr617-MV411-JQ1_THZ1_1h-r4_tcount</th>\n",
       "    </tr>\n",
       "  </thead>\n",
       "  <tbody>\n",
       "    <tr>\n",
       "      <th>A1BG</th>\n",
       "      <td>0.0000</td>\n",
       "      <td>0.000000</td>\n",
       "      <td>0.000000</td>\n",
       "      <td>0.000000</td>\n",
       "      <td>0.000000</td>\n",
       "      <td>0.0</td>\n",
       "      <td>0.000000</td>\n",
       "      <td>0.000000</td>\n",
       "      <td>0.000000</td>\n",
       "      <td>0.000000</td>\n",
       "      <td>...</td>\n",
       "      <td>0.000000</td>\n",
       "      <td>0.00000</td>\n",
       "      <td>0.000000</td>\n",
       "      <td>0.000000</td>\n",
       "      <td>0.000000</td>\n",
       "      <td>0.000000</td>\n",
       "      <td>0.000000</td>\n",
       "      <td>0.000000</td>\n",
       "      <td>0.000000</td>\n",
       "      <td>0.000000</td>\n",
       "    </tr>\n",
       "    <tr>\n",
       "      <th>NAT1</th>\n",
       "      <td>0.0625</td>\n",
       "      <td>0.108333</td>\n",
       "      <td>0.111111</td>\n",
       "      <td>0.235294</td>\n",
       "      <td>0.150538</td>\n",
       "      <td>0.0</td>\n",
       "      <td>0.211111</td>\n",
       "      <td>0.175439</td>\n",
       "      <td>0.198529</td>\n",
       "      <td>0.213235</td>\n",
       "      <td>...</td>\n",
       "      <td>0.231707</td>\n",
       "      <td>0.28125</td>\n",
       "      <td>0.180645</td>\n",
       "      <td>0.146667</td>\n",
       "      <td>0.167939</td>\n",
       "      <td>0.170455</td>\n",
       "      <td>0.104478</td>\n",
       "      <td>0.145161</td>\n",
       "      <td>0.144144</td>\n",
       "      <td>0.230769</td>\n",
       "    </tr>\n",
       "  </tbody>\n",
       "</table>\n",
       "<p>2 rows × 28 columns</p>\n",
       "</div>"
      ],
      "text/plain": [
       "      mr590-MV411-DMSO_1h-r1_tcount  mr591-MV411-DMSO_1h-r2_tcount  \\\n",
       "A1BG                         0.0000                       0.000000   \n",
       "NAT1                         0.0625                       0.108333   \n",
       "\n",
       "      mr592-MV411-DMSO_1h-r3_tcount  mr593-MV411-DMSO_1h-r4_tcount  \\\n",
       "A1BG                       0.000000                       0.000000   \n",
       "NAT1                       0.111111                       0.235294   \n",
       "\n",
       "      mr594-MV411-MS2_1h-r1_tcount  mr595-MV411-MS2_1h-r2_tcount  \\\n",
       "A1BG                      0.000000                           0.0   \n",
       "NAT1                      0.150538                           0.0   \n",
       "\n",
       "      mr596-MV411-MS2_1h-r3_tcount  mr597-MV411-MS2_1h-r4_tcount  \\\n",
       "A1BG                      0.000000                      0.000000   \n",
       "NAT1                      0.211111                      0.175439   \n",
       "\n",
       "      mr598-MV411-JQ1_1h-r1_tcount  mr599-MV411-JQ1_1h-r2_tcount  ...  \\\n",
       "A1BG                      0.000000                      0.000000  ...   \n",
       "NAT1                      0.198529                      0.213235  ...   \n",
       "\n",
       "      mr608-MV411-THZ1_1h-r3_tcount  mr609-MV411-THZ1_1h-r4_tcount  \\\n",
       "A1BG                       0.000000                        0.00000   \n",
       "NAT1                       0.231707                        0.28125   \n",
       "\n",
       "      mr610-MV411-JQ1_MS2_1h-r1_tcount  mr611-MV411-JQ1_MS2_1h-r2_tcount  \\\n",
       "A1BG                          0.000000                          0.000000   \n",
       "NAT1                          0.180645                          0.146667   \n",
       "\n",
       "      mr612-MV411-JQ1_MS2_1h-r3_tcount  mr613-MV411-JQ1_MS2_1h-r4_tcount  \\\n",
       "A1BG                          0.000000                          0.000000   \n",
       "NAT1                          0.167939                          0.170455   \n",
       "\n",
       "      mr614-MV411-JQ1_THZ1_1h-r1_tcount  mr615-MV411-JQ1_THZ1_1h-r2_tcount  \\\n",
       "A1BG                           0.000000                           0.000000   \n",
       "NAT1                           0.104478                           0.145161   \n",
       "\n",
       "      mr616-MV411-JQ1_THZ1_1h-r3_tcount  mr617-MV411-JQ1_THZ1_1h-r4_tcount  \n",
       "A1BG                           0.000000                           0.000000  \n",
       "NAT1                           0.144144                           0.230769  \n",
       "\n",
       "[2 rows x 28 columns]"
      ]
     },
     "execution_count": 114,
     "metadata": {},
     "output_type": "execute_result"
    }
   ],
   "source": [
    "(tccounts/readcounts).fillna(0).iloc[:2]"
   ]
  },
  {
   "cell_type": "code",
   "execution_count": 115,
   "id": "014ce6fd",
   "metadata": {
    "hidden": true
   },
   "outputs": [
    {
     "name": "stdout",
     "output_type": "stream",
     "text": [
      "Saved tccounts/readcounts to: ../results/slamseq_inhibitors_v2/inhibitors_v2_0_5_tccounts_per_readcounts.csv\n"
     ]
    }
   ],
   "source": [
    "# Save tccounts/readcounts file\n",
    "(tccounts/readcounts).fillna(0).to_csv(res_dir+counts_file_prefix+\"_tccounts_per_readcounts.csv\")\n",
    "print(\"Saved tccounts/readcounts to: {}\".format(res_dir+counts_file_prefix+\"_tccounts_per_readcounts.csv\"))"
   ]
  },
  {
   "cell_type": "markdown",
   "id": "02bd9bb9",
   "metadata": {
    "heading_collapsed": true,
    "hidden": true
   },
   "source": [
    "## look at similarity across replicates"
   ]
  },
  {
   "cell_type": "code",
   "execution_count": 116,
   "id": "12614fe6",
   "metadata": {
    "collapsed": true,
    "hidden": true
   },
   "outputs": [
    {
     "data": {
      "text/plain": [
       "['MV411-DMSO_1h',\n",
       " 'MV411-DMSO_1h',\n",
       " 'MV411-DMSO_1h',\n",
       " 'MV411-DMSO_1h',\n",
       " 'MV411-MS2_1h',\n",
       " 'MV411-MS2_1h',\n",
       " 'MV411-MS2_1h',\n",
       " 'MV411-MS2_1h',\n",
       " 'MV411-JQ1_1h',\n",
       " 'MV411-JQ1_1h',\n",
       " 'MV411-JQ1_1h',\n",
       " 'MV411-JQ1_1h',\n",
       " 'MV411-MYCi361_1h',\n",
       " 'MV411-MYCi361_1h',\n",
       " 'MV411-MYCi361_1h',\n",
       " 'MV411-MYCi361_1h',\n",
       " 'MV411-THZ1_1h',\n",
       " 'MV411-THZ1_1h',\n",
       " 'MV411-THZ1_1h',\n",
       " 'MV411-THZ1_1h',\n",
       " 'MV411-JQ1_MS2_1h',\n",
       " 'MV411-JQ1_MS2_1h',\n",
       " 'MV411-JQ1_MS2_1h',\n",
       " 'MV411-JQ1_MS2_1h',\n",
       " 'MV411-JQ1_THZ1_1h',\n",
       " 'MV411-JQ1_THZ1_1h',\n",
       " 'MV411-JQ1_THZ1_1h',\n",
       " 'MV411-JQ1_THZ1_1h']"
      ]
     },
     "execution_count": 116,
     "metadata": {},
     "output_type": "execute_result"
    }
   ],
   "source": [
    "# conditions\n",
    "[i.split('-', 1)[-1].rpartition(\"-\")[0] for i in tccounts.columns]"
   ]
  },
  {
   "cell_type": "code",
   "execution_count": 117,
   "id": "116135b2",
   "metadata": {
    "hidden": true
   },
   "outputs": [
    {
     "name": "stdout",
     "output_type": "stream",
     "text": [
      "Replicate similarity plot saved to: ../results/slamseq_inhibitors_v2/plots/inhibitors_v2_similarity_replicates_sorted_tccounts.pdf\n"
     ]
    },
    {
     "data": {
      "image/png": "[encoded data removed]",
      "text/plain": [
       "<Figure size 792x720 with 2 Axes>"
      ]
     },
     "metadata": {
      "needs_background": "light"
     },
     "output_type": "display_data"
    }
   ],
   "source": [
    "%matplotlib inline\n",
    "import matplotlib.font_manager\n",
    "\n",
    "font_settings = {\n",
    "    \"family\" : \"sans-serif\",\n",
    "    \"size\" : 10\n",
    "}\n",
    "plt.rc(\"font\", **font_settings)\n",
    "\n",
    "# tccounts\n",
    "fig, ax = plt.subplots(figsize=(11,10))\n",
    "sns.heatmap(tccounts.corr(),\n",
    "            # condition w/ rep label\n",
    "            xticklabels=[i.split('-', 1)[-1].rpartition(\"_\")[0] for i in tccounts.columns],\n",
    "            yticklabels=[i.split('-', 1)[-1].rpartition(\"_\")[0] for i in tccounts.columns],\n",
    "            ax=ax, cmap=\"rocket\")#, vmin=0.9, vmax=1)\n",
    "plt.title(project.replace(\"_\", \" \").split(\" v\")[0]+\"\\n\"+\"Replicate similarity: TC counts\")\n",
    "plt.tight_layout()\n",
    "\n",
    "plt.savefig(res_dir+'plots/'+project+'_similarity_replicates_sorted_tccounts.pdf', dpi=300)\n",
    "\n",
    "print(\"Replicate similarity plot saved to: {}\".format(res_dir+'plots/'+project+\n",
    "                                                      '_similarity_replicates_sorted_tccounts.pdf'))"
   ]
  },
  {
   "cell_type": "markdown",
   "id": "1ffb43a8",
   "metadata": {
    "hidden": true
   },
   "source": [
    "all very similar (see scale)"
   ]
  },
  {
   "cell_type": "code",
   "execution_count": 119,
   "id": "c8fa4d95",
   "metadata": {
    "hidden": true
   },
   "outputs": [
    {
     "name": "stdout",
     "output_type": "stream",
     "text": [
      "Replicate similarity plot saved to: ../results/slamseq_inhibitors_v2/plots/inhibitors_v2_similarity_replicates_sorted_readcounts.pdf\n"
     ]
    },
    {
     "data": {
      "image/png": "[encoded data removed]",
      "text/plain": [
       "<Figure size 792x720 with 2 Axes>"
      ]
     },
     "metadata": {
      "needs_background": "light"
     },
     "output_type": "display_data"
    }
   ],
   "source": [
    "%matplotlib inline\n",
    "\n",
    "# readcounts\n",
    "fig, ax = plt.subplots(figsize=(11,10))\n",
    "sns.heatmap(readcounts.corr(), \n",
    "            # condition w/ rep label\n",
    "            xticklabels=[i.split('-', 1)[-1].rpartition(\"_\")[0] for i in tccounts.columns],\n",
    "            yticklabels=[i.split('-', 1)[-1].rpartition(\"_\")[0] for i in tccounts.columns],\n",
    "            ax=ax) #, vmin=0.985, vmax=1)\n",
    "plt.title(project.replace(\"_\", \" \").split(\" v\")[0]+\"\\n\"+\"Replicate similarity: read counts\")\n",
    "plt.tight_layout()\n",
    "\n",
    "plt.savefig(res_dir+'plots/'+project+'_similarity_replicates_sorted_readcounts.pdf', dpi=300)\n",
    "\n",
    "print(\"Replicate similarity plot saved to: {}\".format(res_dir+'plots/'+project+\n",
    "                                                      '_similarity_replicates_sorted_readcounts.pdf'))"
   ]
  },
  {
   "cell_type": "markdown",
   "id": "8345354c",
   "metadata": {},
   "source": [
    "# DESeq Analysis"
   ]
  },
  {
   "cell_type": "code",
   "execution_count": 120,
   "id": "28b01942",
   "metadata": {},
   "outputs": [
    {
     "name": "stdout",
     "output_type": "stream",
     "text": [
      "../results/slamseq_inhibitors_v2/\n"
     ]
    }
   ],
   "source": [
    "res_dir = \"../results/slamseq_{}/\".format(project)\n",
    "print(res_dir)"
   ]
  },
  {
   "cell_type": "code",
   "execution_count": 121,
   "id": "2bb77751",
   "metadata": {},
   "outputs": [],
   "source": [
    "# make genes col\n",
    "readcounts[\"genes\"] = readcounts.index\n",
    "readcounts = readcounts.reset_index(drop=True)\n",
    "\n",
    "tccounts[\"genes\"] = tccounts.index\n",
    "tccounts = tccounts.reset_index(drop=True)"
   ]
  },
  {
   "cell_type": "markdown",
   "id": "5a48daff",
   "metadata": {},
   "source": [
    "__include all replicates__"
   ]
  },
  {
   "cell_type": "markdown",
   "id": "641fcc09",
   "metadata": {},
   "source": [
    "__ERCC normalization__\n",
    "* MS2 - no\n",
    "* JQ1 - no\n",
    "* MYCi361 - no\n",
    "* THZ1 - no\n",
    "* JQ1_MS2 - no\n",
    "* JQ1_THZ1 - yes"
   ]
  },
  {
   "cell_type": "code",
   "execution_count": 129,
   "id": "ce980700",
   "metadata": {
    "scrolled": true
   },
   "outputs": [
    {
     "data": {
      "text/html": [
       "<div>\n",
       "<style scoped>\n",
       "    .dataframe tbody tr th:only-of-type {\n",
       "        vertical-align: middle;\n",
       "    }\n",
       "\n",
       "    .dataframe tbody tr th {\n",
       "        vertical-align: top;\n",
       "    }\n",
       "\n",
       "    .dataframe thead th {\n",
       "        text-align: right;\n",
       "    }\n",
       "</style>\n",
       "<table border=\"1\" class=\"dataframe\">\n",
       "  <thead>\n",
       "    <tr style=\"text-align: right;\">\n",
       "      <th></th>\n",
       "      <th>col</th>\n",
       "      <th>experiment</th>\n",
       "      <th>cond</th>\n",
       "      <th>time</th>\n",
       "      <th>treatment</th>\n",
       "      <th>rep</th>\n",
       "      <th>drop</th>\n",
       "    </tr>\n",
       "  </thead>\n",
       "  <tbody>\n",
       "    <tr>\n",
       "      <th>0</th>\n",
       "      <td>mr590-MV411-DMSO_1h-r1_tcount</td>\n",
       "      <td>MV411</td>\n",
       "      <td>MV411-DMSO_1h</td>\n",
       "      <td>1h</td>\n",
       "      <td>DMSO</td>\n",
       "      <td>r1</td>\n",
       "      <td>False</td>\n",
       "    </tr>\n",
       "    <tr>\n",
       "      <th>1</th>\n",
       "      <td>mr591-MV411-DMSO_1h-r2_tcount</td>\n",
       "      <td>MV411</td>\n",
       "      <td>MV411-DMSO_1h</td>\n",
       "      <td>1h</td>\n",
       "      <td>DMSO</td>\n",
       "      <td>r2</td>\n",
       "      <td>False</td>\n",
       "    </tr>\n",
       "    <tr>\n",
       "      <th>2</th>\n",
       "      <td>mr592-MV411-DMSO_1h-r3_tcount</td>\n",
       "      <td>MV411</td>\n",
       "      <td>MV411-DMSO_1h</td>\n",
       "      <td>1h</td>\n",
       "      <td>DMSO</td>\n",
       "      <td>r3</td>\n",
       "      <td>False</td>\n",
       "    </tr>\n",
       "    <tr>\n",
       "      <th>3</th>\n",
       "      <td>mr593-MV411-DMSO_1h-r4_tcount</td>\n",
       "      <td>MV411</td>\n",
       "      <td>MV411-DMSO_1h</td>\n",
       "      <td>1h</td>\n",
       "      <td>DMSO</td>\n",
       "      <td>r4</td>\n",
       "      <td>False</td>\n",
       "    </tr>\n",
       "    <tr>\n",
       "      <th>4</th>\n",
       "      <td>mr594-MV411-MS2_1h-r1_tcount</td>\n",
       "      <td>MV411</td>\n",
       "      <td>MV411-MS2_1h</td>\n",
       "      <td>1h</td>\n",
       "      <td>MS2</td>\n",
       "      <td>r1</td>\n",
       "      <td>False</td>\n",
       "    </tr>\n",
       "    <tr>\n",
       "      <th>5</th>\n",
       "      <td>mr595-MV411-MS2_1h-r2_tcount</td>\n",
       "      <td>MV411</td>\n",
       "      <td>MV411-MS2_1h</td>\n",
       "      <td>1h</td>\n",
       "      <td>MS2</td>\n",
       "      <td>r2</td>\n",
       "      <td>False</td>\n",
       "    </tr>\n",
       "    <tr>\n",
       "      <th>6</th>\n",
       "      <td>mr596-MV411-MS2_1h-r3_tcount</td>\n",
       "      <td>MV411</td>\n",
       "      <td>MV411-MS2_1h</td>\n",
       "      <td>1h</td>\n",
       "      <td>MS2</td>\n",
       "      <td>r3</td>\n",
       "      <td>False</td>\n",
       "    </tr>\n",
       "    <tr>\n",
       "      <th>7</th>\n",
       "      <td>mr597-MV411-MS2_1h-r4_tcount</td>\n",
       "      <td>MV411</td>\n",
       "      <td>MV411-MS2_1h</td>\n",
       "      <td>1h</td>\n",
       "      <td>MS2</td>\n",
       "      <td>r4</td>\n",
       "      <td>False</td>\n",
       "    </tr>\n",
       "    <tr>\n",
       "      <th>8</th>\n",
       "      <td>mr598-MV411-JQ1_1h-r1_tcount</td>\n",
       "      <td>MV411</td>\n",
       "      <td>MV411-JQ1_1h</td>\n",
       "      <td>1h</td>\n",
       "      <td>JQ1</td>\n",
       "      <td>r1</td>\n",
       "      <td>False</td>\n",
       "    </tr>\n",
       "    <tr>\n",
       "      <th>9</th>\n",
       "      <td>mr599-MV411-JQ1_1h-r2_tcount</td>\n",
       "      <td>MV411</td>\n",
       "      <td>MV411-JQ1_1h</td>\n",
       "      <td>1h</td>\n",
       "      <td>JQ1</td>\n",
       "      <td>r2</td>\n",
       "      <td>False</td>\n",
       "    </tr>\n",
       "    <tr>\n",
       "      <th>10</th>\n",
       "      <td>mr600-MV411-JQ1_1h-r3_tcount</td>\n",
       "      <td>MV411</td>\n",
       "      <td>MV411-JQ1_1h</td>\n",
       "      <td>1h</td>\n",
       "      <td>JQ1</td>\n",
       "      <td>r3</td>\n",
       "      <td>False</td>\n",
       "    </tr>\n",
       "    <tr>\n",
       "      <th>11</th>\n",
       "      <td>mr601-MV411-JQ1_1h-r4_tcount</td>\n",
       "      <td>MV411</td>\n",
       "      <td>MV411-JQ1_1h</td>\n",
       "      <td>1h</td>\n",
       "      <td>JQ1</td>\n",
       "      <td>r4</td>\n",
       "      <td>False</td>\n",
       "    </tr>\n",
       "    <tr>\n",
       "      <th>12</th>\n",
       "      <td>mr602-MV411-MYCi361_1h-r1_tcount</td>\n",
       "      <td>MV411</td>\n",
       "      <td>MV411-MYCi361_1h</td>\n",
       "      <td>1h</td>\n",
       "      <td>MYCi361</td>\n",
       "      <td>r1</td>\n",
       "      <td>False</td>\n",
       "    </tr>\n",
       "    <tr>\n",
       "      <th>13</th>\n",
       "      <td>mr603-MV411-MYCi361_1h-r2_tcount</td>\n",
       "      <td>MV411</td>\n",
       "      <td>MV411-MYCi361_1h</td>\n",
       "      <td>1h</td>\n",
       "      <td>MYCi361</td>\n",
       "      <td>r2</td>\n",
       "      <td>False</td>\n",
       "    </tr>\n",
       "    <tr>\n",
       "      <th>14</th>\n",
       "      <td>mr604-MV411-MYCi361_1h-r3_tcount</td>\n",
       "      <td>MV411</td>\n",
       "      <td>MV411-MYCi361_1h</td>\n",
       "      <td>1h</td>\n",
       "      <td>MYCi361</td>\n",
       "      <td>r3</td>\n",
       "      <td>False</td>\n",
       "    </tr>\n",
       "    <tr>\n",
       "      <th>15</th>\n",
       "      <td>mr605-MV411-MYCi361_1h-r4_tcount</td>\n",
       "      <td>MV411</td>\n",
       "      <td>MV411-MYCi361_1h</td>\n",
       "      <td>1h</td>\n",
       "      <td>MYCi361</td>\n",
       "      <td>r4</td>\n",
       "      <td>False</td>\n",
       "    </tr>\n",
       "    <tr>\n",
       "      <th>16</th>\n",
       "      <td>mr606-MV411-THZ1_1h-r1_tcount</td>\n",
       "      <td>MV411</td>\n",
       "      <td>MV411-THZ1_1h</td>\n",
       "      <td>1h</td>\n",
       "      <td>THZ1</td>\n",
       "      <td>r1</td>\n",
       "      <td>False</td>\n",
       "    </tr>\n",
       "    <tr>\n",
       "      <th>17</th>\n",
       "      <td>mr607-MV411-THZ1_1h-r2_tcount</td>\n",
       "      <td>MV411</td>\n",
       "      <td>MV411-THZ1_1h</td>\n",
       "      <td>1h</td>\n",
       "      <td>THZ1</td>\n",
       "      <td>r2</td>\n",
       "      <td>False</td>\n",
       "    </tr>\n",
       "    <tr>\n",
       "      <th>18</th>\n",
       "      <td>mr608-MV411-THZ1_1h-r3_tcount</td>\n",
       "      <td>MV411</td>\n",
       "      <td>MV411-THZ1_1h</td>\n",
       "      <td>1h</td>\n",
       "      <td>THZ1</td>\n",
       "      <td>r3</td>\n",
       "      <td>False</td>\n",
       "    </tr>\n",
       "    <tr>\n",
       "      <th>19</th>\n",
       "      <td>mr609-MV411-THZ1_1h-r4_tcount</td>\n",
       "      <td>MV411</td>\n",
       "      <td>MV411-THZ1_1h</td>\n",
       "      <td>1h</td>\n",
       "      <td>THZ1</td>\n",
       "      <td>r4</td>\n",
       "      <td>False</td>\n",
       "    </tr>\n",
       "    <tr>\n",
       "      <th>20</th>\n",
       "      <td>mr610-MV411-JQ1_MS2_1h-r1_tcount</td>\n",
       "      <td>MV411</td>\n",
       "      <td>MV411-JQ1_MS2_1h</td>\n",
       "      <td>1h</td>\n",
       "      <td>JQ1_MS2</td>\n",
       "      <td>r1</td>\n",
       "      <td>False</td>\n",
       "    </tr>\n",
       "    <tr>\n",
       "      <th>21</th>\n",
       "      <td>mr611-MV411-JQ1_MS2_1h-r2_tcount</td>\n",
       "      <td>MV411</td>\n",
       "      <td>MV411-JQ1_MS2_1h</td>\n",
       "      <td>1h</td>\n",
       "      <td>JQ1_MS2</td>\n",
       "      <td>r2</td>\n",
       "      <td>False</td>\n",
       "    </tr>\n",
       "    <tr>\n",
       "      <th>22</th>\n",
       "      <td>mr612-MV411-JQ1_MS2_1h-r3_tcount</td>\n",
       "      <td>MV411</td>\n",
       "      <td>MV411-JQ1_MS2_1h</td>\n",
       "      <td>1h</td>\n",
       "      <td>JQ1_MS2</td>\n",
       "      <td>r3</td>\n",
       "      <td>False</td>\n",
       "    </tr>\n",
       "    <tr>\n",
       "      <th>23</th>\n",
       "      <td>mr613-MV411-JQ1_MS2_1h-r4_tcount</td>\n",
       "      <td>MV411</td>\n",
       "      <td>MV411-JQ1_MS2_1h</td>\n",
       "      <td>1h</td>\n",
       "      <td>JQ1_MS2</td>\n",
       "      <td>r4</td>\n",
       "      <td>False</td>\n",
       "    </tr>\n",
       "    <tr>\n",
       "      <th>24</th>\n",
       "      <td>mr614-MV411-JQ1_THZ1_1h-r1_tcount</td>\n",
       "      <td>MV411</td>\n",
       "      <td>MV411-JQ1_THZ1_1h</td>\n",
       "      <td>1h</td>\n",
       "      <td>JQ1_THZ1</td>\n",
       "      <td>r1</td>\n",
       "      <td>False</td>\n",
       "    </tr>\n",
       "    <tr>\n",
       "      <th>25</th>\n",
       "      <td>mr615-MV411-JQ1_THZ1_1h-r2_tcount</td>\n",
       "      <td>MV411</td>\n",
       "      <td>MV411-JQ1_THZ1_1h</td>\n",
       "      <td>1h</td>\n",
       "      <td>JQ1_THZ1</td>\n",
       "      <td>r2</td>\n",
       "      <td>False</td>\n",
       "    </tr>\n",
       "    <tr>\n",
       "      <th>26</th>\n",
       "      <td>mr616-MV411-JQ1_THZ1_1h-r3_tcount</td>\n",
       "      <td>MV411</td>\n",
       "      <td>MV411-JQ1_THZ1_1h</td>\n",
       "      <td>1h</td>\n",
       "      <td>JQ1_THZ1</td>\n",
       "      <td>r3</td>\n",
       "      <td>False</td>\n",
       "    </tr>\n",
       "    <tr>\n",
       "      <th>27</th>\n",
       "      <td>mr617-MV411-JQ1_THZ1_1h-r4_tcount</td>\n",
       "      <td>MV411</td>\n",
       "      <td>MV411-JQ1_THZ1_1h</td>\n",
       "      <td>1h</td>\n",
       "      <td>JQ1_THZ1</td>\n",
       "      <td>r4</td>\n",
       "      <td>False</td>\n",
       "    </tr>\n",
       "  </tbody>\n",
       "</table>\n",
       "</div>"
      ],
      "text/plain": [
       "                                  col experiment               cond time  \\\n",
       "0       mr590-MV411-DMSO_1h-r1_tcount      MV411      MV411-DMSO_1h   1h   \n",
       "1       mr591-MV411-DMSO_1h-r2_tcount      MV411      MV411-DMSO_1h   1h   \n",
       "2       mr592-MV411-DMSO_1h-r3_tcount      MV411      MV411-DMSO_1h   1h   \n",
       "3       mr593-MV411-DMSO_1h-r4_tcount      MV411      MV411-DMSO_1h   1h   \n",
       "4        mr594-MV411-MS2_1h-r1_tcount      MV411       MV411-MS2_1h   1h   \n",
       "5        mr595-MV411-MS2_1h-r2_tcount      MV411       MV411-MS2_1h   1h   \n",
       "6        mr596-MV411-MS2_1h-r3_tcount      MV411       MV411-MS2_1h   1h   \n",
       "7        mr597-MV411-MS2_1h-r4_tcount      MV411       MV411-MS2_1h   1h   \n",
       "8        mr598-MV411-JQ1_1h-r1_tcount      MV411       MV411-JQ1_1h   1h   \n",
       "9        mr599-MV411-JQ1_1h-r2_tcount      MV411       MV411-JQ1_1h   1h   \n",
       "10       mr600-MV411-JQ1_1h-r3_tcount      MV411       MV411-JQ1_1h   1h   \n",
       "11       mr601-MV411-JQ1_1h-r4_tcount      MV411       MV411-JQ1_1h   1h   \n",
       "12   mr602-MV411-MYCi361_1h-r1_tcount      MV411   MV411-MYCi361_1h   1h   \n",
       "13   mr603-MV411-MYCi361_1h-r2_tcount      MV411   MV411-MYCi361_1h   1h   \n",
       "14   mr604-MV411-MYCi361_1h-r3_tcount      MV411   MV411-MYCi361_1h   1h   \n",
       "15   mr605-MV411-MYCi361_1h-r4_tcount      MV411   MV411-MYCi361_1h   1h   \n",
       "16      mr606-MV411-THZ1_1h-r1_tcount      MV411      MV411-THZ1_1h   1h   \n",
       "17      mr607-MV411-THZ1_1h-r2_tcount      MV411      MV411-THZ1_1h   1h   \n",
       "18      mr608-MV411-THZ1_1h-r3_tcount      MV411      MV411-THZ1_1h   1h   \n",
       "19      mr609-MV411-THZ1_1h-r4_tcount      MV411      MV411-THZ1_1h   1h   \n",
       "20   mr610-MV411-JQ1_MS2_1h-r1_tcount      MV411   MV411-JQ1_MS2_1h   1h   \n",
       "21   mr611-MV411-JQ1_MS2_1h-r2_tcount      MV411   MV411-JQ1_MS2_1h   1h   \n",
       "22   mr612-MV411-JQ1_MS2_1h-r3_tcount      MV411   MV411-JQ1_MS2_1h   1h   \n",
       "23   mr613-MV411-JQ1_MS2_1h-r4_tcount      MV411   MV411-JQ1_MS2_1h   1h   \n",
       "24  mr614-MV411-JQ1_THZ1_1h-r1_tcount      MV411  MV411-JQ1_THZ1_1h   1h   \n",
       "25  mr615-MV411-JQ1_THZ1_1h-r2_tcount      MV411  MV411-JQ1_THZ1_1h   1h   \n",
       "26  mr616-MV411-JQ1_THZ1_1h-r3_tcount      MV411  MV411-JQ1_THZ1_1h   1h   \n",
       "27  mr617-MV411-JQ1_THZ1_1h-r4_tcount      MV411  MV411-JQ1_THZ1_1h   1h   \n",
       "\n",
       "   treatment rep   drop  \n",
       "0       DMSO  r1  False  \n",
       "1       DMSO  r2  False  \n",
       "2       DMSO  r3  False  \n",
       "3       DMSO  r4  False  \n",
       "4        MS2  r1  False  \n",
       "5        MS2  r2  False  \n",
       "6        MS2  r3  False  \n",
       "7        MS2  r4  False  \n",
       "8        JQ1  r1  False  \n",
       "9        JQ1  r2  False  \n",
       "10       JQ1  r3  False  \n",
       "11       JQ1  r4  False  \n",
       "12   MYCi361  r1  False  \n",
       "13   MYCi361  r2  False  \n",
       "14   MYCi361  r3  False  \n",
       "15   MYCi361  r4  False  \n",
       "16      THZ1  r1  False  \n",
       "17      THZ1  r2  False  \n",
       "18      THZ1  r3  False  \n",
       "19      THZ1  r4  False  \n",
       "20   JQ1_MS2  r1  False  \n",
       "21   JQ1_MS2  r2  False  \n",
       "22   JQ1_MS2  r3  False  \n",
       "23   JQ1_MS2  r4  False  \n",
       "24  JQ1_THZ1  r1  False  \n",
       "25  JQ1_THZ1  r2  False  \n",
       "26  JQ1_THZ1  r3  False  \n",
       "27  JQ1_THZ1  r4  False  "
      ]
     },
     "execution_count": 129,
     "metadata": {},
     "output_type": "execute_result"
    }
   ],
   "source": [
    "drop_samples = []\n",
    "\n",
    "# col info\n",
    "cols = tccounts.columns[:-1]\n",
    "experiments = [x.rsplit(\"-\", 2)[0].split(\"-\", 1)[-1] for x in cols]\n",
    "conds = [x.split(\"-\", 1)[1].rsplit(\"-\", 1)[0] for x in cols]\n",
    "time = [x.split(\"_\")[-1] for x in conds]\n",
    "treatment = [x.split(\"-\")[-1].rsplit(\"_\", 1)[0] for x in conds]\n",
    "rep = [x.split(\"_\")[-2].split(\"-\")[-1] for x in cols]\n",
    "drop = [True if any(sample in x for sample in drop_samples) else False for x in cols]\n",
    "\n",
    "# experimental design\n",
    "exp_design = pd.DataFrame(list(zip(cols, experiments, conds, time, treatment, rep, drop)), \n",
    "                          columns=[\"col\", \"experiment\", \"cond\", \"time\", \"treatment\", \"rep\", \"drop\"])\n",
    "\n",
    "exp_design"
   ]
  },
  {
   "cell_type": "code",
   "execution_count": 130,
   "id": "c8852934",
   "metadata": {},
   "outputs": [
    {
     "name": "stdout",
     "output_type": "stream",
     "text": [
      "Save exp design/meta data to: ../results/slamseq_inhibitors_v2/inhibitors_v2_metaData.csv\n"
     ]
    }
   ],
   "source": [
    "# save experimental design / metaData\n",
    "exp_design.to_csv(res_dir+project+\"_metaData.csv\", index=False)\n",
    "print(\"Save exp design/meta data to: \"+res_dir+project+\"_metaData.csv\")"
   ]
  },
  {
   "cell_type": "markdown",
   "id": "ae5736f3",
   "metadata": {
    "heading_collapsed": true
   },
   "source": [
    "## MV411 MS2 1h"
   ]
  },
  {
   "cell_type": "markdown",
   "id": "be666f7d",
   "metadata": {
    "heading_collapsed": true,
    "hidden": true
   },
   "source": [
    "### make design matrix"
   ]
  },
  {
   "cell_type": "code",
   "execution_count": 149,
   "id": "4d5fa54a",
   "metadata": {
    "hidden": true
   },
   "outputs": [],
   "source": [
    "# MV411 MS2 inhibitor 1h\n",
    "version = \"v1\"\n",
    "var_name = \"experiment\"\n",
    "var = \"MV411\"\n",
    "var1 = \"DMSO\"\n",
    "var2 = \"MS2\"\n",
    "drop_rep = exp_design.loc[(exp_design[var_name] == var) & (exp_design[\"drop\"] == True), \"col\"]"
   ]
  },
  {
   "cell_type": "code",
   "execution_count": 150,
   "id": "60210e08",
   "metadata": {
    "hidden": true
   },
   "outputs": [],
   "source": [
    "# tccounts\n",
    "tccountsGene = tccounts[tccounts.columns[:-1]]\n",
    "\n",
    "# readcounts\n",
    "readcountsGene = readcounts[readcounts.columns[:-1]]"
   ]
  },
  {
   "cell_type": "markdown",
   "id": "327f57b6",
   "metadata": {
    "hidden": true
   },
   "source": [
    "be careful that var_cols are only the samples being used for DESeq comparison!"
   ]
  },
  {
   "cell_type": "code",
   "execution_count": 151,
   "id": "efc509c2",
   "metadata": {
    "hidden": true
   },
   "outputs": [],
   "source": [
    "# get just var data\n",
    "# remove dropped reps\n",
    "var1_cols = [1 if (exp_design.iloc[idx][var_name] == var) and (exp_design.iloc[idx][\"treatment\"] == var1) and\n",
    "             (exp_design.iloc[idx][\"drop\"] == False) else 0 for idx in range(exp_design.shape[0])]\n",
    "\n",
    "var2_cols = [1 if (exp_design.iloc[idx][var_name] == var) and (exp_design.iloc[idx][\"treatment\"] == var2) and \n",
    "            (exp_design.iloc[idx][\"drop\"] == False) else 0 for idx in range(exp_design.shape[0])]\n",
    "\n",
    "var_cols = [sum(x) for x in zip(var1_cols, var2_cols)]"
   ]
  },
  {
   "cell_type": "code",
   "execution_count": 152,
   "id": "c66205ed",
   "metadata": {
    "hidden": true
   },
   "outputs": [],
   "source": [
    "# all columns\n",
    "design = pd.DataFrame(index= [i.replace(\"-\",\".\") for i in tccountsGene.columns], \n",
    "                      columns=[var1, var2], \n",
    "                      data=np.array([var1_cols, var2_cols], dtype=bool).T)"
   ]
  },
  {
   "cell_type": "code",
   "execution_count": 153,
   "id": "a63c4683",
   "metadata": {
    "collapsed": true,
    "hidden": true
   },
   "outputs": [
    {
     "data": {
      "text/html": [
       "<div>\n",
       "<style scoped>\n",
       "    .dataframe tbody tr th:only-of-type {\n",
       "        vertical-align: middle;\n",
       "    }\n",
       "\n",
       "    .dataframe tbody tr th {\n",
       "        vertical-align: top;\n",
       "    }\n",
       "\n",
       "    .dataframe thead th {\n",
       "        text-align: right;\n",
       "    }\n",
       "</style>\n",
       "<table border=\"1\" class=\"dataframe\">\n",
       "  <thead>\n",
       "    <tr style=\"text-align: right;\">\n",
       "      <th></th>\n",
       "      <th>DMSO</th>\n",
       "      <th>MS2</th>\n",
       "    </tr>\n",
       "  </thead>\n",
       "  <tbody>\n",
       "    <tr>\n",
       "      <th>mr590.MV411.DMSO_1h.r1_tcount</th>\n",
       "      <td>True</td>\n",
       "      <td>False</td>\n",
       "    </tr>\n",
       "    <tr>\n",
       "      <th>mr591.MV411.DMSO_1h.r2_tcount</th>\n",
       "      <td>True</td>\n",
       "      <td>False</td>\n",
       "    </tr>\n",
       "    <tr>\n",
       "      <th>mr592.MV411.DMSO_1h.r3_tcount</th>\n",
       "      <td>True</td>\n",
       "      <td>False</td>\n",
       "    </tr>\n",
       "    <tr>\n",
       "      <th>mr593.MV411.DMSO_1h.r4_tcount</th>\n",
       "      <td>True</td>\n",
       "      <td>False</td>\n",
       "    </tr>\n",
       "    <tr>\n",
       "      <th>mr594.MV411.MS2_1h.r1_tcount</th>\n",
       "      <td>False</td>\n",
       "      <td>True</td>\n",
       "    </tr>\n",
       "    <tr>\n",
       "      <th>mr595.MV411.MS2_1h.r2_tcount</th>\n",
       "      <td>False</td>\n",
       "      <td>True</td>\n",
       "    </tr>\n",
       "    <tr>\n",
       "      <th>mr596.MV411.MS2_1h.r3_tcount</th>\n",
       "      <td>False</td>\n",
       "      <td>True</td>\n",
       "    </tr>\n",
       "    <tr>\n",
       "      <th>mr597.MV411.MS2_1h.r4_tcount</th>\n",
       "      <td>False</td>\n",
       "      <td>True</td>\n",
       "    </tr>\n",
       "    <tr>\n",
       "      <th>mr598.MV411.JQ1_1h.r1_tcount</th>\n",
       "      <td>False</td>\n",
       "      <td>False</td>\n",
       "    </tr>\n",
       "    <tr>\n",
       "      <th>mr599.MV411.JQ1_1h.r2_tcount</th>\n",
       "      <td>False</td>\n",
       "      <td>False</td>\n",
       "    </tr>\n",
       "    <tr>\n",
       "      <th>mr600.MV411.JQ1_1h.r3_tcount</th>\n",
       "      <td>False</td>\n",
       "      <td>False</td>\n",
       "    </tr>\n",
       "    <tr>\n",
       "      <th>mr601.MV411.JQ1_1h.r4_tcount</th>\n",
       "      <td>False</td>\n",
       "      <td>False</td>\n",
       "    </tr>\n",
       "    <tr>\n",
       "      <th>mr602.MV411.MYCi361_1h.r1_tcount</th>\n",
       "      <td>False</td>\n",
       "      <td>False</td>\n",
       "    </tr>\n",
       "    <tr>\n",
       "      <th>mr603.MV411.MYCi361_1h.r2_tcount</th>\n",
       "      <td>False</td>\n",
       "      <td>False</td>\n",
       "    </tr>\n",
       "    <tr>\n",
       "      <th>mr604.MV411.MYCi361_1h.r3_tcount</th>\n",
       "      <td>False</td>\n",
       "      <td>False</td>\n",
       "    </tr>\n",
       "    <tr>\n",
       "      <th>mr605.MV411.MYCi361_1h.r4_tcount</th>\n",
       "      <td>False</td>\n",
       "      <td>False</td>\n",
       "    </tr>\n",
       "    <tr>\n",
       "      <th>mr606.MV411.THZ1_1h.r1_tcount</th>\n",
       "      <td>False</td>\n",
       "      <td>False</td>\n",
       "    </tr>\n",
       "    <tr>\n",
       "      <th>mr607.MV411.THZ1_1h.r2_tcount</th>\n",
       "      <td>False</td>\n",
       "      <td>False</td>\n",
       "    </tr>\n",
       "    <tr>\n",
       "      <th>mr608.MV411.THZ1_1h.r3_tcount</th>\n",
       "      <td>False</td>\n",
       "      <td>False</td>\n",
       "    </tr>\n",
       "    <tr>\n",
       "      <th>mr609.MV411.THZ1_1h.r4_tcount</th>\n",
       "      <td>False</td>\n",
       "      <td>False</td>\n",
       "    </tr>\n",
       "    <tr>\n",
       "      <th>mr610.MV411.JQ1_MS2_1h.r1_tcount</th>\n",
       "      <td>False</td>\n",
       "      <td>False</td>\n",
       "    </tr>\n",
       "    <tr>\n",
       "      <th>mr611.MV411.JQ1_MS2_1h.r2_tcount</th>\n",
       "      <td>False</td>\n",
       "      <td>False</td>\n",
       "    </tr>\n",
       "    <tr>\n",
       "      <th>mr612.MV411.JQ1_MS2_1h.r3_tcount</th>\n",
       "      <td>False</td>\n",
       "      <td>False</td>\n",
       "    </tr>\n",
       "    <tr>\n",
       "      <th>mr613.MV411.JQ1_MS2_1h.r4_tcount</th>\n",
       "      <td>False</td>\n",
       "      <td>False</td>\n",
       "    </tr>\n",
       "    <tr>\n",
       "      <th>mr614.MV411.JQ1_THZ1_1h.r1_tcount</th>\n",
       "      <td>False</td>\n",
       "      <td>False</td>\n",
       "    </tr>\n",
       "    <tr>\n",
       "      <th>mr615.MV411.JQ1_THZ1_1h.r2_tcount</th>\n",
       "      <td>False</td>\n",
       "      <td>False</td>\n",
       "    </tr>\n",
       "    <tr>\n",
       "      <th>mr616.MV411.JQ1_THZ1_1h.r3_tcount</th>\n",
       "      <td>False</td>\n",
       "      <td>False</td>\n",
       "    </tr>\n",
       "    <tr>\n",
       "      <th>mr617.MV411.JQ1_THZ1_1h.r4_tcount</th>\n",
       "      <td>False</td>\n",
       "      <td>False</td>\n",
       "    </tr>\n",
       "  </tbody>\n",
       "</table>\n",
       "</div>"
      ],
      "text/plain": [
       "                                    DMSO    MS2\n",
       "mr590.MV411.DMSO_1h.r1_tcount       True  False\n",
       "mr591.MV411.DMSO_1h.r2_tcount       True  False\n",
       "mr592.MV411.DMSO_1h.r3_tcount       True  False\n",
       "mr593.MV411.DMSO_1h.r4_tcount       True  False\n",
       "mr594.MV411.MS2_1h.r1_tcount       False   True\n",
       "mr595.MV411.MS2_1h.r2_tcount       False   True\n",
       "mr596.MV411.MS2_1h.r3_tcount       False   True\n",
       "mr597.MV411.MS2_1h.r4_tcount       False   True\n",
       "mr598.MV411.JQ1_1h.r1_tcount       False  False\n",
       "mr599.MV411.JQ1_1h.r2_tcount       False  False\n",
       "mr600.MV411.JQ1_1h.r3_tcount       False  False\n",
       "mr601.MV411.JQ1_1h.r4_tcount       False  False\n",
       "mr602.MV411.MYCi361_1h.r1_tcount   False  False\n",
       "mr603.MV411.MYCi361_1h.r2_tcount   False  False\n",
       "mr604.MV411.MYCi361_1h.r3_tcount   False  False\n",
       "mr605.MV411.MYCi361_1h.r4_tcount   False  False\n",
       "mr606.MV411.THZ1_1h.r1_tcount      False  False\n",
       "mr607.MV411.THZ1_1h.r2_tcount      False  False\n",
       "mr608.MV411.THZ1_1h.r3_tcount      False  False\n",
       "mr609.MV411.THZ1_1h.r4_tcount      False  False\n",
       "mr610.MV411.JQ1_MS2_1h.r1_tcount   False  False\n",
       "mr611.MV411.JQ1_MS2_1h.r2_tcount   False  False\n",
       "mr612.MV411.JQ1_MS2_1h.r3_tcount   False  False\n",
       "mr613.MV411.JQ1_MS2_1h.r4_tcount   False  False\n",
       "mr614.MV411.JQ1_THZ1_1h.r1_tcount  False  False\n",
       "mr615.MV411.JQ1_THZ1_1h.r2_tcount  False  False\n",
       "mr616.MV411.JQ1_THZ1_1h.r3_tcount  False  False\n",
       "mr617.MV411.JQ1_THZ1_1h.r4_tcount  False  False"
      ]
     },
     "execution_count": 153,
     "metadata": {},
     "output_type": "execute_result"
    }
   ],
   "source": [
    "design"
   ]
  },
  {
   "cell_type": "code",
   "execution_count": 154,
   "id": "b8f71225",
   "metadata": {
    "hidden": true
   },
   "outputs": [],
   "source": [
    "# genes as first column\n",
    "tccountsGene = tccounts[['genes']+list(tccountsGene.columns)]\n",
    "readcountsGene = readcounts[['genes']+list(readcountsGene.columns)]"
   ]
  },
  {
   "cell_type": "markdown",
   "id": "2bdb307b",
   "metadata": {
    "heading_collapsed": true,
    "hidden": true
   },
   "source": [
    "### ERCC samplewise scaled"
   ]
  },
  {
   "cell_type": "code",
   "execution_count": 155,
   "id": "34f466fc",
   "metadata": {
    "hidden": true
   },
   "outputs": [],
   "source": [
    "scaling=\"ERCCsamplewise\""
   ]
  },
  {
   "cell_type": "markdown",
   "id": "8b92d451",
   "metadata": {
    "hidden": true
   },
   "source": [
    "__make DESeq object__"
   ]
  },
  {
   "cell_type": "code",
   "execution_count": 156,
   "id": "ad59f54c",
   "metadata": {
    "hidden": true
   },
   "outputs": [
    {
     "name": "stdout",
     "output_type": "stream",
     "text": [
      "you need to have R installed with the DESeq2 library installed\n",
      "3.4.5\n"
     ]
    }
   ],
   "source": [
    "# tccounts DESeq gene object\n",
    "deseqGene_tc = pyDESeq2.pyDESeq2(count_matrix=tccountsGene[tccountsGene.columns[np.array([1]+var_cols, bool)]], \n",
    "                                 design_matrix=design[np.array(var_cols, bool)],\n",
    "                                 design_formula=\"~{} - {}\".format(var1, var2),\n",
    "                                 gene_column=\"genes\")"
   ]
  },
  {
   "cell_type": "code",
   "execution_count": 157,
   "id": "56c152e9",
   "metadata": {
    "hidden": true
   },
   "outputs": [
    {
     "name": "stdout",
     "output_type": "stream",
     "text": [
      "you need to have R installed with the DESeq2 library installed\n",
      "3.4.5\n"
     ]
    }
   ],
   "source": [
    "# readcounts DESeq gene object\n",
    "deseqGene_read = pyDESeq2.pyDESeq2(count_matrix=readcountsGene[readcountsGene.columns[np.array([1]+var_cols, bool)]], \n",
    "                                   design_matrix=design[np.array(var_cols, bool)],\n",
    "                                   design_formula=\"~{} - {}\".format(var1, var2),\n",
    "                                   gene_column=\"genes\")"
   ]
  },
  {
   "cell_type": "markdown",
   "id": "38087895",
   "metadata": {
    "hidden": true
   },
   "source": [
    "__estimate and modify size factors__"
   ]
  },
  {
   "cell_type": "code",
   "execution_count": 158,
   "id": "971487a1",
   "metadata": {
    "hidden": true
   },
   "outputs": [],
   "source": [
    "# tccounts\n",
    "deseqGene_tc.run_estimate_size_factors(geoMeans = np.exp(np.mean(np.log(\n",
    "    readcounts[tccountsGene.columns[[False]+design[var1].tolist()]].values+1), 1)))\n",
    "\n",
    "# readcounts\n",
    "deseqGene_read.run_estimate_size_factors()"
   ]
  },
  {
   "cell_type": "code",
   "execution_count": 159,
   "id": "f8717eea",
   "metadata": {
    "hidden": true
   },
   "outputs": [
    {
     "data": {
      "text/plain": [
       "0\n",
       "ERCC_mr590-MV411-DMSO_1h-r1_filtered.bam    0.341648\n",
       "ERCC_mr591-MV411-DMSO_1h-r2_filtered.bam    0.329341\n",
       "ERCC_mr592-MV411-DMSO_1h-r3_filtered.bam    0.306805\n",
       "ERCC_mr593-MV411-DMSO_1h-r4_filtered.bam    0.326813\n",
       "ERCC_mr594-MV411-MS2_1h-r1_filtered.bam     0.293509\n",
       "ERCC_mr595-MV411-MS2_1h-r2_filtered.bam     0.340927\n",
       "ERCC_mr596-MV411-MS2_1h-r3_filtered.bam     0.346558\n",
       "ERCC_mr597-MV411-MS2_1h-r4_filtered.bam     0.356847\n",
       "Name: 1, dtype: float64"
      ]
     },
     "execution_count": 159,
     "metadata": {},
     "output_type": "execute_result"
    }
   ],
   "source": [
    "# read in ERCC pseudocounts\n",
    "res = pd.read_csv(res_dir+\"/\"+project+\"_scaling_factors.csv\", index_col=0, header=None, squeeze=True)\n",
    "\n",
    "# select var values\n",
    "res = res[np.array(var_cols, dtype=bool)]\n",
    "res"
   ]
  },
  {
   "cell_type": "markdown",
   "id": "fa4914f7",
   "metadata": {
    "hidden": true
   },
   "source": [
    "__modify size factors__\n",
    "<br> VHL size factor * adjusted VHL res (VHL res per sample / average DMSO res)"
   ]
  },
  {
   "cell_type": "code",
   "execution_count": 160,
   "id": "b680aa42",
   "metadata": {
    "hidden": true
   },
   "outputs": [],
   "source": [
    "# tccounts\n",
    "sizeFact = deseqGene_tc.getSizeFactors()\n",
    "sizeFact[sum(var1_cols):] = sizeFact[sum(var1_cols):] * (res[[i for i in res.index if '-'+str(var2) in i]].values/\n",
    "                                                         res[[i for i in res.index if '-'+str(var1) in i]].values.mean())\n",
    "deseqGene_tc.setSizeFactors(sizeFact)"
   ]
  },
  {
   "cell_type": "code",
   "execution_count": 162,
   "id": "3ee4d45d",
   "metadata": {
    "hidden": true
   },
   "outputs": [
    {
     "data": {
      "text/plain": [
       "array([0.29350932, 0.3409273 , 0.34655803, 0.35684702])"
      ]
     },
     "execution_count": 162,
     "metadata": {},
     "output_type": "execute_result"
    }
   ],
   "source": [
    "res[[i for i in res.index if '-'+str(var2) in i]].values"
   ]
  },
  {
   "cell_type": "code",
   "execution_count": 163,
   "id": "5345f6d7",
   "metadata": {
    "hidden": true
   },
   "outputs": [],
   "source": [
    "# readcounts\n",
    "sizeFact = deseqGene_read.getSizeFactors()\n",
    "sizeFact[sum(var1_cols):] = sizeFact[sum(var1_cols):] * (res[[i for i in res.index if '-'+str(var2) in i]].values/\n",
    "                                                         res[[i for i in res.index if '-'+str(var1) in i]].values.mean())\n",
    "deseqGene_read.setSizeFactors(sizeFact)"
   ]
  },
  {
   "cell_type": "markdown",
   "id": "f93daff4",
   "metadata": {
    "hidden": true
   },
   "source": [
    "__run it__"
   ]
  },
  {
   "cell_type": "code",
   "execution_count": 164,
   "id": "137c90cb",
   "metadata": {
    "hidden": true
   },
   "outputs": [
    {
     "name": "stderr",
     "output_type": "stream",
     "text": [
      "R[write to console]: using pre-existing size factors\n",
      "\n",
      "R[write to console]: estimating dispersions\n",
      "\n",
      "R[write to console]: gene-wise dispersion estimates\n",
      "\n",
      "R[write to console]: mean-dispersion relationship\n",
      "\n",
      "R[write to console]: final dispersion estimates\n",
      "\n",
      "R[write to console]: fitting model and testing\n",
      "\n"
     ]
    },
    {
     "name": "stdout",
     "output_type": "stream",
     "text": [
      "CPU times: user 7.36 s, sys: 1.42 s, total: 8.78 s\n",
      "Wall time: 6.38 s\n"
     ]
    }
   ],
   "source": [
    "%%time\n",
    "\n",
    "# tccounts\n",
    "deseqGene_tc.run_deseq()\n",
    "deseqGene_tc.get_deseq_result()\n",
    "\n",
    "resGene_tc = deseqGene_tc.deseq_result\n",
    "resGene_tc.pvalue = np.nan_to_num(np.array(resGene_tc.pvalue), 1)\n",
    "resGene_tc.log2FoldChange = np.nan_to_num(np.array(resGene_tc.log2FoldChange), 0)\n",
    "resGene_tc.log2FoldChange = -resGene_tc.log2FoldChange\n",
    "resGene_tc[\"gene_id\"] = resGene_tc.genes"
   ]
  },
  {
   "cell_type": "code",
   "execution_count": 165,
   "id": "0645169e",
   "metadata": {
    "hidden": true
   },
   "outputs": [
    {
     "name": "stderr",
     "output_type": "stream",
     "text": [
      "R[write to console]: using pre-existing size factors\n",
      "\n",
      "R[write to console]: estimating dispersions\n",
      "\n",
      "R[write to console]: gene-wise dispersion estimates\n",
      "\n",
      "R[write to console]: mean-dispersion relationship\n",
      "\n",
      "R[write to console]: final dispersion estimates\n",
      "\n",
      "R[write to console]: fitting model and testing\n",
      "\n"
     ]
    },
    {
     "name": "stdout",
     "output_type": "stream",
     "text": [
      "CPU times: user 7.22 s, sys: 1.4 s, total: 8.61 s\n",
      "Wall time: 5.78 s\n"
     ]
    }
   ],
   "source": [
    "%%time\n",
    "\n",
    "#readcounts\n",
    "deseqGene_read.run_deseq()\n",
    "deseqGene_read.get_deseq_result()\n",
    "\n",
    "resGene_read = deseqGene_read.deseq_result\n",
    "resGene_read.pvalue = np.nan_to_num(np.array(resGene_read.pvalue), 1)\n",
    "resGene_read.log2FoldChange = np.nan_to_num(np.array(resGene_read.log2FoldChange), 0)\n",
    "resGene_read.log2FoldChange = -resGene_read.log2FoldChange\n",
    "resGene_read[\"gene_id\"] = resGene_read.genes"
   ]
  },
  {
   "cell_type": "code",
   "execution_count": 171,
   "id": "f49fa441",
   "metadata": {
    "collapsed": true,
    "hidden": true
   },
   "outputs": [
    {
     "data": {
      "text/html": [
       "<div>\n",
       "<style scoped>\n",
       "    .dataframe tbody tr th:only-of-type {\n",
       "        vertical-align: middle;\n",
       "    }\n",
       "\n",
       "    .dataframe tbody tr th {\n",
       "        vertical-align: top;\n",
       "    }\n",
       "\n",
       "    .dataframe thead th {\n",
       "        text-align: right;\n",
       "    }\n",
       "</style>\n",
       "<table border=\"1\" class=\"dataframe\">\n",
       "  <thead>\n",
       "    <tr style=\"text-align: right;\">\n",
       "      <th></th>\n",
       "      <th>baseMean</th>\n",
       "      <th>log2FoldChange</th>\n",
       "      <th>lfcSE</th>\n",
       "      <th>stat</th>\n",
       "      <th>pvalue</th>\n",
       "      <th>padj</th>\n",
       "      <th>genes</th>\n",
       "      <th>gene_id</th>\n",
       "    </tr>\n",
       "  </thead>\n",
       "  <tbody>\n",
       "    <tr>\n",
       "      <th>0</th>\n",
       "      <td>0.000000</td>\n",
       "      <td>-0.000000</td>\n",
       "      <td>NaN</td>\n",
       "      <td>NaN</td>\n",
       "      <td>0.000000</td>\n",
       "      <td>NaN</td>\n",
       "      <td>A1BG</td>\n",
       "      <td>A1BG</td>\n",
       "    </tr>\n",
       "    <tr>\n",
       "      <th>1</th>\n",
       "      <td>11.278741</td>\n",
       "      <td>-0.148718</td>\n",
       "      <td>0.571009</td>\n",
       "      <td>0.260448</td>\n",
       "      <td>0.794518</td>\n",
       "      <td>NaN</td>\n",
       "      <td>NAT1</td>\n",
       "      <td>NAT1</td>\n",
       "    </tr>\n",
       "    <tr>\n",
       "      <th>2</th>\n",
       "      <td>19.380031</td>\n",
       "      <td>0.219618</td>\n",
       "      <td>0.388743</td>\n",
       "      <td>-0.564945</td>\n",
       "      <td>0.572111</td>\n",
       "      <td>NaN</td>\n",
       "      <td>AAMP</td>\n",
       "      <td>AAMP</td>\n",
       "    </tr>\n",
       "    <tr>\n",
       "      <th>3</th>\n",
       "      <td>23.376832</td>\n",
       "      <td>0.585985</td>\n",
       "      <td>0.327588</td>\n",
       "      <td>-1.788786</td>\n",
       "      <td>0.073649</td>\n",
       "      <td>NaN</td>\n",
       "      <td>AARS1</td>\n",
       "      <td>AARS1</td>\n",
       "    </tr>\n",
       "    <tr>\n",
       "      <th>4</th>\n",
       "      <td>6.735608</td>\n",
       "      <td>-0.780640</td>\n",
       "      <td>0.614815</td>\n",
       "      <td>1.269714</td>\n",
       "      <td>0.204187</td>\n",
       "      <td>NaN</td>\n",
       "      <td>ABAT</td>\n",
       "      <td>ABAT</td>\n",
       "    </tr>\n",
       "  </tbody>\n",
       "</table>\n",
       "</div>"
      ],
      "text/plain": [
       "    baseMean  log2FoldChange     lfcSE      stat    pvalue  padj  genes  \\\n",
       "0   0.000000       -0.000000       NaN       NaN  0.000000   NaN   A1BG   \n",
       "1  11.278741       -0.148718  0.571009  0.260448  0.794518   NaN   NAT1   \n",
       "2  19.380031        0.219618  0.388743 -0.564945  0.572111   NaN   AAMP   \n",
       "3  23.376832        0.585985  0.327588 -1.788786  0.073649   NaN  AARS1   \n",
       "4   6.735608       -0.780640  0.614815  1.269714  0.204187   NaN   ABAT   \n",
       "\n",
       "  gene_id  \n",
       "0    A1BG  \n",
       "1    NAT1  \n",
       "2    AAMP  \n",
       "3   AARS1  \n",
       "4    ABAT  "
      ]
     },
     "execution_count": 171,
     "metadata": {},
     "output_type": "execute_result"
    }
   ],
   "source": [
    "# MV411_MS2 1h tccounts ERCC\n",
    "resGene_tc.head()"
   ]
  },
  {
   "cell_type": "code",
   "execution_count": 173,
   "id": "e8ef55fa",
   "metadata": {
    "collapsed": true,
    "hidden": true
   },
   "outputs": [
    {
     "data": {
      "text/html": [
       "<div>\n",
       "<style scoped>\n",
       "    .dataframe tbody tr th:only-of-type {\n",
       "        vertical-align: middle;\n",
       "    }\n",
       "\n",
       "    .dataframe tbody tr th {\n",
       "        vertical-align: top;\n",
       "    }\n",
       "\n",
       "    .dataframe thead th {\n",
       "        text-align: right;\n",
       "    }\n",
       "</style>\n",
       "<table border=\"1\" class=\"dataframe\">\n",
       "  <thead>\n",
       "    <tr style=\"text-align: right;\">\n",
       "      <th></th>\n",
       "      <th>baseMean</th>\n",
       "      <th>log2FoldChange</th>\n",
       "      <th>lfcSE</th>\n",
       "      <th>stat</th>\n",
       "      <th>pvalue</th>\n",
       "      <th>padj</th>\n",
       "      <th>genes</th>\n",
       "      <th>gene_id</th>\n",
       "    </tr>\n",
       "  </thead>\n",
       "  <tbody>\n",
       "    <tr>\n",
       "      <th>0</th>\n",
       "      <td>1.147888</td>\n",
       "      <td>1.929197</td>\n",
       "      <td>1.682445</td>\n",
       "      <td>-1.146663</td>\n",
       "      <td>0.251521</td>\n",
       "      <td>NaN</td>\n",
       "      <td>A1BG</td>\n",
       "      <td>A1BG</td>\n",
       "    </tr>\n",
       "    <tr>\n",
       "      <th>1</th>\n",
       "      <td>90.855402</td>\n",
       "      <td>-0.107673</td>\n",
       "      <td>0.215839</td>\n",
       "      <td>0.498857</td>\n",
       "      <td>0.617880</td>\n",
       "      <td>0.999799</td>\n",
       "      <td>NAT1</td>\n",
       "      <td>NAT1</td>\n",
       "    </tr>\n",
       "    <tr>\n",
       "      <th>2</th>\n",
       "      <td>586.097983</td>\n",
       "      <td>-0.009824</td>\n",
       "      <td>0.121581</td>\n",
       "      <td>0.080801</td>\n",
       "      <td>0.935600</td>\n",
       "      <td>0.999799</td>\n",
       "      <td>AAMP</td>\n",
       "      <td>AAMP</td>\n",
       "    </tr>\n",
       "    <tr>\n",
       "      <th>3</th>\n",
       "      <td>754.528833</td>\n",
       "      <td>-0.095555</td>\n",
       "      <td>0.124452</td>\n",
       "      <td>0.767809</td>\n",
       "      <td>0.442601</td>\n",
       "      <td>0.999799</td>\n",
       "      <td>AARS1</td>\n",
       "      <td>AARS1</td>\n",
       "    </tr>\n",
       "    <tr>\n",
       "      <th>4</th>\n",
       "      <td>224.375051</td>\n",
       "      <td>-0.193613</td>\n",
       "      <td>0.152372</td>\n",
       "      <td>1.270660</td>\n",
       "      <td>0.203850</td>\n",
       "      <td>0.999799</td>\n",
       "      <td>ABAT</td>\n",
       "      <td>ABAT</td>\n",
       "    </tr>\n",
       "  </tbody>\n",
       "</table>\n",
       "</div>"
      ],
      "text/plain": [
       "     baseMean  log2FoldChange     lfcSE      stat    pvalue      padj  genes  \\\n",
       "0    1.147888        1.929197  1.682445 -1.146663  0.251521       NaN   A1BG   \n",
       "1   90.855402       -0.107673  0.215839  0.498857  0.617880  0.999799   NAT1   \n",
       "2  586.097983       -0.009824  0.121581  0.080801  0.935600  0.999799   AAMP   \n",
       "3  754.528833       -0.095555  0.124452  0.767809  0.442601  0.999799  AARS1   \n",
       "4  224.375051       -0.193613  0.152372  1.270660  0.203850  0.999799   ABAT   \n",
       "\n",
       "  gene_id  \n",
       "0    A1BG  \n",
       "1    NAT1  \n",
       "2    AAMP  \n",
       "3   AARS1  \n",
       "4    ABAT  "
      ]
     },
     "execution_count": 173,
     "metadata": {},
     "output_type": "execute_result"
    }
   ],
   "source": [
    "# MV411_MS2 1h readcounts ERCC\n",
    "resGene_read.head()"
   ]
  },
  {
   "cell_type": "markdown",
   "id": "50411405",
   "metadata": {
    "hidden": true
   },
   "source": [
    "__save DESeq results__"
   ]
  },
  {
   "cell_type": "code",
   "execution_count": 166,
   "id": "a9871ee2",
   "metadata": {
    "hidden": true
   },
   "outputs": [],
   "source": [
    "# check all genes are in output\n",
    "if not tccounts.shape[0] == resGene_tc.shape[0]:\n",
    "    raise ValueError(\"Results do not have the same number of genes as counts.\")\n",
    "\n",
    "if not tccounts[\"genes\"].isin(resGene_tc[\"genes\"]).all():\n",
    "    raise ValueError(\"Results do not have the same genes as counts.\")"
   ]
  },
  {
   "cell_type": "code",
   "execution_count": 167,
   "id": "78266684",
   "metadata": {
    "hidden": true
   },
   "outputs": [
    {
     "data": {
      "text/plain": [
       "'inhibitors_v2_MV411_DMSO_MS2_ERCCsamplewise_0_5_deseq_tccounts.csv'"
      ]
     },
     "execution_count": 167,
     "metadata": {},
     "output_type": "execute_result"
    }
   ],
   "source": [
    "\"{}_{}_deseq_tccounts.csv\".format(project, \"_\".join(\n",
    "    filter(None, [var, var1, var2, scaling, str(minvar_toremove), str(mincount_toremove)])))"
   ]
  },
  {
   "cell_type": "code",
   "execution_count": 168,
   "id": "8d98b5dd",
   "metadata": {
    "hidden": true
   },
   "outputs": [
    {
     "name": "stdout",
     "output_type": "stream",
     "text": [
      "Saved DESeq results to: inhibitors_v2_MV411_DMSO_MS2_ERCCsamplewise_0_5_deseq_tccounts.csv\n"
     ]
    }
   ],
   "source": [
    "# tccounts\n",
    "deseq_res_file = \"{}_{}_deseq_tccounts.csv\".format(project, \"_\".join(\n",
    "    filter(None, [var, var1, var2, scaling, str(minvar_toremove), str(mincount_toremove)])))\n",
    "resGene_tc.to_csv(\"{}/{}\".format(res_dir, deseq_res_file), index=False)\n",
    "\n",
    "print(\"Saved DESeq results to: {}\".format(deseq_res_file))"
   ]
  },
  {
   "cell_type": "code",
   "execution_count": 169,
   "id": "6bcc12f3",
   "metadata": {
    "hidden": true
   },
   "outputs": [
    {
     "name": "stdout",
     "output_type": "stream",
     "text": [
      "Saved DESeq results to: inhibitors_v2_MV411_DMSO_MS2_ERCCsamplewise_0_5_deseq_readcounts.csv\n"
     ]
    }
   ],
   "source": [
    "# readcounts\n",
    "deseq_res_file = \"{}_{}_deseq_readcounts.csv\".format(project, \"_\".join(\n",
    "    filter(None, [var, var1, var2, scaling, str(minvar_toremove), str(mincount_toremove)])))\n",
    "resGene_read.to_csv(\"{}/{}\".format(res_dir, deseq_res_file), index=False)\n",
    "\n",
    "print(\"Saved DESeq results to: {}\".format(deseq_res_file))"
   ]
  },
  {
   "cell_type": "markdown",
   "id": "98b3e0b6",
   "metadata": {
    "heading_collapsed": true,
    "hidden": true
   },
   "source": [
    "### Unscaled"
   ]
  },
  {
   "cell_type": "code",
   "execution_count": 174,
   "id": "b2d577a5",
   "metadata": {
    "hidden": true
   },
   "outputs": [],
   "source": [
    "scaling = None"
   ]
  },
  {
   "cell_type": "markdown",
   "id": "1b456e9c",
   "metadata": {
    "hidden": true
   },
   "source": [
    "__make DESeq object__"
   ]
  },
  {
   "cell_type": "code",
   "execution_count": 175,
   "id": "772f60d0",
   "metadata": {
    "hidden": true
   },
   "outputs": [
    {
     "name": "stdout",
     "output_type": "stream",
     "text": [
      "you need to have R installed with the DESeq2 library installed\n",
      "3.4.5\n"
     ]
    }
   ],
   "source": [
    "# tccounts DESeq gene object\n",
    "# just var data\n",
    "deseqGene_tc = pyDESeq2.pyDESeq2(count_matrix=tccountsGene[tccountsGene.columns[np.array([1]+var_cols, bool)]], \n",
    "                                 design_matrix=design[np.array(var_cols, bool)],\n",
    "                                 design_formula=\"~{} - {}\".format(var1, var2),\n",
    "                                 gene_column=\"genes\")"
   ]
  },
  {
   "cell_type": "code",
   "execution_count": 176,
   "id": "1ea03823",
   "metadata": {
    "hidden": true
   },
   "outputs": [
    {
     "name": "stdout",
     "output_type": "stream",
     "text": [
      "you need to have R installed with the DESeq2 library installed\n",
      "3.4.5\n"
     ]
    }
   ],
   "source": [
    "# readcounts DESeq gene object\n",
    "deseqGene_read = pyDESeq2.pyDESeq2(count_matrix=readcountsGene[readcountsGene.columns[np.array([1]+var_cols, bool)]], \n",
    "                                   design_matrix=design[np.array(var_cols, bool)],\n",
    "                                   design_formula=\"~{} - {}\".format(var1, var2),\n",
    "                                   gene_column=\"genes\")"
   ]
  },
  {
   "cell_type": "markdown",
   "id": "45ee9220",
   "metadata": {
    "hidden": true
   },
   "source": [
    "__estimate size factors__"
   ]
  },
  {
   "cell_type": "code",
   "execution_count": 177,
   "id": "08390b94",
   "metadata": {
    "hidden": true
   },
   "outputs": [],
   "source": [
    "# tccounts\n",
    "deseqGene_tc.run_estimate_size_factors(geoMeans = np.exp(np.mean(np.log(\n",
    "    readcounts[tccountsGene.columns[[False]+design[var1].tolist()]].values+1), 1)))\n",
    "\n",
    "# readcounts\n",
    "deseqGene_read.run_estimate_size_factors()"
   ]
  },
  {
   "cell_type": "markdown",
   "id": "60749dfb",
   "metadata": {
    "hidden": true
   },
   "source": [
    "__run it__"
   ]
  },
  {
   "cell_type": "code",
   "execution_count": 178,
   "id": "8842a4ad",
   "metadata": {
    "hidden": true
   },
   "outputs": [
    {
     "name": "stderr",
     "output_type": "stream",
     "text": [
      "R[write to console]: using pre-existing size factors\n",
      "\n",
      "R[write to console]: estimating dispersions\n",
      "\n",
      "R[write to console]: gene-wise dispersion estimates\n",
      "\n",
      "R[write to console]: mean-dispersion relationship\n",
      "\n",
      "R[write to console]: final dispersion estimates\n",
      "\n",
      "R[write to console]: fitting model and testing\n",
      "\n"
     ]
    },
    {
     "name": "stdout",
     "output_type": "stream",
     "text": [
      "CPU times: user 6.42 s, sys: 1.12 s, total: 7.53 s\n",
      "Wall time: 5.22 s\n"
     ]
    }
   ],
   "source": [
    "%%time\n",
    "\n",
    "# tccounts\n",
    "deseqGene_tc.run_deseq()\n",
    "deseqGene_tc.get_deseq_result()\n",
    "\n",
    "resGene_tc = deseqGene_tc.deseq_result\n",
    "resGene_tc.pvalue = np.nan_to_num(np.array(resGene_tc.pvalue), 1)\n",
    "resGene_tc.log2FoldChange = np.nan_to_num(np.array(resGene_tc.log2FoldChange), 0)\n",
    "resGene_tc.log2FoldChange = -resGene_tc.log2FoldChange\n",
    "resGene_tc[\"gene_id\"] = resGene_tc.genes"
   ]
  },
  {
   "cell_type": "code",
   "execution_count": 179,
   "id": "52aea3db",
   "metadata": {
    "hidden": true
   },
   "outputs": [
    {
     "name": "stderr",
     "output_type": "stream",
     "text": [
      "R[write to console]: using pre-existing size factors\n",
      "\n",
      "R[write to console]: estimating dispersions\n",
      "\n",
      "R[write to console]: gene-wise dispersion estimates\n",
      "\n",
      "R[write to console]: mean-dispersion relationship\n",
      "\n",
      "R[write to console]: final dispersion estimates\n",
      "\n",
      "R[write to console]: fitting model and testing\n",
      "\n"
     ]
    },
    {
     "name": "stdout",
     "output_type": "stream",
     "text": [
      "CPU times: user 6.55 s, sys: 1.19 s, total: 7.74 s\n",
      "Wall time: 5.37 s\n"
     ]
    }
   ],
   "source": [
    "%%time\n",
    "\n",
    "#readcounts\n",
    "deseqGene_read.run_deseq()\n",
    "deseqGene_read.get_deseq_result()\n",
    "\n",
    "resGene_read = deseqGene_read.deseq_result\n",
    "resGene_read.pvalue = np.nan_to_num(np.array(resGene_read.pvalue), 1)\n",
    "resGene_read.log2FoldChange = np.nan_to_num(np.array(resGene_read.log2FoldChange), 0)\n",
    "resGene_read.log2FoldChange = -resGene_read.log2FoldChange\n",
    "resGene_read[\"gene_id\"] = resGene_read.genes"
   ]
  },
  {
   "cell_type": "code",
   "execution_count": 180,
   "id": "e83a0c4b",
   "metadata": {
    "collapsed": true,
    "hidden": true
   },
   "outputs": [
    {
     "data": {
      "text/html": [
       "<div>\n",
       "<style scoped>\n",
       "    .dataframe tbody tr th:only-of-type {\n",
       "        vertical-align: middle;\n",
       "    }\n",
       "\n",
       "    .dataframe tbody tr th {\n",
       "        vertical-align: top;\n",
       "    }\n",
       "\n",
       "    .dataframe thead th {\n",
       "        text-align: right;\n",
       "    }\n",
       "</style>\n",
       "<table border=\"1\" class=\"dataframe\">\n",
       "  <thead>\n",
       "    <tr style=\"text-align: right;\">\n",
       "      <th></th>\n",
       "      <th>baseMean</th>\n",
       "      <th>log2FoldChange</th>\n",
       "      <th>lfcSE</th>\n",
       "      <th>stat</th>\n",
       "      <th>pvalue</th>\n",
       "      <th>padj</th>\n",
       "      <th>genes</th>\n",
       "      <th>gene_id</th>\n",
       "    </tr>\n",
       "  </thead>\n",
       "  <tbody>\n",
       "    <tr>\n",
       "      <th>0</th>\n",
       "      <td>0.000000</td>\n",
       "      <td>-0.000000</td>\n",
       "      <td>NaN</td>\n",
       "      <td>NaN</td>\n",
       "      <td>0.000000</td>\n",
       "      <td>NaN</td>\n",
       "      <td>A1BG</td>\n",
       "      <td>A1BG</td>\n",
       "    </tr>\n",
       "    <tr>\n",
       "      <th>1</th>\n",
       "      <td>11.411210</td>\n",
       "      <td>-0.112885</td>\n",
       "      <td>0.577114</td>\n",
       "      <td>0.195603</td>\n",
       "      <td>0.844921</td>\n",
       "      <td>NaN</td>\n",
       "      <td>NAT1</td>\n",
       "      <td>NAT1</td>\n",
       "    </tr>\n",
       "    <tr>\n",
       "      <th>2</th>\n",
       "      <td>19.438824</td>\n",
       "      <td>0.236230</td>\n",
       "      <td>0.371229</td>\n",
       "      <td>-0.636347</td>\n",
       "      <td>0.524550</td>\n",
       "      <td>NaN</td>\n",
       "      <td>AAMP</td>\n",
       "      <td>AAMP</td>\n",
       "    </tr>\n",
       "    <tr>\n",
       "      <th>3</th>\n",
       "      <td>23.696280</td>\n",
       "      <td>0.615711</td>\n",
       "      <td>0.316885</td>\n",
       "      <td>-1.943013</td>\n",
       "      <td>0.052015</td>\n",
       "      <td>NaN</td>\n",
       "      <td>AARS1</td>\n",
       "      <td>AARS1</td>\n",
       "    </tr>\n",
       "    <tr>\n",
       "      <th>4</th>\n",
       "      <td>6.767263</td>\n",
       "      <td>-0.760593</td>\n",
       "      <td>0.598589</td>\n",
       "      <td>1.270643</td>\n",
       "      <td>0.203856</td>\n",
       "      <td>NaN</td>\n",
       "      <td>ABAT</td>\n",
       "      <td>ABAT</td>\n",
       "    </tr>\n",
       "  </tbody>\n",
       "</table>\n",
       "</div>"
      ],
      "text/plain": [
       "    baseMean  log2FoldChange     lfcSE      stat    pvalue  padj  genes  \\\n",
       "0   0.000000       -0.000000       NaN       NaN  0.000000   NaN   A1BG   \n",
       "1  11.411210       -0.112885  0.577114  0.195603  0.844921   NaN   NAT1   \n",
       "2  19.438824        0.236230  0.371229 -0.636347  0.524550   NaN   AAMP   \n",
       "3  23.696280        0.615711  0.316885 -1.943013  0.052015   NaN  AARS1   \n",
       "4   6.767263       -0.760593  0.598589  1.270643  0.203856   NaN   ABAT   \n",
       "\n",
       "  gene_id  \n",
       "0    A1BG  \n",
       "1    NAT1  \n",
       "2    AAMP  \n",
       "3   AARS1  \n",
       "4    ABAT  "
      ]
     },
     "execution_count": 180,
     "metadata": {},
     "output_type": "execute_result"
    }
   ],
   "source": [
    "# MV411_MS2 1h tccounts unscaled\n",
    "resGene_tc.head()"
   ]
  },
  {
   "cell_type": "code",
   "execution_count": 181,
   "id": "e8aae659",
   "metadata": {
    "collapsed": true,
    "hidden": true
   },
   "outputs": [
    {
     "data": {
      "text/html": [
       "<div>\n",
       "<style scoped>\n",
       "    .dataframe tbody tr th:only-of-type {\n",
       "        vertical-align: middle;\n",
       "    }\n",
       "\n",
       "    .dataframe tbody tr th {\n",
       "        vertical-align: top;\n",
       "    }\n",
       "\n",
       "    .dataframe thead th {\n",
       "        text-align: right;\n",
       "    }\n",
       "</style>\n",
       "<table border=\"1\" class=\"dataframe\">\n",
       "  <thead>\n",
       "    <tr style=\"text-align: right;\">\n",
       "      <th></th>\n",
       "      <th>baseMean</th>\n",
       "      <th>log2FoldChange</th>\n",
       "      <th>lfcSE</th>\n",
       "      <th>stat</th>\n",
       "      <th>pvalue</th>\n",
       "      <th>padj</th>\n",
       "      <th>genes</th>\n",
       "      <th>gene_id</th>\n",
       "    </tr>\n",
       "  </thead>\n",
       "  <tbody>\n",
       "    <tr>\n",
       "      <th>0</th>\n",
       "      <td>1.152078</td>\n",
       "      <td>1.949897</td>\n",
       "      <td>1.600378</td>\n",
       "      <td>-1.218397</td>\n",
       "      <td>0.223073</td>\n",
       "      <td>NaN</td>\n",
       "      <td>A1BG</td>\n",
       "      <td>A1BG</td>\n",
       "    </tr>\n",
       "    <tr>\n",
       "      <th>1</th>\n",
       "      <td>91.851721</td>\n",
       "      <td>-0.074586</td>\n",
       "      <td>0.209547</td>\n",
       "      <td>0.355937</td>\n",
       "      <td>0.721888</td>\n",
       "      <td>0.999635</td>\n",
       "      <td>NAT1</td>\n",
       "      <td>NAT1</td>\n",
       "    </tr>\n",
       "    <tr>\n",
       "      <th>2</th>\n",
       "      <td>591.926268</td>\n",
       "      <td>0.019644</td>\n",
       "      <td>0.100086</td>\n",
       "      <td>-0.196275</td>\n",
       "      <td>0.844395</td>\n",
       "      <td>0.999635</td>\n",
       "      <td>AAMP</td>\n",
       "      <td>AAMP</td>\n",
       "    </tr>\n",
       "    <tr>\n",
       "      <th>3</th>\n",
       "      <td>761.998616</td>\n",
       "      <td>-0.066296</td>\n",
       "      <td>0.109061</td>\n",
       "      <td>0.607874</td>\n",
       "      <td>0.543271</td>\n",
       "      <td>0.999635</td>\n",
       "      <td>AARS1</td>\n",
       "      <td>AARS1</td>\n",
       "    </tr>\n",
       "    <tr>\n",
       "      <th>4</th>\n",
       "      <td>226.081374</td>\n",
       "      <td>-0.166893</td>\n",
       "      <td>0.125873</td>\n",
       "      <td>1.325890</td>\n",
       "      <td>0.184876</td>\n",
       "      <td>0.999635</td>\n",
       "      <td>ABAT</td>\n",
       "      <td>ABAT</td>\n",
       "    </tr>\n",
       "  </tbody>\n",
       "</table>\n",
       "</div>"
      ],
      "text/plain": [
       "     baseMean  log2FoldChange     lfcSE      stat    pvalue      padj  genes  \\\n",
       "0    1.152078        1.949897  1.600378 -1.218397  0.223073       NaN   A1BG   \n",
       "1   91.851721       -0.074586  0.209547  0.355937  0.721888  0.999635   NAT1   \n",
       "2  591.926268        0.019644  0.100086 -0.196275  0.844395  0.999635   AAMP   \n",
       "3  761.998616       -0.066296  0.109061  0.607874  0.543271  0.999635  AARS1   \n",
       "4  226.081374       -0.166893  0.125873  1.325890  0.184876  0.999635   ABAT   \n",
       "\n",
       "  gene_id  \n",
       "0    A1BG  \n",
       "1    NAT1  \n",
       "2    AAMP  \n",
       "3   AARS1  \n",
       "4    ABAT  "
      ]
     },
     "execution_count": 181,
     "metadata": {},
     "output_type": "execute_result"
    }
   ],
   "source": [
    "# MV411_MS2 1h readcounts unscaled\n",
    "resGene_read.head()"
   ]
  },
  {
   "cell_type": "markdown",
   "id": "201d7003",
   "metadata": {
    "hidden": true
   },
   "source": [
    "__save DESeq results__"
   ]
  },
  {
   "cell_type": "code",
   "execution_count": 182,
   "id": "3c497dce",
   "metadata": {
    "hidden": true
   },
   "outputs": [],
   "source": [
    "# check all genes are in output\n",
    "if not tccounts.shape[0] == resGene_tc.shape[0]:\n",
    "    raise ValueError(\"Results do not have the same number of genes as counts.\")\n",
    "\n",
    "if not tccounts[\"genes\"].isin(resGene_tc[\"genes\"]).all():\n",
    "    raise ValueError(\"Results do not have the same genes as counts.\")"
   ]
  },
  {
   "cell_type": "code",
   "execution_count": 184,
   "id": "f31dbcdb",
   "metadata": {
    "hidden": true
   },
   "outputs": [
    {
     "data": {
      "text/plain": [
       "'inhibitors_v2_MV411_DMSO_MS2_0_5_deseq_tccounts.csv'"
      ]
     },
     "execution_count": 184,
     "metadata": {},
     "output_type": "execute_result"
    }
   ],
   "source": [
    "\"{}_{}_deseq_tccounts.csv\".format(project, \"_\".join(\n",
    "    filter(None, [var, var1, var2, scaling, str(minvar_toremove), str(mincount_toremove)])))"
   ]
  },
  {
   "cell_type": "code",
   "execution_count": 185,
   "id": "8ada7dd0",
   "metadata": {
    "hidden": true
   },
   "outputs": [
    {
     "name": "stdout",
     "output_type": "stream",
     "text": [
      "Saved DESeq results to: inhibitors_v2_MV411_DMSO_MS2_0_5_deseq_tccounts.csv\n"
     ]
    }
   ],
   "source": [
    "# tccounts\n",
    "deseq_res_file = \"{}_{}_deseq_tccounts.csv\".format(project, \"_\".join(\n",
    "    filter(None, [var, var1, var2, scaling, str(minvar_toremove), str(mincount_toremove)])))\n",
    "resGene_tc.to_csv(\"{}/{}\".format(res_dir, deseq_res_file), index=False)\n",
    "\n",
    "print(\"Saved DESeq results to: {}\".format(deseq_res_file))"
   ]
  },
  {
   "cell_type": "code",
   "execution_count": 186,
   "id": "97b02a8c",
   "metadata": {
    "hidden": true
   },
   "outputs": [
    {
     "name": "stdout",
     "output_type": "stream",
     "text": [
      "Saved DESeq results to: inhibitors_v2_MV411_DMSO_MS2_0_5_deseq_readcounts.csv\n"
     ]
    }
   ],
   "source": [
    "# readcounts\n",
    "deseq_res_file = \"{}_{}_deseq_readcounts.csv\".format(project, \"_\".join(\n",
    "    filter(None, [var, var1, var2, scaling, str(minvar_toremove), str(mincount_toremove)])))\n",
    "resGene_read.to_csv(\"{}/{}\".format(res_dir, deseq_res_file), index=False)\n",
    "\n",
    "print(\"Saved DESeq results to: {}\".format(deseq_res_file))"
   ]
  },
  {
   "cell_type": "markdown",
   "id": "dd525cfb",
   "metadata": {
    "heading_collapsed": true
   },
   "source": [
    "## MV411 JQ1 1h"
   ]
  },
  {
   "cell_type": "markdown",
   "id": "b9b49d6e",
   "metadata": {
    "heading_collapsed": true,
    "hidden": true
   },
   "source": [
    "### make design matrix"
   ]
  },
  {
   "cell_type": "code",
   "execution_count": 189,
   "id": "46900df9",
   "metadata": {
    "hidden": true
   },
   "outputs": [],
   "source": [
    "# MV411 JQ1 inhibitor 1h\n",
    "version = \"v1\"\n",
    "var_name = \"experiment\"\n",
    "var = \"MV411\"\n",
    "var1 = \"DMSO\"\n",
    "var2 = \"JQ1\"\n",
    "drop_rep = exp_design.loc[(exp_design[var_name] == var) & (exp_design[\"drop\"] == True), \"col\"]"
   ]
  },
  {
   "cell_type": "code",
   "execution_count": 190,
   "id": "7b913f7a",
   "metadata": {
    "hidden": true
   },
   "outputs": [],
   "source": [
    "# tccounts\n",
    "tccountsGene = tccounts[tccounts.columns[:-1]]\n",
    "\n",
    "# readcounts\n",
    "readcountsGene = readcounts[readcounts.columns[:-1]]"
   ]
  },
  {
   "cell_type": "markdown",
   "id": "9d01ed1b",
   "metadata": {
    "hidden": true
   },
   "source": [
    "be careful that var_cols are only the samples being used for DESeq comparison!"
   ]
  },
  {
   "cell_type": "code",
   "execution_count": 191,
   "id": "74732a79",
   "metadata": {
    "hidden": true
   },
   "outputs": [],
   "source": [
    "# get just var data\n",
    "# remove dropped reps\n",
    "var1_cols = [1 if (exp_design.iloc[idx][var_name] == var) and (exp_design.iloc[idx][\"treatment\"] == var1) and\n",
    "             (exp_design.iloc[idx][\"drop\"] == False) else 0 for idx in range(exp_design.shape[0])]\n",
    "\n",
    "var2_cols = [1 if (exp_design.iloc[idx][var_name] == var) and (exp_design.iloc[idx][\"treatment\"] == var2) and \n",
    "            (exp_design.iloc[idx][\"drop\"] == False) else 0 for idx in range(exp_design.shape[0])]\n",
    "\n",
    "var_cols = [sum(x) for x in zip(var1_cols, var2_cols)]"
   ]
  },
  {
   "cell_type": "code",
   "execution_count": 192,
   "id": "ac3ce67d",
   "metadata": {
    "hidden": true
   },
   "outputs": [],
   "source": [
    "# all columns\n",
    "design = pd.DataFrame(index= [i.replace(\"-\",\".\") for i in tccountsGene.columns], \n",
    "                      columns=[var1, var2], \n",
    "                      data=np.array([var1_cols, var2_cols], dtype=bool).T)"
   ]
  },
  {
   "cell_type": "code",
   "execution_count": 193,
   "id": "7412cb11",
   "metadata": {
    "collapsed": true,
    "hidden": true
   },
   "outputs": [
    {
     "data": {
      "text/html": [
       "<div>\n",
       "<style scoped>\n",
       "    .dataframe tbody tr th:only-of-type {\n",
       "        vertical-align: middle;\n",
       "    }\n",
       "\n",
       "    .dataframe tbody tr th {\n",
       "        vertical-align: top;\n",
       "    }\n",
       "\n",
       "    .dataframe thead th {\n",
       "        text-align: right;\n",
       "    }\n",
       "</style>\n",
       "<table border=\"1\" class=\"dataframe\">\n",
       "  <thead>\n",
       "    <tr style=\"text-align: right;\">\n",
       "      <th></th>\n",
       "      <th>DMSO</th>\n",
       "      <th>JQ1</th>\n",
       "    </tr>\n",
       "  </thead>\n",
       "  <tbody>\n",
       "    <tr>\n",
       "      <th>mr590.MV411.DMSO_1h.r1_tcount</th>\n",
       "      <td>True</td>\n",
       "      <td>False</td>\n",
       "    </tr>\n",
       "    <tr>\n",
       "      <th>mr591.MV411.DMSO_1h.r2_tcount</th>\n",
       "      <td>True</td>\n",
       "      <td>False</td>\n",
       "    </tr>\n",
       "    <tr>\n",
       "      <th>mr592.MV411.DMSO_1h.r3_tcount</th>\n",
       "      <td>True</td>\n",
       "      <td>False</td>\n",
       "    </tr>\n",
       "    <tr>\n",
       "      <th>mr593.MV411.DMSO_1h.r4_tcount</th>\n",
       "      <td>True</td>\n",
       "      <td>False</td>\n",
       "    </tr>\n",
       "    <tr>\n",
       "      <th>mr594.MV411.MS2_1h.r1_tcount</th>\n",
       "      <td>False</td>\n",
       "      <td>False</td>\n",
       "    </tr>\n",
       "    <tr>\n",
       "      <th>mr595.MV411.MS2_1h.r2_tcount</th>\n",
       "      <td>False</td>\n",
       "      <td>False</td>\n",
       "    </tr>\n",
       "    <tr>\n",
       "      <th>mr596.MV411.MS2_1h.r3_tcount</th>\n",
       "      <td>False</td>\n",
       "      <td>False</td>\n",
       "    </tr>\n",
       "    <tr>\n",
       "      <th>mr597.MV411.MS2_1h.r4_tcount</th>\n",
       "      <td>False</td>\n",
       "      <td>False</td>\n",
       "    </tr>\n",
       "    <tr>\n",
       "      <th>mr598.MV411.JQ1_1h.r1_tcount</th>\n",
       "      <td>False</td>\n",
       "      <td>True</td>\n",
       "    </tr>\n",
       "    <tr>\n",
       "      <th>mr599.MV411.JQ1_1h.r2_tcount</th>\n",
       "      <td>False</td>\n",
       "      <td>True</td>\n",
       "    </tr>\n",
       "    <tr>\n",
       "      <th>mr600.MV411.JQ1_1h.r3_tcount</th>\n",
       "      <td>False</td>\n",
       "      <td>True</td>\n",
       "    </tr>\n",
       "    <tr>\n",
       "      <th>mr601.MV411.JQ1_1h.r4_tcount</th>\n",
       "      <td>False</td>\n",
       "      <td>True</td>\n",
       "    </tr>\n",
       "    <tr>\n",
       "      <th>mr602.MV411.MYCi361_1h.r1_tcount</th>\n",
       "      <td>False</td>\n",
       "      <td>False</td>\n",
       "    </tr>\n",
       "    <tr>\n",
       "      <th>mr603.MV411.MYCi361_1h.r2_tcount</th>\n",
       "      <td>False</td>\n",
       "      <td>False</td>\n",
       "    </tr>\n",
       "    <tr>\n",
       "      <th>mr604.MV411.MYCi361_1h.r3_tcount</th>\n",
       "      <td>False</td>\n",
       "      <td>False</td>\n",
       "    </tr>\n",
       "    <tr>\n",
       "      <th>mr605.MV411.MYCi361_1h.r4_tcount</th>\n",
       "      <td>False</td>\n",
       "      <td>False</td>\n",
       "    </tr>\n",
       "    <tr>\n",
       "      <th>mr606.MV411.THZ1_1h.r1_tcount</th>\n",
       "      <td>False</td>\n",
       "      <td>False</td>\n",
       "    </tr>\n",
       "    <tr>\n",
       "      <th>mr607.MV411.THZ1_1h.r2_tcount</th>\n",
       "      <td>False</td>\n",
       "      <td>False</td>\n",
       "    </tr>\n",
       "    <tr>\n",
       "      <th>mr608.MV411.THZ1_1h.r3_tcount</th>\n",
       "      <td>False</td>\n",
       "      <td>False</td>\n",
       "    </tr>\n",
       "    <tr>\n",
       "      <th>mr609.MV411.THZ1_1h.r4_tcount</th>\n",
       "      <td>False</td>\n",
       "      <td>False</td>\n",
       "    </tr>\n",
       "    <tr>\n",
       "      <th>mr610.MV411.JQ1_MS2_1h.r1_tcount</th>\n",
       "      <td>False</td>\n",
       "      <td>False</td>\n",
       "    </tr>\n",
       "    <tr>\n",
       "      <th>mr611.MV411.JQ1_MS2_1h.r2_tcount</th>\n",
       "      <td>False</td>\n",
       "      <td>False</td>\n",
       "    </tr>\n",
       "    <tr>\n",
       "      <th>mr612.MV411.JQ1_MS2_1h.r3_tcount</th>\n",
       "      <td>False</td>\n",
       "      <td>False</td>\n",
       "    </tr>\n",
       "    <tr>\n",
       "      <th>mr613.MV411.JQ1_MS2_1h.r4_tcount</th>\n",
       "      <td>False</td>\n",
       "      <td>False</td>\n",
       "    </tr>\n",
       "    <tr>\n",
       "      <th>mr614.MV411.JQ1_THZ1_1h.r1_tcount</th>\n",
       "      <td>False</td>\n",
       "      <td>False</td>\n",
       "    </tr>\n",
       "    <tr>\n",
       "      <th>mr615.MV411.JQ1_THZ1_1h.r2_tcount</th>\n",
       "      <td>False</td>\n",
       "      <td>False</td>\n",
       "    </tr>\n",
       "    <tr>\n",
       "      <th>mr616.MV411.JQ1_THZ1_1h.r3_tcount</th>\n",
       "      <td>False</td>\n",
       "      <td>False</td>\n",
       "    </tr>\n",
       "    <tr>\n",
       "      <th>mr617.MV411.JQ1_THZ1_1h.r4_tcount</th>\n",
       "      <td>False</td>\n",
       "      <td>False</td>\n",
       "    </tr>\n",
       "  </tbody>\n",
       "</table>\n",
       "</div>"
      ],
      "text/plain": [
       "                                    DMSO    JQ1\n",
       "mr590.MV411.DMSO_1h.r1_tcount       True  False\n",
       "mr591.MV411.DMSO_1h.r2_tcount       True  False\n",
       "mr592.MV411.DMSO_1h.r3_tcount       True  False\n",
       "mr593.MV411.DMSO_1h.r4_tcount       True  False\n",
       "mr594.MV411.MS2_1h.r1_tcount       False  False\n",
       "mr595.MV411.MS2_1h.r2_tcount       False  False\n",
       "mr596.MV411.MS2_1h.r3_tcount       False  False\n",
       "mr597.MV411.MS2_1h.r4_tcount       False  False\n",
       "mr598.MV411.JQ1_1h.r1_tcount       False   True\n",
       "mr599.MV411.JQ1_1h.r2_tcount       False   True\n",
       "mr600.MV411.JQ1_1h.r3_tcount       False   True\n",
       "mr601.MV411.JQ1_1h.r4_tcount       False   True\n",
       "mr602.MV411.MYCi361_1h.r1_tcount   False  False\n",
       "mr603.MV411.MYCi361_1h.r2_tcount   False  False\n",
       "mr604.MV411.MYCi361_1h.r3_tcount   False  False\n",
       "mr605.MV411.MYCi361_1h.r4_tcount   False  False\n",
       "mr606.MV411.THZ1_1h.r1_tcount      False  False\n",
       "mr607.MV411.THZ1_1h.r2_tcount      False  False\n",
       "mr608.MV411.THZ1_1h.r3_tcount      False  False\n",
       "mr609.MV411.THZ1_1h.r4_tcount      False  False\n",
       "mr610.MV411.JQ1_MS2_1h.r1_tcount   False  False\n",
       "mr611.MV411.JQ1_MS2_1h.r2_tcount   False  False\n",
       "mr612.MV411.JQ1_MS2_1h.r3_tcount   False  False\n",
       "mr613.MV411.JQ1_MS2_1h.r4_tcount   False  False\n",
       "mr614.MV411.JQ1_THZ1_1h.r1_tcount  False  False\n",
       "mr615.MV411.JQ1_THZ1_1h.r2_tcount  False  False\n",
       "mr616.MV411.JQ1_THZ1_1h.r3_tcount  False  False\n",
       "mr617.MV411.JQ1_THZ1_1h.r4_tcount  False  False"
      ]
     },
     "execution_count": 193,
     "metadata": {},
     "output_type": "execute_result"
    }
   ],
   "source": [
    "design"
   ]
  },
  {
   "cell_type": "code",
   "execution_count": 195,
   "id": "1821c60b",
   "metadata": {
    "hidden": true
   },
   "outputs": [],
   "source": [
    "# genes as first column\n",
    "tccountsGene = tccounts[['genes']+list(tccountsGene.columns)]\n",
    "readcountsGene = readcounts[['genes']+list(readcountsGene.columns)]"
   ]
  },
  {
   "cell_type": "markdown",
   "id": "6d469857",
   "metadata": {
    "heading_collapsed": true,
    "hidden": true
   },
   "source": [
    "### ERCC samplewise scaled"
   ]
  },
  {
   "cell_type": "code",
   "execution_count": 196,
   "id": "2e516216",
   "metadata": {
    "hidden": true
   },
   "outputs": [],
   "source": [
    "scaling=\"ERCCsamplewise\""
   ]
  },
  {
   "cell_type": "markdown",
   "id": "a2c9f778",
   "metadata": {
    "hidden": true
   },
   "source": [
    "__make DESeq object__"
   ]
  },
  {
   "cell_type": "code",
   "execution_count": 197,
   "id": "d7efec73",
   "metadata": {
    "hidden": true
   },
   "outputs": [
    {
     "name": "stdout",
     "output_type": "stream",
     "text": [
      "you need to have R installed with the DESeq2 library installed\n",
      "3.4.5\n"
     ]
    }
   ],
   "source": [
    "# tccounts DESeq gene object\n",
    "deseqGene_tc = pyDESeq2.pyDESeq2(count_matrix=tccountsGene[tccountsGene.columns[np.array([1]+var_cols, bool)]], \n",
    "                                 design_matrix=design[np.array(var_cols, bool)],\n",
    "                                 design_formula=\"~{} - {}\".format(var1, var2),\n",
    "                                 gene_column=\"genes\")"
   ]
  },
  {
   "cell_type": "code",
   "execution_count": 198,
   "id": "a8883861",
   "metadata": {
    "hidden": true
   },
   "outputs": [
    {
     "name": "stdout",
     "output_type": "stream",
     "text": [
      "you need to have R installed with the DESeq2 library installed\n",
      "3.4.5\n"
     ]
    }
   ],
   "source": [
    "# readcounts DESeq gene object\n",
    "deseqGene_read = pyDESeq2.pyDESeq2(count_matrix=readcountsGene[readcountsGene.columns[np.array([1]+var_cols, bool)]], \n",
    "                                   design_matrix=design[np.array(var_cols, bool)],\n",
    "                                   design_formula=\"~{} - {}\".format(var1, var2),\n",
    "                                   gene_column=\"genes\")"
   ]
  },
  {
   "cell_type": "markdown",
   "id": "98b8e42b",
   "metadata": {
    "hidden": true
   },
   "source": [
    "__estimate & modify size factors__"
   ]
  },
  {
   "cell_type": "code",
   "execution_count": 199,
   "id": "2703a78e",
   "metadata": {
    "hidden": true
   },
   "outputs": [],
   "source": [
    "# tccounts\n",
    "deseqGene_tc.run_estimate_size_factors(geoMeans = np.exp(np.mean(np.log(\n",
    "    readcounts[tccountsGene.columns[[False]+design[var1].tolist()]].values+1), 1)))\n",
    "\n",
    "# readcounts\n",
    "deseqGene_read.run_estimate_size_factors()"
   ]
  },
  {
   "cell_type": "code",
   "execution_count": 200,
   "id": "3e3789a8",
   "metadata": {
    "hidden": true
   },
   "outputs": [
    {
     "data": {
      "text/plain": [
       "0\n",
       "ERCC_mr590-MV411-DMSO_1h-r1_filtered.bam    0.341648\n",
       "ERCC_mr591-MV411-DMSO_1h-r2_filtered.bam    0.329341\n",
       "ERCC_mr592-MV411-DMSO_1h-r3_filtered.bam    0.306805\n",
       "ERCC_mr593-MV411-DMSO_1h-r4_filtered.bam    0.326813\n",
       "ERCC_mr598-MV411-JQ1_1h-r1_filtered.bam     0.331761\n",
       "ERCC_mr599-MV411-JQ1_1h-r2_filtered.bam     0.326792\n",
       "ERCC_mr600-MV411-JQ1_1h-r3_filtered.bam     0.386950\n",
       "ERCC_mr601-MV411-JQ1_1h-r4_filtered.bam     0.316964\n",
       "Name: 1, dtype: float64"
      ]
     },
     "execution_count": 200,
     "metadata": {},
     "output_type": "execute_result"
    }
   ],
   "source": [
    "# read in ERCC pseudocounts\n",
    "res = pd.read_csv(res_dir+\"/\"+project+\"_scaling_factors.csv\", index_col=0, header=None, squeeze=True)\n",
    "\n",
    "# select var values\n",
    "res = res[np.array(var_cols, dtype=bool)]\n",
    "res"
   ]
  },
  {
   "cell_type": "markdown",
   "id": "57027b0b",
   "metadata": {
    "hidden": true
   },
   "source": [
    "__modify size factors__\n",
    "<br> VHL size factor * adjusted VHL res (VHL res per sample / average DMSO res)"
   ]
  },
  {
   "cell_type": "code",
   "execution_count": 201,
   "id": "5fd2471a",
   "metadata": {
    "hidden": true
   },
   "outputs": [],
   "source": [
    "# tccounts\n",
    "sizeFact = deseqGene_tc.getSizeFactors()\n",
    "sizeFact[sum(var1_cols):] = sizeFact[sum(var1_cols):] * (res[[i for i in res.index if '-'+str(var2) in i]].values/\n",
    "                                                         res[[i for i in res.index if '-'+str(var1) in i]].values.mean())\n",
    "deseqGene_tc.setSizeFactors(sizeFact)"
   ]
  },
  {
   "cell_type": "code",
   "execution_count": 202,
   "id": "664f9998",
   "metadata": {
    "hidden": true
   },
   "outputs": [
    {
     "data": {
      "text/plain": [
       "array([0.33176145, 0.32679183, 0.38694976, 0.31696432])"
      ]
     },
     "execution_count": 202,
     "metadata": {},
     "output_type": "execute_result"
    }
   ],
   "source": [
    "res[[i for i in res.index if '-'+str(var2) in i]].values"
   ]
  },
  {
   "cell_type": "code",
   "execution_count": 203,
   "id": "0df7162b",
   "metadata": {
    "hidden": true
   },
   "outputs": [],
   "source": [
    "# readcounts\n",
    "sizeFact = deseqGene_read.getSizeFactors()\n",
    "sizeFact[sum(var1_cols):] = sizeFact[sum(var1_cols):] * (res[[i for i in res.index if '-'+str(var2) in i]].values/\n",
    "                                                         res[[i for i in res.index if '-'+str(var1) in i]].values.mean())\n",
    "deseqGene_read.setSizeFactors(sizeFact)"
   ]
  },
  {
   "cell_type": "markdown",
   "id": "4bca74b8",
   "metadata": {
    "hidden": true
   },
   "source": [
    "__run it__"
   ]
  },
  {
   "cell_type": "code",
   "execution_count": 204,
   "id": "58616ed9",
   "metadata": {
    "hidden": true
   },
   "outputs": [
    {
     "name": "stderr",
     "output_type": "stream",
     "text": [
      "R[write to console]: using pre-existing size factors\n",
      "\n",
      "R[write to console]: estimating dispersions\n",
      "\n",
      "R[write to console]: gene-wise dispersion estimates\n",
      "\n",
      "R[write to console]: mean-dispersion relationship\n",
      "\n",
      "R[write to console]: final dispersion estimates\n",
      "\n",
      "R[write to console]: fitting model and testing\n",
      "\n"
     ]
    },
    {
     "name": "stdout",
     "output_type": "stream",
     "text": [
      "CPU times: user 6.81 s, sys: 1.08 s, total: 7.89 s\n",
      "Wall time: 5.62 s\n"
     ]
    }
   ],
   "source": [
    "%%time\n",
    "\n",
    "# tccounts\n",
    "deseqGene_tc.run_deseq()\n",
    "deseqGene_tc.get_deseq_result()\n",
    "\n",
    "resGene_tc = deseqGene_tc.deseq_result\n",
    "resGene_tc.pvalue = np.nan_to_num(np.array(resGene_tc.pvalue), 1)\n",
    "resGene_tc.log2FoldChange = np.nan_to_num(np.array(resGene_tc.log2FoldChange), 0)\n",
    "resGene_tc.log2FoldChange = -resGene_tc.log2FoldChange\n",
    "resGene_tc[\"gene_id\"] = resGene_tc.genes"
   ]
  },
  {
   "cell_type": "code",
   "execution_count": 205,
   "id": "27e5c51f",
   "metadata": {
    "hidden": true
   },
   "outputs": [
    {
     "name": "stderr",
     "output_type": "stream",
     "text": [
      "R[write to console]: using pre-existing size factors\n",
      "\n",
      "R[write to console]: estimating dispersions\n",
      "\n",
      "R[write to console]: gene-wise dispersion estimates\n",
      "\n",
      "R[write to console]: mean-dispersion relationship\n",
      "\n",
      "R[write to console]: final dispersion estimates\n",
      "\n",
      "R[write to console]: fitting model and testing\n",
      "\n"
     ]
    },
    {
     "name": "stdout",
     "output_type": "stream",
     "text": [
      "CPU times: user 6.8 s, sys: 1.11 s, total: 7.91 s\n",
      "Wall time: 5.69 s\n"
     ]
    }
   ],
   "source": [
    "%%time\n",
    "\n",
    "#readcounts\n",
    "deseqGene_read.run_deseq()\n",
    "deseqGene_read.get_deseq_result()\n",
    "\n",
    "resGene_read = deseqGene_read.deseq_result\n",
    "resGene_read.pvalue = np.nan_to_num(np.array(resGene_read.pvalue), 1)\n",
    "resGene_read.log2FoldChange = np.nan_to_num(np.array(resGene_read.log2FoldChange), 0)\n",
    "resGene_read.log2FoldChange = -resGene_read.log2FoldChange\n",
    "resGene_read[\"gene_id\"] = resGene_read.genes"
   ]
  },
  {
   "cell_type": "code",
   "execution_count": 208,
   "id": "62659a1b",
   "metadata": {
    "hidden": true
   },
   "outputs": [
    {
     "data": {
      "text/html": [
       "<div>\n",
       "<style scoped>\n",
       "    .dataframe tbody tr th:only-of-type {\n",
       "        vertical-align: middle;\n",
       "    }\n",
       "\n",
       "    .dataframe tbody tr th {\n",
       "        vertical-align: top;\n",
       "    }\n",
       "\n",
       "    .dataframe thead th {\n",
       "        text-align: right;\n",
       "    }\n",
       "</style>\n",
       "<table border=\"1\" class=\"dataframe\">\n",
       "  <thead>\n",
       "    <tr style=\"text-align: right;\">\n",
       "      <th></th>\n",
       "      <th>baseMean</th>\n",
       "      <th>log2FoldChange</th>\n",
       "      <th>lfcSE</th>\n",
       "      <th>stat</th>\n",
       "      <th>pvalue</th>\n",
       "      <th>padj</th>\n",
       "      <th>genes</th>\n",
       "      <th>gene_id</th>\n",
       "    </tr>\n",
       "  </thead>\n",
       "  <tbody>\n",
       "    <tr>\n",
       "      <th>0</th>\n",
       "      <td>0.000000</td>\n",
       "      <td>-0.000000</td>\n",
       "      <td>NaN</td>\n",
       "      <td>NaN</td>\n",
       "      <td>0.000000</td>\n",
       "      <td>NaN</td>\n",
       "      <td>A1BG</td>\n",
       "      <td>A1BG</td>\n",
       "    </tr>\n",
       "    <tr>\n",
       "      <th>1</th>\n",
       "      <td>16.012768</td>\n",
       "      <td>1.087887</td>\n",
       "      <td>0.433848</td>\n",
       "      <td>-2.507533</td>\n",
       "      <td>0.012158</td>\n",
       "      <td>0.061639</td>\n",
       "      <td>NAT1</td>\n",
       "      <td>NAT1</td>\n",
       "    </tr>\n",
       "    <tr>\n",
       "      <th>2</th>\n",
       "      <td>16.843718</td>\n",
       "      <td>0.281413</td>\n",
       "      <td>0.384802</td>\n",
       "      <td>-0.731318</td>\n",
       "      <td>0.464585</td>\n",
       "      <td>0.688919</td>\n",
       "      <td>AAMP</td>\n",
       "      <td>AAMP</td>\n",
       "    </tr>\n",
       "    <tr>\n",
       "      <th>3</th>\n",
       "      <td>13.024040</td>\n",
       "      <td>-0.554660</td>\n",
       "      <td>0.449015</td>\n",
       "      <td>1.235283</td>\n",
       "      <td>0.216725</td>\n",
       "      <td>0.448141</td>\n",
       "      <td>AARS1</td>\n",
       "      <td>AARS1</td>\n",
       "    </tr>\n",
       "    <tr>\n",
       "      <th>4</th>\n",
       "      <td>9.717166</td>\n",
       "      <td>0.746722</td>\n",
       "      <td>0.505614</td>\n",
       "      <td>-1.476863</td>\n",
       "      <td>0.139712</td>\n",
       "      <td>0.335966</td>\n",
       "      <td>ABAT</td>\n",
       "      <td>ABAT</td>\n",
       "    </tr>\n",
       "  </tbody>\n",
       "</table>\n",
       "</div>"
      ],
      "text/plain": [
       "    baseMean  log2FoldChange     lfcSE      stat    pvalue      padj  genes  \\\n",
       "0   0.000000       -0.000000       NaN       NaN  0.000000       NaN   A1BG   \n",
       "1  16.012768        1.087887  0.433848 -2.507533  0.012158  0.061639   NAT1   \n",
       "2  16.843718        0.281413  0.384802 -0.731318  0.464585  0.688919   AAMP   \n",
       "3  13.024040       -0.554660  0.449015  1.235283  0.216725  0.448141  AARS1   \n",
       "4   9.717166        0.746722  0.505614 -1.476863  0.139712  0.335966   ABAT   \n",
       "\n",
       "  gene_id  \n",
       "0    A1BG  \n",
       "1    NAT1  \n",
       "2    AAMP  \n",
       "3   AARS1  \n",
       "4    ABAT  "
      ]
     },
     "execution_count": 208,
     "metadata": {},
     "output_type": "execute_result"
    }
   ],
   "source": [
    "# MV411_JQ1 1h tccounts ERCC\n",
    "resGene_tc.head()"
   ]
  },
  {
   "cell_type": "code",
   "execution_count": 209,
   "id": "4adeeef7",
   "metadata": {
    "hidden": true
   },
   "outputs": [
    {
     "data": {
      "text/html": [
       "<div>\n",
       "<style scoped>\n",
       "    .dataframe tbody tr th:only-of-type {\n",
       "        vertical-align: middle;\n",
       "    }\n",
       "\n",
       "    .dataframe tbody tr th {\n",
       "        vertical-align: top;\n",
       "    }\n",
       "\n",
       "    .dataframe thead th {\n",
       "        text-align: right;\n",
       "    }\n",
       "</style>\n",
       "<table border=\"1\" class=\"dataframe\">\n",
       "  <thead>\n",
       "    <tr style=\"text-align: right;\">\n",
       "      <th></th>\n",
       "      <th>baseMean</th>\n",
       "      <th>log2FoldChange</th>\n",
       "      <th>lfcSE</th>\n",
       "      <th>stat</th>\n",
       "      <th>pvalue</th>\n",
       "      <th>padj</th>\n",
       "      <th>genes</th>\n",
       "      <th>gene_id</th>\n",
       "    </tr>\n",
       "  </thead>\n",
       "  <tbody>\n",
       "    <tr>\n",
       "      <th>0</th>\n",
       "      <td>1.423173</td>\n",
       "      <td>2.326387</td>\n",
       "      <td>1.578626</td>\n",
       "      <td>-1.473678</td>\n",
       "      <td>0.140568</td>\n",
       "      <td>NaN</td>\n",
       "      <td>A1BG</td>\n",
       "      <td>A1BG</td>\n",
       "    </tr>\n",
       "    <tr>\n",
       "      <th>1</th>\n",
       "      <td>104.290909</td>\n",
       "      <td>0.338331</td>\n",
       "      <td>0.216299</td>\n",
       "      <td>-1.564182</td>\n",
       "      <td>0.117775</td>\n",
       "      <td>0.447756</td>\n",
       "      <td>NAT1</td>\n",
       "      <td>NAT1</td>\n",
       "    </tr>\n",
       "    <tr>\n",
       "      <th>2</th>\n",
       "      <td>585.169422</td>\n",
       "      <td>0.054996</td>\n",
       "      <td>0.140307</td>\n",
       "      <td>-0.391973</td>\n",
       "      <td>0.695078</td>\n",
       "      <td>0.922618</td>\n",
       "      <td>AAMP</td>\n",
       "      <td>AAMP</td>\n",
       "    </tr>\n",
       "    <tr>\n",
       "      <th>3</th>\n",
       "      <td>750.079370</td>\n",
       "      <td>-0.037670</td>\n",
       "      <td>0.121871</td>\n",
       "      <td>0.309096</td>\n",
       "      <td>0.757248</td>\n",
       "      <td>0.945331</td>\n",
       "      <td>AARS1</td>\n",
       "      <td>AARS1</td>\n",
       "    </tr>\n",
       "    <tr>\n",
       "      <th>4</th>\n",
       "      <td>238.945124</td>\n",
       "      <td>0.065586</td>\n",
       "      <td>0.150230</td>\n",
       "      <td>-0.436569</td>\n",
       "      <td>0.662424</td>\n",
       "      <td>0.908213</td>\n",
       "      <td>ABAT</td>\n",
       "      <td>ABAT</td>\n",
       "    </tr>\n",
       "  </tbody>\n",
       "</table>\n",
       "</div>"
      ],
      "text/plain": [
       "     baseMean  log2FoldChange     lfcSE      stat    pvalue      padj  genes  \\\n",
       "0    1.423173        2.326387  1.578626 -1.473678  0.140568       NaN   A1BG   \n",
       "1  104.290909        0.338331  0.216299 -1.564182  0.117775  0.447756   NAT1   \n",
       "2  585.169422        0.054996  0.140307 -0.391973  0.695078  0.922618   AAMP   \n",
       "3  750.079370       -0.037670  0.121871  0.309096  0.757248  0.945331  AARS1   \n",
       "4  238.945124        0.065586  0.150230 -0.436569  0.662424  0.908213   ABAT   \n",
       "\n",
       "  gene_id  \n",
       "0    A1BG  \n",
       "1    NAT1  \n",
       "2    AAMP  \n",
       "3   AARS1  \n",
       "4    ABAT  "
      ]
     },
     "execution_count": 209,
     "metadata": {},
     "output_type": "execute_result"
    }
   ],
   "source": [
    "# MV411_JQ1 1h readcounts ERCC\n",
    "resGene_read.head()"
   ]
  },
  {
   "cell_type": "markdown",
   "id": "42f6142e",
   "metadata": {
    "hidden": true
   },
   "source": [
    "__save DESeq results__"
   ]
  },
  {
   "cell_type": "code",
   "execution_count": 210,
   "id": "d8fd813b",
   "metadata": {
    "hidden": true
   },
   "outputs": [],
   "source": [
    "# check all genes are in output\n",
    "if not tccounts.shape[0] == resGene_tc.shape[0]:\n",
    "    raise ValueError(\"Results do not have the same number of genes as counts.\")\n",
    "\n",
    "if not tccounts[\"genes\"].isin(resGene_tc[\"genes\"]).all():\n",
    "    raise ValueError(\"Results do not have the same genes as counts.\")"
   ]
  },
  {
   "cell_type": "code",
   "execution_count": 211,
   "id": "25a42a00",
   "metadata": {
    "hidden": true
   },
   "outputs": [
    {
     "data": {
      "text/plain": [
       "'inhibitors_v2_MV411_DMSO_JQ1_ERCCsamplewise_0_5_deseq_tccounts.csv'"
      ]
     },
     "execution_count": 211,
     "metadata": {},
     "output_type": "execute_result"
    }
   ],
   "source": [
    "\"{}_{}_deseq_tccounts.csv\".format(project, \"_\".join(\n",
    "    filter(None, [var, var1, var2, scaling, str(minvar_toremove), str(mincount_toremove)])))"
   ]
  },
  {
   "cell_type": "code",
   "execution_count": 212,
   "id": "5f318d68",
   "metadata": {
    "hidden": true
   },
   "outputs": [
    {
     "name": "stdout",
     "output_type": "stream",
     "text": [
      "Saved DESeq results to: inhibitors_v2_MV411_DMSO_JQ1_ERCCsamplewise_0_5_deseq_tccounts.csv\n"
     ]
    }
   ],
   "source": [
    "# tccounts\n",
    "deseq_res_file = \"{}_{}_deseq_tccounts.csv\".format(project, \"_\".join(\n",
    "    filter(None, [var, var1, var2, scaling, str(minvar_toremove), str(mincount_toremove)])))\n",
    "resGene_tc.to_csv(\"{}/{}\".format(res_dir, deseq_res_file), index=False)\n",
    "\n",
    "print(\"Saved DESeq results to: {}\".format(deseq_res_file))"
   ]
  },
  {
   "cell_type": "code",
   "execution_count": 213,
   "id": "2dd7f70c",
   "metadata": {
    "hidden": true
   },
   "outputs": [
    {
     "name": "stdout",
     "output_type": "stream",
     "text": [
      "Saved DESeq results to: inhibitors_v2_MV411_DMSO_JQ1_ERCCsamplewise_0_5_deseq_readcounts.csv\n"
     ]
    }
   ],
   "source": [
    "# readcounts\n",
    "deseq_res_file = \"{}_{}_deseq_readcounts.csv\".format(project, \"_\".join(\n",
    "    filter(None, [var, var1, var2, scaling, str(minvar_toremove), str(mincount_toremove)])))\n",
    "resGene_read.to_csv(\"{}/{}\".format(res_dir, deseq_res_file), index=False)\n",
    "\n",
    "print(\"Saved DESeq results to: {}\".format(deseq_res_file))"
   ]
  },
  {
   "cell_type": "markdown",
   "id": "15d22bb9",
   "metadata": {
    "heading_collapsed": true,
    "hidden": true
   },
   "source": [
    "### Unscaled"
   ]
  },
  {
   "cell_type": "code",
   "execution_count": 214,
   "id": "a56c025f",
   "metadata": {
    "hidden": true
   },
   "outputs": [],
   "source": [
    "scaling = None"
   ]
  },
  {
   "cell_type": "markdown",
   "id": "b1377f52",
   "metadata": {
    "hidden": true
   },
   "source": [
    "__make DESeq object__"
   ]
  },
  {
   "cell_type": "code",
   "execution_count": 215,
   "id": "bc9b0e46",
   "metadata": {
    "hidden": true
   },
   "outputs": [
    {
     "name": "stdout",
     "output_type": "stream",
     "text": [
      "you need to have R installed with the DESeq2 library installed\n",
      "3.4.5\n"
     ]
    }
   ],
   "source": [
    "# tccounts DESeq gene object\n",
    "# just var data\n",
    "deseqGene_tc = pyDESeq2.pyDESeq2(count_matrix=tccountsGene[tccountsGene.columns[np.array([1]+var_cols, bool)]], \n",
    "                                 design_matrix=design[np.array(var_cols, bool)],\n",
    "                                 design_formula=\"~{} - {}\".format(var1, var2),\n",
    "                                 gene_column=\"genes\")"
   ]
  },
  {
   "cell_type": "code",
   "execution_count": 216,
   "id": "3a83dca8",
   "metadata": {
    "hidden": true
   },
   "outputs": [
    {
     "name": "stdout",
     "output_type": "stream",
     "text": [
      "you need to have R installed with the DESeq2 library installed\n",
      "3.4.5\n"
     ]
    }
   ],
   "source": [
    "# readcounts DESeq gene object\n",
    "deseqGene_read = pyDESeq2.pyDESeq2(count_matrix=readcountsGene[readcountsGene.columns[np.array([1]+var_cols, bool)]], \n",
    "                                   design_matrix=design[np.array(var_cols, bool)],\n",
    "                                   design_formula=\"~{} - {}\".format(var1, var2),\n",
    "                                   gene_column=\"genes\")"
   ]
  },
  {
   "cell_type": "markdown",
   "id": "b01316d7",
   "metadata": {
    "hidden": true
   },
   "source": [
    "__estimate size factors__"
   ]
  },
  {
   "cell_type": "code",
   "execution_count": 217,
   "id": "150b0a14",
   "metadata": {
    "hidden": true
   },
   "outputs": [],
   "source": [
    "# tccounts\n",
    "deseqGene_tc.run_estimate_size_factors(geoMeans = np.exp(np.mean(np.log(\n",
    "    readcounts[tccountsGene.columns[[False]+design[var1].tolist()]].values+1), 1)))\n",
    "\n",
    "# readcounts\n",
    "deseqGene_read.run_estimate_size_factors()"
   ]
  },
  {
   "cell_type": "markdown",
   "id": "88b0d5dd",
   "metadata": {
    "hidden": true
   },
   "source": [
    "__run it__"
   ]
  },
  {
   "cell_type": "code",
   "execution_count": 218,
   "id": "22a7f84f",
   "metadata": {
    "hidden": true
   },
   "outputs": [
    {
     "name": "stderr",
     "output_type": "stream",
     "text": [
      "R[write to console]: using pre-existing size factors\n",
      "\n",
      "R[write to console]: estimating dispersions\n",
      "\n",
      "R[write to console]: gene-wise dispersion estimates\n",
      "\n",
      "R[write to console]: mean-dispersion relationship\n",
      "\n",
      "R[write to console]: final dispersion estimates\n",
      "\n",
      "R[write to console]: fitting model and testing\n",
      "\n"
     ]
    },
    {
     "name": "stdout",
     "output_type": "stream",
     "text": [
      "CPU times: user 6.21 s, sys: 1.01 s, total: 7.22 s\n",
      "Wall time: 5.19 s\n"
     ]
    }
   ],
   "source": [
    "%%time\n",
    "\n",
    "# tccounts\n",
    "deseqGene_tc.run_deseq()\n",
    "deseqGene_tc.get_deseq_result()\n",
    "\n",
    "resGene_tc = deseqGene_tc.deseq_result\n",
    "resGene_tc.pvalue = np.nan_to_num(np.array(resGene_tc.pvalue), 1)\n",
    "resGene_tc.log2FoldChange = np.nan_to_num(np.array(resGene_tc.log2FoldChange), 0)\n",
    "resGene_tc.log2FoldChange = -resGene_tc.log2FoldChange\n",
    "resGene_tc[\"gene_id\"] = resGene_tc.genes"
   ]
  },
  {
   "cell_type": "code",
   "execution_count": 219,
   "id": "de0db87a",
   "metadata": {
    "hidden": true
   },
   "outputs": [
    {
     "name": "stderr",
     "output_type": "stream",
     "text": [
      "R[write to console]: using pre-existing size factors\n",
      "\n",
      "R[write to console]: estimating dispersions\n",
      "\n",
      "R[write to console]: gene-wise dispersion estimates\n",
      "\n",
      "R[write to console]: mean-dispersion relationship\n",
      "\n",
      "R[write to console]: final dispersion estimates\n",
      "\n",
      "R[write to console]: fitting model and testing\n",
      "\n"
     ]
    },
    {
     "name": "stdout",
     "output_type": "stream",
     "text": [
      "CPU times: user 7.04 s, sys: 1.11 s, total: 8.15 s\n",
      "Wall time: 5.76 s\n"
     ]
    }
   ],
   "source": [
    "%%time\n",
    "\n",
    "#readcounts\n",
    "deseqGene_read.run_deseq()\n",
    "deseqGene_read.get_deseq_result()\n",
    "\n",
    "resGene_read = deseqGene_read.deseq_result\n",
    "resGene_read.pvalue = np.nan_to_num(np.array(resGene_read.pvalue), 1)\n",
    "resGene_read.log2FoldChange = np.nan_to_num(np.array(resGene_read.log2FoldChange), 0)\n",
    "resGene_read.log2FoldChange = -resGene_read.log2FoldChange\n",
    "resGene_read[\"gene_id\"] = resGene_read.genes"
   ]
  },
  {
   "cell_type": "code",
   "execution_count": 220,
   "id": "28b96947",
   "metadata": {
    "collapsed": true,
    "hidden": true
   },
   "outputs": [
    {
     "data": {
      "text/html": [
       "<div>\n",
       "<style scoped>\n",
       "    .dataframe tbody tr th:only-of-type {\n",
       "        vertical-align: middle;\n",
       "    }\n",
       "\n",
       "    .dataframe tbody tr th {\n",
       "        vertical-align: top;\n",
       "    }\n",
       "\n",
       "    .dataframe thead th {\n",
       "        text-align: right;\n",
       "    }\n",
       "</style>\n",
       "<table border=\"1\" class=\"dataframe\">\n",
       "  <thead>\n",
       "    <tr style=\"text-align: right;\">\n",
       "      <th></th>\n",
       "      <th>baseMean</th>\n",
       "      <th>log2FoldChange</th>\n",
       "      <th>lfcSE</th>\n",
       "      <th>stat</th>\n",
       "      <th>pvalue</th>\n",
       "      <th>padj</th>\n",
       "      <th>genes</th>\n",
       "      <th>gene_id</th>\n",
       "    </tr>\n",
       "  </thead>\n",
       "  <tbody>\n",
       "    <tr>\n",
       "      <th>0</th>\n",
       "      <td>0.000000</td>\n",
       "      <td>-0.000000</td>\n",
       "      <td>NaN</td>\n",
       "      <td>NaN</td>\n",
       "      <td>0.000000</td>\n",
       "      <td>NaN</td>\n",
       "      <td>A1BG</td>\n",
       "      <td>A1BG</td>\n",
       "    </tr>\n",
       "    <tr>\n",
       "      <th>1</th>\n",
       "      <td>16.355392</td>\n",
       "      <td>1.134170</td>\n",
       "      <td>0.424570</td>\n",
       "      <td>-2.671338</td>\n",
       "      <td>0.007555</td>\n",
       "      <td>0.039449</td>\n",
       "      <td>NAT1</td>\n",
       "      <td>NAT1</td>\n",
       "    </tr>\n",
       "    <tr>\n",
       "      <th>2</th>\n",
       "      <td>17.315885</td>\n",
       "      <td>0.343377</td>\n",
       "      <td>0.382734</td>\n",
       "      <td>-0.897170</td>\n",
       "      <td>0.369628</td>\n",
       "      <td>0.596686</td>\n",
       "      <td>AAMP</td>\n",
       "      <td>AAMP</td>\n",
       "    </tr>\n",
       "    <tr>\n",
       "      <th>3</th>\n",
       "      <td>13.183596</td>\n",
       "      <td>-0.506053</td>\n",
       "      <td>0.442058</td>\n",
       "      <td>1.144768</td>\n",
       "      <td>0.252305</td>\n",
       "      <td>0.472794</td>\n",
       "      <td>AARS1</td>\n",
       "      <td>AARS1</td>\n",
       "    </tr>\n",
       "    <tr>\n",
       "      <th>4</th>\n",
       "      <td>9.919322</td>\n",
       "      <td>0.794265</td>\n",
       "      <td>0.497071</td>\n",
       "      <td>-1.597891</td>\n",
       "      <td>0.110067</td>\n",
       "      <td>0.278191</td>\n",
       "      <td>ABAT</td>\n",
       "      <td>ABAT</td>\n",
       "    </tr>\n",
       "  </tbody>\n",
       "</table>\n",
       "</div>"
      ],
      "text/plain": [
       "    baseMean  log2FoldChange     lfcSE      stat    pvalue      padj  genes  \\\n",
       "0   0.000000       -0.000000       NaN       NaN  0.000000       NaN   A1BG   \n",
       "1  16.355392        1.134170  0.424570 -2.671338  0.007555  0.039449   NAT1   \n",
       "2  17.315885        0.343377  0.382734 -0.897170  0.369628  0.596686   AAMP   \n",
       "3  13.183596       -0.506053  0.442058  1.144768  0.252305  0.472794  AARS1   \n",
       "4   9.919322        0.794265  0.497071 -1.597891  0.110067  0.278191   ABAT   \n",
       "\n",
       "  gene_id  \n",
       "0    A1BG  \n",
       "1    NAT1  \n",
       "2    AAMP  \n",
       "3   AARS1  \n",
       "4    ABAT  "
      ]
     },
     "execution_count": 220,
     "metadata": {},
     "output_type": "execute_result"
    }
   ],
   "source": [
    "# MV411_JQ1 1h tccounts unscaled\n",
    "resGene_tc.head()"
   ]
  },
  {
   "cell_type": "code",
   "execution_count": 221,
   "id": "33087b92",
   "metadata": {
    "collapsed": true,
    "hidden": true
   },
   "outputs": [
    {
     "data": {
      "text/html": [
       "<div>\n",
       "<style scoped>\n",
       "    .dataframe tbody tr th:only-of-type {\n",
       "        vertical-align: middle;\n",
       "    }\n",
       "\n",
       "    .dataframe tbody tr th {\n",
       "        vertical-align: top;\n",
       "    }\n",
       "\n",
       "    .dataframe thead th {\n",
       "        text-align: right;\n",
       "    }\n",
       "</style>\n",
       "<table border=\"1\" class=\"dataframe\">\n",
       "  <thead>\n",
       "    <tr style=\"text-align: right;\">\n",
       "      <th></th>\n",
       "      <th>baseMean</th>\n",
       "      <th>log2FoldChange</th>\n",
       "      <th>lfcSE</th>\n",
       "      <th>stat</th>\n",
       "      <th>pvalue</th>\n",
       "      <th>padj</th>\n",
       "      <th>genes</th>\n",
       "      <th>gene_id</th>\n",
       "    </tr>\n",
       "  </thead>\n",
       "  <tbody>\n",
       "    <tr>\n",
       "      <th>0</th>\n",
       "      <td>1.420167</td>\n",
       "      <td>2.341675</td>\n",
       "      <td>1.551999</td>\n",
       "      <td>-1.508812</td>\n",
       "      <td>0.131347</td>\n",
       "      <td>NaN</td>\n",
       "      <td>A1BG</td>\n",
       "      <td>A1BG</td>\n",
       "    </tr>\n",
       "    <tr>\n",
       "      <th>1</th>\n",
       "      <td>106.387622</td>\n",
       "      <td>0.391566</td>\n",
       "      <td>0.205745</td>\n",
       "      <td>-1.903158</td>\n",
       "      <td>0.057020</td>\n",
       "      <td>0.265832</td>\n",
       "      <td>NAT1</td>\n",
       "      <td>NAT1</td>\n",
       "    </tr>\n",
       "    <tr>\n",
       "      <th>2</th>\n",
       "      <td>596.948045</td>\n",
       "      <td>0.111266</td>\n",
       "      <td>0.129907</td>\n",
       "      <td>-0.856502</td>\n",
       "      <td>0.391720</td>\n",
       "      <td>0.728893</td>\n",
       "      <td>AAMP</td>\n",
       "      <td>AAMP</td>\n",
       "    </tr>\n",
       "    <tr>\n",
       "      <th>3</th>\n",
       "      <td>766.617785</td>\n",
       "      <td>0.025227</td>\n",
       "      <td>0.122119</td>\n",
       "      <td>-0.206572</td>\n",
       "      <td>0.836344</td>\n",
       "      <td>0.951064</td>\n",
       "      <td>AARS1</td>\n",
       "      <td>AARS1</td>\n",
       "    </tr>\n",
       "    <tr>\n",
       "      <th>4</th>\n",
       "      <td>243.224390</td>\n",
       "      <td>0.118852</td>\n",
       "      <td>0.124638</td>\n",
       "      <td>-0.953581</td>\n",
       "      <td>0.340296</td>\n",
       "      <td>0.688540</td>\n",
       "      <td>ABAT</td>\n",
       "      <td>ABAT</td>\n",
       "    </tr>\n",
       "  </tbody>\n",
       "</table>\n",
       "</div>"
      ],
      "text/plain": [
       "     baseMean  log2FoldChange     lfcSE      stat    pvalue      padj  genes  \\\n",
       "0    1.420167        2.341675  1.551999 -1.508812  0.131347       NaN   A1BG   \n",
       "1  106.387622        0.391566  0.205745 -1.903158  0.057020  0.265832   NAT1   \n",
       "2  596.948045        0.111266  0.129907 -0.856502  0.391720  0.728893   AAMP   \n",
       "3  766.617785        0.025227  0.122119 -0.206572  0.836344  0.951064  AARS1   \n",
       "4  243.224390        0.118852  0.124638 -0.953581  0.340296  0.688540   ABAT   \n",
       "\n",
       "  gene_id  \n",
       "0    A1BG  \n",
       "1    NAT1  \n",
       "2    AAMP  \n",
       "3   AARS1  \n",
       "4    ABAT  "
      ]
     },
     "execution_count": 221,
     "metadata": {},
     "output_type": "execute_result"
    }
   ],
   "source": [
    "# MV411_JQ1 1h readcounts unscaled\n",
    "resGene_read.head()"
   ]
  },
  {
   "cell_type": "markdown",
   "id": "36720177",
   "metadata": {
    "hidden": true
   },
   "source": [
    "__save DESeq results__"
   ]
  },
  {
   "cell_type": "code",
   "execution_count": 222,
   "id": "8d705e63",
   "metadata": {
    "hidden": true
   },
   "outputs": [],
   "source": [
    "# check all genes are in output\n",
    "if not tccounts.shape[0] == resGene_tc.shape[0]:\n",
    "    raise ValueError(\"Results do not have the same number of genes as counts.\")\n",
    "\n",
    "if not tccounts[\"genes\"].isin(resGene_tc[\"genes\"]).all():\n",
    "    raise ValueError(\"Results do not have the same genes as counts.\")"
   ]
  },
  {
   "cell_type": "code",
   "execution_count": 223,
   "id": "3b1df39f",
   "metadata": {
    "hidden": true
   },
   "outputs": [
    {
     "data": {
      "text/plain": [
       "'inhibitors_v2_MV411_DMSO_JQ1_0_5_deseq_tccounts.csv'"
      ]
     },
     "execution_count": 223,
     "metadata": {},
     "output_type": "execute_result"
    }
   ],
   "source": [
    "\"{}_{}_deseq_tccounts.csv\".format(project, \"_\".join(\n",
    "    filter(None, [var, var1, var2, scaling, str(minvar_toremove), str(mincount_toremove)])))"
   ]
  },
  {
   "cell_type": "code",
   "execution_count": 224,
   "id": "a3179401",
   "metadata": {
    "hidden": true
   },
   "outputs": [
    {
     "name": "stdout",
     "output_type": "stream",
     "text": [
      "Saved DESeq results to: inhibitors_v2_MV411_DMSO_JQ1_0_5_deseq_tccounts.csv\n"
     ]
    }
   ],
   "source": [
    "# tccounts\n",
    "deseq_res_file = \"{}_{}_deseq_tccounts.csv\".format(project, \"_\".join(\n",
    "    filter(None, [var, var1, var2, scaling, str(minvar_toremove), str(mincount_toremove)])))\n",
    "resGene_tc.to_csv(\"{}/{}\".format(res_dir, deseq_res_file), index=False)\n",
    "\n",
    "print(\"Saved DESeq results to: {}\".format(deseq_res_file))"
   ]
  },
  {
   "cell_type": "code",
   "execution_count": 225,
   "id": "0065a98a",
   "metadata": {
    "hidden": true
   },
   "outputs": [
    {
     "name": "stdout",
     "output_type": "stream",
     "text": [
      "Saved DESeq results to: inhibitors_v2_MV411_DMSO_JQ1_0_5_deseq_readcounts.csv\n"
     ]
    }
   ],
   "source": [
    "# readcounts\n",
    "deseq_res_file = \"{}_{}_deseq_readcounts.csv\".format(project, \"_\".join(\n",
    "    filter(None, [var, var1, var2, scaling, str(minvar_toremove), str(mincount_toremove)])))\n",
    "resGene_read.to_csv(\"{}/{}\".format(res_dir, deseq_res_file), index=False)\n",
    "\n",
    "print(\"Saved DESeq results to: {}\".format(deseq_res_file))"
   ]
  },
  {
   "cell_type": "markdown",
   "id": "92d3f50c",
   "metadata": {
    "heading_collapsed": true
   },
   "source": [
    "## MV411 MYCi361 1h"
   ]
  },
  {
   "cell_type": "markdown",
   "id": "258dc426",
   "metadata": {
    "heading_collapsed": true,
    "hidden": true
   },
   "source": [
    "### make design matrix"
   ]
  },
  {
   "cell_type": "code",
   "execution_count": 227,
   "id": "ffe7c7b7",
   "metadata": {
    "hidden": true
   },
   "outputs": [],
   "source": [
    "# MV411 MYCi361 inhibitor 1h\n",
    "version = \"v1\"\n",
    "var_name = \"experiment\"\n",
    "var = \"MV411\"\n",
    "var1 = \"DMSO\"\n",
    "var2 = \"MYCi361\"\n",
    "drop_rep = exp_design.loc[(exp_design[var_name] == var) & (exp_design[\"drop\"] == True), \"col\"]"
   ]
  },
  {
   "cell_type": "code",
   "execution_count": 228,
   "id": "44f8166d",
   "metadata": {
    "hidden": true
   },
   "outputs": [],
   "source": [
    "# tccounts\n",
    "tccountsGene = tccounts[tccounts.columns[:-1]]\n",
    "\n",
    "# readcounts\n",
    "readcountsGene = readcounts[readcounts.columns[:-1]]"
   ]
  },
  {
   "cell_type": "markdown",
   "id": "746252d2",
   "metadata": {
    "hidden": true
   },
   "source": [
    "be careful that var_cols are only the samples being used for DESeq comparison!"
   ]
  },
  {
   "cell_type": "code",
   "execution_count": 229,
   "id": "b6cf3c47",
   "metadata": {
    "hidden": true
   },
   "outputs": [],
   "source": [
    "# get just var data\n",
    "# remove dropped reps\n",
    "var1_cols = [1 if (exp_design.iloc[idx][var_name] == var) and (exp_design.iloc[idx][\"treatment\"] == var1) and\n",
    "             (exp_design.iloc[idx][\"drop\"] == False) else 0 for idx in range(exp_design.shape[0])]\n",
    "\n",
    "var2_cols = [1 if (exp_design.iloc[idx][var_name] == var) and (exp_design.iloc[idx][\"treatment\"] == var2) and \n",
    "            (exp_design.iloc[idx][\"drop\"] == False) else 0 for idx in range(exp_design.shape[0])]\n",
    "\n",
    "var_cols = [sum(x) for x in zip(var1_cols, var2_cols)]"
   ]
  },
  {
   "cell_type": "code",
   "execution_count": 230,
   "id": "9559e93b",
   "metadata": {
    "hidden": true
   },
   "outputs": [],
   "source": [
    "# all columns\n",
    "design = pd.DataFrame(index= [i.replace(\"-\",\".\") for i in tccountsGene.columns], \n",
    "                      columns=[var1, var2], \n",
    "                      data=np.array([var1_cols, var2_cols], dtype=bool).T)"
   ]
  },
  {
   "cell_type": "code",
   "execution_count": 231,
   "id": "3e8263f4",
   "metadata": {
    "collapsed": true,
    "hidden": true
   },
   "outputs": [
    {
     "data": {
      "text/html": [
       "<div>\n",
       "<style scoped>\n",
       "    .dataframe tbody tr th:only-of-type {\n",
       "        vertical-align: middle;\n",
       "    }\n",
       "\n",
       "    .dataframe tbody tr th {\n",
       "        vertical-align: top;\n",
       "    }\n",
       "\n",
       "    .dataframe thead th {\n",
       "        text-align: right;\n",
       "    }\n",
       "</style>\n",
       "<table border=\"1\" class=\"dataframe\">\n",
       "  <thead>\n",
       "    <tr style=\"text-align: right;\">\n",
       "      <th></th>\n",
       "      <th>DMSO</th>\n",
       "      <th>MYCi361</th>\n",
       "    </tr>\n",
       "  </thead>\n",
       "  <tbody>\n",
       "    <tr>\n",
       "      <th>mr590.MV411.DMSO_1h.r1_tcount</th>\n",
       "      <td>True</td>\n",
       "      <td>False</td>\n",
       "    </tr>\n",
       "    <tr>\n",
       "      <th>mr591.MV411.DMSO_1h.r2_tcount</th>\n",
       "      <td>True</td>\n",
       "      <td>False</td>\n",
       "    </tr>\n",
       "    <tr>\n",
       "      <th>mr592.MV411.DMSO_1h.r3_tcount</th>\n",
       "      <td>True</td>\n",
       "      <td>False</td>\n",
       "    </tr>\n",
       "    <tr>\n",
       "      <th>mr593.MV411.DMSO_1h.r4_tcount</th>\n",
       "      <td>True</td>\n",
       "      <td>False</td>\n",
       "    </tr>\n",
       "    <tr>\n",
       "      <th>mr594.MV411.MS2_1h.r1_tcount</th>\n",
       "      <td>False</td>\n",
       "      <td>False</td>\n",
       "    </tr>\n",
       "    <tr>\n",
       "      <th>mr595.MV411.MS2_1h.r2_tcount</th>\n",
       "      <td>False</td>\n",
       "      <td>False</td>\n",
       "    </tr>\n",
       "    <tr>\n",
       "      <th>mr596.MV411.MS2_1h.r3_tcount</th>\n",
       "      <td>False</td>\n",
       "      <td>False</td>\n",
       "    </tr>\n",
       "    <tr>\n",
       "      <th>mr597.MV411.MS2_1h.r4_tcount</th>\n",
       "      <td>False</td>\n",
       "      <td>False</td>\n",
       "    </tr>\n",
       "    <tr>\n",
       "      <th>mr598.MV411.JQ1_1h.r1_tcount</th>\n",
       "      <td>False</td>\n",
       "      <td>False</td>\n",
       "    </tr>\n",
       "    <tr>\n",
       "      <th>mr599.MV411.JQ1_1h.r2_tcount</th>\n",
       "      <td>False</td>\n",
       "      <td>False</td>\n",
       "    </tr>\n",
       "    <tr>\n",
       "      <th>mr600.MV411.JQ1_1h.r3_tcount</th>\n",
       "      <td>False</td>\n",
       "      <td>False</td>\n",
       "    </tr>\n",
       "    <tr>\n",
       "      <th>mr601.MV411.JQ1_1h.r4_tcount</th>\n",
       "      <td>False</td>\n",
       "      <td>False</td>\n",
       "    </tr>\n",
       "    <tr>\n",
       "      <th>mr602.MV411.MYCi361_1h.r1_tcount</th>\n",
       "      <td>False</td>\n",
       "      <td>True</td>\n",
       "    </tr>\n",
       "    <tr>\n",
       "      <th>mr603.MV411.MYCi361_1h.r2_tcount</th>\n",
       "      <td>False</td>\n",
       "      <td>True</td>\n",
       "    </tr>\n",
       "    <tr>\n",
       "      <th>mr604.MV411.MYCi361_1h.r3_tcount</th>\n",
       "      <td>False</td>\n",
       "      <td>True</td>\n",
       "    </tr>\n",
       "    <tr>\n",
       "      <th>mr605.MV411.MYCi361_1h.r4_tcount</th>\n",
       "      <td>False</td>\n",
       "      <td>True</td>\n",
       "    </tr>\n",
       "    <tr>\n",
       "      <th>mr606.MV411.THZ1_1h.r1_tcount</th>\n",
       "      <td>False</td>\n",
       "      <td>False</td>\n",
       "    </tr>\n",
       "    <tr>\n",
       "      <th>mr607.MV411.THZ1_1h.r2_tcount</th>\n",
       "      <td>False</td>\n",
       "      <td>False</td>\n",
       "    </tr>\n",
       "    <tr>\n",
       "      <th>mr608.MV411.THZ1_1h.r3_tcount</th>\n",
       "      <td>False</td>\n",
       "      <td>False</td>\n",
       "    </tr>\n",
       "    <tr>\n",
       "      <th>mr609.MV411.THZ1_1h.r4_tcount</th>\n",
       "      <td>False</td>\n",
       "      <td>False</td>\n",
       "    </tr>\n",
       "    <tr>\n",
       "      <th>mr610.MV411.JQ1_MS2_1h.r1_tcount</th>\n",
       "      <td>False</td>\n",
       "      <td>False</td>\n",
       "    </tr>\n",
       "    <tr>\n",
       "      <th>mr611.MV411.JQ1_MS2_1h.r2_tcount</th>\n",
       "      <td>False</td>\n",
       "      <td>False</td>\n",
       "    </tr>\n",
       "    <tr>\n",
       "      <th>mr612.MV411.JQ1_MS2_1h.r3_tcount</th>\n",
       "      <td>False</td>\n",
       "      <td>False</td>\n",
       "    </tr>\n",
       "    <tr>\n",
       "      <th>mr613.MV411.JQ1_MS2_1h.r4_tcount</th>\n",
       "      <td>False</td>\n",
       "      <td>False</td>\n",
       "    </tr>\n",
       "    <tr>\n",
       "      <th>mr614.MV411.JQ1_THZ1_1h.r1_tcount</th>\n",
       "      <td>False</td>\n",
       "      <td>False</td>\n",
       "    </tr>\n",
       "    <tr>\n",
       "      <th>mr615.MV411.JQ1_THZ1_1h.r2_tcount</th>\n",
       "      <td>False</td>\n",
       "      <td>False</td>\n",
       "    </tr>\n",
       "    <tr>\n",
       "      <th>mr616.MV411.JQ1_THZ1_1h.r3_tcount</th>\n",
       "      <td>False</td>\n",
       "      <td>False</td>\n",
       "    </tr>\n",
       "    <tr>\n",
       "      <th>mr617.MV411.JQ1_THZ1_1h.r4_tcount</th>\n",
       "      <td>False</td>\n",
       "      <td>False</td>\n",
       "    </tr>\n",
       "  </tbody>\n",
       "</table>\n",
       "</div>"
      ],
      "text/plain": [
       "                                    DMSO  MYCi361\n",
       "mr590.MV411.DMSO_1h.r1_tcount       True    False\n",
       "mr591.MV411.DMSO_1h.r2_tcount       True    False\n",
       "mr592.MV411.DMSO_1h.r3_tcount       True    False\n",
       "mr593.MV411.DMSO_1h.r4_tcount       True    False\n",
       "mr594.MV411.MS2_1h.r1_tcount       False    False\n",
       "mr595.MV411.MS2_1h.r2_tcount       False    False\n",
       "mr596.MV411.MS2_1h.r3_tcount       False    False\n",
       "mr597.MV411.MS2_1h.r4_tcount       False    False\n",
       "mr598.MV411.JQ1_1h.r1_tcount       False    False\n",
       "mr599.MV411.JQ1_1h.r2_tcount       False    False\n",
       "mr600.MV411.JQ1_1h.r3_tcount       False    False\n",
       "mr601.MV411.JQ1_1h.r4_tcount       False    False\n",
       "mr602.MV411.MYCi361_1h.r1_tcount   False     True\n",
       "mr603.MV411.MYCi361_1h.r2_tcount   False     True\n",
       "mr604.MV411.MYCi361_1h.r3_tcount   False     True\n",
       "mr605.MV411.MYCi361_1h.r4_tcount   False     True\n",
       "mr606.MV411.THZ1_1h.r1_tcount      False    False\n",
       "mr607.MV411.THZ1_1h.r2_tcount      False    False\n",
       "mr608.MV411.THZ1_1h.r3_tcount      False    False\n",
       "mr609.MV411.THZ1_1h.r4_tcount      False    False\n",
       "mr610.MV411.JQ1_MS2_1h.r1_tcount   False    False\n",
       "mr611.MV411.JQ1_MS2_1h.r2_tcount   False    False\n",
       "mr612.MV411.JQ1_MS2_1h.r3_tcount   False    False\n",
       "mr613.MV411.JQ1_MS2_1h.r4_tcount   False    False\n",
       "mr614.MV411.JQ1_THZ1_1h.r1_tcount  False    False\n",
       "mr615.MV411.JQ1_THZ1_1h.r2_tcount  False    False\n",
       "mr616.MV411.JQ1_THZ1_1h.r3_tcount  False    False\n",
       "mr617.MV411.JQ1_THZ1_1h.r4_tcount  False    False"
      ]
     },
     "execution_count": 231,
     "metadata": {},
     "output_type": "execute_result"
    }
   ],
   "source": [
    "design"
   ]
  },
  {
   "cell_type": "code",
   "execution_count": 232,
   "id": "f65a3b57",
   "metadata": {
    "hidden": true
   },
   "outputs": [],
   "source": [
    "# genes as first column\n",
    "tccountsGene = tccounts[['genes']+list(tccountsGene.columns)]\n",
    "readcountsGene = readcounts[['genes']+list(readcountsGene.columns)]"
   ]
  },
  {
   "cell_type": "markdown",
   "id": "9aba4096",
   "metadata": {
    "heading_collapsed": true,
    "hidden": true
   },
   "source": [
    "### ERCC samplewise scaled"
   ]
  },
  {
   "cell_type": "code",
   "execution_count": 233,
   "id": "d1781483",
   "metadata": {
    "hidden": true
   },
   "outputs": [],
   "source": [
    "scaling=\"ERCCsamplewise\""
   ]
  },
  {
   "cell_type": "markdown",
   "id": "f039733d",
   "metadata": {
    "hidden": true
   },
   "source": [
    "__make DESeq object__"
   ]
  },
  {
   "cell_type": "code",
   "execution_count": 234,
   "id": "d319b50e",
   "metadata": {
    "hidden": true
   },
   "outputs": [
    {
     "name": "stdout",
     "output_type": "stream",
     "text": [
      "you need to have R installed with the DESeq2 library installed\n",
      "3.4.5\n"
     ]
    }
   ],
   "source": [
    "# tccounts DESeq gene object\n",
    "deseqGene_tc = pyDESeq2.pyDESeq2(count_matrix=tccountsGene[tccountsGene.columns[np.array([1]+var_cols, bool)]], \n",
    "                                 design_matrix=design[np.array(var_cols, bool)],\n",
    "                                 design_formula=\"~{} - {}\".format(var1, var2),\n",
    "                                 gene_column=\"genes\")"
   ]
  },
  {
   "cell_type": "code",
   "execution_count": 235,
   "id": "743cc48f",
   "metadata": {
    "hidden": true
   },
   "outputs": [
    {
     "name": "stdout",
     "output_type": "stream",
     "text": [
      "you need to have R installed with the DESeq2 library installed\n",
      "3.4.5\n"
     ]
    }
   ],
   "source": [
    "# readcounts DESeq gene object\n",
    "deseqGene_read = pyDESeq2.pyDESeq2(count_matrix=readcountsGene[readcountsGene.columns[np.array([1]+var_cols, bool)]], \n",
    "                                   design_matrix=design[np.array(var_cols, bool)],\n",
    "                                   design_formula=\"~{} - {}\".format(var1, var2),\n",
    "                                   gene_column=\"genes\")"
   ]
  },
  {
   "cell_type": "markdown",
   "id": "186d2716",
   "metadata": {
    "hidden": true
   },
   "source": [
    "__estimate & modify size factors__"
   ]
  },
  {
   "cell_type": "code",
   "execution_count": 236,
   "id": "8ac07314",
   "metadata": {
    "hidden": true
   },
   "outputs": [],
   "source": [
    "# tccounts\n",
    "deseqGene_tc.run_estimate_size_factors(geoMeans = np.exp(np.mean(np.log(\n",
    "    readcounts[tccountsGene.columns[[False]+design[var1].tolist()]].values+1), 1)))\n",
    "\n",
    "# readcounts\n",
    "deseqGene_read.run_estimate_size_factors()"
   ]
  },
  {
   "cell_type": "code",
   "execution_count": 237,
   "id": "74e86d6c",
   "metadata": {
    "hidden": true
   },
   "outputs": [
    {
     "data": {
      "text/plain": [
       "0\n",
       "ERCC_mr590-MV411-DMSO_1h-r1_filtered.bam       0.341648\n",
       "ERCC_mr591-MV411-DMSO_1h-r2_filtered.bam       0.329341\n",
       "ERCC_mr592-MV411-DMSO_1h-r3_filtered.bam       0.306805\n",
       "ERCC_mr593-MV411-DMSO_1h-r4_filtered.bam       0.326813\n",
       "ERCC_mr602-MV411-MYCi361_1h-r1_filtered.bam    0.369813\n",
       "ERCC_mr603-MV411-MYCi361_1h-r2_filtered.bam    0.334681\n",
       "ERCC_mr604-MV411-MYCi361_1h-r3_filtered.bam    0.337304\n",
       "ERCC_mr605-MV411-MYCi361_1h-r4_filtered.bam    0.270546\n",
       "Name: 1, dtype: float64"
      ]
     },
     "execution_count": 237,
     "metadata": {},
     "output_type": "execute_result"
    }
   ],
   "source": [
    "# read in ERCC pseudocounts\n",
    "res = pd.read_csv(res_dir+\"/\"+project+\"_scaling_factors.csv\", index_col=0, header=None, squeeze=True)\n",
    "\n",
    "# select var values\n",
    "res = res[np.array(var_cols, dtype=bool)]\n",
    "res"
   ]
  },
  {
   "cell_type": "markdown",
   "id": "e64eb355",
   "metadata": {
    "hidden": true
   },
   "source": [
    "__modify size factors__\n",
    "<br> treatment size factor * adjusted treatment res (treatment res per sample / average DMSO res)"
   ]
  },
  {
   "cell_type": "code",
   "execution_count": 238,
   "id": "383e8bec",
   "metadata": {
    "hidden": true
   },
   "outputs": [],
   "source": [
    "# tccounts\n",
    "sizeFact = deseqGene_tc.getSizeFactors()\n",
    "sizeFact[sum(var1_cols):] = sizeFact[sum(var1_cols):] * (res[[i for i in res.index if '-'+str(var2) in i]].values/\n",
    "                                                         res[[i for i in res.index if '-'+str(var1) in i]].values.mean())\n",
    "deseqGene_tc.setSizeFactors(sizeFact)"
   ]
  },
  {
   "cell_type": "code",
   "execution_count": 239,
   "id": "b2f30b5f",
   "metadata": {
    "hidden": true
   },
   "outputs": [
    {
     "data": {
      "text/plain": [
       "array([0.36981291, 0.33468096, 0.3373044 , 0.27054618])"
      ]
     },
     "execution_count": 239,
     "metadata": {},
     "output_type": "execute_result"
    }
   ],
   "source": [
    "res[[i for i in res.index if '-'+str(var2) in i]].values"
   ]
  },
  {
   "cell_type": "code",
   "execution_count": 240,
   "id": "b6e3f1ae",
   "metadata": {
    "hidden": true
   },
   "outputs": [],
   "source": [
    "# readcounts\n",
    "sizeFact = deseqGene_read.getSizeFactors()\n",
    "sizeFact[sum(var1_cols):] = sizeFact[sum(var1_cols):] * (res[[i for i in res.index if '-'+str(var2) in i]].values/\n",
    "                                                         res[[i for i in res.index if '-'+str(var1) in i]].values.mean())\n",
    "deseqGene_read.setSizeFactors(sizeFact)"
   ]
  },
  {
   "cell_type": "markdown",
   "id": "2d1705c9",
   "metadata": {
    "hidden": true
   },
   "source": [
    "__run it__"
   ]
  },
  {
   "cell_type": "code",
   "execution_count": 241,
   "id": "24d0a570",
   "metadata": {
    "hidden": true
   },
   "outputs": [
    {
     "name": "stderr",
     "output_type": "stream",
     "text": [
      "R[write to console]: using pre-existing size factors\n",
      "\n",
      "R[write to console]: estimating dispersions\n",
      "\n",
      "R[write to console]: gene-wise dispersion estimates\n",
      "\n",
      "R[write to console]: mean-dispersion relationship\n",
      "\n",
      "R[write to console]: final dispersion estimates\n",
      "\n",
      "R[write to console]: fitting model and testing\n",
      "\n"
     ]
    },
    {
     "name": "stdout",
     "output_type": "stream",
     "text": [
      "CPU times: user 6.46 s, sys: 1.33 s, total: 7.79 s\n",
      "Wall time: 5.18 s\n"
     ]
    }
   ],
   "source": [
    "%%time\n",
    "\n",
    "# tccounts\n",
    "deseqGene_tc.run_deseq()\n",
    "deseqGene_tc.get_deseq_result()\n",
    "\n",
    "resGene_tc = deseqGene_tc.deseq_result\n",
    "resGene_tc.pvalue = np.nan_to_num(np.array(resGene_tc.pvalue), 1)\n",
    "resGene_tc.log2FoldChange = np.nan_to_num(np.array(resGene_tc.log2FoldChange), 0)\n",
    "resGene_tc.log2FoldChange = -resGene_tc.log2FoldChange\n",
    "resGene_tc[\"gene_id\"] = resGene_tc.genes"
   ]
  },
  {
   "cell_type": "code",
   "execution_count": 242,
   "id": "3d2cfe7c",
   "metadata": {
    "hidden": true
   },
   "outputs": [
    {
     "name": "stderr",
     "output_type": "stream",
     "text": [
      "R[write to console]: using pre-existing size factors\n",
      "\n",
      "R[write to console]: estimating dispersions\n",
      "\n",
      "R[write to console]: gene-wise dispersion estimates\n",
      "\n",
      "R[write to console]: mean-dispersion relationship\n",
      "\n",
      "R[write to console]: final dispersion estimates\n",
      "\n",
      "R[write to console]: fitting model and testing\n",
      "\n"
     ]
    },
    {
     "name": "stdout",
     "output_type": "stream",
     "text": [
      "CPU times: user 7.14 s, sys: 1.2 s, total: 8.34 s\n",
      "Wall time: 5.66 s\n"
     ]
    }
   ],
   "source": [
    "%%time\n",
    "\n",
    "#readcounts\n",
    "deseqGene_read.run_deseq()\n",
    "deseqGene_read.get_deseq_result()\n",
    "\n",
    "resGene_read = deseqGene_read.deseq_result\n",
    "resGene_read.pvalue = np.nan_to_num(np.array(resGene_read.pvalue), 1)\n",
    "resGene_read.log2FoldChange = np.nan_to_num(np.array(resGene_read.log2FoldChange), 0)\n",
    "resGene_read.log2FoldChange = -resGene_read.log2FoldChange\n",
    "resGene_read[\"gene_id\"] = resGene_read.genes"
   ]
  },
  {
   "cell_type": "code",
   "execution_count": 243,
   "id": "421c3851",
   "metadata": {
    "hidden": true
   },
   "outputs": [
    {
     "data": {
      "text/html": [
       "<div>\n",
       "<style scoped>\n",
       "    .dataframe tbody tr th:only-of-type {\n",
       "        vertical-align: middle;\n",
       "    }\n",
       "\n",
       "    .dataframe tbody tr th {\n",
       "        vertical-align: top;\n",
       "    }\n",
       "\n",
       "    .dataframe thead th {\n",
       "        text-align: right;\n",
       "    }\n",
       "</style>\n",
       "<table border=\"1\" class=\"dataframe\">\n",
       "  <thead>\n",
       "    <tr style=\"text-align: right;\">\n",
       "      <th></th>\n",
       "      <th>baseMean</th>\n",
       "      <th>log2FoldChange</th>\n",
       "      <th>lfcSE</th>\n",
       "      <th>stat</th>\n",
       "      <th>pvalue</th>\n",
       "      <th>padj</th>\n",
       "      <th>genes</th>\n",
       "      <th>gene_id</th>\n",
       "    </tr>\n",
       "  </thead>\n",
       "  <tbody>\n",
       "    <tr>\n",
       "      <th>0</th>\n",
       "      <td>0.000000</td>\n",
       "      <td>-0.000000</td>\n",
       "      <td>NaN</td>\n",
       "      <td>NaN</td>\n",
       "      <td>0.000000</td>\n",
       "      <td>NaN</td>\n",
       "      <td>A1BG</td>\n",
       "      <td>A1BG</td>\n",
       "    </tr>\n",
       "    <tr>\n",
       "      <th>1</th>\n",
       "      <td>11.364008</td>\n",
       "      <td>0.122771</td>\n",
       "      <td>0.548818</td>\n",
       "      <td>-0.223702</td>\n",
       "      <td>0.822989</td>\n",
       "      <td>0.995380</td>\n",
       "      <td>NAT1</td>\n",
       "      <td>NAT1</td>\n",
       "    </tr>\n",
       "    <tr>\n",
       "      <th>2</th>\n",
       "      <td>20.419774</td>\n",
       "      <td>0.609135</td>\n",
       "      <td>0.395090</td>\n",
       "      <td>-1.541763</td>\n",
       "      <td>0.123131</td>\n",
       "      <td>0.995380</td>\n",
       "      <td>AAMP</td>\n",
       "      <td>AAMP</td>\n",
       "    </tr>\n",
       "    <tr>\n",
       "      <th>3</th>\n",
       "      <td>16.433890</td>\n",
       "      <td>-0.000542</td>\n",
       "      <td>0.430949</td>\n",
       "      <td>0.001258</td>\n",
       "      <td>0.998996</td>\n",
       "      <td>0.999646</td>\n",
       "      <td>AARS1</td>\n",
       "      <td>AARS1</td>\n",
       "    </tr>\n",
       "    <tr>\n",
       "      <th>4</th>\n",
       "      <td>7.662240</td>\n",
       "      <td>0.006442</td>\n",
       "      <td>0.627995</td>\n",
       "      <td>-0.010259</td>\n",
       "      <td>0.991815</td>\n",
       "      <td>0.999109</td>\n",
       "      <td>ABAT</td>\n",
       "      <td>ABAT</td>\n",
       "    </tr>\n",
       "  </tbody>\n",
       "</table>\n",
       "</div>"
      ],
      "text/plain": [
       "    baseMean  log2FoldChange     lfcSE      stat    pvalue      padj  genes  \\\n",
       "0   0.000000       -0.000000       NaN       NaN  0.000000       NaN   A1BG   \n",
       "1  11.364008        0.122771  0.548818 -0.223702  0.822989  0.995380   NAT1   \n",
       "2  20.419774        0.609135  0.395090 -1.541763  0.123131  0.995380   AAMP   \n",
       "3  16.433890       -0.000542  0.430949  0.001258  0.998996  0.999646  AARS1   \n",
       "4   7.662240        0.006442  0.627995 -0.010259  0.991815  0.999109   ABAT   \n",
       "\n",
       "  gene_id  \n",
       "0    A1BG  \n",
       "1    NAT1  \n",
       "2    AAMP  \n",
       "3   AARS1  \n",
       "4    ABAT  "
      ]
     },
     "execution_count": 243,
     "metadata": {},
     "output_type": "execute_result"
    }
   ],
   "source": [
    "# MV411_MYCi361 1h tccounts ERCC\n",
    "resGene_tc.head()"
   ]
  },
  {
   "cell_type": "code",
   "execution_count": 244,
   "id": "3704f713",
   "metadata": {
    "hidden": true
   },
   "outputs": [
    {
     "data": {
      "text/html": [
       "<div>\n",
       "<style scoped>\n",
       "    .dataframe tbody tr th:only-of-type {\n",
       "        vertical-align: middle;\n",
       "    }\n",
       "\n",
       "    .dataframe tbody tr th {\n",
       "        vertical-align: top;\n",
       "    }\n",
       "\n",
       "    .dataframe thead th {\n",
       "        text-align: right;\n",
       "    }\n",
       "</style>\n",
       "<table border=\"1\" class=\"dataframe\">\n",
       "  <thead>\n",
       "    <tr style=\"text-align: right;\">\n",
       "      <th></th>\n",
       "      <th>baseMean</th>\n",
       "      <th>log2FoldChange</th>\n",
       "      <th>lfcSE</th>\n",
       "      <th>stat</th>\n",
       "      <th>pvalue</th>\n",
       "      <th>padj</th>\n",
       "      <th>genes</th>\n",
       "      <th>gene_id</th>\n",
       "    </tr>\n",
       "  </thead>\n",
       "  <tbody>\n",
       "    <tr>\n",
       "      <th>0</th>\n",
       "      <td>0.338187</td>\n",
       "      <td>-0.374661</td>\n",
       "      <td>2.815385</td>\n",
       "      <td>0.133076</td>\n",
       "      <td>0.894133</td>\n",
       "      <td>0.999342</td>\n",
       "      <td>A1BG</td>\n",
       "      <td>A1BG</td>\n",
       "    </tr>\n",
       "    <tr>\n",
       "      <th>1</th>\n",
       "      <td>76.332710</td>\n",
       "      <td>-0.339530</td>\n",
       "      <td>0.281944</td>\n",
       "      <td>1.204246</td>\n",
       "      <td>0.228495</td>\n",
       "      <td>0.999342</td>\n",
       "      <td>NAT1</td>\n",
       "      <td>NAT1</td>\n",
       "    </tr>\n",
       "    <tr>\n",
       "      <th>2</th>\n",
       "      <td>580.397493</td>\n",
       "      <td>0.242652</td>\n",
       "      <td>0.170277</td>\n",
       "      <td>-1.425040</td>\n",
       "      <td>0.154146</td>\n",
       "      <td>0.999342</td>\n",
       "      <td>AAMP</td>\n",
       "      <td>AAMP</td>\n",
       "    </tr>\n",
       "    <tr>\n",
       "      <th>3</th>\n",
       "      <td>724.526141</td>\n",
       "      <td>0.079566</td>\n",
       "      <td>0.168190</td>\n",
       "      <td>-0.473076</td>\n",
       "      <td>0.636159</td>\n",
       "      <td>0.999342</td>\n",
       "      <td>AARS1</td>\n",
       "      <td>AARS1</td>\n",
       "    </tr>\n",
       "    <tr>\n",
       "      <th>4</th>\n",
       "      <td>218.686060</td>\n",
       "      <td>0.025266</td>\n",
       "      <td>0.163593</td>\n",
       "      <td>-0.154446</td>\n",
       "      <td>0.877258</td>\n",
       "      <td>0.999342</td>\n",
       "      <td>ABAT</td>\n",
       "      <td>ABAT</td>\n",
       "    </tr>\n",
       "  </tbody>\n",
       "</table>\n",
       "</div>"
      ],
      "text/plain": [
       "     baseMean  log2FoldChange     lfcSE      stat    pvalue      padj  genes  \\\n",
       "0    0.338187       -0.374661  2.815385  0.133076  0.894133  0.999342   A1BG   \n",
       "1   76.332710       -0.339530  0.281944  1.204246  0.228495  0.999342   NAT1   \n",
       "2  580.397493        0.242652  0.170277 -1.425040  0.154146  0.999342   AAMP   \n",
       "3  724.526141        0.079566  0.168190 -0.473076  0.636159  0.999342  AARS1   \n",
       "4  218.686060        0.025266  0.163593 -0.154446  0.877258  0.999342   ABAT   \n",
       "\n",
       "  gene_id  \n",
       "0    A1BG  \n",
       "1    NAT1  \n",
       "2    AAMP  \n",
       "3   AARS1  \n",
       "4    ABAT  "
      ]
     },
     "execution_count": 244,
     "metadata": {},
     "output_type": "execute_result"
    }
   ],
   "source": [
    "# MV411_MYCi361 1h readcounts ERCC\n",
    "resGene_read.head()"
   ]
  },
  {
   "cell_type": "markdown",
   "id": "07286c2d",
   "metadata": {
    "hidden": true
   },
   "source": [
    "__save DESeq results__"
   ]
  },
  {
   "cell_type": "code",
   "execution_count": 245,
   "id": "6d67516c",
   "metadata": {
    "hidden": true
   },
   "outputs": [],
   "source": [
    "# check all genes are in output\n",
    "if not tccounts.shape[0] == resGene_tc.shape[0]:\n",
    "    raise ValueError(\"Results do not have the same number of genes as counts.\")\n",
    "\n",
    "if not tccounts[\"genes\"].isin(resGene_tc[\"genes\"]).all():\n",
    "    raise ValueError(\"Results do not have the same genes as counts.\")"
   ]
  },
  {
   "cell_type": "code",
   "execution_count": 246,
   "id": "bd3e5b55",
   "metadata": {
    "hidden": true
   },
   "outputs": [
    {
     "data": {
      "text/plain": [
       "'inhibitors_v2_MV411_DMSO_MYCi361_ERCCsamplewise_0_5_deseq_tccounts.csv'"
      ]
     },
     "execution_count": 246,
     "metadata": {},
     "output_type": "execute_result"
    }
   ],
   "source": [
    "\"{}_{}_deseq_tccounts.csv\".format(project, \"_\".join(\n",
    "    filter(None, [var, var1, var2, scaling, str(minvar_toremove), str(mincount_toremove)])))"
   ]
  },
  {
   "cell_type": "code",
   "execution_count": 247,
   "id": "eeb7f926",
   "metadata": {
    "hidden": true
   },
   "outputs": [
    {
     "name": "stdout",
     "output_type": "stream",
     "text": [
      "Saved DESeq results to: inhibitors_v2_MV411_DMSO_MYCi361_ERCCsamplewise_0_5_deseq_tccounts.csv\n"
     ]
    }
   ],
   "source": [
    "# tccounts\n",
    "deseq_res_file = \"{}_{}_deseq_tccounts.csv\".format(project, \"_\".join(\n",
    "    filter(None, [var, var1, var2, scaling, str(minvar_toremove), str(mincount_toremove)])))\n",
    "resGene_tc.to_csv(\"{}/{}\".format(res_dir, deseq_res_file), index=False)\n",
    "\n",
    "print(\"Saved DESeq results to: {}\".format(deseq_res_file))"
   ]
  },
  {
   "cell_type": "code",
   "execution_count": 248,
   "id": "9f7b94c7",
   "metadata": {
    "hidden": true
   },
   "outputs": [
    {
     "name": "stdout",
     "output_type": "stream",
     "text": [
      "Saved DESeq results to: inhibitors_v2_MV411_DMSO_MYCi361_ERCCsamplewise_0_5_deseq_readcounts.csv\n"
     ]
    }
   ],
   "source": [
    "# readcounts\n",
    "deseq_res_file = \"{}_{}_deseq_readcounts.csv\".format(project, \"_\".join(\n",
    "    filter(None, [var, var1, var2, scaling, str(minvar_toremove), str(mincount_toremove)])))\n",
    "resGene_read.to_csv(\"{}/{}\".format(res_dir, deseq_res_file), index=False)\n",
    "\n",
    "print(\"Saved DESeq results to: {}\".format(deseq_res_file))"
   ]
  },
  {
   "cell_type": "markdown",
   "id": "9930673b",
   "metadata": {
    "heading_collapsed": true,
    "hidden": true
   },
   "source": [
    "### Unscaled"
   ]
  },
  {
   "cell_type": "code",
   "execution_count": 249,
   "id": "3faf836d",
   "metadata": {
    "hidden": true
   },
   "outputs": [],
   "source": [
    "scaling = None"
   ]
  },
  {
   "cell_type": "markdown",
   "id": "6a9b03ac",
   "metadata": {
    "hidden": true
   },
   "source": [
    "__make DESeq object__"
   ]
  },
  {
   "cell_type": "code",
   "execution_count": 250,
   "id": "9439db6f",
   "metadata": {
    "hidden": true
   },
   "outputs": [
    {
     "name": "stdout",
     "output_type": "stream",
     "text": [
      "you need to have R installed with the DESeq2 library installed\n",
      "3.4.5\n"
     ]
    }
   ],
   "source": [
    "# tccounts DESeq gene object\n",
    "# just var data\n",
    "deseqGene_tc = pyDESeq2.pyDESeq2(count_matrix=tccountsGene[tccountsGene.columns[np.array([1]+var_cols, bool)]], \n",
    "                                 design_matrix=design[np.array(var_cols, bool)],\n",
    "                                 design_formula=\"~{} - {}\".format(var1, var2),\n",
    "                                 gene_column=\"genes\")"
   ]
  },
  {
   "cell_type": "code",
   "execution_count": 251,
   "id": "95c951cc",
   "metadata": {
    "hidden": true
   },
   "outputs": [
    {
     "name": "stdout",
     "output_type": "stream",
     "text": [
      "you need to have R installed with the DESeq2 library installed\n",
      "3.4.5\n"
     ]
    }
   ],
   "source": [
    "# readcounts DESeq gene object\n",
    "deseqGene_read = pyDESeq2.pyDESeq2(count_matrix=readcountsGene[readcountsGene.columns[np.array([1]+var_cols, bool)]], \n",
    "                                   design_matrix=design[np.array(var_cols, bool)],\n",
    "                                   design_formula=\"~{} - {}\".format(var1, var2),\n",
    "                                   gene_column=\"genes\")"
   ]
  },
  {
   "cell_type": "markdown",
   "id": "c901544f",
   "metadata": {
    "hidden": true
   },
   "source": [
    "__estimate size factors__"
   ]
  },
  {
   "cell_type": "code",
   "execution_count": 252,
   "id": "b15f6856",
   "metadata": {
    "hidden": true
   },
   "outputs": [],
   "source": [
    "# tccounts\n",
    "deseqGene_tc.run_estimate_size_factors(geoMeans = np.exp(np.mean(np.log(\n",
    "    readcounts[tccountsGene.columns[[False]+design[var1].tolist()]].values+1), 1)))\n",
    "\n",
    "# readcounts\n",
    "deseqGene_read.run_estimate_size_factors()"
   ]
  },
  {
   "cell_type": "markdown",
   "id": "4ffe6bf9",
   "metadata": {
    "hidden": true
   },
   "source": [
    "__run it__"
   ]
  },
  {
   "cell_type": "code",
   "execution_count": 253,
   "id": "1d3143b9",
   "metadata": {
    "hidden": true
   },
   "outputs": [
    {
     "name": "stderr",
     "output_type": "stream",
     "text": [
      "R[write to console]: using pre-existing size factors\n",
      "\n",
      "R[write to console]: estimating dispersions\n",
      "\n",
      "R[write to console]: gene-wise dispersion estimates\n",
      "\n",
      "R[write to console]: mean-dispersion relationship\n",
      "\n",
      "R[write to console]: final dispersion estimates\n",
      "\n",
      "R[write to console]: fitting model and testing\n",
      "\n"
     ]
    },
    {
     "name": "stdout",
     "output_type": "stream",
     "text": [
      "CPU times: user 6.2 s, sys: 1.03 s, total: 7.23 s\n",
      "Wall time: 5.08 s\n"
     ]
    }
   ],
   "source": [
    "%%time\n",
    "\n",
    "# tccounts\n",
    "deseqGene_tc.run_deseq()\n",
    "deseqGene_tc.get_deseq_result()\n",
    "\n",
    "resGene_tc = deseqGene_tc.deseq_result\n",
    "resGene_tc.pvalue = np.nan_to_num(np.array(resGene_tc.pvalue), 1)\n",
    "resGene_tc.log2FoldChange = np.nan_to_num(np.array(resGene_tc.log2FoldChange), 0)\n",
    "resGene_tc.log2FoldChange = -resGene_tc.log2FoldChange\n",
    "resGene_tc[\"gene_id\"] = resGene_tc.genes"
   ]
  },
  {
   "cell_type": "code",
   "execution_count": 254,
   "id": "eb6396a6",
   "metadata": {
    "hidden": true
   },
   "outputs": [
    {
     "name": "stderr",
     "output_type": "stream",
     "text": [
      "R[write to console]: using pre-existing size factors\n",
      "\n",
      "R[write to console]: estimating dispersions\n",
      "\n",
      "R[write to console]: gene-wise dispersion estimates\n",
      "\n",
      "R[write to console]: mean-dispersion relationship\n",
      "\n",
      "R[write to console]: final dispersion estimates\n",
      "\n",
      "R[write to console]: fitting model and testing\n",
      "\n"
     ]
    },
    {
     "name": "stdout",
     "output_type": "stream",
     "text": [
      "CPU times: user 6.8 s, sys: 1.26 s, total: 8.06 s\n",
      "Wall time: 5.35 s\n"
     ]
    }
   ],
   "source": [
    "%%time\n",
    "\n",
    "#readcounts\n",
    "deseqGene_read.run_deseq()\n",
    "deseqGene_read.get_deseq_result()\n",
    "\n",
    "resGene_read = deseqGene_read.deseq_result\n",
    "resGene_read.pvalue = np.nan_to_num(np.array(resGene_read.pvalue), 1)\n",
    "resGene_read.log2FoldChange = np.nan_to_num(np.array(resGene_read.log2FoldChange), 0)\n",
    "resGene_read.log2FoldChange = -resGene_read.log2FoldChange\n",
    "resGene_read[\"gene_id\"] = resGene_read.genes"
   ]
  },
  {
   "cell_type": "code",
   "execution_count": 255,
   "id": "be8418a2",
   "metadata": {
    "hidden": true
   },
   "outputs": [
    {
     "data": {
      "text/html": [
       "<div>\n",
       "<style scoped>\n",
       "    .dataframe tbody tr th:only-of-type {\n",
       "        vertical-align: middle;\n",
       "    }\n",
       "\n",
       "    .dataframe tbody tr th {\n",
       "        vertical-align: top;\n",
       "    }\n",
       "\n",
       "    .dataframe thead th {\n",
       "        text-align: right;\n",
       "    }\n",
       "</style>\n",
       "<table border=\"1\" class=\"dataframe\">\n",
       "  <thead>\n",
       "    <tr style=\"text-align: right;\">\n",
       "      <th></th>\n",
       "      <th>baseMean</th>\n",
       "      <th>log2FoldChange</th>\n",
       "      <th>lfcSE</th>\n",
       "      <th>stat</th>\n",
       "      <th>pvalue</th>\n",
       "      <th>padj</th>\n",
       "      <th>genes</th>\n",
       "      <th>gene_id</th>\n",
       "    </tr>\n",
       "  </thead>\n",
       "  <tbody>\n",
       "    <tr>\n",
       "      <th>0</th>\n",
       "      <td>0.000000</td>\n",
       "      <td>-0.000000</td>\n",
       "      <td>NaN</td>\n",
       "      <td>NaN</td>\n",
       "      <td>0.000000</td>\n",
       "      <td>NaN</td>\n",
       "      <td>A1BG</td>\n",
       "      <td>A1BG</td>\n",
       "    </tr>\n",
       "    <tr>\n",
       "      <th>1</th>\n",
       "      <td>11.139024</td>\n",
       "      <td>0.069253</td>\n",
       "      <td>0.524979</td>\n",
       "      <td>-0.131917</td>\n",
       "      <td>0.895050</td>\n",
       "      <td>NaN</td>\n",
       "      <td>NAT1</td>\n",
       "      <td>NAT1</td>\n",
       "    </tr>\n",
       "    <tr>\n",
       "      <th>2</th>\n",
       "      <td>20.402543</td>\n",
       "      <td>0.595437</td>\n",
       "      <td>0.379312</td>\n",
       "      <td>-1.569782</td>\n",
       "      <td>0.116466</td>\n",
       "      <td>NaN</td>\n",
       "      <td>AAMP</td>\n",
       "      <td>AAMP</td>\n",
       "    </tr>\n",
       "    <tr>\n",
       "      <th>3</th>\n",
       "      <td>16.464883</td>\n",
       "      <td>-0.008392</td>\n",
       "      <td>0.416799</td>\n",
       "      <td>0.020135</td>\n",
       "      <td>0.983936</td>\n",
       "      <td>NaN</td>\n",
       "      <td>AARS1</td>\n",
       "      <td>AARS1</td>\n",
       "    </tr>\n",
       "    <tr>\n",
       "      <th>4</th>\n",
       "      <td>7.628665</td>\n",
       "      <td>-0.015023</td>\n",
       "      <td>0.611296</td>\n",
       "      <td>0.024575</td>\n",
       "      <td>0.980394</td>\n",
       "      <td>NaN</td>\n",
       "      <td>ABAT</td>\n",
       "      <td>ABAT</td>\n",
       "    </tr>\n",
       "  </tbody>\n",
       "</table>\n",
       "</div>"
      ],
      "text/plain": [
       "    baseMean  log2FoldChange     lfcSE      stat    pvalue  padj  genes  \\\n",
       "0   0.000000       -0.000000       NaN       NaN  0.000000   NaN   A1BG   \n",
       "1  11.139024        0.069253  0.524979 -0.131917  0.895050   NaN   NAT1   \n",
       "2  20.402543        0.595437  0.379312 -1.569782  0.116466   NaN   AAMP   \n",
       "3  16.464883       -0.008392  0.416799  0.020135  0.983936   NaN  AARS1   \n",
       "4   7.628665       -0.015023  0.611296  0.024575  0.980394   NaN   ABAT   \n",
       "\n",
       "  gene_id  \n",
       "0    A1BG  \n",
       "1    NAT1  \n",
       "2    AAMP  \n",
       "3   AARS1  \n",
       "4    ABAT  "
      ]
     },
     "execution_count": 255,
     "metadata": {},
     "output_type": "execute_result"
    }
   ],
   "source": [
    "# MV411_MYCi361 1h tccounts unscaled\n",
    "resGene_tc.head()"
   ]
  },
  {
   "cell_type": "code",
   "execution_count": 256,
   "id": "08cf3828",
   "metadata": {
    "hidden": true
   },
   "outputs": [
    {
     "data": {
      "text/html": [
       "<div>\n",
       "<style scoped>\n",
       "    .dataframe tbody tr th:only-of-type {\n",
       "        vertical-align: middle;\n",
       "    }\n",
       "\n",
       "    .dataframe tbody tr th {\n",
       "        vertical-align: top;\n",
       "    }\n",
       "\n",
       "    .dataframe thead th {\n",
       "        text-align: right;\n",
       "    }\n",
       "</style>\n",
       "<table border=\"1\" class=\"dataframe\">\n",
       "  <thead>\n",
       "    <tr style=\"text-align: right;\">\n",
       "      <th></th>\n",
       "      <th>baseMean</th>\n",
       "      <th>log2FoldChange</th>\n",
       "      <th>lfcSE</th>\n",
       "      <th>stat</th>\n",
       "      <th>pvalue</th>\n",
       "      <th>padj</th>\n",
       "      <th>genes</th>\n",
       "      <th>gene_id</th>\n",
       "    </tr>\n",
       "  </thead>\n",
       "  <tbody>\n",
       "    <tr>\n",
       "      <th>0</th>\n",
       "      <td>0.353851</td>\n",
       "      <td>-0.375675</td>\n",
       "      <td>2.655547</td>\n",
       "      <td>0.141468</td>\n",
       "      <td>0.887500</td>\n",
       "      <td>NaN</td>\n",
       "      <td>A1BG</td>\n",
       "      <td>A1BG</td>\n",
       "    </tr>\n",
       "    <tr>\n",
       "      <th>1</th>\n",
       "      <td>75.432054</td>\n",
       "      <td>-0.370880</td>\n",
       "      <td>0.249294</td>\n",
       "      <td>1.487721</td>\n",
       "      <td>0.136824</td>\n",
       "      <td>0.990933</td>\n",
       "      <td>NAT1</td>\n",
       "      <td>NAT1</td>\n",
       "    </tr>\n",
       "    <tr>\n",
       "      <th>2</th>\n",
       "      <td>579.437598</td>\n",
       "      <td>0.238504</td>\n",
       "      <td>0.151507</td>\n",
       "      <td>-1.574217</td>\n",
       "      <td>0.115437</td>\n",
       "      <td>0.974605</td>\n",
       "      <td>AAMP</td>\n",
       "      <td>AAMP</td>\n",
       "    </tr>\n",
       "    <tr>\n",
       "      <th>3</th>\n",
       "      <td>725.049027</td>\n",
       "      <td>0.081247</td>\n",
       "      <td>0.160884</td>\n",
       "      <td>-0.505005</td>\n",
       "      <td>0.613556</td>\n",
       "      <td>0.998654</td>\n",
       "      <td>AARS1</td>\n",
       "      <td>AARS1</td>\n",
       "    </tr>\n",
       "    <tr>\n",
       "      <th>4</th>\n",
       "      <td>218.888414</td>\n",
       "      <td>0.025147</td>\n",
       "      <td>0.145837</td>\n",
       "      <td>-0.172434</td>\n",
       "      <td>0.863097</td>\n",
       "      <td>0.998654</td>\n",
       "      <td>ABAT</td>\n",
       "      <td>ABAT</td>\n",
       "    </tr>\n",
       "  </tbody>\n",
       "</table>\n",
       "</div>"
      ],
      "text/plain": [
       "     baseMean  log2FoldChange     lfcSE      stat    pvalue      padj  genes  \\\n",
       "0    0.353851       -0.375675  2.655547  0.141468  0.887500       NaN   A1BG   \n",
       "1   75.432054       -0.370880  0.249294  1.487721  0.136824  0.990933   NAT1   \n",
       "2  579.437598        0.238504  0.151507 -1.574217  0.115437  0.974605   AAMP   \n",
       "3  725.049027        0.081247  0.160884 -0.505005  0.613556  0.998654  AARS1   \n",
       "4  218.888414        0.025147  0.145837 -0.172434  0.863097  0.998654   ABAT   \n",
       "\n",
       "  gene_id  \n",
       "0    A1BG  \n",
       "1    NAT1  \n",
       "2    AAMP  \n",
       "3   AARS1  \n",
       "4    ABAT  "
      ]
     },
     "execution_count": 256,
     "metadata": {},
     "output_type": "execute_result"
    }
   ],
   "source": [
    "# MV411_MYCi361 1h readcounts unscaled\n",
    "resGene_read.head()"
   ]
  },
  {
   "cell_type": "markdown",
   "id": "19ac1831",
   "metadata": {
    "hidden": true
   },
   "source": [
    "__save DESeq results__"
   ]
  },
  {
   "cell_type": "code",
   "execution_count": 257,
   "id": "f9b3a3f1",
   "metadata": {
    "hidden": true
   },
   "outputs": [],
   "source": [
    "# check all genes are in output\n",
    "if not tccounts.shape[0] == resGene_tc.shape[0]:\n",
    "    raise ValueError(\"Results do not have the same number of genes as counts.\")\n",
    "\n",
    "if not tccounts[\"genes\"].isin(resGene_tc[\"genes\"]).all():\n",
    "    raise ValueError(\"Results do not have the same genes as counts.\")"
   ]
  },
  {
   "cell_type": "code",
   "execution_count": 258,
   "id": "d123212a",
   "metadata": {
    "hidden": true
   },
   "outputs": [
    {
     "data": {
      "text/plain": [
       "'inhibitors_v2_MV411_DMSO_MYCi361_0_5_deseq_tccounts.csv'"
      ]
     },
     "execution_count": 258,
     "metadata": {},
     "output_type": "execute_result"
    }
   ],
   "source": [
    "\"{}_{}_deseq_tccounts.csv\".format(project, \"_\".join(\n",
    "    filter(None, [var, var1, var2, scaling, str(minvar_toremove), str(mincount_toremove)])))"
   ]
  },
  {
   "cell_type": "code",
   "execution_count": 259,
   "id": "098e5444",
   "metadata": {
    "hidden": true
   },
   "outputs": [
    {
     "name": "stdout",
     "output_type": "stream",
     "text": [
      "Saved DESeq results to: inhibitors_v2_MV411_DMSO_MYCi361_0_5_deseq_tccounts.csv\n"
     ]
    }
   ],
   "source": [
    "# tccounts\n",
    "deseq_res_file = \"{}_{}_deseq_tccounts.csv\".format(project, \"_\".join(\n",
    "    filter(None, [var, var1, var2, scaling, str(minvar_toremove), str(mincount_toremove)])))\n",
    "resGene_tc.to_csv(\"{}/{}\".format(res_dir, deseq_res_file), index=False)\n",
    "\n",
    "print(\"Saved DESeq results to: {}\".format(deseq_res_file))"
   ]
  },
  {
   "cell_type": "code",
   "execution_count": 260,
   "id": "e711cbb7",
   "metadata": {
    "hidden": true
   },
   "outputs": [
    {
     "name": "stdout",
     "output_type": "stream",
     "text": [
      "Saved DESeq results to: inhibitors_v2_MV411_DMSO_MYCi361_0_5_deseq_readcounts.csv\n"
     ]
    }
   ],
   "source": [
    "# readcounts\n",
    "deseq_res_file = \"{}_{}_deseq_readcounts.csv\".format(project, \"_\".join(\n",
    "    filter(None, [var, var1, var2, scaling, str(minvar_toremove), str(mincount_toremove)])))\n",
    "resGene_read.to_csv(\"{}/{}\".format(res_dir, deseq_res_file), index=False)\n",
    "\n",
    "print(\"Saved DESeq results to: {}\".format(deseq_res_file))"
   ]
  },
  {
   "cell_type": "markdown",
   "id": "cbd2920a",
   "metadata": {
    "heading_collapsed": true
   },
   "source": [
    "## MV411 THZ1 1h"
   ]
  },
  {
   "cell_type": "markdown",
   "id": "3452c55a",
   "metadata": {
    "heading_collapsed": true,
    "hidden": true
   },
   "source": [
    "### make design matrix"
   ]
  },
  {
   "cell_type": "code",
   "execution_count": 330,
   "id": "03c1a9b7",
   "metadata": {
    "hidden": true
   },
   "outputs": [],
   "source": [
    "# MV411 THZ1 inhibitor 1h\n",
    "version = \"v1\"\n",
    "var_name = \"experiment\"\n",
    "var = \"MV411\"\n",
    "var1 = \"DMSO\"\n",
    "var2 = \"THZ1\"\n",
    "drop_rep = exp_design.loc[(exp_design[var_name] == var) & (exp_design[\"drop\"] == True), \"col\"]"
   ]
  },
  {
   "cell_type": "code",
   "execution_count": 331,
   "id": "33f4f71c",
   "metadata": {
    "hidden": true
   },
   "outputs": [],
   "source": [
    "# tccounts\n",
    "tccountsGene = tccounts[tccounts.columns[:-1]]\n",
    "\n",
    "# readcounts\n",
    "readcountsGene = readcounts[readcounts.columns[:-1]]"
   ]
  },
  {
   "cell_type": "markdown",
   "id": "904746f8",
   "metadata": {
    "hidden": true
   },
   "source": [
    "be careful that var_cols are only the samples being used for DESeq comparison!"
   ]
  },
  {
   "cell_type": "code",
   "execution_count": 332,
   "id": "9f978373",
   "metadata": {
    "hidden": true
   },
   "outputs": [],
   "source": [
    "# get just var data\n",
    "# remove dropped reps\n",
    "var1_cols = [1 if (exp_design.iloc[idx][var_name] == var) and (exp_design.iloc[idx][\"treatment\"] == var1) and\n",
    "             (exp_design.iloc[idx][\"drop\"] == False) else 0 for idx in range(exp_design.shape[0])]\n",
    "\n",
    "var2_cols = [1 if (exp_design.iloc[idx][var_name] == var) and (exp_design.iloc[idx][\"treatment\"] == var2) and \n",
    "            (exp_design.iloc[idx][\"drop\"] == False) else 0 for idx in range(exp_design.shape[0])]\n",
    "\n",
    "var_cols = [sum(x) for x in zip(var1_cols, var2_cols)]"
   ]
  },
  {
   "cell_type": "code",
   "execution_count": 333,
   "id": "db200c68",
   "metadata": {
    "hidden": true
   },
   "outputs": [],
   "source": [
    "# all columns\n",
    "design = pd.DataFrame(index= [i.replace(\"-\",\".\") for i in tccountsGene.columns], \n",
    "                      columns=[var1, var2], \n",
    "                      data=np.array([var1_cols, var2_cols], dtype=bool).T)"
   ]
  },
  {
   "cell_type": "code",
   "execution_count": 334,
   "id": "ce43c460",
   "metadata": {
    "collapsed": true,
    "hidden": true
   },
   "outputs": [
    {
     "data": {
      "text/html": [
       "<div>\n",
       "<style scoped>\n",
       "    .dataframe tbody tr th:only-of-type {\n",
       "        vertical-align: middle;\n",
       "    }\n",
       "\n",
       "    .dataframe tbody tr th {\n",
       "        vertical-align: top;\n",
       "    }\n",
       "\n",
       "    .dataframe thead th {\n",
       "        text-align: right;\n",
       "    }\n",
       "</style>\n",
       "<table border=\"1\" class=\"dataframe\">\n",
       "  <thead>\n",
       "    <tr style=\"text-align: right;\">\n",
       "      <th></th>\n",
       "      <th>DMSO</th>\n",
       "      <th>THZ1</th>\n",
       "    </tr>\n",
       "  </thead>\n",
       "  <tbody>\n",
       "    <tr>\n",
       "      <th>mr590.MV411.DMSO_1h.r1_tcount</th>\n",
       "      <td>True</td>\n",
       "      <td>False</td>\n",
       "    </tr>\n",
       "    <tr>\n",
       "      <th>mr591.MV411.DMSO_1h.r2_tcount</th>\n",
       "      <td>True</td>\n",
       "      <td>False</td>\n",
       "    </tr>\n",
       "    <tr>\n",
       "      <th>mr592.MV411.DMSO_1h.r3_tcount</th>\n",
       "      <td>True</td>\n",
       "      <td>False</td>\n",
       "    </tr>\n",
       "    <tr>\n",
       "      <th>mr593.MV411.DMSO_1h.r4_tcount</th>\n",
       "      <td>True</td>\n",
       "      <td>False</td>\n",
       "    </tr>\n",
       "    <tr>\n",
       "      <th>mr594.MV411.MS2_1h.r1_tcount</th>\n",
       "      <td>False</td>\n",
       "      <td>False</td>\n",
       "    </tr>\n",
       "    <tr>\n",
       "      <th>mr595.MV411.MS2_1h.r2_tcount</th>\n",
       "      <td>False</td>\n",
       "      <td>False</td>\n",
       "    </tr>\n",
       "    <tr>\n",
       "      <th>mr596.MV411.MS2_1h.r3_tcount</th>\n",
       "      <td>False</td>\n",
       "      <td>False</td>\n",
       "    </tr>\n",
       "    <tr>\n",
       "      <th>mr597.MV411.MS2_1h.r4_tcount</th>\n",
       "      <td>False</td>\n",
       "      <td>False</td>\n",
       "    </tr>\n",
       "    <tr>\n",
       "      <th>mr598.MV411.JQ1_1h.r1_tcount</th>\n",
       "      <td>False</td>\n",
       "      <td>False</td>\n",
       "    </tr>\n",
       "    <tr>\n",
       "      <th>mr599.MV411.JQ1_1h.r2_tcount</th>\n",
       "      <td>False</td>\n",
       "      <td>False</td>\n",
       "    </tr>\n",
       "    <tr>\n",
       "      <th>mr600.MV411.JQ1_1h.r3_tcount</th>\n",
       "      <td>False</td>\n",
       "      <td>False</td>\n",
       "    </tr>\n",
       "    <tr>\n",
       "      <th>mr601.MV411.JQ1_1h.r4_tcount</th>\n",
       "      <td>False</td>\n",
       "      <td>False</td>\n",
       "    </tr>\n",
       "    <tr>\n",
       "      <th>mr602.MV411.MYCi361_1h.r1_tcount</th>\n",
       "      <td>False</td>\n",
       "      <td>False</td>\n",
       "    </tr>\n",
       "    <tr>\n",
       "      <th>mr603.MV411.MYCi361_1h.r2_tcount</th>\n",
       "      <td>False</td>\n",
       "      <td>False</td>\n",
       "    </tr>\n",
       "    <tr>\n",
       "      <th>mr604.MV411.MYCi361_1h.r3_tcount</th>\n",
       "      <td>False</td>\n",
       "      <td>False</td>\n",
       "    </tr>\n",
       "    <tr>\n",
       "      <th>mr605.MV411.MYCi361_1h.r4_tcount</th>\n",
       "      <td>False</td>\n",
       "      <td>False</td>\n",
       "    </tr>\n",
       "    <tr>\n",
       "      <th>mr606.MV411.THZ1_1h.r1_tcount</th>\n",
       "      <td>False</td>\n",
       "      <td>True</td>\n",
       "    </tr>\n",
       "    <tr>\n",
       "      <th>mr607.MV411.THZ1_1h.r2_tcount</th>\n",
       "      <td>False</td>\n",
       "      <td>True</td>\n",
       "    </tr>\n",
       "    <tr>\n",
       "      <th>mr608.MV411.THZ1_1h.r3_tcount</th>\n",
       "      <td>False</td>\n",
       "      <td>True</td>\n",
       "    </tr>\n",
       "    <tr>\n",
       "      <th>mr609.MV411.THZ1_1h.r4_tcount</th>\n",
       "      <td>False</td>\n",
       "      <td>True</td>\n",
       "    </tr>\n",
       "    <tr>\n",
       "      <th>mr610.MV411.JQ1_MS2_1h.r1_tcount</th>\n",
       "      <td>False</td>\n",
       "      <td>False</td>\n",
       "    </tr>\n",
       "    <tr>\n",
       "      <th>mr611.MV411.JQ1_MS2_1h.r2_tcount</th>\n",
       "      <td>False</td>\n",
       "      <td>False</td>\n",
       "    </tr>\n",
       "    <tr>\n",
       "      <th>mr612.MV411.JQ1_MS2_1h.r3_tcount</th>\n",
       "      <td>False</td>\n",
       "      <td>False</td>\n",
       "    </tr>\n",
       "    <tr>\n",
       "      <th>mr613.MV411.JQ1_MS2_1h.r4_tcount</th>\n",
       "      <td>False</td>\n",
       "      <td>False</td>\n",
       "    </tr>\n",
       "    <tr>\n",
       "      <th>mr614.MV411.JQ1_THZ1_1h.r1_tcount</th>\n",
       "      <td>False</td>\n",
       "      <td>False</td>\n",
       "    </tr>\n",
       "    <tr>\n",
       "      <th>mr615.MV411.JQ1_THZ1_1h.r2_tcount</th>\n",
       "      <td>False</td>\n",
       "      <td>False</td>\n",
       "    </tr>\n",
       "    <tr>\n",
       "      <th>mr616.MV411.JQ1_THZ1_1h.r3_tcount</th>\n",
       "      <td>False</td>\n",
       "      <td>False</td>\n",
       "    </tr>\n",
       "    <tr>\n",
       "      <th>mr617.MV411.JQ1_THZ1_1h.r4_tcount</th>\n",
       "      <td>False</td>\n",
       "      <td>False</td>\n",
       "    </tr>\n",
       "  </tbody>\n",
       "</table>\n",
       "</div>"
      ],
      "text/plain": [
       "                                    DMSO   THZ1\n",
       "mr590.MV411.DMSO_1h.r1_tcount       True  False\n",
       "mr591.MV411.DMSO_1h.r2_tcount       True  False\n",
       "mr592.MV411.DMSO_1h.r3_tcount       True  False\n",
       "mr593.MV411.DMSO_1h.r4_tcount       True  False\n",
       "mr594.MV411.MS2_1h.r1_tcount       False  False\n",
       "mr595.MV411.MS2_1h.r2_tcount       False  False\n",
       "mr596.MV411.MS2_1h.r3_tcount       False  False\n",
       "mr597.MV411.MS2_1h.r4_tcount       False  False\n",
       "mr598.MV411.JQ1_1h.r1_tcount       False  False\n",
       "mr599.MV411.JQ1_1h.r2_tcount       False  False\n",
       "mr600.MV411.JQ1_1h.r3_tcount       False  False\n",
       "mr601.MV411.JQ1_1h.r4_tcount       False  False\n",
       "mr602.MV411.MYCi361_1h.r1_tcount   False  False\n",
       "mr603.MV411.MYCi361_1h.r2_tcount   False  False\n",
       "mr604.MV411.MYCi361_1h.r3_tcount   False  False\n",
       "mr605.MV411.MYCi361_1h.r4_tcount   False  False\n",
       "mr606.MV411.THZ1_1h.r1_tcount      False   True\n",
       "mr607.MV411.THZ1_1h.r2_tcount      False   True\n",
       "mr608.MV411.THZ1_1h.r3_tcount      False   True\n",
       "mr609.MV411.THZ1_1h.r4_tcount      False   True\n",
       "mr610.MV411.JQ1_MS2_1h.r1_tcount   False  False\n",
       "mr611.MV411.JQ1_MS2_1h.r2_tcount   False  False\n",
       "mr612.MV411.JQ1_MS2_1h.r3_tcount   False  False\n",
       "mr613.MV411.JQ1_MS2_1h.r4_tcount   False  False\n",
       "mr614.MV411.JQ1_THZ1_1h.r1_tcount  False  False\n",
       "mr615.MV411.JQ1_THZ1_1h.r2_tcount  False  False\n",
       "mr616.MV411.JQ1_THZ1_1h.r3_tcount  False  False\n",
       "mr617.MV411.JQ1_THZ1_1h.r4_tcount  False  False"
      ]
     },
     "execution_count": 334,
     "metadata": {},
     "output_type": "execute_result"
    }
   ],
   "source": [
    "design"
   ]
  },
  {
   "cell_type": "code",
   "execution_count": 335,
   "id": "29e17247",
   "metadata": {
    "hidden": true
   },
   "outputs": [],
   "source": [
    "# genes as first column\n",
    "tccountsGene = tccounts[['genes']+list(tccountsGene.columns)]\n",
    "readcountsGene = readcounts[['genes']+list(readcountsGene.columns)]"
   ]
  },
  {
   "cell_type": "markdown",
   "id": "c8afafb7",
   "metadata": {
    "heading_collapsed": true,
    "hidden": true
   },
   "source": [
    "### ERCC samplewise scaled"
   ]
  },
  {
   "cell_type": "code",
   "execution_count": 267,
   "id": "0e2bac53",
   "metadata": {
    "hidden": true
   },
   "outputs": [],
   "source": [
    "scaling=\"ERCCsamplewise\""
   ]
  },
  {
   "cell_type": "markdown",
   "id": "fc29b234",
   "metadata": {
    "hidden": true
   },
   "source": [
    "__make DESeq object__"
   ]
  },
  {
   "cell_type": "code",
   "execution_count": 268,
   "id": "bb0f6afb",
   "metadata": {
    "hidden": true
   },
   "outputs": [
    {
     "name": "stdout",
     "output_type": "stream",
     "text": [
      "you need to have R installed with the DESeq2 library installed\n",
      "3.4.5\n"
     ]
    }
   ],
   "source": [
    "# tccounts DESeq gene object\n",
    "deseqGene_tc = pyDESeq2.pyDESeq2(count_matrix=tccountsGene[tccountsGene.columns[np.array([1]+var_cols, bool)]], \n",
    "                                 design_matrix=design[np.array(var_cols, bool)],\n",
    "                                 design_formula=\"~{} - {}\".format(var1, var2),\n",
    "                                 gene_column=\"genes\")"
   ]
  },
  {
   "cell_type": "code",
   "execution_count": 269,
   "id": "7f3e5d9a",
   "metadata": {
    "hidden": true
   },
   "outputs": [
    {
     "name": "stdout",
     "output_type": "stream",
     "text": [
      "you need to have R installed with the DESeq2 library installed\n",
      "3.4.5\n"
     ]
    }
   ],
   "source": [
    "# readcounts DESeq gene object\n",
    "deseqGene_read = pyDESeq2.pyDESeq2(count_matrix=readcountsGene[readcountsGene.columns[np.array([1]+var_cols, bool)]], \n",
    "                                   design_matrix=design[np.array(var_cols, bool)],\n",
    "                                   design_formula=\"~{} - {}\".format(var1, var2),\n",
    "                                   gene_column=\"genes\")"
   ]
  },
  {
   "cell_type": "markdown",
   "id": "5f917cb4",
   "metadata": {
    "hidden": true
   },
   "source": [
    "__estimate & modify size factors__"
   ]
  },
  {
   "cell_type": "code",
   "execution_count": 270,
   "id": "aca579ca",
   "metadata": {
    "hidden": true
   },
   "outputs": [],
   "source": [
    "# tccounts\n",
    "deseqGene_tc.run_estimate_size_factors(geoMeans = np.exp(np.mean(np.log(\n",
    "    readcounts[tccountsGene.columns[[False]+design[var1].tolist()]].values+1), 1)))\n",
    "\n",
    "# readcounts\n",
    "deseqGene_read.run_estimate_size_factors()"
   ]
  },
  {
   "cell_type": "code",
   "execution_count": 271,
   "id": "87edb684",
   "metadata": {
    "hidden": true
   },
   "outputs": [
    {
     "data": {
      "text/plain": [
       "0\n",
       "ERCC_mr590-MV411-DMSO_1h-r1_filtered.bam    0.341648\n",
       "ERCC_mr591-MV411-DMSO_1h-r2_filtered.bam    0.329341\n",
       "ERCC_mr592-MV411-DMSO_1h-r3_filtered.bam    0.306805\n",
       "ERCC_mr593-MV411-DMSO_1h-r4_filtered.bam    0.326813\n",
       "ERCC_mr606-MV411-THZ1_1h-r1_filtered.bam    0.332162\n",
       "ERCC_mr607-MV411-THZ1_1h-r2_filtered.bam    0.307091\n",
       "ERCC_mr608-MV411-THZ1_1h-r3_filtered.bam    0.302844\n",
       "ERCC_mr609-MV411-THZ1_1h-r4_filtered.bam    0.331523\n",
       "Name: 1, dtype: float64"
      ]
     },
     "execution_count": 271,
     "metadata": {},
     "output_type": "execute_result"
    }
   ],
   "source": [
    "# read in ERCC pseudocounts\n",
    "res = pd.read_csv(res_dir+\"/\"+project+\"_scaling_factors.csv\", index_col=0, header=None, squeeze=True)\n",
    "\n",
    "# select var values\n",
    "res = res[np.array(var_cols, dtype=bool)]\n",
    "res"
   ]
  },
  {
   "cell_type": "markdown",
   "id": "a3394781",
   "metadata": {
    "hidden": true
   },
   "source": [
    "__modify size factors__\n",
    "<br> treatment size factor * adjusted treatment res (treatment res per sample / average DMSO res)"
   ]
  },
  {
   "cell_type": "code",
   "execution_count": 272,
   "id": "711faa05",
   "metadata": {
    "hidden": true
   },
   "outputs": [],
   "source": [
    "# tccounts\n",
    "sizeFact = deseqGene_tc.getSizeFactors()\n",
    "sizeFact[sum(var1_cols):] = sizeFact[sum(var1_cols):] * (res[[i for i in res.index if '-'+str(var2) in i]].values/\n",
    "                                                         res[[i for i in res.index if '-'+str(var1) in i]].values.mean())\n",
    "deseqGene_tc.setSizeFactors(sizeFact)"
   ]
  },
  {
   "cell_type": "code",
   "execution_count": 273,
   "id": "37b33dff",
   "metadata": {
    "hidden": true
   },
   "outputs": [
    {
     "data": {
      "text/plain": [
       "array([0.33216161, 0.30709091, 0.30284441, 0.33152302])"
      ]
     },
     "execution_count": 273,
     "metadata": {},
     "output_type": "execute_result"
    }
   ],
   "source": [
    "res[[i for i in res.index if '-'+str(var2) in i]].values"
   ]
  },
  {
   "cell_type": "code",
   "execution_count": 274,
   "id": "8feace8b",
   "metadata": {
    "hidden": true
   },
   "outputs": [],
   "source": [
    "# readcounts\n",
    "sizeFact = deseqGene_read.getSizeFactors()\n",
    "sizeFact[sum(var1_cols):] = sizeFact[sum(var1_cols):] * (res[[i for i in res.index if '-'+str(var2) in i]].values/\n",
    "                                                         res[[i for i in res.index if '-'+str(var1) in i]].values.mean())\n",
    "deseqGene_read.setSizeFactors(sizeFact)"
   ]
  },
  {
   "cell_type": "markdown",
   "id": "32edf700",
   "metadata": {
    "hidden": true
   },
   "source": [
    "__run it__"
   ]
  },
  {
   "cell_type": "code",
   "execution_count": 275,
   "id": "5abba855",
   "metadata": {
    "hidden": true
   },
   "outputs": [
    {
     "name": "stderr",
     "output_type": "stream",
     "text": [
      "R[write to console]: using pre-existing size factors\n",
      "\n",
      "R[write to console]: estimating dispersions\n",
      "\n",
      "R[write to console]: gene-wise dispersion estimates\n",
      "\n",
      "R[write to console]: mean-dispersion relationship\n",
      "\n",
      "R[write to console]: final dispersion estimates\n",
      "\n",
      "R[write to console]: fitting model and testing\n",
      "\n"
     ]
    },
    {
     "name": "stdout",
     "output_type": "stream",
     "text": [
      "CPU times: user 6.14 s, sys: 948 ms, total: 7.09 s\n",
      "Wall time: 5.09 s\n"
     ]
    }
   ],
   "source": [
    "%%time\n",
    "\n",
    "# tccounts\n",
    "deseqGene_tc.run_deseq()\n",
    "deseqGene_tc.get_deseq_result()\n",
    "\n",
    "resGene_tc = deseqGene_tc.deseq_result\n",
    "resGene_tc.pvalue = np.nan_to_num(np.array(resGene_tc.pvalue), 1)\n",
    "resGene_tc.log2FoldChange = np.nan_to_num(np.array(resGene_tc.log2FoldChange), 0)\n",
    "resGene_tc.log2FoldChange = -resGene_tc.log2FoldChange\n",
    "resGene_tc[\"gene_id\"] = resGene_tc.genes"
   ]
  },
  {
   "cell_type": "code",
   "execution_count": 276,
   "id": "32d953a6",
   "metadata": {
    "hidden": true
   },
   "outputs": [
    {
     "name": "stderr",
     "output_type": "stream",
     "text": [
      "R[write to console]: using pre-existing size factors\n",
      "\n",
      "R[write to console]: estimating dispersions\n",
      "\n",
      "R[write to console]: gene-wise dispersion estimates\n",
      "\n",
      "R[write to console]: mean-dispersion relationship\n",
      "\n",
      "R[write to console]: final dispersion estimates\n",
      "\n",
      "R[write to console]: fitting model and testing\n",
      "\n"
     ]
    },
    {
     "name": "stdout",
     "output_type": "stream",
     "text": [
      "CPU times: user 6.53 s, sys: 1.05 s, total: 7.58 s\n",
      "Wall time: 5.32 s\n"
     ]
    }
   ],
   "source": [
    "%%time\n",
    "\n",
    "#readcounts\n",
    "deseqGene_read.run_deseq()\n",
    "deseqGene_read.get_deseq_result()\n",
    "\n",
    "resGene_read = deseqGene_read.deseq_result\n",
    "resGene_read.pvalue = np.nan_to_num(np.array(resGene_read.pvalue), 1)\n",
    "resGene_read.log2FoldChange = np.nan_to_num(np.array(resGene_read.log2FoldChange), 0)\n",
    "resGene_read.log2FoldChange = -resGene_read.log2FoldChange\n",
    "resGene_read[\"gene_id\"] = resGene_read.genes"
   ]
  },
  {
   "cell_type": "code",
   "execution_count": 277,
   "id": "8749217c",
   "metadata": {
    "hidden": true
   },
   "outputs": [
    {
     "data": {
      "text/html": [
       "<div>\n",
       "<style scoped>\n",
       "    .dataframe tbody tr th:only-of-type {\n",
       "        vertical-align: middle;\n",
       "    }\n",
       "\n",
       "    .dataframe tbody tr th {\n",
       "        vertical-align: top;\n",
       "    }\n",
       "\n",
       "    .dataframe thead th {\n",
       "        text-align: right;\n",
       "    }\n",
       "</style>\n",
       "<table border=\"1\" class=\"dataframe\">\n",
       "  <thead>\n",
       "    <tr style=\"text-align: right;\">\n",
       "      <th></th>\n",
       "      <th>baseMean</th>\n",
       "      <th>log2FoldChange</th>\n",
       "      <th>lfcSE</th>\n",
       "      <th>stat</th>\n",
       "      <th>pvalue</th>\n",
       "      <th>padj</th>\n",
       "      <th>genes</th>\n",
       "      <th>gene_id</th>\n",
       "    </tr>\n",
       "  </thead>\n",
       "  <tbody>\n",
       "    <tr>\n",
       "      <th>0</th>\n",
       "      <td>0.000000</td>\n",
       "      <td>-0.000000</td>\n",
       "      <td>NaN</td>\n",
       "      <td>NaN</td>\n",
       "      <td>0.000000</td>\n",
       "      <td>NaN</td>\n",
       "      <td>A1BG</td>\n",
       "      <td>A1BG</td>\n",
       "    </tr>\n",
       "    <tr>\n",
       "      <th>1</th>\n",
       "      <td>16.341669</td>\n",
       "      <td>0.796559</td>\n",
       "      <td>0.456243</td>\n",
       "      <td>-1.745911</td>\n",
       "      <td>0.080826</td>\n",
       "      <td>0.341939</td>\n",
       "      <td>NAT1</td>\n",
       "      <td>NAT1</td>\n",
       "    </tr>\n",
       "    <tr>\n",
       "      <th>2</th>\n",
       "      <td>22.638732</td>\n",
       "      <td>0.650350</td>\n",
       "      <td>0.362258</td>\n",
       "      <td>-1.795266</td>\n",
       "      <td>0.072611</td>\n",
       "      <td>0.323883</td>\n",
       "      <td>AAMP</td>\n",
       "      <td>AAMP</td>\n",
       "    </tr>\n",
       "    <tr>\n",
       "      <th>3</th>\n",
       "      <td>19.577324</td>\n",
       "      <td>0.222348</td>\n",
       "      <td>0.352068</td>\n",
       "      <td>-0.631550</td>\n",
       "      <td>0.527681</td>\n",
       "      <td>0.809884</td>\n",
       "      <td>AARS1</td>\n",
       "      <td>AARS1</td>\n",
       "    </tr>\n",
       "    <tr>\n",
       "      <th>4</th>\n",
       "      <td>7.579216</td>\n",
       "      <td>-0.263466</td>\n",
       "      <td>0.654244</td>\n",
       "      <td>0.402702</td>\n",
       "      <td>0.687167</td>\n",
       "      <td>0.886090</td>\n",
       "      <td>ABAT</td>\n",
       "      <td>ABAT</td>\n",
       "    </tr>\n",
       "  </tbody>\n",
       "</table>\n",
       "</div>"
      ],
      "text/plain": [
       "    baseMean  log2FoldChange     lfcSE      stat    pvalue      padj  genes  \\\n",
       "0   0.000000       -0.000000       NaN       NaN  0.000000       NaN   A1BG   \n",
       "1  16.341669        0.796559  0.456243 -1.745911  0.080826  0.341939   NAT1   \n",
       "2  22.638732        0.650350  0.362258 -1.795266  0.072611  0.323883   AAMP   \n",
       "3  19.577324        0.222348  0.352068 -0.631550  0.527681  0.809884  AARS1   \n",
       "4   7.579216       -0.263466  0.654244  0.402702  0.687167  0.886090   ABAT   \n",
       "\n",
       "  gene_id  \n",
       "0    A1BG  \n",
       "1    NAT1  \n",
       "2    AAMP  \n",
       "3   AARS1  \n",
       "4    ABAT  "
      ]
     },
     "execution_count": 277,
     "metadata": {},
     "output_type": "execute_result"
    }
   ],
   "source": [
    "# MV411_THZ1 1h tccounts ERCC\n",
    "resGene_tc.head()"
   ]
  },
  {
   "cell_type": "code",
   "execution_count": 278,
   "id": "04909378",
   "metadata": {
    "hidden": true
   },
   "outputs": [
    {
     "data": {
      "text/html": [
       "<div>\n",
       "<style scoped>\n",
       "    .dataframe tbody tr th:only-of-type {\n",
       "        vertical-align: middle;\n",
       "    }\n",
       "\n",
       "    .dataframe tbody tr th {\n",
       "        vertical-align: top;\n",
       "    }\n",
       "\n",
       "    .dataframe thead th {\n",
       "        text-align: right;\n",
       "    }\n",
       "</style>\n",
       "<table border=\"1\" class=\"dataframe\">\n",
       "  <thead>\n",
       "    <tr style=\"text-align: right;\">\n",
       "      <th></th>\n",
       "      <th>baseMean</th>\n",
       "      <th>log2FoldChange</th>\n",
       "      <th>lfcSE</th>\n",
       "      <th>stat</th>\n",
       "      <th>pvalue</th>\n",
       "      <th>padj</th>\n",
       "      <th>genes</th>\n",
       "      <th>gene_id</th>\n",
       "    </tr>\n",
       "  </thead>\n",
       "  <tbody>\n",
       "    <tr>\n",
       "      <th>0</th>\n",
       "      <td>0.487363</td>\n",
       "      <td>-0.111977</td>\n",
       "      <td>2.392620</td>\n",
       "      <td>0.046801</td>\n",
       "      <td>0.962672</td>\n",
       "      <td>NaN</td>\n",
       "      <td>A1BG</td>\n",
       "      <td>A1BG</td>\n",
       "    </tr>\n",
       "    <tr>\n",
       "      <th>1</th>\n",
       "      <td>89.520006</td>\n",
       "      <td>-0.346670</td>\n",
       "      <td>0.212734</td>\n",
       "      <td>1.629593</td>\n",
       "      <td>0.103188</td>\n",
       "      <td>0.596566</td>\n",
       "      <td>NAT1</td>\n",
       "      <td>NAT1</td>\n",
       "    </tr>\n",
       "    <tr>\n",
       "      <th>2</th>\n",
       "      <td>666.491153</td>\n",
       "      <td>0.179213</td>\n",
       "      <td>0.123788</td>\n",
       "      <td>-1.447749</td>\n",
       "      <td>0.147687</td>\n",
       "      <td>0.657923</td>\n",
       "      <td>AAMP</td>\n",
       "      <td>AAMP</td>\n",
       "    </tr>\n",
       "    <tr>\n",
       "      <th>3</th>\n",
       "      <td>848.270932</td>\n",
       "      <td>0.068116</td>\n",
       "      <td>0.114740</td>\n",
       "      <td>-0.593656</td>\n",
       "      <td>0.552742</td>\n",
       "      <td>0.911350</td>\n",
       "      <td>AARS1</td>\n",
       "      <td>AARS1</td>\n",
       "    </tr>\n",
       "    <tr>\n",
       "      <th>4</th>\n",
       "      <td>248.985595</td>\n",
       "      <td>-0.063884</td>\n",
       "      <td>0.119042</td>\n",
       "      <td>0.536648</td>\n",
       "      <td>0.591511</td>\n",
       "      <td>0.919225</td>\n",
       "      <td>ABAT</td>\n",
       "      <td>ABAT</td>\n",
       "    </tr>\n",
       "  </tbody>\n",
       "</table>\n",
       "</div>"
      ],
      "text/plain": [
       "     baseMean  log2FoldChange     lfcSE      stat    pvalue      padj  genes  \\\n",
       "0    0.487363       -0.111977  2.392620  0.046801  0.962672       NaN   A1BG   \n",
       "1   89.520006       -0.346670  0.212734  1.629593  0.103188  0.596566   NAT1   \n",
       "2  666.491153        0.179213  0.123788 -1.447749  0.147687  0.657923   AAMP   \n",
       "3  848.270932        0.068116  0.114740 -0.593656  0.552742  0.911350  AARS1   \n",
       "4  248.985595       -0.063884  0.119042  0.536648  0.591511  0.919225   ABAT   \n",
       "\n",
       "  gene_id  \n",
       "0    A1BG  \n",
       "1    NAT1  \n",
       "2    AAMP  \n",
       "3   AARS1  \n",
       "4    ABAT  "
      ]
     },
     "execution_count": 278,
     "metadata": {},
     "output_type": "execute_result"
    }
   ],
   "source": [
    "# MV411_THZ1 1h readcounts ERCC\n",
    "resGene_read.head()"
   ]
  },
  {
   "cell_type": "markdown",
   "id": "06afb917",
   "metadata": {
    "hidden": true
   },
   "source": [
    "__save DESeq results__"
   ]
  },
  {
   "cell_type": "code",
   "execution_count": 279,
   "id": "59c6ae8d",
   "metadata": {
    "hidden": true
   },
   "outputs": [],
   "source": [
    "# check all genes are in output\n",
    "if not tccounts.shape[0] == resGene_tc.shape[0]:\n",
    "    raise ValueError(\"Results do not have the same number of genes as counts.\")\n",
    "\n",
    "if not tccounts[\"genes\"].isin(resGene_tc[\"genes\"]).all():\n",
    "    raise ValueError(\"Results do not have the same genes as counts.\")"
   ]
  },
  {
   "cell_type": "code",
   "execution_count": 280,
   "id": "f4e33ec2",
   "metadata": {
    "hidden": true
   },
   "outputs": [
    {
     "data": {
      "text/plain": [
       "'inhibitors_v2_MV411_DMSO_THZ1_ERCCsamplewise_0_5_deseq_tccounts.csv'"
      ]
     },
     "execution_count": 280,
     "metadata": {},
     "output_type": "execute_result"
    }
   ],
   "source": [
    "\"{}_{}_deseq_tccounts.csv\".format(project, \"_\".join(\n",
    "    filter(None, [var, var1, var2, scaling, str(minvar_toremove), str(mincount_toremove)])))"
   ]
  },
  {
   "cell_type": "code",
   "execution_count": 281,
   "id": "bc28a53d",
   "metadata": {
    "hidden": true
   },
   "outputs": [
    {
     "name": "stdout",
     "output_type": "stream",
     "text": [
      "Saved DESeq results to: inhibitors_v2_MV411_DMSO_THZ1_ERCCsamplewise_0_5_deseq_tccounts.csv\n"
     ]
    }
   ],
   "source": [
    "# tccounts\n",
    "deseq_res_file = \"{}_{}_deseq_tccounts.csv\".format(project, \"_\".join(\n",
    "    filter(None, [var, var1, var2, scaling, str(minvar_toremove), str(mincount_toremove)])))\n",
    "resGene_tc.to_csv(\"{}/{}\".format(res_dir, deseq_res_file), index=False)\n",
    "\n",
    "print(\"Saved DESeq results to: {}\".format(deseq_res_file))"
   ]
  },
  {
   "cell_type": "code",
   "execution_count": 282,
   "id": "2ab66d82",
   "metadata": {
    "hidden": true
   },
   "outputs": [
    {
     "name": "stdout",
     "output_type": "stream",
     "text": [
      "Saved DESeq results to: inhibitors_v2_MV411_DMSO_THZ1_ERCCsamplewise_0_5_deseq_readcounts.csv\n"
     ]
    }
   ],
   "source": [
    "# readcounts\n",
    "deseq_res_file = \"{}_{}_deseq_readcounts.csv\".format(project, \"_\".join(\n",
    "    filter(None, [var, var1, var2, scaling, str(minvar_toremove), str(mincount_toremove)])))\n",
    "resGene_read.to_csv(\"{}/{}\".format(res_dir, deseq_res_file), index=False)\n",
    "\n",
    "print(\"Saved DESeq results to: {}\".format(deseq_res_file))"
   ]
  },
  {
   "cell_type": "markdown",
   "id": "53ab8286",
   "metadata": {
    "heading_collapsed": true,
    "hidden": true
   },
   "source": [
    "### Unscaled"
   ]
  },
  {
   "cell_type": "code",
   "execution_count": 336,
   "id": "7e22c195",
   "metadata": {
    "hidden": true
   },
   "outputs": [],
   "source": [
    "scaling = None"
   ]
  },
  {
   "cell_type": "markdown",
   "id": "2a781e7b",
   "metadata": {
    "hidden": true
   },
   "source": [
    "__make DESeq object__"
   ]
  },
  {
   "cell_type": "code",
   "execution_count": 337,
   "id": "87b114da",
   "metadata": {
    "hidden": true
   },
   "outputs": [
    {
     "name": "stdout",
     "output_type": "stream",
     "text": [
      "you need to have R installed with the DESeq2 library installed\n",
      "3.4.5\n"
     ]
    }
   ],
   "source": [
    "# tccounts DESeq gene object\n",
    "# just var data\n",
    "deseqGene_tc = pyDESeq2.pyDESeq2(count_matrix=tccountsGene[tccountsGene.columns[np.array([1]+var_cols, bool)]], \n",
    "                                 design_matrix=design[np.array(var_cols, bool)],\n",
    "                                 design_formula=\"~{} - {}\".format(var1, var2),\n",
    "                                 gene_column=\"genes\")"
   ]
  },
  {
   "cell_type": "code",
   "execution_count": 338,
   "id": "ad11b5bd",
   "metadata": {
    "hidden": true
   },
   "outputs": [
    {
     "name": "stdout",
     "output_type": "stream",
     "text": [
      "you need to have R installed with the DESeq2 library installed\n",
      "3.4.5\n"
     ]
    }
   ],
   "source": [
    "# readcounts DESeq gene object\n",
    "deseqGene_read = pyDESeq2.pyDESeq2(count_matrix=readcountsGene[readcountsGene.columns[np.array([1]+var_cols, bool)]], \n",
    "                                   design_matrix=design[np.array(var_cols, bool)],\n",
    "                                   design_formula=\"~{} - {}\".format(var1, var2),\n",
    "                                   gene_column=\"genes\")"
   ]
  },
  {
   "cell_type": "markdown",
   "id": "fe024095",
   "metadata": {
    "hidden": true
   },
   "source": [
    "__estimate size factors__"
   ]
  },
  {
   "cell_type": "code",
   "execution_count": 339,
   "id": "f96e9fdb",
   "metadata": {
    "hidden": true
   },
   "outputs": [],
   "source": [
    "# tccounts\n",
    "deseqGene_tc.run_estimate_size_factors(geoMeans = np.exp(np.mean(np.log(\n",
    "    readcounts[tccountsGene.columns[[False]+design[var1].tolist()]].values+1), 1)))\n",
    "\n",
    "# readcounts\n",
    "deseqGene_read.run_estimate_size_factors()"
   ]
  },
  {
   "cell_type": "markdown",
   "id": "39cc007a",
   "metadata": {
    "hidden": true
   },
   "source": [
    "__run it__"
   ]
  },
  {
   "cell_type": "code",
   "execution_count": 340,
   "id": "fef60da0",
   "metadata": {
    "hidden": true
   },
   "outputs": [
    {
     "name": "stderr",
     "output_type": "stream",
     "text": [
      "R[write to console]: using pre-existing size factors\n",
      "\n",
      "R[write to console]: estimating dispersions\n",
      "\n",
      "R[write to console]: gene-wise dispersion estimates\n",
      "\n",
      "R[write to console]: mean-dispersion relationship\n",
      "\n",
      "R[write to console]: final dispersion estimates\n",
      "\n",
      "R[write to console]: fitting model and testing\n",
      "\n"
     ]
    },
    {
     "name": "stdout",
     "output_type": "stream",
     "text": [
      "CPU times: user 6.33 s, sys: 1.18 s, total: 7.51 s\n",
      "Wall time: 5.16 s\n"
     ]
    }
   ],
   "source": [
    "%%time\n",
    "\n",
    "# tccounts\n",
    "deseqGene_tc.run_deseq()\n",
    "deseqGene_tc.get_deseq_result()\n",
    "\n",
    "resGene_tc = deseqGene_tc.deseq_result\n",
    "resGene_tc.pvalue = np.nan_to_num(np.array(resGene_tc.pvalue), 1)\n",
    "resGene_tc.log2FoldChange = np.nan_to_num(np.array(resGene_tc.log2FoldChange), 0)\n",
    "resGene_tc.log2FoldChange = -resGene_tc.log2FoldChange\n",
    "resGene_tc[\"gene_id\"] = resGene_tc.genes"
   ]
  },
  {
   "cell_type": "code",
   "execution_count": 341,
   "id": "61be1157",
   "metadata": {
    "hidden": true,
    "scrolled": true
   },
   "outputs": [
    {
     "name": "stderr",
     "output_type": "stream",
     "text": [
      "R[write to console]: using pre-existing size factors\n",
      "\n",
      "R[write to console]: estimating dispersions\n",
      "\n",
      "R[write to console]: gene-wise dispersion estimates\n",
      "\n",
      "R[write to console]: mean-dispersion relationship\n",
      "\n",
      "R[write to console]: final dispersion estimates\n",
      "\n",
      "R[write to console]: fitting model and testing\n",
      "\n"
     ]
    },
    {
     "name": "stdout",
     "output_type": "stream",
     "text": [
      "CPU times: user 6.89 s, sys: 1.08 s, total: 7.98 s\n",
      "Wall time: 5.66 s\n"
     ]
    }
   ],
   "source": [
    "%%time\n",
    "\n",
    "#readcounts\n",
    "deseqGene_read.run_deseq()\n",
    "deseqGene_read.get_deseq_result()\n",
    "\n",
    "resGene_read = deseqGene_read.deseq_result\n",
    "resGene_read.pvalue = np.nan_to_num(np.array(resGene_read.pvalue), 1)\n",
    "resGene_read.log2FoldChange = np.nan_to_num(np.array(resGene_read.log2FoldChange), 0)\n",
    "resGene_read.log2FoldChange = -resGene_read.log2FoldChange\n",
    "resGene_read[\"gene_id\"] = resGene_read.genes"
   ]
  },
  {
   "cell_type": "code",
   "execution_count": 342,
   "id": "d8e097df",
   "metadata": {
    "hidden": true
   },
   "outputs": [
    {
     "data": {
      "text/html": [
       "<div>\n",
       "<style scoped>\n",
       "    .dataframe tbody tr th:only-of-type {\n",
       "        vertical-align: middle;\n",
       "    }\n",
       "\n",
       "    .dataframe tbody tr th {\n",
       "        vertical-align: top;\n",
       "    }\n",
       "\n",
       "    .dataframe thead th {\n",
       "        text-align: right;\n",
       "    }\n",
       "</style>\n",
       "<table border=\"1\" class=\"dataframe\">\n",
       "  <thead>\n",
       "    <tr style=\"text-align: right;\">\n",
       "      <th></th>\n",
       "      <th>baseMean</th>\n",
       "      <th>log2FoldChange</th>\n",
       "      <th>lfcSE</th>\n",
       "      <th>stat</th>\n",
       "      <th>pvalue</th>\n",
       "      <th>padj</th>\n",
       "      <th>genes</th>\n",
       "      <th>gene_id</th>\n",
       "    </tr>\n",
       "  </thead>\n",
       "  <tbody>\n",
       "    <tr>\n",
       "      <th>0</th>\n",
       "      <td>0.000000</td>\n",
       "      <td>-0.000000</td>\n",
       "      <td>NaN</td>\n",
       "      <td>NaN</td>\n",
       "      <td>0.000000</td>\n",
       "      <td>NaN</td>\n",
       "      <td>A1BG</td>\n",
       "      <td>A1BG</td>\n",
       "    </tr>\n",
       "    <tr>\n",
       "      <th>1</th>\n",
       "      <td>16.232279</td>\n",
       "      <td>0.776478</td>\n",
       "      <td>0.463341</td>\n",
       "      <td>-1.675825</td>\n",
       "      <td>0.093773</td>\n",
       "      <td>0.376173</td>\n",
       "      <td>NAT1</td>\n",
       "      <td>NAT1</td>\n",
       "    </tr>\n",
       "    <tr>\n",
       "      <th>2</th>\n",
       "      <td>22.123248</td>\n",
       "      <td>0.600572</td>\n",
       "      <td>0.356349</td>\n",
       "      <td>-1.685348</td>\n",
       "      <td>0.091921</td>\n",
       "      <td>0.373828</td>\n",
       "      <td>AAMP</td>\n",
       "      <td>AAMP</td>\n",
       "    </tr>\n",
       "    <tr>\n",
       "      <th>3</th>\n",
       "      <td>19.235653</td>\n",
       "      <td>0.178562</td>\n",
       "      <td>0.349378</td>\n",
       "      <td>-0.511085</td>\n",
       "      <td>0.609291</td>\n",
       "      <td>0.852206</td>\n",
       "      <td>AARS1</td>\n",
       "      <td>AARS1</td>\n",
       "    </tr>\n",
       "    <tr>\n",
       "      <th>4</th>\n",
       "      <td>7.537041</td>\n",
       "      <td>-0.287342</td>\n",
       "      <td>0.658202</td>\n",
       "      <td>0.436555</td>\n",
       "      <td>0.662434</td>\n",
       "      <td>0.880280</td>\n",
       "      <td>ABAT</td>\n",
       "      <td>ABAT</td>\n",
       "    </tr>\n",
       "  </tbody>\n",
       "</table>\n",
       "</div>"
      ],
      "text/plain": [
       "    baseMean  log2FoldChange     lfcSE      stat    pvalue      padj  genes  \\\n",
       "0   0.000000       -0.000000       NaN       NaN  0.000000       NaN   A1BG   \n",
       "1  16.232279        0.776478  0.463341 -1.675825  0.093773  0.376173   NAT1   \n",
       "2  22.123248        0.600572  0.356349 -1.685348  0.091921  0.373828   AAMP   \n",
       "3  19.235653        0.178562  0.349378 -0.511085  0.609291  0.852206  AARS1   \n",
       "4   7.537041       -0.287342  0.658202  0.436555  0.662434  0.880280   ABAT   \n",
       "\n",
       "  gene_id  \n",
       "0    A1BG  \n",
       "1    NAT1  \n",
       "2    AAMP  \n",
       "3   AARS1  \n",
       "4    ABAT  "
      ]
     },
     "execution_count": 342,
     "metadata": {},
     "output_type": "execute_result"
    }
   ],
   "source": [
    "# MV411_THZ1 1h tccounts unscaled\n",
    "resGene_tc.head()"
   ]
  },
  {
   "cell_type": "code",
   "execution_count": 343,
   "id": "33def96a",
   "metadata": {
    "hidden": true
   },
   "outputs": [
    {
     "data": {
      "text/html": [
       "<div>\n",
       "<style scoped>\n",
       "    .dataframe tbody tr th:only-of-type {\n",
       "        vertical-align: middle;\n",
       "    }\n",
       "\n",
       "    .dataframe tbody tr th {\n",
       "        vertical-align: top;\n",
       "    }\n",
       "\n",
       "    .dataframe thead th {\n",
       "        text-align: right;\n",
       "    }\n",
       "</style>\n",
       "<table border=\"1\" class=\"dataframe\">\n",
       "  <thead>\n",
       "    <tr style=\"text-align: right;\">\n",
       "      <th></th>\n",
       "      <th>baseMean</th>\n",
       "      <th>log2FoldChange</th>\n",
       "      <th>lfcSE</th>\n",
       "      <th>stat</th>\n",
       "      <th>pvalue</th>\n",
       "      <th>padj</th>\n",
       "      <th>genes</th>\n",
       "      <th>gene_id</th>\n",
       "    </tr>\n",
       "  </thead>\n",
       "  <tbody>\n",
       "    <tr>\n",
       "      <th>0</th>\n",
       "      <td>0.471109</td>\n",
       "      <td>-0.170525</td>\n",
       "      <td>2.390105</td>\n",
       "      <td>0.071346</td>\n",
       "      <td>0.943122</td>\n",
       "      <td>NaN</td>\n",
       "      <td>A1BG</td>\n",
       "      <td>A1BG</td>\n",
       "    </tr>\n",
       "    <tr>\n",
       "      <th>1</th>\n",
       "      <td>88.682583</td>\n",
       "      <td>-0.379690</td>\n",
       "      <td>0.217529</td>\n",
       "      <td>1.745469</td>\n",
       "      <td>0.080903</td>\n",
       "      <td>0.512022</td>\n",
       "      <td>NAT1</td>\n",
       "      <td>NAT1</td>\n",
       "    </tr>\n",
       "    <tr>\n",
       "      <th>2</th>\n",
       "      <td>658.247022</td>\n",
       "      <td>0.144779</td>\n",
       "      <td>0.126837</td>\n",
       "      <td>-1.141455</td>\n",
       "      <td>0.253681</td>\n",
       "      <td>0.757179</td>\n",
       "      <td>AAMP</td>\n",
       "      <td>AAMP</td>\n",
       "    </tr>\n",
       "    <tr>\n",
       "      <th>3</th>\n",
       "      <td>836.746182</td>\n",
       "      <td>0.029366</td>\n",
       "      <td>0.105584</td>\n",
       "      <td>-0.278128</td>\n",
       "      <td>0.780914</td>\n",
       "      <td>0.976086</td>\n",
       "      <td>AARS1</td>\n",
       "      <td>AARS1</td>\n",
       "    </tr>\n",
       "    <tr>\n",
       "      <th>4</th>\n",
       "      <td>245.837956</td>\n",
       "      <td>-0.101640</td>\n",
       "      <td>0.108256</td>\n",
       "      <td>0.938891</td>\n",
       "      <td>0.347787</td>\n",
       "      <td>0.820811</td>\n",
       "      <td>ABAT</td>\n",
       "      <td>ABAT</td>\n",
       "    </tr>\n",
       "  </tbody>\n",
       "</table>\n",
       "</div>"
      ],
      "text/plain": [
       "     baseMean  log2FoldChange     lfcSE      stat    pvalue      padj  genes  \\\n",
       "0    0.471109       -0.170525  2.390105  0.071346  0.943122       NaN   A1BG   \n",
       "1   88.682583       -0.379690  0.217529  1.745469  0.080903  0.512022   NAT1   \n",
       "2  658.247022        0.144779  0.126837 -1.141455  0.253681  0.757179   AAMP   \n",
       "3  836.746182        0.029366  0.105584 -0.278128  0.780914  0.976086  AARS1   \n",
       "4  245.837956       -0.101640  0.108256  0.938891  0.347787  0.820811   ABAT   \n",
       "\n",
       "  gene_id  \n",
       "0    A1BG  \n",
       "1    NAT1  \n",
       "2    AAMP  \n",
       "3   AARS1  \n",
       "4    ABAT  "
      ]
     },
     "execution_count": 343,
     "metadata": {},
     "output_type": "execute_result"
    }
   ],
   "source": [
    "# MV411_THZ1 1h readcounts unscaled\n",
    "resGene_read.head()"
   ]
  },
  {
   "cell_type": "markdown",
   "id": "a89ba67a",
   "metadata": {
    "hidden": true
   },
   "source": [
    "__save DESeq results__"
   ]
  },
  {
   "cell_type": "code",
   "execution_count": 344,
   "id": "cc067791",
   "metadata": {
    "hidden": true
   },
   "outputs": [],
   "source": [
    "# check all genes are in output\n",
    "if not tccounts.shape[0] == resGene_tc.shape[0]:\n",
    "    raise ValueError(\"Results do not have the same number of genes as counts.\")\n",
    "\n",
    "if not tccounts[\"genes\"].isin(resGene_tc[\"genes\"]).all():\n",
    "    raise ValueError(\"Results do not have the same genes as counts.\")"
   ]
  },
  {
   "cell_type": "code",
   "execution_count": 345,
   "id": "9d3ceae5",
   "metadata": {
    "hidden": true
   },
   "outputs": [
    {
     "data": {
      "text/plain": [
       "'inhibitors_v2_MV411_DMSO_THZ1_0_5_deseq_tccounts.csv'"
      ]
     },
     "execution_count": 345,
     "metadata": {},
     "output_type": "execute_result"
    }
   ],
   "source": [
    "\"{}_{}_deseq_tccounts.csv\".format(project, \"_\".join(\n",
    "    filter(None, [var, var1, var2, scaling, str(minvar_toremove), str(mincount_toremove)])))"
   ]
  },
  {
   "cell_type": "code",
   "execution_count": 346,
   "id": "31f6b71a",
   "metadata": {
    "hidden": true
   },
   "outputs": [
    {
     "name": "stdout",
     "output_type": "stream",
     "text": [
      "Saved DESeq results to: inhibitors_v2_MV411_DMSO_THZ1_0_5_deseq_tccounts.csv\n"
     ]
    }
   ],
   "source": [
    "# tccounts\n",
    "deseq_res_file = \"{}_{}_deseq_tccounts.csv\".format(project, \"_\".join(\n",
    "    filter(None, [var, var1, var2, scaling, str(minvar_toremove), str(mincount_toremove)])))\n",
    "resGene_tc.to_csv(\"{}/{}\".format(res_dir, deseq_res_file), index=False)\n",
    "\n",
    "print(\"Saved DESeq results to: {}\".format(deseq_res_file))"
   ]
  },
  {
   "cell_type": "code",
   "execution_count": 347,
   "id": "2aa24ffb",
   "metadata": {
    "hidden": true
   },
   "outputs": [
    {
     "name": "stdout",
     "output_type": "stream",
     "text": [
      "Saved DESeq results to: inhibitors_v2_MV411_DMSO_THZ1_0_5_deseq_readcounts.csv\n"
     ]
    }
   ],
   "source": [
    "# readcounts\n",
    "deseq_res_file = \"{}_{}_deseq_readcounts.csv\".format(project, \"_\".join(\n",
    "    filter(None, [var, var1, var2, scaling, str(minvar_toremove), str(mincount_toremove)])))\n",
    "resGene_read.to_csv(\"{}/{}\".format(res_dir, deseq_res_file), index=False)\n",
    "\n",
    "print(\"Saved DESeq results to: {}\".format(deseq_res_file))"
   ]
  },
  {
   "cell_type": "markdown",
   "id": "28853080",
   "metadata": {},
   "source": [
    "## MV411 JQ1_MS2 1h"
   ]
  },
  {
   "cell_type": "markdown",
   "id": "8a39519e",
   "metadata": {
    "heading_collapsed": true
   },
   "source": [
    "### make design matrix"
   ]
  },
  {
   "cell_type": "code",
   "execution_count": 297,
   "id": "e80307ed",
   "metadata": {
    "hidden": true
   },
   "outputs": [],
   "source": [
    "# MV411 THZ1 inhibitor 1h\n",
    "version = \"v1\"\n",
    "var_name = \"experiment\"\n",
    "var = \"MV411\"\n",
    "var1 = \"DMSO\"\n",
    "var2 = \"JQ1_MS2\"\n",
    "drop_rep = exp_design.loc[(exp_design[var_name] == var) & (exp_design[\"drop\"] == True), \"col\"]"
   ]
  },
  {
   "cell_type": "code",
   "execution_count": 298,
   "id": "39e27db2",
   "metadata": {
    "hidden": true
   },
   "outputs": [],
   "source": [
    "# tccounts\n",
    "tccountsGene = tccounts[tccounts.columns[:-1]]\n",
    "\n",
    "# readcounts\n",
    "readcountsGene = readcounts[readcounts.columns[:-1]]"
   ]
  },
  {
   "cell_type": "markdown",
   "id": "d4976258",
   "metadata": {
    "hidden": true
   },
   "source": [
    "be careful that var_cols are only the samples being used for DESeq comparison!"
   ]
  },
  {
   "cell_type": "code",
   "execution_count": 299,
   "id": "5e4297f7",
   "metadata": {
    "hidden": true
   },
   "outputs": [],
   "source": [
    "# get just var data\n",
    "# remove dropped reps\n",
    "var1_cols = [1 if (exp_design.iloc[idx][var_name] == var) and (exp_design.iloc[idx][\"treatment\"] == var1) and\n",
    "             (exp_design.iloc[idx][\"drop\"] == False) else 0 for idx in range(exp_design.shape[0])]\n",
    "\n",
    "var2_cols = [1 if (exp_design.iloc[idx][var_name] == var) and (exp_design.iloc[idx][\"treatment\"] == var2) and \n",
    "            (exp_design.iloc[idx][\"drop\"] == False) else 0 for idx in range(exp_design.shape[0])]\n",
    "\n",
    "var_cols = [sum(x) for x in zip(var1_cols, var2_cols)]\n",
    "\n",
    "# all columns\n",
    "design = pd.DataFrame(index= [i.replace(\"-\",\".\") for i in tccountsGene.columns], \n",
    "                      columns=[var1, var2], \n",
    "                      data=np.array([var1_cols, var2_cols], dtype=bool).T)"
   ]
  },
  {
   "cell_type": "code",
   "execution_count": 300,
   "id": "87a8620e",
   "metadata": {
    "hidden": true,
    "scrolled": true
   },
   "outputs": [
    {
     "data": {
      "text/html": [
       "<div>\n",
       "<style scoped>\n",
       "    .dataframe tbody tr th:only-of-type {\n",
       "        vertical-align: middle;\n",
       "    }\n",
       "\n",
       "    .dataframe tbody tr th {\n",
       "        vertical-align: top;\n",
       "    }\n",
       "\n",
       "    .dataframe thead th {\n",
       "        text-align: right;\n",
       "    }\n",
       "</style>\n",
       "<table border=\"1\" class=\"dataframe\">\n",
       "  <thead>\n",
       "    <tr style=\"text-align: right;\">\n",
       "      <th></th>\n",
       "      <th>DMSO</th>\n",
       "      <th>JQ1_MS2</th>\n",
       "    </tr>\n",
       "  </thead>\n",
       "  <tbody>\n",
       "    <tr>\n",
       "      <th>mr590.MV411.DMSO_1h.r1_tcount</th>\n",
       "      <td>True</td>\n",
       "      <td>False</td>\n",
       "    </tr>\n",
       "    <tr>\n",
       "      <th>mr591.MV411.DMSO_1h.r2_tcount</th>\n",
       "      <td>True</td>\n",
       "      <td>False</td>\n",
       "    </tr>\n",
       "    <tr>\n",
       "      <th>mr592.MV411.DMSO_1h.r3_tcount</th>\n",
       "      <td>True</td>\n",
       "      <td>False</td>\n",
       "    </tr>\n",
       "    <tr>\n",
       "      <th>mr593.MV411.DMSO_1h.r4_tcount</th>\n",
       "      <td>True</td>\n",
       "      <td>False</td>\n",
       "    </tr>\n",
       "    <tr>\n",
       "      <th>mr594.MV411.MS2_1h.r1_tcount</th>\n",
       "      <td>False</td>\n",
       "      <td>False</td>\n",
       "    </tr>\n",
       "    <tr>\n",
       "      <th>mr595.MV411.MS2_1h.r2_tcount</th>\n",
       "      <td>False</td>\n",
       "      <td>False</td>\n",
       "    </tr>\n",
       "    <tr>\n",
       "      <th>mr596.MV411.MS2_1h.r3_tcount</th>\n",
       "      <td>False</td>\n",
       "      <td>False</td>\n",
       "    </tr>\n",
       "    <tr>\n",
       "      <th>mr597.MV411.MS2_1h.r4_tcount</th>\n",
       "      <td>False</td>\n",
       "      <td>False</td>\n",
       "    </tr>\n",
       "    <tr>\n",
       "      <th>mr598.MV411.JQ1_1h.r1_tcount</th>\n",
       "      <td>False</td>\n",
       "      <td>False</td>\n",
       "    </tr>\n",
       "    <tr>\n",
       "      <th>mr599.MV411.JQ1_1h.r2_tcount</th>\n",
       "      <td>False</td>\n",
       "      <td>False</td>\n",
       "    </tr>\n",
       "    <tr>\n",
       "      <th>mr600.MV411.JQ1_1h.r3_tcount</th>\n",
       "      <td>False</td>\n",
       "      <td>False</td>\n",
       "    </tr>\n",
       "    <tr>\n",
       "      <th>mr601.MV411.JQ1_1h.r4_tcount</th>\n",
       "      <td>False</td>\n",
       "      <td>False</td>\n",
       "    </tr>\n",
       "    <tr>\n",
       "      <th>mr602.MV411.MYCi361_1h.r1_tcount</th>\n",
       "      <td>False</td>\n",
       "      <td>False</td>\n",
       "    </tr>\n",
       "    <tr>\n",
       "      <th>mr603.MV411.MYCi361_1h.r2_tcount</th>\n",
       "      <td>False</td>\n",
       "      <td>False</td>\n",
       "    </tr>\n",
       "    <tr>\n",
       "      <th>mr604.MV411.MYCi361_1h.r3_tcount</th>\n",
       "      <td>False</td>\n",
       "      <td>False</td>\n",
       "    </tr>\n",
       "    <tr>\n",
       "      <th>mr605.MV411.MYCi361_1h.r4_tcount</th>\n",
       "      <td>False</td>\n",
       "      <td>False</td>\n",
       "    </tr>\n",
       "    <tr>\n",
       "      <th>mr606.MV411.THZ1_1h.r1_tcount</th>\n",
       "      <td>False</td>\n",
       "      <td>False</td>\n",
       "    </tr>\n",
       "    <tr>\n",
       "      <th>mr607.MV411.THZ1_1h.r2_tcount</th>\n",
       "      <td>False</td>\n",
       "      <td>False</td>\n",
       "    </tr>\n",
       "    <tr>\n",
       "      <th>mr608.MV411.THZ1_1h.r3_tcount</th>\n",
       "      <td>False</td>\n",
       "      <td>False</td>\n",
       "    </tr>\n",
       "    <tr>\n",
       "      <th>mr609.MV411.THZ1_1h.r4_tcount</th>\n",
       "      <td>False</td>\n",
       "      <td>False</td>\n",
       "    </tr>\n",
       "    <tr>\n",
       "      <th>mr610.MV411.JQ1_MS2_1h.r1_tcount</th>\n",
       "      <td>False</td>\n",
       "      <td>True</td>\n",
       "    </tr>\n",
       "    <tr>\n",
       "      <th>mr611.MV411.JQ1_MS2_1h.r2_tcount</th>\n",
       "      <td>False</td>\n",
       "      <td>True</td>\n",
       "    </tr>\n",
       "    <tr>\n",
       "      <th>mr612.MV411.JQ1_MS2_1h.r3_tcount</th>\n",
       "      <td>False</td>\n",
       "      <td>True</td>\n",
       "    </tr>\n",
       "    <tr>\n",
       "      <th>mr613.MV411.JQ1_MS2_1h.r4_tcount</th>\n",
       "      <td>False</td>\n",
       "      <td>True</td>\n",
       "    </tr>\n",
       "    <tr>\n",
       "      <th>mr614.MV411.JQ1_THZ1_1h.r1_tcount</th>\n",
       "      <td>False</td>\n",
       "      <td>False</td>\n",
       "    </tr>\n",
       "    <tr>\n",
       "      <th>mr615.MV411.JQ1_THZ1_1h.r2_tcount</th>\n",
       "      <td>False</td>\n",
       "      <td>False</td>\n",
       "    </tr>\n",
       "    <tr>\n",
       "      <th>mr616.MV411.JQ1_THZ1_1h.r3_tcount</th>\n",
       "      <td>False</td>\n",
       "      <td>False</td>\n",
       "    </tr>\n",
       "    <tr>\n",
       "      <th>mr617.MV411.JQ1_THZ1_1h.r4_tcount</th>\n",
       "      <td>False</td>\n",
       "      <td>False</td>\n",
       "    </tr>\n",
       "  </tbody>\n",
       "</table>\n",
       "</div>"
      ],
      "text/plain": [
       "                                    DMSO  JQ1_MS2\n",
       "mr590.MV411.DMSO_1h.r1_tcount       True    False\n",
       "mr591.MV411.DMSO_1h.r2_tcount       True    False\n",
       "mr592.MV411.DMSO_1h.r3_tcount       True    False\n",
       "mr593.MV411.DMSO_1h.r4_tcount       True    False\n",
       "mr594.MV411.MS2_1h.r1_tcount       False    False\n",
       "mr595.MV411.MS2_1h.r2_tcount       False    False\n",
       "mr596.MV411.MS2_1h.r3_tcount       False    False\n",
       "mr597.MV411.MS2_1h.r4_tcount       False    False\n",
       "mr598.MV411.JQ1_1h.r1_tcount       False    False\n",
       "mr599.MV411.JQ1_1h.r2_tcount       False    False\n",
       "mr600.MV411.JQ1_1h.r3_tcount       False    False\n",
       "mr601.MV411.JQ1_1h.r4_tcount       False    False\n",
       "mr602.MV411.MYCi361_1h.r1_tcount   False    False\n",
       "mr603.MV411.MYCi361_1h.r2_tcount   False    False\n",
       "mr604.MV411.MYCi361_1h.r3_tcount   False    False\n",
       "mr605.MV411.MYCi361_1h.r4_tcount   False    False\n",
       "mr606.MV411.THZ1_1h.r1_tcount      False    False\n",
       "mr607.MV411.THZ1_1h.r2_tcount      False    False\n",
       "mr608.MV411.THZ1_1h.r3_tcount      False    False\n",
       "mr609.MV411.THZ1_1h.r4_tcount      False    False\n",
       "mr610.MV411.JQ1_MS2_1h.r1_tcount   False     True\n",
       "mr611.MV411.JQ1_MS2_1h.r2_tcount   False     True\n",
       "mr612.MV411.JQ1_MS2_1h.r3_tcount   False     True\n",
       "mr613.MV411.JQ1_MS2_1h.r4_tcount   False     True\n",
       "mr614.MV411.JQ1_THZ1_1h.r1_tcount  False    False\n",
       "mr615.MV411.JQ1_THZ1_1h.r2_tcount  False    False\n",
       "mr616.MV411.JQ1_THZ1_1h.r3_tcount  False    False\n",
       "mr617.MV411.JQ1_THZ1_1h.r4_tcount  False    False"
      ]
     },
     "execution_count": 300,
     "metadata": {},
     "output_type": "execute_result"
    }
   ],
   "source": [
    "design"
   ]
  },
  {
   "cell_type": "code",
   "execution_count": 301,
   "id": "2dc484a7",
   "metadata": {
    "hidden": true
   },
   "outputs": [],
   "source": [
    "# genes as first column\n",
    "tccountsGene = tccounts[['genes']+list(tccountsGene.columns)]\n",
    "readcountsGene = readcounts[['genes']+list(readcountsGene.columns)]"
   ]
  },
  {
   "cell_type": "markdown",
   "id": "80319c31",
   "metadata": {},
   "source": [
    "### ERCC samplewise scaled"
   ]
  },
  {
   "cell_type": "code",
   "execution_count": 302,
   "id": "accfe4f1",
   "metadata": {},
   "outputs": [],
   "source": [
    "scaling=\"ERCCsamplewise\""
   ]
  },
  {
   "cell_type": "markdown",
   "id": "4954e925",
   "metadata": {},
   "source": [
    "__make DESeq object__"
   ]
  },
  {
   "cell_type": "code",
   "execution_count": 303,
   "id": "00ac74bb",
   "metadata": {},
   "outputs": [
    {
     "name": "stdout",
     "output_type": "stream",
     "text": [
      "you need to have R installed with the DESeq2 library installed\n",
      "3.4.5\n"
     ]
    }
   ],
   "source": [
    "# tccounts DESeq gene object\n",
    "deseqGene_tc = pyDESeq2.pyDESeq2(count_matrix=tccountsGene[tccountsGene.columns[np.array([1]+var_cols, bool)]], \n",
    "                                 design_matrix=design[np.array(var_cols, bool)],\n",
    "                                 design_formula=\"~{} - {}\".format(var1, var2),\n",
    "                                 gene_column=\"genes\")"
   ]
  },
  {
   "cell_type": "code",
   "execution_count": 304,
   "id": "3052901f",
   "metadata": {},
   "outputs": [
    {
     "name": "stdout",
     "output_type": "stream",
     "text": [
      "you need to have R installed with the DESeq2 library installed\n",
      "3.4.5\n"
     ]
    }
   ],
   "source": [
    "# readcounts DESeq gene object\n",
    "deseqGene_read = pyDESeq2.pyDESeq2(count_matrix=readcountsGene[readcountsGene.columns[np.array([1]+var_cols, bool)]], \n",
    "                                   design_matrix=design[np.array(var_cols, bool)],\n",
    "                                   design_formula=\"~{} - {}\".format(var1, var2),\n",
    "                                   gene_column=\"genes\")"
   ]
  },
  {
   "cell_type": "markdown",
   "id": "038b134f",
   "metadata": {},
   "source": [
    "__estimate & modify size factors__"
   ]
  },
  {
   "cell_type": "code",
   "execution_count": 305,
   "id": "5e22254e",
   "metadata": {},
   "outputs": [],
   "source": [
    "# tccounts\n",
    "deseqGene_tc.run_estimate_size_factors(geoMeans = np.exp(np.mean(np.log(\n",
    "    readcounts[tccountsGene.columns[[False]+design[var1].tolist()]].values+1), 1)))\n",
    "\n",
    "# readcounts\n",
    "deseqGene_read.run_estimate_size_factors()"
   ]
  },
  {
   "cell_type": "code",
   "execution_count": 306,
   "id": "d1decd0a",
   "metadata": {},
   "outputs": [
    {
     "data": {
      "text/plain": [
       "0\n",
       "ERCC_mr590-MV411-DMSO_1h-r1_filtered.bam       0.341648\n",
       "ERCC_mr591-MV411-DMSO_1h-r2_filtered.bam       0.329341\n",
       "ERCC_mr592-MV411-DMSO_1h-r3_filtered.bam       0.306805\n",
       "ERCC_mr593-MV411-DMSO_1h-r4_filtered.bam       0.326813\n",
       "ERCC_mr610-MV411-JQ1_MS2_1h-r1_filtered.bam    0.315682\n",
       "ERCC_mr611-MV411-JQ1_MS2_1h-r2_filtered.bam    0.323851\n",
       "ERCC_mr612-MV411-JQ1_MS2_1h-r3_filtered.bam    0.336793\n",
       "ERCC_mr613-MV411-JQ1_MS2_1h-r4_filtered.bam    0.352872\n",
       "Name: 1, dtype: float64"
      ]
     },
     "execution_count": 306,
     "metadata": {},
     "output_type": "execute_result"
    }
   ],
   "source": [
    "# read in ERCC pseudocounts\n",
    "res = pd.read_csv(res_dir+\"/\"+project+\"_scaling_factors.csv\", index_col=0, header=None, squeeze=True)\n",
    "\n",
    "# select var values\n",
    "res = res[np.array(var_cols, dtype=bool)]\n",
    "res"
   ]
  },
  {
   "cell_type": "markdown",
   "id": "1211da0a",
   "metadata": {},
   "source": [
    "__modify size factors__\n",
    "<br> treatment size factor * adjusted treatment res (treatment res per sample / average DMSO res)"
   ]
  },
  {
   "cell_type": "code",
   "execution_count": 307,
   "id": "832edcce",
   "metadata": {},
   "outputs": [],
   "source": [
    "# tccounts\n",
    "sizeFact = deseqGene_tc.getSizeFactors()\n",
    "sizeFact[sum(var1_cols):] = sizeFact[sum(var1_cols):] * (res[[i for i in res.index if '-'+str(var2) in i]].values/\n",
    "                                                         res[[i for i in res.index if '-'+str(var1) in i]].values.mean())\n",
    "deseqGene_tc.setSizeFactors(sizeFact)"
   ]
  },
  {
   "cell_type": "code",
   "execution_count": 308,
   "id": "6b0aa119",
   "metadata": {},
   "outputs": [
    {
     "data": {
      "text/plain": [
       "array([0.31568212, 0.32385117, 0.33679293, 0.352872  ])"
      ]
     },
     "execution_count": 308,
     "metadata": {},
     "output_type": "execute_result"
    }
   ],
   "source": [
    "res[[i for i in res.index if '-'+str(var2) in i]].values"
   ]
  },
  {
   "cell_type": "code",
   "execution_count": 309,
   "id": "d67c291d",
   "metadata": {},
   "outputs": [],
   "source": [
    "# readcounts\n",
    "sizeFact = deseqGene_read.getSizeFactors()\n",
    "sizeFact[sum(var1_cols):] = sizeFact[sum(var1_cols):] * (res[[i for i in res.index if '-'+str(var2) in i]].values/\n",
    "                                                         res[[i for i in res.index if '-'+str(var1) in i]].values.mean())\n",
    "deseqGene_read.setSizeFactors(sizeFact)"
   ]
  },
  {
   "cell_type": "markdown",
   "id": "811d2d89",
   "metadata": {},
   "source": [
    "__run it__"
   ]
  },
  {
   "cell_type": "code",
   "execution_count": 310,
   "id": "59c5feaa",
   "metadata": {},
   "outputs": [
    {
     "name": "stderr",
     "output_type": "stream",
     "text": [
      "R[write to console]: using pre-existing size factors\n",
      "\n",
      "R[write to console]: estimating dispersions\n",
      "\n",
      "R[write to console]: gene-wise dispersion estimates\n",
      "\n",
      "R[write to console]: mean-dispersion relationship\n",
      "\n",
      "R[write to console]: final dispersion estimates\n",
      "\n",
      "R[write to console]: fitting model and testing\n",
      "\n"
     ]
    },
    {
     "name": "stdout",
     "output_type": "stream",
     "text": [
      "CPU times: user 6.52 s, sys: 912 ms, total: 7.44 s\n",
      "Wall time: 5.47 s\n"
     ]
    }
   ],
   "source": [
    "%%time\n",
    "\n",
    "# tccounts\n",
    "deseqGene_tc.run_deseq()\n",
    "deseqGene_tc.get_deseq_result()\n",
    "\n",
    "resGene_tc = deseqGene_tc.deseq_result\n",
    "resGene_tc.pvalue = np.nan_to_num(np.array(resGene_tc.pvalue), 1)\n",
    "resGene_tc.log2FoldChange = np.nan_to_num(np.array(resGene_tc.log2FoldChange), 0)\n",
    "resGene_tc.log2FoldChange = -resGene_tc.log2FoldChange\n",
    "resGene_tc[\"gene_id\"] = resGene_tc.genes"
   ]
  },
  {
   "cell_type": "code",
   "execution_count": 311,
   "id": "79d77ebe",
   "metadata": {},
   "outputs": [
    {
     "name": "stderr",
     "output_type": "stream",
     "text": [
      "R[write to console]: using pre-existing size factors\n",
      "\n",
      "R[write to console]: estimating dispersions\n",
      "\n",
      "R[write to console]: gene-wise dispersion estimates\n",
      "\n",
      "R[write to console]: mean-dispersion relationship\n",
      "\n",
      "R[write to console]: final dispersion estimates\n",
      "\n",
      "R[write to console]: fitting model and testing\n",
      "\n"
     ]
    },
    {
     "name": "stdout",
     "output_type": "stream",
     "text": [
      "CPU times: user 6.47 s, sys: 972 ms, total: 7.44 s\n",
      "Wall time: 5.21 s\n"
     ]
    }
   ],
   "source": [
    "%%time\n",
    "\n",
    "#readcounts\n",
    "deseqGene_read.run_deseq()\n",
    "deseqGene_read.get_deseq_result()\n",
    "\n",
    "resGene_read = deseqGene_read.deseq_result\n",
    "resGene_read.pvalue = np.nan_to_num(np.array(resGene_read.pvalue), 1)\n",
    "resGene_read.log2FoldChange = np.nan_to_num(np.array(resGene_read.log2FoldChange), 0)\n",
    "resGene_read.log2FoldChange = -resGene_read.log2FoldChange\n",
    "resGene_read[\"gene_id\"] = resGene_read.genes"
   ]
  },
  {
   "cell_type": "code",
   "execution_count": 312,
   "id": "229fc191",
   "metadata": {},
   "outputs": [
    {
     "data": {
      "text/html": [
       "<div>\n",
       "<style scoped>\n",
       "    .dataframe tbody tr th:only-of-type {\n",
       "        vertical-align: middle;\n",
       "    }\n",
       "\n",
       "    .dataframe tbody tr th {\n",
       "        vertical-align: top;\n",
       "    }\n",
       "\n",
       "    .dataframe thead th {\n",
       "        text-align: right;\n",
       "    }\n",
       "</style>\n",
       "<table border=\"1\" class=\"dataframe\">\n",
       "  <thead>\n",
       "    <tr style=\"text-align: right;\">\n",
       "      <th></th>\n",
       "      <th>baseMean</th>\n",
       "      <th>log2FoldChange</th>\n",
       "      <th>lfcSE</th>\n",
       "      <th>stat</th>\n",
       "      <th>pvalue</th>\n",
       "      <th>padj</th>\n",
       "      <th>genes</th>\n",
       "      <th>gene_id</th>\n",
       "    </tr>\n",
       "  </thead>\n",
       "  <tbody>\n",
       "    <tr>\n",
       "      <th>0</th>\n",
       "      <td>0.000000</td>\n",
       "      <td>-0.000000</td>\n",
       "      <td>NaN</td>\n",
       "      <td>NaN</td>\n",
       "      <td>0.000000</td>\n",
       "      <td>NaN</td>\n",
       "      <td>A1BG</td>\n",
       "      <td>A1BG</td>\n",
       "    </tr>\n",
       "    <tr>\n",
       "      <th>1</th>\n",
       "      <td>17.005494</td>\n",
       "      <td>0.997743</td>\n",
       "      <td>0.421877</td>\n",
       "      <td>-2.365007</td>\n",
       "      <td>0.018030</td>\n",
       "      <td>0.073388</td>\n",
       "      <td>NAT1</td>\n",
       "      <td>NAT1</td>\n",
       "    </tr>\n",
       "    <tr>\n",
       "      <th>2</th>\n",
       "      <td>18.514801</td>\n",
       "      <td>0.285635</td>\n",
       "      <td>0.388265</td>\n",
       "      <td>-0.735672</td>\n",
       "      <td>0.461931</td>\n",
       "      <td>0.674098</td>\n",
       "      <td>AAMP</td>\n",
       "      <td>AAMP</td>\n",
       "    </tr>\n",
       "    <tr>\n",
       "      <th>3</th>\n",
       "      <td>18.263086</td>\n",
       "      <td>0.146687</td>\n",
       "      <td>0.365801</td>\n",
       "      <td>-0.401003</td>\n",
       "      <td>0.688418</td>\n",
       "      <td>0.838437</td>\n",
       "      <td>AARS1</td>\n",
       "      <td>AARS1</td>\n",
       "    </tr>\n",
       "    <tr>\n",
       "      <th>4</th>\n",
       "      <td>9.114300</td>\n",
       "      <td>0.371837</td>\n",
       "      <td>0.536210</td>\n",
       "      <td>-0.693454</td>\n",
       "      <td>0.488025</td>\n",
       "      <td>0.694274</td>\n",
       "      <td>ABAT</td>\n",
       "      <td>ABAT</td>\n",
       "    </tr>\n",
       "  </tbody>\n",
       "</table>\n",
       "</div>"
      ],
      "text/plain": [
       "    baseMean  log2FoldChange     lfcSE      stat    pvalue      padj  genes  \\\n",
       "0   0.000000       -0.000000       NaN       NaN  0.000000       NaN   A1BG   \n",
       "1  17.005494        0.997743  0.421877 -2.365007  0.018030  0.073388   NAT1   \n",
       "2  18.514801        0.285635  0.388265 -0.735672  0.461931  0.674098   AAMP   \n",
       "3  18.263086        0.146687  0.365801 -0.401003  0.688418  0.838437  AARS1   \n",
       "4   9.114300        0.371837  0.536210 -0.693454  0.488025  0.694274   ABAT   \n",
       "\n",
       "  gene_id  \n",
       "0    A1BG  \n",
       "1    NAT1  \n",
       "2    AAMP  \n",
       "3   AARS1  \n",
       "4    ABAT  "
      ]
     },
     "execution_count": 312,
     "metadata": {},
     "output_type": "execute_result"
    }
   ],
   "source": [
    "# MV411_JQ1_MS2 1h tccounts ERCC\n",
    "resGene_tc.head()"
   ]
  },
  {
   "cell_type": "code",
   "execution_count": 313,
   "id": "d5f4f1ab",
   "metadata": {},
   "outputs": [
    {
     "data": {
      "text/html": [
       "<div>\n",
       "<style scoped>\n",
       "    .dataframe tbody tr th:only-of-type {\n",
       "        vertical-align: middle;\n",
       "    }\n",
       "\n",
       "    .dataframe tbody tr th {\n",
       "        vertical-align: top;\n",
       "    }\n",
       "\n",
       "    .dataframe thead th {\n",
       "        text-align: right;\n",
       "    }\n",
       "</style>\n",
       "<table border=\"1\" class=\"dataframe\">\n",
       "  <thead>\n",
       "    <tr style=\"text-align: right;\">\n",
       "      <th></th>\n",
       "      <th>baseMean</th>\n",
       "      <th>log2FoldChange</th>\n",
       "      <th>lfcSE</th>\n",
       "      <th>stat</th>\n",
       "      <th>pvalue</th>\n",
       "      <th>padj</th>\n",
       "      <th>genes</th>\n",
       "      <th>gene_id</th>\n",
       "    </tr>\n",
       "  </thead>\n",
       "  <tbody>\n",
       "    <tr>\n",
       "      <th>0</th>\n",
       "      <td>0.586216</td>\n",
       "      <td>-0.035220</td>\n",
       "      <td>2.319772</td>\n",
       "      <td>0.015183</td>\n",
       "      <td>0.987886</td>\n",
       "      <td>NaN</td>\n",
       "      <td>A1BG</td>\n",
       "      <td>A1BG</td>\n",
       "    </tr>\n",
       "    <tr>\n",
       "      <th>1</th>\n",
       "      <td>110.632372</td>\n",
       "      <td>0.238793</td>\n",
       "      <td>0.217530</td>\n",
       "      <td>-1.097748</td>\n",
       "      <td>0.272314</td>\n",
       "      <td>0.600980</td>\n",
       "      <td>NAT1</td>\n",
       "      <td>NAT1</td>\n",
       "    </tr>\n",
       "    <tr>\n",
       "      <th>2</th>\n",
       "      <td>629.776595</td>\n",
       "      <td>-0.015397</td>\n",
       "      <td>0.121981</td>\n",
       "      <td>0.126223</td>\n",
       "      <td>0.899556</td>\n",
       "      <td>0.968948</td>\n",
       "      <td>AAMP</td>\n",
       "      <td>AAMP</td>\n",
       "    </tr>\n",
       "    <tr>\n",
       "      <th>3</th>\n",
       "      <td>848.272130</td>\n",
       "      <td>0.031244</td>\n",
       "      <td>0.116140</td>\n",
       "      <td>-0.269020</td>\n",
       "      <td>0.787914</td>\n",
       "      <td>0.931638</td>\n",
       "      <td>AARS1</td>\n",
       "      <td>AARS1</td>\n",
       "    </tr>\n",
       "    <tr>\n",
       "      <th>4</th>\n",
       "      <td>252.939200</td>\n",
       "      <td>-0.062557</td>\n",
       "      <td>0.136425</td>\n",
       "      <td>0.458545</td>\n",
       "      <td>0.646561</td>\n",
       "      <td>0.870697</td>\n",
       "      <td>ABAT</td>\n",
       "      <td>ABAT</td>\n",
       "    </tr>\n",
       "  </tbody>\n",
       "</table>\n",
       "</div>"
      ],
      "text/plain": [
       "     baseMean  log2FoldChange     lfcSE      stat    pvalue      padj  genes  \\\n",
       "0    0.586216       -0.035220  2.319772  0.015183  0.987886       NaN   A1BG   \n",
       "1  110.632372        0.238793  0.217530 -1.097748  0.272314  0.600980   NAT1   \n",
       "2  629.776595       -0.015397  0.121981  0.126223  0.899556  0.968948   AAMP   \n",
       "3  848.272130        0.031244  0.116140 -0.269020  0.787914  0.931638  AARS1   \n",
       "4  252.939200       -0.062557  0.136425  0.458545  0.646561  0.870697   ABAT   \n",
       "\n",
       "  gene_id  \n",
       "0    A1BG  \n",
       "1    NAT1  \n",
       "2    AAMP  \n",
       "3   AARS1  \n",
       "4    ABAT  "
      ]
     },
     "execution_count": 313,
     "metadata": {},
     "output_type": "execute_result"
    }
   ],
   "source": [
    "# MV411_JQ1_MS2 1h readcounts ERCC\n",
    "resGene_read.head()"
   ]
  },
  {
   "cell_type": "markdown",
   "id": "13c374ac",
   "metadata": {},
   "source": [
    "__save DESeq results__"
   ]
  },
  {
   "cell_type": "code",
   "execution_count": 314,
   "id": "fec6896f",
   "metadata": {},
   "outputs": [],
   "source": [
    "# check all genes are in output\n",
    "if not tccounts.shape[0] == resGene_tc.shape[0]:\n",
    "    raise ValueError(\"Results do not have the same number of genes as counts.\")\n",
    "\n",
    "if not tccounts[\"genes\"].isin(resGene_tc[\"genes\"]).all():\n",
    "    raise ValueError(\"Results do not have the same genes as counts.\")"
   ]
  },
  {
   "cell_type": "code",
   "execution_count": 315,
   "id": "73492a56",
   "metadata": {},
   "outputs": [
    {
     "data": {
      "text/plain": [
       "'inhibitors_v2_MV411_DMSO_JQ1_MS2_ERCCsamplewise_0_5_deseq_tccounts.csv'"
      ]
     },
     "execution_count": 315,
     "metadata": {},
     "output_type": "execute_result"
    }
   ],
   "source": [
    "\"{}_{}_deseq_tccounts.csv\".format(project, \"_\".join(\n",
    "    filter(None, [var, var1, var2, scaling, str(minvar_toremove), str(mincount_toremove)])))"
   ]
  },
  {
   "cell_type": "code",
   "execution_count": 316,
   "id": "7a3b3d61",
   "metadata": {},
   "outputs": [
    {
     "name": "stdout",
     "output_type": "stream",
     "text": [
      "Saved DESeq results to: inhibitors_v2_MV411_DMSO_JQ1_MS2_ERCCsamplewise_0_5_deseq_tccounts.csv\n"
     ]
    }
   ],
   "source": [
    "# tccounts\n",
    "deseq_res_file = \"{}_{}_deseq_tccounts.csv\".format(project, \"_\".join(\n",
    "    filter(None, [var, var1, var2, scaling, str(minvar_toremove), str(mincount_toremove)])))\n",
    "resGene_tc.to_csv(\"{}/{}\".format(res_dir, deseq_res_file), index=False)\n",
    "\n",
    "print(\"Saved DESeq results to: {}\".format(deseq_res_file))"
   ]
  },
  {
   "cell_type": "code",
   "execution_count": 317,
   "id": "57122880",
   "metadata": {},
   "outputs": [
    {
     "name": "stdout",
     "output_type": "stream",
     "text": [
      "Saved DESeq results to: inhibitors_v2_MV411_DMSO_JQ1_MS2_ERCCsamplewise_0_5_deseq_readcounts.csv\n"
     ]
    }
   ],
   "source": [
    "# readcounts\n",
    "deseq_res_file = \"{}_{}_deseq_readcounts.csv\".format(project, \"_\".join(\n",
    "    filter(None, [var, var1, var2, scaling, str(minvar_toremove), str(mincount_toremove)])))\n",
    "resGene_read.to_csv(\"{}/{}\".format(res_dir, deseq_res_file), index=False)\n",
    "\n",
    "print(\"Saved DESeq results to: {}\".format(deseq_res_file))"
   ]
  },
  {
   "cell_type": "markdown",
   "id": "0740b196",
   "metadata": {
    "heading_collapsed": true
   },
   "source": [
    "### Unscaled"
   ]
  },
  {
   "cell_type": "code",
   "execution_count": 318,
   "id": "eda4fd2c",
   "metadata": {
    "hidden": true
   },
   "outputs": [],
   "source": [
    "scaling = None"
   ]
  },
  {
   "cell_type": "markdown",
   "id": "26f94ad5",
   "metadata": {
    "hidden": true
   },
   "source": [
    "__make DESeq object__"
   ]
  },
  {
   "cell_type": "code",
   "execution_count": 319,
   "id": "e376baa0",
   "metadata": {
    "hidden": true
   },
   "outputs": [
    {
     "name": "stdout",
     "output_type": "stream",
     "text": [
      "you need to have R installed with the DESeq2 library installed\n",
      "3.4.5\n"
     ]
    }
   ],
   "source": [
    "# tccounts DESeq gene object\n",
    "# just var data\n",
    "deseqGene_tc = pyDESeq2.pyDESeq2(count_matrix=tccountsGene[tccountsGene.columns[np.array([1]+var_cols, bool)]], \n",
    "                                 design_matrix=design[np.array(var_cols, bool)],\n",
    "                                 design_formula=\"~{} - {}\".format(var1, var2),\n",
    "                                 gene_column=\"genes\")"
   ]
  },
  {
   "cell_type": "code",
   "execution_count": 320,
   "id": "409658fc",
   "metadata": {
    "hidden": true
   },
   "outputs": [
    {
     "name": "stdout",
     "output_type": "stream",
     "text": [
      "you need to have R installed with the DESeq2 library installed\n",
      "3.4.5\n"
     ]
    }
   ],
   "source": [
    "# readcounts DESeq gene object\n",
    "deseqGene_read = pyDESeq2.pyDESeq2(count_matrix=readcountsGene[readcountsGene.columns[np.array([1]+var_cols, bool)]], \n",
    "                                   design_matrix=design[np.array(var_cols, bool)],\n",
    "                                   design_formula=\"~{} - {}\".format(var1, var2),\n",
    "                                   gene_column=\"genes\")"
   ]
  },
  {
   "cell_type": "markdown",
   "id": "b734bad8",
   "metadata": {
    "hidden": true
   },
   "source": [
    "__estimate size factors__"
   ]
  },
  {
   "cell_type": "code",
   "execution_count": 321,
   "id": "ec14bd88",
   "metadata": {
    "hidden": true
   },
   "outputs": [],
   "source": [
    "# tccounts\n",
    "deseqGene_tc.run_estimate_size_factors(geoMeans = np.exp(np.mean(np.log(\n",
    "    readcounts[tccountsGene.columns[[False]+design[var1].tolist()]].values+1), 1)))\n",
    "\n",
    "# readcounts\n",
    "deseqGene_read.run_estimate_size_factors()"
   ]
  },
  {
   "cell_type": "markdown",
   "id": "57d61bf7",
   "metadata": {
    "hidden": true
   },
   "source": [
    "__run it__"
   ]
  },
  {
   "cell_type": "code",
   "execution_count": 322,
   "id": "478e785d",
   "metadata": {
    "hidden": true
   },
   "outputs": [
    {
     "name": "stderr",
     "output_type": "stream",
     "text": [
      "R[write to console]: using pre-existing size factors\n",
      "\n",
      "R[write to console]: estimating dispersions\n",
      "\n",
      "R[write to console]: gene-wise dispersion estimates\n",
      "\n",
      "R[write to console]: mean-dispersion relationship\n",
      "\n",
      "R[write to console]: final dispersion estimates\n",
      "\n",
      "R[write to console]: fitting model and testing\n",
      "\n"
     ]
    },
    {
     "name": "stdout",
     "output_type": "stream",
     "text": [
      "CPU times: user 6.18 s, sys: 1 s, total: 7.18 s\n",
      "Wall time: 5.12 s\n"
     ]
    }
   ],
   "source": [
    "%%time\n",
    "\n",
    "# tccounts\n",
    "deseqGene_tc.run_deseq()\n",
    "deseqGene_tc.get_deseq_result()\n",
    "\n",
    "resGene_tc = deseqGene_tc.deseq_result\n",
    "resGene_tc.pvalue = np.nan_to_num(np.array(resGene_tc.pvalue), 1)\n",
    "resGene_tc.log2FoldChange = np.nan_to_num(np.array(resGene_tc.log2FoldChange), 0)\n",
    "resGene_tc.log2FoldChange = -resGene_tc.log2FoldChange\n",
    "resGene_tc[\"gene_id\"] = resGene_tc.genes"
   ]
  },
  {
   "cell_type": "code",
   "execution_count": 323,
   "id": "9769048d",
   "metadata": {
    "hidden": true
   },
   "outputs": [
    {
     "name": "stderr",
     "output_type": "stream",
     "text": [
      "R[write to console]: using pre-existing size factors\n",
      "\n",
      "R[write to console]: estimating dispersions\n",
      "\n",
      "R[write to console]: gene-wise dispersion estimates\n",
      "\n",
      "R[write to console]: mean-dispersion relationship\n",
      "\n",
      "R[write to console]: final dispersion estimates\n",
      "\n",
      "R[write to console]: fitting model and testing\n",
      "\n"
     ]
    },
    {
     "name": "stdout",
     "output_type": "stream",
     "text": [
      "CPU times: user 6.57 s, sys: 1.02 s, total: 7.59 s\n",
      "Wall time: 5.33 s\n"
     ]
    }
   ],
   "source": [
    "%%time\n",
    "\n",
    "#readcounts\n",
    "deseqGene_read.run_deseq()\n",
    "deseqGene_read.get_deseq_result()\n",
    "\n",
    "resGene_read = deseqGene_read.deseq_result\n",
    "resGene_read.pvalue = np.nan_to_num(np.array(resGene_read.pvalue), 1)\n",
    "resGene_read.log2FoldChange = np.nan_to_num(np.array(resGene_read.log2FoldChange), 0)\n",
    "resGene_read.log2FoldChange = -resGene_read.log2FoldChange\n",
    "resGene_read[\"gene_id\"] = resGene_read.genes"
   ]
  },
  {
   "cell_type": "code",
   "execution_count": 324,
   "id": "a7b72bc6",
   "metadata": {
    "hidden": true
   },
   "outputs": [
    {
     "data": {
      "text/html": [
       "<div>\n",
       "<style scoped>\n",
       "    .dataframe tbody tr th:only-of-type {\n",
       "        vertical-align: middle;\n",
       "    }\n",
       "\n",
       "    .dataframe tbody tr th {\n",
       "        vertical-align: top;\n",
       "    }\n",
       "\n",
       "    .dataframe thead th {\n",
       "        text-align: right;\n",
       "    }\n",
       "</style>\n",
       "<table border=\"1\" class=\"dataframe\">\n",
       "  <thead>\n",
       "    <tr style=\"text-align: right;\">\n",
       "      <th></th>\n",
       "      <th>baseMean</th>\n",
       "      <th>log2FoldChange</th>\n",
       "      <th>lfcSE</th>\n",
       "      <th>stat</th>\n",
       "      <th>pvalue</th>\n",
       "      <th>padj</th>\n",
       "      <th>genes</th>\n",
       "      <th>gene_id</th>\n",
       "    </tr>\n",
       "  </thead>\n",
       "  <tbody>\n",
       "    <tr>\n",
       "      <th>0</th>\n",
       "      <td>0.000000</td>\n",
       "      <td>-0.000000</td>\n",
       "      <td>NaN</td>\n",
       "      <td>NaN</td>\n",
       "      <td>0.000000</td>\n",
       "      <td>NaN</td>\n",
       "      <td>A1BG</td>\n",
       "      <td>A1BG</td>\n",
       "    </tr>\n",
       "    <tr>\n",
       "      <th>1</th>\n",
       "      <td>17.249085</td>\n",
       "      <td>1.027387</td>\n",
       "      <td>0.420521</td>\n",
       "      <td>-2.443131</td>\n",
       "      <td>0.014560</td>\n",
       "      <td>0.063630</td>\n",
       "      <td>NAT1</td>\n",
       "      <td>NAT1</td>\n",
       "    </tr>\n",
       "    <tr>\n",
       "      <th>2</th>\n",
       "      <td>18.780456</td>\n",
       "      <td>0.319608</td>\n",
       "      <td>0.388688</td>\n",
       "      <td>-0.822275</td>\n",
       "      <td>0.410920</td>\n",
       "      <td>0.631437</td>\n",
       "      <td>AAMP</td>\n",
       "      <td>AAMP</td>\n",
       "    </tr>\n",
       "    <tr>\n",
       "      <th>3</th>\n",
       "      <td>18.460985</td>\n",
       "      <td>0.175935</td>\n",
       "      <td>0.362857</td>\n",
       "      <td>-0.484860</td>\n",
       "      <td>0.627776</td>\n",
       "      <td>0.802453</td>\n",
       "      <td>AARS1</td>\n",
       "      <td>AARS1</td>\n",
       "    </tr>\n",
       "    <tr>\n",
       "      <th>4</th>\n",
       "      <td>9.263419</td>\n",
       "      <td>0.408224</td>\n",
       "      <td>0.534194</td>\n",
       "      <td>-0.764186</td>\n",
       "      <td>0.444756</td>\n",
       "      <td>0.662197</td>\n",
       "      <td>ABAT</td>\n",
       "      <td>ABAT</td>\n",
       "    </tr>\n",
       "  </tbody>\n",
       "</table>\n",
       "</div>"
      ],
      "text/plain": [
       "    baseMean  log2FoldChange     lfcSE      stat    pvalue      padj  genes  \\\n",
       "0   0.000000       -0.000000       NaN       NaN  0.000000       NaN   A1BG   \n",
       "1  17.249085        1.027387  0.420521 -2.443131  0.014560  0.063630   NAT1   \n",
       "2  18.780456        0.319608  0.388688 -0.822275  0.410920  0.631437   AAMP   \n",
       "3  18.460985        0.175935  0.362857 -0.484860  0.627776  0.802453  AARS1   \n",
       "4   9.263419        0.408224  0.534194 -0.764186  0.444756  0.662197   ABAT   \n",
       "\n",
       "  gene_id  \n",
       "0    A1BG  \n",
       "1    NAT1  \n",
       "2    AAMP  \n",
       "3   AARS1  \n",
       "4    ABAT  "
      ]
     },
     "execution_count": 324,
     "metadata": {},
     "output_type": "execute_result"
    }
   ],
   "source": [
    "# MV411_JQ1_MS2 1h tccounts unscaled\n",
    "resGene_tc.head()"
   ]
  },
  {
   "cell_type": "code",
   "execution_count": 325,
   "id": "d810d0b2",
   "metadata": {
    "hidden": true
   },
   "outputs": [
    {
     "data": {
      "text/html": [
       "<div>\n",
       "<style scoped>\n",
       "    .dataframe tbody tr th:only-of-type {\n",
       "        vertical-align: middle;\n",
       "    }\n",
       "\n",
       "    .dataframe tbody tr th {\n",
       "        vertical-align: top;\n",
       "    }\n",
       "\n",
       "    .dataframe thead th {\n",
       "        text-align: right;\n",
       "    }\n",
       "</style>\n",
       "<table border=\"1\" class=\"dataframe\">\n",
       "  <thead>\n",
       "    <tr style=\"text-align: right;\">\n",
       "      <th></th>\n",
       "      <th>baseMean</th>\n",
       "      <th>log2FoldChange</th>\n",
       "      <th>lfcSE</th>\n",
       "      <th>stat</th>\n",
       "      <th>pvalue</th>\n",
       "      <th>padj</th>\n",
       "      <th>genes</th>\n",
       "      <th>gene_id</th>\n",
       "    </tr>\n",
       "  </thead>\n",
       "  <tbody>\n",
       "    <tr>\n",
       "      <th>0</th>\n",
       "      <td>0.583942</td>\n",
       "      <td>-0.022111</td>\n",
       "      <td>2.317750</td>\n",
       "      <td>0.009540</td>\n",
       "      <td>0.992388</td>\n",
       "      <td>NaN</td>\n",
       "      <td>A1BG</td>\n",
       "      <td>A1BG</td>\n",
       "    </tr>\n",
       "    <tr>\n",
       "      <th>1</th>\n",
       "      <td>111.793876</td>\n",
       "      <td>0.266942</td>\n",
       "      <td>0.221932</td>\n",
       "      <td>-1.202812</td>\n",
       "      <td>0.229049</td>\n",
       "      <td>0.551979</td>\n",
       "      <td>NAT1</td>\n",
       "      <td>NAT1</td>\n",
       "    </tr>\n",
       "    <tr>\n",
       "      <th>2</th>\n",
       "      <td>635.634625</td>\n",
       "      <td>0.011804</td>\n",
       "      <td>0.122278</td>\n",
       "      <td>-0.096536</td>\n",
       "      <td>0.923094</td>\n",
       "      <td>0.977182</td>\n",
       "      <td>AAMP</td>\n",
       "      <td>AAMP</td>\n",
       "    </tr>\n",
       "    <tr>\n",
       "      <th>3</th>\n",
       "      <td>856.279326</td>\n",
       "      <td>0.058351</td>\n",
       "      <td>0.116565</td>\n",
       "      <td>-0.500590</td>\n",
       "      <td>0.616660</td>\n",
       "      <td>0.853497</td>\n",
       "      <td>AARS1</td>\n",
       "      <td>AARS1</td>\n",
       "    </tr>\n",
       "    <tr>\n",
       "      <th>4</th>\n",
       "      <td>255.204279</td>\n",
       "      <td>-0.035121</td>\n",
       "      <td>0.133727</td>\n",
       "      <td>0.262634</td>\n",
       "      <td>0.792833</td>\n",
       "      <td>0.932753</td>\n",
       "      <td>ABAT</td>\n",
       "      <td>ABAT</td>\n",
       "    </tr>\n",
       "  </tbody>\n",
       "</table>\n",
       "</div>"
      ],
      "text/plain": [
       "     baseMean  log2FoldChange     lfcSE      stat    pvalue      padj  genes  \\\n",
       "0    0.583942       -0.022111  2.317750  0.009540  0.992388       NaN   A1BG   \n",
       "1  111.793876        0.266942  0.221932 -1.202812  0.229049  0.551979   NAT1   \n",
       "2  635.634625        0.011804  0.122278 -0.096536  0.923094  0.977182   AAMP   \n",
       "3  856.279326        0.058351  0.116565 -0.500590  0.616660  0.853497  AARS1   \n",
       "4  255.204279       -0.035121  0.133727  0.262634  0.792833  0.932753   ABAT   \n",
       "\n",
       "  gene_id  \n",
       "0    A1BG  \n",
       "1    NAT1  \n",
       "2    AAMP  \n",
       "3   AARS1  \n",
       "4    ABAT  "
      ]
     },
     "execution_count": 325,
     "metadata": {},
     "output_type": "execute_result"
    }
   ],
   "source": [
    "# MV411_JQ1_MS2 1h readcounts unscaled\n",
    "resGene_read.head()"
   ]
  },
  {
   "cell_type": "markdown",
   "id": "22f8543e",
   "metadata": {
    "hidden": true
   },
   "source": [
    "__save DESeq output__"
   ]
  },
  {
   "cell_type": "code",
   "execution_count": 326,
   "id": "fd8e14ac",
   "metadata": {
    "hidden": true
   },
   "outputs": [],
   "source": [
    "# check all genes are in output\n",
    "if not tccounts.shape[0] == resGene_tc.shape[0]:\n",
    "    raise ValueError(\"Results do not have the same number of genes as counts.\")\n",
    "\n",
    "if not tccounts[\"genes\"].isin(resGene_tc[\"genes\"]).all():\n",
    "    raise ValueError(\"Results do not have the same genes as counts.\")"
   ]
  },
  {
   "cell_type": "code",
   "execution_count": 327,
   "id": "96b78917",
   "metadata": {
    "hidden": true
   },
   "outputs": [
    {
     "data": {
      "text/plain": [
       "'inhibitors_v2_MV411_DMSO_JQ1_MS2_0_5_deseq_tccounts.csv'"
      ]
     },
     "execution_count": 327,
     "metadata": {},
     "output_type": "execute_result"
    }
   ],
   "source": [
    "\"{}_{}_deseq_tccounts.csv\".format(project, \"_\".join(\n",
    "    filter(None, [var, var1, var2, scaling, str(minvar_toremove), str(mincount_toremove)])))"
   ]
  },
  {
   "cell_type": "code",
   "execution_count": 328,
   "id": "4af4bec2",
   "metadata": {
    "hidden": true
   },
   "outputs": [
    {
     "name": "stdout",
     "output_type": "stream",
     "text": [
      "Saved DESeq results to: inhibitors_v2_MV411_DMSO_JQ1_MS2_0_5_deseq_tccounts.csv\n"
     ]
    }
   ],
   "source": [
    "# tccounts\n",
    "deseq_res_file = \"{}_{}_deseq_tccounts.csv\".format(project, \"_\".join(\n",
    "    filter(None, [var, var1, var2, scaling, str(minvar_toremove), str(mincount_toremove)])))\n",
    "resGene_tc.to_csv(\"{}/{}\".format(res_dir, deseq_res_file), index=False)\n",
    "\n",
    "print(\"Saved DESeq results to: {}\".format(deseq_res_file))"
   ]
  },
  {
   "cell_type": "code",
   "execution_count": 329,
   "id": "e23ee551",
   "metadata": {
    "hidden": true
   },
   "outputs": [
    {
     "name": "stdout",
     "output_type": "stream",
     "text": [
      "Saved DESeq results to: inhibitors_v2_MV411_DMSO_JQ1_MS2_0_5_deseq_readcounts.csv\n"
     ]
    }
   ],
   "source": [
    "# readcounts\n",
    "deseq_res_file = \"{}_{}_deseq_readcounts.csv\".format(project, \"_\".join(\n",
    "    filter(None, [var, var1, var2, scaling, str(minvar_toremove), str(mincount_toremove)])))\n",
    "resGene_read.to_csv(\"{}/{}\".format(res_dir, deseq_res_file), index=False)\n",
    "\n",
    "print(\"Saved DESeq results to: {}\".format(deseq_res_file))"
   ]
  },
  {
   "cell_type": "markdown",
   "id": "44f3bb54",
   "metadata": {},
   "source": [
    "## MV411 JQ1_THZ1 1h"
   ]
  },
  {
   "cell_type": "markdown",
   "id": "6bf22ae7",
   "metadata": {
    "heading_collapsed": true
   },
   "source": [
    "### make design matrix"
   ]
  },
  {
   "cell_type": "code",
   "execution_count": 348,
   "id": "1e385ce9",
   "metadata": {
    "hidden": true
   },
   "outputs": [],
   "source": [
    "# MV411 THZ1 inhibitor 1h\n",
    "version = \"v1\"\n",
    "var_name = \"experiment\"\n",
    "var = \"MV411\"\n",
    "var1 = \"DMSO\"\n",
    "var2 = \"JQ1_THZ1\"\n",
    "drop_rep = exp_design.loc[(exp_design[var_name] == var) & (exp_design[\"drop\"] == True), \"col\"]"
   ]
  },
  {
   "cell_type": "code",
   "execution_count": 349,
   "id": "c442b9ca",
   "metadata": {
    "hidden": true
   },
   "outputs": [],
   "source": [
    "# tccounts\n",
    "tccountsGene = tccounts[tccounts.columns[:-1]]\n",
    "\n",
    "# readcounts\n",
    "readcountsGene = readcounts[readcounts.columns[:-1]]"
   ]
  },
  {
   "cell_type": "markdown",
   "id": "d57f2eb1",
   "metadata": {
    "hidden": true
   },
   "source": [
    "be careful that var_cols are only the samples being used for DESeq comparison!"
   ]
  },
  {
   "cell_type": "code",
   "execution_count": 350,
   "id": "8b965f83",
   "metadata": {
    "hidden": true
   },
   "outputs": [],
   "source": [
    "# get just var data\n",
    "# remove dropped reps\n",
    "var1_cols = [1 if (exp_design.iloc[idx][var_name] == var) and (exp_design.iloc[idx][\"treatment\"] == var1) and\n",
    "             (exp_design.iloc[idx][\"drop\"] == False) else 0 for idx in range(exp_design.shape[0])]\n",
    "\n",
    "var2_cols = [1 if (exp_design.iloc[idx][var_name] == var) and (exp_design.iloc[idx][\"treatment\"] == var2) and \n",
    "            (exp_design.iloc[idx][\"drop\"] == False) else 0 for idx in range(exp_design.shape[0])]\n",
    "\n",
    "var_cols = [sum(x) for x in zip(var1_cols, var2_cols)]\n",
    "\n",
    "# all columns\n",
    "design = pd.DataFrame(index= [i.replace(\"-\",\".\") for i in tccountsGene.columns], \n",
    "                      columns=[var1, var2], \n",
    "                      data=np.array([var1_cols, var2_cols], dtype=bool).T)"
   ]
  },
  {
   "cell_type": "code",
   "execution_count": 351,
   "id": "6c41c868",
   "metadata": {
    "collapsed": true,
    "hidden": true
   },
   "outputs": [
    {
     "data": {
      "text/html": [
       "<div>\n",
       "<style scoped>\n",
       "    .dataframe tbody tr th:only-of-type {\n",
       "        vertical-align: middle;\n",
       "    }\n",
       "\n",
       "    .dataframe tbody tr th {\n",
       "        vertical-align: top;\n",
       "    }\n",
       "\n",
       "    .dataframe thead th {\n",
       "        text-align: right;\n",
       "    }\n",
       "</style>\n",
       "<table border=\"1\" class=\"dataframe\">\n",
       "  <thead>\n",
       "    <tr style=\"text-align: right;\">\n",
       "      <th></th>\n",
       "      <th>DMSO</th>\n",
       "      <th>JQ1_THZ1</th>\n",
       "    </tr>\n",
       "  </thead>\n",
       "  <tbody>\n",
       "    <tr>\n",
       "      <th>mr590.MV411.DMSO_1h.r1_tcount</th>\n",
       "      <td>True</td>\n",
       "      <td>False</td>\n",
       "    </tr>\n",
       "    <tr>\n",
       "      <th>mr591.MV411.DMSO_1h.r2_tcount</th>\n",
       "      <td>True</td>\n",
       "      <td>False</td>\n",
       "    </tr>\n",
       "    <tr>\n",
       "      <th>mr592.MV411.DMSO_1h.r3_tcount</th>\n",
       "      <td>True</td>\n",
       "      <td>False</td>\n",
       "    </tr>\n",
       "    <tr>\n",
       "      <th>mr593.MV411.DMSO_1h.r4_tcount</th>\n",
       "      <td>True</td>\n",
       "      <td>False</td>\n",
       "    </tr>\n",
       "    <tr>\n",
       "      <th>mr594.MV411.MS2_1h.r1_tcount</th>\n",
       "      <td>False</td>\n",
       "      <td>False</td>\n",
       "    </tr>\n",
       "    <tr>\n",
       "      <th>mr595.MV411.MS2_1h.r2_tcount</th>\n",
       "      <td>False</td>\n",
       "      <td>False</td>\n",
       "    </tr>\n",
       "    <tr>\n",
       "      <th>mr596.MV411.MS2_1h.r3_tcount</th>\n",
       "      <td>False</td>\n",
       "      <td>False</td>\n",
       "    </tr>\n",
       "    <tr>\n",
       "      <th>mr597.MV411.MS2_1h.r4_tcount</th>\n",
       "      <td>False</td>\n",
       "      <td>False</td>\n",
       "    </tr>\n",
       "    <tr>\n",
       "      <th>mr598.MV411.JQ1_1h.r1_tcount</th>\n",
       "      <td>False</td>\n",
       "      <td>False</td>\n",
       "    </tr>\n",
       "    <tr>\n",
       "      <th>mr599.MV411.JQ1_1h.r2_tcount</th>\n",
       "      <td>False</td>\n",
       "      <td>False</td>\n",
       "    </tr>\n",
       "    <tr>\n",
       "      <th>mr600.MV411.JQ1_1h.r3_tcount</th>\n",
       "      <td>False</td>\n",
       "      <td>False</td>\n",
       "    </tr>\n",
       "    <tr>\n",
       "      <th>mr601.MV411.JQ1_1h.r4_tcount</th>\n",
       "      <td>False</td>\n",
       "      <td>False</td>\n",
       "    </tr>\n",
       "    <tr>\n",
       "      <th>mr602.MV411.MYCi361_1h.r1_tcount</th>\n",
       "      <td>False</td>\n",
       "      <td>False</td>\n",
       "    </tr>\n",
       "    <tr>\n",
       "      <th>mr603.MV411.MYCi361_1h.r2_tcount</th>\n",
       "      <td>False</td>\n",
       "      <td>False</td>\n",
       "    </tr>\n",
       "    <tr>\n",
       "      <th>mr604.MV411.MYCi361_1h.r3_tcount</th>\n",
       "      <td>False</td>\n",
       "      <td>False</td>\n",
       "    </tr>\n",
       "    <tr>\n",
       "      <th>mr605.MV411.MYCi361_1h.r4_tcount</th>\n",
       "      <td>False</td>\n",
       "      <td>False</td>\n",
       "    </tr>\n",
       "    <tr>\n",
       "      <th>mr606.MV411.THZ1_1h.r1_tcount</th>\n",
       "      <td>False</td>\n",
       "      <td>False</td>\n",
       "    </tr>\n",
       "    <tr>\n",
       "      <th>mr607.MV411.THZ1_1h.r2_tcount</th>\n",
       "      <td>False</td>\n",
       "      <td>False</td>\n",
       "    </tr>\n",
       "    <tr>\n",
       "      <th>mr608.MV411.THZ1_1h.r3_tcount</th>\n",
       "      <td>False</td>\n",
       "      <td>False</td>\n",
       "    </tr>\n",
       "    <tr>\n",
       "      <th>mr609.MV411.THZ1_1h.r4_tcount</th>\n",
       "      <td>False</td>\n",
       "      <td>False</td>\n",
       "    </tr>\n",
       "    <tr>\n",
       "      <th>mr610.MV411.JQ1_MS2_1h.r1_tcount</th>\n",
       "      <td>False</td>\n",
       "      <td>False</td>\n",
       "    </tr>\n",
       "    <tr>\n",
       "      <th>mr611.MV411.JQ1_MS2_1h.r2_tcount</th>\n",
       "      <td>False</td>\n",
       "      <td>False</td>\n",
       "    </tr>\n",
       "    <tr>\n",
       "      <th>mr612.MV411.JQ1_MS2_1h.r3_tcount</th>\n",
       "      <td>False</td>\n",
       "      <td>False</td>\n",
       "    </tr>\n",
       "    <tr>\n",
       "      <th>mr613.MV411.JQ1_MS2_1h.r4_tcount</th>\n",
       "      <td>False</td>\n",
       "      <td>False</td>\n",
       "    </tr>\n",
       "    <tr>\n",
       "      <th>mr614.MV411.JQ1_THZ1_1h.r1_tcount</th>\n",
       "      <td>False</td>\n",
       "      <td>True</td>\n",
       "    </tr>\n",
       "    <tr>\n",
       "      <th>mr615.MV411.JQ1_THZ1_1h.r2_tcount</th>\n",
       "      <td>False</td>\n",
       "      <td>True</td>\n",
       "    </tr>\n",
       "    <tr>\n",
       "      <th>mr616.MV411.JQ1_THZ1_1h.r3_tcount</th>\n",
       "      <td>False</td>\n",
       "      <td>True</td>\n",
       "    </tr>\n",
       "    <tr>\n",
       "      <th>mr617.MV411.JQ1_THZ1_1h.r4_tcount</th>\n",
       "      <td>False</td>\n",
       "      <td>True</td>\n",
       "    </tr>\n",
       "  </tbody>\n",
       "</table>\n",
       "</div>"
      ],
      "text/plain": [
       "                                    DMSO  JQ1_THZ1\n",
       "mr590.MV411.DMSO_1h.r1_tcount       True     False\n",
       "mr591.MV411.DMSO_1h.r2_tcount       True     False\n",
       "mr592.MV411.DMSO_1h.r3_tcount       True     False\n",
       "mr593.MV411.DMSO_1h.r4_tcount       True     False\n",
       "mr594.MV411.MS2_1h.r1_tcount       False     False\n",
       "mr595.MV411.MS2_1h.r2_tcount       False     False\n",
       "mr596.MV411.MS2_1h.r3_tcount       False     False\n",
       "mr597.MV411.MS2_1h.r4_tcount       False     False\n",
       "mr598.MV411.JQ1_1h.r1_tcount       False     False\n",
       "mr599.MV411.JQ1_1h.r2_tcount       False     False\n",
       "mr600.MV411.JQ1_1h.r3_tcount       False     False\n",
       "mr601.MV411.JQ1_1h.r4_tcount       False     False\n",
       "mr602.MV411.MYCi361_1h.r1_tcount   False     False\n",
       "mr603.MV411.MYCi361_1h.r2_tcount   False     False\n",
       "mr604.MV411.MYCi361_1h.r3_tcount   False     False\n",
       "mr605.MV411.MYCi361_1h.r4_tcount   False     False\n",
       "mr606.MV411.THZ1_1h.r1_tcount      False     False\n",
       "mr607.MV411.THZ1_1h.r2_tcount      False     False\n",
       "mr608.MV411.THZ1_1h.r3_tcount      False     False\n",
       "mr609.MV411.THZ1_1h.r4_tcount      False     False\n",
       "mr610.MV411.JQ1_MS2_1h.r1_tcount   False     False\n",
       "mr611.MV411.JQ1_MS2_1h.r2_tcount   False     False\n",
       "mr612.MV411.JQ1_MS2_1h.r3_tcount   False     False\n",
       "mr613.MV411.JQ1_MS2_1h.r4_tcount   False     False\n",
       "mr614.MV411.JQ1_THZ1_1h.r1_tcount  False      True\n",
       "mr615.MV411.JQ1_THZ1_1h.r2_tcount  False      True\n",
       "mr616.MV411.JQ1_THZ1_1h.r3_tcount  False      True\n",
       "mr617.MV411.JQ1_THZ1_1h.r4_tcount  False      True"
      ]
     },
     "execution_count": 351,
     "metadata": {},
     "output_type": "execute_result"
    }
   ],
   "source": [
    "design"
   ]
  },
  {
   "cell_type": "code",
   "execution_count": 352,
   "id": "e6219ff6",
   "metadata": {
    "hidden": true
   },
   "outputs": [],
   "source": [
    "# genes as first column\n",
    "tccountsGene = tccounts[['genes']+list(tccountsGene.columns)]\n",
    "readcountsGene = readcounts[['genes']+list(readcountsGene.columns)]"
   ]
  },
  {
   "cell_type": "markdown",
   "id": "e54bb193",
   "metadata": {},
   "source": [
    "### ERCC samplewise scaled"
   ]
  },
  {
   "cell_type": "code",
   "execution_count": 353,
   "id": "bda864db",
   "metadata": {},
   "outputs": [],
   "source": [
    "scaling=\"ERCCsamplewise\""
   ]
  },
  {
   "cell_type": "markdown",
   "id": "980e05cf",
   "metadata": {},
   "source": [
    "__make DESeq object__"
   ]
  },
  {
   "cell_type": "code",
   "execution_count": 354,
   "id": "4cdb7225",
   "metadata": {},
   "outputs": [
    {
     "name": "stdout",
     "output_type": "stream",
     "text": [
      "you need to have R installed with the DESeq2 library installed\n",
      "3.4.5\n"
     ]
    }
   ],
   "source": [
    "# tccounts DESeq gene object\n",
    "deseqGene_tc = pyDESeq2.pyDESeq2(count_matrix=tccountsGene[tccountsGene.columns[np.array([1]+var_cols, bool)]], \n",
    "                                 design_matrix=design[np.array(var_cols, bool)],\n",
    "                                 design_formula=\"~{} - {}\".format(var1, var2),\n",
    "                                 gene_column=\"genes\")"
   ]
  },
  {
   "cell_type": "code",
   "execution_count": 355,
   "id": "da0b6a31",
   "metadata": {},
   "outputs": [
    {
     "name": "stdout",
     "output_type": "stream",
     "text": [
      "you need to have R installed with the DESeq2 library installed\n",
      "3.4.5\n"
     ]
    }
   ],
   "source": [
    "# readcounts DESeq gene object\n",
    "deseqGene_read = pyDESeq2.pyDESeq2(count_matrix=readcountsGene[readcountsGene.columns[np.array([1]+var_cols, bool)]], \n",
    "                                   design_matrix=design[np.array(var_cols, bool)],\n",
    "                                   design_formula=\"~{} - {}\".format(var1, var2),\n",
    "                                   gene_column=\"genes\")"
   ]
  },
  {
   "cell_type": "markdown",
   "id": "d94887e9",
   "metadata": {},
   "source": [
    "__estimate & modify size factors__"
   ]
  },
  {
   "cell_type": "code",
   "execution_count": 356,
   "id": "3ef033bb",
   "metadata": {},
   "outputs": [],
   "source": [
    "# tccounts\n",
    "deseqGene_tc.run_estimate_size_factors(geoMeans = np.exp(np.mean(np.log(\n",
    "    readcounts[tccountsGene.columns[[False]+design[var1].tolist()]].values+1), 1)))\n",
    "\n",
    "# readcounts\n",
    "deseqGene_read.run_estimate_size_factors()"
   ]
  },
  {
   "cell_type": "code",
   "execution_count": 357,
   "id": "3c54df10",
   "metadata": {},
   "outputs": [
    {
     "data": {
      "text/plain": [
       "0\n",
       "ERCC_mr590-MV411-DMSO_1h-r1_filtered.bam        0.341648\n",
       "ERCC_mr591-MV411-DMSO_1h-r2_filtered.bam        0.329341\n",
       "ERCC_mr592-MV411-DMSO_1h-r3_filtered.bam        0.306805\n",
       "ERCC_mr593-MV411-DMSO_1h-r4_filtered.bam        0.326813\n",
       "ERCC_mr614-MV411-JQ1_THZ1_1h-r1_filtered.bam    0.468901\n",
       "ERCC_mr615-MV411-JQ1_THZ1_1h-r2_filtered.bam    0.409994\n",
       "ERCC_mr616-MV411-JQ1_THZ1_1h-r3_filtered.bam    0.334275\n",
       "ERCC_mr617-MV411-JQ1_THZ1_1h-r4_filtered.bam    0.402424\n",
       "Name: 1, dtype: float64"
      ]
     },
     "execution_count": 357,
     "metadata": {},
     "output_type": "execute_result"
    }
   ],
   "source": [
    "# read in ERCC pseudocounts\n",
    "res = pd.read_csv(res_dir+\"/\"+project+\"_scaling_factors.csv\", index_col=0, header=None, squeeze=True)\n",
    "\n",
    "# select var values\n",
    "res = res[np.array(var_cols, dtype=bool)]\n",
    "res"
   ]
  }
 ],
 "metadata": {
  "kernelspec": {
   "display_name": "Python 3 (ipykernel)",
   "language": "python",
   "name": "python3"
  },
  "language_info": {
   "codemirror_mode": {
    "name": "ipython",
    "version": 3
   },
   "file_extension": ".py",
   "mimetype": "text/x-python",
   "name": "python",
   "nbconvert_exporter": "python",
   "pygments_lexer": "ipython3",
   "version": "3.8.11"
  },
  "toc": {
   "base_numbering": 1,
   "nav_menu": {},
   "number_sections": false,
   "sideBar": true,
   "skip_h1_title": false,
   "title_cell": "Table of Contents",
   "title_sidebar": "Contents",
   "toc_cell": false,
   "toc_position": {
    "height": "calc(100% - 180px)",
    "left": "10px",
    "top": "150px",
    "width": "255.391px"
   },
   "toc_section_display": true,
   "toc_window_display": true
  }
 },
 "nbformat": 4,
 "nbformat_minor": 5
}
