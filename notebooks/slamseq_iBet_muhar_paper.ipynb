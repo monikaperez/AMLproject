{
 "cells": [
  {
   "cell_type": "markdown",
   "metadata": {},
   "source": [
    "# Slamseq Ibet re-analysis from Muhar Paper"
   ]
  },
  {
   "cell_type": "code",
   "execution_count": 2,
   "metadata": {},
   "outputs": [
    {
     "data": {
      "text/html": [
       "\n",
       "    <div class=\"bk-root\">\n",
       "        <a href=\"https://bokeh.org\" target=\"_blank\" class=\"bk-logo bk-logo-small bk-logo-notebook\"></a>\n",
       "        <span id=\"1001\">Loading BokehJS ...</span>\n",
       "    </div>"
      ]
     },
     "metadata": {},
     "output_type": "display_data"
    },
    {
     "data": {
      "application/javascript": [
       "\n",
       "(function(root) {\n",
       "  function now() {\n",
       "    return new Date();\n",
       "  }\n",
       "\n",
       "  var force = true;\n",
       "\n",
       "  if (typeof root._bokeh_onload_callbacks === \"undefined\" || force === true) {\n",
       "    root._bokeh_onload_callbacks = [];\n",
       "    root._bokeh_is_loading = undefined;\n",
       "  }\n",
       "\n",
       "  var JS_MIME_TYPE = 'application/javascript';\n",
       "  var HTML_MIME_TYPE = 'text/html';\n",
       "  var EXEC_MIME_TYPE = 'application/vnd.bokehjs_exec.v0+json';\n",
       "  var CLASS_NAME = 'output_bokeh rendered_html';\n",
       "\n",
       "  /**\n",
       "   * Render data to the DOM node\n",
       "   */\n",
       "  function render(props, node) {\n",
       "    var script = document.createElement(\"script\");\n",
       "    node.appendChild(script);\n",
       "  }\n",
       "\n",
       "  /**\n",
       "   * Handle when an output is cleared or removed\n",
       "   */\n",
       "  function handleClearOutput(event, handle) {\n",
       "    var cell = handle.cell;\n",
       "\n",
       "    var id = cell.output_area._bokeh_element_id;\n",
       "    var server_id = cell.output_area._bokeh_server_id;\n",
       "    // Clean up Bokeh references\n",
       "    if (id != null && id in Bokeh.index) {\n",
       "      Bokeh.index[id].model.document.clear();\n",
       "      delete Bokeh.index[id];\n",
       "    }\n",
       "\n",
       "    if (server_id !== undefined) {\n",
       "      // Clean up Bokeh references\n",
       "      var cmd = \"from bokeh.io.state import curstate; print(curstate().uuid_to_server['\" + server_id + \"'].get_sessions()[0].document.roots[0]._id)\";\n",
       "      cell.notebook.kernel.execute(cmd, {\n",
       "        iopub: {\n",
       "          output: function(msg) {\n",
       "            var id = msg.content.text.trim();\n",
       "            if (id in Bokeh.index) {\n",
       "              Bokeh.index[id].model.document.clear();\n",
       "              delete Bokeh.index[id];\n",
       "            }\n",
       "          }\n",
       "        }\n",
       "      });\n",
       "      // Destroy server and session\n",
       "      var cmd = \"import bokeh.io.notebook as ion; ion.destroy_server('\" + server_id + \"')\";\n",
       "      cell.notebook.kernel.execute(cmd);\n",
       "    }\n",
       "  }\n",
       "\n",
       "  /**\n",
       "   * Handle when a new output is added\n",
       "   */\n",
       "  function handleAddOutput(event, handle) {\n",
       "    var output_area = handle.output_area;\n",
       "    var output = handle.output;\n",
       "\n",
       "    // limit handleAddOutput to display_data with EXEC_MIME_TYPE content only\n",
       "    if ((output.output_type != \"display_data\") || (!output.data.hasOwnProperty(EXEC_MIME_TYPE))) {\n",
       "      return\n",
       "    }\n",
       "\n",
       "    var toinsert = output_area.element.find(\".\" + CLASS_NAME.split(' ')[0]);\n",
       "\n",
       "    if (output.metadata[EXEC_MIME_TYPE][\"id\"] !== undefined) {\n",
       "      toinsert[toinsert.length - 1].firstChild.textContent = output.data[JS_MIME_TYPE];\n",
       "      // store reference to embed id on output_area\n",
       "      output_area._bokeh_element_id = output.metadata[EXEC_MIME_TYPE][\"id\"];\n",
       "    }\n",
       "    if (output.metadata[EXEC_MIME_TYPE][\"server_id\"] !== undefined) {\n",
       "      var bk_div = document.createElement(\"div\");\n",
       "      bk_div.innerHTML = output.data[HTML_MIME_TYPE];\n",
       "      var script_attrs = bk_div.children[0].attributes;\n",
       "      for (var i = 0; i < script_attrs.length; i++) {\n",
       "        toinsert[toinsert.length - 1].firstChild.setAttribute(script_attrs[i].name, script_attrs[i].value);\n",
       "        toinsert[toinsert.length - 1].firstChild.textContent = bk_div.children[0].textContent\n",
       "      }\n",
       "      // store reference to server id on output_area\n",
       "      output_area._bokeh_server_id = output.metadata[EXEC_MIME_TYPE][\"server_id\"];\n",
       "    }\n",
       "  }\n",
       "\n",
       "  function register_renderer(events, OutputArea) {\n",
       "\n",
       "    function append_mime(data, metadata, element) {\n",
       "      // create a DOM node to render to\n",
       "      var toinsert = this.create_output_subarea(\n",
       "        metadata,\n",
       "        CLASS_NAME,\n",
       "        EXEC_MIME_TYPE\n",
       "      );\n",
       "      this.keyboard_manager.register_events(toinsert);\n",
       "      // Render to node\n",
       "      var props = {data: data, metadata: metadata[EXEC_MIME_TYPE]};\n",
       "      render(props, toinsert[toinsert.length - 1]);\n",
       "      element.append(toinsert);\n",
       "      return toinsert\n",
       "    }\n",
       "\n",
       "    /* Handle when an output is cleared or removed */\n",
       "    events.on('clear_output.CodeCell', handleClearOutput);\n",
       "    events.on('delete.Cell', handleClearOutput);\n",
       "\n",
       "    /* Handle when a new output is added */\n",
       "    events.on('output_added.OutputArea', handleAddOutput);\n",
       "\n",
       "    /**\n",
       "     * Register the mime type and append_mime function with output_area\n",
       "     */\n",
       "    OutputArea.prototype.register_mime_type(EXEC_MIME_TYPE, append_mime, {\n",
       "      /* Is output safe? */\n",
       "      safe: true,\n",
       "      /* Index of renderer in `output_area.display_order` */\n",
       "      index: 0\n",
       "    });\n",
       "  }\n",
       "\n",
       "  // register the mime type if in Jupyter Notebook environment and previously unregistered\n",
       "  if (root.Jupyter !== undefined) {\n",
       "    var events = require('base/js/events');\n",
       "    var OutputArea = require('notebook/js/outputarea').OutputArea;\n",
       "\n",
       "    if (OutputArea.prototype.mime_types().indexOf(EXEC_MIME_TYPE) == -1) {\n",
       "      register_renderer(events, OutputArea);\n",
       "    }\n",
       "  }\n",
       "\n",
       "  \n",
       "  if (typeof (root._bokeh_timeout) === \"undefined\" || force === true) {\n",
       "    root._bokeh_timeout = Date.now() + 5000;\n",
       "    root._bokeh_failed_load = false;\n",
       "  }\n",
       "\n",
       "  var NB_LOAD_WARNING = {'data': {'text/html':\n",
       "     \"<div style='background-color: #fdd'>\\n\"+\n",
       "     \"<p>\\n\"+\n",
       "     \"BokehJS does not appear to have successfully loaded. If loading BokehJS from CDN, this \\n\"+\n",
       "     \"may be due to a slow or bad network connection. Possible fixes:\\n\"+\n",
       "     \"</p>\\n\"+\n",
       "     \"<ul>\\n\"+\n",
       "     \"<li>re-rerun `output_notebook()` to attempt to load from CDN again, or</li>\\n\"+\n",
       "     \"<li>use INLINE resources instead, as so:</li>\\n\"+\n",
       "     \"</ul>\\n\"+\n",
       "     \"<code>\\n\"+\n",
       "     \"from bokeh.resources import INLINE\\n\"+\n",
       "     \"output_notebook(resources=INLINE)\\n\"+\n",
       "     \"</code>\\n\"+\n",
       "     \"</div>\"}};\n",
       "\n",
       "  function display_loaded() {\n",
       "    var el = document.getElementById(\"1001\");\n",
       "    if (el != null) {\n",
       "      el.textContent = \"BokehJS is loading...\";\n",
       "    }\n",
       "    if (root.Bokeh !== undefined) {\n",
       "      if (el != null) {\n",
       "        el.textContent = \"BokehJS \" + root.Bokeh.version + \" successfully loaded.\";\n",
       "      }\n",
       "    } else if (Date.now() < root._bokeh_timeout) {\n",
       "      setTimeout(display_loaded, 100)\n",
       "    }\n",
       "  }\n",
       "\n",
       "\n",
       "  function run_callbacks() {\n",
       "    try {\n",
       "      root._bokeh_onload_callbacks.forEach(function(callback) {\n",
       "        if (callback != null)\n",
       "          callback();\n",
       "      });\n",
       "    } finally {\n",
       "      delete root._bokeh_onload_callbacks\n",
       "    }\n",
       "    console.debug(\"Bokeh: all callbacks have finished\");\n",
       "  }\n",
       "\n",
       "  function load_libs(css_urls, js_urls, callback) {\n",
       "    if (css_urls == null) css_urls = [];\n",
       "    if (js_urls == null) js_urls = [];\n",
       "\n",
       "    root._bokeh_onload_callbacks.push(callback);\n",
       "    if (root._bokeh_is_loading > 0) {\n",
       "      console.debug(\"Bokeh: BokehJS is being loaded, scheduling callback at\", now());\n",
       "      return null;\n",
       "    }\n",
       "    if (js_urls == null || js_urls.length === 0) {\n",
       "      run_callbacks();\n",
       "      return null;\n",
       "    }\n",
       "    console.debug(\"Bokeh: BokehJS not loaded, scheduling load and callback at\", now());\n",
       "    root._bokeh_is_loading = css_urls.length + js_urls.length;\n",
       "\n",
       "    function on_load() {\n",
       "      root._bokeh_is_loading--;\n",
       "      if (root._bokeh_is_loading === 0) {\n",
       "        console.debug(\"Bokeh: all BokehJS libraries/stylesheets loaded\");\n",
       "        run_callbacks()\n",
       "      }\n",
       "    }\n",
       "\n",
       "    function on_error() {\n",
       "      console.error(\"failed to load \" + url);\n",
       "    }\n",
       "\n",
       "    for (var i = 0; i < css_urls.length; i++) {\n",
       "      var url = css_urls[i];\n",
       "      const element = document.createElement(\"link\");\n",
       "      element.onload = on_load;\n",
       "      element.onerror = on_error;\n",
       "      element.rel = \"stylesheet\";\n",
       "      element.type = \"text/css\";\n",
       "      element.href = url;\n",
       "      console.debug(\"Bokeh: injecting link tag for BokehJS stylesheet: \", url);\n",
       "      document.body.appendChild(element);\n",
       "    }\n",
       "\n",
       "    const hashes = {\"https://cdn.bokeh.org/bokeh/release/bokeh-2.0.2.min.js\": \"ufR9RFnRs6lniiaFvtJziE0YeidtAgBRH6ux2oUItHw5WTvE1zuk9uzhUU/FJXDp\", \"https://cdn.bokeh.org/bokeh/release/bokeh-widgets-2.0.2.min.js\": \"8QM/PGWBT+IssZuRcDcjzwIh1mkOmJSoNMmyYDZbCfXJg3Ap1lEvdVgFuSAwhb/J\", \"https://cdn.bokeh.org/bokeh/release/bokeh-tables-2.0.2.min.js\": \"Jm8cH3Rg0P6UeZhVY5cLy1WzKajUT9KImCY+76hEqrcJt59/d8GPvFHjCkYgnSIn\", \"https://cdn.bokeh.org/bokeh/release/bokeh-gl-2.0.2.min.js\": \"Ozhzj+SI7ywm74aOI/UajcWz+C0NjsPunEVyVIrxzYkB+jA+2tUw8x5xJCbVtK5I\"};\n",
       "\n",
       "    for (var i = 0; i < js_urls.length; i++) {\n",
       "      var url = js_urls[i];\n",
       "      var element = document.createElement('script');\n",
       "      element.onload = on_load;\n",
       "      element.onerror = on_error;\n",
       "      element.async = false;\n",
       "      element.src = url;\n",
       "      if (url in hashes) {\n",
       "        element.crossOrigin = \"anonymous\";\n",
       "        element.integrity = \"sha384-\" + hashes[url];\n",
       "      }\n",
       "      console.debug(\"Bokeh: injecting script tag for BokehJS library: \", url);\n",
       "      document.head.appendChild(element);\n",
       "    }\n",
       "  };\n",
       "\n",
       "  function inject_raw_css(css) {\n",
       "    const element = document.createElement(\"style\");\n",
       "    element.appendChild(document.createTextNode(css));\n",
       "    document.body.appendChild(element);\n",
       "  }\n",
       "\n",
       "  \n",
       "  var js_urls = [\"https://cdn.bokeh.org/bokeh/release/bokeh-2.0.2.min.js\", \"https://cdn.bokeh.org/bokeh/release/bokeh-widgets-2.0.2.min.js\", \"https://cdn.bokeh.org/bokeh/release/bokeh-tables-2.0.2.min.js\", \"https://cdn.bokeh.org/bokeh/release/bokeh-gl-2.0.2.min.js\"];\n",
       "  var css_urls = [];\n",
       "  \n",
       "\n",
       "  var inline_js = [\n",
       "    function(Bokeh) {\n",
       "      Bokeh.set_log_level(\"info\");\n",
       "    },\n",
       "    function(Bokeh) {\n",
       "    \n",
       "    \n",
       "    }\n",
       "  ];\n",
       "\n",
       "  function run_inline_js() {\n",
       "    \n",
       "    if (root.Bokeh !== undefined || force === true) {\n",
       "      \n",
       "    for (var i = 0; i < inline_js.length; i++) {\n",
       "      inline_js[i].call(root, root.Bokeh);\n",
       "    }\n",
       "    if (force === true) {\n",
       "        display_loaded();\n",
       "      }} else if (Date.now() < root._bokeh_timeout) {\n",
       "      setTimeout(run_inline_js, 100);\n",
       "    } else if (!root._bokeh_failed_load) {\n",
       "      console.log(\"Bokeh: BokehJS failed to load within specified timeout.\");\n",
       "      root._bokeh_failed_load = true;\n",
       "    } else if (force !== true) {\n",
       "      var cell = $(document.getElementById(\"1001\")).parents('.cell').data().cell;\n",
       "      cell.output_area.append_execute_result(NB_LOAD_WARNING)\n",
       "    }\n",
       "\n",
       "  }\n",
       "\n",
       "  if (root._bokeh_is_loading === 0) {\n",
       "    console.debug(\"Bokeh: BokehJS loaded, going straight to plotting\");\n",
       "    run_inline_js();\n",
       "  } else {\n",
       "    load_libs(css_urls, js_urls, function() {\n",
       "      console.debug(\"Bokeh: BokehJS plotting callback run at\", now());\n",
       "      run_inline_js();\n",
       "    });\n",
       "  }\n",
       "}(window));"
      ],
      "application/vnd.bokehjs_load.v0+json": "\n(function(root) {\n  function now() {\n    return new Date();\n  }\n\n  var force = true;\n\n  if (typeof root._bokeh_onload_callbacks === \"undefined\" || force === true) {\n    root._bokeh_onload_callbacks = [];\n    root._bokeh_is_loading = undefined;\n  }\n\n  \n\n  \n  if (typeof (root._bokeh_timeout) === \"undefined\" || force === true) {\n    root._bokeh_timeout = Date.now() + 5000;\n    root._bokeh_failed_load = false;\n  }\n\n  var NB_LOAD_WARNING = {'data': {'text/html':\n     \"<div style='background-color: #fdd'>\\n\"+\n     \"<p>\\n\"+\n     \"BokehJS does not appear to have successfully loaded. If loading BokehJS from CDN, this \\n\"+\n     \"may be due to a slow or bad network connection. Possible fixes:\\n\"+\n     \"</p>\\n\"+\n     \"<ul>\\n\"+\n     \"<li>re-rerun `output_notebook()` to attempt to load from CDN again, or</li>\\n\"+\n     \"<li>use INLINE resources instead, as so:</li>\\n\"+\n     \"</ul>\\n\"+\n     \"<code>\\n\"+\n     \"from bokeh.resources import INLINE\\n\"+\n     \"output_notebook(resources=INLINE)\\n\"+\n     \"</code>\\n\"+\n     \"</div>\"}};\n\n  function display_loaded() {\n    var el = document.getElementById(\"1001\");\n    if (el != null) {\n      el.textContent = \"BokehJS is loading...\";\n    }\n    if (root.Bokeh !== undefined) {\n      if (el != null) {\n        el.textContent = \"BokehJS \" + root.Bokeh.version + \" successfully loaded.\";\n      }\n    } else if (Date.now() < root._bokeh_timeout) {\n      setTimeout(display_loaded, 100)\n    }\n  }\n\n\n  function run_callbacks() {\n    try {\n      root._bokeh_onload_callbacks.forEach(function(callback) {\n        if (callback != null)\n          callback();\n      });\n    } finally {\n      delete root._bokeh_onload_callbacks\n    }\n    console.debug(\"Bokeh: all callbacks have finished\");\n  }\n\n  function load_libs(css_urls, js_urls, callback) {\n    if (css_urls == null) css_urls = [];\n    if (js_urls == null) js_urls = [];\n\n    root._bokeh_onload_callbacks.push(callback);\n    if (root._bokeh_is_loading > 0) {\n      console.debug(\"Bokeh: BokehJS is being loaded, scheduling callback at\", now());\n      return null;\n    }\n    if (js_urls == null || js_urls.length === 0) {\n      run_callbacks();\n      return null;\n    }\n    console.debug(\"Bokeh: BokehJS not loaded, scheduling load and callback at\", now());\n    root._bokeh_is_loading = css_urls.length + js_urls.length;\n\n    function on_load() {\n      root._bokeh_is_loading--;\n      if (root._bokeh_is_loading === 0) {\n        console.debug(\"Bokeh: all BokehJS libraries/stylesheets loaded\");\n        run_callbacks()\n      }\n    }\n\n    function on_error() {\n      console.error(\"failed to load \" + url);\n    }\n\n    for (var i = 0; i < css_urls.length; i++) {\n      var url = css_urls[i];\n      const element = document.createElement(\"link\");\n      element.onload = on_load;\n      element.onerror = on_error;\n      element.rel = \"stylesheet\";\n      element.type = \"text/css\";\n      element.href = url;\n      console.debug(\"Bokeh: injecting link tag for BokehJS stylesheet: \", url);\n      document.body.appendChild(element);\n    }\n\n    const hashes = {\"https://cdn.bokeh.org/bokeh/release/bokeh-2.0.2.min.js\": \"ufR9RFnRs6lniiaFvtJziE0YeidtAgBRH6ux2oUItHw5WTvE1zuk9uzhUU/FJXDp\", \"https://cdn.bokeh.org/bokeh/release/bokeh-widgets-2.0.2.min.js\": \"8QM/PGWBT+IssZuRcDcjzwIh1mkOmJSoNMmyYDZbCfXJg3Ap1lEvdVgFuSAwhb/J\", \"https://cdn.bokeh.org/bokeh/release/bokeh-tables-2.0.2.min.js\": \"Jm8cH3Rg0P6UeZhVY5cLy1WzKajUT9KImCY+76hEqrcJt59/d8GPvFHjCkYgnSIn\", \"https://cdn.bokeh.org/bokeh/release/bokeh-gl-2.0.2.min.js\": \"Ozhzj+SI7ywm74aOI/UajcWz+C0NjsPunEVyVIrxzYkB+jA+2tUw8x5xJCbVtK5I\"};\n\n    for (var i = 0; i < js_urls.length; i++) {\n      var url = js_urls[i];\n      var element = document.createElement('script');\n      element.onload = on_load;\n      element.onerror = on_error;\n      element.async = false;\n      element.src = url;\n      if (url in hashes) {\n        element.crossOrigin = \"anonymous\";\n        element.integrity = \"sha384-\" + hashes[url];\n      }\n      console.debug(\"Bokeh: injecting script tag for BokehJS library: \", url);\n      document.head.appendChild(element);\n    }\n  };\n\n  function inject_raw_css(css) {\n    const element = document.createElement(\"style\");\n    element.appendChild(document.createTextNode(css));\n    document.body.appendChild(element);\n  }\n\n  \n  var js_urls = [\"https://cdn.bokeh.org/bokeh/release/bokeh-2.0.2.min.js\", \"https://cdn.bokeh.org/bokeh/release/bokeh-widgets-2.0.2.min.js\", \"https://cdn.bokeh.org/bokeh/release/bokeh-tables-2.0.2.min.js\", \"https://cdn.bokeh.org/bokeh/release/bokeh-gl-2.0.2.min.js\"];\n  var css_urls = [];\n  \n\n  var inline_js = [\n    function(Bokeh) {\n      Bokeh.set_log_level(\"info\");\n    },\n    function(Bokeh) {\n    \n    \n    }\n  ];\n\n  function run_inline_js() {\n    \n    if (root.Bokeh !== undefined || force === true) {\n      \n    for (var i = 0; i < inline_js.length; i++) {\n      inline_js[i].call(root, root.Bokeh);\n    }\n    if (force === true) {\n        display_loaded();\n      }} else if (Date.now() < root._bokeh_timeout) {\n      setTimeout(run_inline_js, 100);\n    } else if (!root._bokeh_failed_load) {\n      console.log(\"Bokeh: BokehJS failed to load within specified timeout.\");\n      root._bokeh_failed_load = true;\n    } else if (force !== true) {\n      var cell = $(document.getElementById(\"1001\")).parents('.cell').data().cell;\n      cell.output_area.append_execute_result(NB_LOAD_WARNING)\n    }\n\n  }\n\n  if (root._bokeh_is_loading === 0) {\n    console.debug(\"Bokeh: BokehJS loaded, going straight to plotting\");\n    run_inline_js();\n  } else {\n    load_libs(css_urls, js_urls, function() {\n      console.debug(\"Bokeh: BokehJS plotting callback run at\", now());\n      run_inline_js();\n    });\n  }\n}(window));"
     },
     "metadata": {},
     "output_type": "display_data"
    }
   ],
   "source": [
    "from __future__ import print_function\n",
    "import os.path\n",
    "import pandas as pd\n",
    "import sys\n",
    "sys.path.insert(0, '../../')\n",
    "import seaborn as sns\n",
    "import numpy as np\n",
    "\n",
    "from JKBio.Helper import *\n",
    "from JKBio.helper import pyDESeq2\n",
    "\n",
    "from bokeh.plotting import *\n",
    "from bokeh.models import HoverTool\n",
    "import matplotlib.pyplot as plt\n",
    "\n",
    "from sklearn.neighbors import KNeighborsClassifier\n",
    "from sklearn.manifold import MDS, TSNE\n",
    "from sklearn.decomposition import PCA\n",
    "from sklearn.preprocessing import scale\n",
    "#from umap import UMAP\n",
    "\n",
    "output_notebook()\n",
    "%load_ext autoreload\n",
    "%matplotlib inline\n",
    "%autoreload 2\n",
    "%load_ext rpy2.ipython"
   ]
  },
  {
   "cell_type": "markdown",
   "metadata": {},
   "source": [
    "downloading their data"
   ]
  },
  {
   "cell_type": "markdown",
   "metadata": {},
   "source": [
    "## downloading the data"
   ]
  },
  {
   "cell_type": "code",
   "execution_count": null,
   "metadata": {},
   "outputs": [],
   "source": [
    "version=\"v4\"\n",
    "project=\"Muhar_Slamseq\"\n",
    "location= '../data/'+project+\"/\""
   ]
  },
  {
   "cell_type": "code",
   "execution_count": null,
   "metadata": {},
   "outputs": [],
   "source": [
    "gsutil -m cp -r gsutil ls gs://amlproject/RNA/slamseq/MYCpaper/ ../../data/$project/"
   ]
  },
  {
   "cell_type": "code",
   "execution_count": null,
   "metadata": {},
   "outputs": [],
   "source": [
    "location= '../../data/'+project+'/count/'"
   ]
  },
  {
   "cell_type": "code",
   "execution_count": null,
   "metadata": {},
   "outputs": [],
   "source": [
    "files = ! ls $location*.tsv\n",
    "files"
   ]
  },
  {
   "cell_type": "code",
   "execution_count": null,
   "metadata": {},
   "outputs": [],
   "source": [
    "files = files[:6] +[files[i] for i in [-8,-6,-4]] + files[-3:]"
   ]
  },
  {
   "cell_type": "markdown",
   "metadata": {},
   "source": [
    "## Running slamdunk"
   ]
  },
  {
   "cell_type": "code",
   "execution_count": null,
   "metadata": {},
   "outputs": [],
   "source": [
    "#if need to download the data from sra\n",
    "! mkdir ../../data/slam/MYCpaper && cd ../../data/slam/MYCpaper && fastq_dump SRR5806781 && fastq_dump SRR5806783 && fastq_dump SRR5806785 &&\n",
    "fastq_dump SRR5806780 && fastq_dump SRR5806782 && fastq_dump SRR5806784 && cd -"
   ]
  },
  {
   "cell_type": "code",
   "execution_count": null,
   "metadata": {},
   "outputs": [],
   "source": [
    "folder_bams = \"../../data/slam/MYCpaper/\"\n",
    "bams = ! ls $folder_bams\n",
    "bams"
   ]
  },
  {
   "cell_type": "code",
   "execution_count": null,
   "metadata": {},
   "outputs": [],
   "source": [
    "! pip3 install git+https://github.com/jkobject/slamdunk.git --upgrade"
   ]
  },
  {
   "cell_type": "code",
   "execution_count": null,
   "metadata": {},
   "outputs": [],
   "source": [
    "for val in bams[1:]:\n",
    "    print(val)\n",
    "    os.system('../../TrimGalore-0.6.5/trim_galore -stringency 3 \\\n",
    "    --illumina '+folder_bams+val + ' -o '+folder_bams) "
   ]
  },
  {
   "cell_type": "code",
   "execution_count": null,
   "metadata": {},
   "outputs": [],
   "source": [
    "ls -al ../../data/slam/res/count"
   ]
  },
  {
   "cell_type": "code",
   "execution_count": null,
   "metadata": {},
   "outputs": [],
   "source": [
    "for val in bams[1:]:\n",
    "    print(val)\n",
    "    os.system('slamdunk all -r ../../data/slam/ref_genome.fa -b ../../data/slam/GSE100708_hg38_refseq_062016_ensemblv84_3UTR.bed \\\n",
    "    -o ../../data/slam/res/ -t 8 -c 2 '+folder_bams+val.split('.')[0]+'_trimmed.fq')"
   ]
  },
  {
   "cell_type": "code",
   "execution_count": null,
   "metadata": {},
   "outputs": [],
   "source": [
    "ls -al ../../data/slam/res/filter"
   ]
  },
  {
   "cell_type": "code",
   "execution_count": null,
   "metadata": {},
   "outputs": [],
   "source": [
    "for val in bams[1:]:\n",
    "    print(val)\n",
    "    os.system('slamdunk count -r ../../data/slam/ref_genome.fa \\\n",
    "    -b ../../data/slam/GSE100708_hg38_refseq_062016_ensemblv84_3UTR.bed \\\n",
    "    -o ../../data/slam/res/count/ -t 8 -c 2 -s ../../data/slam/res/snp \\\n",
    "    ../../data/slam/res/filter/'+ val.split('.')[0]+\"_trimmed_slamdunk_mapped_filtered.bam\")"
   ]
  },
  {
   "cell_type": "markdown",
   "metadata": {},
   "source": [
    "## we first need to recreate out RNA matrix from slamdunk's tcount files"
   ]
  },
  {
   "cell_type": "code",
   "execution_count": null,
   "metadata": {},
   "outputs": [],
   "source": [
    "data={}\n",
    "for file in files:\n",
    "    data[file.split('.')[-3].split('/')[-1]]= pd.read_csv(file, sep='\\t', comment='#',header=0)"
   ]
  },
  {
   "cell_type": "code",
   "execution_count": null,
   "metadata": {},
   "outputs": [],
   "source": [
    "prev = -2\n",
    "for k,val in data.items():\n",
    "    if len(set(val.Name)) != prev and prev!=-2: \n",
    "        raise ValueError('we do not have the same number of genes in each file')\n",
    "    prev = len(set(val.Name))"
   ]
  },
  {
   "cell_type": "markdown",
   "metadata": {},
   "source": [
    "![](images/conversionrates.png)"
   ]
  },
  {
   "cell_type": "code",
   "execution_count": null,
   "metadata": {},
   "outputs": [],
   "source": [
    "data.keys()"
   ]
  },
  {
   "cell_type": "code",
   "execution_count": null,
   "metadata": {},
   "outputs": [],
   "source": [
    "val"
   ]
  },
  {
   "cell_type": "code",
   "execution_count": null,
   "metadata": {},
   "outputs": [],
   "source": [
    "flag_var= 100\n",
    "\n",
    "readcounts = {i:[0]*len(data) for i in val.Name.unique()}\n",
    "tccounts = {i:[0]*len(data) for i in val.Name.unique()}"
   ]
  },
  {
   "cell_type": "code",
   "execution_count": null,
   "metadata": {},
   "outputs": [],
   "source": [
    "for n, (_,val) in enumerate(data.items()):\n",
    "    val = val.sort_values(by=\"Name\")\n",
    "    j  = 0\n",
    "    #print('              ',end='\\r')\n",
    "    readcount = [val.iloc[0].ReadCount]\n",
    "    tccount = [val.iloc[0].TcReadCount]\n",
    "    prevname = val.iloc[0].Name\n",
    "    for _, v in val.iloc[1:].iterrows():\n",
    "        if v.Name==4609:\n",
    "            print(v.ReadCount,v.TcReadCount)\n",
    "            print(readcount,tccount)\n",
    "        if v.Name == prevname:\n",
    "            readcount.append(v.ReadCount)\n",
    "            tccount.append(v.TcReadCount)\n",
    "        else:\n",
    "            readcounts[prevname][n] = np.sum(readcount)\n",
    "            tccounts[prevname][n] = np.sum(tccount)\n",
    "            #if np.var(readcount) > flag_var:\n",
    "            #    print(\"pb with \"+str(v.Name))\n",
    "            prevname=v.Name\n",
    "            j+=1\n",
    "            #print(j,end='\\r')\n",
    "            readcount = [v.ReadCount]\n",
    "            tccount = [v.TcReadCount]\n",
    "files = [*data]"
   ]
  },
  {
   "cell_type": "code",
   "execution_count": null,
   "metadata": {},
   "outputs": [],
   "source": [
    "val.Name"
   ]
  },
  {
   "cell_type": "code",
   "execution_count": null,
   "metadata": {},
   "outputs": [],
   "source": [
    "readcounts = pd.DataFrame(data=readcounts,columns=val.Name.unique(),index=data.keys()).T\n",
    "tccounts = pd.DataFrame(data=tccounts,columns=val.Name.unique(),index=data.keys()).T"
   ]
  },
  {
   "cell_type": "code",
   "execution_count": null,
   "metadata": {},
   "outputs": [],
   "source": [
    "names, _ = convertGenes(readcounts.index.tolist(), from_idtype=\"entrez_id\", to_idtype=\"symbol\")\n",
    "readcounts.index = names"
   ]
  },
  {
   "cell_type": "code",
   "execution_count": null,
   "metadata": {},
   "outputs": [],
   "source": [
    "names, _ = convertGenes(tccounts.index.tolist(), from_idtype=\"entrez_id\", to_idtype=\"symbol\")\n",
    "tccounts.index = names"
   ]
  },
  {
   "cell_type": "code",
   "execution_count": null,
   "metadata": {},
   "outputs": [],
   "source": [
    "tccounts.values.mean()"
   ]
  },
  {
   "cell_type": "code",
   "execution_count": null,
   "metadata": {},
   "outputs": [],
   "source": [
    "minvar_toremove = 2\n",
    "mincount_toremove = 10"
   ]
  },
  {
   "cell_type": "code",
   "execution_count": null,
   "metadata": {},
   "outputs": [],
   "source": [
    "nottodrop = np.argwhere(tccounts.values.var(0)>=lowvar_toremove).ravel()\n",
    "#tccounts = tccounts.iloc[nottodrop]\n",
    "#readcounts = readcounts.iloc[nottodrop]"
   ]
  },
  {
   "cell_type": "code",
   "execution_count": null,
   "metadata": {},
   "outputs": [],
   "source": [
    "nottodrop=np.argwhere(readcounts.values.max(1)>=mincount_toremove).ravel()\n",
    "tccounts = tccounts.iloc[nottodrop]\n",
    "readcounts = readcounts.iloc[nottodrop]"
   ]
  },
  {
   "cell_type": "code",
   "execution_count": null,
   "metadata": {},
   "outputs": [],
   "source": [
    "len(readcounts)"
   ]
  },
  {
   "cell_type": "markdown",
   "metadata": {},
   "source": [
    "## SLAM-seq\n",
    "All SLAM-seq assays were performed at 60-70% confluency for adherent cells or\n",
    "60% of the maximum cell density counted on a hemocytometer for suspension cells. 5-7h\n",
    "prior to each assay, growth medium was aspirated and replaced. Unless stated otherwise,\n",
    "cells were pre-treated with indicated small molecule inhibitors or 100µM IAA for 30 min\n",
    "to pre-establish full target inhibition or degradation. Newly synthesized RNA was labeled\n",
    "for indicated time spans (45 min or 60 min) at a final concentration of 100µM 4-\n",
    "thiouridine (4sU, Carbosynth). Adherent cells were harvested by direct snap-freezing of\n",
    "plates on dry ice. Suspension cells were spun down and immediately snap-frozen. RNA\n",
    "extraction was performed using the RNeasy Plus Mini Kit (Qiagen). \n",
    "\n",
    "Total RNA was subjected to alkylation by iodoacetamide (Sigma, 10mM) for 15 min and RNA was repurified by ethanol precipitation. 500ng alkylated RNA were used as input for generating\n",
    "3’-end mRNA sequencing libraries using a commercially available kit (QuantSeq 3′\n",
    "mRNA-Seq Library Prep Kit FWD for Illumina and PCR Add-on Kit for Illumina,\n",
    "Lexogen). Deep sequencing was performed using HiSeq1500 and HiSeq2500 platforms\n",
    "(Illumina)."
   ]
  },
  {
   "cell_type": "markdown",
   "metadata": {},
   "source": [
    "0.06724463\n",
    "0.04916348\n",
    "0.03728357\n",
    "0.05075007\n",
    "0.03331248\n",
    "0.0346662\n",
    "0.03265504 \n",
    "0.04416262\n",
    "0.05574821\n",
    "0.05845953\n",
    "0.05531433\n",
    "0.06175393\n",
    "0.03181749 \n",
    "0.02940226 \n",
    "0.0306263\n",
    "0.04004278"
   ]
  },
  {
   "cell_type": "code",
   "execution_count": null,
   "metadata": {},
   "outputs": [],
   "source": [
    "names = {\n",
    "\"GSM2691910\": \"K562_MYC-AID_DMSO_rep-1\",\n",
    "\"GSM2691911\": \"K562_MYC-AID_DMSO_rep-2\",\n",
    "\"GSM2691912\": \"K562_MYC-AID_DMSO_rep-3\",\n",
    "\"GSM2691913\": \"K562_MYC-AID_IAA_rep-1\",\n",
    "\"GSM2691914\": \"K562_MYC-AID_IAA_rep-2\",\n",
    "\"GSM2691915\": \"K562_MYC-AID_IAA_rep-3\",\n",
    "\"GSM2691916\": \"HCT116_MYC-AID_DMSO_rep-1\",\n",
    "\"GSM2691917\": \"HCT116_MYC-AID_DMSO_rep-2\",\n",
    "\"GSM2691918\": \"HCT116_MYC-AID_DMSO_rep-3\",\n",
    "\"GSM2691919\": \"HCT116_MYC-AID_IAA_rep-1\",\n",
    "\"GSM2691920\": \"HCT116_MYC-AID_IAA_rep-2\",\n",
    "\"GSM2691921\": \"HCT116_MYC-AID_IAA_rep-3\",\n",
    "\"GSM2691882\": \"MOLM-13_DMSO_rep-1_exp-2\",\n",
    "\"GSM2691883\": \"MOLM-13_DMSO_rep-2_exp-2\",\n",
    "\"GSM2691884\": \"MOLM-13_DMSO_rep-3_exp-2\",\n",
    "\"GSM2691885\": \"MOLM-13_JQ1_rep-1_exp-2\",\n",
    "\"GSM2691886\": \"MOLM-13_JQ1_rep-2_exp-2\",\n",
    "\"GSM2691887\": \"MOLM-13_JQ1_rep-3_exp-2\",\n",
    "\"GSM2691888\": \"MOLM-13_6nM_NVP-2_rep-1_exp-2\",\n",
    "\"GSM2691889\": \"MOLM-13_6nM_NVP-2_rep-2_exp-2\",\n",
    "\"GSM2691890\": \"MOLM-13_6nM_NVP-2_rep-3_exp-2\",\n",
    "\"GSM2691891\": \"MOLM-13_60nM_NVP-2_rep-1_exp-2\",\n",
    "\"GSM2691892\": \"MOLM-13_60nM_NVP-2_rep-2_exp-2\",\n",
    "\"GSM2691893\": \"MOLM-13_JQ1+6nM_NVP-2_rep-1_exp-2\",\n",
    "\"GSM2691894\": \"MOLM-13_JQ1+6nM_NVP-2_rep-2_exp-2\",\n",
    "\"GSM2691895\": \"MOLM-13_JQ1+6nM_NVP-2_rep-3_exp-2\"\n",
    "}"
   ]
  },
  {
   "cell_type": "code",
   "execution_count": null,
   "metadata": {},
   "outputs": [],
   "source": [
    "tccounts = tccounts.rename(columns=names)\n",
    "readcounts = readcounts.rename(columns=names)\n",
    "readcounts"
   ]
  },
  {
   "cell_type": "code",
   "execution_count": null,
   "metadata": {},
   "outputs": [],
   "source": [
    "pd.DataFrame(tccounts.values[:,:-1].astype(float)/readcounts.mean().values*100, columns=tccounts.columns[:-1], index=tccounts['genes']).to_csv('../results/'+project+'/'version+'_'+minvar_toremove+'_'+mincount_toremove+'_ratio.csv')"
   ]
  },
  {
   "cell_type": "code",
   "execution_count": null,
   "metadata": {},
   "outputs": [],
   "source": [
    "(tccounts.values[:,:-1].astype(float)/(1+readcounts.values[:,:-1].astype(float))).mean(0)"
   ]
  },
  {
   "cell_type": "code",
   "execution_count": null,
   "metadata": {},
   "outputs": [],
   "source": [
    "ratio.mean()"
   ]
  },
  {
   "cell_type": "code",
   "execution_count": null,
   "metadata": {},
   "outputs": [],
   "source": [
    "tccounts.mean()"
   ]
  },
  {
   "cell_type": "code",
   "execution_count": null,
   "metadata": {},
   "outputs": [],
   "source": [
    "readcounts.to_csv('../results/'+project+'/'version+'_'+minvar_toremove+'_'+mincount_toremove+'_readcounts.csv',index=False)"
   ]
  },
  {
   "cell_type": "code",
   "execution_count": null,
   "metadata": {},
   "outputs": [],
   "source": [
    "tccounts.to_csv('../results/'+project+'/'version+'_'+minvar_toremove+'_'+mincount_toremove+'_tccounts.csv',index=False)"
   ]
  },
  {
   "cell_type": "markdown",
   "metadata": {},
   "source": [
    "### make more dataframes"
   ]
  },
  {
   "cell_type": "code",
   "execution_count": null,
   "metadata": {},
   "outputs": [],
   "source": [
    "mtccounts = pd.DataFrame()\n",
    "mreadcounts = pd.DataFrame()\n",
    "for i in range(4):\n",
    "    mtccounts[tccounts.columns[i*3].split(\"_rep\")[0]] = tccounts[tccounts.columns[(i*3):(i*3)+3]].mean(1)\n",
    "    mreadcounts[tccounts.columns[i*3].split(\"_rep\")[0]] = readcounts[readcounts.columns[(i*3):(i*3)+3]].mean(1)"
   ]
  },
  {
   "cell_type": "code",
   "execution_count": null,
   "metadata": {},
   "outputs": [],
   "source": [
    "mtccounts.to_csv(\"../results/\"+project+'/'version+'_'+minvar_toremove+'_'+mincount_toremove+\"_mean_tccounts.csv\")\n",
    "mreadcounts.to_csv(\"../results/\"+project+'/'version+'_'+minvar_toremove+'_'+mincount_toremove+\"_mean_readcounts.csv\")"
   ]
  },
  {
   "cell_type": "code",
   "execution_count": null,
   "metadata": {},
   "outputs": [],
   "source": [
    "mtccounts = pd.DataFrame()\n",
    "mreadcounts = pd.DataFrame()\n",
    "for i in range(4):\n",
    "    mtccounts[tccounts.columns[i*3].split(\"_rep\")[0]] = tccounts[tccounts.columns[(i*3):(i*3)+3]].median(1)\n",
    "    mreadcounts[tccounts.columns[i*3].split(\"_rep\")[0]] = readcounts[readcounts.columns[(i*3):(i*3)+3]].median(1)"
   ]
  },
  {
   "cell_type": "code",
   "execution_count": null,
   "metadata": {},
   "outputs": [],
   "source": [
    "mtccounts.to_csv(\"../results/\"+project+'/'version+'_'+minvar_toremove+'_'+mincount_toremove+\"_median_tccounts.csv\")\n",
    "mreadcounts.to_csv(\"../results/\"+project+'/'version+'_'+minvar_toremove+'_'+mincount_toremove+\"_median_readcounts.csv\")"
   ]
  },
  {
   "cell_type": "code",
   "execution_count": null,
   "metadata": {},
   "outputs": [],
   "source": [
    "(tccounts/readcounts).fillna(0).to_csv(\"../results/\"+project+'/'version+'_'+minvar_toremove+'_'+mincount_toremove+\"_tccounts_per_readcounts.csv\")"
   ]
  },
  {
   "cell_type": "markdown",
   "metadata": {},
   "source": [
    "# lets look at the similarity accross replicates\n",
    "\n",
    "we have some outliers, else it seems to make some sense and on average, to be extremelly similar!"
   ]
  },
  {
   "cell_type": "code",
   "execution_count": null,
   "metadata": {},
   "outputs": [],
   "source": [
    "counts.loc['MYC']"
   ]
  },
  {
   "cell_type": "code",
   "execution_count": null,
   "metadata": {},
   "outputs": [],
   "source": [
    "tccounts.columns = [i.replace('-','.') for i in tccounts.columns]\n",
    "readcounts.columns = [i.replace('-','.') for i in readcounts.columns]"
   ]
  },
  {
   "cell_type": "code",
   "execution_count": null,
   "metadata": {},
   "outputs": [],
   "source": [
    "%matplotlib inline\n",
    "sort = [0,8,10,4,6,14,12,1,11,9,5,7,13,3,15,2]\n",
    "sns.heatmap(tccounts[tccounts.columns[sort]].corr(), \n",
    "            xticklabels=tccounts.columns[sort].values,\n",
    "            yticklabels=tccounts.columns[sort].values)\n",
    "plt.savefig('../results/'+project+'/plots/'+version+'_'+minvar_toremove+'_'+mincount_toremove+'_similarity_replicates_sorted_readcounts.csv')"
   ]
  },
  {
   "cell_type": "code",
   "execution_count": null,
   "metadata": {},
   "outputs": [],
   "source": [
    "%matplotlib inline\n",
    "sns.heatmap(readcounts.corr(), \n",
    "            xticklabels=readcounts.columns,\n",
    "            yticklabels=readcounts.columns)\n",
    "plt.savefig('../results/'+project+'/plots/'+version+'_similarity_replicates.csv')"
   ]
  },
  {
   "cell_type": "code",
   "execution_count": null,
   "metadata": {},
   "outputs": [],
   "source": [
    "%matplotlib inline\n",
    "sort = [0,8,10,4,12,6,14,1,9,5,13,7,11,15,3,2]\n",
    "sns.heatmap(readcounts[readcounts.columns[sort]].corr(), \n",
    "            xticklabels=readcounts.columns.values[sort],\n",
    "            yticklabels=readcounts.columns.values[sort])\n",
    "plt.savefig('../results/'+project+'/plots/'+version+'_'+minvar_toremove+'_'+mincount_toremove+'_similarity_replicates_sorted_tccounts.csv')"
   ]
  },
  {
   "cell_type": "markdown",
   "metadata": {},
   "source": [
    "read the paper for MV411 QC steps."
   ]
  },
  {
   "cell_type": "markdown",
   "metadata": {},
   "source": [
    "### A quick detour to look for clustering"
   ]
  },
  {
   "cell_type": "markdown",
   "metadata": {},
   "source": [
    "## Getting the Core TF information"
   ]
  },
  {
   "cell_type": "code",
   "execution_count": null,
   "metadata": {},
   "outputs": [],
   "source": [
    "ctf=pd.read_csv('../data/CTF.csv',header=None)[0].values.tolist()\n",
    "ctf"
   ]
  },
  {
   "cell_type": "code",
   "execution_count": null,
   "metadata": {},
   "outputs": [],
   "source": [
    "set(ctf) & set(tccounts.index)"
   ]
  },
  {
   "cell_type": "code",
   "execution_count": null,
   "metadata": {},
   "outputs": [],
   "source": [
    "ctfpos = [val for val in tccounts.index if val in ctf]\n",
    "notctfpos = [val for val in tccounts.index if val not in ctf]"
   ]
  },
  {
   "cell_type": "code",
   "execution_count": null,
   "metadata": {},
   "outputs": [],
   "source": [
    "ctfpos.extend(['EGR1','SERTAD1'])"
   ]
  },
  {
   "cell_type": "markdown",
   "metadata": {},
   "source": [
    "We find a CTF not in the dataset"
   ]
  },
  {
   "cell_type": "markdown",
   "metadata": {},
   "source": [
    "# Let's look at how they change accross time\n",
    "\n",
    "how core transcription factors change accross time when the cell is with JQ1 conditions\n",
    "\n",
    "we are looking at the difference between production of each CTF compared to the average RNA production with JQ1 and without JQ1"
   ]
  },
  {
   "cell_type": "markdown",
   "metadata": {},
   "source": [
    "## DESEQ ANALYSIS"
   ]
  },
  {
   "cell_type": "code",
   "execution_count": null,
   "metadata": {},
   "outputs": [],
   "source": [
    "readcounts[\"genes\"] = readcounts.index\n",
    "readcounts = readcounts.reset_index(drop=True)\n",
    "tccounts[\"genes\"] = tccounts.index\n",
    "tccounts = tccounts.reset_index(drop=True)"
   ]
  },
  {
   "cell_type": "code",
   "execution_count": null,
   "metadata": {},
   "outputs": [],
   "source": [
    "tccounts.iloc[140]"
   ]
  },
  {
   "cell_type": "code",
   "execution_count": null,
   "metadata": {},
   "outputs": [],
   "source": [
    "tccounts.columns"
   ]
  },
  {
   "cell_type": "code",
   "execution_count": null,
   "metadata": {},
   "outputs": [],
   "source": [
    "design10um = pd.DataFrame(index=[i.replace('-','.') for i in tccounts.columns.values[:-1]], \n",
    "                      columns=['VHL','DMSO'], \n",
    "                      data=np.array([[1,0,0,0,0,0,0,0,1,1,1,0,0,0,0,0],\n",
    "                                     [0,0,0,0,1,1,1,0,0,0,0,0,0,1,0,0]],dtype=bool).T)\n",
    "design1um = pd.DataFrame(index=[i.replace('-','.') for i in tccounts.columns.values[:-1]], \n",
    "                      columns=['DMSO','VHL'], \n",
    "                      data=np.array([[0,0,0,0,1,1,1,1,0,0,0,0,0,0,0,0],\n",
    "                                     [0,0,0,0,0,0,0,0,0,0,0,0,1,1,1,1]],dtype=bool).T)\n",
    "design5um = pd.DataFrame(index=[i.replace('-','.') for i in tccounts.columns.values[:-1]], \n",
    "                      columns=['DMSO','VHL'], \n",
    "                      data=np.array([[1,0,0,0,0,0,0,0,0,0,1,0,0,0,0,0],\n",
    "                                     [0,0,0,0,0,0,0,0,0,0,0,0,0,1,1,0]],dtype=bool).T)"
   ]
  },
  {
   "cell_type": "code",
   "execution_count": null,
   "metadata": {},
   "outputs": [],
   "source": [
    "designK562 = pd.DataFrame(index=[i.replace('-','.') for i in tccounts.columns.values[:-1]], \n",
    "                      columns=['DMSO','JQ1'], \n",
    "                      data=np.array([[1,1,1,0,0,0,0,0,0,0,0,0],\n",
    "                                     [0,0,0,1,1,1,0,0,0,0,0,0]],dtype=bool).T)\n",
    "designMV411 = pd.DataFrame(index=[i.replace('-','.') for i in tccounts.columns.values[:-1]], \n",
    "                      columns=['DMSO','JQ1'], \n",
    "                      data=np.array([[0,0,0,0,0,0,1,1,1,0,0,0],\n",
    "                                     [0,0,0,0,0,0,0,0,0,1,1,1]],dtype=bool).T)"
   ]
  },
  {
   "cell_type": "code",
   "execution_count": null,
   "metadata": {},
   "outputs": [],
   "source": [
    "design_HCT116 = pd.DataFrame(index=[i.replace('-','.') for i in tccounts.columns.values[:-1]], \n",
    "                      columns=['DMSO','VHL'], \n",
    "                      data=np.array([[0,0,0,0,0,0,1,1,1,0,0,0],\n",
    "                                     [0,0,0,0,0,0,0,0,0,1,1,1]],dtype=bool).T)\n",
    "design_K562 = pd.DataFrame(index=[i.replace('-','.') for i in tccounts.columns.values[:-1]], \n",
    "                      columns=['DMSO','VHL'], \n",
    "                      data=np.array([[1,1,1,0,0,0,0,0,0,0,0,0],\n",
    "                                     [0,0,0,1,1,1,0,0,0,0,0,0]],dtype=bool).T)"
   ]
  },
  {
   "cell_type": "code",
   "execution_count": null,
   "metadata": {},
   "outputs": [],
   "source": [
    "design1 = pd.DataFrame(index=[i.replace('-','.') for i in tccounts.columns.values[:-1]], \n",
    "                      columns=['DMSO','JQ1'], \n",
    "                      data=np.array([[1,1,1,0,0,0,0,0,0,0,0,0,0,0],\n",
    "                                     [0,0,0,1,1,1,0,0,0,0,0,0,0,0]],dtype=bool).T)\n",
    "design2 = pd.DataFrame(index=[i.replace('-','.') for i in tccounts.columns.values[:-1]], \n",
    "                      columns=['DMSO','NVP2low'], \n",
    "                      data=np.array([[1,1,1,0,0,0,0,0,0,0,0,0,0,0],\n",
    "                                     [0,0,0,0,0,0,1,1,1,0,0,0,0,0]],dtype=bool).T)\n",
    "design3 = pd.DataFrame(index=[i.replace('-','.') for i in tccounts.columns.values[:-1]], \n",
    "                      columns=['DMSO','NVP2high'], \n",
    "                      data=np.array([[1,1,1,0,0,0,0,0,0,0,0,0,0,0],\n",
    "                                     [0,0,0,0,0,0,0,0,0,1,1,0,0,0]],dtype=bool).T)\n",
    "design4 = pd.DataFrame(index=[i.replace('-','.') for i in tccounts.columns.values[:-1]], \n",
    "                      columns=['DMSO','NVP2lowJQ1'], \n",
    "                      data=np.array([[1,1,1,0,0,0,0,0,0,0,0,0,0,0],\n",
    "                                     [0,0,0,0,0,0,0,0,0,0,0,1,1,1]],dtype=bool).T)"
   ]
  },
  {
   "cell_type": "markdown",
   "metadata": {},
   "source": [
    "### Differential gene expression analysis, PCA and GO-term enrichment\n",
    "\n",
    "For gene-level analysis, raw reads mapped to different UTR annotations of the same gene were summed up by Entrez Gene ID. Pilot studies of K562 cells with kinase inhibitors were performed as single experiments. \n",
    "\n",
    "Analysis of differential gene expression was restricted to genes with ≥ 10 reads in at least one condition for 50bp sequencing runs (flavopiridol and DMSO) or ≥ 20 reads in at least one condition for 100bp sequencing runs (mk2206, trametinib, nilotinib, trametinib + mk2206 and DMSO). For estimating differential expression, a pseudo-count of 1 raw read was added to all genes.\n",
    "\n",
    "#### All other SLAM-seq experiments were performed in triplicates and analyzed as follows. \n",
    "Differential gene expression calling was performed on raw read counts with ≥ 2 T>C conversions using DESeq2 (version 1.14.1) with default settings, and with size factors estimated on corresponding total mRNA reads for global normalization.\n",
    "\n",
    "Downstream analysis was restricted to genes passing all internal filters for FDR estimation by DESeq2. Principal component analysis was performed after variance\n",
    "stabilizing transformation on the 500 most variable genes across all conditions of a given\n",
    "experiment. GO-term enrichment analysis was performed on genes significantly and strongly downregulated (FDR ≤ 0.1, log2FC ≤ -1) in SLAM-seq upon IAA-treatment in K562MYC-AID + Tir1 by the PANTHER Overrepresentation Test (Fisher's Exact with FDR multiple test correction, release 20171205, http://pantherdb.org) on GO Ontology database Released 2017-12-27."
   ]
  },
  {
   "cell_type": "code",
   "execution_count": null,
   "metadata": {},
   "outputs": [],
   "source": [
    "design"
   ]
  },
  {
   "cell_type": "code",
   "execution_count": null,
   "metadata": {},
   "outputs": [],
   "source": [
    "tccounts.columns = [i.replace('-','.') for i in tccounts.columns]"
   ]
  },
  {
   "cell_type": "code",
   "execution_count": null,
   "metadata": {},
   "outputs": [],
   "source": [
    "tccounts[tccounts.genes=='MYC']"
   ]
  },
  {
   "cell_type": "code",
   "execution_count": null,
   "metadata": {},
   "outputs": [],
   "source": [
    "deseq10um = pyDESeq2.pyDESeq2(count_matrix=tccounts[tccounts.columns[np.array([1,0,0,0,1,1,1,0,1,1,1,0,0,1,0,0,1],np.bool)]], design_matrix=design[np.array([1,0,0,0,1,1,1,0,1,1,1,0,0,1,0,0],np.bool)],\n",
    "                         design_formula=\"~DMSO - VHL\",\n",
    "                         gene_column=\"genes\")\n",
    "deseq5um = pyDESeq2.pyDESeq2(count_matrix=tccounts[tccounts.columns[np.array([0,0,0,0,1,1,1,1,0,0,0,0,1,1,1,1,1],np.bool)]],\n",
    "                         design_matrix=design_reg[np.array([0,0,0,0,1,1,1,1,0,0,0,0,1,1,1,1],np.bool)],\n",
    "                         design_formula=\"~DMSO - VHL\",\n",
    "                         gene_column=\"genes\")\n",
    "deseqn1um = pyDESeq2.pyDESeq2(count_matrix=tccounts[tccounts.columns[np.array([1,0,0,0,0,0,0,0,0,0,1,0,0,1,1,0,1],np.bool)]],\n",
    "                         design_matrix=designoto[np.array([1,0,0,0,0,0,0,0,0,0,1,0,0,1,1,0],np.bool)],\n",
    "                         design_formula=\"~DMSO - VHL\",\n",
    "                         gene_column=\"genes\")"
   ]
  },
  {
   "cell_type": "markdown",
   "metadata": {},
   "source": [
    "### NVP2 JQ1 MOLM13"
   ]
  },
  {
   "cell_type": "code",
   "execution_count": null,
   "metadata": {},
   "outputs": [],
   "source": [
    "deseq1 = pyDESeq2.pyDESeq2(count_matrix = tccounts[tccounts.columns[np.array([1,1,1,1,1,1,0,0,0,0,0,0,0,0,1],np.bool)]],\n",
    "                         design_matrix=design1[np.array([1,1,1,1,1,1,0,0,0,0,0,0,0,0],np.bool)],\n",
    "                         design_formula=\"~DMSO - JQ1\",\n",
    "                         gene_column=\"genes\")\n",
    "deseq2 = pyDESeq2.pyDESeq2(count_matrix = tccounts[tccounts.columns[np.array([1,1,1,0,0,0,1,1,1,0,0,0,0,0,1],np.bool)]],\n",
    "                         design_matrix=design2[np.array([1,1,1,0,0,0,1,1,1,0,0,0,0,0],np.bool)],\n",
    "                         design_formula=\"~DMSO - NVP2low\",\n",
    "                         gene_column=\"genes\")\n",
    "deseq3 = pyDESeq2.pyDESeq2(count_matrix = tccounts[tccounts.columns[np.array([1,1,1,0,0,0,0,0,0,1,1,0,0,0,1],np.bool)]],\n",
    "                         design_matrix=design3[np.array([1,1,1,0,0,0,0,0,0,1,1,0,0,0],np.bool)],\n",
    "                         design_formula=\"~DMSO - NVP2high\",\n",
    "                         gene_column=\"genes\")\n",
    "deseq4 = pyDESeq2.pyDESeq2(count_matrix = tccounts[tccounts.columns[np.array([1,1,1,0,0,0,0,0,0,0,0,1,1,1,1],np.bool)]],\n",
    "                         design_matrix=design4[np.array([1,1,1,0,0,0,0,0,0,0,0,1,1,1],np.bool)],\n",
    "                         design_formula=\"~DMSO - NVP2lowJQ1\",\n",
    "                         gene_column=\"genes\")"
   ]
  },
  {
   "cell_type": "markdown",
   "metadata": {},
   "source": [
    "### K562 MV411 comparison"
   ]
  },
  {
   "cell_type": "code",
   "execution_count": null,
   "metadata": {},
   "outputs": [],
   "source": [
    "deseqK562 = pyDESeq2.pyDESeq2(count_matrix=tccounts[tccounts.columns[np.array([1,1,1,1,1,1,0,0,0,0,0,0,1],np.bool)]],\n",
    "                         design_matrix=designK562[np.array([1,1,1,1,1,1,0,0,0,0,0,0],np.bool)],\n",
    "                         design_formula=\"~DMSO - JQ1\",\n",
    "                         gene_column=\"genes\")\n",
    "deseqMV411 = pyDESeq2.pyDESeq2(count_matrix=tccounts[tccounts.columns[np.array([0,0,0,0,0,0,1,1,1,1,1,1,1],np.bool)]],\n",
    "                         design_matrix=designMV411[np.array([0,0,0,0,0,0,1,1,1,1,1,1],np.bool)],\n",
    "                         design_formula=\"~DMSO - JQ1\",\n",
    "                         gene_column=\"genes\")"
   ]
  },
  {
   "cell_type": "markdown",
   "metadata": {},
   "source": [
    "### K562 HCT116 ccomparrison"
   ]
  },
  {
   "cell_type": "code",
   "execution_count": null,
   "metadata": {},
   "outputs": [],
   "source": [
    "deseq_K562 = pyDESeq2.pyDESeq2(count_matrix=tccounts[tccounts.columns[np.array([1,1,1,1,1,1,0,0,0,0,0,0,1],np.bool)]],\n",
    "                         design_matrix=design_K562[np.array([1,1,1,1,1,1,0,0,0,0,0,0],np.bool)],\n",
    "                         design_formula=\"~DMSO - VHL\",\n",
    "                         gene_column=\"genes\")\n",
    "deseq_HCT116 = pyDESeq2.pyDESeq2(count_matrix=tccounts[tccounts.columns[np.array([0,0,0,0,0,0,1,1,1,1,1,1,1],np.bool)]],\n",
    "                         design_matrix=design_HCT116[np.array([0,0,0,0,0,0,1,1,1,1,1,1],np.bool)],\n",
    "                         design_formula=\"~DMSO - VHL\",\n",
    "                         gene_column=\"genes\")"
   ]
  },
  {
   "cell_type": "code",
   "execution_count": null,
   "metadata": {},
   "outputs": [],
   "source": [
    "deseq1.run_estimate_size_factors(geoMeans = np.exp(np.mean(np.log(\n",
    "    readcounts[readcounts.columns[np.array([0,0,0,1,1,1,0,0,0,0,0,0,0,0,0], np.bool)]].values+1), 1)))\n",
    "deseq2.run_estimate_size_factors(geoMeans = np.exp(np.mean(np.log(\n",
    "    readcounts[readcounts.columns[np.array([0,0,0,0,0,0,1,1,1,0,0,0,0,0,0], np.bool)]].values+1), 1)))\n",
    "deseq3.run_estimate_size_factors(geoMeans = np.exp(np.mean(np.log(\n",
    "    readcounts[readcounts.columns[np.array([0,0,0,0,0,0,0,0,0,1,1,0,0,0,0], np.bool)]].values+1), 1)))\n",
    "deseq4.run_estimate_size_factors(geoMeans = np.exp(np.mean(np.log(\n",
    "    readcounts[readcounts.columns[np.array([0,0,0,0,0,0,0,0,0,0,0,1,1,1,0], np.bool)]].values+1), 1)))"
   ]
  },
  {
   "cell_type": "code",
   "execution_count": null,
   "metadata": {},
   "outputs": [],
   "source": [
    "deseq_K562.run_estimate_size_factors(normMatrix = (readcounts[readcounts.columns[\n",
    "        np.array([1,1,1,1,1,1,0,0,0,0,0,0,0],np.bool)]].values+1))\n",
    "deseq_HCT116.run_estimate_size_factors(normMatrix = (readcounts[readcounts.columns[\n",
    "        np.array([0,0,0,0,0,0,1,1,1,1,1,1,0],np.bool)]].values+1))"
   ]
  },
  {
   "cell_type": "code",
   "execution_count": null,
   "metadata": {},
   "outputs": [],
   "source": [
    "deseq10um.run_estimate_size_factors(geoMeans = np.exp(np.mean(np.log(\n",
    "    readcounts[readcounts.columns[\n",
    "        np.array([1,0,0,0,1,1,1,0,1,1,1,0,0,1,0,0,0],np.bool)]].values+1), 1)))\n",
    "deseq1um.run_estimate_size_factors(geoMeans = np.exp(np.mean(np.log(\n",
    "    readcounts[readcounts.columns[\n",
    "        np.array([0,0,0,0,1,1,1,1,0,0,0,0,1,1,1,1,0],np.bool)]].values+1), 1)))\n",
    "deseqn5um.run_estimate_size_factors(geoMeans = np.exp(np.mean(np.log(\n",
    "    readcounts[readcounts.columns[\n",
    "        np.array([1,0,0,0,0,0,0,0,0,0,1,0,0,1,1,0,0],np.bool)]].values+1), 1)))"
   ]
  },
  {
   "cell_type": "code",
   "execution_count": null,
   "metadata": {},
   "outputs": [],
   "source": [
    "deseqK562.run_estimate_size_factors(geoMeans = np.exp(np.mean(np.log(\n",
    "    readcounts[readcounts.columns[np.array([1,1,1,0,0,0,0,0,0,0,0,0,0],np.bool)]].values+1), 1)))\n",
    "deseqMV411.run_estimate_size_factors(geoMeans = np.exp(np.mean(np.log(\n",
    "    readcounts[readcounts.columns[np.array([0,0,0,0,0,0,1,1,1,0,0,0,0],np.bool)]].values+1), 1)))"
   ]
  },
  {
   "cell_type": "code",
   "execution_count": null,
   "metadata": {},
   "outputs": [],
   "source": [
    "deseq10um.run_deseq()\n",
    "deseq1um.run_deseq()\n",
    "deseqn5um.run_deseq()\n",
    "deseq10um.get_deseq_result()\n",
    "deseq1um.get_deseq_result()\n",
    "deseqn5um.get_deseq_result()\n",
    "res10um = deseq10um.deseq_result\n",
    "deseq1um = deseq1um.deseq_result\n",
    "deseqn5um = deseqn5um.deseq_result\n",
    "res10um.pvalue = np.nan_to_num(np.array(res10um.pvalue), 1)\n",
    "res10um.log2FoldChange = np.nan_to_num(np.array(res10um.log2FoldChange), 0)\n",
    "deseq1um.pvalue = np.nan_to_num(np.array(deseq1um.pvalue), 1)\n",
    "deseq1um.log2FoldChange = np.nan_to_num(np.array(deseq1um.log2FoldChange), 0)\n",
    "deseqn5um.pvalue = np.nan_to_num(np.array(deseqn5um.pvalue), 1)\n",
    "deseqn5um.log2FoldChange = np.nan_to_num(np.array(deseqn5um.log2FoldChange), 0)\n",
    "res10um.log2FoldChange = -res10um.log2FoldChange\n",
    "deseq1um.log2FoldChange = -deseq1um.log2FoldChange\n",
    "deseqn5um.log2FoldChange = -deseqn5um.log2FoldChange\n",
    "res10um[\"gene_id\"] = res10um.genes\n",
    "deseq1um[\"gene_id\"] = deseq1um.genes\n",
    "deseqn5um[\"gene_id\"] = deseqn5um.genes"
   ]
  },
  {
   "cell_type": "code",
   "execution_count": null,
   "metadata": {},
   "outputs": [],
   "source": [
    "deseq_K562.run_deseq()\n",
    "deseq_HCT116.run_deseq()\n",
    "deseq_K562.get_deseq_result()\n",
    "deseq_HCT116.get_deseq_result()\n",
    "res_K562 = deseq_K562.deseq_result\n",
    "res_HCT116 = deseq_HCT116.deseq_result\n",
    "res_K562.pvalue = np.nan_to_num(np.array(res_K562.pvalue), 1)\n",
    "res_K562.log2FoldChange = np.nan_to_num(np.array(res_K562.log2FoldChange), 0)\n",
    "res_HCT116.pvalue = np.nan_to_num(np.array(res_HCT116.pvalue), 1)\n",
    "res_HCT116.log2FoldChange = np.nan_to_num(np.array(res_HCT116.log2FoldChange), 0)\n",
    "res_HCT116.log2FoldChange = -res_HCT116.log2FoldChange\n",
    "res_K562.log2FoldChange = -res_K562.log2FoldChange\n",
    "res_K562[\"gene_id\"] = res_K562.genes\n",
    "res_HCT116[\"gene_id\"] = res_HCT116.genes"
   ]
  },
  {
   "cell_type": "code",
   "execution_count": null,
   "metadata": {},
   "outputs": [],
   "source": [
    "deseq_K562.run_deseq()\n",
    "deseq_MV411.run_deseq()\n",
    "deseq_K562.get_deseq_result()\n",
    "deseq_MV411.get_deseq_result()\n",
    "res_K562 = deseq_K562.deseq_result\n",
    "res_MV411 = deseq_MV411.deseq_result\n",
    "res_K562.pvalue = np.nan_to_num(np.array(res_K562.pvalue), 1)\n",
    "res_K562.log2FoldChange = np.nan_to_num(np.array(res_K562.log2FoldChange), 0)\n",
    "res_MV411.pvalue = np.nan_to_num(np.array(res_MV411.pvalue), 1)\n",
    "res_MV411.log2FoldChange = np.nan_to_num(np.array(res_MV411.log2FoldChange), 0)\n",
    "deseq_MV411.log2FoldChange = -deseq_MV411.log2FoldChange\n",
    "res_K562.log2FoldChange = -res_K562.log2FoldChange\n",
    "res_K562[\"gene_id\"] = res_K562.genes\n",
    "deseq_MV411[\"gene_id\"] = deseq_MV411.genes"
   ]
  },
  {
   "cell_type": "code",
   "execution_count": null,
   "metadata": {},
   "outputs": [],
   "source": [
    "deseq1.run_deseq()\n",
    "deseq2.run_deseq()\n",
    "deseq3.run_deseq()\n",
    "deseq4.run_deseq()\n",
    "deseq2.get_deseq_result()\n",
    "deseq1.get_deseq_result()\n",
    "deseq3.get_deseq_result()\n",
    "deseq4.get_deseq_result()\n",
    "res1 = deseq1.deseq_result\n",
    "res2 = deseq2.deseq_result\n",
    "res3 = deseq3.deseq_result\n",
    "res4 = deseq4.deseq_result\n",
    "res1.pvalue = np.nan_to_num(np.array(res1.pvalue), 1)\n",
    "res1.log2FoldChange = np.nan_to_num(np.array(res1.log2FoldChange), 0)\n",
    "res2.pvalue = np.nan_to_num(np.array(res2.pvalue), 1)\n",
    "res2.log2FoldChange = np.nan_to_num(np.array(res2.log2FoldChange), 0)\n",
    "res3.pvalue = np.nan_to_num(np.array(res3.pvalue), 1)\n",
    "res3.log2FoldChange = np.nan_to_num(np.array(res3.log2FoldChange), 0)\n",
    "res4.pvalue = np.nan_to_num(np.array(res4.pvalue), 1)\n",
    "res4.log2FoldChange = np.nan_to_num(np.array(res4.log2FoldChange), 0)\n",
    "res1.log2FoldChange = -res1.log2FoldChange\n",
    "res2.log2FoldChange = -res2.log2FoldChange\n",
    "res3.log2FoldChange = -res3.log2FoldChange\n",
    "res4.log2FoldChange = -res4.log2FoldChange\n",
    "res1[\"gene_id\"] = res1.genes\n",
    "res2[\"gene_id\"] = res2.genes\n",
    "res3[\"gene_id\"] = res3.genes\n",
    "res4[\"gene_id\"] = res4.genes"
   ]
  },
  {
   "cell_type": "code",
   "execution_count": null,
   "metadata": {},
   "outputs": [],
   "source": [
    "res[res.genes=='MYC']"
   ]
  },
  {
   "cell_type": "markdown",
   "metadata": {},
   "source": [
    "## PLOTS"
   ]
  },
  {
   "cell_type": "markdown",
   "metadata": {},
   "source": [
    "### whisker's plots"
   ]
  },
  {
   "cell_type": "code",
   "execution_count": null,
   "metadata": {},
   "outputs": [],
   "source": [
    "res = res1[res1.baseMean>10]\n",
    "res.baseMean= np.log2(1+res.baseMean)\n",
    "res[\"type\"] = ['ctf' if i else \"other\" for i in  res.genes.isin(ctf)]\n",
    "ax = sns.boxplot(data=res,x='type',y='log2FoldChange').set_title(\"JQ1\")\n",
    "ax.savefig('../results/'+project+\"/plots/\"+version+\"_whiskersJQ1_MOLM13_logfch.pdf\")"
   ]
  },
  {
   "cell_type": "code",
   "execution_count": null,
   "metadata": {},
   "outputs": [],
   "source": [
    "ax =sns.boxplot(data=res,x='type',y='baseMean').set_title(\"JQ1\")\n",
    "ax.savefig('../results/'+project+\"/plots/\"+version+\"_whiskers_NVP2low_MOLM13_baseMean.pdf\")"
   ]
  },
  {
   "cell_type": "code",
   "execution_count": null,
   "metadata": {},
   "outputs": [],
   "source": [
    "res = res2[res2.baseMean>10]\n",
    "res.baseMean= np.log2(1+res.baseMean)\n",
    "res[\"type\"] = ['ctf' if i else \"other\" for i in  res.genes.isin(ctf)]\n",
    "ax= sns.boxplot(data=res,x='type',y='log2FoldChange').set_title(\"NVP2low\")\n",
    "ax.savefig('../results/'+project+\"/plots/\"+version+\"_whiskers_NVP2low_MOLM13_logfch.pdf\")"
   ]
  },
  {
   "cell_type": "code",
   "execution_count": null,
   "metadata": {},
   "outputs": [],
   "source": [
    "ax = sns.boxplot(data=res,x='type',y='baseMean').set_title(\"NVP2low\")\n",
    "ax.savefig('../results/'+project+\"/plots/\"+version+\"_whiskers_NVP2low_baseMean.pdf\")"
   ]
  },
  {
   "cell_type": "code",
   "execution_count": null,
   "metadata": {},
   "outputs": [],
   "source": [
    "res = res3[res3.baseMean>10]\n",
    "res.baseMean= np.log2(1+res.baseMean)\n",
    "res[\"type\"] = ['ctf' if i else \"other\" for i in  res.genes.isin(ctf)]\n",
    "ax = sns.boxplot(data=res,x='type',y='log2FoldChange').set_title(\"NVP2high\")\n",
    "ax.savefig('../results/'+project+\"/plots/\"+version+\"_whiskers_NVP2high_MOLM13_logfch.pdf\")"
   ]
  },
  {
   "cell_type": "code",
   "execution_count": null,
   "metadata": {},
   "outputs": [],
   "source": [
    "ax =sns.boxplot(data=res,x='type',y='baseMean').set_title(\"NVP2high\")\n",
    "ax.savefig('../results/'+project+\"/plots/\"+version+\"_whiskers_NVP2low_MOLM13_baseMean.pdf\")"
   ]
  },
  {
   "cell_type": "code",
   "execution_count": null,
   "metadata": {},
   "outputs": [],
   "source": [
    "res = res4[res4.baseMean>10]\n",
    "res.baseMean= np.log2(1+res.baseMean)\n",
    "res[\"type\"] = ['ctf' if i else \"other\" for i in  res.genes.isin(ctf)]\n",
    "ax =sns.boxplot(data=res,x='type',y='log2FoldChange').set_title(\"NVP2low+JQ1\")\n",
    "ax.savefig('../results/'+project+\"/plots/\"+version+\"_whiskers_NVP2lowJQ1_MOLM13_logfch.pdf\")"
   ]
  },
  {
   "cell_type": "code",
   "execution_count": null,
   "metadata": {},
   "outputs": [],
   "source": [
    "ax = sns.boxplot(data=res,x='type',y='baseMean').set_title(\"NVP2low+JQ1\")\n",
    "ax.savefig('../results/'+project+\"/plots/\"+version+\"_whiskers_NVP2lowJQ1_MOLM13_baseMean.pdf\")"
   ]
  },
  {
   "cell_type": "markdown",
   "metadata": {},
   "source": [
    "#### other"
   ]
  },
  {
   "cell_type": "code",
   "execution_count": null,
   "metadata": {},
   "outputs": [],
   "source": [
    "res = res_MV411[res_MV411.baseMean>10]\n",
    "res.baseMean= np.log2(1+res.baseMean)\n",
    "res[\"type\"] = ['ctf' if i else \"other\" for i in  res.genes.isin(ctf)]\n",
    "ax = sns.boxplot(data=res,x='type',y='log2FoldChange').set_title(\"MV411\")\n",
    "ax.savefig('../results/'+project+\"/plots/\"+version+\"_whiskers_MV411_JQ1_logfch.pdf\")"
   ]
  },
  {
   "cell_type": "code",
   "execution_count": null,
   "metadata": {},
   "outputs": [],
   "source": [
    "ax =sns.boxplot(data=res,x='type',y='baseMean').set_title(\"MV411\")\n",
    "ax.savefig('../results/'+project+\"/plots/\"+version+\"_whiskers_MV411_JQ1_baseMean.pdf\")"
   ]
  },
  {
   "cell_type": "code",
   "execution_count": null,
   "metadata": {},
   "outputs": [],
   "source": [
    "res = K562res[K562res.baseMean>10]\n",
    "res.baseMean= np.log2(1+res.baseMean)\n",
    "res[\"type\"] = ['ctf' if i else \"other\" for i in  res.genes.isin(ctf)]\n",
    "ax =sns.boxplot(data=res,x='type',y='log2FoldChange').set_title(\"K562\")\n",
    "ax.savefig('../results/'+project+\"/plots/\"+version+\"_whiskers_JQ1_K562_logfch.pdf\")"
   ]
  },
  {
   "cell_type": "code",
   "execution_count": null,
   "metadata": {},
   "outputs": [],
   "source": [
    "ax =sns.boxplot(data=res,x='type',y='baseMean').set_title(\"K562\")\n",
    "ax.savefig('../results/'+project+\"/plots/\"+version+\"_whiskers_JQ1_K562_baseMean.pdf\")"
   ]
  },
  {
   "cell_type": "markdown",
   "metadata": {},
   "source": [
    "## Scatter plot comparison"
   ]
  },
  {
   "cell_type": "code",
   "execution_count": null,
   "metadata": {},
   "outputs": [],
   "source": [
    "mix = pd.DataFrame()\n",
    "mix[\"gene_id\"] = K562res[\"gene_id\"]\n",
    "mix['x'] = - MV411res.log2FoldChange\n",
    "mix['y'] = K562res.log2FoldChange"
   ]
  },
  {
   "cell_type": "code",
   "execution_count": null,
   "metadata": {},
   "outputs": [],
   "source": [
    "h.scatter(mix[['x','y']].values[:12000], \n",
    "               mix['gene_id'].values.tolist()[:12000], radi= 0.06, alpha=0.3,\n",
    "              colors = [0 if i in ctf else 1 for i in mix['gene_id'].values.tolist()[:12000]])"
   ]
  },
  {
   "cell_type": "markdown",
   "metadata": {},
   "source": [
    "## Regular volcanos"
   ]
  },
  {
   "cell_type": "code",
   "execution_count": null,
   "metadata": {},
   "outputs": [],
   "source": [
    "res_K562.to_csv(\"../results/\"+project+\"/\"+version+'_'+minvar_toremove+'_'+mincount_toremove+'_K562_JQ1_deseq.csv')\n",
    "res_HCT116.to_csv(\"../results/\"+project+\"/\"+version+'_'+minvar_toremove+'_'+mincount_toremove+'_HCT116_JQ1_deseq.csv')"
   ]
  },
  {
   "cell_type": "code",
   "execution_count": null,
   "metadata": {},
   "outputs": [],
   "source": [
    "MV411res.to_csv(\"../results/\"+project+\"/\"+version+'_'+minvar_toremove+'_'+mincount_toremove+'_MV411_JQ1_deseq.csv')\n",
    "K562res.to_csv(\"../results/\"+project+\"/\"+version+'_'+minvar_toremove+'_'+mincount_toremove+'_K562_JQ1_deseq.csv')"
   ]
  },
  {
   "cell_type": "code",
   "execution_count": null,
   "metadata": {},
   "outputs": [],
   "source": [
    "res1.to_csv(\"../results/\"+project+\"/\"+version+'_'+minvar_toremove+'_'+mincount_toremove+'_jq1_deseq.csv')\n",
    "res2.to_csv(\"../results/\"+project+\"/\"+version+'_'+minvar_toremove+'_'+mincount_toremove+'_nvmlow_deseq.csv')\n",
    "res3.to_csv(\"../results/\"+project+\"/\"+version+'_'+minvar_toremove+'_'+mincount_toremove+'_nvmhigh_deseq.csv')\n",
    "res4.to_csv(\"../results/\"+project+\"/\"+version+'_'+minvar_toremove+'_'+mincount_toremove+'_nvmlowjq1_deseq.csv')"
   ]
  },
  {
   "cell_type": "code",
   "execution_count": null,
   "metadata": {},
   "outputs": [],
   "source": [
    "res10um.to_csv(\"../results/\"+project+\"/\"+version+'_'+minvar_toremove+'_'+mincount_toremove+'_jq1_10um_deseq.csv')\n",
    "res1um.to_csv(\"../results/\"+project+\"/\"+version+'_'+minvar_toremove+'_'+mincount_toremove+'_jq1_1um_deseq.csv')\n",
    "res5um.to_csv(\"../results/\"+project+\"/\"+version+'_'+minvar_toremove+'_'+mincount_toremove+'_jq1_5um_deseq.csv')"
   ]
  },
  {
   "cell_type": "markdown",
   "metadata": {},
   "source": [
    "we can conclude that we get similar results to the slamseq myc paper although it seems that our values are a bit skewed toward higher expression than what is on the slamseq paper. It mightt be explained by the pseudo count of 1 that I did not set. Because I think it would highly bias the DESeq algorithm."
   ]
  },
  {
   "cell_type": "code",
   "execution_count": null,
   "metadata": {},
   "outputs": [],
   "source": [
    "volcano(res,tohighlight=ctf, searchbox=True, title='DESeq results of MV411 under 10um of JQ1 in volcano plot', folder='../results/'+project+'/plots/'+version+'_'+minvar_toremove+'_'+mincount_toremove)\n",
    "volcano(res_neg,tohighlight=ctf, searchbox=True, title='DESeq results of MV411 under 1um of JQ1 in volcano plot',folder='../results/'+project+'/plots/'+version+'_'+minvar_toremove+'_'+mincount_toremove)\n",
    "volcano(resnoto,tohighlight=ctf, searchbox=True, title='DESeq results of MV411 under 5um of JQ1 in volcano plot',folder='../results/'+project+'/plots/'+version+'_'+minvar_toremove+'_'+mincount_toremove)"
   ]
  },
  {
   "cell_type": "markdown",
   "metadata": {},
   "source": [
    "### NVP2 JQ1 MOLM13"
   ]
  },
  {
   "cell_type": "code",
   "execution_count": null,
   "metadata": {},
   "outputs": [],
   "source": [
    "h.volcano(res1,tohighlight=ctf, searchbox=True, title=\"JQ1\", folder='../results/'+project+'/plots/'+version+'_'+minvar_toremove+'_'+mincount_toremove)\n",
    "h.volcano(res2,tohighlight=ctf, searchbox=True, title=\"NVP2low\", folder='../results/'+project+'/plots/'+version+'_'+minvar_toremove+'_'+mincount_toremove)\n",
    "h.volcano(res3,tohighlight=ctf, searchbox=True, title=\"NVP2hgih\", folder='../results/'+project+'/plots/'+version+'_'+minvar_toremove+'_'+mincount_toremove)\n",
    "h.volcano(res4,tohighlight=ctf, searchbox=True, title=\"NVP2low+JQ1\", folder='../results/'+project+'/plots/'+version+'_'+minvar_toremove+'_'+mincount_toremove)"
   ]
  },
  {
   "cell_type": "markdown",
   "metadata": {},
   "source": [
    "### K562 HCT116 comparison"
   ]
  },
  {
   "cell_type": "code",
   "execution_count": null,
   "metadata": {},
   "outputs": [],
   "source": [
    "scaling6 = "
   ]
  },
  {
   "cell_type": "code",
   "execution_count": null,
   "metadata": {},
   "outputs": [],
   "source": [
    "res_K562.log2FoldChange = res_K562.log2FoldChange - scaling6"
   ]
  },
  {
   "cell_type": "code",
   "execution_count": null,
   "metadata": {},
   "outputs": [],
   "source": [
    "volcano(res_HCT116,tohighlight=ctf, searchbox=True, minpval=4, minlogfold=0.3, title='HCT116 under MYC AID', folder='../results/'+project+'/plots/'+version+'_'+minvar_toremove+'_'+mincount_toremove)\n",
    "volcano(res_K562,tohighlight=ctf, searchbox=True, maxvalue=20,minpval=3, minlogfold=0.4, title='K562 under MYC AID', folder='../results/'+project+'/plots/'+version+'_'+minvar_toremove+'_'+mincount_toremove)"
   ]
  },
  {
   "cell_type": "markdown",
   "metadata": {},
   "source": [
    "### K562 MV411 comparison"
   ]
  },
  {
   "cell_type": "code",
   "execution_count": null,
   "metadata": {},
   "outputs": [],
   "source": [
    "h.volcano(MV411res,tohighlight=ctf, searchbox=True, title=\"MV411 under JQ1\", folder='../results/'+project+'/plots/'+version+'_'+minvar_toremove+'_'+mincount_toremove)\n",
    "h.volcano(K562res,tohighlight=ctf, searchbox=True, title=\"K562 under JQ1\", folder='../results/'+project+'/plots/'+version+'_'+minvar_toremove+'_'+mincount_toremove)"
   ]
  }
 ],
 "metadata": {
  "kernelspec": {
   "display_name": "Python 3 (ipykernel)",
   "language": "python",
   "name": "python3"
  },
  "language_info": {
   "codemirror_mode": {
    "name": "ipython",
    "version": 3
   },
   "file_extension": ".py",
   "mimetype": "text/x-python",
   "name": "python",
   "nbconvert_exporter": "python",
   "pygments_lexer": "ipython3",
   "version": "3.8.8"
  },
  "latex_envs": {
   "LaTeX_envs_menu_present": true,
   "autoclose": false,
   "autocomplete": true,
   "bibliofile": "biblio.bib",
   "cite_by": "apalike",
   "current_citInitial": 1,
   "eqLabelWithNumbers": true,
   "eqNumInitial": 1,
   "hotkeys": {
    "equation": "Ctrl-E",
    "itemize": "Ctrl-I"
   },
   "labels_anchors": false,
   "latex_user_defs": false,
   "report_style_numbering": false,
   "user_envs_cfg": false
  },
  "toc": {
   "base_numbering": 1,
   "nav_menu": {},
   "number_sections": false,
   "sideBar": false,
   "skip_h1_title": false,
   "title_cell": "Table of Contents",
   "title_sidebar": "Contents",
   "toc_cell": false,
   "toc_position": {},
   "toc_section_display": false,
   "toc_window_display": false
  },
  "varInspector": {
   "cols": {
    "lenName": 16,
    "lenType": 16,
    "lenVar": 40
   },
   "kernels_config": {
    "python": {
     "delete_cmd_postfix": "",
     "delete_cmd_prefix": "del ",
     "library": "var_list.py",
     "varRefreshCmd": "print(var_dic_list())"
    },
    "r": {
     "delete_cmd_postfix": ") ",
     "delete_cmd_prefix": "rm(",
     "library": "var_list.r",
     "varRefreshCmd": "cat(var_dic_list()) "
    }
   },
   "types_to_exclude": [
    "module",
    "function",
    "builtin_function_or_method",
    "instance",
    "_Feature"
   ],
   "window_display": false
  }
 },
 "nbformat": 4,
 "nbformat_minor": 2
}
