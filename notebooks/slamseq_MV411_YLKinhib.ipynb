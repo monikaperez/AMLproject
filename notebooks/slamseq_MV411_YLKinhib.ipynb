{
 "cells": [
  {
   "cell_type": "markdown",
   "metadata": {},
   "source": [
    "# Slamseq MV411 YLK inhib"
   ]
  },
  {
   "cell_type": "code",
   "execution_count": 2,
   "metadata": {},
   "outputs": [
    {
     "data": {
      "text/html": [
       "\n",
       "    <div class=\"bk-root\">\n",
       "        <a href=\"https://bokeh.org\" target=\"_blank\" class=\"bk-logo bk-logo-small bk-logo-notebook\"></a>\n",
       "        <span id=\"1001\">Loading BokehJS ...</span>\n",
       "    </div>"
      ]
     },
     "metadata": {},
     "output_type": "display_data"
    },
    {
     "data": {
      "application/javascript": [
       "\n",
       "(function(root) {\n",
       "  function now() {\n",
       "    return new Date();\n",
       "  }\n",
       "\n",
       "  var force = true;\n",
       "\n",
       "  if (typeof root._bokeh_onload_callbacks === \"undefined\" || force === true) {\n",
       "    root._bokeh_onload_callbacks = [];\n",
       "    root._bokeh_is_loading = undefined;\n",
       "  }\n",
       "\n",
       "  var JS_MIME_TYPE = 'application/javascript';\n",
       "  var HTML_MIME_TYPE = 'text/html';\n",
       "  var EXEC_MIME_TYPE = 'application/vnd.bokehjs_exec.v0+json';\n",
       "  var CLASS_NAME = 'output_bokeh rendered_html';\n",
       "\n",
       "  /**\n",
       "   * Render data to the DOM node\n",
       "   */\n",
       "  function render(props, node) {\n",
       "    var script = document.createElement(\"script\");\n",
       "    node.appendChild(script);\n",
       "  }\n",
       "\n",
       "  /**\n",
       "   * Handle when an output is cleared or removed\n",
       "   */\n",
       "  function handleClearOutput(event, handle) {\n",
       "    var cell = handle.cell;\n",
       "\n",
       "    var id = cell.output_area._bokeh_element_id;\n",
       "    var server_id = cell.output_area._bokeh_server_id;\n",
       "    // Clean up Bokeh references\n",
       "    if (id != null && id in Bokeh.index) {\n",
       "      Bokeh.index[id].model.document.clear();\n",
       "      delete Bokeh.index[id];\n",
       "    }\n",
       "\n",
       "    if (server_id !== undefined) {\n",
       "      // Clean up Bokeh references\n",
       "      var cmd = \"from bokeh.io.state import curstate; print(curstate().uuid_to_server['\" + server_id + \"'].get_sessions()[0].document.roots[0]._id)\";\n",
       "      cell.notebook.kernel.execute(cmd, {\n",
       "        iopub: {\n",
       "          output: function(msg) {\n",
       "            var id = msg.content.text.trim();\n",
       "            if (id in Bokeh.index) {\n",
       "              Bokeh.index[id].model.document.clear();\n",
       "              delete Bokeh.index[id];\n",
       "            }\n",
       "          }\n",
       "        }\n",
       "      });\n",
       "      // Destroy server and session\n",
       "      var cmd = \"import bokeh.io.notebook as ion; ion.destroy_server('\" + server_id + \"')\";\n",
       "      cell.notebook.kernel.execute(cmd);\n",
       "    }\n",
       "  }\n",
       "\n",
       "  /**\n",
       "   * Handle when a new output is added\n",
       "   */\n",
       "  function handleAddOutput(event, handle) {\n",
       "    var output_area = handle.output_area;\n",
       "    var output = handle.output;\n",
       "\n",
       "    // limit handleAddOutput to display_data with EXEC_MIME_TYPE content only\n",
       "    if ((output.output_type != \"display_data\") || (!output.data.hasOwnProperty(EXEC_MIME_TYPE))) {\n",
       "      return\n",
       "    }\n",
       "\n",
       "    var toinsert = output_area.element.find(\".\" + CLASS_NAME.split(' ')[0]);\n",
       "\n",
       "    if (output.metadata[EXEC_MIME_TYPE][\"id\"] !== undefined) {\n",
       "      toinsert[toinsert.length - 1].firstChild.textContent = output.data[JS_MIME_TYPE];\n",
       "      // store reference to embed id on output_area\n",
       "      output_area._bokeh_element_id = output.metadata[EXEC_MIME_TYPE][\"id\"];\n",
       "    }\n",
       "    if (output.metadata[EXEC_MIME_TYPE][\"server_id\"] !== undefined) {\n",
       "      var bk_div = document.createElement(\"div\");\n",
       "      bk_div.innerHTML = output.data[HTML_MIME_TYPE];\n",
       "      var script_attrs = bk_div.children[0].attributes;\n",
       "      for (var i = 0; i < script_attrs.length; i++) {\n",
       "        toinsert[toinsert.length - 1].firstChild.setAttribute(script_attrs[i].name, script_attrs[i].value);\n",
       "        toinsert[toinsert.length - 1].firstChild.textContent = bk_div.children[0].textContent\n",
       "      }\n",
       "      // store reference to server id on output_area\n",
       "      output_area._bokeh_server_id = output.metadata[EXEC_MIME_TYPE][\"server_id\"];\n",
       "    }\n",
       "  }\n",
       "\n",
       "  function register_renderer(events, OutputArea) {\n",
       "\n",
       "    function append_mime(data, metadata, element) {\n",
       "      // create a DOM node to render to\n",
       "      var toinsert = this.create_output_subarea(\n",
       "        metadata,\n",
       "        CLASS_NAME,\n",
       "        EXEC_MIME_TYPE\n",
       "      );\n",
       "      this.keyboard_manager.register_events(toinsert);\n",
       "      // Render to node\n",
       "      var props = {data: data, metadata: metadata[EXEC_MIME_TYPE]};\n",
       "      render(props, toinsert[toinsert.length - 1]);\n",
       "      element.append(toinsert);\n",
       "      return toinsert\n",
       "    }\n",
       "\n",
       "    /* Handle when an output is cleared or removed */\n",
       "    events.on('clear_output.CodeCell', handleClearOutput);\n",
       "    events.on('delete.Cell', handleClearOutput);\n",
       "\n",
       "    /* Handle when a new output is added */\n",
       "    events.on('output_added.OutputArea', handleAddOutput);\n",
       "\n",
       "    /**\n",
       "     * Register the mime type and append_mime function with output_area\n",
       "     */\n",
       "    OutputArea.prototype.register_mime_type(EXEC_MIME_TYPE, append_mime, {\n",
       "      /* Is output safe? */\n",
       "      safe: true,\n",
       "      /* Index of renderer in `output_area.display_order` */\n",
       "      index: 0\n",
       "    });\n",
       "  }\n",
       "\n",
       "  // register the mime type if in Jupyter Notebook environment and previously unregistered\n",
       "  if (root.Jupyter !== undefined) {\n",
       "    var events = require('base/js/events');\n",
       "    var OutputArea = require('notebook/js/outputarea').OutputArea;\n",
       "\n",
       "    if (OutputArea.prototype.mime_types().indexOf(EXEC_MIME_TYPE) == -1) {\n",
       "      register_renderer(events, OutputArea);\n",
       "    }\n",
       "  }\n",
       "\n",
       "  \n",
       "  if (typeof (root._bokeh_timeout) === \"undefined\" || force === true) {\n",
       "    root._bokeh_timeout = Date.now() + 5000;\n",
       "    root._bokeh_failed_load = false;\n",
       "  }\n",
       "\n",
       "  var NB_LOAD_WARNING = {'data': {'text/html':\n",
       "     \"<div style='background-color: #fdd'>\\n\"+\n",
       "     \"<p>\\n\"+\n",
       "     \"BokehJS does not appear to have successfully loaded. If loading BokehJS from CDN, this \\n\"+\n",
       "     \"may be due to a slow or bad network connection. Possible fixes:\\n\"+\n",
       "     \"</p>\\n\"+\n",
       "     \"<ul>\\n\"+\n",
       "     \"<li>re-rerun `output_notebook()` to attempt to load from CDN again, or</li>\\n\"+\n",
       "     \"<li>use INLINE resources instead, as so:</li>\\n\"+\n",
       "     \"</ul>\\n\"+\n",
       "     \"<code>\\n\"+\n",
       "     \"from bokeh.resources import INLINE\\n\"+\n",
       "     \"output_notebook(resources=INLINE)\\n\"+\n",
       "     \"</code>\\n\"+\n",
       "     \"</div>\"}};\n",
       "\n",
       "  function display_loaded() {\n",
       "    var el = document.getElementById(\"1001\");\n",
       "    if (el != null) {\n",
       "      el.textContent = \"BokehJS is loading...\";\n",
       "    }\n",
       "    if (root.Bokeh !== undefined) {\n",
       "      if (el != null) {\n",
       "        el.textContent = \"BokehJS \" + root.Bokeh.version + \" successfully loaded.\";\n",
       "      }\n",
       "    } else if (Date.now() < root._bokeh_timeout) {\n",
       "      setTimeout(display_loaded, 100)\n",
       "    }\n",
       "  }\n",
       "\n",
       "\n",
       "  function run_callbacks() {\n",
       "    try {\n",
       "      root._bokeh_onload_callbacks.forEach(function(callback) {\n",
       "        if (callback != null)\n",
       "          callback();\n",
       "      });\n",
       "    } finally {\n",
       "      delete root._bokeh_onload_callbacks\n",
       "    }\n",
       "    console.debug(\"Bokeh: all callbacks have finished\");\n",
       "  }\n",
       "\n",
       "  function load_libs(css_urls, js_urls, callback) {\n",
       "    if (css_urls == null) css_urls = [];\n",
       "    if (js_urls == null) js_urls = [];\n",
       "\n",
       "    root._bokeh_onload_callbacks.push(callback);\n",
       "    if (root._bokeh_is_loading > 0) {\n",
       "      console.debug(\"Bokeh: BokehJS is being loaded, scheduling callback at\", now());\n",
       "      return null;\n",
       "    }\n",
       "    if (js_urls == null || js_urls.length === 0) {\n",
       "      run_callbacks();\n",
       "      return null;\n",
       "    }\n",
       "    console.debug(\"Bokeh: BokehJS not loaded, scheduling load and callback at\", now());\n",
       "    root._bokeh_is_loading = css_urls.length + js_urls.length;\n",
       "\n",
       "    function on_load() {\n",
       "      root._bokeh_is_loading--;\n",
       "      if (root._bokeh_is_loading === 0) {\n",
       "        console.debug(\"Bokeh: all BokehJS libraries/stylesheets loaded\");\n",
       "        run_callbacks()\n",
       "      }\n",
       "    }\n",
       "\n",
       "    function on_error() {\n",
       "      console.error(\"failed to load \" + url);\n",
       "    }\n",
       "\n",
       "    for (var i = 0; i < css_urls.length; i++) {\n",
       "      var url = css_urls[i];\n",
       "      const element = document.createElement(\"link\");\n",
       "      element.onload = on_load;\n",
       "      element.onerror = on_error;\n",
       "      element.rel = \"stylesheet\";\n",
       "      element.type = \"text/css\";\n",
       "      element.href = url;\n",
       "      console.debug(\"Bokeh: injecting link tag for BokehJS stylesheet: \", url);\n",
       "      document.body.appendChild(element);\n",
       "    }\n",
       "\n",
       "    const hashes = {\"https://cdn.bokeh.org/bokeh/release/bokeh-2.0.2.min.js\": \"ufR9RFnRs6lniiaFvtJziE0YeidtAgBRH6ux2oUItHw5WTvE1zuk9uzhUU/FJXDp\", \"https://cdn.bokeh.org/bokeh/release/bokeh-widgets-2.0.2.min.js\": \"8QM/PGWBT+IssZuRcDcjzwIh1mkOmJSoNMmyYDZbCfXJg3Ap1lEvdVgFuSAwhb/J\", \"https://cdn.bokeh.org/bokeh/release/bokeh-tables-2.0.2.min.js\": \"Jm8cH3Rg0P6UeZhVY5cLy1WzKajUT9KImCY+76hEqrcJt59/d8GPvFHjCkYgnSIn\", \"https://cdn.bokeh.org/bokeh/release/bokeh-gl-2.0.2.min.js\": \"Ozhzj+SI7ywm74aOI/UajcWz+C0NjsPunEVyVIrxzYkB+jA+2tUw8x5xJCbVtK5I\"};\n",
       "\n",
       "    for (var i = 0; i < js_urls.length; i++) {\n",
       "      var url = js_urls[i];\n",
       "      var element = document.createElement('script');\n",
       "      element.onload = on_load;\n",
       "      element.onerror = on_error;\n",
       "      element.async = false;\n",
       "      element.src = url;\n",
       "      if (url in hashes) {\n",
       "        element.crossOrigin = \"anonymous\";\n",
       "        element.integrity = \"sha384-\" + hashes[url];\n",
       "      }\n",
       "      console.debug(\"Bokeh: injecting script tag for BokehJS library: \", url);\n",
       "      document.head.appendChild(element);\n",
       "    }\n",
       "  };\n",
       "\n",
       "  function inject_raw_css(css) {\n",
       "    const element = document.createElement(\"style\");\n",
       "    element.appendChild(document.createTextNode(css));\n",
       "    document.body.appendChild(element);\n",
       "  }\n",
       "\n",
       "  \n",
       "  var js_urls = [\"https://cdn.bokeh.org/bokeh/release/bokeh-2.0.2.min.js\", \"https://cdn.bokeh.org/bokeh/release/bokeh-widgets-2.0.2.min.js\", \"https://cdn.bokeh.org/bokeh/release/bokeh-tables-2.0.2.min.js\", \"https://cdn.bokeh.org/bokeh/release/bokeh-gl-2.0.2.min.js\"];\n",
       "  var css_urls = [];\n",
       "  \n",
       "\n",
       "  var inline_js = [\n",
       "    function(Bokeh) {\n",
       "      Bokeh.set_log_level(\"info\");\n",
       "    },\n",
       "    function(Bokeh) {\n",
       "    \n",
       "    \n",
       "    }\n",
       "  ];\n",
       "\n",
       "  function run_inline_js() {\n",
       "    \n",
       "    if (root.Bokeh !== undefined || force === true) {\n",
       "      \n",
       "    for (var i = 0; i < inline_js.length; i++) {\n",
       "      inline_js[i].call(root, root.Bokeh);\n",
       "    }\n",
       "    if (force === true) {\n",
       "        display_loaded();\n",
       "      }} else if (Date.now() < root._bokeh_timeout) {\n",
       "      setTimeout(run_inline_js, 100);\n",
       "    } else if (!root._bokeh_failed_load) {\n",
       "      console.log(\"Bokeh: BokehJS failed to load within specified timeout.\");\n",
       "      root._bokeh_failed_load = true;\n",
       "    } else if (force !== true) {\n",
       "      var cell = $(document.getElementById(\"1001\")).parents('.cell').data().cell;\n",
       "      cell.output_area.append_execute_result(NB_LOAD_WARNING)\n",
       "    }\n",
       "\n",
       "  }\n",
       "\n",
       "  if (root._bokeh_is_loading === 0) {\n",
       "    console.debug(\"Bokeh: BokehJS loaded, going straight to plotting\");\n",
       "    run_inline_js();\n",
       "  } else {\n",
       "    load_libs(css_urls, js_urls, function() {\n",
       "      console.debug(\"Bokeh: BokehJS plotting callback run at\", now());\n",
       "      run_inline_js();\n",
       "    });\n",
       "  }\n",
       "}(window));"
      ],
      "application/vnd.bokehjs_load.v0+json": "\n(function(root) {\n  function now() {\n    return new Date();\n  }\n\n  var force = true;\n\n  if (typeof root._bokeh_onload_callbacks === \"undefined\" || force === true) {\n    root._bokeh_onload_callbacks = [];\n    root._bokeh_is_loading = undefined;\n  }\n\n  \n\n  \n  if (typeof (root._bokeh_timeout) === \"undefined\" || force === true) {\n    root._bokeh_timeout = Date.now() + 5000;\n    root._bokeh_failed_load = false;\n  }\n\n  var NB_LOAD_WARNING = {'data': {'text/html':\n     \"<div style='background-color: #fdd'>\\n\"+\n     \"<p>\\n\"+\n     \"BokehJS does not appear to have successfully loaded. If loading BokehJS from CDN, this \\n\"+\n     \"may be due to a slow or bad network connection. Possible fixes:\\n\"+\n     \"</p>\\n\"+\n     \"<ul>\\n\"+\n     \"<li>re-rerun `output_notebook()` to attempt to load from CDN again, or</li>\\n\"+\n     \"<li>use INLINE resources instead, as so:</li>\\n\"+\n     \"</ul>\\n\"+\n     \"<code>\\n\"+\n     \"from bokeh.resources import INLINE\\n\"+\n     \"output_notebook(resources=INLINE)\\n\"+\n     \"</code>\\n\"+\n     \"</div>\"}};\n\n  function display_loaded() {\n    var el = document.getElementById(\"1001\");\n    if (el != null) {\n      el.textContent = \"BokehJS is loading...\";\n    }\n    if (root.Bokeh !== undefined) {\n      if (el != null) {\n        el.textContent = \"BokehJS \" + root.Bokeh.version + \" successfully loaded.\";\n      }\n    } else if (Date.now() < root._bokeh_timeout) {\n      setTimeout(display_loaded, 100)\n    }\n  }\n\n\n  function run_callbacks() {\n    try {\n      root._bokeh_onload_callbacks.forEach(function(callback) {\n        if (callback != null)\n          callback();\n      });\n    } finally {\n      delete root._bokeh_onload_callbacks\n    }\n    console.debug(\"Bokeh: all callbacks have finished\");\n  }\n\n  function load_libs(css_urls, js_urls, callback) {\n    if (css_urls == null) css_urls = [];\n    if (js_urls == null) js_urls = [];\n\n    root._bokeh_onload_callbacks.push(callback);\n    if (root._bokeh_is_loading > 0) {\n      console.debug(\"Bokeh: BokehJS is being loaded, scheduling callback at\", now());\n      return null;\n    }\n    if (js_urls == null || js_urls.length === 0) {\n      run_callbacks();\n      return null;\n    }\n    console.debug(\"Bokeh: BokehJS not loaded, scheduling load and callback at\", now());\n    root._bokeh_is_loading = css_urls.length + js_urls.length;\n\n    function on_load() {\n      root._bokeh_is_loading--;\n      if (root._bokeh_is_loading === 0) {\n        console.debug(\"Bokeh: all BokehJS libraries/stylesheets loaded\");\n        run_callbacks()\n      }\n    }\n\n    function on_error() {\n      console.error(\"failed to load \" + url);\n    }\n\n    for (var i = 0; i < css_urls.length; i++) {\n      var url = css_urls[i];\n      const element = document.createElement(\"link\");\n      element.onload = on_load;\n      element.onerror = on_error;\n      element.rel = \"stylesheet\";\n      element.type = \"text/css\";\n      element.href = url;\n      console.debug(\"Bokeh: injecting link tag for BokehJS stylesheet: \", url);\n      document.body.appendChild(element);\n    }\n\n    const hashes = {\"https://cdn.bokeh.org/bokeh/release/bokeh-2.0.2.min.js\": \"ufR9RFnRs6lniiaFvtJziE0YeidtAgBRH6ux2oUItHw5WTvE1zuk9uzhUU/FJXDp\", \"https://cdn.bokeh.org/bokeh/release/bokeh-widgets-2.0.2.min.js\": \"8QM/PGWBT+IssZuRcDcjzwIh1mkOmJSoNMmyYDZbCfXJg3Ap1lEvdVgFuSAwhb/J\", \"https://cdn.bokeh.org/bokeh/release/bokeh-tables-2.0.2.min.js\": \"Jm8cH3Rg0P6UeZhVY5cLy1WzKajUT9KImCY+76hEqrcJt59/d8GPvFHjCkYgnSIn\", \"https://cdn.bokeh.org/bokeh/release/bokeh-gl-2.0.2.min.js\": \"Ozhzj+SI7ywm74aOI/UajcWz+C0NjsPunEVyVIrxzYkB+jA+2tUw8x5xJCbVtK5I\"};\n\n    for (var i = 0; i < js_urls.length; i++) {\n      var url = js_urls[i];\n      var element = document.createElement('script');\n      element.onload = on_load;\n      element.onerror = on_error;\n      element.async = false;\n      element.src = url;\n      if (url in hashes) {\n        element.crossOrigin = \"anonymous\";\n        element.integrity = \"sha384-\" + hashes[url];\n      }\n      console.debug(\"Bokeh: injecting script tag for BokehJS library: \", url);\n      document.head.appendChild(element);\n    }\n  };\n\n  function inject_raw_css(css) {\n    const element = document.createElement(\"style\");\n    element.appendChild(document.createTextNode(css));\n    document.body.appendChild(element);\n  }\n\n  \n  var js_urls = [\"https://cdn.bokeh.org/bokeh/release/bokeh-2.0.2.min.js\", \"https://cdn.bokeh.org/bokeh/release/bokeh-widgets-2.0.2.min.js\", \"https://cdn.bokeh.org/bokeh/release/bokeh-tables-2.0.2.min.js\", \"https://cdn.bokeh.org/bokeh/release/bokeh-gl-2.0.2.min.js\"];\n  var css_urls = [];\n  \n\n  var inline_js = [\n    function(Bokeh) {\n      Bokeh.set_log_level(\"info\");\n    },\n    function(Bokeh) {\n    \n    \n    }\n  ];\n\n  function run_inline_js() {\n    \n    if (root.Bokeh !== undefined || force === true) {\n      \n    for (var i = 0; i < inline_js.length; i++) {\n      inline_js[i].call(root, root.Bokeh);\n    }\n    if (force === true) {\n        display_loaded();\n      }} else if (Date.now() < root._bokeh_timeout) {\n      setTimeout(run_inline_js, 100);\n    } else if (!root._bokeh_failed_load) {\n      console.log(\"Bokeh: BokehJS failed to load within specified timeout.\");\n      root._bokeh_failed_load = true;\n    } else if (force !== true) {\n      var cell = $(document.getElementById(\"1001\")).parents('.cell').data().cell;\n      cell.output_area.append_execute_result(NB_LOAD_WARNING)\n    }\n\n  }\n\n  if (root._bokeh_is_loading === 0) {\n    console.debug(\"Bokeh: BokehJS loaded, going straight to plotting\");\n    run_inline_js();\n  } else {\n    load_libs(css_urls, js_urls, function() {\n      console.debug(\"Bokeh: BokehJS plotting callback run at\", now());\n      run_inline_js();\n    });\n  }\n}(window));"
     },
     "metadata": {},
     "output_type": "display_data"
    }
   ],
   "source": [
    "from __future__ import print_function\n",
    "import os.path\n",
    "import pandas as pd\n",
    "import sys\n",
    "sys.path.insert(0, '../../')\n",
    "import seaborn as sns\n",
    "import numpy as np\n",
    "\n",
    "from JKBio.utils import helper as h\n",
    "from JKBio.rna import pyDESeq2\n",
    "from JKBio import rna\n",
    "\n",
    "from JKBio.utils import plot\n",
    "\n",
    "from bokeh.plotting import *\n",
    "from bokeh.models import HoverTool\n",
    "import matplotlib.pyplot as plt\n",
    "\n",
    "from sklearn.neighbors import KNeighborsClassifier\n",
    "from sklearn.manifold import MDS, TSNE\n",
    "from sklearn.decomposition import PCA\n",
    "from sklearn.preprocessing import scale\n",
    "#from umap import UMAP\n",
    "\n",
    "output_notebook()\n",
    "%load_ext autoreload\n",
    "%matplotlib inline\n",
    "%autoreload 2\n",
    "%load_ext rpy2.ipython"
   ]
  },
  {
   "cell_type": "markdown",
   "metadata": {},
   "source": [
    "downloading their data"
   ]
  },
  {
   "cell_type": "markdown",
   "metadata": {},
   "source": [
    "## downloading the data"
   ]
  },
  {
   "cell_type": "code",
   "execution_count": 3,
   "metadata": {},
   "outputs": [],
   "source": [
    "version=\"v1\"\n",
    "project=\"slamseq_YLK_MV411\"\n",
    "location= '../data/'+project+\"/\""
   ]
  },
  {
   "cell_type": "code",
   "execution_count": 3,
   "metadata": {},
   "outputs": [],
   "source": [
    "mkdir ../$location"
   ]
  },
  {
   "cell_type": "code",
   "execution_count": 5,
   "metadata": {},
   "outputs": [],
   "source": [
    "code = \"MP8439\""
   ]
  },
  {
   "cell_type": "code",
   "execution_count": 8,
   "metadata": {
    "scrolled": true
   },
   "outputs": [
    {
     "name": "stdout",
     "output_type": "stream",
     "text": [
      "gs://transfer-amlproject/201120_MP8439_fastq/._multiqc_report.html\r\n",
      "gs://transfer-amlproject/201120_MP8439_fastq/20201120_DMSO_A_MP8439_S131_R1_001.fastq.gz\r\n",
      "gs://transfer-amlproject/201120_MP8439_fastq/20201120_DMSO_A_MP8439_S131_R2_001.fastq.gz\r\n",
      "gs://transfer-amlproject/201120_MP8439_fastq/20201120_DMSO_B_MP8439_S132_R1_001.fastq.gz\r\n",
      "gs://transfer-amlproject/201120_MP8439_fastq/20201120_DMSO_B_MP8439_S132_R2_001.fastq.gz\r\n",
      "gs://transfer-amlproject/201120_MP8439_fastq/20201120_DMSO_C_MP8439_S133_R1_001.fastq.gz\r\n",
      "gs://transfer-amlproject/201120_MP8439_fastq/20201120_DMSO_C_MP8439_S133_R2_001.fastq.gz\r\n",
      "gs://transfer-amlproject/201120_MP8439_fastq/20201120_DMSO_D_MP8439_S134_R1_001.fastq.gz\r\n",
      "gs://transfer-amlproject/201120_MP8439_fastq/20201120_DMSO_D_MP8439_S134_R2_001.fastq.gz\r\n",
      "gs://transfer-amlproject/201120_MP8439_fastq/20201120_YKL_A_MP8439_S135_R1_001.fastq.gz\r\n",
      "gs://transfer-amlproject/201120_MP8439_fastq/20201120_YKL_A_MP8439_S135_R2_001.fastq.gz\r\n",
      "gs://transfer-amlproject/201120_MP8439_fastq/20201120_YKL_B_MP8439_S136_R1_001.fastq.gz\r\n",
      "gs://transfer-amlproject/201120_MP8439_fastq/20201120_YKL_B_MP8439_S136_R2_001.fastq.gz\r\n",
      "gs://transfer-amlproject/201120_MP8439_fastq/20201120_YKL_C_MP8439_S137_R1_001.fastq.gz\r\n",
      "gs://transfer-amlproject/201120_MP8439_fastq/20201120_YKL_C_MP8439_S137_R2_001.fastq.gz\r\n",
      "gs://transfer-amlproject/201120_MP8439_fastq/20201120_YKL_D_MP8439_S138_R1_001.fastq.gz\r\n",
      "gs://transfer-amlproject/201120_MP8439_fastq/20201120_YKL_D_MP8439_S138_R2_001.fastq.gz\r\n",
      "gs://transfer-amlproject/201120_MP8439_fastq/multiqc_report.html\r\n",
      "gs://transfer-amlproject/201120_MP8439_fastq/Reports/\r\n",
      "gs://transfer-amlproject/201120_MP8439_fastq/multiqc_data/\r\n"
     ]
    }
   ],
   "source": [
    "!gsutil ls gs://transfer-amlproject/201120_MP8439_fastq/"
   ]
  },
  {
   "cell_type": "code",
   "execution_count": 10,
   "metadata": {},
   "outputs": [],
   "source": [
    "! mkdir ../results/$project/"
   ]
  },
  {
   "cell_type": "code",
   "execution_count": 11,
   "metadata": {},
   "outputs": [
    {
     "name": "stdout",
     "output_type": "stream",
     "text": [
      "Copying gs://transfer-amlproject/201120_MP8439_fastq/multiqc_report.html...\n",
      "/ [1/1 files][  1.3 MiB/  1.3 MiB] 100% Done                                    \n",
      "Operation completed over 1 objects/1.3 MiB.                                      \n"
     ]
    }
   ],
   "source": [
    "! gsutil -m cp gs://transfer-amlproject/201120_MP8439_fastq/multiqc_report.html ../results/$project/"
   ]
  },
  {
   "cell_type": "markdown",
   "metadata": {},
   "source": [
    "## Running slamdunk"
   ]
  },
  {
   "cell_type": "code",
   "execution_count": 13,
   "metadata": {},
   "outputs": [
    {
     "data": {
      "text/plain": [
       "['gs://transfer-amlproject/slamseq_YLK_MV411/20201120_DMSO_A_MP8439_S131_R1_001.fastq.gz',\n",
       " 'gs://transfer-amlproject/slamseq_YLK_MV411/20201120_DMSO_A_MP8439_S131_R2_001.fastq.gz',\n",
       " 'gs://transfer-amlproject/slamseq_YLK_MV411/20201120_DMSO_B_MP8439_S132_R1_001.fastq.gz',\n",
       " 'gs://transfer-amlproject/slamseq_YLK_MV411/20201120_DMSO_B_MP8439_S132_R2_001.fastq.gz',\n",
       " 'gs://transfer-amlproject/slamseq_YLK_MV411/20201120_DMSO_C_MP8439_S133_R1_001.fastq.gz',\n",
       " 'gs://transfer-amlproject/slamseq_YLK_MV411/20201120_DMSO_C_MP8439_S133_R2_001.fastq.gz',\n",
       " 'gs://transfer-amlproject/slamseq_YLK_MV411/20201120_DMSO_D_MP8439_S134_R1_001.fastq.gz',\n",
       " 'gs://transfer-amlproject/slamseq_YLK_MV411/20201120_DMSO_D_MP8439_S134_R2_001.fastq.gz',\n",
       " 'gs://transfer-amlproject/slamseq_YLK_MV411/20201120_YKL_A_MP8439_S135_R1_001.fastq.gz',\n",
       " 'gs://transfer-amlproject/slamseq_YLK_MV411/20201120_YKL_A_MP8439_S135_R2_001.fastq.gz',\n",
       " 'gs://transfer-amlproject/slamseq_YLK_MV411/20201120_YKL_B_MP8439_S136_R1_001.fastq.gz',\n",
       " 'gs://transfer-amlproject/slamseq_YLK_MV411/20201120_YKL_B_MP8439_S136_R2_001.fastq.gz',\n",
       " 'gs://transfer-amlproject/slamseq_YLK_MV411/20201120_YKL_C_MP8439_S137_R1_001.fastq.gz',\n",
       " 'gs://transfer-amlproject/slamseq_YLK_MV411/20201120_YKL_C_MP8439_S137_R2_001.fastq.gz',\n",
       " 'gs://transfer-amlproject/slamseq_YLK_MV411/20201120_YKL_D_MP8439_S138_R1_001.fastq.gz',\n",
       " 'gs://transfer-amlproject/slamseq_YLK_MV411/20201120_YKL_D_MP8439_S138_R2_001.fastq.gz']"
      ]
     },
     "execution_count": 13,
     "metadata": {},
     "output_type": "execute_result"
    }
   ],
   "source": [
    "bams= ! gsutil ls gs://transfer-amlproject/$project/\n",
    "bams"
   ]
  },
  {
   "cell_type": "code",
   "execution_count": 12,
   "metadata": {},
   "outputs": [],
   "source": [
    "rename = {\n",
    "\"20201120_DMSO_A_MP8439_S131\": \"mr343-MV411-DMSO-r1\",\n",
    "\"20201120_DMSO_B_MP8439_S132\": \"mr344-MV411-DMSO-r2\",\n",
    "\"20201120_DMSO_C_MP8439_S133\": \"mr345-MV411-DMSO-r3\",\n",
    "\"20201120_DMSO_D_MP8439_S134\": \"mr346-MV411-DMSO-r4\",\n",
    "\"20201120_YKL_A_MP8439_S135\": \"mr347-MV411-YLK-r1\",\n",
    "\"20201120_YKL_B_MP8439_S136\": \"mr348-MV411-YLK-r2\",\n",
    "\"20201120_YKL_C_MP8439_S137\": \"mr349-MV411-YLK-r3\",\n",
    "\"20201120_YKL_D_MP8439_S138\": \"mr350-MV411-YLK-r4\",\n",
    "}"
   ]
  },
  {
   "cell_type": "code",
   "execution_count": 15,
   "metadata": {
    "scrolled": true
   },
   "outputs": [
    {
     "name": "stdout",
     "output_type": "stream",
     "text": [
      "Copying gs://transfer-amlproject/slamseq_YLK_MV411/20201120_DMSO_A_MP8439_S131_R1_001.fastq.gz [Content-Type=application/octet-stream]...\n",
      "Removing gs://transfer-amlproject/slamseq_YLK_MV411/20201120_DMSO_A_MP8439_S131_R1_001.fastq.gz...\n",
      "-\n",
      "Operation completed over 1 objects/3.0 GiB.                                      \n",
      "Copying gs://transfer-amlproject/slamseq_YLK_MV411/20201120_DMSO_A_MP8439_S131_R2_001.fastq.gz [Content-Type=application/octet-stream]...\n",
      "Removing gs://transfer-amlproject/slamseq_YLK_MV411/20201120_DMSO_A_MP8439_S131_R2_001.fastq.gz...\n",
      "\n",
      "Operation completed over 1 objects/3.0 GiB.                                      \n",
      "Copying gs://transfer-amlproject/slamseq_YLK_MV411/20201120_DMSO_B_MP8439_S132_R1_001.fastq.gz [Content-Type=application/octet-stream]...\n",
      "Removing gs://transfer-amlproject/slamseq_YLK_MV411/20201120_DMSO_B_MP8439_S132_R1_001.fastq.gz...\n",
      "\n",
      "Operation completed over 1 objects/3.9 GiB.                                      \n",
      "Copying gs://transfer-amlproject/slamseq_YLK_MV411/20201120_DMSO_B_MP8439_S132_R2_001.fastq.gz [Content-Type=application/octet-stream]...\n",
      "Removing gs://transfer-amlproject/slamseq_YLK_MV411/20201120_DMSO_B_MP8439_S132_R2_001.fastq.gz...\n",
      "\n",
      "Operation completed over 1 objects/3.9 GiB.                                      \n",
      "Copying gs://transfer-amlproject/slamseq_YLK_MV411/20201120_DMSO_C_MP8439_S133_R1_001.fastq.gz [Content-Type=application/octet-stream]...\n",
      "Removing gs://transfer-amlproject/slamseq_YLK_MV411/20201120_DMSO_C_MP8439_S133_R1_001.fastq.gz...\n",
      "\n",
      "Operation completed over 1 objects/3.5 GiB.                                      \n",
      "Copying gs://transfer-amlproject/slamseq_YLK_MV411/20201120_DMSO_C_MP8439_S133_R2_001.fastq.gz [Content-Type=application/octet-stream]...\n",
      "Removing gs://transfer-amlproject/slamseq_YLK_MV411/20201120_DMSO_C_MP8439_S133_R2_001.fastq.gz...\n",
      "\n",
      "Operation completed over 1 objects/3.5 GiB.                                      \n",
      "Copying gs://transfer-amlproject/slamseq_YLK_MV411/20201120_DMSO_D_MP8439_S134_R1_001.fastq.gz [Content-Type=application/octet-stream]...\n",
      "Removing gs://transfer-amlproject/slamseq_YLK_MV411/20201120_DMSO_D_MP8439_S134_R1_001.fastq.gz...\n",
      "\n",
      "Operation completed over 1 objects/3.1 GiB.                                      \n",
      "Copying gs://transfer-amlproject/slamseq_YLK_MV411/20201120_DMSO_D_MP8439_S134_R2_001.fastq.gz [Content-Type=application/octet-stream]...\n",
      "Removing gs://transfer-amlproject/slamseq_YLK_MV411/20201120_DMSO_D_MP8439_S134_R2_001.fastq.gz...\n",
      "\n",
      "Operation completed over 1 objects/3.1 GiB.                                      \n",
      "Copying gs://transfer-amlproject/slamseq_YLK_MV411/20201120_YKL_A_MP8439_S135_R1_001.fastq.gz [Content-Type=application/octet-stream]...\n",
      "Removing gs://transfer-amlproject/slamseq_YLK_MV411/20201120_YKL_A_MP8439_S135_R1_001.fastq.gz...\n",
      "\n",
      "Operation completed over 1 objects/1.7 GiB.                                      \n",
      "Copying gs://transfer-amlproject/slamseq_YLK_MV411/20201120_YKL_A_MP8439_S135_R2_001.fastq.gz [Content-Type=application/octet-stream]...\n",
      "Removing gs://transfer-amlproject/slamseq_YLK_MV411/20201120_YKL_A_MP8439_S135_R2_001.fastq.gz...\n",
      "\n",
      "Operation completed over 1 objects/1.7 GiB.                                      \n",
      "Copying gs://transfer-amlproject/slamseq_YLK_MV411/20201120_YKL_B_MP8439_S136_R1_001.fastq.gz [Content-Type=application/octet-stream]...\n",
      "Removing gs://transfer-amlproject/slamseq_YLK_MV411/20201120_YKL_B_MP8439_S136_R1_001.fastq.gz...\n",
      "\n",
      "Operation completed over 1 objects/2.5 GiB.                                      \n",
      "Copying gs://transfer-amlproject/slamseq_YLK_MV411/20201120_YKL_B_MP8439_S136_R2_001.fastq.gz [Content-Type=application/octet-stream]...\n",
      "Removing gs://transfer-amlproject/slamseq_YLK_MV411/20201120_YKL_B_MP8439_S136_R2_001.fastq.gz...\n",
      "\n",
      "Operation completed over 1 objects/2.5 GiB.                                      \n",
      "Copying gs://transfer-amlproject/slamseq_YLK_MV411/20201120_YKL_C_MP8439_S137_R1_001.fastq.gz [Content-Type=application/octet-stream]...\n",
      "Removing gs://transfer-amlproject/slamseq_YLK_MV411/20201120_YKL_C_MP8439_S137_R1_001.fastq.gz...\n",
      "\n",
      "Operation completed over 1 objects/2.1 GiB.                                      \n",
      "Copying gs://transfer-amlproject/slamseq_YLK_MV411/20201120_YKL_C_MP8439_S137_R2_001.fastq.gz [Content-Type=application/octet-stream]...\n",
      "Removing gs://transfer-amlproject/slamseq_YLK_MV411/20201120_YKL_C_MP8439_S137_R2_001.fastq.gz...\n",
      "\n",
      "Operation completed over 1 objects/2.1 GiB.                                      \n",
      "Copying gs://transfer-amlproject/slamseq_YLK_MV411/20201120_YKL_D_MP8439_S138_R1_001.fastq.gz [Content-Type=application/octet-stream]...\n",
      "Removing gs://transfer-amlproject/slamseq_YLK_MV411/20201120_YKL_D_MP8439_S138_R1_001.fastq.gz...\n",
      "\n",
      "Operation completed over 1 objects/3.2 GiB.                                      \n",
      "Copying gs://transfer-amlproject/slamseq_YLK_MV411/20201120_YKL_D_MP8439_S138_R2_001.fastq.gz [Content-Type=application/octet-stream]...\n",
      "Removing gs://transfer-amlproject/slamseq_YLK_MV411/20201120_YKL_D_MP8439_S138_R2_001.fastq.gz...\n",
      "\n",
      "Operation completed over 1 objects/3.3 GiB.                                      \n"
     ]
    }
   ],
   "source": [
    "for val in bams:\n",
    "    ren  = val\n",
    "    for old, new in rename.items():\n",
    "        ren = ren.replace(old, new)\n",
    "    if ren !=val:\n",
    "        ! gsutil mv $val $ren"
   ]
  },
  {
   "cell_type": "code",
   "execution_count": 16,
   "metadata": {},
   "outputs": [],
   "source": [
    "bams= ! gsutil ls gs://transfer-amlproject/$project/\n",
    "bams"
   ]
  },
  {
   "cell_type": "code",
   "execution_count": 29,
   "metadata": {},
   "outputs": [
    {
     "data": {
      "text/html": [
       "<div>\n",
       "<style scoped>\n",
       "    .dataframe tbody tr th:only-of-type {\n",
       "        vertical-align: middle;\n",
       "    }\n",
       "\n",
       "    .dataframe tbody tr th {\n",
       "        vertical-align: top;\n",
       "    }\n",
       "\n",
       "    .dataframe thead th {\n",
       "        text-align: right;\n",
       "    }\n",
       "</style>\n",
       "<table border=\"1\" class=\"dataframe\">\n",
       "  <thead>\n",
       "    <tr style=\"text-align: right;\">\n",
       "      <th></th>\n",
       "      <th>group</th>\n",
       "      <th>condition</th>\n",
       "      <th>control</th>\n",
       "      <th>reads1</th>\n",
       "      <th>reads2</th>\n",
       "      <th>name</th>\n",
       "    </tr>\n",
       "  </thead>\n",
       "  <tbody>\n",
       "    <tr>\n",
       "      <th>0</th>\n",
       "      <td>MV411</td>\n",
       "      <td>DMSO</td>\n",
       "      <td>1</td>\n",
       "      <td>gs://transfer-amlproject/slamseq_YLK_MV411/mr3...</td>\n",
       "      <td>gs://transfer-amlproject/slamseq_YLK_MV411/mr3...</td>\n",
       "      <td>mr343-MV411-DMSO</td>\n",
       "    </tr>\n",
       "    <tr>\n",
       "      <th>1</th>\n",
       "      <td>MV411</td>\n",
       "      <td>DMSO</td>\n",
       "      <td>1</td>\n",
       "      <td>gs://transfer-amlproject/slamseq_YLK_MV411/mr3...</td>\n",
       "      <td>gs://transfer-amlproject/slamseq_YLK_MV411/mr3...</td>\n",
       "      <td>mr344-MV411-DMSO</td>\n",
       "    </tr>\n",
       "    <tr>\n",
       "      <th>2</th>\n",
       "      <td>MV411</td>\n",
       "      <td>DMSO</td>\n",
       "      <td>1</td>\n",
       "      <td>gs://transfer-amlproject/slamseq_YLK_MV411/mr3...</td>\n",
       "      <td>gs://transfer-amlproject/slamseq_YLK_MV411/mr3...</td>\n",
       "      <td>mr345-MV411-DMSO</td>\n",
       "    </tr>\n",
       "    <tr>\n",
       "      <th>3</th>\n",
       "      <td>MV411</td>\n",
       "      <td>DMSO</td>\n",
       "      <td>1</td>\n",
       "      <td>gs://transfer-amlproject/slamseq_YLK_MV411/mr3...</td>\n",
       "      <td>gs://transfer-amlproject/slamseq_YLK_MV411/mr3...</td>\n",
       "      <td>mr346-MV411-DMSO</td>\n",
       "    </tr>\n",
       "    <tr>\n",
       "      <th>4</th>\n",
       "      <td>MV411</td>\n",
       "      <td>YLK</td>\n",
       "      <td>0</td>\n",
       "      <td>gs://transfer-amlproject/slamseq_YLK_MV411/mr3...</td>\n",
       "      <td>gs://transfer-amlproject/slamseq_YLK_MV411/mr3...</td>\n",
       "      <td>mr347-MV411-YLK</td>\n",
       "    </tr>\n",
       "    <tr>\n",
       "      <th>5</th>\n",
       "      <td>MV411</td>\n",
       "      <td>YLK</td>\n",
       "      <td>0</td>\n",
       "      <td>gs://transfer-amlproject/slamseq_YLK_MV411/mr3...</td>\n",
       "      <td>gs://transfer-amlproject/slamseq_YLK_MV411/mr3...</td>\n",
       "      <td>mr348-MV411-YLK</td>\n",
       "    </tr>\n",
       "    <tr>\n",
       "      <th>6</th>\n",
       "      <td>MV411</td>\n",
       "      <td>YLK</td>\n",
       "      <td>0</td>\n",
       "      <td>gs://transfer-amlproject/slamseq_YLK_MV411/mr3...</td>\n",
       "      <td>gs://transfer-amlproject/slamseq_YLK_MV411/mr3...</td>\n",
       "      <td>mr349-MV411-YLK</td>\n",
       "    </tr>\n",
       "    <tr>\n",
       "      <th>7</th>\n",
       "      <td>MV411</td>\n",
       "      <td>YLK</td>\n",
       "      <td>0</td>\n",
       "      <td>gs://transfer-amlproject/slamseq_YLK_MV411/mr3...</td>\n",
       "      <td>gs://transfer-amlproject/slamseq_YLK_MV411/mr3...</td>\n",
       "      <td>mr350-MV411-YLK</td>\n",
       "    </tr>\n",
       "  </tbody>\n",
       "</table>\n",
       "</div>"
      ],
      "text/plain": [
       "   group condition  control  \\\n",
       "0  MV411      DMSO        1   \n",
       "1  MV411      DMSO        1   \n",
       "2  MV411      DMSO        1   \n",
       "3  MV411      DMSO        1   \n",
       "4  MV411       YLK        0   \n",
       "5  MV411       YLK        0   \n",
       "6  MV411       YLK        0   \n",
       "7  MV411       YLK        0   \n",
       "\n",
       "                                              reads1  \\\n",
       "0  gs://transfer-amlproject/slamseq_YLK_MV411/mr3...   \n",
       "1  gs://transfer-amlproject/slamseq_YLK_MV411/mr3...   \n",
       "2  gs://transfer-amlproject/slamseq_YLK_MV411/mr3...   \n",
       "3  gs://transfer-amlproject/slamseq_YLK_MV411/mr3...   \n",
       "4  gs://transfer-amlproject/slamseq_YLK_MV411/mr3...   \n",
       "5  gs://transfer-amlproject/slamseq_YLK_MV411/mr3...   \n",
       "6  gs://transfer-amlproject/slamseq_YLK_MV411/mr3...   \n",
       "7  gs://transfer-amlproject/slamseq_YLK_MV411/mr3...   \n",
       "\n",
       "                                              reads2              name  \n",
       "0  gs://transfer-amlproject/slamseq_YLK_MV411/mr3...  mr343-MV411-DMSO  \n",
       "1  gs://transfer-amlproject/slamseq_YLK_MV411/mr3...  mr344-MV411-DMSO  \n",
       "2  gs://transfer-amlproject/slamseq_YLK_MV411/mr3...  mr345-MV411-DMSO  \n",
       "3  gs://transfer-amlproject/slamseq_YLK_MV411/mr3...  mr346-MV411-DMSO  \n",
       "4  gs://transfer-amlproject/slamseq_YLK_MV411/mr3...   mr347-MV411-YLK  \n",
       "5  gs://transfer-amlproject/slamseq_YLK_MV411/mr3...   mr348-MV411-YLK  \n",
       "6  gs://transfer-amlproject/slamseq_YLK_MV411/mr3...   mr349-MV411-YLK  \n",
       "7  gs://transfer-amlproject/slamseq_YLK_MV411/mr3...   mr350-MV411-YLK  "
      ]
     },
     "execution_count": 29,
     "metadata": {},
     "output_type": "execute_result"
    }
   ],
   "source": [
    "df = []\n",
    "for val1, val2 in h.grouped(bams,2):\n",
    "    df.append(['MV411', val1.split('/')[-1].split('-')[2], 1 if val1.split('/')[-1].split('-')[2]=='DMSO' else 0, val1, val2, '-'.join(val1.split('/')[-1].split('-')[:3])])\n",
    "df = pd.DataFrame(data=df, columns=['group','condition', 'control', 'reads1','reads2', 'name'])\n",
    "df.to_csv('../nextflow/'+project+'.csv', index=None)\n",
    "df"
   ]
  },
  {
   "cell_type": "code",
   "execution_count": 30,
   "metadata": {},
   "outputs": [
    {
     "name": "stdout",
     "output_type": "stream",
     "text": [
      "Copying gs://transfer-amlproject/slamseq_YLK_MV411/mr343-MV411-DMSO-r1_R1_001.fastq.gz...\n",
      "Copying gs://transfer-amlproject/slamseq_YLK_MV411/mr343-MV411-DMSO-r1_R2_001.fastq.gz...\n",
      "Copying gs://transfer-amlproject/slamseq_YLK_MV411/mr344-MV411-DMSO-r2_R1_001.fastq.gz...\n",
      "Copying gs://transfer-amlproject/slamseq_YLK_MV411/mr344-MV411-DMSO-r2_R2_001.fastq.gz...\n",
      "Copying gs://transfer-amlproject/slamseq_YLK_MV411/mr345-MV411-DMSO-r3_R1_001.fastq.gz...\n",
      "Copying gs://transfer-amlproject/slamseq_YLK_MV411/mr345-MV411-DMSO-r3_R2_001.fastq.gz...\n",
      "Copying gs://transfer-amlproject/slamseq_YLK_MV411/mr346-MV411-DMSO-r4_R1_001.fastq.gz...\n",
      "Copying gs://transfer-amlproject/slamseq_YLK_MV411/mr346-MV411-DMSO-r4_R2_001.fastq.gz...\n",
      "Copying gs://transfer-amlproject/slamseq_YLK_MV411/mr347-MV411-YLK-r1_R1_001.fastq.gz...\n",
      "Copying gs://transfer-amlproject/slamseq_YLK_MV411/mr347-MV411-YLK-r1_R2_001.fastq.gz...\n",
      "Copying gs://transfer-amlproject/slamseq_YLK_MV411/mr348-MV411-YLK-r2_R1_001.fastq.gz...\n",
      "Copying gs://transfer-amlproject/slamseq_YLK_MV411/mr348-MV411-YLK-r2_R2_001.fastq.gz...\n",
      "Copying gs://transfer-amlproject/slamseq_YLK_MV411/mr349-MV411-YLK-r3_R1_001.fastq.gz...\n",
      "Copying gs://transfer-amlproject/slamseq_YLK_MV411/mr349-MV411-YLK-r3_R2_001.fastq.gz...\n",
      "Copying gs://transfer-amlproject/slamseq_YLK_MV411/mr350-MV411-YLK-r4_R1_001.fastq.gz...\n",
      "Copying gs://transfer-amlproject/slamseq_YLK_MV411/mr350-MV411-YLK-r4_R2_001.fastq.gz...\n",
      "/ [16/16 files][ 45.8 GiB/ 45.8 GiB] 100% Done  52.8 MiB/s ETA 00:00:00         \n",
      "Operation completed over 16 objects/45.8 GiB.                                    \n"
     ]
    }
   ],
   "source": [
    "! gsutil -m cp gs://transfer-amlproject/$project/*.fastq.gz ../../data/$project/fastqs"
   ]
  },
  {
   "cell_type": "code",
   "execution_count": null,
   "metadata": {},
   "outputs": [],
   "source": [
    "! export NXF_VER=19.10.0 && export GOOGLE_APPLICATION_CREDENTIALS=aml-chipseq-rnaseq-9dcbe47182cf.json && export NXF_MODE=google && cd ../.. && ./nextflow run jkobject/slamseq --input AMLproject/nextflow/slamseq_YLK_MV411.csv -profile jkcloud --genome GRCh38_spike -w gs://workamlproject/slamseqwork --read_length 120 --outdir gs://workamlproject/slamseq_ylk --tracedir AMLproject/nextflow/slamseq_ylk/ --spiking -resume distraught_gates"
   ]
  },
  {
   "cell_type": "code",
   "execution_count": 31,
   "metadata": {
    "scrolled": true
   },
   "outputs": [
    {
     "name": "stdout",
     "output_type": "stream",
     "text": [
      "Collecting git+https://github.com/jkobject/slamdunk.git\n",
      "  Cloning https://github.com/jkobject/slamdunk.git to /tmp/pip-req-build-m0ncaac0\n",
      "Requirement already satisfied, skipping upgrade: joblib>=0.9.4 in /home/jeremie/.local/lib/python3.8/site-packages (from slamdunk==0.4.0) (0.14.1)\n",
      "Requirement already satisfied, skipping upgrade: pybedtools>=0.6.4 in /home/jeremie/.local/lib/python3.8/site-packages (from slamdunk==0.4.0) (0.8.1)\n",
      "Requirement already satisfied, skipping upgrade: intervaltree>=2.1.0 in /home/jeremie/.local/lib/python3.8/site-packages (from slamdunk==0.4.0) (3.0.2)\n",
      "Requirement already satisfied, skipping upgrade: pandas>=0.13.1 in /home/jeremie/.local/lib/python3.8/site-packages (from slamdunk==0.4.0) (1.0.3)\n",
      "Requirement already satisfied, skipping upgrade: biopython>=1.63 in /home/jeremie/.local/lib/python3.8/site-packages (from slamdunk==0.4.0) (1.77)\n",
      "Requirement already satisfied, skipping upgrade: pysam>=0.8.3 in /home/jeremie/.local/lib/python3.8/site-packages (from slamdunk==0.4.0) (0.15.4)\n",
      "Requirement already satisfied, skipping upgrade: Cython>=0.20.1 in /home/jeremie/.local/lib/python3.8/site-packages (from slamdunk==0.4.0) (0.29.17)\n",
      "Requirement already satisfied, skipping upgrade: six in /home/jeremie/.local/lib/python3.8/site-packages (from pybedtools>=0.6.4->slamdunk==0.4.0) (1.14.0)\n",
      "Requirement already satisfied, skipping upgrade: sortedcontainers<3.0,>=2.0 in /home/jeremie/.local/lib/python3.8/site-packages (from intervaltree>=2.1.0->slamdunk==0.4.0) (2.2.2)\n",
      "Requirement already satisfied, skipping upgrade: numpy>=1.13.3 in /home/jeremie/.local/lib/python3.8/site-packages (from pandas>=0.13.1->slamdunk==0.4.0) (1.18.4)\n",
      "Requirement already satisfied, skipping upgrade: pytz>=2017.2 in /home/jeremie/.local/lib/python3.8/site-packages (from pandas>=0.13.1->slamdunk==0.4.0) (2020.1)\n",
      "Requirement already satisfied, skipping upgrade: python-dateutil>=2.6.1 in /home/jeremie/.local/lib/python3.8/site-packages (from pandas>=0.13.1->slamdunk==0.4.0) (2.8.1)\n",
      "Building wheels for collected packages: slamdunk\n",
      "  Running setup.py bdist_wheel for slamdunk ... \u001b[?25ldone\n",
      "\u001b[?25h  Stored in directory: /tmp/pip-ephem-wheel-cache-icke8ysf/wheels/4c/b2/9c/e1153807b1571f6f12ee9761dcf5229ceee161c5c575b631fd\n",
      "Successfully built slamdunk\n",
      "Installing collected packages: slamdunk\n",
      "  Found existing installation: slamdunk 0.4.0\n",
      "    Uninstalling slamdunk-0.4.0:\n",
      "      Successfully uninstalled slamdunk-0.4.0\n",
      "Successfully installed slamdunk-0.4.0\n"
     ]
    }
   ],
   "source": [
    "! pip3 install git+https://github.com/jkobject/slamdunk.git --upgrade\n",
    "# please also install trimgalore and cutadapt"
   ]
  },
  {
   "cell_type": "code",
   "execution_count": 41,
   "metadata": {},
   "outputs": [
    {
     "data": {
      "text/plain": [
       "['../../data/slamseq_YLK_MV411/mr343-MV411-DMSO-r1_R1_001.fastq.gz',\n",
       " '../../data/slamseq_YLK_MV411/mr343-MV411-DMSO-r1_R2_001.fastq.gz',\n",
       " '../../data/slamseq_YLK_MV411/mr344-MV411-DMSO-r2_R1_001.fastq.gz',\n",
       " '../../data/slamseq_YLK_MV411/mr344-MV411-DMSO-r2_R2_001.fastq.gz',\n",
       " '../../data/slamseq_YLK_MV411/mr345-MV411-DMSO-r3_R1_001.fastq.gz',\n",
       " '../../data/slamseq_YLK_MV411/mr345-MV411-DMSO-r3_R2_001.fastq.gz',\n",
       " '../../data/slamseq_YLK_MV411/mr346-MV411-DMSO-r4_R1_001.fastq.gz',\n",
       " '../../data/slamseq_YLK_MV411/mr346-MV411-DMSO-r4_R2_001.fastq.gz',\n",
       " '../../data/slamseq_YLK_MV411/mr347-MV411-YLK-r1_R1_001.fastq.gz',\n",
       " '../../data/slamseq_YLK_MV411/mr347-MV411-YLK-r1_R2_001.fastq.gz',\n",
       " '../../data/slamseq_YLK_MV411/mr348-MV411-YLK-r2_R1_001.fastq.gz',\n",
       " '../../data/slamseq_YLK_MV411/mr348-MV411-YLK-r2_R2_001.fastq.gz',\n",
       " '../../data/slamseq_YLK_MV411/mr349-MV411-YLK-r3_R1_001.fastq.gz',\n",
       " '../../data/slamseq_YLK_MV411/mr349-MV411-YLK-r3_R2_001.fastq.gz',\n",
       " '../../data/slamseq_YLK_MV411/mr350-MV411-YLK-r4_R1_001.fastq.gz',\n",
       " '../../data/slamseq_YLK_MV411/mr350-MV411-YLK-r4_R2_001.fastq.gz']"
      ]
     },
     "execution_count": 41,
     "metadata": {},
     "output_type": "execute_result"
    }
   ],
   "source": [
    "folder_bams = \"../../data/\"+project+\"/fastqs/\"\n",
    "bams = ! ls ../../data/$project/*.fastq.gz\n",
    "bams"
   ]
  },
  {
   "cell_type": "code",
   "execution_count": 42,
   "metadata": {},
   "outputs": [],
   "source": [
    "h.parrun(['../../TrimGalore-0.6.5/trim_galore --paired --cores 14 --retain_unpaired -stringency 3 --illumina '+val1+ ' '+val2+' -o '+folder_bams for val1,val2 in h.grouped(bams,2)],2)"
   ]
  },
  {
   "cell_type": "code",
   "execution_count": null,
   "metadata": {},
   "outputs": [],
   "source": [
    "rm ../../data/$project/*.fastq.gz"
   ]
  },
  {
   "cell_type": "code",
   "execution_count": 44,
   "metadata": {},
   "outputs": [],
   "source": [
    "# using an ERCC ref genome (you can just append ERCC fasta to the hg38 fasta)\n",
    "refgenome=\"../../data/ref/Homo_sapiens_assembly38_ERCC92.fasta\""
   ]
  },
  {
   "cell_type": "code",
   "execution_count": 46,
   "metadata": {},
   "outputs": [
    {
     "data": {
      "text/plain": [
       "['../../data/slamseq_YLK_MV411/fastqs//mr343-MV411-DMSO-r1_R1_001_val_1.fq.gz',\n",
       " '../../data/slamseq_YLK_MV411/fastqs//mr343-MV411-DMSO-r1_R2_001_val_2.fq.gz',\n",
       " '../../data/slamseq_YLK_MV411/fastqs//mr344-MV411-DMSO-r2_R1_001_val_1.fq.gz',\n",
       " '../../data/slamseq_YLK_MV411/fastqs//mr344-MV411-DMSO-r2_R2_001_val_2.fq.gz',\n",
       " '../../data/slamseq_YLK_MV411/fastqs//mr345-MV411-DMSO-r3_R1_001_val_1.fq.gz',\n",
       " '../../data/slamseq_YLK_MV411/fastqs//mr345-MV411-DMSO-r3_R2_001_val_2.fq.gz',\n",
       " '../../data/slamseq_YLK_MV411/fastqs//mr346-MV411-DMSO-r4_R1_001_val_1.fq.gz',\n",
       " '../../data/slamseq_YLK_MV411/fastqs//mr346-MV411-DMSO-r4_R2_001_val_2.fq.gz',\n",
       " '../../data/slamseq_YLK_MV411/fastqs//mr347-MV411-YLK-r1_R1_001_val_1.fq.gz',\n",
       " '../../data/slamseq_YLK_MV411/fastqs//mr347-MV411-YLK-r1_R2_001_val_2.fq.gz',\n",
       " '../../data/slamseq_YLK_MV411/fastqs//mr348-MV411-YLK-r2_R1_001_val_1.fq.gz',\n",
       " '../../data/slamseq_YLK_MV411/fastqs//mr348-MV411-YLK-r2_R2_001_val_2.fq.gz',\n",
       " '../../data/slamseq_YLK_MV411/fastqs//mr349-MV411-YLK-r3_R1_001_val_1.fq.gz',\n",
       " '../../data/slamseq_YLK_MV411/fastqs//mr349-MV411-YLK-r3_R2_001_val_2.fq.gz',\n",
       " '../../data/slamseq_YLK_MV411/fastqs//mr350-MV411-YLK-r4_R1_001_val_1.fq.gz',\n",
       " '../../data/slamseq_YLK_MV411/fastqs//mr350-MV411-YLK-r4_R2_001_val_2.fq.gz']"
      ]
     },
     "execution_count": 46,
     "metadata": {},
     "output_type": "execute_result"
    }
   ],
   "source": [
    "bams = ! ls $folder_bams/*_val*.fq.gz\n",
    "bams"
   ]
  },
  {
   "cell_type": "code",
   "execution_count": 48,
   "metadata": {},
   "outputs": [],
   "source": [
    "# we are doing it paired end\n",
    "h.parrun(['slamdunk all -r '+refgenome+' -b ../data/Muhar_Slamseq/GSE100708_hg38_refseq_062016_ensemblv84_3UTR.bed \\\n",
    "    -o ../../data/'+project+'/res/ -t 14 -c 2 -N '+val1.split('/')[-1].split('_R')[0]+' '+val1+\" \"+val2 for val1,val2 in h.grouped(bams,2)], 2)"
   ]
  },
  {
   "cell_type": "markdown",
   "metadata": {},
   "source": [
    "## we first need to recreate out RNA matrix from slamdunk's tcount files"
   ]
  },
  {
   "cell_type": "markdown",
   "metadata": {},
   "source": [
    "### Getting counts over ERCC genome"
   ]
  },
  {
   "cell_type": "code",
   "execution_count": 51,
   "metadata": {},
   "outputs": [
    {
     "data": {
      "text/plain": [
       "['mr343-MV411-DMSO-r1_filtered.bam',\n",
       " 'mr344-MV411-DMSO-r2_filtered.bam',\n",
       " 'mr345-MV411-DMSO-r3_filtered.bam',\n",
       " 'mr346-MV411-DMSO-r4_filtered.bam',\n",
       " 'mr347-MV411-YLK-r1_filtered.bam',\n",
       " 'mr348-MV411-YLK-r2_filtered.bam',\n",
       " 'mr349-MV411-YLK-r3_filtered.bam',\n",
       " 'mr350-MV411-YLK-r4_filtered.bam']"
      ]
     },
     "execution_count": 51,
     "metadata": {},
     "output_type": "execute_result"
    }
   ],
   "source": [
    "counts = {}\n",
    "folder = \"../../data/\"+project+\"/res/filter\"\n",
    "files = ! ls $folder/*\n",
    "files = [file.split('/')[-1] for file in files if file.endswith(\".bam\")]\n",
    "files"
   ]
  },
  {
   "cell_type": "code",
   "execution_count": null,
   "metadata": {},
   "outputs": [],
   "source": [
    "ERCC = [\"ERCC-00002\", \"ERCC-00003\", \"ERCC-00004\", \"ERCC-00009\", \"ERCC-00012\", \"ERCC-00013\", \"ERCC-00014\", \"ERCC-00016\", \"ERCC-00017\", \"ERCC-00019\", \"ERCC-00022\", \"ERCC-00024\", \"ERCC-00025\", \"ERCC-00028\", \"ERCC-00031\", \"ERCC-00033\", \"ERCC-00034\", \"ERCC-00035\", \"ERCC-00039\", \"ERCC-00040\", \"ERCC-00041\", \"ERCC-00042\", \"ERCC-00043\", \"ERCC-00044\", \"ERCC-00046\", \"ERCC-00048\", \"ERCC-00051\", \"ERCC-00053\", \"ERCC-00054\", \"ERCC-00057\", \"ERCC-00058\", \"ERCC-00059\", \"ERCC-00060\", \"ERCC-00061\", \"ERCC-00062\", \"ERCC-00067\", \"ERCC-00069\", \"ERCC-00071\", \"ERCC-00073\", \"ERCC-00074\", \"ERCC-00075\", \"ERCC-00076\", \"ERCC-00077\", \"ERCC-00078\", \"ERCC-00079\", \"ERCC-00081\", \"ERCC-00083\", \"ERCC-00084\", \"ERCC-00085\", \"ERCC-00086\", \"ERCC-00092\", \"ERCC-00095\", \"ERCC-00096\", \"ERCC-00097\", \"ERCC-00098\", \"ERCC-00099\", \"ERCC-00104\", \"ERCC-00108\", \"ERCC-00109\", \"ERCC-00111\", \"ERCC-00112\", \"ERCC-00113\", \"ERCC-00116\", \"ERCC-00117\", \"ERCC-00120\", \"ERCC-00123\", \"ERCC-00126\", \"ERCC-00130\", \"ERCC-00131\", \"ERCC-00134\", \"ERCC-00136\", \"ERCC-00137\", \"ERCC-00138\", \"ERCC-00142\", \"ERCC-00143\", \"ERCC-00144\", \"ERCC-00145\", \"ERCC-00147\", \"ERCC-00148\", \"ERCC-00150\", \"ERCC-00154\", \"ERCC-00156\", \"ERCC-00157\", \"ERCC-00158\", \"ERCC-00160\", \"ERCC-00162\", \"ERCC-00163\", \"ERCC-00164\", \"ERCC-00165\", \"ERCC-00168\", \"ERCC-00170\", \"ERCC-00171\"]"
   ]
  },
  {
   "cell_type": "code",
   "execution_count": 52,
   "metadata": {},
   "outputs": [],
   "source": [
    "h.parrun([\"samtools view -hb \"+folder+\"/\"+f+\" \"+h.list_to_str(ERCC)+\" > \"+folder+\"/ERCC_\"+f for f in files],cores=10)"
   ]
  },
  {
   "cell_type": "code",
   "execution_count": 54,
   "metadata": {},
   "outputs": [],
   "source": [
    "h.parrun([\"bedtools genomecov -ibam \"+folder+\"/ERCC_\"+f+\" > \"+folder+\"/ERCC_\"+f+\".bed\" for f in files],cores=10)"
   ]
  },
  {
   "cell_type": "code",
   "execution_count": 56,
   "metadata": {},
   "outputs": [],
   "source": [
    "res  = {i:[] for i in files}\n",
    "for val in files:\n",
    "    cov = pd.read_csv(folder+\"/ERCC_\"+val+'.bed',sep=\"\\t\",header=None)\n",
    "    for i in ERCC:\n",
    "        res[val].append(cov[cov[0]==i][1].mean())\n",
    "df = pd.DataFrame(data=res,index=ERCC)"
   ]
  },
  {
   "cell_type": "code",
   "execution_count": 61,
   "metadata": {},
   "outputs": [
    {
     "data": {
      "text/plain": [
       "['89801221',\n",
       " '117227621',\n",
       " '105518865',\n",
       " '92347475',\n",
       " '48886271',\n",
       " '73119689',\n",
       " '61789625',\n",
       " '95835625']"
      ]
     },
     "execution_count": 61,
     "metadata": {},
     "output_type": "execute_result"
    }
   ],
   "source": [
    "cmd = \"for unkn in $(ls ../../data/\"+project+\"/res/filter/mr*.bam); do samtools view -c -F 260 $unkn; done\"\n",
    "totalcounts = ! $cmd\n",
    "totalcounts = [int(i) for i in totalcounts]\n",
    "totalcounts"
   ]
  },
  {
   "cell_type": "code",
   "execution_count": 124,
   "metadata": {},
   "outputs": [
    {
     "name": "stdout",
     "output_type": "stream",
     "text": [
      "../../data/slamseq_YLK_MV411/res/filter/mr343-MV411-DMSO-r1_filtered.bam\r\n",
      "../../data/slamseq_YLK_MV411/res/filter/mr344-MV411-DMSO-r2_filtered.bam\r\n",
      "../../data/slamseq_YLK_MV411/res/filter/mr345-MV411-DMSO-r3_filtered.bam\r\n",
      "../../data/slamseq_YLK_MV411/res/filter/mr346-MV411-DMSO-r4_filtered.bam\r\n",
      "../../data/slamseq_YLK_MV411/res/filter/mr347-MV411-YLK-r1_filtered.bam\r\n",
      "../../data/slamseq_YLK_MV411/res/filter/mr348-MV411-YLK-r2_filtered.bam\r\n",
      "../../data/slamseq_YLK_MV411/res/filter/mr349-MV411-YLK-r3_filtered.bam\r\n",
      "../../data/slamseq_YLK_MV411/res/filter/mr350-MV411-YLK-r4_filtered.bam\r\n"
     ]
    }
   ],
   "source": [
    "ls ../../data/$project/res/filter/mr*.bam"
   ]
  },
  {
   "cell_type": "markdown",
   "metadata": {},
   "source": [
    "## Saving the data in our bucket"
   ]
  },
  {
   "cell_type": "code",
   "execution_count": 63,
   "metadata": {},
   "outputs": [
    {
     "name": "stdout",
     "output_type": "stream",
     "text": [
      "Copying file://../../data/slamseq_YLK_MV411/fastqs/mr343-MV411-DMSO-r1_R1_001_val_1.fq.gz [Content-Type=application/octet-stream]...\n",
      "Copying file://../../data/slamseq_YLK_MV411/fastqs/mr343-MV411-DMSO-r1_R1_001.fastq.gz_trimming_report.txt [Content-Type=text/plain]...\n",
      "Copying file://../../data/slamseq_YLK_MV411/fastqs/mr343-MV411-DMSO-r1_R1_001_unpaired_1.fq.gz [Content-Type=application/octet-stream]...\n",
      "==> NOTE: You are uploading one or more large file(s), which would run\n",
      "significantly faster if you enable parallel composite uploads. This\n",
      "feature can be enabled by editing the\n",
      "\"parallel_composite_upload_threshold\" value in your .boto\n",
      "configuration file. However, note that if you do this large files will\n",
      "be uploaded as `composite objects\n",
      "<https://cloud.google.com/storage/docs/composite-objects>`_,which\n",
      "means that any user who downloads such objects will need to have a\n",
      "compiled crcmod installed (see \"gsutil help crcmod\"). This is because\n",
      "without a compiled crcmod, computing checksums on composite objects is\n",
      "so slow that gsutil disables downloads of composite objects.\n",
      "\n",
      "Copying file://../../data/slamseq_YLK_MV411/fastqs/mr343-MV411-DMSO-r1_R2_001_unpaired_2.fq.gz [Content-Type=application/octet-stream]...\n",
      "Copying file://../../data/slamseq_YLK_MV411/fastqs/mr343-MV411-DMSO-r1_R2_001.fastq.gz_trimming_report.txt [Content-Type=text/plain]...\n",
      "Copying file://../../data/slamseq_YLK_MV411/fastqs/mr343-MV411-DMSO-r1_R2_001_val_2.fq.gz [Content-Type=application/octet-stream]...\n",
      "Copying file://../../data/slamseq_YLK_MV411/fastqs/mr344-MV411-DMSO-r2_R1_001.fastq.gz_trimming_report.txt [Content-Type=text/plain]...\n",
      "Copying file://../../data/slamseq_YLK_MV411/fastqs/mr344-MV411-DMSO-r2_R1_001_unpaired_1.fq.gz [Content-Type=application/octet-stream]...\n",
      "Copying file://../../data/slamseq_YLK_MV411/fastqs/mr344-MV411-DMSO-r2_R1_001_val_1.fq.gz [Content-Type=application/octet-stream]...\n",
      "Copying file://../../data/slamseq_YLK_MV411/fastqs/mr344-MV411-DMSO-r2_R2_001.fastq.gz_trimming_report.txt [Content-Type=text/plain]...\n",
      "Copying file://../../data/slamseq_YLK_MV411/fastqs/mr344-MV411-DMSO-r2_R2_001_unpaired_2.fq.gz [Content-Type=application/octet-stream]...\n",
      "Copying file://../../data/slamseq_YLK_MV411/fastqs/mr345-MV411-DMSO-r3_R1_001_unpaired_1.fq.gz [Content-Type=application/octet-stream]...\n",
      "Copying file://../../data/slamseq_YLK_MV411/fastqs/mr345-MV411-DMSO-r3_R1_001_val_1.fq.gz [Content-Type=application/octet-stream]...\n",
      "Copying file://../../data/slamseq_YLK_MV411/fastqs/mr344-MV411-DMSO-r2_R2_001_val_2.fq.gz [Content-Type=application/octet-stream]...\n",
      "Copying file://../../data/slamseq_YLK_MV411/fastqs/mr345-MV411-DMSO-r3_R1_001.fastq.gz_trimming_report.txt [Content-Type=text/plain]...\n",
      "Copying file://../../data/slamseq_YLK_MV411/fastqs/mr345-MV411-DMSO-r3_R2_001.fastq.gz_trimming_report.txt [Content-Type=text/plain]...\n",
      "Copying file://../../data/slamseq_YLK_MV411/fastqs/mr346-MV411-DMSO-r4_R2_001.fastq.gz_trimming_report.txt [Content-Type=text/plain]...\n",
      "Copying file://../../data/slamseq_YLK_MV411/fastqs/mr346-MV411-DMSO-r4_R1_001_unpaired_1.fq.gz [Content-Type=application/octet-stream]...\n",
      "Copying file://../../data/slamseq_YLK_MV411/fastqs/mr346-MV411-DMSO-r4_R2_001_val_2.fq.gz [Content-Type=application/octet-stream]...\n",
      "Copying file://../../data/slamseq_YLK_MV411/fastqs/mr345-MV411-DMSO-r3_R2_001_unpaired_2.fq.gz [Content-Type=application/octet-stream]...\n",
      "Copying file://../../data/slamseq_YLK_MV411/fastqs/mr347-MV411-YLK-r1_R1_001_unpaired_1.fq.gz [Content-Type=application/octet-stream]...\n",
      "Copying file://../../data/slamseq_YLK_MV411/fastqs/mr345-MV411-DMSO-r3_R2_001_val_2.fq.gz [Content-Type=application/octet-stream]...\n",
      "Copying file://../../data/slamseq_YLK_MV411/fastqs/mr346-MV411-DMSO-r4_R1_001.fastq.gz_trimming_report.txt [Content-Type=text/plain]...\n",
      "Copying file://../../data/slamseq_YLK_MV411/fastqs/mr347-MV411-YLK-r1_R2_001.fastq.gz_trimming_report.txt [Content-Type=text/plain]...\n",
      "Copying file://../../data/slamseq_YLK_MV411/fastqs/mr346-MV411-DMSO-r4_R1_001_val_1.fq.gz [Content-Type=application/octet-stream]...\n",
      "Copying file://../../data/slamseq_YLK_MV411/fastqs/mr347-MV411-YLK-r1_R1_001.fastq.gz_trimming_report.txt [Content-Type=text/plain]...\n",
      "Copying file://../../data/slamseq_YLK_MV411/fastqs/mr346-MV411-DMSO-r4_R2_001_unpaired_2.fq.gz [Content-Type=application/octet-stream]...\n",
      "Copying file://../../data/slamseq_YLK_MV411/fastqs/mr347-MV411-YLK-r1_R2_001_unpaired_2.fq.gz [Content-Type=application/octet-stream]...\n",
      "Copying file://../../data/slamseq_YLK_MV411/fastqs/mr347-MV411-YLK-r1_R1_001_val_1.fq.gz [Content-Type=application/octet-stream]...\n",
      "Copying file://../../data/slamseq_YLK_MV411/fastqs/mr347-MV411-YLK-r1_R2_001_val_2.fq.gz [Content-Type=application/octet-stream]...\n",
      "Copying file://../../data/slamseq_YLK_MV411/fastqs/mr348-MV411-YLK-r2_R1_001.fastq.gz_trimming_report.txt [Content-Type=text/plain]...\n",
      "Copying file://../../data/slamseq_YLK_MV411/fastqs/mr348-MV411-YLK-r2_R1_001_unpaired_1.fq.gz [Content-Type=application/octet-stream]...\n",
      "Copying file://../../data/slamseq_YLK_MV411/fastqs/mr348-MV411-YLK-r2_R1_001_val_1.fq.gz [Content-Type=application/octet-stream]...\n",
      "Copying file://../../data/slamseq_YLK_MV411/fastqs/mr350-MV411-YLK-r4_R2_001.fastq.gz_trimming_report.txt [Content-Type=text/plain]...\n",
      "Copying file://../../data/slamseq_YLK_MV411/fastqs/mr349-MV411-YLK-r3_R2_001.fastq.gz_trimming_report.txt [Content-Type=text/plain]...\n",
      "Copying file://../../data/slamseq_YLK_MV411/fastqs/mr348-MV411-YLK-r2_R2_001.fastq.gz_trimming_report.txt [Content-Type=text/plain]...\n",
      "Copying file://../../data/slamseq_YLK_MV411/fastqs/mr348-MV411-YLK-r2_R2_001_unpaired_2.fq.gz [Content-Type=application/octet-stream]...\n",
      "Copying file://../../data/slamseq_YLK_MV411/fastqs/mr349-MV411-YLK-r3_R1_001_unpaired_1.fq.gz [Content-Type=application/octet-stream]...\n",
      "Copying file://../../data/slamseq_YLK_MV411/fastqs/mr349-MV411-YLK-r3_R1_001_val_1.fq.gz [Content-Type=application/octet-stream]...\n",
      "Copying file://../../data/slamseq_YLK_MV411/fastqs/mr350-MV411-YLK-r4_R2_001_val_2.fq.gz [Content-Type=application/octet-stream]...\n",
      "Copying file://../../data/slamseq_YLK_MV411/fastqs/mr350-MV411-YLK-r4_R2_001_unpaired_2.fq.gz [Content-Type=application/octet-stream]...\n",
      "Copying file://../../data/slamseq_YLK_MV411/fastqs/mr349-MV411-YLK-r3_R1_001.fastq.gz_trimming_report.txt [Content-Type=text/plain]...\n",
      "Copying file://../../data/slamseq_YLK_MV411/fastqs/mr348-MV411-YLK-r2_R2_001_val_2.fq.gz [Content-Type=application/octet-stream]...\n",
      "Copying file://../../data/slamseq_YLK_MV411/fastqs/mr350-MV411-YLK-r4_R1_001.fastq.gz_trimming_report.txt [Content-Type=text/plain]...\n",
      "Copying file://../../data/slamseq_YLK_MV411/fastqs/mr349-MV411-YLK-r3_R2_001_val_2.fq.gz [Content-Type=application/octet-stream]...\n",
      "Copying file://../../data/slamseq_YLK_MV411/fastqs/mr349-MV411-YLK-r3_R2_001_unpaired_2.fq.gz [Content-Type=application/octet-stream]...\n",
      "Copying file://../../data/slamseq_YLK_MV411/fastqs/mr350-MV411-YLK-r4_R1_001_unpaired_1.fq.gz [Content-Type=application/octet-stream]...\n",
      "Copying file://../../data/slamseq_YLK_MV411/fastqs/mr350-MV411-YLK-r4_R1_001_val_1.fq.gz [Content-Type=application/octet-stream]...\n",
      "/ [48/48 files][ 40.2 GiB/ 40.2 GiB] 100% Done  41.4 MiB/s ETA 00:00:00         \n",
      "Operation completed over 48 objects/40.2 GiB.                                    \n",
      "Copying file://../../data/slamseq_YLK_MV411/res/map/mr343-MV411-DMSO-r1_slamdunk_mapped.bam [Content-Type=application/octet-stream]...\n",
      "Copying file://../../data/slamseq_YLK_MV411/res/map/mr344-MV411-DMSO-r2_slamdunk_mapped.bam [Content-Type=application/octet-stream]...\n",
      "==> NOTE: You are uploading one or more large file(s), which would run\n",
      "significantly faster if you enable parallel composite uploads. This\n",
      "feature can be enabled by editing the\n",
      "\"parallel_composite_upload_threshold\" value in your .boto\n",
      "configuration file. However, note that if you do this large files will\n",
      "be uploaded as `composite objects\n",
      "<https://cloud.google.com/storage/docs/composite-objects>`_,which\n",
      "means that any user who downloads such objects will need to have a\n",
      "compiled crcmod installed (see \"gsutil help crcmod\"). This is because\n",
      "without a compiled crcmod, computing checksums on composite objects is\n",
      "so slow that gsutil disables downloads of composite objects.\n",
      "\n"
     ]
    },
    {
     "name": "stdout",
     "output_type": "stream",
     "text": [
      "Copying file://../../data/slamseq_YLK_MV411/res/map/mr343-MV411-DMSO-r1_slamdunk_mapped.log [Content-Type=application/octet-stream]...\n",
      "Copying file://../../data/slamseq_YLK_MV411/res/map/mr345-MV411-DMSO-r3_slamdunk_mapped.log [Content-Type=application/octet-stream]...\n",
      "Copying file://../../data/slamseq_YLK_MV411/res/map/mr344-MV411-DMSO-r2_slamdunk_mapped.log [Content-Type=application/octet-stream]...\n",
      "Copying file://../../data/slamseq_YLK_MV411/res/map/mr346-MV411-DMSO-r4_slamdunk_mapped.bam [Content-Type=application/octet-stream]...\n",
      "Copying file://../../data/slamseq_YLK_MV411/res/map/mr346-MV411-DMSO-r4_slamdunk_mapped.log [Content-Type=application/octet-stream]...\n",
      "Copying file://../../data/slamseq_YLK_MV411/res/map/mr347-MV411-YLK-r1_slamdunk_mapped.bam [Content-Type=application/octet-stream]...\n",
      "Copying file://../../data/slamseq_YLK_MV411/res/map/mr345-MV411-DMSO-r3_slamdunk_mapped.bam [Content-Type=application/octet-stream]...\n",
      "Copying file://../../data/slamseq_YLK_MV411/res/map/mr347-MV411-YLK-r1_slamdunk_mapped.log [Content-Type=application/octet-stream]...\n",
      "Copying file://../../data/slamseq_YLK_MV411/res/map/mr350-MV411-YLK-r4_slamdunk_mapped.log [Content-Type=application/octet-stream]...\n",
      "Copying file://../../data/slamseq_YLK_MV411/res/map/mr348-MV411-YLK-r2_slamdunk_mapped.bam [Content-Type=application/octet-stream]...\n",
      "Copying file://../../data/slamseq_YLK_MV411/res/map/mr348-MV411-YLK-r2_slamdunk_mapped.log [Content-Type=application/octet-stream]...\n",
      "Copying file://../../data/slamseq_YLK_MV411/res/map/mr349-MV411-YLK-r3_slamdunk_mapped.bam [Content-Type=application/octet-stream]...\n",
      "Copying file://../../data/slamseq_YLK_MV411/res/map/mr350-MV411-YLK-r4_slamdunk_mapped.bam [Content-Type=application/octet-stream]...\n",
      "Copying file://../../data/slamseq_YLK_MV411/res/map/mr349-MV411-YLK-r3_slamdunk_mapped.log [Content-Type=application/octet-stream]...\n",
      "\\ [16/16 files][ 67.9 GiB/ 67.9 GiB] 100% Done 121.1 MiB/s ETA 00:00:00         \n",
      "Operation completed over 16 objects/67.9 GiB.                                    \n",
      "Copying file://../../data/slamseq_YLK_MV411/res/filter/ERCC_mr343-MV411-DMSO-r1_filtered.bam [Content-Type=application/octet-stream]...\n",
      "Copying file://../../data/slamseq_YLK_MV411/res/filter/ERCC_mr343-MV411-DMSO-r1_filtered.bam.bed [Content-Type=application/octet-stream]...\n",
      "Copying file://../../data/slamseq_YLK_MV411/res/filter/ERCC_mr344-MV411-DMSO-r2_filtered.bam [Content-Type=application/octet-stream]...\n",
      "Copying file://../../data/slamseq_YLK_MV411/res/filter/ERCC_mr344-MV411-DMSO-r2_filtered.bam.bed [Content-Type=application/octet-stream]...\n",
      "Copying file://../../data/slamseq_YLK_MV411/res/filter/ERCC_mr345-MV411-DMSO-r3_filtered.bam.bed [Content-Type=application/octet-stream]...\n",
      "Copying file://../../data/slamseq_YLK_MV411/res/filter/ERCC_mr345-MV411-DMSO-r3_filtered.bam [Content-Type=application/octet-stream]...\n",
      "Copying file://../../data/slamseq_YLK_MV411/res/filter/ERCC_mr346-MV411-DMSO-r4_filtered.bam [Content-Type=application/octet-stream]...\n",
      "Copying file://../../data/slamseq_YLK_MV411/res/filter/ERCC_mr346-MV411-DMSO-r4_filtered.bam.bed [Content-Type=application/octet-stream]...\n",
      "Copying file://../../data/slamseq_YLK_MV411/res/filter/ERCC_mr347-MV411-YLK-r1_filtered.bam [Content-Type=application/octet-stream]...\n",
      "Copying file://../../data/slamseq_YLK_MV411/res/filter/ERCC_mr347-MV411-YLK-r1_filtered.bam.bed [Content-Type=application/octet-stream]...\n",
      "Copying file://../../data/slamseq_YLK_MV411/res/filter/ERCC_mr348-MV411-YLK-r2_filtered.bam [Content-Type=application/octet-stream]...\n",
      "Copying file://../../data/slamseq_YLK_MV411/res/filter/ERCC_mr350-MV411-YLK-r4_filtered.bam.bed [Content-Type=application/octet-stream]...\n",
      "Copying file://../../data/slamseq_YLK_MV411/res/filter/mr343-MV411-DMSO-r1_filtered.bam.bai [Content-Type=application/octet-stream]...\n",
      "Copying file://../../data/slamseq_YLK_MV411/res/filter/ERCC_mr348-MV411-YLK-r2_filtered.bam.bed [Content-Type=application/octet-stream]...\n",
      "Copying file://../../data/slamseq_YLK_MV411/res/filter/mr343-MV411-DMSO-r1_filtered.log [Content-Type=application/octet-stream]...\n",
      "Copying file://../../data/slamseq_YLK_MV411/res/filter/mr344-MV411-DMSO-r2_filtered.bam [Content-Type=application/octet-stream]...\n",
      "Copying file://../../data/slamseq_YLK_MV411/res/filter/ERCC_mr349-MV411-YLK-r3_filtered.bam [Content-Type=application/octet-stream]...\n",
      "Copying file://../../data/slamseq_YLK_MV411/res/filter/mr343-MV411-DMSO-r1_filtered.bam [Content-Type=application/octet-stream]...\n",
      "Copying file://../../data/slamseq_YLK_MV411/res/filter/ERCC_mr349-MV411-YLK-r3_filtered.bam.bed [Content-Type=application/octet-stream]...\n",
      "Copying file://../../data/slamseq_YLK_MV411/res/filter/ERCC_mr350-MV411-YLK-r4_filtered.bam [Content-Type=application/octet-stream]...\n",
      "==> NOTE: You are uploading one or more large file(s), which would run          \n",
      "significantly faster if you enable parallel composite uploads. This\n",
      "feature can be enabled by editing the\n",
      "\"parallel_composite_upload_threshold\" value in your .boto\n",
      "configuration file. However, note that if you do this large files will\n",
      "be uploaded as `composite objects\n",
      "<https://cloud.google.com/storage/docs/composite-objects>`_,which\n",
      "means that any user who downloads such objects will need to have a\n",
      "compiled crcmod installed (see \"gsutil help crcmod\"). This is because\n",
      "without a compiled crcmod, computing checksums on composite objects is\n",
      "so slow that gsutil disables downloads of composite objects.\n",
      "\n",
      "Copying file://../../data/slamseq_YLK_MV411/res/filter/mr344-MV411-DMSO-r2_filtered.log [Content-Type=application/octet-stream]...\n",
      "Copying file://../../data/slamseq_YLK_MV411/res/filter/mr345-MV411-DMSO-r3_filtered.log [Content-Type=application/octet-stream]...\n",
      "Copying file://../../data/slamseq_YLK_MV411/res/filter/mr344-MV411-DMSO-r2_filtered.bam.bai [Content-Type=application/octet-stream]...\n",
      "Copying file://../../data/slamseq_YLK_MV411/res/filter/mr346-MV411-DMSO-r4_filtered.bam [Content-Type=application/octet-stream]...\n",
      "Copying file://../../data/slamseq_YLK_MV411/res/filter/mr345-MV411-DMSO-r3_filtered.bam [Content-Type=application/octet-stream]...\n",
      "Copying file://../../data/slamseq_YLK_MV411/res/filter/mr345-MV411-DMSO-r3_filtered.bam.bai [Content-Type=application/octet-stream]...\n",
      "Copying file://../../data/slamseq_YLK_MV411/res/filter/mr346-MV411-DMSO-r4_filtered.log [Content-Type=application/octet-stream]...\n",
      "Copying file://../../data/slamseq_YLK_MV411/res/filter/mr346-MV411-DMSO-r4_filtered.bam.bai [Content-Type=application/octet-stream]...\n",
      "Copying file://../../data/slamseq_YLK_MV411/res/filter/mr347-MV411-YLK-r1_filtered.bam [Content-Type=application/octet-stream]...\n",
      "Copying file://../../data/slamseq_YLK_MV411/res/filter/mr347-MV411-YLK-r1_filtered.bam.bai [Content-Type=application/octet-stream]...\n",
      "Copying file://../../data/slamseq_YLK_MV411/res/filter/mr348-MV411-YLK-r2_filtered.bam [Content-Type=application/octet-stream]...\n",
      "Copying file://../../data/slamseq_YLK_MV411/res/filter/mr349-MV411-YLK-r3_filtered.bam.bai [Content-Type=application/octet-stream]...\n",
      "Copying file://../../data/slamseq_YLK_MV411/res/filter/mr349-MV411-YLK-r3_filtered.bam [Content-Type=application/octet-stream]...\n",
      "Copying file://../../data/slamseq_YLK_MV411/res/filter/mr348-MV411-YLK-r2_filtered.bam.bai [Content-Type=application/octet-stream]...\n",
      "Copying file://../../data/slamseq_YLK_MV411/res/filter/mr347-MV411-YLK-r1_filtered.log [Content-Type=application/octet-stream]...\n",
      "Copying file://../../data/slamseq_YLK_MV411/res/filter/mr348-MV411-YLK-r2_filtered.log [Content-Type=application/octet-stream]...\n",
      "Copying file://../../data/slamseq_YLK_MV411/res/filter/mr350-MV411-YLK-r4_filtered.bam.bai [Content-Type=application/octet-stream]...\n",
      "Copying file://../../data/slamseq_YLK_MV411/res/filter/mr350-MV411-YLK-r4_filtered.bam [Content-Type=application/octet-stream]...\n",
      "Copying file://../../data/slamseq_YLK_MV411/res/filter/mr349-MV411-YLK-r3_filtered.log [Content-Type=application/octet-stream]...\n",
      "Copying file://../../data/slamseq_YLK_MV411/res/filter/mr350-MV411-YLK-r4_filtered.log [Content-Type=application/octet-stream]...\n",
      "| [40/40 files][ 28.2 GiB/ 28.2 GiB] 100% Done  21.8 MiB/s ETA 00:00:00         \n",
      "Operation completed over 40 objects/28.2 GiB.                                    \n"
     ]
    },
    {
     "name": "stdout",
     "output_type": "stream",
     "text": [
      "Copying file://../../data/slamseq_YLK_MV411/res/snp/mr343-MV411-DMSO-r1_snp.log [Content-Type=application/octet-stream]...\n",
      "Copying file://../../data/slamseq_YLK_MV411/res/snp/mr343-MV411-DMSO-r1_snp.vcf [Content-Type=text/vcard]...\n",
      "Copying file://../../data/slamseq_YLK_MV411/res/snp/mr344-MV411-DMSO-r2_snp.log [Content-Type=application/octet-stream]...\n",
      "Copying file://../../data/slamseq_YLK_MV411/res/snp/mr344-MV411-DMSO-r2_snp.vcf [Content-Type=text/vcard]...\n",
      "Copying file://../../data/slamseq_YLK_MV411/res/snp/mr345-MV411-DMSO-r3_snp.log [Content-Type=application/octet-stream]...\n",
      "Copying file://../../data/slamseq_YLK_MV411/res/snp/mr345-MV411-DMSO-r3_snp.vcf [Content-Type=text/vcard]...\n",
      "Copying file://../../data/slamseq_YLK_MV411/res/snp/mr346-MV411-DMSO-r4_snp.log [Content-Type=application/octet-stream]...\n",
      "Copying file://../../data/slamseq_YLK_MV411/res/snp/mr346-MV411-DMSO-r4_snp.vcf [Content-Type=text/vcard]...\n",
      "Copying file://../../data/slamseq_YLK_MV411/res/snp/mr347-MV411-YLK-r1_snp.log [Content-Type=application/octet-stream]...\n",
      "Copying file://../../data/slamseq_YLK_MV411/res/snp/mr347-MV411-YLK-r1_snp.vcf [Content-Type=text/vcard]...\n",
      "Copying file://../../data/slamseq_YLK_MV411/res/snp/mr348-MV411-YLK-r2_snp.log [Content-Type=application/octet-stream]...\n",
      "Copying file://../../data/slamseq_YLK_MV411/res/snp/mr348-MV411-YLK-r2_snp.vcf [Content-Type=text/vcard]...\n",
      "Copying file://../../data/slamseq_YLK_MV411/res/snp/mr349-MV411-YLK-r3_snp.log [Content-Type=application/octet-stream]...\n",
      "Copying file://../../data/slamseq_YLK_MV411/res/snp/mr349-MV411-YLK-r3_snp.vcf [Content-Type=text/vcard]...\n",
      "Copying file://../../data/slamseq_YLK_MV411/res/snp/mr350-MV411-YLK-r4_snp.log [Content-Type=application/octet-stream]...\n",
      "Copying file://../../data/slamseq_YLK_MV411/res/snp/mr350-MV411-YLK-r4_snp.vcf [Content-Type=text/vcard]...\n",
      "- [16/16 files][ 95.0 MiB/ 95.0 MiB] 100% Done                                  \n",
      "Operation completed over 16 objects/95.0 MiB.                                    \n",
      "Copying file://../../data/slamseq_YLK_MV411/res/count/mr343-MV411-DMSO-r1_tcount.log [Content-Type=application/octet-stream]...\n",
      "Copying file://../../data/slamseq_YLK_MV411/res/count/mr344-MV411-DMSO-r2_tcount.tsv [Content-Type=text/tab-separated-values]...\n",
      "Copying file://../../data/slamseq_YLK_MV411/res/count/mr344-MV411-DMSO-r2_tcount_mins.bedgraph [Content-Type=application/octet-stream]...\n",
      "Copying file://../../data/slamseq_YLK_MV411/res/count/mr343-MV411-DMSO-r1_tcount.tsv [Content-Type=text/tab-separated-values]...\n",
      "Copying file://../../data/slamseq_YLK_MV411/res/count/mr344-MV411-DMSO-r2_tcount_plus.bedgraph [Content-Type=application/octet-stream]...\n",
      "Copying file://../../data/slamseq_YLK_MV411/res/count/mr343-MV411-DMSO-r1_tcount_mins.bedgraph [Content-Type=application/octet-stream]...\n",
      "Copying file://../../data/slamseq_YLK_MV411/res/count/mr344-MV411-DMSO-r2_tcount.log [Content-Type=application/octet-stream]...\n",
      "Copying file://../../data/slamseq_YLK_MV411/res/count/mr343-MV411-DMSO-r1_tcount_plus.bedgraph [Content-Type=application/octet-stream]...\n",
      "Copying file://../../data/slamseq_YLK_MV411/res/count/mr345-MV411-DMSO-r3_tcount.tsv [Content-Type=text/tab-separated-values]...\n",
      "Copying file://../../data/slamseq_YLK_MV411/res/count/mr345-MV411-DMSO-r3_tcount.log [Content-Type=application/octet-stream]...\n",
      "Copying file://../../data/slamseq_YLK_MV411/res/count/mr345-MV411-DMSO-r3_tcount_mins.bedgraph [Content-Type=application/octet-stream]...\n",
      "Copying file://../../data/slamseq_YLK_MV411/res/count/mr345-MV411-DMSO-r3_tcount_plus.bedgraph [Content-Type=application/octet-stream]...\n",
      "Copying file://../../data/slamseq_YLK_MV411/res/count/mr346-MV411-DMSO-r4_tcount.log [Content-Type=application/octet-stream]...\n",
      "Copying file://../../data/slamseq_YLK_MV411/res/count/mr346-MV411-DMSO-r4_tcount.tsv [Content-Type=text/tab-separated-values]...\n",
      "Copying file://../../data/slamseq_YLK_MV411/res/count/mr346-MV411-DMSO-r4_tcount_mins.bedgraph [Content-Type=application/octet-stream]...\n",
      "Copying file://../../data/slamseq_YLK_MV411/res/count/mr346-MV411-DMSO-r4_tcount_plus.bedgraph [Content-Type=application/octet-stream]...\n",
      "Copying file://../../data/slamseq_YLK_MV411/res/count/mr348-MV411-YLK-r2_tcount.log [Content-Type=application/octet-stream]...\n",
      "Copying file://../../data/slamseq_YLK_MV411/res/count/mr350-MV411-YLK-r4_tcount_mins.bedgraph [Content-Type=application/octet-stream]...\n",
      "Copying file://../../data/slamseq_YLK_MV411/res/count/mr347-MV411-YLK-r1_tcount.log [Content-Type=application/octet-stream]...\n",
      "Copying file://../../data/slamseq_YLK_MV411/res/count/mr350-MV411-YLK-r4_tcount_plus.bedgraph [Content-Type=application/octet-stream]...\n",
      "Copying file://../../data/slamseq_YLK_MV411/res/count/mr347-MV411-YLK-r1_tcount.tsv [Content-Type=text/tab-separated-values]...\n",
      "Copying file://../../data/slamseq_YLK_MV411/res/count/mr347-MV411-YLK-r1_tcount_mins.bedgraph [Content-Type=application/octet-stream]...\n",
      "Copying file://../../data/slamseq_YLK_MV411/res/count/mr348-MV411-YLK-r2_tcount.tsv [Content-Type=text/tab-separated-values]...\n",
      "Copying file://../../data/slamseq_YLK_MV411/res/count/mr347-MV411-YLK-r1_tcount_plus.bedgraph [Content-Type=application/octet-stream]...\n",
      "Copying file://../../data/slamseq_YLK_MV411/res/count/mr349-MV411-YLK-r3_tcount.tsv [Content-Type=text/tab-separated-values]...\n",
      "Copying file://../../data/slamseq_YLK_MV411/res/count/mr348-MV411-YLK-r2_tcount_mins.bedgraph [Content-Type=application/octet-stream]...\n",
      "Copying file://../../data/slamseq_YLK_MV411/res/count/mr348-MV411-YLK-r2_tcount_plus.bedgraph [Content-Type=application/octet-stream]...\n",
      "Copying file://../../data/slamseq_YLK_MV411/res/count/mr349-MV411-YLK-r3_tcount.log [Content-Type=application/octet-stream]...\n",
      "Copying file://../../data/slamseq_YLK_MV411/res/count/mr349-MV411-YLK-r3_tcount_mins.bedgraph [Content-Type=application/octet-stream]...\n",
      "Copying file://../../data/slamseq_YLK_MV411/res/count/mr349-MV411-YLK-r3_tcount_plus.bedgraph [Content-Type=application/octet-stream]...\n",
      "Copying file://../../data/slamseq_YLK_MV411/res/count/mr350-MV411-YLK-r4_tcount.log [Content-Type=application/octet-stream]...\n",
      "Copying file://../../data/slamseq_YLK_MV411/res/count/mr350-MV411-YLK-r4_tcount.tsv [Content-Type=text/tab-separated-values]...\n",
      "| [32/32 files][  1.3 GiB/  1.3 GiB] 100% Done                                  \n",
      "Operation completed over 32 objects/1.3 GiB.                                     \n"
     ]
    }
   ],
   "source": [
    "! gsutil -m cp ../../data/$project/fastqs/* gs://amlproject/RNA/$project/fastqs/\n",
    "! gsutil -m cp ../../data/$project/res/map/* gs://amlproject/RNA/slamseq_iBet_max/res/map/ \n",
    "! gsutil -m cp ../../data/$project/res/filter/* gs://amlproject/RNA/$project/res/filter/ \n",
    "! gsutil -m cp ../../data/$project/res/snp/* gs://amlproject/RNA/$project/res/snp/\n",
    "! gsutil -m cp ../../data/$project/res/count/* gs://amlproject/RNA/$project/res/count/"
   ]
  },
  {
   "cell_type": "code",
   "execution_count": 126,
   "metadata": {
    "scrolled": true
   },
   "outputs": [],
   "source": [
    "res = df/(np.array(totalcounts)/100000)"
   ]
  },
  {
   "cell_type": "code",
   "execution_count": 183,
   "metadata": {},
   "outputs": [
    {
     "data": {
      "text/html": [
       "<div>\n",
       "<style scoped>\n",
       "    .dataframe tbody tr th:only-of-type {\n",
       "        vertical-align: middle;\n",
       "    }\n",
       "\n",
       "    .dataframe tbody tr th {\n",
       "        vertical-align: top;\n",
       "    }\n",
       "\n",
       "    .dataframe thead th {\n",
       "        text-align: right;\n",
       "    }\n",
       "</style>\n",
       "<table border=\"1\" class=\"dataframe\">\n",
       "  <thead>\n",
       "    <tr style=\"text-align: right;\">\n",
       "      <th></th>\n",
       "      <th>mr343-MV411-DMSO-r1_filtered.bam</th>\n",
       "      <th>mr344-MV411-DMSO-r2_filtered.bam</th>\n",
       "      <th>mr345-MV411-DMSO-r3_filtered.bam</th>\n",
       "      <th>mr346-MV411-DMSO-r4_filtered.bam</th>\n",
       "      <th>mr347-MV411-YLK-r1_filtered.bam</th>\n",
       "      <th>mr348-MV411-YLK-r2_filtered.bam</th>\n",
       "      <th>mr349-MV411-YLK-r3_filtered.bam</th>\n",
       "      <th>mr350-MV411-YLK-r4_filtered.bam</th>\n",
       "    </tr>\n",
       "  </thead>\n",
       "  <tbody>\n",
       "    <tr>\n",
       "      <th>ERCC-00002</th>\n",
       "      <td>22306.447115</td>\n",
       "      <td>33596.481801</td>\n",
       "      <td>20934.812139</td>\n",
       "      <td>23955.884211</td>\n",
       "      <td>12462.001957</td>\n",
       "      <td>15260.880743</td>\n",
       "      <td>15582.170756</td>\n",
       "      <td>22239.651544</td>\n",
       "    </tr>\n",
       "    <tr>\n",
       "      <th>ERCC-00003</th>\n",
       "      <td>1565.544872</td>\n",
       "      <td>2558.020581</td>\n",
       "      <td>1340.399220</td>\n",
       "      <td>1682.882280</td>\n",
       "      <td>952.693572</td>\n",
       "      <td>1413.390604</td>\n",
       "      <td>1685.528455</td>\n",
       "      <td>1563.752246</td>\n",
       "    </tr>\n",
       "    <tr>\n",
       "      <th>ERCC-00004</th>\n",
       "      <td>1771.465934</td>\n",
       "      <td>2854.336134</td>\n",
       "      <td>1611.447727</td>\n",
       "      <td>2036.637969</td>\n",
       "      <td>1014.507042</td>\n",
       "      <td>1411.583333</td>\n",
       "      <td>1638.951501</td>\n",
       "      <td>1807.030172</td>\n",
       "    </tr>\n",
       "    <tr>\n",
       "      <th>ERCC-00009</th>\n",
       "      <td>423.015625</td>\n",
       "      <td>647.051233</td>\n",
       "      <td>396.896386</td>\n",
       "      <td>459.763441</td>\n",
       "      <td>257.798246</td>\n",
       "      <td>374.682809</td>\n",
       "      <td>380.614634</td>\n",
       "      <td>428.974771</td>\n",
       "    </tr>\n",
       "    <tr>\n",
       "      <th>ERCC-00012</th>\n",
       "      <td>0.000000</td>\n",
       "      <td>0.000000</td>\n",
       "      <td>1.000000</td>\n",
       "      <td>1.000000</td>\n",
       "      <td>0.000000</td>\n",
       "      <td>0.000000</td>\n",
       "      <td>0.000000</td>\n",
       "      <td>2.400000</td>\n",
       "    </tr>\n",
       "    <tr>\n",
       "      <th>...</th>\n",
       "      <td>...</td>\n",
       "      <td>...</td>\n",
       "      <td>...</td>\n",
       "      <td>...</td>\n",
       "      <td>...</td>\n",
       "      <td>...</td>\n",
       "      <td>...</td>\n",
       "      <td>...</td>\n",
       "    </tr>\n",
       "    <tr>\n",
       "      <th>ERCC-00164</th>\n",
       "      <td>1.500000</td>\n",
       "      <td>3.000000</td>\n",
       "      <td>1.000000</td>\n",
       "      <td>1.500000</td>\n",
       "      <td>0.000000</td>\n",
       "      <td>1.500000</td>\n",
       "      <td>2.000000</td>\n",
       "      <td>1.500000</td>\n",
       "    </tr>\n",
       "    <tr>\n",
       "      <th>ERCC-00165</th>\n",
       "      <td>44.682353</td>\n",
       "      <td>80.914062</td>\n",
       "      <td>51.494624</td>\n",
       "      <td>56.059406</td>\n",
       "      <td>31.847458</td>\n",
       "      <td>36.742424</td>\n",
       "      <td>41.652778</td>\n",
       "      <td>58.972222</td>\n",
       "    </tr>\n",
       "    <tr>\n",
       "      <th>ERCC-00168</th>\n",
       "      <td>3.000000</td>\n",
       "      <td>4.500000</td>\n",
       "      <td>1.000000</td>\n",
       "      <td>1.500000</td>\n",
       "      <td>1.500000</td>\n",
       "      <td>1.000000</td>\n",
       "      <td>1.000000</td>\n",
       "      <td>1.500000</td>\n",
       "    </tr>\n",
       "    <tr>\n",
       "      <th>ERCC-00170</th>\n",
       "      <td>3.500000</td>\n",
       "      <td>5.500000</td>\n",
       "      <td>5.500000</td>\n",
       "      <td>5.000000</td>\n",
       "      <td>2.500000</td>\n",
       "      <td>2.500000</td>\n",
       "      <td>3.000000</td>\n",
       "      <td>7.000000</td>\n",
       "    </tr>\n",
       "    <tr>\n",
       "      <th>ERCC-00171</th>\n",
       "      <td>3383.399558</td>\n",
       "      <td>5218.577731</td>\n",
       "      <td>3238.652079</td>\n",
       "      <td>3693.200436</td>\n",
       "      <td>2015.770642</td>\n",
       "      <td>2249.437939</td>\n",
       "      <td>2493.686099</td>\n",
       "      <td>3351.228070</td>\n",
       "    </tr>\n",
       "  </tbody>\n",
       "</table>\n",
       "<p>92 rows × 8 columns</p>\n",
       "</div>"
      ],
      "text/plain": [
       "            mr343-MV411-DMSO-r1_filtered.bam  \\\n",
       "ERCC-00002                      22306.447115   \n",
       "ERCC-00003                       1565.544872   \n",
       "ERCC-00004                       1771.465934   \n",
       "ERCC-00009                        423.015625   \n",
       "ERCC-00012                          0.000000   \n",
       "...                                      ...   \n",
       "ERCC-00164                          1.500000   \n",
       "ERCC-00165                         44.682353   \n",
       "ERCC-00168                          3.000000   \n",
       "ERCC-00170                          3.500000   \n",
       "ERCC-00171                       3383.399558   \n",
       "\n",
       "            mr344-MV411-DMSO-r2_filtered.bam  \\\n",
       "ERCC-00002                      33596.481801   \n",
       "ERCC-00003                       2558.020581   \n",
       "ERCC-00004                       2854.336134   \n",
       "ERCC-00009                        647.051233   \n",
       "ERCC-00012                          0.000000   \n",
       "...                                      ...   \n",
       "ERCC-00164                          3.000000   \n",
       "ERCC-00165                         80.914062   \n",
       "ERCC-00168                          4.500000   \n",
       "ERCC-00170                          5.500000   \n",
       "ERCC-00171                       5218.577731   \n",
       "\n",
       "            mr345-MV411-DMSO-r3_filtered.bam  \\\n",
       "ERCC-00002                      20934.812139   \n",
       "ERCC-00003                       1340.399220   \n",
       "ERCC-00004                       1611.447727   \n",
       "ERCC-00009                        396.896386   \n",
       "ERCC-00012                          1.000000   \n",
       "...                                      ...   \n",
       "ERCC-00164                          1.000000   \n",
       "ERCC-00165                         51.494624   \n",
       "ERCC-00168                          1.000000   \n",
       "ERCC-00170                          5.500000   \n",
       "ERCC-00171                       3238.652079   \n",
       "\n",
       "            mr346-MV411-DMSO-r4_filtered.bam  mr347-MV411-YLK-r1_filtered.bam  \\\n",
       "ERCC-00002                      23955.884211                     12462.001957   \n",
       "ERCC-00003                       1682.882280                       952.693572   \n",
       "ERCC-00004                       2036.637969                      1014.507042   \n",
       "ERCC-00009                        459.763441                       257.798246   \n",
       "ERCC-00012                          1.000000                         0.000000   \n",
       "...                                      ...                              ...   \n",
       "ERCC-00164                          1.500000                         0.000000   \n",
       "ERCC-00165                         56.059406                        31.847458   \n",
       "ERCC-00168                          1.500000                         1.500000   \n",
       "ERCC-00170                          5.000000                         2.500000   \n",
       "ERCC-00171                       3693.200436                      2015.770642   \n",
       "\n",
       "            mr348-MV411-YLK-r2_filtered.bam  mr349-MV411-YLK-r3_filtered.bam  \\\n",
       "ERCC-00002                     15260.880743                     15582.170756   \n",
       "ERCC-00003                      1413.390604                      1685.528455   \n",
       "ERCC-00004                      1411.583333                      1638.951501   \n",
       "ERCC-00009                       374.682809                       380.614634   \n",
       "ERCC-00012                         0.000000                         0.000000   \n",
       "...                                     ...                              ...   \n",
       "ERCC-00164                         1.500000                         2.000000   \n",
       "ERCC-00165                        36.742424                        41.652778   \n",
       "ERCC-00168                         1.000000                         1.000000   \n",
       "ERCC-00170                         2.500000                         3.000000   \n",
       "ERCC-00171                      2249.437939                      2493.686099   \n",
       "\n",
       "            mr350-MV411-YLK-r4_filtered.bam  \n",
       "ERCC-00002                     22239.651544  \n",
       "ERCC-00003                      1563.752246  \n",
       "ERCC-00004                      1807.030172  \n",
       "ERCC-00009                       428.974771  \n",
       "ERCC-00012                         2.400000  \n",
       "...                                     ...  \n",
       "ERCC-00164                         1.500000  \n",
       "ERCC-00165                        58.972222  \n",
       "ERCC-00168                         1.500000  \n",
       "ERCC-00170                         7.000000  \n",
       "ERCC-00171                      3351.228070  \n",
       "\n",
       "[92 rows x 8 columns]"
      ]
     },
     "execution_count": 183,
     "metadata": {},
     "output_type": "execute_result"
    }
   ],
   "source": [
    "df"
   ]
  },
  {
   "cell_type": "code",
   "execution_count": 127,
   "metadata": {},
   "outputs": [
    {
     "data": {
      "text/plain": [
       "mr343-MV411-DMSO-r1_filtered.bam    1.054479\n",
       "mr344-MV411-DMSO-r2_filtered.bam    1.244227\n",
       "mr345-MV411-DMSO-r3_filtered.bam    0.831983\n",
       "mr346-MV411-DMSO-r4_filtered.bam    1.118314\n",
       "mr347-MV411-YLK-r1_filtered.bam     1.118332\n",
       "mr348-MV411-YLK-r2_filtered.bam     0.932608\n",
       "mr349-MV411-YLK-r3_filtered.bam     1.220788\n",
       "mr350-MV411-YLK-r4_filtered.bam     0.995681\n",
       "dtype: float64"
      ]
     },
     "execution_count": 127,
     "metadata": {},
     "output_type": "execute_result"
    }
   ],
   "source": [
    "res.mean()"
   ]
  },
  {
   "cell_type": "code",
   "execution_count": 128,
   "metadata": {},
   "outputs": [],
   "source": [
    "prev=0\n",
    "r={}\n",
    "for val in [4,4]:\n",
    "    r[res.columns[prev].split('-')[2]]=[res[res.columns[prev:prev+val]].sum().mean(), res[res.columns[prev:prev+val]].sum().var()**(1/2)]\n",
    "    prev+=val"
   ]
  },
  {
   "cell_type": "code",
   "execution_count": 129,
   "metadata": {},
   "outputs": [
    {
     "data": {
      "text/plain": [
       "{'DMSO': [97.72708711152382, 15.876520839037093],\n",
       " 'YLK': [98.15039682666358, 11.809637537738645]}"
      ]
     },
     "execution_count": 129,
     "metadata": {},
     "output_type": "execute_result"
    }
   ],
   "source": [
    "r"
   ]
  },
  {
   "cell_type": "code",
   "execution_count": 130,
   "metadata": {},
   "outputs": [
    {
     "name": "stdout",
     "output_type": "stream",
     "text": [
      "mkdir: cannot create directory ‘../results/slamseq_YLK_MV411/plots/’: File exists\r\n"
     ]
    }
   ],
   "source": [
    "mkdir ../results/$project/plots/"
   ]
  },
  {
   "cell_type": "code",
   "execution_count": 131,
   "metadata": {},
   "outputs": [
    {
     "data": {
      "image/png": "[encoded data removed]",
      "text/plain": [
       "<Figure size 432x288 with 1 Axes>"
      ]
     },
     "metadata": {
      "needs_background": "light"
     },
     "output_type": "display_data"
    }
   ],
   "source": [
    "d= pd.DataFrame(data=r.values(),index=r.keys(), columns=['ERCC pseudo-counts','var'])\n",
    "d['Experiments']=d.index\n",
    "sns.barplot(\"Experiments\",\"ERCC pseudo-counts\",data=d,ci=None,)\n",
    "plt.errorbar(x=range(0,len(d)),y=d['ERCC pseudo-counts'],\n",
    "            yerr=d['var'], fmt='none', c= 'r')\n",
    "plt.xticks(rotation=60,ha='right')\n",
    "plt.savefig('../results/'+project+\"/plots/\"+version+\"_scaling_fact_with_conf.pdf\")"
   ]
  },
  {
   "cell_type": "code",
   "execution_count": 5,
   "metadata": {},
   "outputs": [],
   "source": [
    "location= '../../data/'+project+'/res/count/'\n",
    "mincount_toremove=5\n",
    "minvar_toremove=0"
   ]
  },
  {
   "cell_type": "code",
   "execution_count": 20,
   "metadata": {
    "scrolled": true
   },
   "outputs": [
    {
     "name": "stdout",
     "output_type": "stream",
     "text": [
      "found 8 files:dict_keys(['mr349-MV411-YLK-r3_tcount', 'mr343-MV411-DMSO-r1_tcount', 'mr345-MV411-DMSO-r3_tcount', 'mr347-MV411-YLK-r1_tcount', 'mr348-MV411-YLK-r2_tcount', 'mr344-MV411-DMSO-r2_tcount', 'mr346-MV411-DMSO-r4_tcount', 'mr350-MV411-YLK-r4_tcount'])\n",
      "496 182\n",
      "[345, 68] [2, 2]\n",
      "1342 521\n",
      "[581, 136] [13, 1]\n",
      "1544 566\n",
      "[631, 190] [13, 4]\n",
      "331 112\n",
      "[331, 91] [3, 1]\n",
      "577 196\n",
      "[356, 105] [1, 0]\n",
      "1982 813\n",
      "[635, 179] [8, 4]\n",
      "1529 607\n",
      "[576, 150] [7, 0]\n",
      "780 296\n",
      "[603, 169] [6, 2]\n",
      "you need access to taiga for this (https://pypi.org/project/taigapy/)\n",
      "1118 could not be parsed... we don't have all genes already\n",
      "you need access to taiga for this (https://pypi.org/project/taigapy/)\n",
      "1118 could not be parsed... we don't have all genes already\n"
     ]
    }
   ],
   "source": [
    "readcounts, tccounts = rna.readFromSlamdunk(loc=location,minvar_toremove=minvar_toremove, mincount_toremove=mincount_toremove)"
   ]
  },
  {
   "cell_type": "markdown",
   "metadata": {},
   "source": [
    "## SLAM-seq\n",
    "All SLAM-seq assays were performed at 60-70% confluency for adherent cells or\n",
    "60% of the maximum cell density counted on a hemocytometer for suspension cells. 5-7h\n",
    "prior to each assay, growth medium was aspirated and replaced. Unless stated otherwise,\n",
    "cells were pre-treated with indicated small molecule inhibitors or 100µM IAA for 30 min\n",
    "to pre-establish full target inhibition or degradation. Newly synthesized RNA was labeled\n",
    "for indicated time spans (45 min or 60 min) at a final concentration of 100µM 4-\n",
    "thiouridine (4sU, Carbosynth). Adherent cells were harvested by direct snap-freezing of\n",
    "plates on dry ice. Suspension cells were spun down and immediately snap-frozen. RNA\n",
    "extraction was performed using the RNeasy Plus Mini Kit (Qiagen). \n",
    "\n",
    "Total RNA was subjected to alkylation by iodoacetamide (Sigma, 10mM) for 15 min and RNA was repurified by ethanol precipitation. 500ng alkylated RNA were used as input for generating\n",
    "3’-end mRNA sequencing libraries using a commercially available kit (QuantSeq 3′\n",
    "mRNA-Seq Library Prep Kit FWD for Illumina and PCR Add-on Kit for Illumina,\n",
    "Lexogen). Deep sequencing was performed using HiSeq1500 and HiSeq2500 platforms\n",
    "(Illumina)."
   ]
  },
  {
   "cell_type": "markdown",
   "metadata": {},
   "source": [
    "0.06724463\n",
    "0.04916348\n",
    "0.03728357\n",
    "0.05075007\n",
    "0.03331248\n",
    "0.0346662\n",
    "0.03265504 \n",
    "0.04416262\n",
    "0.05574821\n",
    "0.05845953\n",
    "0.05531433\n",
    "0.06175393\n",
    "0.03181749 \n",
    "0.02940226 \n",
    "0.0306263\n",
    "0.04004278"
   ]
  },
  {
   "cell_type": "code",
   "execution_count": 23,
   "metadata": {},
   "outputs": [
    {
     "data": {
      "text/plain": [
       "<matplotlib.axes._subplots.AxesSubplot at 0x7fa9f414c3a0>"
      ]
     },
     "execution_count": 23,
     "metadata": {},
     "output_type": "execute_result"
    },
    {
     "data": {
      "image/png": "[encoded data removed]",
      "text/plain": [
       "<Figure size 432x288 with 1 Axes>"
      ]
     },
     "metadata": {
      "needs_background": "light"
     },
     "output_type": "display_data"
    }
   ],
   "source": [
    "#what is the average of highly transcribed genes \n",
    "a = tccounts[readcounts.sum(1)>30] / readcounts[readcounts.sum(1)>30]\n",
    "a = a.fillna(0)\n",
    "a = a.max(1).tolist()\n",
    "a.sort()\n",
    "sns.kdeplot(a)"
   ]
  },
  {
   "cell_type": "code",
   "execution_count": 24,
   "metadata": {},
   "outputs": [
    {
     "data": {
      "text/plain": [
       "0.05759628657770703"
      ]
     },
     "execution_count": 24,
     "metadata": {},
     "output_type": "execute_result"
    }
   ],
   "source": [
    "np.median(a)"
   ]
  },
  {
   "cell_type": "code",
   "execution_count": 45,
   "metadata": {},
   "outputs": [],
   "source": [
    "a = readcounts.columns.tolist()\n",
    "a.sort()\n",
    "readcounts=  readcounts[a]\n",
    "tccounts = tccounts[a]"
   ]
  },
  {
   "cell_type": "code",
   "execution_count": 25,
   "metadata": {},
   "outputs": [],
   "source": [
    "readcounts.to_csv('../results/'+project+'/'+version+'_'+str(minvar_toremove)+'_'+str(mincount_toremove)+'_readcounts.csv')\n",
    "tccounts.to_csv('../results/'+project+'/'+version+'_'+str(minvar_toremove)+'_'+str(mincount_toremove)+'_tccounts.csv')"
   ]
  },
  {
   "cell_type": "code",
   "execution_count": 43,
   "metadata": {},
   "outputs": [],
   "source": [
    "readcounts = pd.read_csv('../results/'+project+'/'+version+'_'+str(minvar_toremove)+'_'+str(mincount_toremove)+'_readcounts.csv',index_col=0)\n",
    "tccounts = pd.read_csv('../results/'+project+'/'+version+'_'+str(minvar_toremove)+'_'+str(mincount_toremove)+'_tccounts.csv',index_col=0)"
   ]
  },
  {
   "cell_type": "markdown",
   "metadata": {},
   "source": [
    "### make more dataframes"
   ]
  },
  {
   "cell_type": "code",
   "execution_count": 144,
   "metadata": {},
   "outputs": [],
   "source": [
    "mtccounts = pd.DataFrame()\n",
    "mreadcounts = pd.DataFrame()\n",
    "for i in set([i.split('-')[2] for i in tccounts.columns]):\n",
    "    mtccounts[i] = tccounts[[v for v in tccounts.columns if i in v]].mean(1)\n",
    "    mreadcounts[i] = readcounts[[v for v in readcounts.columns if i in v]].mean(1)"
   ]
  },
  {
   "cell_type": "code",
   "execution_count": 145,
   "metadata": {},
   "outputs": [],
   "source": [
    "mtccounts.to_csv(\"../results/\"+project+'/'+version+'_'+str(minvar_toremove)+'_'+str(mincount_toremove)+\"_mean_tccounts.csv\")\n",
    "mreadcounts.to_csv(\"../results/\"+project+'/'+version+'_'+str(minvar_toremove)+'_'+str(mincount_toremove)+\"_mean_readcounts.csv\")"
   ]
  },
  {
   "cell_type": "code",
   "execution_count": 146,
   "metadata": {},
   "outputs": [],
   "source": [
    "mtccounts = pd.DataFrame()\n",
    "mreadcounts = pd.DataFrame()\n",
    "for i in set([i.split('-')[2] for i in tccounts.columns]):\n",
    "    mtccounts[i] = tccounts[[v for v in tccounts.columns if i in v]].median(1)\n",
    "    mreadcounts[i] = readcounts[[v for v in readcounts.columns if i in v]].median(1)"
   ]
  },
  {
   "cell_type": "code",
   "execution_count": 147,
   "metadata": {},
   "outputs": [],
   "source": [
    "mtccounts.to_csv(\"../results/\"+project+'/'+version+'_'+str(minvar_toremove)+'_'+str(mincount_toremove)+\"_median_tccounts.csv\")\n",
    "mreadcounts.to_csv(\"../results/\"+project+'/'+version+'_'+str(minvar_toremove)+'_'+str(mincount_toremove)+\"_median_readcounts.csv\")"
   ]
  },
  {
   "cell_type": "code",
   "execution_count": 148,
   "metadata": {},
   "outputs": [],
   "source": [
    "(tccounts/readcounts).fillna(0).to_csv(\"../results/\"+project+'/'+version+'_'+str(minvar_toremove)+'_'+str(mincount_toremove)+\"_tccounts_per_readcounts.csv\")"
   ]
  },
  {
   "cell_type": "markdown",
   "metadata": {},
   "source": [
    "# lets look at the similarity accross replicates\n",
    "\n",
    "we have some outliers, else it seems to make some sense and on average, to be extremelly similar!"
   ]
  },
  {
   "cell_type": "code",
   "execution_count": 47,
   "metadata": {},
   "outputs": [],
   "source": [
    "tccounts.columns = [i.replace('-','.') for i in tccounts.columns]\n",
    "readcounts.columns = [i.replace('-','.') for i in readcounts.columns]"
   ]
  },
  {
   "cell_type": "code",
   "execution_count": 151,
   "metadata": {},
   "outputs": [
    {
     "data": {
      "text/plain": [
       "mr343.MV411.DMSO.r1_tcount    10.125621\n",
       "mr344.MV411.DMSO.r2_tcount    10.687586\n",
       "mr345.MV411.DMSO.r3_tcount    10.590205\n",
       "mr346.MV411.DMSO.r4_tcount    10.082057\n",
       "mr347.MV411.YLK.r1_tcount     11.008497\n",
       "mr348.MV411.YLK.r2_tcount     10.029397\n",
       "mr349.MV411.YLK.r3_tcount      9.656311\n",
       "mr350.MV411.YLK.r4_tcount      9.315082\n",
       "dtype: float64"
      ]
     },
     "execution_count": 151,
     "metadata": {},
     "output_type": "execute_result"
    }
   ],
   "source": [
    "(tccounts.loc[\"MYC\"]/tccounts.mean(0)) /(readcounts.loc[\"MYC\"]/readcounts.mean(0))"
   ]
  },
  {
   "cell_type": "code",
   "execution_count": 152,
   "metadata": {},
   "outputs": [
    {
     "data": {
      "image/png": "[encoded data removed]",
      "text/plain": [
       "<Figure size 864x864 with 2 Axes>"
      ]
     },
     "metadata": {
      "needs_background": "light"
     },
     "output_type": "display_data"
    }
   ],
   "source": [
    "%matplotlib inline\n",
    "fig, ax = plt.subplots(figsize=(12,12))\n",
    "sns.heatmap(tccounts.corr(), \n",
    "            xticklabels=tccounts.columns,\n",
    "            yticklabels=tccounts.columns, ax=ax)\n",
    "plt.savefig('../results/'+project+'/plots/'+version+'_similarity_replicates_sorted_readcounts.pdf')"
   ]
  },
  {
   "cell_type": "code",
   "execution_count": 153,
   "metadata": {},
   "outputs": [
    {
     "data": {
      "image/png": "[encoded data removed]",
      "text/plain": [
       "<Figure size 864x864 with 2 Axes>"
      ]
     },
     "metadata": {
      "needs_background": "light"
     },
     "output_type": "display_data"
    }
   ],
   "source": [
    "%matplotlib inline\n",
    "fig, ax = plt.subplots(figsize=(12,12))\n",
    "sns.heatmap(readcounts.corr(), \n",
    "            xticklabels=readcounts.columns,\n",
    "            yticklabels=readcounts.columns, ax=ax)\n",
    "plt.savefig('../results/'+project+'/plots/'+version+'_similarity_replicates.pdf')"
   ]
  },
  {
   "cell_type": "markdown",
   "metadata": {},
   "source": [
    "### A quick detour to look for clustering"
   ]
  },
  {
   "cell_type": "markdown",
   "metadata": {},
   "source": [
    "## Getting the Core TF information"
   ]
  },
  {
   "cell_type": "code",
   "execution_count": 9,
   "metadata": {
    "scrolled": true
   },
   "outputs": [
    {
     "data": {
      "text/plain": [
       "['CEBPA',\n",
       " 'E2F3',\n",
       " 'FLI1',\n",
       " 'FOSL2',\n",
       " 'GFI1',\n",
       " 'HEX',\n",
       " 'IRF8',\n",
       " 'LYL1',\n",
       " 'MEF2C',\n",
       " 'MEF2D',\n",
       " 'MEIS1',\n",
       " 'MYB',\n",
       " 'PLAGL2',\n",
       " 'RUNX1',\n",
       " 'RUNX2',\n",
       " 'RXRA',\n",
       " 'SP1',\n",
       " 'SPI1',\n",
       " 'SREBF1',\n",
       " 'STAT5B',\n",
       " 'TFAP4',\n",
       " 'ZEB2',\n",
       " 'ZFPM1',\n",
       " 'ZNF281',\n",
       " 'LMO2',\n",
       " 'ZMYND8',\n",
       " 'GATA2',\n",
       " 'MAX',\n",
       " 'MYC',\n",
       " 'ETV6',\n",
       " 'HOXA9']"
      ]
     },
     "execution_count": 9,
     "metadata": {},
     "output_type": "execute_result"
    }
   ],
   "source": [
    "ctf=pd.read_csv('../data/CRCs.txt',header=None)[0].values.tolist()\n",
    "ctf"
   ]
  },
  {
   "cell_type": "code",
   "execution_count": 10,
   "metadata": {},
   "outputs": [
    {
     "data": {
      "text/plain": [
       "{'CEBPA',\n",
       " 'E2F3',\n",
       " 'ETV6',\n",
       " 'FLI1',\n",
       " 'FOSL2',\n",
       " 'GATA2',\n",
       " 'GFI1',\n",
       " 'HEX',\n",
       " 'HOXA9',\n",
       " 'IRF8',\n",
       " 'LMO2',\n",
       " 'LYL1',\n",
       " 'MAX',\n",
       " 'MEF2C',\n",
       " 'MEF2D',\n",
       " 'MEIS1',\n",
       " 'MYB',\n",
       " 'MYC',\n",
       " 'PLAGL2',\n",
       " 'RUNX1',\n",
       " 'RUNX2',\n",
       " 'RXRA',\n",
       " 'SP1',\n",
       " 'SPI1',\n",
       " 'SREBF1',\n",
       " 'STAT5B',\n",
       " 'TFAP4',\n",
       " 'ZEB2',\n",
       " 'ZFPM1',\n",
       " 'ZMYND8',\n",
       " 'ZNF281'}"
      ]
     },
     "execution_count": 10,
     "metadata": {},
     "output_type": "execute_result"
    }
   ],
   "source": [
    "set(ctf) -  set(tccounts.index)"
   ]
  },
  {
   "cell_type": "code",
   "execution_count": 157,
   "metadata": {},
   "outputs": [
    {
     "data": {
      "text/plain": [
       "{'CEBPA',\n",
       " 'E2F3',\n",
       " 'ETV6',\n",
       " 'FLI1',\n",
       " 'FOSL2',\n",
       " 'GATA2',\n",
       " 'GFI1',\n",
       " 'HOXA9',\n",
       " 'IRF8',\n",
       " 'LMO2',\n",
       " 'LYL1',\n",
       " 'MAX',\n",
       " 'MEF2C',\n",
       " 'MEF2D',\n",
       " 'MEIS1',\n",
       " 'MYB',\n",
       " 'MYC',\n",
       " 'PLAGL2',\n",
       " 'RUNX1',\n",
       " 'RUNX2',\n",
       " 'RXRA',\n",
       " 'SP1',\n",
       " 'SPI1',\n",
       " 'SREBF1',\n",
       " 'STAT5B',\n",
       " 'TFAP4',\n",
       " 'ZEB2',\n",
       " 'ZFPM1',\n",
       " 'ZMYND8',\n",
       " 'ZNF281'}"
      ]
     },
     "execution_count": 157,
     "metadata": {},
     "output_type": "execute_result"
    }
   ],
   "source": [
    "set(ctf) & set(tccounts.index)"
   ]
  },
  {
   "cell_type": "code",
   "execution_count": 30,
   "metadata": {},
   "outputs": [],
   "source": [
    "ctfpos = [val for val in tccounts.index if val in ctf]\n",
    "notctfpos = [val for val in tccounts.index if val not in ctf]"
   ]
  },
  {
   "cell_type": "markdown",
   "metadata": {},
   "source": [
    "# Let's look at how they change accross time\n",
    "\n",
    "how core transcription factors change accross time when the cell is with JQ1 conditions\n",
    "\n",
    "we are looking at the difference between production of each CTF compared to the average RNA production with JQ1 and without JQ1"
   ]
  },
  {
   "cell_type": "markdown",
   "metadata": {},
   "source": [
    "## DESEQ ANALYSIS"
   ]
  },
  {
   "cell_type": "code",
   "execution_count": 48,
   "metadata": {},
   "outputs": [
    {
     "name": "stderr",
     "output_type": "stream",
     "text": [
      "<ipython-input-48-b760b2e1d27d>:1: SettingWithCopyWarning: \n",
      "A value is trying to be set on a copy of a slice from a DataFrame.\n",
      "Try using .loc[row_indexer,col_indexer] = value instead\n",
      "\n",
      "See the caveats in the documentation: https://pandas.pydata.org/pandas-docs/stable/user_guide/indexing.html#returning-a-view-versus-a-copy\n",
      "  readcounts[\"genes\"] = readcounts.index\n"
     ]
    }
   ],
   "source": [
    "readcounts[\"genes\"] = readcounts.index\n",
    "readcounts = readcounts.reset_index(drop=True)\n",
    "tccounts[\"genes\"] = tccounts.index\n",
    "tccounts = tccounts.reset_index(drop=True)"
   ]
  },
  {
   "cell_type": "code",
   "execution_count": 49,
   "metadata": {},
   "outputs": [
    {
     "data": {
      "text/html": [
       "<div>\n",
       "<style scoped>\n",
       "    .dataframe tbody tr th:only-of-type {\n",
       "        vertical-align: middle;\n",
       "    }\n",
       "\n",
       "    .dataframe tbody tr th {\n",
       "        vertical-align: top;\n",
       "    }\n",
       "\n",
       "    .dataframe thead th {\n",
       "        text-align: right;\n",
       "    }\n",
       "</style>\n",
       "<table border=\"1\" class=\"dataframe\">\n",
       "  <thead>\n",
       "    <tr style=\"text-align: right;\">\n",
       "      <th></th>\n",
       "      <th>mr343.MV411.DMSO.r1_tcount</th>\n",
       "      <th>mr344.MV411.DMSO.r2_tcount</th>\n",
       "      <th>mr345.MV411.DMSO.r3_tcount</th>\n",
       "      <th>mr346.MV411.DMSO.r4_tcount</th>\n",
       "      <th>mr347.MV411.YLK.r1_tcount</th>\n",
       "      <th>mr348.MV411.YLK.r2_tcount</th>\n",
       "      <th>mr349.MV411.YLK.r3_tcount</th>\n",
       "      <th>mr350.MV411.YLK.r4_tcount</th>\n",
       "      <th>genes</th>\n",
       "    </tr>\n",
       "  </thead>\n",
       "  <tbody>\n",
       "    <tr>\n",
       "      <th>0</th>\n",
       "      <td>114</td>\n",
       "      <td>125</td>\n",
       "      <td>96</td>\n",
       "      <td>89</td>\n",
       "      <td>55</td>\n",
       "      <td>99</td>\n",
       "      <td>66</td>\n",
       "      <td>107</td>\n",
       "      <td>NAT1</td>\n",
       "    </tr>\n",
       "    <tr>\n",
       "      <th>1</th>\n",
       "      <td>1281</td>\n",
       "      <td>1499</td>\n",
       "      <td>1424</td>\n",
       "      <td>1422</td>\n",
       "      <td>764</td>\n",
       "      <td>864</td>\n",
       "      <td>704</td>\n",
       "      <td>1472</td>\n",
       "      <td>AAMP</td>\n",
       "    </tr>\n",
       "    <tr>\n",
       "      <th>2</th>\n",
       "      <td>631</td>\n",
       "      <td>876</td>\n",
       "      <td>892</td>\n",
       "      <td>754</td>\n",
       "      <td>486</td>\n",
       "      <td>548</td>\n",
       "      <td>472</td>\n",
       "      <td>837</td>\n",
       "      <td>AARS1</td>\n",
       "    </tr>\n",
       "    <tr>\n",
       "      <th>3</th>\n",
       "      <td>154</td>\n",
       "      <td>208</td>\n",
       "      <td>191</td>\n",
       "      <td>162</td>\n",
       "      <td>93</td>\n",
       "      <td>144</td>\n",
       "      <td>116</td>\n",
       "      <td>151</td>\n",
       "      <td>ABAT</td>\n",
       "    </tr>\n",
       "    <tr>\n",
       "      <th>4</th>\n",
       "      <td>19</td>\n",
       "      <td>37</td>\n",
       "      <td>36</td>\n",
       "      <td>21</td>\n",
       "      <td>10</td>\n",
       "      <td>26</td>\n",
       "      <td>24</td>\n",
       "      <td>31</td>\n",
       "      <td>ABCA1</td>\n",
       "    </tr>\n",
       "    <tr>\n",
       "      <th>...</th>\n",
       "      <td>...</td>\n",
       "      <td>...</td>\n",
       "      <td>...</td>\n",
       "      <td>...</td>\n",
       "      <td>...</td>\n",
       "      <td>...</td>\n",
       "      <td>...</td>\n",
       "      <td>...</td>\n",
       "      <td>...</td>\n",
       "    </tr>\n",
       "    <tr>\n",
       "      <th>14492</th>\n",
       "      <td>413</td>\n",
       "      <td>544</td>\n",
       "      <td>503</td>\n",
       "      <td>406</td>\n",
       "      <td>249</td>\n",
       "      <td>406</td>\n",
       "      <td>277</td>\n",
       "      <td>462</td>\n",
       "      <td>107080638</td>\n",
       "    </tr>\n",
       "    <tr>\n",
       "      <th>14493</th>\n",
       "      <td>6</td>\n",
       "      <td>1</td>\n",
       "      <td>3</td>\n",
       "      <td>3</td>\n",
       "      <td>1</td>\n",
       "      <td>3</td>\n",
       "      <td>4</td>\n",
       "      <td>1</td>\n",
       "      <td>107080644</td>\n",
       "    </tr>\n",
       "    <tr>\n",
       "      <th>14494</th>\n",
       "      <td>19</td>\n",
       "      <td>22</td>\n",
       "      <td>12</td>\n",
       "      <td>10</td>\n",
       "      <td>10</td>\n",
       "      <td>13</td>\n",
       "      <td>5</td>\n",
       "      <td>15</td>\n",
       "      <td>BOLA2-SMG1P6</td>\n",
       "    </tr>\n",
       "    <tr>\n",
       "      <th>14495</th>\n",
       "      <td>99</td>\n",
       "      <td>171</td>\n",
       "      <td>154</td>\n",
       "      <td>132</td>\n",
       "      <td>71</td>\n",
       "      <td>106</td>\n",
       "      <td>94</td>\n",
       "      <td>155</td>\n",
       "      <td>107303344</td>\n",
       "    </tr>\n",
       "    <tr>\n",
       "      <th>14496</th>\n",
       "      <td>1</td>\n",
       "      <td>3</td>\n",
       "      <td>1</td>\n",
       "      <td>0</td>\n",
       "      <td>0</td>\n",
       "      <td>5</td>\n",
       "      <td>1</td>\n",
       "      <td>2</td>\n",
       "      <td>SCARNA18B</td>\n",
       "    </tr>\n",
       "  </tbody>\n",
       "</table>\n",
       "<p>14497 rows × 9 columns</p>\n",
       "</div>"
      ],
      "text/plain": [
       "       mr343.MV411.DMSO.r1_tcount  mr344.MV411.DMSO.r2_tcount  \\\n",
       "0                             114                         125   \n",
       "1                            1281                        1499   \n",
       "2                             631                         876   \n",
       "3                             154                         208   \n",
       "4                              19                          37   \n",
       "...                           ...                         ...   \n",
       "14492                         413                         544   \n",
       "14493                           6                           1   \n",
       "14494                          19                          22   \n",
       "14495                          99                         171   \n",
       "14496                           1                           3   \n",
       "\n",
       "       mr345.MV411.DMSO.r3_tcount  mr346.MV411.DMSO.r4_tcount  \\\n",
       "0                              96                          89   \n",
       "1                            1424                        1422   \n",
       "2                             892                         754   \n",
       "3                             191                         162   \n",
       "4                              36                          21   \n",
       "...                           ...                         ...   \n",
       "14492                         503                         406   \n",
       "14493                           3                           3   \n",
       "14494                          12                          10   \n",
       "14495                         154                         132   \n",
       "14496                           1                           0   \n",
       "\n",
       "       mr347.MV411.YLK.r1_tcount  mr348.MV411.YLK.r2_tcount  \\\n",
       "0                             55                         99   \n",
       "1                            764                        864   \n",
       "2                            486                        548   \n",
       "3                             93                        144   \n",
       "4                             10                         26   \n",
       "...                          ...                        ...   \n",
       "14492                        249                        406   \n",
       "14493                          1                          3   \n",
       "14494                         10                         13   \n",
       "14495                         71                        106   \n",
       "14496                          0                          5   \n",
       "\n",
       "       mr349.MV411.YLK.r3_tcount  mr350.MV411.YLK.r4_tcount         genes  \n",
       "0                             66                        107          NAT1  \n",
       "1                            704                       1472          AAMP  \n",
       "2                            472                        837         AARS1  \n",
       "3                            116                        151          ABAT  \n",
       "4                             24                         31         ABCA1  \n",
       "...                          ...                        ...           ...  \n",
       "14492                        277                        462     107080638  \n",
       "14493                          4                          1     107080644  \n",
       "14494                          5                         15  BOLA2-SMG1P6  \n",
       "14495                         94                        155     107303344  \n",
       "14496                          1                          2     SCARNA18B  \n",
       "\n",
       "[14497 rows x 9 columns]"
      ]
     },
     "execution_count": 49,
     "metadata": {},
     "output_type": "execute_result"
    }
   ],
   "source": [
    "readcounts"
   ]
  },
  {
   "cell_type": "code",
   "execution_count": 50,
   "metadata": {},
   "outputs": [],
   "source": [
    "design = pd.DataFrame(index= [i.replace('-','.') for i in tccounts.columns[:-1]], \n",
    "                      columns=['DMSO','VHL'], \n",
    "                      data=np.array([[1,1,1,1,0,0,0,0],\n",
    "                                    [0,0,0,0,1,1,1,1]],dtype=bool).T)"
   ]
  },
  {
   "cell_type": "markdown",
   "metadata": {},
   "source": [
    "### Differential gene expression analysis, PCA and GO-term enrichment\n",
    "\n",
    "For gene-level analysis, raw reads mapped to different UTR annotations of the same gene were summed up by Entrez Gene ID. Pilot studies of K562 cells with kinase inhibitors were performed as single experiments. \n",
    "\n",
    "Analysis of differential gene expression was restricted to genes with ≥ 10 reads in at least one condition for 50bp sequencing runs (flavopiridol and DMSO) or ≥ 20 reads in at least one condition for 100bp sequencing runs (mk2206, trametinib, nilotinib, trametinib + mk2206 and DMSO). For estimating differential expression, a pseudo-count of 1 raw read was added to all genes.\n",
    "\n",
    "#### All other SLAM-seq experiments were performed in triplicates and analyzed as follows. \n",
    "Differential gene expression calling was performed on raw read counts with ≥ 2 T>C conversions using DESeq2 (version 1.14.1) with default settings, and with size factors estimated on corresponding total mRNA reads for global normalization.\n",
    "\n",
    "Downstream analysis was restricted to genes passing all internal filters for FDR estimation by DESeq2. Principal component analysis was performed after variance\n",
    "stabilizing transformation on the 500 most variable genes across all conditions of a given\n",
    "experiment. GO-term enrichment analysis was performed on genes significantly and strongly downregulated (FDR ≤ 0.1, log2FC ≤ -1) in SLAM-seq upon IAA-treatment in K562MYC-AID + Tir1 by the PANTHER Overrepresentation Test (Fisher's Exact with FDR multiple test correction, release 20171205, http://pantherdb.org) on GO Ontology database Released 2017-12-27."
   ]
  },
  {
   "cell_type": "code",
   "execution_count": 7,
   "metadata": {},
   "outputs": [],
   "source": [
    "scaling=\"ERCCsamplewise\""
   ]
  },
  {
   "cell_type": "code",
   "execution_count": 52,
   "metadata": {},
   "outputs": [
    {
     "name": "stderr",
     "output_type": "stream",
     "text": [
      "<ipython-input-52-a448707d3770>:3: DeprecationWarning: `np.bool` is a deprecated alias for the builtin `bool`. To silence this warning, use `bool` by itself. Doing this will not modify any behavior and is safe. If you specifically wanted the numpy scalar type, use `np.bool_` here.\n",
      "Deprecated in NumPy 1.20; for more details and guidance: https://numpy.org/devdocs/release/1.20.0-notes.html#deprecations\n",
      "  deseq = pyDESeq2.pyDESeq2(count_matrix = tccounts[tccounts.columns[np.array(loc+[1],np.bool)]],\n",
      "<ipython-input-52-a448707d3770>:4: DeprecationWarning: `np.bool` is a deprecated alias for the builtin `bool`. To silence this warning, use `bool` by itself. Doing this will not modify any behavior and is safe. If you specifically wanted the numpy scalar type, use `np.bool_` here.\n",
      "Deprecated in NumPy 1.20; for more details and guidance: https://numpy.org/devdocs/release/1.20.0-notes.html#deprecations\n",
      "  design_matrix=design[np.array(loc,np.bool)],\n"
     ]
    },
    {
     "name": "stdout",
     "output_type": "stream",
     "text": [
      "you need to have R installed with the DESeq2 library installed\n",
      "3.3.2\n"
     ]
    }
   ],
   "source": [
    "loc = [1,1,1,1,1,1,1,1]\n",
    "\n",
    "deseq = pyDESeq2.pyDESeq2(count_matrix = tccounts[tccounts.columns[np.array(loc+[1],np.bool)]],\n",
    "                         design_matrix=design[np.array(loc,np.bool)],\n",
    "                         design_formula=\"~VHL\",\n",
    "                         gene_column=\"genes\")"
   ]
  },
  {
   "cell_type": "markdown",
   "metadata": {},
   "source": [
    "## estimating size factors"
   ]
  },
  {
   "cell_type": "markdown",
   "metadata": {},
   "source": [
    "#### MEF2D"
   ]
  },
  {
   "cell_type": "code",
   "execution_count": 61,
   "metadata": {},
   "outputs": [
    {
     "name": "stderr",
     "output_type": "stream",
     "text": [
      "<ipython-input-61-62e90aecdee5>:1: DeprecationWarning: `np.bool` is a deprecated alias for the builtin `bool`. To silence this warning, use `bool` by itself. Doing this will not modify any behavior and is safe. If you specifically wanted the numpy scalar type, use `np.bool_` here.\n",
      "Deprecated in NumPy 1.20; for more details and guidance: https://numpy.org/devdocs/release/1.20.0-notes.html#deprecations\n",
      "  deseqall = pyDESeq2.pyDESeq2(count_matrix = readcounts[readcounts.columns[np.array(loc+[1],np.bool)]],\n",
      "<ipython-input-61-62e90aecdee5>:2: DeprecationWarning: `np.bool` is a deprecated alias for the builtin `bool`. To silence this warning, use `bool` by itself. Doing this will not modify any behavior and is safe. If you specifically wanted the numpy scalar type, use `np.bool_` here.\n",
      "Deprecated in NumPy 1.20; for more details and guidance: https://numpy.org/devdocs/release/1.20.0-notes.html#deprecations\n",
      "  design_matrix=design[np.array(loc,np.bool)],\n"
     ]
    },
    {
     "name": "stdout",
     "output_type": "stream",
     "text": [
      "you need to have R installed with the DESeq2 library installed\n",
      "3.3.2\n"
     ]
    }
   ],
   "source": [
    "deseq = pyDESeq2.pyDESeq2(count_matrix = readcounts[readcounts.columns[np.array(loc+[1],np.bool)]],\n",
    "                         design_matrix=design[np.array(loc,np.bool)],\n",
    "                         design_formula=\"~VHL\",\n",
    "                         gene_column=\"genes\")"
   ]
  },
  {
   "cell_type": "code",
   "execution_count": 73,
   "metadata": {},
   "outputs": [],
   "source": [
    "deseq.run_estimate_size_factors()"
   ]
  },
  {
   "cell_type": "markdown",
   "metadata": {},
   "source": [
    "## other size factor estimations"
   ]
  },
  {
   "cell_type": "code",
   "execution_count": 135,
   "metadata": {},
   "outputs": [],
   "source": [
    "# from https://www.cell.com/trends/genetics/pdf/S0168-9525(13)00089-9.pdf FFROM THOUSANDS OF SAMPLES\n",
    "housekeeping1 = [\"C1orf43\", \"CHMP2A\", \"EMC7\", \"GPI\", \"PSMB2\", \"PSMB4\", \"RAB7A\", \"REEP5\", \"SNRPD3\", \"VCP\", \"VPS29\"]\n",
    "\n",
    "#https://www.ncbi.nlm.nih.gov/pmc/articles/PMC4760967/ FOR CANCER CELL LINES\n",
    "housekeeping2 = ['18S rRNA',\n",
    "'ACTB',\n",
    "'B2M',\n",
    "'G6PD',\n",
    "'GAPDH',\n",
    "'GUSB',\n",
    "'HMBS',\n",
    "'HPRT1',\n",
    "'PGK1',\n",
    "'PPIA',\n",
    "'RPL13a',\n",
    "'SDHA',\n",
    "'TBP',\n",
    "'TUBB',\n",
    "'YWHAZ']"
   ]
  },
  {
   "cell_type": "code",
   "execution_count": 136,
   "metadata": {},
   "outputs": [],
   "source": [
    "housekeeping = readcounts.genes.isin(housekeeping2)"
   ]
  },
  {
   "cell_type": "code",
   "execution_count": 231,
   "metadata": {},
   "outputs": [],
   "source": [
    "readcountsMybi= readcounts[readcounts.columns[16:-1]]\n",
    "\n",
    "deseqMybi.run_estimate_size_factors(geoMeans = np.exp(np.mean(np.log(\n",
    "    readcountsMybi[readcountsMybi.columns[np.array([1,1,1,1,0,0,0], np.bool)]].values+1), 1)), controlGenes=housekeeping)"
   ]
  },
  {
   "cell_type": "markdown",
   "metadata": {},
   "source": [
    "## Modifying size factors"
   ]
  },
  {
   "cell_type": "code",
   "execution_count": 169,
   "metadata": {
    "scrolled": true
   },
   "outputs": [
    {
     "data": {
      "text/plain": [
       "{'DMSO': [97.72708711152382, 15.876520839037093],\n",
       " 'YLK': [98.15039682666358, 11.809637537738645]}"
      ]
     },
     "execution_count": 169,
     "metadata": {},
     "output_type": "execute_result"
    }
   ],
   "source": [
    "r"
   ]
  },
  {
   "cell_type": "code",
   "execution_count": 170,
   "metadata": {},
   "outputs": [],
   "source": [
    "sizeFact = deseq.getSizeFactors()"
   ]
  },
  {
   "cell_type": "code",
   "execution_count": 171,
   "metadata": {},
   "outputs": [
    {
     "data": {
      "text/plain": [
       "array([1.11650586, 1.35780155, 1.16316956, 1.15412787, 0.55449175,\n",
       "       0.84021682, 0.81847341, 1.28858983])"
      ]
     },
     "execution_count": 171,
     "metadata": {},
     "output_type": "execute_result"
    }
   ],
   "source": [
    "sizeFact"
   ]
  },
  {
   "cell_type": "code",
   "execution_count": 647,
   "metadata": {},
   "outputs": [],
   "source": [
    "sizeFact[4:] = sizeFact[4:]*(res[[i for i in res.index if '-VHL_24h-' in i]].values/res[[i for i in res.index if '-DMSO_24h-' in i]].values.mean())"
   ]
  },
  {
   "cell_type": "code",
   "execution_count": 648,
   "metadata": {},
   "outputs": [],
   "source": [
    "deseq.setSizeFactors(sizeFact)"
   ]
  },
  {
   "cell_type": "markdown",
   "metadata": {},
   "source": [
    "## size fact from all"
   ]
  },
  {
   "cell_type": "code",
   "execution_count": 67,
   "metadata": {},
   "outputs": [],
   "source": [
    "sizeFact = deseqall.getSizeFactors()"
   ]
  },
  {
   "cell_type": "code",
   "execution_count": 69,
   "metadata": {},
   "outputs": [
    {
     "data": {
      "text/plain": [
       "array([1.07659558, 1.3986566 , 1.25334554, 1.10421216, 0.62751056,\n",
       "       0.88940169, 0.75751126, 1.17487878])"
      ]
     },
     "execution_count": 69,
     "metadata": {},
     "output_type": "execute_result"
    }
   ],
   "source": [
    "sizeFact"
   ]
  },
  {
   "cell_type": "code",
   "execution_count": 70,
   "metadata": {},
   "outputs": [],
   "source": [
    "deseq.setSizeFactors(sizeFact)"
   ]
  },
  {
   "cell_type": "markdown",
   "metadata": {},
   "source": [
    "## running it"
   ]
  },
  {
   "cell_type": "code",
   "execution_count": 74,
   "metadata": {},
   "outputs": [
    {
     "name": "stderr",
     "output_type": "stream",
     "text": [
      "R[write to console]: using pre-existing size factors\n",
      "\n",
      "R[write to console]: estimating dispersions\n",
      "\n",
      "R[write to console]: found already estimated dispersions, replacing these\n",
      "\n",
      "R[write to console]: gene-wise dispersion estimates\n",
      "\n",
      "R[write to console]: mean-dispersion relationship\n",
      "\n",
      "R[write to console]: final dispersion estimates\n",
      "\n",
      "R[write to console]: fitting model and testing\n",
      "\n"
     ]
    }
   ],
   "source": [
    "deseq.run_deseq()\n",
    "deseq.get_deseq_result()\n",
    "res = deseq.deseq_result\n",
    "res.pvalue = np.nan_to_num(np.array(res.pvalue), 1)\n",
    "res.log2FoldChange = np.nan_to_num(np.array(res.log2FoldChange), 0)\n",
    "res[\"gene_id\"] = res.genes"
   ]
  },
  {
   "cell_type": "markdown",
   "metadata": {},
   "source": [
    "## PLOTS"
   ]
  },
  {
   "cell_type": "markdown",
   "metadata": {},
   "source": [
    "### whisker's plots"
   ]
  },
  {
   "cell_type": "code",
   "execution_count": 173,
   "metadata": {},
   "outputs": [],
   "source": [
    "%matplotlib inline"
   ]
  },
  {
   "cell_type": "code",
   "execution_count": 174,
   "metadata": {
    "scrolled": true
   },
   "outputs": [
    {
     "name": "stderr",
     "output_type": "stream",
     "text": [
      "/home/jeremie/.local/lib/python3.8/site-packages/pandas/core/generic.py:5303: SettingWithCopyWarning: \n",
      "A value is trying to be set on a copy of a slice from a DataFrame.\n",
      "Try using .loc[row_indexer,col_indexer] = value instead\n",
      "\n",
      "See the caveats in the documentation: https://pandas.pydata.org/pandas-docs/stable/user_guide/indexing.html#returning-a-view-versus-a-copy\n",
      "  self[name] = value\n",
      "<ipython-input-174-f7fcada9403f>:3: SettingWithCopyWarning: \n",
      "A value is trying to be set on a copy of a slice from a DataFrame.\n",
      "Try using .loc[row_indexer,col_indexer] = value instead\n",
      "\n",
      "See the caveats in the documentation: https://pandas.pydata.org/pandas-docs/stable/user_guide/indexing.html#returning-a-view-versus-a-copy\n",
      "  re[\"type\"] = ['ctf' if i else \"other\" for i in  re.genes.isin(ctf)]\n"
     ]
    }
   ],
   "source": [
    "re = res[res.baseMean>10]\n",
    "re.baseMean= np.log2(1+re.baseMean)\n",
    "re[\"type\"] = ['ctf' if i else \"other\" for i in  re.genes.isin(ctf)]"
   ]
  },
  {
   "cell_type": "code",
   "execution_count": 177,
   "metadata": {
    "scrolled": true
   },
   "outputs": [
    {
     "data": {
      "image/png": "[encoded data removed]",
      "text/plain": [
       "<Figure size 432x288 with 1 Axes>"
      ]
     },
     "metadata": {
      "needs_background": "light"
     },
     "output_type": "display_data"
    }
   ],
   "source": [
    "ax = sns.boxplot(data=re,x='type',y='log2FoldChange').set_title(\"YLK foldChange\")\n",
    "ax.figure.savefig('../results/'+project+\"/plots/\"+version+\"_\"+scaling+\"_whiskers_YLK_logfch.pdf\")"
   ]
  },
  {
   "cell_type": "code",
   "execution_count": 178,
   "metadata": {},
   "outputs": [
    {
     "data": {
      "image/png": "[encoded data removed]",
      "text/plain": [
       "<Figure size 432x288 with 1 Axes>"
      ]
     },
     "metadata": {
      "needs_background": "light"
     },
     "output_type": "display_data"
    }
   ],
   "source": [
    "ax =sns.boxplot(data=re,x='type',y='baseMean')\n",
    "ax.set_title(\"YLK baseMean\")\n",
    "ax.figure.savefig('../results/'+project+\"/plots/\"+version+\"_\"+scaling+\"_whiskers_YLK_baseMean.pdf\")"
   ]
  },
  {
   "cell_type": "markdown",
   "metadata": {},
   "source": [
    "## Regular volcanos"
   ]
  },
  {
   "cell_type": "code",
   "execution_count": 179,
   "metadata": {},
   "outputs": [],
   "source": [
    "res.to_csv(\"../results/\"+project+\"/\"+version+'_'+scaling+\"_\"+str(minvar_toremove)+'_'+str(mincount_toremove)+'_deseq.csv')"
   ]
  },
  {
   "cell_type": "markdown",
   "metadata": {},
   "source": [
    "we can conclude that we get similar results to the slamseq myc paper although it seems that our values are a bit skewed toward higher expression than what is on the slamseq paper. It mightt be explained by the pseudo count of 1 that I did not set. Because I think it would highly bias the DESeq algorithm."
   ]
  },
  {
   "cell_type": "code",
   "execution_count": 75,
   "metadata": {
    "scrolled": true
   },
   "outputs": [
    {
     "name": "stderr",
     "output_type": "stream",
     "text": [
      "/home/jeremie/.local/lib/python3.8/site-packages/bokeh/io/saving.py:125: UserWarning: save() called but no resources were supplied and output_file(...) was never called, defaulting to resources.CDN\n",
      "  warn(\"save() called but no resources were supplied and output_file(...) was never called, defaulting to resources.CDN\")\n",
      "/home/jeremie/.local/lib/python3.8/site-packages/bokeh/io/saving.py:138: UserWarning: save() called but no title was supplied and output_file(...) was never called, using default title 'Bokeh Plot'\n",
      "  warn(\"save() called but no title was supplied and output_file(...) was never called, using default title 'Bokeh Plot'\")\n"
     ]
    },
    {
     "data": {
      "text/html": [
       "\n",
       "\n",
       "\n",
       "\n",
       "\n",
       "\n",
       "  <div class=\"bk-root\" id=\"97557560-bf58-4ae6-a5c2-104bd177d669\" data-root-id=\"2634\"></div>\n"
      ]
     },
     "metadata": {},
     "output_type": "display_data"
    },
    {
     "data": {
      "application/javascript": [
       "(function(root) {\n",
       "  function embed_document(root) {\n",
       "    \n",
       "  var docs_json = {\"c85491ec-b10e-4299-aabd-bec5ed16255c\":{\"roots\":{\"references\":[{\"attributes\":{\"children\":[{\"id\":\"2632\"},{\"id\":\"2581\"}]},\"id\":\"2634\",\"type\":\"Column\"},{\"attributes\":{\"data_source\":{\"id\":\"2621\"},\"glyph\":{\"id\":\"2628\"},\"hover_glyph\":null,\"muted_glyph\":null,\"name\":\"outlines\",\"nonselection_glyph\":{\"id\":\"2629\"},\"selection_glyph\":null,\"view\":{\"id\":\"2631\"}},\"id\":\"2630\",\"type\":\"GlyphRenderer\"},{\"attributes\":{},\"id\":\"2600\",\"type\":\"PanTool\"},{\"attributes\":{\"fill_color\":{\"value\":null},\"size\":{\"units\":\"screen\",\"value\":7},\"x\":{\"field\":\"log2FoldChange\"},\"y\":{\"field\":\"transformed_q\"}},\"id\":\"2628\",\"type\":\"Scatter\"},{\"attributes\":{},\"id\":\"2597\",\"type\":\"BasicTicker\"},{\"attributes\":{},\"id\":\"2642\",\"type\":\"Selection\"},{\"attributes\":{\"fill_alpha\":{\"value\":0.1},\"fill_color\":{\"value\":null},\"line_alpha\":{\"value\":0.1},\"size\":{\"units\":\"screen\",\"value\":7},\"x\":{\"field\":\"log2FoldChange\"},\"y\":{\"field\":\"transformed_q\"}},\"id\":\"2629\",\"type\":\"Scatter\"},{\"attributes\":{},\"id\":\"2604\",\"type\":\"ResetTool\"},{\"attributes\":{},\"id\":\"2593\",\"type\":\"BasicTicker\"},{\"attributes\":{},\"id\":\"2586\",\"type\":\"DataRange1d\"},{\"attributes\":{\"axis\":{\"id\":\"2592\"},\"grid_line_color\":\"white\",\"ticker\":null},\"id\":\"2595\",\"type\":\"Grid\"},{\"attributes\":{\"background_fill_alpha\":0.5,\"background_fill_color\":\"#DFDFE5\",\"below\":[{\"id\":\"2592\"}],\"center\":[{\"id\":\"2595\"},{\"id\":\"2599\"}],\"left\":[{\"id\":\"2596\"}],\"plot_height\":450,\"plot_width\":650,\"renderers\":[{\"id\":\"2619\"},{\"id\":\"2625\"},{\"id\":\"2630\"}],\"title\":{\"id\":\"2582\"},\"toolbar\":{\"id\":\"2607\"},\"x_range\":{\"id\":\"2584\"},\"x_scale\":{\"id\":\"2588\"},\"y_range\":{\"id\":\"2586\"},\"y_scale\":{\"id\":\"2590\"}},\"id\":\"2581\",\"subtype\":\"Figure\",\"type\":\"Plot\"},{\"attributes\":{},\"id\":\"2601\",\"type\":\"WheelZoomTool\"},{\"attributes\":{},\"id\":\"2638\",\"type\":\"BasicTickFormatter\"},{\"attributes\":{},\"id\":\"2643\",\"type\":\"UnionRenderers\"},{\"attributes\":{\"active_drag\":\"auto\",\"active_inspect\":\"auto\",\"active_multi\":null,\"active_scroll\":\"auto\",\"active_tap\":\"auto\",\"tools\":[{\"id\":\"2600\"},{\"id\":\"2601\"},{\"id\":\"2602\"},{\"id\":\"2603\"},{\"id\":\"2604\"},{\"id\":\"2605\"},{\"id\":\"2580\"}]},\"id\":\"2607\",\"type\":\"Toolbar\"},{\"attributes\":{\"fill_alpha\":{\"field\":\"alpha\"},\"fill_color\":{\"field\":\"color\"},\"line_alpha\":{\"field\":\"alpha\"},\"line_color\":{\"field\":\"color\"},\"size\":{\"field\":\"size\",\"units\":\"screen\"},\"x\":{\"field\":\"log2FoldChange\"},\"y\":{\"field\":\"transformed_q\"}},\"id\":\"2623\",\"type\":\"Scatter\"},{\"attributes\":{\"overlay\":{\"id\":\"2606\"}},\"id\":\"2602\",\"type\":\"BoxZoomTool\"},{\"attributes\":{},\"id\":\"2584\",\"type\":\"DataRange1d\"},{\"attributes\":{\"data\":{\"alpha\":{\"__ndarray__\":\"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\",\"dtype\":\"float64\",\"shape\":[1474]},\"baseMean\":{\"__ndarray__\":\"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\",\"dtype\":\"float64\",\"shape\":[1474]},\"color\":[\"#1a9641\",\"#1a9641\",\"#1a9641\",\"#1a9641\",\"#1a9641\",\"#1a9641\",\"#1a9641\",\"#1a9641\",\"#1a9641\",\"#1a9641\",\"#1a9641\",\"#1a9641\",\"#1a9641\",\"#1a9641\",\"#1a9641\",\"#1a9641\",\"#1a9641\",\"#1a9641\",\"#1a9641\",\"#1a9641\",\"#1a9641\",\"#1a9641\",\"#1a9641\",\"#1a9641\",\"#1a9641\",\"#1a9641\",\"#1a9641\",\"#1a9641\",\"#1a9641\",\"#1a9641\",\"#1a9641\",\"#1a9641\",\"#1a9641\",\"#1a9641\",\"#1a9641\",\"#1a9641\",\"#1a9641\",\"#1a9641\",\"#1a9641\",\"#1a9641\",\"#1a9641\",\"#1a9641\",\"#1a9641\",\"#1a9641\",\"#1a9641\",\"#1a9641\",\"#1a9641\",\"#1a9641\",\"#1a9641\",\"#1a9641\",\"#1a9641\",\"#1a9641\",\"#1a9641\",\"#1a9641\",\"#1a9641\",\"#1a9641\",\"#1a9641\",\"#1a9641\",\"#1a9641\",\"#1a9641\",\"#1a9641\",\"#1a9641\",\"#1a9641\",\"#1a9641\",\"#1a9641\",\"#1a9641\",\"#1a9641\",\"#1a9641\",\"#1a9641\",\"#1a9641\",\"#1a9641\",\"#1a9641\",\"#1a9641\",\"#1a9641\",\"#1a9641\",\"#1a9641\",\"#1a9641\",\"#1a9641\",\"#1a9641\",\"#1a9641\",\"#1a9641\",\"#1a9641\",\"#1a9641\",\"#1a9641\",\"#1a9641\",\"#1a9641\",\"#1a9641\",\"#1a9641\",\"#1a9641\",\"#1a9641\",\"#1a9641\",\"#1a9641\",\"#1a9641\",\"#1a9641\",\"#1a9641\",\"#1a9641\",\"#1a9641\",\"#1a9641\",\"#1a9641\",\"#1a9641\",\"#1a9641\",\"#1a9641\",\"#1a9641\",\"#1a9641\",\"#1a9641\",\"#1a9641\",\"#1a9641\",\"#1a9641\",\"#1a9641\",\"#1a9641\",\"#1a9641\",\"#1a9641\",\"#1a9641\",\"#1a9641\",\"#1a9641\",\"#1a9641\",\"#1a9641\",\"#1a9641\",\"#1a9641\",\"#1a9641\",\"#1a9641\",\"#1a9641\",\"#1a9641\",\"#1a9641\",\"#1a9641\",\"#1a9641\",\"#1a9641\",\"#1a9641\",\"#1a9641\",\"#1a9641\",\"#1a9641\",\"#1a9641\",\"#1a9641\",\"#1a9641\",\"#1a9641\",\"#1a9641\",\"#1a9641\",\"#1a9641\",\"#1a9641\",\"#1a9641\",\"#1a9641\",\"#1a9641\",\"#1a9641\",\"#1a9641\",\"#1a9641\",\"#1a9641\",\"#1a9641\",\"#1a9641\",\"#1a9641\",\"#1a9641\",\"#1a9641\",\"#1a9641\",\"#1a9641\",\"#1a9641\",\"#1a9641\",\"#1a9641\",\"#1a9641\",\"#1a9641\",\"#1a9641\",\"#1a9641\",\"#1a9641\",\"#1a9641\",\"#1a9641\",\"#1a9641\",\"#1a9641\",\"#1a9641\",\"#1a9641\",\"#1a9641\",\"#1a9641\",\"#1a9641\",\"#1a9641\",\"#1a9641\",\"#1a9641\",\"#1a9641\",\"#1a9641\",\"#1a9641\",\"#1a9641\",\"#1a9641\",\"#1a9641\",\"#1a9641\",\"#1a9641\",\"#1a9641\",\"#1a9641\",\"#1a9641\",\"#1a9641\",\"#1a9641\",\"#1a9641\",\"#1a9641\",\"#1a9641\",\"#1a9641\",\"#1a9641\",\"#1a9641\",\"#1a9641\",\"#1a9641\",\"#1a9641\",\"#1a9641\",\"#1a9641\",\"#1a9641\",\"#1a9641\",\"#1a9641\",\"#1a9641\",\"#1a9641\",\"#1a9641\",\"#1a9641\",\"#1a9641\",\"#1a9641\",\"#1a9641\",\"#1a9641\",\"#1a9641\",\"#1a9641\",\"#1a9641\",\"#1a9641\",\"#1a9641\",\"#1a9641\",\"#1a9641\",\"#1a9641\",\"#1a9641\",\"#1a9641\",\"#1a9641\",\"#1a9641\",\"#1a9641\",\"#1a9641\",\"#1a9641\",\"#1a9641\",\"#1a9641\",\"#1a9641\",\"#1a9641\",\"#1a9641\",\"#1a9641\",\"#1a9641\",\"#1a9641\",\"#1a9641\",\"#1a9641\",\"#1a9641\",\"#1a9641\",\"#1a9641\",\"#1a9641\",\"#1a9641\",\"#1a9641\",\"#1a9641\",\"#1a9641\",\"#1a9641\",\"#1a9641\",\"#1a9641\",\"#1a9641\",\"#1a9641\",\"#1a9641\",\"#1a9641\",\"#1a9641\",\"#1a9641\",\"#1a9641\",\"#1a9641\",\"#1a9641\",\"#1a9641\",\"#1a9641\",\"#1a9641\",\"#1a9641\",\"#1a9641\",\"#1a9641\",\"#1a9641\",\"#1a9641\",\"#1a9641\",\"#1a9641\",\"#1a9641\",\"#1a9641\",\"#1a9641\",\"#1a9641\",\"#1a9641\",\"#1a9641\",\"#1a9641\",\"#1a9641\",\"#1a9641\",\"#1a9641\",\"#1a9641\",\"#1a9641\",\"#1a9641\",\"#1a9641\",\"#1a9641\",\"#1a9641\",\"#1a9641\",\"#1a9641\",\"#1a9641\",\"#1a9641\",\"#1a9641\",\"#1a9641\",\"#1a9641\",\"#1a9641\",\"#1a9641\",\"#1a9641\",\"#1a9641\",\"#1a9641\",\"#1a9641\",\"#1a9641\",\"#1a9641\",\"#1a9641\",\"#1a9641\",\"#1a9641\",\"#1a9641\",\"#1a9641\",\"#1a9641\",\"#1a9641\",\"#1a9641\",\"#1a9641\",\"#1a9641\",\"#1a9641\",\"#1a9641\",\"#1a9641\",\"#1a9641\",\"#1a9641\",\"#1a9641\",\"#1a9641\",\"#1a9641\",\"#1a9641\",\"#1a9641\",\"#1a9641\",\"#1a9641\",\"#1a9641\",\"#1a9641\",\"#1a9641\",\"#1a9641\",\"#1a9641\",\"#1a9641\",\"#1a9641\",\"#1a9641\",\"#1a9641\",\"#1a9641\",\"#1a9641\",\"#1a9641\",\"#1a9641\",\"#1a9641\",\"#1a9641\",\"#1a9641\",\"#1a9641\",\"#1a9641\",\"#1a9641\",\"#1a9641\",\"#1a9641\",\"#1a9641\",\"#1a9641\",\"#1a9641\",\"#1a9641\",\"#1a9641\",\"#1a9641\",\"#1a9641\",\"#1a9641\",\"#1a9641\",\"#1a9641\",\"#1a9641\",\"#1a9641\",\"#1a9641\",\"#1a9641\",\"#1a9641\",\"#1a9641\",\"#1a9641\",\"#1a9641\",\"#1a9641\",\"#1a9641\",\"#1a9641\",\"#1a9641\",\"#1a9641\",\"#1a9641\",\"#1a9641\",\"#1a9641\",\"#1a9641\",\"#1a9641\",\"#1a9641\",\"#1a9641\",\"#1a9641\",\"#1a9641\",\"#1a9641\",\"#1a9641\",\"#1a9641\",\"#1a9641\",\"#1a9641\",\"#1a9641\",\"#1a9641\",\"#1a9641\",\"#1a9641\",\"#1a9641\",\"#1a9641\",\"#1a9641\",\"#1a9641\",\"#1a9641\",\"#1a9641\",\"#1a9641\",\"#1a9641\",\"#1a9641\",\"#1a9641\",\"#1a9641\",\"#1a9641\",\"#1a9641\",\"#1a9641\",\"#1a9641\",\"#1a9641\",\"#1a9641\",\"#1a9641\",\"#1a9641\",\"#1a9641\",\"#1a9641\",\"#1a9641\",\"#1a9641\",\"#1a9641\",\"#1a9641\",\"#1a9641\",\"#1a9641\",\"#1a9641\",\"#1a9641\",\"#1a9641\",\"#1a9641\",\"#1a9641\",\"#1a9641\",\"#1a9641\",\"#1a9641\",\"#1a9641\",\"#1a9641\",\"#1a9641\",\"#1a9641\",\"#1a9641\",\"#1a9641\",\"#1a9641\",\"#1a9641\",\"#1a9641\",\"#1a9641\",\"#1a9641\",\"#1a9641\",\"#1a9641\",\"#1a9641\",\"#1a9641\",\"#1a9641\",\"#1a9641\",\"#1a9641\",\"#1a9641\",\"#1a9641\",\"#1a9641\",\"#1a9641\",\"#1a9641\",\"#1a9641\",\"#1a9641\",\"#1a9641\",\"#1a9641\",\"#1a9641\",\"#1a9641\",\"#1a9641\",\"#1a9641\",\"#1a9641\",\"#1a9641\",\"#1a9641\",\"#1a9641\",\"#1a9641\",\"#1a9641\",\"#1a9641\",\"#1a9641\",\"#1a9641\",\"#1a9641\",\"#1a9641\",\"#1a9641\",\"#1a9641\",\"#1a9641\",\"#1a9641\",\"#1a9641\",\"#1a9641\",\"#1a9641\",\"#1a9641\",\"#1a9641\",\"#1a9641\",\"#1a9641\",\"#1a9641\",\"#1a9641\",\"#1a9641\",\"#1a9641\",\"#1a9641\",\"#1a9641\",\"#1a9641\",\"#1a9641\",\"#1a9641\",\"#1a9641\",\"#1a9641\",\"#1a9641\",\"#1a9641\",\"#1a9641\",\"#1a9641\",\"#1a9641\",\"#1a9641\",\"#1a9641\",\"#1a9641\",\"#1a9641\",\"#1a9641\",\"#1a9641\",\"#1a9641\",\"#1a9641\",\"#1a9641\",\"#1a9641\",\"#1a9641\",\"#1a9641\",\"#1a9641\",\"#1a9641\",\"#1a9641\",\"#1a9641\",\"#1a9641\",\"#1a9641\",\"#1a9641\",\"#1a9641\",\"#1a9641\",\"#1a9641\",\"#1a9641\",\"#1a9641\",\"#1a9641\",\"#1a9641\",\"#1a9641\",\"#1a9641\",\"#1a9641\",\"#1a9641\",\"#1a9641\",\"#1a9641\",\"#1a9641\",\"#1a9641\",\"#1a9641\",\"#1a9641\",\"#1a9641\",\"#1a9641\",\"#1a9641\",\"#1a9641\",\"#1a9641\",\"#1a9641\",\"#1a9641\",\"#1a9641\",\"#1a9641\",\"#1a9641\",\"#1a9641\",\"#1a9641\",\"#1a9641\",\"#1a9641\",\"#1a9641\",\"#1a9641\",\"#1a9641\",\"#1a9641\",\"#1a9641\",\"#1a9641\",\"#1a9641\",\"#1a9641\",\"#1a9641\",\"#1a9641\",\"#1a9641\",\"#1a9641\",\"#1a9641\",\"#1a9641\",\"#1a9641\",\"#1a9641\",\"#1a9641\",\"#1a9641\",\"#1a9641\",\"#1a9641\",\"#1a9641\",\"#1a9641\",\"#1a9641\",\"#1a9641\",\"#1a9641\",\"#1a9641\",\"#1a9641\",\"#1a9641\",\"#1a9641\",\"#1a9641\",\"#1a9641\",\"#1a9641\",\"#1a9641\",\"#1a9641\",\"#1a9641\",\"#1a9641\",\"#1a9641\",\"#1a9641\",\"#1a9641\",\"#1a9641\",\"#1a9641\",\"#1a9641\",\"#1a9641\",\"#1a9641\",\"#1a9641\",\"#1a9641\",\"#1a9641\",\"#1a9641\",\"#1a9641\",\"#1a9641\",\"#1a9641\",\"#1a9641\",\"#1a9641\",\"#1a9641\",\"#1a9641\",\"#1a9641\",\"#1a9641\",\"#1a9641\",\"#1a9641\",\"#1a9641\",\"#1a9641\",\"#1a9641\",\"#1a9641\",\"#1a9641\",\"#1a9641\",\"#1a9641\",\"#1a9641\",\"#1a9641\",\"#1a9641\",\"#1a9641\",\"#1a9641\",\"#1a9641\",\"#1a9641\",\"#1a9641\",\"#1a9641\",\"#1a9641\",\"#1a9641\",\"#1a9641\",\"#1a9641\",\"#1a9641\",\"#1a9641\",\"#1a9641\",\"#1a9641\",\"#1a9641\",\"#1a9641\",\"#1a9641\",\"#1a9641\",\"#1a9641\",\"#1a9641\",\"#1a9641\",\"#1a9641\",\"#1a9641\",\"#1a9641\",\"#1a9641\",\"#1a9641\",\"#1a9641\",\"#1a9641\",\"#1a9641\",\"#1a9641\",\"#1a9641\",\"#1a9641\",\"#1a9641\",\"#1a9641\",\"#1a9641\",\"#1a9641\",\"#1a9641\",\"#1a9641\",\"#1a9641\",\"#1a9641\",\"#1a9641\",\"#1a9641\",\"#1a9641\",\"#1a9641\",\"#1a9641\",\"#1a9641\",\"#1a9641\",\"#1a9641\",\"#1a9641\",\"#1a9641\",\"#1a9641\",\"#1a9641\",\"#1a9641\",\"#1a9641\",\"#1a9641\",\"#1a9641\",\"#1a9641\",\"#1a9641\",\"#1a9641\",\"#1a9641\",\"#1a9641\",\"#1a9641\",\"#1a9641\",\"#1a9641\",\"#1a9641\",\"#1a9641\",\"#1a9641\",\"#1a9641\",\"#1a9641\",\"#1a9641\",\"#1a9641\",\"#1a9641\",\"#1a9641\",\"#1a9641\",\"#1a9641\",\"#1a9641\",\"#1a9641\",\"#1a9641\",\"#1a9641\",\"#1a9641\",\"#1a9641\",\"#1a9641\",\"#1a9641\",\"#1a9641\",\"#1a9641\",\"#1a9641\",\"#1a9641\",\"#1a9641\",\"#1a9641\",\"#1a9641\",\"#1a9641\",\"#1a9641\",\"#1a9641\",\"#1a9641\",\"#1a9641\",\"#1a9641\",\"#1a9641\",\"#1a9641\",\"#1a9641\",\"#1a9641\",\"#1a9641\",\"#1a9641\",\"#1a9641\",\"#1a9641\",\"#1a9641\",\"#1a9641\",\"#1a9641\",\"#1a9641\",\"#1a9641\",\"#1a9641\",\"#1a9641\",\"#1a9641\",\"#1a9641\",\"#1a9641\",\"#1a9641\",\"#1a9641\",\"#1a9641\",\"#1a9641\",\"#1a9641\",\"#1a9641\",\"#1a9641\",\"#1a9641\",\"#1a9641\",\"#1a9641\",\"#1a9641\",\"#1a9641\",\"#1a9641\",\"#1a9641\",\"#1a9641\",\"#1a9641\",\"#1a9641\",\"#1a9641\",\"#1a9641\",\"#1a9641\",\"#1a9641\",\"#1a9641\",\"#1a9641\",\"#1a9641\",\"#1a9641\",\"#1a9641\",\"#1a9641\",\"#1a9641\",\"#1a9641\",\"#1a9641\",\"#1a9641\",\"#1a9641\",\"#1a9641\",\"#1a9641\",\"#1a9641\",\"#1a9641\",\"#1a9641\",\"#1a9641\",\"#1a9641\",\"#1a9641\",\"#1a9641\",\"#1a9641\",\"#1a9641\",\"#1a9641\",\"#1a9641\",\"#1a9641\",\"#1a9641\",\"#1a9641\",\"#1a9641\",\"#1a9641\",\"#1a9641\",\"#1a9641\",\"#1a9641\",\"#1a9641\",\"#1a9641\",\"#1a9641\",\"#1a9641\",\"#1a9641\",\"#1a9641\",\"#1a9641\",\"#1a9641\",\"#1a9641\",\"#1a9641\",\"#1a9641\",\"#1a9641\",\"#1a9641\",\"#1a9641\",\"#1a9641\",\"#1a9641\",\"#1a9641\",\"#1a9641\",\"#1a9641\",\"#1a9641\",\"#1a9641\",\"#1a9641\",\"#1a9641\",\"#1a9641\",\"#1a9641\",\"#1a9641\",\"#1a9641\",\"#1a9641\",\"#1a9641\",\"#1a9641\",\"#1a9641\",\"#1a9641\",\"#1a9641\",\"#1a9641\",\"#1a9641\",\"#1a9641\",\"#1a9641\",\"#1a9641\",\"#1a9641\",\"#1a9641\",\"#1a9641\",\"#1a9641\",\"#1a9641\",\"#1a9641\",\"#1a9641\",\"#1a9641\",\"#1a9641\",\"#1a9641\",\"#1a9641\",\"#1a9641\",\"#1a9641\",\"#1a9641\",\"#1a9641\",\"#1a9641\",\"#1a9641\",\"#1a9641\",\"#1a9641\",\"#1a9641\",\"#1a9641\",\"#1a9641\",\"#1a9641\",\"#1a9641\",\"#1a9641\",\"#1a9641\",\"#1a9641\",\"#1a9641\",\"#1a9641\",\"#1a9641\",\"#1a9641\",\"#1a9641\",\"#1a9641\",\"#1a9641\",\"#1a9641\",\"#1a9641\",\"#1a9641\",\"#1a9641\",\"#1a9641\",\"#1a9641\",\"#1a9641\",\"#1a9641\",\"#1a9641\",\"#1a9641\",\"#1a9641\",\"#1a9641\",\"#1a9641\",\"#1a9641\",\"#1a9641\",\"#1a9641\",\"#1a9641\",\"#1a9641\",\"#1a9641\",\"#1a9641\",\"#1a9641\",\"#1a9641\",\"#1a9641\",\"#1a9641\",\"#1a9641\",\"#1a9641\",\"#1a9641\",\"#1a9641\",\"#1a9641\",\"#1a9641\",\"#1a9641\",\"#1a9641\",\"#1a9641\",\"#1a9641\",\"#1a9641\",\"#1a9641\",\"#1a9641\",\"#1a9641\",\"#1a9641\",\"#1a9641\",\"#1a9641\",\"#1a9641\",\"#1a9641\",\"#1a9641\",\"#1a9641\",\"#1a9641\",\"#1a9641\",\"#1a9641\",\"#1a9641\",\"#1a9641\",\"#1a9641\",\"#1a9641\",\"#1a9641\",\"#1a9641\",\"#1a9641\",\"#1a9641\",\"#1a9641\",\"#1a9641\",\"#1a9641\",\"#1a9641\",\"#1a9641\",\"#1a9641\",\"#1a9641\",\"#1a9641\",\"#1a9641\",\"#1a9641\",\"#1a9641\",\"#1a9641\",\"#1a9641\",\"#1a9641\",\"#1a9641\",\"#1a9641\",\"#1a9641\",\"#1a9641\",\"#1a9641\",\"#1a9641\",\"#1a9641\",\"#1a9641\",\"#1a9641\",\"#1a9641\",\"#1a9641\",\"#1a9641\",\"#1a9641\",\"#1a9641\",\"#1a9641\",\"#1a9641\",\"#1a9641\",\"#1a9641\",\"#1a9641\",\"#1a9641\",\"#1a9641\",\"#1a9641\",\"#1a9641\",\"#1a9641\",\"#1a9641\",\"#1a9641\",\"#1a9641\",\"#1a9641\",\"#1a9641\",\"#1a9641\",\"#1a9641\",\"#1a9641\",\"#1a9641\",\"#1a9641\",\"#1a9641\",\"#1a9641\",\"#1a9641\",\"#1a9641\",\"#1a9641\",\"#1a9641\",\"#1a9641\",\"#1a9641\",\"#1a9641\",\"#1a9641\",\"#1a9641\",\"#1a9641\",\"#1a9641\",\"#1a9641\",\"#1a9641\",\"#1a9641\",\"#1a9641\",\"#1a9641\",\"#1a9641\",\"#1a9641\",\"#1a9641\",\"#1a9641\",\"#1a9641\",\"#1a9641\",\"#1a9641\",\"#1a9641\",\"#1a9641\",\"#1a9641\",\"#1a9641\",\"#1a9641\",\"#1a9641\",\"#1a9641\",\"#1a9641\",\"#1a9641\",\"#1a9641\",\"#1a9641\",\"#1a9641\",\"#1a9641\",\"#1a9641\",\"#1a9641\",\"#1a9641\",\"#1a9641\",\"#1a9641\",\"#1a9641\",\"#1a9641\",\"#1a9641\",\"#1a9641\",\"#1a9641\",\"#1a9641\",\"#1a9641\",\"#1a9641\",\"#1a9641\",\"#1a9641\",\"#1a9641\",\"#1a9641\",\"#1a9641\",\"#1a9641\",\"#1a9641\",\"#1a9641\",\"#1a9641\",\"#1a9641\",\"#1a9641\",\"#1a9641\",\"#1a9641\",\"#1a9641\",\"#1a9641\",\"#1a9641\",\"#1a9641\",\"#1a9641\",\"#1a9641\",\"#1a9641\",\"#1a9641\",\"#1a9641\",\"#1a9641\",\"#1a9641\",\"#1a9641\",\"#1a9641\",\"#1a9641\",\"#1a9641\",\"#1a9641\",\"#1a9641\",\"#1a9641\",\"#1a9641\",\"#1a9641\",\"#1a9641\",\"#1a9641\",\"#1a9641\",\"#1a9641\",\"#1a9641\",\"#1a9641\",\"#1a9641\",\"#1a9641\",\"#1a9641\",\"#1a9641\",\"#1a9641\",\"#1a9641\",\"#1a9641\",\"#1a9641\",\"#1a9641\",\"#1a9641\",\"#1a9641\",\"#1a9641\",\"#1a9641\",\"#1a9641\",\"#1a9641\",\"#1a9641\",\"#1a9641\",\"#1a9641\",\"#1a9641\",\"#1a9641\",\"#1a9641\",\"#1a9641\",\"#1a9641\",\"#1a9641\",\"#1a9641\",\"#1a9641\",\"#1a9641\",\"#1a9641\",\"#1a9641\",\"#1a9641\",\"#1a9641\",\"#1a9641\",\"#1a9641\",\"#1a9641\",\"#1a9641\",\"#1a9641\",\"#1a9641\",\"#1a9641\",\"#1a9641\",\"#1a9641\",\"#1a9641\",\"#1a9641\",\"#1a9641\",\"#1a9641\",\"#1a9641\",\"#1a9641\",\"#1a9641\",\"#1a9641\",\"#1a9641\",\"#1a9641\",\"#1a9641\",\"#1a9641\",\"#1a9641\",\"#1a9641\",\"#1a9641\",\"#1a9641\",\"#1a9641\",\"#1a9641\",\"#1a9641\",\"#1a9641\",\"#1a9641\",\"#1a9641\",\"#1a9641\",\"#1a9641\",\"#1a9641\",\"#1a9641\",\"#1a9641\",\"#1a9641\",\"#1a9641\",\"#1a9641\",\"#1a9641\",\"#1a9641\",\"#1a9641\",\"#1a9641\",\"#1a9641\",\"#1a9641\",\"#1a9641\",\"#1a9641\",\"#1a9641\",\"#1a9641\",\"#1a9641\",\"#1a9641\",\"#1a9641\",\"#1a9641\",\"#1a9641\",\"#1a9641\",\"#1a9641\",\"#1a9641\",\"#1a9641\",\"#1a9641\",\"#1a9641\",\"#1a9641\",\"#1a9641\",\"#1a9641\",\"#1a9641\",\"#1a9641\",\"#1a9641\",\"#1a9641\",\"#1a9641\",\"#1a9641\",\"#1a9641\",\"#1a9641\",\"#1a9641\",\"#1a9641\",\"#1a9641\",\"#1a9641\",\"#1a9641\",\"#1a9641\",\"#1a9641\",\"#1a9641\",\"#1a9641\",\"#1a9641\",\"#1a9641\",\"#1a9641\",\"#1a9641\",\"#1a9641\",\"#1a9641\",\"#1a9641\",\"#1a9641\",\"#1a9641\",\"#1a9641\",\"#1a9641\",\"#1a9641\",\"#1a9641\",\"#1a9641\",\"#1a9641\",\"#1a9641\",\"#1a9641\",\"#1a9641\",\"#1a9641\",\"#1a9641\",\"#1a9641\",\"#1a9641\",\"#1a9641\",\"#1a9641\",\"#1a9641\",\"#1a9641\",\"#1a9641\",\"#1a9641\",\"#1a9641\",\"#1a9641\",\"#1a9641\",\"#1a9641\",\"#1a9641\",\"#1a9641\",\"#1a9641\",\"#1a9641\",\"#1a9641\",\"#1a9641\",\"#1a9641\",\"#1a9641\",\"#1a9641\",\"#1a9641\",\"#1a9641\",\"#1a9641\",\"#1a9641\",\"#1a9641\",\"#1a9641\",\"#1a9641\",\"#1a9641\",\"#1a9641\",\"#1a9641\",\"#1a9641\",\"#1a9641\",\"#1a9641\",\"#1a9641\",\"#1a9641\",\"#1a9641\",\"#1a9641\",\"#1a9641\",\"#1a9641\",\"#1a9641\",\"#1a9641\",\"#1a9641\",\"#1a9641\",\"#1a9641\",\"#1a9641\",\"#1a9641\",\"#1a9641\",\"#1a9641\",\"#1a9641\",\"#1a9641\",\"#1a9641\",\"#1a9641\",\"#1a9641\",\"#1a9641\",\"#1a9641\",\"#1a9641\",\"#1a9641\",\"#1a9641\",\"#1a9641\",\"#1a9641\",\"#1a9641\",\"#1a9641\",\"#1a9641\",\"#1a9641\",\"#1a9641\",\"#1a9641\",\"#1a9641\",\"#1a9641\",\"#1a9641\",\"#1a9641\",\"#1a9641\",\"#1a9641\",\"#1a9641\",\"#1a9641\",\"#1a9641\",\"#1a9641\",\"#1a9641\",\"#1a9641\",\"#1a9641\",\"#1a9641\",\"#1a9641\",\"#1a9641\",\"#1a9641\",\"#1a9641\",\"#1a9641\",\"#1a9641\",\"#1a9641\",\"#1a9641\",\"#1a9641\",\"#1a9641\",\"#1a9641\",\"#1a9641\",\"#1a9641\",\"#1a9641\",\"#1a9641\",\"#1a9641\",\"#1a9641\",\"#1a9641\",\"#1a9641\",\"#1a9641\",\"#1a9641\",\"#1a9641\",\"#1a9641\",\"#1a9641\",\"#1a9641\",\"#1a9641\",\"#1a9641\",\"#1a9641\",\"#1a9641\",\"#1a9641\",\"#1a9641\",\"#1a9641\",\"#1a9641\",\"#1a9641\",\"#1a9641\",\"#1a9641\",\"#1a9641\",\"#1a9641\",\"#1a9641\",\"#1a9641\",\"#1a9641\",\"#1a9641\",\"#1a9641\",\"#1a9641\",\"#1a9641\",\"#1a9641\",\"#1a9641\",\"#1a9641\",\"#1a9641\",\"#1a9641\",\"#1a9641\",\"#1a9641\",\"#1a9641\",\"#1a9641\",\"#1a9641\",\"#1a9641\",\"#1a9641\",\"#1a9641\",\"#1a9641\",\"#1a9641\",\"#1a9641\",\"#1a9641\",\"#1a9641\",\"#1a9641\",\"#1a9641\",\"#1a9641\",\"#1a9641\",\"#1a9641\",\"#1a9641\",\"#1a9641\",\"#1a9641\",\"#1a9641\",\"#1a9641\",\"#1a9641\",\"#1a9641\",\"#1a9641\",\"#1a9641\",\"#1a9641\",\"#1a9641\",\"#1a9641\",\"#1a9641\",\"#1a9641\",\"#1a9641\",\"#1a9641\",\"#1a9641\",\"#1a9641\",\"#1a9641\",\"#1a9641\",\"#1a9641\",\"#1a9641\",\"#1a9641\",\"#1a9641\",\"#1a9641\",\"#1a9641\",\"#1a9641\",\"#1a9641\",\"#1a9641\",\"#1a9641\",\"#1a9641\",\"#1a9641\",\"#1a9641\",\"#1a9641\",\"#1a9641\",\"#1a9641\",\"#1a9641\",\"#1a9641\",\"#1a9641\",\"#1a9641\",\"#1a9641\",\"#1a9641\",\"#1a9641\",\"#1a9641\",\"#1a9641\",\"#1a9641\",\"#1a9641\",\"#1a9641\",\"#1a9641\",\"#1a9641\",\"#1a9641\",\"#1a9641\",\"#1a9641\",\"#1a9641\",\"#1a9641\",\"#1a9641\",\"#1a9641\",\"#1a9641\",\"#1a9641\",\"#1a9641\",\"#1a9641\",\"#1a9641\",\"#1a9641\",\"#1a9641\",\"#1a9641\",\"#1a9641\",\"#1a9641\",\"#1a9641\",\"#1a9641\",\"#1a9641\",\"#1a9641\",\"#1a9641\",\"#1a9641\",\"#1a9641\",\"#1a9641\",\"#1a9641\",\"#1a9641\",\"#1a9641\",\"#1a9641\",\"#1a9641\",\"#1a9641\",\"#1a9641\",\"#1a9641\",\"#1a9641\",\"#1a9641\",\"#1a9641\",\"#1a9641\",\"#1a9641\",\"#1a9641\",\"#1a9641\",\"#1a9641\",\"#1a9641\",\"#1a9641\",\"#1a9641\",\"#1a9641\",\"#1a9641\",\"#1a9641\",\"#1a9641\",\"#1a9641\",\"#1a9641\",\"#1a9641\",\"#1a9641\",\"#1a9641\",\"#1a9641\",\"#1a9641\",\"#1a9641\",\"#1a9641\",\"#1a9641\",\"#1a9641\",\"#1a9641\",\"#1a9641\",\"#1a9641\",\"#1a9641\",\"#1a9641\",\"#1a9641\",\"#1a9641\",\"#1a9641\",\"#1a9641\",\"#1a9641\",\"#1a9641\",\"#1a9641\",\"#1a9641\",\"#1a9641\",\"#1a9641\",\"#1a9641\",\"#1a9641\",\"#1a9641\",\"#1a9641\",\"#1a9641\",\"#1a9641\",\"#1a9641\",\"#1a9641\",\"#1a9641\",\"#1a9641\",\"#1a9641\",\"#1a9641\",\"#1a9641\",\"#1a9641\",\"#1a9641\",\"#1a9641\",\"#1a9641\",\"#1a9641\",\"#1a9641\",\"#1a9641\",\"#1a9641\",\"#1a9641\",\"#1a9641\",\"#1a9641\",\"#1a9641\",\"#1a9641\",\"#1a9641\",\"#1a9641\",\"#1a9641\",\"#1a9641\",\"#1a9641\",\"#1a9641\",\"#1a9641\",\"#1a9641\",\"#1a9641\",\"#1a9641\"],\"gene_id\":[\"ACTG1\",\"ACVR1B\",\"ACVR2B\",\"ADA\",\"ADCY9\",\"ADORA2A\",\"ADRB2\",\"GRK2\",\"AHR\",\"ALOX5AP\",\"AMPD2\",\"ANXA1\",\"APBB1\",\"APOC2\",\"ARF1\",\"ARF3\",\"ARF6\",\"RHOB\",\"RHOG\",\"ARHGAP1\",\"ARHGDIB\",\"ARNT\",\"ARRB1\",\"ARRB2\",\"ARSB\",\"STS\",\"ATF3\",\"ATP1B3\",\"ATP2B1\",\"ATP6V1B2\",\"BACH1\",\"BARD1\",\"BBS4\",\"BCL2\",\"BCL3\",\"BCL6\",\"BDNF\",\"BID\",\"PRDM1\",\"BNIP1\",\"BRCA1\",\"ZFP36L2\",\"BTG1\",\"BTK\",\"C3AR1\",\"CALM1\",\"CASP9\",\"CASP10\",\"CAT\",\"CBFA2T3\",\"RUNX3\",\"CBFB\",\"CBL\",\"CBR1\",\"CCNA2\",\"CCND2\",\"CCND3\",\"CCNF\",\"CCNG2\",\"CCNT1\",\"CD1D\",\"MS4A3\",\"CD86\",\"CDKN1A\",\"CDKN1B\",\"CDKN2B\",\"CDKN2D\",\"CEBPD\",\"CEBPG\",\"CENPA\",\"CHD4\",\"FOXN3\",\"CHML\",\"CHRM5\",\"CISH\",\"CLCN6\",\"CCR1\",\"KLF6\",\"SLC31A1\",\"CREM\",\"CSF1R\",\"CSNK1E\",\"CTNS\",\"CTSB\",\"CTSG\",\"CTSZ\",\"CUX1\",\"CX3CR1\",\"CYB5A\",\"CYP51A1\",\"DAD1\",\"CD55\",\"DAG1\",\"GADD45A\",\"DDX3X\",\"DDX6\",\"DLAT\",\"DLST\",\"DOCK2\",\"ARID3A\",\"RCAN1\",\"TSC22D3\",\"HBEGF\",\"DUSP1\",\"DUSP3\",\"DUSP6\",\"DVL1\",\"TOR1A\",\"E2F2\",\"E4F1\",\"GPR183\",\"EFNA3\",\"EGR1\",\"EGR2\",\"EGR3\",\"EIF2S3\",\"EIF4EBP1\",\"EIF4EBP2\",\"ELF4\",\"ELK4\",\"EMP1\",\"ENG\",\"ETF1\",\"ETV5\",\"EVI2A\",\"EZH2\",\"ACSL4\",\"PTK2B\",\"FANCF\",\"FCGR2A\",\"FGR\",\"FKBP5\",\"FLT3\",\"FOS\",\"FOSB\",\"FPR2\",\"FTH1\",\"FTL\",\"FUT4\",\"FUT7\",\"FYB1\",\"GALK1\",\"GAPDH\",\"GAS6\",\"GAS8\",\"GBP2\",\"GEM\",\"B4GALT1\",\"GLS\",\"GLRX\",\"GLUL\",\"GMFB\",\"GNAQ\",\"GNS\",\"GOLGB1\",\"CXCR3\",\"NR3C1\",\"ARHGAP35\",\"GSK3B\",\"GSS\",\"GTF2F1\",\"GUSB\",\"H3-3B\",\"HAL\",\"HIC1\",\"HIF1A\",\"HLX\",\"HMGB3\",\"HMGCS1\",\"NR4A1\",\"HMX2\",\"HNRNPA1\",\"HNRNPA2B1\",\"HNRNPF\",\"HNRNPU\",\"HSPA5\",\"HSPA9\",\"HSP90AA1\",\"DNAJB1\",\"HTR7\",\"IARS1\",\"ICAM4\",\"IDI1\",\"IFNAR1\",\"IGFBP4\",\"IGFBP7\",\"IL1B\",\"IL1RAP\",\"IL1RN\",\"IL7R\",\"IL10RA\",\"IL13RA1\",\"INHBA\",\"INPP5D\",\"INSIG1\",\"IREB2\",\"IRF1\",\"IRF2\",\"IRF5\",\"ITGAL\",\"ITGB1\",\"ITPKB\",\"JUN\",\"JUNB\",\"JUND\",\"CD82\",\"KCNG1\",\"KCNN2\",\"IPO5\",\"KRAS\",\"LAMC1\",\"LASP1\",\"LBR\",\"LCP1\",\"LDHA\",\"LIF\",\"LMNA\",\"LPP\",\"CD180\",\"LYN\",\"LYZ\",\"MXD1\",\"SMAD3\",\"SMAD7\",\"MAFG\",\"MBP\",\"MCL1\",\"MCM4\",\"MCM6\",\"MCM7\",\"CD46\",\"MDK\",\"MDM2\",\"MEA1\",\"MECP2\",\"MAP3K1\",\"MAP3K3\",\"MGAT1\",\"MGAT2\",\"MGAT5\",\"KMT2A\",\"AFDN\",\"MMP14\",\"MPP2\",\"MSN\",\"MTHFR\",\"MX2\",\"MXI1\",\"MYBPH\",\"GADD45B\",\"MYL6\",\"NAB1\",\"NAB2\",\"NAGA\",\"NDUFA1\",\"NDUFB1\",\"NDUFS6\",\"SEPTIN2\",\"RPL10A\",\"NFE2\",\"NFIC\",\"NFIL3\",\"NFIX\",\"NFKBIA\",\"NIT1\",\"NKTR\",\"PNP\",\"NT5E\",\"NUP98\",\"NR4A2\",\"ODC1\",\"OLR1\",\"OPA1\",\"ORC1\",\"OSM\",\"P2RX1\",\"P2RY2\",\"P2RY6\",\"P4HB\",\"FURIN\",\"PAFAH1B2\",\"PCDHGC3\",\"PDE4A\",\"PDE4D\",\"PDGFA\",\"PDGFB\",\"ENPP2\",\"PER1\",\"PFDN1\",\"PFDN2\",\"PFKFB3\",\"PGD\",\"SERPINB8\",\"PIK3C2B\",\"PIM1\",\"PIK3CG\",\"PIK3R1\",\"PI4KB\",\"PITPNA\",\"PLAU\",\"PLAUR\",\"PLCB2\",\"PLCG1\",\"PLEC\",\"PLSCR1\",\"PLXNA1\",\"PMAIP1\",\"PMS2P3\",\"POLR2C\",\"POU2F1\",\"PPARA\",\"PPARD\",\"PPM1A\",\"PPP2R5C\",\"PPP4C\",\"SRGN\",\"PRIM1\",\"PRKAB2\",\"PKIB\",\"PRKAG1\",\"PRKAR1A\",\"PRKCB\",\"PRKCD\",\"PRKCE\",\"MAPK6\",\"MAPK8\",\"MAP2K3\",\"PSAP\",\"PSMA1\",\"PTAFR\",\"PTEN\",\"PTGER4\",\"PTGS2\",\"PTPN6\",\"PTPN7\",\"PTPN11\",\"PTPN14\",\"PTPRA\",\"PTPRE\",\"NECTIN1\",\"QARS1\",\"RAB3A\",\"RAB5B\",\"RAC2\",\"RALA\",\"RARA\",\"RARG\",\"KDM5A\",\"RELB\",\"REST\",\"RGS1\",\"RGS2\",\"RGS16\",\"RNF6\",\"RPL4\",\"RPL29\",\"RPL37\",\"RPS2\",\"RPS5\",\"RPS6\",\"RPS6KA1\",\"RPS15\",\"RPS16\",\"RRM1\",\"RTKN\",\"S100A10\",\"SAT1\",\"ATXN1\",\"SCD\",\"CLEC11A\",\"CCL2\",\"SDCBP\",\"SEL1L\",\"SIAH2\",\"SLA\",\"SLC2A1\",\"SLC2A3\",\"SLC5A3\",\"SLC15A2\",\"SMARCD1\",\"SMARCD2\",\"SNAI1\",\"FSCN1\",\"SNRPG\",\"SNX1\",\"SOD2\",\"SOX4\",\"SOX12\",\"SP3\",\"SPAST\",\"SPR\",\"SRP9\",\"SRPK1\",\"SSB\",\"STAT2\",\"STAT6\",\"STK4\",\"AURKA\",\"AURKAP1\",\"STX3\",\"SYK\",\"SYPL1\",\"TAF5\",\"TAF11\",\"DYNLT1\",\"TEAD3\",\"TEF\",\"TFAM\",\"TFCP2\",\"TFDP1\",\"TGFBI\",\"THBD\",\"THBS1\",\"KLF10\",\"TK2\",\"TLR2\",\"TMSB4X\",\"TNFAIP2\",\"TNFAIP3\",\"TNFRSF1B\",\"TOP3A\",\"TPM3\",\"TPM4\",\"TPR\",\"NR2C2\",\"TRAF1\",\"TRAF3\",\"TRAF6\",\"CCT3\",\"TRIP6\",\"DNAJC7\",\"TTF1\",\"TUBA4A\",\"TXNRD1\",\"TYROBP\",\"UBP1\",\"UBTF\",\"UGP2\",\"UCK2\",\"UPP1\",\"VGF\",\"EZR\",\"WIPF1\",\"LAT2\",\"WT1\",\"XBP1\",\"XPC\",\"XPNPEP1\",\"XPO1\",\"XRCC3\",\"YWHAH\",\"YWHAZ\",\"ZFP36\",\"ZBTB14\",\"ZFX\",\"ZNF20\",\"ZNF24\",\"ZNF26\",\"ZSCAN20\",\"ZNF37A\",\"ZNF76\",\"ZNF221\",\"ZNF91\",\"ZNF124\",\"ZNF142\",\"ZNF146\",\"TRIM25\",\"ZKSCAN8\",\"SLC30A1\",\"ZXDA\",\"LAPTM5\",\"DAP3\",\"BTG2\",\"CXCR4\",\"FZD5\",\"ST8SIA4\",\"NR4A3\",\"BRD3\",\"MLF2\",\"KMT2D\",\"CDK2AP1\",\"GPR68\",\"SLC7A5\",\"SYMPK\",\"NRIP1\",\"ESS2\",\"AKAP17A\",\"SNN\",\"AXIN2\",\"PIP5K1A\",\"EEA1\",\"STX7\",\"CMAHP\",\"UTF1\",\"ATRN\",\"SMARCA5\",\"OGT\",\"MAP4K3\",\"ENC1\",\"GAS7\",\"DGKZ\",\"DGKE\",\"DGKD\",\"CST7\",\"COPS3\",\"PDXK\",\"MKNK1\",\"UNC5C\",\"OASL\",\"PCDHGB4\",\"DDX3Y\",\"IRS2\",\"EIF3H\",\"PEA15\",\"GALNT4\",\"TNFSF14\",\"TNFSF9\",\"RIPK2\",\"SNAP23\",\"NAPA\",\"TNFRSF10D\",\"TNFRSF10B\",\"CCNK\",\"DPM1\",\"CES2\",\"CD84\",\"CDK5R1\",\"LDB1\",\"DDX18\",\"EIF2B5\",\"HERC3\",\"HERC1\",\"AP3D1\",\"MPZL1\",\"SOCS3\",\"DOK2\",\"PSTPIP2\",\"LATS1\",\"PRPF4\",\"ARHGEF2\",\"ZW10\",\"BUB3\",\"CCPG1\",\"NOG\",\"STK17B\",\"COPB2\",\"SNORD30\",\"CD83\",\"NREP\",\"B4GALT6\",\"TGM5\",\"B4GALT5\",\"UBE4A\",\"LONP1\",\"CIAO1\",\"HS6ST1\",\"SNRNP40\",\"MED26\",\"THEMIS2\",\"EEF1E1\",\"SCAMP1\",\"RAB3D\",\"MRPL33\",\"MACROH2A1\",\"IER2\",\"CYTIP\",\"RNF14\",\"SEC24C\",\"ZNF592\",\"MTFR1\",\"IQCB1\",\"LPIN2\",\"PHF14\",\"FAM53B\",\"EDEM1\",\"KIAA0100\",\"PCDHGA8\",\"HERPUD1\",\"RUBCN\",\"KNTC1\",\"SLK\",\"ATG13\",\"KIAA0232\",\"PTDSS1\",\"SERTAD2\",\"TATDN2\",\"MRPL19\",\"DAZAP2\",\"RNF40\",\"ZBTB24\",\"GAB2\",\"TLK1\",\"WASHC5\",\"SGSM2\",\"KBTBD11\",\"ZBTB5\",\"LPGAT1\",\"MFN2\",\"JOSD1\",\"WDR1\",\"DMTF1\",\"KCNE3\",\"ZBTB33\",\"PDCD6\",\"BCL2L11\",\"SH2B3\",\"FRAT1\",\"RANBP9\",\"FARSB\",\"HUWE1\",\"ACTR3\",\"TSPAN2\",\"PPIF\",\"CTDSP2\",\"KIF20A\",\"ACTR1B\",\"ARL4C\",\"SUGP2\",\"ATP6AP2\",\"WASF2\",\"TSHZ1\",\"TRIM13\",\"USPL1\",\"EIF1\",\"TRIB1\",\"SPRY1\",\"DENND4A\",\"EIF1B\",\"SF3A1\",\"TRAIP\",\"ZNF267\",\"IKZF1\",\"EMC8\",\"KLF2\",\"CITED2\",\"ST3GAL6\",\"CDIPT\",\"MCRS1\",\"SLC30A9\",\"TRIM38\",\"CAP1\",\"TM9SF1\",\"MRPL28\",\"CCT7\",\"IFITM2\",\"ARID3B\",\"TXNIP\",\"TCFL5\",\"KDM5B\",\"AHCYL1\",\"PLK2\",\"ZBTB6\",\"POP4\",\"ZNF266\",\"ZNF274\",\"NEK6\",\"ZNF268\",\"CYSLTR1\",\"FRS2\",\"TUBGCP2\",\"PGRMC1\",\"ARID5A\",\"FGL2\",\"RAB10\",\"TRAFD1\",\"PAPOLA\",\"MORF4L1\",\"MSL3\",\"ERP29\",\"EBNA1BP2\",\"RAB32\",\"ILVBL\",\"ATF7\",\"DSTN\",\"PIM2\",\"ADRM1\",\"WDR5\",\"RCAN3\",\"CDC37\",\"NUDT4\",\"STRAP\",\"RASSF1\",\"AKAP2\",\"GALNT6\",\"HPS5\",\"DUSP12\",\"PHB2\",\"EXOC3\",\"CASC3\",\"ATF5\",\"PHLDA1\",\"SCAF8\",\"ZNF652\",\"AAK1\",\"ADNP2\",\"LMTK2\",\"FOXJ3\",\"SEPHS2\",\"SLC4A1AP\",\"KDM2A\",\"STK38L\",\"SPEN\",\"XPO7\",\"GGA2\",\"WAPL\",\"EMC1\",\"SETD1B\",\"UHRF1BP1L\",\"TRIM35\",\"ZBTB43\",\"TBC1D2B\",\"TNRC6B\",\"HIC2\",\"CAMTA2\",\"KDM6B\",\"SEPTIN6\",\"WDR43\",\"METAP1\",\"FAF2\",\"GSE1\",\"PLEKHM2\",\"RHOBTB2\",\"RRP12\",\"SEL1L3\",\"SIK2\",\"ANKRD28\",\"PDS5A\",\"RPRD2\",\"MINAR1\",\"ZC3H7B\",\"POFUT2\",\"KLHL18\",\"WWC1\",\"NEMP1\",\"ICOSLG\",\"KIAA0930\",\"SATB2\",\"MAN2B2\",\"WASHC4\",\"SASH1\",\"JADE2\",\"FRAT2\",\"SIRT1\",\"RYBP\",\"ABCB10\",\"CBX5\",\"PES1\",\"BICRAL\",\"MORC3\",\"RPL13A\",\"MMD\",\"PIK3R5\",\"OPN3\",\"KCNE5\",\"CEMIP2\",\"GABARAPL1\",\"MAFF\",\"IL17RA\",\"MTCH1\",\"LAMP5\",\"PANX1\",\"HYPK\",\"SUN2\",\"RASGRP3\",\"LSM4\",\"METTL7A\",\"DCAF12\",\"INTS7\",\"RCHY1\",\"ATL3\",\"SAMHD1\",\"UNC50\",\"PARS2\",\"MMACHC\",\"NECAP1\",\"PCDHGA12\",\"GLCE\",\"PPP1R16B\",\"TCTN3\",\"RSL1D1\",\"SENP3\",\"FBXL3\",\"FBXW4P1\",\"FAM162A\",\"AGO1\",\"SNORD36C\",\"CNPPD1\",\"SIGLEC7\",\"TRMT2A\",\"DAPP1\",\"UQCRQ\",\"ARRDC2\",\"CYTH4\",\"SNX5\",\"CPNE7\",\"BRPF3\",\"SIGLEC9\",\"KLHL20\",\"VENTX\",\"CRCP\",\"MOCS3\",\"GOLIM4\",\"MAT2B\",\"RGCC\",\"MCTS1\",\"WDR91\",\"ZBTB44\",\"CCDC59\",\"TBK1\",\"SAP30BP\",\"MYLIP\",\"C11orf21\",\"OLA1\",\"SENP1\",\"HILPDA\",\"SERTAD3\",\"SLC39A3\",\"STOML2\",\"PODXL2\",\"CHST11\",\"IL21R\",\"ARHGEF3\",\"NEUROG3\",\"COPS7A\",\"STMN3\",\"DESI2\",\"ZBTB7B\",\"ABHD17B\",\"ZDHHC9\",\"ZNF706\",\"IER3IP1\",\"CEP83\",\"ING4\",\"NUSAP1\",\"GLTP\",\"VRK3\",\"CCDC174\",\"FAM53C\",\"PLAC8\",\"THEM6\",\"POMP\",\"COMMD10\",\"YTHDF2\",\"RNF138\",\"REV1\",\"UBE2J1\",\"LIMA1\",\"CTDSPL2\",\"CXXC5\",\"JKAMP\",\"ARMCX3\",\"MRPL48\",\"YPEL5\",\"ASB1\",\"SARAF\",\"SUFU\",\"VPS29\",\"MSRB1\",\"PHAX\",\"S1PR5\",\"C21orf91\",\"TREM1\",\"GPR85\",\"SLC38A2\",\"ANLN\",\"MIOS\",\"TOLLIP\",\"SMOX\",\"RHOF\",\"DDIT4\",\"MTMR12\",\"CCNJ\",\"PARP14\",\"MAP10\",\"TBC1D13\",\"RSBN1\",\"XAF1\",\"TRPM4\",\"KLHL24\",\"WBP1L\",\"APTX\",\"SIDT1\",\"TENT5C\",\"PGPEP1\",\"NSUN2\",\"INO80D\",\"MTMR10\",\"SLC66A1\",\"IMPAD1\",\"TMEM161A\",\"RNF125\",\"LPCAT2\",\"ODR4\",\"FAM120C\",\"INTS11\",\"PINX1\",\"LAMTOR1\",\"FAM118A\",\"PPP2R3C\",\"C14orf119\",\"FBXO34\",\"SOBP\",\"SAMD4B\",\"FANCL\",\"ELP3\",\"MSL2\",\"KLHL11\",\"ARL8B\",\"TRIM62\",\"UBA6\",\"PI4K2B\",\"DDX19A\",\"UFSP2\",\"NIPSNAP3B\",\"LSG1\",\"SLC22A15\",\"TBC1D2\",\"PPP4R1L\",\"YOD1\",\"ENOSF1\",\"TENT5A\",\"ANKRD10\",\"OTUB1\",\"ZDHHC7\",\"TBC1D22B\",\"RAB20\",\"SLC48A1\",\"NPLOC4\",\"KANSL3\",\"MREG\",\"FAR2\",\"POLR3E\",\"INTS13\",\"N4BP2\",\"ATF7IP\",\"VPS35\",\"WDR12\",\"ZNF701\",\"INAVA\",\"FOXJ2\",\"CENPJ\",\"CENPN\",\"TMEM165\",\"ASH1L\",\"ZNF395\",\"RNF114\",\"BIN3\",\"APOBR\",\"TMEM234\",\"PCDHGC5\",\"PCDHGC4\",\"PCDHGB7\",\"PCDHGB6\",\"PCDHGB5\",\"PCDHGB3\",\"PCDHGB2\",\"PCDHGB1\",\"PCDHGA11\",\"PCDHGA10\",\"PCDHGA9\",\"PCDHGA7\",\"PCDHGA6\",\"PCDHGA5\",\"PCDHGA4\",\"PCDHGA3\",\"PCDHGA2\",\"PCDHGA1\",\"GPCPD1\",\"DIABLO\",\"BCCIP\",\"POLE4\",\"SAR1A\",\"ZC3HAV1\",\"RAD18\",\"C1GALT1\",\"SMARCAD1\",\"FEM1C\",\"C5orf15\",\"PRDM10\",\"ADPRM\",\"CDC42SE2\",\"YAE1\",\"AGTRAP\",\"ENTPD7\",\"CYSLTR2\",\"NAT14\",\"LPAR5\",\"APMAP\",\"ADCK1\",\"SCYL3\",\"SMURF1\",\"ANKRD50\",\"TTC7A\",\"SNX14\",\"C3orf14\",\"USP31\",\"HEG1\",\"NUFIP2\",\"MIB1\",\"WDR35\",\"TAOK1\",\"NLGN2\",\"ZNF319\",\"ZNF687\",\"BAHCC1\",\"USP36\",\"ZBTB2\",\"EP400\",\"DDX55\",\"GPR107\",\"MS4A7\",\"TP53INP2\",\"ABHD17C\",\"ZNF71\",\"SCAF1\",\"SELENOK\",\"HIVEP3\",\"PRDM12\",\"GNB4\",\"C12orf10\",\"AVPI1\",\"PPCDC\",\"NAA35\",\"ATG101\",\"ABHD4\",\"CXorf56\",\"CRLF2\",\"VSIR\",\"SLC39A8\",\"NOD2\",\"XYLT1\",\"ATL2\",\"MS4A6A\",\"PDLIM2\",\"NSD1\",\"ZMAT3\",\"ZNF106\",\"MPP5\",\"SUDS3\",\"CSRNP1\",\"NUCKS1\",\"UNKL\",\"SMAP2\",\"S100PBP\",\"DDX31\",\"ISL2\",\"SLC13A3\",\"USP46\",\"NABP1\",\"RFX7\",\"MRPS6\",\"PINK1\",\"ACD\",\"MARCKSL1\",\"PHACTR4\",\"FUNDC2\",\"CHID1\",\"AUNIP\",\"TRIR\",\"NOC4L\",\"FTO\",\"RETREG2\",\"PPDPF\",\"PLEKHF1\",\"BRCC3\",\"WDR25\",\"PAGR1\",\"ATP13A3\",\"CEP97\",\"SNRNP25\",\"TMEM53\",\"SRD5A3\",\"MCPH1\",\"TMEM204\",\"ZYG11B\",\"OGFOD3\",\"VPS37B\",\"BBS10\",\"ASB13\",\"KLHL36\",\"ARMC5\",\"NAA40\",\"ZMYM1\",\"ZC3H14\",\"RIN3\",\"ATP8B4\",\"ZNF696\",\"ERMP1\",\"AGPAT4-IT1\",\"PHC3\",\"VCPIP1\",\"SIKE1\",\"OPA3\",\"RAB11FIP1\",\"FAM214B\",\"PLEKHO2\",\"TRABD\",\"KLHL15\",\"ZSCAN16\",\"CD276\",\"TTYH3\",\"NDFIP1\",\"ZNF436\",\"ZFP91\",\"APOL6\",\"APOL4\",\"POLR2M\",\"CSRNP2\",\"TXNDC5\",\"CDADC1\",\"TSPAN14\",\"TSC22D4\",\"VMP1\",\"NETO2\",\"CABLES2\",\"SH3BGRL3\",\"RASSF5\",\"GUCD1\",\"FAM107B\",\"ZNF484\",\"FRMD8\",\"STARD3NL\",\"RASSF4\",\"FCAMR\",\"EMILIN2\",\"ENKD1\",\"NSRP1\",\"NLRC5\",\"POMK\",\"MEX3B\",\"ZDHHC18\",\"PSMG3\",\"DNAJC30\",\"PGAP4\",\"PYM1\",\"C7orf50\",\"NIFK\",\"RAB11FIP4\",\"SYVN1\",\"LCOR\",\"FAM120B\",\"MRPL43\",\"TUBB6\",\"KRBA1\",\"ZNF469\",\"FAM126A\",\"KDM2B\",\"PPP1R9B\",\"MS4A14\",\"HDGFL2\",\"KMT5C\",\"C19orf48\",\"NFKBID\",\"ORAI1\",\"MFSD2A\",\"ADO\",\"ZNRF1\",\"LTV1\",\"PRPF38A\",\"UBASH3B\",\"SMIM3\",\"ZCCHC3\",\"STON2\",\"HELZ2\",\"DIXDC1\",\"ZC3H12C\",\"SSH2\",\"SELENOI\",\"MVB12B\",\"ZNF551\",\"TMEM41A\",\"MCFD2\",\"BMF\",\"N4BP2L1\",\"PYGO2\",\"PIP4P1\",\"KIFC2\",\"C12orf29\",\"BTF3L4\",\"ACBD5\",\"LONRF1\",\"ELMSAN1\",\"CABLES1\",\"NXPE3\",\"CALML4\",\"ARRDC4\",\"SNX29\",\"MTSS2\",\"TMEM88\",\"RCSD1\",\"ZNF764\",\"TIFA\",\"UBE2Q2\",\"ZBTB47\",\"B3GNT7\",\"TEX30\",\"ZNF561\",\"CACNA2D4\",\"ST7-AS1\",\"GCNA\",\"SYAP1\",\"SFXN1\",\"TP53INP1\",\"SNX18\",\"L3HYPDH\",\"TP53RK\",\"NACC1\",\"SMIM12\",\"BUD23\",\"SLC2A13\",\"MIR155HG\",\"ERMAP\",\"CSMD3\",\"OSBPL5\",\"C1QTNF3\",\"NT5C3B\",\"GBP4\",\"UHRF2\",\"ZNF689\",\"ARL11\",\"TSR3\",\"BATF2\",\"ZNF526\",\"PHACTR3\",\"OLIG1\",\"MRPL54\",\"LRG1\",\"SNORD83A\",\"FTSJ3\",\"RFFL\",\"ZNF511\",\"PIK3AP1\",\"TMEM52B\",\"SLC15A4\",\"DCUN1D3\",\"SPATA2L\",\"SNX20\",\"CD300LB\",\"ZNF57\",\"IRGQ\",\"CCSAP\",\"TCEANC2\",\"RNF19B\",\"OCSTAMP\",\"CMPK2\",\"AP1S3\",\"UBR3\",\"KCTD18\",\"FAM43A\",\"IL17RE\",\"PPM1M\",\"LIN54\",\"EMB\",\"GRPEL2\",\"LSM11\",\"MTPN\",\"LETM2\",\"HGSNAT\",\"NACC2\",\"SPIN4\",\"NOL4L\",\"SAMD10\",\"BRI3BP\",\"SOGA1\",\"SRXN1\",\"NANP\",\"STK35\",\"DCANP1\",\"SESN3\",\"ALG10B\",\"GCOM1\",\"TTBK2\",\"CD300LF\",\"WIPF2\",\"C18orf25\",\"ZNF548\",\"ZNF555\",\"SLC30A7\",\"PDIK1L\",\"FAM117B\",\"LINC02610\",\"MSL3P1\",\"RNF38\",\"CIDECP1\",\"SRFBP1\",\"MBOAT1\",\"AMOTL1\",\"KCTD7\",\"GIMAP8\",\"ANKRD46\",\"LINC00599\",\"ZFP1\",\"RETREG3\",\"RHBDL3\",\"ZNF296\",\"CNST\",\"SPATA5\",\"ZNF92\",\"ZNF800\",\"PRXL2C\",\"ZNF367\",\"RILPL2\",\"ZFC3H1\",\"PLBD2\",\"MLKL\",\"ZNF627\",\"FBXO45\",\"PLD6\",\"PDE12\",\"TAPT1\",\"C9orf72\",\"INTS6L\",\"DIPK2A\",\"USF3\",\"SLC36A1\",\"USP12\",\"MED19\",\"ZCCHC24\",\"HYLS1\",\"SLC37A2\",\"ADGRG5\",\"AK9\",\"PHACTR1\",\"FAM200A\",\"TWISTNB\",\"FOXK1\",\"DAGLB\",\"ATXN7L1\",\"PRR14L\",\"SLC25A30\",\"KCTD13\",\"MIR9-3HG\",\"TMEM86B\",\"MCOLN2\",\"NAPSB\",\"GCSAM\",\"SNX33\",\"SBF2-AS1\",\"RASSF3\",\"GXYLT1\",\"LINC00926\",\"C16orf91\",\"TSEN54\",\"CCDC144B\",\"ZADH2\",\"ZNF776\",\"SIGLEC17P\",\"ZNF561-AS1\",\"FAM102B\",\"ZNF619\",\"ZNF621\",\"C3orf33\",\"ZNF852\",\"DPH3\",\"SREK1IP1\",\"INHBA-AS1\",\"LINC00996\",\"SCAI\",\"FAM78A\",\"P2RY8\",\"TRIM59\",\"DDX51\",\"RAB37\",\"RAB7B\",\"ATP2B1-AS1\",\"NAT8L\",\"ZC3H12D\",\"ACER2\",\"NANOS1\",\"ZKSCAN2\",\"ZNF850\",\"ZSCAN22\",\"SOWAHD\",\"SKA2\",\"ZNF445\",\"ZBTB41\",\"NHLRC2\",\"TMEM179B\",\"B3GNT8\",\"FAM89A\",\"MAST4\",\"SLC27A1\",\"MALAT1\",\"PSMA3-AS1\",\"AMIGO3\",\"KMT5A\",\"TNFAIP8L3\",\"SCIMP\",\"PLEKHM3\",\"IER5L\",\"SUMO1P1\",\"C12orf76\",\"FOXN3-AS1\",\"CD99P1\",\"ZBTB34\",\"MIR142\",\"C10orf55\",\"C8orf82\",\"PIM3\",\"441307\",\"445347\",\"PALM2AKAP2\",\"GIMAP6\",\"TIFAB\",\"CXorf40B\",\"ATXN7L3B\",\"PEF1\",\"SEPTIN7P2\",\"NIPBL-DT\",\"646762\",\"STMP1\",\"AFDN-DT\",\"FAM72B\",\"CD27-AS1\",\"SNORD50B\",\"PPAN-P2RY11\",\"MIR637\",\"GOLGA8O\",\"LINC01433\",\"NBPF8\",\"CCR2\",\"CASTOR2\",\"RELL1\",\"POM121C\",\"TMEM170B\",\"GHRLOS\",\"ZSCAN16-AS1\",\"WAKMAR2\",\"100130872\",\"CKMT2-AS1\",\"NEMP2\",\"ZNF717\",\"100133331\",\"LINC01004\",\"100272217\",\"NBPF20\",\"100288846\",\"FRG1CP\",\"RNF213-AS1\",\"MIR1182\",\"MIR1249\",\"BABAM2-AS1\",\"THAP9-AS1\",\"MIR3614\",\"INAFM2\",\"RPARP-AS1\",\"MHENCR\",\"100506606\",\"TSPOAP1-AS1\",\"TTN-AS1\",\"100507507\",\"100507564\",\"BLOC1S5-TXNDC5\",\"POC1B-GALNT4\",\"RPL36A-HNRNPH2\",\"DNAAF4-CCPG1\",\"IPO9-AS1\",\"LINC02724\",\"GOLGA8R\",\"MMP24OS\",\"SPECC1L-ADORA2A\",\"101928000\",\"SCAT1\",\"101928841\",\"LINC02367\",\"MIR6882\",\"MIR8072\",\"102723665\",\"CCR5AS\",\"TPTEP2-CSNK1E\",\"SNORA86\",\"SNORD141A\",\"SNORD141B\",\"107080638\"],\"genes\":[\"ACTG1\",\"ACVR1B\",\"ACVR2B\",\"ADA\",\"ADCY9\",\"ADORA2A\",\"ADRB2\",\"GRK2\",\"AHR\",\"ALOX5AP\",\"AMPD2\",\"ANXA1\",\"APBB1\",\"APOC2\",\"ARF1\",\"ARF3\",\"ARF6\",\"RHOB\",\"RHOG\",\"ARHGAP1\",\"ARHGDIB\",\"ARNT\",\"ARRB1\",\"ARRB2\",\"ARSB\",\"STS\",\"ATF3\",\"ATP1B3\",\"ATP2B1\",\"ATP6V1B2\",\"BACH1\",\"BARD1\",\"BBS4\",\"BCL2\",\"BCL3\",\"BCL6\",\"BDNF\",\"BID\",\"PRDM1\",\"BNIP1\",\"BRCA1\",\"ZFP36L2\",\"BTG1\",\"BTK\",\"C3AR1\",\"CALM1\",\"CASP9\",\"CASP10\",\"CAT\",\"CBFA2T3\",\"RUNX3\",\"CBFB\",\"CBL\",\"CBR1\",\"CCNA2\",\"CCND2\",\"CCND3\",\"CCNF\",\"CCNG2\",\"CCNT1\",\"CD1D\",\"MS4A3\",\"CD86\",\"CDKN1A\",\"CDKN1B\",\"CDKN2B\",\"CDKN2D\",\"CEBPD\",\"CEBPG\",\"CENPA\",\"CHD4\",\"FOXN3\",\"CHML\",\"CHRM5\",\"CISH\",\"CLCN6\",\"CCR1\",\"KLF6\",\"SLC31A1\",\"CREM\",\"CSF1R\",\"CSNK1E\",\"CTNS\",\"CTSB\",\"CTSG\",\"CTSZ\",\"CUX1\",\"CX3CR1\",\"CYB5A\",\"CYP51A1\",\"DAD1\",\"CD55\",\"DAG1\",\"GADD45A\",\"DDX3X\",\"DDX6\",\"DLAT\",\"DLST\",\"DOCK2\",\"ARID3A\",\"RCAN1\",\"TSC22D3\",\"HBEGF\",\"DUSP1\",\"DUSP3\",\"DUSP6\",\"DVL1\",\"TOR1A\",\"E2F2\",\"E4F1\",\"GPR183\",\"EFNA3\",\"EGR1\",\"EGR2\",\"EGR3\",\"EIF2S3\",\"EIF4EBP1\",\"EIF4EBP2\",\"ELF4\",\"ELK4\",\"EMP1\",\"ENG\",\"ETF1\",\"ETV5\",\"EVI2A\",\"EZH2\",\"ACSL4\",\"PTK2B\",\"FANCF\",\"FCGR2A\",\"FGR\",\"FKBP5\",\"FLT3\",\"FOS\",\"FOSB\",\"FPR2\",\"FTH1\",\"FTL\",\"FUT4\",\"FUT7\",\"FYB1\",\"GALK1\",\"GAPDH\",\"GAS6\",\"GAS8\",\"GBP2\",\"GEM\",\"B4GALT1\",\"GLS\",\"GLRX\",\"GLUL\",\"GMFB\",\"GNAQ\",\"GNS\",\"GOLGB1\",\"CXCR3\",\"NR3C1\",\"ARHGAP35\",\"GSK3B\",\"GSS\",\"GTF2F1\",\"GUSB\",\"H3-3B\",\"HAL\",\"HIC1\",\"HIF1A\",\"HLX\",\"HMGB3\",\"HMGCS1\",\"NR4A1\",\"HMX2\",\"HNRNPA1\",\"HNRNPA2B1\",\"HNRNPF\",\"HNRNPU\",\"HSPA5\",\"HSPA9\",\"HSP90AA1\",\"DNAJB1\",\"HTR7\",\"IARS1\",\"ICAM4\",\"IDI1\",\"IFNAR1\",\"IGFBP4\",\"IGFBP7\",\"IL1B\",\"IL1RAP\",\"IL1RN\",\"IL7R\",\"IL10RA\",\"IL13RA1\",\"INHBA\",\"INPP5D\",\"INSIG1\",\"IREB2\",\"IRF1\",\"IRF2\",\"IRF5\",\"ITGAL\",\"ITGB1\",\"ITPKB\",\"JUN\",\"JUNB\",\"JUND\",\"CD82\",\"KCNG1\",\"KCNN2\",\"IPO5\",\"KRAS\",\"LAMC1\",\"LASP1\",\"LBR\",\"LCP1\",\"LDHA\",\"LIF\",\"LMNA\",\"LPP\",\"CD180\",\"LYN\",\"LYZ\",\"MXD1\",\"SMAD3\",\"SMAD7\",\"MAFG\",\"MBP\",\"MCL1\",\"MCM4\",\"MCM6\",\"MCM7\",\"CD46\",\"MDK\",\"MDM2\",\"MEA1\",\"MECP2\",\"MAP3K1\",\"MAP3K3\",\"MGAT1\",\"MGAT2\",\"MGAT5\",\"KMT2A\",\"AFDN\",\"MMP14\",\"MPP2\",\"MSN\",\"MTHFR\",\"MX2\",\"MXI1\",\"MYBPH\",\"GADD45B\",\"MYL6\",\"NAB1\",\"NAB2\",\"NAGA\",\"NDUFA1\",\"NDUFB1\",\"NDUFS6\",\"SEPTIN2\",\"RPL10A\",\"NFE2\",\"NFIC\",\"NFIL3\",\"NFIX\",\"NFKBIA\",\"NIT1\",\"NKTR\",\"PNP\",\"NT5E\",\"NUP98\",\"NR4A2\",\"ODC1\",\"OLR1\",\"OPA1\",\"ORC1\",\"OSM\",\"P2RX1\",\"P2RY2\",\"P2RY6\",\"P4HB\",\"FURIN\",\"PAFAH1B2\",\"PCDHGC3\",\"PDE4A\",\"PDE4D\",\"PDGFA\",\"PDGFB\",\"ENPP2\",\"PER1\",\"PFDN1\",\"PFDN2\",\"PFKFB3\",\"PGD\",\"SERPINB8\",\"PIK3C2B\",\"PIM1\",\"PIK3CG\",\"PIK3R1\",\"PI4KB\",\"PITPNA\",\"PLAU\",\"PLAUR\",\"PLCB2\",\"PLCG1\",\"PLEC\",\"PLSCR1\",\"PLXNA1\",\"PMAIP1\",\"PMS2P3\",\"POLR2C\",\"POU2F1\",\"PPARA\",\"PPARD\",\"PPM1A\",\"PPP2R5C\",\"PPP4C\",\"SRGN\",\"PRIM1\",\"PRKAB2\",\"PKIB\",\"PRKAG1\",\"PRKAR1A\",\"PRKCB\",\"PRKCD\",\"PRKCE\",\"MAPK6\",\"MAPK8\",\"MAP2K3\",\"PSAP\",\"PSMA1\",\"PTAFR\",\"PTEN\",\"PTGER4\",\"PTGS2\",\"PTPN6\",\"PTPN7\",\"PTPN11\",\"PTPN14\",\"PTPRA\",\"PTPRE\",\"NECTIN1\",\"QARS1\",\"RAB3A\",\"RAB5B\",\"RAC2\",\"RALA\",\"RARA\",\"RARG\",\"KDM5A\",\"RELB\",\"REST\",\"RGS1\",\"RGS2\",\"RGS16\",\"RNF6\",\"RPL4\",\"RPL29\",\"RPL37\",\"RPS2\",\"RPS5\",\"RPS6\",\"RPS6KA1\",\"RPS15\",\"RPS16\",\"RRM1\",\"RTKN\",\"S100A10\",\"SAT1\",\"ATXN1\",\"SCD\",\"CLEC11A\",\"CCL2\",\"SDCBP\",\"SEL1L\",\"SIAH2\",\"SLA\",\"SLC2A1\",\"SLC2A3\",\"SLC5A3\",\"SLC15A2\",\"SMARCD1\",\"SMARCD2\",\"SNAI1\",\"FSCN1\",\"SNRPG\",\"SNX1\",\"SOD2\",\"SOX4\",\"SOX12\",\"SP3\",\"SPAST\",\"SPR\",\"SRP9\",\"SRPK1\",\"SSB\",\"STAT2\",\"STAT6\",\"STK4\",\"AURKA\",\"AURKAP1\",\"STX3\",\"SYK\",\"SYPL1\",\"TAF5\",\"TAF11\",\"DYNLT1\",\"TEAD3\",\"TEF\",\"TFAM\",\"TFCP2\",\"TFDP1\",\"TGFBI\",\"THBD\",\"THBS1\",\"KLF10\",\"TK2\",\"TLR2\",\"TMSB4X\",\"TNFAIP2\",\"TNFAIP3\",\"TNFRSF1B\",\"TOP3A\",\"TPM3\",\"TPM4\",\"TPR\",\"NR2C2\",\"TRAF1\",\"TRAF3\",\"TRAF6\",\"CCT3\",\"TRIP6\",\"DNAJC7\",\"TTF1\",\"TUBA4A\",\"TXNRD1\",\"TYROBP\",\"UBP1\",\"UBTF\",\"UGP2\",\"UCK2\",\"UPP1\",\"VGF\",\"EZR\",\"WIPF1\",\"LAT2\",\"WT1\",\"XBP1\",\"XPC\",\"XPNPEP1\",\"XPO1\",\"XRCC3\",\"YWHAH\",\"YWHAZ\",\"ZFP36\",\"ZBTB14\",\"ZFX\",\"ZNF20\",\"ZNF24\",\"ZNF26\",\"ZSCAN20\",\"ZNF37A\",\"ZNF76\",\"ZNF221\",\"ZNF91\",\"ZNF124\",\"ZNF142\",\"ZNF146\",\"TRIM25\",\"ZKSCAN8\",\"SLC30A1\",\"ZXDA\",\"LAPTM5\",\"DAP3\",\"BTG2\",\"CXCR4\",\"FZD5\",\"ST8SIA4\",\"NR4A3\",\"BRD3\",\"MLF2\",\"KMT2D\",\"CDK2AP1\",\"GPR68\",\"SLC7A5\",\"SYMPK\",\"NRIP1\",\"ESS2\",\"AKAP17A\",\"SNN\",\"AXIN2\",\"PIP5K1A\",\"EEA1\",\"STX7\",\"CMAHP\",\"UTF1\",\"ATRN\",\"SMARCA5\",\"OGT\",\"MAP4K3\",\"ENC1\",\"GAS7\",\"DGKZ\",\"DGKE\",\"DGKD\",\"CST7\",\"COPS3\",\"PDXK\",\"MKNK1\",\"UNC5C\",\"OASL\",\"PCDHGB4\",\"DDX3Y\",\"IRS2\",\"EIF3H\",\"PEA15\",\"GALNT4\",\"TNFSF14\",\"TNFSF9\",\"RIPK2\",\"SNAP23\",\"NAPA\",\"TNFRSF10D\",\"TNFRSF10B\",\"CCNK\",\"DPM1\",\"CES2\",\"CD84\",\"CDK5R1\",\"LDB1\",\"DDX18\",\"EIF2B5\",\"HERC3\",\"HERC1\",\"AP3D1\",\"MPZL1\",\"SOCS3\",\"DOK2\",\"PSTPIP2\",\"LATS1\",\"PRPF4\",\"ARHGEF2\",\"ZW10\",\"BUB3\",\"CCPG1\",\"NOG\",\"STK17B\",\"COPB2\",\"SNORD30\",\"CD83\",\"NREP\",\"B4GALT6\",\"TGM5\",\"B4GALT5\",\"UBE4A\",\"LONP1\",\"CIAO1\",\"HS6ST1\",\"SNRNP40\",\"MED26\",\"THEMIS2\",\"EEF1E1\",\"SCAMP1\",\"RAB3D\",\"MRPL33\",\"MACROH2A1\",\"IER2\",\"CYTIP\",\"RNF14\",\"SEC24C\",\"ZNF592\",\"MTFR1\",\"IQCB1\",\"LPIN2\",\"PHF14\",\"FAM53B\",\"EDEM1\",\"KIAA0100\",\"PCDHGA8\",\"HERPUD1\",\"RUBCN\",\"KNTC1\",\"SLK\",\"ATG13\",\"KIAA0232\",\"PTDSS1\",\"SERTAD2\",\"TATDN2\",\"MRPL19\",\"DAZAP2\",\"RNF40\",\"ZBTB24\",\"GAB2\",\"TLK1\",\"WASHC5\",\"SGSM2\",\"KBTBD11\",\"ZBTB5\",\"LPGAT1\",\"MFN2\",\"JOSD1\",\"WDR1\",\"DMTF1\",\"KCNE3\",\"ZBTB33\",\"PDCD6\",\"BCL2L11\",\"SH2B3\",\"FRAT1\",\"RANBP9\",\"FARSB\",\"HUWE1\",\"ACTR3\",\"TSPAN2\",\"PPIF\",\"CTDSP2\",\"KIF20A\",\"ACTR1B\",\"ARL4C\",\"SUGP2\",\"ATP6AP2\",\"WASF2\",\"TSHZ1\",\"TRIM13\",\"USPL1\",\"EIF1\",\"TRIB1\",\"SPRY1\",\"DENND4A\",\"EIF1B\",\"SF3A1\",\"TRAIP\",\"ZNF267\",\"IKZF1\",\"EMC8\",\"KLF2\",\"CITED2\",\"ST3GAL6\",\"CDIPT\",\"MCRS1\",\"SLC30A9\",\"TRIM38\",\"CAP1\",\"TM9SF1\",\"MRPL28\",\"CCT7\",\"IFITM2\",\"ARID3B\",\"TXNIP\",\"TCFL5\",\"KDM5B\",\"AHCYL1\",\"PLK2\",\"ZBTB6\",\"POP4\",\"ZNF266\",\"ZNF274\",\"NEK6\",\"ZNF268\",\"CYSLTR1\",\"FRS2\",\"TUBGCP2\",\"PGRMC1\",\"ARID5A\",\"FGL2\",\"RAB10\",\"TRAFD1\",\"PAPOLA\",\"MORF4L1\",\"MSL3\",\"ERP29\",\"EBNA1BP2\",\"RAB32\",\"ILVBL\",\"ATF7\",\"DSTN\",\"PIM2\",\"ADRM1\",\"WDR5\",\"RCAN3\",\"CDC37\",\"NUDT4\",\"STRAP\",\"RASSF1\",\"AKAP2\",\"GALNT6\",\"HPS5\",\"DUSP12\",\"PHB2\",\"EXOC3\",\"CASC3\",\"ATF5\",\"PHLDA1\",\"SCAF8\",\"ZNF652\",\"AAK1\",\"ADNP2\",\"LMTK2\",\"FOXJ3\",\"SEPHS2\",\"SLC4A1AP\",\"KDM2A\",\"STK38L\",\"SPEN\",\"XPO7\",\"GGA2\",\"WAPL\",\"EMC1\",\"SETD1B\",\"UHRF1BP1L\",\"TRIM35\",\"ZBTB43\",\"TBC1D2B\",\"TNRC6B\",\"HIC2\",\"CAMTA2\",\"KDM6B\",\"SEPTIN6\",\"WDR43\",\"METAP1\",\"FAF2\",\"GSE1\",\"PLEKHM2\",\"RHOBTB2\",\"RRP12\",\"SEL1L3\",\"SIK2\",\"ANKRD28\",\"PDS5A\",\"RPRD2\",\"MINAR1\",\"ZC3H7B\",\"POFUT2\",\"KLHL18\",\"WWC1\",\"NEMP1\",\"ICOSLG\",\"KIAA0930\",\"SATB2\",\"MAN2B2\",\"WASHC4\",\"SASH1\",\"JADE2\",\"FRAT2\",\"SIRT1\",\"RYBP\",\"ABCB10\",\"CBX5\",\"PES1\",\"BICRAL\",\"MORC3\",\"RPL13A\",\"MMD\",\"PIK3R5\",\"OPN3\",\"KCNE5\",\"CEMIP2\",\"GABARAPL1\",\"MAFF\",\"IL17RA\",\"MTCH1\",\"LAMP5\",\"PANX1\",\"HYPK\",\"SUN2\",\"RASGRP3\",\"LSM4\",\"METTL7A\",\"DCAF12\",\"INTS7\",\"RCHY1\",\"ATL3\",\"SAMHD1\",\"UNC50\",\"PARS2\",\"MMACHC\",\"NECAP1\",\"PCDHGA12\",\"GLCE\",\"PPP1R16B\",\"TCTN3\",\"RSL1D1\",\"SENP3\",\"FBXL3\",\"FBXW4P1\",\"FAM162A\",\"AGO1\",\"SNORD36C\",\"CNPPD1\",\"SIGLEC7\",\"TRMT2A\",\"DAPP1\",\"UQCRQ\",\"ARRDC2\",\"CYTH4\",\"SNX5\",\"CPNE7\",\"BRPF3\",\"SIGLEC9\",\"KLHL20\",\"VENTX\",\"CRCP\",\"MOCS3\",\"GOLIM4\",\"MAT2B\",\"RGCC\",\"MCTS1\",\"WDR91\",\"ZBTB44\",\"CCDC59\",\"TBK1\",\"SAP30BP\",\"MYLIP\",\"C11orf21\",\"OLA1\",\"SENP1\",\"HILPDA\",\"SERTAD3\",\"SLC39A3\",\"STOML2\",\"PODXL2\",\"CHST11\",\"IL21R\",\"ARHGEF3\",\"NEUROG3\",\"COPS7A\",\"STMN3\",\"DESI2\",\"ZBTB7B\",\"ABHD17B\",\"ZDHHC9\",\"ZNF706\",\"IER3IP1\",\"CEP83\",\"ING4\",\"NUSAP1\",\"GLTP\",\"VRK3\",\"CCDC174\",\"FAM53C\",\"PLAC8\",\"THEM6\",\"POMP\",\"COMMD10\",\"YTHDF2\",\"RNF138\",\"REV1\",\"UBE2J1\",\"LIMA1\",\"CTDSPL2\",\"CXXC5\",\"JKAMP\",\"ARMCX3\",\"MRPL48\",\"YPEL5\",\"ASB1\",\"SARAF\",\"SUFU\",\"VPS29\",\"MSRB1\",\"PHAX\",\"S1PR5\",\"C21orf91\",\"TREM1\",\"GPR85\",\"SLC38A2\",\"ANLN\",\"MIOS\",\"TOLLIP\",\"SMOX\",\"RHOF\",\"DDIT4\",\"MTMR12\",\"CCNJ\",\"PARP14\",\"MAP10\",\"TBC1D13\",\"RSBN1\",\"XAF1\",\"TRPM4\",\"KLHL24\",\"WBP1L\",\"APTX\",\"SIDT1\",\"TENT5C\",\"PGPEP1\",\"NSUN2\",\"INO80D\",\"MTMR10\",\"SLC66A1\",\"IMPAD1\",\"TMEM161A\",\"RNF125\",\"LPCAT2\",\"ODR4\",\"FAM120C\",\"INTS11\",\"PINX1\",\"LAMTOR1\",\"FAM118A\",\"PPP2R3C\",\"C14orf119\",\"FBXO34\",\"SOBP\",\"SAMD4B\",\"FANCL\",\"ELP3\",\"MSL2\",\"KLHL11\",\"ARL8B\",\"TRIM62\",\"UBA6\",\"PI4K2B\",\"DDX19A\",\"UFSP2\",\"NIPSNAP3B\",\"LSG1\",\"SLC22A15\",\"TBC1D2\",\"PPP4R1L\",\"YOD1\",\"ENOSF1\",\"TENT5A\",\"ANKRD10\",\"OTUB1\",\"ZDHHC7\",\"TBC1D22B\",\"RAB20\",\"SLC48A1\",\"NPLOC4\",\"KANSL3\",\"MREG\",\"FAR2\",\"POLR3E\",\"INTS13\",\"N4BP2\",\"ATF7IP\",\"VPS35\",\"WDR12\",\"ZNF701\",\"INAVA\",\"FOXJ2\",\"CENPJ\",\"CENPN\",\"TMEM165\",\"ASH1L\",\"ZNF395\",\"RNF114\",\"BIN3\",\"APOBR\",\"TMEM234\",\"PCDHGC5\",\"PCDHGC4\",\"PCDHGB7\",\"PCDHGB6\",\"PCDHGB5\",\"PCDHGB3\",\"PCDHGB2\",\"PCDHGB1\",\"PCDHGA11\",\"PCDHGA10\",\"PCDHGA9\",\"PCDHGA7\",\"PCDHGA6\",\"PCDHGA5\",\"PCDHGA4\",\"PCDHGA3\",\"PCDHGA2\",\"PCDHGA1\",\"GPCPD1\",\"DIABLO\",\"BCCIP\",\"POLE4\",\"SAR1A\",\"ZC3HAV1\",\"RAD18\",\"C1GALT1\",\"SMARCAD1\",\"FEM1C\",\"C5orf15\",\"PRDM10\",\"ADPRM\",\"CDC42SE2\",\"YAE1\",\"AGTRAP\",\"ENTPD7\",\"CYSLTR2\",\"NAT14\",\"LPAR5\",\"APMAP\",\"ADCK1\",\"SCYL3\",\"SMURF1\",\"ANKRD50\",\"TTC7A\",\"SNX14\",\"C3orf14\",\"USP31\",\"HEG1\",\"NUFIP2\",\"MIB1\",\"WDR35\",\"TAOK1\",\"NLGN2\",\"ZNF319\",\"ZNF687\",\"BAHCC1\",\"USP36\",\"ZBTB2\",\"EP400\",\"DDX55\",\"GPR107\",\"MS4A7\",\"TP53INP2\",\"ABHD17C\",\"ZNF71\",\"SCAF1\",\"SELENOK\",\"HIVEP3\",\"PRDM12\",\"GNB4\",\"C12orf10\",\"AVPI1\",\"PPCDC\",\"NAA35\",\"ATG101\",\"ABHD4\",\"CXorf56\",\"CRLF2\",\"VSIR\",\"SLC39A8\",\"NOD2\",\"XYLT1\",\"ATL2\",\"MS4A6A\",\"PDLIM2\",\"NSD1\",\"ZMAT3\",\"ZNF106\",\"MPP5\",\"SUDS3\",\"CSRNP1\",\"NUCKS1\",\"UNKL\",\"SMAP2\",\"S100PBP\",\"DDX31\",\"ISL2\",\"SLC13A3\",\"USP46\",\"NABP1\",\"RFX7\",\"MRPS6\",\"PINK1\",\"ACD\",\"MARCKSL1\",\"PHACTR4\",\"FUNDC2\",\"CHID1\",\"AUNIP\",\"TRIR\",\"NOC4L\",\"FTO\",\"RETREG2\",\"PPDPF\",\"PLEKHF1\",\"BRCC3\",\"WDR25\",\"PAGR1\",\"ATP13A3\",\"CEP97\",\"SNRNP25\",\"TMEM53\",\"SRD5A3\",\"MCPH1\",\"TMEM204\",\"ZYG11B\",\"OGFOD3\",\"VPS37B\",\"BBS10\",\"ASB13\",\"KLHL36\",\"ARMC5\",\"NAA40\",\"ZMYM1\",\"ZC3H14\",\"RIN3\",\"ATP8B4\",\"ZNF696\",\"ERMP1\",\"AGPAT4-IT1\",\"PHC3\",\"VCPIP1\",\"SIKE1\",\"OPA3\",\"RAB11FIP1\",\"FAM214B\",\"PLEKHO2\",\"TRABD\",\"KLHL15\",\"ZSCAN16\",\"CD276\",\"TTYH3\",\"NDFIP1\",\"ZNF436\",\"ZFP91\",\"APOL6\",\"APOL4\",\"POLR2M\",\"CSRNP2\",\"TXNDC5\",\"CDADC1\",\"TSPAN14\",\"TSC22D4\",\"VMP1\",\"NETO2\",\"CABLES2\",\"SH3BGRL3\",\"RASSF5\",\"GUCD1\",\"FAM107B\",\"ZNF484\",\"FRMD8\",\"STARD3NL\",\"RASSF4\",\"FCAMR\",\"EMILIN2\",\"ENKD1\",\"NSRP1\",\"NLRC5\",\"POMK\",\"MEX3B\",\"ZDHHC18\",\"PSMG3\",\"DNAJC30\",\"PGAP4\",\"PYM1\",\"C7orf50\",\"NIFK\",\"RAB11FIP4\",\"SYVN1\",\"LCOR\",\"FAM120B\",\"MRPL43\",\"TUBB6\",\"KRBA1\",\"ZNF469\",\"FAM126A\",\"KDM2B\",\"PPP1R9B\",\"MS4A14\",\"HDGFL2\",\"KMT5C\",\"C19orf48\",\"NFKBID\",\"ORAI1\",\"MFSD2A\",\"ADO\",\"ZNRF1\",\"LTV1\",\"PRPF38A\",\"UBASH3B\",\"SMIM3\",\"ZCCHC3\",\"STON2\",\"HELZ2\",\"DIXDC1\",\"ZC3H12C\",\"SSH2\",\"SELENOI\",\"MVB12B\",\"ZNF551\",\"TMEM41A\",\"MCFD2\",\"BMF\",\"N4BP2L1\",\"PYGO2\",\"PIP4P1\",\"KIFC2\",\"C12orf29\",\"BTF3L4\",\"ACBD5\",\"LONRF1\",\"ELMSAN1\",\"CABLES1\",\"NXPE3\",\"CALML4\",\"ARRDC4\",\"SNX29\",\"MTSS2\",\"TMEM88\",\"RCSD1\",\"ZNF764\",\"TIFA\",\"UBE2Q2\",\"ZBTB47\",\"B3GNT7\",\"TEX30\",\"ZNF561\",\"CACNA2D4\",\"ST7-AS1\",\"GCNA\",\"SYAP1\",\"SFXN1\",\"TP53INP1\",\"SNX18\",\"L3HYPDH\",\"TP53RK\",\"NACC1\",\"SMIM12\",\"BUD23\",\"SLC2A13\",\"MIR155HG\",\"ERMAP\",\"CSMD3\",\"OSBPL5\",\"C1QTNF3\",\"NT5C3B\",\"GBP4\",\"UHRF2\",\"ZNF689\",\"ARL11\",\"TSR3\",\"BATF2\",\"ZNF526\",\"PHACTR3\",\"OLIG1\",\"MRPL54\",\"LRG1\",\"SNORD83A\",\"FTSJ3\",\"RFFL\",\"ZNF511\",\"PIK3AP1\",\"TMEM52B\",\"SLC15A4\",\"DCUN1D3\",\"SPATA2L\",\"SNX20\",\"CD300LB\",\"ZNF57\",\"IRGQ\",\"CCSAP\",\"TCEANC2\",\"RNF19B\",\"OCSTAMP\",\"CMPK2\",\"AP1S3\",\"UBR3\",\"KCTD18\",\"FAM43A\",\"IL17RE\",\"PPM1M\",\"LIN54\",\"EMB\",\"GRPEL2\",\"LSM11\",\"MTPN\",\"LETM2\",\"HGSNAT\",\"NACC2\",\"SPIN4\",\"NOL4L\",\"SAMD10\",\"BRI3BP\",\"SOGA1\",\"SRXN1\",\"NANP\",\"STK35\",\"DCANP1\",\"SESN3\",\"ALG10B\",\"GCOM1\",\"TTBK2\",\"CD300LF\",\"WIPF2\",\"C18orf25\",\"ZNF548\",\"ZNF555\",\"SLC30A7\",\"PDIK1L\",\"FAM117B\",\"LINC02610\",\"MSL3P1\",\"RNF38\",\"CIDECP1\",\"SRFBP1\",\"MBOAT1\",\"AMOTL1\",\"KCTD7\",\"GIMAP8\",\"ANKRD46\",\"LINC00599\",\"ZFP1\",\"RETREG3\",\"RHBDL3\",\"ZNF296\",\"CNST\",\"SPATA5\",\"ZNF92\",\"ZNF800\",\"PRXL2C\",\"ZNF367\",\"RILPL2\",\"ZFC3H1\",\"PLBD2\",\"MLKL\",\"ZNF627\",\"FBXO45\",\"PLD6\",\"PDE12\",\"TAPT1\",\"C9orf72\",\"INTS6L\",\"DIPK2A\",\"USF3\",\"SLC36A1\",\"USP12\",\"MED19\",\"ZCCHC24\",\"HYLS1\",\"SLC37A2\",\"ADGRG5\",\"AK9\",\"PHACTR1\",\"FAM200A\",\"TWISTNB\",\"FOXK1\",\"DAGLB\",\"ATXN7L1\",\"PRR14L\",\"SLC25A30\",\"KCTD13\",\"MIR9-3HG\",\"TMEM86B\",\"MCOLN2\",\"NAPSB\",\"GCSAM\",\"SNX33\",\"SBF2-AS1\",\"RASSF3\",\"GXYLT1\",\"LINC00926\",\"C16orf91\",\"TSEN54\",\"CCDC144B\",\"ZADH2\",\"ZNF776\",\"SIGLEC17P\",\"ZNF561-AS1\",\"FAM102B\",\"ZNF619\",\"ZNF621\",\"C3orf33\",\"ZNF852\",\"DPH3\",\"SREK1IP1\",\"INHBA-AS1\",\"LINC00996\",\"SCAI\",\"FAM78A\",\"P2RY8\",\"TRIM59\",\"DDX51\",\"RAB37\",\"RAB7B\",\"ATP2B1-AS1\",\"NAT8L\",\"ZC3H12D\",\"ACER2\",\"NANOS1\",\"ZKSCAN2\",\"ZNF850\",\"ZSCAN22\",\"SOWAHD\",\"SKA2\",\"ZNF445\",\"ZBTB41\",\"NHLRC2\",\"TMEM179B\",\"B3GNT8\",\"FAM89A\",\"MAST4\",\"SLC27A1\",\"MALAT1\",\"PSMA3-AS1\",\"AMIGO3\",\"KMT5A\",\"TNFAIP8L3\",\"SCIMP\",\"PLEKHM3\",\"IER5L\",\"SUMO1P1\",\"C12orf76\",\"FOXN3-AS1\",\"CD99P1\",\"ZBTB34\",\"MIR142\",\"C10orf55\",\"C8orf82\",\"PIM3\",\"441307\",\"445347\",\"PALM2AKAP2\",\"GIMAP6\",\"TIFAB\",\"CXorf40B\",\"ATXN7L3B\",\"PEF1\",\"SEPTIN7P2\",\"NIPBL-DT\",\"646762\",\"STMP1\",\"AFDN-DT\",\"FAM72B\",\"CD27-AS1\",\"SNORD50B\",\"PPAN-P2RY11\",\"MIR637\",\"GOLGA8O\",\"LINC01433\",\"NBPF8\",\"CCR2\",\"CASTOR2\",\"RELL1\",\"POM121C\",\"TMEM170B\",\"GHRLOS\",\"ZSCAN16-AS1\",\"WAKMAR2\",\"100130872\",\"CKMT2-AS1\",\"NEMP2\",\"ZNF717\",\"100133331\",\"LINC01004\",\"100272217\",\"NBPF20\",\"100288846\",\"FRG1CP\",\"RNF213-AS1\",\"MIR1182\",\"MIR1249\",\"BABAM2-AS1\",\"THAP9-AS1\",\"MIR3614\",\"INAFM2\",\"RPARP-AS1\",\"MHENCR\",\"100506606\",\"TSPOAP1-AS1\",\"TTN-AS1\",\"100507507\",\"100507564\",\"BLOC1S5-TXNDC5\",\"POC1B-GALNT4\",\"RPL36A-HNRNPH2\",\"DNAAF4-CCPG1\",\"IPO9-AS1\",\"LINC02724\",\"GOLGA8R\",\"MMP24OS\",\"SPECC1L-ADORA2A\",\"101928000\",\"SCAT1\",\"101928841\",\"LINC02367\",\"MIR6882\",\"MIR8072\",\"102723665\",\"CCR5AS\",\"TPTEP2-CSNK1E\",\"SNORA86\",\"SNORD141A\",\"SNORD141B\",\"107080638\"],\"index\":[\"32\",\"37\",\"39\",\"44\",\"54\",\"62\",\"70\",\"71\",\"87\",\"110\",\"114\",\"126\",\"139\",\"152\",\"162\",\"163\",\"167\",\"170\",\"172\",\"173\",\"177\",\"183\",\"185\",\"186\",\"188\",\"189\",\"203\",\"212\",\"216\",\"232\",\"251\",\"257\",\"261\",\"267\",\"271\",\"272\",\"280\",\"284\",\"286\",\"301\",\"310\",\"314\",\"322\",\"323\",\"330\",\"359\",\"388\",\"389\",\"391\",\"395\",\"396\",\"397\",\"398\",\"402\",\"406\",\"409\",\"410\",\"412\",\"414\",\"416\",\"419\",\"426\",\"431\",\"481\",\"482\",\"484\",\"486\",\"493\",\"495\",\"496\",\"511\",\"513\",\"519\",\"523\",\"534\",\"548\",\"563\",\"587\",\"588\",\"620\",\"634\",\"641\",\"662\",\"667\",\"669\",\"676\",\"677\",\"678\",\"679\",\"691\",\"692\",\"693\",\"694\",\"714\",\"719\",\"721\",\"749\",\"754\",\"778\",\"790\",\"794\",\"795\",\"798\",\"801\",\"803\",\"806\",\"809\",\"813\",\"815\",\"820\",\"821\",\"839\",\"847\",\"848\",\"849\",\"855\",\"860\",\"861\",\"873\",\"876\",\"879\",\"884\",\"924\",\"934\",\"936\",\"945\",\"960\",\"962\",\"965\",\"980\",\"999\",\"1008\",\"1023\",\"1033\",\"1034\",\"1037\",\"1041\",\"1043\",\"1049\",\"1051\",\"1054\",\"1074\",\"1083\",\"1087\",\"1088\",\"1094\",\"1106\",\"1112\",\"1131\",\"1132\",\"1134\",\"1137\",\"1147\",\"1162\",\"1167\",\"1179\",\"1206\",\"1207\",\"1212\",\"1216\",\"1228\",\"1241\",\"1252\",\"1258\",\"1276\",\"1277\",\"1293\",\"1297\",\"1302\",\"1307\",\"1308\",\"1313\",\"1314\",\"1318\",\"1324\",\"1365\",\"1367\",\"1369\",\"1373\",\"1378\",\"1381\",\"1386\",\"1398\",\"1406\",\"1417\",\"1419\",\"1425\",\"1426\",\"1427\",\"1436\",\"1440\",\"1446\",\"1462\",\"1469\",\"1471\",\"1478\",\"1479\",\"1480\",\"1483\",\"1492\",\"1496\",\"1507\",\"1517\",\"1518\",\"1519\",\"1521\",\"1530\",\"1538\",\"1562\",\"1563\",\"1571\",\"1576\",\"1577\",\"1578\",\"1581\",\"1591\",\"1605\",\"1615\",\"1632\",\"1635\",\"1636\",\"1641\",\"1644\",\"1648\",\"1651\",\"1673\",\"1677\",\"1680\",\"1682\",\"1683\",\"1684\",\"1689\",\"1690\",\"1693\",\"1694\",\"1702\",\"1703\",\"1716\",\"1717\",\"1719\",\"1740\",\"1744\",\"1749\",\"1765\",\"1775\",\"1792\",\"1805\",\"1806\",\"1810\",\"1814\",\"1818\",\"1831\",\"1832\",\"1834\",\"1854\",\"1864\",\"1882\",\"1888\",\"1889\",\"1903\",\"1906\",\"1907\",\"1908\",\"1911\",\"1926\",\"1928\",\"1947\",\"1961\",\"1969\",\"1970\",\"1980\",\"1985\",\"1987\",\"1989\",\"1994\",\"2000\",\"2005\",\"2006\",\"2009\",\"2013\",\"2016\",\"2039\",\"2054\",\"2057\",\"2064\",\"2065\",\"2073\",\"2081\",\"2092\",\"2093\",\"2098\",\"2109\",\"2125\",\"2135\",\"2139\",\"2141\",\"2142\",\"2145\",\"2150\",\"2162\",\"2163\",\"2164\",\"2168\",\"2172\",\"2182\",\"2184\",\"2187\",\"2198\",\"2216\",\"2229\",\"2234\",\"2235\",\"2242\",\"2263\",\"2267\",\"2277\",\"2280\",\"2284\",\"2287\",\"2288\",\"2289\",\"2294\",\"2295\",\"2296\",\"2306\",\"2308\",\"2314\",\"2335\",\"2340\",\"2377\",\"2380\",\"2382\",\"2386\",\"2398\",\"2399\",\"2401\",\"2403\",\"2404\",\"2409\",\"2422\",\"2439\",\"2443\",\"2447\",\"2457\",\"2471\",\"2484\",\"2486\",\"2494\",\"2513\",\"2516\",\"2530\",\"2531\",\"2535\",\"2552\",\"2574\",\"2599\",\"2605\",\"2618\",\"2623\",\"2624\",\"2625\",\"2637\",\"2639\",\"2656\",\"2658\",\"2671\",\"2680\",\"2685\",\"2688\",\"2689\",\"2697\",\"2708\",\"2718\",\"2755\",\"2769\",\"2775\",\"2776\",\"2784\",\"2804\",\"2821\",\"2822\",\"2832\",\"2837\",\"2849\",\"2853\",\"2858\",\"2865\",\"2868\",\"2871\",\"2878\",\"2886\",\"2899\",\"2905\",\"2910\",\"2925\",\"2929\",\"2935\",\"2936\",\"2937\",\"2942\",\"2966\",\"2970\",\"2980\",\"2985\",\"3029\",\"3032\",\"3034\",\"3042\",\"3046\",\"3048\",\"3056\",\"3063\",\"3064\",\"3071\",\"3079\",\"3087\",\"3096\",\"3099\",\"3100\",\"3102\",\"3109\",\"3119\",\"3120\",\"3123\",\"3126\",\"3128\",\"3130\",\"3132\",\"3134\",\"3136\",\"3149\",\"3152\",\"3156\",\"3167\",\"3172\",\"3196\",\"3197\",\"3206\",\"3209\",\"3214\",\"3243\",\"3245\",\"3255\",\"3258\",\"3267\",\"3268\",\"3272\",\"3273\",\"3274\",\"3277\",\"3285\",\"3286\",\"3288\",\"3290\",\"3292\",\"3307\",\"3311\",\"3312\",\"3314\",\"3319\",\"3330\",\"3333\",\"3334\",\"3336\",\"3347\",\"3350\",\"3351\",\"3367\",\"3386\",\"3389\",\"3396\",\"3399\",\"3400\",\"3406\",\"3407\",\"3418\",\"3437\",\"3438\",\"3452\",\"3453\",\"3457\",\"3461\",\"3465\",\"3473\",\"3478\",\"3483\",\"3486\",\"3509\",\"3512\",\"3540\",\"3550\",\"3552\",\"3553\",\"3557\",\"3571\",\"3577\",\"3578\",\"3586\",\"3600\",\"3608\",\"3609\",\"3610\",\"3611\",\"3612\",\"3614\",\"3641\",\"3644\",\"3670\",\"3675\",\"3677\",\"3686\",\"3691\",\"3698\",\"3709\",\"3714\",\"3739\",\"3742\",\"3750\",\"3753\",\"3755\",\"3761\",\"3763\",\"3773\",\"3774\",\"3782\",\"3786\",\"3799\",\"3803\",\"3821\",\"3827\",\"3842\",\"3843\",\"3856\",\"3875\",\"3877\",\"3889\",\"3893\",\"3926\",\"3937\",\"3968\",\"3969\",\"3970\",\"3997\",\"4000\",\"4012\",\"4020\",\"4028\",\"4035\",\"4039\",\"4052\",\"4053\",\"4054\",\"4063\",\"4066\",\"4081\",\"4083\",\"4094\",\"4107\",\"4127\",\"4153\",\"4154\",\"4171\",\"4176\",\"4178\",\"4200\",\"4201\",\"4205\",\"4218\",\"4223\",\"4232\",\"4237\",\"4241\",\"4253\",\"4254\",\"4268\",\"4275\",\"4278\",\"4279\",\"4280\",\"4296\",\"4308\",\"4328\",\"4330\",\"4343\",\"4344\",\"4348\",\"4350\",\"4351\",\"4355\",\"4380\",\"4383\",\"4405\",\"4422\",\"4430\",\"4442\",\"4447\",\"4448\",\"4449\",\"4451\",\"4463\",\"4487\",\"4502\",\"4503\",\"4509\",\"4511\",\"4512\",\"4514\",\"4526\",\"4532\",\"4544\",\"4558\",\"4562\",\"4565\",\"4566\",\"4569\",\"4573\",\"4575\",\"4594\",\"4602\",\"4605\",\"4625\",\"4636\",\"4637\",\"4638\",\"4646\",\"4669\",\"4673\",\"4692\",\"4693\",\"4694\",\"4704\",\"4711\",\"4715\",\"4731\",\"4733\",\"4753\",\"4765\",\"4781\",\"4795\",\"4804\",\"4814\",\"4853\",\"4870\",\"4871\",\"4877\",\"4905\",\"4912\",\"4967\",\"4985\",\"4988\",\"4989\",\"4992\",\"4993\",\"4997\",\"4998\",\"4999\",\"5005\",\"5008\",\"5018\",\"5023\",\"5030\",\"5032\",\"5039\",\"5043\",\"5056\",\"5060\",\"5072\",\"5078\",\"5095\",\"5101\",\"5110\",\"5119\",\"5130\",\"5141\",\"5145\",\"5150\",\"5172\",\"5191\",\"5203\",\"5222\",\"5228\",\"5238\",\"5254\",\"5259\",\"5264\",\"5282\",\"5305\",\"5310\",\"5320\",\"5329\",\"5333\",\"5337\",\"5339\",\"5348\",\"5350\",\"5352\",\"5375\",\"5403\",\"5416\",\"5429\",\"5438\",\"5439\",\"5458\",\"5473\",\"5474\",\"5476\",\"5478\",\"5481\",\"5491\",\"5500\",\"5501\",\"5506\",\"5511\",\"5513\",\"5521\",\"5535\",\"5536\",\"5549\",\"5569\",\"5571\",\"5577\",\"5589\",\"5590\",\"5595\",\"5599\",\"5603\",\"5604\",\"5607\",\"5609\",\"5618\",\"5627\",\"5628\",\"5635\",\"5648\",\"5650\",\"5654\",\"5655\",\"5661\",\"5662\",\"5665\",\"5673\",\"5720\",\"5727\",\"5737\",\"5747\",\"5755\",\"5765\",\"5775\",\"5782\",\"5787\",\"5796\",\"5797\",\"5832\",\"5849\",\"5869\",\"5876\",\"5885\",\"5886\",\"5893\",\"5898\",\"5901\",\"5905\",\"5910\",\"5912\",\"5924\",\"5947\",\"5957\",\"5976\",\"5978\",\"5995\",\"6003\",\"6022\",\"6023\",\"6024\",\"6026\",\"6054\",\"6059\",\"6068\",\"6097\",\"6116\",\"6120\",\"6128\",\"6130\",\"6169\",\"6187\",\"6241\",\"6277\",\"6285\",\"6286\",\"6296\",\"6305\",\"6313\",\"6321\",\"6323\",\"6324\",\"6332\",\"6340\",\"6366\",\"6370\",\"6374\",\"6377\",\"6384\",\"6401\",\"6435\",\"6436\",\"6452\",\"6455\",\"6463\",\"6490\",\"6491\",\"6492\",\"6496\",\"6511\",\"6517\",\"6546\",\"6559\",\"6578\",\"6605\",\"6613\",\"6614\",\"6615\",\"6623\",\"6624\",\"6631\",\"6637\",\"6671\",\"6677\",\"6719\",\"6727\",\"6735\",\"6736\",\"6746\",\"6754\",\"6790\",\"6797\",\"6799\",\"6805\",\"6848\",\"6853\",\"6866\",\"6880\",\"6894\",\"6911\",\"6912\",\"6916\",\"6919\",\"6921\",\"6929\",\"6943\",\"6947\",\"6969\",\"7004\",\"7007\",\"7020\",\"7023\",\"7026\",\"7033\",\"7049\",\"7072\",\"7089\",\"7121\",\"7128\",\"7129\",\"7134\",\"7146\",\"7158\",\"7162\",\"7175\",\"7181\",\"7197\",\"7200\",\"7217\",\"7222\",\"7224\",\"7227\",\"7230\",\"7246\",\"7265\",\"7268\",\"7293\",\"7295\",\"7298\",\"7306\",\"7308\",\"7331\",\"7333\",\"7335\",\"7337\",\"7361\",\"7362\",\"7373\",\"7376\",\"7381\",\"7382\",\"7398\",\"7406\",\"7419\",\"7422\",\"7427\",\"7432\",\"7439\",\"7469\",\"7475\",\"7490\",\"7502\",\"7524\",\"7531\",\"7557\",\"7568\",\"7575\",\"7621\",\"7622\",\"7633\",\"7643\",\"7648\",\"7658\",\"7659\",\"7667\",\"7675\",\"7701\",\"7723\",\"7726\",\"7729\",\"7740\",\"7748\",\"7756\",\"7759\",\"7771\",\"7781\",\"7783\",\"7804\",\"7809\",\"7815\",\"7816\",\"7817\",\"7823\",\"7841\",\"7844\",\"7847\",\"7876\",\"7889\",\"7891\",\"7907\",\"7914\",\"7921\",\"7926\",\"7928\",\"7929\",\"7958\",\"7959\",\"7960\",\"7961\",\"7962\",\"7963\",\"7964\",\"7965\",\"7966\",\"7967\",\"7968\",\"7969\",\"7970\",\"7971\",\"7972\",\"7973\",\"7974\",\"7975\",\"7976\",\"7994\",\"8010\",\"8012\",\"8017\",\"8027\",\"8031\",\"8037\",\"8059\",\"8061\",\"8070\",\"8086\",\"8097\",\"8101\",\"8104\",\"8114\",\"8133\",\"8134\",\"8144\",\"8145\",\"8151\",\"8159\",\"8162\",\"8165\",\"8170\",\"8185\",\"8203\",\"8209\",\"8230\",\"8252\",\"8262\",\"8281\",\"8283\",\"8287\",\"8294\",\"8297\",\"8303\",\"8319\",\"8322\",\"8325\",\"8336\",\"8340\",\"8372\",\"8390\",\"8418\",\"8419\",\"8428\",\"8430\",\"8438\",\"8443\",\"8453\",\"8458\",\"8465\",\"8471\",\"8473\",\"8484\",\"8496\",\"8502\",\"8515\",\"8540\",\"8569\",\"8572\",\"8573\",\"8576\",\"8578\",\"8601\",\"8602\",\"8603\",\"8611\",\"8624\",\"8627\",\"8628\",\"8643\",\"8661\",\"8666\",\"8667\",\"8669\",\"8686\",\"8709\",\"8720\",\"8724\",\"8727\",\"8732\",\"8735\",\"8756\",\"8769\",\"8772\",\"8784\",\"8802\",\"8812\",\"8819\",\"8831\",\"8833\",\"8862\",\"8869\",\"8898\",\"8902\",\"8907\",\"8924\",\"8940\",\"8941\",\"8947\",\"8961\",\"8971\",\"8982\",\"8986\",\"8989\",\"8993\",\"9028\",\"9029\",\"9043\",\"9057\",\"9063\",\"9076\",\"9083\",\"9099\",\"9100\",\"9133\",\"9138\",\"9142\",\"9165\",\"9172\",\"9191\",\"9200\",\"9227\",\"9235\",\"9261\",\"9273\",\"9285\",\"9295\",\"9297\",\"9302\",\"9320\",\"9327\",\"9333\",\"9341\",\"9354\",\"9359\",\"9360\",\"9361\",\"9375\",\"9398\",\"9399\",\"9409\",\"9422\",\"9428\",\"9432\",\"9443\",\"9465\",\"9473\",\"9499\",\"9504\",\"9511\",\"9539\",\"9545\",\"9567\",\"9572\",\"9578\",\"9592\",\"9610\",\"9611\",\"9640\",\"9657\",\"9658\",\"9673\",\"9685\",\"9700\",\"9722\",\"9725\",\"9729\",\"9756\",\"9762\",\"9766\",\"9771\",\"9776\",\"9795\",\"9805\",\"9808\",\"9809\",\"9822\",\"9826\",\"9830\",\"9831\",\"9838\",\"9855\",\"9860\",\"9863\",\"9897\",\"9899\",\"9905\",\"9941\",\"9948\",\"9950\",\"9957\",\"9989\",\"10002\",\"10024\",\"10026\",\"10035\",\"10040\",\"10041\",\"10042\",\"10068\",\"10102\",\"10120\",\"10122\",\"10126\",\"10143\",\"10152\",\"10156\",\"10169\",\"10184\",\"10197\",\"10202\",\"10222\",\"10227\",\"10232\",\"10233\",\"10238\",\"10243\",\"10250\",\"10256\",\"10257\",\"10260\",\"10284\",\"10287\",\"10305\",\"10310\",\"10311\",\"10313\",\"10316\",\"10331\",\"10339\",\"10342\",\"10353\",\"10354\",\"10365\",\"10378\",\"10386\",\"10387\",\"10390\",\"10414\",\"10430\",\"10433\",\"10439\",\"10440\",\"10447\",\"10467\",\"10472\",\"10485\",\"10497\",\"10501\",\"10502\",\"10513\",\"10517\",\"10525\",\"10528\",\"10533\",\"10548\",\"10553\",\"10561\",\"10564\",\"10578\",\"10583\",\"10593\",\"10598\",\"10620\",\"10622\",\"10669\",\"10671\",\"10684\",\"10690\",\"10741\",\"10742\",\"10759\",\"10770\",\"10772\",\"10792\",\"10810\",\"10822\",\"10826\",\"10827\",\"10848\",\"10854\",\"10856\",\"10862\",\"10874\",\"10885\",\"10886\",\"10907\",\"10921\",\"10922\",\"10923\",\"10944\",\"10956\",\"10957\",\"10959\",\"10960\",\"10969\",\"10973\",\"10977\",\"10978\",\"10994\",\"11008\",\"11032\",\"11038\",\"11056\",\"11071\",\"11073\",\"11083\",\"11112\",\"11130\",\"11141\",\"11177\",\"11184\",\"11196\",\"11212\",\"11219\",\"11239\",\"11249\",\"11259\",\"11261\",\"11262\",\"11275\",\"11278\",\"11344\",\"11346\",\"11347\",\"11356\",\"11375\",\"11388\",\"11402\",\"11406\",\"11449\",\"11450\",\"11454\",\"11457\",\"11458\",\"11475\",\"11486\",\"11525\",\"11530\",\"11547\",\"11556\",\"11571\",\"11579\",\"11585\",\"11587\",\"11588\",\"11591\",\"11595\",\"11596\",\"11607\",\"11609\",\"11651\",\"11653\",\"11669\",\"11673\",\"11674\",\"11681\",\"11682\",\"11693\",\"11723\",\"11728\",\"11743\",\"11765\",\"11769\",\"11775\",\"11797\",\"11813\",\"11821\",\"11857\",\"11876\",\"11886\",\"11904\",\"11923\",\"11925\",\"11936\",\"11951\",\"11955\",\"11966\",\"11968\",\"11986\",\"12022\",\"12023\",\"12027\",\"12030\",\"12034\",\"12055\",\"12068\",\"12074\",\"12092\",\"12098\",\"12105\",\"12108\",\"12115\",\"12118\",\"12126\",\"12138\",\"12187\",\"12191\",\"12202\",\"12206\",\"12209\",\"12213\",\"12216\",\"12236\",\"12246\",\"12267\",\"12275\",\"12283\",\"12287\",\"12305\",\"12314\",\"12326\",\"12340\",\"12347\",\"12349\",\"12353\",\"12381\",\"12385\",\"12392\",\"12425\",\"12445\",\"12464\",\"12488\",\"12491\",\"12553\",\"12568\",\"12584\",\"12603\",\"12609\",\"12610\",\"12665\",\"12689\",\"12691\",\"12694\",\"12707\",\"12717\",\"12722\",\"12726\",\"12778\",\"12851\",\"12852\",\"12857\",\"12889\",\"12901\",\"12971\",\"12982\",\"13013\",\"13030\",\"13049\",\"13054\",\"13089\",\"13101\",\"13105\",\"13147\",\"13171\",\"13178\",\"13191\",\"13224\",\"13256\",\"13269\",\"13276\",\"13282\",\"13299\",\"13322\",\"13351\",\"13362\",\"13382\",\"13390\",\"13394\",\"13409\",\"13411\",\"13414\",\"13438\",\"13488\",\"13496\",\"13518\",\"13538\",\"13539\",\"13597\",\"13618\",\"13623\",\"13673\",\"13677\",\"13703\",\"13715\",\"13721\",\"13747\",\"13875\",\"13933\",\"13941\",\"13957\",\"13960\",\"14048\",\"14099\",\"14105\",\"14180\",\"14270\",\"14339\",\"14357\",\"14372\",\"14393\",\"14478\",\"14485\",\"14486\",\"14492\"],\"lfcSE\":{\"__ndarray__\":\"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\",\"dtype\":\"float64\",\"shape\":[1474]},\"log2FoldChange\":{\"__ndarray__\":\"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\",\"dtype\":\"float64\",\"shape\":[1474]},\"padj\":{\"__ndarray__\":\"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\",\"dtype\":\"float64\",\"shape\":[1474]},\"pvalue\":{\"__ndarray__\":\"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\",\"dtype\":\"float64\",\"shape\":[1474]},\"size\":[7,7,7,7,7,7,7,7,7,7,7,7,7,7,7,7,7,7,7,7,7,7,7,7,7,7,7,7,7,7,7,7,7,7,7,7,7,7,7,7,7,7,7,7,7,7,7,7,7,7,7,7,7,7,7,7,7,7,7,7,7,7,7,7,7,7,7,7,7,7,7,7,7,7,7,7,7,7,7,7,7,7,7,7,7,7,7,7,7,7,7,7,7,7,7,7,7,7,7,7,7,7,7,7,7,7,7,7,7,7,7,7,7,7,7,7,7,7,7,7,7,7,7,7,7,7,7,7,7,7,7,7,7,7,7,7,7,7,7,7,7,7,7,7,7,7,7,7,7,7,7,7,7,7,7,7,7,7,7,7,7,7,7,7,7,7,7,7,7,7,7,7,7,7,7,7,7,7,7,7,7,7,7,7,7,7,7,7,7,7,7,7,7,7,7,7,7,7,7,7,7,7,7,7,7,7,7,7,7,7,7,7,7,7,7,7,7,7,7,7,7,7,7,7,7,7,7,7,7,7,7,7,7,7,7,7,7,7,7,7,7,7,7,7,7,7,7,7,7,7,7,7,7,7,7,7,7,7,7,7,7,7,7,7,7,7,7,7,7,7,7,7,7,7,7,7,7,7,7,7,7,7,7,7,7,7,7,7,7,7,7,7,7,7,7,7,7,7,7,7,7,7,7,7,7,7,7,7,7,7,7,7,7,7,7,7,7,7,7,7,7,7,7,7,7,7,7,7,7,7,7,7,7,7,7,7,7,7,7,7,7,7,7,7,7,7,7,7,7,7,7,7,7,7,7,7,7,7,7,7,7,7,7,7,7,7,7,7,7,7,7,7,7,7,7,7,7,7,7,7,7,7,7,7,7,7,7,7,7,7,7,7,7,7,7,7,7,7,7,7,7,7,7,7,7,7,7,7,7,7,7,7,7,7,7,7,7,7,7,7,7,7,7,7,7,7,7,7,7,7,7,7,7,7,7,7,7,7,7,7,7,7,7,7,7,7,7,7,7,7,7,7,7,7,7,7,7,7,7,7,7,7,7,7,7,7,7,7,7,7,7,7,7,7,7,7,7,7,7,7,7,7,7,7,7,7,7,7,7,7,7,7,7,7,7,7,7,7,7,7,7,7,7,7,7,7,7,7,7,7,7,7,7,7,7,7,7,7,7,7,7,7,7,7,7,7,7,7,7,7,7,7,7,7,7,7,7,7,7,7,7,7,7,7,7,7,7,7,7,7,7,7,7,7,7,7,7,7,7,7,7,7,7,7,7,7,7,7,7,7,7,7,7,7,7,7,7,7,7,7,7,7,7,7,7,7,7,7,7,7,7,7,7,7,7,7,7,7,7,7,7,7,7,7,7,7,7,7,7,7,7,7,7,7,7,7,7,7,7,7,7,7,7,7,7,7,7,7,7,7,7,7,7,7,7,7,7,7,7,7,7,7,7,7,7,7,7,7,7,7,7,7,7,7,7,7,7,7,7,7,7,7,7,7,7,7,7,7,7,7,7,7,7,7,7,7,7,7,7,7,7,7,7,7,7,7,7,7,7,7,7,7,7,7,7,7,7,7,7,7,7,7,7,7,7,7,7,7,7,7,7,7,7,7,7,7,7,7,7,7,7,7,7,7,7,7,7,7,7,7,7,7,7,7,7,7,7,7,7,7,7,7,7,7,7,7,7,7,7,7,7,7,7,7,7,7,7,7,7,7,7,7,7,7,7,7,7,7,7,7,7,7,7,7,7,7,7,7,7,7,7,7,7,7,7,7,7,7,7,7,7,7,7,7,7,7,7,7,7,7,7,7,7,7,7,7,7,7,7,7,7,7,7,7,7,7,7,7,7,7,7,7,7,7,7,7,7,7,7,7,7,7,7,7,7,7,7,7,7,7,7,7,7,7,7,7,7,7,7,7,7,7,7,7,7,7,7,7,7,7,7,7,7,7,7,7,7,7,7,7,7,7,7,7,7,7,7,7,7,7,7,7,7,7,7,7,7,7,7,7,7,7,7,7,7,7,7,7,7,7,7,7,7,7,7,7,7,7,7,7,7,7,7,7,7,7,7,7,7,7,7,7,7,7,7,7,7,7,7,7,7,7,7,7,7,7,7,7,7,7,7,7,7,7,7,7,7,7,7,7,7,7,7,7,7,7,7,7,7,7,7,7,7,7,7,7,7,7,7,7,7,7,7,7,7,7,7,7,7,7,7,7,7,7,7,7,7,7,7,7,7,7,7,7,7,7,7,7,7,7,7,7,7,7,7,7,7,7,7,7,7,7,7,7,7,7,7,7,7,7,7,7,7,7,7,7,7,7,7,7,7,7,7,7,7,7,7,7,7,7,7,7,7,7,7,7,7,7,7,7,7,7,7,7,7,7,7,7,7,7,7,7,7,7,7,7,7,7,7,7,7,7,7,7,7,7,7,7,7,7,7,7,7,7,7,7,7,7,7,7,7,7,7,7,7,7,7,7,7,7,7,7,7,7,7,7,7,7,7,7,7,7,7,7,7,7,7,7,7,7,7,7,7,7,7,7,7,7,7,7,7,7,7,7,7,7,7,7,7,7,7,7,7,7,7,7,7,7,7,7,7,7,7,7,7,7,7,7,7,7,7,7,7,7,7,7,7,7,7,7,7,7,7,7,7,7,7,7,7,7,7,7,7,7,7,7,7,7,7,7,7,7,7,7,7,7,7,7,7,7,7,7,7,7,7,7,7,7,7,7,7,7,7,7,7,7,7,7,7,7,7,7,7,7,7,7,7,7,7,7,7,7,7,7,7,7,7,7,7,7,7,7,7,7,7,7,7,7,7,7,7,7,7,7,7,7,7,7,7,7,7,7,7,7,7,7,7,7,7,7,7,7,7,7,7,7,7,7,7,7,7,7,7,7,7,7,7,7,7,7,7,7,7,7,7,7,7,7,7,7,7,7,7,7,7,7,7,7,7,7,7,7,7,7,7,7,7,7,7,7,7,7,7,7,7,7,7,7,7,7,7,7,7,7,7,7,7,7,7,7,7,7,7,7,7,7,7,7,7,7,7,7,7,7,7,7,7,7,7,7,7,7,7,7,7,7,7,7,7,7,7,7,7,7,7,7,7,7,7,7,7,7,7,7,7,7,7,7,7,7,7,7,7,7,7,7,7,7,7,7,7,7,7,7,7,7,7,7,7,7,7,7,7,7,7,7,7,7,7,7,7,7,7,7,7,7,7,7,7,7,7,7,7,7,7,7,7,7,7,7,7,7,7,7,7,7,7,7,7,7,7,7,7,7,7,7,7,7,7,7,7,7,7,7,7,7,7,7,7,7,7,7,7,7],\"stat\":{\"__ndarray__\":\"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\",\"dtype\":\"float64\",\"shape\":[1474]},\"transformed_q\":{\"__ndarray__\":\"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\",\"dtype\":\"float64\",\"shape\":[1474]}},\"selected\":{\"id\":\"2640\"},\"selection_policy\":{\"id\":\"2641\"}},\"id\":\"2615\",\"type\":\"ColumnDataSource\"},{\"attributes\":{},\"id\":\"2605\",\"type\":\"HelpTool\"},{\"attributes\":{\"js_property_callbacks\":{\"change:value\":[{\"id\":\"2633\"}]},\"title\":\"text\",\"value\":\"gene\"},\"id\":\"2632\",\"type\":\"TextInput\"},{\"attributes\":{\"bottom_units\":\"screen\",\"fill_alpha\":0.5,\"fill_color\":\"lightgrey\",\"left_units\":\"screen\",\"level\":\"overlay\",\"line_alpha\":1.0,\"line_color\":\"black\",\"line_dash\":[4,4],\"line_width\":2,\"render_mode\":\"css\",\"right_units\":\"screen\",\"top_units\":\"screen\"},\"id\":\"2606\",\"type\":\"BoxAnnotation\"},{\"attributes\":{\"axis_label\":\"-log(Q)\",\"formatter\":{\"id\":\"2636\"},\"ticker\":{\"id\":\"2597\"}},\"id\":\"2596\",\"type\":\"LinearAxis\"},{\"attributes\":{},\"id\":\"2588\",\"type\":\"LinearScale\"},{\"attributes\":{\"source\":{\"id\":\"2621\"}},\"id\":\"2626\",\"type\":\"CDSView\"},{\"attributes\":{\"data_source\":{\"id\":\"2615\"},\"glyph\":{\"id\":\"2617\"},\"hover_glyph\":null,\"muted_glyph\":null,\"name\":\"circles\",\"nonselection_glyph\":{\"id\":\"2618\"},\"selection_glyph\":null,\"view\":{\"id\":\"2620\"}},\"id\":\"2619\",\"type\":\"GlyphRenderer\"},{\"attributes\":{\"callback\":null,\"names\":[\"circles\"],\"tooltips\":[[\"gene\",\"@gene_id\"]]},\"id\":\"2580\",\"type\":\"HoverTool\"},{\"attributes\":{},\"id\":\"2590\",\"type\":\"LinearScale\"},{\"attributes\":{\"text\":\"DESeq results of MV411 under YLK inhibition as volcano plot\"},\"id\":\"2582\",\"type\":\"Title\"},{\"attributes\":{\"data_source\":{\"id\":\"2621\"},\"glyph\":{\"id\":\"2623\"},\"hover_glyph\":null,\"muted_glyph\":null,\"name\":\"circles\",\"nonselection_glyph\":{\"id\":\"2624\"},\"selection_glyph\":null,\"view\":{\"id\":\"2626\"}},\"id\":\"2625\",\"type\":\"GlyphRenderer\"},{\"attributes\":{\"source\":{\"id\":\"2621\"}},\"id\":\"2631\",\"type\":\"CDSView\"},{\"attributes\":{\"fill_alpha\":{\"value\":0.1},\"fill_color\":{\"field\":\"color\"},\"line_alpha\":{\"value\":0.1},\"line_color\":{\"field\":\"color\"},\"size\":{\"field\":\"size\",\"units\":\"screen\"},\"x\":{\"field\":\"log2FoldChange\"},\"y\":{\"field\":\"transformed_q\"}},\"id\":\"2618\",\"type\":\"Scatter\"},{\"attributes\":{},\"id\":\"2640\",\"type\":\"Selection\"},{\"attributes\":{},\"id\":\"2603\",\"type\":\"SaveTool\"},{\"attributes\":{\"fill_alpha\":{\"field\":\"alpha\"},\"fill_color\":{\"field\":\"color\"},\"line_alpha\":{\"field\":\"alpha\"},\"line_color\":{\"field\":\"color\"},\"size\":{\"field\":\"size\",\"units\":\"screen\"},\"x\":{\"field\":\"log2FoldChange\"},\"y\":{\"field\":\"transformed_q\"}},\"id\":\"2617\",\"type\":\"Scatter\"},{\"attributes\":{\"source\":{\"id\":\"2615\"}},\"id\":\"2620\",\"type\":\"CDSView\"},{\"attributes\":{\"fill_alpha\":{\"value\":0.1},\"fill_color\":{\"field\":\"color\"},\"line_alpha\":{\"value\":0.1},\"line_color\":{\"field\":\"color\"},\"size\":{\"field\":\"size\",\"units\":\"screen\"},\"x\":{\"field\":\"log2FoldChange\"},\"y\":{\"field\":\"transformed_q\"}},\"id\":\"2624\",\"type\":\"Scatter\"},{\"attributes\":{},\"id\":\"2636\",\"type\":\"BasicTickFormatter\"},{\"attributes\":{\"axis\":{\"id\":\"2596\"},\"dimension\":1,\"grid_line_color\":\"white\",\"ticker\":null},\"id\":\"2599\",\"type\":\"Grid\"},{\"attributes\":{\"axis_label\":\"log-fold change\",\"formatter\":{\"id\":\"2638\"},\"ticker\":{\"id\":\"2593\"}},\"id\":\"2592\",\"type\":\"LinearAxis\"},{\"attributes\":{},\"id\":\"2641\",\"type\":\"UnionRenderers\"},{\"attributes\":{\"args\":{\"source\":{\"id\":\"2615\"}},\"code\":\"\\n      var data = source.data\\n      var value = cb_obj.value\\n      var gene_id = data.gene_id\\n      var a = -1\\n      for (i=0; i < gene_id.length; i++) {\\n          if ( gene_id[i]===value ) { a=i; console.log(i); data.size[i]=7; data.alpha[i]=1; data.color[i]='#fc8d59' }\\n      }\\n      source.data = data\\n      console.log(source)\\n      console.log(cb_obj)\\n      source.change.emit()\\n      console.log(source)\\n      \"},\"id\":\"2633\",\"type\":\"CustomJS\"},{\"attributes\":{\"data\":{\"alpha\":{\"__ndarray__\":\"MzMzMzMz4z8zMzMzMzPjPzMzMzMzM+M/MzMzMzMz4z8zMzMzMzPjPzMzMzMzM+M/MzMzMzMz4z8zMzMzMzPjPzMzMzMzM+M/MzMzMzMz4z8zMzMzMzPjPzMzMzMzM+M/\",\"dtype\":\"float64\",\"shape\":[12]},\"baseMean\":{\"__ndarray__\":\"zkCWtFame0CAGBiaWHmNQGaKpT4OIJBAnvACISyTakAHoCIl3r97QGCi3ucwM39AmTbQe+7dg0Cq42RkAa1mQOs6WCd1wXRAjOcMuMmRdkAoeY9F6SB1QMmalbQqMIxA\",\"dtype\":\"float64\",\"shape\":[12]},\"color\":[\"#fc8d59\",\"#fc8d59\",\"#fc8d59\",\"#fc8d59\",\"#fc8d59\",\"#fc8d59\",\"#fc8d59\",\"#fc8d59\",\"#fc8d59\",\"#fc8d59\",\"#fc8d59\",\"#fc8d59\"],\"gene_id\":[\"RUNX2\",\"RUNX1\",\"CEBPA\",\"E2F3\",\"ETV6\",\"FOSL2\",\"GFI1\",\"MEIS1\",\"MYB\",\"MYC\",\"SP1\",\"ZEB2\"],\"genes\":[\"RUNX2\",\"RUNX1\",\"CEBPA\",\"E2F3\",\"ETV6\",\"FOSL2\",\"GFI1\",\"MEIS1\",\"MYB\",\"MYC\",\"SP1\",\"ZEB2\"],\"index\":[\"393\",\"394\",\"491\",\"816\",\"935\",\"1035\",\"1108\",\"1700\",\"1807\",\"1811\",\"2869\",\"4378\"],\"lfcSE\":{\"__ndarray__\":\"QGurhi3Fuj8/bVeyGse5P0kaP4ShoLg/kPccr9WEvj85SD0jM565PzdS/LJmwLg/JTernUk/tz9IA9pBECHCP62HF0MVZ7w/f/Lj8ToSvD8D4TwMbzC6P5n9UlHCI70/\",\"dtype\":\"float64\",\"shape\":[12]},\"log2FoldChange\":{\"__ndarray__\":\"WIUkQ8+71791TOrsk17fv+kv0yhObt+/gnTEJ7Hnyb/w1gZIgbbGv9o4n7ORots/To0PQWD/4L+2xg9+AZbSP0hpUVO2I9u/W224ZdeS8r+1fj0HRpXRv3MqPDBj5tC/\",\"dtype\":\"float64\",\"shape\":[12]},\"padj\":{\"__ndarray__\":\"O+7qKpd8kD+hDyQ1tWUYP6r55fN1BQA/pd+caunx4j+QcrOqWb3hP5ldtV1Sc0I//pguNX0BqD4TCuLRdUDaP5prHIYwpXo/hAsfJvTZNTtsTMu0na/CPw9NGfSnltI/\",\"dtype\":\"float64\",\"shape\":[12]},\"pvalue\":{\"__ndarray__\":\"/quoxTebOT/juToJxPGyPmRrj5afMpY+vfxi/23utj+U3Vw/iYGzPxgcaqHptuA+fHfnWusyNT54+IbsmaWkP9JdxWLRVyE/jrPY8+RKpTrOGWDXyah9P0Q+2EpQ1pQ/\",\"dtype\":\"float64\",\"shape\":[12]},\"size\":[7,7,7,7,7,7,7,7,7,7,7,7],\"stat\":{\"__ndarray__\":\"dtFVTMReDMDCAEFygHgTwCDoP3aIaxTAIuGbAYkp+792bS2YCF/8v+VXhFYr3RFAujL8IrVlF8DNae1LNWcAQI4X1zaskw7A3GEHrVEsJcBwRIbMAXwFwGhTG3gPjwLA\",\"dtype\":\"float64\",\"shape\":[12]},\"transformed_q\":{\"__ndarray__\":\"/QeWHNtDC0B/oMgL+ckXQD00g5UA7BlAsOsNdtTD8D8NvvMvn+PxP/jYqL3mZBRAHeS9wwCdIEC0SECohk/2P3KcGpPuBg9A2NRvH6R2OUCf+G5zIB8BQBnLZc05EPs/\",\"dtype\":\"float64\",\"shape\":[12]}},\"selected\":{\"id\":\"2642\"},\"selection_policy\":{\"id\":\"2643\"}},\"id\":\"2621\",\"type\":\"ColumnDataSource\"}],\"root_ids\":[\"2634\"]},\"title\":\"Bokeh Application\",\"version\":\"2.0.2\"}};\n",
       "  var render_items = [{\"docid\":\"c85491ec-b10e-4299-aabd-bec5ed16255c\",\"root_ids\":[\"2634\"],\"roots\":{\"2634\":\"97557560-bf58-4ae6-a5c2-104bd177d669\"}}];\n",
       "  root.Bokeh.embed.embed_items_notebook(docs_json, render_items);\n",
       "\n",
       "  }\n",
       "  if (root.Bokeh !== undefined) {\n",
       "    embed_document(root);\n",
       "  } else {\n",
       "    var attempts = 0;\n",
       "    var timer = setInterval(function(root) {\n",
       "      if (root.Bokeh !== undefined) {\n",
       "        clearInterval(timer);\n",
       "        embed_document(root);\n",
       "      } else {\n",
       "        attempts++;\n",
       "        if (attempts > 100) {\n",
       "          clearInterval(timer);\n",
       "          console.log(\"Bokeh: ERROR: Unable to run BokehJS code because BokehJS library is missing\");\n",
       "        }\n",
       "      }\n",
       "    }, 10, root)\n",
       "  }\n",
       "})(window);"
      ],
      "application/vnd.bokehjs_exec.v0+json": ""
     },
     "metadata": {
      "application/vnd.bokehjs_exec.v0+json": {
       "id": "2634"
      }
     },
     "output_type": "display_data"
    },
    {
     "data": {
      "text/html": [
       "<div style=\"display: table;\"><div style=\"display: table-row;\"><div style=\"display: table-cell;\"><b title=\"bokeh.models.layouts.Column\">Column</b>(</div><div style=\"display: table-cell;\">id&nbsp;=&nbsp;'2634', <span id=\"2877\" style=\"cursor: pointer;\">&hellip;)</span></div></div><div class=\"2876\" style=\"display: none;\"><div style=\"display: table-cell;\"></div><div style=\"display: table-cell;\">align&nbsp;=&nbsp;'start',</div></div><div class=\"2876\" style=\"display: none;\"><div style=\"display: table-cell;\"></div><div style=\"display: table-cell;\">aspect_ratio&nbsp;=&nbsp;None,</div></div><div class=\"2876\" style=\"display: none;\"><div style=\"display: table-cell;\"></div><div style=\"display: table-cell;\">background&nbsp;=&nbsp;None,</div></div><div class=\"2876\" style=\"display: none;\"><div style=\"display: table-cell;\"></div><div style=\"display: table-cell;\">children&nbsp;=&nbsp;[TextInput(id='2632', ...), Figure(id='2581', ...)],</div></div><div class=\"2876\" style=\"display: none;\"><div style=\"display: table-cell;\"></div><div style=\"display: table-cell;\">css_classes&nbsp;=&nbsp;[],</div></div><div class=\"2876\" style=\"display: none;\"><div style=\"display: table-cell;\"></div><div style=\"display: table-cell;\">disabled&nbsp;=&nbsp;False,</div></div><div class=\"2876\" style=\"display: none;\"><div style=\"display: table-cell;\"></div><div style=\"display: table-cell;\">height&nbsp;=&nbsp;None,</div></div><div class=\"2876\" style=\"display: none;\"><div style=\"display: table-cell;\"></div><div style=\"display: table-cell;\">height_policy&nbsp;=&nbsp;'auto',</div></div><div class=\"2876\" style=\"display: none;\"><div style=\"display: table-cell;\"></div><div style=\"display: table-cell;\">js_event_callbacks&nbsp;=&nbsp;{},</div></div><div class=\"2876\" style=\"display: none;\"><div style=\"display: table-cell;\"></div><div style=\"display: table-cell;\">js_property_callbacks&nbsp;=&nbsp;{},</div></div><div class=\"2876\" style=\"display: none;\"><div style=\"display: table-cell;\"></div><div style=\"display: table-cell;\">margin&nbsp;=&nbsp;(0, 0, 0, 0),</div></div><div class=\"2876\" style=\"display: none;\"><div style=\"display: table-cell;\"></div><div style=\"display: table-cell;\">max_height&nbsp;=&nbsp;None,</div></div><div class=\"2876\" style=\"display: none;\"><div style=\"display: table-cell;\"></div><div style=\"display: table-cell;\">max_width&nbsp;=&nbsp;None,</div></div><div class=\"2876\" style=\"display: none;\"><div style=\"display: table-cell;\"></div><div style=\"display: table-cell;\">min_height&nbsp;=&nbsp;None,</div></div><div class=\"2876\" style=\"display: none;\"><div style=\"display: table-cell;\"></div><div style=\"display: table-cell;\">min_width&nbsp;=&nbsp;None,</div></div><div class=\"2876\" style=\"display: none;\"><div style=\"display: table-cell;\"></div><div style=\"display: table-cell;\">name&nbsp;=&nbsp;None,</div></div><div class=\"2876\" style=\"display: none;\"><div style=\"display: table-cell;\"></div><div style=\"display: table-cell;\">rows&nbsp;=&nbsp;'auto',</div></div><div class=\"2876\" style=\"display: none;\"><div style=\"display: table-cell;\"></div><div style=\"display: table-cell;\">sizing_mode&nbsp;=&nbsp;None,</div></div><div class=\"2876\" style=\"display: none;\"><div style=\"display: table-cell;\"></div><div style=\"display: table-cell;\">spacing&nbsp;=&nbsp;0,</div></div><div class=\"2876\" style=\"display: none;\"><div style=\"display: table-cell;\"></div><div style=\"display: table-cell;\">subscribed_events&nbsp;=&nbsp;[],</div></div><div class=\"2876\" style=\"display: none;\"><div style=\"display: table-cell;\"></div><div style=\"display: table-cell;\">tags&nbsp;=&nbsp;[],</div></div><div class=\"2876\" style=\"display: none;\"><div style=\"display: table-cell;\"></div><div style=\"display: table-cell;\">visible&nbsp;=&nbsp;True,</div></div><div class=\"2876\" style=\"display: none;\"><div style=\"display: table-cell;\"></div><div style=\"display: table-cell;\">width&nbsp;=&nbsp;None,</div></div><div class=\"2876\" style=\"display: none;\"><div style=\"display: table-cell;\"></div><div style=\"display: table-cell;\">width_policy&nbsp;=&nbsp;'auto')</div></div></div>\n",
       "<script>\n",
       "(function() {\n",
       "  var expanded = false;\n",
       "  var ellipsis = document.getElementById(\"2877\");\n",
       "  ellipsis.addEventListener(\"click\", function() {\n",
       "    var rows = document.getElementsByClassName(\"2876\");\n",
       "    for (var i = 0; i < rows.length; i++) {\n",
       "      var el = rows[i];\n",
       "      el.style.display = expanded ? \"none\" : \"table-row\";\n",
       "    }\n",
       "    ellipsis.innerHTML = expanded ? \"&hellip;)\" : \"&lsaquo;&lsaquo;&lsaquo;\";\n",
       "    expanded = !expanded;\n",
       "  });\n",
       "})();\n",
       "</script>\n"
      ],
      "text/plain": [
       "Column(id='2634', ...)"
      ]
     },
     "execution_count": 75,
     "metadata": {},
     "output_type": "execute_result"
    }
   ],
   "source": [
    "plot.volcano(res,tohighlight=ctf, searchbox=True, title='DESeq results of MV411 under YLK inhibition as volcano plot', folder='../results/'+project+'/plots/'+version+'_'+scaling+\"_\"+str(minvar_toremove)+'_'+str(mincount_toremove))"
   ]
  },
  {
   "cell_type": "markdown",
   "metadata": {},
   "source": [
    "### Readcounts version"
   ]
  },
  {
   "cell_type": "code",
   "execution_count": 858,
   "metadata": {},
   "outputs": [
    {
     "name": "stdout",
     "output_type": "stream",
     "text": [
      "Stored 'res' (Series)\n",
      "Stored 'tccounts' (DataFrame)\n",
      "Stored 'readcounts' (DataFrame)\n",
      "Stored 'ctf' (list)\n"
     ]
    }
   ],
   "source": [
    "%store res\n",
    "\n",
    "%store tccounts\n",
    "%store readcounts\n",
    "%store ctf"
   ]
  },
  {
   "cell_type": "code",
   "execution_count": 860,
   "metadata": {},
   "outputs": [
    {
     "data": {
      "text/plain": [
       "'vAll'"
      ]
     },
     "execution_count": 860,
     "metadata": {},
     "output_type": "execute_result"
    }
   ],
   "source": [
    "version"
   ]
  }
 ],
 "metadata": {
  "kernelspec": {
   "display_name": "Python 3 (ipykernel)",
   "language": "python",
   "name": "python3"
  },
  "language_info": {
   "codemirror_mode": {
    "name": "ipython",
    "version": 3
   },
   "file_extension": ".py",
   "mimetype": "text/x-python",
   "name": "python",
   "nbconvert_exporter": "python",
   "pygments_lexer": "ipython3",
   "version": "3.8.8"
  },
  "latex_envs": {
   "LaTeX_envs_menu_present": true,
   "autoclose": false,
   "autocomplete": true,
   "bibliofile": "biblio.bib",
   "cite_by": "apalike",
   "current_citInitial": 1,
   "eqLabelWithNumbers": true,
   "eqNumInitial": 1,
   "hotkeys": {
    "equation": "Ctrl-E",
    "itemize": "Ctrl-I"
   },
   "labels_anchors": false,
   "latex_user_defs": false,
   "report_style_numbering": false,
   "user_envs_cfg": false
  },
  "toc": {
   "base_numbering": 1,
   "nav_menu": {},
   "number_sections": false,
   "sideBar": true,
   "skip_h1_title": false,
   "title_cell": "Table of Contents",
   "title_sidebar": "Contents",
   "toc_cell": false,
   "toc_position": {
    "height": "calc(100% - 180px)",
    "left": "10px",
    "top": "150px",
    "width": "230.4px"
   },
   "toc_section_display": true,
   "toc_window_display": true
  },
  "varInspector": {
   "cols": {
    "lenName": 16,
    "lenType": 16,
    "lenVar": 40
   },
   "kernels_config": {
    "python": {
     "delete_cmd_postfix": "",
     "delete_cmd_prefix": "del ",
     "library": "var_list.py",
     "varRefreshCmd": "print(var_dic_list())"
    },
    "r": {
     "delete_cmd_postfix": ") ",
     "delete_cmd_prefix": "rm(",
     "library": "var_list.r",
     "varRefreshCmd": "cat(var_dic_list()) "
    }
   },
   "types_to_exclude": [
    "module",
    "function",
    "builtin_function_or_method",
    "instance",
    "_Feature"
   ],
   "window_display": false
  }
 },
 "nbformat": 4,
 "nbformat_minor": 2
}
