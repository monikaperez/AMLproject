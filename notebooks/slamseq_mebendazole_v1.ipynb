{
 "cells": [
  {
   "cell_type": "markdown",
   "id": "2ab04966",
   "metadata": {},
   "source": [
    "# SLAMseq"
   ]
  },
  {
   "cell_type": "markdown",
   "id": "5b0672fb",
   "metadata": {},
   "source": [
    "## Installing slamdunk (only do once)"
   ]
  },
  {
   "cell_type": "code",
   "execution_count": 1,
   "id": "f0190289",
   "metadata": {},
   "outputs": [],
   "source": [
    "# install slamdunk\n",
    "#! pip3 install git+https://github.com/jkobject/slamdunk.git --upgrade"
   ]
  },
  {
   "cell_type": "code",
   "execution_count": null,
   "id": "1a85d7e6",
   "metadata": {},
   "outputs": [],
   "source": [
    "# clone and install genepy\n",
    "# pip install -e genepy"
   ]
  },
  {
   "cell_type": "code",
   "execution_count": 2,
   "id": "37dfe277",
   "metadata": {},
   "outputs": [],
   "source": [
    "# please also install cutadapt, fastqc, and trimgalore\n",
    "#! conda install -c bioconda cutadapt\n",
    "#! conda install -c bioconda fastqc\n",
    "#! conda install -c bioconda trim-galore"
   ]
  },
  {
   "cell_type": "code",
   "execution_count": 1,
   "id": "7e982d61",
   "metadata": {
    "scrolled": true
   },
   "outputs": [],
   "source": [
    "from __future__ import print_function\n",
    "import os.path\n",
    "import pandas as pd\n",
    "import sys\n",
    "sys.path.insert(0, '../../')\n",
    "import seaborn as sns\n",
    "import numpy as np\n",
    "\n",
    "from genepy.utils import helper as h\n",
    "from genepy.utils import plot as genepyPlot\n",
    "from genepy.rna import pyDESeq2\n",
    "import genepy.rna as rna"
   ]
  },
  {
   "cell_type": "code",
   "execution_count": 3,
   "id": "8ca06706",
   "metadata": {},
   "outputs": [
    {
     "data": {
      "text/html": [
       "\n",
       "    <div class=\"bk-root\">\n",
       "        <a href=\"https://bokeh.org\" target=\"_blank\" class=\"bk-logo bk-logo-small bk-logo-notebook\"></a>\n",
       "        <span id=\"1003\">Loading BokehJS ...</span>\n",
       "    </div>"
      ]
     },
     "metadata": {},
     "output_type": "display_data"
    },
    {
     "data": {
      "application/javascript": [
       "\n",
       "(function(root) {\n",
       "  function now() {\n",
       "    return new Date();\n",
       "  }\n",
       "\n",
       "  const force = true;\n",
       "\n",
       "  if (typeof root._bokeh_onload_callbacks === \"undefined\" || force === true) {\n",
       "    root._bokeh_onload_callbacks = [];\n",
       "    root._bokeh_is_loading = undefined;\n",
       "  }\n",
       "\n",
       "  const JS_MIME_TYPE = 'application/javascript';\n",
       "  const HTML_MIME_TYPE = 'text/html';\n",
       "  const EXEC_MIME_TYPE = 'application/vnd.bokehjs_exec.v0+json';\n",
       "  const CLASS_NAME = 'output_bokeh rendered_html';\n",
       "\n",
       "  /**\n",
       "   * Render data to the DOM node\n",
       "   */\n",
       "  function render(props, node) {\n",
       "    const script = document.createElement(\"script\");\n",
       "    node.appendChild(script);\n",
       "  }\n",
       "\n",
       "  /**\n",
       "   * Handle when an output is cleared or removed\n",
       "   */\n",
       "  function handleClearOutput(event, handle) {\n",
       "    const cell = handle.cell;\n",
       "\n",
       "    const id = cell.output_area._bokeh_element_id;\n",
       "    const server_id = cell.output_area._bokeh_server_id;\n",
       "    // Clean up Bokeh references\n",
       "    if (id != null && id in Bokeh.index) {\n",
       "      Bokeh.index[id].model.document.clear();\n",
       "      delete Bokeh.index[id];\n",
       "    }\n",
       "\n",
       "    if (server_id !== undefined) {\n",
       "      // Clean up Bokeh references\n",
       "      const cmd_clean = \"from bokeh.io.state import curstate; print(curstate().uuid_to_server['\" + server_id + \"'].get_sessions()[0].document.roots[0]._id)\";\n",
       "      cell.notebook.kernel.execute(cmd_clean, {\n",
       "        iopub: {\n",
       "          output: function(msg) {\n",
       "            const id = msg.content.text.trim();\n",
       "            if (id in Bokeh.index) {\n",
       "              Bokeh.index[id].model.document.clear();\n",
       "              delete Bokeh.index[id];\n",
       "            }\n",
       "          }\n",
       "        }\n",
       "      });\n",
       "      // Destroy server and session\n",
       "      const cmd_destroy = \"import bokeh.io.notebook as ion; ion.destroy_server('\" + server_id + \"')\";\n",
       "      cell.notebook.kernel.execute(cmd_destroy);\n",
       "    }\n",
       "  }\n",
       "\n",
       "  /**\n",
       "   * Handle when a new output is added\n",
       "   */\n",
       "  function handleAddOutput(event, handle) {\n",
       "    const output_area = handle.output_area;\n",
       "    const output = handle.output;\n",
       "\n",
       "    // limit handleAddOutput to display_data with EXEC_MIME_TYPE content only\n",
       "    if ((output.output_type != \"display_data\") || (!Object.prototype.hasOwnProperty.call(output.data, EXEC_MIME_TYPE))) {\n",
       "      return\n",
       "    }\n",
       "\n",
       "    const toinsert = output_area.element.find(\".\" + CLASS_NAME.split(' ')[0]);\n",
       "\n",
       "    if (output.metadata[EXEC_MIME_TYPE][\"id\"] !== undefined) {\n",
       "      toinsert[toinsert.length - 1].firstChild.textContent = output.data[JS_MIME_TYPE];\n",
       "      // store reference to embed id on output_area\n",
       "      output_area._bokeh_element_id = output.metadata[EXEC_MIME_TYPE][\"id\"];\n",
       "    }\n",
       "    if (output.metadata[EXEC_MIME_TYPE][\"server_id\"] !== undefined) {\n",
       "      const bk_div = document.createElement(\"div\");\n",
       "      bk_div.innerHTML = output.data[HTML_MIME_TYPE];\n",
       "      const script_attrs = bk_div.children[0].attributes;\n",
       "      for (let i = 0; i < script_attrs.length; i++) {\n",
       "        toinsert[toinsert.length - 1].firstChild.setAttribute(script_attrs[i].name, script_attrs[i].value);\n",
       "        toinsert[toinsert.length - 1].firstChild.textContent = bk_div.children[0].textContent\n",
       "      }\n",
       "      // store reference to server id on output_area\n",
       "      output_area._bokeh_server_id = output.metadata[EXEC_MIME_TYPE][\"server_id\"];\n",
       "    }\n",
       "  }\n",
       "\n",
       "  function register_renderer(events, OutputArea) {\n",
       "\n",
       "    function append_mime(data, metadata, element) {\n",
       "      // create a DOM node to render to\n",
       "      const toinsert = this.create_output_subarea(\n",
       "        metadata,\n",
       "        CLASS_NAME,\n",
       "        EXEC_MIME_TYPE\n",
       "      );\n",
       "      this.keyboard_manager.register_events(toinsert);\n",
       "      // Render to node\n",
       "      const props = {data: data, metadata: metadata[EXEC_MIME_TYPE]};\n",
       "      render(props, toinsert[toinsert.length - 1]);\n",
       "      element.append(toinsert);\n",
       "      return toinsert\n",
       "    }\n",
       "\n",
       "    /* Handle when an output is cleared or removed */\n",
       "    events.on('clear_output.CodeCell', handleClearOutput);\n",
       "    events.on('delete.Cell', handleClearOutput);\n",
       "\n",
       "    /* Handle when a new output is added */\n",
       "    events.on('output_added.OutputArea', handleAddOutput);\n",
       "\n",
       "    /**\n",
       "     * Register the mime type and append_mime function with output_area\n",
       "     */\n",
       "    OutputArea.prototype.register_mime_type(EXEC_MIME_TYPE, append_mime, {\n",
       "      /* Is output safe? */\n",
       "      safe: true,\n",
       "      /* Index of renderer in `output_area.display_order` */\n",
       "      index: 0\n",
       "    });\n",
       "  }\n",
       "\n",
       "  // register the mime type if in Jupyter Notebook environment and previously unregistered\n",
       "  if (root.Jupyter !== undefined) {\n",
       "    const events = require('base/js/events');\n",
       "    const OutputArea = require('notebook/js/outputarea').OutputArea;\n",
       "\n",
       "    if (OutputArea.prototype.mime_types().indexOf(EXEC_MIME_TYPE) == -1) {\n",
       "      register_renderer(events, OutputArea);\n",
       "    }\n",
       "  }\n",
       "\n",
       "  \n",
       "  if (typeof (root._bokeh_timeout) === \"undefined\" || force === true) {\n",
       "    root._bokeh_timeout = Date.now() + 5000;\n",
       "    root._bokeh_failed_load = false;\n",
       "  }\n",
       "\n",
       "  const NB_LOAD_WARNING = {'data': {'text/html':\n",
       "     \"<div style='background-color: #fdd'>\\n\"+\n",
       "     \"<p>\\n\"+\n",
       "     \"BokehJS does not appear to have successfully loaded. If loading BokehJS from CDN, this \\n\"+\n",
       "     \"may be due to a slow or bad network connection. Possible fixes:\\n\"+\n",
       "     \"</p>\\n\"+\n",
       "     \"<ul>\\n\"+\n",
       "     \"<li>re-rerun `output_notebook()` to attempt to load from CDN again, or</li>\\n\"+\n",
       "     \"<li>use INLINE resources instead, as so:</li>\\n\"+\n",
       "     \"</ul>\\n\"+\n",
       "     \"<code>\\n\"+\n",
       "     \"from bokeh.resources import INLINE\\n\"+\n",
       "     \"output_notebook(resources=INLINE)\\n\"+\n",
       "     \"</code>\\n\"+\n",
       "     \"</div>\"}};\n",
       "\n",
       "  function display_loaded() {\n",
       "    const el = document.getElementById(\"1003\");\n",
       "    if (el != null) {\n",
       "      el.textContent = \"BokehJS is loading...\";\n",
       "    }\n",
       "    if (root.Bokeh !== undefined) {\n",
       "      if (el != null) {\n",
       "        el.textContent = \"BokehJS \" + root.Bokeh.version + \" successfully loaded.\";\n",
       "      }\n",
       "    } else if (Date.now() < root._bokeh_timeout) {\n",
       "      setTimeout(display_loaded, 100)\n",
       "    }\n",
       "  }\n",
       "\n",
       "\n",
       "  function run_callbacks() {\n",
       "    try {\n",
       "      root._bokeh_onload_callbacks.forEach(function(callback) {\n",
       "        if (callback != null)\n",
       "          callback();\n",
       "      });\n",
       "    } finally {\n",
       "      delete root._bokeh_onload_callbacks\n",
       "    }\n",
       "    console.debug(\"Bokeh: all callbacks have finished\");\n",
       "  }\n",
       "\n",
       "  function load_libs(css_urls, js_urls, callback) {\n",
       "    if (css_urls == null) css_urls = [];\n",
       "    if (js_urls == null) js_urls = [];\n",
       "\n",
       "    root._bokeh_onload_callbacks.push(callback);\n",
       "    if (root._bokeh_is_loading > 0) {\n",
       "      console.debug(\"Bokeh: BokehJS is being loaded, scheduling callback at\", now());\n",
       "      return null;\n",
       "    }\n",
       "    if (js_urls == null || js_urls.length === 0) {\n",
       "      run_callbacks();\n",
       "      return null;\n",
       "    }\n",
       "    console.debug(\"Bokeh: BokehJS not loaded, scheduling load and callback at\", now());\n",
       "    root._bokeh_is_loading = css_urls.length + js_urls.length;\n",
       "\n",
       "    function on_load() {\n",
       "      root._bokeh_is_loading--;\n",
       "      if (root._bokeh_is_loading === 0) {\n",
       "        console.debug(\"Bokeh: all BokehJS libraries/stylesheets loaded\");\n",
       "        run_callbacks()\n",
       "      }\n",
       "    }\n",
       "\n",
       "    function on_error(url) {\n",
       "      console.error(\"failed to load \" + url);\n",
       "    }\n",
       "\n",
       "    for (let i = 0; i < css_urls.length; i++) {\n",
       "      const url = css_urls[i];\n",
       "      const element = document.createElement(\"link\");\n",
       "      element.onload = on_load;\n",
       "      element.onerror = on_error.bind(null, url);\n",
       "      element.rel = \"stylesheet\";\n",
       "      element.type = \"text/css\";\n",
       "      element.href = url;\n",
       "      console.debug(\"Bokeh: injecting link tag for BokehJS stylesheet: \", url);\n",
       "      document.body.appendChild(element);\n",
       "    }\n",
       "\n",
       "    for (let i = 0; i < js_urls.length; i++) {\n",
       "      const url = js_urls[i];\n",
       "      const element = document.createElement('script');\n",
       "      element.onload = on_load;\n",
       "      element.onerror = on_error.bind(null, url);\n",
       "      element.async = false;\n",
       "      element.src = url;\n",
       "      console.debug(\"Bokeh: injecting script tag for BokehJS library: \", url);\n",
       "      document.head.appendChild(element);\n",
       "    }\n",
       "  };\n",
       "\n",
       "  function inject_raw_css(css) {\n",
       "    const element = document.createElement(\"style\");\n",
       "    element.appendChild(document.createTextNode(css));\n",
       "    document.body.appendChild(element);\n",
       "  }\n",
       "\n",
       "  \n",
       "  const js_urls = [\"https://cdn.bokeh.org/bokeh/release/bokeh-2.4.2.min.js\", \"https://cdn.bokeh.org/bokeh/release/bokeh-gl-2.4.2.min.js\", \"https://cdn.bokeh.org/bokeh/release/bokeh-widgets-2.4.2.min.js\", \"https://cdn.bokeh.org/bokeh/release/bokeh-tables-2.4.2.min.js\", \"https://cdn.bokeh.org/bokeh/release/bokeh-mathjax-2.4.2.min.js\"];\n",
       "  const css_urls = [];\n",
       "  \n",
       "\n",
       "  const inline_js = [\n",
       "    function(Bokeh) {\n",
       "      Bokeh.set_log_level(\"info\");\n",
       "    },\n",
       "    function(Bokeh) {\n",
       "    \n",
       "    \n",
       "    }\n",
       "  ];\n",
       "\n",
       "  function run_inline_js() {\n",
       "    \n",
       "    if (root.Bokeh !== undefined || force === true) {\n",
       "      \n",
       "    for (let i = 0; i < inline_js.length; i++) {\n",
       "      inline_js[i].call(root, root.Bokeh);\n",
       "    }\n",
       "    if (force === true) {\n",
       "        display_loaded();\n",
       "      }} else if (Date.now() < root._bokeh_timeout) {\n",
       "      setTimeout(run_inline_js, 100);\n",
       "    } else if (!root._bokeh_failed_load) {\n",
       "      console.log(\"Bokeh: BokehJS failed to load within specified timeout.\");\n",
       "      root._bokeh_failed_load = true;\n",
       "    } else if (force !== true) {\n",
       "      const cell = $(document.getElementById(\"1003\")).parents('.cell').data().cell;\n",
       "      cell.output_area.append_execute_result(NB_LOAD_WARNING)\n",
       "    }\n",
       "\n",
       "  }\n",
       "\n",
       "  if (root._bokeh_is_loading === 0) {\n",
       "    console.debug(\"Bokeh: BokehJS loaded, going straight to plotting\");\n",
       "    run_inline_js();\n",
       "  } else {\n",
       "    load_libs(css_urls, js_urls, function() {\n",
       "      console.debug(\"Bokeh: BokehJS plotting callback run at\", now());\n",
       "      run_inline_js();\n",
       "    });\n",
       "  }\n",
       "}(window));"
      ],
      "application/vnd.bokehjs_load.v0+json": "\n(function(root) {\n  function now() {\n    return new Date();\n  }\n\n  const force = true;\n\n  if (typeof root._bokeh_onload_callbacks === \"undefined\" || force === true) {\n    root._bokeh_onload_callbacks = [];\n    root._bokeh_is_loading = undefined;\n  }\n\n  \n\n  \n  if (typeof (root._bokeh_timeout) === \"undefined\" || force === true) {\n    root._bokeh_timeout = Date.now() + 5000;\n    root._bokeh_failed_load = false;\n  }\n\n  const NB_LOAD_WARNING = {'data': {'text/html':\n     \"<div style='background-color: #fdd'>\\n\"+\n     \"<p>\\n\"+\n     \"BokehJS does not appear to have successfully loaded. If loading BokehJS from CDN, this \\n\"+\n     \"may be due to a slow or bad network connection. Possible fixes:\\n\"+\n     \"</p>\\n\"+\n     \"<ul>\\n\"+\n     \"<li>re-rerun `output_notebook()` to attempt to load from CDN again, or</li>\\n\"+\n     \"<li>use INLINE resources instead, as so:</li>\\n\"+\n     \"</ul>\\n\"+\n     \"<code>\\n\"+\n     \"from bokeh.resources import INLINE\\n\"+\n     \"output_notebook(resources=INLINE)\\n\"+\n     \"</code>\\n\"+\n     \"</div>\"}};\n\n  function display_loaded() {\n    const el = document.getElementById(\"1003\");\n    if (el != null) {\n      el.textContent = \"BokehJS is loading...\";\n    }\n    if (root.Bokeh !== undefined) {\n      if (el != null) {\n        el.textContent = \"BokehJS \" + root.Bokeh.version + \" successfully loaded.\";\n      }\n    } else if (Date.now() < root._bokeh_timeout) {\n      setTimeout(display_loaded, 100)\n    }\n  }\n\n\n  function run_callbacks() {\n    try {\n      root._bokeh_onload_callbacks.forEach(function(callback) {\n        if (callback != null)\n          callback();\n      });\n    } finally {\n      delete root._bokeh_onload_callbacks\n    }\n    console.debug(\"Bokeh: all callbacks have finished\");\n  }\n\n  function load_libs(css_urls, js_urls, callback) {\n    if (css_urls == null) css_urls = [];\n    if (js_urls == null) js_urls = [];\n\n    root._bokeh_onload_callbacks.push(callback);\n    if (root._bokeh_is_loading > 0) {\n      console.debug(\"Bokeh: BokehJS is being loaded, scheduling callback at\", now());\n      return null;\n    }\n    if (js_urls == null || js_urls.length === 0) {\n      run_callbacks();\n      return null;\n    }\n    console.debug(\"Bokeh: BokehJS not loaded, scheduling load and callback at\", now());\n    root._bokeh_is_loading = css_urls.length + js_urls.length;\n\n    function on_load() {\n      root._bokeh_is_loading--;\n      if (root._bokeh_is_loading === 0) {\n        console.debug(\"Bokeh: all BokehJS libraries/stylesheets loaded\");\n        run_callbacks()\n      }\n    }\n\n    function on_error(url) {\n      console.error(\"failed to load \" + url);\n    }\n\n    for (let i = 0; i < css_urls.length; i++) {\n      const url = css_urls[i];\n      const element = document.createElement(\"link\");\n      element.onload = on_load;\n      element.onerror = on_error.bind(null, url);\n      element.rel = \"stylesheet\";\n      element.type = \"text/css\";\n      element.href = url;\n      console.debug(\"Bokeh: injecting link tag for BokehJS stylesheet: \", url);\n      document.body.appendChild(element);\n    }\n\n    for (let i = 0; i < js_urls.length; i++) {\n      const url = js_urls[i];\n      const element = document.createElement('script');\n      element.onload = on_load;\n      element.onerror = on_error.bind(null, url);\n      element.async = false;\n      element.src = url;\n      console.debug(\"Bokeh: injecting script tag for BokehJS library: \", url);\n      document.head.appendChild(element);\n    }\n  };\n\n  function inject_raw_css(css) {\n    const element = document.createElement(\"style\");\n    element.appendChild(document.createTextNode(css));\n    document.body.appendChild(element);\n  }\n\n  \n  const js_urls = [\"https://cdn.bokeh.org/bokeh/release/bokeh-2.4.2.min.js\", \"https://cdn.bokeh.org/bokeh/release/bokeh-gl-2.4.2.min.js\", \"https://cdn.bokeh.org/bokeh/release/bokeh-widgets-2.4.2.min.js\", \"https://cdn.bokeh.org/bokeh/release/bokeh-tables-2.4.2.min.js\", \"https://cdn.bokeh.org/bokeh/release/bokeh-mathjax-2.4.2.min.js\"];\n  const css_urls = [];\n  \n\n  const inline_js = [\n    function(Bokeh) {\n      Bokeh.set_log_level(\"info\");\n    },\n    function(Bokeh) {\n    \n    \n    }\n  ];\n\n  function run_inline_js() {\n    \n    if (root.Bokeh !== undefined || force === true) {\n      \n    for (let i = 0; i < inline_js.length; i++) {\n      inline_js[i].call(root, root.Bokeh);\n    }\n    if (force === true) {\n        display_loaded();\n      }} else if (Date.now() < root._bokeh_timeout) {\n      setTimeout(run_inline_js, 100);\n    } else if (!root._bokeh_failed_load) {\n      console.log(\"Bokeh: BokehJS failed to load within specified timeout.\");\n      root._bokeh_failed_load = true;\n    } else if (force !== true) {\n      const cell = $(document.getElementById(\"1003\")).parents('.cell').data().cell;\n      cell.output_area.append_execute_result(NB_LOAD_WARNING)\n    }\n\n  }\n\n  if (root._bokeh_is_loading === 0) {\n    console.debug(\"Bokeh: BokehJS loaded, going straight to plotting\");\n    run_inline_js();\n  } else {\n    load_libs(css_urls, js_urls, function() {\n      console.debug(\"Bokeh: BokehJS plotting callback run at\", now());\n      run_inline_js();\n    });\n  }\n}(window));"
     },
     "metadata": {},
     "output_type": "display_data"
    },
    {
     "name": "stdout",
     "output_type": "stream",
     "text": [
      "The autoreload extension is already loaded. To reload it, use:\n",
      "  %reload_ext autoreload\n",
      "The rpy2.ipython extension is already loaded. To reload it, use:\n",
      "  %reload_ext rpy2.ipython\n"
     ]
    }
   ],
   "source": [
    "from bokeh.plotting import *\n",
    "from bokeh.models import HoverTool\n",
    "from bokeh.io import output_notebook\n",
    "\n",
    "import matplotlib.pyplot as plt\n",
    "\n",
    "from sklearn.neighbors import KNeighborsClassifier\n",
    "from sklearn.manifold import MDS, TSNE\n",
    "from sklearn.decomposition import PCA\n",
    "from sklearn.preprocessing import scale\n",
    "#from umap import UMAP\n",
    "\n",
    "output_notebook()\n",
    "%load_ext autoreload\n",
    "%matplotlib inline\n",
    "%autoreload 2\n",
    "%load_ext rpy2.ipython"
   ]
  },
  {
   "cell_type": "code",
   "execution_count": 4,
   "id": "5d0e5686",
   "metadata": {},
   "outputs": [],
   "source": [
    "def createDir(directory):\n",
    "    if not os.path.exists(directory):\n",
    "        print(\"Creating output directory: \" + directory)\n",
    "        os.makedirs(directory)"
   ]
  },
  {
   "cell_type": "markdown",
   "id": "e89ae8e9",
   "metadata": {},
   "source": [
    "# MV411 Mebendazole treatment"
   ]
  },
  {
   "cell_type": "markdown",
   "id": "97fdda44",
   "metadata": {},
   "source": [
    "SLAMseq of Mebendazole treatment in MV411 cells 1h with drug + 1h 4sU with 10$\\mu$M Mebendazole (with ERCC spike-in control)\n",
    "<br>__Processed without alt loci__"
   ]
  },
  {
   "cell_type": "code",
   "execution_count": 5,
   "id": "6f72c208",
   "metadata": {},
   "outputs": [],
   "source": [
    "project = \"mebendazole_v1\""
   ]
  },
  {
   "cell_type": "markdown",
   "id": "3efbbd59",
   "metadata": {},
   "source": [
    "## download the data"
   ]
  },
  {
   "cell_type": "code",
   "execution_count": 6,
   "id": "13d83b3b",
   "metadata": {},
   "outputs": [],
   "source": [
    "project = \"mebendazole_v1\"\n",
    "location = \"../data/slamseq_\"+project+\"/\" # new data location\n",
    "loc = \"220506_MP10011_fastq\" # transfer AML folder"
   ]
  },
  {
   "cell_type": "code",
   "execution_count": 8,
   "id": "cdfa5fe6",
   "metadata": {},
   "outputs": [],
   "source": [
    "! mkdir ../$location\n",
    "! mkdir ../results/slamseq_$project\n",
    "! mkdir $location && mkdir $location/qc # make data dir in AMLproject\n",
    "! mkdir ../$location/fastqs/ # make dir in /home/monika/data/project/fastqs"
   ]
  },
  {
   "cell_type": "code",
   "execution_count": 9,
   "id": "8ab0987a",
   "metadata": {
    "collapsed": true
   },
   "outputs": [
    {
     "name": "stdout",
     "output_type": "stream",
     "text": [
      "gs://transfer-amlproject/220506_MP10011_fastq/._multiqc_report.html\r\n",
      "gs://transfer-amlproject/220506_MP10011_fastq/20220506_10_MebendazoleE_MP10011_S88_R1_001.fastq.gz\r\n",
      "gs://transfer-amlproject/220506_MP10011_fastq/20220506_10_MebendazoleE_MP10011_S88_R2_001.fastq.gz\r\n",
      "gs://transfer-amlproject/220506_MP10011_fastq/20220506_1_DMSOA_MP10011_S79_R1_001.fastq.gz\r\n",
      "gs://transfer-amlproject/220506_MP10011_fastq/20220506_1_DMSOA_MP10011_S79_R2_001.fastq.gz\r\n",
      "gs://transfer-amlproject/220506_MP10011_fastq/20220506_2_DMSOB_MP10011_S80_R1_001.fastq.gz\r\n",
      "gs://transfer-amlproject/220506_MP10011_fastq/20220506_2_DMSOB_MP10011_S80_R2_001.fastq.gz\r\n",
      "gs://transfer-amlproject/220506_MP10011_fastq/20220506_3_DMSOC_MP10011_S81_R1_001.fastq.gz\r\n",
      "gs://transfer-amlproject/220506_MP10011_fastq/20220506_3_DMSOC_MP10011_S81_R2_001.fastq.gz\r\n",
      "gs://transfer-amlproject/220506_MP10011_fastq/20220506_4_DMSOD_MP10011_S82_R1_001.fastq.gz\r\n",
      "gs://transfer-amlproject/220506_MP10011_fastq/20220506_4_DMSOD_MP10011_S82_R2_001.fastq.gz\r\n",
      "gs://transfer-amlproject/220506_MP10011_fastq/20220506_5_DMSOE_MP10011_S83_R1_001.fastq.gz\r\n",
      "gs://transfer-amlproject/220506_MP10011_fastq/20220506_5_DMSOE_MP10011_S83_R2_001.fastq.gz\r\n",
      "gs://transfer-amlproject/220506_MP10011_fastq/20220506_6_MebendazoleA_MP10011_S84_R1_001.fastq.gz\r\n",
      "gs://transfer-amlproject/220506_MP10011_fastq/20220506_6_MebendazoleA_MP10011_S84_R2_001.fastq.gz\r\n",
      "gs://transfer-amlproject/220506_MP10011_fastq/20220506_7_MebendazoleB_MP10011_S85_R1_001.fastq.gz\r\n",
      "gs://transfer-amlproject/220506_MP10011_fastq/20220506_7_MebendazoleB_MP10011_S85_R2_001.fastq.gz\r\n",
      "gs://transfer-amlproject/220506_MP10011_fastq/20220506_8_MebendazoleC_MP10011_S86_R1_001.fastq.gz\r\n",
      "gs://transfer-amlproject/220506_MP10011_fastq/20220506_8_MebendazoleC_MP10011_S86_R2_001.fastq.gz\r\n",
      "gs://transfer-amlproject/220506_MP10011_fastq/20220506_9_MebendazoleD_MP10011_S87_R1_001.fastq.gz\r\n",
      "gs://transfer-amlproject/220506_MP10011_fastq/20220506_9_MebendazoleD_MP10011_S87_R2_001.fastq.gz\r\n",
      "gs://transfer-amlproject/220506_MP10011_fastq/multiqc_report.html\r\n",
      "gs://transfer-amlproject/220506_MP10011_fastq/Reports/\r\n",
      "gs://transfer-amlproject/220506_MP10011_fastq/multiqc_data/\r\n"
     ]
    }
   ],
   "source": [
    "! gsutil ls gs://transfer-amlproject/$loc/"
   ]
  },
  {
   "cell_type": "code",
   "execution_count": 10,
   "id": "70afc271",
   "metadata": {},
   "outputs": [
    {
     "data": {
      "text/plain": [
       "'../data/slamseq_mebendazole_v1/'"
      ]
     },
     "execution_count": 10,
     "metadata": {},
     "output_type": "execute_result"
    }
   ],
   "source": [
    "location"
   ]
  },
  {
   "cell_type": "code",
   "execution_count": 11,
   "id": "fd0efd7b",
   "metadata": {
    "collapsed": true
   },
   "outputs": [
    {
     "name": "stdout",
     "output_type": "stream",
     "text": [
      "Copying gs://transfer-amlproject/220506_MP10011_fastq/multiqc_report.html...\n",
      "/ [1/1 files][  1.3 MiB/  1.3 MiB] 100% Done                                    \n",
      "Operation completed over 1 objects/1.3 MiB.                                      \n",
      "Copying gs://transfer-amlproject/220506_MP10011_fastq/Reports/20220506_10_MebendazoleE_MP10011_S88_R1_001_fastqc.html...\n",
      "Copying gs://transfer-amlproject/220506_MP10011_fastq/Reports/20220506_10_MebendazoleE_MP10011_S88_R1_001_fastqc.zip...\n",
      "Copying gs://transfer-amlproject/220506_MP10011_fastq/Reports/20220506_10_MebendazoleE_MP10011_S88_R2_001_fastqc.html...\n",
      "Copying gs://transfer-amlproject/220506_MP10011_fastq/Reports/20220506_10_MebendazoleE_MP10011_S88_R2_001_fastqc.zip...\n",
      "Copying gs://transfer-amlproject/220506_MP10011_fastq/Reports/20220506_1_DMSOA_MP10011_S79_R1_001_fastqc.html...\n",
      "Copying gs://transfer-amlproject/220506_MP10011_fastq/Reports/20220506_1_DMSOA_MP10011_S79_R1_001_fastqc.zip...\n",
      "Copying gs://transfer-amlproject/220506_MP10011_fastq/Reports/20220506_1_DMSOA_MP10011_S79_R2_001_fastqc.html...\n",
      "Copying gs://transfer-amlproject/220506_MP10011_fastq/Reports/20220506_1_DMSOA_MP10011_S79_R2_001_fastqc.zip...\n",
      "Copying gs://transfer-amlproject/220506_MP10011_fastq/Reports/20220506_2_DMSOB_MP10011_S80_R1_001_fastqc.html...\n",
      "Copying gs://transfer-amlproject/220506_MP10011_fastq/Reports/20220506_2_DMSOB_MP10011_S80_R2_001_fastqc.html...\n",
      "Copying gs://transfer-amlproject/220506_MP10011_fastq/Reports/20220506_2_DMSOB_MP10011_S80_R1_001_fastqc.zip...\n",
      "Copying gs://transfer-amlproject/220506_MP10011_fastq/Reports/20220506_2_DMSOB_MP10011_S80_R2_001_fastqc.zip...\n",
      "Copying gs://transfer-amlproject/220506_MP10011_fastq/Reports/20220506_3_DMSOC_MP10011_S81_R1_001_fastqc.html...\n",
      "Copying gs://transfer-amlproject/220506_MP10011_fastq/Reports/20220506_3_DMSOC_MP10011_S81_R1_001_fastqc.zip...\n",
      "Copying gs://transfer-amlproject/220506_MP10011_fastq/Reports/20220506_3_DMSOC_MP10011_S81_R2_001_fastqc.html...\n",
      "Copying gs://transfer-amlproject/220506_MP10011_fastq/Reports/20220506_3_DMSOC_MP10011_S81_R2_001_fastqc.zip...\n",
      "Copying gs://transfer-amlproject/220506_MP10011_fastq/Reports/20220506_4_DMSOD_MP10011_S82_R1_001_fastqc.html...\n",
      "Copying gs://transfer-amlproject/220506_MP10011_fastq/Reports/20220506_4_DMSOD_MP10011_S82_R1_001_fastqc.zip...\n",
      "Copying gs://transfer-amlproject/220506_MP10011_fastq/Reports/20220506_4_DMSOD_MP10011_S82_R2_001_fastqc.html...\n",
      "Copying gs://transfer-amlproject/220506_MP10011_fastq/Reports/20220506_4_DMSOD_MP10011_S82_R2_001_fastqc.zip...\n",
      "Copying gs://transfer-amlproject/220506_MP10011_fastq/Reports/20220506_5_DMSOE_MP10011_S83_R1_001_fastqc.html...\n",
      "Copying gs://transfer-amlproject/220506_MP10011_fastq/Reports/20220506_5_DMSOE_MP10011_S83_R1_001_fastqc.zip...\n",
      "Copying gs://transfer-amlproject/220506_MP10011_fastq/Reports/20220506_5_DMSOE_MP10011_S83_R2_001_fastqc.html...\n",
      "Copying gs://transfer-amlproject/220506_MP10011_fastq/Reports/20220506_5_DMSOE_MP10011_S83_R2_001_fastqc.zip...\n",
      "Copying gs://transfer-amlproject/220506_MP10011_fastq/Reports/20220506_6_MebendazoleA_MP10011_S84_R1_001_fastqc.zip...\n",
      "Copying gs://transfer-amlproject/220506_MP10011_fastq/Reports/20220506_6_MebendazoleA_MP10011_S84_R1_001_fastqc.html...\n",
      "Copying gs://transfer-amlproject/220506_MP10011_fastq/Reports/20220506_6_MebendazoleA_MP10011_S84_R2_001_fastqc.html...\n",
      "Copying gs://transfer-amlproject/220506_MP10011_fastq/Reports/20220506_6_MebendazoleA_MP10011_S84_R2_001_fastqc.zip...\n",
      "Copying gs://transfer-amlproject/220506_MP10011_fastq/Reports/20220506_7_MebendazoleB_MP10011_S85_R1_001_fastqc.html...\n",
      "Copying gs://transfer-amlproject/220506_MP10011_fastq/Reports/20220506_7_MebendazoleB_MP10011_S85_R1_001_fastqc.zip...\n",
      "Copying gs://transfer-amlproject/220506_MP10011_fastq/Reports/20220506_7_MebendazoleB_MP10011_S85_R2_001_fastqc.html...\n",
      "Copying gs://transfer-amlproject/220506_MP10011_fastq/Reports/20220506_7_MebendazoleB_MP10011_S85_R2_001_fastqc.zip...\n",
      "Copying gs://transfer-amlproject/220506_MP10011_fastq/Reports/20220506_9_MebendazoleD_MP10011_S87_R1_001_fastqc.html...\n",
      "Copying gs://transfer-amlproject/220506_MP10011_fastq/Reports/20220506_8_MebendazoleC_MP10011_S86_R1_001_fastqc.html...\n",
      "Copying gs://transfer-amlproject/220506_MP10011_fastq/Reports/20220506_8_MebendazoleC_MP10011_S86_R1_001_fastqc.zip...\n",
      "Copying gs://transfer-amlproject/220506_MP10011_fastq/Reports/20220506_8_MebendazoleC_MP10011_S86_R2_001_fastqc.zip...\n",
      "Copying gs://transfer-amlproject/220506_MP10011_fastq/Reports/20220506_8_MebendazoleC_MP10011_S86_R2_001_fastqc.html...\n",
      "Copying gs://transfer-amlproject/220506_MP10011_fastq/Reports/20220506_9_MebendazoleD_MP10011_S87_R2_001_fastqc.zip...\n",
      "Copying gs://transfer-amlproject/220506_MP10011_fastq/Reports/20220506_9_MebendazoleD_MP10011_S87_R1_001_fastqc.zip...\n",
      "Copying gs://transfer-amlproject/220506_MP10011_fastq/Reports/20220506_9_MebendazoleD_MP10011_S87_R2_001_fastqc.html...\n",
      "/ [40/40 files][ 18.8 MiB/ 18.8 MiB] 100% Done                                  \n",
      "Operation completed over 40 objects/18.8 MiB.                                    \n",
      "Copying gs://transfer-amlproject/220506_MP10011_fastq/multiqc_data/multiqc.log...\n",
      "Copying gs://transfer-amlproject/220506_MP10011_fastq/multiqc_data/multiqc_data.json...\n",
      "Copying gs://transfer-amlproject/220506_MP10011_fastq/multiqc_data/multiqc_fastqc.txt...\n",
      "Copying gs://transfer-amlproject/220506_MP10011_fastq/multiqc_data/multiqc_general_stats.txt...\n",
      "Copying gs://transfer-amlproject/220506_MP10011_fastq/multiqc_data/multiqc_qualimap_bamqc_genome_results.txt...\n",
      "Copying gs://transfer-amlproject/220506_MP10011_fastq/multiqc_data/multiqc_sources.txt...\n",
      "/ [6/6 files][  1.2 MiB/  1.2 MiB] 100% Done                                    \n",
      "Operation completed over 6 objects/1.2 MiB.                                      \n"
     ]
    }
   ],
   "source": [
    "# transfer qc files\n",
    "! gsutil -m cp gs://transfer-amlproject/$loc/multiqc_report.html $location/qc/\n",
    "! gsutil -m cp -r gs://transfer-amlproject/$loc/Reports/ $location/qc/\n",
    "! gsutil -m cp -r gs://transfer-amlproject/$loc/multiqc_data/ $location/qc/"
   ]
  },
  {
   "cell_type": "code",
   "execution_count": 12,
   "id": "947e4590",
   "metadata": {},
   "outputs": [],
   "source": [
    "! cp $location/qc/multiqc_report.html ../results/slamseq_$project"
   ]
  },
  {
   "cell_type": "code",
   "execution_count": 13,
   "id": "b35669df",
   "metadata": {},
   "outputs": [],
   "source": [
    "fastqs = ! gsutil ls gs://transfer-amlproject/$loc/*.gz"
   ]
  },
  {
   "cell_type": "code",
   "execution_count": 14,
   "id": "abd2768a",
   "metadata": {},
   "outputs": [],
   "source": [
    "from natsort import os_sorted"
   ]
  },
  {
   "cell_type": "code",
   "execution_count": 17,
   "id": "d5c3b757",
   "metadata": {},
   "outputs": [
    {
     "name": "stdout",
     "output_type": "stream",
     "text": [
      "20220506_1_DMSOA_MP10011_S79\n",
      "20220506_2_DMSOB_MP10011_S80\n",
      "20220506_3_DMSOC_MP10011_S81\n",
      "20220506_4_DMSOD_MP10011_S82\n",
      "20220506_5_DMSOE_MP10011_S83\n",
      "20220506_6_MebendazoleA_MP10011_S84\n",
      "20220506_7_MebendazoleB_MP10011_S85\n",
      "20220506_8_MebendazoleC_MP10011_S86\n",
      "20220506_9_MebendazoleD_MP10011_S87\n",
      "20220506_10_MebendazoleE_MP10011_S88\n"
     ]
    }
   ],
   "source": [
    "fastqs = [fastq.split(\"/\")[-1] for fastq in os_sorted(fastqs)]\n",
    "# add sample names to AML sample tracker google sheet\n",
    "for val1, val2 in h.grouped(fastqs, 2):\n",
    "    print(val1.split(\"_R\")[0])"
   ]
  },
  {
   "cell_type": "code",
   "execution_count": 18,
   "id": "9fedcad9",
   "metadata": {
    "collapsed": true
   },
   "outputs": [
    {
     "name": "stdout",
     "output_type": "stream",
     "text": [
      "Copying gs://transfer-amlproject/220506_MP10011_fastq/20220506_10_MebendazoleE_MP10011_S88_R1_001.fastq.gz...\n",
      "Copying gs://transfer-amlproject/220506_MP10011_fastq/20220506_10_MebendazoleE_MP10011_S88_R2_001.fastq.gz...\n",
      "==> NOTE: You are downloading one or more large file(s), which would            \n",
      "run significantly faster if you enabled sliced object downloads. This\n",
      "feature is enabled by default but requires that compiled crcmod be\n",
      "installed (see \"gsutil help crcmod\").\n",
      "\n",
      "Copying gs://transfer-amlproject/220506_MP10011_fastq/20220506_1_DMSOA_MP10011_S79_R1_001.fastq.gz...\n",
      "Copying gs://transfer-amlproject/220506_MP10011_fastq/20220506_1_DMSOA_MP10011_S79_R2_001.fastq.gz...\n",
      "Copying gs://transfer-amlproject/220506_MP10011_fastq/20220506_2_DMSOB_MP10011_S80_R1_001.fastq.gz...\n",
      "Copying gs://transfer-amlproject/220506_MP10011_fastq/20220506_2_DMSOB_MP10011_S80_R2_001.fastq.gz...\n",
      "Copying gs://transfer-amlproject/220506_MP10011_fastq/20220506_3_DMSOC_MP10011_S81_R1_001.fastq.gz...\n",
      "Copying gs://transfer-amlproject/220506_MP10011_fastq/20220506_3_DMSOC_MP10011_S81_R2_001.fastq.gz...\n",
      "Copying gs://transfer-amlproject/220506_MP10011_fastq/20220506_4_DMSOD_MP10011_S82_R1_001.fastq.gz...\n",
      "Copying gs://transfer-amlproject/220506_MP10011_fastq/20220506_5_DMSOE_MP10011_S83_R1_001.fastq.gz...\n",
      "Copying gs://transfer-amlproject/220506_MP10011_fastq/20220506_5_DMSOE_MP10011_S83_R2_001.fastq.gz...\n",
      "Copying gs://transfer-amlproject/220506_MP10011_fastq/20220506_4_DMSOD_MP10011_S82_R2_001.fastq.gz...\n",
      "Copying gs://transfer-amlproject/220506_MP10011_fastq/20220506_6_MebendazoleA_MP10011_S84_R1_001.fastq.gz...\n",
      "Copying gs://transfer-amlproject/220506_MP10011_fastq/20220506_6_MebendazoleA_MP10011_S84_R2_001.fastq.gz...\n",
      "Copying gs://transfer-amlproject/220506_MP10011_fastq/20220506_7_MebendazoleB_MP10011_S85_R1_001.fastq.gz...\n",
      "Copying gs://transfer-amlproject/220506_MP10011_fastq/20220506_7_MebendazoleB_MP10011_S85_R2_001.fastq.gz...\n",
      "Copying gs://transfer-amlproject/220506_MP10011_fastq/20220506_8_MebendazoleC_MP10011_S86_R1_001.fastq.gz...\n",
      "Copying gs://transfer-amlproject/220506_MP10011_fastq/20220506_9_MebendazoleD_MP10011_S87_R1_001.fastq.gz...\n",
      "Copying gs://transfer-amlproject/220506_MP10011_fastq/20220506_9_MebendazoleD_MP10011_S87_R2_001.fastq.gz...\n",
      "Copying gs://transfer-amlproject/220506_MP10011_fastq/20220506_8_MebendazoleC_MP10011_S86_R2_001.fastq.gz...\n",
      "\\ [20/20 files][ 51.9 GiB/ 51.9 GiB] 100% Done     0.0 B/s                      \n",
      "Operation completed over 20 objects/51.9 GiB.                                    \n"
     ]
    }
   ],
   "source": [
    "# transfer fastqs\n",
    "! gsutil -m cp gs://transfer-amlproject/$loc/*.fastq.gz ../$location/fastqs/"
   ]
  },
  {
   "cell_type": "markdown",
   "id": "26d31d07",
   "metadata": {},
   "source": [
    "## rename local fastqs"
   ]
  },
  {
   "cell_type": "code",
   "execution_count": 19,
   "id": "e89b1a8f",
   "metadata": {
    "collapsed": true
   },
   "outputs": [
    {
     "name": "stdout",
     "output_type": "stream",
     "text": [
      "../../data/slamseq_mebendazole_v1/fastqs\n"
     ]
    },
    {
     "data": {
      "text/plain": [
       "['20220506_10_MebendazoleE_MP10011_S88_R1_001.fastq.gz',\n",
       " '20220506_10_MebendazoleE_MP10011_S88_R2_001.fastq.gz',\n",
       " '20220506_1_DMSOA_MP10011_S79_R1_001.fastq.gz',\n",
       " '20220506_1_DMSOA_MP10011_S79_R2_001.fastq.gz',\n",
       " '20220506_2_DMSOB_MP10011_S80_R1_001.fastq.gz',\n",
       " '20220506_2_DMSOB_MP10011_S80_R2_001.fastq.gz',\n",
       " '20220506_3_DMSOC_MP10011_S81_R1_001.fastq.gz',\n",
       " '20220506_3_DMSOC_MP10011_S81_R2_001.fastq.gz',\n",
       " '20220506_4_DMSOD_MP10011_S82_R1_001.fastq.gz',\n",
       " '20220506_4_DMSOD_MP10011_S82_R2_001.fastq.gz',\n",
       " '20220506_5_DMSOE_MP10011_S83_R1_001.fastq.gz',\n",
       " '20220506_5_DMSOE_MP10011_S83_R2_001.fastq.gz',\n",
       " '20220506_6_MebendazoleA_MP10011_S84_R1_001.fastq.gz',\n",
       " '20220506_6_MebendazoleA_MP10011_S84_R2_001.fastq.gz',\n",
       " '20220506_7_MebendazoleB_MP10011_S85_R1_001.fastq.gz',\n",
       " '20220506_7_MebendazoleB_MP10011_S85_R2_001.fastq.gz',\n",
       " '20220506_8_MebendazoleC_MP10011_S86_R1_001.fastq.gz',\n",
       " '20220506_8_MebendazoleC_MP10011_S86_R2_001.fastq.gz',\n",
       " '20220506_9_MebendazoleD_MP10011_S87_R1_001.fastq.gz',\n",
       " '20220506_9_MebendazoleD_MP10011_S87_R2_001.fastq.gz']"
      ]
     },
     "execution_count": 19,
     "metadata": {},
     "output_type": "execute_result"
    }
   ],
   "source": [
    "fastq_folder = \"../\"+location+\"fastqs\"\n",
    "print(fastq_folder)\n",
    "fastqs = ! ls $fastq_folder\n",
    "fastqs"
   ]
  },
  {
   "cell_type": "code",
   "execution_count": 20,
   "id": "aa1bedda",
   "metadata": {},
   "outputs": [
    {
     "data": {
      "text/plain": [
       "['20220506_1_DMSOA_MP10011_S79_R1_001.fastq.gz',\n",
       " '20220506_2_DMSOB_MP10011_S80_R1_001.fastq.gz',\n",
       " '20220506_3_DMSOC_MP10011_S81_R1_001.fastq.gz',\n",
       " '20220506_4_DMSOD_MP10011_S82_R1_001.fastq.gz',\n",
       " '20220506_5_DMSOE_MP10011_S83_R1_001.fastq.gz',\n",
       " '20220506_6_MebendazoleA_MP10011_S84_R1_001.fastq.gz',\n",
       " '20220506_7_MebendazoleB_MP10011_S85_R1_001.fastq.gz',\n",
       " '20220506_8_MebendazoleC_MP10011_S86_R1_001.fastq.gz',\n",
       " '20220506_9_MebendazoleD_MP10011_S87_R1_001.fastq.gz',\n",
       " '20220506_10_MebendazoleE_MP10011_S88_R1_001.fastq.gz']"
      ]
     },
     "execution_count": 20,
     "metadata": {},
     "output_type": "execute_result"
    }
   ],
   "source": [
    "os_sorted(fastqs[::2])"
   ]
  },
  {
   "cell_type": "code",
   "execution_count": 24,
   "id": "ca288efc",
   "metadata": {},
   "outputs": [],
   "source": [
    "from gsheets import Sheets\n",
    "sheets = Sheets.from_files('~/.client_secret_web.json', '~/.storage.json')\n",
    "url = \"https://docs.google.com/spreadsheets/d/1yFLjYB1McU530JnLgL0QIMAKIkVl3kl0_LCHje2gk8U/edit?ts=5fab1071#gid=738732237\"\n",
    "gsheet = sheets.get(url).sheets[12].to_frame()"
   ]
  },
  {
   "cell_type": "code",
   "execution_count": 25,
   "id": "6389f13c",
   "metadata": {},
   "outputs": [
    {
     "data": {
      "text/html": [
       "<div>\n",
       "<style scoped>\n",
       "    .dataframe tbody tr th:only-of-type {\n",
       "        vertical-align: middle;\n",
       "    }\n",
       "\n",
       "    .dataframe tbody tr th {\n",
       "        vertical-align: top;\n",
       "    }\n",
       "\n",
       "    .dataframe thead th {\n",
       "        text-align: right;\n",
       "    }\n",
       "</style>\n",
       "<table border=\"1\" class=\"dataframe\">\n",
       "  <thead>\n",
       "    <tr style=\"text-align: right;\">\n",
       "      <th></th>\n",
       "      <th>prev_name</th>\n",
       "      <th>name</th>\n",
       "    </tr>\n",
       "  </thead>\n",
       "  <tbody>\n",
       "    <tr>\n",
       "      <th>521</th>\n",
       "      <td>20220506_1_DMSOA_MP10011_S79</td>\n",
       "      <td>mr522-MV411-DMSO-r1</td>\n",
       "    </tr>\n",
       "    <tr>\n",
       "      <th>522</th>\n",
       "      <td>20220506_2_DMSOB_MP10011_S80</td>\n",
       "      <td>mr523-MV411-DMSO-r2</td>\n",
       "    </tr>\n",
       "    <tr>\n",
       "      <th>523</th>\n",
       "      <td>20220506_3_DMSOC_MP10011_S81</td>\n",
       "      <td>mr524-MV411-DMSO-r3</td>\n",
       "    </tr>\n",
       "    <tr>\n",
       "      <th>524</th>\n",
       "      <td>20220506_4_DMSOD_MP10011_S82</td>\n",
       "      <td>mr525-MV411-DMSO-r4</td>\n",
       "    </tr>\n",
       "    <tr>\n",
       "      <th>525</th>\n",
       "      <td>20220506_5_DMSOE_MP10011_S83</td>\n",
       "      <td>mr526-MV411-DMSO-r5</td>\n",
       "    </tr>\n",
       "    <tr>\n",
       "      <th>526</th>\n",
       "      <td>20220506_6_MebendazoleA_MP10011_S84</td>\n",
       "      <td>mr527-MV411-Mebendazole-r1</td>\n",
       "    </tr>\n",
       "    <tr>\n",
       "      <th>527</th>\n",
       "      <td>20220506_7_MebendazoleB_MP10011_S85</td>\n",
       "      <td>mr528-MV411-Mebendazole-r2</td>\n",
       "    </tr>\n",
       "    <tr>\n",
       "      <th>528</th>\n",
       "      <td>20220506_8_MebendazoleC_MP10011_S86</td>\n",
       "      <td>mr529-MV411-Mebendazole-r3</td>\n",
       "    </tr>\n",
       "    <tr>\n",
       "      <th>529</th>\n",
       "      <td>20220506_9_MebendazoleD_MP10011_S87</td>\n",
       "      <td>mr530-MV411-Mebendazole-r4</td>\n",
       "    </tr>\n",
       "    <tr>\n",
       "      <th>530</th>\n",
       "      <td>20220506_10_MebendazoleE_MP10011_S88</td>\n",
       "      <td>mr531-MV411-Mebendazole-r5</td>\n",
       "    </tr>\n",
       "  </tbody>\n",
       "</table>\n",
       "</div>"
      ],
      "text/plain": [
       "                                prev_name                        name\n",
       "521          20220506_1_DMSOA_MP10011_S79         mr522-MV411-DMSO-r1\n",
       "522          20220506_2_DMSOB_MP10011_S80         mr523-MV411-DMSO-r2\n",
       "523          20220506_3_DMSOC_MP10011_S81         mr524-MV411-DMSO-r3\n",
       "524          20220506_4_DMSOD_MP10011_S82         mr525-MV411-DMSO-r4\n",
       "525          20220506_5_DMSOE_MP10011_S83         mr526-MV411-DMSO-r5\n",
       "526   20220506_6_MebendazoleA_MP10011_S84  mr527-MV411-Mebendazole-r1\n",
       "527   20220506_7_MebendazoleB_MP10011_S85  mr528-MV411-Mebendazole-r2\n",
       "528   20220506_8_MebendazoleC_MP10011_S86  mr529-MV411-Mebendazole-r3\n",
       "529   20220506_9_MebendazoleD_MP10011_S87  mr530-MV411-Mebendazole-r4\n",
       "530  20220506_10_MebendazoleE_MP10011_S88  mr531-MV411-Mebendazole-r5"
      ]
     },
     "execution_count": 25,
     "metadata": {},
     "output_type": "execute_result"
    }
   ],
   "source": [
    "# get new sample names from AML sample tracker - RNA_tracker_JK\n",
    "idx = gsheet.index[gsheet['batch'] == project] # get first row with project number\n",
    "sample_info = gsheet.loc[idx[0]:, [\"prev_name\", \"name\"]]\n",
    "sample_info"
   ]
  },
  {
   "cell_type": "code",
   "execution_count": 30,
   "id": "c5287c01",
   "metadata": {},
   "outputs": [],
   "source": [
    "# make dict with names\n",
    "rename = dict(zip(sample_info.prev_name, sample_info.name))\n",
    "\n",
    "# rename fastqs locally\n",
    "for val in fastqs:\n",
    "    rep  = val\n",
    "    for old, new in rename.items():\n",
    "        rep = rep.replace(old, new)\n",
    "    if rep != val:\n",
    "        ! mv $fastq_folder/$val $fastq_folder/$rep"
   ]
  },
  {
   "cell_type": "markdown",
   "id": "6b3ae88a",
   "metadata": {},
   "source": [
    "# Processing"
   ]
  },
  {
   "cell_type": "code",
   "execution_count": 31,
   "id": "2e63bb33",
   "metadata": {},
   "outputs": [
    {
     "data": {
      "text/plain": [
       "'mebendazole_v1'"
      ]
     },
     "execution_count": 31,
     "metadata": {},
     "output_type": "execute_result"
    }
   ],
   "source": [
    "project"
   ]
  },
  {
   "cell_type": "code",
   "execution_count": 35,
   "id": "f1c48011",
   "metadata": {},
   "outputs": [
    {
     "data": {
      "text/plain": [
       "['../../data/slamseq_mebendazole_v1/fastqs/mr522-MV411-DMSO-r1_R1_001.fastq.gz',\n",
       " '../../data/slamseq_mebendazole_v1/fastqs/mr523-MV411-DMSO-r2_R1_001.fastq.gz',\n",
       " '../../data/slamseq_mebendazole_v1/fastqs/mr524-MV411-DMSO-r3_R1_001.fastq.gz',\n",
       " '../../data/slamseq_mebendazole_v1/fastqs/mr525-MV411-DMSO-r4_R1_001.fastq.gz',\n",
       " '../../data/slamseq_mebendazole_v1/fastqs/mr526-MV411-DMSO-r5_R1_001.fastq.gz',\n",
       " '../../data/slamseq_mebendazole_v1/fastqs/mr527-MV411-Mebendazole-r1_R1_001.fastq.gz',\n",
       " '../../data/slamseq_mebendazole_v1/fastqs/mr528-MV411-Mebendazole-r2_R1_001.fastq.gz',\n",
       " '../../data/slamseq_mebendazole_v1/fastqs/mr529-MV411-Mebendazole-r3_R1_001.fastq.gz',\n",
       " '../../data/slamseq_mebendazole_v1/fastqs/mr530-MV411-Mebendazole-r4_R1_001.fastq.gz',\n",
       " '../../data/slamseq_mebendazole_v1/fastqs/mr531-MV411-Mebendazole-r5_R1_001.fastq.gz']"
      ]
     },
     "execution_count": 35,
     "metadata": {},
     "output_type": "execute_result"
    }
   ],
   "source": [
    "fastqs = ! ls $fastq_folder/*fastq.gz\n",
    "fastqs[::2]"
   ]
  },
  {
   "cell_type": "markdown",
   "id": "6ac0119f",
   "metadata": {},
   "source": [
    "## trim_galore"
   ]
  },
  {
   "cell_type": "code",
   "execution_count": null,
   "id": "1a1b0c37",
   "metadata": {},
   "outputs": [],
   "source": [
    "%%time\n",
    "h.parrun(['trim_galore --paired --cores 8 --retain_unpaired -stringency 3\\\n",
    " --illumina '+val1+' '+val2+' -o '+fastq_folder for val1, val2 in h.grouped(fastqs, 2)], 2)"
   ]
  },
  {
   "cell_type": "markdown",
   "id": "da549c6d",
   "metadata": {},
   "source": [
    "## slamdunk"
   ]
  },
  {
   "cell_type": "markdown",
   "id": "3c24cb52",
   "metadata": {},
   "source": [
    "install slamdunk & dependencies if needed (see above)"
   ]
  },
  {
   "cell_type": "code",
   "execution_count": null,
   "id": "19e57df4",
   "metadata": {},
   "outputs": [],
   "source": [
    "# install slamdunk\n",
    "#! pip3 install git+https://github.com/jkobject/slamdunk.git --upgrade"
   ]
  },
  {
   "cell_type": "code",
   "execution_count": null,
   "id": "4df65517",
   "metadata": {},
   "outputs": [],
   "source": [
    "# please also install cutadapt, fastqc, and trimgalore\n",
    "#! conda install -c bioconda cutadapt\n",
    "#! conda install -c bioconda fastqc\n",
    "#! conda install -c bioconda trim-galore"
   ]
  },
  {
   "cell_type": "markdown",
   "id": "0c95a40e",
   "metadata": {},
   "source": [
    "download reference genome files"
   ]
  },
  {
   "cell_type": "code",
   "execution_count": null,
   "id": "e63516fe",
   "metadata": {},
   "outputs": [],
   "source": [
    "# google storage bucket with reference files\n",
    "#! gsutil ls gs://ccle_default_params\n",
    "\n",
    "# copy reference genome files\n",
    "#! gsutil -m cp gs://ccle_default_params/Homo_sapiens_assembly38* ../../ref/\n",
    "\n",
    "# copy reference genome files\n",
    "#! cp ../data/Muhar_Slamseq/{ERCC92.fa,ERCC92.gtf,GSE100708_hg38_refseq_062016_ensemblv84_3UTR.bed} ../../ref"
   ]
  },
  {
   "cell_type": "code",
   "execution_count": 37,
   "id": "d7421b93",
   "metadata": {},
   "outputs": [],
   "source": [
    "# using an ERCC ref genome (you can just append ERCC fasta to the hg38 fasta)\n",
    "refgenome_noAlt=\"../../ref/Homo_sapiens_assembly38_ERCC92_noAlt.fasta\""
   ]
  },
  {
   "cell_type": "code",
   "execution_count": 38,
   "id": "8d7cbea6",
   "metadata": {},
   "outputs": [],
   "source": [
    "# gene intervals bed (use for all projects)\n",
    "gene_intervals = \"../../ref/GSE100708_hg38_refseq_062016_ensemblv84_3UTR.bed\""
   ]
  },
  {
   "cell_type": "markdown",
   "id": "555911f7",
   "metadata": {},
   "source": [
    "res = slamdunk all w/ (-fb, -m, -n 1, -rl 152, -r Homo_sapiens_assembly38_ERCC92_noAlt.fasta)"
   ]
  },
  {
   "cell_type": "markdown",
   "id": "89f7b4c1",
   "metadata": {},
   "source": [
    "Read length note!\n",
    "<br>Difference between min and max read length is > 100bp\n",
    "<br>Average read length 127 (min: 8, max: 152)"
   ]
  },
  {
   "cell_type": "code",
   "execution_count": 39,
   "id": "07f772b4",
   "metadata": {},
   "outputs": [],
   "source": [
    "fastq_folder = \"../../data/\"+\"slamseq_\"+project+\"/fastqs\"\n",
    "fastqs = ! ls $fastq_folder\n",
    "fastqs = [fastq for fastq in fastqs if \"val\" in fastq]\n",
    "fastq_full = [fastq_folder+\"/\"+f for f in fastqs]"
   ]
  },
  {
   "cell_type": "code",
   "execution_count": 40,
   "id": "89e00c2a",
   "metadata": {},
   "outputs": [
    {
     "data": {
      "text/plain": [
       "'../../data/slamseq_mebendazole_v1/res'"
      ]
     },
     "execution_count": 40,
     "metadata": {},
     "output_type": "execute_result"
    }
   ],
   "source": [
    "res_dir = \"../../data/\"+\"slamseq_\"+project+\"/res\"\n",
    "res_dir"
   ]
  },
  {
   "cell_type": "code",
   "execution_count": 41,
   "id": "c428eaa5",
   "metadata": {},
   "outputs": [
    {
     "name": "stdout",
     "output_type": "stream",
     "text": [
      "['slamdunk all -o ../../data/slamseq_mebendazole_v1/res -r ../../ref/Homo_sapiens_assembly38_ERCC92_noAlt.fasta -b ../../ref/GSE100708_hg38_refseq_062016_ensemblv84_3UTR.bed -t 14 -c 2 -rl 152 -5 12 -n 1 -m -N mr522-MV411-DMSO-r1 ../../data/slamseq_mebendazole_v1/fastqs/mr522-MV411-DMSO-r1_R1_001_val_1.fq.gz ../../data/slamseq_mebendazole_v1/fastqs/mr522-MV411-DMSO-r1_R2_001_val_2.fq.gz']\n",
      "CPU times: user 0 ns, sys: 0 ns, total: 0 ns\n",
      "Wall time: 185 µs\n"
     ]
    }
   ],
   "source": [
    "%%time\n",
    "\n",
    "# print call\n",
    "print(['slamdunk all'+\n",
    "       ' -o '+res_dir+\n",
    "       ' -r '+refgenome_noAlt+\n",
    "       ' -b '+gene_intervals+\n",
    "       ' -t 14'+\n",
    "       ' -c 2'+\n",
    "       ' -rl 152'+ # max-read-length = 152\n",
    "       # new parameters\n",
    "       ' -5 12'+\n",
    "       ' -n 1'+ # reads map to multiple locations at once\n",
    "       ' -m'+ # multimapping\n",
    "       ' -N '+val1.split('/')[-1].split('_R')[0]+\n",
    "       ' '+val1+\" \"+val2\n",
    "       for val1, val2 in h.grouped(fastq_full[:2], 2)])"
   ]
  },
  {
   "cell_type": "code",
   "execution_count": 43,
   "id": "1a183705",
   "metadata": {
    "collapsed": true
   },
   "outputs": [
    {
     "name": "stdout",
     "output_type": "stream",
     "text": [
      "CPU times: user 1.29 s, sys: 440 ms, total: 1.73 s\n",
      "Wall time: 13h 31min 35s\n"
     ]
    },
    {
     "data": {
      "text/plain": [
       "['parsing jkobject\\ndoing all\\nRunning slamDunk map for 2 files (14 threads)\\ndoing paired end mapping!\\nslamdunk all\\nRunning slamDunk map for 2 files (14 threads)\\n.\\nRunning slamDunk sam2bam for 1 files (14 threads)\\n.\\nRunning slamDunk filter for 1 files (14 threads)\\n[MAIN] NextGenMap 0.5.5\\n[MAIN] Startup : x64 (build Jul  3 2020 02:47:43)\\n[MAIN] Starting time: 2022-05-13.15:30:25\\n[CONFIG] Parameter:  --affine 0 --argos_min_score 0 --bin_size 2 --block_multiplier 2 --broken_pairs 0 --bs_cutoff 6 --bs_mapping 0 --cpu_threads 14 --dualstrand 1 --fast 0 --fast_pairing 0 --force_rlength_check 0 --format 1 --gap_extend_penalty 5 --gap_read_penalty 20 --gap_ref_penalty 20 --hard_clip 0 --keep_tags 0 --kmer 13 --kmer_min 0 --kmer_skip 2 --local 1 --match_bonus 10 --match_bonus_tc 2 --match_bonus_tt 10 --max_cmrs 2147483647 --max_equal 1 --max_insert_size 1000 --max_polya 4 --max_read_length 0 --min_identity 0.650000 --min_insert_size 0 --min_mq 0 --min_residues 0.500000 --min_score 0.000000 --mismatch_penalty 15 --mode 0 --no_progress 1 --no_unal 0 --ocl_threads 1 --output ../../data/slamseq_mebendazole_v1/res/map/mr523-MV411-DMSO-r2_slamdunk_mapped.sam --overwrite 1 --pair_score_cutoff 0.900000 --paired 1 --parse_all 1 --pe_delimiter / --qry1 ../../data/slamseq_mebendazole_v1/fastqs/mr523-MV411-DMSO-r2_R1_001_val_1.fq.gz --qry2 ../../data/slamseq_mebendazole_v1/fastqs/mr523-MV411-DMSO-r2_R2_001_val_2.fq.gz --qry_count -1 --qry_start 0 --ref ../../ref/Homo_sapiens_assembly38_ERCC92_noAlt.fasta --ref_mode -1 --rg_id 0 --rg_sm sample_0:NA:-1 --sensitive 0 --silent_clip 0 --skip_mate_check 0 --skip_save 0 --slam_seq 2 --step_count 4 --strata 0 --topn 1 --trim5 12 --update_check 0 --very_fast 0 --very_sensitive 0\\n[NGM] Opening for output (SAM): ../../data/slamseq_mebendazole_v1/res/map/mr523-MV411-DMSO-r2_slamdunk_mapped.sam\\n[SEQPROV] Reading encoded reference from ../../ref/Homo_sapiens_assembly38_ERCC92_noAlt.fasta-enc.2.ngm\\n\\n\\nRunning slamDunk SNP for 1 files (7 threads)\\n\\nRunning slamDunk tcount for 1 files (14 threads)\\n[SEQPROV] Reading 3111 Mbp from disk took 13.40s\\n[PREPROCESS] Reading RefTable from ../../ref/Homo_sapiens_assembly38_ERCC92_noAlt.fasta-ht-13-2.3.ngm\\n[PREPROCESS] Reading from disk took 34.91s\\n[PREPROCESS] Max. k-mer frequency set so 887!\\n[INPUT] Input is paired end data.\\n[INPUT] Opening file ../../data/slamseq_mebendazole_v1/fastqs/mr523-MV411-DMSO-r2_R1_001_val_1.fq.gz for reading\\n[INPUT] Opening file ../../data/slamseq_mebendazole_v1/fastqs/mr523-MV411-DMSO-r2_R2_001_val_2.fq.gz for reading\\n[INPUT] Input is Fastq\\n[INPUT] Estimating parameter from data\\n[INPUT] Input reads don\\'t have the same length!\\n[INPUT] Maximum read length found in the first 10000000 reads is 138. For longer reads only the first 151 bp will be mapped.\\n[INPUT] The maximum read length can be overwritten with the \\'--max-read-length\\' parameter. With \\'--force-rlength-check\\', NextGenMap will run through all reads to find the max. read length. This might take some time.\\n[INPUT] Average read length: 128 (min: 8, max: 152)\\n[INPUT] Corridor width: 24\\n[INPUT] Average kmer hits pro read: 27.344074\\n[INPUT] Max possible kmer hit: 38\\n[INPUT] Estimated sensitivity: 0.719581\\n[INPUT] Estimating parameter took 38.403s\\n[INPUT] Input is Fastq\\n[INPUT] Input is Fastq\\n[OPENCL] Available platforms: 1\\n[OPENCL] AMD Accelerated Parallel Processing\\n[OPENCL] Selecting OpenCl platform: AMD Accelerated Parallel Processing\\n[OPENCL] Platform: OpenCL 1.2 AMD-APP (1214.3)\\n[OPENCL] 1 CPU device found.\\n[OPENCL] Device 0: Intel(R) Xeon(R) CPU @ 3.10GHz (Driver: 1214.3 (sse2,avx))\\n[OPENCL] 8 CPU cores available.\\n..\\n\\n.[MAIN] Valid pairs found: 77.03%\\n[MAIN] Estimated insert size: 231 bp\\n[MAIN] Alignments computed: 53887021\\n[MAIN] Done (50929808 reads mapped (91.22%), 4901800 reads not mapped (236 discarded), 55831372 lines written)(elapsed: 2631.482666s)\\n[UPDATE_CHECK] Your version of NGM is more than 6 months old - a newer version may be available. (For performing an automatic check use --update-check)\\nparsing jkobject\\ndoing all\\nRunning slamDunk map for 2 files (14 threads)\\ndoing paired end mapping!\\n -1 ../../data/slamseq_mebendazole_v1/fastqs/mr523-MV411-DMSO-r2_R1_001_val_1.fq.gz -2 ../../data/slamseq_mebendazole_v1/fastqs/mr523-MV411-DMSO-r2_R2_001_val_2.fq.gz\\nRunning: \"ngm -r ../../ref/Homo_sapiens_assembly38_ERCC92_noAlt.fasta -1 ../../data/slamseq_mebendazole_v1/fastqs/mr523-MV411-DMSO-r2_R1_001_val_1.fq.gz -2 ../../data/slamseq_mebendazole_v1/fastqs/mr523-MV411-DMSO-r2_R2_001_val_2.fq.gz -t 14 --no-progress --slam-seq 2 -5 12 --max-polya 4 -l  --rg-id 0 --rg-sm sample_0:NA:-1 -o ../../data/slamseq_mebendazole_v1/res/map/mr523-MV411-DMSO-r2_slamdunk_mapped.sam\"\\nRunning: \"samtools view -@ 14 -Sb -o ../../data/slamseq_mebendazole_v1/res/map/mr523-MV411-DMSO-r2_slamdunk_mapped.bam ../../data/slamseq_mebendazole_v1/res/map/mr523-MV411-DMSO-r2_slamdunk_mapped.sam\"\\nslamdunk all\\nRunning slamDunk map for 2 files (14 threads)\\n.\\nRunning slamDunk sam2bam for 1 files (14 threads)\\n.\\nRunning slamDunk filter for 1 files (14 threads)\\n[E::idx_find_and_load] Could not retrieve index file for \\'../../data/slamseq_mebendazole_v1/res/map/mr523-MV411-DMSO-r2_slamdunk_mapped.bam\\'\\n[E::idx_find_and_load] Could not retrieve index file for \\'../../data/slamseq_mebendazole_v1/res/filter/mr523-MV411-DMSO-r2_filtered.bam\\'\\n[bam_sort_core] merging from 24 files and 1 in-memory blocks...\\n\\n\\nRunning slamDunk SNP for 1 files (7 threads)\\n\\nRunning slamDunk tcount for 1 files (14 threads)\\n\\n\\nRunning: \"samtools sort -o ../../data/slamseq_mebendazole_v1/res/filter/mr523-MV411-DMSO-r2_filtered.bam ../../data/slamseq_mebendazole_v1/res/filter/mr523-MV411-DMSO-r2_filtered.bam_tmp\"\\n...',\n",
       " '[MAIN] NextGenMap 0.5.5\\n[MAIN] Startup : x64 (build Jul  3 2020 02:47:43)\\n[MAIN] NextGenMap 0.5.5\\n[MAIN] Startup : x64 (build Jul  3 2020 02:47:43)\\n[MAIN] Starting time: 2022-05-13.17:05:54\\n[MAIN] Starting time: 2022-05-13.17:05:54\\n[CONFIG] [CONFIG] Parameter:  --affine 0 --argos_min_score 0 --bin_size 2 --block_multiplier 2 --broken_pairs 0 --bs_cutoff 6 --bs_mapping 0 --cpu_threads 14 --dualstrand 1 --fast 0 --fast_pairing 0 --force_rlength_check 0 --format 1 --gap_extend_penalty 5 --gap_read_penalty 20 --gap_ref_penalty 20 --hard_clip 0 --keep_tags 0 --kmer 13 --kmer_min 0 --kmer_skip 2 --local 1 --match_bonus 10 --match_bonus_tc 2 --match_bonus_tt 10 --max_cmrs 2147483647 --max_equal 1 --max_insert_size 1000 --max_polya 4 --max_read_length 0 --min_identity 0.650000 --min_insert_size 0 --min_mq 0 --min_residues 0.500000 --min_score 0.000000 --mismatch_penalty 15 --mode 0 --no_progress 1 --no_unal 0 --ocl_threads 1 --output ../../data/slamseq_mebendazole_v1/res/map/mr525-MV411-DMSO-r4_slamdunk_mapped.sam --overwrite 1 --pair_score_cutoff 0.900000 --paired 1 --parse_all 1 --pe_delimiter / --qry1 ../../data/slamseq_mebendazole_v1/fastqs/mr525-MV411-DMSO-r4_R1_001_val_1.fq.gz --qry2 ../../data/slamseq_mebendazole_v1/fastqs/mr525-MV411-DMSO-r4_R2_001_val_2.fq.gz --qry_count -1 --qry_start 0 --ref ../../ref/Homo_sapiens_assembly38_ERCC92_noAlt.fasta --ref_mode -1 --rg_id 0 --rg_sm sample_0:NA:-1 --sensitive 0 --silent_clip 0 --skip_mate_check 0 --skip_save 0 --slam_seq 2 --step_count 4 --strata 0 --topn 1 --trim5 12 --update_check 0 --very_fast 0 --very_sensitive 0\\nParameter:  --affine 0 --argos_min_score 0 --bin_size 2 --block_multiplier 2 --broken_pairs 0 --bs_cutoff 6 --bs_mapping 0 --cpu_threads 14 --dualstrand 1 --fast 0 --fast_pairing 0 --force_rlength_check 0 --format 1 --gap_extend_penalty 5 --gap_read_penalty 20 --gap_ref_penalty 20 --hard_clip 0 --keep_tags 0 --kmer 13 --kmer_min 0 --kmer_skip 2 --local 1 --match_bonus 10 --match_bonus_tc 2 --match_bonus_tt 10 --max_cmrs 2147483647 --max_equal 1 --max_insert_size 1000 --max_polya 4 --max_read_length 0 --min_identity 0.650000 --min_insert_size 0 --min_mq 0 --min_residues 0.500000 --min_score 0.000000 --mismatch_penalty 15 --mode 0 --no_progress 1 --no_unal 0 --ocl_threads 1 --output ../../data/slamseq_mebendazole_v1/res/map/mr524-MV411-DMSO-r3_slamdunk_mapped.sam --overwrite 1 --pair_score_cutoff 0.900000 --paired 1 --parse_all 1 --pe_delimiter / --qry1 ../../data/slamseq_mebendazole_v1/fastqs/mr524-MV411-DMSO-r3_R1_001_val_1.fq.gz --qry2 ../../data/slamseq_mebendazole_v1/fastqs/mr524-MV411-DMSO-r3_R2_001_val_2.fq.gz --qry_count -1 --qry_start 0 --ref ../../ref/Homo_sapiens_assembly38_ERCC92_noAlt.fasta --ref_mode -1 --rg_id 0 --rg_sm sample_0:NA:-1 --sensitive 0 --silent_clip 0 --skip_mate_check 0 --skip_save 0 --slam_seq 2 --step_count 4 --strata 0 --topn 1 --trim5 12 --update_check 0 --very_fast 0 --very_sensitive 0\\n[NGM] Opening for output (SAM): ../../data/slamseq_mebendazole_v1/res/map/mr525-MV411-DMSO-r4_slamdunk_mapped.sam\\n[NGM] Opening for output (SAM): ../../data/slamseq_mebendazole_v1/res/map/mr524-MV411-DMSO-r3_slamdunk_mapped.sam\\n[SEQPROV] Reading encoded reference from ../../ref/Homo_sapiens_assembly38_ERCC92_noAlt.fasta-enc.2.ngm\\n[SEQPROV] Reading encoded reference from ../../ref/Homo_sapiens_assembly38_ERCC92_noAlt.fasta-enc.2.ngm\\n[SEQPROV] Reading 3111 Mbp from disk took 13.40s\\n[SEQPROV] Reading 3111 Mbp from disk took 13.40s\\n[PREPROCESS] Reading RefTable from ../../ref/Homo_sapiens_assembly38_ERCC92_noAlt.fasta-ht-13-2.3.ngm\\n[PREPROCESS] Reading RefTable from ../../ref/Homo_sapiens_assembly38_ERCC92_noAlt.fasta-ht-13-2.3.ngm\\n[PREPROCESS] [PREPROCESS] Reading from disk took 37.68s\\nReading from disk took 37.68s\\n[PREPROCESS] Max. k-mer frequency set so 887!\\n[INPUT] Input is paired end data.\\n[INPUT] Opening file ../../data/slamseq_mebendazole_v1/fastqs/mr524-MV411-DMSO-r3_R1_001_val_1.fq.gz for reading\\n[INPUT] Opening file ../../data/slamseq_mebendazole_v1/fastqs/mr524-MV411-DMSO-r3_R2_001_val_2.fq.gz for reading\\n[PREPROCESS] Max. k-mer frequency set so 887!\\n[INPUT] Input is paired end data.\\n[INPUT] Opening file ../../data/slamseq_mebendazole_v1/fastqs/mr525-MV411-DMSO-r4_R1_001_val_1.fq.gz for reading\\n[INPUT] Opening file ../../data/slamseq_mebendazole_v1/fastqs/mr525-MV411-DMSO-r4_R2_001_val_2.fq.gz for reading\\n[INPUT] Input is Fastq\\n[INPUT] Estimating parameter from data\\n[INPUT] Input is Fastq\\n[INPUT] Estimating parameter from data\\n[INPUT] Input reads don\\'t have the same length!\\n[INPUT] Maximum read length found in the first 10000000 reads is 138. For longer reads only the first 151 bp will be mapped.\\n[INPUT] The maximum read length can be overwritten with the \\'--max-read-length\\' parameter. With \\'--force-rlength-check\\', NextGenMap will run through all reads to find the max. read length. This might take some time.\\n[INPUT] Average read length: 122 (min: 8, max: 152)\\n[INPUT] Corridor width: 23\\n[INPUT] Average kmer hits pro read: 28.043131\\n[INPUT] Max possible kmer hit: 36\\n[INPUT] Estimated sensitivity: 0.778976\\n[INPUT] Estimating parameter took 35.623s\\n[INPUT] Input is Fastq\\n[INPUT] Input is Fastq\\n[INPUT] Input reads don\\'t have the same length!\\n[INPUT] Maximum read length found in the first 10000000 reads is 138. For longer reads only the first 151 bp will be mapped.\\n[INPUT] The maximum read length can be overwritten with the \\'--max-read-length\\' parameter. With \\'--force-rlength-check\\', NextGenMap will run through all reads to find the max. read length. This might take some time.\\n[INPUT] Average read length: 123 (min: 8, max: 152)\\n[INPUT] Corridor width: 23\\n[INPUT] Average kmer hits pro read: 28.779261\\n[INPUT] Max possible kmer hit: 37\\n[INPUT] Estimated sensitivity: 0.777818\\n[INPUT] Estimating parameter took 35.801s\\n[INPUT] Input is Fastq\\n[INPUT] Input is Fastq\\n[OPENCL] Available platforms: 1\\n[OPENCL] AMD Accelerated Parallel Processing\\n[OPENCL] Available platforms: 1\\n[OPENCL] AMD Accelerated Parallel Processing[OPENCL] Selecting OpenCl platform: AMD Accelerated Parallel Processing\\n[OPENCL] Platform: OpenCL 1.2 AMD-APP (1214.3)\\n[OPENCL] 1 CPU device found.\\n[OPENCL] Device 0: Intel(R) Xeon(R) CPU @ 3.10GHz (Driver: 1214.3 (sse2,avx))\\n\\n[OPENCL] Selecting OpenCl platform: AMD Accelerated Parallel Processing\\n[OPENCL] Platform: OpenCL 1.2 AMD-APP (1214.3)\\n[OPENCL] 1 CPU device found.\\n[OPENCL] Device 0: Intel(R) Xeon(R) CPU @ 3.10GHz (Driver: 1214.3 (sse2,avx))\\n[OPENCL] 8 CPU cores available.\\n[OPENCL] 8 CPU cores available.\\n[MAIN] Valid pairs found: 87.06%\\n[MAIN] Estimated insert size: 174 bp\\n[MAIN] Alignments computed: 54989696\\n[MAIN] Done (53687541 reads mapped (97.27%), 1506591 reads not mapped (42 discarded), 55194090 lines written)(elapsed: 4137.457520s)\\n[UPDATE_CHECK] Your version of NGM is more than 6 months old - a newer version may be available. (For performing an automatic check use --update-check)\\nparsing jkobject\\ndoing all\\nRunning slamDunk map for 2 files (14 threads)\\ndoing paired end mapping!\\n -1 ../../data/slamseq_mebendazole_v1/fastqs/mr524-MV411-DMSO-r3_R1_001_val_1.fq.gz -2 ../../data/slamseq_mebendazole_v1/fastqs/mr524-MV411-DMSO-r3_R2_001_val_2.fq.gz\\nRunning: \"ngm -r ../../ref/Homo_sapiens_assembly38_ERCC92_noAlt.fasta -1 ../../data/slamseq_mebendazole_v1/fastqs/mr524-MV411-DMSO-r3_R1_001_val_1.fq.gz -2 ../../data/slamseq_mebendazole_v1/fastqs/mr524-MV411-DMSO-r3_R2_001_val_2.fq.gz -t 14 --no-progress --slam-seq 2 -5 12 --max-polya 4 -l  --rg-id 0 --rg-sm sample_0:NA:-1 -o ../../data/slamseq_mebendazole_v1/res/map/mr524-MV411-DMSO-r3_slamdunk_mapped.sam\"\\nRunning: \"samtools view -@ 14 -Sb -o ../../data/slamseq_mebendazole_v1/res/map/mr524-MV411-DMSO-r3_slamdunk_mapped.bam ../../data/slamseq_mebendazole_v1/res/map/mr524-MV411-DMSO-r3_slamdunk_mapped.sam\"\\nslamdunk all\\nRunning slamDunk map for 2 files (14 threads)\\n.\\nRunning slamDunk sam2bam for 1 files (14 threads)\\n.\\nRunning slamDunk filter for 1 files (14 threads)\\n[E::idx_find_and_load] Could not retrieve index file for \\'../../data/slamseq_mebendazole_v1/res/map/mr524-MV411-DMSO-r3_slamdunk_mapped.bam\\'\\n[E::idx_find_and_load] Could not retrieve index file for \\'../../data/slamseq_mebendazole_v1/res/filter/mr524-MV411-DMSO-r3_filtered.bam\\'\\n[MAIN] Valid pairs found: 87.46%\\n[MAIN] Estimated insert size: 172 bp\\n[MAIN] Alignments computed: 107765883\\n[MAIN] Done (105303670 reads mapped (97.33%), 2890002 reads not mapped (76 discarded), 108193596 lines written)(elapsed: 6252.323242s)\\n[UPDATE_CHECK] Your version of NGM is more than 6 months old - a newer version may be available. (For performing an automatic check use --update-check)\\nparsing jkobject\\ndoing all\\nRunning slamDunk map for 2 files (14 threads)\\ndoing paired end mapping!\\n -1 ../../data/slamseq_mebendazole_v1/fastqs/mr525-MV411-DMSO-r4_R1_001_val_1.fq.gz -2 ../../data/slamseq_mebendazole_v1/fastqs/mr525-MV411-DMSO-r4_R2_001_val_2.fq.gz\\nRunning: \"ngm -r ../../ref/Homo_sapiens_assembly38_ERCC92_noAlt.fasta -1 ../../data/slamseq_mebendazole_v1/fastqs/mr525-MV411-DMSO-r4_R1_001_val_1.fq.gz -2 ../../data/slamseq_mebendazole_v1/fastqs/mr525-MV411-DMSO-r4_R2_001_val_2.fq.gz -t 14 --no-progress --slam-seq 2 -5 12 --max-polya 4 -l  --rg-id 0 --rg-sm sample_0:NA:-1 -o ../../data/slamseq_mebendazole_v1/res/map/mr525-MV411-DMSO-r4_slamdunk_mapped.sam\"\\nRunning: \"samtools view -@ 14 -Sb -o ../../data/slamseq_mebendazole_v1/res/map/mr525-MV411-DMSO-r4_slamdunk_mapped.bam ../../data/slamseq_mebendazole_v1/res/map/mr525-MV411-DMSO-r4_slamdunk_mapped.sam\"\\nslamdunk all\\nRunning slamDunk map for 2 files (14 threads)\\n.\\nRunning slamDunk sam2bam for 1 files (14 threads)\\n.\\nRunning slamDunk filter for 1 files (14 threads)\\n[E::idx_find_and_load] Could not retrieve index file for \\'../../data/slamseq_mebendazole_v1/res/map/mr525-MV411-DMSO-r4_slamdunk_mapped.bam\\'\\n[bam_sort_core] merging from 25 files and 1 in-memory blocks...\\n\\n\\nRunning slamDunk SNP for 1 files (7 threads)\\n[E::idx_find_and_load] Could not retrieve index file for \\'../../data/slamseq_mebendazole_v1/res/filter/mr525-MV411-DMSO-r4_filtered.bam\\'\\n\\nRunning slamDunk tcount for 1 files (14 threads)\\n[bam_sort_core] merging from 49 files and 1 in-memory blocks...\\n\\n\\nRunning: \"samtools sort -o ../../data/slamseq_mebendazole_v1/res/filter/mr524-MV411-DMSO-r3_filtered.bam ../../data/slamseq_mebendazole_v1/res/filter/mr524-MV411-DMSO-r3_filtered.bam_tmp\"\\n...\\n\\nRunning slamDunk SNP for 1 files (7 threads)\\n\\nRunning slamDunk tcount for 1 files (14 threads)\\n\\n\\nRunning: \"samtools sort -o ../../data/slamseq_mebendazole_v1/res/filter/mr525-MV411-DMSO-r4_filtered.bam ../../data/slamseq_mebendazole_v1/res/filter/mr525-MV411-DMSO-r4_filtered.bam_tmp\"\\n...',\n",
       " '[MAIN] NextGenMap 0.5.5\\n[MAIN] Startup : x64 (build Jul  3 2020 02:47:43)\\n[MAIN] NextGenMap 0.5.5\\n[MAIN] Startup : x64 (build Jul  3 2020 02:47:43)\\n[MAIN] Starting time: 2022-05-13.20:21:35[MAIN] Starting time: 2022-05-13.20:21:35\\n\\n[CONFIG] Parameter:  --affine 0 --argos_min_score 0 --bin_size 2 --block_multiplier 2 --broken_pairs 0 --bs_cutoff 6 --bs_mapping 0 --cpu_threads 14 --dualstrand 1 --fast 0 --fast_pairing 0 --force_rlength_check 0 --format 1 --gap_extend_penalty 5 --gap_read_penalty 20 --gap_ref_penalty 20 --hard_clip 0 --keep_tags 0 --kmer 13 --kmer_min 0 --kmer_skip 2 --local 1 --match_bonus 10 --match_bonus_tc 2 --match_bonus_tt 10 --max_cmrs 2147483647 --max_equal 1 --max_insert_size 1000 --max_polya 4 --max_read_length 0 --min_identity 0.650000 --min_insert_size 0 --min_mq 0 --min_residues 0.500000 --min_score 0.000000 --mismatch_penalty 15 --mode 0 --no_progress 1 --no_unal 0 --ocl_threads 1 --output ../../data/slamseq_mebendazole_v1/res/map/mr526-MV411-DMSO-r5_slamdunk_mapped.sam --overwrite 1 --pair_score_cutoff 0.900000 --paired 1 --parse_all 1 --pe_delimiter / --qry1 ../../data/slamseq_mebendazole_v1/fastqs/mr526-MV411-DMSO-r5_R1_001_val_1.fq.gz --qry2 ../../data/slamseq_mebendazole_v1/fastqs/mr526-MV411-DMSO-r5_R2_001_val_2.fq.gz --qry_count -1 --qry_start 0 --ref ../../ref/Homo_sapiens_assembly38_ERCC92_noAlt.fasta --ref_mode -1 --rg_id 0 --rg_sm sample_0:NA:-1 --sensitive 0 --silent_clip 0 --skip_mate_check 0 --skip_save 0 --slam_seq 2 --step_count 4 --strata 0 --topn 1 --trim5 12 --update_check 0 --very_fast 0 --very_sensitive 0\\n[CONFIG] Parameter:  --affine 0 --argos_min_score 0 --bin_size 2 --block_multiplier 2 --broken_pairs 0 --bs_cutoff 6 --bs_mapping 0 --cpu_threads 14 --dualstrand 1 --fast 0 --fast_pairing 0 --force_rlength_check 0 --format 1 --gap_extend_penalty 5 --gap_read_penalty 20 --gap_ref_penalty 20 --hard_clip 0 --keep_tags 0 --kmer 13 --kmer_min 0 --kmer_skip 2 --local 1 --match_bonus 10 --match_bonus_tc 2 --match_bonus_tt 10 --max_cmrs 2147483647 --max_equal 1 --max_insert_size 1000 --max_polya 4 --max_read_length 0 --min_identity 0.650000 --min_insert_size 0 --min_mq 0 --min_residues 0.500000 --min_score 0.000000 --mismatch_penalty 15 --mode 0 --no_progress 1 --no_unal 0 --ocl_threads 1 --output ../../data/slamseq_mebendazole_v1/res/map/mr527-MV411-Mebendazole-r1_slamdunk_mapped.sam --overwrite 1 --pair_score_cutoff 0.900000 --paired 1 --parse_all 1 --pe_delimiter / --qry1 ../../data/slamseq_mebendazole_v1/fastqs/mr527-MV411-Mebendazole-r1_R1_001_val_1.fq.gz --qry2 ../../data/slamseq_mebendazole_v1/fastqs/mr527-MV411-Mebendazole-r1_R2_001_val_2.fq.gz --qry_count -1 --qry_start 0 --ref ../../ref/Homo_sapiens_assembly38_ERCC92_noAlt.fasta --ref_mode -1 --rg_id 0 --rg_sm sample_0:NA:-1 --sensitive 0 --silent_clip 0 --skip_mate_check 0 --skip_save 0 --slam_seq 2 --step_count 4 --strata 0 --topn 1 --trim5 12 --update_check 0 --very_fast 0 --very_sensitive 0\\n[NGM] Opening for output (SAM): ../../data/slamseq_mebendazole_v1/res/map/mr526-MV411-DMSO-r5_slamdunk_mapped.sam\\n[NGM] Opening for output (SAM): ../../data/slamseq_mebendazole_v1/res/map/mr527-MV411-Mebendazole-r1_slamdunk_mapped.sam\\n[SEQPROV] Reading encoded reference from ../../ref/Homo_sapiens_assembly38_ERCC92_noAlt.fasta-enc.2.ngm\\n[SEQPROV] Reading encoded reference from ../../ref/Homo_sapiens_assembly38_ERCC92_noAlt.fasta-enc.2.ngm\\n[SEQPROV] Reading 3111 Mbp from disk took 12.87s[SEQPROV] Reading 3111 Mbp from disk took 12.87s\\n\\n[PREPROCESS] Reading RefTable from ../../ref/Homo_sapiens_assembly38_ERCC92_noAlt.fasta-ht-13-2.3.ngm\\n[PREPROCESS] Reading RefTable from ../../ref/Homo_sapiens_assembly38_ERCC92_noAlt.fasta-ht-13-2.3.ngm\\n[PREPROCESS] [PREPROCESS] Reading from disk took 36.36sReading from disk took 36.36s\\n\\n[PREPROCESS] Max. k-mer frequency set so 887!\\n[INPUT] Input is paired end data.\\n[INPUT] Opening file ../../data/slamseq_mebendazole_v1/fastqs/mr527-MV411-Mebendazole-r1_R1_001_val_1.fq.gz for reading\\n[INPUT] Opening file ../../data/slamseq_mebendazole_v1/fastqs/mr527-MV411-Mebendazole-r1_R2_001_val_2.fq.gz for reading\\n[PREPROCESS] Max. k-mer frequency set so 887!\\n[INPUT] Input is paired end data.\\n[INPUT] Opening file ../../data/slamseq_mebendazole_v1/fastqs/mr526-MV411-DMSO-r5_R1_001_val_1.fq.gz for reading\\n[INPUT] Opening file ../../data/slamseq_mebendazole_v1/fastqs/mr526-MV411-DMSO-r5_R2_001_val_2.fq.gz for reading\\n[INPUT] Input is Fastq\\n[INPUT] Estimating parameter from data\\n[INPUT] Input is Fastq\\n[INPUT] Estimating parameter from data\\n[INPUT] Input reads don\\'t have the same length!\\n[INPUT] Maximum read length found in the first 10000000 reads is 138. For longer reads only the first 151 bp will be mapped.\\n[INPUT] The maximum read length can be overwritten with the \\'--max-read-length\\' parameter. With \\'--force-rlength-check\\', NextGenMap will run through all reads to find the max. read length. This might take some time.\\n[INPUT] Average read length: 124 (min: 8, max: 152)\\n[INPUT] Corridor width: 23\\n[INPUT] Average kmer hits pro read: 28.786201\\n[INPUT] Max possible kmer hit: 37\\n[INPUT] Estimated sensitivity: 0.778005\\n[INPUT] Estimating parameter took 35.887s\\n[INPUT] Input is Fastq\\n[INPUT] Input is Fastq\\n[OPENCL] Available platforms: 1\\n[OPENCL] AMD Accelerated Parallel Processing\\n[OPENCL] Selecting OpenCl platform: AMD Accelerated Parallel Processing\\n[OPENCL] Platform: OpenCL 1.2 AMD-APP (1214.3)\\n[OPENCL] 1 CPU device found.\\n[OPENCL] Device 0: Intel(R) Xeon(R) CPU @ 3.10GHz (Driver: 1214.3 (sse2,avx))\\n[OPENCL] 8 CPU cores available.\\n[INPUT] Input reads don\\'t have the same length!\\n[INPUT] Maximum read length found in the first 10000000 reads is 138. For longer reads only the first 151 bp will be mapped.\\n[INPUT] The maximum read length can be overwritten with the \\'--max-read-length\\' parameter. With \\'--force-rlength-check\\', NextGenMap will run through all reads to find the max. read length. This might take some time.\\n[INPUT] Average read length: 127 (min: 8, max: 152)\\n[INPUT] Corridor width: 24\\n[INPUT] Average kmer hits pro read: 28.214233\\n[INPUT] Max possible kmer hit: 38\\n[INPUT] Estimated sensitivity: 0.742480\\n[INPUT] Estimating parameter took 38.392s\\n[INPUT] Input is Fastq\\n[INPUT] Input is Fastq\\n[OPENCL] Available platforms: 1\\n[OPENCL] AMD Accelerated Parallel Processing\\n[OPENCL] Selecting OpenCl platform: AMD Accelerated Parallel Processing\\n[OPENCL] Platform: OpenCL 1.2 AMD-APP (1214.3)\\n[OPENCL] 1 CPU device found.\\n[OPENCL] Device 0: Intel(R) Xeon(R) CPU @ 3.10GHz (Driver: 1214.3 (sse2,avx))\\n[OPENCL] 8 CPU cores available.\\n[MAIN] Valid pairs found: 86.75%\\n[MAIN] Estimated insert size: 176 bp\\n[MAIN] Alignments computed: 56166719\\n[MAIN] Done (54735189 reads mapped (96.94%), 1729261 reads not mapped (48 discarded), 56464402 lines written)(elapsed: 4339.412598s)\\n[UPDATE_CHECK] Your version of NGM is more than 6 months old - a newer version may be available. (For performing an automatic check use --update-check)\\nparsing jkobject\\ndoing all\\nRunning slamDunk map for 2 files (14 threads)\\ndoing paired end mapping!\\n -1 ../../data/slamseq_mebendazole_v1/fastqs/mr526-MV411-DMSO-r5_R1_001_val_1.fq.gz -2 ../../data/slamseq_mebendazole_v1/fastqs/mr526-MV411-DMSO-r5_R2_001_val_2.fq.gz\\nRunning: \"ngm -r ../../ref/Homo_sapiens_assembly38_ERCC92_noAlt.fasta -1 ../../data/slamseq_mebendazole_v1/fastqs/mr526-MV411-DMSO-r5_R1_001_val_1.fq.gz -2 ../../data/slamseq_mebendazole_v1/fastqs/mr526-MV411-DMSO-r5_R2_001_val_2.fq.gz -t 14 --no-progress --slam-seq 2 -5 12 --max-polya 4 -l  --rg-id 0 --rg-sm sample_0:NA:-1 -o ../../data/slamseq_mebendazole_v1/res/map/mr526-MV411-DMSO-r5_slamdunk_mapped.sam\"\\nRunning: \"samtools view -@ 14 -Sb -o ../../data/slamseq_mebendazole_v1/res/map/mr526-MV411-DMSO-r5_slamdunk_mapped.bam ../../data/slamseq_mebendazole_v1/res/map/mr526-MV411-DMSO-r5_slamdunk_mapped.sam\"\\nslamdunk all\\nRunning slamDunk map for 2 files (14 threads)\\n.\\nRunning slamDunk sam2bam for 1 files (14 threads)\\n.\\nRunning slamDunk filter for 1 files (14 threads)\\n[E::idx_find_and_load] Could not retrieve index file for \\'../../data/slamseq_mebendazole_v1/res/map/mr526-MV411-DMSO-r5_slamdunk_mapped.bam\\'\\n[MAIN] Valid pairs found: 78.99%\\n[MAIN] Estimated insert size: 220 bp\\n[MAIN] Alignments computed: 71261978\\n[MAIN] Done (68030399 reads mapped (93.18%), 4979397 reads not mapped (272 discarded), 73009524 lines written)(elapsed: 5463.550781s)\\n[UPDATE_CHECK] Your version of NGM is more than 6 months old - a newer version may be available. (For performing an automatic check use --update-check)\\nparsing jkobject\\ndoing all\\nRunning slamDunk map for 2 files (14 threads)\\ndoing paired end mapping!\\n -1 ../../data/slamseq_mebendazole_v1/fastqs/mr527-MV411-Mebendazole-r1_R1_001_val_1.fq.gz -2 ../../data/slamseq_mebendazole_v1/fastqs/mr527-MV411-Mebendazole-r1_R2_001_val_2.fq.gz\\nRunning: \"ngm -r ../../ref/Homo_sapiens_assembly38_ERCC92_noAlt.fasta -1 ../../data/slamseq_mebendazole_v1/fastqs/mr527-MV411-Mebendazole-r1_R1_001_val_1.fq.gz -2 ../../data/slamseq_mebendazole_v1/fastqs/mr527-MV411-Mebendazole-r1_R2_001_val_2.fq.gz -t 14 --no-progress --slam-seq 2 -5 12 --max-polya 4 -l  --rg-id 0 --rg-sm sample_0:NA:-1 -o ../../data/slamseq_mebendazole_v1/res/map/mr527-MV411-Mebendazole-r1_slamdunk_mapped.sam\"\\nRunning: \"samtools view -@ 14 -Sb -o ../../data/slamseq_mebendazole_v1/res/map/mr527-MV411-Mebendazole-r1_slamdunk_mapped.bam ../../data/slamseq_mebendazole_v1/res/map/mr527-MV411-Mebendazole-r1_slamdunk_mapped.sam\"\\nslamdunk all\\nRunning slamDunk map for 2 files (14 threads)\\n.\\nRunning slamDunk sam2bam for 1 files (14 threads)\\n.\\nRunning slamDunk filter for 1 files (14 threads)\\n[E::idx_find_and_load] Could not retrieve index file for \\'../../data/slamseq_mebendazole_v1/res/map/mr527-MV411-Mebendazole-r1_slamdunk_mapped.bam\\'\\n[E::idx_find_and_load] Could not retrieve index file for \\'../../data/slamseq_mebendazole_v1/res/filter/mr526-MV411-DMSO-r5_filtered.bam\\'\\n[E::idx_find_and_load] Could not retrieve index file for \\'../../data/slamseq_mebendazole_v1/res/filter/mr527-MV411-Mebendazole-r1_filtered.bam\\'\\n[bam_sort_core] merging from 26 files and 1 in-memory blocks...\\n\\n\\nRunning slamDunk SNP for 1 files (7 threads)\\n[bam_sort_core] merging from 32 files and 1 in-memory blocks...\\n\\n\\nRunning slamDunk SNP for 1 files (7 threads)\\n\\nRunning slamDunk tcount for 1 files (14 threads)\\n\\n\\nRunning: \"samtools sort -o ../../data/slamseq_mebendazole_v1/res/filter/mr526-MV411-DMSO-r5_filtered.bam ../../data/slamseq_mebendazole_v1/res/filter/mr526-MV411-DMSO-r5_filtered.bam_tmp\"\\n...\\nRunning slamDunk tcount for 1 files (14 threads)\\n\\n\\nRunning: \"samtools sort -o ../../data/slamseq_mebendazole_v1/res/filter/mr527-MV411-Mebendazole-r1_filtered.bam ../../data/slamseq_mebendazole_v1/res/filter/mr527-MV411-Mebendazole-r1_filtered.bam_tmp\"\\n...',\n",
       " '[MAIN] NextGenMap 0.5.5\\n[MAIN] Startup : x64 (build Jul  3 2020 02:47:43)\\n[MAIN] NextGenMap 0.5.5\\n[MAIN] Startup : x64 (build Jul  3 2020 02:47:43)\\n[MAIN] Starting time: 2022-05-13.22:59:15\\n[MAIN] Starting time: 2022-05-13.22:59:15\\n[CONFIG] Parameter:  --affine 0 --argos_min_score 0 --bin_size 2 --block_multiplier 2 --broken_pairs 0 --bs_cutoff 6 --bs_mapping 0 --cpu_threads 14 --dualstrand 1 --fast 0 --fast_pairing 0 --force_rlength_check 0 --format 1 --gap_extend_penalty 5 --gap_read_penalty 20 --gap_ref_penalty 20 --hard_clip 0 --keep_tags 0 --kmer 13 --kmer_min 0 --kmer_skip 2 --local 1 --match_bonus 10 --match_bonus_tc 2 --match_bonus_tt 10 --max_cmrs 2147483647 --max_equal 1 --max_insert_size 1000 --max_polya 4 --max_read_length 0 --min_identity 0.650000 --min_insert_size 0 --min_mq 0 --min_residues 0.500000 --min_score 0.000000 --mismatch_penalty 15 --mode 0 --no_progress 1 --no_unal 0 --ocl_threads 1 --output ../../data/slamseq_mebendazole_v1/res/map/mr529-MV411-Mebendazole-r3_slamdunk_mapped.sam --overwrite 1 --pair_score_cutoff 0.900000 --paired 1 --parse_all 1 --pe_delimiter / --qry1 ../../data/slamseq_mebendazole_v1/fastqs/mr529-MV411-Mebendazole-r3_R1_001_val_1.fq.gz --qry2 ../../data/slamseq_mebendazole_v1/fastqs/mr529-MV411-Mebendazole-r3_R2_001_val_2.fq.gz --qry_count -1 --qry_start 0 --ref ../../ref/Homo_sapiens_assembly38_ERCC92_noAlt.fasta --ref_mode -1 --rg_id 0 --rg_sm sample_0:NA:-1 --sensitive 0 --silent_clip 0 --skip_mate_check 0 --skip_save 0 --slam_seq 2 --step_count 4 --strata 0 --topn 1 --trim5 12 --update_check 0 --very_fast 0 --very_sensitive 0\\n[CONFIG] Parameter:  --affine 0 --argos_min_score 0 --bin_size 2 --block_multiplier 2 --broken_pairs 0 --bs_cutoff 6 --bs_mapping 0 --cpu_threads 14 --dualstrand 1 --fast 0 --fast_pairing 0 --force_rlength_check 0 --format 1 --gap_extend_penalty 5 --gap_read_penalty 20 --gap_ref_penalty 20 --hard_clip 0 --keep_tags 0 --kmer 13 --kmer_min 0 --kmer_skip 2 --local 1 --match_bonus 10 --match_bonus_tc 2 --match_bonus_tt 10 --max_cmrs 2147483647 --max_equal 1 --max_insert_size 1000 --max_polya 4 --max_read_length 0 --min_identity 0.650000 --min_insert_size 0 --min_mq 0 --min_residues 0.500000 --min_score 0.000000 --mismatch_penalty 15 --mode 0 --no_progress 1 --no_unal 0 --ocl_threads 1 --output ../../data/slamseq_mebendazole_v1/res/map/mr528-MV411-Mebendazole-r2_slamdunk_mapped.sam --overwrite 1 --pair_score_cutoff 0.900000 --paired 1 --parse_all 1 --pe_delimiter / --qry1 ../../data/slamseq_mebendazole_v1/fastqs/mr528-MV411-Mebendazole-r2_R1_001_val_1.fq.gz --qry2 ../../data/slamseq_mebendazole_v1/fastqs/mr528-MV411-Mebendazole-r2_R2_001_val_2.fq.gz --qry_count -1 --qry_start 0 --ref ../../ref/Homo_sapiens_assembly38_ERCC92_noAlt.fasta --ref_mode -1 --rg_id 0 --rg_sm sample_0:NA:-1 --sensitive 0 --silent_clip 0 --skip_mate_check 0 --skip_save 0 --slam_seq 2 --step_count 4 --strata 0 --topn 1 --trim5 12 --update_check 0 --very_fast 0 --very_sensitive 0\\n[NGM] [NGM] Opening for output (SAM): ../../data/slamseq_mebendazole_v1/res/map/mr528-MV411-Mebendazole-r2_slamdunk_mapped.sam\\nOpening for output (SAM): ../../data/slamseq_mebendazole_v1/res/map/mr529-MV411-Mebendazole-r3_slamdunk_mapped.sam\\n[SEQPROV] Reading encoded reference from ../../ref/Homo_sapiens_assembly38_ERCC92_noAlt.fasta-enc.2.ngm\\n[SEQPROV] Reading encoded reference from ../../ref/Homo_sapiens_assembly38_ERCC92_noAlt.fasta-enc.2.ngm\\n[SEQPROV] [SEQPROV] Reading 3111 Mbp from disk took 24.76s\\nReading 3111 Mbp from disk took 24.76s\\n[PREPROCESS] Reading RefTable from ../../ref/Homo_sapiens_assembly38_ERCC92_noAlt.fasta-ht-13-2.3.ngm\\n[PREPROCESS] Reading RefTable from ../../ref/Homo_sapiens_assembly38_ERCC92_noAlt.fasta-ht-13-2.3.ngm\\n[PREPROCESS] [PREPROCESS] Reading from disk took 84.45sReading from disk took 84.45s\\n\\n[PREPROCESS] Max. k-mer frequency set so 887!\\n[PREPROCESS] Max. k-mer frequency set so 887!\\n[INPUT] Input is paired end data.\\n[INPUT] Input is paired end data.\\n[INPUT] Opening file ../../data/slamseq_mebendazole_v1/fastqs/mr528-MV411-Mebendazole-r2_R1_001_val_1.fq.gz for reading\\n[INPUT] [INPUT] Opening file ../../data/slamseq_mebendazole_v1/fastqs/mr529-MV411-Mebendazole-r3_R1_001_val_1.fq.gz for readingOpening file ../../data/slamseq_mebendazole_v1/fastqs/mr528-MV411-Mebendazole-r2_R2_001_val_2.fq.gz for reading\\n\\n[INPUT] Opening file ../../data/slamseq_mebendazole_v1/fastqs/mr529-MV411-Mebendazole-r3_R2_001_val_2.fq.gz for reading\\n[INPUT] Input is Fastq\\n[INPUT] Estimating parameter from data\\n[INPUT] Input is Fastq\\n[INPUT] Estimating parameter from data\\n[INPUT] Input reads don\\'t have the same length!\\n[INPUT] Maximum read length found in the first 10000000 reads is 138. For longer reads only the first 151 bp will be mapped.\\n[INPUT] The maximum read length can be overwritten with the \\'--max-read-length\\' parameter. With \\'--force-rlength-check\\', NextGenMap will run through all reads to find the max. read length. This might take some time.\\n[INPUT] Average read length: 126 (min: 8, max: 152)\\n[INPUT] Corridor width: 23\\n[INPUT] Average kmer hits pro read: 28.306080\\n[INPUT] Max possible kmer hit: 38\\n[INPUT] Estimated sensitivity: 0.744897\\n[INPUT] Estimating parameter took 37.327s\\n[INPUT] Input is Fastq\\n[INPUT] Input is Fastq\\n[OPENCL] Available platforms: 1\\n[OPENCL] AMD Accelerated Parallel Processing\\n[OPENCL] Selecting OpenCl platform: AMD Accelerated Parallel Processing\\n[OPENCL] Platform: OpenCL 1.2 AMD-APP (1214.3)\\n[OPENCL] 1 CPU device found.\\n[OPENCL] Device 0: Intel(R) Xeon(R) CPU @ 3.10GHz (Driver: 1214.3 (sse2,avx))\\n[OPENCL] 8 CPU cores available.\\n[INPUT] Input reads don\\'t have the same length!\\n[INPUT] Maximum read length found in the first 10000000 reads is 138. For longer reads only the first 151 bp will be mapped.\\n[INPUT] The maximum read length can be overwritten with the \\'--max-read-length\\' parameter. With \\'--force-rlength-check\\', NextGenMap will run through all reads to find the max. read length. This might take some time.\\n[INPUT] Average read length: 129 (min: 8, max: 152)\\n[INPUT] Corridor width: 24\\n[INPUT] Average kmer hits pro read: 28.060579\\n[INPUT] Max possible kmer hit: 39\\n[INPUT] Estimated sensitivity: 0.719502\\n[INPUT] Estimating parameter took 38.327s\\n[INPUT] Input is Fastq\\n[INPUT] Input is Fastq\\n[OPENCL] Available platforms: 1\\n[OPENCL] AMD Accelerated Parallel Processing\\n[OPENCL] Selecting OpenCl platform: AMD Accelerated Parallel Processing\\n[OPENCL] Platform: OpenCL 1.2 AMD-APP (1214.3)\\n[OPENCL] 1 CPU device found.\\n[OPENCL] Device 0: Intel(R) Xeon(R) CPU @ 3.10GHz (Driver: 1214.3 (sse2,avx))\\n[OPENCL] 8 CPU cores available.\\n[MAIN] Valid pairs found: 78.53%\\n[MAIN] Estimated insert size: 224 bp\\n[MAIN] Alignments computed: 66360801\\n[MAIN] Done (62858386 reads mapped (91.50%), 5842042 reads not mapped (282 discarded), 68700146 lines written)(elapsed: 6332.103516s)\\n[UPDATE_CHECK] Your version of NGM is more than 6 months old - a newer version may be available. (For performing an automatic check use --update-check)\\n[MAIN] Valid pairs found: 82.68%\\n[MAIN] Estimated insert size: 196 bp\\n[MAIN] Alignments computed: 77376892\\n[MAIN] Done (74109996 reads mapped (93.78%), 4915938 reads not mapped (294 discarded), 79025640 lines written)(elapsed: 6621.376953s)\\n[UPDATE_CHECK] Your version of NGM is more than 6 months old - a newer version may be available. (For performing an automatic check use --update-check)\\nparsing jkobject\\ndoing all\\nRunning slamDunk map for 2 files (14 threads)\\ndoing paired end mapping!\\n -1 ../../data/slamseq_mebendazole_v1/fastqs/mr529-MV411-Mebendazole-r3_R1_001_val_1.fq.gz -2 ../../data/slamseq_mebendazole_v1/fastqs/mr529-MV411-Mebendazole-r3_R2_001_val_2.fq.gz\\nRunning: \"ngm -r ../../ref/Homo_sapiens_assembly38_ERCC92_noAlt.fasta -1 ../../data/slamseq_mebendazole_v1/fastqs/mr529-MV411-Mebendazole-r3_R1_001_val_1.fq.gz -2 ../../data/slamseq_mebendazole_v1/fastqs/mr529-MV411-Mebendazole-r3_R2_001_val_2.fq.gz -t 14 --no-progress --slam-seq 2 -5 12 --max-polya 4 -l  --rg-id 0 --rg-sm sample_0:NA:-1 -o ../../data/slamseq_mebendazole_v1/res/map/mr529-MV411-Mebendazole-r3_slamdunk_mapped.sam\"\\nRunning: \"samtools view -@ 14 -Sb -o ../../data/slamseq_mebendazole_v1/res/map/mr529-MV411-Mebendazole-r3_slamdunk_mapped.bam ../../data/slamseq_mebendazole_v1/res/map/mr529-MV411-Mebendazole-r3_slamdunk_mapped.sam\"\\nslamdunk all\\nRunning slamDunk map for 2 files (14 threads)\\n.\\nRunning slamDunk sam2bam for 1 files (14 threads)\\n.\\nRunning slamDunk filter for 1 files (14 threads)\\n[E::idx_find_and_load] Could not retrieve index file for \\'../../data/slamseq_mebendazole_v1/res/map/mr529-MV411-Mebendazole-r3_slamdunk_mapped.bam\\'\\nparsing jkobject\\ndoing all\\nRunning slamDunk map for 2 files (14 threads)\\ndoing paired end mapping!\\n -1 ../../data/slamseq_mebendazole_v1/fastqs/mr528-MV411-Mebendazole-r2_R1_001_val_1.fq.gz -2 ../../data/slamseq_mebendazole_v1/fastqs/mr528-MV411-Mebendazole-r2_R2_001_val_2.fq.gz\\nRunning: \"ngm -r ../../ref/Homo_sapiens_assembly38_ERCC92_noAlt.fasta -1 ../../data/slamseq_mebendazole_v1/fastqs/mr528-MV411-Mebendazole-r2_R1_001_val_1.fq.gz -2 ../../data/slamseq_mebendazole_v1/fastqs/mr528-MV411-Mebendazole-r2_R2_001_val_2.fq.gz -t 14 --no-progress --slam-seq 2 -5 12 --max-polya 4 -l  --rg-id 0 --rg-sm sample_0:NA:-1 -o ../../data/slamseq_mebendazole_v1/res/map/mr528-MV411-Mebendazole-r2_slamdunk_mapped.sam\"\\nRunning: \"samtools view -@ 14 -Sb -o ../../data/slamseq_mebendazole_v1/res/map/mr528-MV411-Mebendazole-r2_slamdunk_mapped.bam ../../data/slamseq_mebendazole_v1/res/map/mr528-MV411-Mebendazole-r2_slamdunk_mapped.sam\"\\nslamdunk all\\nRunning slamDunk map for 2 files (14 threads)\\n.\\nRunning slamDunk sam2bam for 1 files (14 threads)\\n.\\nRunning slamDunk filter for 1 files (14 threads)\\n[E::idx_find_and_load] Could not retrieve index file for \\'../../data/slamseq_mebendazole_v1/res/map/mr528-MV411-Mebendazole-r2_slamdunk_mapped.bam\\'\\n[E::idx_find_and_load] Could not retrieve index file for \\'../../data/slamseq_mebendazole_v1/res/filter/mr529-MV411-Mebendazole-r3_filtered.bam\\'\\n[E::idx_find_and_load] Could not retrieve index file for \\'../../data/slamseq_mebendazole_v1/res/filter/mr528-MV411-Mebendazole-r2_filtered.bam\\'\\n[bam_sort_core] merging from 30 files and 1 in-memory blocks...\\n[bam_sort_core] merging from 35 files and 1 in-memory blocks...\\n\\n\\nRunning slamDunk SNP for 1 files (7 threads)\\n\\n\\nRunning slamDunk SNP for 1 files (7 threads)\\n\\nRunning slamDunk tcount for 1 files (14 threads)\\n\\n\\nRunning: \"samtools sort -o ../../data/slamseq_mebendazole_v1/res/filter/mr529-MV411-Mebendazole-r3_filtered.bam ../../data/slamseq_mebendazole_v1/res/filter/mr529-MV411-Mebendazole-r3_filtered.bam_tmp\"\\n...\\nRunning slamDunk tcount for 1 files (14 threads)\\n\\n\\nRunning: \"samtools sort -o ../../data/slamseq_mebendazole_v1/res/filter/mr528-MV411-Mebendazole-r2_filtered.bam ../../data/slamseq_mebendazole_v1/res/filter/mr528-MV411-Mebendazole-r2_filtered.bam_tmp\"\\n...',\n",
       " '[MAIN] NextGenMap 0.5.5\\n[MAIN] Startup : x64 (build Jul  3 2020 02:47:43)\\n[MAIN] NextGenMap 0.5.5\\n[MAIN] Startup : x64 (build Jul  3 2020 02:47:43)\\n[MAIN] Starting time: 2022-05-14.02:02:26\\n[MAIN] Starting time: 2022-05-14.02:02:26\\n[CONFIG] Parameter:  --affine 0 --argos_min_score 0 --bin_size 2 --block_multiplier 2 --broken_pairs 0 --bs_cutoff 6 --bs_mapping 0 --cpu_threads 14 --dualstrand 1 --fast 0 --fast_pairing 0 --force_rlength_check 0 --format 1 --gap_extend_penalty 5 --gap_read_penalty 20 --gap_ref_penalty 20 --hard_clip 0 --keep_tags 0 --kmer 13 --kmer_min 0 --kmer_skip 2 --local 1 --match_bonus 10 --match_bonus_tc 2 --match_bonus_tt 10 --max_cmrs 2147483647 --max_equal 1 --max_insert_size 1000 --max_polya 4 --max_read_length 0 --min_identity 0.650000 --min_insert_size 0 --min_mq 0 --min_residues 0.500000 --min_score 0.000000 --mismatch_penalty 15 --mode 0 --no_progress 1 --no_unal 0 --ocl_threads 1 --output ../../data/slamseq_mebendazole_v1/res/map/mr530-MV411-Mebendazole-r4_slamdunk_mapped.sam --overwrite 1 --pair_score_cutoff 0.900000 --paired 1 --parse_all 1 --pe_delimiter / --qry1 ../../data/slamseq_mebendazole_v1/fastqs/mr530-MV411-Mebendazole-r4_R1_001_val_1.fq.gz --qry2 ../../data/slamseq_mebendazole_v1/fastqs/mr530-MV411-Mebendazole-r4_R2_001_val_2.fq.gz --qry_count -1 --qry_start 0 --ref ../../ref/Homo_sapiens_assembly38_ERCC92_noAlt.fasta --ref_mode -1 --rg_id 0 --rg_sm sample_0:NA:-1 --sensitive 0 --silent_clip 0 --skip_mate_check 0 --skip_save 0 --slam_seq 2 --step_count 4 --strata 0 --topn 1 --trim5 12 --update_check 0 --very_fast 0 --very_sensitive 0\\n[CONFIG] Parameter:  --affine 0 --argos_min_score 0 --bin_size 2 --block_multiplier 2 --broken_pairs 0 --bs_cutoff 6 --bs_mapping 0 --cpu_threads 14 --dualstrand 1 --fast 0 --fast_pairing 0 --force_rlength_check 0 --format 1 --gap_extend_penalty 5 --gap_read_penalty 20 --gap_ref_penalty 20 --hard_clip 0 --keep_tags 0 --kmer 13 --kmer_min 0 --kmer_skip 2 --local 1 --match_bonus 10 --match_bonus_tc 2 --match_bonus_tt 10 --max_cmrs 2147483647 --max_equal 1 --max_insert_size 1000 --max_polya 4 --max_read_length 0 --min_identity 0.650000 --min_insert_size 0 --min_mq 0 --min_residues 0.500000 --min_score 0.000000 --mismatch_penalty 15 --mode 0 --no_progress 1 --no_unal 0 --ocl_threads 1 --output ../../data/slamseq_mebendazole_v1/res/map/mr531-MV411-Mebendazole-r5_slamdunk_mapped.sam --overwrite 1 --pair_score_cutoff 0.900000 --paired 1 --parse_all 1 --pe_delimiter / --qry1 ../../data/slamseq_mebendazole_v1/fastqs/mr531-MV411-Mebendazole-r5_R1_001_val_1.fq.gz --qry2 ../../data/slamseq_mebendazole_v1/fastqs/mr531-MV411-Mebendazole-r5_R2_001_val_2.fq.gz --qry_count -1 --qry_start 0 --ref ../../ref/Homo_sapiens_assembly38_ERCC92_noAlt.fasta --ref_mode -1 --rg_id 0 --rg_sm sample_0:NA:-1 --sensitive 0 --silent_clip 0 --skip_mate_check 0 --skip_save 0 --slam_seq 2 --step_count 4 --strata 0 --topn 1 --trim5 12 --update_check 0 --very_fast 0 --very_sensitive 0\\n[NGM] Opening for output (SAM): ../../data/slamseq_mebendazole_v1/res/map/mr530-MV411-Mebendazole-r4_slamdunk_mapped.sam\\n[NGM] Opening for output (SAM): ../../data/slamseq_mebendazole_v1/res/map/mr531-MV411-Mebendazole-r5_slamdunk_mapped.sam\\n[SEQPROV] Reading encoded reference from ../../ref/Homo_sapiens_assembly38_ERCC92_noAlt.fasta-enc.2.ngm\\n[SEQPROV] Reading encoded reference from ../../ref/Homo_sapiens_assembly38_ERCC92_noAlt.fasta-enc.2.ngm\\n[SEQPROV] Reading 3111 Mbp from disk took 9.31s\\n[SEQPROV] Reading 3111 Mbp from disk took 9.31s\\n[PREPROCESS] Reading RefTable from ../../ref/Homo_sapiens_assembly38_ERCC92_noAlt.fasta-ht-13-2.3.ngm\\n[PREPROCESS] Reading RefTable from ../../ref/Homo_sapiens_assembly38_ERCC92_noAlt.fasta-ht-13-2.3.ngm\\n[PREPROCESS] [PREPROCESS] Reading from disk took 36.64s\\nReading from disk took 36.64s\\n[PREPROCESS] Max. k-mer frequency set so 887!\\n[INPUT] Input is paired end data.\\n[INPUT] Opening file ../../data/slamseq_mebendazole_v1/fastqs/mr531-MV411-Mebendazole-r5_R1_001_val_1.fq.gz for reading\\n[INPUT] Opening file ../../data/slamseq_mebendazole_v1/fastqs/mr531-MV411-Mebendazole-r5_R2_001_val_2.fq.gz for reading\\n[PREPROCESS] Max. k-mer frequency set so 887!\\n[INPUT] Input is paired end data.\\n[INPUT] Opening file ../../data/slamseq_mebendazole_v1/fastqs/mr530-MV411-Mebendazole-r4_R1_001_val_1.fq.gz for reading\\n[INPUT] Opening file ../../data/slamseq_mebendazole_v1/fastqs/mr530-MV411-Mebendazole-r4_R2_001_val_2.fq.gz for reading\\n[INPUT] Input is Fastq\\n[INPUT] Input is Fastq\\n[INPUT] Estimating parameter from data\\n[INPUT] Estimating parameter from data\\n[INPUT] Input reads don\\'t have the same length!\\n[INPUT] Maximum read length found in the first 10000000 reads is 138. For longer reads only the first 151 bp will be mapped.\\n[INPUT] The maximum read length can be overwritten with the \\'--max-read-length\\' parameter. With \\'--force-rlength-check\\', NextGenMap will run through all reads to find the max. read length. This might take some time.\\n[INPUT] Average read length: 128 (min: 8, max: 152)\\n[INPUT] Corridor width: 24\\n[INPUT] Average kmer hits pro read: 27.994663\\n[INPUT] Max possible kmer hit: 38\\n[INPUT] Estimated sensitivity: 0.736702\\n[INPUT] Estimating parameter took 37.845s\\n[INPUT] Input is Fastq\\n[INPUT] Input is Fastq\\n[INPUT] Input reads don\\'t have the same length!\\n[INPUT] Maximum read length found in the first 10000000 reads is 138. For longer reads only the first 151 bp will be mapped.\\n[INPUT] The maximum read length can be overwritten with the \\'--max-read-length\\' parameter. With \\'--force-rlength-check\\', NextGenMap will run through all reads to find the max. read length. This might take some time.\\n[INPUT] Average read length: 127 (min: 8, max: 152)\\n[INPUT] Corridor width: 24\\n[INPUT] Average kmer hits pro read: 27.642050\\n[INPUT] Max possible kmer hit: 38\\n[INPUT] Estimated sensitivity: 0.727422\\n[INPUT] Estimating parameter took 37.877s\\n[INPUT] Input is Fastq\\n[INPUT] Input is Fastq\\n[OPENCL] Available platforms: 1\\n[OPENCL] AMD Accelerated Parallel Processing[OPENCL] Available platforms: 1\\n[OPENCL] AMD Accelerated Parallel Processing\\n[OPENCL] Selecting OpenCl platform: AMD Accelerated Parallel Processing\\n[OPENCL] Platform: OpenCL 1.2 AMD-APP (1214.3)\\n[OPENCL] 1 CPU device found.\\n[OPENCL] Device 0: Intel(R) Xeon(R) CPU @ 3.10GHz (Driver: 1214.3 (sse2,avx))\\n\\n[OPENCL] Selecting OpenCl platform: AMD Accelerated Parallel Processing\\n[OPENCL] Platform: OpenCL 1.2 AMD-APP (1214.3)\\n[OPENCL] 1 CPU device found.\\n[OPENCL] Device 0: Intel(R) Xeon(R) CPU @ 3.10GHz (Driver: 1214.3 (sse2,avx))\\n[OPENCL] [OPENCL] 8 CPU cores available.\\n8 CPU cores available.\\n[MAIN] Valid pairs found: 77.97%\\n[MAIN] Estimated insert size: 224 bp\\n[MAIN] Alignments computed: 57053689\\n[MAIN] Done (53924652 reads mapped (91.56%), 4971416 reads not mapped (268 discarded), 58895800 lines written)(elapsed: 5361.977539s)\\n[UPDATE_CHECK] Your version of NGM is more than 6 months old - a newer version may be available. (For performing an automatic check use --update-check)\\nparsing jkobject\\ndoing all\\nRunning slamDunk map for 2 files (14 threads)\\ndoing paired end mapping!\\n -1 ../../data/slamseq_mebendazole_v1/fastqs/mr531-MV411-Mebendazole-r5_R1_001_val_1.fq.gz -2 ../../data/slamseq_mebendazole_v1/fastqs/mr531-MV411-Mebendazole-r5_R2_001_val_2.fq.gz\\nRunning: \"ngm -r ../../ref/Homo_sapiens_assembly38_ERCC92_noAlt.fasta -1 ../../data/slamseq_mebendazole_v1/fastqs/mr531-MV411-Mebendazole-r5_R1_001_val_1.fq.gz -2 ../../data/slamseq_mebendazole_v1/fastqs/mr531-MV411-Mebendazole-r5_R2_001_val_2.fq.gz -t 14 --no-progress --slam-seq 2 -5 12 --max-polya 4 -l  --rg-id 0 --rg-sm sample_0:NA:-1 -o ../../data/slamseq_mebendazole_v1/res/map/mr531-MV411-Mebendazole-r5_slamdunk_mapped.sam\"\\nRunning: \"samtools view -@ 14 -Sb -o ../../data/slamseq_mebendazole_v1/res/map/mr531-MV411-Mebendazole-r5_slamdunk_mapped.bam ../../data/slamseq_mebendazole_v1/res/map/mr531-MV411-Mebendazole-r5_slamdunk_mapped.sam\"\\nslamdunk all\\nRunning slamDunk map for 2 files (14 threads)\\n.\\nRunning slamDunk sam2bam for 1 files (14 threads)\\n.\\nRunning slamDunk filter for 1 files (14 threads)\\n[E::idx_find_and_load] Could not retrieve index file for \\'../../data/slamseq_mebendazole_v1/res/map/mr531-MV411-Mebendazole-r5_slamdunk_mapped.bam\\'\\n[MAIN] Valid pairs found: 81.37%\\n[MAIN] Estimated insert size: 207 bp\\n[MAIN] Alignments computed: 78025307\\n[MAIN] Done (74579532 reads mapped (93.34%), 5323752 reads not mapped (272 discarded), 79903012 lines written)(elapsed: 6348.399414s)\\n[UPDATE_CHECK] Your version of NGM is more than 6 months old - a newer version may be available. (For performing an automatic check use --update-check)\\nparsing jkobject\\ndoing all\\nRunning slamDunk map for 2 files (14 threads)\\ndoing paired end mapping!\\n -1 ../../data/slamseq_mebendazole_v1/fastqs/mr530-MV411-Mebendazole-r4_R1_001_val_1.fq.gz -2 ../../data/slamseq_mebendazole_v1/fastqs/mr530-MV411-Mebendazole-r4_R2_001_val_2.fq.gz\\nRunning: \"ngm -r ../../ref/Homo_sapiens_assembly38_ERCC92_noAlt.fasta -1 ../../data/slamseq_mebendazole_v1/fastqs/mr530-MV411-Mebendazole-r4_R1_001_val_1.fq.gz -2 ../../data/slamseq_mebendazole_v1/fastqs/mr530-MV411-Mebendazole-r4_R2_001_val_2.fq.gz -t 14 --no-progress --slam-seq 2 -5 12 --max-polya 4 -l  --rg-id 0 --rg-sm sample_0:NA:-1 -o ../../data/slamseq_mebendazole_v1/res/map/mr530-MV411-Mebendazole-r4_slamdunk_mapped.sam\"\\nRunning: \"samtools view -@ 14 -Sb -o ../../data/slamseq_mebendazole_v1/res/map/mr530-MV411-Mebendazole-r4_slamdunk_mapped.bam ../../data/slamseq_mebendazole_v1/res/map/mr530-MV411-Mebendazole-r4_slamdunk_mapped.sam\"\\nslamdunk all\\nRunning slamDunk map for 2 files (14 threads)\\n.\\nRunning slamDunk sam2bam for 1 files (14 threads)\\n.\\nRunning slamDunk filter for 1 files (14 threads)\\n[E::idx_find_and_load] Could not retrieve index file for \\'../../data/slamseq_mebendazole_v1/res/map/mr530-MV411-Mebendazole-r4_slamdunk_mapped.bam\\'\\n[E::idx_find_and_load] Could not retrieve index file for \\'../../data/slamseq_mebendazole_v1/res/filter/mr531-MV411-Mebendazole-r5_filtered.bam\\'\\n[E::idx_find_and_load] Could not retrieve index file for \\'../../data/slamseq_mebendazole_v1/res/filter/mr530-MV411-Mebendazole-r4_filtered.bam\\'\\n[bam_sort_core] merging from 25 files and 1 in-memory blocks...\\n\\n\\nRunning slamDunk SNP for 1 files (7 threads)\\n[bam_sort_core] merging from 35 files and 1 in-memory blocks...\\n\\n\\nRunning slamDunk SNP for 1 files (7 threads)\\n\\nRunning slamDunk tcount for 1 files (14 threads)\\n\\n\\nRunning: \"samtools sort -o ../../data/slamseq_mebendazole_v1/res/filter/mr531-MV411-Mebendazole-r5_filtered.bam ../../data/slamseq_mebendazole_v1/res/filter/mr531-MV411-Mebendazole-r5_filtered.bam_tmp\"\\n...\\nRunning slamDunk tcount for 1 files (14 threads)\\n\\n\\nRunning: \"samtools sort -o ../../data/slamseq_mebendazole_v1/res/filter/mr530-MV411-Mebendazole-r4_filtered.bam ../../data/slamseq_mebendazole_v1/res/filter/mr530-MV411-Mebendazole-r4_filtered.bam_tmp\"\\n...']"
      ]
     },
     "execution_count": 43,
     "metadata": {},
     "output_type": "execute_result"
    }
   ],
   "source": [
    "%%time\n",
    "\n",
    "# run slamdunk\n",
    "# we are doing it paired end\n",
    "h.parrun(['slamdunk all'+\n",
    "          ' -o '+res_dir+\n",
    "          ' -r '+refgenome_noAlt+\n",
    "          ' -b '+gene_intervals+\n",
    "          ' -t 14'+\n",
    "          ' -c 2'+\n",
    "          ' -rl 152'+ # max-read-length = 152\n",
    "          # new parameters\n",
    "          ' -5 12'+\n",
    "          ' -n 1'+ # reads map to multiple locations at once\n",
    "          ' -m True'+ # multimapping\n",
    "          ' -N '+val1.split('/')[-1].split('_R')[0]+\n",
    "          ' '+val1+\" \"+val2+\n",
    "          ' 2>&1 | tee '+res_dir+'/'+os.path.basename(val1)+'_slumdunk.log'\n",
    "          for val1, val2 in h.grouped(fastq_full, 2)], 2)"
   ]
  },
  {
   "cell_type": "markdown",
   "id": "b12989fa",
   "metadata": {},
   "source": [
    "## save the data to bucket"
   ]
  },
  {
   "cell_type": "code",
   "execution_count": 46,
   "id": "da27b4dc",
   "metadata": {},
   "outputs": [
    {
     "data": {
      "text/plain": [
       "'mebendazole_v1'"
      ]
     },
     "execution_count": 46,
     "metadata": {},
     "output_type": "execute_result"
    }
   ],
   "source": [
    "project"
   ]
  },
  {
   "cell_type": "code",
   "execution_count": 47,
   "id": "424dcba3",
   "metadata": {},
   "outputs": [
    {
     "name": "stdout",
     "output_type": "stream",
     "text": [
      "fastqs\tres\r\n"
     ]
    }
   ],
   "source": [
    "! ls ../../data/slamseq_$project"
   ]
  },
  {
   "cell_type": "markdown",
   "id": "b727bb5e",
   "metadata": {},
   "source": [
    "* save fastqs to bucket\n",
    "* save processed res to bucket\n",
    "* remove processed fastqs from local"
   ]
  },
  {
   "cell_type": "code",
   "execution_count": 48,
   "id": "ab3ef0b7",
   "metadata": {
    "collapsed": true
   },
   "outputs": [
    {
     "name": "stdout",
     "output_type": "stream",
     "text": [
      "Copying file://../../data/slamseq_mebendazole_v1/fastqs/mr522-MV411-DMSO-r1_R1_001.fastq.gz [Content-Type=application/octet-stream]...\n",
      "==> NOTE: You are uploading one or more large file(s), which would run          \n",
      "significantly faster if you enable parallel composite uploads. This\n",
      "feature can be enabled by editing the\n",
      "\"parallel_composite_upload_threshold\" value in your .boto\n",
      "configuration file. However, note that if you do this large files will\n",
      "be uploaded as `composite objects\n",
      "<https://cloud.google.com/storage/docs/composite-objects>`_,which\n",
      "means that any user who downloads such objects will need to have a\n",
      "compiled crcmod installed (see \"gsutil help crcmod\"). This is because\n",
      "without a compiled crcmod, computing checksums on composite objects is\n",
      "so slow that gsutil disables downloads of composite objects.\n",
      "\n",
      "Copying file://../../data/slamseq_mebendazole_v1/fastqs/mr522-MV411-DMSO-r1_R1_001.fastq.gz_trimming_report.txt [Content-Type=text/plain]...\n",
      "Copying file://../../data/slamseq_mebendazole_v1/fastqs/mr522-MV411-DMSO-r1_R1_001_unpaired_1.fq.gz [Content-Type=application/octet-stream]...\n",
      "Copying file://../../data/slamseq_mebendazole_v1/fastqs/mr522-MV411-DMSO-r1_R1_001_val_1.fq.gz [Content-Type=application/octet-stream]...\n",
      "Copying file://../../data/slamseq_mebendazole_v1/fastqs/mr522-MV411-DMSO-r1_R2_001.fastq.gz [Content-Type=application/octet-stream]...\n",
      "Copying file://../../data/slamseq_mebendazole_v1/fastqs/mr522-MV411-DMSO-r1_R2_001.fastq.gz_trimming_report.txt [Content-Type=text/plain]...\n",
      "Copying file://../../data/slamseq_mebendazole_v1/fastqs/mr522-MV411-DMSO-r1_R2_001_unpaired_2.fq.gz [Content-Type=application/octet-stream]...\n",
      "Copying file://../../data/slamseq_mebendazole_v1/fastqs/mr522-MV411-DMSO-r1_R2_001_val_2.fq.gz [Content-Type=application/octet-stream]...\n",
      "Copying file://../../data/slamseq_mebendazole_v1/fastqs/mr523-MV411-DMSO-r2_R1_001.fastq.gz [Content-Type=application/octet-stream]...\n",
      "Copying file://../../data/slamseq_mebendazole_v1/fastqs/mr523-MV411-DMSO-r2_R1_001.fastq.gz_trimming_report.txt [Content-Type=text/plain]...\n",
      "Copying file://../../data/slamseq_mebendazole_v1/fastqs/mr523-MV411-DMSO-r2_R1_001_unpaired_1.fq.gz [Content-Type=application/octet-stream]...\n",
      "Copying file://../../data/slamseq_mebendazole_v1/fastqs/mr523-MV411-DMSO-r2_R1_001_val_1.fq.gz [Content-Type=application/octet-stream]...\n",
      "Copying file://../../data/slamseq_mebendazole_v1/fastqs/mr523-MV411-DMSO-r2_R2_001.fastq.gz [Content-Type=application/octet-stream]...\n",
      "Copying file://../../data/slamseq_mebendazole_v1/fastqs/mr523-MV411-DMSO-r2_R2_001.fastq.gz_trimming_report.txt [Content-Type=text/plain]...\n",
      "Copying file://../../data/slamseq_mebendazole_v1/fastqs/mr523-MV411-DMSO-r2_R2_001_val_2.fq.gz [Content-Type=application/octet-stream]...\n",
      "Copying file://../../data/slamseq_mebendazole_v1/fastqs/mr523-MV411-DMSO-r2_R2_001_unpaired_2.fq.gz [Content-Type=application/octet-stream]...\n",
      "Copying file://../../data/slamseq_mebendazole_v1/fastqs/mr524-MV411-DMSO-r3_R1_001.fastq.gz [Content-Type=application/octet-stream]...\n",
      "Copying file://../../data/slamseq_mebendazole_v1/fastqs/mr524-MV411-DMSO-r3_R1_001.fastq.gz_trimming_report.txt [Content-Type=text/plain]...\n",
      "Copying file://../../data/slamseq_mebendazole_v1/fastqs/mr524-MV411-DMSO-r3_R1_001_unpaired_1.fq.gz [Content-Type=application/octet-stream]...\n",
      "Copying file://../../data/slamseq_mebendazole_v1/fastqs/mr524-MV411-DMSO-r3_R1_001_val_1.fq.gz [Content-Type=application/octet-stream]...\n",
      "Copying file://../../data/slamseq_mebendazole_v1/fastqs/mr524-MV411-DMSO-r3_R2_001.fastq.gz [Content-Type=application/octet-stream]...\n",
      "Copying file://../../data/slamseq_mebendazole_v1/fastqs/mr524-MV411-DMSO-r3_R2_001.fastq.gz_trimming_report.txt [Content-Type=text/plain]...\n",
      "Copying file://../../data/slamseq_mebendazole_v1/fastqs/mr524-MV411-DMSO-r3_R2_001_unpaired_2.fq.gz [Content-Type=application/octet-stream]...\n",
      "Copying file://../../data/slamseq_mebendazole_v1/fastqs/mr524-MV411-DMSO-r3_R2_001_val_2.fq.gz [Content-Type=application/octet-stream]...\n",
      "Copying file://../../data/slamseq_mebendazole_v1/fastqs/mr525-MV411-DMSO-r4_R1_001_unpaired_1.fq.gz [Content-Type=application/octet-stream]...\n",
      "Copying file://../../data/slamseq_mebendazole_v1/fastqs/mr526-MV411-DMSO-r5_R1_001.fastq.gz [Content-Type=application/octet-stream]...\n",
      "Copying file://../../data/slamseq_mebendazole_v1/fastqs/mr525-MV411-DMSO-r4_R1_001.fastq.gz [Content-Type=application/octet-stream]...\n",
      "Copying file://../../data/slamseq_mebendazole_v1/fastqs/mr525-MV411-DMSO-r4_R1_001.fastq.gz_trimming_report.txt [Content-Type=text/plain]...\n",
      "Copying file://../../data/slamseq_mebendazole_v1/fastqs/mr525-MV411-DMSO-r4_R1_001_val_1.fq.gz [Content-Type=application/octet-stream]...\n",
      "Copying file://../../data/slamseq_mebendazole_v1/fastqs/mr526-MV411-DMSO-r5_R1_001_val_1.fq.gz [Content-Type=application/octet-stream]...\n",
      "Copying file://../../data/slamseq_mebendazole_v1/fastqs/mr525-MV411-DMSO-r4_R2_001.fastq.gz_trimming_report.txt [Content-Type=text/plain]...\n",
      "Copying file://../../data/slamseq_mebendazole_v1/fastqs/mr526-MV411-DMSO-r5_R2_001.fastq.gz_trimming_report.txt [Content-Type=text/plain]...\n",
      "Copying file://../../data/slamseq_mebendazole_v1/fastqs/mr525-MV411-DMSO-r4_R2_001_val_2.fq.gz [Content-Type=application/octet-stream]...\n",
      "Copying file://../../data/slamseq_mebendazole_v1/fastqs/mr525-MV411-DMSO-r4_R2_001.fastq.gz [Content-Type=application/octet-stream]...\n",
      "Copying file://../../data/slamseq_mebendazole_v1/fastqs/mr526-MV411-DMSO-r5_R1_001.fastq.gz_trimming_report.txt [Content-Type=text/plain]...\n",
      "Copying file://../../data/slamseq_mebendazole_v1/fastqs/mr525-MV411-DMSO-r4_R2_001_unpaired_2.fq.gz [Content-Type=application/octet-stream]...\n",
      "Copying file://../../data/slamseq_mebendazole_v1/fastqs/mr526-MV411-DMSO-r5_R2_001_unpaired_2.fq.gz [Content-Type=application/octet-stream]...\n",
      "Copying file://../../data/slamseq_mebendazole_v1/fastqs/mr526-MV411-DMSO-r5_R1_001_unpaired_1.fq.gz [Content-Type=application/octet-stream]...\n",
      "Copying file://../../data/slamseq_mebendazole_v1/fastqs/mr526-MV411-DMSO-r5_R2_001_val_2.fq.gz [Content-Type=application/octet-stream]...\n",
      "Copying file://../../data/slamseq_mebendazole_v1/fastqs/mr526-MV411-DMSO-r5_R2_001.fastq.gz [Content-Type=application/octet-stream]...\n",
      "Copying file://../../data/slamseq_mebendazole_v1/fastqs/mr527-MV411-Mebendazole-r1_R1_001.fastq.gz_trimming_report.txt [Content-Type=text/plain]...\n",
      "Copying file://../../data/slamseq_mebendazole_v1/fastqs/mr527-MV411-Mebendazole-r1_R1_001.fastq.gz [Content-Type=application/octet-stream]...\n",
      "Copying file://../../data/slamseq_mebendazole_v1/fastqs/mr527-MV411-Mebendazole-r1_R1_001_val_1.fq.gz [Content-Type=application/octet-stream]...\n",
      "Copying file://../../data/slamseq_mebendazole_v1/fastqs/mr527-MV411-Mebendazole-r1_R1_001_unpaired_1.fq.gz [Content-Type=application/octet-stream]...\n",
      "Copying file://../../data/slamseq_mebendazole_v1/fastqs/mr527-MV411-Mebendazole-r1_R2_001.fastq.gz [Content-Type=application/octet-stream]...\n",
      "Copying file://../../data/slamseq_mebendazole_v1/fastqs/mr527-MV411-Mebendazole-r1_R2_001.fastq.gz_trimming_report.txt [Content-Type=text/plain]...\n",
      "Copying file://../../data/slamseq_mebendazole_v1/fastqs/mr527-MV411-Mebendazole-r1_R2_001_unpaired_2.fq.gz [Content-Type=application/octet-stream]...\n",
      "Copying file://../../data/slamseq_mebendazole_v1/fastqs/mr527-MV411-Mebendazole-r1_R2_001_val_2.fq.gz [Content-Type=application/octet-stream]...\n",
      "Copying file://../../data/slamseq_mebendazole_v1/fastqs/mr528-MV411-Mebendazole-r2_R1_001.fastq.gz [Content-Type=application/octet-stream]...\n",
      "Copying file://../../data/slamseq_mebendazole_v1/fastqs/mr528-MV411-Mebendazole-r2_R1_001.fastq.gz_trimming_report.txt [Content-Type=text/plain]...\n",
      "Copying file://../../data/slamseq_mebendazole_v1/fastqs/mr528-MV411-Mebendazole-r2_R1_001_unpaired_1.fq.gz [Content-Type=application/octet-stream]...\n",
      "Copying file://../../data/slamseq_mebendazole_v1/fastqs/mr528-MV411-Mebendazole-r2_R1_001_val_1.fq.gz [Content-Type=application/octet-stream]...\n",
      "Copying file://../../data/slamseq_mebendazole_v1/fastqs/mr528-MV411-Mebendazole-r2_R2_001.fastq.gz [Content-Type=application/octet-stream]...\n",
      "Copying file://../../data/slamseq_mebendazole_v1/fastqs/mr528-MV411-Mebendazole-r2_R2_001.fastq.gz_trimming_report.txt [Content-Type=text/plain]...\n"
     ]
    },
    {
     "name": "stdout",
     "output_type": "stream",
     "text": [
      "Copying file://../../data/slamseq_mebendazole_v1/fastqs/mr528-MV411-Mebendazole-r2_R2_001_unpaired_2.fq.gz [Content-Type=application/octet-stream]...\n",
      "Copying file://../../data/slamseq_mebendazole_v1/fastqs/mr528-MV411-Mebendazole-r2_R2_001_val_2.fq.gz [Content-Type=application/octet-stream]...\n",
      "Copying file://../../data/slamseq_mebendazole_v1/fastqs/mr529-MV411-Mebendazole-r3_R1_001.fastq.gz [Content-Type=application/octet-stream]...\n",
      "Copying file://../../data/slamseq_mebendazole_v1/fastqs/mr529-MV411-Mebendazole-r3_R1_001.fastq.gz_trimming_report.txt [Content-Type=text/plain]...\n",
      "Copying file://../../data/slamseq_mebendazole_v1/fastqs/mr529-MV411-Mebendazole-r3_R1_001_unpaired_1.fq.gz [Content-Type=application/octet-stream]...\n",
      "Copying file://../../data/slamseq_mebendazole_v1/fastqs/mr529-MV411-Mebendazole-r3_R1_001_val_1.fq.gz [Content-Type=application/octet-stream]...\n",
      "Copying file://../../data/slamseq_mebendazole_v1/fastqs/mr529-MV411-Mebendazole-r3_R2_001.fastq.gz [Content-Type=application/octet-stream]...\n",
      "Copying file://../../data/slamseq_mebendazole_v1/fastqs/mr529-MV411-Mebendazole-r3_R2_001.fastq.gz_trimming_report.txt [Content-Type=text/plain]...\n",
      "Copying file://../../data/slamseq_mebendazole_v1/fastqs/mr529-MV411-Mebendazole-r3_R2_001_unpaired_2.fq.gz [Content-Type=application/octet-stream]...\n",
      "Copying file://../../data/slamseq_mebendazole_v1/fastqs/mr529-MV411-Mebendazole-r3_R2_001_val_2.fq.gz [Content-Type=application/octet-stream]...\n",
      "Copying file://../../data/slamseq_mebendazole_v1/fastqs/mr530-MV411-Mebendazole-r4_R1_001.fastq.gz [Content-Type=application/octet-stream]...\n",
      "Copying file://../../data/slamseq_mebendazole_v1/fastqs/mr530-MV411-Mebendazole-r4_R1_001.fastq.gz_trimming_report.txt [Content-Type=text/plain]...\n",
      "Copying file://../../data/slamseq_mebendazole_v1/fastqs/mr530-MV411-Mebendazole-r4_R1_001_unpaired_1.fq.gz [Content-Type=application/octet-stream]...\n",
      "Copying file://../../data/slamseq_mebendazole_v1/fastqs/mr530-MV411-Mebendazole-r4_R1_001_val_1.fq.gz [Content-Type=application/octet-stream]...\n",
      "Copying file://../../data/slamseq_mebendazole_v1/fastqs/mr530-MV411-Mebendazole-r4_R2_001.fastq.gz [Content-Type=application/octet-stream]...\n",
      "Copying file://../../data/slamseq_mebendazole_v1/fastqs/mr530-MV411-Mebendazole-r4_R2_001.fastq.gz_trimming_report.txt [Content-Type=text/plain]...\n",
      "Copying file://../../data/slamseq_mebendazole_v1/fastqs/mr530-MV411-Mebendazole-r4_R2_001_unpaired_2.fq.gz [Content-Type=application/octet-stream]...\n",
      "Copying file://../../data/slamseq_mebendazole_v1/fastqs/mr530-MV411-Mebendazole-r4_R2_001_val_2.fq.gz [Content-Type=application/octet-stream]...\n",
      "Copying file://../../data/slamseq_mebendazole_v1/fastqs/mr531-MV411-Mebendazole-r5_R1_001.fastq.gz [Content-Type=application/octet-stream]...\n",
      "Copying file://../../data/slamseq_mebendazole_v1/fastqs/mr531-MV411-Mebendazole-r5_R1_001.fastq.gz_trimming_report.txt [Content-Type=text/plain]...\n",
      "Copying file://../../data/slamseq_mebendazole_v1/fastqs/mr531-MV411-Mebendazole-r5_R1_001_unpaired_1.fq.gz [Content-Type=application/octet-stream]...\n",
      "Copying file://../../data/slamseq_mebendazole_v1/fastqs/mr531-MV411-Mebendazole-r5_R1_001_val_1.fq.gz [Content-Type=application/octet-stream]...\n",
      "Copying file://../../data/slamseq_mebendazole_v1/fastqs/mr531-MV411-Mebendazole-r5_R2_001.fastq.gz [Content-Type=application/octet-stream]...\n",
      "Copying file://../../data/slamseq_mebendazole_v1/fastqs/mr531-MV411-Mebendazole-r5_R2_001.fastq.gz_trimming_report.txt [Content-Type=text/plain]...\n",
      "Copying file://../../data/slamseq_mebendazole_v1/fastqs/mr531-MV411-Mebendazole-r5_R2_001_unpaired_2.fq.gz [Content-Type=application/octet-stream]...\n",
      "Copying file://../../data/slamseq_mebendazole_v1/fastqs/mr531-MV411-Mebendazole-r5_R2_001_val_2.fq.gz [Content-Type=application/octet-stream]...\n",
      "/ [80/80 files][ 96.4 GiB/ 96.4 GiB] 100% Done 125.8 MiB/s ETA 00:00:00         \n",
      "Operation completed over 80 objects/96.4 GiB.                                    \n",
      "Copying file://../../data/slamseq_mebendazole_v1/res/map/mr522-MV411-DMSO-r1_slamdunk_mapped.bam [Content-Type=application/octet-stream]...\n",
      "==> NOTE: You are uploading one or more large file(s), which would run          \n",
      "significantly faster if you enable parallel composite uploads. This\n",
      "feature can be enabled by editing the\n",
      "\"parallel_composite_upload_threshold\" value in your .boto\n",
      "configuration file. However, note that if you do this large files will\n",
      "be uploaded as `composite objects\n",
      "<https://cloud.google.com/storage/docs/composite-objects>`_,which\n",
      "means that any user who downloads such objects will need to have a\n",
      "compiled crcmod installed (see \"gsutil help crcmod\"). This is because\n",
      "without a compiled crcmod, computing checksums on composite objects is\n",
      "so slow that gsutil disables downloads of composite objects.\n",
      "\n",
      "Copying file://../../data/slamseq_mebendazole_v1/res/map/mr522-MV411-DMSO-r1_slamdunk_mapped.log [Content-Type=application/octet-stream]...\n",
      "Copying file://../../data/slamseq_mebendazole_v1/res/map/mr523-MV411-DMSO-r2_slamdunk_mapped.bam [Content-Type=application/octet-stream]...\n",
      "Copying file://../../data/slamseq_mebendazole_v1/res/map/mr523-MV411-DMSO-r2_slamdunk_mapped.log [Content-Type=application/octet-stream]...\n",
      "Copying file://../../data/slamseq_mebendazole_v1/res/map/mr524-MV411-DMSO-r3_slamdunk_mapped.bam [Content-Type=application/octet-stream]...\n",
      "Copying file://../../data/slamseq_mebendazole_v1/res/map/mr524-MV411-DMSO-r3_slamdunk_mapped.log [Content-Type=application/octet-stream]...\n",
      "Copying file://../../data/slamseq_mebendazole_v1/res/map/mr525-MV411-DMSO-r4_slamdunk_mapped.bam [Content-Type=application/octet-stream]...\n",
      "Copying file://../../data/slamseq_mebendazole_v1/res/map/mr525-MV411-DMSO-r4_slamdunk_mapped.log [Content-Type=application/octet-stream]...\n",
      "Copying file://../../data/slamseq_mebendazole_v1/res/map/mr526-MV411-DMSO-r5_slamdunk_mapped.bam [Content-Type=application/octet-stream]...\n",
      "Copying file://../../data/slamseq_mebendazole_v1/res/map/mr526-MV411-DMSO-r5_slamdunk_mapped.log [Content-Type=application/octet-stream]...\n",
      "Copying file://../../data/slamseq_mebendazole_v1/res/map/mr527-MV411-Mebendazole-r1_slamdunk_mapped.bam [Content-Type=application/octet-stream]...\n",
      "Copying file://../../data/slamseq_mebendazole_v1/res/map/mr527-MV411-Mebendazole-r1_slamdunk_mapped.log [Content-Type=application/octet-stream]...\n",
      "Copying file://../../data/slamseq_mebendazole_v1/res/map/mr528-MV411-Mebendazole-r2_slamdunk_mapped.log [Content-Type=application/octet-stream]...\n",
      "Copying file://../../data/slamseq_mebendazole_v1/res/map/mr528-MV411-Mebendazole-r2_slamdunk_mapped.bam [Content-Type=application/octet-stream]...\n",
      "Copying file://../../data/slamseq_mebendazole_v1/res/map/mr529-MV411-Mebendazole-r3_slamdunk_mapped.log [Content-Type=application/octet-stream]...\n",
      "Copying file://../../data/slamseq_mebendazole_v1/res/map/mr529-MV411-Mebendazole-r3_slamdunk_mapped.bam [Content-Type=application/octet-stream]...\n",
      "Copying file://../../data/slamseq_mebendazole_v1/res/map/mr530-MV411-Mebendazole-r4_slamdunk_mapped.bam [Content-Type=application/octet-stream]...\n",
      "Copying file://../../data/slamseq_mebendazole_v1/res/map/mr530-MV411-Mebendazole-r4_slamdunk_mapped.log [Content-Type=application/octet-stream]...\n",
      "Copying file://../../data/slamseq_mebendazole_v1/res/map/mr531-MV411-Mebendazole-r5_slamdunk_mapped.bam [Content-Type=application/octet-stream]...\n",
      "Copying file://../../data/slamseq_mebendazole_v1/res/map/mr531-MV411-Mebendazole-r5_slamdunk_mapped.log [Content-Type=application/octet-stream]...\n",
      "| [20/20 files][ 70.3 GiB/ 70.3 GiB] 100% Done  98.5 MiB/s ETA 00:00:00         \n",
      "Operation completed over 20 objects/70.3 GiB.                                    \n",
      "Copying file://../../data/slamseq_mebendazole_v1/res/filter/mr522-MV411-DMSO-r1_filtered.bam [Content-Type=application/octet-stream]...\n",
      "==> NOTE: You are uploading one or more large file(s), which would run          \n",
      "significantly faster if you enable parallel composite uploads. This\n",
      "feature can be enabled by editing the\n",
      "\"parallel_composite_upload_threshold\" value in your .boto\n",
      "configuration file. However, note that if you do this large files will\n",
      "be uploaded as `composite objects\n",
      "<https://cloud.google.com/storage/docs/composite-objects>`_,which\n",
      "means that any user who downloads such objects will need to have a\n",
      "compiled crcmod installed (see \"gsutil help crcmod\"). This is because\n",
      "without a compiled crcmod, computing checksums on composite objects is\n",
      "so slow that gsutil disables downloads of composite objects.\n",
      "\n"
     ]
    },
    {
     "name": "stdout",
     "output_type": "stream",
     "text": [
      "Copying file://../../data/slamseq_mebendazole_v1/res/filter/mr522-MV411-DMSO-r1_filtered.bam.bai [Content-Type=application/octet-stream]...\n",
      "Copying file://../../data/slamseq_mebendazole_v1/res/filter/mr522-MV411-DMSO-r1_filtered.log [Content-Type=application/octet-stream]...\n",
      "Copying file://../../data/slamseq_mebendazole_v1/res/filter/mr523-MV411-DMSO-r2_filtered.bam [Content-Type=application/octet-stream]...\n",
      "Copying file://../../data/slamseq_mebendazole_v1/res/filter/mr523-MV411-DMSO-r2_filtered.bam.bai [Content-Type=application/octet-stream]...\n",
      "Copying file://../../data/slamseq_mebendazole_v1/res/filter/mr523-MV411-DMSO-r2_filtered.log [Content-Type=application/octet-stream]...\n",
      "Copying file://../../data/slamseq_mebendazole_v1/res/filter/mr524-MV411-DMSO-r3_filtered.bam [Content-Type=application/octet-stream]...\n",
      "Copying file://../../data/slamseq_mebendazole_v1/res/filter/mr524-MV411-DMSO-r3_filtered.bam.bai [Content-Type=application/octet-stream]...\n",
      "Copying file://../../data/slamseq_mebendazole_v1/res/filter/mr524-MV411-DMSO-r3_filtered.log [Content-Type=application/octet-stream]...\n",
      "Copying file://../../data/slamseq_mebendazole_v1/res/filter/mr525-MV411-DMSO-r4_filtered.bam [Content-Type=application/octet-stream]...\n",
      "Copying file://../../data/slamseq_mebendazole_v1/res/filter/mr525-MV411-DMSO-r4_filtered.bam.bai [Content-Type=application/octet-stream]...\n",
      "Copying file://../../data/slamseq_mebendazole_v1/res/filter/mr525-MV411-DMSO-r4_filtered.log [Content-Type=application/octet-stream]...\n",
      "Copying file://../../data/slamseq_mebendazole_v1/res/filter/mr526-MV411-DMSO-r5_filtered.bam [Content-Type=application/octet-stream]...\n",
      "Copying file://../../data/slamseq_mebendazole_v1/res/filter/mr526-MV411-DMSO-r5_filtered.bam.bai [Content-Type=application/octet-stream]...\n",
      "Copying file://../../data/slamseq_mebendazole_v1/res/filter/mr526-MV411-DMSO-r5_filtered.log [Content-Type=application/octet-stream]...\n",
      "Copying file://../../data/slamseq_mebendazole_v1/res/filter/mr527-MV411-Mebendazole-r1_filtered.bam [Content-Type=application/octet-stream]...\n",
      "Copying file://../../data/slamseq_mebendazole_v1/res/filter/mr528-MV411-Mebendazole-r2_filtered.log [Content-Type=application/octet-stream]...\n",
      "Copying file://../../data/slamseq_mebendazole_v1/res/filter/mr527-MV411-Mebendazole-r1_filtered.bam.bai [Content-Type=application/octet-stream]...\n",
      "Copying file://../../data/slamseq_mebendazole_v1/res/filter/mr527-MV411-Mebendazole-r1_filtered.log [Content-Type=application/octet-stream]...\n",
      "Copying file://../../data/slamseq_mebendazole_v1/res/filter/mr529-MV411-Mebendazole-r3_filtered.bam [Content-Type=application/octet-stream]...\n",
      "Copying file://../../data/slamseq_mebendazole_v1/res/filter/mr528-MV411-Mebendazole-r2_filtered.bam [Content-Type=application/octet-stream]...\n",
      "Copying file://../../data/slamseq_mebendazole_v1/res/filter/mr529-MV411-Mebendazole-r3_filtered.bam.bai [Content-Type=application/octet-stream]...\n",
      "Copying file://../../data/slamseq_mebendazole_v1/res/filter/mr528-MV411-Mebendazole-r2_filtered.bam.bai [Content-Type=application/octet-stream]...\n",
      "Copying file://../../data/slamseq_mebendazole_v1/res/filter/mr529-MV411-Mebendazole-r3_filtered.log [Content-Type=application/octet-stream]...\n",
      "Copying file://../../data/slamseq_mebendazole_v1/res/filter/mr530-MV411-Mebendazole-r4_filtered.bam.bai [Content-Type=application/octet-stream]...\n",
      "Copying file://../../data/slamseq_mebendazole_v1/res/filter/mr530-MV411-Mebendazole-r4_filtered.bam [Content-Type=application/octet-stream]...\n",
      "Copying file://../../data/slamseq_mebendazole_v1/res/filter/mr530-MV411-Mebendazole-r4_filtered.log [Content-Type=application/octet-stream]...\n",
      "Copying file://../../data/slamseq_mebendazole_v1/res/filter/mr531-MV411-Mebendazole-r5_filtered.bam [Content-Type=application/octet-stream]...\n",
      "Copying file://../../data/slamseq_mebendazole_v1/res/filter/mr531-MV411-Mebendazole-r5_filtered.bam.bai [Content-Type=application/octet-stream]...\n",
      "Copying file://../../data/slamseq_mebendazole_v1/res/filter/mr531-MV411-Mebendazole-r5_filtered.log [Content-Type=application/octet-stream]...\n",
      "\\ [30/30 files][ 31.8 GiB/ 31.8 GiB] 100% Done 111.8 MiB/s ETA 00:00:00         \n",
      "Operation completed over 30 objects/31.8 GiB.                                    \n",
      "Copying file://../../data/slamseq_mebendazole_v1/res/snp/mr522-MV411-DMSO-r1_snp.log [Content-Type=application/octet-stream]...\n",
      "Copying file://../../data/slamseq_mebendazole_v1/res/snp/mr522-MV411-DMSO-r1_snp.vcf [Content-Type=text/vcard]...\n",
      "Copying file://../../data/slamseq_mebendazole_v1/res/snp/mr523-MV411-DMSO-r2_snp.log [Content-Type=application/octet-stream]...\n",
      "Copying file://../../data/slamseq_mebendazole_v1/res/snp/mr523-MV411-DMSO-r2_snp.vcf [Content-Type=text/vcard]...\n",
      "Copying file://../../data/slamseq_mebendazole_v1/res/snp/mr524-MV411-DMSO-r3_snp.log [Content-Type=application/octet-stream]...\n",
      "Copying file://../../data/slamseq_mebendazole_v1/res/snp/mr524-MV411-DMSO-r3_snp.vcf [Content-Type=text/vcard]...\n",
      "Copying file://../../data/slamseq_mebendazole_v1/res/snp/mr525-MV411-DMSO-r4_snp.log [Content-Type=application/octet-stream]...\n",
      "Copying file://../../data/slamseq_mebendazole_v1/res/snp/mr525-MV411-DMSO-r4_snp.vcf [Content-Type=text/vcard]...\n",
      "Copying file://../../data/slamseq_mebendazole_v1/res/snp/mr526-MV411-DMSO-r5_snp.log [Content-Type=application/octet-stream]...\n",
      "Copying file://../../data/slamseq_mebendazole_v1/res/snp/mr526-MV411-DMSO-r5_snp.vcf [Content-Type=text/vcard]...\n",
      "Copying file://../../data/slamseq_mebendazole_v1/res/snp/mr527-MV411-Mebendazole-r1_snp.log [Content-Type=application/octet-stream]...\n",
      "Copying file://../../data/slamseq_mebendazole_v1/res/snp/mr527-MV411-Mebendazole-r1_snp.vcf [Content-Type=text/vcard]...\n",
      "Copying file://../../data/slamseq_mebendazole_v1/res/snp/mr528-MV411-Mebendazole-r2_snp.vcf [Content-Type=text/vcard]...\n",
      "Copying file://../../data/slamseq_mebendazole_v1/res/snp/mr528-MV411-Mebendazole-r2_snp.log [Content-Type=application/octet-stream]...\n",
      "Copying file://../../data/slamseq_mebendazole_v1/res/snp/mr530-MV411-Mebendazole-r4_snp.log [Content-Type=application/octet-stream]...\n",
      "Copying file://../../data/slamseq_mebendazole_v1/res/snp/mr529-MV411-Mebendazole-r3_snp.log [Content-Type=application/octet-stream]...\n",
      "Copying file://../../data/slamseq_mebendazole_v1/res/snp/mr529-MV411-Mebendazole-r3_snp.vcf [Content-Type=text/vcard]...\n",
      "Copying file://../../data/slamseq_mebendazole_v1/res/snp/mr530-MV411-Mebendazole-r4_snp.vcf [Content-Type=text/vcard]...\n",
      "Copying file://../../data/slamseq_mebendazole_v1/res/snp/mr531-MV411-Mebendazole-r5_snp.log [Content-Type=application/octet-stream]...\n",
      "Copying file://../../data/slamseq_mebendazole_v1/res/snp/mr531-MV411-Mebendazole-r5_snp.vcf [Content-Type=text/vcard]...\n",
      "\\ [20/20 files][126.0 MiB/126.0 MiB] 100% Done                                  \n",
      "Operation completed over 20 objects/126.0 MiB.                                   \n",
      "Copying file://../../data/slamseq_mebendazole_v1/res/count/mr522-MV411-DMSO-r1_tcount.log [Content-Type=application/octet-stream]...\n",
      "Copying file://../../data/slamseq_mebendazole_v1/res/count/mr522-MV411-DMSO-r1_tcount_mins.bedgraph [Content-Type=application/octet-stream]...\n",
      "Copying file://../../data/slamseq_mebendazole_v1/res/count/mr522-MV411-DMSO-r1_tcount_plus.bedgraph [Content-Type=application/octet-stream]...\n",
      "Copying file://../../data/slamseq_mebendazole_v1/res/count/mr522-MV411-DMSO-r1_tcount.tsv [Content-Type=text/tab-separated-values]...\n",
      "Copying file://../../data/slamseq_mebendazole_v1/res/count/mr523-MV411-DMSO-r2_tcount.log [Content-Type=application/octet-stream]...\n",
      "Copying file://../../data/slamseq_mebendazole_v1/res/count/mr523-MV411-DMSO-r2_tcount_mins.bedgraph [Content-Type=application/octet-stream]...\n",
      "Copying file://../../data/slamseq_mebendazole_v1/res/count/mr523-MV411-DMSO-r2_tcount_plus.bedgraph [Content-Type=application/octet-stream]...\n",
      "Copying file://../../data/slamseq_mebendazole_v1/res/count/mr524-MV411-DMSO-r3_tcount.log [Content-Type=application/octet-stream]...\n",
      "Copying file://../../data/slamseq_mebendazole_v1/res/count/mr523-MV411-DMSO-r2_tcount.tsv [Content-Type=text/tab-separated-values]...\n",
      "Copying file://../../data/slamseq_mebendazole_v1/res/count/mr524-MV411-DMSO-r3_tcount_mins.bedgraph [Content-Type=application/octet-stream]...\n",
      "Copying file://../../data/slamseq_mebendazole_v1/res/count/mr524-MV411-DMSO-r3_tcount_plus.bedgraph [Content-Type=application/octet-stream]...\n",
      "Copying file://../../data/slamseq_mebendazole_v1/res/count/mr524-MV411-DMSO-r3_tcount.tsv [Content-Type=text/tab-separated-values]...\n",
      "Copying file://../../data/slamseq_mebendazole_v1/res/count/mr525-MV411-DMSO-r4_tcount.log [Content-Type=application/octet-stream]...\n",
      "Copying file://../../data/slamseq_mebendazole_v1/res/count/mr525-MV411-DMSO-r4_tcount_mins.bedgraph [Content-Type=application/octet-stream]...\n",
      "Copying file://../../data/slamseq_mebendazole_v1/res/count/mr525-MV411-DMSO-r4_tcount_plus.bedgraph [Content-Type=application/octet-stream]...\n",
      "Copying file://../../data/slamseq_mebendazole_v1/res/count/mr525-MV411-DMSO-r4_tcount.tsv [Content-Type=text/tab-separated-values]...\n",
      "Copying file://../../data/slamseq_mebendazole_v1/res/count/mr526-MV411-DMSO-r5_tcount_mins.bedgraph [Content-Type=application/octet-stream]...\n",
      "Copying file://../../data/slamseq_mebendazole_v1/res/count/mr526-MV411-DMSO-r5_tcount.log [Content-Type=application/octet-stream]...\n",
      "Copying file://../../data/slamseq_mebendazole_v1/res/count/mr528-MV411-Mebendazole-r2_tcount_plus.bedgraph [Content-Type=application/octet-stream]...\n",
      "Copying file://../../data/slamseq_mebendazole_v1/res/count/mr527-MV411-Mebendazole-r1_tcount.log [Content-Type=application/octet-stream]...\n",
      "Copying file://../../data/slamseq_mebendazole_v1/res/count/mr526-MV411-DMSO-r5_tcount_plus.bedgraph [Content-Type=application/octet-stream]...\n",
      "Copying file://../../data/slamseq_mebendazole_v1/res/count/mr527-MV411-Mebendazole-r1_tcount_mins.bedgraph [Content-Type=application/octet-stream]...\n",
      "Copying file://../../data/slamseq_mebendazole_v1/res/count/mr527-MV411-Mebendazole-r1_tcount_plus.bedgraph [Content-Type=application/octet-stream]...\n",
      "Copying file://../../data/slamseq_mebendazole_v1/res/count/mr526-MV411-DMSO-r5_tcount.tsv [Content-Type=text/tab-separated-values]...\n"
     ]
    },
    {
     "name": "stdout",
     "output_type": "stream",
     "text": [
      "Copying file://../../data/slamseq_mebendazole_v1/res/count/mr529-MV411-Mebendazole-r3_tcount.tsv [Content-Type=text/tab-separated-values]...\n",
      "Copying file://../../data/slamseq_mebendazole_v1/res/count/mr527-MV411-Mebendazole-r1_tcount.tsv [Content-Type=text/tab-separated-values]...\n",
      "Copying file://../../data/slamseq_mebendazole_v1/res/count/mr530-MV411-Mebendazole-r4_tcount.log [Content-Type=application/octet-stream]...\n",
      "Copying file://../../data/slamseq_mebendazole_v1/res/count/mr528-MV411-Mebendazole-r2_tcount_mins.bedgraph [Content-Type=application/octet-stream]...\n",
      "Copying file://../../data/slamseq_mebendazole_v1/res/count/mr530-MV411-Mebendazole-r4_tcount.tsv [Content-Type=text/tab-separated-values]...\n",
      "Copying file://../../data/slamseq_mebendazole_v1/res/count/mr530-MV411-Mebendazole-r4_tcount_mins.bedgraph [Content-Type=application/octet-stream]...\n",
      "Copying file://../../data/slamseq_mebendazole_v1/res/count/mr528-MV411-Mebendazole-r2_tcount.log [Content-Type=application/octet-stream]...\n",
      "Copying file://../../data/slamseq_mebendazole_v1/res/count/mr528-MV411-Mebendazole-r2_tcount.tsv [Content-Type=text/tab-separated-values]...\n",
      "Copying file://../../data/slamseq_mebendazole_v1/res/count/mr531-MV411-Mebendazole-r5_tcount.log [Content-Type=application/octet-stream]...\n",
      "Copying file://../../data/slamseq_mebendazole_v1/res/count/mr531-MV411-Mebendazole-r5_tcount_mins.bedgraph [Content-Type=application/octet-stream]...\n",
      "Copying file://../../data/slamseq_mebendazole_v1/res/count/mr530-MV411-Mebendazole-r4_tcount_plus.bedgraph [Content-Type=application/octet-stream]...\n",
      "Copying file://../../data/slamseq_mebendazole_v1/res/count/mr529-MV411-Mebendazole-r3_tcount.log [Content-Type=application/octet-stream]...\n",
      "Copying file://../../data/slamseq_mebendazole_v1/res/count/mr529-MV411-Mebendazole-r3_tcount_mins.bedgraph [Content-Type=application/octet-stream]...\n",
      "Copying file://../../data/slamseq_mebendazole_v1/res/count/mr531-MV411-Mebendazole-r5_tcount_plus.bedgraph [Content-Type=application/octet-stream]...\n",
      "Copying file://../../data/slamseq_mebendazole_v1/res/count/mr529-MV411-Mebendazole-r3_tcount_plus.bedgraph [Content-Type=application/octet-stream]...\n",
      "Copying file://../../data/slamseq_mebendazole_v1/res/count/mr531-MV411-Mebendazole-r5_tcount.tsv [Content-Type=text/tab-separated-values]...\n",
      "/ [40/40 files][  1.6 GiB/  1.6 GiB] 100% Done                                  \n",
      "Operation completed over 40 objects/1.6 GiB.                                     \n"
     ]
    }
   ],
   "source": [
    "! gsutil -m cp ../../data/slamseq_$project/fastqs/* gs://amlproject/RNA/slamseq/$project/fastqs/ \n",
    "! gsutil -m cp ../../data/slamseq_$project/res/map/* gs://amlproject/RNA/slamseq/$project/res/map/ \n",
    "! gsutil -m cp ../../data/slamseq_$project/res/filter/* gs://amlproject/RNA/slamseq/$project/res/filter/ \n",
    "! gsutil -m cp ../../data/slamseq_$project/res/snp/* gs://amlproject/RNA/slamseq/$project/res/snp/ \n",
    "! gsutil -m cp ../../data/slamseq_$project/res/count/* gs://amlproject/RNA/slamseq/$project/res/count/"
   ]
  },
  {
   "cell_type": "markdown",
   "id": "51158cf1",
   "metadata": {},
   "source": [
    "## remove processed fastqs"
   ]
  },
  {
   "cell_type": "markdown",
   "id": "7e3904ea",
   "metadata": {},
   "source": [
    "make room on server"
   ]
  },
  {
   "cell_type": "code",
   "execution_count": 49,
   "id": "c17a7299",
   "metadata": {},
   "outputs": [],
   "source": [
    "res_folder = \"../../data/\"+\"slamseq_\"+project+\"/res\"\n",
    "count_files = ! ls $res_folder/count/*tsv"
   ]
  },
  {
   "cell_type": "code",
   "execution_count": 50,
   "id": "0c95cf71",
   "metadata": {},
   "outputs": [],
   "source": [
    "processed_samples = [f.split(\"/\")[-1].split(\"-\")[0] for f in count_files]"
   ]
  },
  {
   "cell_type": "code",
   "execution_count": 51,
   "id": "5790c12f",
   "metadata": {
    "collapsed": true
   },
   "outputs": [
    {
     "name": "stdout",
     "output_type": "stream",
     "text": [
      "10.0\n"
     ]
    },
    {
     "data": {
      "text/plain": [
       "['../../data/slamseq_mebendazole_v1/fastqs/mr522-MV411-DMSO-r1_R1_001.fastq.gz',\n",
       " '../../data/slamseq_mebendazole_v1/fastqs/mr522-MV411-DMSO-r1_R1_001.fastq.gz_trimming_report.txt',\n",
       " '../../data/slamseq_mebendazole_v1/fastqs/mr522-MV411-DMSO-r1_R1_001_unpaired_1.fq.gz',\n",
       " '../../data/slamseq_mebendazole_v1/fastqs/mr522-MV411-DMSO-r1_R1_001_val_1.fq.gz',\n",
       " '../../data/slamseq_mebendazole_v1/fastqs/mr522-MV411-DMSO-r1_R2_001.fastq.gz',\n",
       " '../../data/slamseq_mebendazole_v1/fastqs/mr522-MV411-DMSO-r1_R2_001.fastq.gz_trimming_report.txt',\n",
       " '../../data/slamseq_mebendazole_v1/fastqs/mr522-MV411-DMSO-r1_R2_001_unpaired_2.fq.gz',\n",
       " '../../data/slamseq_mebendazole_v1/fastqs/mr522-MV411-DMSO-r1_R2_001_val_2.fq.gz',\n",
       " '../../data/slamseq_mebendazole_v1/fastqs/mr523-MV411-DMSO-r2_R1_001.fastq.gz',\n",
       " '../../data/slamseq_mebendazole_v1/fastqs/mr523-MV411-DMSO-r2_R1_001.fastq.gz_trimming_report.txt',\n",
       " '../../data/slamseq_mebendazole_v1/fastqs/mr523-MV411-DMSO-r2_R1_001_unpaired_1.fq.gz',\n",
       " '../../data/slamseq_mebendazole_v1/fastqs/mr523-MV411-DMSO-r2_R1_001_val_1.fq.gz',\n",
       " '../../data/slamseq_mebendazole_v1/fastqs/mr523-MV411-DMSO-r2_R2_001.fastq.gz',\n",
       " '../../data/slamseq_mebendazole_v1/fastqs/mr523-MV411-DMSO-r2_R2_001.fastq.gz_trimming_report.txt',\n",
       " '../../data/slamseq_mebendazole_v1/fastqs/mr523-MV411-DMSO-r2_R2_001_unpaired_2.fq.gz',\n",
       " '../../data/slamseq_mebendazole_v1/fastqs/mr523-MV411-DMSO-r2_R2_001_val_2.fq.gz',\n",
       " '../../data/slamseq_mebendazole_v1/fastqs/mr524-MV411-DMSO-r3_R1_001.fastq.gz',\n",
       " '../../data/slamseq_mebendazole_v1/fastqs/mr524-MV411-DMSO-r3_R1_001.fastq.gz_trimming_report.txt',\n",
       " '../../data/slamseq_mebendazole_v1/fastqs/mr524-MV411-DMSO-r3_R1_001_unpaired_1.fq.gz',\n",
       " '../../data/slamseq_mebendazole_v1/fastqs/mr524-MV411-DMSO-r3_R1_001_val_1.fq.gz',\n",
       " '../../data/slamseq_mebendazole_v1/fastqs/mr524-MV411-DMSO-r3_R2_001.fastq.gz',\n",
       " '../../data/slamseq_mebendazole_v1/fastqs/mr524-MV411-DMSO-r3_R2_001.fastq.gz_trimming_report.txt',\n",
       " '../../data/slamseq_mebendazole_v1/fastqs/mr524-MV411-DMSO-r3_R2_001_unpaired_2.fq.gz',\n",
       " '../../data/slamseq_mebendazole_v1/fastqs/mr524-MV411-DMSO-r3_R2_001_val_2.fq.gz',\n",
       " '../../data/slamseq_mebendazole_v1/fastqs/mr525-MV411-DMSO-r4_R1_001.fastq.gz',\n",
       " '../../data/slamseq_mebendazole_v1/fastqs/mr525-MV411-DMSO-r4_R1_001.fastq.gz_trimming_report.txt',\n",
       " '../../data/slamseq_mebendazole_v1/fastqs/mr525-MV411-DMSO-r4_R1_001_unpaired_1.fq.gz',\n",
       " '../../data/slamseq_mebendazole_v1/fastqs/mr525-MV411-DMSO-r4_R1_001_val_1.fq.gz',\n",
       " '../../data/slamseq_mebendazole_v1/fastqs/mr525-MV411-DMSO-r4_R2_001.fastq.gz',\n",
       " '../../data/slamseq_mebendazole_v1/fastqs/mr525-MV411-DMSO-r4_R2_001.fastq.gz_trimming_report.txt',\n",
       " '../../data/slamseq_mebendazole_v1/fastqs/mr525-MV411-DMSO-r4_R2_001_unpaired_2.fq.gz',\n",
       " '../../data/slamseq_mebendazole_v1/fastqs/mr525-MV411-DMSO-r4_R2_001_val_2.fq.gz',\n",
       " '../../data/slamseq_mebendazole_v1/fastqs/mr526-MV411-DMSO-r5_R1_001.fastq.gz',\n",
       " '../../data/slamseq_mebendazole_v1/fastqs/mr526-MV411-DMSO-r5_R1_001.fastq.gz_trimming_report.txt',\n",
       " '../../data/slamseq_mebendazole_v1/fastqs/mr526-MV411-DMSO-r5_R1_001_unpaired_1.fq.gz',\n",
       " '../../data/slamseq_mebendazole_v1/fastqs/mr526-MV411-DMSO-r5_R1_001_val_1.fq.gz',\n",
       " '../../data/slamseq_mebendazole_v1/fastqs/mr526-MV411-DMSO-r5_R2_001.fastq.gz',\n",
       " '../../data/slamseq_mebendazole_v1/fastqs/mr526-MV411-DMSO-r5_R2_001.fastq.gz_trimming_report.txt',\n",
       " '../../data/slamseq_mebendazole_v1/fastqs/mr526-MV411-DMSO-r5_R2_001_unpaired_2.fq.gz',\n",
       " '../../data/slamseq_mebendazole_v1/fastqs/mr526-MV411-DMSO-r5_R2_001_val_2.fq.gz',\n",
       " '../../data/slamseq_mebendazole_v1/fastqs/mr527-MV411-Mebendazole-r1_R1_001.fastq.gz',\n",
       " '../../data/slamseq_mebendazole_v1/fastqs/mr527-MV411-Mebendazole-r1_R1_001.fastq.gz_trimming_report.txt',\n",
       " '../../data/slamseq_mebendazole_v1/fastqs/mr527-MV411-Mebendazole-r1_R1_001_unpaired_1.fq.gz',\n",
       " '../../data/slamseq_mebendazole_v1/fastqs/mr527-MV411-Mebendazole-r1_R1_001_val_1.fq.gz',\n",
       " '../../data/slamseq_mebendazole_v1/fastqs/mr527-MV411-Mebendazole-r1_R2_001.fastq.gz',\n",
       " '../../data/slamseq_mebendazole_v1/fastqs/mr527-MV411-Mebendazole-r1_R2_001.fastq.gz_trimming_report.txt',\n",
       " '../../data/slamseq_mebendazole_v1/fastqs/mr527-MV411-Mebendazole-r1_R2_001_unpaired_2.fq.gz',\n",
       " '../../data/slamseq_mebendazole_v1/fastqs/mr527-MV411-Mebendazole-r1_R2_001_val_2.fq.gz',\n",
       " '../../data/slamseq_mebendazole_v1/fastqs/mr528-MV411-Mebendazole-r2_R1_001.fastq.gz',\n",
       " '../../data/slamseq_mebendazole_v1/fastqs/mr528-MV411-Mebendazole-r2_R1_001.fastq.gz_trimming_report.txt',\n",
       " '../../data/slamseq_mebendazole_v1/fastqs/mr528-MV411-Mebendazole-r2_R1_001_unpaired_1.fq.gz',\n",
       " '../../data/slamseq_mebendazole_v1/fastqs/mr528-MV411-Mebendazole-r2_R1_001_val_1.fq.gz',\n",
       " '../../data/slamseq_mebendazole_v1/fastqs/mr528-MV411-Mebendazole-r2_R2_001.fastq.gz',\n",
       " '../../data/slamseq_mebendazole_v1/fastqs/mr528-MV411-Mebendazole-r2_R2_001.fastq.gz_trimming_report.txt',\n",
       " '../../data/slamseq_mebendazole_v1/fastqs/mr528-MV411-Mebendazole-r2_R2_001_unpaired_2.fq.gz',\n",
       " '../../data/slamseq_mebendazole_v1/fastqs/mr528-MV411-Mebendazole-r2_R2_001_val_2.fq.gz',\n",
       " '../../data/slamseq_mebendazole_v1/fastqs/mr529-MV411-Mebendazole-r3_R1_001.fastq.gz',\n",
       " '../../data/slamseq_mebendazole_v1/fastqs/mr529-MV411-Mebendazole-r3_R1_001.fastq.gz_trimming_report.txt',\n",
       " '../../data/slamseq_mebendazole_v1/fastqs/mr529-MV411-Mebendazole-r3_R1_001_unpaired_1.fq.gz',\n",
       " '../../data/slamseq_mebendazole_v1/fastqs/mr529-MV411-Mebendazole-r3_R1_001_val_1.fq.gz',\n",
       " '../../data/slamseq_mebendazole_v1/fastqs/mr529-MV411-Mebendazole-r3_R2_001.fastq.gz',\n",
       " '../../data/slamseq_mebendazole_v1/fastqs/mr529-MV411-Mebendazole-r3_R2_001.fastq.gz_trimming_report.txt',\n",
       " '../../data/slamseq_mebendazole_v1/fastqs/mr529-MV411-Mebendazole-r3_R2_001_unpaired_2.fq.gz',\n",
       " '../../data/slamseq_mebendazole_v1/fastqs/mr529-MV411-Mebendazole-r3_R2_001_val_2.fq.gz',\n",
       " '../../data/slamseq_mebendazole_v1/fastqs/mr530-MV411-Mebendazole-r4_R1_001.fastq.gz',\n",
       " '../../data/slamseq_mebendazole_v1/fastqs/mr530-MV411-Mebendazole-r4_R1_001.fastq.gz_trimming_report.txt',\n",
       " '../../data/slamseq_mebendazole_v1/fastqs/mr530-MV411-Mebendazole-r4_R1_001_unpaired_1.fq.gz',\n",
       " '../../data/slamseq_mebendazole_v1/fastqs/mr530-MV411-Mebendazole-r4_R1_001_val_1.fq.gz',\n",
       " '../../data/slamseq_mebendazole_v1/fastqs/mr530-MV411-Mebendazole-r4_R2_001.fastq.gz',\n",
       " '../../data/slamseq_mebendazole_v1/fastqs/mr530-MV411-Mebendazole-r4_R2_001.fastq.gz_trimming_report.txt',\n",
       " '../../data/slamseq_mebendazole_v1/fastqs/mr530-MV411-Mebendazole-r4_R2_001_unpaired_2.fq.gz',\n",
       " '../../data/slamseq_mebendazole_v1/fastqs/mr530-MV411-Mebendazole-r4_R2_001_val_2.fq.gz',\n",
       " '../../data/slamseq_mebendazole_v1/fastqs/mr531-MV411-Mebendazole-r5_R1_001.fastq.gz',\n",
       " '../../data/slamseq_mebendazole_v1/fastqs/mr531-MV411-Mebendazole-r5_R1_001.fastq.gz_trimming_report.txt',\n",
       " '../../data/slamseq_mebendazole_v1/fastqs/mr531-MV411-Mebendazole-r5_R1_001_unpaired_1.fq.gz',\n",
       " '../../data/slamseq_mebendazole_v1/fastqs/mr531-MV411-Mebendazole-r5_R1_001_val_1.fq.gz',\n",
       " '../../data/slamseq_mebendazole_v1/fastqs/mr531-MV411-Mebendazole-r5_R2_001.fastq.gz',\n",
       " '../../data/slamseq_mebendazole_v1/fastqs/mr531-MV411-Mebendazole-r5_R2_001.fastq.gz_trimming_report.txt',\n",
       " '../../data/slamseq_mebendazole_v1/fastqs/mr531-MV411-Mebendazole-r5_R2_001_unpaired_2.fq.gz',\n",
       " '../../data/slamseq_mebendazole_v1/fastqs/mr531-MV411-Mebendazole-r5_R2_001_val_2.fq.gz']"
      ]
     },
     "execution_count": 51,
     "metadata": {},
     "output_type": "execute_result"
    }
   ],
   "source": [
    "fastq_files = ! ls $fastq_folder\n",
    "fastq_files = [fastq_folder+\"/\"+f for f in fastq_files]\n",
    "fastqs_rm = [fastq for fastq in fastq_files if any(sample in fastq for sample in processed_samples)]\n",
    "print(len(fastqs_rm)/8)\n",
    "fastqs_rm"
   ]
  },
  {
   "cell_type": "code",
   "execution_count": 52,
   "id": "19cf5ba0",
   "metadata": {},
   "outputs": [],
   "source": [
    "for f in fastqs_rm:\n",
    "    os.remove(f)"
   ]
  },
  {
   "cell_type": "markdown",
   "id": "4b34f099",
   "metadata": {},
   "source": [
    "## Recreate RNA matrix from slamdunk's tcount files"
   ]
  },
  {
   "cell_type": "markdown",
   "id": "b20895ad",
   "metadata": {},
   "source": [
    "### get counts over ERCC genome"
   ]
  },
  {
   "cell_type": "code",
   "execution_count": 54,
   "id": "8eceadee",
   "metadata": {},
   "outputs": [],
   "source": [
    "counts = {}\n",
    "folder = \"../../data/slamseq_\"+project+\"/res/filter\"\n",
    "files = ! ls $folder/mr*.bam\n",
    "files = [os.path.basename(f) for f in files]"
   ]
  },
  {
   "cell_type": "code",
   "execution_count": 55,
   "id": "a23a982c",
   "metadata": {},
   "outputs": [
    {
     "name": "stdout",
     "output_type": "stream",
     "text": [
      "10\n"
     ]
    },
    {
     "data": {
      "text/plain": [
       "['mr522-MV411-DMSO-r1_filtered.bam',\n",
       " 'mr523-MV411-DMSO-r2_filtered.bam',\n",
       " 'mr524-MV411-DMSO-r3_filtered.bam',\n",
       " 'mr525-MV411-DMSO-r4_filtered.bam',\n",
       " 'mr526-MV411-DMSO-r5_filtered.bam',\n",
       " 'mr527-MV411-Mebendazole-r1_filtered.bam',\n",
       " 'mr528-MV411-Mebendazole-r2_filtered.bam',\n",
       " 'mr529-MV411-Mebendazole-r3_filtered.bam',\n",
       " 'mr530-MV411-Mebendazole-r4_filtered.bam',\n",
       " 'mr531-MV411-Mebendazole-r5_filtered.bam']"
      ]
     },
     "execution_count": 55,
     "metadata": {},
     "output_type": "execute_result"
    }
   ],
   "source": [
    "print(len(files))\n",
    "files"
   ]
  },
  {
   "cell_type": "code",
   "execution_count": 56,
   "id": "1c848450",
   "metadata": {},
   "outputs": [],
   "source": [
    "specified_regions = \" ERCC-00002 ERCC-00003 ERCC-00004 ERCC-00009 ERCC-00012 ERCC-00013 ERCC-00014 ERCC-00016 ERCC-00017 ERCC-00019 ERCC-00022 ERCC-00024 ERCC-00025 ERCC-00028 ERCC-00031 ERCC-00033 ERCC-00034 ERCC-00035 ERCC-00039 ERCC-00040 ERCC-00041 ERCC-00042 ERCC-00043 ERCC-00044 ERCC-00046 ERCC-00048 ERCC-00051 ERCC-00053 ERCC-00054 ERCC-00057 ERCC-00058 ERCC-00059 ERCC-00060 ERCC-00061 ERCC-00062 ERCC-00067 ERCC-00069 ERCC-00071 ERCC-00073 ERCC-00074 ERCC-00075 ERCC-00076 ERCC-00077 ERCC-00078 ERCC-00079 ERCC-00081 ERCC-00083 ERCC-00084 ERCC-00085 ERCC-00086 ERCC-00092 ERCC-00095 ERCC-00096 ERCC-00097 ERCC-00098 ERCC-00099 ERCC-00104 ERCC-00108 ERCC-00109 ERCC-00111 ERCC-00112 ERCC-00113 ERCC-00116 ERCC-00117 ERCC-00120 ERCC-00123 ERCC-00126 ERCC-00130 ERCC-00131 ERCC-00134 ERCC-00136 ERCC-00137 ERCC-00138 ERCC-00142 ERCC-00143 ERCC-00144 ERCC-00145 ERCC-00147 ERCC-00148 ERCC-00150 ERCC-00154 ERCC-00156 ERCC-00157 ERCC-00158 ERCC-00160 ERCC-00162 ERCC-00163 ERCC-00164 ERCC-00165 ERCC-00168 ERCC-00170 ERCC-00171 > \""
   ]
  },
  {
   "cell_type": "code",
   "execution_count": 57,
   "id": "43a56f56",
   "metadata": {
    "collapsed": true
   },
   "outputs": [
    {
     "name": "stdout",
     "output_type": "stream",
     "text": [
      "samtools view -hb ../../data/slamseq_mebendazole_v1/res/filter/mr522-MV411-DMSO-r1_filtered.bam ERCC-00002 ERCC-00003 ERCC-00004 ERCC-00009 ERCC-00012 ERCC-00013 ERCC-00014 ERCC-00016 ERCC-00017 ERCC-00019 ERCC-00022 ERCC-00024 ERCC-00025 ERCC-00028 ERCC-00031 ERCC-00033 ERCC-00034 ERCC-00035 ERCC-00039 ERCC-00040 ERCC-00041 ERCC-00042 ERCC-00043 ERCC-00044 ERCC-00046 ERCC-00048 ERCC-00051 ERCC-00053 ERCC-00054 ERCC-00057 ERCC-00058 ERCC-00059 ERCC-00060 ERCC-00061 ERCC-00062 ERCC-00067 ERCC-00069 ERCC-00071 ERCC-00073 ERCC-00074 ERCC-00075 ERCC-00076 ERCC-00077 ERCC-00078 ERCC-00079 ERCC-00081 ERCC-00083 ERCC-00084 ERCC-00085 ERCC-00086 ERCC-00092 ERCC-00095 ERCC-00096 ERCC-00097 ERCC-00098 ERCC-00099 ERCC-00104 ERCC-00108 ERCC-00109 ERCC-00111 ERCC-00112 ERCC-00113 ERCC-00116 ERCC-00117 ERCC-00120 ERCC-00123 ERCC-00126 ERCC-00130 ERCC-00131 ERCC-00134 ERCC-00136 ERCC-00137 ERCC-00138 ERCC-00142 ERCC-00143 ERCC-00144 ERCC-00145 ERCC-00147 ERCC-00148 ERCC-00150 ERCC-00154 ERCC-00156 ERCC-00157 ERCC-00158 ERCC-00160 ERCC-00162 ERCC-00163 ERCC-00164 ERCC-00165 ERCC-00168 ERCC-00170 ERCC-00171 > ../../data/slamseq_mebendazole_v1/res/filter/ERCC_mr522-MV411-DMSO-r1_filtered.bam\n"
     ]
    }
   ],
   "source": [
    "print([\"samtools view -hb \"+folder+\"/\"+f+specified_regions+folder+\"/ERCC_\"+f for f in files][0])"
   ]
  },
  {
   "cell_type": "code",
   "execution_count": 58,
   "id": "4f8b269e",
   "metadata": {},
   "outputs": [
    {
     "data": {
      "text/plain": [
       "['']"
      ]
     },
     "execution_count": 58,
     "metadata": {},
     "output_type": "execute_result"
    }
   ],
   "source": [
    "# bam with alignments overlpping over ERCC regions\n",
    "h.parrun([\"samtools view -hb \"+folder+\"/\"+f+specified_regions+folder+\"/ERCC_\"+f for f in files], cores=10)"
   ]
  },
  {
   "cell_type": "code",
   "execution_count": 59,
   "id": "934863c8",
   "metadata": {},
   "outputs": [
    {
     "data": {
      "text/plain": [
       "['']"
      ]
     },
     "execution_count": 59,
     "metadata": {},
     "output_type": "execute_result"
    }
   ],
   "source": [
    "# compute histogram , per-base reports, & bedgraph summaries of feature coverage\n",
    "# computes coverage over ERCC genes --> # of transcripts mapped to each gene as bed\n",
    "h.parrun([\"bedtools genomecov -ibam \"+folder+\"/ERCC_\"+f+\" > \"+folder+\"/ERCC_\"+f+\".bed\" for f in files], cores=10)"
   ]
  },
  {
   "cell_type": "code",
   "execution_count": 60,
   "id": "bbdc95c4",
   "metadata": {},
   "outputs": [
    {
     "name": "stdout",
     "output_type": "stream",
     "text": [
      "10\n"
     ]
    }
   ],
   "source": [
    "# ERCC files\n",
    "files = ! ls $folder/ERCC*.bam\n",
    "files = [file.split('/')[-1] for file in files if \"ERCC\" in file if file.endswith(\".bam\")]\n",
    "print(len(files))"
   ]
  },
  {
   "cell_type": "code",
   "execution_count": 61,
   "id": "ef06aed0",
   "metadata": {},
   "outputs": [],
   "source": [
    "ERCC = [\"ERCC-00002\", \"ERCC-00003\", \"ERCC-00004\", \"ERCC-00009\", \"ERCC-00012\", \"ERCC-00013\", \n",
    "        \"ERCC-00014\", \"ERCC-00016\", \"ERCC-00017\", \"ERCC-00019\", \"ERCC-00022\", \"ERCC-00024\", \n",
    "        \"ERCC-00025\", \"ERCC-00028\", \"ERCC-00031\", \"ERCC-00033\", \"ERCC-00034\", \"ERCC-00035\", \n",
    "        \"ERCC-00039\", \"ERCC-00040\", \"ERCC-00041\", \"ERCC-00042\", \"ERCC-00043\", \"ERCC-00044\", \n",
    "        \"ERCC-00046\", \"ERCC-00048\", \"ERCC-00051\", \"ERCC-00053\", \"ERCC-00054\", \"ERCC-00057\", \n",
    "        \"ERCC-00058\", \"ERCC-00059\", \"ERCC-00060\", \"ERCC-00061\", \"ERCC-00062\", \"ERCC-00067\", \n",
    "        \"ERCC-00069\", \"ERCC-00071\", \"ERCC-00073\", \"ERCC-00074\", \"ERCC-00075\", \"ERCC-00076\", \n",
    "        \"ERCC-00077\", \"ERCC-00078\", \"ERCC-00079\", \"ERCC-00081\", \"ERCC-00083\", \"ERCC-00084\", \n",
    "        \"ERCC-00085\", \"ERCC-00086\", \"ERCC-00092\", \"ERCC-00095\", \"ERCC-00096\", \"ERCC-00097\", \n",
    "        \"ERCC-00098\", \"ERCC-00099\", \"ERCC-00104\", \"ERCC-00108\", \"ERCC-00109\", \"ERCC-00111\", \n",
    "        \"ERCC-00112\", \"ERCC-00113\", \"ERCC-00116\", \"ERCC-00117\", \"ERCC-00120\", \"ERCC-00123\", \n",
    "        \"ERCC-00126\", \"ERCC-00130\", \"ERCC-00131\", \"ERCC-00134\", \"ERCC-00136\", \"ERCC-00137\", \n",
    "        \"ERCC-00138\", \"ERCC-00142\", \"ERCC-00143\", \"ERCC-00144\", \"ERCC-00145\", \"ERCC-00147\", \n",
    "        \"ERCC-00148\", \"ERCC-00150\", \"ERCC-00154\", \"ERCC-00156\", \"ERCC-00157\", \"ERCC-00158\", \n",
    "        \"ERCC-00160\", \"ERCC-00162\", \"ERCC-00163\", \"ERCC-00164\", \"ERCC-00165\", \"ERCC-00168\", \n",
    "        \"ERCC-00170\", \"ERCC-00171\"]\n",
    "\n",
    "# parse ERCC bed files\n",
    "res  = {i:[] for i in files}\n",
    "for val in files:\n",
    "    cov = pd.read_csv(folder+\"/\"+val+'.bed',sep=\"\\t\",header=None)\n",
    "    for i in ERCC:\n",
    "        res[val].append(cov[cov[0]==i][1].mean())\n",
    "df = pd.DataFrame(data=res,index=ERCC)"
   ]
  },
  {
   "cell_type": "code",
   "execution_count": 62,
   "id": "c091b993",
   "metadata": {
    "collapsed": true
   },
   "outputs": [
    {
     "name": "stdout",
     "output_type": "stream",
     "text": [
      "(92, 10)\n"
     ]
    },
    {
     "data": {
      "text/html": [
       "<div>\n",
       "<style scoped>\n",
       "    .dataframe tbody tr th:only-of-type {\n",
       "        vertical-align: middle;\n",
       "    }\n",
       "\n",
       "    .dataframe tbody tr th {\n",
       "        vertical-align: top;\n",
       "    }\n",
       "\n",
       "    .dataframe thead th {\n",
       "        text-align: right;\n",
       "    }\n",
       "</style>\n",
       "<table border=\"1\" class=\"dataframe\">\n",
       "  <thead>\n",
       "    <tr style=\"text-align: right;\">\n",
       "      <th></th>\n",
       "      <th>ERCC_mr522-MV411-DMSO-r1_filtered.bam</th>\n",
       "      <th>ERCC_mr523-MV411-DMSO-r2_filtered.bam</th>\n",
       "      <th>ERCC_mr524-MV411-DMSO-r3_filtered.bam</th>\n",
       "      <th>ERCC_mr525-MV411-DMSO-r4_filtered.bam</th>\n",
       "      <th>ERCC_mr526-MV411-DMSO-r5_filtered.bam</th>\n",
       "      <th>ERCC_mr527-MV411-Mebendazole-r1_filtered.bam</th>\n",
       "      <th>ERCC_mr528-MV411-Mebendazole-r2_filtered.bam</th>\n",
       "      <th>ERCC_mr529-MV411-Mebendazole-r3_filtered.bam</th>\n",
       "      <th>ERCC_mr530-MV411-Mebendazole-r4_filtered.bam</th>\n",
       "      <th>ERCC_mr531-MV411-Mebendazole-r5_filtered.bam</th>\n",
       "    </tr>\n",
       "  </thead>\n",
       "  <tbody>\n",
       "    <tr>\n",
       "      <th>ERCC-00002</th>\n",
       "      <td>13101.468043</td>\n",
       "      <td>18169.714700</td>\n",
       "      <td>22688.618636</td>\n",
       "      <td>44818.483412</td>\n",
       "      <td>25292.222541</td>\n",
       "      <td>28403.893678</td>\n",
       "      <td>30906.631478</td>\n",
       "      <td>22602.609709</td>\n",
       "      <td>30114.740848</td>\n",
       "      <td>21551.313346</td>\n",
       "    </tr>\n",
       "    <tr>\n",
       "      <th>ERCC-00003</th>\n",
       "      <td>2920.139877</td>\n",
       "      <td>3836.098246</td>\n",
       "      <td>2933.183867</td>\n",
       "      <td>6887.897571</td>\n",
       "      <td>3495.737723</td>\n",
       "      <td>5293.922472</td>\n",
       "      <td>5078.562363</td>\n",
       "      <td>4297.394111</td>\n",
       "      <td>5503.047826</td>\n",
       "      <td>3522.917775</td>\n",
       "    </tr>\n",
       "  </tbody>\n",
       "</table>\n",
       "</div>"
      ],
      "text/plain": [
       "            ERCC_mr522-MV411-DMSO-r1_filtered.bam  \\\n",
       "ERCC-00002                           13101.468043   \n",
       "ERCC-00003                            2920.139877   \n",
       "\n",
       "            ERCC_mr523-MV411-DMSO-r2_filtered.bam  \\\n",
       "ERCC-00002                           18169.714700   \n",
       "ERCC-00003                            3836.098246   \n",
       "\n",
       "            ERCC_mr524-MV411-DMSO-r3_filtered.bam  \\\n",
       "ERCC-00002                           22688.618636   \n",
       "ERCC-00003                            2933.183867   \n",
       "\n",
       "            ERCC_mr525-MV411-DMSO-r4_filtered.bam  \\\n",
       "ERCC-00002                           44818.483412   \n",
       "ERCC-00003                            6887.897571   \n",
       "\n",
       "            ERCC_mr526-MV411-DMSO-r5_filtered.bam  \\\n",
       "ERCC-00002                           25292.222541   \n",
       "ERCC-00003                            3495.737723   \n",
       "\n",
       "            ERCC_mr527-MV411-Mebendazole-r1_filtered.bam  \\\n",
       "ERCC-00002                                  28403.893678   \n",
       "ERCC-00003                                   5293.922472   \n",
       "\n",
       "            ERCC_mr528-MV411-Mebendazole-r2_filtered.bam  \\\n",
       "ERCC-00002                                  30906.631478   \n",
       "ERCC-00003                                   5078.562363   \n",
       "\n",
       "            ERCC_mr529-MV411-Mebendazole-r3_filtered.bam  \\\n",
       "ERCC-00002                                  22602.609709   \n",
       "ERCC-00003                                   4297.394111   \n",
       "\n",
       "            ERCC_mr530-MV411-Mebendazole-r4_filtered.bam  \\\n",
       "ERCC-00002                                  30114.740848   \n",
       "ERCC-00003                                   5503.047826   \n",
       "\n",
       "            ERCC_mr531-MV411-Mebendazole-r5_filtered.bam  \n",
       "ERCC-00002                                  21551.313346  \n",
       "ERCC-00003                                   3522.917775  "
      ]
     },
     "execution_count": 62,
     "metadata": {},
     "output_type": "execute_result"
    }
   ],
   "source": [
    "print(df.shape)\n",
    "df.iloc[:2]"
   ]
  },
  {
   "cell_type": "markdown",
   "id": "50d78b36",
   "metadata": {},
   "source": [
    "__fill in project manually__"
   ]
  },
  {
   "cell_type": "code",
   "execution_count": 63,
   "id": "c2dcd3af",
   "metadata": {},
   "outputs": [
    {
     "data": {
      "text/plain": [
       "'mebendazole_v1'"
      ]
     },
     "execution_count": 63,
     "metadata": {},
     "output_type": "execute_result"
    }
   ],
   "source": [
    "project"
   ]
  },
  {
   "cell_type": "code",
   "execution_count": 65,
   "id": "c360108a",
   "metadata": {},
   "outputs": [
    {
     "data": {
      "text/plain": [
       "[30642042,\n",
       " 44598797,\n",
       " 47087214,\n",
       " 91892316,\n",
       " 48081008,\n",
       " 59470301,\n",
       " 64772465,\n",
       " 55023411,\n",
       " 65252818,\n",
       " 46996480]"
      ]
     },
     "execution_count": 65,
     "metadata": {},
     "output_type": "execute_result"
    }
   ],
   "source": [
    "# (fill in project manually) same as previous run w/o -rl\n",
    "totalcounts = ! for unkn in $(ls ../../data/slamseq_mebendazole_v1/res/filter/mr*.bam); do samtools view -c -F 260 $unkn; done\n",
    "totalcounts = [int(i) for i in totalcounts]\n",
    "totalcounts"
   ]
  },
  {
   "cell_type": "code",
   "execution_count": 67,
   "id": "7e1851ca",
   "metadata": {
    "collapsed": true
   },
   "outputs": [
    {
     "name": "stdout",
     "output_type": "stream",
     "text": [
      "10\n"
     ]
    },
    {
     "data": {
      "text/plain": [
       "['mr522-MV411-DMSO-r1',\n",
       " 'mr523-MV411-DMSO-r2',\n",
       " 'mr524-MV411-DMSO-r3',\n",
       " 'mr525-MV411-DMSO-r4',\n",
       " 'mr526-MV411-DMSO-r5',\n",
       " 'mr527-MV411-Mebendazole-r1',\n",
       " 'mr528-MV411-Mebendazole-r2',\n",
       " 'mr529-MV411-Mebendazole-r3',\n",
       " 'mr530-MV411-Mebendazole-r4',\n",
       " 'mr531-MV411-Mebendazole-r5']"
      ]
     },
     "execution_count": 67,
     "metadata": {},
     "output_type": "execute_result"
    }
   ],
   "source": [
    "samples = ! ls ../../data/slamseq_$project/res/filter/mr*.bam\n",
    "samples = [os.path.basename(sample) for sample in samples]\n",
    "samples = [sample.split(\"_filtered.bam\")[0] for sample in samples]\n",
    "print(len(samples))\n",
    "samples"
   ]
  },
  {
   "cell_type": "code",
   "execution_count": 68,
   "id": "92de54ad",
   "metadata": {
    "collapsed": true
   },
   "outputs": [
    {
     "data": {
      "text/plain": [
       "mr522-MV411-DMSO-r1           30642042\n",
       "mr523-MV411-DMSO-r2           44598797\n",
       "mr524-MV411-DMSO-r3           47087214\n",
       "mr525-MV411-DMSO-r4           91892316\n",
       "mr526-MV411-DMSO-r5           48081008\n",
       "mr527-MV411-Mebendazole-r1    59470301\n",
       "mr528-MV411-Mebendazole-r2    64772465\n",
       "mr529-MV411-Mebendazole-r3    55023411\n",
       "mr530-MV411-Mebendazole-r4    65252818\n",
       "mr531-MV411-Mebendazole-r5    46996480\n",
       "dtype: int64"
      ]
     },
     "execution_count": 68,
     "metadata": {},
     "output_type": "execute_result"
    }
   ],
   "source": [
    "pd.Series(totalcounts, index=samples)"
   ]
  },
  {
   "cell_type": "code",
   "execution_count": 69,
   "id": "8c0ccd07",
   "metadata": {},
   "outputs": [],
   "source": [
    "# add total counts to csv series\n",
    "totalcounts_csv = pd.Series(totalcounts, index=samples)\n",
    "# save total counts\n",
    "totalcounts_csv.to_csv(\"../results/slamseq_\"+project+\"/\"+project+\"_totalcounts.csv\", header=False)"
   ]
  },
  {
   "cell_type": "markdown",
   "id": "9aeb21cc",
   "metadata": {},
   "source": [
    "calc pseudocounts / scaling factors"
   ]
  },
  {
   "cell_type": "code",
   "execution_count": 70,
   "id": "ebff57ed",
   "metadata": {},
   "outputs": [],
   "source": [
    "# column avg * 10,000 / total column counts\n",
    "res = 10000*df.mean()/totalcounts"
   ]
  },
  {
   "cell_type": "code",
   "execution_count": 80,
   "id": "92090140",
   "metadata": {},
   "outputs": [
    {
     "data": {
      "text/plain": [
       "ERCC_mr522-MV411-DMSO-r1_filtered.bam           0.263862\n",
       "ERCC_mr523-MV411-DMSO-r2_filtered.bam           0.242204\n",
       "ERCC_mr524-MV411-DMSO-r3_filtered.bam           0.264608\n",
       "ERCC_mr525-MV411-DMSO-r4_filtered.bam           0.281616\n",
       "ERCC_mr526-MV411-DMSO-r5_filtered.bam           0.290784\n",
       "ERCC_mr527-MV411-Mebendazole-r1_filtered.bam    0.281510\n",
       "ERCC_mr528-MV411-Mebendazole-r2_filtered.bam    0.276935\n",
       "ERCC_mr529-MV411-Mebendazole-r3_filtered.bam    0.237529\n",
       "ERCC_mr530-MV411-Mebendazole-r4_filtered.bam    0.274919\n",
       "ERCC_mr531-MV411-Mebendazole-r5_filtered.bam    0.256419\n",
       "dtype: float64"
      ]
     },
     "execution_count": 80,
     "metadata": {},
     "output_type": "execute_result"
    }
   ],
   "source": [
    "res"
   ]
  },
  {
   "cell_type": "code",
   "execution_count": 72,
   "id": "d52ceb26",
   "metadata": {},
   "outputs": [
    {
     "data": {
      "text/plain": [
       "array([0.225275  , 0.26658825, 0.2777255 , 0.30002625, 0.522399  ])"
      ]
     },
     "execution_count": 72,
     "metadata": {},
     "output_type": "execute_result"
    }
   ],
   "source": [
    "# compare to slamseq_inhibitors_v1-noAlt\n",
    "print(np.percentile(res.values, [0,25,50,75,100]))\n",
    "\n",
    "np.percentile([0.413943, 0.340240, 0.281739, 0.256905, 0.265488,\n",
    " 0.269889, 0.306823, 0.321110, 0.328007, 0.307894,\n",
    " 0.298296, 0.275357, 0.281014, 0.278486, 0.261471,\n",
    " 0.276965, 0.274393, 0.290863, 0.250981, 0.276022,\n",
    " 0.255481, 0.276141, 0.522399, 0.287868, 0.225275,\n",
    " 0.270812, 0.230661, 0.255199, 0.300603, 0.281819], [0,25,50,75,100])"
   ]
  },
  {
   "cell_type": "code",
   "execution_count": 79,
   "id": "bca6b11e",
   "metadata": {},
   "outputs": [
    {
     "name": "stdout",
     "output_type": "stream",
     "text": [
      "Creating output directory: ../results/slamseq_mebendazole_v1/plots/\n"
     ]
    }
   ],
   "source": [
    "# save ERCC pseudocounts\n",
    "res_dir = \"../results/slamseq_\"+project+\"/\"\n",
    "createDir(res_dir+\"plots/\")\n",
    "res.to_csv(res_dir+project+\"_scaling_factors.csv\", header=False)"
   ]
  },
  {
   "cell_type": "markdown",
   "id": "062b78a1",
   "metadata": {},
   "source": [
    "### calc ERCC scaling factors"
   ]
  },
  {
   "cell_type": "code",
   "execution_count": 81,
   "id": "3bcb8731",
   "metadata": {},
   "outputs": [],
   "source": [
    "from natsort import natsorted, ns\n",
    "from collections import Counter"
   ]
  },
  {
   "cell_type": "code",
   "execution_count": 82,
   "id": "81a7e239",
   "metadata": {},
   "outputs": [
    {
     "data": {
      "text/plain": [
       "['MV411-DMSO',\n",
       " 'MV411-DMSO',\n",
       " 'MV411-DMSO',\n",
       " 'MV411-DMSO',\n",
       " 'MV411-DMSO',\n",
       " 'MV411-Mebendazole',\n",
       " 'MV411-Mebendazole',\n",
       " 'MV411-Mebendazole',\n",
       " 'MV411-Mebendazole',\n",
       " 'MV411-Mebendazole']"
      ]
     },
     "execution_count": 82,
     "metadata": {},
     "output_type": "execute_result"
    }
   ],
   "source": [
    "[r.split(\"-\", 1)[1].split(\"_\")[0].rsplit(\"-\", 1)[0] for r in res.keys()]"
   ]
  },
  {
   "cell_type": "code",
   "execution_count": 83,
   "id": "01c9e9b0",
   "metadata": {},
   "outputs": [
    {
     "name": "stdout",
     "output_type": "stream",
     "text": [
      "DMSO: [0.26861484641332484, 0.01671331524086299]\n",
      "Mebendazole: [0.2654623362278422, 0.01637471986828456]\n"
     ]
    }
   ],
   "source": [
    "# replicates per condition\n",
    "reps = [r.split(\"-\", 1)[1].split(\"_\")[0].rsplit(\"-\", 1)[0] for r in res.keys()]\n",
    "\n",
    "prev=0\n",
    "r={}\n",
    "# get mean and variance of replicates per condition\n",
    "for val in list(Counter(reps).values()):\n",
    "    print(res.keys()[prev].split(\"MV411-\")[1].split(\"-r\")[0]+\": \"+\n",
    "          str([np.mean(res[prev:prev+val]), np.var(res[prev:prev+val])**(1/2)]))\n",
    "    r[res.keys()[prev].split(\"MV411-\")[1].split(\"-r\")[0]]=\\\n",
    "    [np.mean(res[prev:prev+val]), np.var(res[prev:prev+val])**(1/2)]\n",
    "    prev+=val"
   ]
  },
  {
   "cell_type": "code",
   "execution_count": 84,
   "id": "d97b3d38",
   "metadata": {},
   "outputs": [
    {
     "name": "stdout",
     "output_type": "stream",
     "text": [
      "[0.23752883 0.25827945 0.26976385 0.28036639 0.29078374]\n"
     ]
    },
    {
     "data": {
      "text/plain": [
       "[<matplotlib.lines.Line2D at 0x7fdc591ef400>]"
      ]
     },
     "execution_count": 84,
     "metadata": {},
     "output_type": "execute_result"
    },
    {
     "data": {
      "image/png": "[encoded data removed]",
      "text/plain": [
       "<Figure size 432x288 with 1 Axes>"
      ]
     },
     "metadata": {
      "needs_background": "light"
     },
     "output_type": "display_data"
    }
   ],
   "source": [
    "print(np.quantile(res.tolist(), [0,0.25,0.5,0.75,1]))\n",
    "plt.plot(range(1, len(res)+1), sorted(res.tolist()), '-ok')"
   ]
  },
  {
   "cell_type": "code",
   "execution_count": 89,
   "id": "59beff4a",
   "metadata": {
    "scrolled": true
   },
   "outputs": [
    {
     "data": {
      "text/html": [
       "<div>\n",
       "<style scoped>\n",
       "    .dataframe tbody tr th:only-of-type {\n",
       "        vertical-align: middle;\n",
       "    }\n",
       "\n",
       "    .dataframe tbody tr th {\n",
       "        vertical-align: top;\n",
       "    }\n",
       "\n",
       "    .dataframe thead th {\n",
       "        text-align: right;\n",
       "    }\n",
       "</style>\n",
       "<table border=\"1\" class=\"dataframe\">\n",
       "  <thead>\n",
       "    <tr style=\"text-align: right;\">\n",
       "      <th></th>\n",
       "      <th>ERCC pseudo-counts</th>\n",
       "      <th>var</th>\n",
       "      <th>Experiments</th>\n",
       "    </tr>\n",
       "  </thead>\n",
       "  <tbody>\n",
       "    <tr>\n",
       "      <th>DMSO</th>\n",
       "      <td>0.268615</td>\n",
       "      <td>0.016713</td>\n",
       "      <td>DMSO</td>\n",
       "    </tr>\n",
       "    <tr>\n",
       "      <th>Mebendazole</th>\n",
       "      <td>0.265462</td>\n",
       "      <td>0.016375</td>\n",
       "      <td>Mebendazole</td>\n",
       "    </tr>\n",
       "  </tbody>\n",
       "</table>\n",
       "</div>"
      ],
      "text/plain": [
       "             ERCC pseudo-counts       var  Experiments\n",
       "DMSO                   0.268615  0.016713         DMSO\n",
       "Mebendazole            0.265462  0.016375  Mebendazole"
      ]
     },
     "execution_count": 89,
     "metadata": {},
     "output_type": "execute_result"
    }
   ],
   "source": [
    "# df of DMSO vs treatment for each condition\n",
    "d = pd.DataFrame(data=r.values(), index=r.keys(), columns=['ERCC pseudo-counts','var'])\n",
    "d['Experiments'] = d.index\n",
    "d"
   ]
  },
  {
   "cell_type": "markdown",
   "id": "3daf2ea7",
   "metadata": {},
   "source": [
    "ERCC scaling factors\n",
    "* treatment vs DMSO should be different\n",
    "* protein level in treatment < DMSO: more ERCC transcripts in treatment than DMSO (less RNA transcripts)\n",
    "* scaling factors: treatment > DMSO - ERCC counts/scaling factors in treatment should be higher"
   ]
  },
  {
   "cell_type": "code",
   "execution_count": 91,
   "id": "c3c50335",
   "metadata": {},
   "outputs": [
    {
     "name": "stdout",
     "output_type": "stream",
     "text": [
      "v1\n"
     ]
    },
    {
     "data": {
      "image/png": "[encoded data removed]",
      "text/plain": [
       "<Figure size 432x288 with 1 Axes>"
      ]
     },
     "metadata": {
      "needs_background": "light"
     },
     "output_type": "display_data"
    },
    {
     "name": "stdout",
     "output_type": "stream",
     "text": [
      "Saved to ../results/slamseq_mebendazole_v1/plots/mebendazole_v1_scaling_fact_with_conf.pdf\n"
     ]
    }
   ],
   "source": [
    "version = project.replace(\"_\", \" \").split(\" \")[-1]\n",
    "print(version)\n",
    "createDir(res_dir+\"/plots/\")\n",
    "\n",
    "# barplot of DMSO vs VHL for each condition\n",
    "sns.barplot(x=\"Experiments\", y=\"ERCC pseudo-counts\", data=d, ci=None, )\n",
    "plt.errorbar(x=range(0,len(d)), y=d['ERCC pseudo-counts'],\n",
    "             yerr=d['var'], fmt='none', ecolor=\"black\")\n",
    "plt.xticks(rotation=60, ha='right')\n",
    "plt.title(project.replace(\"_\", \" \").split(\" v\")[0])\n",
    "\n",
    "plt.savefig(res_dir+\"plots/\"+project+\"_scaling_fact_with_conf.pdf\", bbox_inches=\"tight\")\n",
    "plt.show()\n",
    "print(\"Saved to \"+res_dir+\"plots/\"+project+\"_scaling_fact_with_conf.pdf\")"
   ]
  },
  {
   "cell_type": "markdown",
   "id": "3cdb6bbc",
   "metadata": {},
   "source": [
    "__save average ERCC scaling factors__"
   ]
  },
  {
   "cell_type": "code",
   "execution_count": 92,
   "id": "1cddf62c",
   "metadata": {},
   "outputs": [
    {
     "data": {
      "text/html": [
       "<div>\n",
       "<style scoped>\n",
       "    .dataframe tbody tr th:only-of-type {\n",
       "        vertical-align: middle;\n",
       "    }\n",
       "\n",
       "    .dataframe tbody tr th {\n",
       "        vertical-align: top;\n",
       "    }\n",
       "\n",
       "    .dataframe thead th {\n",
       "        text-align: right;\n",
       "    }\n",
       "</style>\n",
       "<table border=\"1\" class=\"dataframe\">\n",
       "  <thead>\n",
       "    <tr style=\"text-align: right;\">\n",
       "      <th></th>\n",
       "      <th>ERCC pseudo-counts</th>\n",
       "      <th>var</th>\n",
       "      <th>Experiments</th>\n",
       "    </tr>\n",
       "  </thead>\n",
       "  <tbody>\n",
       "    <tr>\n",
       "      <th>DMSO</th>\n",
       "      <td>0.268615</td>\n",
       "      <td>0.016713</td>\n",
       "      <td>DMSO</td>\n",
       "    </tr>\n",
       "    <tr>\n",
       "      <th>Mebendazole</th>\n",
       "      <td>0.265462</td>\n",
       "      <td>0.016375</td>\n",
       "      <td>Mebendazole</td>\n",
       "    </tr>\n",
       "  </tbody>\n",
       "</table>\n",
       "</div>"
      ],
      "text/plain": [
       "             ERCC pseudo-counts       var  Experiments\n",
       "DMSO                   0.268615  0.016713         DMSO\n",
       "Mebendazole            0.265462  0.016375  Mebendazole"
      ]
     },
     "execution_count": 92,
     "metadata": {},
     "output_type": "execute_result"
    }
   ],
   "source": [
    "d"
   ]
  },
  {
   "cell_type": "code",
   "execution_count": 93,
   "id": "c19422eb",
   "metadata": {},
   "outputs": [],
   "source": [
    "# save avg ERCC pseudocounts\n",
    "res_dir = \"../results/slamseq_\"+project+\"/\"\n",
    "d.to_csv(res_dir+project+\"_scaling_factors_avg.csv\", header=True, index=True)"
   ]
  },
  {
   "cell_type": "markdown",
   "id": "2cea6e9c",
   "metadata": {},
   "source": [
    "## save the data to our bucket"
   ]
  },
  {
   "cell_type": "code",
   "execution_count": 94,
   "id": "79c5826c",
   "metadata": {
    "collapsed": true
   },
   "outputs": [
    {
     "data": {
      "text/plain": [
       "'mebendazole_v1'"
      ]
     },
     "execution_count": 94,
     "metadata": {},
     "output_type": "execute_result"
    }
   ],
   "source": [
    "project"
   ]
  },
  {
   "cell_type": "code",
   "execution_count": 95,
   "id": "81f0b59b",
   "metadata": {
    "collapsed": true
   },
   "outputs": [
    {
     "name": "stdout",
     "output_type": "stream",
     "text": [
      "Copying file://../../data/slamseq_mebendazole_v1/res/filter/ERCC_mr522-MV411-DMSO-r1_filtered.bam [Content-Type=application/octet-stream]...\n",
      "Copying file://../../data/slamseq_mebendazole_v1/res/filter/ERCC_mr522-MV411-DMSO-r1_filtered.bam.bed [Content-Type=application/octet-stream]...\n",
      "Copying file://../../data/slamseq_mebendazole_v1/res/filter/ERCC_mr523-MV411-DMSO-r2_filtered.bam [Content-Type=application/octet-stream]...\n",
      "Copying file://../../data/slamseq_mebendazole_v1/res/filter/ERCC_mr523-MV411-DMSO-r2_filtered.bam.bed [Content-Type=application/octet-stream]...\n",
      "Copying file://../../data/slamseq_mebendazole_v1/res/filter/ERCC_mr524-MV411-DMSO-r3_filtered.bam [Content-Type=application/octet-stream]...\n",
      "Copying file://../../data/slamseq_mebendazole_v1/res/filter/ERCC_mr524-MV411-DMSO-r3_filtered.bam.bed [Content-Type=application/octet-stream]...\n",
      "Copying file://../../data/slamseq_mebendazole_v1/res/filter/ERCC_mr525-MV411-DMSO-r4_filtered.bam [Content-Type=application/octet-stream]...\n",
      "Copying file://../../data/slamseq_mebendazole_v1/res/filter/ERCC_mr525-MV411-DMSO-r4_filtered.bam.bed [Content-Type=application/octet-stream]...\n",
      "Copying file://../../data/slamseq_mebendazole_v1/res/filter/ERCC_mr526-MV411-DMSO-r5_filtered.bam [Content-Type=application/octet-stream]...\n",
      "Copying file://../../data/slamseq_mebendazole_v1/res/filter/ERCC_mr526-MV411-DMSO-r5_filtered.bam.bed [Content-Type=application/octet-stream]...\n",
      "Copying file://../../data/slamseq_mebendazole_v1/res/filter/ERCC_mr527-MV411-Mebendazole-r1_filtered.bam [Content-Type=application/octet-stream]...\n",
      "Copying file://../../data/slamseq_mebendazole_v1/res/filter/ERCC_mr527-MV411-Mebendazole-r1_filtered.bam.bed [Content-Type=application/octet-stream]...\n",
      "Copying file://../../data/slamseq_mebendazole_v1/res/filter/ERCC_mr528-MV411-Mebendazole-r2_filtered.bam.bed [Content-Type=application/octet-stream]...\n",
      "Copying file://../../data/slamseq_mebendazole_v1/res/filter/ERCC_mr528-MV411-Mebendazole-r2_filtered.bam [Content-Type=application/octet-stream]...\n",
      "Copying file://../../data/slamseq_mebendazole_v1/res/filter/ERCC_mr529-MV411-Mebendazole-r3_filtered.bam [Content-Type=application/octet-stream]...\n",
      "Copying file://../../data/slamseq_mebendazole_v1/res/filter/ERCC_mr531-MV411-Mebendazole-r5_filtered.bam.bed [Content-Type=application/octet-stream]...\n",
      "Copying file://../../data/slamseq_mebendazole_v1/res/filter/mr522-MV411-DMSO-r1_filtered.bam.bai [Content-Type=application/octet-stream]...\n",
      "Copying file://../../data/slamseq_mebendazole_v1/res/filter/ERCC_mr529-MV411-Mebendazole-r3_filtered.bam.bed [Content-Type=application/octet-stream]...\n",
      "Copying file://../../data/slamseq_mebendazole_v1/res/filter/ERCC_mr530-MV411-Mebendazole-r4_filtered.bam [Content-Type=application/octet-stream]...\n",
      "Copying file://../../data/slamseq_mebendazole_v1/res/filter/mr522-MV411-DMSO-r1_filtered.log [Content-Type=application/octet-stream]...\n",
      "Copying file://../../data/slamseq_mebendazole_v1/res/filter/mr523-MV411-DMSO-r2_filtered.bam [Content-Type=application/octet-stream]...\n",
      "Copying file://../../data/slamseq_mebendazole_v1/res/filter/ERCC_mr530-MV411-Mebendazole-r4_filtered.bam.bed [Content-Type=application/octet-stream]...\n",
      "Copying file://../../data/slamseq_mebendazole_v1/res/filter/mr523-MV411-DMSO-r2_filtered.bam.bai [Content-Type=application/octet-stream]...\n",
      "Copying file://../../data/slamseq_mebendazole_v1/res/filter/ERCC_mr531-MV411-Mebendazole-r5_filtered.bam [Content-Type=application/octet-stream]...\n",
      "==> NOTE: You are uploading one or more large file(s), which would run          \n",
      "significantly faster if you enable parallel composite uploads. This\n",
      "feature can be enabled by editing the\n",
      "\"parallel_composite_upload_threshold\" value in your .boto\n",
      "configuration file. However, note that if you do this large files will\n",
      "be uploaded as `composite objects\n",
      "<https://cloud.google.com/storage/docs/composite-objects>`_,which\n",
      "means that any user who downloads such objects will need to have a\n",
      "compiled crcmod installed (see \"gsutil help crcmod\"). This is because\n",
      "without a compiled crcmod, computing checksums on composite objects is\n",
      "so slow that gsutil disables downloads of composite objects.\n",
      "\n",
      "Copying file://../../data/slamseq_mebendazole_v1/res/filter/mr522-MV411-DMSO-r1_filtered.bam [Content-Type=application/octet-stream]...\n",
      "Copying file://../../data/slamseq_mebendazole_v1/res/filter/mr525-MV411-DMSO-r4_filtered.bam [Content-Type=application/octet-stream]...\n",
      "Copying file://../../data/slamseq_mebendazole_v1/res/filter/mr524-MV411-DMSO-r3_filtered.bam [Content-Type=application/octet-stream]...\n",
      "Copying file://../../data/slamseq_mebendazole_v1/res/filter/mr523-MV411-DMSO-r2_filtered.log [Content-Type=application/octet-stream]...\n",
      "Copying file://../../data/slamseq_mebendazole_v1/res/filter/mr526-MV411-DMSO-r5_filtered.bam.bai [Content-Type=application/octet-stream]...\n",
      "Copying file://../../data/slamseq_mebendazole_v1/res/filter/mr525-MV411-DMSO-r4_filtered.bam.bai [Content-Type=application/octet-stream]...\n",
      "Copying file://../../data/slamseq_mebendazole_v1/res/filter/mr524-MV411-DMSO-r3_filtered.bam.bai [Content-Type=application/octet-stream]...\n",
      "Copying file://../../data/slamseq_mebendazole_v1/res/filter/mr524-MV411-DMSO-r3_filtered.log [Content-Type=application/octet-stream]...\n",
      "Copying file://../../data/slamseq_mebendazole_v1/res/filter/mr525-MV411-DMSO-r4_filtered.log [Content-Type=application/octet-stream]...\n",
      "Copying file://../../data/slamseq_mebendazole_v1/res/filter/mr527-MV411-Mebendazole-r1_filtered.bam [Content-Type=application/octet-stream]...\n",
      "Copying file://../../data/slamseq_mebendazole_v1/res/filter/mr526-MV411-DMSO-r5_filtered.bam [Content-Type=application/octet-stream]...\n",
      "Copying file://../../data/slamseq_mebendazole_v1/res/filter/mr528-MV411-Mebendazole-r2_filtered.bam [Content-Type=application/octet-stream]...\n",
      "Copying file://../../data/slamseq_mebendazole_v1/res/filter/mr527-MV411-Mebendazole-r1_filtered.bam.bai [Content-Type=application/octet-stream]...\n",
      "Copying file://../../data/slamseq_mebendazole_v1/res/filter/mr526-MV411-DMSO-r5_filtered.log [Content-Type=application/octet-stream]...\n",
      "Copying file://../../data/slamseq_mebendazole_v1/res/filter/mr527-MV411-Mebendazole-r1_filtered.log [Content-Type=application/octet-stream]...\n",
      "Copying file://../../data/slamseq_mebendazole_v1/res/filter/mr528-MV411-Mebendazole-r2_filtered.bam.bai [Content-Type=application/octet-stream]...\n",
      "Copying file://../../data/slamseq_mebendazole_v1/res/filter/mr528-MV411-Mebendazole-r2_filtered.log [Content-Type=application/octet-stream]...\n",
      "Copying file://../../data/slamseq_mebendazole_v1/res/filter/mr529-MV411-Mebendazole-r3_filtered.bam [Content-Type=application/octet-stream]...\n",
      "Copying file://../../data/slamseq_mebendazole_v1/res/filter/mr529-MV411-Mebendazole-r3_filtered.bam.bai [Content-Type=application/octet-stream]...\n",
      "Copying file://../../data/slamseq_mebendazole_v1/res/filter/mr529-MV411-Mebendazole-r3_filtered.log [Content-Type=application/octet-stream]...\n",
      "Copying file://../../data/slamseq_mebendazole_v1/res/filter/mr530-MV411-Mebendazole-r4_filtered.bam [Content-Type=application/octet-stream]...\n",
      "Copying file://../../data/slamseq_mebendazole_v1/res/filter/mr530-MV411-Mebendazole-r4_filtered.bam.bai [Content-Type=application/octet-stream]...\n",
      "Copying file://../../data/slamseq_mebendazole_v1/res/filter/mr530-MV411-Mebendazole-r4_filtered.log [Content-Type=application/octet-stream]...\n",
      "Copying file://../../data/slamseq_mebendazole_v1/res/filter/mr531-MV411-Mebendazole-r5_filtered.bam [Content-Type=application/octet-stream]...\n",
      "Copying file://../../data/slamseq_mebendazole_v1/res/filter/mr531-MV411-Mebendazole-r5_filtered.bam.bai [Content-Type=application/octet-stream]...\n",
      "Copying file://../../data/slamseq_mebendazole_v1/res/filter/mr531-MV411-Mebendazole-r5_filtered.log [Content-Type=application/octet-stream]...\n",
      "\\ [50/50 files][ 32.3 GiB/ 32.3 GiB] 100% Done 105.5 MiB/s ETA 00:00:00         \n",
      "Operation completed over 50 objects/32.3 GiB.                                    \n"
     ]
    }
   ],
   "source": [
    "! gsutil -m cp ../../data/slamseq_$project/res/filter/* gs://amlproject/RNA/slamseq/$project/res/filter/ \n",
    "! gsutil -m cp ../../data/slamseq_$project/res/snp/* gs://amlproject/RNA/slamseq/$project/res/snp/ \n",
    "! gsutil -m cp ../../data/slamseq_$project/res/count/* gs://amlproject/RNA/slamseq/$project/res/count/"
   ]
  },
  {
   "cell_type": "markdown",
   "id": "fb0705cd",
   "metadata": {},
   "source": [
    "# SLAM-seq\n",
    "All SLAM-seq assays were performed at 60-70% confluency for adherent cells or\n",
    "60% of the maximum cell density counted on a hemocytometer for suspension cells. 5-7h\n",
    "prior to each assay, growth medium was aspirated and replaced. Unless stated otherwise,\n",
    "cells were pre-treated with indicated small molecule inhibitors or 100µM IAA for 30 min\n",
    "to pre-establish full target inhibition or degradation. Newly synthesized RNA was labeled\n",
    "for indicated time spans (45 min or 60 min) at a final concentration of 100µM 4-\n",
    "thiouridine (4sU, Carbosynth). Adherent cells were harvested by direct snap-freezing of\n",
    "plates on dry ice. Suspension cells were spun down and immediately snap-frozen. RNA\n",
    "extraction was performed using the RNeasy Plus Mini Kit (Qiagen). \n",
    "\n",
    "Total RNA was subjected to alkylation by iodoacetamide (Sigma, 10mM) for 15 min and RNA was repurified by ethanol precipitation. 500ng alkylated RNA were used as input for generating\n",
    "3’-end mRNA sequencing libraries using a commercially available kit (QuantSeq 3′\n",
    "mRNA-Seq Library Prep Kit FWD for Illumina and PCR Add-on Kit for Illumina,\n",
    "Lexogen). Deep sequencing was performed using HiSeq1500 and HiSeq2500 platforms\n",
    "(Illumina)."
   ]
  },
  {
   "cell_type": "markdown",
   "id": "9faf221e",
   "metadata": {},
   "source": [
    "## make count files"
   ]
  },
  {
   "cell_type": "code",
   "execution_count": 96,
   "id": "aa29deb8",
   "metadata": {},
   "outputs": [
    {
     "name": "stdout",
     "output_type": "stream",
     "text": [
      "../../data/slamseq_mebendazole_v1/res/count/\n"
     ]
    }
   ],
   "source": [
    "project = project\n",
    "res_folder = \"res\"\n",
    "location = \"../../data/slamseq_\"+project+\"/\"+res_folder+\"/\"+\"count/\"\n",
    "print(location)"
   ]
  },
  {
   "cell_type": "code",
   "execution_count": 97,
   "id": "f6d6c585",
   "metadata": {},
   "outputs": [],
   "source": [
    "# remove genes that have very low counts\n",
    "mincount_toremove=5\n",
    "\n",
    "# remove genes that have a variance of 0 across all samples (these we really want to remove)\n",
    "# genes that have values of 0,1,2 everywhere\n",
    "minvar_toremove=0"
   ]
  },
  {
   "cell_type": "markdown",
   "id": "a955a24e",
   "metadata": {},
   "source": [
    "<li>readcounts: total counts of every transscript (output of slamdunk algorithm\n",
    "<li>tccounts: t to c converted RNA transcripts"
   ]
  },
  {
   "cell_type": "code",
   "execution_count": 98,
   "id": "c4eebb01",
   "metadata": {},
   "outputs": [
    {
     "name": "stdout",
     "output_type": "stream",
     "text": [
      "found 10 files:dict_keys(['mr522-MV411-DMSO-r1_tcount', 'mr523-MV411-DMSO-r2_tcount', 'mr524-MV411-DMSO-r3_tcount', 'mr525-MV411-DMSO-r4_tcount', 'mr526-MV411-DMSO-r5_tcount', 'mr527-MV411-Mebendazole-r1_tcount', 'mr528-MV411-Mebendazole-r2_tcount', 'mr529-MV411-Mebendazole-r3_tcount', 'mr530-MV411-Mebendazole-r4_tcount', 'mr531-MV411-Mebendazole-r5_tcount'])\n",
      "mr522-MV411-DMSO-r1\n",
      "mr523-MV411-DMSO-r2\n",
      "mr524-MV411-DMSO-r3\n",
      "mr525-MV411-DMSO-r4\n",
      "mr526-MV411-DMSO-r5\n",
      "mr527-MV411-Mebendazole-r1\n",
      "mr528-MV411-Mebendazole-r2\n",
      "mr529-MV411-Mebendazole-r3\n",
      "mr530-MV411-Mebendazole-r4\n",
      "mr531-MV411-Mebendazole-r5\n",
      "downloading gene names from biomart\n",
      "1750 count not be parsed... we don't have all genes already\n",
      "downloading gene names from biomart\n",
      "1750 count not be parsed... we don't have all genes already\n",
      "CPU times: user 1min 29s, sys: 512 ms, total: 1min 29s\n",
      "Wall time: 2min 16s\n"
     ]
    }
   ],
   "source": [
    "%%time\n",
    "\n",
    "# all genes (not just protein coding)\n",
    "readcounts, tccounts = rna.readFromSlamdunk(loc=location, \n",
    "                                            minvar_toremove=minvar_toremove, \n",
    "                                            mincount_toremove=mincount_toremove,\n",
    "                                            verbose=False)"
   ]
  },
  {
   "cell_type": "markdown",
   "id": "75756994",
   "metadata": {},
   "source": [
    "Check for duplicate gene rows"
   ]
  },
  {
   "cell_type": "code",
   "execution_count": 99,
   "id": "413ba5a3",
   "metadata": {},
   "outputs": [],
   "source": [
    "def dedup_df_genes(df):\n",
    "    ''' sum rows with the same gene index and remove duplicate '''\n",
    "    if df.shape[0] != len(df.index.drop_duplicates()):\n",
    "        print(\"Duplicate gene rows!\")\n",
    "        print(\"{} rows | {} unique genes\".format(df.shape[0], len(df.index.drop_duplicates())))\n",
    "        print(\"Summing of duplicate gene rows.\")\n",
    "        \n",
    "    # sum duplicate rows, same row order\n",
    "    duplicate_genes = df.index[df.index.duplicated()].tolist()\n",
    "    df = df.groupby(df.index).sum().loc[df.index.drop_duplicates()]\n",
    "    if df.shape[0] != len(df.index.drop_duplicates()):\n",
    "        raise ValueError(\n",
    "            \"Cannot collapse duplicate gene rows.\"\n",
    "        )\n",
    "    \n",
    "    return df, duplicate_genes"
   ]
  },
  {
   "cell_type": "code",
   "execution_count": 100,
   "id": "c6c565c6",
   "metadata": {},
   "outputs": [
    {
     "name": "stdout",
     "output_type": "stream",
     "text": [
      "Duplicate gene rows!\n",
      "14323 rows | 14292 unique genes\n",
      "Summing of duplicate gene rows.\n",
      "Duplicate gene rows!\n",
      "14323 rows | 14292 unique genes\n",
      "Summing of duplicate gene rows.\n"
     ]
    }
   ],
   "source": [
    "readcounts, duplicate_genes = dedup_df_genes(readcounts)\n",
    "tccounts, duplicate_genes = dedup_df_genes(tccounts)\n",
    "\n",
    "if readcounts.shape != tccounts.shape:\n",
    "    raise ValueError(\"readcounts and tccounts not the same dimensions: {} | {}\".format(readcounts.shape, tccounts.shape))"
   ]
  },
  {
   "cell_type": "markdown",
   "id": "dbae1c88",
   "metadata": {
    "heading_collapsed": true
   },
   "source": [
    "## make density plot"
   ]
  },
  {
   "cell_type": "code",
   "execution_count": 101,
   "id": "9e883b38",
   "metadata": {
    "hidden": true
   },
   "outputs": [
    {
     "name": "stdout",
     "output_type": "stream",
     "text": [
      "../results/slamseq_mebendazole_v1/\n"
     ]
    }
   ],
   "source": [
    "res_dir = \"../results/slamseq_{}/\".format(project)\n",
    "print(res_dir)\n",
    "createDir(res_dir)"
   ]
  },
  {
   "cell_type": "code",
   "execution_count": 102,
   "id": "3f7f9ba5",
   "metadata": {
    "hidden": true
   },
   "outputs": [],
   "source": [
    "# sort cols\n",
    "col = tccounts.columns.tolist()\n",
    "col.sort()\n",
    "tccounts = tccounts[col]"
   ]
  },
  {
   "cell_type": "code",
   "execution_count": 103,
   "id": "93d50f5b",
   "metadata": {
    "hidden": true
   },
   "outputs": [],
   "source": [
    "# sort cols\n",
    "col = readcounts.columns.tolist()\n",
    "col.sort()\n",
    "readcounts = readcounts[col]"
   ]
  },
  {
   "cell_type": "code",
   "execution_count": 104,
   "id": "e94b786a",
   "metadata": {
    "hidden": true
   },
   "outputs": [
    {
     "name": "stdout",
     "output_type": "stream",
     "text": [
      "(14292, 10)\n"
     ]
    },
    {
     "data": {
      "text/html": [
       "<div>\n",
       "<style scoped>\n",
       "    .dataframe tbody tr th:only-of-type {\n",
       "        vertical-align: middle;\n",
       "    }\n",
       "\n",
       "    .dataframe tbody tr th {\n",
       "        vertical-align: top;\n",
       "    }\n",
       "\n",
       "    .dataframe thead th {\n",
       "        text-align: right;\n",
       "    }\n",
       "</style>\n",
       "<table border=\"1\" class=\"dataframe\">\n",
       "  <thead>\n",
       "    <tr style=\"text-align: right;\">\n",
       "      <th></th>\n",
       "      <th>mr522-MV411-DMSO-r1_tcount</th>\n",
       "      <th>mr523-MV411-DMSO-r2_tcount</th>\n",
       "      <th>mr524-MV411-DMSO-r3_tcount</th>\n",
       "      <th>mr525-MV411-DMSO-r4_tcount</th>\n",
       "      <th>mr526-MV411-DMSO-r5_tcount</th>\n",
       "      <th>mr527-MV411-Mebendazole-r1_tcount</th>\n",
       "      <th>mr528-MV411-Mebendazole-r2_tcount</th>\n",
       "      <th>mr529-MV411-Mebendazole-r3_tcount</th>\n",
       "      <th>mr530-MV411-Mebendazole-r4_tcount</th>\n",
       "      <th>mr531-MV411-Mebendazole-r5_tcount</th>\n",
       "    </tr>\n",
       "  </thead>\n",
       "  <tbody>\n",
       "    <tr>\n",
       "      <th>A1BG</th>\n",
       "      <td>0</td>\n",
       "      <td>0</td>\n",
       "      <td>1</td>\n",
       "      <td>5</td>\n",
       "      <td>1</td>\n",
       "      <td>0</td>\n",
       "      <td>0</td>\n",
       "      <td>2</td>\n",
       "      <td>3</td>\n",
       "      <td>0</td>\n",
       "    </tr>\n",
       "    <tr>\n",
       "      <th>NAT1</th>\n",
       "      <td>95</td>\n",
       "      <td>109</td>\n",
       "      <td>87</td>\n",
       "      <td>272</td>\n",
       "      <td>151</td>\n",
       "      <td>142</td>\n",
       "      <td>173</td>\n",
       "      <td>156</td>\n",
       "      <td>179</td>\n",
       "      <td>87</td>\n",
       "    </tr>\n",
       "  </tbody>\n",
       "</table>\n",
       "</div>"
      ],
      "text/plain": [
       "      mr522-MV411-DMSO-r1_tcount  mr523-MV411-DMSO-r2_tcount  \\\n",
       "A1BG                           0                           0   \n",
       "NAT1                          95                         109   \n",
       "\n",
       "      mr524-MV411-DMSO-r3_tcount  mr525-MV411-DMSO-r4_tcount  \\\n",
       "A1BG                           1                           5   \n",
       "NAT1                          87                         272   \n",
       "\n",
       "      mr526-MV411-DMSO-r5_tcount  mr527-MV411-Mebendazole-r1_tcount  \\\n",
       "A1BG                           1                                  0   \n",
       "NAT1                         151                                142   \n",
       "\n",
       "      mr528-MV411-Mebendazole-r2_tcount  mr529-MV411-Mebendazole-r3_tcount  \\\n",
       "A1BG                                  0                                  2   \n",
       "NAT1                                173                                156   \n",
       "\n",
       "      mr530-MV411-Mebendazole-r4_tcount  mr531-MV411-Mebendazole-r5_tcount  \n",
       "A1BG                                  3                                  0  \n",
       "NAT1                                179                                 87  "
      ]
     },
     "execution_count": 104,
     "metadata": {},
     "output_type": "execute_result"
    }
   ],
   "source": [
    "print(readcounts.shape)\n",
    "readcounts.iloc[:2]"
   ]
  },
  {
   "cell_type": "markdown",
   "id": "c01afef4",
   "metadata": {
    "hidden": true
   },
   "source": [
    "read counts that are t $\\rightarrow$ c converted (actively transcribed)\n",
    "* most at 0 = most are not transcribed\n",
    "* a lot at 1 or everything at 0 is weird"
   ]
  },
  {
   "cell_type": "code",
   "execution_count": 105,
   "id": "b8c94371",
   "metadata": {
    "hidden": true
   },
   "outputs": [
    {
     "name": "stdout",
     "output_type": "stream",
     "text": [
      "13451\n"
     ]
    },
    {
     "data": {
      "image/png": "[encoded data removed]",
      "text/plain": [
       "<Figure size 432x288 with 1 Axes>"
      ]
     },
     "metadata": {
      "needs_background": "light"
     },
     "output_type": "display_data"
    }
   ],
   "source": [
    "# what is the average of highly transcribed genes?\n",
    "# tccounts/readcounts where sum of readcounts in all samples > 30 \n",
    "a = tccounts[readcounts.sum(1)>30] / readcounts[readcounts.sum(1)>30]\n",
    "a = a.fillna(0)\n",
    "a = a.max(1).tolist() # max val per gene\n",
    "a.sort()\n",
    "print(len(a))\n",
    "sns.kdeplot(a)\n",
    "plt.xlabel(\"max tccounts / max readcounts per gene\")\n",
    "plt.title(project.replace(\"_\", \" \").split(\" v\")[0])\n",
    "\n",
    "plt.savefig(res_dir+'plots/'+project+'_tccounts_readcounts_density.pdf', dpi=300, bbox_inches=\"tight\")\n",
    "plt.show()"
   ]
  },
  {
   "cell_type": "code",
   "execution_count": 106,
   "id": "221dc98c",
   "metadata": {
    "hidden": true
   },
   "outputs": [
    {
     "data": {
      "text/plain": [
       "0.07432432432432433"
      ]
     },
     "execution_count": 106,
     "metadata": {},
     "output_type": "execute_result"
    }
   ],
   "source": [
    "np.median(a)"
   ]
  },
  {
   "cell_type": "code",
   "execution_count": 107,
   "id": "b9fe2ec8",
   "metadata": {
    "hidden": true
   },
   "outputs": [
    {
     "name": "stdout",
     "output_type": "stream",
     "text": [
      "Saved readcounts to: ../results/slamseq_mebendazole_v1/mebendazole_v1_0_5_readcounts.csv\n",
      "Saved tccounts to: ../results/slamseq_mebendazole_v1/mebendazole_v1_0_5_tccounts.csv\n"
     ]
    }
   ],
   "source": [
    "# Save counts to csv\n",
    "counts_file_prefix = project+'_'+str(minvar_toremove)+'_'+str(mincount_toremove)\n",
    "\n",
    "readcounts.to_csv(res_dir+counts_file_prefix+\"_readcounts.csv\",index=True, index_label=\"GENE\")\n",
    "print(\"Saved readcounts to: {}\".format(res_dir+counts_file_prefix+\"_readcounts.csv\"))\n",
    "\n",
    "tccounts.to_csv(res_dir+counts_file_prefix+\"_tccounts.csv\",index=True, index_label=\"GENE\")\n",
    "print(\"Saved tccounts to: {}\".format(res_dir+counts_file_prefix+\"_tccounts.csv\"))"
   ]
  },
  {
   "cell_type": "markdown",
   "id": "5b9ca098",
   "metadata": {
    "heading_collapsed": true
   },
   "source": [
    "## make more dfs (mean, median, etc.)"
   ]
  },
  {
   "cell_type": "code",
   "execution_count": 108,
   "id": "7d064738",
   "metadata": {
    "hidden": true
   },
   "outputs": [
    {
     "data": {
      "text/html": [
       "<div>\n",
       "<style scoped>\n",
       "    .dataframe tbody tr th:only-of-type {\n",
       "        vertical-align: middle;\n",
       "    }\n",
       "\n",
       "    .dataframe tbody tr th {\n",
       "        vertical-align: top;\n",
       "    }\n",
       "\n",
       "    .dataframe thead th {\n",
       "        text-align: right;\n",
       "    }\n",
       "</style>\n",
       "<table border=\"1\" class=\"dataframe\">\n",
       "  <thead>\n",
       "    <tr style=\"text-align: right;\">\n",
       "      <th></th>\n",
       "      <th>mr522-MV411-DMSO-r1_tcount</th>\n",
       "      <th>mr523-MV411-DMSO-r2_tcount</th>\n",
       "      <th>mr524-MV411-DMSO-r3_tcount</th>\n",
       "      <th>mr525-MV411-DMSO-r4_tcount</th>\n",
       "      <th>mr526-MV411-DMSO-r5_tcount</th>\n",
       "      <th>mr527-MV411-Mebendazole-r1_tcount</th>\n",
       "      <th>mr528-MV411-Mebendazole-r2_tcount</th>\n",
       "      <th>mr529-MV411-Mebendazole-r3_tcount</th>\n",
       "      <th>mr530-MV411-Mebendazole-r4_tcount</th>\n",
       "      <th>mr531-MV411-Mebendazole-r5_tcount</th>\n",
       "    </tr>\n",
       "  </thead>\n",
       "  <tbody>\n",
       "    <tr>\n",
       "      <th>A1BG</th>\n",
       "      <td>0</td>\n",
       "      <td>0</td>\n",
       "      <td>1</td>\n",
       "      <td>5</td>\n",
       "      <td>1</td>\n",
       "      <td>0</td>\n",
       "      <td>0</td>\n",
       "      <td>2</td>\n",
       "      <td>3</td>\n",
       "      <td>0</td>\n",
       "    </tr>\n",
       "  </tbody>\n",
       "</table>\n",
       "</div>"
      ],
      "text/plain": [
       "      mr522-MV411-DMSO-r1_tcount  mr523-MV411-DMSO-r2_tcount  \\\n",
       "A1BG                           0                           0   \n",
       "\n",
       "      mr524-MV411-DMSO-r3_tcount  mr525-MV411-DMSO-r4_tcount  \\\n",
       "A1BG                           1                           5   \n",
       "\n",
       "      mr526-MV411-DMSO-r5_tcount  mr527-MV411-Mebendazole-r1_tcount  \\\n",
       "A1BG                           1                                  0   \n",
       "\n",
       "      mr528-MV411-Mebendazole-r2_tcount  mr529-MV411-Mebendazole-r3_tcount  \\\n",
       "A1BG                                  0                                  2   \n",
       "\n",
       "      mr530-MV411-Mebendazole-r4_tcount  mr531-MV411-Mebendazole-r5_tcount  \n",
       "A1BG                                  3                                  0  "
      ]
     },
     "execution_count": 108,
     "metadata": {},
     "output_type": "execute_result"
    }
   ],
   "source": [
    "readcounts.iloc[:1]"
   ]
  },
  {
   "cell_type": "code",
   "execution_count": 109,
   "id": "9e58d70d",
   "metadata": {
    "hidden": true
   },
   "outputs": [
    {
     "name": "stdout",
     "output_type": "stream",
     "text": [
      "Genes with highest read counts per sample.\n",
      "DMSO-r1: RPL13AP5\n",
      "DMSO-r2: RPL13AP5\n",
      "DMSO-r3: RPL13AP5\n",
      "DMSO-r4: RPL13AP5\n",
      "DMSO-r5: RPL13AP5\n",
      "Mebendazole-r1: RPL13AP5\n",
      "Mebendazole-r2: RPL13AP5\n",
      "Mebendazole-r3: RPL13AP5\n",
      "Mebendazole-r4: RPL13AP5\n",
      "Mebendazole-r5: RPL13AP5\n"
     ]
    }
   ],
   "source": [
    "print(\"Genes with highest read counts per sample.\")\n",
    "for column in readcounts:\n",
    "    print(column.split(\"MV411-\")[1].split(\"_\")[0] +\": \"+ str(readcounts[column].idxmax()))"
   ]
  },
  {
   "cell_type": "code",
   "execution_count": 110,
   "id": "8ca5b65e",
   "metadata": {
    "hidden": true
   },
   "outputs": [
    {
     "data": {
      "text/plain": [
       "RPL13AP5    10\n",
       "dtype: int64"
      ]
     },
     "execution_count": 110,
     "metadata": {},
     "output_type": "execute_result"
    }
   ],
   "source": [
    "readcounts.idxmax().value_counts()"
   ]
  },
  {
   "cell_type": "code",
   "execution_count": 111,
   "id": "935eae55",
   "metadata": {
    "hidden": true
   },
   "outputs": [
    {
     "data": {
      "text/plain": [
       "Index(['mr522-MV411-DMSO-r1_tcount', 'mr523-MV411-DMSO-r2_tcount',\n",
       "       'mr524-MV411-DMSO-r3_tcount', 'mr525-MV411-DMSO-r4_tcount',\n",
       "       'mr526-MV411-DMSO-r5_tcount', 'mr527-MV411-Mebendazole-r1_tcount',\n",
       "       'mr528-MV411-Mebendazole-r2_tcount',\n",
       "       'mr529-MV411-Mebendazole-r3_tcount',\n",
       "       'mr530-MV411-Mebendazole-r4_tcount',\n",
       "       'mr531-MV411-Mebendazole-r5_tcount'],\n",
       "      dtype='object')"
      ]
     },
     "execution_count": 111,
     "metadata": {},
     "output_type": "execute_result"
    }
   ],
   "source": [
    "tccounts.columns"
   ]
  },
  {
   "cell_type": "code",
   "execution_count": 112,
   "id": "0edf59cd",
   "metadata": {
    "hidden": true
   },
   "outputs": [
    {
     "name": "stdout",
     "output_type": "stream",
     "text": [
      "{'MV411-Mebendazole', 'MV411-DMSO'}\n",
      "['mr522', 'MV411-DMSO-r1_tcount']\n",
      "MV411-DMSO\n"
     ]
    },
    {
     "data": {
      "text/plain": [
       "['MV411-DMSO', 'MV411-Mebendazole']"
      ]
     },
     "execution_count": 112,
     "metadata": {},
     "output_type": "execute_result"
    }
   ],
   "source": [
    "print(set([i.split('-', 1)[-1].rpartition(\"-\")[0] for i in tccounts.columns]))\n",
    "print(tccounts.columns[0].split('-', 1))\n",
    "print(tccounts.columns[0].split('-', 1)[-1].rpartition(\"-\")[0])\n",
    "list(dict.fromkeys([r.split(\"-\", 1)[1].split(\"_\")[0].rsplit(\"-\", 1)[0] for r in tccounts.columns]))"
   ]
  },
  {
   "cell_type": "code",
   "execution_count": 113,
   "id": "989050b7",
   "metadata": {
    "hidden": true
   },
   "outputs": [
    {
     "name": "stdout",
     "output_type": "stream",
     "text": [
      "MV411-DMSO\n",
      "MV411-Mebendazole\n"
     ]
    }
   ],
   "source": [
    "# get mean counts per condition\n",
    "mtccounts = pd.DataFrame()\n",
    "mreadcounts = pd.DataFrame()\n",
    "# conditions maintaing column order\n",
    "for i in list(dict.fromkeys([i.split('-', 1)[-1].rpartition(\"-\")[0] for i in tccounts.columns])):\n",
    "    print(i)\n",
    "    mtccounts[i] = tccounts[[v for v in tccounts.columns if i in v]].mean(1)\n",
    "    mreadcounts[i] = readcounts[[v for v in readcounts.columns if i in v]].mean(1)\n",
    "\n",
    "# save mean counts files\n",
    "mtccounts.to_csv(res_dir+counts_file_prefix+\"_mean_tccounts.csv\", index=True, index_label=\"GENE\")\n",
    "mreadcounts.to_csv(res_dir+counts_file_prefix+\"_mean_readcounts.csv\", index=True, index_label=\"GENE\")"
   ]
  },
  {
   "cell_type": "code",
   "execution_count": 114,
   "id": "93bce62a",
   "metadata": {
    "hidden": true
   },
   "outputs": [
    {
     "name": "stdout",
     "output_type": "stream",
     "text": [
      "MV411-DMSO\n",
      "MV411-Mebendazole\n"
     ]
    }
   ],
   "source": [
    "# get median counts per condition\n",
    "mtccounts = pd.DataFrame()\n",
    "mreadcounts = pd.DataFrame()\n",
    "# conditions maintaing column order\n",
    "for i in list(dict.fromkeys([i.split('-', 1)[-1].rpartition(\"-\")[0] for i in tccounts.columns])):\n",
    "    print(i)\n",
    "    mtccounts[i] = tccounts[[v for v in tccounts.columns if i in v]].median(1)\n",
    "    mreadcounts[i] = readcounts[[v for v in readcounts.columns if i in v]].median(1)\n",
    "\n",
    "# save median counts files\n",
    "mtccounts.to_csv(res_dir+counts_file_prefix+\"_median_tccounts.csv\", index=True, index_label=\"GENE\")\n",
    "mreadcounts.to_csv(res_dir+counts_file_prefix+\"_median_readcounts.csv\", index=True, index_label=\"GENE\")"
   ]
  },
  {
   "cell_type": "code",
   "execution_count": 115,
   "id": "f48b5437",
   "metadata": {
    "hidden": true
   },
   "outputs": [
    {
     "data": {
      "text/html": [
       "<div>\n",
       "<style scoped>\n",
       "    .dataframe tbody tr th:only-of-type {\n",
       "        vertical-align: middle;\n",
       "    }\n",
       "\n",
       "    .dataframe tbody tr th {\n",
       "        vertical-align: top;\n",
       "    }\n",
       "\n",
       "    .dataframe thead th {\n",
       "        text-align: right;\n",
       "    }\n",
       "</style>\n",
       "<table border=\"1\" class=\"dataframe\">\n",
       "  <thead>\n",
       "    <tr style=\"text-align: right;\">\n",
       "      <th></th>\n",
       "      <th>mr522-MV411-DMSO-r1_tcount</th>\n",
       "      <th>mr523-MV411-DMSO-r2_tcount</th>\n",
       "      <th>mr524-MV411-DMSO-r3_tcount</th>\n",
       "      <th>mr525-MV411-DMSO-r4_tcount</th>\n",
       "      <th>mr526-MV411-DMSO-r5_tcount</th>\n",
       "      <th>mr527-MV411-Mebendazole-r1_tcount</th>\n",
       "      <th>mr528-MV411-Mebendazole-r2_tcount</th>\n",
       "      <th>mr529-MV411-Mebendazole-r3_tcount</th>\n",
       "      <th>mr530-MV411-Mebendazole-r4_tcount</th>\n",
       "      <th>mr531-MV411-Mebendazole-r5_tcount</th>\n",
       "    </tr>\n",
       "  </thead>\n",
       "  <tbody>\n",
       "    <tr>\n",
       "      <th>A1BG</th>\n",
       "      <td>0.000000</td>\n",
       "      <td>0.00000</td>\n",
       "      <td>0.000000</td>\n",
       "      <td>0.000000</td>\n",
       "      <td>0.000000</td>\n",
       "      <td>0.000000</td>\n",
       "      <td>0.000000</td>\n",
       "      <td>0.000000</td>\n",
       "      <td>0.000000</td>\n",
       "      <td>0.000000</td>\n",
       "    </tr>\n",
       "    <tr>\n",
       "      <th>NAT1</th>\n",
       "      <td>0.157895</td>\n",
       "      <td>0.06422</td>\n",
       "      <td>0.137931</td>\n",
       "      <td>0.091912</td>\n",
       "      <td>0.086093</td>\n",
       "      <td>0.035211</td>\n",
       "      <td>0.075145</td>\n",
       "      <td>0.044872</td>\n",
       "      <td>0.111732</td>\n",
       "      <td>0.114943</td>\n",
       "    </tr>\n",
       "  </tbody>\n",
       "</table>\n",
       "</div>"
      ],
      "text/plain": [
       "      mr522-MV411-DMSO-r1_tcount  mr523-MV411-DMSO-r2_tcount  \\\n",
       "A1BG                    0.000000                     0.00000   \n",
       "NAT1                    0.157895                     0.06422   \n",
       "\n",
       "      mr524-MV411-DMSO-r3_tcount  mr525-MV411-DMSO-r4_tcount  \\\n",
       "A1BG                    0.000000                    0.000000   \n",
       "NAT1                    0.137931                    0.091912   \n",
       "\n",
       "      mr526-MV411-DMSO-r5_tcount  mr527-MV411-Mebendazole-r1_tcount  \\\n",
       "A1BG                    0.000000                           0.000000   \n",
       "NAT1                    0.086093                           0.035211   \n",
       "\n",
       "      mr528-MV411-Mebendazole-r2_tcount  mr529-MV411-Mebendazole-r3_tcount  \\\n",
       "A1BG                           0.000000                           0.000000   \n",
       "NAT1                           0.075145                           0.044872   \n",
       "\n",
       "      mr530-MV411-Mebendazole-r4_tcount  mr531-MV411-Mebendazole-r5_tcount  \n",
       "A1BG                           0.000000                           0.000000  \n",
       "NAT1                           0.111732                           0.114943  "
      ]
     },
     "execution_count": 115,
     "metadata": {},
     "output_type": "execute_result"
    }
   ],
   "source": [
    "(tccounts/readcounts).fillna(0).iloc[:2]"
   ]
  },
  {
   "cell_type": "code",
   "execution_count": 116,
   "id": "b97c635f",
   "metadata": {
    "hidden": true
   },
   "outputs": [
    {
     "name": "stdout",
     "output_type": "stream",
     "text": [
      "Saved tccounts/readcounts to: ../results/slamseq_mebendazole_v1/mebendazole_v1_0_5_tccounts_per_readcounts.csv\n"
     ]
    }
   ],
   "source": [
    "# Save tccounts/readcounts file\n",
    "(tccounts/readcounts).fillna(0).to_csv(res_dir+counts_file_prefix+\"_tccounts_per_readcounts.csv\")\n",
    "print(\"Saved tccounts/readcounts to: {}\".format(res_dir+counts_file_prefix+\"_tccounts_per_readcounts.csv\"))"
   ]
  },
  {
   "cell_type": "markdown",
   "id": "bfb449f2",
   "metadata": {
    "heading_collapsed": true
   },
   "source": [
    "## looking at similarity accross replicates\n",
    "\n",
    "we have some outliers, else it seems to make some sense and on average, to be extremelly similar!"
   ]
  },
  {
   "cell_type": "code",
   "execution_count": 117,
   "id": "ceec68a2",
   "metadata": {
    "hidden": true
   },
   "outputs": [
    {
     "data": {
      "text/plain": [
       "['MV411-DMSO',\n",
       " 'MV411-DMSO',\n",
       " 'MV411-DMSO',\n",
       " 'MV411-DMSO',\n",
       " 'MV411-DMSO',\n",
       " 'MV411-Mebendazole',\n",
       " 'MV411-Mebendazole',\n",
       " 'MV411-Mebendazole',\n",
       " 'MV411-Mebendazole',\n",
       " 'MV411-Mebendazole']"
      ]
     },
     "execution_count": 117,
     "metadata": {},
     "output_type": "execute_result"
    }
   ],
   "source": [
    "# conditions\n",
    "[i.split('-', 1)[-1].rpartition(\"-\")[0] for i in tccounts.columns]"
   ]
  },
  {
   "cell_type": "markdown",
   "id": "4a6ab33e",
   "metadata": {
    "hidden": true
   },
   "source": [
    "### save plots to pdf"
   ]
  },
  {
   "cell_type": "code",
   "execution_count": 120,
   "id": "50f5d4e6",
   "metadata": {
    "hidden": true
   },
   "outputs": [
    {
     "name": "stdout",
     "output_type": "stream",
     "text": [
      "Replicate similarity plot saved to: ../results/slamseq_mebendazole_v1/plots/mebendazole_v1_similarity_replicates_sorted_tccounts.pdf\n"
     ]
    },
    {
     "data": {
      "image/png": "[encoded data removed]",
      "text/plain": [
       "<Figure size 576x576 with 2 Axes>"
      ]
     },
     "metadata": {
      "needs_background": "light"
     },
     "output_type": "display_data"
    }
   ],
   "source": [
    "%matplotlib inline\n",
    "import matplotlib.font_manager\n",
    "\n",
    "font_settings = {\n",
    "    \"family\" : \"sans-serif\",\n",
    "    \"size\" : 10\n",
    "}\n",
    "plt.rc(\"font\", **font_settings)\n",
    "\n",
    "# tccounts\n",
    "fig, ax = plt.subplots(figsize=(8,8))\n",
    "sns.heatmap(tccounts.corr(),\n",
    "            # condition w/ rep label\n",
    "            xticklabels=[i.split('-', 1)[-1].rpartition(\"_\")[0] for i in tccounts.columns],\n",
    "            yticklabels=[i.split('-', 1)[-1].rpartition(\"_\")[0] for i in tccounts.columns],\n",
    "            ax=ax, cmap=\"rocket\")#, vmin=0.9, vmax=1)\n",
    "plt.title(project.replace(\"_\", \" \").split(\" v\")[0]+\"\\n\"+\"Replicate similarity: TC counts\")\n",
    "plt.tight_layout()\n",
    "\n",
    "plt.savefig(res_dir+'plots/'+project+'_similarity_replicates_sorted_tccounts.pdf', dpi=300)\n",
    "\n",
    "print(\"Replicate similarity plot saved to: {}\".format(res_dir+'plots/'+project+\n",
    "                                                      '_similarity_replicates_sorted_tccounts.pdf'))"
   ]
  },
  {
   "cell_type": "code",
   "execution_count": 122,
   "id": "ff060d20",
   "metadata": {
    "hidden": true
   },
   "outputs": [
    {
     "name": "stdout",
     "output_type": "stream",
     "text": [
      "Replicate similarity plot saved to: ../results/slamseq_mebendazole_v1/plots/mebendazole_v1_similarity_replicates_sorted_readcounts.pdf\n"
     ]
    },
    {
     "data": {
      "image/png": "[encoded data removed]",
      "text/plain": [
       "<Figure size 576x576 with 2 Axes>"
      ]
     },
     "metadata": {
      "needs_background": "light"
     },
     "output_type": "display_data"
    }
   ],
   "source": [
    "%matplotlib inline\n",
    "\n",
    "# readcounts\n",
    "fig, ax = plt.subplots(figsize=(8,8))\n",
    "sns.heatmap(readcounts.corr(), \n",
    "            # condition w/ rep label\n",
    "            xticklabels=[i.split('-', 1)[-1].rpartition(\"_\")[0] for i in tccounts.columns],\n",
    "            yticklabels=[i.split('-', 1)[-1].rpartition(\"_\")[0] for i in tccounts.columns],\n",
    "            ax=ax) #, vmin=0.985, vmax=1)\n",
    "plt.title(project.replace(\"_\", \" \").split(\" v\")[0]+\"\\n\"+\"Replicate similarity: read counts\")\n",
    "plt.tight_layout()\n",
    "\n",
    "plt.savefig(res_dir+'plots/'+project+'_similarity_replicates_sorted_readcounts.pdf', dpi=300)\n",
    "\n",
    "print(\"Replicate similarity plot saved to: {}\".format(res_dir+'plots/'+project+\n",
    "                                                      '_similarity_replicates_sorted_readcounts.pdf'))"
   ]
  },
  {
   "cell_type": "markdown",
   "id": "1e74f8e3",
   "metadata": {
    "heading_collapsed": true
   },
   "source": [
    "# DESeq analysis"
   ]
  },
  {
   "cell_type": "code",
   "execution_count": 123,
   "id": "2ea11e89",
   "metadata": {
    "hidden": true
   },
   "outputs": [
    {
     "name": "stdout",
     "output_type": "stream",
     "text": [
      "../results/slamseq_mebendazole_v1/\n"
     ]
    }
   ],
   "source": [
    "res_dir = \"../results/slamseq_{}/\".format(project)\n",
    "print(res_dir)"
   ]
  },
  {
   "cell_type": "code",
   "execution_count": 124,
   "id": "d7b0d0c3",
   "metadata": {
    "hidden": true
   },
   "outputs": [
    {
     "data": {
      "text/html": [
       "<div>\n",
       "<style scoped>\n",
       "    .dataframe tbody tr th:only-of-type {\n",
       "        vertical-align: middle;\n",
       "    }\n",
       "\n",
       "    .dataframe tbody tr th {\n",
       "        vertical-align: top;\n",
       "    }\n",
       "\n",
       "    .dataframe thead th {\n",
       "        text-align: right;\n",
       "    }\n",
       "</style>\n",
       "<table border=\"1\" class=\"dataframe\">\n",
       "  <thead>\n",
       "    <tr style=\"text-align: right;\">\n",
       "      <th></th>\n",
       "      <th>mr522-MV411-DMSO-r1_tcount</th>\n",
       "      <th>mr523-MV411-DMSO-r2_tcount</th>\n",
       "      <th>mr524-MV411-DMSO-r3_tcount</th>\n",
       "      <th>mr525-MV411-DMSO-r4_tcount</th>\n",
       "      <th>mr526-MV411-DMSO-r5_tcount</th>\n",
       "      <th>mr527-MV411-Mebendazole-r1_tcount</th>\n",
       "      <th>mr528-MV411-Mebendazole-r2_tcount</th>\n",
       "      <th>mr529-MV411-Mebendazole-r3_tcount</th>\n",
       "      <th>mr530-MV411-Mebendazole-r4_tcount</th>\n",
       "      <th>mr531-MV411-Mebendazole-r5_tcount</th>\n",
       "    </tr>\n",
       "  </thead>\n",
       "  <tbody>\n",
       "    <tr>\n",
       "      <th>A1BG</th>\n",
       "      <td>0</td>\n",
       "      <td>0</td>\n",
       "      <td>1</td>\n",
       "      <td>5</td>\n",
       "      <td>1</td>\n",
       "      <td>0</td>\n",
       "      <td>0</td>\n",
       "      <td>2</td>\n",
       "      <td>3</td>\n",
       "      <td>0</td>\n",
       "    </tr>\n",
       "  </tbody>\n",
       "</table>\n",
       "</div>"
      ],
      "text/plain": [
       "      mr522-MV411-DMSO-r1_tcount  mr523-MV411-DMSO-r2_tcount  \\\n",
       "A1BG                           0                           0   \n",
       "\n",
       "      mr524-MV411-DMSO-r3_tcount  mr525-MV411-DMSO-r4_tcount  \\\n",
       "A1BG                           1                           5   \n",
       "\n",
       "      mr526-MV411-DMSO-r5_tcount  mr527-MV411-Mebendazole-r1_tcount  \\\n",
       "A1BG                           1                                  0   \n",
       "\n",
       "      mr528-MV411-Mebendazole-r2_tcount  mr529-MV411-Mebendazole-r3_tcount  \\\n",
       "A1BG                                  0                                  2   \n",
       "\n",
       "      mr530-MV411-Mebendazole-r4_tcount  mr531-MV411-Mebendazole-r5_tcount  \n",
       "A1BG                                  3                                  0  "
      ]
     },
     "execution_count": 124,
     "metadata": {},
     "output_type": "execute_result"
    }
   ],
   "source": [
    "readcounts.iloc[:1]"
   ]
  },
  {
   "cell_type": "code",
   "execution_count": 125,
   "id": "733514be",
   "metadata": {
    "hidden": true
   },
   "outputs": [],
   "source": [
    "# make genes col\n",
    "readcounts[\"genes\"] = readcounts.index\n",
    "readcounts = readcounts.reset_index(drop=True)\n",
    "\n",
    "tccounts[\"genes\"] = tccounts.index\n",
    "tccounts = tccounts.reset_index(drop=True)"
   ]
  },
  {
   "cell_type": "code",
   "execution_count": 126,
   "id": "cc3350e1",
   "metadata": {
    "hidden": true
   },
   "outputs": [
    {
     "data": {
      "text/html": [
       "<div>\n",
       "<style scoped>\n",
       "    .dataframe tbody tr th:only-of-type {\n",
       "        vertical-align: middle;\n",
       "    }\n",
       "\n",
       "    .dataframe tbody tr th {\n",
       "        vertical-align: top;\n",
       "    }\n",
       "\n",
       "    .dataframe thead th {\n",
       "        text-align: right;\n",
       "    }\n",
       "</style>\n",
       "<table border=\"1\" class=\"dataframe\">\n",
       "  <thead>\n",
       "    <tr style=\"text-align: right;\">\n",
       "      <th></th>\n",
       "      <th>mr522-MV411-DMSO-r1_tcount</th>\n",
       "      <th>mr523-MV411-DMSO-r2_tcount</th>\n",
       "      <th>mr524-MV411-DMSO-r3_tcount</th>\n",
       "      <th>mr525-MV411-DMSO-r4_tcount</th>\n",
       "      <th>mr526-MV411-DMSO-r5_tcount</th>\n",
       "      <th>mr527-MV411-Mebendazole-r1_tcount</th>\n",
       "      <th>mr528-MV411-Mebendazole-r2_tcount</th>\n",
       "      <th>mr529-MV411-Mebendazole-r3_tcount</th>\n",
       "      <th>mr530-MV411-Mebendazole-r4_tcount</th>\n",
       "      <th>mr531-MV411-Mebendazole-r5_tcount</th>\n",
       "      <th>genes</th>\n",
       "    </tr>\n",
       "  </thead>\n",
       "  <tbody>\n",
       "    <tr>\n",
       "      <th>0</th>\n",
       "      <td>0</td>\n",
       "      <td>0</td>\n",
       "      <td>1</td>\n",
       "      <td>5</td>\n",
       "      <td>1</td>\n",
       "      <td>0</td>\n",
       "      <td>0</td>\n",
       "      <td>2</td>\n",
       "      <td>3</td>\n",
       "      <td>0</td>\n",
       "      <td>A1BG</td>\n",
       "    </tr>\n",
       "  </tbody>\n",
       "</table>\n",
       "</div>"
      ],
      "text/plain": [
       "   mr522-MV411-DMSO-r1_tcount  mr523-MV411-DMSO-r2_tcount  \\\n",
       "0                           0                           0   \n",
       "\n",
       "   mr524-MV411-DMSO-r3_tcount  mr525-MV411-DMSO-r4_tcount  \\\n",
       "0                           1                           5   \n",
       "\n",
       "   mr526-MV411-DMSO-r5_tcount  mr527-MV411-Mebendazole-r1_tcount  \\\n",
       "0                           1                                  0   \n",
       "\n",
       "   mr528-MV411-Mebendazole-r2_tcount  mr529-MV411-Mebendazole-r3_tcount  \\\n",
       "0                                  0                                  2   \n",
       "\n",
       "   mr530-MV411-Mebendazole-r4_tcount  mr531-MV411-Mebendazole-r5_tcount genes  \n",
       "0                                  3                                  0  A1BG  "
      ]
     },
     "execution_count": 126,
     "metadata": {},
     "output_type": "execute_result"
    }
   ],
   "source": [
    "readcounts.iloc[:1]"
   ]
  },
  {
   "cell_type": "code",
   "execution_count": 127,
   "id": "3968cf13",
   "metadata": {
    "hidden": true
   },
   "outputs": [
    {
     "data": {
      "text/plain": [
       "['MV411-DMSO-r1',\n",
       " 'MV411-DMSO-r2',\n",
       " 'MV411-DMSO-r3',\n",
       " 'MV411-DMSO-r4',\n",
       " 'MV411-DMSO-r5',\n",
       " 'MV411-Mebendazole-r1',\n",
       " 'MV411-Mebendazole-r2',\n",
       " 'MV411-Mebendazole-r3',\n",
       " 'MV411-Mebendazole-r4',\n",
       " 'MV411-Mebendazole-r5',\n",
       " 'genes']"
      ]
     },
     "execution_count": 127,
     "metadata": {},
     "output_type": "execute_result"
    }
   ],
   "source": [
    "[i.split('-', 1)[-1].split(\"_tc\")[0] for i in tccounts.columns]"
   ]
  },
  {
   "cell_type": "code",
   "execution_count": 129,
   "id": "92d1f520",
   "metadata": {
    "hidden": true
   },
   "outputs": [
    {
     "data": {
      "text/html": [
       "<div>\n",
       "<style scoped>\n",
       "    .dataframe tbody tr th:only-of-type {\n",
       "        vertical-align: middle;\n",
       "    }\n",
       "\n",
       "    .dataframe tbody tr th {\n",
       "        vertical-align: top;\n",
       "    }\n",
       "\n",
       "    .dataframe thead th {\n",
       "        text-align: right;\n",
       "    }\n",
       "</style>\n",
       "<table border=\"1\" class=\"dataframe\">\n",
       "  <thead>\n",
       "    <tr style=\"text-align: right;\">\n",
       "      <th></th>\n",
       "      <th>col</th>\n",
       "      <th>experiment</th>\n",
       "      <th>cond</th>\n",
       "      <th>time</th>\n",
       "      <th>treatment</th>\n",
       "      <th>rep</th>\n",
       "      <th>drop</th>\n",
       "    </tr>\n",
       "  </thead>\n",
       "  <tbody>\n",
       "    <tr>\n",
       "      <th>0</th>\n",
       "      <td>mr522-MV411-DMSO-r1_tcount</td>\n",
       "      <td>MV411-DMSO</td>\n",
       "      <td>DMSO</td>\n",
       "      <td>1h</td>\n",
       "      <td>DMSO</td>\n",
       "      <td>r1</td>\n",
       "      <td>False</td>\n",
       "    </tr>\n",
       "    <tr>\n",
       "      <th>1</th>\n",
       "      <td>mr523-MV411-DMSO-r2_tcount</td>\n",
       "      <td>MV411-DMSO</td>\n",
       "      <td>DMSO</td>\n",
       "      <td>1h</td>\n",
       "      <td>DMSO</td>\n",
       "      <td>r2</td>\n",
       "      <td>False</td>\n",
       "    </tr>\n",
       "    <tr>\n",
       "      <th>2</th>\n",
       "      <td>mr524-MV411-DMSO-r3_tcount</td>\n",
       "      <td>MV411-DMSO</td>\n",
       "      <td>DMSO</td>\n",
       "      <td>1h</td>\n",
       "      <td>DMSO</td>\n",
       "      <td>r3</td>\n",
       "      <td>False</td>\n",
       "    </tr>\n",
       "    <tr>\n",
       "      <th>3</th>\n",
       "      <td>mr525-MV411-DMSO-r4_tcount</td>\n",
       "      <td>MV411-DMSO</td>\n",
       "      <td>DMSO</td>\n",
       "      <td>1h</td>\n",
       "      <td>DMSO</td>\n",
       "      <td>r4</td>\n",
       "      <td>False</td>\n",
       "    </tr>\n",
       "    <tr>\n",
       "      <th>4</th>\n",
       "      <td>mr526-MV411-DMSO-r5_tcount</td>\n",
       "      <td>MV411-DMSO</td>\n",
       "      <td>DMSO</td>\n",
       "      <td>1h</td>\n",
       "      <td>DMSO</td>\n",
       "      <td>r5</td>\n",
       "      <td>False</td>\n",
       "    </tr>\n",
       "    <tr>\n",
       "      <th>5</th>\n",
       "      <td>mr527-MV411-Mebendazole-r1_tcount</td>\n",
       "      <td>MV411-Mebendazole</td>\n",
       "      <td>Mebendazole</td>\n",
       "      <td>1h</td>\n",
       "      <td>Mebendazole</td>\n",
       "      <td>r1</td>\n",
       "      <td>False</td>\n",
       "    </tr>\n",
       "    <tr>\n",
       "      <th>6</th>\n",
       "      <td>mr528-MV411-Mebendazole-r2_tcount</td>\n",
       "      <td>MV411-Mebendazole</td>\n",
       "      <td>Mebendazole</td>\n",
       "      <td>1h</td>\n",
       "      <td>Mebendazole</td>\n",
       "      <td>r2</td>\n",
       "      <td>False</td>\n",
       "    </tr>\n",
       "    <tr>\n",
       "      <th>7</th>\n",
       "      <td>mr529-MV411-Mebendazole-r3_tcount</td>\n",
       "      <td>MV411-Mebendazole</td>\n",
       "      <td>Mebendazole</td>\n",
       "      <td>1h</td>\n",
       "      <td>Mebendazole</td>\n",
       "      <td>r3</td>\n",
       "      <td>False</td>\n",
       "    </tr>\n",
       "    <tr>\n",
       "      <th>8</th>\n",
       "      <td>mr530-MV411-Mebendazole-r4_tcount</td>\n",
       "      <td>MV411-Mebendazole</td>\n",
       "      <td>Mebendazole</td>\n",
       "      <td>1h</td>\n",
       "      <td>Mebendazole</td>\n",
       "      <td>r4</td>\n",
       "      <td>False</td>\n",
       "    </tr>\n",
       "    <tr>\n",
       "      <th>9</th>\n",
       "      <td>mr531-MV411-Mebendazole-r5_tcount</td>\n",
       "      <td>MV411-Mebendazole</td>\n",
       "      <td>Mebendazole</td>\n",
       "      <td>1h</td>\n",
       "      <td>Mebendazole</td>\n",
       "      <td>r5</td>\n",
       "      <td>False</td>\n",
       "    </tr>\n",
       "  </tbody>\n",
       "</table>\n",
       "</div>"
      ],
      "text/plain": [
       "                                 col         experiment         cond time  \\\n",
       "0         mr522-MV411-DMSO-r1_tcount         MV411-DMSO         DMSO   1h   \n",
       "1         mr523-MV411-DMSO-r2_tcount         MV411-DMSO         DMSO   1h   \n",
       "2         mr524-MV411-DMSO-r3_tcount         MV411-DMSO         DMSO   1h   \n",
       "3         mr525-MV411-DMSO-r4_tcount         MV411-DMSO         DMSO   1h   \n",
       "4         mr526-MV411-DMSO-r5_tcount         MV411-DMSO         DMSO   1h   \n",
       "5  mr527-MV411-Mebendazole-r1_tcount  MV411-Mebendazole  Mebendazole   1h   \n",
       "6  mr528-MV411-Mebendazole-r2_tcount  MV411-Mebendazole  Mebendazole   1h   \n",
       "7  mr529-MV411-Mebendazole-r3_tcount  MV411-Mebendazole  Mebendazole   1h   \n",
       "8  mr530-MV411-Mebendazole-r4_tcount  MV411-Mebendazole  Mebendazole   1h   \n",
       "9  mr531-MV411-Mebendazole-r5_tcount  MV411-Mebendazole  Mebendazole   1h   \n",
       "\n",
       "     treatment rep   drop  \n",
       "0         DMSO  r1  False  \n",
       "1         DMSO  r2  False  \n",
       "2         DMSO  r3  False  \n",
       "3         DMSO  r4  False  \n",
       "4         DMSO  r5  False  \n",
       "5  Mebendazole  r1  False  \n",
       "6  Mebendazole  r2  False  \n",
       "7  Mebendazole  r3  False  \n",
       "8  Mebendazole  r4  False  \n",
       "9  Mebendazole  r5  False  "
      ]
     },
     "execution_count": 129,
     "metadata": {},
     "output_type": "execute_result"
    }
   ],
   "source": [
    "# col info\n",
    "cols = tccounts.columns[:-1]\n",
    "experiments = [x.split(\"-\", 1)[1].rsplit(\"-\", 1)[0] for x in cols]\n",
    "conds = [x.split(\"-\", 2)[-1].rsplit(\"-\", 1)[0] for x in cols]\n",
    "time = [\"1h\" for x in conds]\n",
    "treatment = [x.split(\"_\")[0] for x in conds]\n",
    "rep = [x.split(\"_\")[-2].split(\"-\")[-1] for x in cols]\n",
    "drop = [False for x in cols]\n",
    "#[True if any(sample in x for sample in drop_samples) else False for x in cols]\n",
    "\n",
    "# experimental design\n",
    "exp_design = pd.DataFrame(list(zip(cols, experiments, conds, time, treatment, rep, drop)), \n",
    "                          columns=[\"col\", \"experiment\", \"cond\", \"time\", \"treatment\", \"rep\", \"drop\"])\n",
    "\n",
    "exp_design"
   ]
  },
  {
   "cell_type": "markdown",
   "id": "92d082e2",
   "metadata": {
    "hidden": true
   },
   "source": [
    "## make design matrix"
   ]
  },
  {
   "cell_type": "code",
   "execution_count": 132,
   "id": "d48ec071",
   "metadata": {
    "hidden": true
   },
   "outputs": [],
   "source": [
    "# DMSO vs Mebendazole\n",
    "version = \"v1\"\n",
    "var_name = \"treatment\"\n",
    "var1 = \"DMSO\"\n",
    "var2 = \"Mebendazole\""
   ]
  },
  {
   "cell_type": "code",
   "execution_count": 130,
   "id": "8d883f7e",
   "metadata": {
    "hidden": true
   },
   "outputs": [],
   "source": [
    "# tccounts\n",
    "tccountsGene = tccounts[tccounts.columns[:-1]]\n",
    "\n",
    "# readcounts\n",
    "readcountsGene = readcounts[readcounts.columns[:-1]]"
   ]
  },
  {
   "cell_type": "code",
   "execution_count": 134,
   "id": "55631b33",
   "metadata": {
    "hidden": true
   },
   "outputs": [],
   "source": [
    "# get just var data\n",
    "# remove dropped reps\n",
    "var1_cols = [1 if (exp_design.iloc[idx][var_name] == var1) and (exp_design.iloc[idx][\"drop\"] == False) \n",
    "             else 0 for idx in range(exp_design.shape[0])]\n",
    "\n",
    "var2_cols = [1 if (exp_design.iloc[idx][\"treatment\"] == var2) and (exp_design.iloc[idx][\"drop\"] == False) \n",
    "             else 0 for idx in range(exp_design.shape[0])]\n",
    "\n",
    "var_cols = [x+y for x,y in zip(var1_cols, var2_cols)]"
   ]
  },
  {
   "cell_type": "code",
   "execution_count": 135,
   "id": "c9aa1d2f",
   "metadata": {
    "hidden": true
   },
   "outputs": [],
   "source": [
    "# all columns\n",
    "design = pd.DataFrame(index= [i.replace(\"-\",\".\") for i in tccountsGene.columns], \n",
    "                      columns=[var1, var2], \n",
    "                      data=np.array([var1_cols, var2_cols], dtype=bool).T)"
   ]
  },
  {
   "cell_type": "code",
   "execution_count": 136,
   "id": "b285b43b",
   "metadata": {
    "hidden": true
   },
   "outputs": [
    {
     "data": {
      "text/html": [
       "<div>\n",
       "<style scoped>\n",
       "    .dataframe tbody tr th:only-of-type {\n",
       "        vertical-align: middle;\n",
       "    }\n",
       "\n",
       "    .dataframe tbody tr th {\n",
       "        vertical-align: top;\n",
       "    }\n",
       "\n",
       "    .dataframe thead th {\n",
       "        text-align: right;\n",
       "    }\n",
       "</style>\n",
       "<table border=\"1\" class=\"dataframe\">\n",
       "  <thead>\n",
       "    <tr style=\"text-align: right;\">\n",
       "      <th></th>\n",
       "      <th>DMSO</th>\n",
       "      <th>Mebendazole</th>\n",
       "    </tr>\n",
       "  </thead>\n",
       "  <tbody>\n",
       "    <tr>\n",
       "      <th>mr522.MV411.DMSO.r1_tcount</th>\n",
       "      <td>True</td>\n",
       "      <td>False</td>\n",
       "    </tr>\n",
       "    <tr>\n",
       "      <th>mr523.MV411.DMSO.r2_tcount</th>\n",
       "      <td>True</td>\n",
       "      <td>False</td>\n",
       "    </tr>\n",
       "    <tr>\n",
       "      <th>mr524.MV411.DMSO.r3_tcount</th>\n",
       "      <td>True</td>\n",
       "      <td>False</td>\n",
       "    </tr>\n",
       "    <tr>\n",
       "      <th>mr525.MV411.DMSO.r4_tcount</th>\n",
       "      <td>True</td>\n",
       "      <td>False</td>\n",
       "    </tr>\n",
       "    <tr>\n",
       "      <th>mr526.MV411.DMSO.r5_tcount</th>\n",
       "      <td>True</td>\n",
       "      <td>False</td>\n",
       "    </tr>\n",
       "    <tr>\n",
       "      <th>mr527.MV411.Mebendazole.r1_tcount</th>\n",
       "      <td>False</td>\n",
       "      <td>True</td>\n",
       "    </tr>\n",
       "    <tr>\n",
       "      <th>mr528.MV411.Mebendazole.r2_tcount</th>\n",
       "      <td>False</td>\n",
       "      <td>True</td>\n",
       "    </tr>\n",
       "    <tr>\n",
       "      <th>mr529.MV411.Mebendazole.r3_tcount</th>\n",
       "      <td>False</td>\n",
       "      <td>True</td>\n",
       "    </tr>\n",
       "    <tr>\n",
       "      <th>mr530.MV411.Mebendazole.r4_tcount</th>\n",
       "      <td>False</td>\n",
       "      <td>True</td>\n",
       "    </tr>\n",
       "    <tr>\n",
       "      <th>mr531.MV411.Mebendazole.r5_tcount</th>\n",
       "      <td>False</td>\n",
       "      <td>True</td>\n",
       "    </tr>\n",
       "  </tbody>\n",
       "</table>\n",
       "</div>"
      ],
      "text/plain": [
       "                                    DMSO  Mebendazole\n",
       "mr522.MV411.DMSO.r1_tcount          True        False\n",
       "mr523.MV411.DMSO.r2_tcount          True        False\n",
       "mr524.MV411.DMSO.r3_tcount          True        False\n",
       "mr525.MV411.DMSO.r4_tcount          True        False\n",
       "mr526.MV411.DMSO.r5_tcount          True        False\n",
       "mr527.MV411.Mebendazole.r1_tcount  False         True\n",
       "mr528.MV411.Mebendazole.r2_tcount  False         True\n",
       "mr529.MV411.Mebendazole.r3_tcount  False         True\n",
       "mr530.MV411.Mebendazole.r4_tcount  False         True\n",
       "mr531.MV411.Mebendazole.r5_tcount  False         True"
      ]
     },
     "execution_count": 136,
     "metadata": {},
     "output_type": "execute_result"
    }
   ],
   "source": [
    "design"
   ]
  },
  {
   "cell_type": "code",
   "execution_count": 137,
   "id": "c7f7b69a",
   "metadata": {
    "hidden": true
   },
   "outputs": [],
   "source": [
    "# genes as first column\n",
    "tccountsGene = tccounts[['genes']+list(tccountsGene.columns)]\n",
    "readcountsGene = readcounts[['genes']+list(readcountsGene.columns)]"
   ]
  },
  {
   "cell_type": "markdown",
   "id": "0c304528",
   "metadata": {
    "hidden": true
   },
   "source": [
    "## ERCC samplewise scaled"
   ]
  },
  {
   "cell_type": "code",
   "execution_count": 138,
   "id": "57fdf1ca",
   "metadata": {
    "hidden": true
   },
   "outputs": [],
   "source": [
    "scaling=\"ERCCsamplewise\""
   ]
  },
  {
   "cell_type": "markdown",
   "id": "5031d12f",
   "metadata": {
    "hidden": true
   },
   "source": [
    "__make DESeq object__"
   ]
  },
  {
   "cell_type": "code",
   "execution_count": 139,
   "id": "8470b76e",
   "metadata": {
    "hidden": true
   },
   "outputs": [
    {
     "name": "stdout",
     "output_type": "stream",
     "text": [
      "you need to have R installed with the DESeq2 library installed\n",
      "3.4.5\n"
     ]
    }
   ],
   "source": [
    "# tccounts DESeq gene object\n",
    "# just var data\n",
    "deseqGene_tc = pyDESeq2.pyDESeq2(count_matrix=tccountsGene[tccountsGene.columns[np.array([1]+var_cols, bool)]], \n",
    "                                 design_matrix=design[np.array(var_cols, bool)],\n",
    "                                 design_formula=\"~{} - {}\".format(var1, var2),\n",
    "                                 gene_column=\"genes\")"
   ]
  },
  {
   "cell_type": "code",
   "execution_count": 140,
   "id": "87d567d3",
   "metadata": {
    "hidden": true
   },
   "outputs": [
    {
     "name": "stdout",
     "output_type": "stream",
     "text": [
      "you need to have R installed with the DESeq2 library installed\n",
      "3.4.5\n"
     ]
    }
   ],
   "source": [
    "# readcounts DESeq gene object\n",
    "deseqGene_read = pyDESeq2.pyDESeq2(count_matrix=readcountsGene[readcountsGene.columns[np.array([1]+var_cols, bool)]], \n",
    "                                   design_matrix=design[np.array(var_cols, bool)],\n",
    "                                   design_formula=\"~{} - {}\".format(var1, var2),\n",
    "                                   gene_column=\"genes\")"
   ]
  },
  {
   "cell_type": "markdown",
   "id": "343579de",
   "metadata": {
    "hidden": true
   },
   "source": [
    "__estimate & modify size factors__"
   ]
  },
  {
   "cell_type": "code",
   "execution_count": 141,
   "id": "a67a0ac2",
   "metadata": {
    "hidden": true
   },
   "outputs": [],
   "source": [
    "# tccounts\n",
    "deseqGene_tc.run_estimate_size_factors(geoMeans = np.exp(np.mean(np.log(\n",
    "    readcounts[tccountsGene.columns[[False]+design[var1].tolist()]].values+1), 1)))\n",
    "\n",
    "# readcounts\n",
    "deseqGene_read.run_estimate_size_factors()"
   ]
  },
  {
   "cell_type": "code",
   "execution_count": 142,
   "id": "3fe93fc5",
   "metadata": {
    "collapsed": true,
    "hidden": true
   },
   "outputs": [
    {
     "data": {
      "text/plain": [
       "0\n",
       "ERCC_mr522-MV411-DMSO-r1_filtered.bam           0.263862\n",
       "ERCC_mr523-MV411-DMSO-r2_filtered.bam           0.242204\n",
       "ERCC_mr524-MV411-DMSO-r3_filtered.bam           0.264608\n",
       "ERCC_mr525-MV411-DMSO-r4_filtered.bam           0.281616\n",
       "ERCC_mr526-MV411-DMSO-r5_filtered.bam           0.290784\n",
       "ERCC_mr527-MV411-Mebendazole-r1_filtered.bam    0.281510\n",
       "ERCC_mr528-MV411-Mebendazole-r2_filtered.bam    0.276935\n",
       "ERCC_mr529-MV411-Mebendazole-r3_filtered.bam    0.237529\n",
       "ERCC_mr530-MV411-Mebendazole-r4_filtered.bam    0.274919\n",
       "ERCC_mr531-MV411-Mebendazole-r5_filtered.bam    0.256419\n",
       "Name: 1, dtype: float64"
      ]
     },
     "execution_count": 142,
     "metadata": {},
     "output_type": "execute_result"
    }
   ],
   "source": [
    "# read in ERCC pseudocounts\n",
    "res = pd.read_csv(res_dir+\"/\"+project+\"_scaling_factors.csv\", index_col=0, header=None, squeeze=True)\n",
    "\n",
    "# select var values\n",
    "res = res[np.array(var_cols, dtype=bool)]\n",
    "res"
   ]
  },
  {
   "cell_type": "markdown",
   "id": "3b9454a3",
   "metadata": {
    "hidden": true
   },
   "source": [
    "__modify size factors__\n",
    "<br>VHL size factor * adjusted VHL res (VHL res per sample / average DMSO res)"
   ]
  },
  {
   "cell_type": "code",
   "execution_count": 143,
   "id": "f64a2548",
   "metadata": {
    "hidden": true
   },
   "outputs": [],
   "source": [
    "# tccounts\n",
    "sizeFact = deseqGene_tc.getSizeFactors()\n",
    "sizeFact[sum(var1_cols):] = sizeFact[sum(var1_cols):] * (res[[i for i in res.index if '-'+str(var2) in i]].values/\n",
    "                                                         res[[i for i in res.index if '-'+str(var1) in i]].values.mean())\n",
    "deseqGene_tc.setSizeFactors(sizeFact)"
   ]
  },
  {
   "cell_type": "code",
   "execution_count": 144,
   "id": "7237cf7f",
   "metadata": {
    "hidden": true
   },
   "outputs": [],
   "source": [
    "# readcounts\n",
    "sizeFact = deseqGene_read.getSizeFactors()\n",
    "sizeFact[sum(var1_cols):] = sizeFact[sum(var1_cols):] * (res[[i for i in res.index if '-'+str(var2) in i]].values/\n",
    "                                                         res[[i for i in res.index if '-'+str(var1) in i]].values.mean())\n",
    "deseqGene_read.setSizeFactors(sizeFact)"
   ]
  },
  {
   "cell_type": "markdown",
   "id": "1e69813b",
   "metadata": {
    "hidden": true
   },
   "source": [
    "__run it__"
   ]
  },
  {
   "cell_type": "code",
   "execution_count": 145,
   "id": "36024468",
   "metadata": {
    "hidden": true
   },
   "outputs": [
    {
     "name": "stderr",
     "output_type": "stream",
     "text": [
      "R[write to console]: using pre-existing size factors\n",
      "\n",
      "R[write to console]: estimating dispersions\n",
      "\n",
      "R[write to console]: gene-wise dispersion estimates\n",
      "\n",
      "R[write to console]: mean-dispersion relationship\n",
      "\n",
      "R[write to console]: final dispersion estimates\n",
      "\n",
      "R[write to console]: fitting model and testing\n",
      "\n"
     ]
    },
    {
     "name": "stdout",
     "output_type": "stream",
     "text": [
      "CPU times: user 6.97 s, sys: 924 ms, total: 7.9 s\n",
      "Wall time: 6.47 s\n"
     ]
    }
   ],
   "source": [
    "%%time\n",
    "\n",
    "# tccounts\n",
    "deseqGene_tc.run_deseq()\n",
    "deseqGene_tc.get_deseq_result()\n",
    "\n",
    "resGene_tc = deseqGene_tc.deseq_result\n",
    "resGene_tc.pvalue = np.nan_to_num(np.array(resGene_tc.pvalue), 1)\n",
    "resGene_tc.log2FoldChange = np.nan_to_num(np.array(resGene_tc.log2FoldChange), 0)\n",
    "resGene_tc.log2FoldChange = -resGene_tc.log2FoldChange\n",
    "resGene_tc[\"gene_id\"] = resGene_tc.genes"
   ]
  },
  {
   "cell_type": "code",
   "execution_count": 146,
   "id": "f1d75209",
   "metadata": {
    "hidden": true
   },
   "outputs": [
    {
     "name": "stderr",
     "output_type": "stream",
     "text": [
      "R[write to console]: using pre-existing size factors\n",
      "\n",
      "R[write to console]: estimating dispersions\n",
      "\n",
      "R[write to console]: gene-wise dispersion estimates\n",
      "\n",
      "R[write to console]: mean-dispersion relationship\n",
      "\n",
      "R[write to console]: final dispersion estimates\n",
      "\n",
      "R[write to console]: fitting model and testing\n",
      "\n"
     ]
    },
    {
     "name": "stdout",
     "output_type": "stream",
     "text": [
      "CPU times: user 7.38 s, sys: 1.75 s, total: 9.13 s\n",
      "Wall time: 5.67 s\n"
     ]
    }
   ],
   "source": [
    "%%time\n",
    "\n",
    "#readcounts\n",
    "deseqGene_read.run_deseq()\n",
    "deseqGene_read.get_deseq_result()\n",
    "\n",
    "resGene_read = deseqGene_read.deseq_result\n",
    "resGene_read.pvalue = np.nan_to_num(np.array(resGene_read.pvalue), 1)\n",
    "resGene_read.log2FoldChange = np.nan_to_num(np.array(resGene_read.log2FoldChange), 0)\n",
    "resGene_read.log2FoldChange = -resGene_read.log2FoldChange\n",
    "resGene_read[\"gene_id\"] = resGene_read.genes"
   ]
  },
  {
   "cell_type": "markdown",
   "id": "ed1792fe",
   "metadata": {
    "hidden": true
   },
   "source": [
    "__save DESeq results__"
   ]
  },
  {
   "cell_type": "code",
   "execution_count": 147,
   "id": "f4bf058b",
   "metadata": {
    "hidden": true
   },
   "outputs": [],
   "source": [
    "# check all genes are in output\n",
    "if not tccounts.shape[0] == resGene_tc.shape[0]:\n",
    "    raise ValueError(\"Results do not have the same number of genes as counts.\")\n",
    "\n",
    "if not tccounts[\"genes\"].isin(resGene_tc[\"genes\"]).all():\n",
    "    raise ValueError(\"Results do not have the same genes as counts.\")"
   ]
  },
  {
   "cell_type": "code",
   "execution_count": 148,
   "id": "aa6f6cc6",
   "metadata": {
    "hidden": true
   },
   "outputs": [
    {
     "data": {
      "text/plain": [
       "'mebendazole_v1_DMSO_Mebendazole_ERCCsamplewise_0_5_deseq_tccounts.csv'"
      ]
     },
     "execution_count": 148,
     "metadata": {},
     "output_type": "execute_result"
    }
   ],
   "source": [
    "\"{}_{}_deseq_tccounts.csv\".format(project, \"_\".join(\n",
    "    filter(None, [var1, var2, scaling, str(minvar_toremove), str(mincount_toremove)])))"
   ]
  },
  {
   "cell_type": "code",
   "execution_count": 149,
   "id": "3955b3b0",
   "metadata": {
    "hidden": true
   },
   "outputs": [
    {
     "name": "stdout",
     "output_type": "stream",
     "text": [
      "Saved DESeq results to: mebendazole_v1_DMSO_Mebendazole_ERCCsamplewise_0_5_deseq_tccounts.csv\n"
     ]
    }
   ],
   "source": [
    "# tccounts\n",
    "deseq_res_file = \"{}_{}_deseq_tccounts.csv\".format(project, \"_\".join(\n",
    "    filter(None, [var1, var2, scaling, str(minvar_toremove), str(mincount_toremove)])))\n",
    "resGene_tc.to_csv(\"{}/{}\".format(res_dir, deseq_res_file), index=False)\n",
    "\n",
    "print(\"Saved DESeq results to: {}\".format(deseq_res_file))"
   ]
  },
  {
   "cell_type": "code",
   "execution_count": 150,
   "id": "85cf84e9",
   "metadata": {
    "hidden": true
   },
   "outputs": [
    {
     "name": "stdout",
     "output_type": "stream",
     "text": [
      "Saved DESeq results to: mebendazole_v1_DMSO_Mebendazole_ERCCsamplewise_0_5_deseq_readcounts.csv\n"
     ]
    }
   ],
   "source": [
    "# readcounts\n",
    "deseq_res_file = \"{}_{}_deseq_readcounts.csv\".format(project, \"_\".join(\n",
    "    filter(None, [var1, var2, scaling, str(minvar_toremove), str(mincount_toremove)])))\n",
    "resGene_read.to_csv(\"{}/{}\".format(res_dir, deseq_res_file), index=False)\n",
    "\n",
    "print(\"Saved DESeq results to: {}\".format(deseq_res_file))"
   ]
  },
  {
   "cell_type": "markdown",
   "id": "2a98b152",
   "metadata": {
    "hidden": true
   },
   "source": [
    "## Unscaled"
   ]
  },
  {
   "cell_type": "code",
   "execution_count": 151,
   "id": "f65e5c31",
   "metadata": {
    "hidden": true
   },
   "outputs": [],
   "source": [
    "scaling = None"
   ]
  },
  {
   "cell_type": "markdown",
   "id": "d9f7bae4",
   "metadata": {
    "hidden": true
   },
   "source": [
    "__make DESeq object__"
   ]
  },
  {
   "cell_type": "code",
   "execution_count": 152,
   "id": "bd7f301e",
   "metadata": {
    "hidden": true
   },
   "outputs": [
    {
     "name": "stdout",
     "output_type": "stream",
     "text": [
      "you need to have R installed with the DESeq2 library installed\n",
      "3.4.5\n"
     ]
    }
   ],
   "source": [
    "# tccounts DESeq gene object\n",
    "# just var data\n",
    "deseqGene_tc = pyDESeq2.pyDESeq2(count_matrix=tccountsGene[tccountsGene.columns[np.array([1]+var_cols, bool)]], \n",
    "                                 design_matrix=design[np.array(var_cols, bool)],\n",
    "                                 design_formula=\"~{} - {}\".format(var1, var2),\n",
    "                                 gene_column=\"genes\")"
   ]
  },
  {
   "cell_type": "code",
   "execution_count": 153,
   "id": "a84329cd",
   "metadata": {
    "hidden": true
   },
   "outputs": [
    {
     "name": "stdout",
     "output_type": "stream",
     "text": [
      "you need to have R installed with the DESeq2 library installed\n",
      "3.4.5\n"
     ]
    }
   ],
   "source": [
    "# readcounts DESeq gene object\n",
    "deseqGene_read = pyDESeq2.pyDESeq2(count_matrix=readcountsGene[readcountsGene.columns[np.array([1]+var_cols, bool)]], \n",
    "                                   design_matrix=design[np.array(var_cols, bool)],\n",
    "                                   design_formula=\"~{} - {}\".format(var1, var2),\n",
    "                                   gene_column=\"genes\")"
   ]
  },
  {
   "cell_type": "markdown",
   "id": "6631c1ba",
   "metadata": {
    "hidden": true
   },
   "source": [
    "__estimate size factors__"
   ]
  },
  {
   "cell_type": "code",
   "execution_count": 154,
   "id": "c3ca65a5",
   "metadata": {
    "hidden": true
   },
   "outputs": [],
   "source": [
    "# tccounts\n",
    "deseqGene_tc.run_estimate_size_factors(geoMeans = np.exp(np.mean(np.log(\n",
    "    readcounts[tccountsGene.columns[[False]+design[var1].tolist()]].values+1), 1)))\n",
    "\n",
    "# readcounts\n",
    "deseqGene_read.run_estimate_size_factors()"
   ]
  },
  {
   "cell_type": "markdown",
   "id": "64248dd2",
   "metadata": {
    "hidden": true
   },
   "source": [
    "__run it__"
   ]
  },
  {
   "cell_type": "code",
   "execution_count": 157,
   "id": "4df0698b",
   "metadata": {
    "hidden": true
   },
   "outputs": [
    {
     "name": "stderr",
     "output_type": "stream",
     "text": [
      "R[write to console]: using pre-existing size factors\n",
      "\n",
      "R[write to console]: estimating dispersions\n",
      "\n",
      "R[write to console]: gene-wise dispersion estimates\n",
      "\n",
      "R[write to console]: mean-dispersion relationship\n",
      "\n",
      "R[write to console]: final dispersion estimates\n",
      "\n",
      "R[write to console]: fitting model and testing\n",
      "\n"
     ]
    },
    {
     "name": "stdout",
     "output_type": "stream",
     "text": [
      "CPU times: user 6.26 s, sys: 884 ms, total: 7.15 s\n",
      "Wall time: 5.28 s\n"
     ]
    }
   ],
   "source": [
    "%%time\n",
    "\n",
    "# tccounts\n",
    "deseqGene_tc.run_deseq()\n",
    "deseqGene_tc.get_deseq_result()\n",
    "\n",
    "resGene_tc = deseqGene_tc.deseq_result\n",
    "resGene_tc.pvalue = np.nan_to_num(np.array(resGene_tc.pvalue), 1)\n",
    "resGene_tc.log2FoldChange = np.nan_to_num(np.array(resGene_tc.log2FoldChange), 0)\n",
    "resGene_tc.log2FoldChange = -resGene_tc.log2FoldChange\n",
    "resGene_tc[\"gene_id\"] = resGene_tc.genes"
   ]
  },
  {
   "cell_type": "code",
   "execution_count": 158,
   "id": "87b7b386",
   "metadata": {
    "hidden": true
   },
   "outputs": [
    {
     "name": "stderr",
     "output_type": "stream",
     "text": [
      "R[write to console]: using pre-existing size factors\n",
      "\n",
      "R[write to console]: estimating dispersions\n",
      "\n",
      "R[write to console]: gene-wise dispersion estimates\n",
      "\n",
      "R[write to console]: mean-dispersion relationship\n",
      "\n",
      "R[write to console]: final dispersion estimates\n",
      "\n",
      "R[write to console]: fitting model and testing\n",
      "\n"
     ]
    },
    {
     "name": "stdout",
     "output_type": "stream",
     "text": [
      "CPU times: user 6.9 s, sys: 1.75 s, total: 8.65 s\n",
      "Wall time: 5.28 s\n"
     ]
    }
   ],
   "source": [
    "%%time\n",
    "\n",
    "#readcounts\n",
    "deseqGene_read.run_deseq()\n",
    "deseqGene_read.get_deseq_result()\n",
    "\n",
    "resGene_read = deseqGene_read.deseq_result\n",
    "resGene_read.pvalue = np.nan_to_num(np.array(resGene_read.pvalue), 1)\n",
    "resGene_read.log2FoldChange = np.nan_to_num(np.array(resGene_read.log2FoldChange), 0)\n",
    "resGene_read.log2FoldChange = -resGene_read.log2FoldChange\n",
    "resGene_read[\"gene_id\"] = resGene_read.genes"
   ]
  },
  {
   "cell_type": "markdown",
   "id": "98f8a4da",
   "metadata": {
    "hidden": true
   },
   "source": [
    "__save DESeq results__"
   ]
  },
  {
   "cell_type": "code",
   "execution_count": 161,
   "id": "ae720f89",
   "metadata": {
    "hidden": true
   },
   "outputs": [],
   "source": [
    "# check all genes are in output\n",
    "if not tccounts.shape[0] == resGene_tc.shape[0]:\n",
    "    raise ValueError(\"Results do not have the same number of genes as counts.\")\n",
    "\n",
    "if not tccounts[\"genes\"].isin(resGene_tc[\"genes\"]).all():\n",
    "    raise ValueError(\"Results do not have the same genes as counts.\")"
   ]
  },
  {
   "cell_type": "code",
   "execution_count": 162,
   "id": "8f3d62e6",
   "metadata": {
    "hidden": true
   },
   "outputs": [
    {
     "data": {
      "text/plain": [
       "'mebendazole_v1_DMSO_Mebendazole_0_5_deseq_tccounts.csv'"
      ]
     },
     "execution_count": 162,
     "metadata": {},
     "output_type": "execute_result"
    }
   ],
   "source": [
    "\"{}_{}_deseq_tccounts.csv\".format(project, \"_\".join(\n",
    "    filter(None, [var1, var2, scaling, str(minvar_toremove), str(mincount_toremove)])))"
   ]
  },
  {
   "cell_type": "code",
   "execution_count": 163,
   "id": "29c29acb",
   "metadata": {
    "hidden": true
   },
   "outputs": [
    {
     "name": "stdout",
     "output_type": "stream",
     "text": [
      "Saved DESeq results to: mebendazole_v1_DMSO_Mebendazole_0_5_deseq_tccounts.csv\n"
     ]
    }
   ],
   "source": [
    "# tccounts\n",
    "deseq_res_file = \"{}_{}_deseq_tccounts.csv\".format(project, \"_\".join(\n",
    "    filter(None, [var1, var2, scaling, str(minvar_toremove), str(mincount_toremove)])))\n",
    "resGene_tc.to_csv(\"{}/{}\".format(res_dir, deseq_res_file), index=False)\n",
    "\n",
    "print(\"Saved DESeq results to: {}\".format(deseq_res_file))"
   ]
  },
  {
   "cell_type": "code",
   "execution_count": 164,
   "id": "50208818",
   "metadata": {
    "hidden": true
   },
   "outputs": [
    {
     "name": "stdout",
     "output_type": "stream",
     "text": [
      "Saved DESeq results to: mebendazole_v1_DMSO_Mebendazole_0_5_deseq_readcounts.csv\n"
     ]
    }
   ],
   "source": [
    "# readcounts\n",
    "deseq_res_file = \"{}_{}_deseq_readcounts.csv\".format(project, \"_\".join(\n",
    "    filter(None, [var1, var2, scaling, str(minvar_toremove), str(mincount_toremove)])))\n",
    "resGene_read.to_csv(\"{}/{}\".format(res_dir, deseq_res_file), index=False)\n",
    "\n",
    "print(\"Saved DESeq results to: {}\".format(deseq_res_file))"
   ]
  },
  {
   "cell_type": "markdown",
   "id": "8ddb8634",
   "metadata": {
    "heading_collapsed": true
   },
   "source": [
    "# Plots"
   ]
  },
  {
   "cell_type": "code",
   "execution_count": 165,
   "id": "411145c0",
   "metadata": {
    "hidden": true
   },
   "outputs": [],
   "source": [
    "scaling = None"
   ]
  },
  {
   "cell_type": "code",
   "execution_count": 166,
   "id": "c5b65abf",
   "metadata": {
    "hidden": true
   },
   "outputs": [
    {
     "data": {
      "text/plain": [
       "['../results/slamseq_mebendazole_v1//mebendazole_v1_DMSO_Mebendazole_0_5_deseq_readcounts.csv',\n",
       " '../results/slamseq_mebendazole_v1//mebendazole_v1_DMSO_Mebendazole_0_5_deseq_tccounts.csv',\n",
       " '../results/slamseq_mebendazole_v1//mebendazole_v1_DMSO_Mebendazole_ERCCsamplewise_0_5_deseq_readcounts.csv',\n",
       " '../results/slamseq_mebendazole_v1//mebendazole_v1_DMSO_Mebendazole_ERCCsamplewise_0_5_deseq_tccounts.csv']"
      ]
     },
     "execution_count": 166,
     "metadata": {},
     "output_type": "execute_result"
    }
   ],
   "source": [
    "deseq_files = ! ls $res_dir/*deseq*\n",
    "deseq_files"
   ]
  },
  {
   "cell_type": "code",
   "execution_count": 167,
   "id": "3e9e31be",
   "metadata": {
    "hidden": true
   },
   "outputs": [],
   "source": [
    "res_dfs = [pd.read_csv(file, header=[0], index_col=None, squeeze=True) for file in deseq_files]"
   ]
  },
  {
   "cell_type": "code",
   "execution_count": 168,
   "id": "85acbbc6",
   "metadata": {
    "hidden": true
   },
   "outputs": [
    {
     "data": {
      "text/html": [
       "<div>\n",
       "<style scoped>\n",
       "    .dataframe tbody tr th:only-of-type {\n",
       "        vertical-align: middle;\n",
       "    }\n",
       "\n",
       "    .dataframe tbody tr th {\n",
       "        vertical-align: top;\n",
       "    }\n",
       "\n",
       "    .dataframe thead th {\n",
       "        text-align: right;\n",
       "    }\n",
       "</style>\n",
       "<table border=\"1\" class=\"dataframe\">\n",
       "  <thead>\n",
       "    <tr style=\"text-align: right;\">\n",
       "      <th></th>\n",
       "      <th>baseMean</th>\n",
       "      <th>log2FoldChange</th>\n",
       "      <th>lfcSE</th>\n",
       "      <th>stat</th>\n",
       "      <th>pvalue</th>\n",
       "      <th>padj</th>\n",
       "      <th>genes</th>\n",
       "      <th>gene_id</th>\n",
       "    </tr>\n",
       "  </thead>\n",
       "  <tbody>\n",
       "    <tr>\n",
       "      <th>0</th>\n",
       "      <td>0.961775</td>\n",
       "      <td>-0.481791</td>\n",
       "      <td>1.333388</td>\n",
       "      <td>0.361329</td>\n",
       "      <td>0.717854</td>\n",
       "      <td>NaN</td>\n",
       "      <td>A1BG</td>\n",
       "      <td>A1BG</td>\n",
       "    </tr>\n",
       "    <tr>\n",
       "      <th>1</th>\n",
       "      <td>137.931838</td>\n",
       "      <td>-0.152719</td>\n",
       "      <td>0.168504</td>\n",
       "      <td>0.906322</td>\n",
       "      <td>0.364765</td>\n",
       "      <td>0.705445</td>\n",
       "      <td>NAT1</td>\n",
       "      <td>NAT1</td>\n",
       "    </tr>\n",
       "    <tr>\n",
       "      <th>2</th>\n",
       "      <td>349.391999</td>\n",
       "      <td>0.091060</td>\n",
       "      <td>0.087859</td>\n",
       "      <td>-1.036432</td>\n",
       "      <td>0.300001</td>\n",
       "      <td>0.656839</td>\n",
       "      <td>AAMP</td>\n",
       "      <td>AAMP</td>\n",
       "    </tr>\n",
       "    <tr>\n",
       "      <th>3</th>\n",
       "      <td>243.033207</td>\n",
       "      <td>-0.277504</td>\n",
       "      <td>0.122509</td>\n",
       "      <td>2.265178</td>\n",
       "      <td>0.023502</td>\n",
       "      <td>0.211960</td>\n",
       "      <td>AARS1</td>\n",
       "      <td>AARS1</td>\n",
       "    </tr>\n",
       "    <tr>\n",
       "      <th>4</th>\n",
       "      <td>70.333897</td>\n",
       "      <td>-0.222404</td>\n",
       "      <td>0.166310</td>\n",
       "      <td>1.337286</td>\n",
       "      <td>0.181129</td>\n",
       "      <td>0.539089</td>\n",
       "      <td>ABAT</td>\n",
       "      <td>ABAT</td>\n",
       "    </tr>\n",
       "  </tbody>\n",
       "</table>\n",
       "</div>"
      ],
      "text/plain": [
       "     baseMean  log2FoldChange     lfcSE      stat    pvalue      padj  genes  \\\n",
       "0    0.961775       -0.481791  1.333388  0.361329  0.717854       NaN   A1BG   \n",
       "1  137.931838       -0.152719  0.168504  0.906322  0.364765  0.705445   NAT1   \n",
       "2  349.391999        0.091060  0.087859 -1.036432  0.300001  0.656839   AAMP   \n",
       "3  243.033207       -0.277504  0.122509  2.265178  0.023502  0.211960  AARS1   \n",
       "4   70.333897       -0.222404  0.166310  1.337286  0.181129  0.539089   ABAT   \n",
       "\n",
       "  gene_id  \n",
       "0    A1BG  \n",
       "1    NAT1  \n",
       "2    AAMP  \n",
       "3   AARS1  \n",
       "4    ABAT  "
      ]
     },
     "execution_count": 168,
     "metadata": {},
     "output_type": "execute_result"
    }
   ],
   "source": [
    "res_dfs[0].head()"
   ]
  },
  {
   "cell_type": "markdown",
   "id": "337e618e",
   "metadata": {
    "hidden": true
   },
   "source": [
    "## whisker plots"
   ]
  },
  {
   "cell_type": "code",
   "execution_count": 169,
   "id": "3dac55c1",
   "metadata": {
    "hidden": true
   },
   "outputs": [],
   "source": [
    "%matplotlib inline"
   ]
  },
  {
   "cell_type": "code",
   "execution_count": 193,
   "id": "cb907484",
   "metadata": {
    "hidden": true
   },
   "outputs": [],
   "source": [
    "cond = \"1h\""
   ]
  },
  {
   "cell_type": "markdown",
   "id": "5d87e036",
   "metadata": {
    "hidden": true
   },
   "source": [
    "__using tc counts__"
   ]
  },
  {
   "cell_type": "code",
   "execution_count": 170,
   "id": "b27744b5",
   "metadata": {
    "hidden": true
   },
   "outputs": [
    {
     "name": "stdout",
     "output_type": "stream",
     "text": [
      "../results/slamseq_mebendazole_v1//mebendazole_v1_DMSO_Mebendazole_0_5_deseq_tccounts.csv\n",
      "None\n"
     ]
    }
   ],
   "source": [
    "# Choose file/dataset\n",
    "df_idx = 1\n",
    "print(deseq_files[df_idx])\n",
    "read_type = os.path.basename(deseq_files[df_idx]).split(\".\")[0].split(\"_\")[-1]\n",
    "scaling = \"ERCCsamplewise\" if \"ERCCsamplewise\" in deseq_files[df_idx] else None\n",
    "print(scaling)"
   ]
  },
  {
   "cell_type": "code",
   "execution_count": 187,
   "id": "377cfb59",
   "metadata": {
    "hidden": true
   },
   "outputs": [
    {
     "name": "stdout",
     "output_type": "stream",
     "text": [
      "(14292, 8)\n"
     ]
    }
   ],
   "source": [
    "# DESeq results\n",
    "res = res_dfs[df_idx]\n",
    "print(res.shape)"
   ]
  },
  {
   "cell_type": "markdown",
   "id": "52c94282",
   "metadata": {
    "hidden": true
   },
   "source": [
    "__get CRCs__"
   ]
  },
  {
   "cell_type": "code",
   "execution_count": 179,
   "id": "653e2370",
   "metadata": {
    "collapsed": true,
    "hidden": true
   },
   "outputs": [
    {
     "data": {
      "text/plain": [
       "['CEBPA',\n",
       " 'E2F3',\n",
       " 'FLI1',\n",
       " 'FOSL2',\n",
       " 'GFI1',\n",
       " 'HHEX',\n",
       " 'IRF8',\n",
       " 'LYL1',\n",
       " 'MEF2C',\n",
       " 'MEF2D',\n",
       " 'MEIS1',\n",
       " 'MYB',\n",
       " 'PLAGL2',\n",
       " 'RUNX1',\n",
       " 'RUNX2',\n",
       " 'RXRA',\n",
       " 'SP1',\n",
       " 'SPI1',\n",
       " 'SREBF1',\n",
       " 'STAT5B',\n",
       " 'TFAP4',\n",
       " 'ZEB2',\n",
       " 'ZFPM1',\n",
       " 'ZNF281',\n",
       " 'GATA2',\n",
       " 'MAX',\n",
       " 'MYC',\n",
       " 'ETV6',\n",
       " 'HOXA9',\n",
       " 'LMO2',\n",
       " 'ZMYND']"
      ]
     },
     "execution_count": 179,
     "metadata": {},
     "output_type": "execute_result"
    }
   ],
   "source": [
    "# getting the crcs\n",
    "crcs = h.fileToList(\"../data/CRCs_31.txt\")\n",
    "crcs"
   ]
  },
  {
   "cell_type": "code",
   "execution_count": 180,
   "id": "110b1f11",
   "metadata": {
    "hidden": true
   },
   "outputs": [
    {
     "data": {
      "text/plain": [
       "0.00      10.002254\n",
       "0.45      23.099833\n",
       "0.50      25.562975\n",
       "0.75      46.038375\n",
       "1.00    1780.637029\n",
       "Name: baseMean, dtype: float64"
      ]
     },
     "execution_count": 180,
     "metadata": {},
     "output_type": "execute_result"
    }
   ],
   "source": [
    "res.baseMean.quantile([0,0.45,0.5,0.75,1])"
   ]
  },
  {
   "cell_type": "code",
   "execution_count": 188,
   "id": "6ca43ffc",
   "metadata": {
    "hidden": true
   },
   "outputs": [
    {
     "name": "stdout",
     "output_type": "stream",
     "text": [
      "(5145, 8)\n"
     ]
    },
    {
     "name": "stderr",
     "output_type": "stream",
     "text": [
      "/home/monika/anaconda3/envs/slamseq/lib/python3.8/site-packages/pandas/core/frame.py:3607: SettingWithCopyWarning: \n",
      "A value is trying to be set on a copy of a slice from a DataFrame.\n",
      "Try using .loc[row_indexer,col_indexer] = value instead\n",
      "\n",
      "See the caveats in the documentation: https://pandas.pydata.org/pandas-docs/stable/user_guide/indexing.html#returning-a-view-versus-a-copy\n",
      "  self._set_item(key, value)\n"
     ]
    }
   ],
   "source": [
    "# DESeq results\n",
    "# baseMean: normalized counts of all samples, normalizing for seqencing depth\n",
    "res = res[res.baseMean>10]\n",
    "print(res.shape)\n",
    "res.baseMean= np.log2(1+res.baseMean)\n",
    "res[\"type\"] = [\"crc\" if i else \"other\" for i in  res.genes.isin(crcs)]"
   ]
  },
  {
   "cell_type": "code",
   "execution_count": 189,
   "id": "e912e49d",
   "metadata": {
    "hidden": true
   },
   "outputs": [
    {
     "data": {
      "text/html": [
       "<div>\n",
       "<style scoped>\n",
       "    .dataframe tbody tr th:only-of-type {\n",
       "        vertical-align: middle;\n",
       "    }\n",
       "\n",
       "    .dataframe tbody tr th {\n",
       "        vertical-align: top;\n",
       "    }\n",
       "\n",
       "    .dataframe thead th {\n",
       "        text-align: right;\n",
       "    }\n",
       "</style>\n",
       "<table border=\"1\" class=\"dataframe\">\n",
       "  <thead>\n",
       "    <tr style=\"text-align: right;\">\n",
       "      <th></th>\n",
       "      <th>baseMean</th>\n",
       "      <th>log2FoldChange</th>\n",
       "      <th>lfcSE</th>\n",
       "      <th>stat</th>\n",
       "      <th>pvalue</th>\n",
       "      <th>padj</th>\n",
       "      <th>genes</th>\n",
       "      <th>gene_id</th>\n",
       "      <th>type</th>\n",
       "    </tr>\n",
       "  </thead>\n",
       "  <tbody>\n",
       "    <tr>\n",
       "      <th>1</th>\n",
       "      <td>3.731864</td>\n",
       "      <td>-0.348474</td>\n",
       "      <td>0.377780</td>\n",
       "      <td>0.922427</td>\n",
       "      <td>0.356306</td>\n",
       "      <td>NaN</td>\n",
       "      <td>NAT1</td>\n",
       "      <td>NAT1</td>\n",
       "      <td>other</td>\n",
       "    </tr>\n",
       "    <tr>\n",
       "      <th>3</th>\n",
       "      <td>3.828351</td>\n",
       "      <td>-0.146420</td>\n",
       "      <td>0.376884</td>\n",
       "      <td>0.388502</td>\n",
       "      <td>0.697645</td>\n",
       "      <td>NaN</td>\n",
       "      <td>AARS1</td>\n",
       "      <td>AARS1</td>\n",
       "      <td>other</td>\n",
       "    </tr>\n",
       "    <tr>\n",
       "      <th>8</th>\n",
       "      <td>4.351859</td>\n",
       "      <td>-0.608343</td>\n",
       "      <td>0.296640</td>\n",
       "      <td>2.050779</td>\n",
       "      <td>0.040288</td>\n",
       "      <td>NaN</td>\n",
       "      <td>ABCF1</td>\n",
       "      <td>ABCF1</td>\n",
       "      <td>other</td>\n",
       "    </tr>\n",
       "    <tr>\n",
       "      <th>9</th>\n",
       "      <td>4.404957</td>\n",
       "      <td>0.295079</td>\n",
       "      <td>0.318618</td>\n",
       "      <td>-0.926121</td>\n",
       "      <td>0.354383</td>\n",
       "      <td>0.733317</td>\n",
       "      <td>ABL1</td>\n",
       "      <td>ABL1</td>\n",
       "      <td>other</td>\n",
       "    </tr>\n",
       "    <tr>\n",
       "      <th>10</th>\n",
       "      <td>4.792115</td>\n",
       "      <td>-0.375734</td>\n",
       "      <td>0.253917</td>\n",
       "      <td>1.479753</td>\n",
       "      <td>0.138939</td>\n",
       "      <td>0.526033</td>\n",
       "      <td>ABL2</td>\n",
       "      <td>ABL2</td>\n",
       "      <td>other</td>\n",
       "    </tr>\n",
       "  </tbody>\n",
       "</table>\n",
       "</div>"
      ],
      "text/plain": [
       "    baseMean  log2FoldChange     lfcSE      stat    pvalue      padj  genes  \\\n",
       "1   3.731864       -0.348474  0.377780  0.922427  0.356306       NaN   NAT1   \n",
       "3   3.828351       -0.146420  0.376884  0.388502  0.697645       NaN  AARS1   \n",
       "8   4.351859       -0.608343  0.296640  2.050779  0.040288       NaN  ABCF1   \n",
       "9   4.404957        0.295079  0.318618 -0.926121  0.354383  0.733317   ABL1   \n",
       "10  4.792115       -0.375734  0.253917  1.479753  0.138939  0.526033   ABL2   \n",
       "\n",
       "   gene_id   type  \n",
       "1     NAT1  other  \n",
       "3    AARS1  other  \n",
       "8    ABCF1  other  \n",
       "9     ABL1  other  \n",
       "10    ABL2  other  "
      ]
     },
     "execution_count": 189,
     "metadata": {},
     "output_type": "execute_result"
    }
   ],
   "source": [
    "res.head()"
   ]
  },
  {
   "cell_type": "code",
   "execution_count": 191,
   "id": "7604f464",
   "metadata": {
    "hidden": true
   },
   "outputs": [
    {
     "name": "stdout",
     "output_type": "stream",
     "text": [
      "None\n"
     ]
    }
   ],
   "source": [
    "print(scaling)"
   ]
  },
  {
   "cell_type": "code",
   "execution_count": 195,
   "id": "eacb8ae2",
   "metadata": {
    "hidden": true
   },
   "outputs": [
    {
     "data": {
      "text/plain": [
       "'../results/slamseq_mebendazole_v1/'"
      ]
     },
     "execution_count": 195,
     "metadata": {},
     "output_type": "execute_result"
    }
   ],
   "source": [
    "res_dir"
   ]
  },
  {
   "cell_type": "code",
   "execution_count": 199,
   "id": "463c7c7e",
   "metadata": {
    "hidden": true
   },
   "outputs": [
    {
     "data": {
      "text/plain": [
       "5"
      ]
     },
     "execution_count": 199,
     "metadata": {},
     "output_type": "execute_result"
    }
   ],
   "source": [
    "mincount_toremove"
   ]
  },
  {
   "cell_type": "code",
   "execution_count": 202,
   "id": "cbf4a2ca",
   "metadata": {
    "hidden": true
   },
   "outputs": [
    {
     "data": {
      "text/plain": [
       "'../results/slamseq_mebendazole_v1//plots/mebendazole_v1_whiskers_0_5_logfc.pdf'"
      ]
     },
     "execution_count": 202,
     "metadata": {},
     "output_type": "execute_result"
    }
   ],
   "source": [
    "\"{}/plots/{}_whiskers_{}_logfc.pdf\".format(res_dir, project, \"_\".join(\n",
    "    filter(None, [scaling, str(minvar_toremove), str(mincount_toremove)])))"
   ]
  },
  {
   "cell_type": "code",
   "execution_count": null,
   "id": "c82efe6e",
   "metadata": {
    "hidden": true
   },
   "outputs": [],
   "source": []
  },
  {
   "cell_type": "code",
   "execution_count": 207,
   "id": "465a050e",
   "metadata": {
    "hidden": true
   },
   "outputs": [
    {
     "data": {
      "text/plain": [
       "'mebendazole'"
      ]
     },
     "execution_count": 207,
     "metadata": {},
     "output_type": "execute_result"
    }
   ],
   "source": [
    "project.split(\"_\")[0]"
   ]
  },
  {
   "cell_type": "code",
   "execution_count": 209,
   "id": "caf8ab27",
   "metadata": {
    "hidden": true
   },
   "outputs": [
    {
     "data": {
      "image/png": "[encoded data removed]",
      "text/plain": [
       "<Figure size 432x288 with 1 Axes>"
      ]
     },
     "metadata": {
      "needs_background": "light"
     },
     "output_type": "display_data"
    }
   ],
   "source": [
    "ax = sns.boxplot(data=res,x='type',y='log2FoldChange')\n",
    "ax.set_title(\"{} at {} foldChange\".format(project.split(\"_\")[0], cond))\n",
    "\n",
    "ax.figure.savefig(\"{}/plots/{}_whiskers_{}_logfc.pdf\".format(res_dir, project, \"_\".join(\n",
    "    filter(None, [scaling, str(minvar_toremove), str(mincount_toremove)]))))"
   ]
  },
  {
   "cell_type": "code",
   "execution_count": 210,
   "id": "16f5dc66",
   "metadata": {
    "hidden": true
   },
   "outputs": [
    {
     "data": {
      "image/png": "[encoded data removed]",
      "text/plain": [
       "<Figure size 432x288 with 1 Axes>"
      ]
     },
     "metadata": {
      "needs_background": "light"
     },
     "output_type": "display_data"
    }
   ],
   "source": [
    "ax =sns.boxplot(data=res,x='type',y='baseMean')\n",
    "ax.set_title(\"{} at {} foldChange\".format(project.split(\"_\")[0], cond))\n",
    "\n",
    "ax.figure.savefig(\"{}/plots/{}_whiskers_{}_beaseMean.pdf\".format(res_dir, project, \"_\".join(\n",
    "    filter(None, [scaling, str(minvar_toremove), str(mincount_toremove)]))))"
   ]
  },
  {
   "cell_type": "markdown",
   "id": "96ab15ba",
   "metadata": {
    "hidden": true
   },
   "source": [
    "## volcano plots"
   ]
  },
  {
   "cell_type": "code",
   "execution_count": 213,
   "id": "20fda8c9",
   "metadata": {
    "hidden": true
   },
   "outputs": [
    {
     "data": {
      "text/html": [
       "<div>\n",
       "<style scoped>\n",
       "    .dataframe tbody tr th:only-of-type {\n",
       "        vertical-align: middle;\n",
       "    }\n",
       "\n",
       "    .dataframe tbody tr th {\n",
       "        vertical-align: top;\n",
       "    }\n",
       "\n",
       "    .dataframe thead th {\n",
       "        text-align: right;\n",
       "    }\n",
       "</style>\n",
       "<table border=\"1\" class=\"dataframe\">\n",
       "  <thead>\n",
       "    <tr style=\"text-align: right;\">\n",
       "      <th></th>\n",
       "      <th>baseMean</th>\n",
       "      <th>log2FoldChange</th>\n",
       "      <th>lfcSE</th>\n",
       "      <th>stat</th>\n",
       "      <th>pvalue</th>\n",
       "      <th>padj</th>\n",
       "      <th>genes</th>\n",
       "      <th>gene_id</th>\n",
       "      <th>type</th>\n",
       "    </tr>\n",
       "  </thead>\n",
       "  <tbody>\n",
       "    <tr>\n",
       "      <th>1</th>\n",
       "      <td>3.731864</td>\n",
       "      <td>-0.348474</td>\n",
       "      <td>0.377780</td>\n",
       "      <td>0.922427</td>\n",
       "      <td>0.356306</td>\n",
       "      <td>NaN</td>\n",
       "      <td>NAT1</td>\n",
       "      <td>NAT1</td>\n",
       "      <td>other</td>\n",
       "    </tr>\n",
       "    <tr>\n",
       "      <th>3</th>\n",
       "      <td>3.828351</td>\n",
       "      <td>-0.146420</td>\n",
       "      <td>0.376884</td>\n",
       "      <td>0.388502</td>\n",
       "      <td>0.697645</td>\n",
       "      <td>NaN</td>\n",
       "      <td>AARS1</td>\n",
       "      <td>AARS1</td>\n",
       "      <td>other</td>\n",
       "    </tr>\n",
       "    <tr>\n",
       "      <th>8</th>\n",
       "      <td>4.351859</td>\n",
       "      <td>-0.608343</td>\n",
       "      <td>0.296640</td>\n",
       "      <td>2.050779</td>\n",
       "      <td>0.040288</td>\n",
       "      <td>NaN</td>\n",
       "      <td>ABCF1</td>\n",
       "      <td>ABCF1</td>\n",
       "      <td>other</td>\n",
       "    </tr>\n",
       "    <tr>\n",
       "      <th>9</th>\n",
       "      <td>4.404957</td>\n",
       "      <td>0.295079</td>\n",
       "      <td>0.318618</td>\n",
       "      <td>-0.926121</td>\n",
       "      <td>0.354383</td>\n",
       "      <td>0.733317</td>\n",
       "      <td>ABL1</td>\n",
       "      <td>ABL1</td>\n",
       "      <td>other</td>\n",
       "    </tr>\n",
       "    <tr>\n",
       "      <th>10</th>\n",
       "      <td>4.792115</td>\n",
       "      <td>-0.375734</td>\n",
       "      <td>0.253917</td>\n",
       "      <td>1.479753</td>\n",
       "      <td>0.138939</td>\n",
       "      <td>0.526033</td>\n",
       "      <td>ABL2</td>\n",
       "      <td>ABL2</td>\n",
       "      <td>other</td>\n",
       "    </tr>\n",
       "  </tbody>\n",
       "</table>\n",
       "</div>"
      ],
      "text/plain": [
       "    baseMean  log2FoldChange     lfcSE      stat    pvalue      padj  genes  \\\n",
       "1   3.731864       -0.348474  0.377780  0.922427  0.356306       NaN   NAT1   \n",
       "3   3.828351       -0.146420  0.376884  0.388502  0.697645       NaN  AARS1   \n",
       "8   4.351859       -0.608343  0.296640  2.050779  0.040288       NaN  ABCF1   \n",
       "9   4.404957        0.295079  0.318618 -0.926121  0.354383  0.733317   ABL1   \n",
       "10  4.792115       -0.375734  0.253917  1.479753  0.138939  0.526033   ABL2   \n",
       "\n",
       "   gene_id   type  \n",
       "1     NAT1  other  \n",
       "3    AARS1  other  \n",
       "8    ABCF1  other  \n",
       "9     ABL1  other  \n",
       "10    ABL2  other  "
      ]
     },
     "execution_count": 213,
     "metadata": {},
     "output_type": "execute_result"
    }
   ],
   "source": [
    "res.head()"
   ]
  },
  {
   "cell_type": "code",
   "execution_count": 232,
   "id": "e5686265",
   "metadata": {
    "hidden": true
   },
   "outputs": [
    {
     "name": "stdout",
     "output_type": "stream",
     "text": [
      "../results/slamseq_mebendazole_v1//plots/mebendazole_v1_0_5\n"
     ]
    }
   ],
   "source": [
    "volcano_folder = \"{}/plots/{}_{}\".format(res_dir, project, \"_\".join(\n",
    "    filter(None, [scaling, str(minvar_toremove), str(mincount_toremove)])))\n",
    "print(volcano_folder)"
   ]
  },
  {
   "cell_type": "code",
   "execution_count": 233,
   "id": "353af637",
   "metadata": {
    "collapsed": true,
    "hidden": true
   },
   "outputs": [
    {
     "ename": "AttributeError",
     "evalue": "unexpected attribute 'output_backend' to Column, possible attributes are align, aspect_ratio, background, children, css_classes, disabled, height, height_policy, js_event_callbacks, js_property_callbacks, margin, max_height, max_width, min_height, min_width, name, rows, sizing_mode, spacing, subscribed_events, syncable, tags, visible, width or width_policy",
     "output_type": "error",
     "traceback": [
      "\u001b[0;31m---------------------------------------------------------------------------\u001b[0m",
      "\u001b[0;31mAttributeError\u001b[0m                            Traceback (most recent call last)",
      "\u001b[0;32m/tmp/ipykernel_28945/4066722243.py\u001b[0m in \u001b[0;36m<module>\u001b[0;34m\u001b[0m\n\u001b[0;32m----> 1\u001b[0;31m genepyPlot.volcano(res, tohighlight=crcs, title=\"MV411 Mebendazole\",\n\u001b[0m\u001b[1;32m      2\u001b[0m                    searchbox=True, folder=volcano_folder)\n",
      "\u001b[0;32m~/genepy/genepy/utils/plot.py\u001b[0m in \u001b[0;36mvolcano\u001b[0;34m(data, folder, tohighlight, tooltips, title, xlabel, ylabel, maxvalue, searchbox, logfoldtohighlight, pvaltohighlight, showlabels)\u001b[0m\n\u001b[1;32m    308\u001b[0m             \"\"\"))\n\u001b[1;32m    309\u001b[0m     \u001b[0mp\u001b[0m \u001b[0;34m=\u001b[0m \u001b[0mcolumn\u001b[0m\u001b[0;34m(\u001b[0m\u001b[0mtext\u001b[0m\u001b[0;34m,\u001b[0m \u001b[0mp\u001b[0m\u001b[0;34m)\u001b[0m\u001b[0;34m\u001b[0m\u001b[0;34m\u001b[0m\u001b[0m\n\u001b[0;32m--> 310\u001b[0;31m   \u001b[0mp\u001b[0m\u001b[0;34m.\u001b[0m\u001b[0moutput_backend\u001b[0m \u001b[0;34m=\u001b[0m \u001b[0;34m\"svg\"\u001b[0m\u001b[0;34m\u001b[0m\u001b[0;34m\u001b[0m\u001b[0m\n\u001b[0m\u001b[1;32m    311\u001b[0m   \u001b[0;32mif\u001b[0m \u001b[0mfolder\u001b[0m\u001b[0;34m:\u001b[0m\u001b[0;34m\u001b[0m\u001b[0;34m\u001b[0m\u001b[0m\n\u001b[1;32m    312\u001b[0m     \u001b[0msave\u001b[0m\u001b[0;34m(\u001b[0m\u001b[0mp\u001b[0m\u001b[0;34m,\u001b[0m \u001b[0mfolder\u001b[0m \u001b[0;34m+\u001b[0m \u001b[0mtitle\u001b[0m\u001b[0;34m.\u001b[0m\u001b[0mreplace\u001b[0m\u001b[0;34m(\u001b[0m\u001b[0;34m' '\u001b[0m\u001b[0;34m,\u001b[0m \u001b[0;34m\"_\"\u001b[0m\u001b[0;34m)\u001b[0m \u001b[0;34m+\u001b[0m \u001b[0;34m\"_volcano.html\"\u001b[0m\u001b[0;34m)\u001b[0m\u001b[0;34m\u001b[0m\u001b[0;34m\u001b[0m\u001b[0m\n",
      "\u001b[0;32m~/anaconda3/envs/slamseq/lib/python3.8/site-packages/bokeh/core/has_props.py\u001b[0m in \u001b[0;36m__setattr__\u001b[0;34m(self, name, value)\u001b[0m\n\u001b[1;32m    303\u001b[0m                 \u001b[0mmatches\u001b[0m\u001b[0;34m,\u001b[0m \u001b[0mtext\u001b[0m \u001b[0;34m=\u001b[0m \u001b[0mprops\u001b[0m\u001b[0;34m,\u001b[0m \u001b[0;34m\"possible\"\u001b[0m\u001b[0;34m\u001b[0m\u001b[0;34m\u001b[0m\u001b[0m\n\u001b[1;32m    304\u001b[0m \u001b[0;34m\u001b[0m\u001b[0m\n\u001b[0;32m--> 305\u001b[0;31m             raise AttributeError(\"unexpected attribute '%s' to %s, %s attributes are %s\" %\n\u001b[0m\u001b[1;32m    306\u001b[0m                 (name, self.__class__.__name__, text, nice_join(matches)))\n\u001b[1;32m    307\u001b[0m \u001b[0;34m\u001b[0m\u001b[0m\n",
      "\u001b[0;31mAttributeError\u001b[0m: unexpected attribute 'output_backend' to Column, possible attributes are align, aspect_ratio, background, children, css_classes, disabled, height, height_policy, js_event_callbacks, js_property_callbacks, margin, max_height, max_width, min_height, min_width, name, rows, sizing_mode, spacing, subscribed_events, syncable, tags, visible, width or width_policy"
     ]
    }
   ],
   "source": [
    "genepyPlot.volcano(res, tohighlight=crcs, title=\"MV411 Mebendazole\",\n",
    "                   searchbox=True, folder=volcano_folder)"
   ]
  },
  {
   "cell_type": "code",
   "execution_count": 231,
   "id": "9b1cee7e",
   "metadata": {
    "hidden": true
   },
   "outputs": [
    {
     "data": {
      "text/html": [
       "\n",
       "\n",
       "\n",
       "\n",
       "\n",
       "\n",
       "  <div class=\"bk-root\" id=\"a5dfd408-2f8a-4be2-a850-1a4647495c3e\" data-root-id=\"2619\"></div>\n"
      ]
     },
     "metadata": {},
     "output_type": "display_data"
    },
    {
     "data": {
      "application/javascript": [
       "(function(root) {\n",
       "  function embed_document(root) {\n",
       "    \n",
       "  var docs_json = {\"620d1975-7843-4d5a-8db3-ec671b9916ab\":{\"defs\":[],\"roots\":{\"references\":[{\"attributes\":{\"background_fill_alpha\":0.5,\"background_fill_color\":\"#DFDFE5\",\"below\":[{\"id\":\"2630\"}],\"center\":[{\"id\":\"2633\"},{\"id\":\"2637\"}],\"height\":450,\"left\":[{\"id\":\"2634\"}],\"output_backend\":\"svg\",\"renderers\":[{\"id\":\"2657\"},{\"id\":\"2663\"},{\"id\":\"2668\"}],\"title\":{\"id\":\"2620\"},\"toolbar\":{\"id\":\"2645\"},\"width\":650,\"x_range\":{\"id\":\"2622\"},\"x_scale\":{\"id\":\"2626\"},\"y_range\":{\"id\":\"2624\"},\"y_scale\":{\"id\":\"2628\"}},\"id\":\"2619\",\"subtype\":\"Figure\",\"type\":\"Plot\"},{\"attributes\":{\"fill_alpha\":{\"field\":\"alpha\"},\"fill_color\":{\"field\":\"color\"},\"line_alpha\":{\"field\":\"alpha\"},\"line_color\":{\"field\":\"color\"},\"size\":{\"field\":\"size\"},\"x\":{\"field\":\"log2FoldChange\"},\"y\":{\"field\":\"transformed_q\"}},\"id\":\"2661\",\"type\":\"Scatter\"},{\"attributes\":{\"bottom_units\":\"screen\",\"fill_alpha\":0.5,\"fill_color\":\"lightgrey\",\"left_units\":\"screen\",\"level\":\"overlay\",\"line_alpha\":1.0,\"line_color\":\"black\",\"line_dash\":[4,4],\"line_width\":2,\"right_units\":\"screen\",\"syncable\":false,\"top_units\":\"screen\"},\"id\":\"2644\",\"type\":\"BoxAnnotation\"},{\"attributes\":{\"fill_alpha\":{\"value\":0.1},\"fill_color\":{\"field\":\"color\"},\"line_alpha\":{\"value\":0.1},\"line_color\":{\"field\":\"color\"},\"size\":{\"field\":\"size\"},\"x\":{\"field\":\"log2FoldChange\"},\"y\":{\"field\":\"transformed_q\"}},\"id\":\"2656\",\"type\":\"Scatter\"},{\"attributes\":{\"data\":{\"alpha\":{\"__ndarray__\":\"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\",\"dtype\":\"float64\",\"order\":\"little\",\"shape\":[960]},\"baseMean\":{\"__ndarray__\":\"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\",\"dtype\":\"float64\",\"order\":\"little\",\"shape\":[960]},\"color\":[\"#1a9641\",\"#1a9641\",\"#1a9641\",\"#1a9641\",\"#1a9641\",\"#1a9641\",\"#1a9641\",\"#1a9641\",\"#1a9641\",\"#1a9641\",\"#1a9641\",\"#1a9641\",\"#1a9641\",\"#1a9641\",\"#1a9641\",\"#1a9641\",\"#1a9641\",\"#1a9641\",\"#1a9641\",\"#1a9641\",\"#1a9641\",\"#1a9641\",\"#1a9641\",\"#1a9641\",\"#1a9641\",\"#1a9641\",\"#1a9641\",\"#1a9641\",\"#1a9641\",\"#1a9641\",\"#1a9641\",\"#1a9641\",\"#1a9641\",\"#1a9641\",\"#1a9641\",\"#1a9641\",\"#1a9641\",\"#1a9641\",\"#1a9641\",\"#1a9641\",\"#1a9641\",\"#1a9641\",\"#1a9641\",\"#1a9641\",\"#1a9641\",\"#1a9641\",\"#1a9641\",\"#1a9641\",\"#1a9641\",\"#1a9641\",\"#1a9641\",\"#1a9641\",\"#1a9641\",\"#1a9641\",\"#1a9641\",\"#1a9641\",\"#1a9641\",\"#1a9641\",\"#1a9641\",\"#1a9641\",\"#1a9641\",\"#1a9641\",\"#1a9641\",\"#1a9641\",\"#1a9641\",\"#1a9641\",\"#1a9641\",\"#1a9641\",\"#1a9641\",\"#1a9641\",\"#1a9641\",\"#1a9641\",\"#1a9641\",\"#1a9641\",\"#1a9641\",\"#1a9641\",\"#1a9641\",\"#1a9641\",\"#1a9641\",\"#1a9641\",\"#1a9641\",\"#1a9641\",\"#1a9641\",\"#1a9641\",\"#1a9641\",\"#1a9641\",\"#1a9641\",\"#1a9641\",\"#1a9641\",\"#1a9641\",\"#1a9641\",\"#1a9641\",\"#1a9641\",\"#1a9641\",\"#1a9641\",\"#1a9641\",\"#1a9641\",\"#1a9641\",\"#1a9641\",\"#1a9641\",\"#1a9641\",\"#1a9641\",\"#1a9641\",\"#1a9641\",\"#1a9641\",\"#1a9641\",\"#1a9641\",\"#1a9641\",\"#1a9641\",\"#1a9641\",\"#1a9641\",\"#1a9641\",\"#1a9641\",\"#1a9641\",\"#1a9641\",\"#1a9641\",\"#1a9641\",\"#1a9641\",\"#1a9641\",\"#1a9641\",\"#1a9641\",\"#1a9641\",\"#1a9641\",\"#1a9641\",\"#1a9641\",\"#1a9641\",\"#1a9641\",\"#1a9641\",\"#1a9641\",\"#1a9641\",\"#1a9641\",\"#1a9641\",\"#1a9641\",\"#1a9641\",\"#1a9641\",\"#1a9641\",\"#1a9641\",\"#1a9641\",\"#1a9641\",\"#1a9641\",\"#1a9641\",\"#1a9641\",\"#1a9641\",\"#1a9641\",\"#1a9641\",\"#1a9641\",\"#1a9641\",\"#1a9641\",\"#1a9641\",\"#1a9641\",\"#1a9641\",\"#1a9641\",\"#1a9641\",\"#1a9641\",\"#1a9641\",\"#1a9641\",\"#1a9641\",\"#1a9641\",\"#1a9641\",\"#1a9641\",\"#1a9641\",\"#1a9641\",\"#1a9641\",\"#1a9641\",\"#1a9641\",\"#1a9641\",\"#1a9641\",\"#1a9641\",\"#1a9641\",\"#1a9641\",\"#1a9641\",\"#1a9641\",\"#1a9641\",\"#1a9641\",\"#1a9641\",\"#1a9641\",\"#1a9641\",\"#1a9641\",\"#1a9641\",\"#1a9641\",\"#1a9641\",\"#1a9641\",\"#1a9641\",\"#1a9641\",\"#1a9641\",\"#1a9641\",\"#1a9641\",\"#1a9641\",\"#1a9641\",\"#1a9641\",\"#1a9641\",\"#1a9641\",\"#1a9641\",\"#1a9641\",\"#1a9641\",\"#1a9641\",\"#1a9641\",\"#1a9641\",\"#1a9641\",\"#1a9641\",\"#1a9641\",\"#1a9641\",\"#1a9641\",\"#1a9641\",\"#1a9641\",\"#1a9641\",\"#1a9641\",\"#1a9641\",\"#1a9641\",\"#1a9641\",\"#1a9641\",\"#1a9641\",\"#1a9641\",\"#1a9641\",\"#1a9641\",\"#1a9641\",\"#1a9641\",\"#1a9641\",\"#1a9641\",\"#1a9641\",\"#1a9641\",\"#1a9641\",\"#1a9641\",\"#1a9641\",\"#1a9641\",\"#1a9641\",\"#1a9641\",\"#1a9641\",\"#1a9641\",\"#1a9641\",\"#1a9641\",\"#1a9641\",\"#1a9641\",\"#1a9641\",\"#1a9641\",\"#1a9641\",\"#1a9641\",\"#1a9641\",\"#1a9641\",\"#1a9641\",\"#1a9641\",\"#1a9641\",\"#1a9641\",\"#1a9641\",\"#1a9641\",\"#1a9641\",\"#1a9641\",\"#1a9641\",\"#1a9641\",\"#1a9641\",\"#1a9641\",\"#1a9641\",\"#1a9641\",\"#1a9641\",\"#1a9641\",\"#1a9641\",\"#1a9641\",\"#1a9641\",\"#1a9641\",\"#1a9641\",\"#1a9641\",\"#1a9641\",\"#1a9641\",\"#1a9641\",\"#1a9641\",\"#1a9641\",\"#1a9641\",\"#1a9641\",\"#1a9641\",\"#1a9641\",\"#1a9641\",\"#1a9641\",\"#1a9641\",\"#1a9641\",\"#1a9641\",\"#1a9641\",\"#1a9641\",\"#1a9641\",\"#1a9641\",\"#1a9641\",\"#1a9641\",\"#1a9641\",\"#1a9641\",\"#1a9641\",\"#1a9641\",\"#1a9641\",\"#1a9641\",\"#1a9641\",\"#1a9641\",\"#1a9641\",\"#1a9641\",\"#1a9641\",\"#1a9641\",\"#1a9641\",\"#1a9641\",\"#1a9641\",\"#1a9641\",\"#1a9641\",\"#1a9641\",\"#1a9641\",\"#1a9641\",\"#1a9641\",\"#1a9641\",\"#1a9641\",\"#1a9641\",\"#1a9641\",\"#1a9641\",\"#1a9641\",\"#1a9641\",\"#1a9641\",\"#1a9641\",\"#1a9641\",\"#1a9641\",\"#1a9641\",\"#1a9641\",\"#1a9641\",\"#1a9641\",\"#1a9641\",\"#1a9641\",\"#1a9641\",\"#1a9641\",\"#1a9641\",\"#1a9641\",\"#1a9641\",\"#1a9641\",\"#1a9641\",\"#1a9641\",\"#1a9641\",\"#1a9641\",\"#1a9641\",\"#1a9641\",\"#1a9641\",\"#1a9641\",\"#1a9641\",\"#1a9641\",\"#1a9641\",\"#1a9641\",\"#1a9641\",\"#1a9641\",\"#1a9641\",\"#1a9641\",\"#1a9641\",\"#1a9641\",\"#1a9641\",\"#1a9641\",\"#1a9641\",\"#1a9641\",\"#1a9641\",\"#1a9641\",\"#1a9641\",\"#1a9641\",\"#1a9641\",\"#1a9641\",\"#1a9641\",\"#1a9641\",\"#1a9641\",\"#1a9641\",\"#1a9641\",\"#1a9641\",\"#1a9641\",\"#1a9641\",\"#1a9641\",\"#1a9641\",\"#1a9641\",\"#1a9641\",\"#1a9641\",\"#1a9641\",\"#1a9641\",\"#1a9641\",\"#1a9641\",\"#1a9641\",\"#1a9641\",\"#1a9641\",\"#1a9641\",\"#1a9641\",\"#1a9641\",\"#1a9641\",\"#1a9641\",\"#1a9641\",\"#1a9641\",\"#1a9641\",\"#1a9641\",\"#1a9641\",\"#1a9641\",\"#1a9641\",\"#1a9641\",\"#1a9641\",\"#1a9641\",\"#1a9641\",\"#1a9641\",\"#1a9641\",\"#1a9641\",\"#1a9641\",\"#1a9641\",\"#1a9641\",\"#1a9641\",\"#1a9641\",\"#1a9641\",\"#1a9641\",\"#1a9641\",\"#1a9641\",\"#1a9641\",\"#1a9641\",\"#1a9641\",\"#1a9641\",\"#1a9641\",\"#1a9641\",\"#1a9641\",\"#1a9641\",\"#1a9641\",\"#1a9641\",\"#1a9641\",\"#1a9641\",\"#1a9641\",\"#1a9641\",\"#1a9641\",\"#1a9641\",\"#1a9641\",\"#1a9641\",\"#1a9641\",\"#1a9641\",\"#1a9641\",\"#1a9641\",\"#1a9641\",\"#1a9641\",\"#1a9641\",\"#1a9641\",\"#1a9641\",\"#1a9641\",\"#1a9641\",\"#1a9641\",\"#1a9641\",\"#1a9641\",\"#1a9641\",\"#1a9641\",\"#1a9641\",\"#1a9641\",\"#1a9641\",\"#1a9641\",\"#1a9641\",\"#1a9641\",\"#1a9641\",\"#1a9641\",\"#1a9641\",\"#1a9641\",\"#1a9641\",\"#1a9641\",\"#1a9641\",\"#1a9641\",\"#1a9641\",\"#1a9641\",\"#1a9641\",\"#1a9641\",\"#1a9641\",\"#1a9641\",\"#1a9641\",\"#1a9641\",\"#1a9641\",\"#1a9641\",\"#1a9641\",\"#1a9641\",\"#1a9641\",\"#1a9641\",\"#1a9641\",\"#1a9641\",\"#1a9641\",\"#1a9641\",\"#1a9641\",\"#1a9641\",\"#1a9641\",\"#1a9641\",\"#1a9641\",\"#1a9641\",\"#1a9641\",\"#1a9641\",\"#1a9641\",\"#1a9641\",\"#1a9641\",\"#1a9641\",\"#1a9641\",\"#1a9641\",\"#1a9641\",\"#1a9641\",\"#1a9641\",\"#1a9641\",\"#1a9641\",\"#1a9641\",\"#1a9641\",\"#1a9641\",\"#1a9641\",\"#1a9641\",\"#1a9641\",\"#1a9641\",\"#1a9641\",\"#1a9641\",\"#1a9641\",\"#1a9641\",\"#1a9641\",\"#1a9641\",\"#1a9641\",\"#1a9641\",\"#1a9641\",\"#1a9641\",\"#1a9641\",\"#1a9641\",\"#1a9641\",\"#1a9641\",\"#1a9641\",\"#1a9641\",\"#1a9641\",\"#1a9641\",\"#1a9641\",\"#1a9641\",\"#1a9641\",\"#1a9641\",\"#1a9641\",\"#1a9641\",\"#1a9641\",\"#1a9641\",\"#1a9641\",\"#1a9641\",\"#1a9641\",\"#1a9641\",\"#1a9641\",\"#1a9641\",\"#1a9641\",\"#1a9641\",\"#1a9641\",\"#1a9641\",\"#1a9641\",\"#1a9641\",\"#1a9641\",\"#1a9641\",\"#1a9641\",\"#1a9641\",\"#1a9641\",\"#1a9641\",\"#1a9641\",\"#1a9641\",\"#1a9641\",\"#1a9641\",\"#1a9641\",\"#1a9641\",\"#1a9641\",\"#1a9641\",\"#1a9641\",\"#1a9641\",\"#1a9641\",\"#1a9641\",\"#1a9641\",\"#1a9641\",\"#1a9641\",\"#1a9641\",\"#1a9641\",\"#1a9641\",\"#1a9641\",\"#1a9641\",\"#1a9641\",\"#1a9641\",\"#1a9641\",\"#1a9641\",\"#1a9641\",\"#1a9641\",\"#1a9641\",\"#1a9641\",\"#1a9641\",\"#1a9641\",\"#1a9641\",\"#1a9641\",\"#1a9641\",\"#1a9641\",\"#1a9641\",\"#1a9641\",\"#1a9641\",\"#1a9641\",\"#1a9641\",\"#1a9641\",\"#1a9641\",\"#1a9641\",\"#1a9641\",\"#1a9641\",\"#1a9641\",\"#1a9641\",\"#1a9641\",\"#1a9641\",\"#1a9641\",\"#1a9641\",\"#1a9641\",\"#1a9641\",\"#1a9641\",\"#1a9641\",\"#1a9641\",\"#1a9641\",\"#1a9641\",\"#1a9641\",\"#1a9641\",\"#1a9641\",\"#1a9641\",\"#1a9641\",\"#1a9641\",\"#1a9641\",\"#1a9641\",\"#1a9641\",\"#1a9641\",\"#1a9641\",\"#1a9641\",\"#1a9641\",\"#1a9641\",\"#1a9641\",\"#1a9641\",\"#1a9641\",\"#1a9641\",\"#1a9641\",\"#1a9641\",\"#1a9641\",\"#1a9641\",\"#1a9641\",\"#1a9641\",\"#1a9641\",\"#1a9641\",\"#1a9641\",\"#1a9641\",\"#1a9641\",\"#1a9641\",\"#1a9641\",\"#1a9641\",\"#1a9641\",\"#1a9641\",\"#1a9641\",\"#1a9641\",\"#1a9641\",\"#1a9641\",\"#1a9641\",\"#1a9641\",\"#1a9641\",\"#1a9641\",\"#1a9641\",\"#1a9641\",\"#1a9641\",\"#1a9641\",\"#1a9641\",\"#1a9641\",\"#1a9641\",\"#1a9641\",\"#1a9641\",\"#1a9641\",\"#1a9641\",\"#1a9641\",\"#1a9641\",\"#1a9641\",\"#1a9641\",\"#1a9641\",\"#1a9641\",\"#1a9641\",\"#1a9641\",\"#1a9641\",\"#1a9641\",\"#1a9641\",\"#1a9641\",\"#1a9641\",\"#1a9641\",\"#1a9641\",\"#1a9641\",\"#1a9641\",\"#1a9641\",\"#1a9641\",\"#1a9641\",\"#1a9641\",\"#1a9641\",\"#1a9641\",\"#1a9641\",\"#1a9641\",\"#1a9641\",\"#1a9641\",\"#1a9641\",\"#1a9641\",\"#1a9641\",\"#1a9641\",\"#1a9641\",\"#1a9641\",\"#1a9641\",\"#1a9641\",\"#1a9641\",\"#1a9641\",\"#1a9641\",\"#1a9641\",\"#1a9641\",\"#1a9641\",\"#1a9641\",\"#1a9641\",\"#1a9641\",\"#1a9641\",\"#1a9641\",\"#1a9641\",\"#1a9641\",\"#1a9641\",\"#1a9641\",\"#1a9641\",\"#1a9641\",\"#1a9641\",\"#1a9641\",\"#1a9641\",\"#1a9641\",\"#1a9641\",\"#1a9641\",\"#1a9641\",\"#1a9641\",\"#1a9641\",\"#1a9641\",\"#1a9641\",\"#1a9641\",\"#1a9641\",\"#1a9641\",\"#1a9641\",\"#1a9641\",\"#1a9641\",\"#1a9641\",\"#1a9641\",\"#1a9641\",\"#1a9641\",\"#1a9641\",\"#1a9641\",\"#1a9641\",\"#1a9641\",\"#1a9641\",\"#1a9641\",\"#1a9641\",\"#1a9641\",\"#1a9641\",\"#1a9641\",\"#1a9641\",\"#1a9641\",\"#1a9641\",\"#1a9641\",\"#1a9641\",\"#1a9641\",\"#1a9641\",\"#1a9641\",\"#1a9641\",\"#1a9641\",\"#1a9641\",\"#1a9641\",\"#1a9641\",\"#1a9641\",\"#1a9641\",\"#1a9641\",\"#1a9641\",\"#1a9641\",\"#1a9641\",\"#1a9641\",\"#1a9641\",\"#1a9641\",\"#1a9641\",\"#1a9641\",\"#1a9641\",\"#1a9641\",\"#1a9641\",\"#1a9641\",\"#1a9641\",\"#1a9641\",\"#1a9641\",\"#1a9641\",\"#1a9641\",\"#1a9641\",\"#1a9641\",\"#1a9641\",\"#1a9641\",\"#1a9641\",\"#1a9641\",\"#1a9641\",\"#1a9641\",\"#1a9641\",\"#1a9641\",\"#1a9641\",\"#1a9641\",\"#1a9641\",\"#1a9641\",\"#1a9641\",\"#1a9641\",\"#1a9641\",\"#1a9641\",\"#1a9641\",\"#1a9641\",\"#1a9641\",\"#1a9641\",\"#1a9641\",\"#1a9641\",\"#1a9641\",\"#1a9641\",\"#1a9641\",\"#1a9641\",\"#1a9641\",\"#1a9641\",\"#1a9641\",\"#1a9641\",\"#1a9641\",\"#1a9641\",\"#1a9641\",\"#1a9641\",\"#1a9641\",\"#1a9641\",\"#1a9641\",\"#1a9641\",\"#1a9641\",\"#1a9641\",\"#1a9641\",\"#1a9641\",\"#1a9641\",\"#1a9641\",\"#1a9641\",\"#1a9641\",\"#1a9641\",\"#1a9641\",\"#1a9641\",\"#1a9641\",\"#1a9641\",\"#1a9641\",\"#1a9641\",\"#1a9641\",\"#1a9641\",\"#1a9641\",\"#1a9641\",\"#1a9641\",\"#1a9641\",\"#1a9641\",\"#1a9641\",\"#1a9641\",\"#1a9641\",\"#1a9641\",\"#1a9641\",\"#1a9641\",\"#1a9641\",\"#1a9641\",\"#1a9641\",\"#1a9641\",\"#1a9641\",\"#1a9641\",\"#1a9641\",\"#1a9641\",\"#1a9641\",\"#1a9641\",\"#1a9641\",\"#1a9641\",\"#1a9641\",\"#1a9641\",\"#1a9641\",\"#1a9641\",\"#1a9641\",\"#1a9641\",\"#1a9641\",\"#1a9641\",\"#1a9641\",\"#1a9641\",\"#1a9641\",\"#1a9641\",\"#1a9641\",\"#1a9641\",\"#1a9641\",\"#1a9641\",\"#1a9641\",\"#1a9641\",\"#1a9641\",\"#1a9641\",\"#1a9641\",\"#1a9641\",\"#1a9641\",\"#1a9641\",\"#1a9641\",\"#1a9641\",\"#1a9641\",\"#1a9641\",\"#1a9641\",\"#1a9641\",\"#1a9641\",\"#1a9641\",\"#1a9641\",\"#1a9641\",\"#1a9641\",\"#1a9641\",\"#1a9641\",\"#1a9641\",\"#1a9641\",\"#1a9641\",\"#1a9641\",\"#1a9641\",\"#1a9641\",\"#1a9641\",\"#1a9641\",\"#1a9641\",\"#1a9641\",\"#1a9641\",\"#1a9641\",\"#1a9641\",\"#1a9641\",\"#1a9641\",\"#1a9641\",\"#1a9641\",\"#1a9641\",\"#1a9641\",\"#1a9641\",\"#1a9641\",\"#1a9641\",\"#1a9641\",\"#1a9641\",\"#1a9641\",\"#1a9641\",\"#1a9641\",\"#1a9641\",\"#1a9641\",\"#1a9641\",\"#1a9641\",\"#1a9641\",\"#1a9641\",\"#1a9641\",\"#1a9641\",\"#1a9641\",\"#1a9641\",\"#1a9641\",\"#1a9641\",\"#1a9641\",\"#1a9641\",\"#1a9641\",\"#1a9641\",\"#1a9641\",\"#1a9641\",\"#1a9641\",\"#1a9641\",\"#1a9641\",\"#1a9641\",\"#1a9641\",\"#1a9641\",\"#1a9641\",\"#1a9641\",\"#1a9641\",\"#1a9641\",\"#1a9641\",\"#1a9641\",\"#1a9641\",\"#1a9641\",\"#1a9641\",\"#1a9641\",\"#1a9641\",\"#1a9641\",\"#1a9641\",\"#1a9641\",\"#1a9641\",\"#1a9641\",\"#1a9641\",\"#1a9641\",\"#1a9641\",\"#1a9641\",\"#1a9641\",\"#1a9641\",\"#1a9641\",\"#1a9641\",\"#1a9641\",\"#1a9641\",\"#1a9641\",\"#1a9641\",\"#1a9641\"],\"gene_id\":[\"ABCF1\",\"ABR\",\"ACTB\",\"ACTG1\",\"AHR\",\"CRYBG1\",\"ALDH1B1\",\"APEX1\",\"BIRC5\",\"ARCN1\",\"ARF4\",\"RHOB\",\"ARHGDIB\",\"ARRB1\",\"ARRB2\",\"ATF4\",\"ATP2B1\",\"ATP5F1E\",\"ATP5MC3\",\"B2M\",\"BCL2\",\"ZFP36L2\",\"KLF9\",\"TMEM50B\",\"CALM1\",\"CALM2\",\"CALM3\",\"CALR\",\"CAPNS1\",\"CAPZB\",\"RUNX3\",\"CBL\",\"CCNA2\",\"CCND2\",\"CCNG1\",\"CD53\",\"CDC25A\",\"CDC42\",\"CDK6\",\"CDKN1B\",\"CENPA\",\"CFL1\",\"FOXN3\",\"CHML\",\"CIRBP\",\"CLCN4\",\"CLCN6\",\"CLIC1\",\"CLK1\",\"CLK2\",\"CLNS1A\",\"CNN2\",\"KLF6\",\"SLC31A1\",\"CRKL\",\"MAPK14\",\"CSF1R\",\"CSNK1E\",\"CSRP1\",\"CTNND1\",\"CYBA\",\"DAP\",\"DBI\",\"TIMM8A\",\"DHCR24\",\"DNMT3A\",\"RCAN1\",\"TSC22D3\",\"DTNA\",\"HBEGF\",\"GPR183\",\"S1PR3\",\"EEF1G\",\"EGR1\",\"EIF4A2\",\"EIF4EBP1\",\"EIF5\",\"STOM\",\"CLN8\",\"ERF\",\"ETF1\",\"ETS2\",\"EZH2\",\"F3\",\"FCGR2A\",\"FDFT1\",\"FLT3\",\"MTOR\",\"FTH1\",\"FTL\",\"FUS\",\"FUT4\",\"GAPDH\",\"GARS1\",\"GLUD1\",\"GLUL\",\"GMFB\",\"GNAI2\",\"GNAQ\",\"GNAS\",\"GOLGA3\",\"ARHGAP35\",\"PDIA3\",\"GSPT1\",\"GSR\",\"GTF2H1\",\"HDGF\",\"HINT1\",\"HK2\",\"HLA-B\",\"HMGCR\",\"HMGCS1\",\"HNRNPA2B1\",\"DNAJA1\",\"HSPA1B\",\"HSPA5\",\"HSPA8\",\"HSP90AA1\",\"DNAJB1\",\"ICAM1\",\"ID2\",\"IDI1\",\"IFIT2\",\"IFNGR1\",\"IL6R\",\"IL7R\",\"CXCL8\",\"IL10RB\",\"ILF3\",\"INHBA\",\"INPP5A\",\"INSIG1\",\"IREB2\",\"IRF1\",\"ITGAL\",\"JUN\",\"JUNB\",\"JUND\",\"KPNA3\",\"LAIR1\",\"LASP1\",\"LCP1\",\"LCP2\",\"LDHA\",\"LRPAP1\",\"CD180\",\"MXD1\",\"MAFG\",\"MAT2A\",\"MCL1\",\"MDM2\",\"MFAP1\",\"MFAP3\",\"MFNG\",\"KMT2A\",\"MMP14\",\"MSN\",\"MTAP\",\"MTRR\",\"GADD45B\",\"MYH9\",\"MYL6\",\"NAB2\",\"NCAM1\",\"NCL\",\"NDUFS5\",\"RPL10A\",\"NEDD9\",\"NFIC\",\"NFKBIA\",\"NFYA\",\"NFYB\",\"NPM1\",\"ODC1\",\"OSM\",\"P2RY2\",\"PRDX1\",\"PAK2\",\"PDCD2\",\"PDE4D\",\"PDK1\",\"ENPP2\",\"PFKFB3\",\"PFN1\",\"PGAM1\",\"SLC25A3\",\"SERPINB8\",\"PIM1\",\"PLAU\",\"PLAUR\",\"PLCG2\",\"PLEK\",\"PMAIP1\",\"POLR2C\",\"POU2F2\",\"PPAT\",\"PPM1A\",\"PPP1CC\",\"PPP1R3D\",\"PPP1R8\",\"PPP1R10\",\"PPP2R1B\",\"PPP3CA\",\"PPP3R1\",\"PRKACB\",\"PKIB\",\"PRKAR1A\",\"PRKCB\",\"THAP12\",\"PSMA5\",\"PSMB7\",\"PSMC2\",\"PSMC4\",\"PTPN7\",\"PTPRC\",\"PTPRE\",\"RAD1\",\"PURB\",\"QARS1\",\"RAB27A\",\"RALA\",\"RAP2B\",\"RB1\",\"RFC2\",\"RFX5\",\"RGS16\",\"6043\",\"RNF4\",\"RPE\",\"RPL8\",\"RPL26\",\"RPL34\",\"RPL38\",\"RPL36A\",\"RPLP2\",\"RPS3A\",\"RPS6KA3\",\"RPS11\",\"RRM2\",\"RSU1\",\"S100A10\",\"S100A11\",\"MSMO1\",\"SCD\",\"SDCBP\",\"SDHD\",\"SEC13\",\"SET\",\"SRSF1\",\"SRSF2\",\"SRSF4\",\"SRSF6\",\"SRSF7\",\"SHC1\",\"ST3GAL1\",\"SKIL\",\"SKP2\",\"SLA\",\"SLC2A3\",\"SLC6A6\",\"SLC16A1\",\"SLC20A2\",\"SMN1\",\"SMN2\",\"SOX4\",\"SRF\",\"SSR3\",\"STAT1\",\"AURKA\",\"MED22\",\"VAMP2\",\"TACC1\",\"TEC\",\"TMBIM6\",\"TFE3\",\"TFRC\",\"TMPO\",\"TMSB4X\",\"TNF\",\"TPD52\",\"TPM4\",\"HSP90B1\",\"CCT3\",\"TSN\",\"TSNAX\",\"TXNRD1\",\"TYMS\",\"UBC\",\"UBE2H\",\"UBE3A\",\"UGCG\",\"UMPS\",\"VASP\",\"VCL\",\"VDAC3\",\"VEGFA\",\"VLDLR\",\"XBP1\",\"XPO1\",\"YWHAE\",\"YWHAG\",\"YWHAH\",\"YWHAZ\",\"ZFP36\",\"CNBP\",\"ZNF12\",\"ZNF708\",\"ZNF16\",\"ZNF33B\",\"ZNF124\",\"ZNF138\",\"ZNF195\",\"ZNF217\",\"ZNF230\",\"ZYX\",\"BTG2\",\"CXCR4\",\"SLBP\",\"REEP5\",\"ABHD16A\",\"BRD3\",\"CCDC6\",\"NCOA4\",\"PTP4A2\",\"MLF2\",\"KMT2D\",\"SLC7A5\",\"CDC7\",\"DYRK2\",\"ATRN\",\"KCNAB2\",\"CDC14A\",\"YARS1\",\"PDXK\",\"KLF7\",\"JRK\",\"DYNLL1\",\"EIF3H\",\"VAMP8\",\"PEA15\",\"TNFSF14\",\"TNFRSF10B\",\"DPM1\",\"CFLAR\",\"IER3\",\"FUBP1\",\"SLC5A6\",\"DDX18\",\"AP3D1\",\"SNORD73A\",\"RPL14\",\"DOK2\",\"USP14\",\"CCNE2\",\"RABEP1\",\"TMSB10\",\"BUB3\",\"ZBED1\",\"LRRFIP1\",\"NOLC1\",\"PDLIM7\",\"MAPKAPK2\",\"STK17B\",\"SRSF11\",\"SNORD30\",\"SNORD28\",\"SNORD27\",\"SNORD26\",\"SNORD22\",\"CD83\",\"B4GALT5\",\"RPL23\",\"LONP1\",\"MED17\",\"ROCK2\",\"EI24\",\"RAB3D\",\"MRPL33\",\"GOSR2\",\"CLOCK\",\"WTAP\",\"IER2\",\"CYTIP\",\"PDIA4\",\"RNF7\",\"ARHGEF10\",\"VGLL4\",\"EDEM1\",\"HDAC9\",\"ZSCAN12\",\"MLEC\",\"RASSF2\",\"TM9SF4\",\"TBC1D5\",\"SERTAD2\",\"CKAP5\",\"TOMM20\",\"GAB2\",\"CEP170\",\"TOMM70\",\"ZBTB39\",\"G3BP2\",\"KBTBD11\",\"JOSD1\",\"PUM3\",\"WDR1\",\"HNRNPDL\",\"PTBP3\",\"SH2B3\",\"ARPC5\",\"ACTR3\",\"TSPAN3\",\"ARPC2\",\"PREB\",\"ARL4A\",\"ZNF263\",\"PDIA6\",\"NAMPT\",\"RBM12\",\"CNIH1\",\"RBM5\",\"TXNDC9\",\"PRMT3\",\"PSME3\",\"NME6\",\"TRIM13\",\"TRIB1\",\"LANCL1\",\"IKZF1\",\"TFG\",\"CITED2\",\"TADA3\",\"CAP1\",\"SYNCRIP\",\"CDC42EP3\",\"ERLIN1\",\"TRIM16\",\"MYL12A\",\"IGF2BP2\",\"CTCF\",\"GNA13\",\"USP39\",\"NUDC\",\"PTGES3\",\"SRSF10\",\"ZNF266\",\"ZNF268\",\"MTHFD2\",\"CLPX\",\"POLR1G\",\"MALT1\",\"MAN1A2\",\"TCERG1\",\"SUB1\",\"PRDX3\",\"AFG3L2\",\"ERP29\",\"MAPRE2\",\"KCNQ1OT1\",\"METAP2\",\"IMMT\",\"GLIPR1\",\"RAB31\",\"UBE2C\",\"DIDO1\",\"WDR5\",\"ATE1\",\"NUDT4\",\"STRAP\",\"BAZ1A\",\"PTENP1\",\"PLPBP\",\"AKAP13\",\"DUSP10\",\"RPL35\",\"RNF139\",\"PACSIN2\",\"XPOT\",\"ECD\",\"GPN1\",\"RASA3\",\"SCAF8\",\"ZNF507\",\"CHSY1\",\"ZNF510\",\"ZBTB1\",\"DENND3\",\"CARD8\",\"BTBD3\",\"NCBP2\",\"SEPHS2\",\"SEPHS1\",\"PCNX1\",\"STK38L\",\"KIF21B\",\"GGA2\",\"WAPL\",\"EMC1\",\"SETD1B\",\"SWAP70\",\"TRIM35\",\"TAB2\",\"SEPTIN6\",\"WDR43\",\"ARL6IP1\",\"RRS1\",\"SIK2\",\"ANKRD28\",\"CAMTA1\",\"NUP160\",\"UBR2\",\"NEMP1\",\"DNAJC16\",\"USP24\",\"LARP1\",\"PIP5K1C\",\"FBXO46\",\"EXOSC2\",\"COTL1\",\"ICMT\",\"SLC39A14\",\"RPL13A\",\"CORO1C\",\"SNHG1\",\"SLC7A11\",\"STX12\",\"IL17RA\",\"BCL2L13\",\"SLC39A6\",\"RPL36\",\"LETMD1\",\"CLIC4\",\"C20orf194\",\"GORASP2\",\"FAM32A\",\"IPCEF1\",\"ZNF451\",\"PPP1R16B\",\"ANKRD17\",\"GIGYF2\",\"SERBP1\",\"FBXW8\",\"INTS6\",\"TIMM10B\",\"TIMM8B\",\"CKAP2\",\"TBL2\",\"26770\",\"26774\",\"SNORD57\",\"SNORD49A\",\"SNORD36A\",\"RANBP6\",\"AP3M1\",\"DAPP1\",\"UQCRQ\",\"SNX5\",\"KLHL20\",\"LSM1\",\"RBMX\",\"TMEM97\",\"MCAT\",\"NKIRAS2\",\"MRPL18\",\"SSU72\",\"TBK1\",\"MYLIP\",\"CLEC2D\",\"PYCR2\",\"HILPDA\",\"SEC61A1\",\"TIMM22\",\"GPR132\",\"TNPO2\",\"NT5C\",\"DNTTIP2\",\"ZBTB21\",\"RRM2B\",\"CHST11\",\"ARHGEF3\",\"EXOSC3\",\"PRELID3B\",\"GMNN\",\"TMX2\",\"KMT5B\",\"NAA20\",\"MRTO4\",\"DCTN4\",\"BET1L\",\"KLF3\",\"MAPKAPK5-AS1\",\"COA4\",\"ZDHHC3\",\"FAM13B\",\"FAM53C\",\"MEX3C\",\"TNFRSF12A\",\"MRPS17\",\"NIP7\",\"ZNF107\",\"UBE2J1\",\"LIMA1\",\"NOP16\",\"NELFCD\",\"ZNF581\",\"CYRIB\",\"GDE1\",\"NOP58\",\"RTRAF\",\"MRPS23\",\"ZFR\",\"SARAF\",\"SELENOT\",\"CAB39\",\"CDK12\",\"MAP3K20\",\"BTBD1\",\"CSNK1G1\",\"DCUN1D1\",\"TREM1\",\"SLC38A2\",\"RNF216\",\"FAM193B\",\"DDIT4\",\"MIR4453HG\",\"CCNJ\",\"TBC1D13\",\"XAF1\",\"WBP1L\",\"PGPEP1\",\"TMEM214\",\"QRICH1\",\"NSUN2\",\"CMTM6\",\"CHTF8\",\"TRMT10C\",\"TMEM70\",\"SLC25A38\",\"NOL8\",\"MRPL20\",\"C9orf40\",\"BSDC1\",\"ARHGAP17\",\"PRPF38B\",\"LARP1B\",\"ELP3\",\"MTPAP\",\"NAT10\",\"MOB1A\",\"SMU1\",\"PACC1\",\"QRSL1\",\"RSAD1\",\"BLOC1S4\",\"IMPACT\",\"LGR4\",\"LRRC59\",\"CSGALNACT2\",\"FEM1A\",\"CDCA7L\",\"CNOT11\",\"CDV3\",\"UBE2Q1\",\"ZCCHC8\",\"TENT5A\",\"THUMPD1\",\"DENND4C\",\"GPATCH2L\",\"PPP4R3A\",\"YEATS2\",\"NDC1\",\"TSR1\",\"SEPTIN11\",\"INTS9\",\"NGLY1\",\"RIOK2\",\"DDX28\",\"ASH1L\",\"CLDND1\",\"TWNK\",\"CFAP298\",\"CDC42SE1\",\"STOX2\",\"BBX\",\"TOMM22\",\"GOPC\",\"CHMP1B\",\"SMURF1\",\"ZNFX1\",\"PPP4R3B\",\"DANCR\",\"ZNF286A\",\"ARID1B\",\"MIB1\",\"ZNF398\",\"ARRDC3\",\"TMEM181\",\"ZBTB2\",\"PHF12\",\"RDH14\",\"ZNF317\",\"DDX55\",\"SFMBT2\",\"CTDSP1\",\"MS4A7\",\"MID1IP1\",\"PLEKHA2\",\"GAS5\",\"PRDM15\",\"MOAP1\",\"MS4A6A\",\"TENT4B\",\"NSD1\",\"NOM1\",\"CSRNP1\",\"TNS3\",\"ILRUN\",\"ISL2\",\"YTHDC2\",\"NABP1\",\"MRPS26\",\"WNK1\",\"MPPE1\",\"GGCT\",\"PRRG4\",\"METTL16\",\"WDR77\",\"NOL12\",\"EFHD2\",\"IRX3\",\"ADIPOR2\",\"TNFAIP8L2\",\"C22orf46\",\"USB1\",\"ICE2\",\"QTRT2\",\"ZFAND1\",\"SPRING1\",\"SLTM\",\"ATP8B4\",\"SETD6\",\"DOCK5\",\"NAA50\",\"RAB11FIP1\",\"ORAI2\",\"CXorf21\",\"GRPEL1\",\"PLEKHO2\",\"LIMD2\",\"ZNF436\",\"DDHD1\",\"APOL6\",\"SETD7\",\"SLC38A1\",\"INTS14\",\"ANKRD13C\",\"APOLD1\",\"GFOD2\",\"MAP1LC3B\",\"VMP1\",\"SEH1L\",\"SH3BGRL3\",\"EMC6\",\"CDCA3\",\"SESN2\",\"SPRTN\",\"ZNF644\",\"CHD6\",\"LRRC8C\",\"EIF1AD\",\"MIEN1\",\"COG8\",\"NIFK\",\"DCTN5\",\"ZNF559\",\"CDIN1\",\"MRPL43\",\"MAK16\",\"EBPL\",\"USP32\",\"MS4A14\",\"MPV17L2\",\"NFKBID\",\"SFT2D3\",\"ARHGEF39\",\"FAM136A\",\"FAM104A\",\"WDR73\",\"FBXL20\",\"SNHG7\",\"USP45\",\"SMIM3\",\"SNHG12\",\"SNORD14C\",\"ITPRIP\",\"GTPBP10\",\"TRIM4\",\"RSPRY1\",\"ZNF551\",\"ZNF766\",\"KNSTRN\",\"JPT2\",\"DMAC1\",\"C12orf65\",\"MYADM\",\"LONRF1\",\"ARRDC4\",\"STRADA\",\"TIFA\",\"ZNF276\",\"MARS2\",\"B3GNT7\",\"CACNA2D4\",\"FOXP2\",\"SFXN1\",\"TGS1\",\"KTI12\",\"SMIM12\",\"HELQ\",\"MIR155HG\",\"SLC25A25\",\"PTPMT1\",\"ZNF526\",\"NIBAN1\",\"EXOSC6\",\"PIK3AP1\",\"ZNF641\",\"DCUN1D3\",\"CMTM3\",\"PAQR4\",\"TBC1D16\",\"SNHG29\",\"EID2B\",\"IRGQ\",\"MOB3A\",\"TCEANC2\",\"RNF19B\",\"FAM168B\",\"KCTD18\",\"MTERF4\",\"STARD4\",\"NCOA7\",\"CCDC26\",\"LETM2\",\"SPIN4\",\"NOL4L\",\"ZNF280B\",\"SAMD8\",\"LACC1\",\"ZNF597\",\"ZNF417\",\"ILF3-DT\",\"SPC24\",\"C19orf25\",\"PDIK1L\",\"LSM14B\",\"CCDC117\",\"METTL21A\",\"PPM1L\",\"CCDC12\",\"SNRNP48\",\"RBM33\",\"VPS13B\",\"FAM91A1\",\"C18orf54\",\"ZNF564\",\"CITED4\",\"SPATA5\",\"QSOX2\",\"PPP1R18\",\"PGAM5\",\"PRXL2C\",\"ZNF367\",\"SPRED2\",\"DHFR2\",\"RPL22L1\",\"PLD6\",\"VMA21\",\"HIPK1\",\"TYSND1\",\"PATL1\",\"ZNF438\",\"REEP3\",\"JMJD1C\",\"SKA3\",\"POLR1F\",\"LNX2\",\"CNOT6L\",\"RNASEH1\",\"RNF169\",\"ZNF549\",\"MFSD8\",\"SERINC5\",\"ARHGAP30\",\"SPRYD4\",\"GXYLT1\",\"283596\",\"LINC00641\",\"UBALD2\",\"ZNF776\",\"ZNF780A\",\"C20orf197\",\"TCAIM\",\"RAB7B\",\"CCDC137\",\"MSL1\",\"ATXN1L\",\"MTX3\",\"AC010186.2\",\"MALAT1\",\"387066\",\"PEDS1\",\"BLOC1S3\",\"RBM12B\",\"ZNF321P\",\"KNOP1\",\"MBNL1-AS1\",\"TOMM5\",\"401588\",\"MIR223\",\"ALG11\",\"THUMPD3-AS1\",\"NRARP\",\"ZFAS1\",\"MIR4435-2HG\",\"ATXN7L3B\",\"619567\",\"SNORA4\",\"EIF3J-DT\",\"SNORA8\",\"HNRNPA1P10\",\"SNORA1\",\"SNORA61\",\"SNORA25\",\"692088\",\"SNORD65\",\"692196\",\"SNORD86\",\"SNORD99\",\"GOLGA8O\",\"GOLGA8H\",\"CCR2\",\"SNHG8\",\"100288730\",\"ZNF587B\",\"PET117\",\"SNHG21\",\"SH3BP5-AS1\",\"IQCH-AS1\",\"TSPOAP1-AS1\",\"SNHG19\",\"MINCR\",\"LCT-AS1\",\"NT5C1B-RDH14\",\"DNAAF4-CCPG1\",\"100533975\",\"MIR4426\",\"TPTEP2-CSNK1E\",\"106635532\",\"106635533\"],\"genes\":[\"ABCF1\",\"ABR\",\"ACTB\",\"ACTG1\",\"AHR\",\"CRYBG1\",\"ALDH1B1\",\"APEX1\",\"BIRC5\",\"ARCN1\",\"ARF4\",\"RHOB\",\"ARHGDIB\",\"ARRB1\",\"ARRB2\",\"ATF4\",\"ATP2B1\",\"ATP5F1E\",\"ATP5MC3\",\"B2M\",\"BCL2\",\"ZFP36L2\",\"KLF9\",\"TMEM50B\",\"CALM1\",\"CALM2\",\"CALM3\",\"CALR\",\"CAPNS1\",\"CAPZB\",\"RUNX3\",\"CBL\",\"CCNA2\",\"CCND2\",\"CCNG1\",\"CD53\",\"CDC25A\",\"CDC42\",\"CDK6\",\"CDKN1B\",\"CENPA\",\"CFL1\",\"FOXN3\",\"CHML\",\"CIRBP\",\"CLCN4\",\"CLCN6\",\"CLIC1\",\"CLK1\",\"CLK2\",\"CLNS1A\",\"CNN2\",\"KLF6\",\"SLC31A1\",\"CRKL\",\"MAPK14\",\"CSF1R\",\"CSNK1E\",\"CSRP1\",\"CTNND1\",\"CYBA\",\"DAP\",\"DBI\",\"TIMM8A\",\"DHCR24\",\"DNMT3A\",\"RCAN1\",\"TSC22D3\",\"DTNA\",\"HBEGF\",\"GPR183\",\"S1PR3\",\"EEF1G\",\"EGR1\",\"EIF4A2\",\"EIF4EBP1\",\"EIF5\",\"STOM\",\"CLN8\",\"ERF\",\"ETF1\",\"ETS2\",\"EZH2\",\"F3\",\"FCGR2A\",\"FDFT1\",\"FLT3\",\"MTOR\",\"FTH1\",\"FTL\",\"FUS\",\"FUT4\",\"GAPDH\",\"GARS1\",\"GLUD1\",\"GLUL\",\"GMFB\",\"GNAI2\",\"GNAQ\",\"GNAS\",\"GOLGA3\",\"ARHGAP35\",\"PDIA3\",\"GSPT1\",\"GSR\",\"GTF2H1\",\"HDGF\",\"HINT1\",\"HK2\",\"HLA-B\",\"HMGCR\",\"HMGCS1\",\"HNRNPA2B1\",\"DNAJA1\",\"HSPA1B\",\"HSPA5\",\"HSPA8\",\"HSP90AA1\",\"DNAJB1\",\"ICAM1\",\"ID2\",\"IDI1\",\"IFIT2\",\"IFNGR1\",\"IL6R\",\"IL7R\",\"CXCL8\",\"IL10RB\",\"ILF3\",\"INHBA\",\"INPP5A\",\"INSIG1\",\"IREB2\",\"IRF1\",\"ITGAL\",\"JUN\",\"JUNB\",\"JUND\",\"KPNA3\",\"LAIR1\",\"LASP1\",\"LCP1\",\"LCP2\",\"LDHA\",\"LRPAP1\",\"CD180\",\"MXD1\",\"MAFG\",\"MAT2A\",\"MCL1\",\"MDM2\",\"MFAP1\",\"MFAP3\",\"MFNG\",\"KMT2A\",\"MMP14\",\"MSN\",\"MTAP\",\"MTRR\",\"GADD45B\",\"MYH9\",\"MYL6\",\"NAB2\",\"NCAM1\",\"NCL\",\"NDUFS5\",\"RPL10A\",\"NEDD9\",\"NFIC\",\"NFKBIA\",\"NFYA\",\"NFYB\",\"NPM1\",\"ODC1\",\"OSM\",\"P2RY2\",\"PRDX1\",\"PAK2\",\"PDCD2\",\"PDE4D\",\"PDK1\",\"ENPP2\",\"PFKFB3\",\"PFN1\",\"PGAM1\",\"SLC25A3\",\"SERPINB8\",\"PIM1\",\"PLAU\",\"PLAUR\",\"PLCG2\",\"PLEK\",\"PMAIP1\",\"POLR2C\",\"POU2F2\",\"PPAT\",\"PPM1A\",\"PPP1CC\",\"PPP1R3D\",\"PPP1R8\",\"PPP1R10\",\"PPP2R1B\",\"PPP3CA\",\"PPP3R1\",\"PRKACB\",\"PKIB\",\"PRKAR1A\",\"PRKCB\",\"THAP12\",\"PSMA5\",\"PSMB7\",\"PSMC2\",\"PSMC4\",\"PTPN7\",\"PTPRC\",\"PTPRE\",\"RAD1\",\"PURB\",\"QARS1\",\"RAB27A\",\"RALA\",\"RAP2B\",\"RB1\",\"RFC2\",\"RFX5\",\"RGS16\",\"6043\",\"RNF4\",\"RPE\",\"RPL8\",\"RPL26\",\"RPL34\",\"RPL38\",\"RPL36A\",\"RPLP2\",\"RPS3A\",\"RPS6KA3\",\"RPS11\",\"RRM2\",\"RSU1\",\"S100A10\",\"S100A11\",\"MSMO1\",\"SCD\",\"SDCBP\",\"SDHD\",\"SEC13\",\"SET\",\"SRSF1\",\"SRSF2\",\"SRSF4\",\"SRSF6\",\"SRSF7\",\"SHC1\",\"ST3GAL1\",\"SKIL\",\"SKP2\",\"SLA\",\"SLC2A3\",\"SLC6A6\",\"SLC16A1\",\"SLC20A2\",\"SMN1\",\"SMN2\",\"SOX4\",\"SRF\",\"SSR3\",\"STAT1\",\"AURKA\",\"MED22\",\"VAMP2\",\"TACC1\",\"TEC\",\"TMBIM6\",\"TFE3\",\"TFRC\",\"TMPO\",\"TMSB4X\",\"TNF\",\"TPD52\",\"TPM4\",\"HSP90B1\",\"CCT3\",\"TSN\",\"TSNAX\",\"TXNRD1\",\"TYMS\",\"UBC\",\"UBE2H\",\"UBE3A\",\"UGCG\",\"UMPS\",\"VASP\",\"VCL\",\"VDAC3\",\"VEGFA\",\"VLDLR\",\"XBP1\",\"XPO1\",\"YWHAE\",\"YWHAG\",\"YWHAH\",\"YWHAZ\",\"ZFP36\",\"CNBP\",\"ZNF12\",\"ZNF708\",\"ZNF16\",\"ZNF33B\",\"ZNF124\",\"ZNF138\",\"ZNF195\",\"ZNF217\",\"ZNF230\",\"ZYX\",\"BTG2\",\"CXCR4\",\"SLBP\",\"REEP5\",\"ABHD16A\",\"BRD3\",\"CCDC6\",\"NCOA4\",\"PTP4A2\",\"MLF2\",\"KMT2D\",\"SLC7A5\",\"CDC7\",\"DYRK2\",\"ATRN\",\"KCNAB2\",\"CDC14A\",\"YARS1\",\"PDXK\",\"KLF7\",\"JRK\",\"DYNLL1\",\"EIF3H\",\"VAMP8\",\"PEA15\",\"TNFSF14\",\"TNFRSF10B\",\"DPM1\",\"CFLAR\",\"IER3\",\"FUBP1\",\"SLC5A6\",\"DDX18\",\"AP3D1\",\"SNORD73A\",\"RPL14\",\"DOK2\",\"USP14\",\"CCNE2\",\"RABEP1\",\"TMSB10\",\"BUB3\",\"ZBED1\",\"LRRFIP1\",\"NOLC1\",\"PDLIM7\",\"MAPKAPK2\",\"STK17B\",\"SRSF11\",\"SNORD30\",\"SNORD28\",\"SNORD27\",\"SNORD26\",\"SNORD22\",\"CD83\",\"B4GALT5\",\"RPL23\",\"LONP1\",\"MED17\",\"ROCK2\",\"EI24\",\"RAB3D\",\"MRPL33\",\"GOSR2\",\"CLOCK\",\"WTAP\",\"IER2\",\"CYTIP\",\"PDIA4\",\"RNF7\",\"ARHGEF10\",\"VGLL4\",\"EDEM1\",\"HDAC9\",\"ZSCAN12\",\"MLEC\",\"RASSF2\",\"TM9SF4\",\"TBC1D5\",\"SERTAD2\",\"CKAP5\",\"TOMM20\",\"GAB2\",\"CEP170\",\"TOMM70\",\"ZBTB39\",\"G3BP2\",\"KBTBD11\",\"JOSD1\",\"PUM3\",\"WDR1\",\"HNRNPDL\",\"PTBP3\",\"SH2B3\",\"ARPC5\",\"ACTR3\",\"TSPAN3\",\"ARPC2\",\"PREB\",\"ARL4A\",\"ZNF263\",\"PDIA6\",\"NAMPT\",\"RBM12\",\"CNIH1\",\"RBM5\",\"TXNDC9\",\"PRMT3\",\"PSME3\",\"NME6\",\"TRIM13\",\"TRIB1\",\"LANCL1\",\"IKZF1\",\"TFG\",\"CITED2\",\"TADA3\",\"CAP1\",\"SYNCRIP\",\"CDC42EP3\",\"ERLIN1\",\"TRIM16\",\"MYL12A\",\"IGF2BP2\",\"CTCF\",\"GNA13\",\"USP39\",\"NUDC\",\"PTGES3\",\"SRSF10\",\"ZNF266\",\"ZNF268\",\"MTHFD2\",\"CLPX\",\"POLR1G\",\"MALT1\",\"MAN1A2\",\"TCERG1\",\"SUB1\",\"PRDX3\",\"AFG3L2\",\"ERP29\",\"MAPRE2\",\"KCNQ1OT1\",\"METAP2\",\"IMMT\",\"GLIPR1\",\"RAB31\",\"UBE2C\",\"DIDO1\",\"WDR5\",\"ATE1\",\"NUDT4\",\"STRAP\",\"BAZ1A\",\"PTENP1\",\"PLPBP\",\"AKAP13\",\"DUSP10\",\"RPL35\",\"RNF139\",\"PACSIN2\",\"XPOT\",\"ECD\",\"GPN1\",\"RASA3\",\"SCAF8\",\"ZNF507\",\"CHSY1\",\"ZNF510\",\"ZBTB1\",\"DENND3\",\"CARD8\",\"BTBD3\",\"NCBP2\",\"SEPHS2\",\"SEPHS1\",\"PCNX1\",\"STK38L\",\"KIF21B\",\"GGA2\",\"WAPL\",\"EMC1\",\"SETD1B\",\"SWAP70\",\"TRIM35\",\"TAB2\",\"SEPTIN6\",\"WDR43\",\"ARL6IP1\",\"RRS1\",\"SIK2\",\"ANKRD28\",\"CAMTA1\",\"NUP160\",\"UBR2\",\"NEMP1\",\"DNAJC16\",\"USP24\",\"LARP1\",\"PIP5K1C\",\"FBXO46\",\"EXOSC2\",\"COTL1\",\"ICMT\",\"SLC39A14\",\"RPL13A\",\"CORO1C\",\"SNHG1\",\"SLC7A11\",\"STX12\",\"IL17RA\",\"BCL2L13\",\"SLC39A6\",\"RPL36\",\"LETMD1\",\"CLIC4\",\"C20orf194\",\"GORASP2\",\"FAM32A\",\"IPCEF1\",\"ZNF451\",\"PPP1R16B\",\"ANKRD17\",\"GIGYF2\",\"SERBP1\",\"FBXW8\",\"INTS6\",\"TIMM10B\",\"TIMM8B\",\"CKAP2\",\"TBL2\",\"26770\",\"26774\",\"SNORD57\",\"SNORD49A\",\"SNORD36A\",\"RANBP6\",\"AP3M1\",\"DAPP1\",\"UQCRQ\",\"SNX5\",\"KLHL20\",\"LSM1\",\"RBMX\",\"TMEM97\",\"MCAT\",\"NKIRAS2\",\"MRPL18\",\"SSU72\",\"TBK1\",\"MYLIP\",\"CLEC2D\",\"PYCR2\",\"HILPDA\",\"SEC61A1\",\"TIMM22\",\"GPR132\",\"TNPO2\",\"NT5C\",\"DNTTIP2\",\"ZBTB21\",\"RRM2B\",\"CHST11\",\"ARHGEF3\",\"EXOSC3\",\"PRELID3B\",\"GMNN\",\"TMX2\",\"KMT5B\",\"NAA20\",\"MRTO4\",\"DCTN4\",\"BET1L\",\"KLF3\",\"MAPKAPK5-AS1\",\"COA4\",\"ZDHHC3\",\"FAM13B\",\"FAM53C\",\"MEX3C\",\"TNFRSF12A\",\"MRPS17\",\"NIP7\",\"ZNF107\",\"UBE2J1\",\"LIMA1\",\"NOP16\",\"NELFCD\",\"ZNF581\",\"CYRIB\",\"GDE1\",\"NOP58\",\"RTRAF\",\"MRPS23\",\"ZFR\",\"SARAF\",\"SELENOT\",\"CAB39\",\"CDK12\",\"MAP3K20\",\"BTBD1\",\"CSNK1G1\",\"DCUN1D1\",\"TREM1\",\"SLC38A2\",\"RNF216\",\"FAM193B\",\"DDIT4\",\"MIR4453HG\",\"CCNJ\",\"TBC1D13\",\"XAF1\",\"WBP1L\",\"PGPEP1\",\"TMEM214\",\"QRICH1\",\"NSUN2\",\"CMTM6\",\"CHTF8\",\"TRMT10C\",\"TMEM70\",\"SLC25A38\",\"NOL8\",\"MRPL20\",\"C9orf40\",\"BSDC1\",\"ARHGAP17\",\"PRPF38B\",\"LARP1B\",\"ELP3\",\"MTPAP\",\"NAT10\",\"MOB1A\",\"SMU1\",\"PACC1\",\"QRSL1\",\"RSAD1\",\"BLOC1S4\",\"IMPACT\",\"LGR4\",\"LRRC59\",\"CSGALNACT2\",\"FEM1A\",\"CDCA7L\",\"CNOT11\",\"CDV3\",\"UBE2Q1\",\"ZCCHC8\",\"TENT5A\",\"THUMPD1\",\"DENND4C\",\"GPATCH2L\",\"PPP4R3A\",\"YEATS2\",\"NDC1\",\"TSR1\",\"SEPTIN11\",\"INTS9\",\"NGLY1\",\"RIOK2\",\"DDX28\",\"ASH1L\",\"CLDND1\",\"TWNK\",\"CFAP298\",\"CDC42SE1\",\"STOX2\",\"BBX\",\"TOMM22\",\"GOPC\",\"CHMP1B\",\"SMURF1\",\"ZNFX1\",\"PPP4R3B\",\"DANCR\",\"ZNF286A\",\"ARID1B\",\"MIB1\",\"ZNF398\",\"ARRDC3\",\"TMEM181\",\"ZBTB2\",\"PHF12\",\"RDH14\",\"ZNF317\",\"DDX55\",\"SFMBT2\",\"CTDSP1\",\"MS4A7\",\"MID1IP1\",\"PLEKHA2\",\"GAS5\",\"PRDM15\",\"MOAP1\",\"MS4A6A\",\"TENT4B\",\"NSD1\",\"NOM1\",\"CSRNP1\",\"TNS3\",\"ILRUN\",\"ISL2\",\"YTHDC2\",\"NABP1\",\"MRPS26\",\"WNK1\",\"MPPE1\",\"GGCT\",\"PRRG4\",\"METTL16\",\"WDR77\",\"NOL12\",\"EFHD2\",\"IRX3\",\"ADIPOR2\",\"TNFAIP8L2\",\"C22orf46\",\"USB1\",\"ICE2\",\"QTRT2\",\"ZFAND1\",\"SPRING1\",\"SLTM\",\"ATP8B4\",\"SETD6\",\"DOCK5\",\"NAA50\",\"RAB11FIP1\",\"ORAI2\",\"CXorf21\",\"GRPEL1\",\"PLEKHO2\",\"LIMD2\",\"ZNF436\",\"DDHD1\",\"APOL6\",\"SETD7\",\"SLC38A1\",\"INTS14\",\"ANKRD13C\",\"APOLD1\",\"GFOD2\",\"MAP1LC3B\",\"VMP1\",\"SEH1L\",\"SH3BGRL3\",\"EMC6\",\"CDCA3\",\"SESN2\",\"SPRTN\",\"ZNF644\",\"CHD6\",\"LRRC8C\",\"EIF1AD\",\"MIEN1\",\"COG8\",\"NIFK\",\"DCTN5\",\"ZNF559\",\"CDIN1\",\"MRPL43\",\"MAK16\",\"EBPL\",\"USP32\",\"MS4A14\",\"MPV17L2\",\"NFKBID\",\"SFT2D3\",\"ARHGEF39\",\"FAM136A\",\"FAM104A\",\"WDR73\",\"FBXL20\",\"SNHG7\",\"USP45\",\"SMIM3\",\"SNHG12\",\"SNORD14C\",\"ITPRIP\",\"GTPBP10\",\"TRIM4\",\"RSPRY1\",\"ZNF551\",\"ZNF766\",\"KNSTRN\",\"JPT2\",\"DMAC1\",\"C12orf65\",\"MYADM\",\"LONRF1\",\"ARRDC4\",\"STRADA\",\"TIFA\",\"ZNF276\",\"MARS2\",\"B3GNT7\",\"CACNA2D4\",\"FOXP2\",\"SFXN1\",\"TGS1\",\"KTI12\",\"SMIM12\",\"HELQ\",\"MIR155HG\",\"SLC25A25\",\"PTPMT1\",\"ZNF526\",\"NIBAN1\",\"EXOSC6\",\"PIK3AP1\",\"ZNF641\",\"DCUN1D3\",\"CMTM3\",\"PAQR4\",\"TBC1D16\",\"SNHG29\",\"EID2B\",\"IRGQ\",\"MOB3A\",\"TCEANC2\",\"RNF19B\",\"FAM168B\",\"KCTD18\",\"MTERF4\",\"STARD4\",\"NCOA7\",\"CCDC26\",\"LETM2\",\"SPIN4\",\"NOL4L\",\"ZNF280B\",\"SAMD8\",\"LACC1\",\"ZNF597\",\"ZNF417\",\"ILF3-DT\",\"SPC24\",\"C19orf25\",\"PDIK1L\",\"LSM14B\",\"CCDC117\",\"METTL21A\",\"PPM1L\",\"CCDC12\",\"SNRNP48\",\"RBM33\",\"VPS13B\",\"FAM91A1\",\"C18orf54\",\"ZNF564\",\"CITED4\",\"SPATA5\",\"QSOX2\",\"PPP1R18\",\"PGAM5\",\"PRXL2C\",\"ZNF367\",\"SPRED2\",\"DHFR2\",\"RPL22L1\",\"PLD6\",\"VMA21\",\"HIPK1\",\"TYSND1\",\"PATL1\",\"ZNF438\",\"REEP3\",\"JMJD1C\",\"SKA3\",\"POLR1F\",\"LNX2\",\"CNOT6L\",\"RNASEH1\",\"RNF169\",\"ZNF549\",\"MFSD8\",\"SERINC5\",\"ARHGAP30\",\"SPRYD4\",\"GXYLT1\",\"283596\",\"LINC00641\",\"UBALD2\",\"ZNF776\",\"ZNF780A\",\"C20orf197\",\"TCAIM\",\"RAB7B\",\"CCDC137\",\"MSL1\",\"ATXN1L\",\"MTX3\",\"AC010186.2\",\"MALAT1\",\"387066\",\"PEDS1\",\"BLOC1S3\",\"RBM12B\",\"ZNF321P\",\"KNOP1\",\"MBNL1-AS1\",\"TOMM5\",\"401588\",\"MIR223\",\"ALG11\",\"THUMPD3-AS1\",\"NRARP\",\"ZFAS1\",\"MIR4435-2HG\",\"ATXN7L3B\",\"619567\",\"SNORA4\",\"EIF3J-DT\",\"SNORA8\",\"HNRNPA1P10\",\"SNORA1\",\"SNORA61\",\"SNORA25\",\"692088\",\"SNORD65\",\"692196\",\"SNORD86\",\"SNORD99\",\"GOLGA8O\",\"GOLGA8H\",\"CCR2\",\"SNHG8\",\"100288730\",\"ZNF587B\",\"PET117\",\"SNHG21\",\"SH3BP5-AS1\",\"IQCH-AS1\",\"TSPOAP1-AS1\",\"SNHG19\",\"MINCR\",\"LCT-AS1\",\"NT5C1B-RDH14\",\"DNAAF4-CCPG1\",\"100533975\",\"MIR4426\",\"TPTEP2-CSNK1E\",\"106635532\",\"106635533\"],\"index\":[8,11,30,31,83,85,96,145,149,164,168,173,180,187,188,205,217,225,229,251,268,308,313,339,352,353,354,355,366,371,389,391,399,402,406,433,453,458,463,468,483,491,502,508,520,533,535,538,540,541,547,561,577,578,615,622,624,631,638,654,672,690,694,725,729,764,782,783,785,786,810,818,825,835,844,847,851,881,885,898,906,911,926,928,958,962,998,1011,1015,1017,1020,1022,1054,1055,1107,1109,1112,1115,1118,1119,1136,1174,1176,1181,1182,1197,1240,1251,1255,1258,1281,1282,1293,1335,1337,1341,1342,1345,1349,1360,1367,1374,1381,1385,1410,1412,1413,1417,1428,1437,1441,1445,1452,1453,1466,1489,1490,1491,1531,1542,1550,1553,1554,1555,1595,1607,1617,1626,1643,1653,1666,1687,1688,1691,1715,1723,1748,1760,1770,1788,1789,1793,1805,1817,1823,1853,1861,1863,1880,1885,1892,1893,1925,1955,1973,1984,1997,2000,2028,2033,2043,2046,2072,2078,2081,2090,2102,2115,2139,2140,2146,2150,2164,2193,2207,2214,2219,2225,2227,2229,2230,2234,2243,2247,2264,2265,2267,2272,2298,2319,2328,2333,2335,2374,2381,2382,2390,2392,2410,2424,2446,2458,2467,2494,2503,2509,2522,2526,2550,2557,2573,2581,2586,2589,2592,2599,2606,2613,2637,2642,2655,2656,2669,2674,2691,2696,2697,2707,2710,2711,2713,2715,2716,2729,2738,2747,2750,2751,2758,2768,2783,2787,2803,2804,2843,2873,2891,2900,2912,2935,2940,2946,3010,3012,3025,3027,3069,3070,3072,3089,3097,3104,3110,3115,3120,3142,3144,3151,3163,3169,3178,3183,3204,3208,3212,3214,3220,3243,3248,3257,3258,3259,3260,3262,3273,3275,3276,3277,3289,3310,3316,3342,3349,3354,3360,3370,3376,3387,3389,3396,3414,3418,3419,3428,3430,3431,3443,3491,3547,3556,3589,3618,3626,3627,3643,3654,3674,3684,3688,3695,3721,3742,3753,3770,3787,3795,3799,3800,3835,3836,3865,3866,3889,3916,3917,3935,3943,3947,3956,3965,3981,3982,3983,3998,4002,4003,4004,4005,4007,4009,4028,4034,4038,4076,4099,4136,4139,4144,4156,4158,4169,4170,4171,4173,4180,4190,4228,4236,4262,4277,4282,4289,4294,4296,4309,4310,4317,4349,4357,4364,4374,4396,4404,4413,4415,4426,4447,4451,4471,4511,4515,4518,4524,4527,4533,4536,4539,4543,4544,4571,4574,4579,4583,4584,4588,4592,4602,4664,4667,4679,4690,4761,4771,4776,4847,4856,4867,4868,4881,4891,4898,4912,4919,4920,4946,4952,4960,4961,4977,4980,4999,5010,5017,5023,5030,5033,5052,5068,5070,5073,5074,5084,5099,5120,5131,5132,5139,5182,5188,5191,5202,5209,5211,5216,5218,5225,5233,5238,5260,5262,5294,5300,5310,5316,5324,5339,5343,5344,5347,5357,5365,5366,5391,5401,5423,5435,5436,5438,5440,5444,5452,5471,5497,5498,5537,5544,5560,5564,5577,5590,5605,5606,5632,5642,5648,5669,5675,5676,5678,5704,5736,5740,5787,5807,5815,5820,5836,5843,5874,5915,5917,5948,5956,5990,5998,6008,6010,6018,6021,6022,6052,6091,6127,6128,6132,6141,6143,6150,6154,6170,6177,6190,6213,6219,6247,6255,6273,6311,6312,6327,6339,6342,6358,6403,6425,6433,6435,6437,6487,6489,6493,6494,6496,6529,6539,6542,6549,6552,6557,6564,6597,6599,6622,6640,6669,6682,6701,6708,6766,6767,6768,6777,6788,6790,6791,6800,6806,6825,6833,6845,6860,6862,6867,6871,6899,6914,6915,6928,6946,6953,6963,6967,6982,6985,7002,7010,7017,7043,7060,7066,7072,7102,7134,7135,7142,7155,7163,7182,7229,7243,7249,7252,7265,7286,7289,7298,7327,7334,7375,7383,7392,7414,7420,7422,7430,7434,7442,7503,7508,7509,7517,7539,7562,7573,7598,7599,7603,7612,7626,7629,7637,7639,7643,7649,7653,7667,7702,7703,7706,7715,7730,7740,7766,7769,7778,7788,7797,7845,7947,7948,7959,7969,8024,8032,8035,8077,8083,8094,8099,8125,8130,8135,8181,8202,8206,8219,8230,8252,8263,8273,8287,8289,8302,8331,8334,8363,8375,8415,8459,8480,8512,8514,8520,8558,8568,8585,8595,8625,8628,8636,8653,8691,8697,8747,8770,8774,8786,8818,8830,8834,8871,8881,8891,8899,8909,8927,8966,8985,8996,9046,9060,9097,9172,9176,9179,9181,9195,9199,9250,9259,9261,9265,9271,9288,9298,9310,9311,9313,9336,9338,9371,9378,9386,9387,9422,9472,9533,9547,9567,9609,9620,9655,9658,9685,9692,9694,9698,9702,9719,9726,9733,9754,9764,9774,9815,9817,9830,9846,9856,9862,9880,9885,9886,9902,9918,9933,9938,9970,9986,9994,10009,10044,10046,10090,10100,10104,10124,10148,10165,10178,10184,10188,10209,10222,10231,10247,10271,10292,10295,10315,10323,10355,10403,10426,10459,10465,10491,10534,10535,10540,10573,10575,10597,10600,10602,10626,10628,10672,10680,10691,10737,10745,10758,10767,10790,10801,10817,10826,10863,10889,10922,10926,10930,10948,10980,10986,10995,11026,11044,11047,11081,11100,11112,11115,11176,11185,11196,11214,11236,11248,11263,11268,11269,11334,11339,11340,11346,11400,11402,11423,11434,11452,11457,11458,11464,11494,11512,11526,11529,11571,11610,11619,11625,11628,11695,11701,11711,11712,11741,11767,11768,11807,11836,11933,11956,11959,12012,12027,12093,12148,12158,12166,12200,12237,12266,12288,12321,12340,12349,12381,12418,12448,12469,12475,12517,12528,12569,12570,12646,12715,12727,12742,12777,12785,12796,12803,12809,12813,12819,12865,12885,12922,12997,13227,13247,13282,13356,13367,13444,13455,13484,13485,13516,13534,13575,13580,13610,14193,14277,14278],\"lfcSE\":{\"__ndarray__\":\"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\",\"dtype\":\"float64\",\"order\":\"little\",\"shape\":[960]},\"log2FoldChange\":{\"__ndarray__\":\"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\",\"dtype\":\"float64\",\"order\":\"little\",\"shape\":[960]},\"padj\":{\"__ndarray__\":\"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\",\"dtype\":\"float64\",\"order\":\"little\",\"shape\":[960]},\"pvalue\":{\"__ndarray__\":\"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\",\"dtype\":\"float64\",\"order\":\"little\",\"shape\":[960]},\"size\":[7,7,7,7,7,7,7,7,7,7,7,7,7,7,7,7,7,7,7,7,7,7,7,7,7,7,7,7,7,7,7,7,7,7,7,7,7,7,7,7,7,7,7,7,7,7,7,7,7,7,7,7,7,7,7,7,7,7,7,7,7,7,7,7,7,7,7,7,7,7,7,7,7,7,7,7,7,7,7,7,7,7,7,7,7,7,7,7,7,7,7,7,7,7,7,7,7,7,7,7,7,7,7,7,7,7,7,7,7,7,7,7,7,7,7,7,7,7,7,7,7,7,7,7,7,7,7,7,7,7,7,7,7,7,7,7,7,7,7,7,7,7,7,7,7,7,7,7,7,7,7,7,7,7,7,7,7,7,7,7,7,7,7,7,7,7,7,7,7,7,7,7,7,7,7,7,7,7,7,7,7,7,7,7,7,7,7,7,7,7,7,7,7,7,7,7,7,7,7,7,7,7,7,7,7,7,7,7,7,7,7,7,7,7,7,7,7,7,7,7,7,7,7,7,7,7,7,7,7,7,7,7,7,7,7,7,7,7,7,7,7,7,7,7,7,7,7,7,7,7,7,7,7,7,7,7,7,7,7,7,7,7,7,7,7,7,7,7,7,7,7,7,7,7,7,7,7,7,7,7,7,7,7,7,7,7,7,7,7,7,7,7,7,7,7,7,7,7,7,7,7,7,7,7,7,7,7,7,7,7,7,7,7,7,7,7,7,7,7,7,7,7,7,7,7,7,7,7,7,7,7,7,7,7,7,7,7,7,7,7,7,7,7,7,7,7,7,7,7,7,7,7,7,7,7,7,7,7,7,7,7,7,7,7,7,7,7,7,7,7,7,7,7,7,7,7,7,7,7,7,7,7,7,7,7,7,7,7,7,7,7,7,7,7,7,7,7,7,7,7,7,7,7,7,7,7,7,7,7,7,7,7,7,7,7,7,7,7,7,7,7,7,7,7,7,7,7,7,7,7,7,7,7,7,7,7,7,7,7,7,7,7,7,7,7,7,7,7,7,7,7,7,7,7,7,7,7,7,7,7,7,7,7,7,7,7,7,7,7,7,7,7,7,7,7,7,7,7,7,7,7,7,7,7,7,7,7,7,7,7,7,7,7,7,7,7,7,7,7,7,7,7,7,7,7,7,7,7,7,7,7,7,7,7,7,7,7,7,7,7,7,7,7,7,7,7,7,7,7,7,7,7,7,7,7,7,7,7,7,7,7,7,7,7,7,7,7,7,7,7,7,7,7,7,7,7,7,7,7,7,7,7,7,7,7,7,7,7,7,7,7,7,7,7,7,7,7,7,7,7,7,7,7,7,7,7,7,7,7,7,7,7,7,7,7,7,7,7,7,7,7,7,7,7,7,7,7,7,7,7,7,7,7,7,7,7,7,7,7,7,7,7,7,7,7,7,7,7,7,7,7,7,7,7,7,7,7,7,7,7,7,7,7,7,7,7,7,7,7,7,7,7,7,7,7,7,7,7,7,7,7,7,7,7,7,7,7,7,7,7,7,7,7,7,7,7,7,7,7,7,7,7,7,7,7,7,7,7,7,7,7,7,7,7,7,7,7,7,7,7,7,7,7,7,7,7,7,7,7,7,7,7,7,7,7,7,7,7,7,7,7,7,7,7,7,7,7,7,7,7,7,7,7,7,7,7,7,7,7,7,7,7,7,7,7,7,7,7,7,7,7,7,7,7,7,7,7,7,7,7,7,7,7,7,7,7,7,7,7,7,7,7,7,7,7,7,7,7,7,7,7,7,7,7,7,7,7,7,7,7,7,7,7,7,7,7,7,7,7,7,7,7,7,7,7,7,7,7,7,7,7,7,7,7,7,7,7,7,7,7,7,7,7,7,7,7,7,7,7,7,7,7,7,7,7,7,7,7,7,7,7,7,7,7,7,7,7,7,7,7,7,7,7,7,7,7,7,7,7,7,7,7,7,7,7,7,7,7,7,7,7,7,7,7,7,7,7,7,7,7,7,7,7,7,7,7,7,7,7,7,7,7,7,7,7,7,7,7,7,7,7,7,7,7,7,7,7,7,7,7,7,7,7,7,7,7,7,7,7,7,7,7,7,7,7,7,7,7,7,7,7,7,7,7,7,7,7,7,7,7,7,7,7,7,7,7,7,7,7,7,7,7,7,7,7,7,7,7,7,7],\"stat\":{\"__ndarray__\":\"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\",\"dtype\":\"float64\",\"order\":\"little\",\"shape\":[960]},\"transformed_q\":{\"__ndarray__\":\"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\",\"dtype\":\"float64\",\"order\":\"little\",\"shape\":[960]},\"type\":[\"other\",\"other\",\"other\",\"other\",\"other\",\"other\",\"other\",\"other\",\"other\",\"other\",\"other\",\"other\",\"other\",\"other\",\"other\",\"other\",\"other\",\"other\",\"other\",\"other\",\"other\",\"other\",\"other\",\"other\",\"other\",\"other\",\"other\",\"other\",\"other\",\"other\",\"other\",\"other\",\"other\",\"other\",\"other\",\"other\",\"other\",\"other\",\"other\",\"other\",\"other\",\"other\",\"other\",\"other\",\"other\",\"other\",\"other\",\"other\",\"other\",\"other\",\"other\",\"other\",\"other\",\"other\",\"other\",\"other\",\"other\",\"other\",\"other\",\"other\",\"other\",\"other\",\"other\",\"other\",\"other\",\"other\",\"other\",\"other\",\"other\",\"other\",\"other\",\"other\",\"other\",\"other\",\"other\",\"other\",\"other\",\"other\",\"other\",\"other\",\"other\",\"other\",\"other\",\"other\",\"other\",\"other\",\"other\",\"other\",\"other\",\"other\",\"other\",\"other\",\"other\",\"other\",\"other\",\"other\",\"other\",\"other\",\"other\",\"other\",\"other\",\"other\",\"other\",\"other\",\"other\",\"other\",\"other\",\"other\",\"other\",\"other\",\"other\",\"other\",\"other\",\"other\",\"other\",\"other\",\"other\",\"other\",\"other\",\"other\",\"other\",\"other\",\"other\",\"other\",\"other\",\"other\",\"other\",\"other\",\"other\",\"other\",\"other\",\"other\",\"other\",\"other\",\"other\",\"other\",\"other\",\"other\",\"other\",\"other\",\"other\",\"other\",\"other\",\"other\",\"other\",\"other\",\"other\",\"other\",\"other\",\"other\",\"other\",\"other\",\"other\",\"other\",\"other\",\"other\",\"other\",\"other\",\"other\",\"other\",\"other\",\"other\",\"other\",\"other\",\"other\",\"other\",\"other\",\"other\",\"other\",\"other\",\"other\",\"other\",\"other\",\"other\",\"other\",\"other\",\"other\",\"other\",\"other\",\"other\",\"other\",\"other\",\"other\",\"other\",\"other\",\"other\",\"other\",\"other\",\"other\",\"other\",\"other\",\"other\",\"other\",\"other\",\"other\",\"other\",\"other\",\"other\",\"other\",\"other\",\"other\",\"other\",\"other\",\"other\",\"other\",\"other\",\"other\",\"other\",\"other\",\"other\",\"other\",\"other\",\"other\",\"other\",\"other\",\"other\",\"other\",\"other\",\"other\",\"other\",\"other\",\"other\",\"other\",\"other\",\"other\",\"other\",\"other\",\"other\",\"other\",\"other\",\"other\",\"other\",\"other\",\"other\",\"other\",\"other\",\"other\",\"other\",\"other\",\"other\",\"other\",\"other\",\"other\",\"other\",\"other\",\"other\",\"other\",\"other\",\"other\",\"other\",\"other\",\"other\",\"other\",\"other\",\"other\",\"other\",\"other\",\"other\",\"other\",\"other\",\"other\",\"other\",\"other\",\"other\",\"other\",\"other\",\"other\",\"other\",\"other\",\"other\",\"other\",\"other\",\"other\",\"other\",\"other\",\"other\",\"other\",\"other\",\"other\",\"other\",\"other\",\"other\",\"other\",\"other\",\"other\",\"other\",\"other\",\"other\",\"other\",\"other\",\"other\",\"other\",\"other\",\"other\",\"other\",\"other\",\"other\",\"other\",\"other\",\"other\",\"other\",\"other\",\"other\",\"other\",\"other\",\"other\",\"other\",\"other\",\"other\",\"other\",\"other\",\"other\",\"other\",\"other\",\"other\",\"other\",\"other\",\"other\",\"other\",\"other\",\"other\",\"other\",\"other\",\"other\",\"other\",\"other\",\"other\",\"other\",\"other\",\"other\",\"other\",\"other\",\"other\",\"other\",\"other\",\"other\",\"other\",\"other\",\"other\",\"other\",\"other\",\"other\",\"other\",\"other\",\"other\",\"other\",\"other\",\"other\",\"other\",\"other\",\"other\",\"other\",\"other\",\"other\",\"other\",\"other\",\"other\",\"other\",\"other\",\"other\",\"other\",\"other\",\"other\",\"other\",\"other\",\"other\",\"other\",\"other\",\"other\",\"other\",\"other\",\"other\",\"other\",\"other\",\"other\",\"other\",\"other\",\"other\",\"other\",\"other\",\"other\",\"other\",\"other\",\"other\",\"other\",\"other\",\"other\",\"other\",\"other\",\"other\",\"other\",\"other\",\"other\",\"other\",\"other\",\"other\",\"other\",\"other\",\"other\",\"other\",\"other\",\"other\",\"other\",\"other\",\"other\",\"other\",\"other\",\"other\",\"other\",\"other\",\"other\",\"other\",\"other\",\"other\",\"other\",\"other\",\"other\",\"other\",\"other\",\"other\",\"other\",\"other\",\"other\",\"other\",\"other\",\"other\",\"other\",\"other\",\"other\",\"other\",\"other\",\"other\",\"other\",\"other\",\"other\",\"other\",\"other\",\"other\",\"other\",\"other\",\"other\",\"other\",\"other\",\"other\",\"other\",\"other\",\"other\",\"other\",\"other\",\"other\",\"other\",\"other\",\"other\",\"other\",\"other\",\"other\",\"other\",\"other\",\"other\",\"other\",\"other\",\"other\",\"other\",\"other\",\"other\",\"other\",\"other\",\"other\",\"other\",\"other\",\"other\",\"other\",\"other\",\"other\",\"other\",\"other\",\"other\",\"other\",\"other\",\"other\",\"other\",\"other\",\"other\",\"other\",\"other\",\"other\",\"other\",\"other\",\"other\",\"other\",\"other\",\"other\",\"other\",\"other\",\"other\",\"other\",\"other\",\"other\",\"other\",\"other\",\"other\",\"other\",\"other\",\"other\",\"other\",\"other\",\"other\",\"other\",\"other\",\"other\",\"other\",\"other\",\"other\",\"other\",\"other\",\"other\",\"other\",\"other\",\"other\",\"other\",\"other\",\"other\",\"other\",\"other\",\"other\",\"other\",\"other\",\"other\",\"other\",\"other\",\"other\",\"other\",\"other\",\"other\",\"other\",\"other\",\"other\",\"other\",\"other\",\"other\",\"other\",\"other\",\"other\",\"other\",\"other\",\"other\",\"other\",\"other\",\"other\",\"other\",\"other\",\"other\",\"other\",\"other\",\"other\",\"other\",\"other\",\"other\",\"other\",\"other\",\"other\",\"other\",\"other\",\"other\",\"other\",\"other\",\"other\",\"other\",\"other\",\"other\",\"other\",\"other\",\"other\",\"other\",\"other\",\"other\",\"other\",\"other\",\"other\",\"other\",\"other\",\"other\",\"other\",\"other\",\"other\",\"other\",\"other\",\"other\",\"other\",\"other\",\"other\",\"other\",\"other\",\"other\",\"other\",\"other\",\"other\",\"other\",\"other\",\"other\",\"other\",\"other\",\"other\",\"other\",\"other\",\"other\",\"other\",\"other\",\"other\",\"other\",\"other\",\"other\",\"other\",\"other\",\"other\",\"other\",\"other\",\"other\",\"other\",\"other\",\"other\",\"other\",\"other\",\"other\",\"other\",\"other\",\"other\",\"other\",\"other\",\"other\",\"other\",\"other\",\"other\",\"other\",\"other\",\"other\",\"other\",\"other\",\"other\",\"other\",\"other\",\"other\",\"other\",\"other\",\"other\",\"other\",\"other\",\"other\",\"other\",\"other\",\"other\",\"other\",\"other\",\"other\",\"other\",\"other\",\"other\",\"other\",\"other\",\"other\",\"other\",\"other\",\"other\",\"other\",\"other\",\"other\",\"other\",\"other\",\"other\",\"other\",\"other\",\"other\",\"other\",\"other\",\"other\",\"other\",\"other\",\"other\",\"other\",\"other\",\"other\",\"other\",\"other\",\"other\",\"other\",\"other\",\"other\",\"other\",\"other\",\"other\",\"other\",\"other\",\"other\",\"other\",\"other\",\"other\",\"other\",\"other\",\"other\",\"other\",\"other\",\"other\",\"other\",\"other\",\"other\",\"other\",\"other\",\"other\",\"other\",\"other\",\"other\",\"other\",\"other\",\"other\",\"other\",\"other\",\"other\",\"other\",\"other\",\"other\",\"other\",\"other\",\"other\",\"other\",\"other\",\"other\",\"other\",\"other\",\"other\",\"other\",\"other\",\"other\",\"other\",\"other\",\"other\",\"other\",\"other\",\"other\",\"other\",\"other\",\"other\",\"other\",\"other\",\"other\",\"other\",\"other\",\"other\",\"other\",\"other\",\"other\",\"other\",\"other\",\"other\",\"other\",\"other\",\"other\",\"other\",\"other\",\"other\",\"other\",\"other\",\"other\",\"other\",\"other\",\"other\",\"other\",\"other\",\"other\",\"other\",\"other\",\"other\",\"other\",\"other\",\"other\",\"other\",\"other\",\"other\",\"other\",\"other\",\"other\",\"other\",\"other\",\"other\",\"other\",\"other\",\"other\",\"other\",\"other\",\"other\",\"other\",\"other\",\"other\",\"other\",\"other\",\"other\",\"other\",\"other\",\"other\",\"other\",\"other\",\"other\",\"other\",\"other\",\"other\",\"other\",\"other\",\"other\",\"other\",\"other\",\"other\",\"other\",\"other\",\"other\",\"other\",\"other\",\"other\",\"other\",\"other\",\"other\",\"other\",\"other\",\"other\",\"other\",\"other\",\"other\",\"other\",\"other\",\"other\",\"other\",\"other\",\"other\",\"other\",\"other\",\"other\",\"other\",\"other\",\"other\",\"other\",\"other\",\"other\",\"other\",\"other\",\"other\",\"other\",\"other\",\"other\",\"other\",\"other\",\"other\",\"other\",\"other\",\"other\",\"other\",\"other\",\"other\",\"other\",\"other\",\"other\",\"other\",\"other\",\"other\",\"other\",\"other\",\"other\",\"other\",\"other\",\"other\",\"other\",\"other\",\"other\",\"other\",\"other\",\"other\",\"other\",\"other\",\"other\",\"other\",\"other\",\"other\",\"other\",\"other\",\"other\",\"other\",\"other\",\"other\",\"other\",\"other\",\"other\",\"other\",\"other\",\"other\",\"other\",\"other\",\"other\",\"other\",\"other\",\"other\",\"other\",\"other\",\"other\",\"other\",\"other\",\"other\",\"other\",\"other\",\"other\",\"other\",\"other\",\"other\",\"other\",\"other\",\"other\",\"other\",\"other\",\"other\",\"other\",\"other\",\"other\",\"other\",\"other\",\"other\",\"other\",\"other\",\"other\",\"other\",\"other\",\"other\",\"other\",\"other\",\"other\",\"other\",\"other\",\"other\",\"other\",\"other\",\"other\",\"other\",\"other\",\"other\",\"other\",\"other\",\"other\",\"other\",\"other\",\"other\",\"other\",\"other\",\"other\",\"other\",\"other\",\"other\",\"other\",\"other\",\"other\",\"other\",\"other\",\"other\",\"other\",\"other\",\"other\"]},\"selected\":{\"id\":\"2727\"},\"selection_policy\":{\"id\":\"2726\"}},\"id\":\"2653\",\"type\":\"ColumnDataSource\"},{\"attributes\":{\"data_source\":{\"id\":\"2653\"},\"glyph\":{\"id\":\"2655\"},\"hover_glyph\":null,\"muted_glyph\":null,\"name\":\"circles\",\"nonselection_glyph\":{\"id\":\"2656\"},\"view\":{\"id\":\"2658\"}},\"id\":\"2657\",\"type\":\"GlyphRenderer\"},{\"attributes\":{\"source\":{\"id\":\"2659\"}},\"id\":\"2664\",\"type\":\"CDSView\"},{\"attributes\":{},\"id\":\"2622\",\"type\":\"DataRange1d\"},{\"attributes\":{},\"id\":\"2722\",\"type\":\"BasicTickFormatter\"},{\"attributes\":{},\"id\":\"2728\",\"type\":\"UnionRenderers\"},{\"attributes\":{\"fill_alpha\":{\"value\":0.1},\"fill_color\":{\"value\":null},\"line_alpha\":{\"value\":0.1},\"size\":{\"value\":7},\"x\":{\"field\":\"log2FoldChange\"},\"y\":{\"field\":\"transformed_q\"}},\"id\":\"2667\",\"type\":\"Scatter\"},{\"attributes\":{},\"id\":\"2723\",\"type\":\"AllLabels\"},{\"attributes\":{\"axis\":{\"id\":\"2630\"},\"grid_line_color\":\"white\",\"ticker\":null},\"id\":\"2633\",\"type\":\"Grid\"},{\"attributes\":{\"fill_alpha\":{\"value\":0.1},\"fill_color\":{\"field\":\"color\"},\"line_alpha\":{\"value\":0.1},\"line_color\":{\"field\":\"color\"},\"size\":{\"field\":\"size\"},\"x\":{\"field\":\"log2FoldChange\"},\"y\":{\"field\":\"transformed_q\"}},\"id\":\"2662\",\"type\":\"Scatter\"},{\"attributes\":{},\"id\":\"2641\",\"type\":\"SaveTool\"},{\"attributes\":{\"axis_label\":\"-log(Q)\",\"formatter\":{\"id\":\"2722\"},\"major_label_policy\":{\"id\":\"2723\"},\"ticker\":{\"id\":\"2635\"}},\"id\":\"2634\",\"type\":\"LinearAxis\"},{\"attributes\":{\"text\":\"MV411 Mebendazole\"},\"id\":\"2620\",\"type\":\"Title\"},{\"attributes\":{},\"id\":\"2729\",\"type\":\"Selection\"},{\"attributes\":{},\"id\":\"2639\",\"type\":\"WheelZoomTool\"},{\"attributes\":{\"fill_color\":{\"value\":null},\"size\":{\"value\":7},\"x\":{\"field\":\"log2FoldChange\"},\"y\":{\"field\":\"transformed_q\"}},\"id\":\"2666\",\"type\":\"Scatter\"},{\"attributes\":{\"source\":{\"id\":\"2653\"}},\"id\":\"2658\",\"type\":\"CDSView\"},{\"attributes\":{\"overlay\":{\"id\":\"2644\"}},\"id\":\"2640\",\"type\":\"BoxZoomTool\"},{\"attributes\":{\"fill_alpha\":{\"field\":\"alpha\"},\"fill_color\":{\"field\":\"color\"},\"line_alpha\":{\"field\":\"alpha\"},\"line_color\":{\"field\":\"color\"},\"size\":{\"field\":\"size\"},\"x\":{\"field\":\"log2FoldChange\"},\"y\":{\"field\":\"transformed_q\"}},\"id\":\"2655\",\"type\":\"Scatter\"},{\"attributes\":{},\"id\":\"2635\",\"type\":\"BasicTicker\"},{\"attributes\":{},\"id\":\"2628\",\"type\":\"LinearScale\"},{\"attributes\":{\"data_source\":{\"id\":\"2659\"},\"glyph\":{\"id\":\"2661\"},\"hover_glyph\":null,\"muted_glyph\":null,\"name\":\"circles\",\"nonselection_glyph\":{\"id\":\"2662\"},\"view\":{\"id\":\"2664\"}},\"id\":\"2663\",\"type\":\"GlyphRenderer\"},{\"attributes\":{},\"id\":\"2631\",\"type\":\"BasicTicker\"},{\"attributes\":{\"callback\":null,\"names\":[\"circles\"],\"tooltips\":[[\"gene\",\"@gene_id\"]]},\"id\":\"2618\",\"type\":\"HoverTool\"},{\"attributes\":{},\"id\":\"2624\",\"type\":\"DataRange1d\"},{\"attributes\":{\"active_multi\":null,\"tools\":[{\"id\":\"2638\"},{\"id\":\"2639\"},{\"id\":\"2640\"},{\"id\":\"2641\"},{\"id\":\"2642\"},{\"id\":\"2643\"},{\"id\":\"2618\"}]},\"id\":\"2645\",\"type\":\"Toolbar\"},{\"attributes\":{\"source\":{\"id\":\"2659\"}},\"id\":\"2669\",\"type\":\"CDSView\"},{\"attributes\":{\"data\":{\"alpha\":{\"__ndarray__\":\"MzMzMzMz4z8zMzMzMzPjPzMzMzMzM+M/MzMzMzMz4z8zMzMzMzPjPzMzMzMzM+M/MzMzMzMz4z8zMzMzMzPjPw==\",\"dtype\":\"float64\",\"order\":\"little\",\"shape\":[8]},\"baseMean\":{\"__ndarray__\":\"6uIDzCS9HUA/OFefkU4dQOn9GN8eWR1AJXrc5m5vFkAmduRf4NEdQA+Xb/fWAx1AitiHv8OGH0BNT3B0sHwbQA==\",\"dtype\":\"float64\",\"order\":\"little\",\"shape\":[8]},\"color\":[\"#fc8d59\",\"#fc8d59\",\"#fc8d59\",\"#fc8d59\",\"#fc8d59\",\"#fc8d59\",\"#fc8d59\",\"#fc8d59\"],\"gene_id\":[\"RUNX1\",\"CEBPA\",\"ETV6\",\"FLI1\",\"GFI1\",\"IRF8\",\"MEF2C\",\"MYC\"],\"genes\":[\"RUNX1\",\"CEBPA\",\"ETV6\",\"FLI1\",\"GFI1\",\"IRF8\",\"MEF2C\",\"MYC\"],\"index\":[387,478,917,991,1081,1364,1674,1785],\"lfcSE\":{\"__ndarray__\":\"8JL5mWVmuj/L5EJDYGXAP551kjbFxL0/Uk86ZLUPyD+NB1teQxK6P4cbZRWFJb8/a07aHnARtz8RSvOKSKTBPw==\",\"dtype\":\"float64\",\"order\":\"little\",\"shape\":[8]},\"log2FoldChange\":{\"__ndarray__\":\"6dFjBDtaxz97PBvqn2vUv2KajefaENw/b4slV4aQ2z/DLQkJBfzNvxZWG1ZxFea/hr+BiUG80j//OYv8EQXgvw==\",\"dtype\":\"float64\",\"order\":\"little\",\"shape\":[8]},\"padj\":{\"__ndarray__\":\"VjA3kFZP2T/dLv1rzKzAP1dcSC/ts3Y/7VpNxH04yD9ugcatsPjHP1bcq3+aK7Q+RjUQoS3/mT9EDHwDdESBPw==\",\"dtype\":\"float64\",\"order\":\"little\",\"shape\":[8]},\"pvalue\":{\"__ndarray__\":\"KgdBKO6tsz826grOcxiKP9LuOql7SyU/uVxmtbp6lj+c/4jXxvOVP1atiGdjRU4+F+lj3Yf+Uj9Wf3L5sWkyPw==\",\"dtype\":\"float64\",\"order\":\"little\",\"shape\":[8]},\"size\":[7,7,7,7,7,7,7,7],\"stat\":{\"__ndarray__\":\"1ExD6FdO/L/5GPamXe0DQOdZXexoKw7AomBITlpUAsDHlU5Xx2YCQI/PFuFZsBZAKXAb4lj9CcA2rIZW2g4NQA==\",\"dtype\":\"float64\",\"order\":\"little\",\"shape\":[8]},\"transformed_q\":{\"__ndarray__\":\"JKISgeDT8T8aZr4a9FD+P4Vj0I5aUA5ALUy9C0eJ+j/vl6+AfbP6P+Jc/vVSZx9A5iaKbIN8B0DRJomXLmkMQA==\",\"dtype\":\"float64\",\"order\":\"little\",\"shape\":[8]},\"type\":[\"crc\",\"crc\",\"crc\",\"crc\",\"crc\",\"crc\",\"crc\",\"crc\"]},\"selected\":{\"id\":\"2729\"},\"selection_policy\":{\"id\":\"2728\"}},\"id\":\"2659\",\"type\":\"ColumnDataSource\"},{\"attributes\":{},\"id\":\"2642\",\"type\":\"ResetTool\"},{\"attributes\":{},\"id\":\"2726\",\"type\":\"UnionRenderers\"},{\"attributes\":{\"data_source\":{\"id\":\"2659\"},\"glyph\":{\"id\":\"2666\"},\"hover_glyph\":null,\"muted_glyph\":null,\"name\":\"outlines\",\"nonselection_glyph\":{\"id\":\"2667\"},\"view\":{\"id\":\"2669\"}},\"id\":\"2668\",\"type\":\"GlyphRenderer\"},{\"attributes\":{\"axis_label\":\"log-fold change\",\"formatter\":{\"id\":\"2719\"},\"major_label_policy\":{\"id\":\"2720\"},\"ticker\":{\"id\":\"2631\"}},\"id\":\"2630\",\"type\":\"LinearAxis\"},{\"attributes\":{},\"id\":\"2720\",\"type\":\"AllLabels\"},{\"attributes\":{},\"id\":\"2643\",\"type\":\"HelpTool\"},{\"attributes\":{\"axis\":{\"id\":\"2634\"},\"dimension\":1,\"grid_line_color\":\"white\",\"ticker\":null},\"id\":\"2637\",\"type\":\"Grid\"},{\"attributes\":{},\"id\":\"2719\",\"type\":\"BasicTickFormatter\"},{\"attributes\":{},\"id\":\"2727\",\"type\":\"Selection\"},{\"attributes\":{},\"id\":\"2626\",\"type\":\"LinearScale\"},{\"attributes\":{},\"id\":\"2638\",\"type\":\"PanTool\"}],\"root_ids\":[\"2619\"]},\"title\":\"Bokeh Application\",\"version\":\"2.3.3\"}};\n",
       "  var render_items = [{\"docid\":\"620d1975-7843-4d5a-8db3-ec671b9916ab\",\"root_ids\":[\"2619\"],\"roots\":{\"2619\":\"a5dfd408-2f8a-4be2-a850-1a4647495c3e\"}}];\n",
       "  root.Bokeh.embed.embed_items_notebook(docs_json, render_items);\n",
       "\n",
       "  }\n",
       "  if (root.Bokeh !== undefined) {\n",
       "    embed_document(root);\n",
       "  } else {\n",
       "    var attempts = 0;\n",
       "    var timer = setInterval(function(root) {\n",
       "      if (root.Bokeh !== undefined) {\n",
       "        clearInterval(timer);\n",
       "        embed_document(root);\n",
       "      } else {\n",
       "        attempts++;\n",
       "        if (attempts > 100) {\n",
       "          clearInterval(timer);\n",
       "          console.log(\"Bokeh: ERROR: Unable to run BokehJS code because BokehJS library is missing\");\n",
       "        }\n",
       "      }\n",
       "    }, 10, root)\n",
       "  }\n",
       "})(window);"
      ],
      "application/vnd.bokehjs_exec.v0+json": ""
     },
     "metadata": {
      "application/vnd.bokehjs_exec.v0+json": {
       "id": "2619"
      }
     },
     "output_type": "display_data"
    }
   ],
   "source": [
    "p = genepyPlot.volcano(res, tohighlight=crcs, title=\"MV411 Mebendazole\")\n",
    "                   #showlabels=True, folder=volcano_folder)"
   ]
  },
  {
   "cell_type": "code",
   "execution_count": null,
   "id": "fe9bbd23",
   "metadata": {
    "hidden": true
   },
   "outputs": [],
   "source": []
  },
  {
   "cell_type": "markdown",
   "id": "a2d6ece7",
   "metadata": {},
   "source": [
    "# Looking at slamdunk output for Scarlett"
   ]
  },
  {
   "cell_type": "code",
   "execution_count": 7,
   "id": "1566463b",
   "metadata": {},
   "outputs": [
    {
     "name": "stdout",
     "output_type": "stream",
     "text": [
      "../../data/slamseq_mebendazole_v1/res/count/\n"
     ]
    }
   ],
   "source": [
    "project = project\n",
    "res_folder = \"res\"\n",
    "location = \"../../data/slamseq_\"+project+\"/\"+res_folder+\"/\"+\"count/\"\n",
    "print(location)"
   ]
  },
  {
   "cell_type": "code",
   "execution_count": 8,
   "id": "7c1d6b5c",
   "metadata": {},
   "outputs": [],
   "source": [
    "# remove genes that have very low counts\n",
    "mincount_toremove=5\n",
    "\n",
    "# remove genes that have a variance of 0 across all samples (these we really want to remove)\n",
    "# genes that have values of 0,1,2 everywhere\n",
    "minvar_toremove=0"
   ]
  },
  {
   "cell_type": "markdown",
   "id": "ed8fb3c2",
   "metadata": {},
   "source": [
    "<li>readcounts: total counts of every transscript (output of slamdunk algorithm\n",
    "<li>tccounts: t to c converted RNA transcripts"
   ]
  },
  {
   "cell_type": "code",
   "execution_count": 9,
   "id": "4ddb589f",
   "metadata": {},
   "outputs": [
    {
     "name": "stdout",
     "output_type": "stream",
     "text": [
      "found 10 files:dict_keys(['mr522-MV411-DMSO-r1_tcount', 'mr523-MV411-DMSO-r2_tcount', 'mr524-MV411-DMSO-r3_tcount', 'mr525-MV411-DMSO-r4_tcount', 'mr526-MV411-DMSO-r5_tcount', 'mr527-MV411-Mebendazole-r1_tcount', 'mr528-MV411-Mebendazole-r2_tcount', 'mr529-MV411-Mebendazole-r3_tcount', 'mr530-MV411-Mebendazole-r4_tcount', 'mr531-MV411-Mebendazole-r5_tcount'])\n",
      "mr522-MV411-DMSO-r1\n",
      "mr523-MV411-DMSO-r2\n",
      "mr524-MV411-DMSO-r3\n",
      "mr525-MV411-DMSO-r4\n",
      "mr526-MV411-DMSO-r5\n",
      "mr527-MV411-Mebendazole-r1\n",
      "mr528-MV411-Mebendazole-r2\n",
      "mr529-MV411-Mebendazole-r3\n",
      "mr530-MV411-Mebendazole-r4\n",
      "mr531-MV411-Mebendazole-r5\n",
      "downloading gene names from biomart\n",
      "1750 count not be parsed... we don't have all genes already\n",
      "downloading gene names from biomart\n",
      "1750 count not be parsed... we don't have all genes already\n",
      "CPU times: user 1min 25s, sys: 1.12 s, total: 1min 26s\n",
      "Wall time: 2min 22s\n"
     ]
    }
   ],
   "source": [
    "%%time\n",
    "\n",
    "# all genes (not just protein coding)\n",
    "readcounts, tccounts = rna.readFromSlamdunk(loc=location, \n",
    "                                            minvar_toremove=minvar_toremove, \n",
    "                                            mincount_toremove=mincount_toremove,\n",
    "                                            verbose=False)"
   ]
  },
  {
   "cell_type": "code",
   "execution_count": 10,
   "id": "e6f8febc",
   "metadata": {},
   "outputs": [],
   "source": [
    "def dedup_df_genes(df):\n",
    "    ''' sum rows with the same gene index and remove duplicate '''\n",
    "    if df.shape[0] != len(df.index.drop_duplicates()):\n",
    "        print(\"Duplicate gene rows!\")\n",
    "        print(\"{} rows | {} unique genes\".format(df.shape[0], len(df.index.drop_duplicates())))\n",
    "        print(\"Summing of duplicate gene rows.\")\n",
    "        \n",
    "    # sum duplicate rows, same row order\n",
    "    duplicate_genes = df.index[df.index.duplicated()].tolist()\n",
    "    df = df.groupby(df.index).sum().loc[df.index.drop_duplicates()]\n",
    "    if df.shape[0] != len(df.index.drop_duplicates()):\n",
    "        raise ValueError(\n",
    "            \"Cannot collapse duplicate gene rows.\"\n",
    "        )\n",
    "    \n",
    "    return df, duplicate_genes"
   ]
  },
  {
   "cell_type": "code",
   "execution_count": 11,
   "id": "3b92986a",
   "metadata": {},
   "outputs": [
    {
     "name": "stdout",
     "output_type": "stream",
     "text": [
      "Duplicate gene rows!\n",
      "14323 rows | 14292 unique genes\n",
      "Summing of duplicate gene rows.\n",
      "Duplicate gene rows!\n",
      "14323 rows | 14292 unique genes\n",
      "Summing of duplicate gene rows.\n"
     ]
    }
   ],
   "source": [
    "readcounts, duplicate_genes = dedup_df_genes(readcounts)\n",
    "tccounts, duplicate_genes = dedup_df_genes(tccounts)\n",
    "\n",
    "if readcounts.shape != tccounts.shape:\n",
    "    raise ValueError(\"readcounts and tccounts not the same dimensions: {} | {}\".format(readcounts.shape, tccounts.shape))"
   ]
  },
  {
   "cell_type": "code",
   "execution_count": 24,
   "id": "e34a58ab",
   "metadata": {
    "collapsed": true
   },
   "outputs": [
    {
     "data": {
      "text/plain": [
       "['mr522-MV411-DMSO-r1_tcount.tsv',\n",
       " 'mr523-MV411-DMSO-r2_tcount.tsv',\n",
       " 'mr524-MV411-DMSO-r3_tcount.tsv',\n",
       " 'mr525-MV411-DMSO-r4_tcount.tsv',\n",
       " 'mr526-MV411-DMSO-r5_tcount.tsv',\n",
       " 'mr527-MV411-Mebendazole-r1_tcount.tsv',\n",
       " 'mr528-MV411-Mebendazole-r2_tcount.tsv',\n",
       " 'mr529-MV411-Mebendazole-r3_tcount.tsv',\n",
       " 'mr530-MV411-Mebendazole-r4_tcount.tsv',\n",
       " 'mr531-MV411-Mebendazole-r5_tcount.tsv']"
      ]
     },
     "execution_count": 24,
     "metadata": {},
     "output_type": "execute_result"
    }
   ],
   "source": [
    "files = ! ls $location/*tsv\n",
    "[os.path.basename(f) for f in files]"
   ]
  },
  {
   "cell_type": "code",
   "execution_count": 25,
   "id": "65e8a3f8",
   "metadata": {},
   "outputs": [],
   "source": [
    "df_counts = [pd.read_csv(f, header=[0], index_col=None, sep=\"\\t\", squeeze=True, low_memory=True, comment=\"#\") for f in files]\n"
   ]
  },
  {
   "cell_type": "code",
   "execution_count": 28,
   "id": "e8f126fa",
   "metadata": {
    "collapsed": true
   },
   "outputs": [
    {
     "data": {
      "text/plain": [
       "[(58136, 16),\n",
       " (58136, 16),\n",
       " (58136, 16),\n",
       " (58136, 16),\n",
       " (58136, 16),\n",
       " (58136, 16),\n",
       " (58136, 16),\n",
       " (58136, 16),\n",
       " (58136, 16),\n",
       " (58136, 16)]"
      ]
     },
     "execution_count": 28,
     "metadata": {},
     "output_type": "execute_result"
    }
   ],
   "source": [
    "[df.shape for df in df_counts]"
   ]
  },
  {
   "cell_type": "code",
   "execution_count": 27,
   "id": "5205d606",
   "metadata": {},
   "outputs": [
    {
     "data": {
      "text/html": [
       "<div>\n",
       "<style scoped>\n",
       "    .dataframe tbody tr th:only-of-type {\n",
       "        vertical-align: middle;\n",
       "    }\n",
       "\n",
       "    .dataframe tbody tr th {\n",
       "        vertical-align: top;\n",
       "    }\n",
       "\n",
       "    .dataframe thead th {\n",
       "        text-align: right;\n",
       "    }\n",
       "</style>\n",
       "<table border=\"1\" class=\"dataframe\">\n",
       "  <thead>\n",
       "    <tr style=\"text-align: right;\">\n",
       "      <th></th>\n",
       "      <th>Chromosome</th>\n",
       "      <th>Start</th>\n",
       "      <th>End</th>\n",
       "      <th>Name</th>\n",
       "      <th>Length</th>\n",
       "      <th>Strand</th>\n",
       "      <th>ConversionRate</th>\n",
       "      <th>ReadsCPM</th>\n",
       "      <th>Tcontent</th>\n",
       "      <th>CoverageOnTs</th>\n",
       "      <th>ConversionsOnTs</th>\n",
       "      <th>ReadCount</th>\n",
       "      <th>TcReadCount</th>\n",
       "      <th>multimapCount</th>\n",
       "      <th>ConversionRateLower</th>\n",
       "      <th>ConversionRateUpper</th>\n",
       "    </tr>\n",
       "  </thead>\n",
       "  <tbody>\n",
       "    <tr>\n",
       "      <th>0</th>\n",
       "      <td>chr22</td>\n",
       "      <td>29442122</td>\n",
       "      <td>29442455</td>\n",
       "      <td>5988</td>\n",
       "      <td>333</td>\n",
       "      <td>+</td>\n",
       "      <td>0.000000</td>\n",
       "      <td>0.000000</td>\n",
       "      <td>112</td>\n",
       "      <td>0</td>\n",
       "      <td>0</td>\n",
       "      <td>0</td>\n",
       "      <td>0</td>\n",
       "      <td>0</td>\n",
       "      <td>-1.0</td>\n",
       "      <td>-1.0</td>\n",
       "    </tr>\n",
       "    <tr>\n",
       "      <th>1</th>\n",
       "      <td>chr19</td>\n",
       "      <td>13961529</td>\n",
       "      <td>13962694</td>\n",
       "      <td>5989</td>\n",
       "      <td>1165</td>\n",
       "      <td>-</td>\n",
       "      <td>0.000000</td>\n",
       "      <td>0.456889</td>\n",
       "      <td>242</td>\n",
       "      <td>408</td>\n",
       "      <td>0</td>\n",
       "      <td>14</td>\n",
       "      <td>0</td>\n",
       "      <td>0</td>\n",
       "      <td>-1.0</td>\n",
       "      <td>-1.0</td>\n",
       "    </tr>\n",
       "    <tr>\n",
       "      <th>2</th>\n",
       "      <td>chr12</td>\n",
       "      <td>109448654</td>\n",
       "      <td>109451813</td>\n",
       "      <td>83892</td>\n",
       "      <td>3159</td>\n",
       "      <td>-</td>\n",
       "      <td>0.002439</td>\n",
       "      <td>12.401262</td>\n",
       "      <td>921</td>\n",
       "      <td>15173</td>\n",
       "      <td>37</td>\n",
       "      <td>380</td>\n",
       "      <td>14</td>\n",
       "      <td>1</td>\n",
       "      <td>-1.0</td>\n",
       "      <td>-1.0</td>\n",
       "    </tr>\n",
       "    <tr>\n",
       "      <th>3</th>\n",
       "      <td>chr12</td>\n",
       "      <td>109456117</td>\n",
       "      <td>109456313</td>\n",
       "      <td>83892</td>\n",
       "      <td>196</td>\n",
       "      <td>-</td>\n",
       "      <td>0.002857</td>\n",
       "      <td>0.652698</td>\n",
       "      <td>57</td>\n",
       "      <td>700</td>\n",
       "      <td>2</td>\n",
       "      <td>20</td>\n",
       "      <td>1</td>\n",
       "      <td>0</td>\n",
       "      <td>-1.0</td>\n",
       "      <td>-1.0</td>\n",
       "    </tr>\n",
       "    <tr>\n",
       "      <th>4</th>\n",
       "      <td>chr12</td>\n",
       "      <td>109457629</td>\n",
       "      <td>109457682</td>\n",
       "      <td>83892</td>\n",
       "      <td>53</td>\n",
       "      <td>-</td>\n",
       "      <td>0.000000</td>\n",
       "      <td>0.097905</td>\n",
       "      <td>10</td>\n",
       "      <td>30</td>\n",
       "      <td>0</td>\n",
       "      <td>3</td>\n",
       "      <td>0</td>\n",
       "      <td>0</td>\n",
       "      <td>-1.0</td>\n",
       "      <td>-1.0</td>\n",
       "    </tr>\n",
       "  </tbody>\n",
       "</table>\n",
       "</div>"
      ],
      "text/plain": [
       "  Chromosome      Start        End   Name  Length Strand  ConversionRate  \\\n",
       "0      chr22   29442122   29442455   5988     333      +        0.000000   \n",
       "1      chr19   13961529   13962694   5989    1165      -        0.000000   \n",
       "2      chr12  109448654  109451813  83892    3159      -        0.002439   \n",
       "3      chr12  109456117  109456313  83892     196      -        0.002857   \n",
       "4      chr12  109457629  109457682  83892      53      -        0.000000   \n",
       "\n",
       "    ReadsCPM  Tcontent  CoverageOnTs  ConversionsOnTs  ReadCount  TcReadCount  \\\n",
       "0   0.000000       112             0                0          0            0   \n",
       "1   0.456889       242           408                0         14            0   \n",
       "2  12.401262       921         15173               37        380           14   \n",
       "3   0.652698        57           700                2         20            1   \n",
       "4   0.097905        10            30                0          3            0   \n",
       "\n",
       "   multimapCount  ConversionRateLower  ConversionRateUpper  \n",
       "0              0                 -1.0                 -1.0  \n",
       "1              0                 -1.0                 -1.0  \n",
       "2              1                 -1.0                 -1.0  \n",
       "3              0                 -1.0                 -1.0  \n",
       "4              0                 -1.0                 -1.0  "
      ]
     },
     "execution_count": 27,
     "metadata": {},
     "output_type": "execute_result"
    }
   ],
   "source": [
    "df = df_counts[0]\n",
    "df.head()"
   ]
  },
  {
   "cell_type": "code",
   "execution_count": 57,
   "id": "081aa700",
   "metadata": {},
   "outputs": [],
   "source": [
    "df_stats = pd.DataFrame({\"treatment\":[\"DMSO\"]*5+[\"mebendazole\"]*5,\n",
    "                         \"mean\":[d[\"ConversionRate\"].mean() for d in df_counts],\n",
    "                         \"median\":[df[\"ConversionRate\"].median() for d in df_counts]})"
   ]
  },
  {
   "cell_type": "code",
   "execution_count": 64,
   "id": "80dbd47c",
   "metadata": {},
   "outputs": [
    {
     "data": {
      "text/html": [
       "<div>\n",
       "<style scoped>\n",
       "    .dataframe tbody tr th:only-of-type {\n",
       "        vertical-align: middle;\n",
       "    }\n",
       "\n",
       "    .dataframe tbody tr th {\n",
       "        vertical-align: top;\n",
       "    }\n",
       "\n",
       "    .dataframe thead th {\n",
       "        text-align: right;\n",
       "    }\n",
       "</style>\n",
       "<table border=\"1\" class=\"dataframe\">\n",
       "  <thead>\n",
       "    <tr style=\"text-align: right;\">\n",
       "      <th></th>\n",
       "      <th>treatment</th>\n",
       "      <th>mean</th>\n",
       "      <th>median</th>\n",
       "    </tr>\n",
       "  </thead>\n",
       "  <tbody>\n",
       "    <tr>\n",
       "      <th>0</th>\n",
       "      <td>DMSO</td>\n",
       "      <td>0.002350</td>\n",
       "      <td>0.0</td>\n",
       "    </tr>\n",
       "    <tr>\n",
       "      <th>1</th>\n",
       "      <td>DMSO</td>\n",
       "      <td>0.002183</td>\n",
       "      <td>0.0</td>\n",
       "    </tr>\n",
       "    <tr>\n",
       "      <th>2</th>\n",
       "      <td>DMSO</td>\n",
       "      <td>0.002163</td>\n",
       "      <td>0.0</td>\n",
       "    </tr>\n",
       "    <tr>\n",
       "      <th>3</th>\n",
       "      <td>DMSO</td>\n",
       "      <td>0.003025</td>\n",
       "      <td>0.0</td>\n",
       "    </tr>\n",
       "    <tr>\n",
       "      <th>4</th>\n",
       "      <td>DMSO</td>\n",
       "      <td>0.002372</td>\n",
       "      <td>0.0</td>\n",
       "    </tr>\n",
       "    <tr>\n",
       "      <th>5</th>\n",
       "      <td>mebendazole</td>\n",
       "      <td>0.002114</td>\n",
       "      <td>0.0</td>\n",
       "    </tr>\n",
       "    <tr>\n",
       "      <th>6</th>\n",
       "      <td>mebendazole</td>\n",
       "      <td>0.002334</td>\n",
       "      <td>0.0</td>\n",
       "    </tr>\n",
       "    <tr>\n",
       "      <th>7</th>\n",
       "      <td>mebendazole</td>\n",
       "      <td>0.002120</td>\n",
       "      <td>0.0</td>\n",
       "    </tr>\n",
       "    <tr>\n",
       "      <th>8</th>\n",
       "      <td>mebendazole</td>\n",
       "      <td>0.002447</td>\n",
       "      <td>0.0</td>\n",
       "    </tr>\n",
       "    <tr>\n",
       "      <th>9</th>\n",
       "      <td>mebendazole</td>\n",
       "      <td>0.001875</td>\n",
       "      <td>0.0</td>\n",
       "    </tr>\n",
       "  </tbody>\n",
       "</table>\n",
       "</div>"
      ],
      "text/plain": [
       "     treatment      mean  median\n",
       "0         DMSO  0.002350     0.0\n",
       "1         DMSO  0.002183     0.0\n",
       "2         DMSO  0.002163     0.0\n",
       "3         DMSO  0.003025     0.0\n",
       "4         DMSO  0.002372     0.0\n",
       "5  mebendazole  0.002114     0.0\n",
       "6  mebendazole  0.002334     0.0\n",
       "7  mebendazole  0.002120     0.0\n",
       "8  mebendazole  0.002447     0.0\n",
       "9  mebendazole  0.001875     0.0"
      ]
     },
     "execution_count": 64,
     "metadata": {},
     "output_type": "execute_result"
    }
   ],
   "source": [
    "df_stats"
   ]
  },
  {
   "cell_type": "code",
   "execution_count": 54,
   "id": "1e1c9f50",
   "metadata": {
    "collapsed": true
   },
   "outputs": [
    {
     "name": "stdout",
     "output_type": "stream",
     "text": [
      "30\n"
     ]
    },
    {
     "data": {
      "text/plain": [
       "['mr492-MV411-DMSO-r1_tcount.tsv',\n",
       " 'mr493-MV411-DMSO-r2_tcount.tsv',\n",
       " 'mr494-MV411-DMSO-r3_tcount.tsv',\n",
       " 'mr495-MV411-DMSO-r4_tcount.tsv',\n",
       " 'mr496-MV411-DMSO-r5_tcount.tsv',\n",
       " 'mr497-MV411-Naphthol-r1_tcount.tsv',\n",
       " 'mr498-MV411-Naphthol-r2_tcount.tsv',\n",
       " 'mr499-MV411-Naphthol-r3_tcount.tsv',\n",
       " 'mr500-MV411-Naphthol-r4_tcount.tsv',\n",
       " 'mr501-MV411-Naphthol-r5_tcount.tsv',\n",
       " 'mr502-MV411-Plumbagin-r1_tcount.tsv',\n",
       " 'mr503-MV411-Plumbagin-r2_tcount.tsv',\n",
       " 'mr504-MV411-Plumbagin-r3_tcount.tsv',\n",
       " 'mr505-MV411-Plumbagin-r4_tcount.tsv',\n",
       " 'mr506-MV411-Plumbagin-r5_tcount.tsv',\n",
       " 'mr507-MV411-Celastrol-r1_tcount.tsv',\n",
       " 'mr508-MV411-Celastrol-r2_tcount.tsv',\n",
       " 'mr509-MV411-Celastrol-r3_tcount.tsv',\n",
       " 'mr510-MV411-Celastrol-r4_tcount.tsv',\n",
       " 'mr511-MV411-Celastrol-r5_tcount.tsv',\n",
       " 'mr512-MV411-TM1-001-r1_tcount.tsv',\n",
       " 'mr513-MV411-TM1-001-r2_tcount.tsv',\n",
       " 'mr514-MV411-TM1-001-r3_tcount.tsv',\n",
       " 'mr515-MV411-TM1-001-r4_tcount.tsv',\n",
       " 'mr516-MV411-TM1-001-r5_tcount.tsv',\n",
       " 'mr517-MV411-Tretinoin-r1_tcount.tsv',\n",
       " 'mr518-MV411-Tretinoin-r2_tcount.tsv',\n",
       " 'mr519-MV411-Tretinoin-r3_tcount.tsv',\n",
       " 'mr520-MV411-Tretinoin-r4_tcount.tsv',\n",
       " 'mr521-MV411-Tretinoin-r5_tcount.tsv']"
      ]
     },
     "execution_count": 54,
     "metadata": {},
     "output_type": "execute_result"
    }
   ],
   "source": [
    "project2 = \"inhibitors_v1\"\n",
    "files2 = ! ls ../../data/slamseq_$project2/res/count/*tsv\n",
    "print(len(files2))\n",
    "[os.path.basename(f) for f in files2]"
   ]
  },
  {
   "cell_type": "code",
   "execution_count": 55,
   "id": "a697ac9a",
   "metadata": {},
   "outputs": [
    {
     "data": {
      "text/plain": [
       "30"
      ]
     },
     "execution_count": 55,
     "metadata": {},
     "output_type": "execute_result"
    }
   ],
   "source": [
    "df_counts2 = [pd.read_csv(f, header=[0], index_col=None, sep=\"\\t\", squeeze=True, low_memory=True, comment=\"#\")\n",
    "              for f in files2]\n",
    "len(df_counts2)"
   ]
  },
  {
   "cell_type": "code",
   "execution_count": 58,
   "id": "12410061",
   "metadata": {},
   "outputs": [],
   "source": [
    "df_stats2 = pd.DataFrame({\"treatment\":np.repeat([\"DMSO\",\"Naphthol\",\"Plumbagin\",\"Celastrol\",\"TM1-001\",\"Tretinoin\"],5).tolist(),\n",
    "                          \"mean\":[d[\"ConversionRate\"].mean() for d in df_counts2], \"median\":[df[\"ConversionRate\"].median() for d in df_counts2]})"
   ]
  },
  {
   "cell_type": "code",
   "execution_count": 59,
   "id": "fe3fa757",
   "metadata": {
    "collapsed": true
   },
   "outputs": [
    {
     "data": {
      "text/html": [
       "<div>\n",
       "<style scoped>\n",
       "    .dataframe tbody tr th:only-of-type {\n",
       "        vertical-align: middle;\n",
       "    }\n",
       "\n",
       "    .dataframe tbody tr th {\n",
       "        vertical-align: top;\n",
       "    }\n",
       "\n",
       "    .dataframe thead th {\n",
       "        text-align: right;\n",
       "    }\n",
       "</style>\n",
       "<table border=\"1\" class=\"dataframe\">\n",
       "  <thead>\n",
       "    <tr style=\"text-align: right;\">\n",
       "      <th></th>\n",
       "      <th>mean</th>\n",
       "      <th>median</th>\n",
       "    </tr>\n",
       "  </thead>\n",
       "  <tbody>\n",
       "    <tr>\n",
       "      <th>count</th>\n",
       "      <td>10.000000</td>\n",
       "      <td>10.0</td>\n",
       "    </tr>\n",
       "    <tr>\n",
       "      <th>mean</th>\n",
       "      <td>0.002298</td>\n",
       "      <td>0.0</td>\n",
       "    </tr>\n",
       "    <tr>\n",
       "      <th>std</th>\n",
       "      <td>0.000305</td>\n",
       "      <td>0.0</td>\n",
       "    </tr>\n",
       "    <tr>\n",
       "      <th>min</th>\n",
       "      <td>0.001875</td>\n",
       "      <td>0.0</td>\n",
       "    </tr>\n",
       "    <tr>\n",
       "      <th>25%</th>\n",
       "      <td>0.002131</td>\n",
       "      <td>0.0</td>\n",
       "    </tr>\n",
       "    <tr>\n",
       "      <th>50%</th>\n",
       "      <td>0.002259</td>\n",
       "      <td>0.0</td>\n",
       "    </tr>\n",
       "    <tr>\n",
       "      <th>75%</th>\n",
       "      <td>0.002367</td>\n",
       "      <td>0.0</td>\n",
       "    </tr>\n",
       "    <tr>\n",
       "      <th>max</th>\n",
       "      <td>0.003025</td>\n",
       "      <td>0.0</td>\n",
       "    </tr>\n",
       "  </tbody>\n",
       "</table>\n",
       "</div>"
      ],
      "text/plain": [
       "            mean  median\n",
       "count  10.000000    10.0\n",
       "mean    0.002298     0.0\n",
       "std     0.000305     0.0\n",
       "min     0.001875     0.0\n",
       "25%     0.002131     0.0\n",
       "50%     0.002259     0.0\n",
       "75%     0.002367     0.0\n",
       "max     0.003025     0.0"
      ]
     },
     "execution_count": 59,
     "metadata": {},
     "output_type": "execute_result"
    }
   ],
   "source": [
    "df_stats.describe()"
   ]
  },
  {
   "cell_type": "code",
   "execution_count": 65,
   "id": "4226d1a2",
   "metadata": {
    "collapsed": true
   },
   "outputs": [
    {
     "data": {
      "text/html": [
       "<div>\n",
       "<style scoped>\n",
       "    .dataframe tbody tr th:only-of-type {\n",
       "        vertical-align: middle;\n",
       "    }\n",
       "\n",
       "    .dataframe tbody tr th {\n",
       "        vertical-align: top;\n",
       "    }\n",
       "\n",
       "    .dataframe thead th {\n",
       "        text-align: right;\n",
       "    }\n",
       "</style>\n",
       "<table border=\"1\" class=\"dataframe\">\n",
       "  <thead>\n",
       "    <tr style=\"text-align: right;\">\n",
       "      <th></th>\n",
       "      <th>treatment</th>\n",
       "      <th>mean</th>\n",
       "      <th>median</th>\n",
       "    </tr>\n",
       "  </thead>\n",
       "  <tbody>\n",
       "    <tr>\n",
       "      <th>0</th>\n",
       "      <td>DMSO</td>\n",
       "      <td>0.001894</td>\n",
       "      <td>0.0</td>\n",
       "    </tr>\n",
       "    <tr>\n",
       "      <th>1</th>\n",
       "      <td>DMSO</td>\n",
       "      <td>0.002714</td>\n",
       "      <td>0.0</td>\n",
       "    </tr>\n",
       "    <tr>\n",
       "      <th>2</th>\n",
       "      <td>DMSO</td>\n",
       "      <td>0.001970</td>\n",
       "      <td>0.0</td>\n",
       "    </tr>\n",
       "    <tr>\n",
       "      <th>3</th>\n",
       "      <td>DMSO</td>\n",
       "      <td>0.002610</td>\n",
       "      <td>0.0</td>\n",
       "    </tr>\n",
       "    <tr>\n",
       "      <th>4</th>\n",
       "      <td>DMSO</td>\n",
       "      <td>0.002166</td>\n",
       "      <td>0.0</td>\n",
       "    </tr>\n",
       "    <tr>\n",
       "      <th>5</th>\n",
       "      <td>Naphthol</td>\n",
       "      <td>0.003097</td>\n",
       "      <td>0.0</td>\n",
       "    </tr>\n",
       "    <tr>\n",
       "      <th>6</th>\n",
       "      <td>Naphthol</td>\n",
       "      <td>0.003164</td>\n",
       "      <td>0.0</td>\n",
       "    </tr>\n",
       "    <tr>\n",
       "      <th>7</th>\n",
       "      <td>Naphthol</td>\n",
       "      <td>0.003333</td>\n",
       "      <td>0.0</td>\n",
       "    </tr>\n",
       "    <tr>\n",
       "      <th>8</th>\n",
       "      <td>Naphthol</td>\n",
       "      <td>0.002872</td>\n",
       "      <td>0.0</td>\n",
       "    </tr>\n",
       "    <tr>\n",
       "      <th>9</th>\n",
       "      <td>Naphthol</td>\n",
       "      <td>0.003662</td>\n",
       "      <td>0.0</td>\n",
       "    </tr>\n",
       "    <tr>\n",
       "      <th>10</th>\n",
       "      <td>Plumbagin</td>\n",
       "      <td>0.002577</td>\n",
       "      <td>0.0</td>\n",
       "    </tr>\n",
       "    <tr>\n",
       "      <th>11</th>\n",
       "      <td>Plumbagin</td>\n",
       "      <td>0.002141</td>\n",
       "      <td>0.0</td>\n",
       "    </tr>\n",
       "    <tr>\n",
       "      <th>12</th>\n",
       "      <td>Plumbagin</td>\n",
       "      <td>0.003165</td>\n",
       "      <td>0.0</td>\n",
       "    </tr>\n",
       "    <tr>\n",
       "      <th>13</th>\n",
       "      <td>Plumbagin</td>\n",
       "      <td>0.003058</td>\n",
       "      <td>0.0</td>\n",
       "    </tr>\n",
       "    <tr>\n",
       "      <th>14</th>\n",
       "      <td>Plumbagin</td>\n",
       "      <td>0.002819</td>\n",
       "      <td>0.0</td>\n",
       "    </tr>\n",
       "    <tr>\n",
       "      <th>15</th>\n",
       "      <td>Celastrol</td>\n",
       "      <td>0.002771</td>\n",
       "      <td>0.0</td>\n",
       "    </tr>\n",
       "    <tr>\n",
       "      <th>16</th>\n",
       "      <td>Celastrol</td>\n",
       "      <td>0.004009</td>\n",
       "      <td>0.0</td>\n",
       "    </tr>\n",
       "    <tr>\n",
       "      <th>17</th>\n",
       "      <td>Celastrol</td>\n",
       "      <td>0.003390</td>\n",
       "      <td>0.0</td>\n",
       "    </tr>\n",
       "    <tr>\n",
       "      <th>18</th>\n",
       "      <td>Celastrol</td>\n",
       "      <td>0.002945</td>\n",
       "      <td>0.0</td>\n",
       "    </tr>\n",
       "    <tr>\n",
       "      <th>19</th>\n",
       "      <td>Celastrol</td>\n",
       "      <td>0.003268</td>\n",
       "      <td>0.0</td>\n",
       "    </tr>\n",
       "    <tr>\n",
       "      <th>20</th>\n",
       "      <td>TM1-001</td>\n",
       "      <td>0.002477</td>\n",
       "      <td>0.0</td>\n",
       "    </tr>\n",
       "    <tr>\n",
       "      <th>21</th>\n",
       "      <td>TM1-001</td>\n",
       "      <td>0.003224</td>\n",
       "      <td>0.0</td>\n",
       "    </tr>\n",
       "    <tr>\n",
       "      <th>22</th>\n",
       "      <td>TM1-001</td>\n",
       "      <td>0.001947</td>\n",
       "      <td>0.0</td>\n",
       "    </tr>\n",
       "    <tr>\n",
       "      <th>23</th>\n",
       "      <td>TM1-001</td>\n",
       "      <td>0.002000</td>\n",
       "      <td>0.0</td>\n",
       "    </tr>\n",
       "    <tr>\n",
       "      <th>24</th>\n",
       "      <td>TM1-001</td>\n",
       "      <td>0.003233</td>\n",
       "      <td>0.0</td>\n",
       "    </tr>\n",
       "    <tr>\n",
       "      <th>25</th>\n",
       "      <td>Tretinoin</td>\n",
       "      <td>0.003997</td>\n",
       "      <td>0.0</td>\n",
       "    </tr>\n",
       "    <tr>\n",
       "      <th>26</th>\n",
       "      <td>Tretinoin</td>\n",
       "      <td>0.004499</td>\n",
       "      <td>0.0</td>\n",
       "    </tr>\n",
       "    <tr>\n",
       "      <th>27</th>\n",
       "      <td>Tretinoin</td>\n",
       "      <td>0.003105</td>\n",
       "      <td>0.0</td>\n",
       "    </tr>\n",
       "    <tr>\n",
       "      <th>28</th>\n",
       "      <td>Tretinoin</td>\n",
       "      <td>0.004747</td>\n",
       "      <td>0.0</td>\n",
       "    </tr>\n",
       "    <tr>\n",
       "      <th>29</th>\n",
       "      <td>Tretinoin</td>\n",
       "      <td>0.003466</td>\n",
       "      <td>0.0</td>\n",
       "    </tr>\n",
       "  </tbody>\n",
       "</table>\n",
       "</div>"
      ],
      "text/plain": [
       "    treatment      mean  median\n",
       "0        DMSO  0.001894     0.0\n",
       "1        DMSO  0.002714     0.0\n",
       "2        DMSO  0.001970     0.0\n",
       "3        DMSO  0.002610     0.0\n",
       "4        DMSO  0.002166     0.0\n",
       "5    Naphthol  0.003097     0.0\n",
       "6    Naphthol  0.003164     0.0\n",
       "7    Naphthol  0.003333     0.0\n",
       "8    Naphthol  0.002872     0.0\n",
       "9    Naphthol  0.003662     0.0\n",
       "10  Plumbagin  0.002577     0.0\n",
       "11  Plumbagin  0.002141     0.0\n",
       "12  Plumbagin  0.003165     0.0\n",
       "13  Plumbagin  0.003058     0.0\n",
       "14  Plumbagin  0.002819     0.0\n",
       "15  Celastrol  0.002771     0.0\n",
       "16  Celastrol  0.004009     0.0\n",
       "17  Celastrol  0.003390     0.0\n",
       "18  Celastrol  0.002945     0.0\n",
       "19  Celastrol  0.003268     0.0\n",
       "20    TM1-001  0.002477     0.0\n",
       "21    TM1-001  0.003224     0.0\n",
       "22    TM1-001  0.001947     0.0\n",
       "23    TM1-001  0.002000     0.0\n",
       "24    TM1-001  0.003233     0.0\n",
       "25  Tretinoin  0.003997     0.0\n",
       "26  Tretinoin  0.004499     0.0\n",
       "27  Tretinoin  0.003105     0.0\n",
       "28  Tretinoin  0.004747     0.0\n",
       "29  Tretinoin  0.003466     0.0"
      ]
     },
     "execution_count": 65,
     "metadata": {},
     "output_type": "execute_result"
    }
   ],
   "source": [
    "df_stats2"
   ]
  },
  {
   "cell_type": "code",
   "execution_count": 60,
   "id": "9bc88e1c",
   "metadata": {
    "collapsed": true
   },
   "outputs": [
    {
     "data": {
      "text/html": [
       "<div>\n",
       "<style scoped>\n",
       "    .dataframe tbody tr th:only-of-type {\n",
       "        vertical-align: middle;\n",
       "    }\n",
       "\n",
       "    .dataframe tbody tr th {\n",
       "        vertical-align: top;\n",
       "    }\n",
       "\n",
       "    .dataframe thead th {\n",
       "        text-align: right;\n",
       "    }\n",
       "</style>\n",
       "<table border=\"1\" class=\"dataframe\">\n",
       "  <thead>\n",
       "    <tr style=\"text-align: right;\">\n",
       "      <th></th>\n",
       "      <th>mean</th>\n",
       "      <th>median</th>\n",
       "    </tr>\n",
       "  </thead>\n",
       "  <tbody>\n",
       "    <tr>\n",
       "      <th>count</th>\n",
       "      <td>30.000000</td>\n",
       "      <td>30.0</td>\n",
       "    </tr>\n",
       "    <tr>\n",
       "      <th>mean</th>\n",
       "      <td>0.003011</td>\n",
       "      <td>0.0</td>\n",
       "    </tr>\n",
       "    <tr>\n",
       "      <th>std</th>\n",
       "      <td>0.000722</td>\n",
       "      <td>0.0</td>\n",
       "    </tr>\n",
       "    <tr>\n",
       "      <th>min</th>\n",
       "      <td>0.001894</td>\n",
       "      <td>0.0</td>\n",
       "    </tr>\n",
       "    <tr>\n",
       "      <th>25%</th>\n",
       "      <td>0.002585</td>\n",
       "      <td>0.0</td>\n",
       "    </tr>\n",
       "    <tr>\n",
       "      <th>50%</th>\n",
       "      <td>0.003078</td>\n",
       "      <td>0.0</td>\n",
       "    </tr>\n",
       "    <tr>\n",
       "      <th>75%</th>\n",
       "      <td>0.003317</td>\n",
       "      <td>0.0</td>\n",
       "    </tr>\n",
       "    <tr>\n",
       "      <th>max</th>\n",
       "      <td>0.004747</td>\n",
       "      <td>0.0</td>\n",
       "    </tr>\n",
       "  </tbody>\n",
       "</table>\n",
       "</div>"
      ],
      "text/plain": [
       "            mean  median\n",
       "count  30.000000    30.0\n",
       "mean    0.003011     0.0\n",
       "std     0.000722     0.0\n",
       "min     0.001894     0.0\n",
       "25%     0.002585     0.0\n",
       "50%     0.003078     0.0\n",
       "75%     0.003317     0.0\n",
       "max     0.004747     0.0"
      ]
     },
     "execution_count": 60,
     "metadata": {},
     "output_type": "execute_result"
    }
   ],
   "source": [
    "df_stats2.describe()"
   ]
  },
  {
   "cell_type": "code",
   "execution_count": 61,
   "id": "2ed08793",
   "metadata": {
    "collapsed": true
   },
   "outputs": [
    {
     "name": "stdout",
     "output_type": "stream",
     "text": [
      "70\n"
     ]
    },
    {
     "data": {
      "text/plain": [
       "['mr422-MV411-MYB-dTAG-DMSO_1h-r1_tcount.tsv',\n",
       " 'mr423-MV411-MYB-dTAG-DMSO_1h-r2_tcount.tsv',\n",
       " 'mr424-MV411-MYB-dTAG-DMSO_1h-r3_tcount.tsv',\n",
       " 'mr425-MV411-MYB-dTAG-DMSO_1h-r4_tcount.tsv',\n",
       " 'mr426-MV411-MYB-dTAG-DMSO_1h-r5_tcount.tsv',\n",
       " 'mr427-MV411-MYB-dTAG-VHL_1h-r1_tcount.tsv',\n",
       " 'mr428-MV411-MYB-dTAG-VHL_1h-r2_tcount.tsv',\n",
       " 'mr429-MV411-MYB-dTAG-VHL_1h-r3_tcount.tsv',\n",
       " 'mr430-MV411-MYB-dTAG-VHL_1h-r4_tcount.tsv',\n",
       " 'mr431-MV411-MYB-dTAG-VHL_1h-r5_tcount.tsv',\n",
       " 'mr432-MV411-MYB-dTAG-DMSO_2h-r1_tcount.tsv',\n",
       " 'mr433-MV411-MYB-dTAG-DMSO_2h-r2_tcount.tsv',\n",
       " 'mr434-MV411-MYB-dTAG-DMSO_2h-r3_tcount.tsv',\n",
       " 'mr435-MV411-MYB-dTAG-DMSO_2h-r4_tcount.tsv',\n",
       " 'mr436-MV411-MYB-dTAG-DMSO_2h-r5_tcount.tsv',\n",
       " 'mr437-MV411-MYB-dTAG-VHL_2h-r1_tcount.tsv',\n",
       " 'mr438-MV411-MYB-dTAG-VHL_2h-r2_tcount.tsv',\n",
       " 'mr439-MV411-MYB-dTAG-VHL_2h-r3_tcount.tsv',\n",
       " 'mr440-MV411-MYB-dTAG-VHL_2h-r4_tcount.tsv',\n",
       " 'mr441-MV411-MYB-dTAG-VHL_2h-r5_tcount.tsv',\n",
       " 'mr442-MV411-MYB-dTAG-DMSO_4h-r1_tcount.tsv',\n",
       " 'mr443-MV411-MYB-dTAG-DMSO_4h-r2_tcount.tsv',\n",
       " 'mr444-MV411-MYB-dTAG-DMSO_4h-r3_tcount.tsv',\n",
       " 'mr445-MV411-MYB-dTAG-DMSO_4h-r4_tcount.tsv',\n",
       " 'mr446-MV411-MYB-dTAG-DMSO_4h-r5_tcount.tsv',\n",
       " 'mr447-MV411-MYB-dTAG-VHL_4h-r1_tcount.tsv',\n",
       " 'mr448-MV411-MYB-dTAG-VHL_4h-r2_tcount.tsv',\n",
       " 'mr449-MV411-MYB-dTAG-VHL_4h-r3_tcount.tsv',\n",
       " 'mr450-MV411-MYB-dTAG-VHL_4h-r4_tcount.tsv',\n",
       " 'mr451-MV411-MYB-dTAG-VHL_4h-r5_tcount.tsv',\n",
       " 'mr452-MV411-MYB-dTAG-DMSO_8h-r1_tcount.tsv',\n",
       " 'mr453-MV411-MYB-dTAG-DMSO_8h-r2_tcount.tsv',\n",
       " 'mr454-MV411-MYB-dTAG-DMSO_8h-r3_tcount.tsv',\n",
       " 'mr455-MV411-MYB-dTAG-DMSO_8h-r4_tcount.tsv',\n",
       " 'mr456-MV411-MYB-dTAG-DMSO_8h-r5_tcount.tsv',\n",
       " 'mr457-MV411-MYB-dTAG-VHL_8h-r1_tcount.tsv',\n",
       " 'mr458-MV411-MYB-dTAG-VHL_8h-r2_tcount.tsv',\n",
       " 'mr459-MV411-MYB-dTAG-VHL_8h-r3_tcount.tsv',\n",
       " 'mr460-MV411-MYB-dTAG-VHL_8h-r4_tcount.tsv',\n",
       " 'mr461-MV411-MYB-dTAG-VHL_8h-r5_tcount.tsv',\n",
       " 'mr462-MV411-MYB-dTAG-DMSO_12h-r1_tcount.tsv',\n",
       " 'mr463-MV411-MYB-dTAG-DMSO_12h-r2_tcount.tsv',\n",
       " 'mr464-MV411-MYB-dTAG-DMSO_12h-r3_tcount.tsv',\n",
       " 'mr465-MV411-MYB-dTAG-DMSO_12h-r4_tcount.tsv',\n",
       " 'mr466-MV411-MYB-dTAG-DMSO_12h-r5_tcount.tsv',\n",
       " 'mr467-MV411-MYB-dTAG-VHL_12h-r1_tcount.tsv',\n",
       " 'mr468-MV411-MYB-dTAG-VHL_12h-r2_tcount.tsv',\n",
       " 'mr469-MV411-MYB-dTAG-VHL_12h-r3_tcount.tsv',\n",
       " 'mr470-MV411-MYB-dTAG-VHL_12h-r4_tcount.tsv',\n",
       " 'mr471-MV411-MYB-dTAG-VHL_12h-r5_tcount.tsv',\n",
       " 'mr472-MV411-MYB-dTAG-DMSO_24h-r1_tcount.tsv',\n",
       " 'mr473-MV411-MYB-dTAG-DMSO_24h-r2_tcount.tsv',\n",
       " 'mr474-MV411-MYB-dTAG-DMSO_24h-r3_tcount.tsv',\n",
       " 'mr475-MV411-MYB-dTAG-DMSO_24h-r4_tcount.tsv',\n",
       " 'mr476-MV411-MYB-dTAG-DMSO_24h-r5_tcount.tsv',\n",
       " 'mr477-MV411-MYB-dTAG-VHL_24h-r1_tcount.tsv',\n",
       " 'mr478-MV411-MYB-dTAG-VHL_24h-r2_tcount.tsv',\n",
       " 'mr479-MV411-MYB-dTAG-VHL_24h-r3_tcount.tsv',\n",
       " 'mr480-MV411-MYB-dTAG-VHL_24h-r4_tcount.tsv',\n",
       " 'mr481-MV411-MYB-dTAG-VHL_24h-r5_tcount.tsv',\n",
       " 'mr482-MV411-MYB-dTAG-DMSO_48h-r1_tcount.tsv',\n",
       " 'mr483-MV411-MYB-dTAG-DMSO_48h-r2_tcount.tsv',\n",
       " 'mr484-MV411-MYB-dTAG-DMSO_48h-r3_tcount.tsv',\n",
       " 'mr485-MV411-MYB-dTAG-DMSO_48h-r4_tcount.tsv',\n",
       " 'mr486-MV411-MYB-dTAG-DMSO_48h-r5_tcount.tsv',\n",
       " 'mr487-MV411-MYB-dTAG-VHL_48h-r1_tcount.tsv',\n",
       " 'mr488-MV411-MYB-dTAG-VHL_48h-r2_tcount.tsv',\n",
       " 'mr489-MV411-MYB-dTAG-VHL_48h-r3_tcount.tsv',\n",
       " 'mr490-MV411-MYB-dTAG-VHL_48h-r4_tcount.tsv',\n",
       " 'mr491-MV411-MYB-dTAG-VHL_48h-r5_tcount.tsv']"
      ]
     },
     "execution_count": 61,
     "metadata": {},
     "output_type": "execute_result"
    }
   ],
   "source": [
    "project3 = \"MYB_degraded_timecourse_v1\"\n",
    "files3 = ! ls ../../data/slamseq_$project3/res/count/*tsv\n",
    "print(len(files3))\n",
    "[os.path.basename(f) for f in files3]"
   ]
  },
  {
   "cell_type": "code",
   "execution_count": 62,
   "id": "8002157e",
   "metadata": {},
   "outputs": [
    {
     "data": {
      "text/plain": [
       "70"
      ]
     },
     "execution_count": 62,
     "metadata": {},
     "output_type": "execute_result"
    }
   ],
   "source": [
    "df_counts3 = [pd.read_csv(f, header=[0], index_col=None, sep=\"\\t\", squeeze=True, low_memory=True, comment=\"#\")\n",
    "              for f in files3]\n",
    "len(df_counts3)"
   ]
  },
  {
   "cell_type": "code",
   "execution_count": 63,
   "id": "f089cdcb",
   "metadata": {},
   "outputs": [
    {
     "data": {
      "text/html": [
       "<div>\n",
       "<style scoped>\n",
       "    .dataframe tbody tr th:only-of-type {\n",
       "        vertical-align: middle;\n",
       "    }\n",
       "\n",
       "    .dataframe tbody tr th {\n",
       "        vertical-align: top;\n",
       "    }\n",
       "\n",
       "    .dataframe thead th {\n",
       "        text-align: right;\n",
       "    }\n",
       "</style>\n",
       "<table border=\"1\" class=\"dataframe\">\n",
       "  <thead>\n",
       "    <tr style=\"text-align: right;\">\n",
       "      <th></th>\n",
       "      <th>Chromosome</th>\n",
       "      <th>Start</th>\n",
       "      <th>End</th>\n",
       "      <th>Name</th>\n",
       "      <th>Length</th>\n",
       "      <th>Strand</th>\n",
       "      <th>ConversionRate</th>\n",
       "      <th>ReadsCPM</th>\n",
       "      <th>Tcontent</th>\n",
       "      <th>CoverageOnTs</th>\n",
       "      <th>ConversionsOnTs</th>\n",
       "      <th>ReadCount</th>\n",
       "      <th>TcReadCount</th>\n",
       "      <th>multimapCount</th>\n",
       "      <th>ConversionRateLower</th>\n",
       "      <th>ConversionRateUpper</th>\n",
       "    </tr>\n",
       "  </thead>\n",
       "  <tbody>\n",
       "    <tr>\n",
       "      <th>0</th>\n",
       "      <td>chr22</td>\n",
       "      <td>29442122</td>\n",
       "      <td>29442455</td>\n",
       "      <td>5988</td>\n",
       "      <td>333</td>\n",
       "      <td>+</td>\n",
       "      <td>0.000000</td>\n",
       "      <td>0.000000</td>\n",
       "      <td>112</td>\n",
       "      <td>0</td>\n",
       "      <td>0</td>\n",
       "      <td>0</td>\n",
       "      <td>0</td>\n",
       "      <td>0</td>\n",
       "      <td>-1.0</td>\n",
       "      <td>-1.0</td>\n",
       "    </tr>\n",
       "    <tr>\n",
       "      <th>1</th>\n",
       "      <td>chr19</td>\n",
       "      <td>13961529</td>\n",
       "      <td>13962694</td>\n",
       "      <td>5989</td>\n",
       "      <td>1165</td>\n",
       "      <td>-</td>\n",
       "      <td>0.007117</td>\n",
       "      <td>0.459344</td>\n",
       "      <td>242</td>\n",
       "      <td>1686</td>\n",
       "      <td>12</td>\n",
       "      <td>63</td>\n",
       "      <td>6</td>\n",
       "      <td>0</td>\n",
       "      <td>-1.0</td>\n",
       "      <td>-1.0</td>\n",
       "    </tr>\n",
       "    <tr>\n",
       "      <th>2</th>\n",
       "      <td>chr12</td>\n",
       "      <td>109448654</td>\n",
       "      <td>109451813</td>\n",
       "      <td>83892</td>\n",
       "      <td>3159</td>\n",
       "      <td>-</td>\n",
       "      <td>0.002288</td>\n",
       "      <td>11.636715</td>\n",
       "      <td>921</td>\n",
       "      <td>60322</td>\n",
       "      <td>138</td>\n",
       "      <td>1596</td>\n",
       "      <td>41</td>\n",
       "      <td>5</td>\n",
       "      <td>-1.0</td>\n",
       "      <td>-1.0</td>\n",
       "    </tr>\n",
       "    <tr>\n",
       "      <th>3</th>\n",
       "      <td>chr12</td>\n",
       "      <td>109456117</td>\n",
       "      <td>109456313</td>\n",
       "      <td>83892</td>\n",
       "      <td>196</td>\n",
       "      <td>-</td>\n",
       "      <td>0.000000</td>\n",
       "      <td>0.196862</td>\n",
       "      <td>57</td>\n",
       "      <td>1030</td>\n",
       "      <td>0</td>\n",
       "      <td>27</td>\n",
       "      <td>0</td>\n",
       "      <td>0</td>\n",
       "      <td>-1.0</td>\n",
       "      <td>-1.0</td>\n",
       "    </tr>\n",
       "    <tr>\n",
       "      <th>4</th>\n",
       "      <td>chr12</td>\n",
       "      <td>109457629</td>\n",
       "      <td>109457682</td>\n",
       "      <td>83892</td>\n",
       "      <td>53</td>\n",
       "      <td>-</td>\n",
       "      <td>0.000000</td>\n",
       "      <td>0.021874</td>\n",
       "      <td>10</td>\n",
       "      <td>30</td>\n",
       "      <td>0</td>\n",
       "      <td>3</td>\n",
       "      <td>0</td>\n",
       "      <td>0</td>\n",
       "      <td>-1.0</td>\n",
       "      <td>-1.0</td>\n",
       "    </tr>\n",
       "    <tr>\n",
       "      <th>...</th>\n",
       "      <td>...</td>\n",
       "      <td>...</td>\n",
       "      <td>...</td>\n",
       "      <td>...</td>\n",
       "      <td>...</td>\n",
       "      <td>...</td>\n",
       "      <td>...</td>\n",
       "      <td>...</td>\n",
       "      <td>...</td>\n",
       "      <td>...</td>\n",
       "      <td>...</td>\n",
       "      <td>...</td>\n",
       "      <td>...</td>\n",
       "      <td>...</td>\n",
       "      <td>...</td>\n",
       "      <td>...</td>\n",
       "    </tr>\n",
       "    <tr>\n",
       "      <th>58131</th>\n",
       "      <td>chr1</td>\n",
       "      <td>46691873</td>\n",
       "      <td>46692098</td>\n",
       "      <td>100130197</td>\n",
       "      <td>225</td>\n",
       "      <td>+</td>\n",
       "      <td>0.000000</td>\n",
       "      <td>0.153115</td>\n",
       "      <td>61</td>\n",
       "      <td>394</td>\n",
       "      <td>0</td>\n",
       "      <td>21</td>\n",
       "      <td>0</td>\n",
       "      <td>0</td>\n",
       "      <td>-1.0</td>\n",
       "      <td>-1.0</td>\n",
       "    </tr>\n",
       "    <tr>\n",
       "      <th>58132</th>\n",
       "      <td>chr2</td>\n",
       "      <td>101151659</td>\n",
       "      <td>101152759</td>\n",
       "      <td>100506286</td>\n",
       "      <td>1100</td>\n",
       "      <td>+</td>\n",
       "      <td>0.000000</td>\n",
       "      <td>0.036456</td>\n",
       "      <td>191</td>\n",
       "      <td>62</td>\n",
       "      <td>0</td>\n",
       "      <td>5</td>\n",
       "      <td>0</td>\n",
       "      <td>0</td>\n",
       "      <td>-1.0</td>\n",
       "      <td>-1.0</td>\n",
       "    </tr>\n",
       "    <tr>\n",
       "      <th>58133</th>\n",
       "      <td>chr2</td>\n",
       "      <td>101154034</td>\n",
       "      <td>101155412</td>\n",
       "      <td>100506286</td>\n",
       "      <td>1378</td>\n",
       "      <td>+</td>\n",
       "      <td>0.002967</td>\n",
       "      <td>0.182279</td>\n",
       "      <td>337</td>\n",
       "      <td>674</td>\n",
       "      <td>2</td>\n",
       "      <td>25</td>\n",
       "      <td>1</td>\n",
       "      <td>0</td>\n",
       "      <td>-1.0</td>\n",
       "      <td>-1.0</td>\n",
       "    </tr>\n",
       "    <tr>\n",
       "      <th>58134</th>\n",
       "      <td>chrX</td>\n",
       "      <td>106639813</td>\n",
       "      <td>106639896</td>\n",
       "      <td>100616144</td>\n",
       "      <td>83</td>\n",
       "      <td>+</td>\n",
       "      <td>0.000000</td>\n",
       "      <td>0.000000</td>\n",
       "      <td>25</td>\n",
       "      <td>0</td>\n",
       "      <td>0</td>\n",
       "      <td>0</td>\n",
       "      <td>0</td>\n",
       "      <td>0</td>\n",
       "      <td>-1.0</td>\n",
       "      <td>-1.0</td>\n",
       "    </tr>\n",
       "    <tr>\n",
       "      <th>58135</th>\n",
       "      <td>chr1</td>\n",
       "      <td>52940313</td>\n",
       "      <td>52940413</td>\n",
       "      <td>100616145</td>\n",
       "      <td>100</td>\n",
       "      <td>+</td>\n",
       "      <td>0.000000</td>\n",
       "      <td>0.000000</td>\n",
       "      <td>24</td>\n",
       "      <td>0</td>\n",
       "      <td>0</td>\n",
       "      <td>0</td>\n",
       "      <td>0</td>\n",
       "      <td>0</td>\n",
       "      <td>-1.0</td>\n",
       "      <td>-1.0</td>\n",
       "    </tr>\n",
       "  </tbody>\n",
       "</table>\n",
       "<p>58136 rows × 16 columns</p>\n",
       "</div>"
      ],
      "text/plain": [
       "      Chromosome      Start        End       Name  Length Strand  \\\n",
       "0          chr22   29442122   29442455       5988     333      +   \n",
       "1          chr19   13961529   13962694       5989    1165      -   \n",
       "2          chr12  109448654  109451813      83892    3159      -   \n",
       "3          chr12  109456117  109456313      83892     196      -   \n",
       "4          chr12  109457629  109457682      83892      53      -   \n",
       "...          ...        ...        ...        ...     ...    ...   \n",
       "58131       chr1   46691873   46692098  100130197     225      +   \n",
       "58132       chr2  101151659  101152759  100506286    1100      +   \n",
       "58133       chr2  101154034  101155412  100506286    1378      +   \n",
       "58134       chrX  106639813  106639896  100616144      83      +   \n",
       "58135       chr1   52940313   52940413  100616145     100      +   \n",
       "\n",
       "       ConversionRate   ReadsCPM  Tcontent  CoverageOnTs  ConversionsOnTs  \\\n",
       "0            0.000000   0.000000       112             0                0   \n",
       "1            0.007117   0.459344       242          1686               12   \n",
       "2            0.002288  11.636715       921         60322              138   \n",
       "3            0.000000   0.196862        57          1030                0   \n",
       "4            0.000000   0.021874        10            30                0   \n",
       "...               ...        ...       ...           ...              ...   \n",
       "58131        0.000000   0.153115        61           394                0   \n",
       "58132        0.000000   0.036456       191            62                0   \n",
       "58133        0.002967   0.182279       337           674                2   \n",
       "58134        0.000000   0.000000        25             0                0   \n",
       "58135        0.000000   0.000000        24             0                0   \n",
       "\n",
       "       ReadCount  TcReadCount  multimapCount  ConversionRateLower  \\\n",
       "0              0            0              0                 -1.0   \n",
       "1             63            6              0                 -1.0   \n",
       "2           1596           41              5                 -1.0   \n",
       "3             27            0              0                 -1.0   \n",
       "4              3            0              0                 -1.0   \n",
       "...          ...          ...            ...                  ...   \n",
       "58131         21            0              0                 -1.0   \n",
       "58132          5            0              0                 -1.0   \n",
       "58133         25            1              0                 -1.0   \n",
       "58134          0            0              0                 -1.0   \n",
       "58135          0            0              0                 -1.0   \n",
       "\n",
       "       ConversionRateUpper  \n",
       "0                     -1.0  \n",
       "1                     -1.0  \n",
       "2                     -1.0  \n",
       "3                     -1.0  \n",
       "4                     -1.0  \n",
       "...                    ...  \n",
       "58131                 -1.0  \n",
       "58132                 -1.0  \n",
       "58133                 -1.0  \n",
       "58134                 -1.0  \n",
       "58135                 -1.0  \n",
       "\n",
       "[58136 rows x 16 columns]"
      ]
     },
     "execution_count": 63,
     "metadata": {},
     "output_type": "execute_result"
    }
   ],
   "source": [
    "df_counts3[0]"
   ]
  },
  {
   "cell_type": "code",
   "execution_count": null,
   "id": "cc1258f3",
   "metadata": {},
   "outputs": [],
   "source": []
  }
 ],
 "metadata": {
  "kernelspec": {
   "display_name": "Python 3 (ipykernel)",
   "language": "python",
   "name": "python3"
  },
  "language_info": {
   "codemirror_mode": {
    "name": "ipython",
    "version": 3
   },
   "file_extension": ".py",
   "mimetype": "text/x-python",
   "name": "python",
   "nbconvert_exporter": "python",
   "pygments_lexer": "ipython3",
   "version": "3.8.11"
  },
  "toc": {
   "base_numbering": 1,
   "nav_menu": {},
   "number_sections": false,
   "sideBar": true,
   "skip_h1_title": false,
   "title_cell": "Table of Contents",
   "title_sidebar": "Contents",
   "toc_cell": false,
   "toc_position": {
    "height": "calc(100% - 180px)",
    "left": "10px",
    "top": "150px",
    "width": "254.391px"
   },
   "toc_section_display": true,
   "toc_window_display": true
  }
 },
 "nbformat": 4,
 "nbformat_minor": 5
}
